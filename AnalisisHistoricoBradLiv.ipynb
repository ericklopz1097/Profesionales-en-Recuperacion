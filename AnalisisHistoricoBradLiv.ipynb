{
 "metadata": {
  "language_info": {
   "codemirror_mode": {
    "name": "ipython",
    "version": 3
   },
   "file_extension": ".py",
   "mimetype": "text/x-python",
   "name": "python",
   "nbconvert_exporter": "python",
   "pygments_lexer": "ipython3",
   "version": "3.8.5-final"
  },
  "orig_nbformat": 2,
  "kernelspec": {
   "name": "python3",
   "display_name": "Python 3",
   "language": "python"
  }
 },
 "nbformat": 4,
 "nbformat_minor": 2,
 "cells": [
  {
   "source": [
    "# Analisis Diciembre"
   ],
   "cell_type": "markdown",
   "metadata": {}
  },
  {
   "cell_type": "code",
   "execution_count": null,
   "metadata": {},
   "outputs": [],
   "source": [
    "import pandas as pd \n",
    "import numpy as np \n",
    "import os\n",
    "from datetime import datetime, date\n",
    "import datetime as dt\n",
    "import xlrd\n",
    "from xlrd.xldate import xldate_as_tuple\n",
    "import matplotlib.pyplot as plt\n",
    "%matplotlib inline"
   ]
  },
  {
   "cell_type": "code",
   "execution_count": 1,
   "metadata": {},
   "outputs": [],
   "source": [
    "ruta = '/home/estadistico/Documents/Erick/'\n",
    "ruta_brad = '/home/estadistico/Documents/Erick/Bradesco/'\n",
    "ruta_liver = '/home/estadistico/Documents/Erick/Liverpool/Pagos/'\n",
    "mes = 1\n",
    "mes2 = 'Enero'"
   ]
  },
  {
   "cell_type": "code",
   "execution_count": 3,
   "metadata": {},
   "outputs": [
    {
     "output_type": "execute_result",
     "data": {
      "text/plain": [
       "       PRODUCTO           TARJETA      FECHA  BUCKET  PORCENTAJE  COMISION  \\\n",
       "0  AURRERA VISA  4812830001473000 2020-12-20       4        0.08     160.0   \n",
       "\n",
       "     PAGO  \n",
       "0  2000.0  "
      ],
      "text/html": "<div>\n<style scoped>\n    .dataframe tbody tr th:only-of-type {\n        vertical-align: middle;\n    }\n\n    .dataframe tbody tr th {\n        vertical-align: top;\n    }\n\n    .dataframe thead th {\n        text-align: right;\n    }\n</style>\n<table border=\"1\" class=\"dataframe\">\n  <thead>\n    <tr style=\"text-align: right;\">\n      <th></th>\n      <th>PRODUCTO</th>\n      <th>TARJETA</th>\n      <th>FECHA</th>\n      <th>BUCKET</th>\n      <th>PORCENTAJE</th>\n      <th>COMISION</th>\n      <th>PAGO</th>\n    </tr>\n  </thead>\n  <tbody>\n    <tr>\n      <th>0</th>\n      <td>AURRERA VISA</td>\n      <td>4812830001473000</td>\n      <td>2020-12-20</td>\n      <td>4</td>\n      <td>0.08</td>\n      <td>160.0</td>\n      <td>2000.0</td>\n    </tr>\n  </tbody>\n</table>\n</div>"
     },
     "metadata": {},
     "execution_count": 3
    }
   ],
   "source": [
    "pc0 = os.listdir(''+ruta_brad+'Facturacion_c0/')\n",
    "pagos_c0 = pd.DataFrame()\n",
    "for i in pc0:\n",
    "    #pagos_c0_new = pd.read_excel(''+ruta_brad+'Facturacion_c0/'+i+'',converters={'TARJETA':str})\n",
    "    pagos_c0_new = pd.read_excel(''+ruta_brad+'Facturacion_c0/'+i+'')\n",
    "    pagos_c0 = pd.concat([pagos_c0,pagos_c0_new],ignore_index=True)\n",
    "    pagos_c0 = pagos_c0.drop_duplicates()\n",
    "pagos_c0 = pd.pivot_table(pagos_c0,index=['PRODUCTO','TARJETA','FECHA','PV','%'],values=['PAGO','COMISION.FINAL'],aggfunc=np.sum)\n",
    "pagos_c0 = pd.DataFrame(pagos_c0.to_records())\n",
    "pagos_c0.columns = ['PRODUCTO','TARJETA','FECHA','BUCKET','PORCENTAJE','COMISION','PAGO']\n",
    "pagos_c0.head(1)"
   ]
  },
  {
   "cell_type": "code",
   "execution_count": null,
   "metadata": {},
   "outputs": [],
   "source": [
    "pextra = os.listdir(''+ruta_brad+'Facturacion_extra/')\n",
    "pagos_extra = pd.DataFrame()\n",
    "for i in pextra:\n",
    "    #pagos_extra_new = pd.read_excel(''+ruta_brad+'Facturacion_extra/'+i+'',converters={'TARJETA':str})\n",
    "    pagos_extra_new = pd.read_excel(''+ruta_brad+'Facturacion_extra/'+i+'')\n",
    "    pagos_extra = pd.concat([pagos_extra,pagos_extra_new],ignore_index=True)\n",
    "    pagos_extra = pagos_extra.drop_duplicates()\n",
    "pagos_extra = pd.pivot_table(pagos_extra,index=['PRODUCTO','TARJETA','FECHA','BUCKET','PORCENTAJE'],values=['PAGO','COMISION'],aggfunc=np.sum)\n",
    "pagos_extra = pd.DataFrame(pagos_extra.to_records())\n",
    "pagos_extra.head(3)"
   ]
  },
  {
   "cell_type": "code",
   "execution_count": null,
   "metadata": {},
   "outputs": [],
   "source": [
    "ac0 = os.listdir(''+ruta_brad+'Asignacion_c0/CSV/')\n",
    "asignacion_c0 = pd.DataFrame()\n",
    "for i in ac0:\n",
    "    #asig_c0 = pd.read_csv(''+ruta_brad+'Asignacion_c0/CSV/'+i+'',converters={'NUMERO_TARJETA':str,'NUMERO_CUENTA':str},encoding= 'unicode_escape')\n",
    "    asig_c0 = pd.read_csv(''+ruta_brad+'Asignacion_c0/CSV/'+i+'',encoding= 'unicode_escape')\n",
    "    asig_c0 = asig_c0[['CODIGO_ORG','NUMERO_CUENTA','NUMERO_TARJETA','ESTADO','CP','RFC','SALDO_TOTAL','PAGO_DESCUENTO','PAGOSVENCIDOS','CORTE','MES ASIGNACION']]\n",
    "    asignacion_c0 = pd.concat([asignacion_c0,asig_c0],ignore_index=True)\n",
    "    print(i)\n",
    "asignacion_c0 = asignacion_c0.drop_duplicates()"
   ]
  },
  {
   "cell_type": "code",
   "execution_count": null,
   "metadata": {},
   "outputs": [],
   "source": [
    "aextra = os.listdir(''+ruta_brad+'Asignacion_extra/CSV/')\n",
    "aemes = ['01/09/2020','01/10/2020','01/12/2020','01/01/2021','01/09/2020','01/04/2020','01/11/2020','01/07/2020','01/03/2020','01/08/2020','01/06/2020','01/05/2020','01/02/2020','01/01/2020']\n",
    "asignacion_extra = pd.DataFrame()\n",
    "for i,j in zip(aextra,aemes):\n",
    "    #asig_extra = pd.read_csv(''+ruta_brad+'Asignacion_extra/CSV/'+i+'',converters={'NUMERO DE TARJETA':str,'NUMERO DE CUENTA':str},encoding= 'unicode_escape')\n",
    "    asig_extra = pd.read_csv(''+ruta_brad+'Asignacion_extra/CSV/'+i+'',encoding= 'unicode_escape')\n",
    "    asig_extra = asig_extra[['PRODUCTO','NUMERO DE CUENTA','NUMERO DE TARJETA','ESTADO','CP','RFC','SALDO TOTAL','PAGO_DESCUENTO','TIPO_ASIGNACION','CORTE']]\n",
    "    asig_extra['MES ASIGNACION'] = j\n",
    "    asignacion_extra = pd.concat([asignacion_extra,asig_extra],ignore_index=True)\n",
    "    print(i)\n",
    "asignacion_extra = asignacion_extra.drop_duplicates()    \n",
    "asignacion_extra.columns = ['CODIGO_ORG','NUMERO_CUENTA','NUMERO_TARJETA','ESTADO','CP','RFC','SALDO_TOTAL','PAGO_DESCUENTO','PAGOSVENCIDOS','CORTE','MES ASIGNACION']"
   ]
  },
  {
   "cell_type": "code",
   "execution_count": 1,
   "metadata": {},
   "outputs": [],
   "source": [
    "# pagos_liver = pd.read_excel(''+ruta_liver+'Union pagos.xlsx')"
   ]
  },
  {
   "cell_type": "code",
   "execution_count": 2,
   "metadata": {},
   "outputs": [
    {
     "output_type": "error",
     "ename": "NameError",
     "evalue": "name 'pd' is not defined",
     "traceback": [
      "\u001b[0;31m---------------------------------------------------------------------------\u001b[0m",
      "\u001b[0;31mNameError\u001b[0m                                 Traceback (most recent call last)",
      "\u001b[0;32m<ipython-input-2-1a6f699d6c1d>\u001b[0m in \u001b[0;36m<module>\u001b[0;34m\u001b[0m\n\u001b[0;32m----> 1\u001b[0;31m \u001b[0mcodigo_correcto\u001b[0m \u001b[0;34m=\u001b[0m \u001b[0mpd\u001b[0m\u001b[0;34m.\u001b[0m\u001b[0mread_excel\u001b[0m\u001b[0;34m(\u001b[0m\u001b[0;34m''\u001b[0m\u001b[0;34m+\u001b[0m\u001b[0mruta_brad\u001b[0m\u001b[0;34m+\u001b[0m\u001b[0;34m'CODIGOS_PRO.xlsx'\u001b[0m\u001b[0;34m)\u001b[0m\u001b[0;34m\u001b[0m\u001b[0;34m\u001b[0m\u001b[0m\n\u001b[0m",
      "\u001b[0;31mNameError\u001b[0m: name 'pd' is not defined"
     ]
    }
   ],
   "source": [
    "codigo_correcto = pd.read_excel(''+ruta_brad+'CODIGOS_PRO.xlsx')"
   ]
  },
  {
   "cell_type": "code",
   "execution_count": null,
   "metadata": {},
   "outputs": [],
   "source": [
    "asignacion_brad = pd.concat([asignacion_c0,asignacion_extra],ignore_index=True)\n",
    "pagos_brad = pd.concat([pagos_c0,pagos_extra],ignore_index=True)"
   ]
  },
  {
   "source": [
    "# PAGOS C0"
   ],
   "cell_type": "markdown",
   "metadata": {}
  },
  {
   "cell_type": "code",
   "execution_count": null,
   "metadata": {},
   "outputs": [],
   "source": [
    "pagos_c0 = pagos_c0.drop_duplicates(subset=['PRODUCTO','TARJETA','PAGO','FECHA','BUCKET'])\n",
    "pagos_c0['MONTH'] = pagos_c0['FECHA'].dt.month\n",
    "pagos_c0['YEAR'] = pagos_c0['FECHA'].dt.year\n",
    "pagos_c0['DAY'] = pagos_c0['FECHA'].dt.day\n",
    "pagos_c0.head(3)"
   ]
  },
  {
   "cell_type": "code",
   "execution_count": null,
   "metadata": {},
   "outputs": [],
   "source": [
    "pagos_mes_c0 = pagos_c0.loc[pagos_c0['MONTH']==mes]\n",
    "pivot_mes_c0 = pd.pivot_table(pagos_mes_c0,index=['YEAR'],columns=['BUCKET'],values=['PAGO'],aggfunc='sum')\n",
    "pivot_mes_c0 = pd.DataFrame(pivot_mes_c0.to_records())\n",
    "pivot_mes_c0.columns = ['YEAR','PAGOV 4','PAGOV 5','PAGOV 6']\n",
    "pivot_mes_c0['PAGOV 4'] = ['${:,.2f}'.format(x) for x in pivot_mes_c0['PAGOV 4']]\n",
    "pivot_mes_c0['PAGOV 5'] = ['${:,.2f}'.format(x) for x in pivot_mes_c0['PAGOV 5']]\n",
    "pivot_mes_c0['PAGOV 6'] = ['${:,.2f}'.format(x) for x in pivot_mes_c0['PAGOV 6']]\n",
    "pivot_mes_c0"
   ]
  },
  {
   "cell_type": "code",
   "execution_count": null,
   "metadata": {},
   "outputs": [],
   "source": [
    "#Primero para pago vencido 4\n",
    "pagos_4pv = pagos_c0.loc[pagos_c0['BUCKET']==4]\n",
    "pivot_4pv = pd.pivot_table(pagos_4pv,index=['BUCKET','MONTH','DAY'],columns=['YEAR'],values=['PAGO'],aggfunc=['sum'])\n",
    "pivot_4pv = pd.DataFrame(pivot_4pv.to_records())\n",
    "pivot_4pv.columns = ['PV','MES','DIA','PAGO 2017','PAGO 2018','PAGO 2019','PAGO 2020']\n",
    "pivot_4pv.fillna(0,inplace=True)\n",
    "pivot_4pv['PAGO 2017'] = ['${:,.2f}'.format(x) for x in pivot_4pv['PAGO 2017']]\n",
    "pivot_4pv['PAGO 2018'] = ['${:,.2f}'.format(x) for x in pivot_4pv['PAGO 2018']]\n",
    "pivot_4pv['PAGO 2019'] = ['${:,.2f}'.format(x) for x in pivot_4pv['PAGO 2019']]\n",
    "pivot_4pv['PAGO 2020'] = ['${:,.2f}'.format(x) for x in pivot_4pv['PAGO 2020']]"
   ]
  },
  {
   "cell_type": "code",
   "execution_count": null,
   "metadata": {},
   "outputs": [],
   "source": [
    "#Para 5 pagos vencidos\n",
    "pagos_5pv = pagos_c0.loc[pagos_c0['BUCKET']==5]\n",
    "pivot_5pv = pd.pivot_table(pagos_5pv,index=['BUCKET','MONTH','DAY'],columns=['YEAR'],values=['PAGO'],aggfunc=[np.sum])\n",
    "pivot_5pv = pd.DataFrame(pivot_5pv.to_records())\n",
    "pivot_5pv.columns = ['PV','MES','DIA','PAGO 2017','PAGO 2018','PAGO 2019','PAGO 2020']\n",
    "pivot_5pv.fillna(0,inplace=True)\n",
    "pivot_5pv['PAGO 2017'] = ['${:,.2f}'.format(x) for x in pivot_5pv['PAGO 2017']]\n",
    "pivot_5pv['PAGO 2018'] = ['${:,.2f}'.format(x) for x in pivot_5pv['PAGO 2018']]\n",
    "pivot_5pv['PAGO 2019'] = ['${:,.2f}'.format(x) for x in pivot_5pv['PAGO 2019']]\n",
    "pivot_5pv['PAGO 2020'] = ['${:,.2f}'.format(x) for x in pivot_5pv['PAGO 2020']]\n"
   ]
  },
  {
   "cell_type": "code",
   "execution_count": null,
   "metadata": {},
   "outputs": [],
   "source": [
    "#Para 6 pagos vencidos\n",
    "pagos_6pv = pagos_c0.loc[pagos_c0['BUCKET']==6]\n",
    "pivot_6pv = pd.pivot_table(pagos_6pv,index=['BUCKET','MONTH','DAY'],columns=['YEAR'],values=['PAGO'],aggfunc=['sum'])\n",
    "pivot_6pv = pd.DataFrame(pivot_6pv.to_records())\n",
    "pivot_6pv.columns = ['PV','MES','DIA','PAGO 2017','PAGO 2018','PAGO 2019','PAGO 2020']\n",
    "pivot_6pv.fillna(0,inplace=True)\n",
    "pivot_6pv['PAGO 2017'] = ['${:,.2f}'.format(x) for x in pivot_6pv['PAGO 2017']]\n",
    "pivot_6pv['PAGO 2018'] = ['${:,.2f}'.format(x) for x in pivot_6pv['PAGO 2018']]\n",
    "pivot_6pv['PAGO 2019'] = ['${:,.2f}'.format(x) for x in pivot_6pv['PAGO 2019']]\n",
    "pivot_6pv['PAGO 2020'] = ['${:,.2f}'.format(x) for x in pivot_6pv['PAGO 2020']]"
   ]
  },
  {
   "source": [
    "# PAGOS EXTRAJUDICIAL"
   ],
   "cell_type": "markdown",
   "metadata": {}
  },
  {
   "cell_type": "code",
   "execution_count": null,
   "metadata": {},
   "outputs": [],
   "source": [
    "pagos_extra = pagos_extra.drop_duplicates(subset=['PRODUCTO','TARJETA','PAGO','FECHA','BUCKET'])\n",
    "pagos_extra['BUCKET'] = pagos_extra['BUCKET'].str.upper()\n",
    "pagos_extra['MONTH'] = pagos_extra['FECHA'].dt.month\n",
    "pagos_extra['YEAR'] = pagos_extra['FECHA'].dt.year\n",
    "pagos_extra['DAY'] = pagos_extra['FECHA'].dt.day\n",
    "pagos_extra.fillna(0,inplace=True)\n",
    "pagos_extra[['YEAR','MONTH','DAY']] = pagos_extra[['YEAR','MONTH','DAY']].astype('int')\n",
    "pagos_extra.head(3)"
   ]
  },
  {
   "cell_type": "code",
   "execution_count": null,
   "metadata": {},
   "outputs": [],
   "source": [
    "#Obtenemos los datos diciembre\n",
    "pagos_dic_extra = pagos_extra.loc[pagos_extra['MONTH']==mes]\n",
    "pivot_dic_extra = pd.pivot_table(pagos_dic_extra,index=['YEAR'],columns=['BUCKET'],values=['PAGO'],aggfunc='sum')\n",
    "pivot_dic_extra = pd.DataFrame(pivot_dic_extra.to_records())\n",
    "pivot_dic_extra.columns = ['YEAR','PAGO A','PAGO B','PAGO C1','PAGO C2','PAGO C3','PAGO C4']\n",
    "pivot_dic_extra['PAGO A'] = ['${:,.2f}'.format(x) for x in pivot_dic_extra['PAGO A']]\n",
    "pivot_dic_extra['PAGO B'] = ['${:,.2f}'.format(x) for x in pivot_dic_extra['PAGO B']]\n",
    "pivot_dic_extra['PAGO C1'] = ['${:,.2f}'.format(x) for x in pivot_dic_extra['PAGO C1']]\n",
    "pivot_dic_extra['PAGO C2'] = ['${:,.2f}'.format(x) for x in pivot_dic_extra['PAGO C2']]\n",
    "pivot_dic_extra['PAGO C3'] = ['${:,.2f}'.format(x) for x in pivot_dic_extra['PAGO C3']]\n",
    "pivot_dic_extra['PAGO C4'] = ['${:,.2f}'.format(x) for x in pivot_dic_extra['PAGO C4']]\n",
    "pivot_dic_extra"
   ]
  },
  {
   "cell_type": "code",
   "execution_count": null,
   "metadata": {},
   "outputs": [],
   "source": [
    "pivot_mes = pd.merge(pivot_mes_c0,pivot_dic_extra,on='YEAR',how='left')\n",
    "pivot_mes"
   ]
  },
  {
   "cell_type": "code",
   "execution_count": null,
   "metadata": {},
   "outputs": [],
   "source": [
    "#Para bucket A\n",
    "pagos_bucket_a = pagos_extra.loc[pagos_extra['BUCKET']=='A']\n",
    "pivot_bucket_a = pd.pivot_table(pagos_bucket_a,index=['BUCKET','MONTH','DAY'],columns=['YEAR'],values=['PAGO'],aggfunc=['sum'])\n",
    "pivot_bucket_a = pd.DataFrame(pivot_bucket_a.to_records())\n",
    "pivot_bucket_a.columns = ['BUCKET','MES','DAY','PAGO 2017','PAGO 2018','PAGO 2019','PAGO 2020']\n",
    "pivot_bucket_a.fillna(0,inplace=True)\n",
    "pivot_bucket_a['PAGO 2017'] = ['${:,.2f}'.format(x) for x in pivot_bucket_a['PAGO 2017']]\n",
    "pivot_bucket_a['PAGO 2018'] = ['${:,.2f}'.format(x) for x in pivot_bucket_a['PAGO 2018']]\n",
    "pivot_bucket_a['PAGO 2019'] = ['${:,.2f}'.format(x) for x in pivot_bucket_a['PAGO 2019']]\n",
    "pivot_bucket_a['PAGO 2020'] = ['${:,.2f}'.format(x) for x in pivot_bucket_a['PAGO 2020']]"
   ]
  },
  {
   "cell_type": "code",
   "execution_count": null,
   "metadata": {},
   "outputs": [],
   "source": [
    "#Para bucket B\n",
    "pagos_bucket_b = pagos_extra.loc[pagos_extra['BUCKET']=='B']\n",
    "pivot_bucket_b = pd.pivot_table(pagos_bucket_b,index=['BUCKET','MONTH','DAY'],columns=['YEAR'],values=['PAGO'],aggfunc=['sum'])\n",
    "pivot_bucket_b = pd.DataFrame(pivot_bucket_b.to_records())\n",
    "# pivot_bucket_b = pivot_bucket_b.iloc[:,[0,1,2,4,5,6,7]]\n",
    "pivot_bucket_b.columns = ['BUCKET','MES','DAY','PAGO 2017','PAGO 2018','PAGO 2019','PAGO 2020']\n",
    "pivot_bucket_b.fillna(0,inplace=True)\n",
    "pivot_bucket_b['PAGO 2017'] = ['${:,.2f}'.format(x) for x in pivot_bucket_b['PAGO 2017']]\n",
    "pivot_bucket_b['PAGO 2018'] = ['${:,.2f}'.format(x) for x in pivot_bucket_b['PAGO 2018']]\n",
    "pivot_bucket_b['PAGO 2019'] = ['${:,.2f}'.format(x) for x in pivot_bucket_b['PAGO 2019']]\n",
    "pivot_bucket_b['PAGO 2020'] = ['${:,.2f}'.format(x) for x in pivot_bucket_b['PAGO 2020']]"
   ]
  },
  {
   "cell_type": "code",
   "execution_count": null,
   "metadata": {},
   "outputs": [],
   "source": [
    "#Para bucket c1\n",
    "pagos_bucket_c1 = pagos_extra.loc[pagos_extra['BUCKET']=='C1']\n",
    "pivot_bucket_c1 = pd.pivot_table(pagos_bucket_c1,index=['BUCKET','MONTH','DAY'],columns=['YEAR'],values=['PAGO'],aggfunc=['sum'])\n",
    "pivot_bucket_c1 = pd.DataFrame(pivot_bucket_c1.to_records())\n",
    "pivot_bucket_c1.columns = ['BUCKET','MES','DAY','PAGO 2017','PAGO 2018','PAGO 2019','PAGO 2020']\n",
    "pivot_bucket_c1.fillna(0,inplace=True)\n",
    "pivot_bucket_c1['PAGO 2017'] = ['${:,.2f}'.format(x) for x in pivot_bucket_c1['PAGO 2017']]\n",
    "pivot_bucket_c1['PAGO 2018'] = ['${:,.2f}'.format(x) for x in pivot_bucket_c1['PAGO 2018']]\n",
    "pivot_bucket_c1['PAGO 2019'] = ['${:,.2f}'.format(x) for x in pivot_bucket_c1['PAGO 2019']]\n",
    "pivot_bucket_c1['PAGO 2020'] = ['${:,.2f}'.format(x) for x in pivot_bucket_c1['PAGO 2020']]"
   ]
  },
  {
   "cell_type": "code",
   "execution_count": null,
   "metadata": {},
   "outputs": [],
   "source": [
    "#Para bucket c2\n",
    "pagos_bucket_c2 = pagos_extra.loc[pagos_extra['BUCKET']=='C2']\n",
    "pivot_bucket_c2 = pd.pivot_table(pagos_bucket_c2,index=['BUCKET','MONTH','DAY'],columns=['YEAR'],values=['PAGO'],aggfunc=['sum'])\n",
    "pivot_bucket_c2 = pd.DataFrame(pivot_bucket_c2.to_records())\n",
    "pivot_bucket_c2.columns = ['BUCKET','MES','DAY','PAGO 2017','PAGO 2018','PAGO 2019','PAGO 2020']\n",
    "pivot_bucket_c2.fillna(0,inplace=True)\n",
    "pivot_bucket_c2['PAGO 2017'] = ['${:,.2f}'.format(x) for x in pivot_bucket_c2['PAGO 2017']]\n",
    "pivot_bucket_c2['PAGO 2018'] = ['${:,.2f}'.format(x) for x in pivot_bucket_c2['PAGO 2018']]\n",
    "pivot_bucket_c2['PAGO 2019'] = ['${:,.2f}'.format(x) for x in pivot_bucket_c2['PAGO 2019']]\n",
    "pivot_bucket_c2['PAGO 2020'] = ['${:,.2f}'.format(x) for x in pivot_bucket_c2['PAGO 2020']]"
   ]
  },
  {
   "cell_type": "code",
   "execution_count": null,
   "metadata": {},
   "outputs": [],
   "source": [
    "#Para bucket c3\n",
    "pagos_bucket_c3 = pagos_extra.loc[pagos_extra['BUCKET']=='C3']\n",
    "pivot_bucket_c3 = pd.pivot_table(pagos_bucket_c3,index=['BUCKET','MONTH','DAY'],columns=['YEAR'],values=['PAGO'],aggfunc=['sum'])\n",
    "pivot_bucket_c3 = pd.DataFrame(pivot_bucket_c3.to_records())\n",
    "pivot_bucket_c3.columns = ['BUCKET','MES','DAY','PAGO 2017','PAGO 2018','PAGO 2019','PAGO 2020']\n",
    "pivot_bucket_c3.fillna(0,inplace=True)\n",
    "pivot_bucket_c3['PAGO 2017'] = ['${:,.2f}'.format(x) for x in pivot_bucket_c3['PAGO 2017']]\n",
    "pivot_bucket_c3['PAGO 2018'] = ['${:,.2f}'.format(x) for x in pivot_bucket_c3['PAGO 2018']]\n",
    "pivot_bucket_c3['PAGO 2019'] = ['${:,.2f}'.format(x) for x in pivot_bucket_c3['PAGO 2019']]\n",
    "pivot_bucket_c3['PAGO 2020'] = ['${:,.2f}'.format(x) for x in pivot_bucket_c3['PAGO 2020']]"
   ]
  },
  {
   "cell_type": "code",
   "execution_count": null,
   "metadata": {},
   "outputs": [],
   "source": [
    "#Para bucket c4\n",
    "pagos_bucket_c4 = pagos_extra.loc[pagos_extra['BUCKET']=='C4']\n",
    "pivot_bucket_c4 = pd.pivot_table(pagos_bucket_c4,index=['BUCKET','MONTH','DAY'],columns=['YEAR'],values=['PAGO'],aggfunc=['sum'])\n",
    "pivot_bucket_c4 = pd.DataFrame(pivot_bucket_c4.to_records())\n",
    "pivot_bucket_c4.columns = ['BUCKET','MES','DAY','PAGO 2017','PAGO 2018','PAGO 2019','PAGO 2020']\n",
    "pivot_bucket_c4.fillna(0,inplace=True)\n",
    "pivot_bucket_c4['PAGO 2017'] = ['${:,.2f}'.format(x) for x in pivot_bucket_c4['PAGO 2017']]\n",
    "pivot_bucket_c4['PAGO 2018'] = ['${:,.2f}'.format(x) for x in pivot_bucket_c4['PAGO 2018']]\n",
    "pivot_bucket_c4['PAGO 2019'] = ['${:,.2f}'.format(x) for x in pivot_bucket_c4['PAGO 2019']]\n",
    "pivot_bucket_c4['PAGO 2020'] = ['${:,.2f}'.format(x) for x in pivot_bucket_c4['PAGO 2020']]"
   ]
  },
  {
   "source": [
    "# Analisis pagos Bradesco"
   ],
   "cell_type": "markdown",
   "metadata": {}
  },
  {
   "cell_type": "code",
   "execution_count": null,
   "metadata": {},
   "outputs": [],
   "source": [
    "#Agregamos mes y año \n",
    "pagos_brad['MES'] = pagos_brad['FECHA'].dt.month\n",
    "pagos_brad['AÑO'] = pagos_brad['FECHA'].dt.year\n",
    "pagos_brad['DIA'] = pagos_brad['FECHA'].dt.day\n",
    "pagos_brad = pagos_brad.sort_values('FECHA',ascending=False)\n",
    "pagos_brad['BUCKET'] = pagos_brad['BUCKET'].str.upper()\n",
    "\n",
    "pagos_brad.head(1)"
   ]
  },
  {
   "cell_type": "code",
   "execution_count": null,
   "metadata": {},
   "outputs": [],
   "source": [
    "asignacion_brad['MES ASIGNACION'] = pd.to_datetime(asignacion_brad['MES ASIGNACION'],dayfirst=False)\n",
    "asignacion_brad = asignacion_brad.sort_values('MES ASIGNACION',ascending=False)"
   ]
  },
  {
   "cell_type": "code",
   "execution_count": null,
   "metadata": {},
   "outputs": [],
   "source": [
    "def calculate_age(born):\n",
    "    today = date.today()\n",
    "    return today.year - born.year - ((today.month, today.day) < (born.month, born.day))"
   ]
  },
  {
   "cell_type": "code",
   "execution_count": null,
   "metadata": {},
   "outputs": [],
   "source": [
    "#Arreglamos los casos en los que num_cliente es num_tarjeta\n",
    "asignacion_brad_unique = pd.merge(asignacion_brad,pagos_brad[['TARJETA']],how='left',left_on=['NUMERO_CUENTA'],right_on=['TARJETA'])\n",
    "asignacion_brad_unique['TARJETA'] = np.where(asignacion_brad_unique['TARJETA'].isna(),asignacion_brad_unique['NUMERO_TARJETA'],asignacion_brad_unique['TARJETA'])\n",
    "asignacion_brad_unique = asignacion_brad_unique.drop_duplicates(subset='TARJETA')"
   ]
  },
  {
   "cell_type": "code",
   "execution_count": null,
   "metadata": {},
   "outputs": [],
   "source": [
    "#Hacemos el consolidado de pagos y asignaciones\n",
    "consolidado_pagos_brad = pd.merge(pagos_brad,asignacion_brad_unique,how='left',on='TARJETA')\n",
    "consolidado_pagos_brad = pd.merge(consolidado_pagos_brad,codigo_correcto,how='left',on='CODIGO_ORG')\n",
    "consolidado_pagos_brad['ESTADO'] = consolidado_pagos_brad['ESTADO'].str.replace(u\"É\",'E')\n",
    "consolidado_pagos_brad['ESTADO'] = consolidado_pagos_brad['ESTADO'].str.replace(u\"Ã\",'E')\n",
    "consolidado_pagos_brad.head(1)"
   ]
  },
  {
   "cell_type": "code",
   "execution_count": null,
   "metadata": {},
   "outputs": [],
   "source": [
    "#Obtenemos las fechas de nacimiento\n",
    "consolidado_pagos_brad = consolidado_pagos_brad[consolidado_pagos_brad['RFC'].notna()]\n",
    "consolidado_pagos_brad['NACIMIENTO'] = consolidado_pagos_brad['RFC'].str[4:10]\n",
    "consolidado_pagos_brad['NACIMIENTO'] = np.where(consolidado_pagos_brad['NACIMIENTO'].str[:2].map(int) > 25,'19'+consolidado_pagos_brad['NACIMIENTO'],'20'+consolidado_pagos_brad['NACIMIENTO'])\n",
    "consolidado_pagos_brad['NACIMIENTO'] = [datetime.strptime(y, '%Y%m%d').strftime('%d/%m/%Y') for y in consolidado_pagos_brad['NACIMIENTO']]\n",
    "consolidado_pagos_brad['NACIMIENTO'] = pd.to_datetime(consolidado_pagos_brad['NACIMIENTO'],dayfirst=True)\n",
    "consolidado_pagos_brad['EDAD'] = [calculate_age(x) for x in consolidado_pagos_brad['NACIMIENTO']]\n",
    "asignacion_brad.head(1)"
   ]
  },
  {
   "cell_type": "code",
   "execution_count": null,
   "metadata": {},
   "outputs": [],
   "source": [
    "z = consolidado_pagos_brad.loc[consolidado_pagos_brad['RFC'].isna()]\n",
    "z2 = pd.pivot_table(z,index=['BUCKET'],values=['PRODUCTO'],aggfunc='count')\n",
    "z2"
   ]
  },
  {
   "cell_type": "code",
   "execution_count": null,
   "metadata": {},
   "outputs": [],
   "source": [
    "bins = [18,20,25,30,35,40,45,50,55,60,65,70,75,100]\n",
    "names = [1820,2125,2630,3135,3640,4145,4650,5155,5660,6165,6670,7175,75100]\n",
    "consolidado_pagos_brad['EDAD2'] = pd.cut(consolidado_pagos_brad['EDAD'],bins,labels=names)\n",
    "consolidado_pagos_brad.head(1)"
   ]
  },
  {
   "cell_type": "code",
   "execution_count": null,
   "metadata": {},
   "outputs": [],
   "source": [
    "consolidado_pagos_brad_mes = consolidado_pagos_brad#[consolidado_pagos_brad['MES']==mes]"
   ]
  },
  {
   "cell_type": "code",
   "execution_count": null,
   "metadata": {},
   "outputs": [],
   "source": [
    "#Analizamos por producto\n",
    "producto_brad = pd.pivot_table(consolidado_pagos_brad_mes,index=['BUCKET','ESTADO','CODIGO BIEN','CORTE','EDAD'],columns=['AÑO','MES'],values=['PAGO'],aggfunc=np.sum)\n",
    "producto_brad = pd.DataFrame(producto_brad.to_records())\n",
    "producto_brad.columns = ['PAGOS_VENCIDOS','ESTADO','PRODUCTO','CORTE','EDAD','OCTUBRE2017','NOVIEMBRE2017','DICIEMBRE2017','ENERO2018','FEBRERO2018','MARZO2018','ABRIL2018','MAYO2018','JUNIO2018','JULIO2018','AGOSTO2018','SEPTIEMBRE2018','OCTUBRE2018','NOVIEMBRE2018','DICIEMBRE2018','ENERO2019','FEBRERO2019','MARZO2019','ABRIL2019','MAYO2019','JUNIO2019','JULIO2019','AGOSTO2019','SEPTIEMBRE2019','OCTUBRE2019','NOVIEMBRE2019','DICIEMBRE2019','ENERO2020','FEBRERO2020','MARZO2020','ABRIL2020','MAYO2020','JUNIO2020','JULIO2020','AGOSTO2020','SEPTIEMBRE2020','OCTUBRE2020','NOVIEMBRE2020','DICIEMBRE2020']\n",
    "producto_brad.fillna(0,inplace=True)\n",
    "producto_brad"
   ]
  },
  {
   "cell_type": "code",
   "execution_count": 36,
   "metadata": {},
   "outputs": [],
   "source": [
    "producto_brad.to_csv(''+ruta_brad+'Analisis Bradesco.csv',header=True,index=False)"
   ]
  },
  {
   "cell_type": "code",
   "execution_count": null,
   "metadata": {},
   "outputs": [],
   "source": [
    "z3 = pd.pivot_table(producto_brad,index=['BUCKET'],values=['ENERO2018'],aggfunc=np.sum,margins=True)\n",
    "z3"
   ]
  },
  {
   "cell_type": "code",
   "execution_count": 52,
   "metadata": {},
   "outputs": [],
   "source": [
    "edad_brad = pd.pivot_table(consolidado_pagos_brad,index=['EDAD'],values=['PAGO'],aggfunc=np.sum)\n",
    "edad_brad = pd.DataFrame(edad_brad.to_records())"
   ]
  },
  {
   "cell_type": "code",
   "execution_count": null,
   "metadata": {},
   "outputs": [],
   "source": [
    "#consolidado_pagos_brad['EDAD2'] = consolidado_pagos_brad['EDAD2'].map(str)\n",
    "edad_brad2 = pd.pivot_table(consolidado_pagos_brad,index=['EDAD2'],values=['PAGO'],aggfunc=np.sum)\n",
    "edad_brad2 = pd.DataFrame(edad_brad2.to_records())\n",
    "edad_brad2"
   ]
  },
  {
   "cell_type": "code",
   "execution_count": 48,
   "metadata": {},
   "outputs": [
    {
     "output_type": "execute_result",
     "data": {
      "text/plain": [
       "               PAGO\n",
       "EDAD2              \n",
       "18-20    1711689.10\n",
       "21-25   28158067.59\n",
       "26-30   33938523.29\n",
       "31-35   25230819.43\n",
       "36-40   18087377.88\n",
       "41-45   14986707.21\n",
       "46-50   13806019.56\n",
       "51-55    9705854.62\n",
       "56-60    6525025.97\n",
       "61-65    3446419.88\n",
       "66-70    1838546.17\n",
       "71-75     701091.59\n",
       "75-100     49134.50"
      ],
      "text/html": "<div>\n<style scoped>\n    .dataframe tbody tr th:only-of-type {\n        vertical-align: middle;\n    }\n\n    .dataframe tbody tr th {\n        vertical-align: top;\n    }\n\n    .dataframe thead th {\n        text-align: right;\n    }\n</style>\n<table border=\"1\" class=\"dataframe\">\n  <thead>\n    <tr style=\"text-align: right;\">\n      <th></th>\n      <th>PAGO</th>\n    </tr>\n    <tr>\n      <th>EDAD2</th>\n      <th></th>\n    </tr>\n  </thead>\n  <tbody>\n    <tr>\n      <th>18-20</th>\n      <td>1711689.10</td>\n    </tr>\n    <tr>\n      <th>21-25</th>\n      <td>28158067.59</td>\n    </tr>\n    <tr>\n      <th>26-30</th>\n      <td>33938523.29</td>\n    </tr>\n    <tr>\n      <th>31-35</th>\n      <td>25230819.43</td>\n    </tr>\n    <tr>\n      <th>36-40</th>\n      <td>18087377.88</td>\n    </tr>\n    <tr>\n      <th>41-45</th>\n      <td>14986707.21</td>\n    </tr>\n    <tr>\n      <th>46-50</th>\n      <td>13806019.56</td>\n    </tr>\n    <tr>\n      <th>51-55</th>\n      <td>9705854.62</td>\n    </tr>\n    <tr>\n      <th>56-60</th>\n      <td>6525025.97</td>\n    </tr>\n    <tr>\n      <th>61-65</th>\n      <td>3446419.88</td>\n    </tr>\n    <tr>\n      <th>66-70</th>\n      <td>1838546.17</td>\n    </tr>\n    <tr>\n      <th>71-75</th>\n      <td>701091.59</td>\n    </tr>\n    <tr>\n      <th>75-100</th>\n      <td>49134.50</td>\n    </tr>\n  </tbody>\n</table>\n</div>"
     },
     "metadata": {},
     "execution_count": 48
    }
   ],
   "source": [
    "edad_brad2 = pd.DataFrame(consolidado_pagos_brad.groupby(['EDAD2'])['PAGO'].agg('sum'))\n",
    "edad_brad2"
   ]
  },
  {
   "cell_type": "code",
   "execution_count": 49,
   "metadata": {},
   "outputs": [
    {
     "output_type": "error",
     "ename": "KeyError",
     "evalue": "'EDAD2'",
     "traceback": [
      "\u001b[0;31m---------------------------------------------------------------------------\u001b[0m",
      "\u001b[0;31mKeyError\u001b[0m                                  Traceback (most recent call last)",
      "\u001b[0;32m~/.local/lib/python3.8/site-packages/pandas/core/indexes/base.py\u001b[0m in \u001b[0;36mget_loc\u001b[0;34m(self, key, method, tolerance)\u001b[0m\n\u001b[1;32m   2894\u001b[0m             \u001b[0;32mtry\u001b[0m\u001b[0;34m:\u001b[0m\u001b[0;34m\u001b[0m\u001b[0;34m\u001b[0m\u001b[0m\n\u001b[0;32m-> 2895\u001b[0;31m                 \u001b[0;32mreturn\u001b[0m \u001b[0mself\u001b[0m\u001b[0;34m.\u001b[0m\u001b[0m_engine\u001b[0m\u001b[0;34m.\u001b[0m\u001b[0mget_loc\u001b[0m\u001b[0;34m(\u001b[0m\u001b[0mcasted_key\u001b[0m\u001b[0;34m)\u001b[0m\u001b[0;34m\u001b[0m\u001b[0;34m\u001b[0m\u001b[0m\n\u001b[0m\u001b[1;32m   2896\u001b[0m             \u001b[0;32mexcept\u001b[0m \u001b[0mKeyError\u001b[0m \u001b[0;32mas\u001b[0m \u001b[0merr\u001b[0m\u001b[0;34m:\u001b[0m\u001b[0;34m\u001b[0m\u001b[0;34m\u001b[0m\u001b[0m\n",
      "\u001b[0;32mpandas/_libs/index.pyx\u001b[0m in \u001b[0;36mpandas._libs.index.IndexEngine.get_loc\u001b[0;34m()\u001b[0m\n",
      "\u001b[0;32mpandas/_libs/index.pyx\u001b[0m in \u001b[0;36mpandas._libs.index.IndexEngine.get_loc\u001b[0;34m()\u001b[0m\n",
      "\u001b[0;32mpandas/_libs/hashtable_class_helper.pxi\u001b[0m in \u001b[0;36mpandas._libs.hashtable.PyObjectHashTable.get_item\u001b[0;34m()\u001b[0m\n",
      "\u001b[0;32mpandas/_libs/hashtable_class_helper.pxi\u001b[0m in \u001b[0;36mpandas._libs.hashtable.PyObjectHashTable.get_item\u001b[0;34m()\u001b[0m\n",
      "\u001b[0;31mKeyError\u001b[0m: 'EDAD2'",
      "\nThe above exception was the direct cause of the following exception:\n",
      "\u001b[0;31mKeyError\u001b[0m                                  Traceback (most recent call last)",
      "\u001b[0;32m<ipython-input-49-c1f3d7c9777c>\u001b[0m in \u001b[0;36m<module>\u001b[0;34m\u001b[0m\n\u001b[0;32m----> 1\u001b[0;31m \u001b[0mplt\u001b[0m\u001b[0;34m.\u001b[0m\u001b[0mbar\u001b[0m\u001b[0;34m(\u001b[0m\u001b[0medad_brad2\u001b[0m\u001b[0;34m[\u001b[0m\u001b[0;34m'EDAD2'\u001b[0m\u001b[0;34m]\u001b[0m\u001b[0;34m,\u001b[0m\u001b[0medad_brad2\u001b[0m\u001b[0;34m[\u001b[0m\u001b[0;34m'PAGO'\u001b[0m\u001b[0;34m]\u001b[0m\u001b[0;34m,\u001b[0m\u001b[0mcolor\u001b[0m\u001b[0;34m=\u001b[0m\u001b[0;34m[\u001b[0m\u001b[0;34m'blue'\u001b[0m\u001b[0;34m]\u001b[0m\u001b[0;34m,\u001b[0m\u001b[0mwidth\u001b[0m\u001b[0;34m=\u001b[0m\u001b[0;36m0.4\u001b[0m\u001b[0;34m)\u001b[0m\u001b[0;34m\u001b[0m\u001b[0;34m\u001b[0m\u001b[0m\n\u001b[0m\u001b[1;32m      2\u001b[0m \u001b[0;34m\u001b[0m\u001b[0m\n\u001b[1;32m      3\u001b[0m \u001b[0mplt\u001b[0m\u001b[0;34m.\u001b[0m\u001b[0mxlabel\u001b[0m\u001b[0;34m(\u001b[0m\u001b[0;34m'Edad'\u001b[0m\u001b[0;34m)\u001b[0m\u001b[0;34m\u001b[0m\u001b[0;34m\u001b[0m\u001b[0m\n\u001b[1;32m      4\u001b[0m \u001b[0mplt\u001b[0m\u001b[0;34m.\u001b[0m\u001b[0mylabel\u001b[0m\u001b[0;34m(\u001b[0m\u001b[0;34m'Acumulado pagos'\u001b[0m\u001b[0;34m)\u001b[0m\u001b[0;34m\u001b[0m\u001b[0;34m\u001b[0m\u001b[0m\n\u001b[1;32m      5\u001b[0m \u001b[0mplt\u001b[0m\u001b[0;34m.\u001b[0m\u001b[0mtitle\u001b[0m\u001b[0;34m(\u001b[0m\u001b[0;34m'Pagado por edad'\u001b[0m\u001b[0;34m)\u001b[0m\u001b[0;34m\u001b[0m\u001b[0;34m\u001b[0m\u001b[0m\n",
      "\u001b[0;32m~/.local/lib/python3.8/site-packages/pandas/core/frame.py\u001b[0m in \u001b[0;36m__getitem__\u001b[0;34m(self, key)\u001b[0m\n\u001b[1;32m   2904\u001b[0m             \u001b[0;32mif\u001b[0m \u001b[0mself\u001b[0m\u001b[0;34m.\u001b[0m\u001b[0mcolumns\u001b[0m\u001b[0;34m.\u001b[0m\u001b[0mnlevels\u001b[0m \u001b[0;34m>\u001b[0m \u001b[0;36m1\u001b[0m\u001b[0;34m:\u001b[0m\u001b[0;34m\u001b[0m\u001b[0;34m\u001b[0m\u001b[0m\n\u001b[1;32m   2905\u001b[0m                 \u001b[0;32mreturn\u001b[0m \u001b[0mself\u001b[0m\u001b[0;34m.\u001b[0m\u001b[0m_getitem_multilevel\u001b[0m\u001b[0;34m(\u001b[0m\u001b[0mkey\u001b[0m\u001b[0;34m)\u001b[0m\u001b[0;34m\u001b[0m\u001b[0;34m\u001b[0m\u001b[0m\n\u001b[0;32m-> 2906\u001b[0;31m             \u001b[0mindexer\u001b[0m \u001b[0;34m=\u001b[0m \u001b[0mself\u001b[0m\u001b[0;34m.\u001b[0m\u001b[0mcolumns\u001b[0m\u001b[0;34m.\u001b[0m\u001b[0mget_loc\u001b[0m\u001b[0;34m(\u001b[0m\u001b[0mkey\u001b[0m\u001b[0;34m)\u001b[0m\u001b[0;34m\u001b[0m\u001b[0;34m\u001b[0m\u001b[0m\n\u001b[0m\u001b[1;32m   2907\u001b[0m             \u001b[0;32mif\u001b[0m \u001b[0mis_integer\u001b[0m\u001b[0;34m(\u001b[0m\u001b[0mindexer\u001b[0m\u001b[0;34m)\u001b[0m\u001b[0;34m:\u001b[0m\u001b[0;34m\u001b[0m\u001b[0;34m\u001b[0m\u001b[0m\n\u001b[1;32m   2908\u001b[0m                 \u001b[0mindexer\u001b[0m \u001b[0;34m=\u001b[0m \u001b[0;34m[\u001b[0m\u001b[0mindexer\u001b[0m\u001b[0;34m]\u001b[0m\u001b[0;34m\u001b[0m\u001b[0;34m\u001b[0m\u001b[0m\n",
      "\u001b[0;32m~/.local/lib/python3.8/site-packages/pandas/core/indexes/base.py\u001b[0m in \u001b[0;36mget_loc\u001b[0;34m(self, key, method, tolerance)\u001b[0m\n\u001b[1;32m   2895\u001b[0m                 \u001b[0;32mreturn\u001b[0m \u001b[0mself\u001b[0m\u001b[0;34m.\u001b[0m\u001b[0m_engine\u001b[0m\u001b[0;34m.\u001b[0m\u001b[0mget_loc\u001b[0m\u001b[0;34m(\u001b[0m\u001b[0mcasted_key\u001b[0m\u001b[0;34m)\u001b[0m\u001b[0;34m\u001b[0m\u001b[0;34m\u001b[0m\u001b[0m\n\u001b[1;32m   2896\u001b[0m             \u001b[0;32mexcept\u001b[0m \u001b[0mKeyError\u001b[0m \u001b[0;32mas\u001b[0m \u001b[0merr\u001b[0m\u001b[0;34m:\u001b[0m\u001b[0;34m\u001b[0m\u001b[0;34m\u001b[0m\u001b[0m\n\u001b[0;32m-> 2897\u001b[0;31m                 \u001b[0;32mraise\u001b[0m \u001b[0mKeyError\u001b[0m\u001b[0;34m(\u001b[0m\u001b[0mkey\u001b[0m\u001b[0;34m)\u001b[0m \u001b[0;32mfrom\u001b[0m \u001b[0merr\u001b[0m\u001b[0;34m\u001b[0m\u001b[0;34m\u001b[0m\u001b[0m\n\u001b[0m\u001b[1;32m   2898\u001b[0m \u001b[0;34m\u001b[0m\u001b[0m\n\u001b[1;32m   2899\u001b[0m         \u001b[0;32mif\u001b[0m \u001b[0mtolerance\u001b[0m \u001b[0;32mis\u001b[0m \u001b[0;32mnot\u001b[0m \u001b[0;32mNone\u001b[0m\u001b[0;34m:\u001b[0m\u001b[0;34m\u001b[0m\u001b[0;34m\u001b[0m\u001b[0m\n",
      "\u001b[0;31mKeyError\u001b[0m: 'EDAD2'"
     ]
    }
   ],
   "source": [
    "plt.bar(edad_brad2['EDAD2'],edad_brad2['PAGO'],color=['blue'],width=0.4)\n",
    "\n",
    "plt.xlabel('Edad')\n",
    "plt.ylabel('Acumulado pagos')\n",
    "plt.title('Pagado por edad')\n",
    "plt.show()"
   ]
  },
  {
   "cell_type": "code",
   "execution_count": 102,
   "metadata": {},
   "outputs": [
    {
     "output_type": "display_data",
     "data": {
      "text/plain": "<Figure size 432x288 with 1 Axes>",
      "image/svg+xml": "<?xml version=\"1.0\" encoding=\"utf-8\" standalone=\"no\"?>\n<!DOCTYPE svg PUBLIC \"-//W3C//DTD SVG 1.1//EN\"\n  \"http://www.w3.org/Graphics/SVG/1.1/DTD/svg11.dtd\">\n<!-- Created with matplotlib (https://matplotlib.org/) -->\n<svg height=\"259.116562pt\" version=\"1.1\" viewBox=\"0 0 378.465625 259.116562\" width=\"378.465625pt\" xmlns=\"http://www.w3.org/2000/svg\" xmlns:xlink=\"http://www.w3.org/1999/xlink\">\n <metadata>\n  <rdf:RDF xmlns:cc=\"http://creativecommons.org/ns#\" xmlns:dc=\"http://purl.org/dc/elements/1.1/\" xmlns:rdf=\"http://www.w3.org/1999/02/22-rdf-syntax-ns#\">\n   <cc:Work>\n    <dc:type rdf:resource=\"http://purl.org/dc/dcmitype/StillImage\"/>\n    <dc:date>2021-01-14T14:17:12.175326</dc:date>\n    <dc:format>image/svg+xml</dc:format>\n    <dc:creator>\n     <cc:Agent>\n      <dc:title>Matplotlib v3.3.3, https://matplotlib.org/</dc:title>\n     </cc:Agent>\n    </dc:creator>\n   </cc:Work>\n  </rdf:RDF>\n </metadata>\n <defs>\n  <style type=\"text/css\">*{stroke-linecap:butt;stroke-linejoin:round;}</style>\n </defs>\n <g id=\"figure_1\">\n  <g id=\"patch_1\">\n   <path d=\"M 0 259.116562 \nL 378.465625 259.116562 \nL 378.465625 0 \nL 0 0 \nz\n\" style=\"fill:none;\"/>\n  </g>\n  <g id=\"axes_1\">\n   <g id=\"patch_2\">\n    <path d=\"M 36.465625 235.238437 \nL 371.265625 235.238437 \nL 371.265625 17.798437 \nL 36.465625 17.798437 \nz\n\" style=\"fill:#ffffff;\"/>\n   </g>\n   <g id=\"patch_3\">\n    <path clip-path=\"url(#pb8315c829a)\" d=\"M 51.683807 235.238437 \nL 56.673375 235.238437 \nL 56.673375 169.984177 \nL 51.683807 169.984177 \nz\n\" style=\"fill:#ffa500;\"/>\n   </g>\n   <g id=\"patch_4\">\n    <path clip-path=\"url(#pb8315c829a)\" d=\"M 61.662942 235.238437 \nL 66.65251 235.238437 \nL 66.65251 168.391606 \nL 61.662942 168.391606 \nz\n\" style=\"fill:#ffa500;\"/>\n   </g>\n   <g id=\"patch_5\">\n    <path clip-path=\"url(#pb8315c829a)\" d=\"M 71.642078 235.238437 \nL 76.631646 235.238437 \nL 76.631646 164.74415 \nL 71.642078 164.74415 \nz\n\" style=\"fill:#ffa500;\"/>\n   </g>\n   <g id=\"patch_6\">\n    <path clip-path=\"url(#pb8315c829a)\" d=\"M 81.621214 235.238437 \nL 86.610781 235.238437 \nL 86.610781 178.414768 \nL 81.621214 178.414768 \nz\n\" style=\"fill:#ffa500;\"/>\n   </g>\n   <g id=\"patch_7\">\n    <path clip-path=\"url(#pb8315c829a)\" d=\"M 91.600349 235.238437 \nL 96.589917 235.238437 \nL 96.589917 180.331149 \nL 91.600349 180.331149 \nz\n\" style=\"fill:#ffa500;\"/>\n   </g>\n   <g id=\"patch_8\">\n    <path clip-path=\"url(#pb8315c829a)\" d=\"M 101.579485 235.238437 \nL 106.569053 235.238437 \nL 106.569053 182.118868 \nL 101.579485 182.118868 \nz\n\" style=\"fill:#ffa500;\"/>\n   </g>\n   <g id=\"patch_9\">\n    <path clip-path=\"url(#pb8315c829a)\" d=\"M 111.558621 235.238437 \nL 116.548188 235.238437 \nL 116.548188 184.290372 \nL 111.558621 184.290372 \nz\n\" style=\"fill:#ffa500;\"/>\n   </g>\n   <g id=\"patch_10\">\n    <path clip-path=\"url(#pb8315c829a)\" d=\"M 121.537756 235.238437 \nL 126.527324 235.238437 \nL 126.527324 179.721403 \nL 121.537756 179.721403 \nz\n\" style=\"fill:#ffa500;\"/>\n   </g>\n   <g id=\"patch_11\">\n    <path clip-path=\"url(#pb8315c829a)\" d=\"M 131.516892 235.238437 \nL 136.50646 235.238437 \nL 136.50646 174.696138 \nL 131.516892 174.696138 \nz\n\" style=\"fill:#ffa500;\"/>\n   </g>\n   <g id=\"patch_12\">\n    <path clip-path=\"url(#pb8315c829a)\" d=\"M 141.496027 235.238437 \nL 146.485595 235.238437 \nL 146.485595 178.23905 \nL 141.496027 178.23905 \nz\n\" style=\"fill:#ffa500;\"/>\n   </g>\n   <g id=\"patch_13\">\n    <path clip-path=\"url(#pb8315c829a)\" d=\"M 151.475163 235.238437 \nL 156.464731 235.238437 \nL 156.464731 174.61874 \nL 151.475163 174.61874 \nz\n\" style=\"fill:#ffa500;\"/>\n   </g>\n   <g id=\"patch_14\">\n    <path clip-path=\"url(#pb8315c829a)\" d=\"M 161.454299 235.238437 \nL 166.443866 235.238437 \nL 166.443866 172.28201 \nL 161.454299 172.28201 \nz\n\" style=\"fill:#ffa500;\"/>\n   </g>\n   <g id=\"patch_15\">\n    <path clip-path=\"url(#pb8315c829a)\" d=\"M 171.433434 235.238437 \nL 176.423002 235.238437 \nL 176.423002 139.4415 \nL 171.433434 139.4415 \nz\n\" style=\"fill:#ffa500;\"/>\n   </g>\n   <g id=\"patch_16\">\n    <path clip-path=\"url(#pb8315c829a)\" d=\"M 181.41257 235.238437 \nL 186.402138 235.238437 \nL 186.402138 105.478149 \nL 181.41257 105.478149 \nz\n\" style=\"fill:#ffa500;\"/>\n   </g>\n   <g id=\"patch_17\">\n    <path clip-path=\"url(#pb8315c829a)\" d=\"M 191.391705 235.238437 \nL 196.381273 235.238437 \nL 196.381273 28.152723 \nL 191.391705 28.152723 \nz\n\" style=\"fill:#ffa500;\"/>\n   </g>\n   <g id=\"patch_18\">\n    <path clip-path=\"url(#pb8315c829a)\" d=\"M 201.370841 235.238437 \nL 206.360409 235.238437 \nL 206.360409 134.129978 \nL 201.370841 134.129978 \nz\n\" style=\"fill:#ffa500;\"/>\n   </g>\n   <g id=\"patch_19\">\n    <path clip-path=\"url(#pb8315c829a)\" d=\"M 211.349977 235.238437 \nL 216.339545 235.238437 \nL 216.339545 159.635004 \nL 211.349977 159.635004 \nz\n\" style=\"fill:#ffa500;\"/>\n   </g>\n   <g id=\"patch_20\">\n    <path clip-path=\"url(#pb8315c829a)\" d=\"M 221.329112 235.238437 \nL 226.31868 235.238437 \nL 226.31868 162.971803 \nL 221.329112 162.971803 \nz\n\" style=\"fill:#ffa500;\"/>\n   </g>\n   <g id=\"patch_21\">\n    <path clip-path=\"url(#pb8315c829a)\" d=\"M 231.308248 235.238437 \nL 236.297816 235.238437 \nL 236.297816 178.983636 \nL 231.308248 178.983636 \nz\n\" style=\"fill:#ffa500;\"/>\n   </g>\n   <g id=\"patch_22\">\n    <path clip-path=\"url(#pb8315c829a)\" d=\"M 241.287384 235.238437 \nL 246.276951 235.238437 \nL 246.276951 174.349753 \nL 241.287384 174.349753 \nz\n\" style=\"fill:#ffa500;\"/>\n   </g>\n   <g id=\"patch_23\">\n    <path clip-path=\"url(#pb8315c829a)\" d=\"M 251.266519 235.238437 \nL 256.256087 235.238437 \nL 256.256087 182.927026 \nL 251.266519 182.927026 \nz\n\" style=\"fill:#ffa500;\"/>\n   </g>\n   <g id=\"patch_24\">\n    <path clip-path=\"url(#pb8315c829a)\" d=\"M 261.245655 235.238437 \nL 266.235223 235.238437 \nL 266.235223 185.975676 \nL 261.245655 185.975676 \nz\n\" style=\"fill:#ffa500;\"/>\n   </g>\n   <g id=\"patch_25\">\n    <path clip-path=\"url(#pb8315c829a)\" d=\"M 271.22479 235.238437 \nL 276.214358 235.238437 \nL 276.214358 186.147209 \nL 271.22479 186.147209 \nz\n\" style=\"fill:#ffa500;\"/>\n   </g>\n   <g id=\"patch_26\">\n    <path clip-path=\"url(#pb8315c829a)\" d=\"M 281.203926 235.238437 \nL 286.193494 235.238437 \nL 286.193494 184.556995 \nL 281.203926 184.556995 \nz\n\" style=\"fill:#ffa500;\"/>\n   </g>\n   <g id=\"patch_27\">\n    <path clip-path=\"url(#pb8315c829a)\" d=\"M 291.183062 235.238437 \nL 296.172629 235.238437 \nL 296.172629 182.677647 \nL 291.183062 182.677647 \nz\n\" style=\"fill:#ffa500;\"/>\n   </g>\n   <g id=\"patch_28\">\n    <path clip-path=\"url(#pb8315c829a)\" d=\"M 301.162197 235.238437 \nL 306.151765 235.238437 \nL 306.151765 189.994745 \nL 301.162197 189.994745 \nz\n\" style=\"fill:#ffa500;\"/>\n   </g>\n   <g id=\"patch_29\">\n    <path clip-path=\"url(#pb8315c829a)\" d=\"M 311.141333 235.238437 \nL 316.130901 235.238437 \nL 316.130901 185.931955 \nL 311.141333 185.931955 \nz\n\" style=\"fill:#ffa500;\"/>\n   </g>\n   <g id=\"patch_30\">\n    <path clip-path=\"url(#pb8315c829a)\" d=\"M 321.120469 235.238437 \nL 326.110036 235.238437 \nL 326.110036 161.790089 \nL 321.120469 161.790089 \nz\n\" style=\"fill:#ffa500;\"/>\n   </g>\n   <g id=\"patch_31\">\n    <path clip-path=\"url(#pb8315c829a)\" d=\"M 331.099604 235.238437 \nL 336.089172 235.238437 \nL 336.089172 151.547691 \nL 331.099604 151.547691 \nz\n\" style=\"fill:#ffa500;\"/>\n   </g>\n   <g id=\"patch_32\">\n    <path clip-path=\"url(#pb8315c829a)\" d=\"M 341.07874 235.238437 \nL 346.068308 235.238437 \nL 346.068308 90.246333 \nL 341.07874 90.246333 \nz\n\" style=\"fill:#ffa500;\"/>\n   </g>\n   <g id=\"patch_33\">\n    <path clip-path=\"url(#pb8315c829a)\" d=\"M 351.057875 235.238437 \nL 356.047443 235.238437 \nL 356.047443 139.222943 \nL 351.057875 139.222943 \nz\n\" style=\"fill:#ffa500;\"/>\n   </g>\n   <g id=\"matplotlib.axis_1\">\n    <g id=\"xtick_1\">\n     <g id=\"line2d_1\">\n      <defs>\n       <path d=\"M 0 0 \nL 0 3.5 \n\" id=\"m83f3392009\" style=\"stroke:#000000;stroke-width:0.8;\"/>\n      </defs>\n      <g>\n       <use style=\"stroke:#000000;stroke-width:0.8;\" x=\"44.199455\" xlink:href=\"#m83f3392009\" y=\"235.238437\"/>\n      </g>\n     </g>\n     <g id=\"text_1\">\n      <!-- 0 -->\n      <g transform=\"translate(41.018205 249.836875)scale(0.1 -0.1)\">\n       <defs>\n        <path d=\"M 31.78125 66.40625 \nQ 24.171875 66.40625 20.328125 58.90625 \nQ 16.5 51.421875 16.5 36.375 \nQ 16.5 21.390625 20.328125 13.890625 \nQ 24.171875 6.390625 31.78125 6.390625 \nQ 39.453125 6.390625 43.28125 13.890625 \nQ 47.125 21.390625 47.125 36.375 \nQ 47.125 51.421875 43.28125 58.90625 \nQ 39.453125 66.40625 31.78125 66.40625 \nz\nM 31.78125 74.21875 \nQ 44.046875 74.21875 50.515625 64.515625 \nQ 56.984375 54.828125 56.984375 36.375 \nQ 56.984375 17.96875 50.515625 8.265625 \nQ 44.046875 -1.421875 31.78125 -1.421875 \nQ 19.53125 -1.421875 13.0625 8.265625 \nQ 6.59375 17.96875 6.59375 36.375 \nQ 6.59375 54.828125 13.0625 64.515625 \nQ 19.53125 74.21875 31.78125 74.21875 \nz\n\" id=\"DejaVuSans-48\"/>\n       </defs>\n       <use xlink:href=\"#DejaVuSans-48\"/>\n      </g>\n     </g>\n    </g>\n    <g id=\"xtick_2\">\n     <g id=\"line2d_2\">\n      <g>\n       <use style=\"stroke:#000000;stroke-width:0.8;\" x=\"94.095133\" xlink:href=\"#m83f3392009\" y=\"235.238437\"/>\n      </g>\n     </g>\n     <g id=\"text_2\">\n      <!-- 5 -->\n      <g transform=\"translate(90.913883 249.836875)scale(0.1 -0.1)\">\n       <defs>\n        <path d=\"M 10.796875 72.90625 \nL 49.515625 72.90625 \nL 49.515625 64.59375 \nL 19.828125 64.59375 \nL 19.828125 46.734375 \nQ 21.96875 47.46875 24.109375 47.828125 \nQ 26.265625 48.1875 28.421875 48.1875 \nQ 40.625 48.1875 47.75 41.5 \nQ 54.890625 34.8125 54.890625 23.390625 \nQ 54.890625 11.625 47.5625 5.09375 \nQ 40.234375 -1.421875 26.90625 -1.421875 \nQ 22.3125 -1.421875 17.546875 -0.640625 \nQ 12.796875 0.140625 7.71875 1.703125 \nL 7.71875 11.625 \nQ 12.109375 9.234375 16.796875 8.0625 \nQ 21.484375 6.890625 26.703125 6.890625 \nQ 35.15625 6.890625 40.078125 11.328125 \nQ 45.015625 15.765625 45.015625 23.390625 \nQ 45.015625 31 40.078125 35.4375 \nQ 35.15625 39.890625 26.703125 39.890625 \nQ 22.75 39.890625 18.8125 39.015625 \nQ 14.890625 38.140625 10.796875 36.28125 \nz\n\" id=\"DejaVuSans-53\"/>\n       </defs>\n       <use xlink:href=\"#DejaVuSans-53\"/>\n      </g>\n     </g>\n    </g>\n    <g id=\"xtick_3\">\n     <g id=\"line2d_3\">\n      <g>\n       <use style=\"stroke:#000000;stroke-width:0.8;\" x=\"143.990811\" xlink:href=\"#m83f3392009\" y=\"235.238437\"/>\n      </g>\n     </g>\n     <g id=\"text_3\">\n      <!-- 10 -->\n      <g transform=\"translate(137.628311 249.836875)scale(0.1 -0.1)\">\n       <defs>\n        <path d=\"M 12.40625 8.296875 \nL 28.515625 8.296875 \nL 28.515625 63.921875 \nL 10.984375 60.40625 \nL 10.984375 69.390625 \nL 28.421875 72.90625 \nL 38.28125 72.90625 \nL 38.28125 8.296875 \nL 54.390625 8.296875 \nL 54.390625 0 \nL 12.40625 0 \nz\n\" id=\"DejaVuSans-49\"/>\n       </defs>\n       <use xlink:href=\"#DejaVuSans-49\"/>\n       <use x=\"63.623047\" xlink:href=\"#DejaVuSans-48\"/>\n      </g>\n     </g>\n    </g>\n    <g id=\"xtick_4\">\n     <g id=\"line2d_4\">\n      <g>\n       <use style=\"stroke:#000000;stroke-width:0.8;\" x=\"193.886489\" xlink:href=\"#m83f3392009\" y=\"235.238437\"/>\n      </g>\n     </g>\n     <g id=\"text_4\">\n      <!-- 15 -->\n      <g transform=\"translate(187.523989 249.836875)scale(0.1 -0.1)\">\n       <use xlink:href=\"#DejaVuSans-49\"/>\n       <use x=\"63.623047\" xlink:href=\"#DejaVuSans-53\"/>\n      </g>\n     </g>\n    </g>\n    <g id=\"xtick_5\">\n     <g id=\"line2d_5\">\n      <g>\n       <use style=\"stroke:#000000;stroke-width:0.8;\" x=\"243.782167\" xlink:href=\"#m83f3392009\" y=\"235.238437\"/>\n      </g>\n     </g>\n     <g id=\"text_5\">\n      <!-- 20 -->\n      <g transform=\"translate(237.419667 249.836875)scale(0.1 -0.1)\">\n       <defs>\n        <path d=\"M 19.1875 8.296875 \nL 53.609375 8.296875 \nL 53.609375 0 \nL 7.328125 0 \nL 7.328125 8.296875 \nQ 12.9375 14.109375 22.625 23.890625 \nQ 32.328125 33.6875 34.8125 36.53125 \nQ 39.546875 41.84375 41.421875 45.53125 \nQ 43.3125 49.21875 43.3125 52.78125 \nQ 43.3125 58.59375 39.234375 62.25 \nQ 35.15625 65.921875 28.609375 65.921875 \nQ 23.96875 65.921875 18.8125 64.3125 \nQ 13.671875 62.703125 7.8125 59.421875 \nL 7.8125 69.390625 \nQ 13.765625 71.78125 18.9375 73 \nQ 24.125 74.21875 28.421875 74.21875 \nQ 39.75 74.21875 46.484375 68.546875 \nQ 53.21875 62.890625 53.21875 53.421875 \nQ 53.21875 48.921875 51.53125 44.890625 \nQ 49.859375 40.875 45.40625 35.40625 \nQ 44.1875 33.984375 37.640625 27.21875 \nQ 31.109375 20.453125 19.1875 8.296875 \nz\n\" id=\"DejaVuSans-50\"/>\n       </defs>\n       <use xlink:href=\"#DejaVuSans-50\"/>\n       <use x=\"63.623047\" xlink:href=\"#DejaVuSans-48\"/>\n      </g>\n     </g>\n    </g>\n    <g id=\"xtick_6\">\n     <g id=\"line2d_6\">\n      <g>\n       <use style=\"stroke:#000000;stroke-width:0.8;\" x=\"293.677846\" xlink:href=\"#m83f3392009\" y=\"235.238437\"/>\n      </g>\n     </g>\n     <g id=\"text_6\">\n      <!-- 25 -->\n      <g transform=\"translate(287.315346 249.836875)scale(0.1 -0.1)\">\n       <use xlink:href=\"#DejaVuSans-50\"/>\n       <use x=\"63.623047\" xlink:href=\"#DejaVuSans-53\"/>\n      </g>\n     </g>\n    </g>\n    <g id=\"xtick_7\">\n     <g id=\"line2d_7\">\n      <g>\n       <use style=\"stroke:#000000;stroke-width:0.8;\" x=\"343.573524\" xlink:href=\"#m83f3392009\" y=\"235.238437\"/>\n      </g>\n     </g>\n     <g id=\"text_7\">\n      <!-- 30 -->\n      <g transform=\"translate(337.211024 249.836875)scale(0.1 -0.1)\">\n       <defs>\n        <path d=\"M 40.578125 39.3125 \nQ 47.65625 37.796875 51.625 33 \nQ 55.609375 28.21875 55.609375 21.1875 \nQ 55.609375 10.40625 48.1875 4.484375 \nQ 40.765625 -1.421875 27.09375 -1.421875 \nQ 22.515625 -1.421875 17.65625 -0.515625 \nQ 12.796875 0.390625 7.625 2.203125 \nL 7.625 11.71875 \nQ 11.71875 9.328125 16.59375 8.109375 \nQ 21.484375 6.890625 26.8125 6.890625 \nQ 36.078125 6.890625 40.9375 10.546875 \nQ 45.796875 14.203125 45.796875 21.1875 \nQ 45.796875 27.640625 41.28125 31.265625 \nQ 36.765625 34.90625 28.71875 34.90625 \nL 20.21875 34.90625 \nL 20.21875 43.015625 \nL 29.109375 43.015625 \nQ 36.375 43.015625 40.234375 45.921875 \nQ 44.09375 48.828125 44.09375 54.296875 \nQ 44.09375 59.90625 40.109375 62.90625 \nQ 36.140625 65.921875 28.71875 65.921875 \nQ 24.65625 65.921875 20.015625 65.03125 \nQ 15.375 64.15625 9.8125 62.3125 \nL 9.8125 71.09375 \nQ 15.4375 72.65625 20.34375 73.4375 \nQ 25.25 74.21875 29.59375 74.21875 \nQ 40.828125 74.21875 47.359375 69.109375 \nQ 53.90625 64.015625 53.90625 55.328125 \nQ 53.90625 49.265625 50.4375 45.09375 \nQ 46.96875 40.921875 40.578125 39.3125 \nz\n\" id=\"DejaVuSans-51\"/>\n       </defs>\n       <use xlink:href=\"#DejaVuSans-51\"/>\n       <use x=\"63.623047\" xlink:href=\"#DejaVuSans-48\"/>\n      </g>\n     </g>\n    </g>\n   </g>\n   <g id=\"matplotlib.axis_2\">\n    <g id=\"ytick_1\">\n     <g id=\"line2d_8\">\n      <defs>\n       <path d=\"M 0 0 \nL -3.5 0 \n\" id=\"ma908849c51\" style=\"stroke:#000000;stroke-width:0.8;\"/>\n      </defs>\n      <g>\n       <use style=\"stroke:#000000;stroke-width:0.8;\" x=\"36.465625\" xlink:href=\"#ma908849c51\" y=\"235.238437\"/>\n      </g>\n     </g>\n     <g id=\"text_8\">\n      <!-- 0.00 -->\n      <g transform=\"translate(7.2 239.037656)scale(0.1 -0.1)\">\n       <defs>\n        <path d=\"M 10.6875 12.40625 \nL 21 12.40625 \nL 21 0 \nL 10.6875 0 \nz\n\" id=\"DejaVuSans-46\"/>\n       </defs>\n       <use xlink:href=\"#DejaVuSans-48\"/>\n       <use x=\"63.623047\" xlink:href=\"#DejaVuSans-46\"/>\n       <use x=\"95.410156\" xlink:href=\"#DejaVuSans-48\"/>\n       <use x=\"159.033203\" xlink:href=\"#DejaVuSans-48\"/>\n      </g>\n     </g>\n    </g>\n    <g id=\"ytick_2\">\n     <g id=\"line2d_9\">\n      <g>\n       <use style=\"stroke:#000000;stroke-width:0.8;\" x=\"36.465625\" xlink:href=\"#ma908849c51\" y=\"207.617002\"/>\n      </g>\n     </g>\n     <g id=\"text_9\">\n      <!-- 0.25 -->\n      <g transform=\"translate(7.2 211.416221)scale(0.1 -0.1)\">\n       <use xlink:href=\"#DejaVuSans-48\"/>\n       <use x=\"63.623047\" xlink:href=\"#DejaVuSans-46\"/>\n       <use x=\"95.410156\" xlink:href=\"#DejaVuSans-50\"/>\n       <use x=\"159.033203\" xlink:href=\"#DejaVuSans-53\"/>\n      </g>\n     </g>\n    </g>\n    <g id=\"ytick_3\">\n     <g id=\"line2d_10\">\n      <g>\n       <use style=\"stroke:#000000;stroke-width:0.8;\" x=\"36.465625\" xlink:href=\"#ma908849c51\" y=\"179.995566\"/>\n      </g>\n     </g>\n     <g id=\"text_10\">\n      <!-- 0.50 -->\n      <g transform=\"translate(7.2 183.794785)scale(0.1 -0.1)\">\n       <use xlink:href=\"#DejaVuSans-48\"/>\n       <use x=\"63.623047\" xlink:href=\"#DejaVuSans-46\"/>\n       <use x=\"95.410156\" xlink:href=\"#DejaVuSans-53\"/>\n       <use x=\"159.033203\" xlink:href=\"#DejaVuSans-48\"/>\n      </g>\n     </g>\n    </g>\n    <g id=\"ytick_4\">\n     <g id=\"line2d_11\">\n      <g>\n       <use style=\"stroke:#000000;stroke-width:0.8;\" x=\"36.465625\" xlink:href=\"#ma908849c51\" y=\"152.37413\"/>\n      </g>\n     </g>\n     <g id=\"text_11\">\n      <!-- 0.75 -->\n      <g transform=\"translate(7.2 156.173349)scale(0.1 -0.1)\">\n       <defs>\n        <path d=\"M 8.203125 72.90625 \nL 55.078125 72.90625 \nL 55.078125 68.703125 \nL 28.609375 0 \nL 18.3125 0 \nL 43.21875 64.59375 \nL 8.203125 64.59375 \nz\n\" id=\"DejaVuSans-55\"/>\n       </defs>\n       <use xlink:href=\"#DejaVuSans-48\"/>\n       <use x=\"63.623047\" xlink:href=\"#DejaVuSans-46\"/>\n       <use x=\"95.410156\" xlink:href=\"#DejaVuSans-55\"/>\n       <use x=\"159.033203\" xlink:href=\"#DejaVuSans-53\"/>\n      </g>\n     </g>\n    </g>\n    <g id=\"ytick_5\">\n     <g id=\"line2d_12\">\n      <g>\n       <use style=\"stroke:#000000;stroke-width:0.8;\" x=\"36.465625\" xlink:href=\"#ma908849c51\" y=\"124.752695\"/>\n      </g>\n     </g>\n     <g id=\"text_12\">\n      <!-- 1.00 -->\n      <g transform=\"translate(7.2 128.551913)scale(0.1 -0.1)\">\n       <use xlink:href=\"#DejaVuSans-49\"/>\n       <use x=\"63.623047\" xlink:href=\"#DejaVuSans-46\"/>\n       <use x=\"95.410156\" xlink:href=\"#DejaVuSans-48\"/>\n       <use x=\"159.033203\" xlink:href=\"#DejaVuSans-48\"/>\n      </g>\n     </g>\n    </g>\n    <g id=\"ytick_6\">\n     <g id=\"line2d_13\">\n      <g>\n       <use style=\"stroke:#000000;stroke-width:0.8;\" x=\"36.465625\" xlink:href=\"#ma908849c51\" y=\"97.131259\"/>\n      </g>\n     </g>\n     <g id=\"text_13\">\n      <!-- 1.25 -->\n      <g transform=\"translate(7.2 100.930478)scale(0.1 -0.1)\">\n       <use xlink:href=\"#DejaVuSans-49\"/>\n       <use x=\"63.623047\" xlink:href=\"#DejaVuSans-46\"/>\n       <use x=\"95.410156\" xlink:href=\"#DejaVuSans-50\"/>\n       <use x=\"159.033203\" xlink:href=\"#DejaVuSans-53\"/>\n      </g>\n     </g>\n    </g>\n    <g id=\"ytick_7\">\n     <g id=\"line2d_14\">\n      <g>\n       <use style=\"stroke:#000000;stroke-width:0.8;\" x=\"36.465625\" xlink:href=\"#ma908849c51\" y=\"69.509823\"/>\n      </g>\n     </g>\n     <g id=\"text_14\">\n      <!-- 1.50 -->\n      <g transform=\"translate(7.2 73.309042)scale(0.1 -0.1)\">\n       <use xlink:href=\"#DejaVuSans-49\"/>\n       <use x=\"63.623047\" xlink:href=\"#DejaVuSans-46\"/>\n       <use x=\"95.410156\" xlink:href=\"#DejaVuSans-53\"/>\n       <use x=\"159.033203\" xlink:href=\"#DejaVuSans-48\"/>\n      </g>\n     </g>\n    </g>\n    <g id=\"ytick_8\">\n     <g id=\"line2d_15\">\n      <g>\n       <use style=\"stroke:#000000;stroke-width:0.8;\" x=\"36.465625\" xlink:href=\"#ma908849c51\" y=\"41.888387\"/>\n      </g>\n     </g>\n     <g id=\"text_15\">\n      <!-- 1.75 -->\n      <g transform=\"translate(7.2 45.687606)scale(0.1 -0.1)\">\n       <use xlink:href=\"#DejaVuSans-49\"/>\n       <use x=\"63.623047\" xlink:href=\"#DejaVuSans-46\"/>\n       <use x=\"95.410156\" xlink:href=\"#DejaVuSans-55\"/>\n       <use x=\"159.033203\" xlink:href=\"#DejaVuSans-53\"/>\n      </g>\n     </g>\n    </g>\n    <g id=\"text_16\">\n     <!-- 1e7 -->\n     <g transform=\"translate(36.465625 14.798437)scale(0.1 -0.1)\">\n      <defs>\n       <path d=\"M 56.203125 29.59375 \nL 56.203125 25.203125 \nL 14.890625 25.203125 \nQ 15.484375 15.921875 20.484375 11.0625 \nQ 25.484375 6.203125 34.421875 6.203125 \nQ 39.59375 6.203125 44.453125 7.46875 \nQ 49.3125 8.734375 54.109375 11.28125 \nL 54.109375 2.78125 \nQ 49.265625 0.734375 44.1875 -0.34375 \nQ 39.109375 -1.421875 33.890625 -1.421875 \nQ 20.796875 -1.421875 13.15625 6.1875 \nQ 5.515625 13.8125 5.515625 26.8125 \nQ 5.515625 40.234375 12.765625 48.109375 \nQ 20.015625 56 32.328125 56 \nQ 43.359375 56 49.78125 48.890625 \nQ 56.203125 41.796875 56.203125 29.59375 \nz\nM 47.21875 32.234375 \nQ 47.125 39.59375 43.09375 43.984375 \nQ 39.0625 48.390625 32.421875 48.390625 \nQ 24.90625 48.390625 20.390625 44.140625 \nQ 15.875 39.890625 15.1875 32.171875 \nz\n\" id=\"DejaVuSans-101\"/>\n      </defs>\n      <use xlink:href=\"#DejaVuSans-49\"/>\n      <use x=\"63.623047\" xlink:href=\"#DejaVuSans-101\"/>\n      <use x=\"125.146484\" xlink:href=\"#DejaVuSans-55\"/>\n     </g>\n    </g>\n   </g>\n   <g id=\"patch_34\">\n    <path d=\"M 36.465625 235.238437 \nL 36.465625 17.798437 \n\" style=\"fill:none;stroke:#000000;stroke-linecap:square;stroke-linejoin:miter;stroke-width:0.8;\"/>\n   </g>\n   <g id=\"patch_35\">\n    <path d=\"M 371.265625 235.238437 \nL 371.265625 17.798437 \n\" style=\"fill:none;stroke:#000000;stroke-linecap:square;stroke-linejoin:miter;stroke-width:0.8;\"/>\n   </g>\n   <g id=\"patch_36\">\n    <path d=\"M 36.465625 235.238437 \nL 371.265625 235.238437 \n\" style=\"fill:none;stroke:#000000;stroke-linecap:square;stroke-linejoin:miter;stroke-width:0.8;\"/>\n   </g>\n   <g id=\"patch_37\">\n    <path d=\"M 36.465625 17.798437 \nL 371.265625 17.798437 \n\" style=\"fill:none;stroke:#000000;stroke-linecap:square;stroke-linejoin:miter;stroke-width:0.8;\"/>\n   </g>\n  </g>\n </g>\n <defs>\n  <clipPath id=\"pb8315c829a\">\n   <rect height=\"217.44\" width=\"334.8\" x=\"36.465625\" y=\"17.798437\"/>\n  </clipPath>\n </defs>\n</svg>\n",
      "image/png": "[encoded data removed]"
     },
     "metadata": {
      "needs_background": "light"
     }
    }
   ],
   "source": [
    "dia_brad = pd.pivot_table(pagos_brad,index=['DIA'],values=['PAGO'],aggfunc=np.sum)\n",
    "dia_brad = pd.DataFrame(dia_brad.to_records())\n",
    "\n",
    "plt.bar(dia_brad['DIA'],dia_brad['PAGO'],color='orange',width=0.5)\n",
    "plt.show()"
   ]
  },
  {
   "cell_type": "code",
   "execution_count": 107,
   "metadata": {},
   "outputs": [
    {
     "output_type": "execute_result",
     "data": {
      "text/plain": [
       "          DIA     PAGO\n",
       "DIA   1.00000  0.13076\n",
       "PAGO  0.13076  1.00000"
      ],
      "text/html": "<div>\n<style scoped>\n    .dataframe tbody tr th:only-of-type {\n        vertical-align: middle;\n    }\n\n    .dataframe tbody tr th {\n        vertical-align: top;\n    }\n\n    .dataframe thead th {\n        text-align: right;\n    }\n</style>\n<table border=\"1\" class=\"dataframe\">\n  <thead>\n    <tr style=\"text-align: right;\">\n      <th></th>\n      <th>DIA</th>\n      <th>PAGO</th>\n    </tr>\n  </thead>\n  <tbody>\n    <tr>\n      <th>DIA</th>\n      <td>1.00000</td>\n      <td>0.13076</td>\n    </tr>\n    <tr>\n      <th>PAGO</th>\n      <td>0.13076</td>\n      <td>1.00000</td>\n    </tr>\n  </tbody>\n</table>\n</div>"
     },
     "metadata": {},
     "execution_count": 107
    }
   ],
   "source": [
    "dia_brad.corr()"
   ]
  },
  {
   "cell_type": "code",
   "execution_count": 108,
   "metadata": {},
   "outputs": [
    {
     "output_type": "display_data",
     "data": {
      "text/plain": "<Figure size 432x288 with 1 Axes>",
      "image/svg+xml": "<?xml version=\"1.0\" encoding=\"utf-8\" standalone=\"no\"?>\n<!DOCTYPE svg PUBLIC \"-//W3C//DTD SVG 1.1//EN\"\n  \"http://www.w3.org/Graphics/SVG/1.1/DTD/svg11.dtd\">\n<!-- Created with matplotlib (https://matplotlib.org/) -->\n<svg height=\"259.116562pt\" version=\"1.1\" viewBox=\"0 0 372.103125 259.116562\" width=\"372.103125pt\" xmlns=\"http://www.w3.org/2000/svg\" xmlns:xlink=\"http://www.w3.org/1999/xlink\">\n <metadata>\n  <rdf:RDF xmlns:cc=\"http://creativecommons.org/ns#\" xmlns:dc=\"http://purl.org/dc/elements/1.1/\" xmlns:rdf=\"http://www.w3.org/1999/02/22-rdf-syntax-ns#\">\n   <cc:Work>\n    <dc:type rdf:resource=\"http://purl.org/dc/dcmitype/StillImage\"/>\n    <dc:date>2021-01-14T14:30:33.432709</dc:date>\n    <dc:format>image/svg+xml</dc:format>\n    <dc:creator>\n     <cc:Agent>\n      <dc:title>Matplotlib v3.3.3, https://matplotlib.org/</dc:title>\n     </cc:Agent>\n    </dc:creator>\n   </cc:Work>\n  </rdf:RDF>\n </metadata>\n <defs>\n  <style type=\"text/css\">*{stroke-linecap:butt;stroke-linejoin:round;}</style>\n </defs>\n <g id=\"figure_1\">\n  <g id=\"patch_1\">\n   <path d=\"M 0 259.116562 \nL 372.103125 259.116562 \nL 372.103125 0 \nL 0 0 \nz\n\" style=\"fill:none;\"/>\n  </g>\n  <g id=\"axes_1\">\n   <g id=\"patch_2\">\n    <path d=\"M 30.103125 235.238437 \nL 364.903125 235.238437 \nL 364.903125 17.798437 \nL 30.103125 17.798437 \nz\n\" style=\"fill:#ffffff;\"/>\n   </g>\n   <g id=\"patch_3\">\n    <path clip-path=\"url(#p1ef4ac5ccc)\" d=\"M 45.321307 235.238437 \nL 72.990728 235.238437 \nL 72.990728 201.869728 \nL 45.321307 201.869728 \nz\n\" style=\"fill:#ffc0cb;\"/>\n   </g>\n   <g id=\"patch_4\">\n    <path clip-path=\"url(#p1ef4ac5ccc)\" d=\"M 100.66015 235.238437 \nL 128.329571 235.238437 \nL 128.329571 221.600259 \nL 100.66015 221.600259 \nz\n\" style=\"fill:#ffc0cb;\"/>\n   </g>\n   <g id=\"patch_5\">\n    <path clip-path=\"url(#p1ef4ac5ccc)\" d=\"M 155.998993 235.238437 \nL 183.668414 235.238437 \nL 183.668414 28.152723 \nL 155.998993 28.152723 \nz\n\" style=\"fill:#ffc0cb;\"/>\n   </g>\n   <g id=\"patch_6\">\n    <path clip-path=\"url(#p1ef4ac5ccc)\" d=\"M 211.337836 235.238437 \nL 239.007257 235.238437 \nL 239.007257 132.984628 \nL 211.337836 132.984628 \nz\n\" style=\"fill:#ffc0cb;\"/>\n   </g>\n   <g id=\"patch_7\">\n    <path clip-path=\"url(#p1ef4ac5ccc)\" d=\"M 266.676679 235.238437 \nL 294.3461 235.238437 \nL 294.3461 166.751227 \nL 266.676679 166.751227 \nz\n\" style=\"fill:#ffc0cb;\"/>\n   </g>\n   <g id=\"patch_8\">\n    <path clip-path=\"url(#p1ef4ac5ccc)\" d=\"M 322.015522 235.238437 \nL 349.684943 235.238437 \nL 349.684943 204.269381 \nL 322.015522 204.269381 \nz\n\" style=\"fill:#ffc0cb;\"/>\n   </g>\n   <g id=\"matplotlib.axis_1\">\n    <g id=\"xtick_1\">\n     <g id=\"line2d_1\">\n      <defs>\n       <path d=\"M 0 0 \nL 0 3.5 \n\" id=\"m52d5a9408b\" style=\"stroke:#000000;stroke-width:0.8;\"/>\n      </defs>\n      <g>\n       <use style=\"stroke:#000000;stroke-width:0.8;\" x=\"59.156018\" xlink:href=\"#m52d5a9408b\" y=\"235.238437\"/>\n      </g>\n     </g>\n     <g id=\"text_1\">\n      <!-- A -->\n      <g transform=\"translate(55.735705 249.836875)scale(0.1 -0.1)\">\n       <defs>\n        <path d=\"M 34.1875 63.1875 \nL 20.796875 26.90625 \nL 47.609375 26.90625 \nz\nM 28.609375 72.90625 \nL 39.796875 72.90625 \nL 67.578125 0 \nL 57.328125 0 \nL 50.6875 18.703125 \nL 17.828125 18.703125 \nL 11.1875 0 \nL 0.78125 0 \nz\n\" id=\"DejaVuSans-65\"/>\n       </defs>\n       <use xlink:href=\"#DejaVuSans-65\"/>\n      </g>\n     </g>\n    </g>\n    <g id=\"xtick_2\">\n     <g id=\"line2d_2\">\n      <g>\n       <use style=\"stroke:#000000;stroke-width:0.8;\" x=\"114.494861\" xlink:href=\"#m52d5a9408b\" y=\"235.238437\"/>\n      </g>\n     </g>\n     <g id=\"text_2\">\n      <!-- B -->\n      <g transform=\"translate(111.064392 249.836875)scale(0.1 -0.1)\">\n       <defs>\n        <path d=\"M 19.671875 34.8125 \nL 19.671875 8.109375 \nL 35.5 8.109375 \nQ 43.453125 8.109375 47.28125 11.40625 \nQ 51.125 14.703125 51.125 21.484375 \nQ 51.125 28.328125 47.28125 31.5625 \nQ 43.453125 34.8125 35.5 34.8125 \nz\nM 19.671875 64.796875 \nL 19.671875 42.828125 \nL 34.28125 42.828125 \nQ 41.5 42.828125 45.03125 45.53125 \nQ 48.578125 48.25 48.578125 53.8125 \nQ 48.578125 59.328125 45.03125 62.0625 \nQ 41.5 64.796875 34.28125 64.796875 \nz\nM 9.8125 72.90625 \nL 35.015625 72.90625 \nQ 46.296875 72.90625 52.390625 68.21875 \nQ 58.5 63.53125 58.5 54.890625 \nQ 58.5 48.1875 55.375 44.234375 \nQ 52.25 40.28125 46.1875 39.3125 \nQ 53.46875 37.75 57.5 32.78125 \nQ 61.53125 27.828125 61.53125 20.40625 \nQ 61.53125 10.640625 54.890625 5.3125 \nQ 48.25 0 35.984375 0 \nL 9.8125 0 \nz\n\" id=\"DejaVuSans-66\"/>\n       </defs>\n       <use xlink:href=\"#DejaVuSans-66\"/>\n      </g>\n     </g>\n    </g>\n    <g id=\"xtick_3\">\n     <g id=\"line2d_3\">\n      <g>\n       <use style=\"stroke:#000000;stroke-width:0.8;\" x=\"169.833704\" xlink:href=\"#m52d5a9408b\" y=\"235.238437\"/>\n      </g>\n     </g>\n     <g id=\"text_3\">\n      <!-- C1 -->\n      <g transform=\"translate(163.161047 249.836875)scale(0.1 -0.1)\">\n       <defs>\n        <path d=\"M 64.40625 67.28125 \nL 64.40625 56.890625 \nQ 59.421875 61.53125 53.78125 63.8125 \nQ 48.140625 66.109375 41.796875 66.109375 \nQ 29.296875 66.109375 22.65625 58.46875 \nQ 16.015625 50.828125 16.015625 36.375 \nQ 16.015625 21.96875 22.65625 14.328125 \nQ 29.296875 6.6875 41.796875 6.6875 \nQ 48.140625 6.6875 53.78125 8.984375 \nQ 59.421875 11.28125 64.40625 15.921875 \nL 64.40625 5.609375 \nQ 59.234375 2.09375 53.4375 0.328125 \nQ 47.65625 -1.421875 41.21875 -1.421875 \nQ 24.65625 -1.421875 15.125 8.703125 \nQ 5.609375 18.84375 5.609375 36.375 \nQ 5.609375 53.953125 15.125 64.078125 \nQ 24.65625 74.21875 41.21875 74.21875 \nQ 47.75 74.21875 53.53125 72.484375 \nQ 59.328125 70.75 64.40625 67.28125 \nz\n\" id=\"DejaVuSans-67\"/>\n        <path d=\"M 12.40625 8.296875 \nL 28.515625 8.296875 \nL 28.515625 63.921875 \nL 10.984375 60.40625 \nL 10.984375 69.390625 \nL 28.421875 72.90625 \nL 38.28125 72.90625 \nL 38.28125 8.296875 \nL 54.390625 8.296875 \nL 54.390625 0 \nL 12.40625 0 \nz\n\" id=\"DejaVuSans-49\"/>\n       </defs>\n       <use xlink:href=\"#DejaVuSans-67\"/>\n       <use x=\"69.824219\" xlink:href=\"#DejaVuSans-49\"/>\n      </g>\n     </g>\n    </g>\n    <g id=\"xtick_4\">\n     <g id=\"line2d_4\">\n      <g>\n       <use style=\"stroke:#000000;stroke-width:0.8;\" x=\"225.172546\" xlink:href=\"#m52d5a9408b\" y=\"235.238437\"/>\n      </g>\n     </g>\n     <g id=\"text_4\">\n      <!-- C2 -->\n      <g transform=\"translate(218.49989 249.836875)scale(0.1 -0.1)\">\n       <defs>\n        <path d=\"M 19.1875 8.296875 \nL 53.609375 8.296875 \nL 53.609375 0 \nL 7.328125 0 \nL 7.328125 8.296875 \nQ 12.9375 14.109375 22.625 23.890625 \nQ 32.328125 33.6875 34.8125 36.53125 \nQ 39.546875 41.84375 41.421875 45.53125 \nQ 43.3125 49.21875 43.3125 52.78125 \nQ 43.3125 58.59375 39.234375 62.25 \nQ 35.15625 65.921875 28.609375 65.921875 \nQ 23.96875 65.921875 18.8125 64.3125 \nQ 13.671875 62.703125 7.8125 59.421875 \nL 7.8125 69.390625 \nQ 13.765625 71.78125 18.9375 73 \nQ 24.125 74.21875 28.421875 74.21875 \nQ 39.75 74.21875 46.484375 68.546875 \nQ 53.21875 62.890625 53.21875 53.421875 \nQ 53.21875 48.921875 51.53125 44.890625 \nQ 49.859375 40.875 45.40625 35.40625 \nQ 44.1875 33.984375 37.640625 27.21875 \nQ 31.109375 20.453125 19.1875 8.296875 \nz\n\" id=\"DejaVuSans-50\"/>\n       </defs>\n       <use xlink:href=\"#DejaVuSans-67\"/>\n       <use x=\"69.824219\" xlink:href=\"#DejaVuSans-50\"/>\n      </g>\n     </g>\n    </g>\n    <g id=\"xtick_5\">\n     <g id=\"line2d_5\">\n      <g>\n       <use style=\"stroke:#000000;stroke-width:0.8;\" x=\"280.511389\" xlink:href=\"#m52d5a9408b\" y=\"235.238437\"/>\n      </g>\n     </g>\n     <g id=\"text_5\">\n      <!-- C3 -->\n      <g transform=\"translate(273.838733 249.836875)scale(0.1 -0.1)\">\n       <defs>\n        <path d=\"M 40.578125 39.3125 \nQ 47.65625 37.796875 51.625 33 \nQ 55.609375 28.21875 55.609375 21.1875 \nQ 55.609375 10.40625 48.1875 4.484375 \nQ 40.765625 -1.421875 27.09375 -1.421875 \nQ 22.515625 -1.421875 17.65625 -0.515625 \nQ 12.796875 0.390625 7.625 2.203125 \nL 7.625 11.71875 \nQ 11.71875 9.328125 16.59375 8.109375 \nQ 21.484375 6.890625 26.8125 6.890625 \nQ 36.078125 6.890625 40.9375 10.546875 \nQ 45.796875 14.203125 45.796875 21.1875 \nQ 45.796875 27.640625 41.28125 31.265625 \nQ 36.765625 34.90625 28.71875 34.90625 \nL 20.21875 34.90625 \nL 20.21875 43.015625 \nL 29.109375 43.015625 \nQ 36.375 43.015625 40.234375 45.921875 \nQ 44.09375 48.828125 44.09375 54.296875 \nQ 44.09375 59.90625 40.109375 62.90625 \nQ 36.140625 65.921875 28.71875 65.921875 \nQ 24.65625 65.921875 20.015625 65.03125 \nQ 15.375 64.15625 9.8125 62.3125 \nL 9.8125 71.09375 \nQ 15.4375 72.65625 20.34375 73.4375 \nQ 25.25 74.21875 29.59375 74.21875 \nQ 40.828125 74.21875 47.359375 69.109375 \nQ 53.90625 64.015625 53.90625 55.328125 \nQ 53.90625 49.265625 50.4375 45.09375 \nQ 46.96875 40.921875 40.578125 39.3125 \nz\n\" id=\"DejaVuSans-51\"/>\n       </defs>\n       <use xlink:href=\"#DejaVuSans-67\"/>\n       <use x=\"69.824219\" xlink:href=\"#DejaVuSans-51\"/>\n      </g>\n     </g>\n    </g>\n    <g id=\"xtick_6\">\n     <g id=\"line2d_6\">\n      <g>\n       <use style=\"stroke:#000000;stroke-width:0.8;\" x=\"335.850232\" xlink:href=\"#m52d5a9408b\" y=\"235.238437\"/>\n      </g>\n     </g>\n     <g id=\"text_6\">\n      <!-- C4 -->\n      <g transform=\"translate(329.177576 249.836875)scale(0.1 -0.1)\">\n       <defs>\n        <path d=\"M 37.796875 64.3125 \nL 12.890625 25.390625 \nL 37.796875 25.390625 \nz\nM 35.203125 72.90625 \nL 47.609375 72.90625 \nL 47.609375 25.390625 \nL 58.015625 25.390625 \nL 58.015625 17.1875 \nL 47.609375 17.1875 \nL 47.609375 0 \nL 37.796875 0 \nL 37.796875 17.1875 \nL 4.890625 17.1875 \nL 4.890625 26.703125 \nz\n\" id=\"DejaVuSans-52\"/>\n       </defs>\n       <use xlink:href=\"#DejaVuSans-67\"/>\n       <use x=\"69.824219\" xlink:href=\"#DejaVuSans-52\"/>\n      </g>\n     </g>\n    </g>\n   </g>\n   <g id=\"matplotlib.axis_2\">\n    <g id=\"ytick_1\">\n     <g id=\"line2d_7\">\n      <defs>\n       <path d=\"M 0 0 \nL -3.5 0 \n\" id=\"m570fc4e443\" style=\"stroke:#000000;stroke-width:0.8;\"/>\n      </defs>\n      <g>\n       <use style=\"stroke:#000000;stroke-width:0.8;\" x=\"30.103125\" xlink:href=\"#m570fc4e443\" y=\"235.238437\"/>\n      </g>\n     </g>\n     <g id=\"text_7\">\n      <!-- 0.0 -->\n      <g transform=\"translate(7.2 239.037656)scale(0.1 -0.1)\">\n       <defs>\n        <path d=\"M 31.78125 66.40625 \nQ 24.171875 66.40625 20.328125 58.90625 \nQ 16.5 51.421875 16.5 36.375 \nQ 16.5 21.390625 20.328125 13.890625 \nQ 24.171875 6.390625 31.78125 6.390625 \nQ 39.453125 6.390625 43.28125 13.890625 \nQ 47.125 21.390625 47.125 36.375 \nQ 47.125 51.421875 43.28125 58.90625 \nQ 39.453125 66.40625 31.78125 66.40625 \nz\nM 31.78125 74.21875 \nQ 44.046875 74.21875 50.515625 64.515625 \nQ 56.984375 54.828125 56.984375 36.375 \nQ 56.984375 17.96875 50.515625 8.265625 \nQ 44.046875 -1.421875 31.78125 -1.421875 \nQ 19.53125 -1.421875 13.0625 8.265625 \nQ 6.59375 17.96875 6.59375 36.375 \nQ 6.59375 54.828125 13.0625 64.515625 \nQ 19.53125 74.21875 31.78125 74.21875 \nz\n\" id=\"DejaVuSans-48\"/>\n        <path d=\"M 10.6875 12.40625 \nL 21 12.40625 \nL 21 0 \nL 10.6875 0 \nz\n\" id=\"DejaVuSans-46\"/>\n       </defs>\n       <use xlink:href=\"#DejaVuSans-48\"/>\n       <use x=\"63.623047\" xlink:href=\"#DejaVuSans-46\"/>\n       <use x=\"95.410156\" xlink:href=\"#DejaVuSans-48\"/>\n      </g>\n     </g>\n    </g>\n    <g id=\"ytick_2\">\n     <g id=\"line2d_8\">\n      <g>\n       <use style=\"stroke:#000000;stroke-width:0.8;\" x=\"30.103125\" xlink:href=\"#m570fc4e443\" y=\"206.121811\"/>\n      </g>\n     </g>\n     <g id=\"text_8\">\n      <!-- 0.5 -->\n      <g transform=\"translate(7.2 209.92103)scale(0.1 -0.1)\">\n       <defs>\n        <path d=\"M 10.796875 72.90625 \nL 49.515625 72.90625 \nL 49.515625 64.59375 \nL 19.828125 64.59375 \nL 19.828125 46.734375 \nQ 21.96875 47.46875 24.109375 47.828125 \nQ 26.265625 48.1875 28.421875 48.1875 \nQ 40.625 48.1875 47.75 41.5 \nQ 54.890625 34.8125 54.890625 23.390625 \nQ 54.890625 11.625 47.5625 5.09375 \nQ 40.234375 -1.421875 26.90625 -1.421875 \nQ 22.3125 -1.421875 17.546875 -0.640625 \nQ 12.796875 0.140625 7.71875 1.703125 \nL 7.71875 11.625 \nQ 12.109375 9.234375 16.796875 8.0625 \nQ 21.484375 6.890625 26.703125 6.890625 \nQ 35.15625 6.890625 40.078125 11.328125 \nQ 45.015625 15.765625 45.015625 23.390625 \nQ 45.015625 31 40.078125 35.4375 \nQ 35.15625 39.890625 26.703125 39.890625 \nQ 22.75 39.890625 18.8125 39.015625 \nQ 14.890625 38.140625 10.796875 36.28125 \nz\n\" id=\"DejaVuSans-53\"/>\n       </defs>\n       <use xlink:href=\"#DejaVuSans-48\"/>\n       <use x=\"63.623047\" xlink:href=\"#DejaVuSans-46\"/>\n       <use x=\"95.410156\" xlink:href=\"#DejaVuSans-53\"/>\n      </g>\n     </g>\n    </g>\n    <g id=\"ytick_3\">\n     <g id=\"line2d_9\">\n      <g>\n       <use style=\"stroke:#000000;stroke-width:0.8;\" x=\"30.103125\" xlink:href=\"#m570fc4e443\" y=\"177.005185\"/>\n      </g>\n     </g>\n     <g id=\"text_9\">\n      <!-- 1.0 -->\n      <g transform=\"translate(7.2 180.804404)scale(0.1 -0.1)\">\n       <use xlink:href=\"#DejaVuSans-49\"/>\n       <use x=\"63.623047\" xlink:href=\"#DejaVuSans-46\"/>\n       <use x=\"95.410156\" xlink:href=\"#DejaVuSans-48\"/>\n      </g>\n     </g>\n    </g>\n    <g id=\"ytick_4\">\n     <g id=\"line2d_10\">\n      <g>\n       <use style=\"stroke:#000000;stroke-width:0.8;\" x=\"30.103125\" xlink:href=\"#m570fc4e443\" y=\"147.888559\"/>\n      </g>\n     </g>\n     <g id=\"text_10\">\n      <!-- 1.5 -->\n      <g transform=\"translate(7.2 151.687778)scale(0.1 -0.1)\">\n       <use xlink:href=\"#DejaVuSans-49\"/>\n       <use x=\"63.623047\" xlink:href=\"#DejaVuSans-46\"/>\n       <use x=\"95.410156\" xlink:href=\"#DejaVuSans-53\"/>\n      </g>\n     </g>\n    </g>\n    <g id=\"ytick_5\">\n     <g id=\"line2d_11\">\n      <g>\n       <use style=\"stroke:#000000;stroke-width:0.8;\" x=\"30.103125\" xlink:href=\"#m570fc4e443\" y=\"118.771933\"/>\n      </g>\n     </g>\n     <g id=\"text_11\">\n      <!-- 2.0 -->\n      <g transform=\"translate(7.2 122.571151)scale(0.1 -0.1)\">\n       <use xlink:href=\"#DejaVuSans-50\"/>\n       <use x=\"63.623047\" xlink:href=\"#DejaVuSans-46\"/>\n       <use x=\"95.410156\" xlink:href=\"#DejaVuSans-48\"/>\n      </g>\n     </g>\n    </g>\n    <g id=\"ytick_6\">\n     <g id=\"line2d_12\">\n      <g>\n       <use style=\"stroke:#000000;stroke-width:0.8;\" x=\"30.103125\" xlink:href=\"#m570fc4e443\" y=\"89.655307\"/>\n      </g>\n     </g>\n     <g id=\"text_12\">\n      <!-- 2.5 -->\n      <g transform=\"translate(7.2 93.454525)scale(0.1 -0.1)\">\n       <use xlink:href=\"#DejaVuSans-50\"/>\n       <use x=\"63.623047\" xlink:href=\"#DejaVuSans-46\"/>\n       <use x=\"95.410156\" xlink:href=\"#DejaVuSans-53\"/>\n      </g>\n     </g>\n    </g>\n    <g id=\"ytick_7\">\n     <g id=\"line2d_13\">\n      <g>\n       <use style=\"stroke:#000000;stroke-width:0.8;\" x=\"30.103125\" xlink:href=\"#m570fc4e443\" y=\"60.53868\"/>\n      </g>\n     </g>\n     <g id=\"text_13\">\n      <!-- 3.0 -->\n      <g transform=\"translate(7.2 64.337899)scale(0.1 -0.1)\">\n       <use xlink:href=\"#DejaVuSans-51\"/>\n       <use x=\"63.623047\" xlink:href=\"#DejaVuSans-46\"/>\n       <use x=\"95.410156\" xlink:href=\"#DejaVuSans-48\"/>\n      </g>\n     </g>\n    </g>\n    <g id=\"ytick_8\">\n     <g id=\"line2d_14\">\n      <g>\n       <use style=\"stroke:#000000;stroke-width:0.8;\" x=\"30.103125\" xlink:href=\"#m570fc4e443\" y=\"31.422054\"/>\n      </g>\n     </g>\n     <g id=\"text_14\">\n      <!-- 3.5 -->\n      <g transform=\"translate(7.2 35.221273)scale(0.1 -0.1)\">\n       <use xlink:href=\"#DejaVuSans-51\"/>\n       <use x=\"63.623047\" xlink:href=\"#DejaVuSans-46\"/>\n       <use x=\"95.410156\" xlink:href=\"#DejaVuSans-53\"/>\n      </g>\n     </g>\n    </g>\n    <g id=\"text_15\">\n     <!-- 1e7 -->\n     <g transform=\"translate(30.103125 14.798437)scale(0.1 -0.1)\">\n      <defs>\n       <path d=\"M 56.203125 29.59375 \nL 56.203125 25.203125 \nL 14.890625 25.203125 \nQ 15.484375 15.921875 20.484375 11.0625 \nQ 25.484375 6.203125 34.421875 6.203125 \nQ 39.59375 6.203125 44.453125 7.46875 \nQ 49.3125 8.734375 54.109375 11.28125 \nL 54.109375 2.78125 \nQ 49.265625 0.734375 44.1875 -0.34375 \nQ 39.109375 -1.421875 33.890625 -1.421875 \nQ 20.796875 -1.421875 13.15625 6.1875 \nQ 5.515625 13.8125 5.515625 26.8125 \nQ 5.515625 40.234375 12.765625 48.109375 \nQ 20.015625 56 32.328125 56 \nQ 43.359375 56 49.78125 48.890625 \nQ 56.203125 41.796875 56.203125 29.59375 \nz\nM 47.21875 32.234375 \nQ 47.125 39.59375 43.09375 43.984375 \nQ 39.0625 48.390625 32.421875 48.390625 \nQ 24.90625 48.390625 20.390625 44.140625 \nQ 15.875 39.890625 15.1875 32.171875 \nz\n\" id=\"DejaVuSans-101\"/>\n       <path d=\"M 8.203125 72.90625 \nL 55.078125 72.90625 \nL 55.078125 68.703125 \nL 28.609375 0 \nL 18.3125 0 \nL 43.21875 64.59375 \nL 8.203125 64.59375 \nz\n\" id=\"DejaVuSans-55\"/>\n      </defs>\n      <use xlink:href=\"#DejaVuSans-49\"/>\n      <use x=\"63.623047\" xlink:href=\"#DejaVuSans-101\"/>\n      <use x=\"125.146484\" xlink:href=\"#DejaVuSans-55\"/>\n     </g>\n    </g>\n   </g>\n   <g id=\"patch_9\">\n    <path d=\"M 30.103125 235.238437 \nL 30.103125 17.798437 \n\" style=\"fill:none;stroke:#000000;stroke-linecap:square;stroke-linejoin:miter;stroke-width:0.8;\"/>\n   </g>\n   <g id=\"patch_10\">\n    <path d=\"M 364.903125 235.238437 \nL 364.903125 17.798437 \n\" style=\"fill:none;stroke:#000000;stroke-linecap:square;stroke-linejoin:miter;stroke-width:0.8;\"/>\n   </g>\n   <g id=\"patch_11\">\n    <path d=\"M 30.103125 235.238437 \nL 364.903125 235.238437 \n\" style=\"fill:none;stroke:#000000;stroke-linecap:square;stroke-linejoin:miter;stroke-width:0.8;\"/>\n   </g>\n   <g id=\"patch_12\">\n    <path d=\"M 30.103125 17.798437 \nL 364.903125 17.798437 \n\" style=\"fill:none;stroke:#000000;stroke-linecap:square;stroke-linejoin:miter;stroke-width:0.8;\"/>\n   </g>\n  </g>\n </g>\n <defs>\n  <clipPath id=\"p1ef4ac5ccc\">\n   <rect height=\"217.44\" width=\"334.8\" x=\"30.103125\" y=\"17.798437\"/>\n  </clipPath>\n </defs>\n</svg>\n",
      "image/png": "[encoded data removed]"
     },
     "metadata": {
      "needs_background": "light"
     }
    }
   ],
   "source": [
    "morosidad_brad = pd.pivot_table(pagos_brad,index=['BUCKET'],values=['PAGO'],aggfunc=np.sum)\n",
    "morosidad_brad = pd.DataFrame(morosidad_brad.to_records())\n",
    "\n",
    "plt.bar(morosidad_brad['BUCKET'],morosidad_brad['PAGO'],color='pink',width=0.5)\n",
    "plt.show()"
   ]
  },
  {
   "cell_type": "code",
   "execution_count": 110,
   "metadata": {},
   "outputs": [],
   "source": [
    "pagos_brad['AÑO-MES'] = pagos_brad['YEAR'].map(str)+'-'+pagos_brad['MONTH'].map(str)"
   ]
  },
  {
   "cell_type": "code",
   "execution_count": 128,
   "metadata": {},
   "outputs": [
    {
     "output_type": "display_data",
     "data": {
      "text/plain": "<Figure size 432x288 with 1 Axes>",
      "image/svg+xml": "<?xml version=\"1.0\" encoding=\"utf-8\" standalone=\"no\"?>\n<!DOCTYPE svg PUBLIC \"-//W3C//DTD SVG 1.1//EN\"\n  \"http://www.w3.org/Graphics/SVG/1.1/DTD/svg11.dtd\">\n<!-- Created with matplotlib (https://matplotlib.org/) -->\n<svg height=\"291.22125pt\" version=\"1.1\" viewBox=\"0 0 362.5625 291.22125\" width=\"362.5625pt\" xmlns=\"http://www.w3.org/2000/svg\" xmlns:xlink=\"http://www.w3.org/1999/xlink\">\n <metadata>\n  <rdf:RDF xmlns:cc=\"http://creativecommons.org/ns#\" xmlns:dc=\"http://purl.org/dc/elements/1.1/\" xmlns:rdf=\"http://www.w3.org/1999/02/22-rdf-syntax-ns#\">\n   <cc:Work>\n    <dc:type rdf:resource=\"http://purl.org/dc/dcmitype/StillImage\"/>\n    <dc:date>2021-01-14T15:10:21.428972</dc:date>\n    <dc:format>image/svg+xml</dc:format>\n    <dc:creator>\n     <cc:Agent>\n      <dc:title>Matplotlib v3.3.3, https://matplotlib.org/</dc:title>\n     </cc:Agent>\n    </dc:creator>\n   </cc:Work>\n  </rdf:RDF>\n </metadata>\n <defs>\n  <style type=\"text/css\">*{stroke-linecap:butt;stroke-linejoin:round;}</style>\n </defs>\n <g id=\"figure_1\">\n  <g id=\"patch_1\">\n   <path d=\"M 0 291.22125 \nL 362.5625 291.22125 \nL 362.5625 0 \nL 0 0 \nz\n\" style=\"fill:none;\"/>\n  </g>\n  <g id=\"axes_1\">\n   <g id=\"patch_2\">\n    <path d=\"M 20.5625 235.238438 \nL 355.3625 235.238438 \nL 355.3625 17.798437 \nL 20.5625 17.798437 \nz\n\" style=\"fill:#ffffff;\"/>\n   </g>\n   <g id=\"patch_3\">\n    <path clip-path=\"url(#pae43d16437)\" d=\"M 35.780682 235.238438 \nL 39.733456 235.238438 \nL 39.733456 130.77456 \nL 35.780682 130.77456 \nz\n\" style=\"fill:#1f77b4;\"/>\n   </g>\n   <g id=\"patch_4\">\n    <path clip-path=\"url(#pae43d16437)\" d=\"M 43.686231 235.238438 \nL 47.639005 235.238438 \nL 47.639005 124.949962 \nL 43.686231 124.949962 \nz\n\" style=\"fill:#1f77b4;\"/>\n   </g>\n   <g id=\"patch_5\">\n    <path clip-path=\"url(#pae43d16437)\" d=\"M 51.59178 235.238438 \nL 55.544554 235.238438 \nL 55.544554 65.362979 \nL 51.59178 65.362979 \nz\n\" style=\"fill:#1f77b4;\"/>\n   </g>\n   <g id=\"patch_6\">\n    <path clip-path=\"url(#pae43d16437)\" d=\"M 59.497329 235.238438 \nL 63.450103 235.238438 \nL 63.450103 108.761662 \nL 59.497329 108.761662 \nz\n\" style=\"fill:#1f77b4;\"/>\n   </g>\n   <g id=\"patch_7\">\n    <path clip-path=\"url(#pae43d16437)\" d=\"M 67.402878 235.238438 \nL 71.355652 235.238438 \nL 71.355652 125.233096 \nL 67.402878 125.233096 \nz\n\" style=\"fill:#1f77b4;\"/>\n   </g>\n   <g id=\"patch_8\">\n    <path clip-path=\"url(#pae43d16437)\" d=\"M 75.308427 235.238438 \nL 79.261201 235.238438 \nL 79.261201 109.841927 \nL 75.308427 109.841927 \nz\n\" style=\"fill:#1f77b4;\"/>\n   </g>\n   <g id=\"patch_9\">\n    <path clip-path=\"url(#pae43d16437)\" d=\"M 83.213976 235.238438 \nL 87.16675 235.238438 \nL 87.16675 126.164017 \nL 83.213976 126.164017 \nz\n\" style=\"fill:#1f77b4;\"/>\n   </g>\n   <g id=\"patch_10\">\n    <path clip-path=\"url(#pae43d16437)\" d=\"M 91.119525 235.238438 \nL 95.072299 235.238438 \nL 95.072299 72.206342 \nL 91.119525 72.206342 \nz\n\" style=\"fill:#1f77b4;\"/>\n   </g>\n   <g id=\"patch_11\">\n    <path clip-path=\"url(#pae43d16437)\" d=\"M 99.025074 235.238438 \nL 102.977848 235.238438 \nL 102.977848 93.414656 \nL 99.025074 93.414656 \nz\n\" style=\"fill:#1f77b4;\"/>\n   </g>\n   <g id=\"patch_12\">\n    <path clip-path=\"url(#pae43d16437)\" d=\"M 106.930623 235.238438 \nL 110.883397 235.238438 \nL 110.883397 98.835075 \nL 106.930623 98.835075 \nz\n\" style=\"fill:#1f77b4;\"/>\n   </g>\n   <g id=\"patch_13\">\n    <path clip-path=\"url(#pae43d16437)\" d=\"M 114.836172 235.238438 \nL 118.788946 235.238438 \nL 118.788946 74.192648 \nL 114.836172 74.192648 \nz\n\" style=\"fill:#1f77b4;\"/>\n   </g>\n   <g id=\"patch_14\">\n    <path clip-path=\"url(#pae43d16437)\" d=\"M 122.741721 235.238438 \nL 126.694495 235.238438 \nL 126.694495 91.688012 \nL 122.741721 91.688012 \nz\n\" style=\"fill:#1f77b4;\"/>\n   </g>\n   <g id=\"patch_15\">\n    <path clip-path=\"url(#pae43d16437)\" d=\"M 130.64727 235.238438 \nL 134.600044 235.238438 \nL 134.600044 108.273357 \nL 130.64727 108.273357 \nz\n\" style=\"fill:#1f77b4;\"/>\n   </g>\n   <g id=\"patch_16\">\n    <path clip-path=\"url(#pae43d16437)\" d=\"M 138.552819 235.238438 \nL 142.505593 235.238438 \nL 142.505593 89.324055 \nL 138.552819 89.324055 \nz\n\" style=\"fill:#1f77b4;\"/>\n   </g>\n   <g id=\"patch_17\">\n    <path clip-path=\"url(#pae43d16437)\" d=\"M 146.458368 235.238438 \nL 150.411142 235.238438 \nL 150.411142 67.563539 \nL 146.458368 67.563539 \nz\n\" style=\"fill:#1f77b4;\"/>\n   </g>\n   <g id=\"patch_18\">\n    <path clip-path=\"url(#pae43d16437)\" d=\"M 154.363917 235.238438 \nL 158.316691 235.238438 \nL 158.316691 95.240193 \nL 154.363917 95.240193 \nz\n\" style=\"fill:#1f77b4;\"/>\n   </g>\n   <g id=\"patch_19\">\n    <path clip-path=\"url(#pae43d16437)\" d=\"M 162.269466 235.238438 \nL 166.22224 235.238438 \nL 166.22224 113.030952 \nL 162.269466 113.030952 \nz\n\" style=\"fill:#1f77b4;\"/>\n   </g>\n   <g id=\"patch_20\">\n    <path clip-path=\"url(#pae43d16437)\" d=\"M 170.175015 235.238438 \nL 174.127789 235.238438 \nL 174.127789 74.219181 \nL 170.175015 74.219181 \nz\n\" style=\"fill:#1f77b4;\"/>\n   </g>\n   <g id=\"patch_21\">\n    <path clip-path=\"url(#pae43d16437)\" d=\"M 178.080564 235.238438 \nL 182.033338 235.238438 \nL 182.033338 119.641364 \nL 178.080564 119.641364 \nz\n\" style=\"fill:#1f77b4;\"/>\n   </g>\n   <g id=\"patch_22\">\n    <path clip-path=\"url(#pae43d16437)\" d=\"M 185.986113 235.238438 \nL 189.938887 235.238438 \nL 189.938887 78.722567 \nL 185.986113 78.722567 \nz\n\" style=\"fill:#1f77b4;\"/>\n   </g>\n   <g id=\"patch_23\">\n    <path clip-path=\"url(#pae43d16437)\" d=\"M 193.891662 235.238438 \nL 197.844436 235.238438 \nL 197.844436 104.45176 \nL 193.891662 104.45176 \nz\n\" style=\"fill:#1f77b4;\"/>\n   </g>\n   <g id=\"patch_24\">\n    <path clip-path=\"url(#pae43d16437)\" d=\"M 201.797211 235.238438 \nL 205.749985 235.238438 \nL 205.749985 80.350247 \nL 201.797211 80.350247 \nz\n\" style=\"fill:#1f77b4;\"/>\n   </g>\n   <g id=\"patch_25\">\n    <path clip-path=\"url(#pae43d16437)\" d=\"M 209.70276 235.238438 \nL 213.655534 235.238438 \nL 213.655534 75.775627 \nL 209.70276 75.775627 \nz\n\" style=\"fill:#1f77b4;\"/>\n   </g>\n   <g id=\"patch_26\">\n    <path clip-path=\"url(#pae43d16437)\" d=\"M 217.608309 235.238438 \nL 221.561083 235.238438 \nL 221.561083 88.457601 \nL 217.608309 88.457601 \nz\n\" style=\"fill:#1f77b4;\"/>\n   </g>\n   <g id=\"patch_27\">\n    <path clip-path=\"url(#pae43d16437)\" d=\"M 225.513858 235.238438 \nL 229.466632 235.238438 \nL 229.466632 93.016371 \nL 225.513858 93.016371 \nz\n\" style=\"fill:#1f77b4;\"/>\n   </g>\n   <g id=\"patch_28\">\n    <path clip-path=\"url(#pae43d16437)\" d=\"M 233.419407 235.238438 \nL 237.372181 235.238438 \nL 237.372181 91.190569 \nL 233.419407 91.190569 \nz\n\" style=\"fill:#1f77b4;\"/>\n   </g>\n   <g id=\"patch_29\">\n    <path clip-path=\"url(#pae43d16437)\" d=\"M 241.324956 235.238438 \nL 245.27773 235.238438 \nL 245.27773 60.963763 \nL 241.324956 60.963763 \nz\n\" style=\"fill:#1f77b4;\"/>\n   </g>\n   <g id=\"patch_30\">\n    <path clip-path=\"url(#pae43d16437)\" d=\"M 249.230505 235.238438 \nL 253.183279 235.238438 \nL 253.183279 97.873903 \nL 249.230505 97.873903 \nz\n\" style=\"fill:#1f77b4;\"/>\n   </g>\n   <g id=\"patch_31\">\n    <path clip-path=\"url(#pae43d16437)\" d=\"M 257.136054 235.238438 \nL 261.088828 235.238438 \nL 261.088828 124.774541 \nL 257.136054 124.774541 \nz\n\" style=\"fill:#1f77b4;\"/>\n   </g>\n   <g id=\"patch_32\">\n    <path clip-path=\"url(#pae43d16437)\" d=\"M 265.041603 235.238438 \nL 268.994377 235.238438 \nL 268.994377 128.988553 \nL 265.041603 128.988553 \nz\n\" style=\"fill:#1f77b4;\"/>\n   </g>\n   <g id=\"patch_33\">\n    <path clip-path=\"url(#pae43d16437)\" d=\"M 272.947152 235.238438 \nL 276.899926 235.238438 \nL 276.899926 176.089485 \nL 272.947152 176.089485 \nz\n\" style=\"fill:#1f77b4;\"/>\n   </g>\n   <g id=\"patch_34\">\n    <path clip-path=\"url(#pae43d16437)\" d=\"M 280.852701 235.238438 \nL 284.805475 235.238438 \nL 284.805475 165.06861 \nL 280.852701 165.06861 \nz\n\" style=\"fill:#1f77b4;\"/>\n   </g>\n   <g id=\"patch_35\">\n    <path clip-path=\"url(#pae43d16437)\" d=\"M 288.75825 235.238438 \nL 292.711024 235.238438 \nL 292.711024 111.854439 \nL 288.75825 111.854439 \nz\n\" style=\"fill:#1f77b4;\"/>\n   </g>\n   <g id=\"patch_36\">\n    <path clip-path=\"url(#pae43d16437)\" d=\"M 296.663799 235.238438 \nL 300.616573 235.238438 \nL 300.616573 43.105468 \nL 296.663799 43.105468 \nz\n\" style=\"fill:#1f77b4;\"/>\n   </g>\n   <g id=\"patch_37\">\n    <path clip-path=\"url(#pae43d16437)\" d=\"M 304.569348 235.238438 \nL 308.522122 235.238438 \nL 308.522122 28.152723 \nL 304.569348 28.152723 \nz\n\" style=\"fill:#1f77b4;\"/>\n   </g>\n   <g id=\"patch_38\">\n    <path clip-path=\"url(#pae43d16437)\" d=\"M 312.474897 235.238438 \nL 316.427671 235.238438 \nL 316.427671 38.530433 \nL 312.474897 38.530433 \nz\n\" style=\"fill:#1f77b4;\"/>\n   </g>\n   <g id=\"patch_39\">\n    <path clip-path=\"url(#pae43d16437)\" d=\"M 320.380446 235.238438 \nL 324.33322 235.238438 \nL 324.33322 106.129452 \nL 320.380446 106.129452 \nz\n\" style=\"fill:#1f77b4;\"/>\n   </g>\n   <g id=\"patch_40\">\n    <path clip-path=\"url(#pae43d16437)\" d=\"M 328.285995 235.238438 \nL 332.238769 235.238438 \nL 332.238769 106.833809 \nL 328.285995 106.833809 \nz\n\" style=\"fill:#1f77b4;\"/>\n   </g>\n   <g id=\"patch_41\">\n    <path clip-path=\"url(#pae43d16437)\" d=\"M 336.191544 235.238438 \nL 340.144318 235.238438 \nL 340.144318 123.670985 \nL 336.191544 123.670985 \nz\n\" style=\"fill:#1f77b4;\"/>\n   </g>\n   <g id=\"matplotlib.axis_1\">\n    <g id=\"xtick_1\">\n     <g id=\"line2d_1\">\n      <defs>\n       <path d=\"M 0 0 \nL 0 3.5 \n\" id=\"mc5c7b3715e\" style=\"stroke:#000000;stroke-width:0.8;\"/>\n      </defs>\n      <g>\n       <use style=\"stroke:#000000;stroke-width:0.8;\" x=\"37.757069\" xlink:href=\"#mc5c7b3715e\" y=\"235.238438\"/>\n      </g>\n     </g>\n     <g id=\"text_1\">\n      <!-- 2017-10 -->\n      <g transform=\"translate(40.516444 284.02125)rotate(-90)scale(0.1 -0.1)\">\n       <defs>\n        <path d=\"M 19.1875 8.296875 \nL 53.609375 8.296875 \nL 53.609375 0 \nL 7.328125 0 \nL 7.328125 8.296875 \nQ 12.9375 14.109375 22.625 23.890625 \nQ 32.328125 33.6875 34.8125 36.53125 \nQ 39.546875 41.84375 41.421875 45.53125 \nQ 43.3125 49.21875 43.3125 52.78125 \nQ 43.3125 58.59375 39.234375 62.25 \nQ 35.15625 65.921875 28.609375 65.921875 \nQ 23.96875 65.921875 18.8125 64.3125 \nQ 13.671875 62.703125 7.8125 59.421875 \nL 7.8125 69.390625 \nQ 13.765625 71.78125 18.9375 73 \nQ 24.125 74.21875 28.421875 74.21875 \nQ 39.75 74.21875 46.484375 68.546875 \nQ 53.21875 62.890625 53.21875 53.421875 \nQ 53.21875 48.921875 51.53125 44.890625 \nQ 49.859375 40.875 45.40625 35.40625 \nQ 44.1875 33.984375 37.640625 27.21875 \nQ 31.109375 20.453125 19.1875 8.296875 \nz\n\" id=\"DejaVuSans-50\"/>\n        <path d=\"M 31.78125 66.40625 \nQ 24.171875 66.40625 20.328125 58.90625 \nQ 16.5 51.421875 16.5 36.375 \nQ 16.5 21.390625 20.328125 13.890625 \nQ 24.171875 6.390625 31.78125 6.390625 \nQ 39.453125 6.390625 43.28125 13.890625 \nQ 47.125 21.390625 47.125 36.375 \nQ 47.125 51.421875 43.28125 58.90625 \nQ 39.453125 66.40625 31.78125 66.40625 \nz\nM 31.78125 74.21875 \nQ 44.046875 74.21875 50.515625 64.515625 \nQ 56.984375 54.828125 56.984375 36.375 \nQ 56.984375 17.96875 50.515625 8.265625 \nQ 44.046875 -1.421875 31.78125 -1.421875 \nQ 19.53125 -1.421875 13.0625 8.265625 \nQ 6.59375 17.96875 6.59375 36.375 \nQ 6.59375 54.828125 13.0625 64.515625 \nQ 19.53125 74.21875 31.78125 74.21875 \nz\n\" id=\"DejaVuSans-48\"/>\n        <path d=\"M 12.40625 8.296875 \nL 28.515625 8.296875 \nL 28.515625 63.921875 \nL 10.984375 60.40625 \nL 10.984375 69.390625 \nL 28.421875 72.90625 \nL 38.28125 72.90625 \nL 38.28125 8.296875 \nL 54.390625 8.296875 \nL 54.390625 0 \nL 12.40625 0 \nz\n\" id=\"DejaVuSans-49\"/>\n        <path d=\"M 8.203125 72.90625 \nL 55.078125 72.90625 \nL 55.078125 68.703125 \nL 28.609375 0 \nL 18.3125 0 \nL 43.21875 64.59375 \nL 8.203125 64.59375 \nz\n\" id=\"DejaVuSans-55\"/>\n        <path d=\"M 4.890625 31.390625 \nL 31.203125 31.390625 \nL 31.203125 23.390625 \nL 4.890625 23.390625 \nz\n\" id=\"DejaVuSans-45\"/>\n       </defs>\n       <use xlink:href=\"#DejaVuSans-50\"/>\n       <use x=\"63.623047\" xlink:href=\"#DejaVuSans-48\"/>\n       <use x=\"127.246094\" xlink:href=\"#DejaVuSans-49\"/>\n       <use x=\"190.869141\" xlink:href=\"#DejaVuSans-55\"/>\n       <use x=\"254.492188\" xlink:href=\"#DejaVuSans-45\"/>\n       <use x=\"290.576172\" xlink:href=\"#DejaVuSans-49\"/>\n       <use x=\"354.199219\" xlink:href=\"#DejaVuSans-48\"/>\n      </g>\n     </g>\n    </g>\n    <g id=\"xtick_2\">\n     <g id=\"line2d_2\">\n      <g>\n       <use style=\"stroke:#000000;stroke-width:0.8;\" x=\"45.662618\" xlink:href=\"#mc5c7b3715e\" y=\"235.238438\"/>\n      </g>\n     </g>\n     <g id=\"text_2\">\n      <!-- 2017-11 -->\n      <g transform=\"translate(48.421993 284.02125)rotate(-90)scale(0.1 -0.1)\">\n       <use xlink:href=\"#DejaVuSans-50\"/>\n       <use x=\"63.623047\" xlink:href=\"#DejaVuSans-48\"/>\n       <use x=\"127.246094\" xlink:href=\"#DejaVuSans-49\"/>\n       <use x=\"190.869141\" xlink:href=\"#DejaVuSans-55\"/>\n       <use x=\"254.492188\" xlink:href=\"#DejaVuSans-45\"/>\n       <use x=\"290.576172\" xlink:href=\"#DejaVuSans-49\"/>\n       <use x=\"354.199219\" xlink:href=\"#DejaVuSans-49\"/>\n      </g>\n     </g>\n    </g>\n    <g id=\"xtick_3\">\n     <g id=\"line2d_3\">\n      <g>\n       <use style=\"stroke:#000000;stroke-width:0.8;\" x=\"53.568167\" xlink:href=\"#mc5c7b3715e\" y=\"235.238438\"/>\n      </g>\n     </g>\n     <g id=\"text_3\">\n      <!-- 2017-12 -->\n      <g transform=\"translate(56.327542 284.02125)rotate(-90)scale(0.1 -0.1)\">\n       <use xlink:href=\"#DejaVuSans-50\"/>\n       <use x=\"63.623047\" xlink:href=\"#DejaVuSans-48\"/>\n       <use x=\"127.246094\" xlink:href=\"#DejaVuSans-49\"/>\n       <use x=\"190.869141\" xlink:href=\"#DejaVuSans-55\"/>\n       <use x=\"254.492188\" xlink:href=\"#DejaVuSans-45\"/>\n       <use x=\"290.576172\" xlink:href=\"#DejaVuSans-49\"/>\n       <use x=\"354.199219\" xlink:href=\"#DejaVuSans-50\"/>\n      </g>\n     </g>\n    </g>\n    <g id=\"xtick_4\">\n     <g id=\"line2d_4\">\n      <g>\n       <use style=\"stroke:#000000;stroke-width:0.8;\" x=\"61.473716\" xlink:href=\"#mc5c7b3715e\" y=\"235.238438\"/>\n      </g>\n     </g>\n     <g id=\"text_4\">\n      <!-- 2018-1 -->\n      <g transform=\"translate(64.233091 277.65875)rotate(-90)scale(0.1 -0.1)\">\n       <defs>\n        <path d=\"M 31.78125 34.625 \nQ 24.75 34.625 20.71875 30.859375 \nQ 16.703125 27.09375 16.703125 20.515625 \nQ 16.703125 13.921875 20.71875 10.15625 \nQ 24.75 6.390625 31.78125 6.390625 \nQ 38.8125 6.390625 42.859375 10.171875 \nQ 46.921875 13.96875 46.921875 20.515625 \nQ 46.921875 27.09375 42.890625 30.859375 \nQ 38.875 34.625 31.78125 34.625 \nz\nM 21.921875 38.8125 \nQ 15.578125 40.375 12.03125 44.71875 \nQ 8.5 49.078125 8.5 55.328125 \nQ 8.5 64.0625 14.71875 69.140625 \nQ 20.953125 74.21875 31.78125 74.21875 \nQ 42.671875 74.21875 48.875 69.140625 \nQ 55.078125 64.0625 55.078125 55.328125 \nQ 55.078125 49.078125 51.53125 44.71875 \nQ 48 40.375 41.703125 38.8125 \nQ 48.828125 37.15625 52.796875 32.3125 \nQ 56.78125 27.484375 56.78125 20.515625 \nQ 56.78125 9.90625 50.3125 4.234375 \nQ 43.84375 -1.421875 31.78125 -1.421875 \nQ 19.734375 -1.421875 13.25 4.234375 \nQ 6.78125 9.90625 6.78125 20.515625 \nQ 6.78125 27.484375 10.78125 32.3125 \nQ 14.796875 37.15625 21.921875 38.8125 \nz\nM 18.3125 54.390625 \nQ 18.3125 48.734375 21.84375 45.5625 \nQ 25.390625 42.390625 31.78125 42.390625 \nQ 38.140625 42.390625 41.71875 45.5625 \nQ 45.3125 48.734375 45.3125 54.390625 \nQ 45.3125 60.0625 41.71875 63.234375 \nQ 38.140625 66.40625 31.78125 66.40625 \nQ 25.390625 66.40625 21.84375 63.234375 \nQ 18.3125 60.0625 18.3125 54.390625 \nz\n\" id=\"DejaVuSans-56\"/>\n       </defs>\n       <use xlink:href=\"#DejaVuSans-50\"/>\n       <use x=\"63.623047\" xlink:href=\"#DejaVuSans-48\"/>\n       <use x=\"127.246094\" xlink:href=\"#DejaVuSans-49\"/>\n       <use x=\"190.869141\" xlink:href=\"#DejaVuSans-56\"/>\n       <use x=\"254.492188\" xlink:href=\"#DejaVuSans-45\"/>\n       <use x=\"290.576172\" xlink:href=\"#DejaVuSans-49\"/>\n      </g>\n     </g>\n    </g>\n    <g id=\"xtick_5\">\n     <g id=\"line2d_5\">\n      <g>\n       <use style=\"stroke:#000000;stroke-width:0.8;\" x=\"69.379265\" xlink:href=\"#mc5c7b3715e\" y=\"235.238438\"/>\n      </g>\n     </g>\n     <g id=\"text_5\">\n      <!-- 2018-2 -->\n      <g transform=\"translate(72.13864 277.65875)rotate(-90)scale(0.1 -0.1)\">\n       <use xlink:href=\"#DejaVuSans-50\"/>\n       <use x=\"63.623047\" xlink:href=\"#DejaVuSans-48\"/>\n       <use x=\"127.246094\" xlink:href=\"#DejaVuSans-49\"/>\n       <use x=\"190.869141\" xlink:href=\"#DejaVuSans-56\"/>\n       <use x=\"254.492188\" xlink:href=\"#DejaVuSans-45\"/>\n       <use x=\"290.576172\" xlink:href=\"#DejaVuSans-50\"/>\n      </g>\n     </g>\n    </g>\n    <g id=\"xtick_6\">\n     <g id=\"line2d_6\">\n      <g>\n       <use style=\"stroke:#000000;stroke-width:0.8;\" x=\"77.284814\" xlink:href=\"#mc5c7b3715e\" y=\"235.238438\"/>\n      </g>\n     </g>\n     <g id=\"text_6\">\n      <!-- 2018-3 -->\n      <g transform=\"translate(80.044189 277.65875)rotate(-90)scale(0.1 -0.1)\">\n       <defs>\n        <path d=\"M 40.578125 39.3125 \nQ 47.65625 37.796875 51.625 33 \nQ 55.609375 28.21875 55.609375 21.1875 \nQ 55.609375 10.40625 48.1875 4.484375 \nQ 40.765625 -1.421875 27.09375 -1.421875 \nQ 22.515625 -1.421875 17.65625 -0.515625 \nQ 12.796875 0.390625 7.625 2.203125 \nL 7.625 11.71875 \nQ 11.71875 9.328125 16.59375 8.109375 \nQ 21.484375 6.890625 26.8125 6.890625 \nQ 36.078125 6.890625 40.9375 10.546875 \nQ 45.796875 14.203125 45.796875 21.1875 \nQ 45.796875 27.640625 41.28125 31.265625 \nQ 36.765625 34.90625 28.71875 34.90625 \nL 20.21875 34.90625 \nL 20.21875 43.015625 \nL 29.109375 43.015625 \nQ 36.375 43.015625 40.234375 45.921875 \nQ 44.09375 48.828125 44.09375 54.296875 \nQ 44.09375 59.90625 40.109375 62.90625 \nQ 36.140625 65.921875 28.71875 65.921875 \nQ 24.65625 65.921875 20.015625 65.03125 \nQ 15.375 64.15625 9.8125 62.3125 \nL 9.8125 71.09375 \nQ 15.4375 72.65625 20.34375 73.4375 \nQ 25.25 74.21875 29.59375 74.21875 \nQ 40.828125 74.21875 47.359375 69.109375 \nQ 53.90625 64.015625 53.90625 55.328125 \nQ 53.90625 49.265625 50.4375 45.09375 \nQ 46.96875 40.921875 40.578125 39.3125 \nz\n\" id=\"DejaVuSans-51\"/>\n       </defs>\n       <use xlink:href=\"#DejaVuSans-50\"/>\n       <use x=\"63.623047\" xlink:href=\"#DejaVuSans-48\"/>\n       <use x=\"127.246094\" xlink:href=\"#DejaVuSans-49\"/>\n       <use x=\"190.869141\" xlink:href=\"#DejaVuSans-56\"/>\n       <use x=\"254.492188\" xlink:href=\"#DejaVuSans-45\"/>\n       <use x=\"290.576172\" xlink:href=\"#DejaVuSans-51\"/>\n      </g>\n     </g>\n    </g>\n    <g id=\"xtick_7\">\n     <g id=\"line2d_7\">\n      <g>\n       <use style=\"stroke:#000000;stroke-width:0.8;\" x=\"85.190363\" xlink:href=\"#mc5c7b3715e\" y=\"235.238438\"/>\n      </g>\n     </g>\n     <g id=\"text_7\">\n      <!-- 2018-4 -->\n      <g transform=\"translate(87.949738 277.65875)rotate(-90)scale(0.1 -0.1)\">\n       <defs>\n        <path d=\"M 37.796875 64.3125 \nL 12.890625 25.390625 \nL 37.796875 25.390625 \nz\nM 35.203125 72.90625 \nL 47.609375 72.90625 \nL 47.609375 25.390625 \nL 58.015625 25.390625 \nL 58.015625 17.1875 \nL 47.609375 17.1875 \nL 47.609375 0 \nL 37.796875 0 \nL 37.796875 17.1875 \nL 4.890625 17.1875 \nL 4.890625 26.703125 \nz\n\" id=\"DejaVuSans-52\"/>\n       </defs>\n       <use xlink:href=\"#DejaVuSans-50\"/>\n       <use x=\"63.623047\" xlink:href=\"#DejaVuSans-48\"/>\n       <use x=\"127.246094\" xlink:href=\"#DejaVuSans-49\"/>\n       <use x=\"190.869141\" xlink:href=\"#DejaVuSans-56\"/>\n       <use x=\"254.492188\" xlink:href=\"#DejaVuSans-45\"/>\n       <use x=\"290.576172\" xlink:href=\"#DejaVuSans-52\"/>\n      </g>\n     </g>\n    </g>\n    <g id=\"xtick_8\">\n     <g id=\"line2d_8\">\n      <g>\n       <use style=\"stroke:#000000;stroke-width:0.8;\" x=\"93.095912\" xlink:href=\"#mc5c7b3715e\" y=\"235.238438\"/>\n      </g>\n     </g>\n     <g id=\"text_8\">\n      <!-- 2018-5 -->\n      <g transform=\"translate(95.855287 277.65875)rotate(-90)scale(0.1 -0.1)\">\n       <defs>\n        <path d=\"M 10.796875 72.90625 \nL 49.515625 72.90625 \nL 49.515625 64.59375 \nL 19.828125 64.59375 \nL 19.828125 46.734375 \nQ 21.96875 47.46875 24.109375 47.828125 \nQ 26.265625 48.1875 28.421875 48.1875 \nQ 40.625 48.1875 47.75 41.5 \nQ 54.890625 34.8125 54.890625 23.390625 \nQ 54.890625 11.625 47.5625 5.09375 \nQ 40.234375 -1.421875 26.90625 -1.421875 \nQ 22.3125 -1.421875 17.546875 -0.640625 \nQ 12.796875 0.140625 7.71875 1.703125 \nL 7.71875 11.625 \nQ 12.109375 9.234375 16.796875 8.0625 \nQ 21.484375 6.890625 26.703125 6.890625 \nQ 35.15625 6.890625 40.078125 11.328125 \nQ 45.015625 15.765625 45.015625 23.390625 \nQ 45.015625 31 40.078125 35.4375 \nQ 35.15625 39.890625 26.703125 39.890625 \nQ 22.75 39.890625 18.8125 39.015625 \nQ 14.890625 38.140625 10.796875 36.28125 \nz\n\" id=\"DejaVuSans-53\"/>\n       </defs>\n       <use xlink:href=\"#DejaVuSans-50\"/>\n       <use x=\"63.623047\" xlink:href=\"#DejaVuSans-48\"/>\n       <use x=\"127.246094\" xlink:href=\"#DejaVuSans-49\"/>\n       <use x=\"190.869141\" xlink:href=\"#DejaVuSans-56\"/>\n       <use x=\"254.492188\" xlink:href=\"#DejaVuSans-45\"/>\n       <use x=\"290.576172\" xlink:href=\"#DejaVuSans-53\"/>\n      </g>\n     </g>\n    </g>\n    <g id=\"xtick_9\">\n     <g id=\"line2d_9\">\n      <g>\n       <use style=\"stroke:#000000;stroke-width:0.8;\" x=\"101.001461\" xlink:href=\"#mc5c7b3715e\" y=\"235.238438\"/>\n      </g>\n     </g>\n     <g id=\"text_9\">\n      <!-- 2018-6 -->\n      <g transform=\"translate(103.760836 277.65875)rotate(-90)scale(0.1 -0.1)\">\n       <defs>\n        <path d=\"M 33.015625 40.375 \nQ 26.375 40.375 22.484375 35.828125 \nQ 18.609375 31.296875 18.609375 23.390625 \nQ 18.609375 15.53125 22.484375 10.953125 \nQ 26.375 6.390625 33.015625 6.390625 \nQ 39.65625 6.390625 43.53125 10.953125 \nQ 47.40625 15.53125 47.40625 23.390625 \nQ 47.40625 31.296875 43.53125 35.828125 \nQ 39.65625 40.375 33.015625 40.375 \nz\nM 52.59375 71.296875 \nL 52.59375 62.3125 \nQ 48.875 64.0625 45.09375 64.984375 \nQ 41.3125 65.921875 37.59375 65.921875 \nQ 27.828125 65.921875 22.671875 59.328125 \nQ 17.53125 52.734375 16.796875 39.40625 \nQ 19.671875 43.65625 24.015625 45.921875 \nQ 28.375 48.1875 33.59375 48.1875 \nQ 44.578125 48.1875 50.953125 41.515625 \nQ 57.328125 34.859375 57.328125 23.390625 \nQ 57.328125 12.15625 50.6875 5.359375 \nQ 44.046875 -1.421875 33.015625 -1.421875 \nQ 20.359375 -1.421875 13.671875 8.265625 \nQ 6.984375 17.96875 6.984375 36.375 \nQ 6.984375 53.65625 15.1875 63.9375 \nQ 23.390625 74.21875 37.203125 74.21875 \nQ 40.921875 74.21875 44.703125 73.484375 \nQ 48.484375 72.75 52.59375 71.296875 \nz\n\" id=\"DejaVuSans-54\"/>\n       </defs>\n       <use xlink:href=\"#DejaVuSans-50\"/>\n       <use x=\"63.623047\" xlink:href=\"#DejaVuSans-48\"/>\n       <use x=\"127.246094\" xlink:href=\"#DejaVuSans-49\"/>\n       <use x=\"190.869141\" xlink:href=\"#DejaVuSans-56\"/>\n       <use x=\"254.492188\" xlink:href=\"#DejaVuSans-45\"/>\n       <use x=\"290.576172\" xlink:href=\"#DejaVuSans-54\"/>\n      </g>\n     </g>\n    </g>\n    <g id=\"xtick_10\">\n     <g id=\"line2d_10\">\n      <g>\n       <use style=\"stroke:#000000;stroke-width:0.8;\" x=\"108.90701\" xlink:href=\"#mc5c7b3715e\" y=\"235.238438\"/>\n      </g>\n     </g>\n     <g id=\"text_10\">\n      <!-- 2018-7 -->\n      <g transform=\"translate(111.666385 277.65875)rotate(-90)scale(0.1 -0.1)\">\n       <use xlink:href=\"#DejaVuSans-50\"/>\n       <use x=\"63.623047\" xlink:href=\"#DejaVuSans-48\"/>\n       <use x=\"127.246094\" xlink:href=\"#DejaVuSans-49\"/>\n       <use x=\"190.869141\" xlink:href=\"#DejaVuSans-56\"/>\n       <use x=\"254.492188\" xlink:href=\"#DejaVuSans-45\"/>\n       <use x=\"290.576172\" xlink:href=\"#DejaVuSans-55\"/>\n      </g>\n     </g>\n    </g>\n    <g id=\"xtick_11\">\n     <g id=\"line2d_11\">\n      <g>\n       <use style=\"stroke:#000000;stroke-width:0.8;\" x=\"116.812559\" xlink:href=\"#mc5c7b3715e\" y=\"235.238438\"/>\n      </g>\n     </g>\n     <g id=\"text_11\">\n      <!-- 2018-8 -->\n      <g transform=\"translate(119.571934 277.65875)rotate(-90)scale(0.1 -0.1)\">\n       <use xlink:href=\"#DejaVuSans-50\"/>\n       <use x=\"63.623047\" xlink:href=\"#DejaVuSans-48\"/>\n       <use x=\"127.246094\" xlink:href=\"#DejaVuSans-49\"/>\n       <use x=\"190.869141\" xlink:href=\"#DejaVuSans-56\"/>\n       <use x=\"254.492188\" xlink:href=\"#DejaVuSans-45\"/>\n       <use x=\"290.576172\" xlink:href=\"#DejaVuSans-56\"/>\n      </g>\n     </g>\n    </g>\n    <g id=\"xtick_12\">\n     <g id=\"line2d_12\">\n      <g>\n       <use style=\"stroke:#000000;stroke-width:0.8;\" x=\"124.718108\" xlink:href=\"#mc5c7b3715e\" y=\"235.238438\"/>\n      </g>\n     </g>\n     <g id=\"text_12\">\n      <!-- 2018-9 -->\n      <g transform=\"translate(127.477483 277.65875)rotate(-90)scale(0.1 -0.1)\">\n       <defs>\n        <path d=\"M 10.984375 1.515625 \nL 10.984375 10.5 \nQ 14.703125 8.734375 18.5 7.8125 \nQ 22.3125 6.890625 25.984375 6.890625 \nQ 35.75 6.890625 40.890625 13.453125 \nQ 46.046875 20.015625 46.78125 33.40625 \nQ 43.953125 29.203125 39.59375 26.953125 \nQ 35.25 24.703125 29.984375 24.703125 \nQ 19.046875 24.703125 12.671875 31.3125 \nQ 6.296875 37.9375 6.296875 49.421875 \nQ 6.296875 60.640625 12.9375 67.421875 \nQ 19.578125 74.21875 30.609375 74.21875 \nQ 43.265625 74.21875 49.921875 64.515625 \nQ 56.59375 54.828125 56.59375 36.375 \nQ 56.59375 19.140625 48.40625 8.859375 \nQ 40.234375 -1.421875 26.421875 -1.421875 \nQ 22.703125 -1.421875 18.890625 -0.6875 \nQ 15.09375 0.046875 10.984375 1.515625 \nz\nM 30.609375 32.421875 \nQ 37.25 32.421875 41.125 36.953125 \nQ 45.015625 41.5 45.015625 49.421875 \nQ 45.015625 57.28125 41.125 61.84375 \nQ 37.25 66.40625 30.609375 66.40625 \nQ 23.96875 66.40625 20.09375 61.84375 \nQ 16.21875 57.28125 16.21875 49.421875 \nQ 16.21875 41.5 20.09375 36.953125 \nQ 23.96875 32.421875 30.609375 32.421875 \nz\n\" id=\"DejaVuSans-57\"/>\n       </defs>\n       <use xlink:href=\"#DejaVuSans-50\"/>\n       <use x=\"63.623047\" xlink:href=\"#DejaVuSans-48\"/>\n       <use x=\"127.246094\" xlink:href=\"#DejaVuSans-49\"/>\n       <use x=\"190.869141\" xlink:href=\"#DejaVuSans-56\"/>\n       <use x=\"254.492188\" xlink:href=\"#DejaVuSans-45\"/>\n       <use x=\"290.576172\" xlink:href=\"#DejaVuSans-57\"/>\n      </g>\n     </g>\n    </g>\n    <g id=\"xtick_13\">\n     <g id=\"line2d_13\">\n      <g>\n       <use style=\"stroke:#000000;stroke-width:0.8;\" x=\"132.623657\" xlink:href=\"#mc5c7b3715e\" y=\"235.238438\"/>\n      </g>\n     </g>\n     <g id=\"text_13\">\n      <!-- 2018-10 -->\n      <g transform=\"translate(135.383032 284.02125)rotate(-90)scale(0.1 -0.1)\">\n       <use xlink:href=\"#DejaVuSans-50\"/>\n       <use x=\"63.623047\" xlink:href=\"#DejaVuSans-48\"/>\n       <use x=\"127.246094\" xlink:href=\"#DejaVuSans-49\"/>\n       <use x=\"190.869141\" xlink:href=\"#DejaVuSans-56\"/>\n       <use x=\"254.492188\" xlink:href=\"#DejaVuSans-45\"/>\n       <use x=\"290.576172\" xlink:href=\"#DejaVuSans-49\"/>\n       <use x=\"354.199219\" xlink:href=\"#DejaVuSans-48\"/>\n      </g>\n     </g>\n    </g>\n    <g id=\"xtick_14\">\n     <g id=\"line2d_14\">\n      <g>\n       <use style=\"stroke:#000000;stroke-width:0.8;\" x=\"140.529206\" xlink:href=\"#mc5c7b3715e\" y=\"235.238438\"/>\n      </g>\n     </g>\n     <g id=\"text_14\">\n      <!-- 2018-11 -->\n      <g transform=\"translate(143.288581 284.02125)rotate(-90)scale(0.1 -0.1)\">\n       <use xlink:href=\"#DejaVuSans-50\"/>\n       <use x=\"63.623047\" xlink:href=\"#DejaVuSans-48\"/>\n       <use x=\"127.246094\" xlink:href=\"#DejaVuSans-49\"/>\n       <use x=\"190.869141\" xlink:href=\"#DejaVuSans-56\"/>\n       <use x=\"254.492188\" xlink:href=\"#DejaVuSans-45\"/>\n       <use x=\"290.576172\" xlink:href=\"#DejaVuSans-49\"/>\n       <use x=\"354.199219\" xlink:href=\"#DejaVuSans-49\"/>\n      </g>\n     </g>\n    </g>\n    <g id=\"xtick_15\">\n     <g id=\"line2d_15\">\n      <g>\n       <use style=\"stroke:#000000;stroke-width:0.8;\" x=\"148.434755\" xlink:href=\"#mc5c7b3715e\" y=\"235.238438\"/>\n      </g>\n     </g>\n     <g id=\"text_15\">\n      <!-- 2018-12 -->\n      <g transform=\"translate(151.19413 284.02125)rotate(-90)scale(0.1 -0.1)\">\n       <use xlink:href=\"#DejaVuSans-50\"/>\n       <use x=\"63.623047\" xlink:href=\"#DejaVuSans-48\"/>\n       <use x=\"127.246094\" xlink:href=\"#DejaVuSans-49\"/>\n       <use x=\"190.869141\" xlink:href=\"#DejaVuSans-56\"/>\n       <use x=\"254.492188\" xlink:href=\"#DejaVuSans-45\"/>\n       <use x=\"290.576172\" xlink:href=\"#DejaVuSans-49\"/>\n       <use x=\"354.199219\" xlink:href=\"#DejaVuSans-50\"/>\n      </g>\n     </g>\n    </g>\n    <g id=\"xtick_16\">\n     <g id=\"line2d_16\">\n      <g>\n       <use style=\"stroke:#000000;stroke-width:0.8;\" x=\"156.340304\" xlink:href=\"#mc5c7b3715e\" y=\"235.238438\"/>\n      </g>\n     </g>\n     <g id=\"text_16\">\n      <!-- 2019-1 -->\n      <g transform=\"translate(159.099679 277.65875)rotate(-90)scale(0.1 -0.1)\">\n       <use xlink:href=\"#DejaVuSans-50\"/>\n       <use x=\"63.623047\" xlink:href=\"#DejaVuSans-48\"/>\n       <use x=\"127.246094\" xlink:href=\"#DejaVuSans-49\"/>\n       <use x=\"190.869141\" xlink:href=\"#DejaVuSans-57\"/>\n       <use x=\"254.492188\" xlink:href=\"#DejaVuSans-45\"/>\n       <use x=\"290.576172\" xlink:href=\"#DejaVuSans-49\"/>\n      </g>\n     </g>\n    </g>\n    <g id=\"xtick_17\">\n     <g id=\"line2d_17\">\n      <g>\n       <use style=\"stroke:#000000;stroke-width:0.8;\" x=\"164.245853\" xlink:href=\"#mc5c7b3715e\" y=\"235.238438\"/>\n      </g>\n     </g>\n     <g id=\"text_17\">\n      <!-- 2019-2 -->\n      <g transform=\"translate(167.005228 277.65875)rotate(-90)scale(0.1 -0.1)\">\n       <use xlink:href=\"#DejaVuSans-50\"/>\n       <use x=\"63.623047\" xlink:href=\"#DejaVuSans-48\"/>\n       <use x=\"127.246094\" xlink:href=\"#DejaVuSans-49\"/>\n       <use x=\"190.869141\" xlink:href=\"#DejaVuSans-57\"/>\n       <use x=\"254.492188\" xlink:href=\"#DejaVuSans-45\"/>\n       <use x=\"290.576172\" xlink:href=\"#DejaVuSans-50\"/>\n      </g>\n     </g>\n    </g>\n    <g id=\"xtick_18\">\n     <g id=\"line2d_18\">\n      <g>\n       <use style=\"stroke:#000000;stroke-width:0.8;\" x=\"172.151402\" xlink:href=\"#mc5c7b3715e\" y=\"235.238438\"/>\n      </g>\n     </g>\n     <g id=\"text_18\">\n      <!-- 2019-3 -->\n      <g transform=\"translate(174.910777 277.65875)rotate(-90)scale(0.1 -0.1)\">\n       <use xlink:href=\"#DejaVuSans-50\"/>\n       <use x=\"63.623047\" xlink:href=\"#DejaVuSans-48\"/>\n       <use x=\"127.246094\" xlink:href=\"#DejaVuSans-49\"/>\n       <use x=\"190.869141\" xlink:href=\"#DejaVuSans-57\"/>\n       <use x=\"254.492188\" xlink:href=\"#DejaVuSans-45\"/>\n       <use x=\"290.576172\" xlink:href=\"#DejaVuSans-51\"/>\n      </g>\n     </g>\n    </g>\n    <g id=\"xtick_19\">\n     <g id=\"line2d_19\">\n      <g>\n       <use style=\"stroke:#000000;stroke-width:0.8;\" x=\"180.056951\" xlink:href=\"#mc5c7b3715e\" y=\"235.238438\"/>\n      </g>\n     </g>\n     <g id=\"text_19\">\n      <!-- 2019-4 -->\n      <g transform=\"translate(182.816326 277.65875)rotate(-90)scale(0.1 -0.1)\">\n       <use xlink:href=\"#DejaVuSans-50\"/>\n       <use x=\"63.623047\" xlink:href=\"#DejaVuSans-48\"/>\n       <use x=\"127.246094\" xlink:href=\"#DejaVuSans-49\"/>\n       <use x=\"190.869141\" xlink:href=\"#DejaVuSans-57\"/>\n       <use x=\"254.492188\" xlink:href=\"#DejaVuSans-45\"/>\n       <use x=\"290.576172\" xlink:href=\"#DejaVuSans-52\"/>\n      </g>\n     </g>\n    </g>\n    <g id=\"xtick_20\">\n     <g id=\"line2d_20\">\n      <g>\n       <use style=\"stroke:#000000;stroke-width:0.8;\" x=\"187.9625\" xlink:href=\"#mc5c7b3715e\" y=\"235.238438\"/>\n      </g>\n     </g>\n     <g id=\"text_20\">\n      <!-- 2019-5 -->\n      <g transform=\"translate(190.721875 277.65875)rotate(-90)scale(0.1 -0.1)\">\n       <use xlink:href=\"#DejaVuSans-50\"/>\n       <use x=\"63.623047\" xlink:href=\"#DejaVuSans-48\"/>\n       <use x=\"127.246094\" xlink:href=\"#DejaVuSans-49\"/>\n       <use x=\"190.869141\" xlink:href=\"#DejaVuSans-57\"/>\n       <use x=\"254.492188\" xlink:href=\"#DejaVuSans-45\"/>\n       <use x=\"290.576172\" xlink:href=\"#DejaVuSans-53\"/>\n      </g>\n     </g>\n    </g>\n    <g id=\"xtick_21\">\n     <g id=\"line2d_21\">\n      <g>\n       <use style=\"stroke:#000000;stroke-width:0.8;\" x=\"195.868049\" xlink:href=\"#mc5c7b3715e\" y=\"235.238438\"/>\n      </g>\n     </g>\n     <g id=\"text_21\">\n      <!-- 2019-6 -->\n      <g transform=\"translate(198.627424 277.65875)rotate(-90)scale(0.1 -0.1)\">\n       <use xlink:href=\"#DejaVuSans-50\"/>\n       <use x=\"63.623047\" xlink:href=\"#DejaVuSans-48\"/>\n       <use x=\"127.246094\" xlink:href=\"#DejaVuSans-49\"/>\n       <use x=\"190.869141\" xlink:href=\"#DejaVuSans-57\"/>\n       <use x=\"254.492188\" xlink:href=\"#DejaVuSans-45\"/>\n       <use x=\"290.576172\" xlink:href=\"#DejaVuSans-54\"/>\n      </g>\n     </g>\n    </g>\n    <g id=\"xtick_22\">\n     <g id=\"line2d_22\">\n      <g>\n       <use style=\"stroke:#000000;stroke-width:0.8;\" x=\"203.773598\" xlink:href=\"#mc5c7b3715e\" y=\"235.238438\"/>\n      </g>\n     </g>\n     <g id=\"text_22\">\n      <!-- 2019-7 -->\n      <g transform=\"translate(206.532973 277.65875)rotate(-90)scale(0.1 -0.1)\">\n       <use xlink:href=\"#DejaVuSans-50\"/>\n       <use x=\"63.623047\" xlink:href=\"#DejaVuSans-48\"/>\n       <use x=\"127.246094\" xlink:href=\"#DejaVuSans-49\"/>\n       <use x=\"190.869141\" xlink:href=\"#DejaVuSans-57\"/>\n       <use x=\"254.492188\" xlink:href=\"#DejaVuSans-45\"/>\n       <use x=\"290.576172\" xlink:href=\"#DejaVuSans-55\"/>\n      </g>\n     </g>\n    </g>\n    <g id=\"xtick_23\">\n     <g id=\"line2d_23\">\n      <g>\n       <use style=\"stroke:#000000;stroke-width:0.8;\" x=\"211.679147\" xlink:href=\"#mc5c7b3715e\" y=\"235.238438\"/>\n      </g>\n     </g>\n     <g id=\"text_23\">\n      <!-- 2019-8 -->\n      <g transform=\"translate(214.438522 277.65875)rotate(-90)scale(0.1 -0.1)\">\n       <use xlink:href=\"#DejaVuSans-50\"/>\n       <use x=\"63.623047\" xlink:href=\"#DejaVuSans-48\"/>\n       <use x=\"127.246094\" xlink:href=\"#DejaVuSans-49\"/>\n       <use x=\"190.869141\" xlink:href=\"#DejaVuSans-57\"/>\n       <use x=\"254.492188\" xlink:href=\"#DejaVuSans-45\"/>\n       <use x=\"290.576172\" xlink:href=\"#DejaVuSans-56\"/>\n      </g>\n     </g>\n    </g>\n    <g id=\"xtick_24\">\n     <g id=\"line2d_24\">\n      <g>\n       <use style=\"stroke:#000000;stroke-width:0.8;\" x=\"219.584696\" xlink:href=\"#mc5c7b3715e\" y=\"235.238438\"/>\n      </g>\n     </g>\n     <g id=\"text_24\">\n      <!-- 2019-9 -->\n      <g transform=\"translate(222.344071 277.65875)rotate(-90)scale(0.1 -0.1)\">\n       <use xlink:href=\"#DejaVuSans-50\"/>\n       <use x=\"63.623047\" xlink:href=\"#DejaVuSans-48\"/>\n       <use x=\"127.246094\" xlink:href=\"#DejaVuSans-49\"/>\n       <use x=\"190.869141\" xlink:href=\"#DejaVuSans-57\"/>\n       <use x=\"254.492188\" xlink:href=\"#DejaVuSans-45\"/>\n       <use x=\"290.576172\" xlink:href=\"#DejaVuSans-57\"/>\n      </g>\n     </g>\n    </g>\n    <g id=\"xtick_25\">\n     <g id=\"line2d_25\">\n      <g>\n       <use style=\"stroke:#000000;stroke-width:0.8;\" x=\"227.490245\" xlink:href=\"#mc5c7b3715e\" y=\"235.238438\"/>\n      </g>\n     </g>\n     <g id=\"text_25\">\n      <!-- 2019-10 -->\n      <g transform=\"translate(230.24962 284.02125)rotate(-90)scale(0.1 -0.1)\">\n       <use xlink:href=\"#DejaVuSans-50\"/>\n       <use x=\"63.623047\" xlink:href=\"#DejaVuSans-48\"/>\n       <use x=\"127.246094\" xlink:href=\"#DejaVuSans-49\"/>\n       <use x=\"190.869141\" xlink:href=\"#DejaVuSans-57\"/>\n       <use x=\"254.492188\" xlink:href=\"#DejaVuSans-45\"/>\n       <use x=\"290.576172\" xlink:href=\"#DejaVuSans-49\"/>\n       <use x=\"354.199219\" xlink:href=\"#DejaVuSans-48\"/>\n      </g>\n     </g>\n    </g>\n    <g id=\"xtick_26\">\n     <g id=\"line2d_26\">\n      <g>\n       <use style=\"stroke:#000000;stroke-width:0.8;\" x=\"235.395794\" xlink:href=\"#mc5c7b3715e\" y=\"235.238438\"/>\n      </g>\n     </g>\n     <g id=\"text_26\">\n      <!-- 2019-11 -->\n      <g transform=\"translate(238.155169 284.02125)rotate(-90)scale(0.1 -0.1)\">\n       <use xlink:href=\"#DejaVuSans-50\"/>\n       <use x=\"63.623047\" xlink:href=\"#DejaVuSans-48\"/>\n       <use x=\"127.246094\" xlink:href=\"#DejaVuSans-49\"/>\n       <use x=\"190.869141\" xlink:href=\"#DejaVuSans-57\"/>\n       <use x=\"254.492188\" xlink:href=\"#DejaVuSans-45\"/>\n       <use x=\"290.576172\" xlink:href=\"#DejaVuSans-49\"/>\n       <use x=\"354.199219\" xlink:href=\"#DejaVuSans-49\"/>\n      </g>\n     </g>\n    </g>\n    <g id=\"xtick_27\">\n     <g id=\"line2d_27\">\n      <g>\n       <use style=\"stroke:#000000;stroke-width:0.8;\" x=\"243.301343\" xlink:href=\"#mc5c7b3715e\" y=\"235.238438\"/>\n      </g>\n     </g>\n     <g id=\"text_27\">\n      <!-- 2019-12 -->\n      <g transform=\"translate(246.060718 284.02125)rotate(-90)scale(0.1 -0.1)\">\n       <use xlink:href=\"#DejaVuSans-50\"/>\n       <use x=\"63.623047\" xlink:href=\"#DejaVuSans-48\"/>\n       <use x=\"127.246094\" xlink:href=\"#DejaVuSans-49\"/>\n       <use x=\"190.869141\" xlink:href=\"#DejaVuSans-57\"/>\n       <use x=\"254.492188\" xlink:href=\"#DejaVuSans-45\"/>\n       <use x=\"290.576172\" xlink:href=\"#DejaVuSans-49\"/>\n       <use x=\"354.199219\" xlink:href=\"#DejaVuSans-50\"/>\n      </g>\n     </g>\n    </g>\n    <g id=\"xtick_28\">\n     <g id=\"line2d_28\">\n      <g>\n       <use style=\"stroke:#000000;stroke-width:0.8;\" x=\"251.206892\" xlink:href=\"#mc5c7b3715e\" y=\"235.238438\"/>\n      </g>\n     </g>\n     <g id=\"text_28\">\n      <!-- 2020-1 -->\n      <g transform=\"translate(253.966267 277.65875)rotate(-90)scale(0.1 -0.1)\">\n       <use xlink:href=\"#DejaVuSans-50\"/>\n       <use x=\"63.623047\" xlink:href=\"#DejaVuSans-48\"/>\n       <use x=\"127.246094\" xlink:href=\"#DejaVuSans-50\"/>\n       <use x=\"190.869141\" xlink:href=\"#DejaVuSans-48\"/>\n       <use x=\"254.492188\" xlink:href=\"#DejaVuSans-45\"/>\n       <use x=\"290.576172\" xlink:href=\"#DejaVuSans-49\"/>\n      </g>\n     </g>\n    </g>\n    <g id=\"xtick_29\">\n     <g id=\"line2d_29\">\n      <g>\n       <use style=\"stroke:#000000;stroke-width:0.8;\" x=\"259.112441\" xlink:href=\"#mc5c7b3715e\" y=\"235.238438\"/>\n      </g>\n     </g>\n     <g id=\"text_29\">\n      <!-- 2020-2 -->\n      <g transform=\"translate(261.871816 277.65875)rotate(-90)scale(0.1 -0.1)\">\n       <use xlink:href=\"#DejaVuSans-50\"/>\n       <use x=\"63.623047\" xlink:href=\"#DejaVuSans-48\"/>\n       <use x=\"127.246094\" xlink:href=\"#DejaVuSans-50\"/>\n       <use x=\"190.869141\" xlink:href=\"#DejaVuSans-48\"/>\n       <use x=\"254.492188\" xlink:href=\"#DejaVuSans-45\"/>\n       <use x=\"290.576172\" xlink:href=\"#DejaVuSans-50\"/>\n      </g>\n     </g>\n    </g>\n    <g id=\"xtick_30\">\n     <g id=\"line2d_30\">\n      <g>\n       <use style=\"stroke:#000000;stroke-width:0.8;\" x=\"267.01799\" xlink:href=\"#mc5c7b3715e\" y=\"235.238438\"/>\n      </g>\n     </g>\n     <g id=\"text_30\">\n      <!-- 2020-3 -->\n      <g transform=\"translate(269.777365 277.65875)rotate(-90)scale(0.1 -0.1)\">\n       <use xlink:href=\"#DejaVuSans-50\"/>\n       <use x=\"63.623047\" xlink:href=\"#DejaVuSans-48\"/>\n       <use x=\"127.246094\" xlink:href=\"#DejaVuSans-50\"/>\n       <use x=\"190.869141\" xlink:href=\"#DejaVuSans-48\"/>\n       <use x=\"254.492188\" xlink:href=\"#DejaVuSans-45\"/>\n       <use x=\"290.576172\" xlink:href=\"#DejaVuSans-51\"/>\n      </g>\n     </g>\n    </g>\n    <g id=\"xtick_31\">\n     <g id=\"line2d_31\">\n      <g>\n       <use style=\"stroke:#000000;stroke-width:0.8;\" x=\"274.923539\" xlink:href=\"#mc5c7b3715e\" y=\"235.238438\"/>\n      </g>\n     </g>\n     <g id=\"text_31\">\n      <!-- 2020-4 -->\n      <g transform=\"translate(277.682914 277.65875)rotate(-90)scale(0.1 -0.1)\">\n       <use xlink:href=\"#DejaVuSans-50\"/>\n       <use x=\"63.623047\" xlink:href=\"#DejaVuSans-48\"/>\n       <use x=\"127.246094\" xlink:href=\"#DejaVuSans-50\"/>\n       <use x=\"190.869141\" xlink:href=\"#DejaVuSans-48\"/>\n       <use x=\"254.492188\" xlink:href=\"#DejaVuSans-45\"/>\n       <use x=\"290.576172\" xlink:href=\"#DejaVuSans-52\"/>\n      </g>\n     </g>\n    </g>\n    <g id=\"xtick_32\">\n     <g id=\"line2d_32\">\n      <g>\n       <use style=\"stroke:#000000;stroke-width:0.8;\" x=\"282.829088\" xlink:href=\"#mc5c7b3715e\" y=\"235.238438\"/>\n      </g>\n     </g>\n     <g id=\"text_32\">\n      <!-- 2020-5 -->\n      <g transform=\"translate(285.588463 277.65875)rotate(-90)scale(0.1 -0.1)\">\n       <use xlink:href=\"#DejaVuSans-50\"/>\n       <use x=\"63.623047\" xlink:href=\"#DejaVuSans-48\"/>\n       <use x=\"127.246094\" xlink:href=\"#DejaVuSans-50\"/>\n       <use x=\"190.869141\" xlink:href=\"#DejaVuSans-48\"/>\n       <use x=\"254.492188\" xlink:href=\"#DejaVuSans-45\"/>\n       <use x=\"290.576172\" xlink:href=\"#DejaVuSans-53\"/>\n      </g>\n     </g>\n    </g>\n    <g id=\"xtick_33\">\n     <g id=\"line2d_33\">\n      <g>\n       <use style=\"stroke:#000000;stroke-width:0.8;\" x=\"290.734637\" xlink:href=\"#mc5c7b3715e\" y=\"235.238438\"/>\n      </g>\n     </g>\n     <g id=\"text_33\">\n      <!-- 2020-6 -->\n      <g transform=\"translate(293.494012 277.65875)rotate(-90)scale(0.1 -0.1)\">\n       <use xlink:href=\"#DejaVuSans-50\"/>\n       <use x=\"63.623047\" xlink:href=\"#DejaVuSans-48\"/>\n       <use x=\"127.246094\" xlink:href=\"#DejaVuSans-50\"/>\n       <use x=\"190.869141\" xlink:href=\"#DejaVuSans-48\"/>\n       <use x=\"254.492188\" xlink:href=\"#DejaVuSans-45\"/>\n       <use x=\"290.576172\" xlink:href=\"#DejaVuSans-54\"/>\n      </g>\n     </g>\n    </g>\n    <g id=\"xtick_34\">\n     <g id=\"line2d_34\">\n      <g>\n       <use style=\"stroke:#000000;stroke-width:0.8;\" x=\"298.640186\" xlink:href=\"#mc5c7b3715e\" y=\"235.238438\"/>\n      </g>\n     </g>\n     <g id=\"text_34\">\n      <!-- 2020-7 -->\n      <g transform=\"translate(301.399561 277.65875)rotate(-90)scale(0.1 -0.1)\">\n       <use xlink:href=\"#DejaVuSans-50\"/>\n       <use x=\"63.623047\" xlink:href=\"#DejaVuSans-48\"/>\n       <use x=\"127.246094\" xlink:href=\"#DejaVuSans-50\"/>\n       <use x=\"190.869141\" xlink:href=\"#DejaVuSans-48\"/>\n       <use x=\"254.492188\" xlink:href=\"#DejaVuSans-45\"/>\n       <use x=\"290.576172\" xlink:href=\"#DejaVuSans-55\"/>\n      </g>\n     </g>\n    </g>\n    <g id=\"xtick_35\">\n     <g id=\"line2d_35\">\n      <g>\n       <use style=\"stroke:#000000;stroke-width:0.8;\" x=\"306.545735\" xlink:href=\"#mc5c7b3715e\" y=\"235.238438\"/>\n      </g>\n     </g>\n     <g id=\"text_35\">\n      <!-- 2020-8 -->\n      <g transform=\"translate(309.30511 277.65875)rotate(-90)scale(0.1 -0.1)\">\n       <use xlink:href=\"#DejaVuSans-50\"/>\n       <use x=\"63.623047\" xlink:href=\"#DejaVuSans-48\"/>\n       <use x=\"127.246094\" xlink:href=\"#DejaVuSans-50\"/>\n       <use x=\"190.869141\" xlink:href=\"#DejaVuSans-48\"/>\n       <use x=\"254.492188\" xlink:href=\"#DejaVuSans-45\"/>\n       <use x=\"290.576172\" xlink:href=\"#DejaVuSans-56\"/>\n      </g>\n     </g>\n    </g>\n    <g id=\"xtick_36\">\n     <g id=\"line2d_36\">\n      <g>\n       <use style=\"stroke:#000000;stroke-width:0.8;\" x=\"314.451284\" xlink:href=\"#mc5c7b3715e\" y=\"235.238438\"/>\n      </g>\n     </g>\n     <g id=\"text_36\">\n      <!-- 2020-9 -->\n      <g transform=\"translate(317.210659 277.65875)rotate(-90)scale(0.1 -0.1)\">\n       <use xlink:href=\"#DejaVuSans-50\"/>\n       <use x=\"63.623047\" xlink:href=\"#DejaVuSans-48\"/>\n       <use x=\"127.246094\" xlink:href=\"#DejaVuSans-50\"/>\n       <use x=\"190.869141\" xlink:href=\"#DejaVuSans-48\"/>\n       <use x=\"254.492188\" xlink:href=\"#DejaVuSans-45\"/>\n       <use x=\"290.576172\" xlink:href=\"#DejaVuSans-57\"/>\n      </g>\n     </g>\n    </g>\n    <g id=\"xtick_37\">\n     <g id=\"line2d_37\">\n      <g>\n       <use style=\"stroke:#000000;stroke-width:0.8;\" x=\"322.356833\" xlink:href=\"#mc5c7b3715e\" y=\"235.238438\"/>\n      </g>\n     </g>\n     <g id=\"text_37\">\n      <!-- 2020-10 -->\n      <g transform=\"translate(325.116208 284.02125)rotate(-90)scale(0.1 -0.1)\">\n       <use xlink:href=\"#DejaVuSans-50\"/>\n       <use x=\"63.623047\" xlink:href=\"#DejaVuSans-48\"/>\n       <use x=\"127.246094\" xlink:href=\"#DejaVuSans-50\"/>\n       <use x=\"190.869141\" xlink:href=\"#DejaVuSans-48\"/>\n       <use x=\"254.492188\" xlink:href=\"#DejaVuSans-45\"/>\n       <use x=\"290.576172\" xlink:href=\"#DejaVuSans-49\"/>\n       <use x=\"354.199219\" xlink:href=\"#DejaVuSans-48\"/>\n      </g>\n     </g>\n    </g>\n    <g id=\"xtick_38\">\n     <g id=\"line2d_38\">\n      <g>\n       <use style=\"stroke:#000000;stroke-width:0.8;\" x=\"330.262382\" xlink:href=\"#mc5c7b3715e\" y=\"235.238438\"/>\n      </g>\n     </g>\n     <g id=\"text_38\">\n      <!-- 2020-11 -->\n      <g transform=\"translate(333.021757 284.02125)rotate(-90)scale(0.1 -0.1)\">\n       <use xlink:href=\"#DejaVuSans-50\"/>\n       <use x=\"63.623047\" xlink:href=\"#DejaVuSans-48\"/>\n       <use x=\"127.246094\" xlink:href=\"#DejaVuSans-50\"/>\n       <use x=\"190.869141\" xlink:href=\"#DejaVuSans-48\"/>\n       <use x=\"254.492188\" xlink:href=\"#DejaVuSans-45\"/>\n       <use x=\"290.576172\" xlink:href=\"#DejaVuSans-49\"/>\n       <use x=\"354.199219\" xlink:href=\"#DejaVuSans-49\"/>\n      </g>\n     </g>\n    </g>\n    <g id=\"xtick_39\">\n     <g id=\"line2d_39\">\n      <g>\n       <use style=\"stroke:#000000;stroke-width:0.8;\" x=\"338.167931\" xlink:href=\"#mc5c7b3715e\" y=\"235.238438\"/>\n      </g>\n     </g>\n     <g id=\"text_39\">\n      <!-- 2020-12 -->\n      <g transform=\"translate(340.927306 284.02125)rotate(-90)scale(0.1 -0.1)\">\n       <use xlink:href=\"#DejaVuSans-50\"/>\n       <use x=\"63.623047\" xlink:href=\"#DejaVuSans-48\"/>\n       <use x=\"127.246094\" xlink:href=\"#DejaVuSans-50\"/>\n       <use x=\"190.869141\" xlink:href=\"#DejaVuSans-48\"/>\n       <use x=\"254.492188\" xlink:href=\"#DejaVuSans-45\"/>\n       <use x=\"290.576172\" xlink:href=\"#DejaVuSans-49\"/>\n       <use x=\"354.199219\" xlink:href=\"#DejaVuSans-50\"/>\n      </g>\n     </g>\n    </g>\n   </g>\n   <g id=\"matplotlib.axis_2\">\n    <g id=\"ytick_1\">\n     <g id=\"line2d_40\">\n      <defs>\n       <path d=\"M 0 0 \nL -3.5 0 \n\" id=\"ma6a8e52161\" style=\"stroke:#000000;stroke-width:0.8;\"/>\n      </defs>\n      <g>\n       <use style=\"stroke:#000000;stroke-width:0.8;\" x=\"20.5625\" xlink:href=\"#ma6a8e52161\" y=\"235.238438\"/>\n      </g>\n     </g>\n     <g id=\"text_40\">\n      <!-- 0 -->\n      <g transform=\"translate(7.2 239.037656)scale(0.1 -0.1)\">\n       <use xlink:href=\"#DejaVuSans-48\"/>\n      </g>\n     </g>\n    </g>\n    <g id=\"ytick_2\">\n     <g id=\"line2d_41\">\n      <g>\n       <use style=\"stroke:#000000;stroke-width:0.8;\" x=\"20.5625\" xlink:href=\"#ma6a8e52161\" y=\"209.031631\"/>\n      </g>\n     </g>\n     <g id=\"text_41\">\n      <!-- 1 -->\n      <g transform=\"translate(7.2 212.830849)scale(0.1 -0.1)\">\n       <use xlink:href=\"#DejaVuSans-49\"/>\n      </g>\n     </g>\n    </g>\n    <g id=\"ytick_3\">\n     <g id=\"line2d_42\">\n      <g>\n       <use style=\"stroke:#000000;stroke-width:0.8;\" x=\"20.5625\" xlink:href=\"#ma6a8e52161\" y=\"182.824824\"/>\n      </g>\n     </g>\n     <g id=\"text_42\">\n      <!-- 2 -->\n      <g transform=\"translate(7.2 186.624042)scale(0.1 -0.1)\">\n       <use xlink:href=\"#DejaVuSans-50\"/>\n      </g>\n     </g>\n    </g>\n    <g id=\"ytick_4\">\n     <g id=\"line2d_43\">\n      <g>\n       <use style=\"stroke:#000000;stroke-width:0.8;\" x=\"20.5625\" xlink:href=\"#ma6a8e52161\" y=\"156.618017\"/>\n      </g>\n     </g>\n     <g id=\"text_43\">\n      <!-- 3 -->\n      <g transform=\"translate(7.2 160.417235)scale(0.1 -0.1)\">\n       <use xlink:href=\"#DejaVuSans-51\"/>\n      </g>\n     </g>\n    </g>\n    <g id=\"ytick_5\">\n     <g id=\"line2d_44\">\n      <g>\n       <use style=\"stroke:#000000;stroke-width:0.8;\" x=\"20.5625\" xlink:href=\"#ma6a8e52161\" y=\"130.41121\"/>\n      </g>\n     </g>\n     <g id=\"text_44\">\n      <!-- 4 -->\n      <g transform=\"translate(7.2 134.210428)scale(0.1 -0.1)\">\n       <use xlink:href=\"#DejaVuSans-52\"/>\n      </g>\n     </g>\n    </g>\n    <g id=\"ytick_6\">\n     <g id=\"line2d_45\">\n      <g>\n       <use style=\"stroke:#000000;stroke-width:0.8;\" x=\"20.5625\" xlink:href=\"#ma6a8e52161\" y=\"104.204403\"/>\n      </g>\n     </g>\n     <g id=\"text_45\">\n      <!-- 5 -->\n      <g transform=\"translate(7.2 108.003621)scale(0.1 -0.1)\">\n       <use xlink:href=\"#DejaVuSans-53\"/>\n      </g>\n     </g>\n    </g>\n    <g id=\"ytick_7\">\n     <g id=\"line2d_46\">\n      <g>\n       <use style=\"stroke:#000000;stroke-width:0.8;\" x=\"20.5625\" xlink:href=\"#ma6a8e52161\" y=\"77.997596\"/>\n      </g>\n     </g>\n     <g id=\"text_46\">\n      <!-- 6 -->\n      <g transform=\"translate(7.2 81.796814)scale(0.1 -0.1)\">\n       <use xlink:href=\"#DejaVuSans-54\"/>\n      </g>\n     </g>\n    </g>\n    <g id=\"ytick_8\">\n     <g id=\"line2d_47\">\n      <g>\n       <use style=\"stroke:#000000;stroke-width:0.8;\" x=\"20.5625\" xlink:href=\"#ma6a8e52161\" y=\"51.790789\"/>\n      </g>\n     </g>\n     <g id=\"text_47\">\n      <!-- 7 -->\n      <g transform=\"translate(7.2 55.590007)scale(0.1 -0.1)\">\n       <use xlink:href=\"#DejaVuSans-55\"/>\n      </g>\n     </g>\n    </g>\n    <g id=\"ytick_9\">\n     <g id=\"line2d_48\">\n      <g>\n       <use style=\"stroke:#000000;stroke-width:0.8;\" x=\"20.5625\" xlink:href=\"#ma6a8e52161\" y=\"25.583982\"/>\n      </g>\n     </g>\n     <g id=\"text_48\">\n      <!-- 8 -->\n      <g transform=\"translate(7.2 29.3832)scale(0.1 -0.1)\">\n       <use xlink:href=\"#DejaVuSans-56\"/>\n      </g>\n     </g>\n    </g>\n    <g id=\"text_49\">\n     <!-- 1e6 -->\n     <g transform=\"translate(20.5625 14.798437)scale(0.1 -0.1)\">\n      <defs>\n       <path d=\"M 56.203125 29.59375 \nL 56.203125 25.203125 \nL 14.890625 25.203125 \nQ 15.484375 15.921875 20.484375 11.0625 \nQ 25.484375 6.203125 34.421875 6.203125 \nQ 39.59375 6.203125 44.453125 7.46875 \nQ 49.3125 8.734375 54.109375 11.28125 \nL 54.109375 2.78125 \nQ 49.265625 0.734375 44.1875 -0.34375 \nQ 39.109375 -1.421875 33.890625 -1.421875 \nQ 20.796875 -1.421875 13.15625 6.1875 \nQ 5.515625 13.8125 5.515625 26.8125 \nQ 5.515625 40.234375 12.765625 48.109375 \nQ 20.015625 56 32.328125 56 \nQ 43.359375 56 49.78125 48.890625 \nQ 56.203125 41.796875 56.203125 29.59375 \nz\nM 47.21875 32.234375 \nQ 47.125 39.59375 43.09375 43.984375 \nQ 39.0625 48.390625 32.421875 48.390625 \nQ 24.90625 48.390625 20.390625 44.140625 \nQ 15.875 39.890625 15.1875 32.171875 \nz\n\" id=\"DejaVuSans-101\"/>\n      </defs>\n      <use xlink:href=\"#DejaVuSans-49\"/>\n      <use x=\"63.623047\" xlink:href=\"#DejaVuSans-101\"/>\n      <use x=\"125.146484\" xlink:href=\"#DejaVuSans-54\"/>\n     </g>\n    </g>\n   </g>\n   <g id=\"patch_42\">\n    <path d=\"M 20.5625 235.238438 \nL 20.5625 17.798437 \n\" style=\"fill:none;stroke:#000000;stroke-linecap:square;stroke-linejoin:miter;stroke-width:0.8;\"/>\n   </g>\n   <g id=\"patch_43\">\n    <path d=\"M 355.3625 235.238438 \nL 355.3625 17.798437 \n\" style=\"fill:none;stroke:#000000;stroke-linecap:square;stroke-linejoin:miter;stroke-width:0.8;\"/>\n   </g>\n   <g id=\"patch_44\">\n    <path d=\"M 20.5625 235.238438 \nL 355.3625 235.238438 \n\" style=\"fill:none;stroke:#000000;stroke-linecap:square;stroke-linejoin:miter;stroke-width:0.8;\"/>\n   </g>\n   <g id=\"patch_45\">\n    <path d=\"M 20.5625 17.798437 \nL 355.3625 17.798437 \n\" style=\"fill:none;stroke:#000000;stroke-linecap:square;stroke-linejoin:miter;stroke-width:0.8;\"/>\n   </g>\n  </g>\n </g>\n <defs>\n  <clipPath id=\"pae43d16437\">\n   <rect height=\"217.44\" width=\"334.8\" x=\"20.5625\" y=\"17.798437\"/>\n  </clipPath>\n </defs>\n</svg>\n",
      "image/png": "[encoded data removed]"
     },
     "metadata": {
      "needs_background": "light"
     }
    },
    {
     "output_type": "display_data",
     "data": {
      "text/plain": "<Figure size 1080x288 with 0 Axes>"
     },
     "metadata": {}
    }
   ],
   "source": [
    "mes_brad = pd.pivot_table(pagos_brad,index=['AÑO-MES'],values=['PAGO'],aggfunc=np.sum)\n",
    "mes_brad = pd.DataFrame(mes_brad.to_records())\n",
    "mes_brad = mes_brad.iloc[[0,1,2,3,7,8,9,10,11,12,13,14,4,5,6,15,19,20,21,22,23,24,25,26,16,17,18,27,31,32,33,34,35,36,37,38,28,29,30],:]\n",
    "\n",
    "plt.bar(mes_brad['AÑO-MES'],mes_brad['PAGO'],width=0.5)\n",
    "plt.xticks(rotation=90)\n",
    "plt.figure(figsize=(15,4))\n",
    "plt.show()"
   ]
  },
  {
   "cell_type": "code",
   "execution_count": null,
   "metadata": {},
   "outputs": [],
   "source": [
    "bins = [18,20,25,30,35,40,45,50,55,60,65,70,75.100]\n",
    "names = ['18-20','21-25','26-30','31-35','36-40','41-45','46-50','51-55','56-60','61-65','66-70','71-75','75-100']\n",
    "consolidado_pagos_brad['EDAD2'] = pd.cut(consolidado_pagos_brad['EDAD'],bins,)"
   ]
  },
  {
   "source": [
    "# Pagos Liverpool"
   ],
   "cell_type": "markdown",
   "metadata": {}
  },
  {
   "cell_type": "code",
   "execution_count": 163,
   "metadata": {},
   "outputs": [
    {
     "output_type": "execute_result",
     "data": {
      "text/plain": [
       "                Cuenta Fecha pago Fecha Posteo    monto         Descripcion  \\\n",
       "0  0004178490000277468 2020-01-02   02/01/2020    500.0    5200000000008917   \n",
       "1  0000013000020401514 2020-01-02   02/01/2020   3376.0  005200000000007275   \n",
       "2  0000033000008868151 2020-01-02   02/01/2020  14000.0  005200000000005261   \n",
       "\n",
       "  Division  Month  Year  Day  \n",
       "0       N2      1  2020    2  \n",
       "1       N2      1  2020    2  \n",
       "2       N2      1  2020    2  "
      ],
      "text/html": "<div>\n<style scoped>\n    .dataframe tbody tr th:only-of-type {\n        vertical-align: middle;\n    }\n\n    .dataframe tbody tr th {\n        vertical-align: top;\n    }\n\n    .dataframe thead th {\n        text-align: right;\n    }\n</style>\n<table border=\"1\" class=\"dataframe\">\n  <thead>\n    <tr style=\"text-align: right;\">\n      <th></th>\n      <th>Cuenta</th>\n      <th>Fecha pago</th>\n      <th>Fecha Posteo</th>\n      <th>monto</th>\n      <th>Descripcion</th>\n      <th>Division</th>\n      <th>Month</th>\n      <th>Year</th>\n      <th>Day</th>\n    </tr>\n  </thead>\n  <tbody>\n    <tr>\n      <th>0</th>\n      <td>0004178490000277468</td>\n      <td>2020-01-02</td>\n      <td>02/01/2020</td>\n      <td>500.0</td>\n      <td>5200000000008917</td>\n      <td>N2</td>\n      <td>1</td>\n      <td>2020</td>\n      <td>2</td>\n    </tr>\n    <tr>\n      <th>1</th>\n      <td>0000013000020401514</td>\n      <td>2020-01-02</td>\n      <td>02/01/2020</td>\n      <td>3376.0</td>\n      <td>005200000000007275</td>\n      <td>N2</td>\n      <td>1</td>\n      <td>2020</td>\n      <td>2</td>\n    </tr>\n    <tr>\n      <th>2</th>\n      <td>0000033000008868151</td>\n      <td>2020-01-02</td>\n      <td>02/01/2020</td>\n      <td>14000.0</td>\n      <td>005200000000005261</td>\n      <td>N2</td>\n      <td>1</td>\n      <td>2020</td>\n      <td>2</td>\n    </tr>\n  </tbody>\n</table>\n</div>"
     },
     "metadata": {},
     "execution_count": 163
    }
   ],
   "source": [
    "pagos_liver['Fecha pago'] = pd.to_datetime(pagos_liver['Fecha pago'],dayfirst=True)\n",
    "pagos_liver['Month'] = pagos_liver['Fecha pago'].dt.month\n",
    "pagos_liver['Year'] = pagos_liver['Fecha pago'].dt.year\n",
    "pagos_liver['Day'] = pagos_liver['Fecha pago'].dt.day\n",
    "pagos_liver.head(3)"
   ]
  },
  {
   "cell_type": "code",
   "execution_count": 166,
   "metadata": {},
   "outputs": [
    {
     "output_type": "execute_result",
     "data": {
      "text/plain": [
       "   DIVISION  MES  DIA   PAGO 2020\n",
       "0       COF    6   18   $5,900.00\n",
       "1       COF    7    1   $1,600.00\n",
       "2       COF    7    2  $11,600.00\n",
       "3       COF    7    6     $500.00\n",
       "4       COF    7    7   $4,591.00\n",
       "..      ...  ...  ...         ...\n",
       "95      COF   10   26   $2,868.50\n",
       "96      COF   10   27  $10,594.00\n",
       "97      COF   10   28  $33,445.77\n",
       "98      COF   10   29  $24,791.00\n",
       "99      COF   10   30  $38,741.00\n",
       "\n",
       "[100 rows x 4 columns]"
      ],
      "text/html": "<div>\n<style scoped>\n    .dataframe tbody tr th:only-of-type {\n        vertical-align: middle;\n    }\n\n    .dataframe tbody tr th {\n        vertical-align: top;\n    }\n\n    .dataframe thead th {\n        text-align: right;\n    }\n</style>\n<table border=\"1\" class=\"dataframe\">\n  <thead>\n    <tr style=\"text-align: right;\">\n      <th></th>\n      <th>DIVISION</th>\n      <th>MES</th>\n      <th>DIA</th>\n      <th>PAGO 2020</th>\n    </tr>\n  </thead>\n  <tbody>\n    <tr>\n      <th>0</th>\n      <td>COF</td>\n      <td>6</td>\n      <td>18</td>\n      <td>$5,900.00</td>\n    </tr>\n    <tr>\n      <th>1</th>\n      <td>COF</td>\n      <td>7</td>\n      <td>1</td>\n      <td>$1,600.00</td>\n    </tr>\n    <tr>\n      <th>2</th>\n      <td>COF</td>\n      <td>7</td>\n      <td>2</td>\n      <td>$11,600.00</td>\n    </tr>\n    <tr>\n      <th>3</th>\n      <td>COF</td>\n      <td>7</td>\n      <td>6</td>\n      <td>$500.00</td>\n    </tr>\n    <tr>\n      <th>4</th>\n      <td>COF</td>\n      <td>7</td>\n      <td>7</td>\n      <td>$4,591.00</td>\n    </tr>\n    <tr>\n      <th>...</th>\n      <td>...</td>\n      <td>...</td>\n      <td>...</td>\n      <td>...</td>\n    </tr>\n    <tr>\n      <th>95</th>\n      <td>COF</td>\n      <td>10</td>\n      <td>26</td>\n      <td>$2,868.50</td>\n    </tr>\n    <tr>\n      <th>96</th>\n      <td>COF</td>\n      <td>10</td>\n      <td>27</td>\n      <td>$10,594.00</td>\n    </tr>\n    <tr>\n      <th>97</th>\n      <td>COF</td>\n      <td>10</td>\n      <td>28</td>\n      <td>$33,445.77</td>\n    </tr>\n    <tr>\n      <th>98</th>\n      <td>COF</td>\n      <td>10</td>\n      <td>29</td>\n      <td>$24,791.00</td>\n    </tr>\n    <tr>\n      <th>99</th>\n      <td>COF</td>\n      <td>10</td>\n      <td>30</td>\n      <td>$38,741.00</td>\n    </tr>\n  </tbody>\n</table>\n<p>100 rows × 4 columns</p>\n</div>"
     },
     "metadata": {},
     "execution_count": 166
    }
   ],
   "source": [
    "#Para COF\n",
    "pagos_cof = pagos_liver.loc[pagos_liver['Division']=='COF']\n",
    "pivot_cof = pd.pivot_table(pagos_cof,index=['Division','Month','Day'],columns=['Year'],values=['monto'],aggfunc=['sum'])\n",
    "pivot_cof = pd.DataFrame(pivot_cof.to_records())\n",
    "pivot_cof.columns = ['DIVISION','MES','DIA','PAGO 2020']\n",
    "pivot_cof.fillna(0,inplace=True)\n",
    "#pivot_cof['PAGO 2017'] = ['${:,.2f}'.format(x) for x in pivot_cof['PAGO 2017']]\n",
    "#pivot_cof['PAGO 2018'] = ['${:,.2f}'.format(x) for x in pivot_cof['PAGO 2018']]\n",
    "#pivot_cof['PAGO 2019'] = ['${:,.2f}'.format(x) for x in pivot_cof['PAGO 2019']]\n",
    "pivot_cof['PAGO 2020'] = ['${:,.2f}'.format(x) for x in pivot_cof['PAGO 2020']]\n",
    "pivot_cof"
   ]
  },
  {
   "cell_type": "code",
   "execution_count": 170,
   "metadata": {},
   "outputs": [
    {
     "output_type": "execute_result",
     "data": {
      "text/plain": [
       "    DIVISION  MES  DIA    PAGO 2020\n",
       "0         N2    1    2   $24,796.00\n",
       "1         N2    1    3   $24,399.00\n",
       "2         N2    1    4   $11,383.00\n",
       "3         N2    1    6    $2,000.00\n",
       "4         N2    1    7   $10,283.00\n",
       "..       ...  ...  ...          ...\n",
       "287       N2   10   26   $21,513.50\n",
       "288       N2   10   27   $76,280.00\n",
       "289       N2   10   28   $61,644.00\n",
       "290       N2   10   29   $54,036.00\n",
       "291       N2   10   30  $135,036.00\n",
       "\n",
       "[292 rows x 4 columns]"
      ],
      "text/html": "<div>\n<style scoped>\n    .dataframe tbody tr th:only-of-type {\n        vertical-align: middle;\n    }\n\n    .dataframe tbody tr th {\n        vertical-align: top;\n    }\n\n    .dataframe thead th {\n        text-align: right;\n    }\n</style>\n<table border=\"1\" class=\"dataframe\">\n  <thead>\n    <tr style=\"text-align: right;\">\n      <th></th>\n      <th>DIVISION</th>\n      <th>MES</th>\n      <th>DIA</th>\n      <th>PAGO 2020</th>\n    </tr>\n  </thead>\n  <tbody>\n    <tr>\n      <th>0</th>\n      <td>N2</td>\n      <td>1</td>\n      <td>2</td>\n      <td>$24,796.00</td>\n    </tr>\n    <tr>\n      <th>1</th>\n      <td>N2</td>\n      <td>1</td>\n      <td>3</td>\n      <td>$24,399.00</td>\n    </tr>\n    <tr>\n      <th>2</th>\n      <td>N2</td>\n      <td>1</td>\n      <td>4</td>\n      <td>$11,383.00</td>\n    </tr>\n    <tr>\n      <th>3</th>\n      <td>N2</td>\n      <td>1</td>\n      <td>6</td>\n      <td>$2,000.00</td>\n    </tr>\n    <tr>\n      <th>4</th>\n      <td>N2</td>\n      <td>1</td>\n      <td>7</td>\n      <td>$10,283.00</td>\n    </tr>\n    <tr>\n      <th>...</th>\n      <td>...</td>\n      <td>...</td>\n      <td>...</td>\n      <td>...</td>\n    </tr>\n    <tr>\n      <th>287</th>\n      <td>N2</td>\n      <td>10</td>\n      <td>26</td>\n      <td>$21,513.50</td>\n    </tr>\n    <tr>\n      <th>288</th>\n      <td>N2</td>\n      <td>10</td>\n      <td>27</td>\n      <td>$76,280.00</td>\n    </tr>\n    <tr>\n      <th>289</th>\n      <td>N2</td>\n      <td>10</td>\n      <td>28</td>\n      <td>$61,644.00</td>\n    </tr>\n    <tr>\n      <th>290</th>\n      <td>N2</td>\n      <td>10</td>\n      <td>29</td>\n      <td>$54,036.00</td>\n    </tr>\n    <tr>\n      <th>291</th>\n      <td>N2</td>\n      <td>10</td>\n      <td>30</td>\n      <td>$135,036.00</td>\n    </tr>\n  </tbody>\n</table>\n<p>292 rows × 4 columns</p>\n</div>"
     },
     "metadata": {},
     "execution_count": 170
    }
   ],
   "source": [
    "#Para pren N2\n",
    "pagos_n2 = pagos_liver.loc[pagos_liver['Division']=='N2']\n",
    "pivot_n2 = pd.pivot_table(pagos_n2,index=['Division','Month','Day'],columns=['Year'],values=['monto'],aggfunc=['sum'])\n",
    "pivot_n2 = pd.DataFrame(pivot_n2.to_records())\n",
    "pivot_n2.columns = ['DIVISION','MES','DIA','PAGO 2020']\n",
    "pivot_n2.fillna(0,inplace=True)\n",
    "#pivot_n2['PAGO 2017'] = ['${:,.2f}'.format(x) for x in pivot_n2['PAGO 2017']]\n",
    "#pivot_n2['PAGO 2018'] = ['${:,.2f}'.format(x) for x in pivot_n2['PAGO 2018']]\n",
    "#pivot_n2['PAGO 2019'] = ['${:,.2f}'.format(x) for x in pivot_n2['PAGO 2019']]\n",
    "pivot_n2['PAGO 2020'] = ['${:,.2f}'.format(x) for x in pivot_n2['PAGO 2020']]\n",
    "pivot_n2"
   ]
  },
  {
   "cell_type": "code",
   "execution_count": 171,
   "metadata": {},
   "outputs": [
    {
     "output_type": "execute_result",
     "data": {
      "text/plain": [
       "    DIVISION  MES  DIA   PAGO 2019   PAGO 2020\n",
       "0       PREN    1    2       $0.00  $24,332.00\n",
       "1       PREN    1    3       $0.00  $15,616.43\n",
       "2       PREN    1    4       $0.00  $18,621.00\n",
       "3       PREN    1    5       $0.00   $5,447.00\n",
       "4       PREN    1    6       $0.00  $62,202.00\n",
       "..       ...  ...  ...         ...         ...\n",
       "303     PREN   11    8       $0.00   $5,711.00\n",
       "304     PREN   11    9       $0.00  $61,100.00\n",
       "305     PREN   11   10       $0.00   $3,000.00\n",
       "306     PREN   11   11       $0.00  $48,262.00\n",
       "307     PREN   12   31  $28,599.00       $0.00\n",
       "\n",
       "[308 rows x 5 columns]"
      ],
      "text/html": "<div>\n<style scoped>\n    .dataframe tbody tr th:only-of-type {\n        vertical-align: middle;\n    }\n\n    .dataframe tbody tr th {\n        vertical-align: top;\n    }\n\n    .dataframe thead th {\n        text-align: right;\n    }\n</style>\n<table border=\"1\" class=\"dataframe\">\n  <thead>\n    <tr style=\"text-align: right;\">\n      <th></th>\n      <th>DIVISION</th>\n      <th>MES</th>\n      <th>DIA</th>\n      <th>PAGO 2019</th>\n      <th>PAGO 2020</th>\n    </tr>\n  </thead>\n  <tbody>\n    <tr>\n      <th>0</th>\n      <td>PREN</td>\n      <td>1</td>\n      <td>2</td>\n      <td>$0.00</td>\n      <td>$24,332.00</td>\n    </tr>\n    <tr>\n      <th>1</th>\n      <td>PREN</td>\n      <td>1</td>\n      <td>3</td>\n      <td>$0.00</td>\n      <td>$15,616.43</td>\n    </tr>\n    <tr>\n      <th>2</th>\n      <td>PREN</td>\n      <td>1</td>\n      <td>4</td>\n      <td>$0.00</td>\n      <td>$18,621.00</td>\n    </tr>\n    <tr>\n      <th>3</th>\n      <td>PREN</td>\n      <td>1</td>\n      <td>5</td>\n      <td>$0.00</td>\n      <td>$5,447.00</td>\n    </tr>\n    <tr>\n      <th>4</th>\n      <td>PREN</td>\n      <td>1</td>\n      <td>6</td>\n      <td>$0.00</td>\n      <td>$62,202.00</td>\n    </tr>\n    <tr>\n      <th>...</th>\n      <td>...</td>\n      <td>...</td>\n      <td>...</td>\n      <td>...</td>\n      <td>...</td>\n    </tr>\n    <tr>\n      <th>303</th>\n      <td>PREN</td>\n      <td>11</td>\n      <td>8</td>\n      <td>$0.00</td>\n      <td>$5,711.00</td>\n    </tr>\n    <tr>\n      <th>304</th>\n      <td>PREN</td>\n      <td>11</td>\n      <td>9</td>\n      <td>$0.00</td>\n      <td>$61,100.00</td>\n    </tr>\n    <tr>\n      <th>305</th>\n      <td>PREN</td>\n      <td>11</td>\n      <td>10</td>\n      <td>$0.00</td>\n      <td>$3,000.00</td>\n    </tr>\n    <tr>\n      <th>306</th>\n      <td>PREN</td>\n      <td>11</td>\n      <td>11</td>\n      <td>$0.00</td>\n      <td>$48,262.00</td>\n    </tr>\n    <tr>\n      <th>307</th>\n      <td>PREN</td>\n      <td>12</td>\n      <td>31</td>\n      <td>$28,599.00</td>\n      <td>$0.00</td>\n    </tr>\n  </tbody>\n</table>\n<p>308 rows × 5 columns</p>\n</div>"
     },
     "metadata": {},
     "execution_count": 171
    }
   ],
   "source": [
    "#Para pren PREN\n",
    "pagos_pren = pagos_liver.loc[pagos_liver['Division']=='PREN']\n",
    "pivot_pren = pd.pivot_table(pagos_pren,index=['Division','Month','Day'],columns=['Year'],values=['monto'],aggfunc=['sum'])\n",
    "pivot_pren = pd.DataFrame(pivot_pren.to_records())\n",
    "pivot_pren.columns = ['DIVISION','MES','DIA','PAGO 2019','PAGO 2020']\n",
    "pivot_pren.fillna(0,inplace=True)\n",
    "#pivot_pren['PAGO 2017'] = ['${:,.2f}'.format(x) for x in pivot_n2['PAGO 2017']]\n",
    "#pivot_n2['PAGO 2018'] = ['${:,.2f}'.format(x) for x in pivot_n2['PAGO 2018']]\n",
    "pivot_pren['PAGO 2019'] = ['${:,.2f}'.format(x) for x in pivot_pren['PAGO 2019']]\n",
    "pivot_pren['PAGO 2020'] = ['${:,.2f}'.format(x) for x in pivot_pren['PAGO 2020']]\n",
    "pivot_pren"
   ]
  },
  {
   "cell_type": "code",
   "execution_count": 172,
   "metadata": {},
   "outputs": [
    {
     "output_type": "execute_result",
     "data": {
      "text/plain": [
       "    DIVISION  MES  DIA   PAGO 2020\n",
       "0        SUB    1    1   $1,055.00\n",
       "1        SUB    1    2  $23,304.00\n",
       "2        SUB    1    3  $13,257.00\n",
       "3        SUB    1    4   $7,843.00\n",
       "4        SUB    1    5   $6,997.00\n",
       "..       ...  ...  ...         ...\n",
       "279      SUB   10   26   $6,360.00\n",
       "280      SUB   10   27  $20,460.34\n",
       "281      SUB   10   28  $29,563.00\n",
       "282      SUB   10   29   $7,410.00\n",
       "283      SUB   10   30  $30,944.00\n",
       "\n",
       "[284 rows x 4 columns]"
      ],
      "text/html": "<div>\n<style scoped>\n    .dataframe tbody tr th:only-of-type {\n        vertical-align: middle;\n    }\n\n    .dataframe tbody tr th {\n        vertical-align: top;\n    }\n\n    .dataframe thead th {\n        text-align: right;\n    }\n</style>\n<table border=\"1\" class=\"dataframe\">\n  <thead>\n    <tr style=\"text-align: right;\">\n      <th></th>\n      <th>DIVISION</th>\n      <th>MES</th>\n      <th>DIA</th>\n      <th>PAGO 2020</th>\n    </tr>\n  </thead>\n  <tbody>\n    <tr>\n      <th>0</th>\n      <td>SUB</td>\n      <td>1</td>\n      <td>1</td>\n      <td>$1,055.00</td>\n    </tr>\n    <tr>\n      <th>1</th>\n      <td>SUB</td>\n      <td>1</td>\n      <td>2</td>\n      <td>$23,304.00</td>\n    </tr>\n    <tr>\n      <th>2</th>\n      <td>SUB</td>\n      <td>1</td>\n      <td>3</td>\n      <td>$13,257.00</td>\n    </tr>\n    <tr>\n      <th>3</th>\n      <td>SUB</td>\n      <td>1</td>\n      <td>4</td>\n      <td>$7,843.00</td>\n    </tr>\n    <tr>\n      <th>4</th>\n      <td>SUB</td>\n      <td>1</td>\n      <td>5</td>\n      <td>$6,997.00</td>\n    </tr>\n    <tr>\n      <th>...</th>\n      <td>...</td>\n      <td>...</td>\n      <td>...</td>\n      <td>...</td>\n    </tr>\n    <tr>\n      <th>279</th>\n      <td>SUB</td>\n      <td>10</td>\n      <td>26</td>\n      <td>$6,360.00</td>\n    </tr>\n    <tr>\n      <th>280</th>\n      <td>SUB</td>\n      <td>10</td>\n      <td>27</td>\n      <td>$20,460.34</td>\n    </tr>\n    <tr>\n      <th>281</th>\n      <td>SUB</td>\n      <td>10</td>\n      <td>28</td>\n      <td>$29,563.00</td>\n    </tr>\n    <tr>\n      <th>282</th>\n      <td>SUB</td>\n      <td>10</td>\n      <td>29</td>\n      <td>$7,410.00</td>\n    </tr>\n    <tr>\n      <th>283</th>\n      <td>SUB</td>\n      <td>10</td>\n      <td>30</td>\n      <td>$30,944.00</td>\n    </tr>\n  </tbody>\n</table>\n<p>284 rows × 4 columns</p>\n</div>"
     },
     "metadata": {},
     "execution_count": 172
    }
   ],
   "source": [
    "#Para pren PREN\n",
    "pagos_sub = pagos_liver.loc[pagos_liver['Division']=='SUB']\n",
    "pivot_sub = pd.pivot_table(pagos_sub,index=['Division','Month','Day'],columns=['Year'],values=['monto'],aggfunc=['sum'])\n",
    "pivot_sub = pd.DataFrame(pivot_sub.to_records())\n",
    "pivot_sub.columns = ['DIVISION','MES','DIA','PAGO 2020']\n",
    "pivot_sub.fillna(0,inplace=True)\n",
    "#pivot_pren['PAGO 2017'] = ['${:,.2f}'.format(x) for x in pivot_n2['PAGO 2017']]\n",
    "#pivot_n2['PAGO 2018'] = ['${:,.2f}'.format(x) for x in pivot_n2['PAGO 2018']]\n",
    "#pivot_pren['PAGO 2019'] = ['${:,.2f}'.format(x) for x in pivot_pren['PAGO 2019']]\n",
    "pivot_sub['PAGO 2020'] = ['${:,.2f}'.format(x) for x in pivot_sub['PAGO 2020']]\n",
    "pivot_sub"
   ]
  },
  {
   "cell_type": "code",
   "execution_count": 173,
   "metadata": {},
   "outputs": [
    {
     "output_type": "execute_result",
     "data": {
      "text/plain": [
       "   DIVISION  MES  DIA  PAGO 2020\n",
       "0    SUBDIC    1    3  $3,600.00\n",
       "1    SUBDIC    1    4  $3,526.22\n",
       "2    SUBDIC    1    5  $3,319.00\n",
       "3    SUBDIC    1   21  $2,000.00\n",
       "4    SUBDIC    1   22  $4,374.00\n",
       "..      ...  ...  ...        ...\n",
       "81   SUBDIC   10   19  $2,000.00\n",
       "82   SUBDIC   10   20  $1,000.00\n",
       "83   SUBDIC   10   23  $3,081.00\n",
       "84   SUBDIC   10   29    $500.00\n",
       "85   SUBDIC   10   30  $7,963.00\n",
       "\n",
       "[86 rows x 4 columns]"
      ],
      "text/html": "<div>\n<style scoped>\n    .dataframe tbody tr th:only-of-type {\n        vertical-align: middle;\n    }\n\n    .dataframe tbody tr th {\n        vertical-align: top;\n    }\n\n    .dataframe thead th {\n        text-align: right;\n    }\n</style>\n<table border=\"1\" class=\"dataframe\">\n  <thead>\n    <tr style=\"text-align: right;\">\n      <th></th>\n      <th>DIVISION</th>\n      <th>MES</th>\n      <th>DIA</th>\n      <th>PAGO 2020</th>\n    </tr>\n  </thead>\n  <tbody>\n    <tr>\n      <th>0</th>\n      <td>SUBDIC</td>\n      <td>1</td>\n      <td>3</td>\n      <td>$3,600.00</td>\n    </tr>\n    <tr>\n      <th>1</th>\n      <td>SUBDIC</td>\n      <td>1</td>\n      <td>4</td>\n      <td>$3,526.22</td>\n    </tr>\n    <tr>\n      <th>2</th>\n      <td>SUBDIC</td>\n      <td>1</td>\n      <td>5</td>\n      <td>$3,319.00</td>\n    </tr>\n    <tr>\n      <th>3</th>\n      <td>SUBDIC</td>\n      <td>1</td>\n      <td>21</td>\n      <td>$2,000.00</td>\n    </tr>\n    <tr>\n      <th>4</th>\n      <td>SUBDIC</td>\n      <td>1</td>\n      <td>22</td>\n      <td>$4,374.00</td>\n    </tr>\n    <tr>\n      <th>...</th>\n      <td>...</td>\n      <td>...</td>\n      <td>...</td>\n      <td>...</td>\n    </tr>\n    <tr>\n      <th>81</th>\n      <td>SUBDIC</td>\n      <td>10</td>\n      <td>19</td>\n      <td>$2,000.00</td>\n    </tr>\n    <tr>\n      <th>82</th>\n      <td>SUBDIC</td>\n      <td>10</td>\n      <td>20</td>\n      <td>$1,000.00</td>\n    </tr>\n    <tr>\n      <th>83</th>\n      <td>SUBDIC</td>\n      <td>10</td>\n      <td>23</td>\n      <td>$3,081.00</td>\n    </tr>\n    <tr>\n      <th>84</th>\n      <td>SUBDIC</td>\n      <td>10</td>\n      <td>29</td>\n      <td>$500.00</td>\n    </tr>\n    <tr>\n      <th>85</th>\n      <td>SUBDIC</td>\n      <td>10</td>\n      <td>30</td>\n      <td>$7,963.00</td>\n    </tr>\n  </tbody>\n</table>\n<p>86 rows × 4 columns</p>\n</div>"
     },
     "metadata": {},
     "execution_count": 173
    }
   ],
   "source": [
    "#Para pren PREN\n",
    "pagos_subdic = pagos_liver.loc[pagos_liver['Division']=='SUBDIC']\n",
    "pivot_subdic = pd.pivot_table(pagos_subdic,index=['Division','Month','Day'],columns=['Year'],values=['monto'],aggfunc=['sum'])\n",
    "pivot_subdic = pd.DataFrame(pivot_subdic.to_records())\n",
    "pivot_subdic.columns = ['DIVISION','MES','DIA','PAGO 2020']\n",
    "pivot_subdic.fillna(0,inplace=True)\n",
    "#pivot_pren['PAGO 2017'] = ['${:,.2f}'.format(x) for x in pivot_n2['PAGO 2017']]\n",
    "#pivot_n2['PAGO 2018'] = ['${:,.2f}'.format(x) for x in pivot_n2['PAGO 2018']]\n",
    "#pivot_pren['PAGO 2019'] = ['${:,.2f}'.format(x) for x in pivot_pren['PAGO 2019']]\n",
    "pivot_subdic['PAGO 2020'] = ['${:,.2f}'.format(x) for x in pivot_subdic['PAGO 2020']]\n",
    "pivot_subdic"
   ]
  },
  {
   "cell_type": "code",
   "execution_count": 21,
   "metadata": {},
   "outputs": [],
   "source": [
    "writer = pd.ExcelWriter(''+ruta+'/Reporte pagos Bradesco '+mes2+'.xlsx', engine='xlsxwriter')\n",
    "pivot_mes.to_excel(writer,'C0 '+mes2+'',index=False,header=True)\n",
    "pivot_4pv.to_excel(writer,'4PV',index=False,header=True)\n",
    "pivot_5pv.to_excel(writer,'5PV',index=False,header=True)\n",
    "pivot_6pv.to_excel(writer,'6PV',index=False,header=True)\n",
    "pivot_bucket_a.to_excel(writer,'A',index=False,header=True)\n",
    "pivot_bucket_b.to_excel(writer,'B',index=False,header=True)\n",
    "pivot_bucket_c1.to_excel(writer,'C1',index=False,header=True)\n",
    "pivot_bucket_c2.to_excel(writer,'C2',index=False,header=True)\n",
    "pivot_bucket_c3.to_excel(writer,'C3',index=False,header=True)\n",
    "pivot_bucket_c4.to_excel(writer,'C4',index=False,header=True)\n",
    "\n",
    "writer.save()\n",
    "writer.close()"
   ]
  },
  {
   "cell_type": "code",
   "execution_count": 175,
   "metadata": {},
   "outputs": [],
   "source": [
    "writer = pd.ExcelWriter(''+ruta+'Reporte pagos Liverpool Dic.xlsx', engine='xlsxwriter')\n",
    "pivot_cof.to_excel(writer,'COF',index=False,header=True)\n",
    "pivot_n2.to_excel(writer,'N2',index=False,header=True)\n",
    "pivot_pren.to_excel(writer,'PREN',index=False,header=True)\n",
    "pivot_sub.to_excel(writer,'SUB',index=False,header=True)\n",
    "pivot_subdic.to_excel(writer,'SUBDIC',index=False,header=True)\n",
    "\n",
    "writer.save()\n",
    "writer.close()"
   ]
  }
 ]
}