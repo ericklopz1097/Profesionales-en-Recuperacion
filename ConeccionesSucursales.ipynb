{
 "metadata": {
  "language_info": {
   "codemirror_mode": {
    "name": "ipython",
    "version": 3
   },
   "file_extension": ".py",
   "mimetype": "text/x-python",
   "name": "python",
   "nbconvert_exporter": "python",
   "pygments_lexer": "ipython3",
   "version": "3.8.5-final"
  },
  "orig_nbformat": 2,
  "kernelspec": {
   "name": "python3",
   "display_name": "Python 3",
   "language": "python"
  }
 },
 "nbformat": 4,
 "nbformat_minor": 2,
 "cells": [
  {
   "cell_type": "code",
   "execution_count": 4,
   "metadata": {},
   "outputs": [],
   "source": [
    "import pandas as pd\n",
    "import numpy as np\n",
    "import mysql.connector\n",
    "from mysql.connector import Error\n",
    "from datetime import date\n",
    "from datetime import datetime\n",
    "from IPython.core.interactiveshell import InteractiveShell\n",
    "InteractiveShell.ast_node_interactivity = \"all\""
   ]
  },
  {
   "cell_type": "code",
   "execution_count": 6,
   "metadata": {},
   "outputs": [],
   "source": [
    "def query_torreon(query=''): \n",
    "    conn = mysql.connector.connect(user='estadisticas',\n",
    "                                   password='estadisticas8474',\n",
    "                                   host='192.168.2.178',\n",
    "                                   port=3306,\n",
    "                                   database='recovery_rts')\n",
    "    conn.set_charset_collation('latin1')\n",
    "\n",
    "    cursor = conn.cursor()         # Crear un cursor \n",
    "    cursor.execute(query)          # Ejecutar una consulta \n",
    "\n",
    "    if query.upper().startswith('SELECT'): \n",
    "        data = pd.DataFrame(cursor.fetchall())   # Traer los resultados de un select \n",
    "    else: \n",
    "        conn.commit()              # Hacer efectiva la escritura de datos \n",
    "        data = None \n",
    "    \n",
    "    columns = [list(i[0] for i in cursor.description)]\n",
    "    data.columns = columns\n",
    "\n",
    "    cursor.close()                 # Cerrar el cursor \n",
    "    conn.close()                   # Cerrar la conexión \n",
    "\n",
    "    return data"
   ]
  },
  {
   "cell_type": "code",
   "execution_count": 19,
   "metadata": {},
   "outputs": [],
   "source": [
    "def query_naucalpan(table,from_date=None,to_date=None,campana=None):\n",
    "    conn = mysql.connector.connect(user='estadisticas',\n",
    "                                   password='estadisticas8474',\n",
    "                                   host='192.168.15.12',\n",
    "                                   port=3306,\n",
    "                                   database='procesos_externos')\n",
    "    conn.set_charset_collation('latin1')\n",
    "\n",
    "    cursor = conn.cursor()         # Crear un cursor \n",
    "\n",
    "    if campana is None:\n",
    "        if from_date is None:\n",
    "            sql_mes = cursor.callproc(table,)\n",
    "            for result in cursor.stored_results():\n",
    "                sql_mes = pd.DataFrame(result.fetchall())\n",
    "        else:\n",
    "            sql_mes = cursor.callproc(table, [from_date,to_date])\n",
    "            for result in cursor.stored_results():\n",
    "                sql_mes = pd.DataFrame(result.fetchall())\n",
    "    else:\n",
    "        sql_mes = cursor.callproc(table, [from_date,to_date,campana])\n",
    "        for result in cursor.stored_results():\n",
    "                sql_mes = pd.DataFrame(result.fetchall())\n",
    "    sql_mes = sql_mes.drop_duplicates()\n",
    "    \n",
    "    columns = [list(i[0] for i in cursor.description)]\n",
    "    sql_mes.columns = columns\n",
    "\n",
    "    cursor.close()                 # Cerrar el cursor \n",
    "    conn.close()                   # Cerrar la conexión \n",
    "\n",
    "    return sql_mes"
   ]
  },
  {
   "cell_type": "code",
   "execution_count": null,
   "metadata": {},
   "outputs": [],
   "source": []
  }
 ]
}