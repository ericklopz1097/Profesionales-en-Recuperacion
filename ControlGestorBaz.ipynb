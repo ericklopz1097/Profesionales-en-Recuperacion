{
 "metadata": {
  "language_info": {
   "codemirror_mode": {
    "name": "ipython",
    "version": 3
   },
   "file_extension": ".py",
   "mimetype": "text/x-python",
   "name": "python",
   "nbconvert_exporter": "python",
   "pygments_lexer": "ipython3",
   "version": "3.8.5-final"
  },
  "orig_nbformat": 2,
  "kernelspec": {
   "name": "python3",
   "display_name": "Python 3",
   "language": "python"
  }
 },
 "nbformat": 4,
 "nbformat_minor": 2,
 "cells": [
  {
   "cell_type": "code",
   "execution_count": 1,
   "metadata": {},
   "outputs": [],
   "source": [
    "import pandas as pd\n",
    "import numpy as np\n",
    "import mysql.connector\n",
    "import os\n",
    "from mysql.connector import Error\n",
    "from datetime import datetime, date, timedelta\n",
    "import re\n",
    "import ConeccionesSucursales as cs \n",
    "from IPython.core.interactiveshell import InteractiveShell\n",
    "InteractiveShell.ast_node_interactivity = \"all\""
   ]
  },
  {
   "cell_type": "code",
   "execution_count": 2,
   "metadata": {},
   "outputs": [],
   "source": [
    "#Definimos la ruta en donde queremos guardar los archivos\n",
    "ruta_guardar = '/home/estadistico/Documents/Erick/Reportes diarios'\n",
    "ruta_pagos = '/home/estadistico/Documents/Erick'\n",
    "mes = 20201201\n",
    "mes2 = 'Enero2021'\n",
    "mes3 = pd.to_datetime('01/12/2020',dayfirst=True)\n",
    "prim_sem_mes = 1"
   ]
  },
  {
   "cell_type": "code",
   "execution_count": 3,
   "metadata": {},
   "outputs": [],
   "source": [
    "#Asignamos valores a los parametros \\n\"\n",
    "today = date.today().strftime('%Y%m%d')\n",
    "now = datetime.now().strftime('%d-%m-%Y %H:%M')\n",
    "hoy = np.datetime64('today')\n",
    "ayer = np.datetime64(date.today() - timedelta(1))\n",
    "today2 = date.today().strftime('%d-%m-%Y')"
   ]
  },
  {
   "cell_type": "code",
   "execution_count": 52,
   "metadata": {},
   "outputs": [
    {
     "output_type": "execute_result",
     "data": {
      "text/plain": [
       "        Usuario Estatus\n",
       "0       CFLORES   ADMIN\n",
       "1      WGALICIA   ADMIN\n",
       "2   AHERNANDEZS   ADMIN\n",
       "3   CRSALINASDM   ADMIN\n",
       "4  VALENCIAMICA   ADMIN"
      ],
      "text/html": "<div>\n<style scoped>\n    .dataframe tbody tr th:only-of-type {\n        vertical-align: middle;\n    }\n\n    .dataframe tbody tr th {\n        vertical-align: top;\n    }\n\n    .dataframe thead th {\n        text-align: right;\n    }\n</style>\n<table border=\"1\" class=\"dataframe\">\n  <thead>\n    <tr style=\"text-align: right;\">\n      <th></th>\n      <th>Usuario</th>\n      <th>Estatus</th>\n    </tr>\n  </thead>\n  <tbody>\n    <tr>\n      <th>0</th>\n      <td>CFLORES</td>\n      <td>ADMIN</td>\n    </tr>\n    <tr>\n      <th>1</th>\n      <td>WGALICIA</td>\n      <td>ADMIN</td>\n    </tr>\n    <tr>\n      <th>2</th>\n      <td>AHERNANDEZS</td>\n      <td>ADMIN</td>\n    </tr>\n    <tr>\n      <th>3</th>\n      <td>CRSALINASDM</td>\n      <td>ADMIN</td>\n    </tr>\n    <tr>\n      <th>4</th>\n      <td>VALENCIAMICA</td>\n      <td>ADMIN</td>\n    </tr>\n  </tbody>\n</table>\n</div>"
     },
     "metadata": {},
     "execution_count": 52
    }
   ],
   "source": [
    "#Archivo que contiene los puestos de cada persona\n",
    "book = os.listdir(''+ruta_pagos+'/'+str(mes2)+'/Banco Azteca/Personal/')\n",
    "personal = pd.DataFrame()\n",
    "for i in book:\n",
    "    new = pd.read_excel(''+ruta_pagos+'/'+str(mes2)+'/Banco Azteca/Personal/'+i+'')\n",
    "    personal = pd.concat([personal,new],ignore_index=True)\n",
    "personal = personal[['USUARIO','COBRANZA/CAPTURISTA']]\n",
    "personal.columns = ['Usuario','Estatus']\n",
    "personal.head()"
   ]
  },
  {
   "cell_type": "code",
   "execution_count": 5,
   "metadata": {},
   "outputs": [],
   "source": [
    "#Lectura pagos Banco Azteca\n",
    "sheet_baz_renta = os.listdir(''+ruta_pagos+'/'+str(mes2)+'/Banco Azteca/Pagos/Renta')\n",
    "pagos_baz_renta = pd.DataFrame()\n",
    "for i in sheet_baz_renta:\n",
    "    pagos_baz_renta_new = pd.read_csv(''+ruta_pagos+'/'+str(mes2)+'/Banco Azteca/Pagos/Renta/'+i+'')\n",
    "    pagos_baz_renta = pd.concat([pagos_baz_renta,pagos_baz_renta_new],ignore_index=True)\n",
    "pagos_baz_renta = pagos_baz_renta.drop_duplicates()\n",
    "pagos_baz_renta = pagos_baz_renta.loc[pagos_baz_renta['FNMONTOPAGADO']>0]\n",
    "pagos_baz_renta['FDFECHAABONO'] = pd.to_datetime(pagos_baz_renta['FDFECHAABONO'],dayfirst=True)\n",
    "pagos_baz_renta = pagos_baz_renta.loc[pagos_baz_renta['FDFECHAABONO']>=mes3]\n",
    "pagos_baz_renta2 = pd.pivot_table(pagos_baz_renta,index=['CAMPANAID','FDFECHAABONO','FIIDPERIODO','FNSCOMPROMISO','FCEMPNUMCORTE','FNMONTOPROMETIDO'],values=['FNMONTOPAGADO'],aggfunc=np.sum)\n",
    "pagos_baz_renta2 = pd.DataFrame(pagos_baz_renta2.to_records())"
   ]
  },
  {
   "cell_type": "code",
   "execution_count": 6,
   "metadata": {},
   "outputs": [],
   "source": [
    "#Lectura pagos Banco Azteca\n",
    "sheet_baz_recovery = os.listdir(''+ruta_pagos+'/'+str(mes2)+'/Banco Azteca/Pagos/Recovery/')\n",
    "pagos_baz_recovery = pd.DataFrame()\n",
    "for k in sheet_baz_recovery:\n",
    "    pagos_baz_recovery_new = pd.read_csv(''+ruta_pagos+'/'+str(mes2)+'/Banco Azteca/Pagos/Recovery/'+k+'',sep='|')\n",
    "    pagos_baz_recovery = pd.concat([pagos_baz_recovery,pagos_baz_recovery_new],ignore_index=True)\n",
    "pagos_baz_recovery['Cartera'] = 'Recovery'\n",
    "pagos_baz_recovery['DIA'] = pd.to_datetime(pagos_baz_recovery['DIA'],dayfirst=True)\n",
    "pagos_baz_recovery = pagos_baz_recovery.loc[pagos_baz_recovery['DIA']>=mes3]\n",
    "pagos_baz_recovery = pagos_baz_recovery.loc[pagos_baz_recovery['DIA']>=mes3]\n",
    "pagos_baz_recovery['credito'] = pagos_baz_recovery['PAIS'].map(str)+'-'+pagos_baz_recovery['CANAL'].map(str)+'-'+pagos_baz_recovery['SUCURSAL'].map(str)+'-'+pagos_baz_recovery['FOLIO'].map(str)\n",
    "pagos_baz_recovery = pagos_baz_recovery.drop_duplicates()"
   ]
  },
  {
   "cell_type": "code",
   "execution_count": 7,
   "metadata": {},
   "outputs": [
    {
     "output_type": "execute_result",
     "data": {
      "text/plain": [
       "   ANIO  SEMANA        DIA  PAIS  CANAL  SUCURSAL  FOLIO  \\\n",
       "0  2021       1 2021-01-04     1      1      2161  90848   \n",
       "\n",
       "   RECUPERACION DE CAPITAL  RECUPERACION DE MORATORIOS  SALDO ACTUAL  \\\n",
       "0                        0                         350       12273.0   \n",
       "\n",
       "   MORATORIOS ACTUAL FECHA GESTION CARGO AUTOMATICO cartera         credito  \n",
       "0             3056.0    04/01/2021               NO   26-39  1-1-2161-90848  "
      ],
      "text/html": "<div>\n<style scoped>\n    .dataframe tbody tr th:only-of-type {\n        vertical-align: middle;\n    }\n\n    .dataframe tbody tr th {\n        vertical-align: top;\n    }\n\n    .dataframe thead th {\n        text-align: right;\n    }\n</style>\n<table border=\"1\" class=\"dataframe\">\n  <thead>\n    <tr style=\"text-align: right;\">\n      <th></th>\n      <th>ANIO</th>\n      <th>SEMANA</th>\n      <th>DIA</th>\n      <th>PAIS</th>\n      <th>CANAL</th>\n      <th>SUCURSAL</th>\n      <th>FOLIO</th>\n      <th>RECUPERACION DE CAPITAL</th>\n      <th>RECUPERACION DE MORATORIOS</th>\n      <th>SALDO ACTUAL</th>\n      <th>MORATORIOS ACTUAL</th>\n      <th>FECHA GESTION</th>\n      <th>CARGO AUTOMATICO</th>\n      <th>cartera</th>\n      <th>credito</th>\n    </tr>\n  </thead>\n  <tbody>\n    <tr>\n      <th>0</th>\n      <td>2021</td>\n      <td>1</td>\n      <td>2021-01-04</td>\n      <td>1</td>\n      <td>1</td>\n      <td>2161</td>\n      <td>90848</td>\n      <td>0</td>\n      <td>350</td>\n      <td>12273.0</td>\n      <td>3056.0</td>\n      <td>04/01/2021</td>\n      <td>NO</td>\n      <td>26-39</td>\n      <td>1-1-2161-90848</td>\n    </tr>\n  </tbody>\n</table>\n</div>"
     },
     "metadata": {},
     "execution_count": 7
    }
   ],
   "source": [
    "#Lectura pagos Banco Azteca\n",
    "sheet_baz_26 = os.listdir(''+ruta_pagos+'/'+str(mes2)+'/Banco Azteca/Pagos/26-39/')\n",
    "pagos_baz_26 = pd.DataFrame()\n",
    "for j in sheet_baz_26:\n",
    "    pagos_baz_26_new = pd.read_csv(''+ruta_pagos+'/'+str(mes2)+'/Banco Azteca/Pagos/26-39/'+j+'',sep='|')\n",
    "    pagos_baz_26 = pd.concat([pagos_baz_26,pagos_baz_26_new],ignore_index=True)\n",
    "pagos_baz_26['cartera'] = '26-39'\n",
    "pagos_baz_26['DIA'] = pd.to_datetime(pagos_baz_26['DIA'],dayfirst=True)\n",
    "pagos_baz_26 = pagos_baz_26.loc[pagos_baz_26['DIA']>=mes3]\n",
    "pagos_baz_26['credito'] = pagos_baz_26['PAIS'].map(str)+'-'+pagos_baz_26['CANAL'].map(str)+'-'+pagos_baz_26['SUCURSAL'].map(str)+'-'+pagos_baz_26['FOLIO'].map(str)\n",
    "pagos_baz_26 = pagos_baz_26.drop_duplicates()\n",
    "pagos_baz_26.head(1)"
   ]
  },
  {
   "cell_type": "code",
   "execution_count": 8,
   "metadata": {},
   "outputs": [],
   "source": [
    "#Funcion para transformar varias columnas a numero\n",
    "def transform_numeric(df,cols):\n",
    "    return df[cols].apply(pd.to_numeric, errors='coerce')\n",
    "\n",
    "#Funcion que convierte a dataframe y rellena espacios con 0\n",
    "def to_dataframe(df):\n",
    "    df = pd.DataFrame(df.to_records())\n",
    "    df.fillna(0,inplace=True)\n",
    "    return df\n",
    "\n",
    "#Funcion que quita el % del string\n",
    "def percent_tonumeric(df,cols):\n",
    "    for c in cols:\n",
    "        df[c] = [x[:-2] for x in df[c]]\n",
    "    return transform_numeric(df,cols)"
   ]
  },
  {
   "source": [
    "# Llamadas Detallado Banco Azteca"
   ],
   "cell_type": "markdown",
   "metadata": {}
  },
  {
   "cell_type": "code",
   "execution_count": 9,
   "metadata": {},
   "outputs": [],
   "source": [
    "#Hacemos la consulta referente a las gestiones de Credifiel\n",
    "#llamadas_cred = consulta_sql('procesos_externos.all_rpt_llamadas_detallado',mes,today,'(^BAZ)')\n",
    "#llamadas_cred.columns = ['server_ip','uniqueid','call_type','call_date','campaign_id','campaign_name','list_id',#'list_name','lead_id','vendor_lead_id','vendor_lead_name','phone_number','status','status_name','username','full_name','term_reason_call','queue_seconds','length_in_sec','call_date_short','call_time_short','call_time_hour','call_range_hour','dialstatus','hangup_cause','sip_hangup_cause','carrier','areacode','state','region']\n",
    "#llamadas_cred.head(1)"
   ]
  },
  {
   "cell_type": "code",
   "execution_count": 10,
   "metadata": {},
   "outputs": [],
   "source": [
    "#llamadas_cred['turno'] = np.where(llamadas_cred['call_time_hour']<=14,'M','V')"
   ]
  },
  {
   "source": [
    "# Performance Banco Azteca"
   ],
   "cell_type": "markdown",
   "metadata": {}
  },
  {
   "cell_type": "code",
   "execution_count": 11,
   "metadata": {},
   "outputs": [],
   "source": [
    "#Hacemos la consulta referente al performance del Gestor\n",
    "performance_all = cs.query_naucalpan('procesos_externos.all_rpt_agent_performance',mes,today)\n",
    "performance_all.columns = ['fecha','usuario','nombre_usuario','user_group','llamadas','aht','ocupacion','adherencia','login_vici','logout_vici','staff_time','wait_time','talk_time','dispo_time','pause','login','manual','gestion','agua','alimentos','sanitario','retroalimentacion','tranferencia','validacion','whatsapp','incumplimiento','recordatorios','capacitacion','sistemas','lagged','tipificando','*']"
   ]
  },
  {
   "cell_type": "code",
   "execution_count": 12,
   "metadata": {},
   "outputs": [],
   "source": [
    "performance_all['user_group2'] = [x[:3] for x in performance_all['user_group']]\n",
    "performance_baz = performance_all.loc[performance_all['user_group2']=='BAZ']\n",
    "performance_baz[['ocupacion','adherencia']] = percent_tonumeric(performance_baz,['ocupacion','adherencia'])"
   ]
  },
  {
   "cell_type": "code",
   "execution_count": 13,
   "metadata": {},
   "outputs": [],
   "source": [
    "performance_baz['hora_login'] = [int(x[:2]) for x in performance_baz['login_vici']]\n",
    "performance_baz['hora_logout'] = [int(x[:2]) for x in performance_baz['logout_vici']]\n",
    "performance_baz['turno'] = np.where((performance_baz['hora_logout']<=14)&(performance_baz['hora_logout']-performance_baz['hora_login']<=8),'M',\n",
    "                                    np.where((performance_baz['hora_logout']>17)&(performance_baz['hora_logout']-performance_baz['hora_login']<=8),'V','Mixto'))"
   ]
  },
  {
   "cell_type": "code",
   "execution_count": 14,
   "metadata": {},
   "outputs": [],
   "source": [
    "performance_baz['horas_trabajadas'] = performance_baz['hora_logout']-performance_baz['hora_login']\n",
    "performance_baz['llamadas_hora'] = performance_baz['llamadas']/performance_baz['horas_trabajadas']\n",
    "performance_baz['llamadas_hora'] = performance_baz['llamadas_hora'].round(1)"
   ]
  },
  {
   "cell_type": "code",
   "execution_count": 15,
   "metadata": {},
   "outputs": [
    {
     "output_type": "execute_result",
     "data": {
      "text/plain": [
       "       Usuario                         Gestor Turno  SumHorasTrabajadas  \\\n",
       "0  AGUILARRIAL  AGUILAR RIOS DANIEL ALEJANDRO     M                   6   \n",
       "1  ALHENANDEZA     ADRIANA ALVARADO HERNANDEZ     M                  20   \n",
       "\n",
       "   SumLlamadasDia  SumOcupacion  PromedioHorasTrab  PromedioLlamadasDia  \\\n",
       "0             154         11.75                6.0               154.00   \n",
       "1             645        112.27                5.0               161.25   \n",
       "\n",
       "   PromedioOcupacion  DiasAsitencia  MinHoras  MinLlamadasDia  MinOcupacion  \\\n",
       "0            11.7500              1         6             154         11.75   \n",
       "1            28.0675              4         0              24         22.11   \n",
       "\n",
       "   MaxHoras  MaxLlamadasDia  MaxOcupacion  LlamadasHora  \n",
       "0         6             154         11.75     25.666667  \n",
       "1         7             219         35.60     32.250000  "
      ],
      "text/html": "<div>\n<style scoped>\n    .dataframe tbody tr th:only-of-type {\n        vertical-align: middle;\n    }\n\n    .dataframe tbody tr th {\n        vertical-align: top;\n    }\n\n    .dataframe thead th {\n        text-align: right;\n    }\n</style>\n<table border=\"1\" class=\"dataframe\">\n  <thead>\n    <tr style=\"text-align: right;\">\n      <th></th>\n      <th>Usuario</th>\n      <th>Gestor</th>\n      <th>Turno</th>\n      <th>SumHorasTrabajadas</th>\n      <th>SumLlamadasDia</th>\n      <th>SumOcupacion</th>\n      <th>PromedioHorasTrab</th>\n      <th>PromedioLlamadasDia</th>\n      <th>PromedioOcupacion</th>\n      <th>DiasAsitencia</th>\n      <th>MinHoras</th>\n      <th>MinLlamadasDia</th>\n      <th>MinOcupacion</th>\n      <th>MaxHoras</th>\n      <th>MaxLlamadasDia</th>\n      <th>MaxOcupacion</th>\n      <th>LlamadasHora</th>\n    </tr>\n  </thead>\n  <tbody>\n    <tr>\n      <th>0</th>\n      <td>AGUILARRIAL</td>\n      <td>AGUILAR RIOS DANIEL ALEJANDRO</td>\n      <td>M</td>\n      <td>6</td>\n      <td>154</td>\n      <td>11.75</td>\n      <td>6.0</td>\n      <td>154.00</td>\n      <td>11.7500</td>\n      <td>1</td>\n      <td>6</td>\n      <td>154</td>\n      <td>11.75</td>\n      <td>6</td>\n      <td>154</td>\n      <td>11.75</td>\n      <td>25.666667</td>\n    </tr>\n    <tr>\n      <th>1</th>\n      <td>ALHENANDEZA</td>\n      <td>ADRIANA ALVARADO HERNANDEZ</td>\n      <td>M</td>\n      <td>20</td>\n      <td>645</td>\n      <td>112.27</td>\n      <td>5.0</td>\n      <td>161.25</td>\n      <td>28.0675</td>\n      <td>4</td>\n      <td>0</td>\n      <td>24</td>\n      <td>22.11</td>\n      <td>7</td>\n      <td>219</td>\n      <td>35.60</td>\n      <td>32.250000</td>\n    </tr>\n  </tbody>\n</table>\n</div>"
     },
     "metadata": {},
     "execution_count": 15
    }
   ],
   "source": [
    "control_performance_baz_turno = pd.pivot_table(performance_baz,index=['usuario','nombre_usuario','turno'],values=['llamadas','ocupacion','horas_trabajadas'],aggfunc=[np.sum,np.mean,'count',min,max])\n",
    "control_performance_baz_turno = to_dataframe(control_performance_baz_turno)\n",
    "control_performance_baz_turno = control_performance_baz_turno.iloc[:,[0,1,2,3,4,5,6,7,8,9,12,13,14,15,16,17]]\n",
    "control_performance_baz_turno.columns = ['Usuario','Gestor','Turno','SumHorasTrabajadas','SumLlamadasDia','SumOcupacion','PromedioHorasTrab','PromedioLlamadasDia','PromedioOcupacion','DiasAsitencia','MinHoras','MinLlamadasDia','MinOcupacion','MaxHoras','MaxLlamadasDia','MaxOcupacion']\n",
    "control_performance_baz_turno['LlamadasHora'] = control_performance_baz_turno['SumLlamadasDia']/control_performance_baz_turno['SumHorasTrabajadas']\n",
    "control_performance_baz_turno.head(2)"
   ]
  },
  {
   "cell_type": "code",
   "execution_count": 16,
   "metadata": {},
   "outputs": [],
   "source": [
    "control_performance_baz_turno2 = control_performance_baz_turno[['Gestor','Turno','LlamadasHora','PromedioOcupacion']]"
   ]
  },
  {
   "cell_type": "code",
   "execution_count": 17,
   "metadata": {},
   "outputs": [
    {
     "output_type": "execute_result",
     "data": {
      "text/plain": [
       "          Usuario  SumHorasTrabajadas  SumLlamadasDia  PromedioLlamadasDia  \\\n",
       "0     AGUILARRIAL                   6             154                154.0   \n",
       "1     ALHENANDEZA                 201            6148                192.0   \n",
       "2  ALVARADORODAAR                   6             123                 62.0   \n",
       "\n",
       "   PromedioOcupacion  PromedioLlamadasHora  \n",
       "0               12.0                  26.0  \n",
       "1               30.0                  31.0  \n",
       "2               42.0                  20.0  "
      ],
      "text/html": "<div>\n<style scoped>\n    .dataframe tbody tr th:only-of-type {\n        vertical-align: middle;\n    }\n\n    .dataframe tbody tr th {\n        vertical-align: top;\n    }\n\n    .dataframe thead th {\n        text-align: right;\n    }\n</style>\n<table border=\"1\" class=\"dataframe\">\n  <thead>\n    <tr style=\"text-align: right;\">\n      <th></th>\n      <th>Usuario</th>\n      <th>SumHorasTrabajadas</th>\n      <th>SumLlamadasDia</th>\n      <th>PromedioLlamadasDia</th>\n      <th>PromedioOcupacion</th>\n      <th>PromedioLlamadasHora</th>\n    </tr>\n  </thead>\n  <tbody>\n    <tr>\n      <th>0</th>\n      <td>AGUILARRIAL</td>\n      <td>6</td>\n      <td>154</td>\n      <td>154.0</td>\n      <td>12.0</td>\n      <td>26.0</td>\n    </tr>\n    <tr>\n      <th>1</th>\n      <td>ALHENANDEZA</td>\n      <td>201</td>\n      <td>6148</td>\n      <td>192.0</td>\n      <td>30.0</td>\n      <td>31.0</td>\n    </tr>\n    <tr>\n      <th>2</th>\n      <td>ALVARADORODAAR</td>\n      <td>6</td>\n      <td>123</td>\n      <td>62.0</td>\n      <td>42.0</td>\n      <td>20.0</td>\n    </tr>\n  </tbody>\n</table>\n</div>"
     },
     "metadata": {},
     "execution_count": 17
    }
   ],
   "source": [
    "control_performance_baz = pd.pivot_table(performance_baz,index=['usuario'],values=['llamadas','ocupacion','horas_trabajadas'],aggfunc=[np.sum,np.mean,'count',min,max])\n",
    "control_performance_baz = to_dataframe(control_performance_baz)\n",
    "control_performance_baz = control_performance_baz.iloc[:,[0,1,2,5,6]]\n",
    "control_performance_baz.columns = ['Usuario','SumHorasTrabajadas','SumLlamadasDia','PromedioLlamadasDia','PromedioOcupacion']\n",
    "control_performance_baz['PromedioLlamadasHora'] = control_performance_baz['SumLlamadasDia']/control_performance_baz['SumHorasTrabajadas']\n",
    "cols = ['PromedioLlamadasDia','PromedioLlamadasHora','PromedioOcupacion']\n",
    "control_performance_baz[cols] = control_performance_baz[cols].round()\n",
    "control_performance_baz.head(3)"
   ]
  },
  {
   "source": [
    "# Gestion Banco Azteca"
   ],
   "cell_type": "markdown",
   "metadata": {}
  },
  {
   "cell_type": "code",
   "execution_count": 18,
   "metadata": {},
   "outputs": [],
   "source": [
    "#Hacemos la consulta referente a las gestiones de Banco Azteca\n",
    "gestion_baz = cs.query_naucalpan('baz_rpt_gestiones_detallado',mes,today)\n",
    "gestion_baz.columns = ['folio_gestion','firma_id','unegocio_id','credito','nombre_credito','telefono','tipo_telefono','fecha_gestion','usuario','nombre_usuario','dictamen','accion_resultado','fecha_promesa','monto_promesa','comentarios']"
   ]
  },
  {
   "cell_type": "code",
   "execution_count": 19,
   "metadata": {},
   "outputs": [],
   "source": [
    "#try: gestion_baz['anio_prom'] = [int(x[:4]) for x in gestion_baz['fecha_promesa']]\n",
    "#except: gestion_baz['anio_prom'] = 0\n",
    "#gestion_baz = gestion_baz.loc[gestion_baz['anio_prom']<2030]\n",
    "gestion_baz = gestion_baz.drop_duplicates()\n",
    "gestion_baz['monto_promesa'] = pd.to_numeric(gestion_baz['monto_promesa'])\n",
    "gestion_baz['usuario'] = [x.rstrip() for x in gestion_baz['usuario']]\n",
    "#gestion_baz['fecha_promesa'] = pd.to_datetime(gestion_baz['fecha_promesa'],dayfirst=False)"
   ]
  },
  {
   "cell_type": "code",
   "execution_count": 20,
   "metadata": {},
   "outputs": [],
   "source": [
    "gestion_gestor_rec = pd.pivot_table(gestion_baz,index=['usuario','nombre_usuario'],values=['fecha_gestion'],aggfunc='count')\n",
    "gestion_gestor_rec = to_dataframe(gestion_gestor_rec)\n",
    "gestion_gestor_rec.columns = ['Usuario','NombreUsuario','NumeroGestiones']"
   ]
  },
  {
   "cell_type": "code",
   "execution_count": 21,
   "metadata": {},
   "outputs": [],
   "source": [
    "promesas_baz = gestion_baz.loc[gestion_baz['dictamen']=='PROMESA']\n",
    "promesas_baz = promesas_baz.loc[(promesas_baz['monto_promesa']>10) & (promesas_baz['monto_promesa']<500000)]"
   ]
  },
  {
   "cell_type": "code",
   "execution_count": 22,
   "metadata": {},
   "outputs": [],
   "source": [
    "pagos_baz = pd.concat([pagos_baz_26,pagos_baz_recovery],ignore_index=True)\n",
    "pagos_baz = pagos_baz.loc[pagos_baz['CARGO AUTOMATICO']=='NO']\n",
    "consolidado_pagos_baz = pd.merge(promesas_baz,pagos_baz,how='left',on=['credito'])\n",
    "#consolidado_pagos_baz.head(1)"
   ]
  },
  {
   "cell_type": "code",
   "execution_count": 23,
   "metadata": {},
   "outputs": [],
   "source": [
    "z = consolidado_pagos_baz.loc[consolidado_pagos_baz['RECUPERACION DE CAPITAL']+consolidado_pagos_baz['RECUPERACION DE MORATORIOS']>consolidado_pagos_baz['monto_promesa']]"
   ]
  },
  {
   "cell_type": "code",
   "execution_count": 24,
   "metadata": {},
   "outputs": [
    {
     "output_type": "execute_result",
     "data": {
      "text/plain": [
       "   folio_gestion  firma_id  unegocio_id         credito        nombre_credito  \\\n",
       "0        9691557         7            1  1-1-2144-47475  SANDRA SILES CEDILLO   \n",
       "\n",
       "     telefono tipo_telefono       fecha_gestion      usuario  \\\n",
       "0  5620832897       celular 2021-01-21 14:55:35  ESROSALESJA   \n",
       "\n",
       "           nombre_usuario  ... SUCURSAL    FOLIO RECUPERACION DE CAPITAL  \\\n",
       "0  ESPAÃA ROSALES JANET   ...   2144.0  47475.0                   178.0   \n",
       "\n",
       "   RECUPERACION DE MORATORIOS SALDO ACTUAL  MORATORIOS ACTUAL  FECHA GESTION  \\\n",
       "0                      1322.0      12287.0               50.0     13/01/2021   \n",
       "\n",
       "  CARGO AUTOMATICO  cartera   Cartera  \n",
       "0               NO      NaN  Recovery  \n",
       "\n",
       "[1 rows x 30 columns]"
      ],
      "text/html": "<div>\n<style scoped>\n    .dataframe tbody tr th:only-of-type {\n        vertical-align: middle;\n    }\n\n    .dataframe tbody tr th {\n        vertical-align: top;\n    }\n\n    .dataframe thead th {\n        text-align: right;\n    }\n</style>\n<table border=\"1\" class=\"dataframe\">\n  <thead>\n    <tr style=\"text-align: right;\">\n      <th></th>\n      <th>folio_gestion</th>\n      <th>firma_id</th>\n      <th>unegocio_id</th>\n      <th>credito</th>\n      <th>nombre_credito</th>\n      <th>telefono</th>\n      <th>tipo_telefono</th>\n      <th>fecha_gestion</th>\n      <th>usuario</th>\n      <th>nombre_usuario</th>\n      <th>...</th>\n      <th>SUCURSAL</th>\n      <th>FOLIO</th>\n      <th>RECUPERACION DE CAPITAL</th>\n      <th>RECUPERACION DE MORATORIOS</th>\n      <th>SALDO ACTUAL</th>\n      <th>MORATORIOS ACTUAL</th>\n      <th>FECHA GESTION</th>\n      <th>CARGO AUTOMATICO</th>\n      <th>cartera</th>\n      <th>Cartera</th>\n    </tr>\n  </thead>\n  <tbody>\n    <tr>\n      <th>0</th>\n      <td>9691557</td>\n      <td>7</td>\n      <td>1</td>\n      <td>1-1-2144-47475</td>\n      <td>SANDRA SILES CEDILLO</td>\n      <td>5620832897</td>\n      <td>celular</td>\n      <td>2021-01-21 14:55:35</td>\n      <td>ESROSALESJA</td>\n      <td>ESPAÃA ROSALES JANET</td>\n      <td>...</td>\n      <td>2144.0</td>\n      <td>47475.0</td>\n      <td>178.0</td>\n      <td>1322.0</td>\n      <td>12287.0</td>\n      <td>50.0</td>\n      <td>13/01/2021</td>\n      <td>NO</td>\n      <td>NaN</td>\n      <td>Recovery</td>\n    </tr>\n  </tbody>\n</table>\n<p>1 rows × 30 columns</p>\n</div>"
     },
     "metadata": {},
     "execution_count": 24
    }
   ],
   "source": [
    "consolidado_pagos_baz.head(1)"
   ]
  },
  {
   "cell_type": "code",
   "execution_count": 46,
   "metadata": {},
   "outputs": [
    {
     "output_type": "execute_result",
     "data": {
      "text/plain": [
       "            Usuario                               Gestor  NumeroPromesas  \\\n",
       "0       ALHENANDEZA           ALVARADO HERNANDEZ ADRIANA             658   \n",
       "1   ARCHUNDIAMABEAL  ARCHUNDIA MACIAS BERNARDO ALEJANDRO             460   \n",
       "2      BEBAUTISTAJI            JIMENEZ BAUTISTA BERNARDO            1049   \n",
       "3       BENITEZFLIS                ISAMAR BENITEZ FLORES              96   \n",
       "4    CARDOSASEVEBRE       BRENDA EVELYN CARDOSA SEVEROÂ              728   \n",
       "5       CARMONAHEEL          CARMONA HERNANDEZ ELIZABETH              64   \n",
       "6        CASTROGAHG           HUGO GERARDO CASTRO GARCIA             366   \n",
       "7         CRHERNAYA              YAQUELIN CRUZ HERNANDEZ             378   \n",
       "8       CRSALINASDM          CRUZ SALINAS DEYSI MICHELLE               2   \n",
       "9      DIONISIOGAAL         ALEJANDRA DIONISIO GALICIAÂ              358   \n",
       "10      ESROSALESJA               ESPAÃA ROSALES JANET              574   \n",
       "11      ESTRADAACGU               ESTRADA ACEVES GUSTAVO               2   \n",
       "12      ESTRADAZUSE       ESTRADA ZUNIGA SUEMY ELIZABETH              73   \n",
       "13            Fegox                 Fernando Gonzalez X.              62   \n",
       "14     GALVANESVIAL        GALVAN ESTRADA VICTOR ALFONSO              10   \n",
       "15       GARCIAMOER                  ERNESTO GARCIA MOTA             494   \n",
       "16      GLUGARDOZAM                GERMAN LUGARDO ZAMORA             470   \n",
       "17     GONZALEZMAED             EDGAR GONZALEZ MARCELINO             365   \n",
       "18     GONZALEZOLRI              RICARDO GONZALEZ OLMEDO             222   \n",
       "19     HEBALTAZARAL          HERNANDEZ BALTAZAR ALFREDO               63   \n",
       "20    HERNANDEZESBE          HERNANDEZ ESQUIVEL BERENICE               4   \n",
       "21         JIVEJOFE          JIMENEZ VEGA JORGE FEDERICO               3   \n",
       "22         LEONSASU                  LEON SALINAS SUSANA             423   \n",
       "23        LOPEZMOME               MARIA ELENA LOPEZ MORA             582   \n",
       "24        MIMERAZPJ          MIRANDA MERAZ PAOLA JENNERY              22   \n",
       "25        OCHOAOLCA                   CARLOS OCHOA OLIVO               1   \n",
       "26      ORDONEZMAES              ORDOÃÂ±ES MARIA ESTHER             408   \n",
       "27        PEREZPAAN                      ANA PEREZ PALMA             151   \n",
       "28           PLMALI               PLATA MARTINEZ LILIANA             111   \n",
       "29      QUIRINOMAJA          QUIRINO MARTINEZ JOSE ANGEL             257   \n",
       "30      SANCHEZPIYA                 YARELI SANCHEZ PILAR             244   \n",
       "31       VALDEZESCE                 VALDEZ ESTRADA CELSO               1   \n",
       "32     VALENCIAMICA               VALENCIA MILIAN CARLOS               7   \n",
       "33       VIEYRAITTR             TREJO VIEYRA ITZEL YANET              25   \n",
       "34       ZEPEDAESJI                JIMMY ZEPEDA ESPINOSA             474   \n",
       "\n",
       "    SumaRecCapital  SumaRecMoratorios  SumaPromesas  Recuperado  \n",
       "0         248617.0            71360.0      354893.0    319977.0  \n",
       "1         185557.0            44979.0      319362.0    230536.0  \n",
       "2         662019.0            61020.0      915467.0    723039.0  \n",
       "3          16854.0            10780.0      125086.0     27634.0  \n",
       "4         399164.0           114290.0      529326.0    513454.0  \n",
       "5          22385.0            19386.0       62956.0     41771.0  \n",
       "6         144044.0            44483.0      336385.0    188527.0  \n",
       "7         227049.0            46454.0      350451.0    273503.0  \n",
       "8           1264.0                0.0        4276.0      1264.0  \n",
       "9         181689.0           101422.0      225778.0    283111.0  \n",
       "10        193345.0            94786.0      364043.0    288131.0  \n",
       "11             0.0                0.0        5500.0         0.0  \n",
       "12         18363.0            37657.0       70908.0     56020.0  \n",
       "13         18623.0             6251.0       28820.0     24874.0  \n",
       "14          8502.0              335.0        7030.0      8837.0  \n",
       "15        209521.0            48352.0      330719.0    257873.0  \n",
       "16        202226.0            84986.0      333375.0    287212.0  \n",
       "17        159976.0            31809.0      243338.0    191785.0  \n",
       "18         60629.0            26170.0      163517.0     86799.0  \n",
       "19         14041.0             3799.0       61390.0     17840.0  \n",
       "20          2664.0                0.0        7952.0      2664.0  \n",
       "21             0.0             3726.0       21273.0      3726.0  \n",
       "22        267091.0            27269.0      428772.0    294360.0  \n",
       "23        170385.0            71484.0      366939.0    241869.0  \n",
       "24          7325.0             1937.0       10002.0      9262.0  \n",
       "25             0.0                0.0        2100.0         0.0  \n",
       "26        157731.0            50456.0      336398.0    208187.0  \n",
       "27         70699.0             9400.0       87135.0     80099.0  \n",
       "28         39559.0            10556.0       66756.0     50115.0  \n",
       "29        104791.0            31184.0      222475.0    135975.0  \n",
       "30         81754.0            21074.0      137419.0    102828.0  \n",
       "31             0.0                0.0        8526.0         0.0  \n",
       "32          2532.0                0.0        3548.0      2532.0  \n",
       "33          5933.0             1042.0       27721.0      6975.0  \n",
       "34        257975.0            33301.0      370730.0    291276.0  "
      ],
      "text/html": "<div>\n<style scoped>\n    .dataframe tbody tr th:only-of-type {\n        vertical-align: middle;\n    }\n\n    .dataframe tbody tr th {\n        vertical-align: top;\n    }\n\n    .dataframe thead th {\n        text-align: right;\n    }\n</style>\n<table border=\"1\" class=\"dataframe\">\n  <thead>\n    <tr style=\"text-align: right;\">\n      <th></th>\n      <th>Usuario</th>\n      <th>Gestor</th>\n      <th>NumeroPromesas</th>\n      <th>SumaRecCapital</th>\n      <th>SumaRecMoratorios</th>\n      <th>SumaPromesas</th>\n      <th>Recuperado</th>\n    </tr>\n  </thead>\n  <tbody>\n    <tr>\n      <th>0</th>\n      <td>ALHENANDEZA</td>\n      <td>ALVARADO HERNANDEZ ADRIANA</td>\n      <td>658</td>\n      <td>248617.0</td>\n      <td>71360.0</td>\n      <td>354893.0</td>\n      <td>319977.0</td>\n    </tr>\n    <tr>\n      <th>1</th>\n      <td>ARCHUNDIAMABEAL</td>\n      <td>ARCHUNDIA MACIAS BERNARDO ALEJANDRO</td>\n      <td>460</td>\n      <td>185557.0</td>\n      <td>44979.0</td>\n      <td>319362.0</td>\n      <td>230536.0</td>\n    </tr>\n    <tr>\n      <th>2</th>\n      <td>BEBAUTISTAJI</td>\n      <td>JIMENEZ BAUTISTA BERNARDO</td>\n      <td>1049</td>\n      <td>662019.0</td>\n      <td>61020.0</td>\n      <td>915467.0</td>\n      <td>723039.0</td>\n    </tr>\n    <tr>\n      <th>3</th>\n      <td>BENITEZFLIS</td>\n      <td>ISAMAR BENITEZ FLORES</td>\n      <td>96</td>\n      <td>16854.0</td>\n      <td>10780.0</td>\n      <td>125086.0</td>\n      <td>27634.0</td>\n    </tr>\n    <tr>\n      <th>4</th>\n      <td>CARDOSASEVEBRE</td>\n      <td>BRENDA EVELYN CARDOSA SEVEROÂ</td>\n      <td>728</td>\n      <td>399164.0</td>\n      <td>114290.0</td>\n      <td>529326.0</td>\n      <td>513454.0</td>\n    </tr>\n    <tr>\n      <th>5</th>\n      <td>CARMONAHEEL</td>\n      <td>CARMONA HERNANDEZ ELIZABETH</td>\n      <td>64</td>\n      <td>22385.0</td>\n      <td>19386.0</td>\n      <td>62956.0</td>\n      <td>41771.0</td>\n    </tr>\n    <tr>\n      <th>6</th>\n      <td>CASTROGAHG</td>\n      <td>HUGO GERARDO CASTRO GARCIA</td>\n      <td>366</td>\n      <td>144044.0</td>\n      <td>44483.0</td>\n      <td>336385.0</td>\n      <td>188527.0</td>\n    </tr>\n    <tr>\n      <th>7</th>\n      <td>CRHERNAYA</td>\n      <td>YAQUELIN CRUZ HERNANDEZ</td>\n      <td>378</td>\n      <td>227049.0</td>\n      <td>46454.0</td>\n      <td>350451.0</td>\n      <td>273503.0</td>\n    </tr>\n    <tr>\n      <th>8</th>\n      <td>CRSALINASDM</td>\n      <td>CRUZ SALINAS DEYSI MICHELLE</td>\n      <td>2</td>\n      <td>1264.0</td>\n      <td>0.0</td>\n      <td>4276.0</td>\n      <td>1264.0</td>\n    </tr>\n    <tr>\n      <th>9</th>\n      <td>DIONISIOGAAL</td>\n      <td>ALEJANDRA DIONISIO GALICIAÂ</td>\n      <td>358</td>\n      <td>181689.0</td>\n      <td>101422.0</td>\n      <td>225778.0</td>\n      <td>283111.0</td>\n    </tr>\n    <tr>\n      <th>10</th>\n      <td>ESROSALESJA</td>\n      <td>ESPAÃA ROSALES JANET</td>\n      <td>574</td>\n      <td>193345.0</td>\n      <td>94786.0</td>\n      <td>364043.0</td>\n      <td>288131.0</td>\n    </tr>\n    <tr>\n      <th>11</th>\n      <td>ESTRADAACGU</td>\n      <td>ESTRADA ACEVES GUSTAVO</td>\n      <td>2</td>\n      <td>0.0</td>\n      <td>0.0</td>\n      <td>5500.0</td>\n      <td>0.0</td>\n    </tr>\n    <tr>\n      <th>12</th>\n      <td>ESTRADAZUSE</td>\n      <td>ESTRADA ZUNIGA SUEMY ELIZABETH</td>\n      <td>73</td>\n      <td>18363.0</td>\n      <td>37657.0</td>\n      <td>70908.0</td>\n      <td>56020.0</td>\n    </tr>\n    <tr>\n      <th>13</th>\n      <td>Fegox</td>\n      <td>Fernando Gonzalez X.</td>\n      <td>62</td>\n      <td>18623.0</td>\n      <td>6251.0</td>\n      <td>28820.0</td>\n      <td>24874.0</td>\n    </tr>\n    <tr>\n      <th>14</th>\n      <td>GALVANESVIAL</td>\n      <td>GALVAN ESTRADA VICTOR ALFONSO</td>\n      <td>10</td>\n      <td>8502.0</td>\n      <td>335.0</td>\n      <td>7030.0</td>\n      <td>8837.0</td>\n    </tr>\n    <tr>\n      <th>15</th>\n      <td>GARCIAMOER</td>\n      <td>ERNESTO GARCIA MOTA</td>\n      <td>494</td>\n      <td>209521.0</td>\n      <td>48352.0</td>\n      <td>330719.0</td>\n      <td>257873.0</td>\n    </tr>\n    <tr>\n      <th>16</th>\n      <td>GLUGARDOZAM</td>\n      <td>GERMAN LUGARDO ZAMORA</td>\n      <td>470</td>\n      <td>202226.0</td>\n      <td>84986.0</td>\n      <td>333375.0</td>\n      <td>287212.0</td>\n    </tr>\n    <tr>\n      <th>17</th>\n      <td>GONZALEZMAED</td>\n      <td>EDGAR GONZALEZ MARCELINO</td>\n      <td>365</td>\n      <td>159976.0</td>\n      <td>31809.0</td>\n      <td>243338.0</td>\n      <td>191785.0</td>\n    </tr>\n    <tr>\n      <th>18</th>\n      <td>GONZALEZOLRI</td>\n      <td>RICARDO GONZALEZ OLMEDO</td>\n      <td>222</td>\n      <td>60629.0</td>\n      <td>26170.0</td>\n      <td>163517.0</td>\n      <td>86799.0</td>\n    </tr>\n    <tr>\n      <th>19</th>\n      <td>HEBALTAZARAL</td>\n      <td>HERNANDEZ BALTAZAR ALFREDO</td>\n      <td>63</td>\n      <td>14041.0</td>\n      <td>3799.0</td>\n      <td>61390.0</td>\n      <td>17840.0</td>\n    </tr>\n    <tr>\n      <th>20</th>\n      <td>HERNANDEZESBE</td>\n      <td>HERNANDEZ ESQUIVEL BERENICE</td>\n      <td>4</td>\n      <td>2664.0</td>\n      <td>0.0</td>\n      <td>7952.0</td>\n      <td>2664.0</td>\n    </tr>\n    <tr>\n      <th>21</th>\n      <td>JIVEJOFE</td>\n      <td>JIMENEZ VEGA JORGE FEDERICO</td>\n      <td>3</td>\n      <td>0.0</td>\n      <td>3726.0</td>\n      <td>21273.0</td>\n      <td>3726.0</td>\n    </tr>\n    <tr>\n      <th>22</th>\n      <td>LEONSASU</td>\n      <td>LEON SALINAS SUSANA</td>\n      <td>423</td>\n      <td>267091.0</td>\n      <td>27269.0</td>\n      <td>428772.0</td>\n      <td>294360.0</td>\n    </tr>\n    <tr>\n      <th>23</th>\n      <td>LOPEZMOME</td>\n      <td>MARIA ELENA LOPEZ MORA</td>\n      <td>582</td>\n      <td>170385.0</td>\n      <td>71484.0</td>\n      <td>366939.0</td>\n      <td>241869.0</td>\n    </tr>\n    <tr>\n      <th>24</th>\n      <td>MIMERAZPJ</td>\n      <td>MIRANDA MERAZ PAOLA JENNERY</td>\n      <td>22</td>\n      <td>7325.0</td>\n      <td>1937.0</td>\n      <td>10002.0</td>\n      <td>9262.0</td>\n    </tr>\n    <tr>\n      <th>25</th>\n      <td>OCHOAOLCA</td>\n      <td>CARLOS OCHOA OLIVO</td>\n      <td>1</td>\n      <td>0.0</td>\n      <td>0.0</td>\n      <td>2100.0</td>\n      <td>0.0</td>\n    </tr>\n    <tr>\n      <th>26</th>\n      <td>ORDONEZMAES</td>\n      <td>ORDOÃÂ±ES MARIA ESTHER</td>\n      <td>408</td>\n      <td>157731.0</td>\n      <td>50456.0</td>\n      <td>336398.0</td>\n      <td>208187.0</td>\n    </tr>\n    <tr>\n      <th>27</th>\n      <td>PEREZPAAN</td>\n      <td>ANA PEREZ PALMA</td>\n      <td>151</td>\n      <td>70699.0</td>\n      <td>9400.0</td>\n      <td>87135.0</td>\n      <td>80099.0</td>\n    </tr>\n    <tr>\n      <th>28</th>\n      <td>PLMALI</td>\n      <td>PLATA MARTINEZ LILIANA</td>\n      <td>111</td>\n      <td>39559.0</td>\n      <td>10556.0</td>\n      <td>66756.0</td>\n      <td>50115.0</td>\n    </tr>\n    <tr>\n      <th>29</th>\n      <td>QUIRINOMAJA</td>\n      <td>QUIRINO MARTINEZ JOSE ANGEL</td>\n      <td>257</td>\n      <td>104791.0</td>\n      <td>31184.0</td>\n      <td>222475.0</td>\n      <td>135975.0</td>\n    </tr>\n    <tr>\n      <th>30</th>\n      <td>SANCHEZPIYA</td>\n      <td>YARELI SANCHEZ PILAR</td>\n      <td>244</td>\n      <td>81754.0</td>\n      <td>21074.0</td>\n      <td>137419.0</td>\n      <td>102828.0</td>\n    </tr>\n    <tr>\n      <th>31</th>\n      <td>VALDEZESCE</td>\n      <td>VALDEZ ESTRADA CELSO</td>\n      <td>1</td>\n      <td>0.0</td>\n      <td>0.0</td>\n      <td>8526.0</td>\n      <td>0.0</td>\n    </tr>\n    <tr>\n      <th>32</th>\n      <td>VALENCIAMICA</td>\n      <td>VALENCIA MILIAN CARLOS</td>\n      <td>7</td>\n      <td>2532.0</td>\n      <td>0.0</td>\n      <td>3548.0</td>\n      <td>2532.0</td>\n    </tr>\n    <tr>\n      <th>33</th>\n      <td>VIEYRAITTR</td>\n      <td>TREJO VIEYRA ITZEL YANET</td>\n      <td>25</td>\n      <td>5933.0</td>\n      <td>1042.0</td>\n      <td>27721.0</td>\n      <td>6975.0</td>\n    </tr>\n    <tr>\n      <th>34</th>\n      <td>ZEPEDAESJI</td>\n      <td>JIMMY ZEPEDA ESPINOSA</td>\n      <td>474</td>\n      <td>257975.0</td>\n      <td>33301.0</td>\n      <td>370730.0</td>\n      <td>291276.0</td>\n    </tr>\n  </tbody>\n</table>\n</div>"
     },
     "metadata": {},
     "execution_count": 46
    }
   ],
   "source": [
    "promesas_gestor_rec = pd.pivot_table(consolidado_pagos_baz,index=['usuario','nombre_usuario'],values=['monto_promesa','RECUPERACION DE CAPITAL','RECUPERACION DE MORATORIOS'],aggfunc=['count',np.sum])\n",
    "promesas_gestor_rec = to_dataframe(promesas_gestor_rec)\n",
    "promesas_gestor_rec = promesas_gestor_rec.iloc[:,[0,1,4,5,6,7]]\n",
    "promesas_gestor_rec.columns = ['Usuario','Gestor','NumeroPromesas','SumaRecCapital','SumaRecMoratorios','SumaPromesas']\n",
    "promesas_gestor_rec['Recuperado'] = promesas_gestor_rec['SumaRecCapital']+promesas_gestor_rec['SumaRecMoratorios']\n",
    "promesas_gestor_rec"
   ]
  },
  {
   "cell_type": "code",
   "execution_count": 47,
   "metadata": {},
   "outputs": [
    {
     "output_type": "execute_result",
     "data": {
      "text/plain": [
       "       Usuario                  NombreUsuario  NumeroGestiones Gestor  \\\n",
       "0  AGUILARRIAL  AGUILAR RIOS DANIEL ALEJANDRO               96      0   \n",
       "\n",
       "   NumeroPromesas  SumaRecCapital  SumaRecMoratorios  SumaPromesas  Recuperado  \n",
       "0             0.0             0.0                0.0           0.0         0.0  "
      ],
      "text/html": "<div>\n<style scoped>\n    .dataframe tbody tr th:only-of-type {\n        vertical-align: middle;\n    }\n\n    .dataframe tbody tr th {\n        vertical-align: top;\n    }\n\n    .dataframe thead th {\n        text-align: right;\n    }\n</style>\n<table border=\"1\" class=\"dataframe\">\n  <thead>\n    <tr style=\"text-align: right;\">\n      <th></th>\n      <th>Usuario</th>\n      <th>NombreUsuario</th>\n      <th>NumeroGestiones</th>\n      <th>Gestor</th>\n      <th>NumeroPromesas</th>\n      <th>SumaRecCapital</th>\n      <th>SumaRecMoratorios</th>\n      <th>SumaPromesas</th>\n      <th>Recuperado</th>\n    </tr>\n  </thead>\n  <tbody>\n    <tr>\n      <th>0</th>\n      <td>AGUILARRIAL</td>\n      <td>AGUILAR RIOS DANIEL ALEJANDRO</td>\n      <td>96</td>\n      <td>0</td>\n      <td>0.0</td>\n      <td>0.0</td>\n      <td>0.0</td>\n      <td>0.0</td>\n      <td>0.0</td>\n    </tr>\n  </tbody>\n</table>\n</div>"
     },
     "metadata": {},
     "execution_count": 47
    }
   ],
   "source": [
    "control_baz_rec = pd.merge(gestion_gestor_rec,promesas_gestor_rec,how='left',on='Usuario')\n",
    "control_baz_rec.fillna(0,inplace=True)\n",
    "control_baz_rec['Usuario2'] = [x[:3] for x in control_baz_rec['Usuario']]\n",
    "control_baz_rec = control_baz_rec.loc[control_baz_rec['Usuario2']!='m08']\n",
    "control_baz_rec.drop('Usuario2',axis=1,inplace=True)\n",
    "control_baz_rec.head(1)"
   ]
  },
  {
   "cell_type": "code",
   "execution_count": 78,
   "metadata": {},
   "outputs": [],
   "source": [
    "final_baz_rec = pd.merge(control_baz_rec,control_performance_baz,how='left',on='Usuario')\n",
    "final_baz_rec.fillna(0,inplace=True)\n",
    "final_baz_rec['PromedioLlamadasHora'] = final_baz_rec['SumLlamadasDia']/final_baz_rec['SumHorasTrabajadas']\n",
    "final_baz_rec['PromedioOcupacion'] = final_baz_rec['PromedioOcupacion']/100\n",
    "final_baz_rec['EficienciaPagos'] = final_baz_rec['Recuperado']/final_baz_rec['SumaPromesas']\n",
    "final_baz_rec['PromesasHora'] = final_baz_rec['NumeroPromesas']/final_baz_rec['SumHorasTrabajadas']\n",
    "final_baz_rec['Usuario'] = final_baz_rec['Usuario'].str.upper()\n",
    "final_baz_rec = pd.merge(final_baz_rec,personal,on='Usuario',how='left')\n",
    "final_baz_rec['Estatus'].fillna('COBRANZA',inplace=True)\n",
    "final_baz_rec = final_baz_rec.loc[final_baz_rec['Estatus']=='COBRANZA']"
   ]
  },
  {
   "cell_type": "code",
   "execution_count": 80,
   "metadata": {},
   "outputs": [
    {
     "output_type": "execute_result",
     "data": {
      "text/plain": [
       "                   NombreUsuario  Recuperado  EficienciaPagos  \\\n",
       "0  AGUILAR RIOS DANIEL ALEJANDRO         0.0              0.0   \n",
       "\n",
       "   PromedioOcupacion  PromedioLlamadasHora  PromesasHora  \n",
       "0               0.12                 25.67           0.0  "
      ],
      "text/html": "<div>\n<style scoped>\n    .dataframe tbody tr th:only-of-type {\n        vertical-align: middle;\n    }\n\n    .dataframe tbody tr th {\n        vertical-align: top;\n    }\n\n    .dataframe thead th {\n        text-align: right;\n    }\n</style>\n<table border=\"1\" class=\"dataframe\">\n  <thead>\n    <tr style=\"text-align: right;\">\n      <th></th>\n      <th>NombreUsuario</th>\n      <th>Recuperado</th>\n      <th>EficienciaPagos</th>\n      <th>PromedioOcupacion</th>\n      <th>PromedioLlamadasHora</th>\n      <th>PromesasHora</th>\n    </tr>\n  </thead>\n  <tbody>\n    <tr>\n      <th>0</th>\n      <td>AGUILAR RIOS DANIEL ALEJANDRO</td>\n      <td>0.0</td>\n      <td>0.0</td>\n      <td>0.12</td>\n      <td>25.67</td>\n      <td>0.0</td>\n    </tr>\n  </tbody>\n</table>\n</div>"
     },
     "metadata": {},
     "execution_count": 80
    }
   ],
   "source": [
    "final_baz_rec2 = final_baz_rec.iloc[:,[1,8,14,12,13,15]]\n",
    "cols = ['Recuperado','EficienciaPagos','PromedioOcupacion','PromedioLlamadasHora','PromesasHora']\n",
    "final_baz_rec2[cols] = final_baz_rec2[cols].round(2)\n",
    "final_baz_rec2.fillna(0,inplace=True)\n",
    "final_baz_rec2.head(1)"
   ]
  },
  {
   "cell_type": "code",
   "execution_count": 28,
   "metadata": {},
   "outputs": [],
   "source": [
    "# writer = pd.ExcelWriter(''+ruta_guardar+'/Gestores/Banco Azteca/Reporte Gestor Banco Azteca '+now+'.xlsx',engine='xlsxwriter')\n",
    "# final_baz_rec2.to_excel(writer,'BSC',index=False,header=True)\n",
    "# control_performance_baz.to_excel(writer,'PerformanceDetallado',index=False,header=True)\n",
    "# control_performance_baz_turno.to_excel(writer,'PerformanceTurno',index=False,header=True)\n",
    "# final_baz_rec.to_excel(writer,'GestionesDetallado',index=False,header=True)\n",
    "\n",
    "# writer.save()"
   ]
  },
  {
   "cell_type": "code",
   "execution_count": null,
   "metadata": {},
   "outputs": [],
   "source": []
  }
 ]
}