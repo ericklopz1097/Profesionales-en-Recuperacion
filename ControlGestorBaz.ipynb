{
 "metadata": {
  "language_info": {
   "codemirror_mode": {
    "name": "ipython",
    "version": 3
   },
   "file_extension": ".py",
   "mimetype": "text/x-python",
   "name": "python",
   "nbconvert_exporter": "python",
   "pygments_lexer": "ipython3",
   "version": "3.7.6-final"
  },
  "orig_nbformat": 2,
  "kernelspec": {
   "name": "python3",
   "display_name": "Python 3",
   "language": "python"
  }
 },
 "nbformat": 4,
 "nbformat_minor": 2,
 "cells": [
  {
   "cell_type": "code",
   "execution_count": 1,
   "metadata": {},
   "outputs": [],
   "source": [
    "import pandas as pd\n",
    "import numpy as np\n",
    "import mysql.connector\n",
    "import os\n",
    "from mysql.connector import Error\n",
    "from datetime import datetime, date, timedelta\n",
    "import re\n",
    "from IPython.core.interactiveshell import InteractiveShell\n",
    "InteractiveShell.ast_node_interactivity = \"all\""
   ]
  },
  {
   "cell_type": "code",
   "execution_count": 2,
   "metadata": {},
   "outputs": [],
   "source": [
    "#Definimos la ruta en donde queremos guardar los archivos\n",
    "ruta_guardar = '/home/estadistico/Documents/Erick/Reportes diarios'\n",
    "ruta_pagos = '/home/estadistico/Documents/Erick'\n",
    "mes = 20201201\n",
    "mes2 = 'Diciembre2020'\n",
    "mes3 = pd.to_datetime('01/12/2020',dayfirst=True)\n",
    "prim_sem_mes = 49"
   ]
  },
  {
   "cell_type": "code",
   "execution_count": 3,
   "metadata": {},
   "outputs": [],
   "source": [
    "#Agregamos las variables a ocupar\n",
    "servidor = '192.168.15.12'\n",
    "puerto = 3306\n",
    "usuario = 'estadisticas'\n",
    "contrasena = 'estadisticas8474'\n",
    "base = 'procesos_externos'"
   ]
  },
  {
   "cell_type": "code",
   "execution_count": 4,
   "metadata": {},
   "outputs": [],
   "source": [
    "#Asignamos valores a los parametros \\n\"\n",
    "today = date.today().strftime('%Y%m%d')\n",
    "today = 20201231\n",
    "now = datetime.now().strftime('%d-%m-%Y %H:%M')\n",
    "hoy = np.datetime64('today')\n",
    "ayer = np.datetime64(date.today() - timedelta(1))\n",
    "today2 = date.today().strftime('%d-%m-%Y')"
   ]
  },
  {
   "cell_type": "code",
   "execution_count": 5,
   "metadata": {},
   "outputs": [],
   "source": [
    "#Lectura pagos Banco Azteca\n",
    "sheet_baz_renta = os.listdir(''+ruta_pagos+'/'+str(mes2)+'/Banco Azteca/Pagos/Renta')\n",
    "pagos_baz_renta = pd.DataFrame()\n",
    "for i in sheet_baz_renta:\n",
    "    pagos_baz_renta_new = pd.read_csv(''+ruta_pagos+'/'+str(mes2)+'/Banco Azteca/Pagos/Renta/'+i+'')\n",
    "    pagos_baz_renta = pd.concat([pagos_baz_renta,pagos_baz_renta_new],ignore_index=True)\n",
    "pagos_baz_renta = pagos_baz_renta.drop_duplicates()\n",
    "pagos_baz_renta = pagos_baz_renta.loc[pagos_baz_renta['FNMONTOPAGADO']>0]\n",
    "pagos_baz_renta['FDFECHAABONO'] = pd.to_datetime(pagos_baz_renta['FDFECHAABONO'],dayfirst=True)\n",
    "pagos_baz_renta = pagos_baz_renta.loc[pagos_baz_renta['FDFECHAABONO']>=mes3]\n",
    "pagos_baz_renta2 = pd.pivot_table(pagos_baz_renta,index=['CAMPANAID','FDFECHAABONO','FIIDPERIODO','FNSCOMPROMISO','FCEMPNUMCORTE','FNMONTOPROMETIDO'],values=['FNMONTOPAGADO'],aggfunc=np.sum)\n",
    "pagos_baz_renta2 = pd.DataFrame(pagos_baz_renta2.to_records())"
   ]
  },
  {
   "cell_type": "code",
   "execution_count": 6,
   "metadata": {},
   "outputs": [],
   "source": [
    "#Lectura pagos Banco Azteca\n",
    "sheet_baz_recovery = os.listdir(''+ruta_pagos+'/'+str(mes2)+'/Banco Azteca/Pagos/Recovery/')\n",
    "pagos_baz_recovery = pd.DataFrame()\n",
    "for k in sheet_baz_recovery:\n",
    "    pagos_baz_recovery_new = pd.read_csv(''+ruta_pagos+'/'+str(mes2)+'/Banco Azteca/Pagos/Recovery/'+k+'',sep='|')\n",
    "    pagos_baz_recovery = pd.concat([pagos_baz_recovery,pagos_baz_recovery_new],ignore_index=True)\n",
    "pagos_baz_recovery['Cartera'] = 'Recovery'\n",
    "pagos_baz_recovery['DIA'] = pd.to_datetime(pagos_baz_recovery['DIA'],dayfirst=True)\n",
    "pagos_baz_recovery = pagos_baz_recovery.loc[pagos_baz_recovery['DIA']>=mes3]\n",
    "pagos_baz_recovery = pagos_baz_recovery.loc[pagos_baz_recovery['DIA']>=mes3]\n",
    "pagos_baz_recovery['credito'] = pagos_baz_recovery['PAIS'].map(str)+'-'+pagos_baz_recovery['CANAL'].map(str)+'-'+pagos_baz_recovery['SUCURSAL'].map(str)+'-'+pagos_baz_recovery['FOLIO'].map(str)\n",
    "pagos_baz_recovery = pagos_baz_recovery.drop_duplicates()"
   ]
  },
  {
   "cell_type": "code",
   "execution_count": 7,
   "metadata": {},
   "outputs": [
    {
     "output_type": "execute_result",
     "data": {
      "text/plain": [
       "   ANIO  SEMANA        DIA  PAIS  CANAL  SUCURSAL  FOLIO  \\\n",
       "0  2020      52 2020-12-21     1     39      4033  18954   \n",
       "\n",
       "   RECUPERACION DE CAPITAL  RECUPERACION DE MORATORIOS  SALDO ACTUAL  \\\n",
       "0                        0                         500       30770.0   \n",
       "\n",
       "   MORATORIOS ACTUAL FECHA GESTION CARGO AUTOMATICO cartera          credito  \n",
       "0             1635.0    21/12/2020               NO   26-39  1-39-4033-18954  "
      ],
      "text/html": "<div>\n<style scoped>\n    .dataframe tbody tr th:only-of-type {\n        vertical-align: middle;\n    }\n\n    .dataframe tbody tr th {\n        vertical-align: top;\n    }\n\n    .dataframe thead th {\n        text-align: right;\n    }\n</style>\n<table border=\"1\" class=\"dataframe\">\n  <thead>\n    <tr style=\"text-align: right;\">\n      <th></th>\n      <th>ANIO</th>\n      <th>SEMANA</th>\n      <th>DIA</th>\n      <th>PAIS</th>\n      <th>CANAL</th>\n      <th>SUCURSAL</th>\n      <th>FOLIO</th>\n      <th>RECUPERACION DE CAPITAL</th>\n      <th>RECUPERACION DE MORATORIOS</th>\n      <th>SALDO ACTUAL</th>\n      <th>MORATORIOS ACTUAL</th>\n      <th>FECHA GESTION</th>\n      <th>CARGO AUTOMATICO</th>\n      <th>cartera</th>\n      <th>credito</th>\n    </tr>\n  </thead>\n  <tbody>\n    <tr>\n      <th>0</th>\n      <td>2020</td>\n      <td>52</td>\n      <td>2020-12-21</td>\n      <td>1</td>\n      <td>39</td>\n      <td>4033</td>\n      <td>18954</td>\n      <td>0</td>\n      <td>500</td>\n      <td>30770.0</td>\n      <td>1635.0</td>\n      <td>21/12/2020</td>\n      <td>NO</td>\n      <td>26-39</td>\n      <td>1-39-4033-18954</td>\n    </tr>\n  </tbody>\n</table>\n</div>"
     },
     "metadata": {},
     "execution_count": 7
    }
   ],
   "source": [
    "#Lectura pagos Banco Azteca\n",
    "sheet_baz_26 = os.listdir(''+ruta_pagos+'/'+str(mes2)+'/Banco Azteca/Pagos/26-39/')\n",
    "pagos_baz_26 = pd.DataFrame()\n",
    "for j in sheet_baz_26:\n",
    "    pagos_baz_26_new = pd.read_csv(''+ruta_pagos+'/'+str(mes2)+'/Banco Azteca/Pagos/26-39/'+j+'',sep='|')\n",
    "    pagos_baz_26 = pd.concat([pagos_baz_26,pagos_baz_26_new],ignore_index=True)\n",
    "pagos_baz_26['cartera'] = '26-39'\n",
    "pagos_baz_26['DIA'] = pd.to_datetime(pagos_baz_26['DIA'],dayfirst=True)\n",
    "pagos_baz_26 = pagos_baz_26.loc[pagos_baz_26['DIA']>=mes3]\n",
    "pagos_baz_26['credito'] = pagos_baz_26['PAIS'].map(str)+'-'+pagos_baz_26['CANAL'].map(str)+'-'+pagos_baz_26['SUCURSAL'].map(str)+'-'+pagos_baz_26['FOLIO'].map(str)\n",
    "pagos_baz_26 = pagos_baz_26.drop_duplicates()\n",
    "pagos_baz_26.head(1)"
   ]
  },
  {
   "cell_type": "code",
   "execution_count": 8,
   "metadata": {},
   "outputs": [],
   "source": [
    "#Hacemos la conexion con el servidor\\n\",\n",
    "try: \n",
    "    conn = mysql.connector.connect(user=usuario,\n",
    "                               password=contrasena,\n",
    "                               host=servidor,\n",
    "                               port=puerto,\n",
    "                               database=base)\n",
    "    conn.set_charset_collation('latin1')\n",
    "except mysql.Error as e:\n",
    "    print(\"Failed to execute stored procedure: {}\".format(error))\n",
    "\n",
    "cursor = conn.cursor()"
   ]
  },
  {
   "cell_type": "code",
   "execution_count": 9,
   "metadata": {},
   "outputs": [],
   "source": [
    "#Funcion para hacer la consulta sql, ya sea de gestion o de asignacion en donde requerimos tres parametros, la tabla de donde vamos a sacar la consulta, en caso de asignacin requerimos los otros dos parametros fecha inicial y fecha final\n",
    "def consulta_sql(table,from_date=None,to_date=None,campana=None):\n",
    "    if campana is None:\n",
    "        if from_date is None:\n",
    "            sql_mes = cursor.callproc(table,)\n",
    "            for result in cursor.stored_results():\n",
    "                sql_mes = pd.DataFrame(result.fetchall())\n",
    "        else:\n",
    "            sql_mes = cursor.callproc(table, [from_date,to_date])\n",
    "            for result in cursor.stored_results():\n",
    "                sql_mes = pd.DataFrame(result.fetchall())\n",
    "    else:\n",
    "        sql_mes = cursor.callproc(table, [from_date,to_date,campana])\n",
    "        for result in cursor.stored_results():\n",
    "                sql_mes = pd.DataFrame(result.fetchall())\n",
    "    sql_mes = sql_mes.drop_duplicates()\n",
    "    return sql_mes"
   ]
  },
  {
   "cell_type": "code",
   "execution_count": 10,
   "metadata": {},
   "outputs": [],
   "source": [
    "#Funcion para transformar varias columnas a numero\n",
    "def transform_numeric(df,cols):\n",
    "    return df[cols].apply(pd.to_numeric, errors='coerce')\n",
    "\n",
    "#Funcion que convierte a dataframe y rellena espacios con 0\n",
    "def to_dataframe(df):\n",
    "    df = pd.DataFrame(df.to_records())\n",
    "    df.fillna(0,inplace=True)\n",
    "    return df\n",
    "\n",
    "#Funcion que quita el % del string\n",
    "def percent_tonumeric(df,cols):\n",
    "    for c in cols:\n",
    "        df[c] = [x[:-2] for x in df[c]]\n",
    "    return transform_numeric(df,cols)"
   ]
  },
  {
   "source": [
    "# Llamadas Detallado Banco Azteca"
   ],
   "cell_type": "markdown",
   "metadata": {}
  },
  {
   "cell_type": "code",
   "execution_count": 11,
   "metadata": {},
   "outputs": [],
   "source": [
    "#Hacemos la consulta referente a las gestiones de Credifiel\n",
    "#llamadas_cred = consulta_sql('procesos_externos.all_rpt_llamadas_detallado',mes,today,'(^BAZ)')\n",
    "#llamadas_cred.columns = ['server_ip','uniqueid','call_type','call_date','campaign_id','campaign_name','list_id',#'list_name','lead_id','vendor_lead_id','vendor_lead_name','phone_number','status','status_name','username','full_name','term_reason_call','queue_seconds','length_in_sec','call_date_short','call_time_short','call_time_hour','call_range_hour','dialstatus','hangup_cause','sip_hangup_cause','carrier','areacode','state','region']\n",
    "#llamadas_cred.head(1)"
   ]
  },
  {
   "cell_type": "code",
   "execution_count": 12,
   "metadata": {},
   "outputs": [],
   "source": [
    "#llamadas_cred['turno'] = np.where(llamadas_cred['call_time_hour']<=14,'M','V')"
   ]
  },
  {
   "source": [
    "# Performance Banco Azteca"
   ],
   "cell_type": "markdown",
   "metadata": {}
  },
  {
   "cell_type": "code",
   "execution_count": 13,
   "metadata": {},
   "outputs": [],
   "source": [
    "#Hacemos la consulta referente al performance del Gestor\n",
    "performance_all = consulta_sql('procesos_externos.all_rpt_agent_performance',mes,today)\n",
    "performance_all.columns = ['fecha','usuario','nombre_usuario','user_group','llamadas','aht','ocupacion','adherencia','login_vici','logout_vici','staff_time','wait_time','talk_time','dispo_time','pause','login','manual','gestion','agua','alimentos','sanitario','retroalimentacion','tranferencia','validacion','whatsapp','incumplimiento','recordatorios','capacitacion','sistemas','lagged','tipificando','*']"
   ]
  },
  {
   "cell_type": "code",
   "execution_count": 14,
   "metadata": {},
   "outputs": [],
   "source": [
    "performance_all['user_group2'] = [x[:3] for x in performance_all['user_group']]\n",
    "performance_baz = performance_all.loc[performance_all['user_group2']=='BAZ']\n",
    "performance_baz[['ocupacion','adherencia']] = percent_tonumeric(performance_baz,['ocupacion','adherencia'])"
   ]
  },
  {
   "cell_type": "code",
   "execution_count": 15,
   "metadata": {},
   "outputs": [],
   "source": [
    "performance_baz['hora_login'] = [int(x[:2]) for x in performance_baz['login_vici']]\n",
    "performance_baz['hora_logout'] = [int(x[:2]) for x in performance_baz['logout_vici']]\n",
    "performance_baz['turno'] = np.where((performance_baz['hora_logout']<=14)&(performance_baz['hora_logout']-performance_baz['hora_login']<=8),'M',\n",
    "                                    np.where((performance_baz['hora_logout']>17)&(performance_baz['hora_logout']-performance_baz['hora_login']<=8),'V','Mixto'))"
   ]
  },
  {
   "cell_type": "code",
   "execution_count": 16,
   "metadata": {},
   "outputs": [],
   "source": [
    "performance_baz['horas_trabajadas'] = performance_baz['hora_logout']-performance_baz['hora_login']\n",
    "performance_baz['llamadas_hora'] = performance_baz['llamadas']/performance_baz['horas_trabajadas']\n",
    "performance_baz['llamadas_hora'] = performance_baz['llamadas_hora'].round(1)"
   ]
  },
  {
   "cell_type": "code",
   "execution_count": 17,
   "metadata": {},
   "outputs": [
    {
     "output_type": "execute_result",
     "data": {
      "text/plain": [
       "       Usuario                      Gestor  Turno  SumHorasTrabajadas  \\\n",
       "0  ALHENANDEZA  ADRIANA ALVARADO HERNANDEZ      M                  14   \n",
       "1  ALHENANDEZA  ADRIANA ALVARADO HERNANDEZ  Mixto                   3   \n",
       "\n",
       "   SumLlamadasDia  SumOcupacion  PromedioHorasTrab  PromedioLlamadasDia  \\\n",
       "0             402         62.01                7.0                201.0   \n",
       "1              92         28.29                3.0                 92.0   \n",
       "\n",
       "   PromedioOcupacion  DiasAsitencia  MinHoras  MinLlamadasDia  MinOcupacion  \\\n",
       "0             31.005              2         7             186         26.41   \n",
       "1             28.290              1         3              92         28.29   \n",
       "\n",
       "   MaxHoras  MaxLlamadasDia  MaxOcupacion  LlamadasHora  \n",
       "0         7             216         35.60     28.714286  \n",
       "1         3              92         28.29     30.666667  "
      ],
      "text/html": "<div>\n<style scoped>\n    .dataframe tbody tr th:only-of-type {\n        vertical-align: middle;\n    }\n\n    .dataframe tbody tr th {\n        vertical-align: top;\n    }\n\n    .dataframe thead th {\n        text-align: right;\n    }\n</style>\n<table border=\"1\" class=\"dataframe\">\n  <thead>\n    <tr style=\"text-align: right;\">\n      <th></th>\n      <th>Usuario</th>\n      <th>Gestor</th>\n      <th>Turno</th>\n      <th>SumHorasTrabajadas</th>\n      <th>SumLlamadasDia</th>\n      <th>SumOcupacion</th>\n      <th>PromedioHorasTrab</th>\n      <th>PromedioLlamadasDia</th>\n      <th>PromedioOcupacion</th>\n      <th>DiasAsitencia</th>\n      <th>MinHoras</th>\n      <th>MinLlamadasDia</th>\n      <th>MinOcupacion</th>\n      <th>MaxHoras</th>\n      <th>MaxLlamadasDia</th>\n      <th>MaxOcupacion</th>\n      <th>LlamadasHora</th>\n    </tr>\n  </thead>\n  <tbody>\n    <tr>\n      <th>0</th>\n      <td>ALHENANDEZA</td>\n      <td>ADRIANA ALVARADO HERNANDEZ</td>\n      <td>M</td>\n      <td>14</td>\n      <td>402</td>\n      <td>62.01</td>\n      <td>7.0</td>\n      <td>201.0</td>\n      <td>31.005</td>\n      <td>2</td>\n      <td>7</td>\n      <td>186</td>\n      <td>26.41</td>\n      <td>7</td>\n      <td>216</td>\n      <td>35.60</td>\n      <td>28.714286</td>\n    </tr>\n    <tr>\n      <th>1</th>\n      <td>ALHENANDEZA</td>\n      <td>ADRIANA ALVARADO HERNANDEZ</td>\n      <td>Mixto</td>\n      <td>3</td>\n      <td>92</td>\n      <td>28.29</td>\n      <td>3.0</td>\n      <td>92.0</td>\n      <td>28.290</td>\n      <td>1</td>\n      <td>3</td>\n      <td>92</td>\n      <td>28.29</td>\n      <td>3</td>\n      <td>92</td>\n      <td>28.29</td>\n      <td>30.666667</td>\n    </tr>\n  </tbody>\n</table>\n</div>"
     },
     "metadata": {},
     "execution_count": 17
    }
   ],
   "source": [
    "control_performance_baz_turno = pd.pivot_table(performance_baz,index=['usuario','nombre_usuario','turno'],values=['llamadas','ocupacion','horas_trabajadas'],aggfunc=[np.sum,np.mean,'count',min,max])\n",
    "control_performance_baz_turno = to_dataframe(control_performance_baz_turno)\n",
    "control_performance_baz_turno = control_performance_baz_turno.iloc[:,[0,1,2,3,4,5,6,7,8,9,12,13,14,15,16,17]]\n",
    "control_performance_baz_turno.columns = ['Usuario','Gestor','Turno','SumHorasTrabajadas','SumLlamadasDia','SumOcupacion','PromedioHorasTrab','PromedioLlamadasDia','PromedioOcupacion','DiasAsitencia','MinHoras','MinLlamadasDia','MinOcupacion','MaxHoras','MaxLlamadasDia','MaxOcupacion']\n",
    "control_performance_baz_turno['LlamadasHora'] = control_performance_baz_turno['SumLlamadasDia']/control_performance_baz_turno['SumHorasTrabajadas']\n",
    "control_performance_baz_turno.head(2)"
   ]
  },
  {
   "cell_type": "code",
   "execution_count": 18,
   "metadata": {},
   "outputs": [],
   "source": [
    "control_performance_baz_turno2 = control_performance_baz_turno[['Gestor','Turno','LlamadasHora','PromedioOcupacion']]"
   ]
  },
  {
   "cell_type": "code",
   "execution_count": 19,
   "metadata": {},
   "outputs": [
    {
     "output_type": "execute_result",
     "data": {
      "text/plain": [
       "           Usuario  SumHorasTrabajadas  SumLlamadasDia  PromedioLlamadasDia  \\\n",
       "0      ALHENANDEZA                 142            4172                190.0   \n",
       "1   ALVARADORODAAR                   2              53                 53.0   \n",
       "2  ARCHUNDIAMABEAL                 192            5739                221.0   \n",
       "\n",
       "   PromedioOcupacion  PromedioLlamadasHora  \n",
       "0               30.0                  29.0  \n",
       "1               46.0                  26.0  \n",
       "2               45.0                  30.0  "
      ],
      "text/html": "<div>\n<style scoped>\n    .dataframe tbody tr th:only-of-type {\n        vertical-align: middle;\n    }\n\n    .dataframe tbody tr th {\n        vertical-align: top;\n    }\n\n    .dataframe thead th {\n        text-align: right;\n    }\n</style>\n<table border=\"1\" class=\"dataframe\">\n  <thead>\n    <tr style=\"text-align: right;\">\n      <th></th>\n      <th>Usuario</th>\n      <th>SumHorasTrabajadas</th>\n      <th>SumLlamadasDia</th>\n      <th>PromedioLlamadasDia</th>\n      <th>PromedioOcupacion</th>\n      <th>PromedioLlamadasHora</th>\n    </tr>\n  </thead>\n  <tbody>\n    <tr>\n      <th>0</th>\n      <td>ALHENANDEZA</td>\n      <td>142</td>\n      <td>4172</td>\n      <td>190.0</td>\n      <td>30.0</td>\n      <td>29.0</td>\n    </tr>\n    <tr>\n      <th>1</th>\n      <td>ALVARADORODAAR</td>\n      <td>2</td>\n      <td>53</td>\n      <td>53.0</td>\n      <td>46.0</td>\n      <td>26.0</td>\n    </tr>\n    <tr>\n      <th>2</th>\n      <td>ARCHUNDIAMABEAL</td>\n      <td>192</td>\n      <td>5739</td>\n      <td>221.0</td>\n      <td>45.0</td>\n      <td>30.0</td>\n    </tr>\n  </tbody>\n</table>\n</div>"
     },
     "metadata": {},
     "execution_count": 19
    }
   ],
   "source": [
    "control_performance_baz = pd.pivot_table(performance_baz,index=['usuario'],values=['llamadas','ocupacion','horas_trabajadas'],aggfunc=[np.sum,np.mean,'count',min,max])\n",
    "control_performance_baz = to_dataframe(control_performance_baz)\n",
    "control_performance_baz = control_performance_baz.iloc[:,[0,1,2,5,6]]\n",
    "control_performance_baz.columns = ['Usuario','SumHorasTrabajadas','SumLlamadasDia','PromedioLlamadasDia','PromedioOcupacion']\n",
    "control_performance_baz['PromedioLlamadasHora'] = control_performance_baz['SumLlamadasDia']/control_performance_baz['SumHorasTrabajadas']\n",
    "cols = ['PromedioLlamadasDia','PromedioLlamadasHora','PromedioOcupacion']\n",
    "control_performance_baz[cols] = control_performance_baz[cols].round()\n",
    "control_performance_baz.head(3)"
   ]
  },
  {
   "source": [
    "# Gestion Banco Azteca"
   ],
   "cell_type": "markdown",
   "metadata": {}
  },
  {
   "cell_type": "code",
   "execution_count": 20,
   "metadata": {},
   "outputs": [],
   "source": [
    "#Hacemos la consulta referente a las gestiones de Banco Azteca\n",
    "gestion_baz = consulta_sql('baz_rpt_gestiones_detallado',mes,today)\n",
    "gestion_baz.columns = ['folio_gestion','firma_id','unegocio_id','credito','nombre_credito','telefono','tipo_telefono','fecha_gestion','usuario','nombre_usuario','dictamen','accion_resultado','fecha_promesa','monto_promesa','comentarios']"
   ]
  },
  {
   "cell_type": "code",
   "execution_count": 21,
   "metadata": {},
   "outputs": [],
   "source": [
    "#try: gestion_baz['anio_prom'] = [int(x[:4]) for x in gestion_baz['fecha_promesa']]\n",
    "#except: gestion_baz['anio_prom'] = 0\n",
    "#gestion_baz = gestion_baz.loc[gestion_baz['anio_prom']<2030]\n",
    "gestion_baz = gestion_baz.drop_duplicates()\n",
    "gestion_baz['monto_promesa'] = pd.to_numeric(gestion_baz['monto_promesa'])\n",
    "gestion_baz['usuario'] = [x.rstrip() for x in gestion_baz['usuario']]\n",
    "#gestion_baz['fecha_promesa'] = pd.to_datetime(gestion_baz['fecha_promesa'],dayfirst=False)"
   ]
  },
  {
   "cell_type": "code",
   "execution_count": 22,
   "metadata": {},
   "outputs": [],
   "source": [
    "gestion_gestor_rec = pd.pivot_table(gestion_baz,index=['usuario','nombre_usuario'],values=['fecha_gestion'],aggfunc='count')\n",
    "gestion_gestor_rec = to_dataframe(gestion_gestor_rec)\n",
    "gestion_gestor_rec.columns = ['Usuario','NombreUsuario','NumeroGestiones']"
   ]
  },
  {
   "cell_type": "code",
   "execution_count": 23,
   "metadata": {},
   "outputs": [],
   "source": [
    "promesas_baz = gestion_baz.loc[gestion_baz['dictamen']=='PROMESA']\n",
    "promesas_baz = promesas_baz.loc[(promesas_baz['monto_promesa']>10) & (promesas_baz['monto_promesa']<500000)]"
   ]
  },
  {
   "cell_type": "code",
   "execution_count": 24,
   "metadata": {},
   "outputs": [],
   "source": [
    "pagos_baz = pd.concat([pagos_baz_26,pagos_baz_recovery],ignore_index=True)\n",
    "pagos_baz = pagos_baz.loc[pagos_baz['CARGO AUTOMATICO']=='NO']\n",
    "consolidado_pagos_baz = pd.merge(promesas_baz,pagos_baz,how='left',on=['credito'])\n",
    "#consolidado_pagos_baz.head(1)"
   ]
  },
  {
   "cell_type": "code",
   "execution_count": 25,
   "metadata": {},
   "outputs": [],
   "source": [
    "z = consolidado_pagos_baz.loc[consolidado_pagos_baz['RECUPERACION DE CAPITAL']+consolidado_pagos_baz['RECUPERACION DE MORATORIOS']>consolidado_pagos_baz['monto_promesa']]"
   ]
  },
  {
   "cell_type": "code",
   "execution_count": 26,
   "metadata": {},
   "outputs": [
    {
     "output_type": "execute_result",
     "data": {
      "text/plain": [
       "            Usuario  NumeroPromesas  SumaRecCapital  SumaRecMoratorios  \\\n",
       "0       ALHENANDEZA             451        156330.0            42707.0   \n",
       "1   ARCHUNDIAMABEAL             310        122335.0            22013.0   \n",
       "2      BEBAUTISTAJI             801        540950.0            90541.0   \n",
       "3       BENITEZFLIS             115         26047.0            41945.0   \n",
       "4    CARDOSASEVEBRE             516        275033.0            92460.0   \n",
       "5       CARMONAHEEL              10          1229.0              400.0   \n",
       "6        CASTROGAHG             455        256158.0            89825.0   \n",
       "7         CRHERNAYA             172         74156.0            39097.0   \n",
       "8       CRSALINASDM               3          2184.0             1218.0   \n",
       "9      DIONISIOGAAL             263         75273.0            80160.0   \n",
       "10      ESROSALESJA             392        120780.0           103175.0   \n",
       "11      ESTRADAZUSE              90         38557.0            52880.0   \n",
       "12            Fegox              86         49197.0            12816.0   \n",
       "13     GALVANESVIAL              10          2472.0             1066.0   \n",
       "14       GARCIAMOER             399        160722.0            69519.0   \n",
       "15      GLUGARDOZAM             267        122263.0            56243.0   \n",
       "16     GONZALEZMAED             248         99315.0            40474.0   \n",
       "17     GONZALEZOLRI             199         70622.0            24270.0   \n",
       "18     HEBALTAZARAL              81         52868.0            14501.0   \n",
       "19    HERNANDEZESBE               1          1072.0              926.0   \n",
       "20         JIVEJOFE               2          2213.0             6120.0   \n",
       "21         LEONSASU             385        285946.0            50319.0   \n",
       "22        LOPEZMOME             277         89075.0            55015.0   \n",
       "23        MIMERAZPJ              19          7234.0             2132.0   \n",
       "24      ORDONEZMAES             214         88494.0            32471.0   \n",
       "25        PEREZPAAN             199         98773.0            28688.0   \n",
       "26           PLMALI             148         79839.0            19038.0   \n",
       "27      QUIRINOMAJA             145         63404.0            35792.0   \n",
       "28      SANCHEZPIYA             216        102292.0            38690.0   \n",
       "29       VALDEZESCE               1             0.0                0.0   \n",
       "30     VALENCIAMICA               7          3142.0             1218.0   \n",
       "31       VIEYRAITTR              40         17505.0            15192.0   \n",
       "32       ZEPEDAESJI             395        176324.0            77456.0   \n",
       "\n",
       "    SumaPromesas  Recuperado  \n",
       "0       218085.0    199037.0  \n",
       "1       175410.0    144348.0  \n",
       "2       677759.0    631491.0  \n",
       "3       151096.0     67992.0  \n",
       "4       332353.0    367493.0  \n",
       "5        12824.0      1629.0  \n",
       "6       353495.0    345983.0  \n",
       "7       163048.0    113253.0  \n",
       "8         6414.0      3402.0  \n",
       "9       137432.0    155433.0  \n",
       "10      202961.0    223955.0  \n",
       "11       76040.0     91437.0  \n",
       "12       39801.0     62013.0  \n",
       "13        6792.0      3538.0  \n",
       "14      269198.0    230241.0  \n",
       "15      202181.0    178506.0  \n",
       "16      157997.0    139789.0  \n",
       "17      135543.0     94892.0  \n",
       "18       76900.0     67369.0  \n",
       "19        1988.0      1998.0  \n",
       "20       14182.0      8333.0  \n",
       "21      374244.0    336265.0  \n",
       "22      183921.0    144090.0  \n",
       "23        8633.0      9366.0  \n",
       "24      140311.0    120965.0  \n",
       "25      112121.0    127461.0  \n",
       "26       85888.0     98877.0  \n",
       "27      119555.0     99196.0  \n",
       "28      129346.0    140982.0  \n",
       "29        8526.0         0.0  \n",
       "30        3859.0      4360.0  \n",
       "31       50272.0     32697.0  \n",
       "32      292371.0    253780.0  "
      ],
      "text/html": "<div>\n<style scoped>\n    .dataframe tbody tr th:only-of-type {\n        vertical-align: middle;\n    }\n\n    .dataframe tbody tr th {\n        vertical-align: top;\n    }\n\n    .dataframe thead th {\n        text-align: right;\n    }\n</style>\n<table border=\"1\" class=\"dataframe\">\n  <thead>\n    <tr style=\"text-align: right;\">\n      <th></th>\n      <th>Usuario</th>\n      <th>NumeroPromesas</th>\n      <th>SumaRecCapital</th>\n      <th>SumaRecMoratorios</th>\n      <th>SumaPromesas</th>\n      <th>Recuperado</th>\n    </tr>\n  </thead>\n  <tbody>\n    <tr>\n      <th>0</th>\n      <td>ALHENANDEZA</td>\n      <td>451</td>\n      <td>156330.0</td>\n      <td>42707.0</td>\n      <td>218085.0</td>\n      <td>199037.0</td>\n    </tr>\n    <tr>\n      <th>1</th>\n      <td>ARCHUNDIAMABEAL</td>\n      <td>310</td>\n      <td>122335.0</td>\n      <td>22013.0</td>\n      <td>175410.0</td>\n      <td>144348.0</td>\n    </tr>\n    <tr>\n      <th>2</th>\n      <td>BEBAUTISTAJI</td>\n      <td>801</td>\n      <td>540950.0</td>\n      <td>90541.0</td>\n      <td>677759.0</td>\n      <td>631491.0</td>\n    </tr>\n    <tr>\n      <th>3</th>\n      <td>BENITEZFLIS</td>\n      <td>115</td>\n      <td>26047.0</td>\n      <td>41945.0</td>\n      <td>151096.0</td>\n      <td>67992.0</td>\n    </tr>\n    <tr>\n      <th>4</th>\n      <td>CARDOSASEVEBRE</td>\n      <td>516</td>\n      <td>275033.0</td>\n      <td>92460.0</td>\n      <td>332353.0</td>\n      <td>367493.0</td>\n    </tr>\n    <tr>\n      <th>5</th>\n      <td>CARMONAHEEL</td>\n      <td>10</td>\n      <td>1229.0</td>\n      <td>400.0</td>\n      <td>12824.0</td>\n      <td>1629.0</td>\n    </tr>\n    <tr>\n      <th>6</th>\n      <td>CASTROGAHG</td>\n      <td>455</td>\n      <td>256158.0</td>\n      <td>89825.0</td>\n      <td>353495.0</td>\n      <td>345983.0</td>\n    </tr>\n    <tr>\n      <th>7</th>\n      <td>CRHERNAYA</td>\n      <td>172</td>\n      <td>74156.0</td>\n      <td>39097.0</td>\n      <td>163048.0</td>\n      <td>113253.0</td>\n    </tr>\n    <tr>\n      <th>8</th>\n      <td>CRSALINASDM</td>\n      <td>3</td>\n      <td>2184.0</td>\n      <td>1218.0</td>\n      <td>6414.0</td>\n      <td>3402.0</td>\n    </tr>\n    <tr>\n      <th>9</th>\n      <td>DIONISIOGAAL</td>\n      <td>263</td>\n      <td>75273.0</td>\n      <td>80160.0</td>\n      <td>137432.0</td>\n      <td>155433.0</td>\n    </tr>\n    <tr>\n      <th>10</th>\n      <td>ESROSALESJA</td>\n      <td>392</td>\n      <td>120780.0</td>\n      <td>103175.0</td>\n      <td>202961.0</td>\n      <td>223955.0</td>\n    </tr>\n    <tr>\n      <th>11</th>\n      <td>ESTRADAZUSE</td>\n      <td>90</td>\n      <td>38557.0</td>\n      <td>52880.0</td>\n      <td>76040.0</td>\n      <td>91437.0</td>\n    </tr>\n    <tr>\n      <th>12</th>\n      <td>Fegox</td>\n      <td>86</td>\n      <td>49197.0</td>\n      <td>12816.0</td>\n      <td>39801.0</td>\n      <td>62013.0</td>\n    </tr>\n    <tr>\n      <th>13</th>\n      <td>GALVANESVIAL</td>\n      <td>10</td>\n      <td>2472.0</td>\n      <td>1066.0</td>\n      <td>6792.0</td>\n      <td>3538.0</td>\n    </tr>\n    <tr>\n      <th>14</th>\n      <td>GARCIAMOER</td>\n      <td>399</td>\n      <td>160722.0</td>\n      <td>69519.0</td>\n      <td>269198.0</td>\n      <td>230241.0</td>\n    </tr>\n    <tr>\n      <th>15</th>\n      <td>GLUGARDOZAM</td>\n      <td>267</td>\n      <td>122263.0</td>\n      <td>56243.0</td>\n      <td>202181.0</td>\n      <td>178506.0</td>\n    </tr>\n    <tr>\n      <th>16</th>\n      <td>GONZALEZMAED</td>\n      <td>248</td>\n      <td>99315.0</td>\n      <td>40474.0</td>\n      <td>157997.0</td>\n      <td>139789.0</td>\n    </tr>\n    <tr>\n      <th>17</th>\n      <td>GONZALEZOLRI</td>\n      <td>199</td>\n      <td>70622.0</td>\n      <td>24270.0</td>\n      <td>135543.0</td>\n      <td>94892.0</td>\n    </tr>\n    <tr>\n      <th>18</th>\n      <td>HEBALTAZARAL</td>\n      <td>81</td>\n      <td>52868.0</td>\n      <td>14501.0</td>\n      <td>76900.0</td>\n      <td>67369.0</td>\n    </tr>\n    <tr>\n      <th>19</th>\n      <td>HERNANDEZESBE</td>\n      <td>1</td>\n      <td>1072.0</td>\n      <td>926.0</td>\n      <td>1988.0</td>\n      <td>1998.0</td>\n    </tr>\n    <tr>\n      <th>20</th>\n      <td>JIVEJOFE</td>\n      <td>2</td>\n      <td>2213.0</td>\n      <td>6120.0</td>\n      <td>14182.0</td>\n      <td>8333.0</td>\n    </tr>\n    <tr>\n      <th>21</th>\n      <td>LEONSASU</td>\n      <td>385</td>\n      <td>285946.0</td>\n      <td>50319.0</td>\n      <td>374244.0</td>\n      <td>336265.0</td>\n    </tr>\n    <tr>\n      <th>22</th>\n      <td>LOPEZMOME</td>\n      <td>277</td>\n      <td>89075.0</td>\n      <td>55015.0</td>\n      <td>183921.0</td>\n      <td>144090.0</td>\n    </tr>\n    <tr>\n      <th>23</th>\n      <td>MIMERAZPJ</td>\n      <td>19</td>\n      <td>7234.0</td>\n      <td>2132.0</td>\n      <td>8633.0</td>\n      <td>9366.0</td>\n    </tr>\n    <tr>\n      <th>24</th>\n      <td>ORDONEZMAES</td>\n      <td>214</td>\n      <td>88494.0</td>\n      <td>32471.0</td>\n      <td>140311.0</td>\n      <td>120965.0</td>\n    </tr>\n    <tr>\n      <th>25</th>\n      <td>PEREZPAAN</td>\n      <td>199</td>\n      <td>98773.0</td>\n      <td>28688.0</td>\n      <td>112121.0</td>\n      <td>127461.0</td>\n    </tr>\n    <tr>\n      <th>26</th>\n      <td>PLMALI</td>\n      <td>148</td>\n      <td>79839.0</td>\n      <td>19038.0</td>\n      <td>85888.0</td>\n      <td>98877.0</td>\n    </tr>\n    <tr>\n      <th>27</th>\n      <td>QUIRINOMAJA</td>\n      <td>145</td>\n      <td>63404.0</td>\n      <td>35792.0</td>\n      <td>119555.0</td>\n      <td>99196.0</td>\n    </tr>\n    <tr>\n      <th>28</th>\n      <td>SANCHEZPIYA</td>\n      <td>216</td>\n      <td>102292.0</td>\n      <td>38690.0</td>\n      <td>129346.0</td>\n      <td>140982.0</td>\n    </tr>\n    <tr>\n      <th>29</th>\n      <td>VALDEZESCE</td>\n      <td>1</td>\n      <td>0.0</td>\n      <td>0.0</td>\n      <td>8526.0</td>\n      <td>0.0</td>\n    </tr>\n    <tr>\n      <th>30</th>\n      <td>VALENCIAMICA</td>\n      <td>7</td>\n      <td>3142.0</td>\n      <td>1218.0</td>\n      <td>3859.0</td>\n      <td>4360.0</td>\n    </tr>\n    <tr>\n      <th>31</th>\n      <td>VIEYRAITTR</td>\n      <td>40</td>\n      <td>17505.0</td>\n      <td>15192.0</td>\n      <td>50272.0</td>\n      <td>32697.0</td>\n    </tr>\n    <tr>\n      <th>32</th>\n      <td>ZEPEDAESJI</td>\n      <td>395</td>\n      <td>176324.0</td>\n      <td>77456.0</td>\n      <td>292371.0</td>\n      <td>253780.0</td>\n    </tr>\n  </tbody>\n</table>\n</div>"
     },
     "metadata": {},
     "execution_count": 26
    }
   ],
   "source": [
    "promesas_gestor_rec = pd.pivot_table(consolidado_pagos_baz,index=['usuario'],values=['monto_promesa','RECUPERACION DE CAPITAL','RECUPERACION DE MORATORIOS'],aggfunc=['count',np.sum])\n",
    "promesas_gestor_rec = to_dataframe(promesas_gestor_rec)\n",
    "promesas_gestor_rec = promesas_gestor_rec.iloc[:,[0,3,4,5,6]]\n",
    "promesas_gestor_rec.columns = ['Usuario','NumeroPromesas','SumaRecCapital','SumaRecMoratorios','SumaPromesas']\n",
    "promesas_gestor_rec['Recuperado'] = promesas_gestor_rec['SumaRecCapital']+promesas_gestor_rec['SumaRecMoratorios']\n",
    "promesas_gestor_rec"
   ]
  },
  {
   "cell_type": "code",
   "execution_count": 27,
   "metadata": {},
   "outputs": [
    {
     "output_type": "execute_result",
     "data": {
      "text/plain": [
       "       Usuario               NombreUsuario  NumeroGestiones  NumeroPromesas  \\\n",
       "0  ALHENANDEZA  ALVARADO HERNANDEZ ADRIANA             3375           451.0   \n",
       "\n",
       "   SumaRecCapital  SumaRecMoratorios  SumaPromesas  Recuperado  \n",
       "0        156330.0            42707.0      218085.0    199037.0  "
      ],
      "text/html": "<div>\n<style scoped>\n    .dataframe tbody tr th:only-of-type {\n        vertical-align: middle;\n    }\n\n    .dataframe tbody tr th {\n        vertical-align: top;\n    }\n\n    .dataframe thead th {\n        text-align: right;\n    }\n</style>\n<table border=\"1\" class=\"dataframe\">\n  <thead>\n    <tr style=\"text-align: right;\">\n      <th></th>\n      <th>Usuario</th>\n      <th>NombreUsuario</th>\n      <th>NumeroGestiones</th>\n      <th>NumeroPromesas</th>\n      <th>SumaRecCapital</th>\n      <th>SumaRecMoratorios</th>\n      <th>SumaPromesas</th>\n      <th>Recuperado</th>\n    </tr>\n  </thead>\n  <tbody>\n    <tr>\n      <th>0</th>\n      <td>ALHENANDEZA</td>\n      <td>ALVARADO HERNANDEZ ADRIANA</td>\n      <td>3375</td>\n      <td>451.0</td>\n      <td>156330.0</td>\n      <td>42707.0</td>\n      <td>218085.0</td>\n      <td>199037.0</td>\n    </tr>\n  </tbody>\n</table>\n</div>"
     },
     "metadata": {},
     "execution_count": 27
    }
   ],
   "source": [
    "control_baz_rec = pd.merge(gestion_gestor_rec,promesas_gestor_rec,how='left',on='Usuario')\n",
    "control_baz_rec.fillna(0,inplace=True)\n",
    "control_baz_rec['Usuario2'] = [x[:3] for x in control_baz_rec['Usuario']]\n",
    "control_baz_rec = control_baz_rec.loc[control_baz_rec['Usuario2']!='m08']\n",
    "control_baz_rec.drop('Usuario2',axis=1,inplace=True)\n",
    "control_baz_rec.head(1)"
   ]
  },
  {
   "cell_type": "code",
   "execution_count": 43,
   "metadata": {},
   "outputs": [
    {
     "output_type": "execute_result",
     "data": {
      "text/plain": [
       "                NombreUsuario  Recuperado  EficienciaPagos  PromedioOcupacion  \\\n",
       "0  ALVARADO HERNANDEZ ADRIANA    199037.0             0.91                0.3   \n",
       "\n",
       "   PromedioLlamadasHora  PromesasHora  \n",
       "0                 29.38          3.18  "
      ],
      "text/html": "<div>\n<style scoped>\n    .dataframe tbody tr th:only-of-type {\n        vertical-align: middle;\n    }\n\n    .dataframe tbody tr th {\n        vertical-align: top;\n    }\n\n    .dataframe thead th {\n        text-align: right;\n    }\n</style>\n<table border=\"1\" class=\"dataframe\">\n  <thead>\n    <tr style=\"text-align: right;\">\n      <th></th>\n      <th>NombreUsuario</th>\n      <th>Recuperado</th>\n      <th>EficienciaPagos</th>\n      <th>PromedioOcupacion</th>\n      <th>PromedioLlamadasHora</th>\n      <th>PromesasHora</th>\n    </tr>\n  </thead>\n  <tbody>\n    <tr>\n      <th>0</th>\n      <td>ALVARADO HERNANDEZ ADRIANA</td>\n      <td>199037.0</td>\n      <td>0.91</td>\n      <td>0.3</td>\n      <td>29.38</td>\n      <td>3.18</td>\n    </tr>\n  </tbody>\n</table>\n</div>"
     },
     "metadata": {},
     "execution_count": 43
    }
   ],
   "source": [
    "final_baz_rec = pd.merge(control_baz_rec,control_performance_baz,how='left',on='Usuario')\n",
    "final_baz_rec.fillna(0,inplace=True)\n",
    "final_baz_rec['PromedioLlamadasHora'] = final_baz_rec['SumLlamadasDia']/final_baz_rec['SumHorasTrabajadas']\n",
    "final_baz_rec['PromedioOcupacion'] = final_baz_rec['PromedioOcupacion']/100\n",
    "final_baz_rec['EficienciaPagos'] = final_baz_rec['Recuperado']/final_baz_rec['SumaPromesas']\n",
    "final_baz_rec['PromesasHora'] = final_baz_rec['NumeroPromesas']/final_baz_rec['SumHorasTrabajadas']\n",
    "final_baz_rec2 = final_baz_rec.iloc[:,[1,7,13,11,12,14]]\n",
    "cols = ['Recuperado','EficienciaPagos','PromedioOcupacion','PromedioLlamadasHora','PromesasHora']\n",
    "final_baz_rec2[cols] = final_baz_rec2[cols].round(2)\n",
    "final_baz_rec = final_baz_rec.loc[final_baz_rec['SumaPromesas']>0]\n",
    "final_baz_rec2.head(1)"
   ]
  },
  {
   "cell_type": "code",
   "execution_count": 44,
   "metadata": {},
   "outputs": [],
   "source": [
    "writer = pd.ExcelWriter(''+ruta_guardar+'/Gestores/Banco Azteca/Reporte Gestor Banco Azteca '+now+'.xlsx',engine='xlsxwriter')\n",
    "final_baz_rec2.to_excel(writer,'BSC',index=False,header=True)\n",
    "control_performance_baz.to_excel(writer,'PerformanceDetallado',index=False,header=True)\n",
    "control_performance_baz_turno.to_excel(writer,'PerformanceTurno',index=False,header=True)\n",
    "final_baz_rec.to_excel(writer,'GestionesDetallado',index=False,header=True)\n",
    "\n",
    "writer.save()"
   ]
  },
  {
   "cell_type": "code",
   "execution_count": null,
   "metadata": {},
   "outputs": [],
   "source": []
  },
  {
   "cell_type": "code",
   "execution_count": null,
   "metadata": {},
   "outputs": [],
   "source": []
  }
 ]
}