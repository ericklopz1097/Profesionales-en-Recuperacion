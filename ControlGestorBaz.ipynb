{
 "metadata": {
  "language_info": {
   "codemirror_mode": {
    "name": "ipython",
    "version": 3
   },
   "file_extension": ".py",
   "mimetype": "text/x-python",
   "name": "python",
   "nbconvert_exporter": "python",
   "pygments_lexer": "ipython3",
   "version": "3.8.5-final"
  },
  "orig_nbformat": 2,
  "kernelspec": {
   "name": "python3",
   "display_name": "Python 3",
   "language": "python"
  }
 },
 "nbformat": 4,
 "nbformat_minor": 2,
 "cells": [
  {
   "cell_type": "code",
   "execution_count": 1,
   "metadata": {},
   "outputs": [],
   "source": [
    "import pandas as pd\n",
    "import numpy as np\n",
    "import mysql.connector\n",
    "import os\n",
    "from mysql.connector import Error\n",
    "from datetime import datetime, date, timedelta\n",
    "import re\n",
    "import ConeccionesSucursales as cs \n",
    "from IPython.core.interactiveshell import InteractiveShell\n",
    "InteractiveShell.ast_node_interactivity = \"all\""
   ]
  },
  {
   "cell_type": "code",
   "execution_count": 2,
   "metadata": {},
   "outputs": [],
   "source": [
    "#Definimos la ruta en donde queremos guardar los archivos\n",
    "ruta_guardar = '/home/estadistico/Documents/Erick/Reportes diarios'\n",
    "ruta_pagos = '/home/estadistico/Documents/Erick'\n",
    "mes = 20201201\n",
    "mes2 = 'Enero2021'\n",
    "mes3 = pd.to_datetime('01/12/2020',dayfirst=True)\n",
    "prim_sem_mes = 1"
   ]
  },
  {
   "cell_type": "code",
   "execution_count": 3,
   "metadata": {},
   "outputs": [],
   "source": [
    "#Asignamos valores a los parametros \\n\"\n",
    "today = date.today().strftime('%Y%m%d')\n",
    "now = datetime.now().strftime('%d-%m-%Y %H:%M')\n",
    "hoy = np.datetime64('today')\n",
    "ayer = np.datetime64(date.today() - timedelta(1))\n",
    "today2 = date.today().strftime('%d-%m-%Y')"
   ]
  },
  {
   "cell_type": "code",
   "execution_count": 4,
   "metadata": {},
   "outputs": [
    {
     "output_type": "execute_result",
     "data": {
      "text/plain": [
       "        Usuario Estatus\n",
       "0       CFLORES   ADMIN\n",
       "1      WGALICIA   ADMIN\n",
       "2   AHERNANDEZS   ADMIN\n",
       "3   CRSALINASDM   ADMIN\n",
       "4  VALENCIAMICA   ADMIN"
      ],
      "text/html": "<div>\n<style scoped>\n    .dataframe tbody tr th:only-of-type {\n        vertical-align: middle;\n    }\n\n    .dataframe tbody tr th {\n        vertical-align: top;\n    }\n\n    .dataframe thead th {\n        text-align: right;\n    }\n</style>\n<table border=\"1\" class=\"dataframe\">\n  <thead>\n    <tr style=\"text-align: right;\">\n      <th></th>\n      <th>Usuario</th>\n      <th>Estatus</th>\n    </tr>\n  </thead>\n  <tbody>\n    <tr>\n      <th>0</th>\n      <td>CFLORES</td>\n      <td>ADMIN</td>\n    </tr>\n    <tr>\n      <th>1</th>\n      <td>WGALICIA</td>\n      <td>ADMIN</td>\n    </tr>\n    <tr>\n      <th>2</th>\n      <td>AHERNANDEZS</td>\n      <td>ADMIN</td>\n    </tr>\n    <tr>\n      <th>3</th>\n      <td>CRSALINASDM</td>\n      <td>ADMIN</td>\n    </tr>\n    <tr>\n      <th>4</th>\n      <td>VALENCIAMICA</td>\n      <td>ADMIN</td>\n    </tr>\n  </tbody>\n</table>\n</div>"
     },
     "metadata": {},
     "execution_count": 4
    }
   ],
   "source": [
    "#Archivo que contiene los puestos de cada persona\n",
    "book = os.listdir(''+ruta_pagos+'/'+str(mes2)+'/Banco Azteca/Personal/')\n",
    "personal = pd.DataFrame()\n",
    "for i in book:\n",
    "    new = pd.read_excel(''+ruta_pagos+'/'+str(mes2)+'/Banco Azteca/Personal/'+i+'')\n",
    "    personal = pd.concat([personal,new],ignore_index=True)\n",
    "personal = personal[['USUARIO','COBRANZA/CAPTURISTA']]\n",
    "personal.columns = ['Usuario','Estatus']\n",
    "personal.head()"
   ]
  },
  {
   "cell_type": "code",
   "execution_count": 5,
   "metadata": {},
   "outputs": [],
   "source": [
    "#Lectura pagos Banco Azteca\n",
    "sheet_baz_renta = os.listdir(''+ruta_pagos+'/'+str(mes2)+'/Banco Azteca/Pagos/Renta')\n",
    "pagos_baz_renta = pd.DataFrame()\n",
    "for i in sheet_baz_renta:\n",
    "    pagos_baz_renta_new = pd.read_csv(''+ruta_pagos+'/'+str(mes2)+'/Banco Azteca/Pagos/Renta/'+i+'')\n",
    "    pagos_baz_renta = pd.concat([pagos_baz_renta,pagos_baz_renta_new],ignore_index=True)\n",
    "pagos_baz_renta = pagos_baz_renta.drop_duplicates()\n",
    "pagos_baz_renta = pagos_baz_renta.loc[pagos_baz_renta['FNMONTOPAGADO']>0]\n",
    "pagos_baz_renta['FDFECHAABONO'] = pd.to_datetime(pagos_baz_renta['FDFECHAABONO'],dayfirst=True)\n",
    "pagos_baz_renta = pagos_baz_renta.loc[pagos_baz_renta['FDFECHAABONO']>=mes3]\n",
    "pagos_baz_renta2 = pd.pivot_table(pagos_baz_renta,index=['CAMPANAID','FDFECHAABONO','FIIDPERIODO','FNSCOMPROMISO','FCEMPNUMCORTE','FNMONTOPROMETIDO'],values=['FNMONTOPAGADO'],aggfunc=np.sum)\n",
    "pagos_baz_renta2 = pd.DataFrame(pagos_baz_renta2.to_records())"
   ]
  },
  {
   "cell_type": "code",
   "execution_count": 6,
   "metadata": {},
   "outputs": [],
   "source": [
    "#Lectura pagos Banco Azteca\n",
    "sheet_baz_recovery = os.listdir(''+ruta_pagos+'/'+str(mes2)+'/Banco Azteca/Pagos/Recovery/')\n",
    "pagos_baz_recovery = pd.DataFrame()\n",
    "for k in sheet_baz_recovery:\n",
    "    pagos_baz_recovery_new = pd.read_csv(''+ruta_pagos+'/'+str(mes2)+'/Banco Azteca/Pagos/Recovery/'+k+'',sep='|')\n",
    "    pagos_baz_recovery = pd.concat([pagos_baz_recovery,pagos_baz_recovery_new],ignore_index=True)\n",
    "pagos_baz_recovery['Cartera'] = 'Recovery'\n",
    "pagos_baz_recovery['DIA'] = pd.to_datetime(pagos_baz_recovery['DIA'],dayfirst=True)\n",
    "pagos_baz_recovery = pagos_baz_recovery.loc[pagos_baz_recovery['DIA']>=mes3]\n",
    "pagos_baz_recovery = pagos_baz_recovery.loc[pagos_baz_recovery['DIA']>=mes3]\n",
    "pagos_baz_recovery['credito'] = pagos_baz_recovery['PAIS'].map(str)+'-'+pagos_baz_recovery['CANAL'].map(str)+'-'+pagos_baz_recovery['SUCURSAL'].map(str)+'-'+pagos_baz_recovery['FOLIO'].map(str)\n",
    "pagos_baz_recovery = pagos_baz_recovery.drop_duplicates()"
   ]
  },
  {
   "cell_type": "code",
   "execution_count": 7,
   "metadata": {},
   "outputs": [
    {
     "output_type": "execute_result",
     "data": {
      "text/plain": [
       "   ANIO  SEMANA        DIA  PAIS  CANAL  SUCURSAL  FOLIO  \\\n",
       "0  2021       2 2021-01-11     1      1      2161  90848   \n",
       "\n",
       "   RECUPERACION DE CAPITAL  RECUPERACION DE MORATORIOS  SALDO ACTUAL  \\\n",
       "0                        0                         350       12273.0   \n",
       "\n",
       "   MORATORIOS ACTUAL FECHA GESTION CARGO AUTOMATICO cartera         credito  \n",
       "0             3056.0    11/01/2021               NO   26-39  1-1-2161-90848  "
      ],
      "text/html": "<div>\n<style scoped>\n    .dataframe tbody tr th:only-of-type {\n        vertical-align: middle;\n    }\n\n    .dataframe tbody tr th {\n        vertical-align: top;\n    }\n\n    .dataframe thead th {\n        text-align: right;\n    }\n</style>\n<table border=\"1\" class=\"dataframe\">\n  <thead>\n    <tr style=\"text-align: right;\">\n      <th></th>\n      <th>ANIO</th>\n      <th>SEMANA</th>\n      <th>DIA</th>\n      <th>PAIS</th>\n      <th>CANAL</th>\n      <th>SUCURSAL</th>\n      <th>FOLIO</th>\n      <th>RECUPERACION DE CAPITAL</th>\n      <th>RECUPERACION DE MORATORIOS</th>\n      <th>SALDO ACTUAL</th>\n      <th>MORATORIOS ACTUAL</th>\n      <th>FECHA GESTION</th>\n      <th>CARGO AUTOMATICO</th>\n      <th>cartera</th>\n      <th>credito</th>\n    </tr>\n  </thead>\n  <tbody>\n    <tr>\n      <th>0</th>\n      <td>2021</td>\n      <td>2</td>\n      <td>2021-01-11</td>\n      <td>1</td>\n      <td>1</td>\n      <td>2161</td>\n      <td>90848</td>\n      <td>0</td>\n      <td>350</td>\n      <td>12273.0</td>\n      <td>3056.0</td>\n      <td>11/01/2021</td>\n      <td>NO</td>\n      <td>26-39</td>\n      <td>1-1-2161-90848</td>\n    </tr>\n  </tbody>\n</table>\n</div>"
     },
     "metadata": {},
     "execution_count": 7
    }
   ],
   "source": [
    "#Lectura pagos Banco Azteca\n",
    "sheet_baz_26 = os.listdir(''+ruta_pagos+'/'+str(mes2)+'/Banco Azteca/Pagos/26-39/')\n",
    "pagos_baz_26 = pd.DataFrame()\n",
    "for j in sheet_baz_26:\n",
    "    pagos_baz_26_new = pd.read_csv(''+ruta_pagos+'/'+str(mes2)+'/Banco Azteca/Pagos/26-39/'+j+'',sep='|')\n",
    "    pagos_baz_26 = pd.concat([pagos_baz_26,pagos_baz_26_new],ignore_index=True)\n",
    "pagos_baz_26['cartera'] = '26-39'\n",
    "pagos_baz_26['DIA'] = pd.to_datetime(pagos_baz_26['DIA'],dayfirst=True)\n",
    "pagos_baz_26 = pagos_baz_26.loc[pagos_baz_26['DIA']>=mes3]\n",
    "pagos_baz_26['credito'] = pagos_baz_26['PAIS'].map(str)+'-'+pagos_baz_26['CANAL'].map(str)+'-'+pagos_baz_26['SUCURSAL'].map(str)+'-'+pagos_baz_26['FOLIO'].map(str)\n",
    "pagos_baz_26 = pagos_baz_26.drop_duplicates()\n",
    "pagos_baz_26.head(1)"
   ]
  },
  {
   "cell_type": "code",
   "execution_count": 8,
   "metadata": {},
   "outputs": [],
   "source": [
    "#Funcion para transformar varias columnas a numero\n",
    "def transform_numeric(df,cols):\n",
    "    return df[cols].apply(pd.to_numeric, errors='coerce')\n",
    "\n",
    "#Funcion que convierte a dataframe y rellena espacios con 0\n",
    "def to_dataframe(df):\n",
    "    df = pd.DataFrame(df.to_records())\n",
    "    df.fillna(0,inplace=True)\n",
    "    return df\n",
    "\n",
    "#Funcion que quita el % del string\n",
    "def percent_tonumeric(df,cols):\n",
    "    for c in cols:\n",
    "        df[c] = [x[:-2] for x in df[c]]\n",
    "    return transform_numeric(df,cols)"
   ]
  },
  {
   "source": [
    "# Llamadas Detallado Banco Azteca"
   ],
   "cell_type": "markdown",
   "metadata": {}
  },
  {
   "cell_type": "code",
   "execution_count": 9,
   "metadata": {},
   "outputs": [],
   "source": [
    "#Hacemos la consulta referente a las gestiones de Credifiel\n",
    "#llamadas_cred = consulta_sql('procesos_externos.all_rpt_llamadas_detallado',mes,today,'(^BAZ)')\n",
    "#llamadas_cred.columns = ['server_ip','uniqueid','call_type','call_date','campaign_id','campaign_name','list_id',#'list_name','lead_id','vendor_lead_id','vendor_lead_name','phone_number','status','status_name','username','full_name','term_reason_call','queue_seconds','length_in_sec','call_date_short','call_time_short','call_time_hour','call_range_hour','dialstatus','hangup_cause','sip_hangup_cause','carrier','areacode','state','region']\n",
    "#llamadas_cred.head(1)"
   ]
  },
  {
   "cell_type": "code",
   "execution_count": 10,
   "metadata": {},
   "outputs": [],
   "source": [
    "#llamadas_cred['turno'] = np.where(llamadas_cred['call_time_hour']<=14,'M','V')"
   ]
  },
  {
   "source": [
    "# Performance Banco Azteca"
   ],
   "cell_type": "markdown",
   "metadata": {}
  },
  {
   "cell_type": "code",
   "execution_count": 11,
   "metadata": {},
   "outputs": [],
   "source": [
    "#Hacemos la consulta referente al performance del Gestor\n",
    "performance_all = cs.query_naucalpan('procesos_externos.all_rpt_agent_performance',mes,today)\n",
    "performance_all.columns = ['fecha','usuario','nombre_usuario','user_group','llamadas','aht','ocupacion','adherencia','login_vici','logout_vici','staff_time','wait_time','talk_time','dispo_time','pause','login','manual','gestion','agua','alimentos','sanitario','retroalimentacion','tranferencia','validacion','whatsapp','incumplimiento','recordatorios','capacitacion','sistemas','lagged','tipificando','*']"
   ]
  },
  {
   "cell_type": "code",
   "execution_count": 12,
   "metadata": {},
   "outputs": [],
   "source": [
    "performance_all['user_group2'] = [x[:3] for x in performance_all['user_group']]\n",
    "performance_baz = performance_all.loc[performance_all['user_group2']=='BAZ']\n",
    "performance_baz[['ocupacion','adherencia']] = percent_tonumeric(performance_baz,['ocupacion','adherencia'])"
   ]
  },
  {
   "cell_type": "code",
   "execution_count": 13,
   "metadata": {},
   "outputs": [],
   "source": [
    "performance_baz['hora_login'] = [int(x[:2]) for x in performance_baz['login_vici']]\n",
    "performance_baz['hora_logout'] = [int(x[:2]) for x in performance_baz['logout_vici']]\n",
    "performance_baz['turno'] = np.where((performance_baz['hora_logout']<=14)&(performance_baz['hora_logout']-performance_baz['hora_login']<=8),'M',\n",
    "                                    np.where((performance_baz['hora_logout']>17)&(performance_baz['hora_logout']-performance_baz['hora_login']<=8),'V','Mixto'))"
   ]
  },
  {
   "cell_type": "code",
   "execution_count": 14,
   "metadata": {},
   "outputs": [],
   "source": [
    "performance_baz['horas_trabajadas'] = performance_baz['hora_logout']-performance_baz['hora_login']\n",
    "performance_baz['llamadas_hora'] = performance_baz['llamadas']/performance_baz['horas_trabajadas']\n",
    "performance_baz['llamadas_hora'] = performance_baz['llamadas_hora'].round(1)"
   ]
  },
  {
   "cell_type": "code",
   "execution_count": 15,
   "metadata": {},
   "outputs": [
    {
     "output_type": "execute_result",
     "data": {
      "text/plain": [
       "       Usuario                         Gestor Turno  SumHorasTrabajadas  \\\n",
       "0  AGUILARRIAL  AGUILAR RIOS DANIEL ALEJANDRO     M                   6   \n",
       "1  ALHENANDEZA     ADRIANA ALVARADO HERNANDEZ     M                  20   \n",
       "\n",
       "   SumLlamadasDia  SumOcupacion  PromedioHorasTrab  PromedioLlamadasDia  \\\n",
       "0             154         11.75           6.000000                154.0   \n",
       "1             621         90.16           6.666667                207.0   \n",
       "\n",
       "   PromedioOcupacion  DiasAsitencia  MinHoras  MinLlamadasDia  MinOcupacion  \\\n",
       "0          11.750000              1         6             154         11.75   \n",
       "1          30.053333              3         6             186         26.41   \n",
       "\n",
       "   MaxHoras  MaxLlamadasDia  MaxOcupacion  LlamadasHora  \n",
       "0         6             154         11.75     25.666667  \n",
       "1         7             219         35.60     31.050000  "
      ],
      "text/html": "<div>\n<style scoped>\n    .dataframe tbody tr th:only-of-type {\n        vertical-align: middle;\n    }\n\n    .dataframe tbody tr th {\n        vertical-align: top;\n    }\n\n    .dataframe thead th {\n        text-align: right;\n    }\n</style>\n<table border=\"1\" class=\"dataframe\">\n  <thead>\n    <tr style=\"text-align: right;\">\n      <th></th>\n      <th>Usuario</th>\n      <th>Gestor</th>\n      <th>Turno</th>\n      <th>SumHorasTrabajadas</th>\n      <th>SumLlamadasDia</th>\n      <th>SumOcupacion</th>\n      <th>PromedioHorasTrab</th>\n      <th>PromedioLlamadasDia</th>\n      <th>PromedioOcupacion</th>\n      <th>DiasAsitencia</th>\n      <th>MinHoras</th>\n      <th>MinLlamadasDia</th>\n      <th>MinOcupacion</th>\n      <th>MaxHoras</th>\n      <th>MaxLlamadasDia</th>\n      <th>MaxOcupacion</th>\n      <th>LlamadasHora</th>\n    </tr>\n  </thead>\n  <tbody>\n    <tr>\n      <th>0</th>\n      <td>AGUILARRIAL</td>\n      <td>AGUILAR RIOS DANIEL ALEJANDRO</td>\n      <td>M</td>\n      <td>6</td>\n      <td>154</td>\n      <td>11.75</td>\n      <td>6.000000</td>\n      <td>154.0</td>\n      <td>11.750000</td>\n      <td>1</td>\n      <td>6</td>\n      <td>154</td>\n      <td>11.75</td>\n      <td>6</td>\n      <td>154</td>\n      <td>11.75</td>\n      <td>25.666667</td>\n    </tr>\n    <tr>\n      <th>1</th>\n      <td>ALHENANDEZA</td>\n      <td>ADRIANA ALVARADO HERNANDEZ</td>\n      <td>M</td>\n      <td>20</td>\n      <td>621</td>\n      <td>90.16</td>\n      <td>6.666667</td>\n      <td>207.0</td>\n      <td>30.053333</td>\n      <td>3</td>\n      <td>6</td>\n      <td>186</td>\n      <td>26.41</td>\n      <td>7</td>\n      <td>219</td>\n      <td>35.60</td>\n      <td>31.050000</td>\n    </tr>\n  </tbody>\n</table>\n</div>"
     },
     "metadata": {},
     "execution_count": 15
    }
   ],
   "source": [
    "control_performance_baz_turno = pd.pivot_table(performance_baz,index=['usuario','nombre_usuario','turno'],values=['llamadas','ocupacion','horas_trabajadas'],aggfunc=[np.sum,np.mean,'count',min,max])\n",
    "control_performance_baz_turno = to_dataframe(control_performance_baz_turno)\n",
    "control_performance_baz_turno = control_performance_baz_turno.iloc[:,[0,1,2,3,4,5,6,7,8,9,12,13,14,15,16,17]]\n",
    "control_performance_baz_turno.columns = ['Usuario','Gestor','Turno','SumHorasTrabajadas','SumLlamadasDia','SumOcupacion','PromedioHorasTrab','PromedioLlamadasDia','PromedioOcupacion','DiasAsitencia','MinHoras','MinLlamadasDia','MinOcupacion','MaxHoras','MaxLlamadasDia','MaxOcupacion']\n",
    "control_performance_baz_turno['LlamadasHora'] = control_performance_baz_turno['SumLlamadasDia']/control_performance_baz_turno['SumHorasTrabajadas']\n",
    "control_performance_baz_turno.head(2)"
   ]
  },
  {
   "cell_type": "code",
   "execution_count": 16,
   "metadata": {},
   "outputs": [],
   "source": [
    "control_performance_baz_turno2 = control_performance_baz_turno[['Gestor','Turno','LlamadasHora','PromedioOcupacion']]"
   ]
  },
  {
   "cell_type": "code",
   "execution_count": 17,
   "metadata": {},
   "outputs": [
    {
     "output_type": "execute_result",
     "data": {
      "text/plain": [
       "          Usuario  SumHorasTrabajadas  SumLlamadasDia  PromedioLlamadasDia  \\\n",
       "0     AGUILARRIAL                   6             154                154.0   \n",
       "1     ALHENANDEZA                 208            6267                190.0   \n",
       "2  ALVARADORODAAR                   6             123                 62.0   \n",
       "\n",
       "   PromedioOcupacion  PromedioLlamadasHora  \n",
       "0               12.0                  26.0  \n",
       "1               29.0                  30.0  \n",
       "2               42.0                  20.0  "
      ],
      "text/html": "<div>\n<style scoped>\n    .dataframe tbody tr th:only-of-type {\n        vertical-align: middle;\n    }\n\n    .dataframe tbody tr th {\n        vertical-align: top;\n    }\n\n    .dataframe thead th {\n        text-align: right;\n    }\n</style>\n<table border=\"1\" class=\"dataframe\">\n  <thead>\n    <tr style=\"text-align: right;\">\n      <th></th>\n      <th>Usuario</th>\n      <th>SumHorasTrabajadas</th>\n      <th>SumLlamadasDia</th>\n      <th>PromedioLlamadasDia</th>\n      <th>PromedioOcupacion</th>\n      <th>PromedioLlamadasHora</th>\n    </tr>\n  </thead>\n  <tbody>\n    <tr>\n      <th>0</th>\n      <td>AGUILARRIAL</td>\n      <td>6</td>\n      <td>154</td>\n      <td>154.0</td>\n      <td>12.0</td>\n      <td>26.0</td>\n    </tr>\n    <tr>\n      <th>1</th>\n      <td>ALHENANDEZA</td>\n      <td>208</td>\n      <td>6267</td>\n      <td>190.0</td>\n      <td>29.0</td>\n      <td>30.0</td>\n    </tr>\n    <tr>\n      <th>2</th>\n      <td>ALVARADORODAAR</td>\n      <td>6</td>\n      <td>123</td>\n      <td>62.0</td>\n      <td>42.0</td>\n      <td>20.0</td>\n    </tr>\n  </tbody>\n</table>\n</div>"
     },
     "metadata": {},
     "execution_count": 17
    }
   ],
   "source": [
    "control_performance_baz = pd.pivot_table(performance_baz,index=['usuario'],values=['llamadas','ocupacion','horas_trabajadas'],aggfunc=[np.sum,np.mean,'count',min,max])\n",
    "control_performance_baz = to_dataframe(control_performance_baz)\n",
    "control_performance_baz = control_performance_baz.iloc[:,[0,1,2,5,6]]\n",
    "control_performance_baz.columns = ['Usuario','SumHorasTrabajadas','SumLlamadasDia','PromedioLlamadasDia','PromedioOcupacion']\n",
    "control_performance_baz['PromedioLlamadasHora'] = control_performance_baz['SumLlamadasDia']/control_performance_baz['SumHorasTrabajadas']\n",
    "cols = ['PromedioLlamadasDia','PromedioLlamadasHora','PromedioOcupacion']\n",
    "control_performance_baz[cols] = control_performance_baz[cols].round()\n",
    "control_performance_baz.head(3)"
   ]
  },
  {
   "source": [
    "# Gestion Banco Azteca"
   ],
   "cell_type": "markdown",
   "metadata": {}
  },
  {
   "cell_type": "code",
   "execution_count": 18,
   "metadata": {},
   "outputs": [],
   "source": [
    "#Hacemos la consulta referente a las gestiones de Banco Azteca\n",
    "gestion_baz = cs.query_naucalpan('baz_rpt_gestiones_detallado',mes,today)\n",
    "gestion_baz.columns = ['folio_gestion','firma_id','unegocio_id','credito','nombre_credito','telefono','tipo_telefono','fecha_gestion','usuario','nombre_usuario','dictamen','accion_resultado','fecha_promesa','monto_promesa','comentarios']"
   ]
  },
  {
   "cell_type": "code",
   "execution_count": 19,
   "metadata": {},
   "outputs": [],
   "source": [
    "#try: gestion_baz['anio_prom'] = [int(x[:4]) for x in gestion_baz['fecha_promesa']]\n",
    "#except: gestion_baz['anio_prom'] = 0\n",
    "#gestion_baz = gestion_baz.loc[gestion_baz['anio_prom']<2030]\n",
    "gestion_baz = gestion_baz.drop_duplicates()\n",
    "gestion_baz['monto_promesa'] = pd.to_numeric(gestion_baz['monto_promesa'])\n",
    "gestion_baz['usuario'] = [x.rstrip() for x in gestion_baz['usuario']]\n",
    "#gestion_baz['fecha_promesa'] = pd.to_datetime(gestion_baz['fecha_promesa'],dayfirst=False)"
   ]
  },
  {
   "cell_type": "code",
   "execution_count": 20,
   "metadata": {},
   "outputs": [],
   "source": [
    "gestion_gestor_rec = pd.pivot_table(gestion_baz,index=['usuario','nombre_usuario'],values=['fecha_gestion'],aggfunc='count')\n",
    "gestion_gestor_rec = to_dataframe(gestion_gestor_rec)\n",
    "gestion_gestor_rec.columns = ['Usuario','NombreUsuario','NumeroGestiones']"
   ]
  },
  {
   "cell_type": "code",
   "execution_count": 21,
   "metadata": {},
   "outputs": [],
   "source": [
    "promesas_baz = gestion_baz.loc[gestion_baz['dictamen']=='PROMESA']\n",
    "promesas_baz = promesas_baz.loc[(promesas_baz['monto_promesa']>10) & (promesas_baz['monto_promesa']<500000)]"
   ]
  },
  {
   "cell_type": "code",
   "execution_count": 22,
   "metadata": {},
   "outputs": [],
   "source": [
    "pagos_baz = pd.concat([pagos_baz_26,pagos_baz_recovery],ignore_index=True)\n",
    "pagos_baz = pagos_baz.loc[pagos_baz['CARGO AUTOMATICO']=='NO']\n",
    "consolidado_pagos_baz = pd.merge(promesas_baz,pagos_baz,how='left',on=['credito'])\n",
    "#consolidado_pagos_baz.head(1)"
   ]
  },
  {
   "cell_type": "code",
   "execution_count": 23,
   "metadata": {},
   "outputs": [],
   "source": [
    "z = consolidado_pagos_baz.loc[consolidado_pagos_baz['RECUPERACION DE CAPITAL']+consolidado_pagos_baz['RECUPERACION DE MORATORIOS']>consolidado_pagos_baz['monto_promesa']]"
   ]
  },
  {
   "cell_type": "code",
   "execution_count": 24,
   "metadata": {},
   "outputs": [
    {
     "output_type": "execute_result",
     "data": {
      "text/plain": [
       "   folio_gestion  firma_id  unegocio_id          credito  \\\n",
       "0        9701917         7            5  1-39-5608-13595   \n",
       "\n",
       "               nombre_credito    telefono tipo_telefono       fecha_gestion  \\\n",
       "0  MARTHA ROSIO GARZA SALAZAR  8116124921       celular 2021-01-22 14:10:38   \n",
       "\n",
       "       usuario          nombre_usuario  ... SUCURSAL FOLIO  \\\n",
       "0  ESROSALESJA  ESPAÃA ROSALES JANET   ...      NaN   NaN   \n",
       "\n",
       "  RECUPERACION DE CAPITAL  RECUPERACION DE MORATORIOS SALDO ACTUAL  \\\n",
       "0                     NaN                         NaN          NaN   \n",
       "\n",
       "   MORATORIOS ACTUAL  FECHA GESTION CARGO AUTOMATICO  cartera  Cartera  \n",
       "0                NaN            NaN              NaN      NaN      NaN  \n",
       "\n",
       "[1 rows x 30 columns]"
      ],
      "text/html": "<div>\n<style scoped>\n    .dataframe tbody tr th:only-of-type {\n        vertical-align: middle;\n    }\n\n    .dataframe tbody tr th {\n        vertical-align: top;\n    }\n\n    .dataframe thead th {\n        text-align: right;\n    }\n</style>\n<table border=\"1\" class=\"dataframe\">\n  <thead>\n    <tr style=\"text-align: right;\">\n      <th></th>\n      <th>folio_gestion</th>\n      <th>firma_id</th>\n      <th>unegocio_id</th>\n      <th>credito</th>\n      <th>nombre_credito</th>\n      <th>telefono</th>\n      <th>tipo_telefono</th>\n      <th>fecha_gestion</th>\n      <th>usuario</th>\n      <th>nombre_usuario</th>\n      <th>...</th>\n      <th>SUCURSAL</th>\n      <th>FOLIO</th>\n      <th>RECUPERACION DE CAPITAL</th>\n      <th>RECUPERACION DE MORATORIOS</th>\n      <th>SALDO ACTUAL</th>\n      <th>MORATORIOS ACTUAL</th>\n      <th>FECHA GESTION</th>\n      <th>CARGO AUTOMATICO</th>\n      <th>cartera</th>\n      <th>Cartera</th>\n    </tr>\n  </thead>\n  <tbody>\n    <tr>\n      <th>0</th>\n      <td>9701917</td>\n      <td>7</td>\n      <td>5</td>\n      <td>1-39-5608-13595</td>\n      <td>MARTHA ROSIO GARZA SALAZAR</td>\n      <td>8116124921</td>\n      <td>celular</td>\n      <td>2021-01-22 14:10:38</td>\n      <td>ESROSALESJA</td>\n      <td>ESPAÃA ROSALES JANET</td>\n      <td>...</td>\n      <td>NaN</td>\n      <td>NaN</td>\n      <td>NaN</td>\n      <td>NaN</td>\n      <td>NaN</td>\n      <td>NaN</td>\n      <td>NaN</td>\n      <td>NaN</td>\n      <td>NaN</td>\n      <td>NaN</td>\n    </tr>\n  </tbody>\n</table>\n<p>1 rows × 30 columns</p>\n</div>"
     },
     "metadata": {},
     "execution_count": 24
    }
   ],
   "source": [
    "consolidado_pagos_baz.head(1)"
   ]
  },
  {
   "cell_type": "code",
   "execution_count": 25,
   "metadata": {},
   "outputs": [
    {
     "output_type": "execute_result",
     "data": {
      "text/plain": [
       "            Usuario                               Gestor  NumeroPromesas  \\\n",
       "0       ALHENANDEZA           ALVARADO HERNANDEZ ADRIANA             684   \n",
       "1   ARCHUNDIAMABEAL  ARCHUNDIA MACIAS BERNARDO ALEJANDRO             474   \n",
       "2      BEBAUTISTAJI            JIMENEZ BAUTISTA BERNARDO            1090   \n",
       "3       BENITEZFLIS                ISAMAR BENITEZ FLORES             100   \n",
       "4    CARDOSASEVEBRE       BRENDA EVELYN CARDOSA SEVEROÂ              743   \n",
       "5       CARMONAHEEL          CARMONA HERNANDEZ ELIZABETH              71   \n",
       "6        CASTROGAHG           HUGO GERARDO CASTRO GARCIA             375   \n",
       "7         CRHERNAYA              YAQUELIN CRUZ HERNANDEZ             389   \n",
       "8       CRSALINASDM          CRUZ SALINAS DEYSI MICHELLE               2   \n",
       "9      DIONISIOGAAL         ALEJANDRA DIONISIO GALICIAÂ              388   \n",
       "10      ESROSALESJA               ESPAÃA ROSALES JANET              609   \n",
       "11      ESTRADAACGU               ESTRADA ACEVES GUSTAVO               2   \n",
       "12      ESTRADAZUSE       ESTRADA ZUNIGA SUEMY ELIZABETH              74   \n",
       "13            Fegox                 Fernando Gonzalez X.              63   \n",
       "14     GALVANESVIAL        GALVAN ESTRADA VICTOR ALFONSO              10   \n",
       "15       GARCIAMOER                  ERNESTO GARCIA MOTA             536   \n",
       "16      GLUGARDOZAM                GERMAN LUGARDO ZAMORA             509   \n",
       "17     GONZALEZMAED             EDGAR GONZALEZ MARCELINO             381   \n",
       "18     GONZALEZOLRI              RICARDO GONZALEZ OLMEDO             229   \n",
       "19     HEBALTAZARAL          HERNANDEZ BALTAZAR ALFREDO               65   \n",
       "20    HERNANDEZESBE          HERNANDEZ ESQUIVEL BERENICE               4   \n",
       "21         JIVEJOFE          JIMENEZ VEGA JORGE FEDERICO               3   \n",
       "22         LEONSASU                  LEON SALINAS SUSANA             423   \n",
       "23        LOPEZMOME               MARIA ELENA LOPEZ MORA             601   \n",
       "24        MIMERAZPJ          MIRANDA MERAZ PAOLA JENNERY              22   \n",
       "25      MONTIELLOGA               MONTIEL LOPEZ GABRIELA               3   \n",
       "26        OCHOAOLCA                   CARLOS OCHOA OLIVO               1   \n",
       "27      ORDONEZMAES              ORDOÃÂ±ES MARIA ESTHER             430   \n",
       "28        PEREZPAAN                      ANA PEREZ PALMA             160   \n",
       "29           PLMALI               PLATA MARTINEZ LILIANA             113   \n",
       "30      QUIRINOMAJA          QUIRINO MARTINEZ JOSE ANGEL             260   \n",
       "31      SANCHEZPIYA                 YARELI SANCHEZ PILAR             252   \n",
       "32       SANTOSGAAD                ADOLFO SANTOS GARFIAS               1   \n",
       "33       VALDEZESCE                 VALDEZ ESTRADA CELSO               1   \n",
       "34     VALENCIAMICA               VALENCIA MILIAN CARLOS               7   \n",
       "35       VIEYRAITTR             TREJO VIEYRA ITZEL YANET              25   \n",
       "36        ZARZANOJA           ZARZA NORIA JEFREY ALBERTO               1   \n",
       "37       ZEPEDAESJI                JIMMY ZEPEDA ESPINOSA             502   \n",
       "\n",
       "    SumaRecCapital  SumaRecMoratorios  SumaPromesas  Recuperado  \n",
       "0         254725.0            79154.0      372469.0    333879.0  \n",
       "1         188747.0            45479.0      324824.0    234226.0  \n",
       "2         700380.0            62901.0      962054.0    763281.0  \n",
       "3          18144.0            11480.0      136786.0     29624.0  \n",
       "4         402824.0           118948.0      539330.0    521772.0  \n",
       "5          24432.0            19921.0       69744.0     44353.0  \n",
       "6         146079.0            45894.0      339831.0    191973.0  \n",
       "7         236521.0            46704.0      360626.0    283225.0  \n",
       "8           1264.0                0.0        4276.0      1264.0  \n",
       "9         195431.0           101422.0      239523.0    296853.0  \n",
       "10        201671.0           105331.0      392864.0    307002.0  \n",
       "11             0.0                0.0        5500.0         0.0  \n",
       "12         21363.0            37657.0       71158.0     59020.0  \n",
       "13         18623.0             6931.0       29500.0     25554.0  \n",
       "14          8502.0              335.0        7030.0      8837.0  \n",
       "15        227808.0            54682.0      352396.0    282490.0  \n",
       "16        229065.0            92674.0      353914.0    321739.0  \n",
       "17        164888.0            32489.0      249559.0    197377.0  \n",
       "18         62600.0            26170.0      167549.0     88770.0  \n",
       "19         14331.0             4799.0       62580.0     19130.0  \n",
       "20          2664.0                0.0        7952.0      2664.0  \n",
       "21             0.0             3726.0       21273.0      3726.0  \n",
       "22        267091.0            27269.0      428772.0    294360.0  \n",
       "23        172593.0            75363.0      385065.0    247956.0  \n",
       "24          7325.0             1937.0       10002.0      9262.0  \n",
       "25             0.0             1500.0        5107.0      1500.0  \n",
       "26             0.0                0.0        2100.0         0.0  \n",
       "27        164496.0            50456.0      343153.0    214952.0  \n",
       "28         76798.0            10441.0       91514.0     87239.0  \n",
       "29         39559.0            12236.0       68336.0     51795.0  \n",
       "30        107048.0            31184.0      227181.0    138232.0  \n",
       "31         83514.0            21824.0      140079.0    105338.0  \n",
       "32             0.0                0.0        2031.0         0.0  \n",
       "33             0.0                0.0        8526.0         0.0  \n",
       "34          2532.0                0.0        3548.0      2532.0  \n",
       "35          5933.0             1042.0       27721.0      6975.0  \n",
       "36             0.0                0.0        2000.0         0.0  \n",
       "37        265527.0            34451.0      384551.0    299978.0  "
      ],
      "text/html": "<div>\n<style scoped>\n    .dataframe tbody tr th:only-of-type {\n        vertical-align: middle;\n    }\n\n    .dataframe tbody tr th {\n        vertical-align: top;\n    }\n\n    .dataframe thead th {\n        text-align: right;\n    }\n</style>\n<table border=\"1\" class=\"dataframe\">\n  <thead>\n    <tr style=\"text-align: right;\">\n      <th></th>\n      <th>Usuario</th>\n      <th>Gestor</th>\n      <th>NumeroPromesas</th>\n      <th>SumaRecCapital</th>\n      <th>SumaRecMoratorios</th>\n      <th>SumaPromesas</th>\n      <th>Recuperado</th>\n    </tr>\n  </thead>\n  <tbody>\n    <tr>\n      <th>0</th>\n      <td>ALHENANDEZA</td>\n      <td>ALVARADO HERNANDEZ ADRIANA</td>\n      <td>684</td>\n      <td>254725.0</td>\n      <td>79154.0</td>\n      <td>372469.0</td>\n      <td>333879.0</td>\n    </tr>\n    <tr>\n      <th>1</th>\n      <td>ARCHUNDIAMABEAL</td>\n      <td>ARCHUNDIA MACIAS BERNARDO ALEJANDRO</td>\n      <td>474</td>\n      <td>188747.0</td>\n      <td>45479.0</td>\n      <td>324824.0</td>\n      <td>234226.0</td>\n    </tr>\n    <tr>\n      <th>2</th>\n      <td>BEBAUTISTAJI</td>\n      <td>JIMENEZ BAUTISTA BERNARDO</td>\n      <td>1090</td>\n      <td>700380.0</td>\n      <td>62901.0</td>\n      <td>962054.0</td>\n      <td>763281.0</td>\n    </tr>\n    <tr>\n      <th>3</th>\n      <td>BENITEZFLIS</td>\n      <td>ISAMAR BENITEZ FLORES</td>\n      <td>100</td>\n      <td>18144.0</td>\n      <td>11480.0</td>\n      <td>136786.0</td>\n      <td>29624.0</td>\n    </tr>\n    <tr>\n      <th>4</th>\n      <td>CARDOSASEVEBRE</td>\n      <td>BRENDA EVELYN CARDOSA SEVEROÂ</td>\n      <td>743</td>\n      <td>402824.0</td>\n      <td>118948.0</td>\n      <td>539330.0</td>\n      <td>521772.0</td>\n    </tr>\n    <tr>\n      <th>5</th>\n      <td>CARMONAHEEL</td>\n      <td>CARMONA HERNANDEZ ELIZABETH</td>\n      <td>71</td>\n      <td>24432.0</td>\n      <td>19921.0</td>\n      <td>69744.0</td>\n      <td>44353.0</td>\n    </tr>\n    <tr>\n      <th>6</th>\n      <td>CASTROGAHG</td>\n      <td>HUGO GERARDO CASTRO GARCIA</td>\n      <td>375</td>\n      <td>146079.0</td>\n      <td>45894.0</td>\n      <td>339831.0</td>\n      <td>191973.0</td>\n    </tr>\n    <tr>\n      <th>7</th>\n      <td>CRHERNAYA</td>\n      <td>YAQUELIN CRUZ HERNANDEZ</td>\n      <td>389</td>\n      <td>236521.0</td>\n      <td>46704.0</td>\n      <td>360626.0</td>\n      <td>283225.0</td>\n    </tr>\n    <tr>\n      <th>8</th>\n      <td>CRSALINASDM</td>\n      <td>CRUZ SALINAS DEYSI MICHELLE</td>\n      <td>2</td>\n      <td>1264.0</td>\n      <td>0.0</td>\n      <td>4276.0</td>\n      <td>1264.0</td>\n    </tr>\n    <tr>\n      <th>9</th>\n      <td>DIONISIOGAAL</td>\n      <td>ALEJANDRA DIONISIO GALICIAÂ</td>\n      <td>388</td>\n      <td>195431.0</td>\n      <td>101422.0</td>\n      <td>239523.0</td>\n      <td>296853.0</td>\n    </tr>\n    <tr>\n      <th>10</th>\n      <td>ESROSALESJA</td>\n      <td>ESPAÃA ROSALES JANET</td>\n      <td>609</td>\n      <td>201671.0</td>\n      <td>105331.0</td>\n      <td>392864.0</td>\n      <td>307002.0</td>\n    </tr>\n    <tr>\n      <th>11</th>\n      <td>ESTRADAACGU</td>\n      <td>ESTRADA ACEVES GUSTAVO</td>\n      <td>2</td>\n      <td>0.0</td>\n      <td>0.0</td>\n      <td>5500.0</td>\n      <td>0.0</td>\n    </tr>\n    <tr>\n      <th>12</th>\n      <td>ESTRADAZUSE</td>\n      <td>ESTRADA ZUNIGA SUEMY ELIZABETH</td>\n      <td>74</td>\n      <td>21363.0</td>\n      <td>37657.0</td>\n      <td>71158.0</td>\n      <td>59020.0</td>\n    </tr>\n    <tr>\n      <th>13</th>\n      <td>Fegox</td>\n      <td>Fernando Gonzalez X.</td>\n      <td>63</td>\n      <td>18623.0</td>\n      <td>6931.0</td>\n      <td>29500.0</td>\n      <td>25554.0</td>\n    </tr>\n    <tr>\n      <th>14</th>\n      <td>GALVANESVIAL</td>\n      <td>GALVAN ESTRADA VICTOR ALFONSO</td>\n      <td>10</td>\n      <td>8502.0</td>\n      <td>335.0</td>\n      <td>7030.0</td>\n      <td>8837.0</td>\n    </tr>\n    <tr>\n      <th>15</th>\n      <td>GARCIAMOER</td>\n      <td>ERNESTO GARCIA MOTA</td>\n      <td>536</td>\n      <td>227808.0</td>\n      <td>54682.0</td>\n      <td>352396.0</td>\n      <td>282490.0</td>\n    </tr>\n    <tr>\n      <th>16</th>\n      <td>GLUGARDOZAM</td>\n      <td>GERMAN LUGARDO ZAMORA</td>\n      <td>509</td>\n      <td>229065.0</td>\n      <td>92674.0</td>\n      <td>353914.0</td>\n      <td>321739.0</td>\n    </tr>\n    <tr>\n      <th>17</th>\n      <td>GONZALEZMAED</td>\n      <td>EDGAR GONZALEZ MARCELINO</td>\n      <td>381</td>\n      <td>164888.0</td>\n      <td>32489.0</td>\n      <td>249559.0</td>\n      <td>197377.0</td>\n    </tr>\n    <tr>\n      <th>18</th>\n      <td>GONZALEZOLRI</td>\n      <td>RICARDO GONZALEZ OLMEDO</td>\n      <td>229</td>\n      <td>62600.0</td>\n      <td>26170.0</td>\n      <td>167549.0</td>\n      <td>88770.0</td>\n    </tr>\n    <tr>\n      <th>19</th>\n      <td>HEBALTAZARAL</td>\n      <td>HERNANDEZ BALTAZAR ALFREDO</td>\n      <td>65</td>\n      <td>14331.0</td>\n      <td>4799.0</td>\n      <td>62580.0</td>\n      <td>19130.0</td>\n    </tr>\n    <tr>\n      <th>20</th>\n      <td>HERNANDEZESBE</td>\n      <td>HERNANDEZ ESQUIVEL BERENICE</td>\n      <td>4</td>\n      <td>2664.0</td>\n      <td>0.0</td>\n      <td>7952.0</td>\n      <td>2664.0</td>\n    </tr>\n    <tr>\n      <th>21</th>\n      <td>JIVEJOFE</td>\n      <td>JIMENEZ VEGA JORGE FEDERICO</td>\n      <td>3</td>\n      <td>0.0</td>\n      <td>3726.0</td>\n      <td>21273.0</td>\n      <td>3726.0</td>\n    </tr>\n    <tr>\n      <th>22</th>\n      <td>LEONSASU</td>\n      <td>LEON SALINAS SUSANA</td>\n      <td>423</td>\n      <td>267091.0</td>\n      <td>27269.0</td>\n      <td>428772.0</td>\n      <td>294360.0</td>\n    </tr>\n    <tr>\n      <th>23</th>\n      <td>LOPEZMOME</td>\n      <td>MARIA ELENA LOPEZ MORA</td>\n      <td>601</td>\n      <td>172593.0</td>\n      <td>75363.0</td>\n      <td>385065.0</td>\n      <td>247956.0</td>\n    </tr>\n    <tr>\n      <th>24</th>\n      <td>MIMERAZPJ</td>\n      <td>MIRANDA MERAZ PAOLA JENNERY</td>\n      <td>22</td>\n      <td>7325.0</td>\n      <td>1937.0</td>\n      <td>10002.0</td>\n      <td>9262.0</td>\n    </tr>\n    <tr>\n      <th>25</th>\n      <td>MONTIELLOGA</td>\n      <td>MONTIEL LOPEZ GABRIELA</td>\n      <td>3</td>\n      <td>0.0</td>\n      <td>1500.0</td>\n      <td>5107.0</td>\n      <td>1500.0</td>\n    </tr>\n    <tr>\n      <th>26</th>\n      <td>OCHOAOLCA</td>\n      <td>CARLOS OCHOA OLIVO</td>\n      <td>1</td>\n      <td>0.0</td>\n      <td>0.0</td>\n      <td>2100.0</td>\n      <td>0.0</td>\n    </tr>\n    <tr>\n      <th>27</th>\n      <td>ORDONEZMAES</td>\n      <td>ORDOÃÂ±ES MARIA ESTHER</td>\n      <td>430</td>\n      <td>164496.0</td>\n      <td>50456.0</td>\n      <td>343153.0</td>\n      <td>214952.0</td>\n    </tr>\n    <tr>\n      <th>28</th>\n      <td>PEREZPAAN</td>\n      <td>ANA PEREZ PALMA</td>\n      <td>160</td>\n      <td>76798.0</td>\n      <td>10441.0</td>\n      <td>91514.0</td>\n      <td>87239.0</td>\n    </tr>\n    <tr>\n      <th>29</th>\n      <td>PLMALI</td>\n      <td>PLATA MARTINEZ LILIANA</td>\n      <td>113</td>\n      <td>39559.0</td>\n      <td>12236.0</td>\n      <td>68336.0</td>\n      <td>51795.0</td>\n    </tr>\n    <tr>\n      <th>30</th>\n      <td>QUIRINOMAJA</td>\n      <td>QUIRINO MARTINEZ JOSE ANGEL</td>\n      <td>260</td>\n      <td>107048.0</td>\n      <td>31184.0</td>\n      <td>227181.0</td>\n      <td>138232.0</td>\n    </tr>\n    <tr>\n      <th>31</th>\n      <td>SANCHEZPIYA</td>\n      <td>YARELI SANCHEZ PILAR</td>\n      <td>252</td>\n      <td>83514.0</td>\n      <td>21824.0</td>\n      <td>140079.0</td>\n      <td>105338.0</td>\n    </tr>\n    <tr>\n      <th>32</th>\n      <td>SANTOSGAAD</td>\n      <td>ADOLFO SANTOS GARFIAS</td>\n      <td>1</td>\n      <td>0.0</td>\n      <td>0.0</td>\n      <td>2031.0</td>\n      <td>0.0</td>\n    </tr>\n    <tr>\n      <th>33</th>\n      <td>VALDEZESCE</td>\n      <td>VALDEZ ESTRADA CELSO</td>\n      <td>1</td>\n      <td>0.0</td>\n      <td>0.0</td>\n      <td>8526.0</td>\n      <td>0.0</td>\n    </tr>\n    <tr>\n      <th>34</th>\n      <td>VALENCIAMICA</td>\n      <td>VALENCIA MILIAN CARLOS</td>\n      <td>7</td>\n      <td>2532.0</td>\n      <td>0.0</td>\n      <td>3548.0</td>\n      <td>2532.0</td>\n    </tr>\n    <tr>\n      <th>35</th>\n      <td>VIEYRAITTR</td>\n      <td>TREJO VIEYRA ITZEL YANET</td>\n      <td>25</td>\n      <td>5933.0</td>\n      <td>1042.0</td>\n      <td>27721.0</td>\n      <td>6975.0</td>\n    </tr>\n    <tr>\n      <th>36</th>\n      <td>ZARZANOJA</td>\n      <td>ZARZA NORIA JEFREY ALBERTO</td>\n      <td>1</td>\n      <td>0.0</td>\n      <td>0.0</td>\n      <td>2000.0</td>\n      <td>0.0</td>\n    </tr>\n    <tr>\n      <th>37</th>\n      <td>ZEPEDAESJI</td>\n      <td>JIMMY ZEPEDA ESPINOSA</td>\n      <td>502</td>\n      <td>265527.0</td>\n      <td>34451.0</td>\n      <td>384551.0</td>\n      <td>299978.0</td>\n    </tr>\n  </tbody>\n</table>\n</div>"
     },
     "metadata": {},
     "execution_count": 25
    }
   ],
   "source": [
    "promesas_gestor_rec = pd.pivot_table(consolidado_pagos_baz,index=['usuario','nombre_usuario'],values=['monto_promesa','RECUPERACION DE CAPITAL','RECUPERACION DE MORATORIOS'],aggfunc=['count',np.sum])\n",
    "promesas_gestor_rec = to_dataframe(promesas_gestor_rec)\n",
    "promesas_gestor_rec = promesas_gestor_rec.iloc[:,[0,1,4,5,6,7]]\n",
    "promesas_gestor_rec.columns = ['Usuario','Gestor','NumeroPromesas','SumaRecCapital','SumaRecMoratorios','SumaPromesas']\n",
    "promesas_gestor_rec['Recuperado'] = promesas_gestor_rec['SumaRecCapital']+promesas_gestor_rec['SumaRecMoratorios']\n",
    "promesas_gestor_rec"
   ]
  },
  {
   "cell_type": "code",
   "execution_count": 26,
   "metadata": {},
   "outputs": [
    {
     "output_type": "execute_result",
     "data": {
      "text/plain": [
       "       Usuario                  NombreUsuario  NumeroGestiones Gestor  \\\n",
       "0  AGUILARRIAL  AGUILAR RIOS DANIEL ALEJANDRO               96      0   \n",
       "\n",
       "   NumeroPromesas  SumaRecCapital  SumaRecMoratorios  SumaPromesas  Recuperado  \n",
       "0             0.0             0.0                0.0           0.0         0.0  "
      ],
      "text/html": "<div>\n<style scoped>\n    .dataframe tbody tr th:only-of-type {\n        vertical-align: middle;\n    }\n\n    .dataframe tbody tr th {\n        vertical-align: top;\n    }\n\n    .dataframe thead th {\n        text-align: right;\n    }\n</style>\n<table border=\"1\" class=\"dataframe\">\n  <thead>\n    <tr style=\"text-align: right;\">\n      <th></th>\n      <th>Usuario</th>\n      <th>NombreUsuario</th>\n      <th>NumeroGestiones</th>\n      <th>Gestor</th>\n      <th>NumeroPromesas</th>\n      <th>SumaRecCapital</th>\n      <th>SumaRecMoratorios</th>\n      <th>SumaPromesas</th>\n      <th>Recuperado</th>\n    </tr>\n  </thead>\n  <tbody>\n    <tr>\n      <th>0</th>\n      <td>AGUILARRIAL</td>\n      <td>AGUILAR RIOS DANIEL ALEJANDRO</td>\n      <td>96</td>\n      <td>0</td>\n      <td>0.0</td>\n      <td>0.0</td>\n      <td>0.0</td>\n      <td>0.0</td>\n      <td>0.0</td>\n    </tr>\n  </tbody>\n</table>\n</div>"
     },
     "metadata": {},
     "execution_count": 26
    }
   ],
   "source": [
    "control_baz_rec = pd.merge(gestion_gestor_rec,promesas_gestor_rec,how='left',on='Usuario')\n",
    "control_baz_rec.fillna(0,inplace=True)\n",
    "control_baz_rec['Usuario2'] = [x[:3] for x in control_baz_rec['Usuario']]\n",
    "control_baz_rec = control_baz_rec.loc[control_baz_rec['Usuario2']!='m08']\n",
    "control_baz_rec.drop('Usuario2',axis=1,inplace=True)\n",
    "control_baz_rec.head(1)"
   ]
  },
  {
   "cell_type": "code",
   "execution_count": 30,
   "metadata": {},
   "outputs": [],
   "source": [
    "final_baz_rec = pd.merge(control_baz_rec,control_performance_baz,how='left',on='Usuario')\n",
    "final_baz_rec.fillna(0,inplace=True)\n",
    "final_baz_rec['PromedioLlamadasHora'] = final_baz_rec['SumLlamadasDia']/final_baz_rec['SumHorasTrabajadas']\n",
    "final_baz_rec['PromedioOcupacion'] = final_baz_rec['PromedioOcupacion']/100\n",
    "final_baz_rec['EficienciaPagos'] = final_baz_rec['Recuperado']/final_baz_rec['SumaPromesas']\n",
    "final_baz_rec['PromesasHora'] = final_baz_rec['NumeroPromesas']/final_baz_rec['SumHorasTrabajadas']\n",
    "final_baz_rec['Usuario'] = final_baz_rec['Usuario'].str.upper()\n",
    "final_baz_rec = pd.merge(final_baz_rec,personal,on='Usuario',how='left')\n",
    "final_baz_rec['Estatus'].dropna(inplace=True)\n",
    "final_baz_rec = final_baz_rec.loc[final_baz_rec['Estatus']=='COBRANZA']"
   ]
  },
  {
   "cell_type": "code",
   "execution_count": 31,
   "metadata": {},
   "outputs": [
    {
     "output_type": "execute_result",
     "data": {
      "text/plain": [
       "                NombreUsuario  Recuperado  EficienciaPagos  PromedioOcupacion  \\\n",
       "1  ALVARADO HERNANDEZ ADRIANA    333879.0              0.9               0.29   \n",
       "\n",
       "   PromedioLlamadasHora  PromesasHora  \n",
       "1                 30.13          3.29  "
      ],
      "text/html": "<div>\n<style scoped>\n    .dataframe tbody tr th:only-of-type {\n        vertical-align: middle;\n    }\n\n    .dataframe tbody tr th {\n        vertical-align: top;\n    }\n\n    .dataframe thead th {\n        text-align: right;\n    }\n</style>\n<table border=\"1\" class=\"dataframe\">\n  <thead>\n    <tr style=\"text-align: right;\">\n      <th></th>\n      <th>NombreUsuario</th>\n      <th>Recuperado</th>\n      <th>EficienciaPagos</th>\n      <th>PromedioOcupacion</th>\n      <th>PromedioLlamadasHora</th>\n      <th>PromesasHora</th>\n    </tr>\n  </thead>\n  <tbody>\n    <tr>\n      <th>1</th>\n      <td>ALVARADO HERNANDEZ ADRIANA</td>\n      <td>333879.0</td>\n      <td>0.9</td>\n      <td>0.29</td>\n      <td>30.13</td>\n      <td>3.29</td>\n    </tr>\n  </tbody>\n</table>\n</div>"
     },
     "metadata": {},
     "execution_count": 31
    }
   ],
   "source": [
    "final_baz_rec2 = final_baz_rec.iloc[:,[1,8,14,12,13,15]]\n",
    "cols = ['Recuperado','EficienciaPagos','PromedioOcupacion','PromedioLlamadasHora','PromesasHora']\n",
    "final_baz_rec2[cols] = final_baz_rec2[cols].round(2)\n",
    "final_baz_rec2.fillna(0,inplace=True)\n",
    "final_baz_rec2.head(1)"
   ]
  },
  {
   "cell_type": "code",
   "execution_count": 29,
   "metadata": {},
   "outputs": [],
   "source": [
    "writer = pd.ExcelWriter(''+ruta_guardar+'/Gestores/Banco Azteca/Reporte Gestor Banco Azteca '+now+'.xlsx',engine='xlsxwriter')\n",
    "final_baz_rec2.to_excel(writer,'BSC',index=False,header=True)\n",
    "control_performance_baz.to_excel(writer,'PerformanceDetallado',index=False,header=True)\n",
    "control_performance_baz_turno.to_excel(writer,'PerformanceTurno',index=False,header=True)\n",
    "final_baz_rec.to_excel(writer,'GestionesDetallado',index=False,header=True)\n",
    "\n",
    "writer.save()"
   ]
  },
  {
   "cell_type": "code",
   "execution_count": null,
   "metadata": {},
   "outputs": [],
   "source": []
  }
 ]
}