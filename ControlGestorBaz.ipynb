{
 "metadata": {
  "language_info": {
   "codemirror_mode": {
    "name": "ipython",
    "version": 3
   },
   "file_extension": ".py",
   "mimetype": "text/x-python",
   "name": "python",
   "nbconvert_exporter": "python",
   "pygments_lexer": "ipython3",
   "version": "3.8.5-final"
  },
  "orig_nbformat": 2,
  "kernelspec": {
   "name": "python3",
   "display_name": "Python 3",
   "language": "python"
  }
 },
 "nbformat": 4,
 "nbformat_minor": 2,
 "cells": [
  {
   "cell_type": "code",
   "execution_count": 1,
   "metadata": {},
   "outputs": [],
   "source": [
    "import pandas as pd\n",
    "import numpy as np\n",
    "import mysql.connector\n",
    "import os\n",
    "from mysql.connector import Error\n",
    "from datetime import datetime, date, timedelta\n",
    "import re\n",
    "from IPython.core.interactiveshell import InteractiveShell\n",
    "InteractiveShell.ast_node_interactivity = \"all\""
   ]
  },
  {
   "cell_type": "code",
   "execution_count": 2,
   "metadata": {},
   "outputs": [],
   "source": [
    "#Definimos la ruta en donde queremos guardar los archivos\n",
    "ruta_guardar = '/home/estadistico/Documents/Erick/Reportes diarios'\n",
    "ruta_pagos = '/home/estadistico/Documents/Erick'\n",
    "mes = 20201201\n",
    "mes2 = 'Diciembre2020'\n",
    "mes3 = pd.to_datetime('01/12/2020',dayfirst=True)\n",
    "prim_sem_mes = 49"
   ]
  },
  {
   "cell_type": "code",
   "execution_count": 3,
   "metadata": {},
   "outputs": [],
   "source": [
    "#Agregamos las variables a ocupar\n",
    "servidor = '192.168.15.12'\n",
    "puerto = 3306\n",
    "usuario = 'estadisticas'\n",
    "contrasena = 'estadisticas8474'\n",
    "base = 'procesos_externos'"
   ]
  },
  {
   "cell_type": "code",
   "execution_count": 4,
   "metadata": {},
   "outputs": [],
   "source": [
    "#Asignamos valores a los parametros \\n\"\n",
    "today = date.today().strftime('%Y%m%d')\n",
    "now = datetime.now().strftime('%d-%m-%Y %H:%M')\n",
    "hoy = np.datetime64('today')\n",
    "ayer = np.datetime64(date.today() - timedelta(1))\n",
    "today2 = date.today().strftime('%d-%m-%Y')"
   ]
  },
  {
   "cell_type": "code",
   "execution_count": 5,
   "metadata": {},
   "outputs": [],
   "source": [
    "#Lectura pagos Banco Azteca\n",
    "sheet_baz_renta = os.listdir(''+ruta_pagos+'/'+str(mes2)+'/Banco Azteca/Pagos/Renta')\n",
    "pagos_baz_renta = pd.DataFrame()\n",
    "for i in sheet_baz_renta:\n",
    "    pagos_baz_renta_new = pd.read_csv(''+ruta_pagos+'/'+str(mes2)+'/Banco Azteca/Pagos/Renta/'+i+'')\n",
    "    pagos_baz_renta = pd.concat([pagos_baz_renta,pagos_baz_renta_new],ignore_index=True)\n",
    "pagos_baz_renta = pagos_baz_renta.drop_duplicates()\n",
    "pagos_baz_renta = pagos_baz_renta.loc[pagos_baz_renta['FNMONTOPAGADO']>0]\n",
    "pagos_baz_renta['FDFECHAABONO'] = pd.to_datetime(pagos_baz_renta['FDFECHAABONO'],dayfirst=True)\n",
    "pagos_baz_renta = pagos_baz_renta.loc[pagos_baz_renta['FDFECHAABONO']>=mes3]\n",
    "pagos_baz_renta2 = pd.pivot_table(pagos_baz_renta,index=['CAMPANAID','FDFECHAABONO','FIIDPERIODO','FNSCOMPROMISO','FCEMPNUMCORTE','FNMONTOPROMETIDO'],values=['FNMONTOPAGADO'],aggfunc=np.sum)\n",
    "pagos_baz_renta2 = pd.DataFrame(pagos_baz_renta2.to_records())"
   ]
  },
  {
   "cell_type": "code",
   "execution_count": 60,
   "metadata": {},
   "outputs": [],
   "source": [
    "#Lectura pagos Banco Azteca\n",
    "sheet_baz_recovery = os.listdir(''+ruta_pagos+'/'+str(mes2)+'/Banco Azteca/Pagos/Recovery/')\n",
    "pagos_baz_recovery = pd.DataFrame()\n",
    "for k in sheet_baz_recovery:\n",
    "    pagos_baz_recovery_new = pd.read_csv(''+ruta_pagos+'/'+str(mes2)+'/Banco Azteca/Pagos/Recovery/'+k+'',sep='|')\n",
    "    pagos_baz_recovery = pd.concat([pagos_baz_recovery,pagos_baz_recovery_new],ignore_index=True)\n",
    "pagos_baz_recovery['Cartera'] = 'Recovery'\n",
    "pagos_baz_recovery['DIA'] = pd.to_datetime(pagos_baz_recovery['DIA'],dayfirst=True)\n",
    "pagos_baz_recovery = pagos_baz_recovery.loc[pagos_baz_recovery['DIA']>=mes3]\n",
    "pagos_baz_recovery = pagos_baz_recovery.loc[pagos_baz_recovery['DIA']>=mes3]\n",
    "pagos_baz_recovery['credito'] = pagos_baz_recovery['PAIS'].map(str)+'-'+pagos_baz_recovery['CANAL'].map(str)+'-'+pagos_baz_recovery['SUCURSAL'].map(str)+'-'+pagos_baz_recovery['FOLIO'].map(str)\n",
    "pagos_baz_recovery = pagos_baz_recovery.drop_duplicates()"
   ]
  },
  {
   "cell_type": "code",
   "execution_count": 56,
   "metadata": {},
   "outputs": [
    {
     "output_type": "execute_result",
     "data": {
      "text/plain": [
       "   ANIO  SEMANA        DIA  PAIS  CANAL  SUCURSAL  FOLIO  \\\n",
       "0  2020      50 2020-12-07     1      1      4167  21140   \n",
       "\n",
       "   RECUPERACION DE CAPITAL  RECUPERACION DE MORATORIOS  SALDO ACTUAL  \\\n",
       "0                      373                         632        5028.0   \n",
       "\n",
       "   MORATORIOS ACTUAL FECHA GESTION CARGO AUTOMATICO cartera         credito  \n",
       "0                0.0    02/12/2020               NO   26-39  1-1-4167-21140  "
      ],
      "text/html": "<div>\n<style scoped>\n    .dataframe tbody tr th:only-of-type {\n        vertical-align: middle;\n    }\n\n    .dataframe tbody tr th {\n        vertical-align: top;\n    }\n\n    .dataframe thead th {\n        text-align: right;\n    }\n</style>\n<table border=\"1\" class=\"dataframe\">\n  <thead>\n    <tr style=\"text-align: right;\">\n      <th></th>\n      <th>ANIO</th>\n      <th>SEMANA</th>\n      <th>DIA</th>\n      <th>PAIS</th>\n      <th>CANAL</th>\n      <th>SUCURSAL</th>\n      <th>FOLIO</th>\n      <th>RECUPERACION DE CAPITAL</th>\n      <th>RECUPERACION DE MORATORIOS</th>\n      <th>SALDO ACTUAL</th>\n      <th>MORATORIOS ACTUAL</th>\n      <th>FECHA GESTION</th>\n      <th>CARGO AUTOMATICO</th>\n      <th>cartera</th>\n      <th>credito</th>\n    </tr>\n  </thead>\n  <tbody>\n    <tr>\n      <th>0</th>\n      <td>2020</td>\n      <td>50</td>\n      <td>2020-12-07</td>\n      <td>1</td>\n      <td>1</td>\n      <td>4167</td>\n      <td>21140</td>\n      <td>373</td>\n      <td>632</td>\n      <td>5028.0</td>\n      <td>0.0</td>\n      <td>02/12/2020</td>\n      <td>NO</td>\n      <td>26-39</td>\n      <td>1-1-4167-21140</td>\n    </tr>\n  </tbody>\n</table>\n</div>"
     },
     "metadata": {},
     "execution_count": 56
    }
   ],
   "source": [
    "#Lectura pagos Banco Azteca\n",
    "sheet_baz_26 = os.listdir(''+ruta_pagos+'/'+str(mes2)+'/Banco Azteca/Pagos/26-39/')\n",
    "pagos_baz_26 = pd.DataFrame()\n",
    "for j in sheet_baz_26:\n",
    "    pagos_baz_26_new = pd.read_csv(''+ruta_pagos+'/'+str(mes2)+'/Banco Azteca/Pagos/26-39/'+j+'',sep='|')\n",
    "    pagos_baz_26 = pd.concat([pagos_baz_26,pagos_baz_26_new],ignore_index=True)\n",
    "pagos_baz_26['cartera'] = '26-39'\n",
    "pagos_baz_26['DIA'] = pd.to_datetime(pagos_baz_26['DIA'],dayfirst=True)\n",
    "pagos_baz_26 = pagos_baz_26.loc[pagos_baz_26['DIA']>=mes3]\n",
    "pagos_baz_26['credito'] = pagos_baz_26['PAIS'].map(str)+'-'+pagos_baz_26['CANAL'].map(str)+'-'+pagos_baz_26['SUCURSAL'].map(str)+'-'+pagos_baz_26['FOLIO'].map(str)\n",
    "pagos_baz_26 = pagos_baz_26.drop_duplicates()\n",
    "pagos_baz_26.head(1)"
   ]
  },
  {
   "cell_type": "code",
   "execution_count": 7,
   "metadata": {},
   "outputs": [],
   "source": [
    "#Hacemos la conexion con el servidor\\n\",\n",
    "try: \n",
    "    conn = mysql.connector.connect(user=usuario,\n",
    "                               password=contrasena,\n",
    "                               host=servidor,\n",
    "                               port=puerto,\n",
    "                               database=base)\n",
    "    conn.set_charset_collation('latin1')\n",
    "except mysql.Error as e:\n",
    "    print(\"Failed to execute stored procedure: {}\".format(error))\n",
    "\n",
    "cursor = conn.cursor()"
   ]
  },
  {
   "cell_type": "code",
   "execution_count": 8,
   "metadata": {},
   "outputs": [],
   "source": [
    "#Funcion para hacer la consulta sql, ya sea de gestion o de asignacion en donde requerimos tres parametros, la tabla de donde vamos a sacar la consulta, en caso de asignacin requerimos los otros dos parametros fecha inicial y fecha final\n",
    "def consulta_sql(table,from_date=None,to_date=None,campana=None):\n",
    "    if campana is None:\n",
    "        if from_date is None:\n",
    "            sql_mes = cursor.callproc(table,)\n",
    "            for result in cursor.stored_results():\n",
    "                sql_mes = pd.DataFrame(result.fetchall())\n",
    "        else:\n",
    "            sql_mes = cursor.callproc(table, [from_date,to_date])\n",
    "            for result in cursor.stored_results():\n",
    "                sql_mes = pd.DataFrame(result.fetchall())\n",
    "    else:\n",
    "        sql_mes = cursor.callproc(table, [from_date,to_date,campana])\n",
    "        for result in cursor.stored_results():\n",
    "                sql_mes = pd.DataFrame(result.fetchall())\n",
    "    sql_mes = sql_mes.drop_duplicates()\n",
    "    return sql_mes"
   ]
  },
  {
   "cell_type": "code",
   "execution_count": 9,
   "metadata": {},
   "outputs": [],
   "source": [
    "#Funcion para transformar varias columnas a numero\n",
    "def transform_numeric(df,cols):\n",
    "    return df[cols].apply(pd.to_numeric, errors='coerce')\n",
    "\n",
    "#Funcion que convierte a dataframe y rellena espacios con 0\n",
    "def to_dataframe(df):\n",
    "    df = pd.DataFrame(df.to_records())\n",
    "    df.fillna(0,inplace=True)\n",
    "    return df\n",
    "\n",
    "#Funcion que quita el % del string\n",
    "def percent_tonumeric(df,cols):\n",
    "    for c in cols:\n",
    "        df[c] = [x[:-2] for x in df[c]]\n",
    "    return transform_numeric(df,cols)"
   ]
  },
  {
   "source": [
    "# Llamadas Detallado Banco Azteca"
   ],
   "cell_type": "markdown",
   "metadata": {}
  },
  {
   "cell_type": "code",
   "execution_count": 10,
   "metadata": {},
   "outputs": [],
   "source": [
    "#Hacemos la consulta referente a las gestiones de Credifiel\n",
    "#llamadas_cred = consulta_sql('procesos_externos.all_rpt_llamadas_detallado',mes,today,'(^BAZ)')\n",
    "#llamadas_cred.columns = ['server_ip','uniqueid','call_type','call_date','campaign_id','campaign_name','list_id',#'list_name','lead_id','vendor_lead_id','vendor_lead_name','phone_number','status','status_name','username','full_name','term_reason_call','queue_seconds','length_in_sec','call_date_short','call_time_short','call_time_hour','call_range_hour','dialstatus','hangup_cause','sip_hangup_cause','carrier','areacode','state','region']\n",
    "#llamadas_cred.head(1)"
   ]
  },
  {
   "cell_type": "code",
   "execution_count": 11,
   "metadata": {},
   "outputs": [],
   "source": [
    "#llamadas_cred['turno'] = np.where(llamadas_cred['call_time_hour']<=14,'M','V')"
   ]
  },
  {
   "source": [
    "# Performance Banco Azteca"
   ],
   "cell_type": "markdown",
   "metadata": {}
  },
  {
   "cell_type": "code",
   "execution_count": 12,
   "metadata": {},
   "outputs": [],
   "source": [
    "#Hacemos la consulta referente al performance del Gestor\n",
    "performance_all = consulta_sql('procesos_externos.all_rpt_agent_performance',mes,today)\n",
    "performance_all.columns = ['fecha','usuario','nombre_usuario','user_group','llamadas','aht','ocupacion','adherencia','login_vici','logout_vici','staff_time','wait_time','talk_time','dispo_time','pause','login','manual','gestion','agua','alimentos','sanitario','retroalimentacion','tranferencia','validacion','whatsapp','incumplimiento','recordatorios','capacitacion','sistemas','lagged','tipificando','*']"
   ]
  },
  {
   "cell_type": "code",
   "execution_count": 13,
   "metadata": {},
   "outputs": [],
   "source": [
    "performance_all['user_group2'] = [x[:3] for x in performance_all['user_group']]\n",
    "performance_baz = performance_all.loc[performance_all['user_group2']=='BAZ']\n",
    "performance_baz[['ocupacion','adherencia']] = percent_tonumeric(performance_baz,['ocupacion','adherencia'])"
   ]
  },
  {
   "cell_type": "code",
   "execution_count": 14,
   "metadata": {},
   "outputs": [],
   "source": [
    "performance_baz['hora_login'] = [int(x[:2]) for x in performance_baz['login_vici']]\n",
    "performance_baz['hora_logout'] = [int(x[:2]) for x in performance_baz['logout_vici']]\n",
    "performance_baz['turno'] = np.where((performance_baz['hora_logout']<=14)&(performance_baz['hora_logout']-performance_baz['hora_login']<=8),'M',\n",
    "                                    np.where((performance_baz['hora_logout']>17)&(performance_baz['hora_logout']-performance_baz['hora_login']<=8),'V','Mixto'))"
   ]
  },
  {
   "cell_type": "code",
   "execution_count": 15,
   "metadata": {},
   "outputs": [
    {
     "output_type": "execute_result",
     "data": {
      "text/plain": [
       "        fecha      usuario              nombre_usuario    user_group  \\\n",
       "3  2020-12-01  ALHENANDEZA  ADRIANA ALVARADO HERNANDEZ  BAZ_RECOVERY   \n",
       "\n",
       "   llamadas       aht  ocupacion  adherencia login_vici logout_vici  ...  \\\n",
       "3       190  00:00:46      31.86       45.31   14:04:54    21:00:12  ...   \n",
       "\n",
       "   sistemas    lagged tipificando         * user_group2 hora_login  \\\n",
       "3  00:00:00  00:00:00    00:00:51  00:00:01         BAZ         14   \n",
       "\n",
       "  hora_logout turno horas_trabajadas llamadas_hora  \n",
       "3          21     V                7          27.1  \n",
       "\n",
       "[1 rows x 38 columns]"
      ],
      "text/html": "<div>\n<style scoped>\n    .dataframe tbody tr th:only-of-type {\n        vertical-align: middle;\n    }\n\n    .dataframe tbody tr th {\n        vertical-align: top;\n    }\n\n    .dataframe thead th {\n        text-align: right;\n    }\n</style>\n<table border=\"1\" class=\"dataframe\">\n  <thead>\n    <tr style=\"text-align: right;\">\n      <th></th>\n      <th>fecha</th>\n      <th>usuario</th>\n      <th>nombre_usuario</th>\n      <th>user_group</th>\n      <th>llamadas</th>\n      <th>aht</th>\n      <th>ocupacion</th>\n      <th>adherencia</th>\n      <th>login_vici</th>\n      <th>logout_vici</th>\n      <th>...</th>\n      <th>sistemas</th>\n      <th>lagged</th>\n      <th>tipificando</th>\n      <th>*</th>\n      <th>user_group2</th>\n      <th>hora_login</th>\n      <th>hora_logout</th>\n      <th>turno</th>\n      <th>horas_trabajadas</th>\n      <th>llamadas_hora</th>\n    </tr>\n  </thead>\n  <tbody>\n    <tr>\n      <th>3</th>\n      <td>2020-12-01</td>\n      <td>ALHENANDEZA</td>\n      <td>ADRIANA ALVARADO HERNANDEZ</td>\n      <td>BAZ_RECOVERY</td>\n      <td>190</td>\n      <td>00:00:46</td>\n      <td>31.86</td>\n      <td>45.31</td>\n      <td>14:04:54</td>\n      <td>21:00:12</td>\n      <td>...</td>\n      <td>00:00:00</td>\n      <td>00:00:00</td>\n      <td>00:00:51</td>\n      <td>00:00:01</td>\n      <td>BAZ</td>\n      <td>14</td>\n      <td>21</td>\n      <td>V</td>\n      <td>7</td>\n      <td>27.1</td>\n    </tr>\n  </tbody>\n</table>\n<p>1 rows × 38 columns</p>\n</div>"
     },
     "metadata": {},
     "execution_count": 15
    }
   ],
   "source": [
    "performance_baz['horas_trabajadas'] = performance_baz['hora_logout']-performance_baz['hora_login']\n",
    "performance_baz['llamadas_hora'] = performance_baz['llamadas']/performance_baz['horas_trabajadas']\n",
    "performance_baz['llamadas_hora'] = performance_baz['llamadas_hora'].round(1)"
   ]
  },
  {
   "cell_type": "code",
   "execution_count": 16,
   "metadata": {},
   "outputs": [
    {
     "output_type": "execute_result",
     "data": {
      "text/plain": [
       "       Usuario                      Gestor Turno  SumHorasTrabajadas  \\\n",
       "0  ALHENANDEZA  ADRIANA ALVARADO HERNANDEZ     M                   7   \n",
       "1  ALHENANDEZA  ADRIANA ALVARADO HERNANDEZ     V                  81   \n",
       "\n",
       "   SumLlamadasDia  SumOcupacion  PromedioHorasTrab  PromedioLlamadasDia  \\\n",
       "0             216         35.60               7.00           216.000000   \n",
       "1            2354        354.57               6.75           196.166667   \n",
       "\n",
       "   PromedioOcupacion  DiasAsitencia  MinHoras  MinLlamadasDia  MinOcupacion  \\\n",
       "0            35.6000              1         7             216         35.60   \n",
       "1            29.5475             12         6              41         26.11   \n",
       "\n",
       "   MaxHoras  MaxLlamadasDia  MaxOcupacion  LlamadasHora  \n",
       "0         7             216         35.60     30.857143  \n",
       "1         7             274         32.61     29.061728  "
      ],
      "text/html": "<div>\n<style scoped>\n    .dataframe tbody tr th:only-of-type {\n        vertical-align: middle;\n    }\n\n    .dataframe tbody tr th {\n        vertical-align: top;\n    }\n\n    .dataframe thead th {\n        text-align: right;\n    }\n</style>\n<table border=\"1\" class=\"dataframe\">\n  <thead>\n    <tr style=\"text-align: right;\">\n      <th></th>\n      <th>Usuario</th>\n      <th>Gestor</th>\n      <th>Turno</th>\n      <th>SumHorasTrabajadas</th>\n      <th>SumLlamadasDia</th>\n      <th>SumOcupacion</th>\n      <th>PromedioHorasTrab</th>\n      <th>PromedioLlamadasDia</th>\n      <th>PromedioOcupacion</th>\n      <th>DiasAsitencia</th>\n      <th>MinHoras</th>\n      <th>MinLlamadasDia</th>\n      <th>MinOcupacion</th>\n      <th>MaxHoras</th>\n      <th>MaxLlamadasDia</th>\n      <th>MaxOcupacion</th>\n      <th>LlamadasHora</th>\n    </tr>\n  </thead>\n  <tbody>\n    <tr>\n      <th>0</th>\n      <td>ALHENANDEZA</td>\n      <td>ADRIANA ALVARADO HERNANDEZ</td>\n      <td>M</td>\n      <td>7</td>\n      <td>216</td>\n      <td>35.60</td>\n      <td>7.00</td>\n      <td>216.000000</td>\n      <td>35.6000</td>\n      <td>1</td>\n      <td>7</td>\n      <td>216</td>\n      <td>35.60</td>\n      <td>7</td>\n      <td>216</td>\n      <td>35.60</td>\n      <td>30.857143</td>\n    </tr>\n    <tr>\n      <th>1</th>\n      <td>ALHENANDEZA</td>\n      <td>ADRIANA ALVARADO HERNANDEZ</td>\n      <td>V</td>\n      <td>81</td>\n      <td>2354</td>\n      <td>354.57</td>\n      <td>6.75</td>\n      <td>196.166667</td>\n      <td>29.5475</td>\n      <td>12</td>\n      <td>6</td>\n      <td>41</td>\n      <td>26.11</td>\n      <td>7</td>\n      <td>274</td>\n      <td>32.61</td>\n      <td>29.061728</td>\n    </tr>\n  </tbody>\n</table>\n</div>"
     },
     "metadata": {},
     "execution_count": 16
    }
   ],
   "source": [
    "control_performance_baz_turno = pd.pivot_table(performance_baz,index=['usuario','nombre_usuario','turno'],values=['llamadas','ocupacion','horas_trabajadas'],aggfunc=[np.sum,np.mean,'count',min,max])\n",
    "control_performance_baz_turno = to_dataframe(control_performance_baz_turno)\n",
    "control_performance_baz_turno = control_performance_baz_turno.iloc[:,[0,1,2,3,4,5,6,7,8,9,12,13,14,15,16,17]]\n",
    "control_performance_baz_turno.columns = ['Usuario','Gestor','Turno','SumHorasTrabajadas','SumLlamadasDia','SumOcupacion','PromedioHorasTrab','PromedioLlamadasDia','PromedioOcupacion','DiasAsitencia','MinHoras','MinLlamadasDia','MinOcupacion','MaxHoras','MaxLlamadasDia','MaxOcupacion']\n",
    "control_performance_baz_turno['LlamadasHora'] = control_performance_baz_turno['SumLlamadasDia']/control_performance_baz_turno['SumHorasTrabajadas']\n",
    "control_performance_baz_turno.head(2)"
   ]
  },
  {
   "cell_type": "code",
   "execution_count": 17,
   "metadata": {},
   "outputs": [],
   "source": [
    "control_performance_baz_turno2 = control_performance_baz_turno[['Gestor','Turno','LlamadasHora','PromedioOcupacion']]"
   ]
  },
  {
   "cell_type": "code",
   "execution_count": 18,
   "metadata": {},
   "outputs": [
    {
     "output_type": "execute_result",
     "data": {
      "text/plain": [
       "           Usuario  SumHorasTrabajadas  SumLlamadasDia  PromedioLlamadasDia  \\\n",
       "0      ALHENANDEZA                  88            2570                198.0   \n",
       "1  ARCHUNDIAMABEAL                 127            3835                240.0   \n",
       "2     BAZAGENTE001                  77             539                 45.0   \n",
       "\n",
       "   PromedioOcupacion  PromedioLlamadasHora  \n",
       "0               30.0                  29.0  \n",
       "1               46.0                  30.0  \n",
       "2               33.0                   7.0  "
      ],
      "text/html": "<div>\n<style scoped>\n    .dataframe tbody tr th:only-of-type {\n        vertical-align: middle;\n    }\n\n    .dataframe tbody tr th {\n        vertical-align: top;\n    }\n\n    .dataframe thead th {\n        text-align: right;\n    }\n</style>\n<table border=\"1\" class=\"dataframe\">\n  <thead>\n    <tr style=\"text-align: right;\">\n      <th></th>\n      <th>Usuario</th>\n      <th>SumHorasTrabajadas</th>\n      <th>SumLlamadasDia</th>\n      <th>PromedioLlamadasDia</th>\n      <th>PromedioOcupacion</th>\n      <th>PromedioLlamadasHora</th>\n    </tr>\n  </thead>\n  <tbody>\n    <tr>\n      <th>0</th>\n      <td>ALHENANDEZA</td>\n      <td>88</td>\n      <td>2570</td>\n      <td>198.0</td>\n      <td>30.0</td>\n      <td>29.0</td>\n    </tr>\n    <tr>\n      <th>1</th>\n      <td>ARCHUNDIAMABEAL</td>\n      <td>127</td>\n      <td>3835</td>\n      <td>240.0</td>\n      <td>46.0</td>\n      <td>30.0</td>\n    </tr>\n    <tr>\n      <th>2</th>\n      <td>BAZAGENTE001</td>\n      <td>77</td>\n      <td>539</td>\n      <td>45.0</td>\n      <td>33.0</td>\n      <td>7.0</td>\n    </tr>\n  </tbody>\n</table>\n</div>"
     },
     "metadata": {},
     "execution_count": 18
    }
   ],
   "source": [
    "control_performance_baz = pd.pivot_table(performance_baz,index=['usuario'],values=['llamadas','ocupacion','horas_trabajadas'],aggfunc=[np.sum,np.mean,'count',min,max])\n",
    "control_performance_baz = to_dataframe(control_performance_baz)\n",
    "control_performance_baz = control_performance_baz.iloc[:,[0,1,2,5,6]]\n",
    "control_performance_baz.columns = ['Usuario','SumHorasTrabajadas','SumLlamadasDia','PromedioLlamadasDia','PromedioOcupacion']\n",
    "control_performance_baz['PromedioLlamadasHora'] = control_performance_baz['SumLlamadasDia']/control_performance_baz['SumHorasTrabajadas']\n",
    "cols = ['PromedioLlamadasDia','PromedioLlamadasHora','PromedioOcupacion']\n",
    "control_performance_baz[cols] = control_performance_baz[cols].round()\n",
    "control_performance_baz.head(3)"
   ]
  },
  {
   "source": [
    "# Gestion Banco Azteca"
   ],
   "cell_type": "markdown",
   "metadata": {}
  },
  {
   "cell_type": "code",
   "execution_count": 19,
   "metadata": {},
   "outputs": [],
   "source": [
    "#Hacemos la consulta referente a las gestiones de Banco Azteca\n",
    "gestion_baz = consulta_sql('baz_rpt_gestiones_detallado',mes,today)\n",
    "gestion_baz.columns = ['folio_gestion','firma_id','unegocio_id','credito','nombre_credito','telefono','tipo_telefono','fecha_gestion','usuario','nombre_usuario','dictamen','accion_resultado','fecha_promesa','monto_promesa','comentarios']"
   ]
  },
  {
   "cell_type": "code",
   "execution_count": 20,
   "metadata": {},
   "outputs": [],
   "source": [
    "#try: gestion_baz['anio_prom'] = [int(x[:4]) for x in gestion_baz['fecha_promesa']]\n",
    "#except: gestion_baz['anio_prom'] = 0\n",
    "#gestion_baz = gestion_baz.loc[gestion_baz['anio_prom']<2030]\n",
    "gestion_baz = gestion_baz.drop_duplicates()\n",
    "gestion_baz['monto_promesa'] = pd.to_numeric(gestion_baz['monto_promesa'])\n",
    "gestion_baz['usuario'] = [x.rstrip() for x in gestion_baz['usuario']]\n",
    "#gestion_baz['fecha_promesa'] = pd.to_datetime(gestion_baz['fecha_promesa'],dayfirst=False)"
   ]
  },
  {
   "cell_type": "code",
   "execution_count": 21,
   "metadata": {},
   "outputs": [],
   "source": [
    "gestion_gestor_rec = pd.pivot_table(gestion_baz,index=['usuario','nombre_usuario'],values=['fecha_gestion'],aggfunc='count')\n",
    "gestion_gestor_rec = to_dataframe(gestion_gestor_rec)\n",
    "gestion_gestor_rec.columns = ['Usuario','NombreUsuario','NumeroGestiones']"
   ]
  },
  {
   "cell_type": "code",
   "execution_count": 34,
   "metadata": {},
   "outputs": [
    {
     "output_type": "execute_result",
     "data": {
      "text/plain": [
       "      folio_gestion  firma_id  unegocio_id         credito  \\\n",
       "5076        9413378         7            2  1-1-4221-38328   \n",
       "\n",
       "             nombre_credito    telefono tipo_telefono       fecha_gestion  \\\n",
       "5076  RICARDO LOPEZ MURILLO  3321993686       celular 2020-12-18 10:55:56   \n",
       "\n",
       "       usuario       nombre_usuario dictamen  \\\n",
       "5076  LEONSASU  LEON SALINAS SUSANA  PROMESA   \n",
       "\n",
       "                              accion_resultado fecha_promesa  monto_promesa  \\\n",
       "5076  ENTRADA WHATSAPP-PROMESA DE PAGO PARCIAL    2020-12-25          580.0   \n",
       "\n",
       "                                            comentarios  \n",
       "5076  3321993686   MAN SE CONTACTA TT VIA WHAT   PAR...  "
      ],
      "text/html": "<div>\n<style scoped>\n    .dataframe tbody tr th:only-of-type {\n        vertical-align: middle;\n    }\n\n    .dataframe tbody tr th {\n        vertical-align: top;\n    }\n\n    .dataframe thead th {\n        text-align: right;\n    }\n</style>\n<table border=\"1\" class=\"dataframe\">\n  <thead>\n    <tr style=\"text-align: right;\">\n      <th></th>\n      <th>folio_gestion</th>\n      <th>firma_id</th>\n      <th>unegocio_id</th>\n      <th>credito</th>\n      <th>nombre_credito</th>\n      <th>telefono</th>\n      <th>tipo_telefono</th>\n      <th>fecha_gestion</th>\n      <th>usuario</th>\n      <th>nombre_usuario</th>\n      <th>dictamen</th>\n      <th>accion_resultado</th>\n      <th>fecha_promesa</th>\n      <th>monto_promesa</th>\n      <th>comentarios</th>\n    </tr>\n  </thead>\n  <tbody>\n    <tr>\n      <th>5076</th>\n      <td>9413378</td>\n      <td>7</td>\n      <td>2</td>\n      <td>1-1-4221-38328</td>\n      <td>RICARDO LOPEZ MURILLO</td>\n      <td>3321993686</td>\n      <td>celular</td>\n      <td>2020-12-18 10:55:56</td>\n      <td>LEONSASU</td>\n      <td>LEON SALINAS SUSANA</td>\n      <td>PROMESA</td>\n      <td>ENTRADA WHATSAPP-PROMESA DE PAGO PARCIAL</td>\n      <td>2020-12-25</td>\n      <td>580.0</td>\n      <td>3321993686   MAN SE CONTACTA TT VIA WHAT   PAR...</td>\n    </tr>\n  </tbody>\n</table>\n</div>"
     },
     "metadata": {},
     "execution_count": 34
    }
   ],
   "source": [
    "promesas_baz = gestion_baz.loc[gestion_baz['dictamen']=='PROMESA']\n",
    "promesas_baz = promesas_baz.loc[(promesas_baz['monto_promesa']>10) & (promesas_baz['monto_promesa']<500000)]"
   ]
  },
  {
   "cell_type": "code",
   "execution_count": 61,
   "metadata": {},
   "outputs": [],
   "source": [
    "pagos_baz = pd.concat([pagos_baz_26,pagos_baz_recovery],ignore_index=True)\n",
    "pagos_baz = pagos_baz.loc[pagos_baz['CARGO AUTOMATICO']=='NO']\n",
    "consolidado_pagos_baz = pd.merge(promesas_baz,pagos_baz,how='left',on=['credito'])\n",
    "#consolidado_pagos_baz.head(1)"
   ]
  },
  {
   "cell_type": "code",
   "execution_count": 62,
   "metadata": {},
   "outputs": [],
   "source": [
    "z = consolidado_pagos_baz.loc[consolidado_pagos_baz['RECUPERACION DE CAPITAL']+consolidado_pagos_baz['RECUPERACION DE MORATORIOS']>consolidado_pagos_baz['monto_promesa']]"
   ]
  },
  {
   "cell_type": "code",
   "execution_count": 63,
   "metadata": {},
   "outputs": [
    {
     "output_type": "execute_result",
     "data": {
      "text/plain": [
       "            Usuario  NumeroPromesas  SumaRecCapital  SumaRecMoratorios  \\\n",
       "0       ALHENANDEZA             179         56878.0            13320.0   \n",
       "1   ARCHUNDIAMABEAL             111         42215.0            11720.0   \n",
       "2      BEBAUTISTAJI             291        199306.0            27185.0   \n",
       "3       BENITEZFLIS              86         19331.0            28045.0   \n",
       "4    CARDOSASEVEBRE             173         93430.0            38339.0   \n",
       "5       CARMONAHEEL               5             0.0                0.0   \n",
       "6        CASTROGAHG             168        109720.0            34728.0   \n",
       "7         CRHERNAYA              71         26687.0            22002.0   \n",
       "8       CRSALINASDM               1           920.0             1218.0   \n",
       "9      DIONISIOGAAL             113         45741.0            31752.0   \n",
       "10      ESROSALESJA             153         51056.0            30871.0   \n",
       "11      ESTRADAZUSE              59         21566.0            38257.0   \n",
       "12            Fegox              66         37489.0            10133.0   \n",
       "13     GALVANESVIAL               7          1538.0              766.0   \n",
       "14       GARCIAMOER             143         54496.0            26004.0   \n",
       "15      GLUGARDOZAM             100         49584.0            16877.0   \n",
       "16     GONZALEZMAED             104         32298.0            23689.0   \n",
       "17     GONZALEZOLRI              95         28919.0            17768.0   \n",
       "18     HEBALTAZARAL              64         45718.0             9339.0   \n",
       "19         JIVEJOFE               1          2213.0             4878.0   \n",
       "20         LEONSASU             146        103673.0            18142.0   \n",
       "21        LOPEZMOME             116         25780.0            26016.0   \n",
       "22        MIMERAZPJ               8          1801.0             1817.0   \n",
       "23      ORDONEZMAES              85         39685.0            17570.0   \n",
       "24        PEREZPAAN              99         54959.0            13553.0   \n",
       "25           PLMALI              97         44368.0            11713.0   \n",
       "26      QUIRINOMAJA              48         34108.0            15307.0   \n",
       "27      SANCHEZPIYA              42         18440.0            12912.0   \n",
       "28       VALDEZESCE               1             0.0                0.0   \n",
       "29     VALENCIAMICA               4          1561.0             1218.0   \n",
       "30       VIEYRAITTR              30         14133.0            13698.0   \n",
       "31       ZEPEDAESJI             146         54357.0            34202.0   \n",
       "\n",
       "    SumaPromesas  Recuperado  \n",
       "0        85156.0     70198.0  \n",
       "1        56545.0     53935.0  \n",
       "2       252751.0    226491.0  \n",
       "3       111596.0     47376.0  \n",
       "4       112396.0    131769.0  \n",
       "5         6648.0         0.0  \n",
       "6       171598.0    144448.0  \n",
       "7        51766.0     48689.0  \n",
       "8         2138.0      2138.0  \n",
       "9        68232.0     77493.0  \n",
       "10       84999.0     81927.0  \n",
       "11       48232.0     59823.0  \n",
       "12       30247.0     47622.0  \n",
       "13        5858.0      2304.0  \n",
       "14      107313.0     80500.0  \n",
       "15       74905.0     66461.0  \n",
       "16       63804.0     55987.0  \n",
       "17       71270.0     46687.0  \n",
       "18       64418.0     55057.0  \n",
       "19        7091.0      7091.0  \n",
       "20      155246.0    121815.0  \n",
       "21       70299.0     51796.0  \n",
       "22        2896.0      3618.0  \n",
       "23       73704.0     57255.0  \n",
       "24       53898.0     68512.0  \n",
       "25       58420.0     56081.0  \n",
       "26       45395.0     49415.0  \n",
       "27       24980.0     31352.0  \n",
       "28        8526.0         0.0  \n",
       "29        2274.0      2779.0  \n",
       "30       36014.0     27831.0  \n",
       "31      126469.0     88559.0  "
      ],
      "text/html": "<div>\n<style scoped>\n    .dataframe tbody tr th:only-of-type {\n        vertical-align: middle;\n    }\n\n    .dataframe tbody tr th {\n        vertical-align: top;\n    }\n\n    .dataframe thead th {\n        text-align: right;\n    }\n</style>\n<table border=\"1\" class=\"dataframe\">\n  <thead>\n    <tr style=\"text-align: right;\">\n      <th></th>\n      <th>Usuario</th>\n      <th>NumeroPromesas</th>\n      <th>SumaRecCapital</th>\n      <th>SumaRecMoratorios</th>\n      <th>SumaPromesas</th>\n      <th>Recuperado</th>\n    </tr>\n  </thead>\n  <tbody>\n    <tr>\n      <th>0</th>\n      <td>ALHENANDEZA</td>\n      <td>179</td>\n      <td>56878.0</td>\n      <td>13320.0</td>\n      <td>85156.0</td>\n      <td>70198.0</td>\n    </tr>\n    <tr>\n      <th>1</th>\n      <td>ARCHUNDIAMABEAL</td>\n      <td>111</td>\n      <td>42215.0</td>\n      <td>11720.0</td>\n      <td>56545.0</td>\n      <td>53935.0</td>\n    </tr>\n    <tr>\n      <th>2</th>\n      <td>BEBAUTISTAJI</td>\n      <td>291</td>\n      <td>199306.0</td>\n      <td>27185.0</td>\n      <td>252751.0</td>\n      <td>226491.0</td>\n    </tr>\n    <tr>\n      <th>3</th>\n      <td>BENITEZFLIS</td>\n      <td>86</td>\n      <td>19331.0</td>\n      <td>28045.0</td>\n      <td>111596.0</td>\n      <td>47376.0</td>\n    </tr>\n    <tr>\n      <th>4</th>\n      <td>CARDOSASEVEBRE</td>\n      <td>173</td>\n      <td>93430.0</td>\n      <td>38339.0</td>\n      <td>112396.0</td>\n      <td>131769.0</td>\n    </tr>\n    <tr>\n      <th>5</th>\n      <td>CARMONAHEEL</td>\n      <td>5</td>\n      <td>0.0</td>\n      <td>0.0</td>\n      <td>6648.0</td>\n      <td>0.0</td>\n    </tr>\n    <tr>\n      <th>6</th>\n      <td>CASTROGAHG</td>\n      <td>168</td>\n      <td>109720.0</td>\n      <td>34728.0</td>\n      <td>171598.0</td>\n      <td>144448.0</td>\n    </tr>\n    <tr>\n      <th>7</th>\n      <td>CRHERNAYA</td>\n      <td>71</td>\n      <td>26687.0</td>\n      <td>22002.0</td>\n      <td>51766.0</td>\n      <td>48689.0</td>\n    </tr>\n    <tr>\n      <th>8</th>\n      <td>CRSALINASDM</td>\n      <td>1</td>\n      <td>920.0</td>\n      <td>1218.0</td>\n      <td>2138.0</td>\n      <td>2138.0</td>\n    </tr>\n    <tr>\n      <th>9</th>\n      <td>DIONISIOGAAL</td>\n      <td>113</td>\n      <td>45741.0</td>\n      <td>31752.0</td>\n      <td>68232.0</td>\n      <td>77493.0</td>\n    </tr>\n    <tr>\n      <th>10</th>\n      <td>ESROSALESJA</td>\n      <td>153</td>\n      <td>51056.0</td>\n      <td>30871.0</td>\n      <td>84999.0</td>\n      <td>81927.0</td>\n    </tr>\n    <tr>\n      <th>11</th>\n      <td>ESTRADAZUSE</td>\n      <td>59</td>\n      <td>21566.0</td>\n      <td>38257.0</td>\n      <td>48232.0</td>\n      <td>59823.0</td>\n    </tr>\n    <tr>\n      <th>12</th>\n      <td>Fegox</td>\n      <td>66</td>\n      <td>37489.0</td>\n      <td>10133.0</td>\n      <td>30247.0</td>\n      <td>47622.0</td>\n    </tr>\n    <tr>\n      <th>13</th>\n      <td>GALVANESVIAL</td>\n      <td>7</td>\n      <td>1538.0</td>\n      <td>766.0</td>\n      <td>5858.0</td>\n      <td>2304.0</td>\n    </tr>\n    <tr>\n      <th>14</th>\n      <td>GARCIAMOER</td>\n      <td>143</td>\n      <td>54496.0</td>\n      <td>26004.0</td>\n      <td>107313.0</td>\n      <td>80500.0</td>\n    </tr>\n    <tr>\n      <th>15</th>\n      <td>GLUGARDOZAM</td>\n      <td>100</td>\n      <td>49584.0</td>\n      <td>16877.0</td>\n      <td>74905.0</td>\n      <td>66461.0</td>\n    </tr>\n    <tr>\n      <th>16</th>\n      <td>GONZALEZMAED</td>\n      <td>104</td>\n      <td>32298.0</td>\n      <td>23689.0</td>\n      <td>63804.0</td>\n      <td>55987.0</td>\n    </tr>\n    <tr>\n      <th>17</th>\n      <td>GONZALEZOLRI</td>\n      <td>95</td>\n      <td>28919.0</td>\n      <td>17768.0</td>\n      <td>71270.0</td>\n      <td>46687.0</td>\n    </tr>\n    <tr>\n      <th>18</th>\n      <td>HEBALTAZARAL</td>\n      <td>64</td>\n      <td>45718.0</td>\n      <td>9339.0</td>\n      <td>64418.0</td>\n      <td>55057.0</td>\n    </tr>\n    <tr>\n      <th>19</th>\n      <td>JIVEJOFE</td>\n      <td>1</td>\n      <td>2213.0</td>\n      <td>4878.0</td>\n      <td>7091.0</td>\n      <td>7091.0</td>\n    </tr>\n    <tr>\n      <th>20</th>\n      <td>LEONSASU</td>\n      <td>146</td>\n      <td>103673.0</td>\n      <td>18142.0</td>\n      <td>155246.0</td>\n      <td>121815.0</td>\n    </tr>\n    <tr>\n      <th>21</th>\n      <td>LOPEZMOME</td>\n      <td>116</td>\n      <td>25780.0</td>\n      <td>26016.0</td>\n      <td>70299.0</td>\n      <td>51796.0</td>\n    </tr>\n    <tr>\n      <th>22</th>\n      <td>MIMERAZPJ</td>\n      <td>8</td>\n      <td>1801.0</td>\n      <td>1817.0</td>\n      <td>2896.0</td>\n      <td>3618.0</td>\n    </tr>\n    <tr>\n      <th>23</th>\n      <td>ORDONEZMAES</td>\n      <td>85</td>\n      <td>39685.0</td>\n      <td>17570.0</td>\n      <td>73704.0</td>\n      <td>57255.0</td>\n    </tr>\n    <tr>\n      <th>24</th>\n      <td>PEREZPAAN</td>\n      <td>99</td>\n      <td>54959.0</td>\n      <td>13553.0</td>\n      <td>53898.0</td>\n      <td>68512.0</td>\n    </tr>\n    <tr>\n      <th>25</th>\n      <td>PLMALI</td>\n      <td>97</td>\n      <td>44368.0</td>\n      <td>11713.0</td>\n      <td>58420.0</td>\n      <td>56081.0</td>\n    </tr>\n    <tr>\n      <th>26</th>\n      <td>QUIRINOMAJA</td>\n      <td>48</td>\n      <td>34108.0</td>\n      <td>15307.0</td>\n      <td>45395.0</td>\n      <td>49415.0</td>\n    </tr>\n    <tr>\n      <th>27</th>\n      <td>SANCHEZPIYA</td>\n      <td>42</td>\n      <td>18440.0</td>\n      <td>12912.0</td>\n      <td>24980.0</td>\n      <td>31352.0</td>\n    </tr>\n    <tr>\n      <th>28</th>\n      <td>VALDEZESCE</td>\n      <td>1</td>\n      <td>0.0</td>\n      <td>0.0</td>\n      <td>8526.0</td>\n      <td>0.0</td>\n    </tr>\n    <tr>\n      <th>29</th>\n      <td>VALENCIAMICA</td>\n      <td>4</td>\n      <td>1561.0</td>\n      <td>1218.0</td>\n      <td>2274.0</td>\n      <td>2779.0</td>\n    </tr>\n    <tr>\n      <th>30</th>\n      <td>VIEYRAITTR</td>\n      <td>30</td>\n      <td>14133.0</td>\n      <td>13698.0</td>\n      <td>36014.0</td>\n      <td>27831.0</td>\n    </tr>\n    <tr>\n      <th>31</th>\n      <td>ZEPEDAESJI</td>\n      <td>146</td>\n      <td>54357.0</td>\n      <td>34202.0</td>\n      <td>126469.0</td>\n      <td>88559.0</td>\n    </tr>\n  </tbody>\n</table>\n</div>"
     },
     "metadata": {},
     "execution_count": 63
    }
   ],
   "source": [
    "promesas_gestor_rec = pd.pivot_table(consolidado_pagos_baz,index=['usuario'],values=['monto_promesa','RECUPERACION DE CAPITAL','RECUPERACION DE MORATORIOS'],aggfunc=['count',np.sum])\n",
    "promesas_gestor_rec = to_dataframe(promesas_gestor_rec)\n",
    "promesas_gestor_rec = promesas_gestor_rec.iloc[:,[0,3,4,5,6]]\n",
    "promesas_gestor_rec.columns = ['Usuario','NumeroPromesas','SumaRecCapital','SumaRecMoratorios','SumaPromesas']\n",
    "promesas_gestor_rec['Recuperado'] = promesas_gestor_rec['SumaRecCapital']+promesas_gestor_rec['SumaRecMoratorios']\n",
    "promesas_gestor_rec"
   ]
  },
  {
   "cell_type": "code",
   "execution_count": 64,
   "metadata": {},
   "outputs": [
    {
     "output_type": "execute_result",
     "data": {
      "text/plain": [
       "       Usuario               NombreUsuario  NumeroGestiones  NumeroPromesas  \\\n",
       "0  ALHENANDEZA  ALVARADO HERNANDEZ ADRIANA             2126           179.0   \n",
       "\n",
       "   SumaRecCapital  SumaRecMoratorios  SumaPromesas  Recuperado  \n",
       "0         56878.0            13320.0       85156.0     70198.0  "
      ],
      "text/html": "<div>\n<style scoped>\n    .dataframe tbody tr th:only-of-type {\n        vertical-align: middle;\n    }\n\n    .dataframe tbody tr th {\n        vertical-align: top;\n    }\n\n    .dataframe thead th {\n        text-align: right;\n    }\n</style>\n<table border=\"1\" class=\"dataframe\">\n  <thead>\n    <tr style=\"text-align: right;\">\n      <th></th>\n      <th>Usuario</th>\n      <th>NombreUsuario</th>\n      <th>NumeroGestiones</th>\n      <th>NumeroPromesas</th>\n      <th>SumaRecCapital</th>\n      <th>SumaRecMoratorios</th>\n      <th>SumaPromesas</th>\n      <th>Recuperado</th>\n    </tr>\n  </thead>\n  <tbody>\n    <tr>\n      <th>0</th>\n      <td>ALHENANDEZA</td>\n      <td>ALVARADO HERNANDEZ ADRIANA</td>\n      <td>2126</td>\n      <td>179.0</td>\n      <td>56878.0</td>\n      <td>13320.0</td>\n      <td>85156.0</td>\n      <td>70198.0</td>\n    </tr>\n  </tbody>\n</table>\n</div>"
     },
     "metadata": {},
     "execution_count": 64
    }
   ],
   "source": [
    "control_baz_rec = pd.merge(gestion_gestor_rec,promesas_gestor_rec,how='left',on='Usuario')\n",
    "control_baz_rec.fillna(0,inplace=True)\n",
    "control_baz_rec['Usuario2'] = [x[:3] for x in control_baz_rec['Usuario']]\n",
    "control_baz_rec = control_baz_rec.loc[control_baz_rec['Usuario2']!='m08']\n",
    "control_baz_rec.drop('Usuario2',axis=1,inplace=True)\n",
    "control_baz_rec.head(1)"
   ]
  },
  {
   "cell_type": "code",
   "execution_count": 68,
   "metadata": {},
   "outputs": [
    {
     "output_type": "execute_result",
     "data": {
      "text/plain": [
       "       Usuario               NombreUsuario  NumeroGestiones  NumeroPromesas  \\\n",
       "0  ALHENANDEZA  ALVARADO HERNANDEZ ADRIANA             2126           179.0   \n",
       "\n",
       "   SumaPromesas  Recuperado  PromedioOcupacion  PromedioLlamadasHora  \n",
       "0       85156.0     70198.0               30.0                  29.0  "
      ],
      "text/html": "<div>\n<style scoped>\n    .dataframe tbody tr th:only-of-type {\n        vertical-align: middle;\n    }\n\n    .dataframe tbody tr th {\n        vertical-align: top;\n    }\n\n    .dataframe thead th {\n        text-align: right;\n    }\n</style>\n<table border=\"1\" class=\"dataframe\">\n  <thead>\n    <tr style=\"text-align: right;\">\n      <th></th>\n      <th>Usuario</th>\n      <th>NombreUsuario</th>\n      <th>NumeroGestiones</th>\n      <th>NumeroPromesas</th>\n      <th>SumaPromesas</th>\n      <th>Recuperado</th>\n      <th>PromedioOcupacion</th>\n      <th>PromedioLlamadasHora</th>\n    </tr>\n  </thead>\n  <tbody>\n    <tr>\n      <th>0</th>\n      <td>ALHENANDEZA</td>\n      <td>ALVARADO HERNANDEZ ADRIANA</td>\n      <td>2126</td>\n      <td>179.0</td>\n      <td>85156.0</td>\n      <td>70198.0</td>\n      <td>30.0</td>\n      <td>29.0</td>\n    </tr>\n  </tbody>\n</table>\n</div>"
     },
     "metadata": {},
     "execution_count": 68
    }
   ],
   "source": [
    "final_baz_rec = pd.merge(control_baz_rec,control_performance_baz,how='left',on='Usuario')\n",
    "final_baz_rec.fillna(0,inplace=True)\n",
    "final_baz_rec2 = final_baz_rec.iloc[:,[0,1,2,3,6,7,11,12]]\n",
    "final_baz_rec2.head(1)"
   ]
  },
  {
   "cell_type": "code",
   "execution_count": 69,
   "metadata": {},
   "outputs": [],
   "source": [
    "writer = pd.ExcelWriter(''+ruta_guardar+'/Gestores/Banco Azteca/Reporte Gestor Banco Azteca '+now+'.xlsx',engine='xlsxwriter')\n",
    "final_baz_rec2.to_excel(writer,'BSC',index=False,header=True)\n",
    "control_performance_baz.to_excel(writer,'PerformanceDetallado',index=False,header=True)\n",
    "control_performance_baz_turno.to_excel(writer,'PerformanceTurno',index=False,header=True)\n",
    "final_baz_rec.to_excel(writer,'GestionesDetallado',index=False,header=True)\n",
    "\n",
    "writer.save()"
   ]
  },
  {
   "cell_type": "code",
   "execution_count": null,
   "metadata": {},
   "outputs": [],
   "source": []
  },
  {
   "cell_type": "code",
   "execution_count": null,
   "metadata": {},
   "outputs": [],
   "source": []
  }
 ]
}