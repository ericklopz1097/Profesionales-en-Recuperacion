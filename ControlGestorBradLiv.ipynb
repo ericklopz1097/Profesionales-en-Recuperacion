{
 "metadata": {
  "language_info": {
   "codemirror_mode": {
    "name": "ipython",
    "version": 3
   },
   "file_extension": ".py",
   "mimetype": "text/x-python",
   "name": "python",
   "nbconvert_exporter": "python",
   "pygments_lexer": "ipython3",
   "version": "3.7.6-final"
  },
  "orig_nbformat": 2,
  "kernelspec": {
   "name": "python3",
   "display_name": "Python 3",
   "language": "python"
  }
 },
 "nbformat": 4,
 "nbformat_minor": 2,
 "cells": [
  {
   "cell_type": "code",
   "execution_count": 1,
   "metadata": {},
   "outputs": [],
   "source": [
    "import pandas as pd\n",
    "import numpy as np\n",
    "import mysql.connector\n",
    "import os\n",
    "from mysql.connector import Error\n",
    "from datetime import datetime, date, timedelta\n",
    "import re\n",
    "from IPython.core.interactiveshell import InteractiveShell\n",
    "InteractiveShell.ast_node_interactivity = \"all\""
   ]
  },
  {
   "cell_type": "code",
   "execution_count": 2,
   "metadata": {},
   "outputs": [],
   "source": [
    "#Definimos la ruta en donde queremos guardar los archivos\n",
    "ruta_guardar = '/home/estadistico/Documents/Erick/Reportes diarios'\n",
    "ruta_asig_baz = '/home/estadistico/Documents/Erick/Banco Azteca/Asignacion csv'\n",
    "ruta_pagos = '/home/estadistico/Documents/Erick'\n",
    "mes = 20201201\n",
    "mes2 = 'Diciembre2020'\n",
    "mes3 = pd.to_datetime('01/12/2020',dayfirst=True)\n",
    "prim_sem_mes = 49"
   ]
  },
  {
   "cell_type": "code",
   "execution_count": 3,
   "metadata": {},
   "outputs": [],
   "source": [
    "#Agregamos las variables a ocupar\n",
    "servidor = '192.168.15.12'\n",
    "puerto = int('3306')\n",
    "usuario = 'estadisticas'\n",
    "contrasena = 'estadisticas8474'\n",
    "base = 'procesos_externos'"
   ]
  },
  {
   "cell_type": "code",
   "execution_count": 4,
   "metadata": {},
   "outputs": [],
   "source": [
    "#Lectura pagos Bradesco\n",
    "pagos_brad = pd.read_excel(''+ruta_pagos+'/'+str(mes2)+'/Bradesco/Pagos/ENRIQUEZ Acumulado de pagos Diciembre de 2020.xlsx')\n",
    "pagos_brad = pagos_brad.iloc[:,0:9]\n",
    "pagos_brad = pagos_brad.drop_duplicates()\n",
    "pagos_brad2 = pd.pivot_table(pagos_brad,index=['NUMERO_TARJETA','FECHA_PAGO','TIPO_ASIGANCION'],values=['MONTO'],aggfunc=np.sum)\n",
    "pagos_brad2 = pd.DataFrame(pagos_brad2.to_records())\n",
    "pagos_brad2 = pagos_brad2.loc[pagos_brad2['FECHA_PAGO']>=mes3]"
   ]
  },
  {
   "cell_type": "code",
   "execution_count": 5,
   "metadata": {},
   "outputs": [],
   "source": [
    "#Lectura pagos Liverpool\n",
    "sheet_liv = ['SA002REM','SA001REM','DKN04REM','DKN02REM','DKN00REM']\n",
    "pagos_liv = pd.DataFrame()\n",
    "for i in sheet_liv:\n",
    "    pagos_liv_new = pd.read_excel(''+ruta_pagos+'/'+str(mes2)+'/Liverpool/Pagos/PAGOS DIC LIVERPOOL .xlsx',sheet_name = str(i))\n",
    "    pagos_liv = pd.concat([pagos_liv,pagos_liv_new],ignore_index=True)\n",
    "pagos_liv = pagos_liv.drop_duplicates()\n",
    "pagos_liv = pagos_liv.iloc[:,0:6]\n",
    "pagos_liv.columns = ['Id','Cuenta','Fecha Prom','Fecha Pago','Monto','Posteo']\n",
    "try: \n",
    "    pagos_liv['Fecha Pago'] = pd.to_datetime(pagos_liv['Fecha Pago'],dayfirst=True)\n",
    "except: pagos_liv['Fecha Pago']   \n",
    "pagos_liv['Fecha Pago'] = [datetime.strftime(x,'%d/%m/%Y') for x in pagos_liv['Fecha Pago']]\n",
    "try: \n",
    "    pagos_liv['Fecha Prom'] = pd.to_datetime(pagos_liv['Fecha Prom'],dayfirst=True)\n",
    "except: pagos_liv['Fecha Prom']    \n",
    "pagos_liv['Fecha Prom'] = [datetime.strftime(x,'%d/%m/%Y') for x in pagos_liv['Fecha Prom']]\n",
    "pagos_liv2 = pd.pivot_table(pagos_liv,index=['Id','Cuenta','Fecha Pago','Fecha Prom'],values=['Monto'],aggfunc=np.sum)\n",
    "pagos_liv2 = pd.DataFrame(pagos_liv2.to_records())\n",
    "#pagos_liv2 = pagos_liv2.loc[pagos_liv2['Fecha Pago']>=mes3]"
   ]
  },
  {
   "cell_type": "code",
   "execution_count": 6,
   "metadata": {},
   "outputs": [],
   "source": [
    "#Asignamos valores a los parametros \\n\"\n",
    "#today = date.today().strftime('%Y%m%d')\n",
    "today = 20201231\n",
    "now = datetime.now().strftime('%d-%m-%Y %H:%M')\n",
    "hoy = np.datetime64('today')\n",
    "ayer = np.datetime64(date.today() - timedelta(1))\n",
    "today2 = date.today().strftime('%d-%m-%Y')"
   ]
  },
  {
   "cell_type": "code",
   "execution_count": 7,
   "metadata": {},
   "outputs": [],
   "source": [
    "#Hacemos la conexion con el servidor\\n\",\n",
    "try: \n",
    "    conn = mysql.connector.connect(user=usuario,\n",
    "                               password=contrasena,\n",
    "                               host=servidor,\n",
    "                               port=3306,\n",
    "                               database=base)\n",
    "    conn.set_charset_collation('latin1')\n",
    "except mysql.Error as e:\n",
    "    print(\"Failed to execute stored procedure: {}\".format(error))\n",
    "\n",
    "cursor = conn.cursor()"
   ]
  },
  {
   "cell_type": "code",
   "execution_count": 8,
   "metadata": {},
   "outputs": [],
   "source": [
    "#Funcion para hacer la consulta sql, ya sea de gestion o de asignacion en donde requerimos tres parametros, la tabla de donde vamos a sacar la consulta, en caso de asignacin requerimos los otros dos parametros fecha inicial y fecha final\n",
    "def consulta_sql(table,from_date=None,to_date=None,campana=None):\n",
    "    if campana is None:\n",
    "        if from_date is None:\n",
    "            sql_mes = cursor.callproc(table,)\n",
    "            for result in cursor.stored_results():\n",
    "                sql_mes = pd.DataFrame(result.fetchall())\n",
    "        else:\n",
    "            sql_mes = cursor.callproc(table, [from_date,to_date])\n",
    "            for result in cursor.stored_results():\n",
    "                sql_mes = pd.DataFrame(result.fetchall())\n",
    "    else:\n",
    "        sql_mes = cursor.callproc(table, [from_date,to_date,campana])\n",
    "        for result in cursor.stored_results():\n",
    "                sql_mes = pd.DataFrame(result.fetchall())\n",
    "    sql_mes = sql_mes.drop_duplicates()\n",
    "    return sql_mes"
   ]
  },
  {
   "cell_type": "code",
   "execution_count": 9,
   "metadata": {},
   "outputs": [],
   "source": [
    "#Funcion para transformar varias columnas a numero\n",
    "def transform_numeric(df,cols):\n",
    "    return df[cols].apply(pd.to_numeric, errors='coerce')\n",
    "\n",
    "#Funcion que convierte a dataframe y rellena espacios con 0\n",
    "def to_dataframe(df):\n",
    "    df = pd.DataFrame(df.to_records())\n",
    "    df.fillna(0,inplace=True)\n",
    "    return df\n",
    "\n",
    "#Funcion que quita el % del string\n",
    "def percent_tonumeric(df,cols):\n",
    "    for c in cols:\n",
    "        df[c] = [x[:-2] for x in df[c]]\n",
    "    return transform_numeric(df,cols)"
   ]
  },
  {
   "cell_type": "code",
   "execution_count": 10,
   "metadata": {},
   "outputs": [],
   "source": [
    "#Hacemos la asignacion de cada una de las metas para cambiar de arancel sin tomar el 0 en cuenta\n",
    "c04pv1, arancel_4pv1 = 1204704, .07\n",
    "c04pv2, arancel_4pv2 = 1807056, .09\n",
    "c04pv3, arancel_4pv3 = 2409407, .12\n",
    "c05pv1, arancel_5pv1 = 662269, .09\n",
    "c05pv2, arancel_5pv2 = 993403, .10\n",
    "c05pv3, arancel_5pv3 = 1324538, .14\n",
    "c06pv1, arancel_6pv1 = 807172, .10\n",
    "c06pv2, arancel_6pv2 = 1210759, .11\n",
    "c06pv3, arancel_6pv3 = 1614345, .16\n",
    "a1, arancel_a1 = 260190, .27\n",
    "a2, arancel_a2 = 390285, .30\n",
    "a3, arancel_a3 = 520381, .33\n",
    "b1, arancel_b1 = 215083, .25\n",
    "b2, arancel_b2 = 322624, .28\n",
    "b3, arancel_b3 = 430165, .31\n",
    "c11, arancel_c11 = 1430989, .17\n",
    "c12, arancel_c12 = 2146483, .20\n",
    "c13, arancel_c13 = 2861978, .23\n",
    "c21, arancel_c21 = 626634, .19\n",
    "c22, arancel_c22 = 939951, .22\n",
    "c23, arancel_c23 = 1253267, .25\n",
    "c31, arancel_c31 = 246425, .21\n",
    "c32, arancel_c32 = 369637, .24\n",
    "c33, arancel_c33 = 492849, .27\n",
    "c41, arancel_c41 = 123529, .23\n",
    "c42, arancel_c42 = 185294, .26\n",
    "c43, arancel_c43 = 247059, .29"
   ]
  },
  {
   "source": [
    "# Llamadas detallado Liverpool Bradesco"
   ],
   "cell_type": "markdown",
   "metadata": {}
  },
  {
   "cell_type": "code",
   "execution_count": 11,
   "metadata": {},
   "outputs": [
    {
     "output_type": "execute_result",
     "data": {
      "text/plain": [
       "       server_ip            uniqueid call_type           call_date  \\\n",
       "0  192.168.15.21  1606804940.8041242   Inbound 2020-12-01 00:42:21   \n",
       "\n",
       "  campaign_id      campaign_name list_id             list_name   lead_id  \\\n",
       "0     1102_IN  LIVERPOOL_BLASTER     999  Default inbound list  27470625   \n",
       "\n",
       "  vendor_lead_id  ... call_time_short call_time_hour call_range_hour  \\\n",
       "0     5591048001  ...        00:42:21              0   00:00 - 01:00   \n",
       "\n",
       "  dialstatus hangup_cause sip_hangup_cause  carrier  areacode  state  region  \n",
       "0     ANSWER           16           200 OK  INBOUND       559   CDMX  CENTRO  \n",
       "\n",
       "[1 rows x 30 columns]"
      ],
      "text/html": "<div>\n<style scoped>\n    .dataframe tbody tr th:only-of-type {\n        vertical-align: middle;\n    }\n\n    .dataframe tbody tr th {\n        vertical-align: top;\n    }\n\n    .dataframe thead th {\n        text-align: right;\n    }\n</style>\n<table border=\"1\" class=\"dataframe\">\n  <thead>\n    <tr style=\"text-align: right;\">\n      <th></th>\n      <th>server_ip</th>\n      <th>uniqueid</th>\n      <th>call_type</th>\n      <th>call_date</th>\n      <th>campaign_id</th>\n      <th>campaign_name</th>\n      <th>list_id</th>\n      <th>list_name</th>\n      <th>lead_id</th>\n      <th>vendor_lead_id</th>\n      <th>...</th>\n      <th>call_time_short</th>\n      <th>call_time_hour</th>\n      <th>call_range_hour</th>\n      <th>dialstatus</th>\n      <th>hangup_cause</th>\n      <th>sip_hangup_cause</th>\n      <th>carrier</th>\n      <th>areacode</th>\n      <th>state</th>\n      <th>region</th>\n    </tr>\n  </thead>\n  <tbody>\n    <tr>\n      <th>0</th>\n      <td>192.168.15.21</td>\n      <td>1606804940.8041242</td>\n      <td>Inbound</td>\n      <td>2020-12-01 00:42:21</td>\n      <td>1102_IN</td>\n      <td>LIVERPOOL_BLASTER</td>\n      <td>999</td>\n      <td>Default inbound list</td>\n      <td>27470625</td>\n      <td>5591048001</td>\n      <td>...</td>\n      <td>00:42:21</td>\n      <td>0</td>\n      <td>00:00 - 01:00</td>\n      <td>ANSWER</td>\n      <td>16</td>\n      <td>200 OK</td>\n      <td>INBOUND</td>\n      <td>559</td>\n      <td>CDMX</td>\n      <td>CENTRO</td>\n    </tr>\n  </tbody>\n</table>\n<p>1 rows × 30 columns</p>\n</div>"
     },
     "metadata": {},
     "execution_count": 11
    }
   ],
   "source": [
    "#Hacemos la consulta referente a las llamadas de Liverpool\n",
    "llamadas_liv = consulta_sql('procesos_externos.all_rpt_llamadas_detallado',mes,today,'(^LIV)')\n",
    "llamadas_liv.columns = ['server_ip','uniqueid','call_type','call_date','campaign_id','campaign_name','list_id','list_name','lead_id','vendor_lead_id','vendor_lead_name','phone_number','status','status_name','username','full_name','term_reason_call','queue_seconds','length_in_sec','call_date_short','call_time_short','call_time_hour','call_range_hour','dialstatus','hangup_cause','sip_hangup_cause','carrier','areacode','state','region']\n",
    "llamadas_liv.head(1)"
   ]
  },
  {
   "cell_type": "code",
   "execution_count": 12,
   "metadata": {},
   "outputs": [
    {
     "output_type": "execute_result",
     "data": {
      "text/plain": [
       "       server_ip            uniqueid call_type           call_date  \\\n",
       "0  192.168.15.21  1606818712.8041254   Inbound 2020-12-01 04:31:53   \n",
       "\n",
       "  campaign_id  campaign_name list_id             list_name   lead_id  \\\n",
       "0     1001_IN  BRADESCO_CALL     999  Default inbound list  16344681   \n",
       "\n",
       "  vendor_lead_id  ... call_time_short call_time_hour call_range_hour  \\\n",
       "0    MCM Telecom  ...        04:31:53              4   04:00 - 05:00   \n",
       "\n",
       "  dialstatus hangup_cause sip_hangup_cause  carrier  areacode  state  region  \n",
       "0     ANSWER           16           200 OK  INBOUND       555   CDMX  CENTRO  \n",
       "\n",
       "[1 rows x 30 columns]"
      ],
      "text/html": "<div>\n<style scoped>\n    .dataframe tbody tr th:only-of-type {\n        vertical-align: middle;\n    }\n\n    .dataframe tbody tr th {\n        vertical-align: top;\n    }\n\n    .dataframe thead th {\n        text-align: right;\n    }\n</style>\n<table border=\"1\" class=\"dataframe\">\n  <thead>\n    <tr style=\"text-align: right;\">\n      <th></th>\n      <th>server_ip</th>\n      <th>uniqueid</th>\n      <th>call_type</th>\n      <th>call_date</th>\n      <th>campaign_id</th>\n      <th>campaign_name</th>\n      <th>list_id</th>\n      <th>list_name</th>\n      <th>lead_id</th>\n      <th>vendor_lead_id</th>\n      <th>...</th>\n      <th>call_time_short</th>\n      <th>call_time_hour</th>\n      <th>call_range_hour</th>\n      <th>dialstatus</th>\n      <th>hangup_cause</th>\n      <th>sip_hangup_cause</th>\n      <th>carrier</th>\n      <th>areacode</th>\n      <th>state</th>\n      <th>region</th>\n    </tr>\n  </thead>\n  <tbody>\n    <tr>\n      <th>0</th>\n      <td>192.168.15.21</td>\n      <td>1606818712.8041254</td>\n      <td>Inbound</td>\n      <td>2020-12-01 04:31:53</td>\n      <td>1001_IN</td>\n      <td>BRADESCO_CALL</td>\n      <td>999</td>\n      <td>Default inbound list</td>\n      <td>16344681</td>\n      <td>MCM Telecom</td>\n      <td>...</td>\n      <td>04:31:53</td>\n      <td>4</td>\n      <td>04:00 - 05:00</td>\n      <td>ANSWER</td>\n      <td>16</td>\n      <td>200 OK</td>\n      <td>INBOUND</td>\n      <td>555</td>\n      <td>CDMX</td>\n      <td>CENTRO</td>\n    </tr>\n  </tbody>\n</table>\n<p>1 rows × 30 columns</p>\n</div>"
     },
     "metadata": {},
     "execution_count": 12
    }
   ],
   "source": [
    "#Hacemos la consulta referente a las llamadas de Bradesco\n",
    "llamadas_brad = consulta_sql('procesos_externos.all_rpt_llamadas_detallado',mes,today,'(^BRAD)')\n",
    "llamadas_brad.columns = ['server_ip','uniqueid','call_type','call_date','campaign_id','campaign_name','list_id','list_name','lead_id','vendor_lead_id','vendor_lead_name','phone_number','status','status_name','username','full_name','term_reason_call','queue_seconds','length_in_sec','call_date_short','call_time_short','call_time_hour','call_range_hour','dialstatus','hangup_cause','sip_hangup_cause','carrier','areacode','state','region']\n",
    "llamadas_brad.head(1)"
   ]
  },
  {
   "cell_type": "code",
   "execution_count": 13,
   "metadata": {},
   "outputs": [],
   "source": [
    "llamadas_liv_brad = pd.concat([llamadas_liv,llamadas_brad],ignore_index=True)"
   ]
  },
  {
   "cell_type": "code",
   "execution_count": 14,
   "metadata": {},
   "outputs": [],
   "source": [
    "llamadas_liv_brad['turno'] = np.where(llamadas_liv_brad['call_time_hour']<=14,'M','V')"
   ]
  },
  {
   "cell_type": "code",
   "execution_count": 15,
   "metadata": {},
   "outputs": [
    {
     "output_type": "execute_result",
     "data": {
      "text/plain": [
       "                               Gestor Turno  NumeroGestionesB  \\\n",
       "0                                         M                 3   \n",
       "1              AGUILAR MACEDO VALERIA     M              2463   \n",
       "2              AGUILAR MACEDO VALERIA     V               827   \n",
       "3       AGUILAR RIOS DANIEL ALEJANDRO     M              3683   \n",
       "4       AGUILAR RIOS DANIEL ALEJANDRO     V               196   \n",
       "..                                ...   ...               ...   \n",
       "132  VAZQUEZ SANCHEZ LINNETH BERENICE     V               809   \n",
       "133            VEGA HERNANDEZ NATALIE     M              4006   \n",
       "134            VEGA HERNANDEZ NATALIE     V              1252   \n",
       "135  VELAZQUEZ IBARRA ERICK ALEJANDRO     M              3679   \n",
       "136  VELAZQUEZ IBARRA ERICK ALEJANDRO     V               331   \n",
       "\n",
       "     TiempoTotalSegB  PromedioLlamadaSegB  TiempoTotalMinB  \n",
       "0                  0             0.000000         0.000000  \n",
       "1              93940            38.140479      1565.666667  \n",
       "2              21265            25.713422       354.416667  \n",
       "3              92970            25.243008      1549.500000  \n",
       "4               4376            22.326531        72.933333  \n",
       "..               ...                  ...              ...  \n",
       "132            56793            70.201483       946.550000  \n",
       "133           265267            66.217424      4421.116667  \n",
       "134            71067            56.762780      1184.450000  \n",
       "135           152688            41.502582      2544.800000  \n",
       "136            14394            43.486405       239.900000  \n",
       "\n",
       "[137 rows x 6 columns]"
      ],
      "text/html": "<div>\n<style scoped>\n    .dataframe tbody tr th:only-of-type {\n        vertical-align: middle;\n    }\n\n    .dataframe tbody tr th {\n        vertical-align: top;\n    }\n\n    .dataframe thead th {\n        text-align: right;\n    }\n</style>\n<table border=\"1\" class=\"dataframe\">\n  <thead>\n    <tr style=\"text-align: right;\">\n      <th></th>\n      <th>Gestor</th>\n      <th>Turno</th>\n      <th>NumeroGestionesB</th>\n      <th>TiempoTotalSegB</th>\n      <th>PromedioLlamadaSegB</th>\n      <th>TiempoTotalMinB</th>\n    </tr>\n  </thead>\n  <tbody>\n    <tr>\n      <th>0</th>\n      <td></td>\n      <td>M</td>\n      <td>3</td>\n      <td>0</td>\n      <td>0.000000</td>\n      <td>0.000000</td>\n    </tr>\n    <tr>\n      <th>1</th>\n      <td>AGUILAR MACEDO VALERIA</td>\n      <td>M</td>\n      <td>2463</td>\n      <td>93940</td>\n      <td>38.140479</td>\n      <td>1565.666667</td>\n    </tr>\n    <tr>\n      <th>2</th>\n      <td>AGUILAR MACEDO VALERIA</td>\n      <td>V</td>\n      <td>827</td>\n      <td>21265</td>\n      <td>25.713422</td>\n      <td>354.416667</td>\n    </tr>\n    <tr>\n      <th>3</th>\n      <td>AGUILAR RIOS DANIEL ALEJANDRO</td>\n      <td>M</td>\n      <td>3683</td>\n      <td>92970</td>\n      <td>25.243008</td>\n      <td>1549.500000</td>\n    </tr>\n    <tr>\n      <th>4</th>\n      <td>AGUILAR RIOS DANIEL ALEJANDRO</td>\n      <td>V</td>\n      <td>196</td>\n      <td>4376</td>\n      <td>22.326531</td>\n      <td>72.933333</td>\n    </tr>\n    <tr>\n      <th>...</th>\n      <td>...</td>\n      <td>...</td>\n      <td>...</td>\n      <td>...</td>\n      <td>...</td>\n      <td>...</td>\n    </tr>\n    <tr>\n      <th>132</th>\n      <td>VAZQUEZ SANCHEZ LINNETH BERENICE</td>\n      <td>V</td>\n      <td>809</td>\n      <td>56793</td>\n      <td>70.201483</td>\n      <td>946.550000</td>\n    </tr>\n    <tr>\n      <th>133</th>\n      <td>VEGA HERNANDEZ NATALIE</td>\n      <td>M</td>\n      <td>4006</td>\n      <td>265267</td>\n      <td>66.217424</td>\n      <td>4421.116667</td>\n    </tr>\n    <tr>\n      <th>134</th>\n      <td>VEGA HERNANDEZ NATALIE</td>\n      <td>V</td>\n      <td>1252</td>\n      <td>71067</td>\n      <td>56.762780</td>\n      <td>1184.450000</td>\n    </tr>\n    <tr>\n      <th>135</th>\n      <td>VELAZQUEZ IBARRA ERICK ALEJANDRO</td>\n      <td>M</td>\n      <td>3679</td>\n      <td>152688</td>\n      <td>41.502582</td>\n      <td>2544.800000</td>\n    </tr>\n    <tr>\n      <th>136</th>\n      <td>VELAZQUEZ IBARRA ERICK ALEJANDRO</td>\n      <td>V</td>\n      <td>331</td>\n      <td>14394</td>\n      <td>43.486405</td>\n      <td>239.900000</td>\n    </tr>\n  </tbody>\n</table>\n<p>137 rows × 6 columns</p>\n</div>"
     },
     "metadata": {},
     "execution_count": 15
    }
   ],
   "source": [
    "#Obtenemos el performance bruto de cada gestor\n",
    "control_gestores_bruto_brad = pd.pivot_table(llamadas_liv_brad,index=['full_name','turno'],values=['length_in_sec'],aggfunc=[np.sum,np.mean,'count'])\n",
    "control_gestores_bruto_brad = to_dataframe(control_gestores_bruto_brad)\n",
    "control_gestores_bruto_brad = control_gestores_bruto_brad.iloc[:,[0,1,4,2,3]]\n",
    "control_gestores_bruto_brad.columns = ['Gestor','Turno','NumeroGestionesB','TiempoTotalSegB','PromedioLlamadaSegB']\n",
    "control_gestores_bruto_brad['TiempoTotalMinB'] = [x/60 for x in control_gestores_bruto_brad['TiempoTotalSegB']]\n",
    "control_gestores_bruto_brad"
   ]
  },
  {
   "cell_type": "code",
   "execution_count": 16,
   "metadata": {},
   "outputs": [],
   "source": [
    "#Obtenemos el performance de las llamadas contestadas\n",
    "llamadas_liv_brad2 = llamadas_liv_brad.loc[llamadas_liv_brad['status_name'].isin(['Contacto con titular','Promesa de pago','Mensaje con terceros','Mensaje con familiar','Negativa de pago','Contacto familiar','Agendar llamada'])]\n",
    "control_gestores_llamadas_brad = pd.pivot_table(llamadas_liv_brad2,index=['full_name','turno'],values=['length_in_sec'],aggfunc=[np.sum,np.mean,'count'])\n",
    "control_gestores_llamadas_brad = to_dataframe(control_gestores_llamadas_brad)\n",
    "control_gestores_llamadas_brad = control_gestores_llamadas_brad.iloc[:,[0,1,4,2,3]]\n",
    "control_gestores_llamadas_brad.columns = ['Gestor','Turno','NumeroGestiones','TiempoTotalSeg','PromedioLlamadaSeg']\n",
    "control_gestores_llamadas_brad['TiempoTotalMin'] = [x/60 for x in control_gestores_llamadas_brad['TiempoTotalSeg']]\n",
    "#control_gestores_llamadas_brad"
   ]
  },
  {
   "cell_type": "code",
   "execution_count": 17,
   "metadata": {},
   "outputs": [
    {
     "output_type": "execute_result",
     "data": {
      "text/plain": [
       "                   Gestor Turno  NumeroGestionesB  TiempoTotalSegB  \\\n",
       "0                             M                 3                0   \n",
       "1  AGUILAR MACEDO VALERIA     M              2463            93940   \n",
       "\n",
       "   PromedioLlamadaSegB  TiempoTotalMinB  NumeroGestiones  TiempoTotalSeg  \\\n",
       "0             0.000000         0.000000              0.0             0.0   \n",
       "1            38.140479      1565.666667             68.0          9309.0   \n",
       "\n",
       "   PromedioLlamadaSeg  TiempoTotalMin  \n",
       "0            0.000000            0.00  \n",
       "1          136.897059          155.15  "
      ],
      "text/html": "<div>\n<style scoped>\n    .dataframe tbody tr th:only-of-type {\n        vertical-align: middle;\n    }\n\n    .dataframe tbody tr th {\n        vertical-align: top;\n    }\n\n    .dataframe thead th {\n        text-align: right;\n    }\n</style>\n<table border=\"1\" class=\"dataframe\">\n  <thead>\n    <tr style=\"text-align: right;\">\n      <th></th>\n      <th>Gestor</th>\n      <th>Turno</th>\n      <th>NumeroGestionesB</th>\n      <th>TiempoTotalSegB</th>\n      <th>PromedioLlamadaSegB</th>\n      <th>TiempoTotalMinB</th>\n      <th>NumeroGestiones</th>\n      <th>TiempoTotalSeg</th>\n      <th>PromedioLlamadaSeg</th>\n      <th>TiempoTotalMin</th>\n    </tr>\n  </thead>\n  <tbody>\n    <tr>\n      <th>0</th>\n      <td></td>\n      <td>M</td>\n      <td>3</td>\n      <td>0</td>\n      <td>0.000000</td>\n      <td>0.000000</td>\n      <td>0.0</td>\n      <td>0.0</td>\n      <td>0.000000</td>\n      <td>0.00</td>\n    </tr>\n    <tr>\n      <th>1</th>\n      <td>AGUILAR MACEDO VALERIA</td>\n      <td>M</td>\n      <td>2463</td>\n      <td>93940</td>\n      <td>38.140479</td>\n      <td>1565.666667</td>\n      <td>68.0</td>\n      <td>9309.0</td>\n      <td>136.897059</td>\n      <td>155.15</td>\n    </tr>\n  </tbody>\n</table>\n</div>"
     },
     "metadata": {},
     "execution_count": 17
    }
   ],
   "source": [
    "control_liv_consol_turno = pd.merge(control_gestores_bruto_brad,control_gestores_llamadas_brad,how='left',on=['Gestor','Turno'])\n",
    "control_liv_consol_turno.fillna(0,inplace=True)\n",
    "control_liv_consol_turno.head(2)"
   ]
  },
  {
   "cell_type": "code",
   "execution_count": 18,
   "metadata": {},
   "outputs": [
    {
     "output_type": "execute_result",
     "data": {
      "text/plain": [
       "                              Gestor  NumeroGestiones  TiempoTotalSeg  \\\n",
       "0             AGUILAR MACEDO VALERIA               98           12135   \n",
       "1      AGUILAR RIOS DANIEL ALEJANDRO               31            1524   \n",
       "2         ALANIZ DIAZ ALISON JOCELIN              244           36356   \n",
       "3   ALEJANDRA YESENIA HERNANDEZ BITE               72            9142   \n",
       "4        BALBUENA MACEDO EDGAR URIEL              126           26356   \n",
       "..                               ...              ...             ...   \n",
       "61      TRON FIERROS FELIPE DE JESUS              254           39438   \n",
       "62    VARGAS CANCINO AURENY ARISBETH                4             571   \n",
       "63  VAZQUEZ SANCHEZ LINNETH BERENICE               60           16391   \n",
       "64            VEGA HERNANDEZ NATALIE              460           67934   \n",
       "65  VELAZQUEZ IBARRA ERICK ALEJANDRO               23            4188   \n",
       "\n",
       "    PromedioLlamadaSeg  TiempoTotalMin  \n",
       "0           123.826531      202.250000  \n",
       "1            49.161290       25.400000  \n",
       "2           149.000000      605.933333  \n",
       "3           126.972222      152.366667  \n",
       "4           209.174603      439.266667  \n",
       "..                 ...             ...  \n",
       "61          155.267717      657.300000  \n",
       "62          142.750000        9.516667  \n",
       "63          273.183333      273.183333  \n",
       "64          147.682609     1132.233333  \n",
       "65          182.086957       69.800000  \n",
       "\n",
       "[66 rows x 5 columns]"
      ],
      "text/html": "<div>\n<style scoped>\n    .dataframe tbody tr th:only-of-type {\n        vertical-align: middle;\n    }\n\n    .dataframe tbody tr th {\n        vertical-align: top;\n    }\n\n    .dataframe thead th {\n        text-align: right;\n    }\n</style>\n<table border=\"1\" class=\"dataframe\">\n  <thead>\n    <tr style=\"text-align: right;\">\n      <th></th>\n      <th>Gestor</th>\n      <th>NumeroGestiones</th>\n      <th>TiempoTotalSeg</th>\n      <th>PromedioLlamadaSeg</th>\n      <th>TiempoTotalMin</th>\n    </tr>\n  </thead>\n  <tbody>\n    <tr>\n      <th>0</th>\n      <td>AGUILAR MACEDO VALERIA</td>\n      <td>98</td>\n      <td>12135</td>\n      <td>123.826531</td>\n      <td>202.250000</td>\n    </tr>\n    <tr>\n      <th>1</th>\n      <td>AGUILAR RIOS DANIEL ALEJANDRO</td>\n      <td>31</td>\n      <td>1524</td>\n      <td>49.161290</td>\n      <td>25.400000</td>\n    </tr>\n    <tr>\n      <th>2</th>\n      <td>ALANIZ DIAZ ALISON JOCELIN</td>\n      <td>244</td>\n      <td>36356</td>\n      <td>149.000000</td>\n      <td>605.933333</td>\n    </tr>\n    <tr>\n      <th>3</th>\n      <td>ALEJANDRA YESENIA HERNANDEZ BITE</td>\n      <td>72</td>\n      <td>9142</td>\n      <td>126.972222</td>\n      <td>152.366667</td>\n    </tr>\n    <tr>\n      <th>4</th>\n      <td>BALBUENA MACEDO EDGAR URIEL</td>\n      <td>126</td>\n      <td>26356</td>\n      <td>209.174603</td>\n      <td>439.266667</td>\n    </tr>\n    <tr>\n      <th>...</th>\n      <td>...</td>\n      <td>...</td>\n      <td>...</td>\n      <td>...</td>\n      <td>...</td>\n    </tr>\n    <tr>\n      <th>61</th>\n      <td>TRON FIERROS FELIPE DE JESUS</td>\n      <td>254</td>\n      <td>39438</td>\n      <td>155.267717</td>\n      <td>657.300000</td>\n    </tr>\n    <tr>\n      <th>62</th>\n      <td>VARGAS CANCINO AURENY ARISBETH</td>\n      <td>4</td>\n      <td>571</td>\n      <td>142.750000</td>\n      <td>9.516667</td>\n    </tr>\n    <tr>\n      <th>63</th>\n      <td>VAZQUEZ SANCHEZ LINNETH BERENICE</td>\n      <td>60</td>\n      <td>16391</td>\n      <td>273.183333</td>\n      <td>273.183333</td>\n    </tr>\n    <tr>\n      <th>64</th>\n      <td>VEGA HERNANDEZ NATALIE</td>\n      <td>460</td>\n      <td>67934</td>\n      <td>147.682609</td>\n      <td>1132.233333</td>\n    </tr>\n    <tr>\n      <th>65</th>\n      <td>VELAZQUEZ IBARRA ERICK ALEJANDRO</td>\n      <td>23</td>\n      <td>4188</td>\n      <td>182.086957</td>\n      <td>69.800000</td>\n    </tr>\n  </tbody>\n</table>\n<p>66 rows × 5 columns</p>\n</div>"
     },
     "metadata": {},
     "execution_count": 18
    }
   ],
   "source": [
    "#Obtenemos el performance de las llamadas contestadas\n",
    "control_gestores_total = pd.pivot_table(llamadas_liv_brad2,index=['full_name'],values=['length_in_sec'],aggfunc=[np.sum,np.mean,'count'])\n",
    "control_gestores_total = to_dataframe(control_gestores_total)\n",
    "control_gestores_total = control_gestores_total.iloc[:,[0,3,1,2]]\n",
    "control_gestores_total.columns = ['Gestor','NumeroGestiones','TiempoTotalSeg','PromedioLlamadaSeg']\n",
    "control_gestores_total['TiempoTotalMin'] = [x/60 for x in control_gestores_total['TiempoTotalSeg']]\n",
    "control_gestores_total"
   ]
  },
  {
   "source": [
    "# Performance Liverpool Bradesco"
   ],
   "cell_type": "markdown",
   "metadata": {}
  },
  {
   "cell_type": "code",
   "execution_count": 19,
   "metadata": {},
   "outputs": [],
   "source": [
    "#Hacemos la consulta referente al performance del Gestor\n",
    "performance_all = consulta_sql('procesos_externos.all_rpt_agent_performance',mes,today)\n",
    "performance_all.columns = ['fecha','usuario','nombre_usuario','user_group','llamadas','aht','ocupacion','adherencia','login_vici','logout_vici','staff_time','wait_time','talk_time','dispo_time','pause','login','manual','gestion','agua','alimentos','sanitario','retroalimentacion','tranferencia','validacion','whatsapp','incumplimiento','recordatorios','capacitacion','sistemas','lagged','tipificando','*']"
   ]
  },
  {
   "cell_type": "code",
   "execution_count": 20,
   "metadata": {},
   "outputs": [],
   "source": [
    "performance_liv_brad = performance_all.loc[(performance_all['user_group']=='LIVERPOOL') | (performance_all['user_group']=='BRADESCARD')]\n",
    "performance_liv_brad[['ocupacion','adherencia']] = percent_tonumeric(performance_liv_brad,['ocupacion','adherencia'])"
   ]
  },
  {
   "cell_type": "code",
   "execution_count": 21,
   "metadata": {},
   "outputs": [],
   "source": [
    "def to_hour(df,cols):\n",
    "    df[cols] = [datetime.strptime(x,'%H:%M:%S') for x in df[cols]]\n",
    "    return df\n",
    "    \n",
    "#performance_liv_brad['login_vici2'] = to_hour(performance_liv_brad,'login_vici')\n",
    "#performance_liv_brad['logout_vici2'] = to_hour(performance_liv_brad,'logout_vici')"
   ]
  },
  {
   "cell_type": "code",
   "execution_count": 22,
   "metadata": {},
   "outputs": [],
   "source": [
    "performance_liv_brad['hora_login'] = [int(x[:2]) for x in performance_liv_brad['login_vici']]\n",
    "performance_liv_brad['hora_logout'] = [int(x[:2]) for x in performance_liv_brad['logout_vici']]\n",
    "performance_liv_brad['turno'] = np.where((performance_liv_brad['hora_logout']<=14)&(performance_liv_brad['hora_logout']-performance_liv_brad['hora_login']<=8),'M',\n",
    "                                    np.where((performance_liv_brad['hora_logout']>17)&(performance_liv_brad['hora_logout']-performance_liv_brad['hora_login']<=8),'V','Mixto'))"
   ]
  },
  {
   "cell_type": "code",
   "execution_count": 23,
   "metadata": {},
   "outputs": [
    {
     "output_type": "execute_result",
     "data": {
      "text/plain": [
       "        fecha      usuario          nombre_usuario  user_group  llamadas  \\\n",
       "1  2020-12-01  AGUILARMAVA  AGUILAR MACEDO VALERIA  BRADESCARD        64   \n",
       "\n",
       "        aht  ocupacion  adherencia login_vici logout_vici  ... capacitacion  \\\n",
       "1  00:00:46       9.83       14.93   13:05:58    20:57:22  ...     00:00:00   \n",
       "\n",
       "   sistemas    lagged tipificando         * hora_login hora_logout turno  \\\n",
       "1  00:00:00  00:00:53    00:01:32  00:04:04         13          20     V   \n",
       "\n",
       "  horas_trabajadas llamadas_hora  \n",
       "1                7          9.14  \n",
       "\n",
       "[1 rows x 37 columns]"
      ],
      "text/html": "<div>\n<style scoped>\n    .dataframe tbody tr th:only-of-type {\n        vertical-align: middle;\n    }\n\n    .dataframe tbody tr th {\n        vertical-align: top;\n    }\n\n    .dataframe thead th {\n        text-align: right;\n    }\n</style>\n<table border=\"1\" class=\"dataframe\">\n  <thead>\n    <tr style=\"text-align: right;\">\n      <th></th>\n      <th>fecha</th>\n      <th>usuario</th>\n      <th>nombre_usuario</th>\n      <th>user_group</th>\n      <th>llamadas</th>\n      <th>aht</th>\n      <th>ocupacion</th>\n      <th>adherencia</th>\n      <th>login_vici</th>\n      <th>logout_vici</th>\n      <th>...</th>\n      <th>capacitacion</th>\n      <th>sistemas</th>\n      <th>lagged</th>\n      <th>tipificando</th>\n      <th>*</th>\n      <th>hora_login</th>\n      <th>hora_logout</th>\n      <th>turno</th>\n      <th>horas_trabajadas</th>\n      <th>llamadas_hora</th>\n    </tr>\n  </thead>\n  <tbody>\n    <tr>\n      <th>1</th>\n      <td>2020-12-01</td>\n      <td>AGUILARMAVA</td>\n      <td>AGUILAR MACEDO VALERIA</td>\n      <td>BRADESCARD</td>\n      <td>64</td>\n      <td>00:00:46</td>\n      <td>9.83</td>\n      <td>14.93</td>\n      <td>13:05:58</td>\n      <td>20:57:22</td>\n      <td>...</td>\n      <td>00:00:00</td>\n      <td>00:00:00</td>\n      <td>00:00:53</td>\n      <td>00:01:32</td>\n      <td>00:04:04</td>\n      <td>13</td>\n      <td>20</td>\n      <td>V</td>\n      <td>7</td>\n      <td>9.14</td>\n    </tr>\n  </tbody>\n</table>\n<p>1 rows × 37 columns</p>\n</div>"
     },
     "metadata": {},
     "execution_count": 23
    }
   ],
   "source": [
    "performance_liv_brad['horas_trabajadas'] = performance_liv_brad['hora_logout']-performance_liv_brad['hora_login']\n",
    "performance_liv_brad['llamadas_hora'] = performance_liv_brad['llamadas']/performance_liv_brad['horas_trabajadas']\n",
    "performance_liv_brad['llamadas_hora'] = performance_liv_brad['llamadas_hora'].round(2)\n",
    "performance_liv_brad.head(1)"
   ]
  },
  {
   "cell_type": "code",
   "execution_count": 24,
   "metadata": {},
   "outputs": [
    {
     "output_type": "execute_result",
     "data": {
      "text/plain": [
       "                   Gestor Turno  SumLlamadasDia  SumLlamadasHora  \\\n",
       "0  AGUILAR MACEDO VALERIA     M            1004           166.11   \n",
       "\n",
       "   SumOcupacion  PromedioLlamadasDia  PromedioLlamadasHora  PromedioOcupacion  \\\n",
       "0         116.8            91.272727             15.100909          10.618182   \n",
       "\n",
       "   DiasAsitencia  MinLlamadasDia  MinLlamadasHora  MinOcupacion  \\\n",
       "0             11              47              9.0          4.07   \n",
       "\n",
       "   MaxLlamadasDia  MaxLlamadasHora  MaxOcupacion  \n",
       "0             142            22.33         21.02  "
      ],
      "text/html": "<div>\n<style scoped>\n    .dataframe tbody tr th:only-of-type {\n        vertical-align: middle;\n    }\n\n    .dataframe tbody tr th {\n        vertical-align: top;\n    }\n\n    .dataframe thead th {\n        text-align: right;\n    }\n</style>\n<table border=\"1\" class=\"dataframe\">\n  <thead>\n    <tr style=\"text-align: right;\">\n      <th></th>\n      <th>Gestor</th>\n      <th>Turno</th>\n      <th>SumLlamadasDia</th>\n      <th>SumLlamadasHora</th>\n      <th>SumOcupacion</th>\n      <th>PromedioLlamadasDia</th>\n      <th>PromedioLlamadasHora</th>\n      <th>PromedioOcupacion</th>\n      <th>DiasAsitencia</th>\n      <th>MinLlamadasDia</th>\n      <th>MinLlamadasHora</th>\n      <th>MinOcupacion</th>\n      <th>MaxLlamadasDia</th>\n      <th>MaxLlamadasHora</th>\n      <th>MaxOcupacion</th>\n    </tr>\n  </thead>\n  <tbody>\n    <tr>\n      <th>0</th>\n      <td>AGUILAR MACEDO VALERIA</td>\n      <td>M</td>\n      <td>1004</td>\n      <td>166.11</td>\n      <td>116.8</td>\n      <td>91.272727</td>\n      <td>15.100909</td>\n      <td>10.618182</td>\n      <td>11</td>\n      <td>47</td>\n      <td>9.0</td>\n      <td>4.07</td>\n      <td>142</td>\n      <td>22.33</td>\n      <td>21.02</td>\n    </tr>\n  </tbody>\n</table>\n</div>"
     },
     "metadata": {},
     "execution_count": 24
    }
   ],
   "source": [
    "control_performance_brad_turno = pd.pivot_table(performance_liv_brad,index=['nombre_usuario','turno'],values=['llamadas','ocupacion','llamadas_hora'],aggfunc=[np.sum,np.mean,'count',min,max])\n",
    "control_performance_brad_turno = to_dataframe(control_performance_brad_turno)\n",
    "control_performance_brad_turno = control_performance_brad_turno.iloc[:,[0,1,2,3,4,5,6,7,8,11,12,13,14,15,16]]\n",
    "control_performance_brad_turno.columns = ['Gestor','Turno','SumLlamadasDia','SumLlamadasHora','SumOcupacion','PromedioLlamadasDia','PromedioLlamadasHora','PromedioOcupacion','DiasAsitencia','MinLlamadasDia','MinLlamadasHora','MinOcupacion','MaxLlamadasDia','MaxLlamadasHora','MaxOcupacion']\n",
    "control_performance_brad_turno.head(1)"
   ]
  },
  {
   "cell_type": "code",
   "execution_count": 25,
   "metadata": {},
   "outputs": [],
   "source": [
    "control_performance_brad_turno2 = control_performance_brad_turno[['Gestor','Turno','PromedioLlamadasHora','PromedioOcupacion']]"
   ]
  },
  {
   "cell_type": "code",
   "execution_count": 57,
   "metadata": {},
   "outputs": [
    {
     "output_type": "execute_result",
     "data": {
      "text/plain": [
       "                             Gestor  SumHorasTrabajadas  SumLlamadasDia  \\\n",
       "0            AGUILAR MACEDO VALERIA                 227            3289   \n",
       "1        ALANIZ DIAZ ALISON JOCELIN                 199            8292   \n",
       "2  ALEJANDRA YESENIA HERNANDEZ BITE                   6             113   \n",
       "\n",
       "   PromedioOcupacion  DiasTrabajados  LlamadasHora  \n",
       "0           9.382308              26          14.0  \n",
       "1          30.659200              25          42.0  \n",
       "2          20.140000               1          19.0  "
      ],
      "text/html": "<div>\n<style scoped>\n    .dataframe tbody tr th:only-of-type {\n        vertical-align: middle;\n    }\n\n    .dataframe tbody tr th {\n        vertical-align: top;\n    }\n\n    .dataframe thead th {\n        text-align: right;\n    }\n</style>\n<table border=\"1\" class=\"dataframe\">\n  <thead>\n    <tr style=\"text-align: right;\">\n      <th></th>\n      <th>Gestor</th>\n      <th>SumHorasTrabajadas</th>\n      <th>SumLlamadasDia</th>\n      <th>PromedioOcupacion</th>\n      <th>DiasTrabajados</th>\n      <th>LlamadasHora</th>\n    </tr>\n  </thead>\n  <tbody>\n    <tr>\n      <th>0</th>\n      <td>AGUILAR MACEDO VALERIA</td>\n      <td>227</td>\n      <td>3289</td>\n      <td>9.382308</td>\n      <td>26</td>\n      <td>14.0</td>\n    </tr>\n    <tr>\n      <th>1</th>\n      <td>ALANIZ DIAZ ALISON JOCELIN</td>\n      <td>199</td>\n      <td>8292</td>\n      <td>30.659200</td>\n      <td>25</td>\n      <td>42.0</td>\n    </tr>\n    <tr>\n      <th>2</th>\n      <td>ALEJANDRA YESENIA HERNANDEZ BITE</td>\n      <td>6</td>\n      <td>113</td>\n      <td>20.140000</td>\n      <td>1</td>\n      <td>19.0</td>\n    </tr>\n  </tbody>\n</table>\n</div>"
     },
     "metadata": {},
     "execution_count": 57
    }
   ],
   "source": [
    "control_performance_brad = pd.pivot_table(performance_liv_brad,index=['nombre_usuario'],values=['llamadas','ocupacion','horas_trabajadas'],aggfunc=[np.sum,np.mean,'count',min,max])\n",
    "control_performance_brad = to_dataframe(control_performance_brad)\n",
    "control_performance_brad = control_performance_brad.iloc[:,[0,1,2,6,7]]\n",
    "control_performance_brad.columns = ['Gestor','SumHorasTrabajadas','SumLlamadasDia','PromedioOcupacion','DiasTrabajados']\n",
    "control_performance_brad['LlamadasHora'] = (control_performance_brad['SumLlamadasDia']/control_performance_brad['SumHorasTrabajadas']).round()\n",
    "control_performance_brad.head(3)"
   ]
  },
  {
   "cell_type": "code",
   "execution_count": 61,
   "metadata": {},
   "outputs": [
    {
     "output_type": "execute_result",
     "data": {
      "text/plain": [
       "                              Gestor  PromedioOcupacion  ContactoHora  \\\n",
       "0             AGUILAR MACEDO VALERIA           9.382308      0.431718   \n",
       "1      AGUILAR RIOS DANIEL ALEJANDRO                NaN           NaN   \n",
       "2         ALANIZ DIAZ ALISON JOCELIN          30.659200      1.226131   \n",
       "3   ALEJANDRA YESENIA HERNANDEZ BITE          20.140000     12.000000   \n",
       "4        BALBUENA MACEDO EDGAR URIEL          46.777391      0.720000   \n",
       "..                               ...                ...           ...   \n",
       "61      TRON FIERROS FELIPE DE JESUS           7.738696      1.403315   \n",
       "62    VARGAS CANCINO AURENY ARISBETH          40.720588      0.033613   \n",
       "63  VAZQUEZ SANCHEZ LINNETH BERENICE          31.999583      0.375000   \n",
       "64            VEGA HERNANDEZ NATALIE          42.031000      3.593750   \n",
       "65  VELAZQUEZ IBARRA ERICK ALEJANDRO          44.039231      0.365079   \n",
       "\n",
       "    LlamadasHora  \n",
       "0           14.0  \n",
       "1            NaN  \n",
       "2           42.0  \n",
       "3           19.0  \n",
       "4           24.0  \n",
       "..           ...  \n",
       "61          10.0  \n",
       "62          29.0  \n",
       "63          20.0  \n",
       "64          27.0  \n",
       "65          42.0  \n",
       "\n",
       "[66 rows x 4 columns]"
      ],
      "text/html": "<div>\n<style scoped>\n    .dataframe tbody tr th:only-of-type {\n        vertical-align: middle;\n    }\n\n    .dataframe tbody tr th {\n        vertical-align: top;\n    }\n\n    .dataframe thead th {\n        text-align: right;\n    }\n</style>\n<table border=\"1\" class=\"dataframe\">\n  <thead>\n    <tr style=\"text-align: right;\">\n      <th></th>\n      <th>Gestor</th>\n      <th>PromedioOcupacion</th>\n      <th>ContactoHora</th>\n      <th>LlamadasHora</th>\n    </tr>\n  </thead>\n  <tbody>\n    <tr>\n      <th>0</th>\n      <td>AGUILAR MACEDO VALERIA</td>\n      <td>9.382308</td>\n      <td>0.431718</td>\n      <td>14.0</td>\n    </tr>\n    <tr>\n      <th>1</th>\n      <td>AGUILAR RIOS DANIEL ALEJANDRO</td>\n      <td>NaN</td>\n      <td>NaN</td>\n      <td>NaN</td>\n    </tr>\n    <tr>\n      <th>2</th>\n      <td>ALANIZ DIAZ ALISON JOCELIN</td>\n      <td>30.659200</td>\n      <td>1.226131</td>\n      <td>42.0</td>\n    </tr>\n    <tr>\n      <th>3</th>\n      <td>ALEJANDRA YESENIA HERNANDEZ BITE</td>\n      <td>20.140000</td>\n      <td>12.000000</td>\n      <td>19.0</td>\n    </tr>\n    <tr>\n      <th>4</th>\n      <td>BALBUENA MACEDO EDGAR URIEL</td>\n      <td>46.777391</td>\n      <td>0.720000</td>\n      <td>24.0</td>\n    </tr>\n    <tr>\n      <th>...</th>\n      <td>...</td>\n      <td>...</td>\n      <td>...</td>\n      <td>...</td>\n    </tr>\n    <tr>\n      <th>61</th>\n      <td>TRON FIERROS FELIPE DE JESUS</td>\n      <td>7.738696</td>\n      <td>1.403315</td>\n      <td>10.0</td>\n    </tr>\n    <tr>\n      <th>62</th>\n      <td>VARGAS CANCINO AURENY ARISBETH</td>\n      <td>40.720588</td>\n      <td>0.033613</td>\n      <td>29.0</td>\n    </tr>\n    <tr>\n      <th>63</th>\n      <td>VAZQUEZ SANCHEZ LINNETH BERENICE</td>\n      <td>31.999583</td>\n      <td>0.375000</td>\n      <td>20.0</td>\n    </tr>\n    <tr>\n      <th>64</th>\n      <td>VEGA HERNANDEZ NATALIE</td>\n      <td>42.031000</td>\n      <td>3.593750</td>\n      <td>27.0</td>\n    </tr>\n    <tr>\n      <th>65</th>\n      <td>VELAZQUEZ IBARRA ERICK ALEJANDRO</td>\n      <td>44.039231</td>\n      <td>0.365079</td>\n      <td>42.0</td>\n    </tr>\n  </tbody>\n</table>\n<p>66 rows × 4 columns</p>\n</div>"
     },
     "metadata": {},
     "execution_count": 61
    }
   ],
   "source": [
    "conjunto_performance_llamadas = pd.merge(control_gestores_total,control_performance_brad,on='Gestor',how='outer')\n",
    "conjunto_performance_llamadas['ContactoHora'] = conjunto_performance_llamadas['NumeroGestiones']/conjunto_performance_llamadas['SumHorasTrabajadas']\n",
    "conjunto_performance_llamadas = conjunto_performance_llamadas.iloc[:,[0,7,10,9,]]\n",
    "conjunto_performance_llamadas"
   ]
  },
  {
   "source": [
    "# Gestion detallado Liverpool Bradesco"
   ],
   "cell_type": "markdown",
   "metadata": {}
  },
  {
   "source": [
    "# Liverpool"
   ],
   "cell_type": "markdown",
   "metadata": {}
  },
  {
   "cell_type": "code",
   "execution_count": 28,
   "metadata": {},
   "outputs": [],
   "source": [
    "#Hacemos la consulta referente a las gestiones de Liverpool\n",
    "gestion_liv = consulta_sql('liverpool_rpt_gestiones_detallado',mes,today)\n",
    "gestion_liv.columns = ['folio_gestion','firma_id','unegocio_id','credito','nombre_credito','telefono','tipo_telefono','fecha_gestion','usuario','nombre_usuario','dictamen','accion','resultado','fecha_promesa','monto_promesa','comentarios']\n",
    "gestion_liv = gestion_liv.loc[gestion_liv['dictamen']=='PROMESA']\n",
    "gestion_liv['credito'] = pd.to_numeric(gestion_liv['credito'])\n",
    "gestion_liv['anio'] = [int(x[:4]) for x in gestion_liv['fecha_promesa']]\n",
    "gestion_liv = gestion_liv.loc[(gestion_liv['anio']>2010)&(gestion_liv['anio']<2100)]"
   ]
  },
  {
   "cell_type": "code",
   "execution_count": 29,
   "metadata": {},
   "outputs": [],
   "source": [
    "#Hacemos la consulta de la asignacion\n",
    "asignacion_liv = consulta_sql('liverpool_rpt_asignacion_activa')\n",
    "asignacion_liv = asignacion_liv.iloc[:,[0,1,3,24,6,26]]\n",
    "asignacion_liv.columns = ['firma_id','unegocio_id','credito','estado','rfc','division']\n",
    "asignacion_liv['credito'] = pd.to_numeric(asignacion_liv['credito'])"
   ]
  },
  {
   "cell_type": "code",
   "execution_count": 30,
   "metadata": {},
   "outputs": [],
   "source": [
    "#Hacemos el consolidado \n",
    "consolidado_liv_mes = pd.merge(gestion_liv,asignacion_liv,how='left',on=['firma_id','unegocio_id','credito'])\n",
    "cols = ['monto_promesa','credito']\n",
    "consolidado_liv_mes[cols] = consolidado_liv_mes[cols].apply(pd.to_numeric, errors='coerce')\n",
    "consolidado_liv_mes = consolidado_liv_mes[(consolidado_liv_mes['monto_promesa']>50)]\n",
    "consolidado_liv_mes = consolidado_liv_mes[(consolidado_liv_mes['monto_promesa']<500000)]\n",
    "consolidado_liv_mes.fillna('COBRANZA',inplace=True)\n",
    "consolidado_liv_mes = consolidado_liv_mes.drop_duplicates(subset = ['usuario','credito','fecha_promesa','monto_promesa'])\n",
    "#consolidado_liv_mes.head(3)"
   ]
  },
  {
   "cell_type": "code",
   "execution_count": 31,
   "metadata": {},
   "outputs": [],
   "source": [
    "#Asignamos los aranceles de liverpool\n",
    "aranceles = [('DKN00REM',0.28),('DKN02REM',0.4),('DKN04REM',0.5),('SA001REM',0.15),('SA002REM',0.16)]\n",
    "aranceles = pd.DataFrame(aranceles)\n",
    "aranceles.columns = ['Id','Arancel']\n",
    "#Agregamos aranceles al consolidado\n",
    "pagos_liv2 = pd.merge(pagos_liv2,aranceles,how='left',on='Id')\n",
    "pagos_liv2['PagoArancel'] = [x*y for x,y in zip(pagos_liv2['Monto'],pagos_liv2['Arancel'])]"
   ]
  },
  {
   "cell_type": "code",
   "execution_count": 32,
   "metadata": {},
   "outputs": [],
   "source": [
    "#Unimos el consolidado con los pagos \n",
    "consolidado_pagos_liv = pd.merge(consolidado_liv_mes,pagos_liv2,how='left',left_on=['credito'],right_on=['Cuenta'])\n",
    "consolidado_pagos_liv = consolidado_pagos_liv.drop_duplicates(subset = ['credito','Monto','usuario','fecha_promesa'])\n",
    "consolidado_pagos_liv['Fecha Pago'] = pd.to_datetime(consolidado_pagos_liv['Fecha Pago'],dayfirst=True)\n",
    "try:consolidado_pagos_liv['fecha_promesa'] = pd.to_datetime(consolidado_pagos_liv['fecha_promesa'],dayfirst=False)\n",
    "except: consolidado_pagos_liv['fecha_promesa'] = consolidado_pagos_liv['fecha_promesa']\n",
    "consolidado_pagos_liv['dia_prom'] = consolidado_pagos_liv['fecha_promesa'].dt.day\n",
    "consolidado_pagos_liv['dia_pago'] = consolidado_pagos_liv['Fecha Pago'].dt.day\n",
    "cols = ['dia_prom','dia_pago','Monto']\n",
    "consolidado_pagos_liv[cols] = consolidado_pagos_liv[cols].apply(pd.to_numeric, errors='coerce',downcast='integer')\n",
    "consolidado_pagos_liv['dia_pago'].fillna(0,inplace=True)\n",
    "try:\n",
    "    consolidado_pagos_liv['dia_pago'] = [int(x) for x in consolidado_pagos_liv['dia_pago']]\n",
    "except: consolidado_pagos_liv['dia_pago'] = consolidado_pagos_liv['dia_pago']\n",
    "#consolidado_pagos_liv.head(3)"
   ]
  },
  {
   "cell_type": "code",
   "execution_count": 33,
   "metadata": {},
   "outputs": [],
   "source": [
    "#Condicionamos a los gestores cuyas promesas y pagos estan en un plazo de 3 dias\n",
    "consolidado_pagos_liv['PagoReal'] = [np.where((z < x+pd.Timedelta(3, unit='D')) & ((z > x-pd.Timedelta(3, unit='D') )), y, 0) for x,y,z in zip(consolidado_pagos_liv['fecha_promesa'],consolidado_pagos_liv['Monto'],consolidado_pagos_liv['Fecha Pago'])]\n",
    "consolidado_pagos_liv['PagoReal'] = [x.item() for x in consolidado_pagos_liv['PagoReal']]\n",
    "#consolidado_pagos_liv.head(3)"
   ]
  },
  {
   "cell_type": "code",
   "execution_count": 34,
   "metadata": {},
   "outputs": [],
   "source": [
    "consolidado_pagos_liv['MontoArancel'] = [x*y for x,y in zip(consolidado_pagos_liv['PagoReal'],consolidado_pagos_liv['Arancel'])]"
   ]
  },
  {
   "cell_type": "code",
   "execution_count": 35,
   "metadata": {},
   "outputs": [
    {
     "output_type": "execute_result",
     "data": {
      "text/plain": [
       "                          Gestor  NumeroPromesas  NumeroPagos  SumaPromesas  \\\n",
       "0  AGUILAR RIOS DANIEL ALEJANDRO               9            2       23413.0   \n",
       "\n",
       "   SumaPagos  SumaArancel  \n",
       "0     6800.0       2720.0  "
      ],
      "text/html": "<div>\n<style scoped>\n    .dataframe tbody tr th:only-of-type {\n        vertical-align: middle;\n    }\n\n    .dataframe tbody tr th {\n        vertical-align: top;\n    }\n\n    .dataframe thead th {\n        text-align: right;\n    }\n</style>\n<table border=\"1\" class=\"dataframe\">\n  <thead>\n    <tr style=\"text-align: right;\">\n      <th></th>\n      <th>Gestor</th>\n      <th>NumeroPromesas</th>\n      <th>NumeroPagos</th>\n      <th>SumaPromesas</th>\n      <th>SumaPagos</th>\n      <th>SumaArancel</th>\n    </tr>\n  </thead>\n  <tbody>\n    <tr>\n      <th>0</th>\n      <td>AGUILAR RIOS DANIEL ALEJANDRO</td>\n      <td>9</td>\n      <td>2</td>\n      <td>23413.0</td>\n      <td>6800.0</td>\n      <td>2720.0</td>\n    </tr>\n  </tbody>\n</table>\n</div>"
     },
     "metadata": {},
     "execution_count": 35
    }
   ],
   "source": [
    "#Obtenemos datos de los gestores de Liverpool\n",
    "prom_liv_gestor_mes = pd.pivot_table(consolidado_pagos_liv,index=['nombre_usuario'],values=['credito','monto_promesa','PagoReal','MontoArancel'],aggfunc=['count',np.sum],dropna=False)\n",
    "prom_liv_gestor_mes = pd.DataFrame(prom_liv_gestor_mes.to_records())\n",
    "prom_liv_gestor_mes = prom_liv_gestor_mes.iloc[:,[0,2,1,8,6,5]]\n",
    "prom_liv_gestor_mes.columns = ['Gestor','NumeroPromesas','NumeroPagos','SumaPromesas','SumaPagos','SumaArancel']\n",
    "prom_liv_gestor_mes.fillna(0,inplace=True)\n",
    "#prom_liv_gestor_mes = prom_liv_gestor_mes.sort_values(by='SumaPagos',ascending=False)\n",
    "#prom_liv_gestor_mes[['SumaPromesas']] = prom_liv_gestor_mes[['SumaPromesas']].applymap(\"{0:.2f}\".format)\n",
    "prom_liv_gestor_mes.head(1)"
   ]
  },
  {
   "source": [
    "# Bradesco"
   ],
   "cell_type": "markdown",
   "metadata": {}
  },
  {
   "cell_type": "code",
   "execution_count": 36,
   "metadata": {},
   "outputs": [],
   "source": [
    "#Hacemos la consulta referente a las gestiones de Bradesco\n",
    "gestion_brad_mes = consulta_sql('bradescard_rpt_gestiones_detallado',mes,today)\n",
    "gestion_brad_mes.columns = ['folio_gestion','firma_id','unegocio_id','credito','nombre_credito','telefono','tipo_telefono','fecha_gestion','usuario','nombre_usuario','dictamen','accion','resultado','accion_resultado','fecha_promesa','monto_promesa','comentarios']\n",
    "gestion_brad_mes = gestion_brad_mes.loc[gestion_brad_mes['dictamen']=='PROMESA']\n",
    "gestion_brad_mes['credito'] = pd.to_numeric(gestion_brad_mes['credito'])\n",
    "gestion_brad_mes['monto_promesa'] = pd.to_numeric(gestion_brad_mes['monto_promesa'])\n",
    "gestion_brad_mes = gestion_brad_mes.drop_duplicates(subset=['credito','usuario','fecha_promesa','monto_promesa'])\n",
    "#gestion_brad_mes.head(3)"
   ]
  },
  {
   "cell_type": "code",
   "execution_count": 37,
   "metadata": {},
   "outputs": [],
   "source": [
    "#Hacemos la consulta de la asignacion\n",
    "asignacion_brad = consulta_sql('liverpool_rpt_asignacion_activa')\n",
    "asignacion_brad = asignacion_brad.iloc[:,[0,1,3,9,24,6,26]]\n",
    "asignacion_brad.columns = ['firma_id','unegocio_id','credito','saldo_total','estado','rfc','division']\n",
    "asignacion_brad['credito'] = pd.to_numeric(asignacion_brad['credito'])\n",
    "#asignacion_brad.head(3)"
   ]
  },
  {
   "cell_type": "code",
   "execution_count": 38,
   "metadata": {},
   "outputs": [],
   "source": [
    "#Hacemos la union de asignacion y promesas\n",
    "consolidado_brad_mes = pd.merge(gestion_brad_mes,asignacion_brad,how='left',on=['firma_id','unegocio_id','credito'])\n",
    "cols = ['monto_promesa','credito']\n",
    "consolidado_brad_mes[cols] = consolidado_brad_mes[cols].apply(pd.to_numeric, errors='coerce')\n",
    "consolidado_brad_mes = consolidado_brad_mes[(consolidado_brad_mes['monto_promesa']>50)]\n",
    "consolidado_brad_mes = consolidado_brad_mes[(consolidado_brad_mes['monto_promesa']<500000)]\n",
    "consolidado_brad_mes.fillna('COBRANZA',inplace=True)\n",
    "#consolidado_brad_mes.head(3)"
   ]
  },
  {
   "cell_type": "code",
   "execution_count": 39,
   "metadata": {},
   "outputs": [],
   "source": [
    "#Obtenemos los pagos totales por division\n",
    "pagos_totales_brad = pd.pivot_table(pagos_brad2,index=['TIPO_ASIGANCION'],values=['MONTO'],aggfunc=[np.sum,'count'],margins=True,dropna=False)\n",
    "pagos_totales_brad = pd.DataFrame(pagos_totales_brad.to_records())\n",
    "pagos_totales_brad = pagos_totales_brad.iloc[:,[0,2,1]]\n",
    "pagos_totales_brad.columns = ['Division','NumeroPagos','SumaPagos']\n",
    "pagos_totales_brad.fillna(0,inplace=True)"
   ]
  },
  {
   "cell_type": "code",
   "execution_count": 40,
   "metadata": {},
   "outputs": [],
   "source": [
    "C04PV = pagos_totales_brad.loc[pagos_totales_brad['Division']=='C0 4PV', 'SumaPagos'].item()\n",
    "C05PV = pagos_totales_brad.loc[pagos_totales_brad['Division']=='C0 5PV', 'SumaPagos'].item()\n",
    "C06PV = pagos_totales_brad.loc[pagos_totales_brad['Division']=='C0 6PV', 'SumaPagos'].item()\n",
    "A = pagos_totales_brad.loc[pagos_totales_brad['Division']=='A', 'SumaPagos'].item()\n",
    "C1 = pagos_totales_brad.loc[pagos_totales_brad['Division']=='C1', 'SumaPagos'].item()\n",
    "C2 = pagos_totales_brad.loc[pagos_totales_brad['Division']=='C2', 'SumaPagos'].item()\n",
    "C3 = pagos_totales_brad.loc[pagos_totales_brad['Division']=='C3', 'SumaPagos'].item()\n",
    "C4 = pagos_totales_brad.loc[pagos_totales_brad['Division']=='C4', 'SumaPagos'].item()\n",
    "B = pagos_totales_brad.loc[pagos_totales_brad['Division']=='B', 'SumaPagos'].item()"
   ]
  },
  {
   "cell_type": "code",
   "execution_count": 41,
   "metadata": {},
   "outputs": [],
   "source": [
    "def func(row):\n",
    "    if row['TIPO_ASIGANCION'] == 'C0 4PV':\n",
    "        return np.where((C04PV>0) & (C04PV<=c04pv1),arancel_4pv1,\n",
    "                        np.where((C04PV>c04pv1) & (C04PV<=c04pv2),arancel_4pv2,\n",
    "                                 np.where((C04PV>c04pv2) & (C04PV<=c04pv3),arancel_4pv3,arancel_4pv3+.03)))\n",
    "    elif row['TIPO_ASIGANCION'] == 'C0 5PV':\n",
    "        return np.where((C05PV>0) & (C05PV<=c05pv1),arancel_5pv1,\n",
    "                        np.where((C05PV>c05pv1) & (C05PV<=c05pv2),arancel_5pv2,\n",
    "                                 np.where((C05PV>c05pv2) & (C05PV<=c05pv3),arancel_5pv3,arancel_5pv3+.03)))\n",
    "    elif row['TIPO_ASIGANCION'] == 'C0 6PV':\n",
    "        return np.where((C06PV>0) & (C06PV<=c06pv1),arancel_6pv1,\n",
    "                        np.where((C06PV>c06pv1) & (C06PV<=c06pv2),arancel_6pv2,\n",
    "                                 np.where((C06PV>c06pv2) & (C06PV<=c06pv3),arancel_6pv3,arancel_6pv3+.03)))\n",
    "    elif row['TIPO_ASIGANCION'] == 'A':\n",
    "        return np.where((A>0) & (A<=a1),arancel_a1,\n",
    "                        np.where((A>a1) & (A<=a2),arancel_a2,\n",
    "                                 np.where((A>a2) & (A<=a3),arancel_a3,arancel_a3+.03)))\n",
    "    elif row['TIPO_ASIGANCION'] == 'B':\n",
    "        return np.where((B>0) & (B<=b1),arancel_b1,\n",
    "                        np.where((B>b1) & (B<=b2),arancel_b2,\n",
    "                                 np.where((B>b2) & (B<=b3),arancel_b3,arancel_b3+.03)))\n",
    "    elif row['TIPO_ASIGANCION'] == 'C1':\n",
    "        return np.where((C1>0) & (C1<=c11),arancel_c11,\n",
    "                        np.where((C1>c11) & (C1<=c12),arancel_c12,\n",
    "                                 np.where((C1>c12) & (C1<=c13),arancel_c13,arancel_c13+.03)))\n",
    "    elif row['TIPO_ASIGANCION'] == 'C2':\n",
    "        return np.where((C2>0) & (C2<=c21),arancel_c21,\n",
    "                        np.where((C2>c21) & (C2<=c22),arancel_c22,\n",
    "                                 np.where((C2>c22) & (C2<=c23),arancel_c23,arancel_c23+.03)))\n",
    "    elif row['TIPO_ASIGANCION'] == 'C3':\n",
    "        return np.where((C3>0) & (C3<=c31),arancel_c31,\n",
    "                        np.where((C3>c31) & (C3<=c32),arancel_c32,\n",
    "                                 np.where((C3>c32) & (C3<=c33),arancel_c33,arancel_c33+.03)))\n",
    "    elif row['TIPO_ASIGANCION'] == 'C4':\n",
    "        return np.where((C4>0) & (C4<=c41),arancel_c41,\n",
    "                        np.where((C4>c41) & (C4<=c42),arancel_c42,\n",
    "                                 np.where((C4>c42) & (C4<=c43),arancel_c43,arancel_c43+.03)))\n",
    "    \n",
    "    else:\n",
    "        return 0\n",
    "\n",
    "pagos_brad2['Arancel'] = pagos_brad2.apply(func, axis=1)"
   ]
  },
  {
   "cell_type": "code",
   "execution_count": 42,
   "metadata": {},
   "outputs": [],
   "source": [
    "pagos_brad2['Facturacion'] = [x*y for x,y in zip(pagos_brad2['MONTO'],pagos_brad2['Arancel'])]"
   ]
  },
  {
   "cell_type": "code",
   "execution_count": 43,
   "metadata": {},
   "outputs": [],
   "source": [
    "#Hacemos la union consolidado y pagos\n",
    "consoliado_pagos_brad = pd.merge(consolidado_brad_mes,pagos_brad2,how='left',left_on=['credito'],right_on=['NUMERO_TARJETA'])\n",
    "try: consoliado_pagos_brad['fecha_promesa'] = pd.to_datetime(consoliado_pagos_brad['fecha_promesa'],dayfirst=False)\n",
    "except: consoliado_pagos_brad['fecha_promesa'] = consoliado_pagos_brad['fecha_gestion']"
   ]
  },
  {
   "cell_type": "code",
   "execution_count": 44,
   "metadata": {},
   "outputs": [],
   "source": [
    "#Condicionamos a los gestores cuyas promesas y pagos estan en un plazo de 3 dias\n",
    "consoliado_pagos_brad['PagoUnico'] = [np.where((z < x+pd.Timedelta(4, unit='D')) & ((z > x-pd.Timedelta(3, unit='D') )), y, 0) for x,y,z in zip(consoliado_pagos_brad['fecha_promesa'],consoliado_pagos_brad['MONTO'],consoliado_pagos_brad['FECHA_PAGO'])]\n",
    "consoliado_pagos_brad['PagoUnico'] = [x.item() for x in consoliado_pagos_brad['PagoUnico']]"
   ]
  },
  {
   "cell_type": "code",
   "execution_count": 45,
   "metadata": {},
   "outputs": [],
   "source": [
    "consoliado_pagos_brad['PagoReal'] = [x*y for x,y in zip(consoliado_pagos_brad['PagoUnico'],consoliado_pagos_brad['Arancel'])]\n",
    "consoliado_pagos_brad2 = consoliado_pagos_brad.drop_duplicates(subset=['credito','MONTO','FECHA_PAGO','usuario'])"
   ]
  },
  {
   "cell_type": "code",
   "execution_count": 46,
   "metadata": {},
   "outputs": [
    {
     "output_type": "execute_result",
     "data": {
      "text/plain": [
       "                   Gestor  NumeroPromesas  NumeroPagos  SumaPromesas  \\\n",
       "0  AGUILAR MACEDO VALERIA             277          236      334923.0   \n",
       "\n",
       "   SumaPagos  SumaArancel  \n",
       "0   349305.0     28800.59  "
      ],
      "text/html": "<div>\n<style scoped>\n    .dataframe tbody tr th:only-of-type {\n        vertical-align: middle;\n    }\n\n    .dataframe tbody tr th {\n        vertical-align: top;\n    }\n\n    .dataframe thead th {\n        text-align: right;\n    }\n</style>\n<table border=\"1\" class=\"dataframe\">\n  <thead>\n    <tr style=\"text-align: right;\">\n      <th></th>\n      <th>Gestor</th>\n      <th>NumeroPromesas</th>\n      <th>NumeroPagos</th>\n      <th>SumaPromesas</th>\n      <th>SumaPagos</th>\n      <th>SumaArancel</th>\n    </tr>\n  </thead>\n  <tbody>\n    <tr>\n      <th>0</th>\n      <td>AGUILAR MACEDO VALERIA</td>\n      <td>277</td>\n      <td>236</td>\n      <td>334923.0</td>\n      <td>349305.0</td>\n      <td>28800.59</td>\n    </tr>\n  </tbody>\n</table>\n</div>"
     },
     "metadata": {},
     "execution_count": 46
    }
   ],
   "source": [
    "pagos_totales_brad2 = pd.pivot_table(consoliado_pagos_brad,index=['nombre_usuario'],values=['monto_promesa','MONTO','PagoReal'],aggfunc=['count',np.sum],dropna=False)\n",
    "pagos_totales_brad2 = pd.DataFrame(pagos_totales_brad2.to_records())\n",
    "pagos_totales_brad2 = pagos_totales_brad2.iloc[:,[0,3,1,6,4,5]]\n",
    "pagos_totales_brad2.columns = ['Gestor','NumeroPromesas','NumeroPagos','SumaPromesas','SumaPagos','SumaArancel']\n",
    "pagos_totales_brad2.fillna(0,inplace=True)\n",
    "#pagos_totales_brad2['FechaFact'] = max(pagos_brad2['FECHA_PAGO'])\n",
    "pagos_totales_brad2.head(1)"
   ]
  },
  {
   "cell_type": "code",
   "execution_count": 47,
   "metadata": {},
   "outputs": [
    {
     "output_type": "execute_result",
     "data": {
      "text/plain": [
       "                   Gestor  NumeroPromesas  NumeroPagos  SumaPromesas  \\\n",
       "0  AGUILAR MACEDO VALERIA             277          236      334923.0   \n",
       "\n",
       "   SumaPagos  SumaArancel  EfVolumen   EfPagos  \n",
       "0   349305.0     28800.59   0.851986  1.042941  "
      ],
      "text/html": "<div>\n<style scoped>\n    .dataframe tbody tr th:only-of-type {\n        vertical-align: middle;\n    }\n\n    .dataframe tbody tr th {\n        vertical-align: top;\n    }\n\n    .dataframe thead th {\n        text-align: right;\n    }\n</style>\n<table border=\"1\" class=\"dataframe\">\n  <thead>\n    <tr style=\"text-align: right;\">\n      <th></th>\n      <th>Gestor</th>\n      <th>NumeroPromesas</th>\n      <th>NumeroPagos</th>\n      <th>SumaPromesas</th>\n      <th>SumaPagos</th>\n      <th>SumaArancel</th>\n      <th>EfVolumen</th>\n      <th>EfPagos</th>\n    </tr>\n  </thead>\n  <tbody>\n    <tr>\n      <th>0</th>\n      <td>AGUILAR MACEDO VALERIA</td>\n      <td>277</td>\n      <td>236</td>\n      <td>334923.0</td>\n      <td>349305.0</td>\n      <td>28800.59</td>\n      <td>0.851986</td>\n      <td>1.042941</td>\n    </tr>\n  </tbody>\n</table>\n</div>"
     },
     "metadata": {},
     "execution_count": 47
    }
   ],
   "source": [
    "gestor_brad_liv = pd.concat([pagos_totales_brad2,prom_liv_gestor_mes],ignore_index=True)\n",
    "gestor_final_brad_liv = pd.pivot_table(gestor_brad_liv,index=['Gestor'],values=['NumeroPromesas','NumeroPagos','SumaPromesas','SumaPagos','SumaArancel'],aggfunc=np.sum)\n",
    "gestor_final_brad_liv = pd.DataFrame(gestor_final_brad_liv.to_records())\n",
    "gestor_final_brad_liv = gestor_final_brad_liv.iloc[:,[0,2,1,5,4,3]]\n",
    "gestor_final_brad_liv['EfVolumen'] = gestor_final_brad_liv['NumeroPagos']/gestor_final_brad_liv['NumeroPromesas']\n",
    "gestor_final_brad_liv['EfPagos'] = gestor_final_brad_liv['SumaPagos']/gestor_final_brad_liv['SumaPromesas']\n",
    "gestor_final_brad_liv.head(1)"
   ]
  },
  {
   "cell_type": "code",
   "execution_count": 48,
   "metadata": {},
   "outputs": [
    {
     "output_type": "execute_result",
     "data": {
      "text/plain": [
       "                   Gestor  SumaPagos   EfPagos\n",
       "0  AGUILAR MACEDO VALERIA   349305.0  1.042941"
      ],
      "text/html": "<div>\n<style scoped>\n    .dataframe tbody tr th:only-of-type {\n        vertical-align: middle;\n    }\n\n    .dataframe tbody tr th {\n        vertical-align: top;\n    }\n\n    .dataframe thead th {\n        text-align: right;\n    }\n</style>\n<table border=\"1\" class=\"dataframe\">\n  <thead>\n    <tr style=\"text-align: right;\">\n      <th></th>\n      <th>Gestor</th>\n      <th>SumaPagos</th>\n      <th>EfPagos</th>\n    </tr>\n  </thead>\n  <tbody>\n    <tr>\n      <th>0</th>\n      <td>AGUILAR MACEDO VALERIA</td>\n      <td>349305.0</td>\n      <td>1.042941</td>\n    </tr>\n  </tbody>\n</table>\n</div>"
     },
     "metadata": {},
     "execution_count": 48
    }
   ],
   "source": [
    "gestor_final_brad_liv2 = gestor_final_brad_liv[['Gestor','SumaPagos','EfPagos']]\n",
    "gestor_final_brad_liv2.head(1)"
   ]
  },
  {
   "cell_type": "code",
   "execution_count": 62,
   "metadata": {},
   "outputs": [
    {
     "output_type": "execute_result",
     "data": {
      "text/plain": [
       "                              Gestor  SumaPagos   EfPagos  PromedioOcupacion  \\\n",
       "0             AGUILAR MACEDO VALERIA  349305.00  1.042941           9.382308   \n",
       "1      AGUILAR RIOS DANIEL ALEJANDRO    6800.00  0.290437           0.000000   \n",
       "2         ALANIZ DIAZ ALISON JOCELIN  345516.36  0.842107          30.659200   \n",
       "3   ALEJANDRA YESENIA HERNANDEZ BITE   98604.00  0.860960          20.140000   \n",
       "4        BALBUENA MACEDO EDGAR URIEL  112009.00  0.672549          46.777391   \n",
       "..                               ...        ...       ...                ...   \n",
       "67                LOPEZ VAZQUEZ ERIK       0.00  0.000000          29.570000   \n",
       "68        QUINTOS ARVIZU LUIS DANIEL       0.00  0.000000           0.000000   \n",
       "69       RUIZ CASIMIRO MARCO ANTONIO       0.00  0.000000          41.676667   \n",
       "70  VAZQUEZ SANCHEZ LINNETH BERENICE       0.00  0.000000          31.999583   \n",
       "71  VELAZQUEZ IBARRA ERICK ALEJANDRO       0.00  0.000000          44.039231   \n",
       "\n",
       "    ContactoHora  LlamadasHora  \n",
       "0       0.431718          14.0  \n",
       "1       0.000000           0.0  \n",
       "2       1.226131          42.0  \n",
       "3      12.000000          19.0  \n",
       "4       0.720000          24.0  \n",
       "..           ...           ...  \n",
       "67      1.562500          24.0  \n",
       "68      0.000000           0.0  \n",
       "69      1.538462          35.0  \n",
       "70      0.375000          20.0  \n",
       "71      0.365079          42.0  \n",
       "\n",
       "[72 rows x 6 columns]"
      ],
      "text/html": "<div>\n<style scoped>\n    .dataframe tbody tr th:only-of-type {\n        vertical-align: middle;\n    }\n\n    .dataframe tbody tr th {\n        vertical-align: top;\n    }\n\n    .dataframe thead th {\n        text-align: right;\n    }\n</style>\n<table border=\"1\" class=\"dataframe\">\n  <thead>\n    <tr style=\"text-align: right;\">\n      <th></th>\n      <th>Gestor</th>\n      <th>SumaPagos</th>\n      <th>EfPagos</th>\n      <th>PromedioOcupacion</th>\n      <th>ContactoHora</th>\n      <th>LlamadasHora</th>\n    </tr>\n  </thead>\n  <tbody>\n    <tr>\n      <th>0</th>\n      <td>AGUILAR MACEDO VALERIA</td>\n      <td>349305.00</td>\n      <td>1.042941</td>\n      <td>9.382308</td>\n      <td>0.431718</td>\n      <td>14.0</td>\n    </tr>\n    <tr>\n      <th>1</th>\n      <td>AGUILAR RIOS DANIEL ALEJANDRO</td>\n      <td>6800.00</td>\n      <td>0.290437</td>\n      <td>0.000000</td>\n      <td>0.000000</td>\n      <td>0.0</td>\n    </tr>\n    <tr>\n      <th>2</th>\n      <td>ALANIZ DIAZ ALISON JOCELIN</td>\n      <td>345516.36</td>\n      <td>0.842107</td>\n      <td>30.659200</td>\n      <td>1.226131</td>\n      <td>42.0</td>\n    </tr>\n    <tr>\n      <th>3</th>\n      <td>ALEJANDRA YESENIA HERNANDEZ BITE</td>\n      <td>98604.00</td>\n      <td>0.860960</td>\n      <td>20.140000</td>\n      <td>12.000000</td>\n      <td>19.0</td>\n    </tr>\n    <tr>\n      <th>4</th>\n      <td>BALBUENA MACEDO EDGAR URIEL</td>\n      <td>112009.00</td>\n      <td>0.672549</td>\n      <td>46.777391</td>\n      <td>0.720000</td>\n      <td>24.0</td>\n    </tr>\n    <tr>\n      <th>...</th>\n      <td>...</td>\n      <td>...</td>\n      <td>...</td>\n      <td>...</td>\n      <td>...</td>\n      <td>...</td>\n    </tr>\n    <tr>\n      <th>67</th>\n      <td>LOPEZ VAZQUEZ ERIK</td>\n      <td>0.00</td>\n      <td>0.000000</td>\n      <td>29.570000</td>\n      <td>1.562500</td>\n      <td>24.0</td>\n    </tr>\n    <tr>\n      <th>68</th>\n      <td>QUINTOS ARVIZU LUIS DANIEL</td>\n      <td>0.00</td>\n      <td>0.000000</td>\n      <td>0.000000</td>\n      <td>0.000000</td>\n      <td>0.0</td>\n    </tr>\n    <tr>\n      <th>69</th>\n      <td>RUIZ CASIMIRO MARCO ANTONIO</td>\n      <td>0.00</td>\n      <td>0.000000</td>\n      <td>41.676667</td>\n      <td>1.538462</td>\n      <td>35.0</td>\n    </tr>\n    <tr>\n      <th>70</th>\n      <td>VAZQUEZ SANCHEZ LINNETH BERENICE</td>\n      <td>0.00</td>\n      <td>0.000000</td>\n      <td>31.999583</td>\n      <td>0.375000</td>\n      <td>20.0</td>\n    </tr>\n    <tr>\n      <th>71</th>\n      <td>VELAZQUEZ IBARRA ERICK ALEJANDRO</td>\n      <td>0.00</td>\n      <td>0.000000</td>\n      <td>44.039231</td>\n      <td>0.365079</td>\n      <td>42.0</td>\n    </tr>\n  </tbody>\n</table>\n<p>72 rows × 6 columns</p>\n</div>"
     },
     "metadata": {},
     "execution_count": 62
    }
   ],
   "source": [
    "final = pd.merge(gestor_final_brad_liv2,conjunto_performance_llamadas,how='outer',on='Gestor')\n",
    "#final['PromedioLlamadasHora'] = final['PromedioLlamadasHora'].round()\n",
    "final['PromedioOcupacion'] = final['PromedioOcupacion']/100\n",
    "cols = ['PromedioOcupacion','EfPagos','LlamadasHora','ContactoHora']\n",
    "#final[cols] = final[cols].round(2)\n",
    "final.fillna(0,inplace=True)\n",
    "final"
   ]
  },
  {
   "cell_type": "code",
   "execution_count": 63,
   "metadata": {},
   "outputs": [],
   "source": [
    "writer = pd.ExcelWriter(''+ruta_guardar+'/Gestores/BradLiv/Reporte Gestor BradLiv '+now+'.xlsx',engine='xlsxwriter')\n",
    "final.to_excel(writer,'BSC',index=False,header=True)\n",
    "gestor_final_brad_liv2.to_excel(writer,'MontoRecuperado',index=False,header=True)\n",
    "control_liv_consol_turno.to_excel(writer,'LlamadasDetallado',index=False,header=True)\n",
    "control_performance_brad_turno.to_excel(writer,'PerformanceDetallado',index=False,header=True)\n",
    "gestor_final_brad_liv.to_excel(writer,'PagosDetallado',index=False,header=True)\n",
    "\n",
    "writer.save()"
   ]
  },
  {
   "cell_type": "code",
   "execution_count": null,
   "metadata": {},
   "outputs": [],
   "source": []
  }
 ]
}