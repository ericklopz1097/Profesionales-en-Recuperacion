{
 "metadata": {
  "language_info": {
   "codemirror_mode": {
    "name": "ipython",
    "version": 3
   },
   "file_extension": ".py",
   "mimetype": "text/x-python",
   "name": "python",
   "nbconvert_exporter": "python",
   "pygments_lexer": "ipython3",
   "version": "3.8.5-final"
  },
  "orig_nbformat": 2,
  "kernelspec": {
   "name": "python3",
   "display_name": "Python 3",
   "language": "python"
  }
 },
 "nbformat": 4,
 "nbformat_minor": 2,
 "cells": [
  {
   "cell_type": "code",
   "execution_count": 1,
   "metadata": {},
   "outputs": [],
   "source": [
    "import pandas as pd\n",
    "import numpy as np\n",
    "import mysql.connector\n",
    "import os\n",
    "from mysql.connector import Error\n",
    "from datetime import datetime, date, timedelta\n",
    "import re\n",
    "import ConeccionesSucursales as cs\n",
    "from IPython.core.interactiveshell import InteractiveShell\n",
    "InteractiveShell.ast_node_interactivity = \"all\""
   ]
  },
  {
   "cell_type": "code",
   "execution_count": 2,
   "metadata": {},
   "outputs": [],
   "source": [
    "#Definimos la ruta en donde queremos guardar los archivos\n",
    "ruta = '/home/estadistico/Documents/Erick/'\n",
    "ruta_guardar = '/home/estadistico/Documents/Erick/Reportes diarios'\n",
    "mes = 20210101\n",
    "mes2 = 'Enero2021'\n",
    "mes3 = pd.to_datetime('01/01/2021',dayfirst=True)\n",
    "fin_mes = pd.to_datetime('31/01/2021',dayfirst=True)\n",
    "quetzal = 2.54\n",
    "dolar = 19.8"
   ]
  },
  {
   "cell_type": "code",
   "execution_count": 3,
   "metadata": {},
   "outputs": [],
   "source": [
    "#Lectura pagos Bradesco\n",
    "book = os.listdir(''+ruta+'/'+str(mes2)+'/Bradesco/Pagos/')\n",
    "pagos_brad = pd.DataFrame()\n",
    "for i in book:\n",
    "    pagos_new = pd.read_excel(''+ruta+'/'+str(mes2)+'/Bradesco/Pagos/'+i+'')\n",
    "    pagos_new = pagos_new.iloc[:,0:9]\n",
    "    pagos_brad = pd.concat([pagos_brad,pagos_new],ignore_index=True)\n",
    "    pagos_brad = pagos_brad.drop_duplicates()\n",
    "pagos_brad = pd.pivot_table(pagos_brad,index=['NUMERO_TARJETA','FECHA_PAGO','TIPO_ASIGANCION'],values=['MONTO'],aggfunc=np.sum)\n",
    "pagos_brad = pd.DataFrame(pagos_brad.to_records())\n",
    "pagos_brad = pagos_brad.loc[pagos_brad['FECHA_PAGO']>=mes3]"
   ]
  },
  {
   "cell_type": "code",
   "execution_count": 4,
   "metadata": {},
   "outputs": [],
   "source": [
    "#Lectura pagos Liverpool\n",
    "book =  os.listdir(''+ruta+'/'+str(mes2)+'/Liverpool/Pagos/')\n",
    "sheet_liv = ['SA002REM','SA001REM','DKN04REM','DKN02REM','DKN00REM']\n",
    "pagos_liv = pd.DataFrame()\n",
    "pagos_liv_new = pd.DataFrame()\n",
    "for i in book:\n",
    "    for j in sheet_liv:\n",
    "        pagos_new = pd.read_excel(''+ruta+'/'+str(mes2)+'/Liverpool/Pagos/'+i+'',sheet_name = str(j),converters={'Cuenta':str})\n",
    "        pagos_new.columns = ['Id','Cuenta','Fecha Prom','Fecha Pago','Monto','Posteo']\n",
    "        pagos_liv_new = pd.concat([pagos_liv_new,pagos_new],ignore_index=True)\n",
    "        pagos_liv_new = pagos_liv_new.iloc[:,0:6]\n",
    "    pagos_liv = pd.concat([pagos_liv,pagos_liv_new],ignore_index=True)\n",
    "    pagos_liv = pagos_liv.drop_duplicates()\n",
    "pagos_liv['Fecha Pago'] = pd.to_datetime(pagos_liv['Fecha Pago'],dayfirst=True)\n",
    "pagos_liv = pd.pivot_table(pagos_liv,index=['Id','Cuenta','Fecha Pago','Fecha Prom'],values=['Monto'],aggfunc=np.sum) \n",
    "pagos_liv = pd.DataFrame(pagos_liv.to_records())\n",
    "pagos_liv = pagos_liv.loc[pagos_liv['Fecha Pago']>=mes3]"
   ]
  },
  {
   "cell_type": "code",
   "execution_count": 5,
   "metadata": {},
   "outputs": [],
   "source": [
    "#Asignamos valores a los parametros \\n\"\n",
    "today = date.today().strftime('%Y%m%d')\n",
    "now = datetime.now().strftime('%d-%m-%Y %H:%M')\n",
    "hoy = np.datetime64('today')\n",
    "ayer = np.datetime64(date.today() - timedelta(1))\n",
    "today2 = date.today().strftime('%d-%m-%Y')"
   ]
  },
  {
   "cell_type": "code",
   "execution_count": 6,
   "metadata": {},
   "outputs": [],
   "source": [
    "#Funcion para transformar varias columnas a numero\n",
    "def transform_numeric(df,cols):\n",
    "    return df[cols].apply(pd.to_numeric, errors='coerce')\n",
    "\n",
    "#Funcion que convierte a dataframe y rellena espacios con 0\n",
    "def to_dataframe(df):\n",
    "    df = pd.DataFrame(df.to_records())\n",
    "    df.fillna(0,inplace=True)\n",
    "    return df\n",
    "\n",
    "#Funcion que quita el % del string\n",
    "def percent_tonumeric(df,cols):\n",
    "    for c in cols:\n",
    "        df[c] = [x[:-2] for x in df[c]]\n",
    "    return transform_numeric(df,cols)"
   ]
  },
  {
   "cell_type": "code",
   "execution_count": 7,
   "metadata": {},
   "outputs": [],
   "source": [
    "#Hacemos la asignacion de cada una de las metas para cambiar de arancel sin tomar el 0 en cuenta\n",
    "c04pv1, arancel_4pv1 = 1204704, .07\n",
    "c04pv2, arancel_4pv2 = 1807056, .09\n",
    "c04pv3, arancel_4pv3 = 2409407, .12\n",
    "c05pv1, arancel_5pv1 = 662269, .09\n",
    "c05pv2, arancel_5pv2 = 993403, .10\n",
    "c05pv3, arancel_5pv3 = 1324538, .14\n",
    "c06pv1, arancel_6pv1 = 807172, .10\n",
    "c06pv2, arancel_6pv2 = 1210759, .11\n",
    "c06pv3, arancel_6pv3 = 1614345, .16\n",
    "a1, arancel_a1 = 260190, .27\n",
    "a2, arancel_a2 = 390285, .30\n",
    "a3, arancel_a3 = 520381, .33\n",
    "b1, arancel_b1 = 215083, .25\n",
    "b2, arancel_b2 = 322624, .28\n",
    "b3, arancel_b3 = 430165, .31\n",
    "c11, arancel_c11 = 1430989, .17\n",
    "c12, arancel_c12 = 2146483, .20\n",
    "c13, arancel_c13 = 2861978, .23\n",
    "c21, arancel_c21 = 626634, .19\n",
    "c22, arancel_c22 = 939951, .22\n",
    "c23, arancel_c23 = 1253267, .25\n",
    "c31, arancel_c31 = 246425, .21\n",
    "c32, arancel_c32 = 369637, .24\n",
    "c33, arancel_c33 = 492849, .27\n",
    "c41, arancel_c41 = 123529, .23\n",
    "c42, arancel_c42 = 185294, .26\n",
    "c43, arancel_c43 = 247059, .29"
   ]
  },
  {
   "source": [
    "# Llamadas detallado Liverpool Bradesco"
   ],
   "cell_type": "markdown",
   "metadata": {}
  },
  {
   "cell_type": "code",
   "execution_count": 8,
   "metadata": {},
   "outputs": [
    {
     "output_type": "execute_result",
     "data": {
      "text/plain": [
       "       server_ip            uniqueid call_type           call_date  \\\n",
       "0  192.168.15.21  1609483969.1374923   Inbound 2021-01-01 00:52:50   \n",
       "\n",
       "  campaign_id      campaign_name list_id             list_name   lead_id  \\\n",
       "0     1102_IN  LIVERPOOL_BLASTER     999  Default inbound list  34186185   \n",
       "\n",
       "  vendor_lead_id  ... call_time_short call_time_hour call_range_hour  \\\n",
       "0     3331298280  ... 0 days 00:52:50              0   00:00 - 01:00   \n",
       "\n",
       "  dialstatus hangup_cause sip_hangup_cause  carrier  areacode  state  \\\n",
       "0     ANSWER           16           200 OK  INBOUND       333    JAL   \n",
       "\n",
       "      region  \n",
       "0  OCCIDENTE  \n",
       "\n",
       "[1 rows x 30 columns]"
      ],
      "text/html": "<div>\n<style scoped>\n    .dataframe tbody tr th:only-of-type {\n        vertical-align: middle;\n    }\n\n    .dataframe tbody tr th {\n        vertical-align: top;\n    }\n\n    .dataframe thead th {\n        text-align: right;\n    }\n</style>\n<table border=\"1\" class=\"dataframe\">\n  <thead>\n    <tr style=\"text-align: right;\">\n      <th></th>\n      <th>server_ip</th>\n      <th>uniqueid</th>\n      <th>call_type</th>\n      <th>call_date</th>\n      <th>campaign_id</th>\n      <th>campaign_name</th>\n      <th>list_id</th>\n      <th>list_name</th>\n      <th>lead_id</th>\n      <th>vendor_lead_id</th>\n      <th>...</th>\n      <th>call_time_short</th>\n      <th>call_time_hour</th>\n      <th>call_range_hour</th>\n      <th>dialstatus</th>\n      <th>hangup_cause</th>\n      <th>sip_hangup_cause</th>\n      <th>carrier</th>\n      <th>areacode</th>\n      <th>state</th>\n      <th>region</th>\n    </tr>\n  </thead>\n  <tbody>\n    <tr>\n      <th>0</th>\n      <td>192.168.15.21</td>\n      <td>1609483969.1374923</td>\n      <td>Inbound</td>\n      <td>2021-01-01 00:52:50</td>\n      <td>1102_IN</td>\n      <td>LIVERPOOL_BLASTER</td>\n      <td>999</td>\n      <td>Default inbound list</td>\n      <td>34186185</td>\n      <td>3331298280</td>\n      <td>...</td>\n      <td>0 days 00:52:50</td>\n      <td>0</td>\n      <td>00:00 - 01:00</td>\n      <td>ANSWER</td>\n      <td>16</td>\n      <td>200 OK</td>\n      <td>INBOUND</td>\n      <td>333</td>\n      <td>JAL</td>\n      <td>OCCIDENTE</td>\n    </tr>\n  </tbody>\n</table>\n<p>1 rows × 30 columns</p>\n</div>"
     },
     "metadata": {},
     "execution_count": 8
    }
   ],
   "source": [
    "#Hacemos la consulta referente a las llamadas de Liverpool\n",
    "llamadas_liv = cs.query_naucalpan('procesos_externos.all_rpt_llamadas_detallado',mes,today,'(^LIV)')\n",
    "llamadas_liv.columns = ['server_ip','uniqueid','call_type','call_date','campaign_id','campaign_name','list_id','list_name','lead_id','vendor_lead_id','vendor_lead_name','phone_number','status','status_name','username','full_name','term_reason_call','queue_seconds','length_in_sec','call_date_short','call_time_short','call_time_hour','call_range_hour','dialstatus','hangup_cause','sip_hangup_cause','carrier','areacode','state','region']\n",
    "llamadas_liv.head(1)"
   ]
  },
  {
   "cell_type": "code",
   "execution_count": 9,
   "metadata": {},
   "outputs": [
    {
     "output_type": "execute_result",
     "data": {
      "text/plain": [
       "       server_ip            uniqueid call_type           call_date  \\\n",
       "0  192.168.15.21  1609502079.1374953   Inbound 2021-01-01 05:54:40   \n",
       "\n",
       "  campaign_id  campaign_name list_id             list_name   lead_id  \\\n",
       "0     1001_IN  BRADESCO_CALL     999  Default inbound list  33306642   \n",
       "\n",
       "  vendor_lead_id  ... call_time_short call_time_hour call_range_hour  \\\n",
       "0     3326563987  ... 0 days 05:54:40              5   05:00 - 06:00   \n",
       "\n",
       "  dialstatus hangup_cause sip_hangup_cause  carrier  areacode  state  \\\n",
       "0     ANSWER           16           200 OK  INBOUND       332    JAL   \n",
       "\n",
       "      region  \n",
       "0  OCCIDENTE  \n",
       "\n",
       "[1 rows x 30 columns]"
      ],
      "text/html": "<div>\n<style scoped>\n    .dataframe tbody tr th:only-of-type {\n        vertical-align: middle;\n    }\n\n    .dataframe tbody tr th {\n        vertical-align: top;\n    }\n\n    .dataframe thead th {\n        text-align: right;\n    }\n</style>\n<table border=\"1\" class=\"dataframe\">\n  <thead>\n    <tr style=\"text-align: right;\">\n      <th></th>\n      <th>server_ip</th>\n      <th>uniqueid</th>\n      <th>call_type</th>\n      <th>call_date</th>\n      <th>campaign_id</th>\n      <th>campaign_name</th>\n      <th>list_id</th>\n      <th>list_name</th>\n      <th>lead_id</th>\n      <th>vendor_lead_id</th>\n      <th>...</th>\n      <th>call_time_short</th>\n      <th>call_time_hour</th>\n      <th>call_range_hour</th>\n      <th>dialstatus</th>\n      <th>hangup_cause</th>\n      <th>sip_hangup_cause</th>\n      <th>carrier</th>\n      <th>areacode</th>\n      <th>state</th>\n      <th>region</th>\n    </tr>\n  </thead>\n  <tbody>\n    <tr>\n      <th>0</th>\n      <td>192.168.15.21</td>\n      <td>1609502079.1374953</td>\n      <td>Inbound</td>\n      <td>2021-01-01 05:54:40</td>\n      <td>1001_IN</td>\n      <td>BRADESCO_CALL</td>\n      <td>999</td>\n      <td>Default inbound list</td>\n      <td>33306642</td>\n      <td>3326563987</td>\n      <td>...</td>\n      <td>0 days 05:54:40</td>\n      <td>5</td>\n      <td>05:00 - 06:00</td>\n      <td>ANSWER</td>\n      <td>16</td>\n      <td>200 OK</td>\n      <td>INBOUND</td>\n      <td>332</td>\n      <td>JAL</td>\n      <td>OCCIDENTE</td>\n    </tr>\n  </tbody>\n</table>\n<p>1 rows × 30 columns</p>\n</div>"
     },
     "metadata": {},
     "execution_count": 9
    }
   ],
   "source": [
    "#Hacemos la consulta referente a las llamadas de Bradesco\n",
    "llamadas_brad = cs.query_naucalpan('procesos_externos.all_rpt_llamadas_detallado',mes,today,'(^BRAD)')\n",
    "llamadas_brad.columns = ['server_ip','uniqueid','call_type','call_date','campaign_id','campaign_name','list_id','list_name','lead_id','vendor_lead_id','vendor_lead_name','phone_number','status','status_name','username','full_name','term_reason_call','queue_seconds','length_in_sec','call_date_short','call_time_short','call_time_hour','call_range_hour','dialstatus','hangup_cause','sip_hangup_cause','carrier','areacode','state','region']\n",
    "llamadas_brad.head(1)"
   ]
  },
  {
   "cell_type": "code",
   "execution_count": 10,
   "metadata": {},
   "outputs": [],
   "source": [
    "llamadas_liv_brad = pd.concat([llamadas_liv,llamadas_brad],ignore_index=True)"
   ]
  },
  {
   "cell_type": "code",
   "execution_count": 11,
   "metadata": {},
   "outputs": [],
   "source": [
    "llamadas_liv_brad['turno'] = np.where(llamadas_liv_brad['call_time_hour']<=14,'M','V')"
   ]
  },
  {
   "cell_type": "code",
   "execution_count": 12,
   "metadata": {},
   "outputs": [
    {
     "output_type": "execute_result",
     "data": {
      "text/plain": [
       "                               Gestor Turno  NumeroGestionesB  \\\n",
       "0                                         M                 1   \n",
       "1              AGUILAR MACEDO VALERIA     M              1544   \n",
       "2              AGUILAR MACEDO VALERIA     V               407   \n",
       "3       AGUILAR RIOS DANIEL ALEJANDRO     M              4762   \n",
       "4       AGUILAR RIOS DANIEL ALEJANDRO     V               155   \n",
       "..                                ...   ...               ...   \n",
       "113  VAZQUEZ SANCHEZ LINNETH BERENICE     V               731   \n",
       "114            VEGA HERNANDEZ NATALIE     M              2742   \n",
       "115            VEGA HERNANDEZ NATALIE     V               556   \n",
       "116        ZARZA NORIA JEFREY ALBERTO     M              1748   \n",
       "117        ZARZA NORIA JEFREY ALBERTO     V              1793   \n",
       "\n",
       "     TiempoTotalSegB  PromedioLlamadaSegB  TiempoTotalMinB  \n",
       "0                  0             0.000000         0.000000  \n",
       "1              57752            37.404145       962.533333  \n",
       "2              13011            31.968059       216.850000  \n",
       "3              97642            20.504410      1627.366667  \n",
       "4               6013            38.793548       100.216667  \n",
       "..               ...                  ...              ...  \n",
       "113            44220            60.492476       737.000000  \n",
       "114           189555            69.130197      3159.250000  \n",
       "115            41841            75.253597       697.350000  \n",
       "116            97512            55.784897      1625.200000  \n",
       "117           101796            56.774122      1696.600000  \n",
       "\n",
       "[118 rows x 6 columns]"
      ],
      "text/html": "<div>\n<style scoped>\n    .dataframe tbody tr th:only-of-type {\n        vertical-align: middle;\n    }\n\n    .dataframe tbody tr th {\n        vertical-align: top;\n    }\n\n    .dataframe thead th {\n        text-align: right;\n    }\n</style>\n<table border=\"1\" class=\"dataframe\">\n  <thead>\n    <tr style=\"text-align: right;\">\n      <th></th>\n      <th>Gestor</th>\n      <th>Turno</th>\n      <th>NumeroGestionesB</th>\n      <th>TiempoTotalSegB</th>\n      <th>PromedioLlamadaSegB</th>\n      <th>TiempoTotalMinB</th>\n    </tr>\n  </thead>\n  <tbody>\n    <tr>\n      <th>0</th>\n      <td></td>\n      <td>M</td>\n      <td>1</td>\n      <td>0</td>\n      <td>0.000000</td>\n      <td>0.000000</td>\n    </tr>\n    <tr>\n      <th>1</th>\n      <td>AGUILAR MACEDO VALERIA</td>\n      <td>M</td>\n      <td>1544</td>\n      <td>57752</td>\n      <td>37.404145</td>\n      <td>962.533333</td>\n    </tr>\n    <tr>\n      <th>2</th>\n      <td>AGUILAR MACEDO VALERIA</td>\n      <td>V</td>\n      <td>407</td>\n      <td>13011</td>\n      <td>31.968059</td>\n      <td>216.850000</td>\n    </tr>\n    <tr>\n      <th>3</th>\n      <td>AGUILAR RIOS DANIEL ALEJANDRO</td>\n      <td>M</td>\n      <td>4762</td>\n      <td>97642</td>\n      <td>20.504410</td>\n      <td>1627.366667</td>\n    </tr>\n    <tr>\n      <th>4</th>\n      <td>AGUILAR RIOS DANIEL ALEJANDRO</td>\n      <td>V</td>\n      <td>155</td>\n      <td>6013</td>\n      <td>38.793548</td>\n      <td>100.216667</td>\n    </tr>\n    <tr>\n      <th>...</th>\n      <td>...</td>\n      <td>...</td>\n      <td>...</td>\n      <td>...</td>\n      <td>...</td>\n      <td>...</td>\n    </tr>\n    <tr>\n      <th>113</th>\n      <td>VAZQUEZ SANCHEZ LINNETH BERENICE</td>\n      <td>V</td>\n      <td>731</td>\n      <td>44220</td>\n      <td>60.492476</td>\n      <td>737.000000</td>\n    </tr>\n    <tr>\n      <th>114</th>\n      <td>VEGA HERNANDEZ NATALIE</td>\n      <td>M</td>\n      <td>2742</td>\n      <td>189555</td>\n      <td>69.130197</td>\n      <td>3159.250000</td>\n    </tr>\n    <tr>\n      <th>115</th>\n      <td>VEGA HERNANDEZ NATALIE</td>\n      <td>V</td>\n      <td>556</td>\n      <td>41841</td>\n      <td>75.253597</td>\n      <td>697.350000</td>\n    </tr>\n    <tr>\n      <th>116</th>\n      <td>ZARZA NORIA JEFREY ALBERTO</td>\n      <td>M</td>\n      <td>1748</td>\n      <td>97512</td>\n      <td>55.784897</td>\n      <td>1625.200000</td>\n    </tr>\n    <tr>\n      <th>117</th>\n      <td>ZARZA NORIA JEFREY ALBERTO</td>\n      <td>V</td>\n      <td>1793</td>\n      <td>101796</td>\n      <td>56.774122</td>\n      <td>1696.600000</td>\n    </tr>\n  </tbody>\n</table>\n<p>118 rows × 6 columns</p>\n</div>"
     },
     "metadata": {},
     "execution_count": 12
    }
   ],
   "source": [
    "#Obtenemos el performance bruto de cada gestor\n",
    "control_gestores_bruto_brad = pd.pivot_table(llamadas_liv_brad,index=['full_name','turno'],values=['length_in_sec'],aggfunc=[np.sum,np.mean,'count'])\n",
    "control_gestores_bruto_brad = to_dataframe(control_gestores_bruto_brad)\n",
    "control_gestores_bruto_brad = control_gestores_bruto_brad.iloc[:,[0,1,4,2,3]]\n",
    "control_gestores_bruto_brad.columns = ['Gestor','Turno','NumeroGestionesB','TiempoTotalSegB','PromedioLlamadaSegB']\n",
    "control_gestores_bruto_brad['TiempoTotalMinB'] = [x/60 for x in control_gestores_bruto_brad['TiempoTotalSegB']]\n",
    "control_gestores_bruto_brad"
   ]
  },
  {
   "cell_type": "code",
   "execution_count": 13,
   "metadata": {},
   "outputs": [],
   "source": [
    "#Obtenemos el performance de las llamadas contestadas\n",
    "llamadas_liv_brad2 = llamadas_liv_brad.loc[llamadas_liv_brad['status_name'].isin(['Contacto con titular','Promesa de pago','Mensaje con terceros','Mensaje con familiar','Negativa de pago','Contacto familiar','Agendar llamada'])]\n",
    "control_gestores_llamadas_brad = pd.pivot_table(llamadas_liv_brad2,index=['full_name','turno'],values=['length_in_sec'],aggfunc=[np.sum,np.mean,'count'])\n",
    "control_gestores_llamadas_brad = to_dataframe(control_gestores_llamadas_brad)\n",
    "control_gestores_llamadas_brad = control_gestores_llamadas_brad.iloc[:,[0,1,4,2,3]]\n",
    "control_gestores_llamadas_brad.columns = ['Gestor','Turno','NumeroGestiones','TiempoTotalSeg','PromedioLlamadaSeg']\n",
    "control_gestores_llamadas_brad['TiempoTotalMin'] = [x/60 for x in control_gestores_llamadas_brad['TiempoTotalSeg']]\n",
    "#control_gestores_llamadas_brad"
   ]
  },
  {
   "cell_type": "code",
   "execution_count": 14,
   "metadata": {},
   "outputs": [
    {
     "output_type": "execute_result",
     "data": {
      "text/plain": [
       "                   Gestor Turno  NumeroGestionesB  TiempoTotalSegB  \\\n",
       "0                             M                 1                0   \n",
       "1  AGUILAR MACEDO VALERIA     M              1544            57752   \n",
       "\n",
       "   PromedioLlamadaSegB  TiempoTotalMinB  NumeroGestiones  TiempoTotalSeg  \\\n",
       "0             0.000000         0.000000              0.0             0.0   \n",
       "1            37.404145       962.533333             75.0          7425.0   \n",
       "\n",
       "   PromedioLlamadaSeg  TiempoTotalMin  \n",
       "0                 0.0            0.00  \n",
       "1                99.0          123.75  "
      ],
      "text/html": "<div>\n<style scoped>\n    .dataframe tbody tr th:only-of-type {\n        vertical-align: middle;\n    }\n\n    .dataframe tbody tr th {\n        vertical-align: top;\n    }\n\n    .dataframe thead th {\n        text-align: right;\n    }\n</style>\n<table border=\"1\" class=\"dataframe\">\n  <thead>\n    <tr style=\"text-align: right;\">\n      <th></th>\n      <th>Gestor</th>\n      <th>Turno</th>\n      <th>NumeroGestionesB</th>\n      <th>TiempoTotalSegB</th>\n      <th>PromedioLlamadaSegB</th>\n      <th>TiempoTotalMinB</th>\n      <th>NumeroGestiones</th>\n      <th>TiempoTotalSeg</th>\n      <th>PromedioLlamadaSeg</th>\n      <th>TiempoTotalMin</th>\n    </tr>\n  </thead>\n  <tbody>\n    <tr>\n      <th>0</th>\n      <td></td>\n      <td>M</td>\n      <td>1</td>\n      <td>0</td>\n      <td>0.000000</td>\n      <td>0.000000</td>\n      <td>0.0</td>\n      <td>0.0</td>\n      <td>0.0</td>\n      <td>0.00</td>\n    </tr>\n    <tr>\n      <th>1</th>\n      <td>AGUILAR MACEDO VALERIA</td>\n      <td>M</td>\n      <td>1544</td>\n      <td>57752</td>\n      <td>37.404145</td>\n      <td>962.533333</td>\n      <td>75.0</td>\n      <td>7425.0</td>\n      <td>99.0</td>\n      <td>123.75</td>\n    </tr>\n  </tbody>\n</table>\n</div>"
     },
     "metadata": {},
     "execution_count": 14
    }
   ],
   "source": [
    "control_liv_consol_turno = pd.merge(control_gestores_bruto_brad,control_gestores_llamadas_brad,how='left',on=['Gestor','Turno'])\n",
    "control_liv_consol_turno.fillna(0,inplace=True)\n",
    "control_liv_consol_turno.head(2)"
   ]
  },
  {
   "cell_type": "code",
   "execution_count": 15,
   "metadata": {},
   "outputs": [
    {
     "output_type": "execute_result",
     "data": {
      "text/plain": [
       "                                  Gestor  NumeroGestiones  TiempoTotalSeg  \\\n",
       "0                 AGUILAR MACEDO VALERIA               97           10062   \n",
       "1          AGUILAR RIOS DANIEL ALEJANDRO               10             312   \n",
       "2             ALANIZ DIAZ ALISON JOCELIN               38            6898   \n",
       "3       ALEJANDRA YESENIA HERNANDEZ BITE               69           11035   \n",
       "4               AMADOR FLORES LUIS ANGEL               82           13323   \n",
       "5            BALBUENA MACEDO EDGAR URIEL               64           14619   \n",
       "6        BARRETO OSEGUERA MARIA FERNANDA              148           18712   \n",
       "7                  BERENICE GUZMAN JAIME               59            7868   \n",
       "8            BERNAL TREJO MARIA FERNANDA              164           22673   \n",
       "9         CARRANCO ZAMORA JAIME WALBERTO              114           22264   \n",
       "10  CASTILLEJO CASTILLEJO DULCE MICHELLE              181           21083   \n",
       "11               CASTRO REZA IRVING YAEL               27            3769   \n",
       "12                 CID IRINEO ROSA ISELA              239           33969   \n",
       "13           COLULA CALIXTO MIGUEL ANGEL               82           13634   \n",
       "14                   CRUZ SALAZAR XIMENA               20            6001   \n",
       "15                DANIEL PINEDA ALVARADO               50           10265   \n",
       "16                      DIAZ DIAZ LEONOR               30            5533   \n",
       "17      ESCALONA ZUNIGA FRANCISCO JAVIER               31            4028   \n",
       "18          ESCOBAR MONROY BRENDA IVONNE                2             274   \n",
       "19         GARCIA JIMENEZ ALONDRA YAZMIN              246           50169   \n",
       "20                GOMEZ CARRILLO LETICIA              113           20346   \n",
       "21                  GONZALEZ TOTO BRENDA               64           18336   \n",
       "22    GUADALUPE MAYELA HERNANDEZ MENDITA              155           18660   \n",
       "23             HERNANDEZ GONZALEZ SANDRA               83           15728   \n",
       "24          HERNANDEZ MEDEL LUIS ENRIQUE              209           31863   \n",
       "25          HUERTA LOPEZ NATALIA XOCHITL               74           19328   \n",
       "26                 JUAREZ ROBLEDO LORENA              238           28640   \n",
       "27            LIZBETH INELVA LUNA COLULA               54           15704   \n",
       "28             LOPEZ ESTRADA MA. IGNACIA              259           52313   \n",
       "29                 LOPEZ VASQUEZ YOSELIN               95           10625   \n",
       "30      LORAYNI GUADALUPE OSNAYA VAZQUEZ               19            2304   \n",
       "31     LUCIA ESMERALDA LONGORIA CISNEROS               12             885   \n",
       "32         MADRID GARCIA MARIA GUADALUPE              140           28044   \n",
       "33                  MANUEL BUSTOS LUCERO               61           10070   \n",
       "34                 MEDINA ARIAS MAURICIO               55            7110   \n",
       "35                MIRIAM PEINADO ALVAREZ              146           13060   \n",
       "36        MISHELLLE ADYANI CHAVEZ CASTRO                1              27   \n",
       "37              MUNOZ BORJA KATYA MUSMED              136           20436   \n",
       "38                OROZCO GONZALEZ BRENDA              218           33508   \n",
       "39            QUINTOS ARVIZU LUIS DANIEL               70            9574   \n",
       "40          RAMIREZ OSORIO CESAR AUGUSTO               21            2396   \n",
       "41        RAMIREZ REYES LESLIE GUADALUPE               18            4767   \n",
       "42          RODRIGUEZ HERNANDEZ CRISTIAN               20            2717   \n",
       "43              RODRIGUEZ MARQUEZ JAVIER               48           10473   \n",
       "44         RODRIGUEZ PAZ DIANA ELIZABETH               34            8184   \n",
       "45             ROSAS TREJO JESUS EDUARDO              369           38860   \n",
       "46           RUIZ CASIMIRO MARCO ANTONIO               87           12496   \n",
       "47                  TORRES NARVAEZ MAYTE               32            5407   \n",
       "48        TREJO MONTESINOS JORGE JHOVANI              233           36743   \n",
       "49          TRON FIERROS FELIPE DE JESUS              146           23929   \n",
       "50        VARGAS CANCINO AURENY ARISBETH              161           24660   \n",
       "51      VAZQUEZ SANCHEZ LINNETH BERENICE               52           15542   \n",
       "52                VEGA HERNANDEZ NATALIE              269           45408   \n",
       "53            ZARZA NORIA JEFREY ALBERTO                5             752   \n",
       "\n",
       "    PromedioLlamadaSeg  TiempoTotalMin  \n",
       "0           103.731959      167.700000  \n",
       "1            31.200000        5.200000  \n",
       "2           181.526316      114.966667  \n",
       "3           159.927536      183.916667  \n",
       "4           162.475610      222.050000  \n",
       "5           228.421875      243.650000  \n",
       "6           126.432432      311.866667  \n",
       "7           133.355932      131.133333  \n",
       "8           138.250000      377.883333  \n",
       "9           195.298246      371.066667  \n",
       "10          116.480663      351.383333  \n",
       "11          139.592593       62.816667  \n",
       "12          142.129707      566.150000  \n",
       "13          166.268293      227.233333  \n",
       "14          300.050000      100.016667  \n",
       "15          205.300000      171.083333  \n",
       "16          184.433333       92.216667  \n",
       "17          129.935484       67.133333  \n",
       "18          137.000000        4.566667  \n",
       "19          203.939024      836.150000  \n",
       "20          180.053097      339.100000  \n",
       "21          286.500000      305.600000  \n",
       "22          120.387097      311.000000  \n",
       "23          189.493976      262.133333  \n",
       "24          152.454545      531.050000  \n",
       "25          261.189189      322.133333  \n",
       "26          120.336134      477.333333  \n",
       "27          290.814815      261.733333  \n",
       "28          201.980695      871.883333  \n",
       "29          111.842105      177.083333  \n",
       "30          121.263158       38.400000  \n",
       "31           73.750000       14.750000  \n",
       "32          200.314286      467.400000  \n",
       "33          165.081967      167.833333  \n",
       "34          129.272727      118.500000  \n",
       "35           89.452055      217.666667  \n",
       "36           27.000000        0.450000  \n",
       "37          150.264706      340.600000  \n",
       "38          153.706422      558.466667  \n",
       "39          136.771429      159.566667  \n",
       "40          114.095238       39.933333  \n",
       "41          264.833333       79.450000  \n",
       "42          135.850000       45.283333  \n",
       "43          218.187500      174.550000  \n",
       "44          240.705882      136.400000  \n",
       "45          105.311653      647.666667  \n",
       "46          143.632184      208.266667  \n",
       "47          168.968750       90.116667  \n",
       "48          157.695279      612.383333  \n",
       "49          163.897260      398.816667  \n",
       "50          153.167702      411.000000  \n",
       "51          298.884615      259.033333  \n",
       "52          168.802974      756.800000  \n",
       "53          150.400000       12.533333  "
      ],
      "text/html": "<div>\n<style scoped>\n    .dataframe tbody tr th:only-of-type {\n        vertical-align: middle;\n    }\n\n    .dataframe tbody tr th {\n        vertical-align: top;\n    }\n\n    .dataframe thead th {\n        text-align: right;\n    }\n</style>\n<table border=\"1\" class=\"dataframe\">\n  <thead>\n    <tr style=\"text-align: right;\">\n      <th></th>\n      <th>Gestor</th>\n      <th>NumeroGestiones</th>\n      <th>TiempoTotalSeg</th>\n      <th>PromedioLlamadaSeg</th>\n      <th>TiempoTotalMin</th>\n    </tr>\n  </thead>\n  <tbody>\n    <tr>\n      <th>0</th>\n      <td>AGUILAR MACEDO VALERIA</td>\n      <td>97</td>\n      <td>10062</td>\n      <td>103.731959</td>\n      <td>167.700000</td>\n    </tr>\n    <tr>\n      <th>1</th>\n      <td>AGUILAR RIOS DANIEL ALEJANDRO</td>\n      <td>10</td>\n      <td>312</td>\n      <td>31.200000</td>\n      <td>5.200000</td>\n    </tr>\n    <tr>\n      <th>2</th>\n      <td>ALANIZ DIAZ ALISON JOCELIN</td>\n      <td>38</td>\n      <td>6898</td>\n      <td>181.526316</td>\n      <td>114.966667</td>\n    </tr>\n    <tr>\n      <th>3</th>\n      <td>ALEJANDRA YESENIA HERNANDEZ BITE</td>\n      <td>69</td>\n      <td>11035</td>\n      <td>159.927536</td>\n      <td>183.916667</td>\n    </tr>\n    <tr>\n      <th>4</th>\n      <td>AMADOR FLORES LUIS ANGEL</td>\n      <td>82</td>\n      <td>13323</td>\n      <td>162.475610</td>\n      <td>222.050000</td>\n    </tr>\n    <tr>\n      <th>5</th>\n      <td>BALBUENA MACEDO EDGAR URIEL</td>\n      <td>64</td>\n      <td>14619</td>\n      <td>228.421875</td>\n      <td>243.650000</td>\n    </tr>\n    <tr>\n      <th>6</th>\n      <td>BARRETO OSEGUERA MARIA FERNANDA</td>\n      <td>148</td>\n      <td>18712</td>\n      <td>126.432432</td>\n      <td>311.866667</td>\n    </tr>\n    <tr>\n      <th>7</th>\n      <td>BERENICE GUZMAN JAIME</td>\n      <td>59</td>\n      <td>7868</td>\n      <td>133.355932</td>\n      <td>131.133333</td>\n    </tr>\n    <tr>\n      <th>8</th>\n      <td>BERNAL TREJO MARIA FERNANDA</td>\n      <td>164</td>\n      <td>22673</td>\n      <td>138.250000</td>\n      <td>377.883333</td>\n    </tr>\n    <tr>\n      <th>9</th>\n      <td>CARRANCO ZAMORA JAIME WALBERTO</td>\n      <td>114</td>\n      <td>22264</td>\n      <td>195.298246</td>\n      <td>371.066667</td>\n    </tr>\n    <tr>\n      <th>10</th>\n      <td>CASTILLEJO CASTILLEJO DULCE MICHELLE</td>\n      <td>181</td>\n      <td>21083</td>\n      <td>116.480663</td>\n      <td>351.383333</td>\n    </tr>\n    <tr>\n      <th>11</th>\n      <td>CASTRO REZA IRVING YAEL</td>\n      <td>27</td>\n      <td>3769</td>\n      <td>139.592593</td>\n      <td>62.816667</td>\n    </tr>\n    <tr>\n      <th>12</th>\n      <td>CID IRINEO ROSA ISELA</td>\n      <td>239</td>\n      <td>33969</td>\n      <td>142.129707</td>\n      <td>566.150000</td>\n    </tr>\n    <tr>\n      <th>13</th>\n      <td>COLULA CALIXTO MIGUEL ANGEL</td>\n      <td>82</td>\n      <td>13634</td>\n      <td>166.268293</td>\n      <td>227.233333</td>\n    </tr>\n    <tr>\n      <th>14</th>\n      <td>CRUZ SALAZAR XIMENA</td>\n      <td>20</td>\n      <td>6001</td>\n      <td>300.050000</td>\n      <td>100.016667</td>\n    </tr>\n    <tr>\n      <th>15</th>\n      <td>DANIEL PINEDA ALVARADO</td>\n      <td>50</td>\n      <td>10265</td>\n      <td>205.300000</td>\n      <td>171.083333</td>\n    </tr>\n    <tr>\n      <th>16</th>\n      <td>DIAZ DIAZ LEONOR</td>\n      <td>30</td>\n      <td>5533</td>\n      <td>184.433333</td>\n      <td>92.216667</td>\n    </tr>\n    <tr>\n      <th>17</th>\n      <td>ESCALONA ZUNIGA FRANCISCO JAVIER</td>\n      <td>31</td>\n      <td>4028</td>\n      <td>129.935484</td>\n      <td>67.133333</td>\n    </tr>\n    <tr>\n      <th>18</th>\n      <td>ESCOBAR MONROY BRENDA IVONNE</td>\n      <td>2</td>\n      <td>274</td>\n      <td>137.000000</td>\n      <td>4.566667</td>\n    </tr>\n    <tr>\n      <th>19</th>\n      <td>GARCIA JIMENEZ ALONDRA YAZMIN</td>\n      <td>246</td>\n      <td>50169</td>\n      <td>203.939024</td>\n      <td>836.150000</td>\n    </tr>\n    <tr>\n      <th>20</th>\n      <td>GOMEZ CARRILLO LETICIA</td>\n      <td>113</td>\n      <td>20346</td>\n      <td>180.053097</td>\n      <td>339.100000</td>\n    </tr>\n    <tr>\n      <th>21</th>\n      <td>GONZALEZ TOTO BRENDA</td>\n      <td>64</td>\n      <td>18336</td>\n      <td>286.500000</td>\n      <td>305.600000</td>\n    </tr>\n    <tr>\n      <th>22</th>\n      <td>GUADALUPE MAYELA HERNANDEZ MENDITA</td>\n      <td>155</td>\n      <td>18660</td>\n      <td>120.387097</td>\n      <td>311.000000</td>\n    </tr>\n    <tr>\n      <th>23</th>\n      <td>HERNANDEZ GONZALEZ SANDRA</td>\n      <td>83</td>\n      <td>15728</td>\n      <td>189.493976</td>\n      <td>262.133333</td>\n    </tr>\n    <tr>\n      <th>24</th>\n      <td>HERNANDEZ MEDEL LUIS ENRIQUE</td>\n      <td>209</td>\n      <td>31863</td>\n      <td>152.454545</td>\n      <td>531.050000</td>\n    </tr>\n    <tr>\n      <th>25</th>\n      <td>HUERTA LOPEZ NATALIA XOCHITL</td>\n      <td>74</td>\n      <td>19328</td>\n      <td>261.189189</td>\n      <td>322.133333</td>\n    </tr>\n    <tr>\n      <th>26</th>\n      <td>JUAREZ ROBLEDO LORENA</td>\n      <td>238</td>\n      <td>28640</td>\n      <td>120.336134</td>\n      <td>477.333333</td>\n    </tr>\n    <tr>\n      <th>27</th>\n      <td>LIZBETH INELVA LUNA COLULA</td>\n      <td>54</td>\n      <td>15704</td>\n      <td>290.814815</td>\n      <td>261.733333</td>\n    </tr>\n    <tr>\n      <th>28</th>\n      <td>LOPEZ ESTRADA MA. IGNACIA</td>\n      <td>259</td>\n      <td>52313</td>\n      <td>201.980695</td>\n      <td>871.883333</td>\n    </tr>\n    <tr>\n      <th>29</th>\n      <td>LOPEZ VASQUEZ YOSELIN</td>\n      <td>95</td>\n      <td>10625</td>\n      <td>111.842105</td>\n      <td>177.083333</td>\n    </tr>\n    <tr>\n      <th>30</th>\n      <td>LORAYNI GUADALUPE OSNAYA VAZQUEZ</td>\n      <td>19</td>\n      <td>2304</td>\n      <td>121.263158</td>\n      <td>38.400000</td>\n    </tr>\n    <tr>\n      <th>31</th>\n      <td>LUCIA ESMERALDA LONGORIA CISNEROS</td>\n      <td>12</td>\n      <td>885</td>\n      <td>73.750000</td>\n      <td>14.750000</td>\n    </tr>\n    <tr>\n      <th>32</th>\n      <td>MADRID GARCIA MARIA GUADALUPE</td>\n      <td>140</td>\n      <td>28044</td>\n      <td>200.314286</td>\n      <td>467.400000</td>\n    </tr>\n    <tr>\n      <th>33</th>\n      <td>MANUEL BUSTOS LUCERO</td>\n      <td>61</td>\n      <td>10070</td>\n      <td>165.081967</td>\n      <td>167.833333</td>\n    </tr>\n    <tr>\n      <th>34</th>\n      <td>MEDINA ARIAS MAURICIO</td>\n      <td>55</td>\n      <td>7110</td>\n      <td>129.272727</td>\n      <td>118.500000</td>\n    </tr>\n    <tr>\n      <th>35</th>\n      <td>MIRIAM PEINADO ALVAREZ</td>\n      <td>146</td>\n      <td>13060</td>\n      <td>89.452055</td>\n      <td>217.666667</td>\n    </tr>\n    <tr>\n      <th>36</th>\n      <td>MISHELLLE ADYANI CHAVEZ CASTRO</td>\n      <td>1</td>\n      <td>27</td>\n      <td>27.000000</td>\n      <td>0.450000</td>\n    </tr>\n    <tr>\n      <th>37</th>\n      <td>MUNOZ BORJA KATYA MUSMED</td>\n      <td>136</td>\n      <td>20436</td>\n      <td>150.264706</td>\n      <td>340.600000</td>\n    </tr>\n    <tr>\n      <th>38</th>\n      <td>OROZCO GONZALEZ BRENDA</td>\n      <td>218</td>\n      <td>33508</td>\n      <td>153.706422</td>\n      <td>558.466667</td>\n    </tr>\n    <tr>\n      <th>39</th>\n      <td>QUINTOS ARVIZU LUIS DANIEL</td>\n      <td>70</td>\n      <td>9574</td>\n      <td>136.771429</td>\n      <td>159.566667</td>\n    </tr>\n    <tr>\n      <th>40</th>\n      <td>RAMIREZ OSORIO CESAR AUGUSTO</td>\n      <td>21</td>\n      <td>2396</td>\n      <td>114.095238</td>\n      <td>39.933333</td>\n    </tr>\n    <tr>\n      <th>41</th>\n      <td>RAMIREZ REYES LESLIE GUADALUPE</td>\n      <td>18</td>\n      <td>4767</td>\n      <td>264.833333</td>\n      <td>79.450000</td>\n    </tr>\n    <tr>\n      <th>42</th>\n      <td>RODRIGUEZ HERNANDEZ CRISTIAN</td>\n      <td>20</td>\n      <td>2717</td>\n      <td>135.850000</td>\n      <td>45.283333</td>\n    </tr>\n    <tr>\n      <th>43</th>\n      <td>RODRIGUEZ MARQUEZ JAVIER</td>\n      <td>48</td>\n      <td>10473</td>\n      <td>218.187500</td>\n      <td>174.550000</td>\n    </tr>\n    <tr>\n      <th>44</th>\n      <td>RODRIGUEZ PAZ DIANA ELIZABETH</td>\n      <td>34</td>\n      <td>8184</td>\n      <td>240.705882</td>\n      <td>136.400000</td>\n    </tr>\n    <tr>\n      <th>45</th>\n      <td>ROSAS TREJO JESUS EDUARDO</td>\n      <td>369</td>\n      <td>38860</td>\n      <td>105.311653</td>\n      <td>647.666667</td>\n    </tr>\n    <tr>\n      <th>46</th>\n      <td>RUIZ CASIMIRO MARCO ANTONIO</td>\n      <td>87</td>\n      <td>12496</td>\n      <td>143.632184</td>\n      <td>208.266667</td>\n    </tr>\n    <tr>\n      <th>47</th>\n      <td>TORRES NARVAEZ MAYTE</td>\n      <td>32</td>\n      <td>5407</td>\n      <td>168.968750</td>\n      <td>90.116667</td>\n    </tr>\n    <tr>\n      <th>48</th>\n      <td>TREJO MONTESINOS JORGE JHOVANI</td>\n      <td>233</td>\n      <td>36743</td>\n      <td>157.695279</td>\n      <td>612.383333</td>\n    </tr>\n    <tr>\n      <th>49</th>\n      <td>TRON FIERROS FELIPE DE JESUS</td>\n      <td>146</td>\n      <td>23929</td>\n      <td>163.897260</td>\n      <td>398.816667</td>\n    </tr>\n    <tr>\n      <th>50</th>\n      <td>VARGAS CANCINO AURENY ARISBETH</td>\n      <td>161</td>\n      <td>24660</td>\n      <td>153.167702</td>\n      <td>411.000000</td>\n    </tr>\n    <tr>\n      <th>51</th>\n      <td>VAZQUEZ SANCHEZ LINNETH BERENICE</td>\n      <td>52</td>\n      <td>15542</td>\n      <td>298.884615</td>\n      <td>259.033333</td>\n    </tr>\n    <tr>\n      <th>52</th>\n      <td>VEGA HERNANDEZ NATALIE</td>\n      <td>269</td>\n      <td>45408</td>\n      <td>168.802974</td>\n      <td>756.800000</td>\n    </tr>\n    <tr>\n      <th>53</th>\n      <td>ZARZA NORIA JEFREY ALBERTO</td>\n      <td>5</td>\n      <td>752</td>\n      <td>150.400000</td>\n      <td>12.533333</td>\n    </tr>\n  </tbody>\n</table>\n</div>"
     },
     "metadata": {},
     "execution_count": 15
    }
   ],
   "source": [
    "#Obtenemos el performance de las llamadas contestadas\n",
    "control_gestores_total = pd.pivot_table(llamadas_liv_brad2,index=['full_name'],values=['length_in_sec'],aggfunc=[np.sum,np.mean,'count'])\n",
    "control_gestores_total = to_dataframe(control_gestores_total)\n",
    "control_gestores_total = control_gestores_total.iloc[:,[0,3,1,2]]\n",
    "control_gestores_total.columns = ['Gestor','NumeroGestiones','TiempoTotalSeg','PromedioLlamadaSeg']\n",
    "control_gestores_total['TiempoTotalMin'] = [x/60 for x in control_gestores_total['TiempoTotalSeg']]\n",
    "control_gestores_total"
   ]
  },
  {
   "source": [
    "# Performance Liverpool Bradesco"
   ],
   "cell_type": "markdown",
   "metadata": {}
  },
  {
   "cell_type": "code",
   "execution_count": 17,
   "metadata": {},
   "outputs": [],
   "source": [
    "#Hacemos la consulta referente al performance del Gestor\n",
    "performance_all = cs.query_naucalpan('procesos_externos.all_rpt_agent_performance',mes,today)\n",
    "performance_all.columns = ['fecha','usuario','nombre_usuario','user_group','llamadas','aht','ocupacion','adherencia','login_vici','logout_vici','staff_time','wait_time','talk_time','dispo_time','pause','login','manual','gestion','agua','alimentos','sanitario','retroalimentacion','tranferencia','validacion','whatsapp','incumplimiento','recordatorios','capacitacion','sistemas','lagged','tipificando','*']"
   ]
  },
  {
   "cell_type": "code",
   "execution_count": 18,
   "metadata": {},
   "outputs": [],
   "source": [
    "performance_liv_brad = performance_all.loc[(performance_all['user_group']=='LIVERPOOL') | (performance_all['user_group']=='BRADESCARD')]\n",
    "performance_liv_brad[['ocupacion','adherencia']] = percent_tonumeric(performance_liv_brad,['ocupacion','adherencia'])"
   ]
  },
  {
   "cell_type": "code",
   "execution_count": 19,
   "metadata": {},
   "outputs": [],
   "source": [
    "def to_hour(df,cols):\n",
    "    df[cols] = [datetime.strptime(x,'%H:%M:%S') for x in df[cols]]\n",
    "    return df\n",
    "    \n",
    "#performance_liv_brad['login_vici2'] = to_hour(performance_liv_brad,'login_vici')\n",
    "#performance_liv_brad['logout_vici2'] = to_hour(performance_liv_brad,'logout_vici')"
   ]
  },
  {
   "cell_type": "code",
   "execution_count": 20,
   "metadata": {},
   "outputs": [],
   "source": [
    "performance_liv_brad['hora_login'] = [int(x[:2]) for x in performance_liv_brad['login_vici']]\n",
    "performance_liv_brad['hora_logout'] = [int(x[:2]) for x in performance_liv_brad['logout_vici']]\n",
    "performance_liv_brad['turno'] = np.where((performance_liv_brad['hora_logout']<=14)&(performance_liv_brad['hora_logout']-performance_liv_brad['hora_login']<=8),'M',\n",
    "                                    np.where((performance_liv_brad['hora_logout']>17)&(performance_liv_brad['hora_logout']-performance_liv_brad['hora_login']<=8),'V','Mixto'))"
   ]
  },
  {
   "cell_type": "code",
   "execution_count": 21,
   "metadata": {},
   "outputs": [
    {
     "output_type": "execute_result",
     "data": {
      "text/plain": [
       "         fecha      usuario          nombre_usuario  user_group  llamadas  \\\n",
       "49  2021-01-02  AGUILARMAVA  AGUILAR MACEDO VALERIA  BRADESCARD        11   \n",
       "\n",
       "         aht  ocupacion  adherencia login_vici logout_vici  ... capacitacion  \\\n",
       "49  00:01:18       18.2       25.08   12:04:44    13:15:49  ...     00:00:00   \n",
       "\n",
       "    sistemas    lagged tipificando         * hora_login hora_logout turno  \\\n",
       "49  00:00:00  00:00:00    00:00:00  00:00:00         12          13     M   \n",
       "\n",
       "   horas_trabajadas llamadas_hora  \n",
       "49                1          11.0  \n",
       "\n",
       "[1 rows x 37 columns]"
      ],
      "text/html": "<div>\n<style scoped>\n    .dataframe tbody tr th:only-of-type {\n        vertical-align: middle;\n    }\n\n    .dataframe tbody tr th {\n        vertical-align: top;\n    }\n\n    .dataframe thead th {\n        text-align: right;\n    }\n</style>\n<table border=\"1\" class=\"dataframe\">\n  <thead>\n    <tr style=\"text-align: right;\">\n      <th></th>\n      <th>fecha</th>\n      <th>usuario</th>\n      <th>nombre_usuario</th>\n      <th>user_group</th>\n      <th>llamadas</th>\n      <th>aht</th>\n      <th>ocupacion</th>\n      <th>adherencia</th>\n      <th>login_vici</th>\n      <th>logout_vici</th>\n      <th>...</th>\n      <th>capacitacion</th>\n      <th>sistemas</th>\n      <th>lagged</th>\n      <th>tipificando</th>\n      <th>*</th>\n      <th>hora_login</th>\n      <th>hora_logout</th>\n      <th>turno</th>\n      <th>horas_trabajadas</th>\n      <th>llamadas_hora</th>\n    </tr>\n  </thead>\n  <tbody>\n    <tr>\n      <th>49</th>\n      <td>2021-01-02</td>\n      <td>AGUILARMAVA</td>\n      <td>AGUILAR MACEDO VALERIA</td>\n      <td>BRADESCARD</td>\n      <td>11</td>\n      <td>00:01:18</td>\n      <td>18.2</td>\n      <td>25.08</td>\n      <td>12:04:44</td>\n      <td>13:15:49</td>\n      <td>...</td>\n      <td>00:00:00</td>\n      <td>00:00:00</td>\n      <td>00:00:00</td>\n      <td>00:00:00</td>\n      <td>00:00:00</td>\n      <td>12</td>\n      <td>13</td>\n      <td>M</td>\n      <td>1</td>\n      <td>11.0</td>\n    </tr>\n  </tbody>\n</table>\n<p>1 rows × 37 columns</p>\n</div>"
     },
     "metadata": {},
     "execution_count": 21
    }
   ],
   "source": [
    "performance_liv_brad['horas_trabajadas'] = performance_liv_brad['hora_logout']-performance_liv_brad['hora_login']\n",
    "performance_liv_brad['llamadas_hora'] = performance_liv_brad['llamadas']/performance_liv_brad['horas_trabajadas']\n",
    "performance_liv_brad['llamadas_hora'] = performance_liv_brad['llamadas_hora'].round(2)\n",
    "performance_liv_brad.head(1)"
   ]
  },
  {
   "cell_type": "code",
   "execution_count": 22,
   "metadata": {},
   "outputs": [
    {
     "output_type": "execute_result",
     "data": {
      "text/plain": [
       "                   Gestor Turno  SumLlamadasDia  SumLlamadasHora  \\\n",
       "0  AGUILAR MACEDO VALERIA     M             708           122.02   \n",
       "\n",
       "   SumOcupacion  PromedioLlamadasDia  PromedioLlamadasHora  PromedioOcupacion  \\\n",
       "0         83.15                 88.5               15.2525           10.39375   \n",
       "\n",
       "   DiasAsitencia  MinLlamadasDia  MinLlamadasHora  MinOcupacion  \\\n",
       "0              8              11            10.29          5.92   \n",
       "\n",
       "   MaxLlamadasDia  MaxLlamadasHora  MaxOcupacion  \n",
       "0             148            21.14          18.2  "
      ],
      "text/html": "<div>\n<style scoped>\n    .dataframe tbody tr th:only-of-type {\n        vertical-align: middle;\n    }\n\n    .dataframe tbody tr th {\n        vertical-align: top;\n    }\n\n    .dataframe thead th {\n        text-align: right;\n    }\n</style>\n<table border=\"1\" class=\"dataframe\">\n  <thead>\n    <tr style=\"text-align: right;\">\n      <th></th>\n      <th>Gestor</th>\n      <th>Turno</th>\n      <th>SumLlamadasDia</th>\n      <th>SumLlamadasHora</th>\n      <th>SumOcupacion</th>\n      <th>PromedioLlamadasDia</th>\n      <th>PromedioLlamadasHora</th>\n      <th>PromedioOcupacion</th>\n      <th>DiasAsitencia</th>\n      <th>MinLlamadasDia</th>\n      <th>MinLlamadasHora</th>\n      <th>MinOcupacion</th>\n      <th>MaxLlamadasDia</th>\n      <th>MaxLlamadasHora</th>\n      <th>MaxOcupacion</th>\n    </tr>\n  </thead>\n  <tbody>\n    <tr>\n      <th>0</th>\n      <td>AGUILAR MACEDO VALERIA</td>\n      <td>M</td>\n      <td>708</td>\n      <td>122.02</td>\n      <td>83.15</td>\n      <td>88.5</td>\n      <td>15.2525</td>\n      <td>10.39375</td>\n      <td>8</td>\n      <td>11</td>\n      <td>10.29</td>\n      <td>5.92</td>\n      <td>148</td>\n      <td>21.14</td>\n      <td>18.2</td>\n    </tr>\n  </tbody>\n</table>\n</div>"
     },
     "metadata": {},
     "execution_count": 22
    }
   ],
   "source": [
    "control_performance_brad_turno = pd.pivot_table(performance_liv_brad,index=['nombre_usuario','turno'],values=['llamadas','ocupacion','llamadas_hora'],aggfunc=[np.sum,np.mean,'count',min,max])\n",
    "control_performance_brad_turno = to_dataframe(control_performance_brad_turno)\n",
    "control_performance_brad_turno = control_performance_brad_turno.iloc[:,[0,1,2,3,4,5,6,7,8,11,12,13,14,15,16]]\n",
    "control_performance_brad_turno.columns = ['Gestor','Turno','SumLlamadasDia','SumLlamadasHora','SumOcupacion','PromedioLlamadasDia','PromedioLlamadasHora','PromedioOcupacion','DiasAsitencia','MinLlamadasDia','MinLlamadasHora','MinOcupacion','MaxLlamadasDia','MaxLlamadasHora','MaxOcupacion']\n",
    "control_performance_brad_turno.head(1)"
   ]
  },
  {
   "cell_type": "code",
   "execution_count": 23,
   "metadata": {},
   "outputs": [],
   "source": [
    "control_performance_brad_turno2 = control_performance_brad_turno[['Gestor','Turno','PromedioLlamadasHora','PromedioOcupacion']]"
   ]
  },
  {
   "cell_type": "code",
   "execution_count": 24,
   "metadata": {},
   "outputs": [
    {
     "output_type": "execute_result",
     "data": {
      "text/plain": [
       "                          Gestor  SumHorasTrabajadas  SumLlamadasDia  \\\n",
       "0         AGUILAR MACEDO VALERIA                 149            1946   \n",
       "1  AGUILAR RIOS DANIEL ALEJANDRO                  12             482   \n",
       "2     ALANIZ DIAZ ALISON JOCELIN                  34            1677   \n",
       "\n",
       "   PromedioOcupacion  DiasTrabajados  LlamadasHora  \n",
       "0           9.788824              17          13.0  \n",
       "1          15.415000               2          40.0  \n",
       "2          25.107500               4          49.0  "
      ],
      "text/html": "<div>\n<style scoped>\n    .dataframe tbody tr th:only-of-type {\n        vertical-align: middle;\n    }\n\n    .dataframe tbody tr th {\n        vertical-align: top;\n    }\n\n    .dataframe thead th {\n        text-align: right;\n    }\n</style>\n<table border=\"1\" class=\"dataframe\">\n  <thead>\n    <tr style=\"text-align: right;\">\n      <th></th>\n      <th>Gestor</th>\n      <th>SumHorasTrabajadas</th>\n      <th>SumLlamadasDia</th>\n      <th>PromedioOcupacion</th>\n      <th>DiasTrabajados</th>\n      <th>LlamadasHora</th>\n    </tr>\n  </thead>\n  <tbody>\n    <tr>\n      <th>0</th>\n      <td>AGUILAR MACEDO VALERIA</td>\n      <td>149</td>\n      <td>1946</td>\n      <td>9.788824</td>\n      <td>17</td>\n      <td>13.0</td>\n    </tr>\n    <tr>\n      <th>1</th>\n      <td>AGUILAR RIOS DANIEL ALEJANDRO</td>\n      <td>12</td>\n      <td>482</td>\n      <td>15.415000</td>\n      <td>2</td>\n      <td>40.0</td>\n    </tr>\n    <tr>\n      <th>2</th>\n      <td>ALANIZ DIAZ ALISON JOCELIN</td>\n      <td>34</td>\n      <td>1677</td>\n      <td>25.107500</td>\n      <td>4</td>\n      <td>49.0</td>\n    </tr>\n  </tbody>\n</table>\n</div>"
     },
     "metadata": {},
     "execution_count": 24
    }
   ],
   "source": [
    "control_performance_brad = pd.pivot_table(performance_liv_brad,index=['nombre_usuario'],values=['llamadas','ocupacion','horas_trabajadas'],aggfunc=[np.sum,np.mean,'count',min,max])\n",
    "control_performance_brad = to_dataframe(control_performance_brad)\n",
    "control_performance_brad = control_performance_brad.iloc[:,[0,1,2,6,7]]\n",
    "control_performance_brad.columns = ['Gestor','SumHorasTrabajadas','SumLlamadasDia','PromedioOcupacion','DiasTrabajados']\n",
    "control_performance_brad['LlamadasHora'] = (control_performance_brad['SumLlamadasDia']/control_performance_brad['SumHorasTrabajadas']).round()\n",
    "control_performance_brad.head(3)"
   ]
  },
  {
   "cell_type": "code",
   "execution_count": 25,
   "metadata": {},
   "outputs": [
    {
     "output_type": "execute_result",
     "data": {
      "text/plain": [
       "                                  Gestor  PromedioOcupacion  ContactoHora  \\\n",
       "0                 AGUILAR MACEDO VALERIA           9.788824      0.651007   \n",
       "1          AGUILAR RIOS DANIEL ALEJANDRO          15.415000      0.833333   \n",
       "2             ALANIZ DIAZ ALISON JOCELIN          25.107500      1.117647   \n",
       "3       ALEJANDRA YESENIA HERNANDEZ BITE                NaN           NaN   \n",
       "4               AMADOR FLORES LUIS ANGEL          34.190909      1.576923   \n",
       "5            BALBUENA MACEDO EDGAR URIEL          37.652500      0.415584   \n",
       "6        BARRETO OSEGUERA MARIA FERNANDA          14.990000      1.465347   \n",
       "7                  BERENICE GUZMAN JAIME          26.904118      0.437037   \n",
       "8            BERNAL TREJO MARIA FERNANDA          18.086000      2.129870   \n",
       "9         CARRANCO ZAMORA JAIME WALBERTO          26.276667      3.454545   \n",
       "10  CASTILLEJO CASTILLEJO DULCE MICHELLE                NaN           NaN   \n",
       "11               CASTRO REZA IRVING YAEL          41.157500      0.197080   \n",
       "12                 CID IRINEO ROSA ISELA          40.339444      1.389535   \n",
       "13           COLULA CALIXTO MIGUEL ANGEL          40.320000      0.921348   \n",
       "14                   CRUZ SALAZAR XIMENA          28.061250      0.137931   \n",
       "15                DANIEL PINEDA ALVARADO          29.551875      0.409836   \n",
       "16                      DIAZ DIAZ LEONOR           7.236111      0.230769   \n",
       "17      ESCALONA ZUNIGA FRANCISCO JAVIER          42.882500      1.148148   \n",
       "18          ESCOBAR MONROY BRENDA IVONNE          21.710000           inf   \n",
       "19         GARCIA JIMENEZ ALONDRA YAZMIN          40.585714      2.460000   \n",
       "20                GOMEZ CARRILLO LETICIA          43.506471      1.027273   \n",
       "21                  GONZALEZ TOTO BRENDA          44.171875      0.542373   \n",
       "22    GUADALUPE MAYELA HERNANDEZ MENDITA          28.383889      1.019737   \n",
       "23             HERNANDEZ GONZALEZ SANDRA          26.014667      0.685950   \n",
       "24          HERNANDEZ MEDEL LUIS ENRIQUE          21.054000      2.154639   \n",
       "25          HUERTA LOPEZ NATALIA XOCHITL          41.299375      0.453988   \n",
       "26                 JUAREZ ROBLEDO LORENA          26.542778      1.442424   \n",
       "27            LIZBETH INELVA LUNA COLULA          33.346111      0.450000   \n",
       "28             LOPEZ ESTRADA MA. IGNACIA          46.971875      1.618750   \n",
       "29                 LOPEZ VASQUEZ YOSELIN          21.878235      0.719697   \n",
       "30      LORAYNI GUADALUPE OSNAYA VAZQUEZ          40.016471      0.143939   \n",
       "31     LUCIA ESMERALDA LONGORIA CISNEROS          24.839412      0.101695   \n",
       "32         MADRID GARCIA MARIA GUADALUPE          50.316471      1.129032   \n",
       "33                  MANUEL BUSTOS LUCERO          28.148750      0.445255   \n",
       "34                 MEDINA ARIAS MAURICIO                NaN           NaN   \n",
       "35                MIRIAM PEINADO ALVAREZ          36.216667      1.474747   \n",
       "36        MISHELLLE ADYANI CHAVEZ CASTRO                NaN           NaN   \n",
       "37              MUNOZ BORJA KATYA MUSMED          11.842353      1.007407   \n",
       "38                OROZCO GONZALEZ BRENDA          37.262222      1.397436   \n",
       "39            QUINTOS ARVIZU LUIS DANIEL                NaN           NaN   \n",
       "40          RAMIREZ OSORIO CESAR AUGUSTO          43.838125      0.196262   \n",
       "41        RAMIREZ REYES LESLIE GUADALUPE          17.055000      0.159292   \n",
       "42          RODRIGUEZ HERNANDEZ CRISTIAN          32.210000      3.333333   \n",
       "43              RODRIGUEZ MARQUEZ JAVIER          40.845000      0.421053   \n",
       "44         RODRIGUEZ PAZ DIANA ELIZABETH          44.613846      0.288136   \n",
       "45             ROSAS TREJO JESUS EDUARDO          35.155000      3.582524   \n",
       "46           RUIZ CASIMIRO MARCO ANTONIO          20.930000      1.426230   \n",
       "47                  TORRES NARVAEZ MAYTE          23.080000      0.336842   \n",
       "48        TREJO MONTESINOS JORGE JHOVANI          43.347857      2.306931   \n",
       "49          TRON FIERROS FELIPE DE JESUS           5.708125      1.081481   \n",
       "50        VARGAS CANCINO AURENY ARISBETH          42.601250      1.150000   \n",
       "51      VAZQUEZ SANCHEZ LINNETH BERENICE          29.832941      0.368794   \n",
       "52                VEGA HERNANDEZ NATALIE          39.969333      2.423423   \n",
       "53            ZARZA NORIA JEFREY ALBERTO                NaN           NaN   \n",
       "54                ROBLES REYES VIRIDIANA          22.190000           NaN   \n",
       "55       TEPOZOTLAN CENTENO PERLA YADIRA           0.000000           NaN   \n",
       "\n",
       "    LlamadasHora  \n",
       "0           13.0  \n",
       "1           40.0  \n",
       "2           49.0  \n",
       "3            NaN  \n",
       "4           23.0  \n",
       "5           23.0  \n",
       "6           19.0  \n",
       "7           47.0  \n",
       "8           29.0  \n",
       "9           32.0  \n",
       "10           NaN  \n",
       "11          23.0  \n",
       "12          26.0  \n",
       "13          37.0  \n",
       "14          44.0  \n",
       "15          21.0  \n",
       "16          18.0  \n",
       "17          32.0  \n",
       "18           inf  \n",
       "19          25.0  \n",
       "20          43.0  \n",
       "21          25.0  \n",
       "22          25.0  \n",
       "23          25.0  \n",
       "24          22.0  \n",
       "25          15.0  \n",
       "26          32.0  \n",
       "27          15.0  \n",
       "28          23.0  \n",
       "29          20.0  \n",
       "30          32.0  \n",
       "31          30.0  \n",
       "32          25.0  \n",
       "33          31.0  \n",
       "34           NaN  \n",
       "35          27.0  \n",
       "36           NaN  \n",
       "37          20.0  \n",
       "38          30.0  \n",
       "39           NaN  \n",
       "40          30.0  \n",
       "41          14.0  \n",
       "42          30.0  \n",
       "43          20.0  \n",
       "44          19.0  \n",
       "45          33.0  \n",
       "46          33.0  \n",
       "47          34.0  \n",
       "48          31.0  \n",
       "49           7.0  \n",
       "50          28.0  \n",
       "51          18.0  \n",
       "52          22.0  \n",
       "53           NaN  \n",
       "54           inf  \n",
       "55           NaN  "
      ],
      "text/html": "<div>\n<style scoped>\n    .dataframe tbody tr th:only-of-type {\n        vertical-align: middle;\n    }\n\n    .dataframe tbody tr th {\n        vertical-align: top;\n    }\n\n    .dataframe thead th {\n        text-align: right;\n    }\n</style>\n<table border=\"1\" class=\"dataframe\">\n  <thead>\n    <tr style=\"text-align: right;\">\n      <th></th>\n      <th>Gestor</th>\n      <th>PromedioOcupacion</th>\n      <th>ContactoHora</th>\n      <th>LlamadasHora</th>\n    </tr>\n  </thead>\n  <tbody>\n    <tr>\n      <th>0</th>\n      <td>AGUILAR MACEDO VALERIA</td>\n      <td>9.788824</td>\n      <td>0.651007</td>\n      <td>13.0</td>\n    </tr>\n    <tr>\n      <th>1</th>\n      <td>AGUILAR RIOS DANIEL ALEJANDRO</td>\n      <td>15.415000</td>\n      <td>0.833333</td>\n      <td>40.0</td>\n    </tr>\n    <tr>\n      <th>2</th>\n      <td>ALANIZ DIAZ ALISON JOCELIN</td>\n      <td>25.107500</td>\n      <td>1.117647</td>\n      <td>49.0</td>\n    </tr>\n    <tr>\n      <th>3</th>\n      <td>ALEJANDRA YESENIA HERNANDEZ BITE</td>\n      <td>NaN</td>\n      <td>NaN</td>\n      <td>NaN</td>\n    </tr>\n    <tr>\n      <th>4</th>\n      <td>AMADOR FLORES LUIS ANGEL</td>\n      <td>34.190909</td>\n      <td>1.576923</td>\n      <td>23.0</td>\n    </tr>\n    <tr>\n      <th>5</th>\n      <td>BALBUENA MACEDO EDGAR URIEL</td>\n      <td>37.652500</td>\n      <td>0.415584</td>\n      <td>23.0</td>\n    </tr>\n    <tr>\n      <th>6</th>\n      <td>BARRETO OSEGUERA MARIA FERNANDA</td>\n      <td>14.990000</td>\n      <td>1.465347</td>\n      <td>19.0</td>\n    </tr>\n    <tr>\n      <th>7</th>\n      <td>BERENICE GUZMAN JAIME</td>\n      <td>26.904118</td>\n      <td>0.437037</td>\n      <td>47.0</td>\n    </tr>\n    <tr>\n      <th>8</th>\n      <td>BERNAL TREJO MARIA FERNANDA</td>\n      <td>18.086000</td>\n      <td>2.129870</td>\n      <td>29.0</td>\n    </tr>\n    <tr>\n      <th>9</th>\n      <td>CARRANCO ZAMORA JAIME WALBERTO</td>\n      <td>26.276667</td>\n      <td>3.454545</td>\n      <td>32.0</td>\n    </tr>\n    <tr>\n      <th>10</th>\n      <td>CASTILLEJO CASTILLEJO DULCE MICHELLE</td>\n      <td>NaN</td>\n      <td>NaN</td>\n      <td>NaN</td>\n    </tr>\n    <tr>\n      <th>11</th>\n      <td>CASTRO REZA IRVING YAEL</td>\n      <td>41.157500</td>\n      <td>0.197080</td>\n      <td>23.0</td>\n    </tr>\n    <tr>\n      <th>12</th>\n      <td>CID IRINEO ROSA ISELA</td>\n      <td>40.339444</td>\n      <td>1.389535</td>\n      <td>26.0</td>\n    </tr>\n    <tr>\n      <th>13</th>\n      <td>COLULA CALIXTO MIGUEL ANGEL</td>\n      <td>40.320000</td>\n      <td>0.921348</td>\n      <td>37.0</td>\n    </tr>\n    <tr>\n      <th>14</th>\n      <td>CRUZ SALAZAR XIMENA</td>\n      <td>28.061250</td>\n      <td>0.137931</td>\n      <td>44.0</td>\n    </tr>\n    <tr>\n      <th>15</th>\n      <td>DANIEL PINEDA ALVARADO</td>\n      <td>29.551875</td>\n      <td>0.409836</td>\n      <td>21.0</td>\n    </tr>\n    <tr>\n      <th>16</th>\n      <td>DIAZ DIAZ LEONOR</td>\n      <td>7.236111</td>\n      <td>0.230769</td>\n      <td>18.0</td>\n    </tr>\n    <tr>\n      <th>17</th>\n      <td>ESCALONA ZUNIGA FRANCISCO JAVIER</td>\n      <td>42.882500</td>\n      <td>1.148148</td>\n      <td>32.0</td>\n    </tr>\n    <tr>\n      <th>18</th>\n      <td>ESCOBAR MONROY BRENDA IVONNE</td>\n      <td>21.710000</td>\n      <td>inf</td>\n      <td>inf</td>\n    </tr>\n    <tr>\n      <th>19</th>\n      <td>GARCIA JIMENEZ ALONDRA YAZMIN</td>\n      <td>40.585714</td>\n      <td>2.460000</td>\n      <td>25.0</td>\n    </tr>\n    <tr>\n      <th>20</th>\n      <td>GOMEZ CARRILLO LETICIA</td>\n      <td>43.506471</td>\n      <td>1.027273</td>\n      <td>43.0</td>\n    </tr>\n    <tr>\n      <th>21</th>\n      <td>GONZALEZ TOTO BRENDA</td>\n      <td>44.171875</td>\n      <td>0.542373</td>\n      <td>25.0</td>\n    </tr>\n    <tr>\n      <th>22</th>\n      <td>GUADALUPE MAYELA HERNANDEZ MENDITA</td>\n      <td>28.383889</td>\n      <td>1.019737</td>\n      <td>25.0</td>\n    </tr>\n    <tr>\n      <th>23</th>\n      <td>HERNANDEZ GONZALEZ SANDRA</td>\n      <td>26.014667</td>\n      <td>0.685950</td>\n      <td>25.0</td>\n    </tr>\n    <tr>\n      <th>24</th>\n      <td>HERNANDEZ MEDEL LUIS ENRIQUE</td>\n      <td>21.054000</td>\n      <td>2.154639</td>\n      <td>22.0</td>\n    </tr>\n    <tr>\n      <th>25</th>\n      <td>HUERTA LOPEZ NATALIA XOCHITL</td>\n      <td>41.299375</td>\n      <td>0.453988</td>\n      <td>15.0</td>\n    </tr>\n    <tr>\n      <th>26</th>\n      <td>JUAREZ ROBLEDO LORENA</td>\n      <td>26.542778</td>\n      <td>1.442424</td>\n      <td>32.0</td>\n    </tr>\n    <tr>\n      <th>27</th>\n      <td>LIZBETH INELVA LUNA COLULA</td>\n      <td>33.346111</td>\n      <td>0.450000</td>\n      <td>15.0</td>\n    </tr>\n    <tr>\n      <th>28</th>\n      <td>LOPEZ ESTRADA MA. IGNACIA</td>\n      <td>46.971875</td>\n      <td>1.618750</td>\n      <td>23.0</td>\n    </tr>\n    <tr>\n      <th>29</th>\n      <td>LOPEZ VASQUEZ YOSELIN</td>\n      <td>21.878235</td>\n      <td>0.719697</td>\n      <td>20.0</td>\n    </tr>\n    <tr>\n      <th>30</th>\n      <td>LORAYNI GUADALUPE OSNAYA VAZQUEZ</td>\n      <td>40.016471</td>\n      <td>0.143939</td>\n      <td>32.0</td>\n    </tr>\n    <tr>\n      <th>31</th>\n      <td>LUCIA ESMERALDA LONGORIA CISNEROS</td>\n      <td>24.839412</td>\n      <td>0.101695</td>\n      <td>30.0</td>\n    </tr>\n    <tr>\n      <th>32</th>\n      <td>MADRID GARCIA MARIA GUADALUPE</td>\n      <td>50.316471</td>\n      <td>1.129032</td>\n      <td>25.0</td>\n    </tr>\n    <tr>\n      <th>33</th>\n      <td>MANUEL BUSTOS LUCERO</td>\n      <td>28.148750</td>\n      <td>0.445255</td>\n      <td>31.0</td>\n    </tr>\n    <tr>\n      <th>34</th>\n      <td>MEDINA ARIAS MAURICIO</td>\n      <td>NaN</td>\n      <td>NaN</td>\n      <td>NaN</td>\n    </tr>\n    <tr>\n      <th>35</th>\n      <td>MIRIAM PEINADO ALVAREZ</td>\n      <td>36.216667</td>\n      <td>1.474747</td>\n      <td>27.0</td>\n    </tr>\n    <tr>\n      <th>36</th>\n      <td>MISHELLLE ADYANI CHAVEZ CASTRO</td>\n      <td>NaN</td>\n      <td>NaN</td>\n      <td>NaN</td>\n    </tr>\n    <tr>\n      <th>37</th>\n      <td>MUNOZ BORJA KATYA MUSMED</td>\n      <td>11.842353</td>\n      <td>1.007407</td>\n      <td>20.0</td>\n    </tr>\n    <tr>\n      <th>38</th>\n      <td>OROZCO GONZALEZ BRENDA</td>\n      <td>37.262222</td>\n      <td>1.397436</td>\n      <td>30.0</td>\n    </tr>\n    <tr>\n      <th>39</th>\n      <td>QUINTOS ARVIZU LUIS DANIEL</td>\n      <td>NaN</td>\n      <td>NaN</td>\n      <td>NaN</td>\n    </tr>\n    <tr>\n      <th>40</th>\n      <td>RAMIREZ OSORIO CESAR AUGUSTO</td>\n      <td>43.838125</td>\n      <td>0.196262</td>\n      <td>30.0</td>\n    </tr>\n    <tr>\n      <th>41</th>\n      <td>RAMIREZ REYES LESLIE GUADALUPE</td>\n      <td>17.055000</td>\n      <td>0.159292</td>\n      <td>14.0</td>\n    </tr>\n    <tr>\n      <th>42</th>\n      <td>RODRIGUEZ HERNANDEZ CRISTIAN</td>\n      <td>32.210000</td>\n      <td>3.333333</td>\n      <td>30.0</td>\n    </tr>\n    <tr>\n      <th>43</th>\n      <td>RODRIGUEZ MARQUEZ JAVIER</td>\n      <td>40.845000</td>\n      <td>0.421053</td>\n      <td>20.0</td>\n    </tr>\n    <tr>\n      <th>44</th>\n      <td>RODRIGUEZ PAZ DIANA ELIZABETH</td>\n      <td>44.613846</td>\n      <td>0.288136</td>\n      <td>19.0</td>\n    </tr>\n    <tr>\n      <th>45</th>\n      <td>ROSAS TREJO JESUS EDUARDO</td>\n      <td>35.155000</td>\n      <td>3.582524</td>\n      <td>33.0</td>\n    </tr>\n    <tr>\n      <th>46</th>\n      <td>RUIZ CASIMIRO MARCO ANTONIO</td>\n      <td>20.930000</td>\n      <td>1.426230</td>\n      <td>33.0</td>\n    </tr>\n    <tr>\n      <th>47</th>\n      <td>TORRES NARVAEZ MAYTE</td>\n      <td>23.080000</td>\n      <td>0.336842</td>\n      <td>34.0</td>\n    </tr>\n    <tr>\n      <th>48</th>\n      <td>TREJO MONTESINOS JORGE JHOVANI</td>\n      <td>43.347857</td>\n      <td>2.306931</td>\n      <td>31.0</td>\n    </tr>\n    <tr>\n      <th>49</th>\n      <td>TRON FIERROS FELIPE DE JESUS</td>\n      <td>5.708125</td>\n      <td>1.081481</td>\n      <td>7.0</td>\n    </tr>\n    <tr>\n      <th>50</th>\n      <td>VARGAS CANCINO AURENY ARISBETH</td>\n      <td>42.601250</td>\n      <td>1.150000</td>\n      <td>28.0</td>\n    </tr>\n    <tr>\n      <th>51</th>\n      <td>VAZQUEZ SANCHEZ LINNETH BERENICE</td>\n      <td>29.832941</td>\n      <td>0.368794</td>\n      <td>18.0</td>\n    </tr>\n    <tr>\n      <th>52</th>\n      <td>VEGA HERNANDEZ NATALIE</td>\n      <td>39.969333</td>\n      <td>2.423423</td>\n      <td>22.0</td>\n    </tr>\n    <tr>\n      <th>53</th>\n      <td>ZARZA NORIA JEFREY ALBERTO</td>\n      <td>NaN</td>\n      <td>NaN</td>\n      <td>NaN</td>\n    </tr>\n    <tr>\n      <th>54</th>\n      <td>ROBLES REYES VIRIDIANA</td>\n      <td>22.190000</td>\n      <td>NaN</td>\n      <td>inf</td>\n    </tr>\n    <tr>\n      <th>55</th>\n      <td>TEPOZOTLAN CENTENO PERLA YADIRA</td>\n      <td>0.000000</td>\n      <td>NaN</td>\n      <td>NaN</td>\n    </tr>\n  </tbody>\n</table>\n</div>"
     },
     "metadata": {},
     "execution_count": 25
    }
   ],
   "source": [
    "conjunto_performance_llamadas = pd.merge(control_gestores_total,control_performance_brad,on='Gestor',how='outer')\n",
    "conjunto_performance_llamadas['ContactoHora'] = conjunto_performance_llamadas['NumeroGestiones']/conjunto_performance_llamadas['SumHorasTrabajadas']\n",
    "conjunto_performance_llamadas = conjunto_performance_llamadas.iloc[:,[0,7,10,9,]]\n",
    "conjunto_performance_llamadas"
   ]
  },
  {
   "source": [
    "# Gestion detallado Liverpool Bradesco"
   ],
   "cell_type": "markdown",
   "metadata": {}
  },
  {
   "source": [
    "# Liverpool"
   ],
   "cell_type": "markdown",
   "metadata": {}
  },
  {
   "cell_type": "code",
   "execution_count": 26,
   "metadata": {},
   "outputs": [],
   "source": [
    "#Hacemos la consulta referente a las gestiones de Liverpool\n",
    "gestion_liv_mes = cs.query_naucalpan('liverpool_rpt_gestiones_detallado',mes,today)\n",
    "gestion_liv_mes.columns = ['folio_gestion','firma_id','unegocio_id','credito','nombre_credito','telefono','tipo_telefono','fecha_gestion','usuario','nombre_usuario','dictamen','accion','resultado','fecha_promesa','monto_promesa','comentarios']\n",
    "gestion_liv_mes = gestion_liv_mes.loc[gestion_liv_mes['dictamen']=='PROMESA']\n",
    "gestion_liv_mes['anio'] = [int(x[:4]) for x in gestion_liv_mes['fecha_promesa']]\n",
    "gestion_liv_mes = gestion_liv_mes.loc[(gestion_liv_mes['anio']>2010)&(gestion_liv_mes['anio']<2100)]\n",
    "gestion_liv_mes['fecha_promesa'] = pd.to_datetime(gestion_liv_mes['fecha_promesa'],dayfirst=False)"
   ]
  },
  {
   "cell_type": "code",
   "execution_count": 27,
   "metadata": {},
   "outputs": [],
   "source": [
    "#Asignacion Liverpool\n",
    "asignacion_liv = pd.read_csv(''+ruta+'/Liverpool/Asignacion/Asignaciones csv/Asignacion '+mes2+'.csv',converters={'# CUENTA':str})\n",
    "asignacion_liv = asignacion_liv[['ID AGENCIA', '# CUENTA']]\n",
    "asignacion_liv.columns = ['division','credito']"
   ]
  },
  {
   "cell_type": "code",
   "execution_count": 28,
   "metadata": {},
   "outputs": [],
   "source": [
    "#Hacemos el consolidado \n",
    "consolidado_liv_mes = pd.merge(gestion_liv_mes,asignacion_liv,how='left',on=['credito'])\n",
    "cols = ['monto_promesa']\n",
    "consolidado_liv_mes[cols] = consolidado_liv_mes[cols].apply(pd.to_numeric, errors='coerce')\n",
    "consolidado_liv_mes = consolidado_liv_mes[(consolidado_liv_mes['monto_promesa']>50)]\n",
    "consolidado_liv_mes = consolidado_liv_mes[(consolidado_liv_mes['monto_promesa']<500000)]\n",
    "consolidado_liv_mes.fillna('COBRANZA',inplace=True)\n",
    "consolidado_liv_mes = consolidado_liv_mes.drop_duplicates(subset = ['usuario','credito','fecha_promesa','monto_promesa'])\n",
    "#consolidado_liv_mes.head(3)"
   ]
  },
  {
   "cell_type": "code",
   "execution_count": 29,
   "metadata": {},
   "outputs": [],
   "source": [
    "#Obtenemos los pagos totales por division\n",
    "pagos_totales_liv = pd.pivot_table(pagos_liv,index=['Id'],values=['Monto'],aggfunc=[np.sum])\n",
    "pagos_totales_liv = pd.DataFrame(pagos_totales_liv.to_records())\n",
    "#pagos_totales_liv = pagos_totales_liv2.iloc[:,[0,2,1]]\n",
    "pagos_totales_liv.columns = ['Division','SumaPagos']\n",
    "pagos_totales_liv.fillna(0,inplace=True)"
   ]
  },
  {
   "cell_type": "code",
   "execution_count": 30,
   "metadata": {},
   "outputs": [],
   "source": [
    "#Para cada segmento se le asigna lo que lleva de cada uno\n",
    "DKN00REM = pagos_totales_liv.loc[pagos_totales_liv['Division']=='DKN00REM', 'SumaPagos'].item()\n",
    "DKN02REM = pagos_totales_liv.loc[pagos_totales_liv['Division']=='DKN02REM', 'SumaPagos'].item()\n",
    "DKN04REM = pagos_totales_liv.loc[pagos_totales_liv['Division']=='DKN04REM', 'SumaPagos'].item()\n",
    "SA001REM = pagos_totales_liv.loc[pagos_totales_liv['Division']=='SA001REM', 'SumaPagos'].item()\n",
    "SA002REM = pagos_totales_liv.loc[pagos_totales_liv['Division']=='SA002REM', 'SumaPagos'].item()"
   ]
  },
  {
   "cell_type": "code",
   "execution_count": 31,
   "metadata": {},
   "outputs": [],
   "source": [
    "#Hacemos la asignacion de cada una de las metas para cambiar de arancel sin tomar el 0 en cuenta\n",
    "cof, arancel_cof,arancel_cof2 = 300000, .5, .5\n",
    "sub, arancel_sub, arancel_sub2 = 300000, .15, .2\n",
    "subdic, arancel_subdic, arancel_subdic2 = 350000, .16, .2\n",
    "n2, arancel_n2, arancel_n22 = 650000, .4, .5\n",
    "pren, arancel_pren, arancel_pren2 = 300000, .28, .28"
   ]
  },
  {
   "cell_type": "code",
   "execution_count": 32,
   "metadata": {},
   "outputs": [],
   "source": [
    "#Funcion que asignará el arancel correspondiente\n",
    "def arancel_liv(row):\n",
    "    if row['Id'] == 'DKN00REM' :\n",
    "        return np.where((DKN00REM>0) & (DKN00REM<=pren/arancel_pren),arancel_pren,arancel_pren2)\n",
    "    elif row['Id'] == 'DKN02REM':\n",
    "        return np.where((DKN02REM>0) & (DKN02REM<=n2/arancel_n2),arancel_n2,arancel_n22)\n",
    "    elif row['Id'] == 'DKN04REM':\n",
    "        return np.where((DKN04REM>0) & (DKN04REM<=cof/arancel_cof),arancel_cof,arancel_cof2)\n",
    "    elif row['Id'] == 'SA001REM':\n",
    "        return np.where((SA001REM>0) & (SA001REM<=sub/arancel_sub),arancel_sub,arancel_sub2)\n",
    "    elif row['Id'] == 'SA002REM':\n",
    "        return np.where((SA002REM>0) & (SA002REM<=subdic/arancel_subdic),arancel_subdic,arancel_subdic2)\n",
    "    else:\n",
    "        return 0"
   ]
  },
  {
   "cell_type": "code",
   "execution_count": 33,
   "metadata": {},
   "outputs": [],
   "source": [
    "productos = [('DKN00REM','Liverpool','Penacional'),('DKN02REM','Liverpool Nacional','Nacional2'),('DKN04REM','Liverpool Cof','Cof'),('SA001REM','Liverpool','Suburbia'),('SA002REM','Liverpool','Dictamen')]\n",
    "productos = pd.DataFrame(productos)\n",
    "productos.columns = ['division','id','segmento']"
   ]
  },
  {
   "cell_type": "code",
   "execution_count": 34,
   "metadata": {},
   "outputs": [],
   "source": [
    "#Aplicamos la funcion para obtener los aranceles\n",
    "pagos_liv2 = pd.merge(pagos_liv,productos,how='left',left_on='Id',right_on='division')\n",
    "pagos_liv2['Arancel'] = pagos_liv2.apply(arancel_liv, axis=1)\n",
    "\n",
    "#Agregamos aranceles al consolidado\n",
    "pagos_liv2['PagoArancel'] = [x*y for x,y in zip(pagos_liv2['Monto'],pagos_liv2['Arancel'])]\n",
    "pagos_liv2['Fecha Pago'] = pd.to_datetime(pagos_liv2['Fecha Pago'],dayfirst=True)"
   ]
  },
  {
   "cell_type": "code",
   "execution_count": 35,
   "metadata": {},
   "outputs": [],
   "source": [
    "#Unimos el consolidado con los pagos \n",
    "consolidado_pagos_liv = pd.merge(consolidado_liv_mes,pagos_liv2,how='left',left_on=['credito'],right_on=['Cuenta'])\n",
    "consolidado_pagos_liv = consolidado_pagos_liv.drop_duplicates(subset = ['credito','Monto','usuario','fecha_promesa'])\n",
    "consolidado_pagos_liv['Fecha Pago'] = pd.to_datetime(consolidado_pagos_liv['Fecha Pago'],dayfirst=True)\n",
    "try:consolidado_pagos_liv['fecha_promesa'] = pd.to_datetime(consolidado_pagos_liv['fecha_promesa'],dayfirst=False)\n",
    "except: consolidado_pagos_liv['fecha_promesa'] = consolidado_pagos_liv['fecha_promesa']\n",
    "consolidado_pagos_liv['dia_prom'] = consolidado_pagos_liv['fecha_promesa'].dt.day\n",
    "consolidado_pagos_liv['dia_pago'] = consolidado_pagos_liv['Fecha Pago'].dt.day\n",
    "cols = ['dia_prom','dia_pago','Monto']\n",
    "consolidado_pagos_liv[cols] = consolidado_pagos_liv[cols].apply(pd.to_numeric, errors='coerce',downcast='integer')\n",
    "consolidado_pagos_liv['dia_pago'].fillna(0,inplace=True)\n",
    "try:\n",
    "    consolidado_pagos_liv['dia_pago'] = [int(x) for x in consolidado_pagos_liv['dia_pago']]\n",
    "except: consolidado_pagos_liv['dia_pago'] = consolidado_pagos_liv['dia_pago']\n",
    "#consolidado_pagos_liv.head(3)"
   ]
  },
  {
   "cell_type": "code",
   "execution_count": 36,
   "metadata": {},
   "outputs": [],
   "source": [
    "#Condicionamos a los gestores cuyas promesas y pagos estan en un plazo de 3 dias\n",
    "consolidado_pagos_liv['PagoReal'] = [np.where((z <= x+pd.Timedelta(3, unit='D')) & ((z >= x)), y, 0) for x,y,z in zip(consolidado_pagos_liv['fecha_promesa'],consolidado_pagos_liv['Monto'],consolidado_pagos_liv['Fecha Pago'])]\n",
    "consolidado_pagos_liv['PagoReal'] = [x.item() for x in consolidado_pagos_liv['PagoReal']]\n",
    "#consolidado_pagos_liv.head(3)"
   ]
  },
  {
   "cell_type": "code",
   "execution_count": 37,
   "metadata": {},
   "outputs": [],
   "source": [
    "consolidado_pagos_liv['MontoArancel'] = [x*y for x,y in zip(consolidado_pagos_liv['PagoReal'],consolidado_pagos_liv['Arancel'])]"
   ]
  },
  {
   "cell_type": "code",
   "execution_count": 38,
   "metadata": {},
   "outputs": [
    {
     "output_type": "execute_result",
     "data": {
      "text/plain": [
       "                          Gestor  NumeroPromesas  NumeroPagos  SumaPromesas  \\\n",
       "0  AGUILAR RIOS DANIEL ALEJANDRO              12            5       26501.0   \n",
       "\n",
       "   SumaPagos  SumaArancel  \n",
       "0     2021.0        808.4  "
      ],
      "text/html": "<div>\n<style scoped>\n    .dataframe tbody tr th:only-of-type {\n        vertical-align: middle;\n    }\n\n    .dataframe tbody tr th {\n        vertical-align: top;\n    }\n\n    .dataframe thead th {\n        text-align: right;\n    }\n</style>\n<table border=\"1\" class=\"dataframe\">\n  <thead>\n    <tr style=\"text-align: right;\">\n      <th></th>\n      <th>Gestor</th>\n      <th>NumeroPromesas</th>\n      <th>NumeroPagos</th>\n      <th>SumaPromesas</th>\n      <th>SumaPagos</th>\n      <th>SumaArancel</th>\n    </tr>\n  </thead>\n  <tbody>\n    <tr>\n      <th>0</th>\n      <td>AGUILAR RIOS DANIEL ALEJANDRO</td>\n      <td>12</td>\n      <td>5</td>\n      <td>26501.0</td>\n      <td>2021.0</td>\n      <td>808.4</td>\n    </tr>\n  </tbody>\n</table>\n</div>"
     },
     "metadata": {},
     "execution_count": 38
    }
   ],
   "source": [
    "#Obtenemos datos de los gestores de Liverpool\n",
    "prom_liv_gestor_mes = pd.pivot_table(consolidado_pagos_liv,index=['nombre_usuario'],values=['credito','monto_promesa','PagoReal','MontoArancel'],aggfunc=['count',np.sum],dropna=False)\n",
    "prom_liv_gestor_mes = pd.DataFrame(prom_liv_gestor_mes.to_records())\n",
    "prom_liv_gestor_mes = prom_liv_gestor_mes.iloc[:,[0,4,1,7,6,5]]\n",
    "prom_liv_gestor_mes.columns = ['Gestor','NumeroPromesas','NumeroPagos','SumaPromesas','SumaPagos','SumaArancel']\n",
    "prom_liv_gestor_mes.fillna(0,inplace=True)\n",
    "prom_liv_gestor_mes.head(1)"
   ]
  },
  {
   "source": [
    "# Bradesco"
   ],
   "cell_type": "markdown",
   "metadata": {}
  },
  {
   "cell_type": "code",
   "execution_count": 39,
   "metadata": {},
   "outputs": [],
   "source": [
    "#Hacemos la consulta referente a las gestiones de Bradesco\n",
    "gestion_brad_mes = cs.query_naucalpan('bradescard_rpt_gestiones_detallado',mes,today)\n",
    "gestion_brad_mes.columns = ['folio_gestion','firma_id','unegocio_id','NUMERO_TARJETA','nombre_credito','telefono','tipo_telefono','fecha_gestion','usuario','nombre_usuario','dictamen','accion','resultado','accion_resultado','fecha_promesa','monto_promesa','comentarios']\n",
    "gestion_brad_mes = gestion_brad_mes.loc[gestion_brad_mes['dictamen']=='PROMESA']\n",
    "gestion_brad_mes['NUMERO_TARJETA'] = pd.to_numeric(gestion_brad_mes['NUMERO_TARJETA'])\n",
    "gestion_brad_mes['monto_promesa'] = pd.to_numeric(gestion_brad_mes['monto_promesa'])\n",
    "gestion_brad_mes = gestion_brad_mes.drop_duplicates(subset=['NUMERO_TARJETA','usuario','fecha_promesa','monto_promesa'])\n",
    "gestion_brad_mes = gestion_brad_mes.loc[(gestion_brad_mes['fecha_promesa'].notnull())&(gestion_brad_mes['fecha_promesa']!='')]\n",
    "gestion_brad_mes = gestion_brad_mes.loc[(gestion_brad_mes['fecha_promesa'].str[:4].map(int)<=2100)&(gestion_brad_mes['fecha_promesa'].str[:4].map(int)>=2000)]\n",
    "gestion_brad_mes['fecha_promesa'] = pd.to_datetime(gestion_brad_mes['fecha_promesa'],dayfirst=False)"
   ]
  },
  {
   "cell_type": "code",
   "execution_count": 40,
   "metadata": {},
   "outputs": [],
   "source": [
    "#Asignacion Bradesco\n",
    "asignacion_brad_c0 = pd.read_csv(''+ruta+'/Bradesco/Asignacion_c0/CSV/ASIGNACION C0 '+mes2+'.csv')\n",
    "asignacion_brad_c0 = asignacion_brad_c0.iloc[:,[0,2,3,8,10,11,14,25]]\n",
    "asignacion_brad_extra = pd.read_csv(''+ruta+'/Bradesco/Asignacion_extra/CSV/Asignacion Extra '+mes2+'.csv',encoding= 'unicode_escape')\n",
    "asignacion_brad_extra = asignacion_brad_extra.iloc[:,[0,2,3,5,9,25,26,28]]\n",
    "asignacion_brad_extra.columns = ['CODIGO_ORG','NUMERO_CUENTA','NUMERO_TARJETA','RFC','ESTADO','SALDO_TOTAL','PAGO_DESCUENTO','PAGOSVENCIDOS']\n",
    "\n",
    "asignacion_brad = pd.concat([asignacion_brad_c0,asignacion_brad_extra],ignore_index=True)"
   ]
  },
  {
   "cell_type": "code",
   "execution_count": 41,
   "metadata": {},
   "outputs": [],
   "source": [
    "#Hacemos la union de asignacion y promesas\n",
    "consolidado_brad_mes = pd.merge(gestion_brad_mes,asignacion_brad,how='left',on=['NUMERO_TARJETA'])\n",
    "cols = ['monto_promesa']\n",
    "consolidado_brad_mes[cols] = consolidado_brad_mes[cols].apply(pd.to_numeric, errors='coerce')\n",
    "consolidado_brad_mes = consolidado_brad_mes[(consolidado_brad_mes['monto_promesa']>50)]\n",
    "consolidado_brad_mes = consolidado_brad_mes[(consolidado_brad_mes['monto_promesa']<500000)]\n",
    "#consolidado_brad_mes.fillna('COBRANZA',inplace=True)\n",
    "consolidado_brad_mes['NUMERO_TARJETA'] = pd.to_numeric(consolidado_brad_mes['NUMERO_TARJETA'])"
   ]
  },
  {
   "cell_type": "code",
   "execution_count": 42,
   "metadata": {},
   "outputs": [],
   "source": [
    "#Obtenemos los pagos totales por division\n",
    "pagos_totales_brad = pd.pivot_table(pagos_brad,index=['TIPO_ASIGANCION'],values=['MONTO'],aggfunc=[np.sum,'count'],margins=True,dropna=False)\n",
    "pagos_totales_brad = pd.DataFrame(pagos_totales_brad.to_records())\n",
    "pagos_totales_brad = pagos_totales_brad.iloc[:,[0,2,1]]\n",
    "pagos_totales_brad.columns = ['Division','NumeroPagos','SumaPagos']\n",
    "pagos_totales_brad.fillna(0,inplace=True)"
   ]
  },
  {
   "cell_type": "code",
   "execution_count": 43,
   "metadata": {},
   "outputs": [],
   "source": [
    "C04PV = pagos_totales_brad.loc[pagos_totales_brad['Division']=='C0 4PV', 'SumaPagos'].item()\n",
    "C05PV = pagos_totales_brad.loc[pagos_totales_brad['Division']=='C0 5PV', 'SumaPagos'].item()\n",
    "C06PV = pagos_totales_brad.loc[pagos_totales_brad['Division']=='C0 6PV', 'SumaPagos'].item()\n",
    "A = pagos_totales_brad.loc[pagos_totales_brad['Division']=='A', 'SumaPagos'].item()\n",
    "C1 = pagos_totales_brad.loc[pagos_totales_brad['Division']=='C1', 'SumaPagos'].item()\n",
    "C2 = pagos_totales_brad.loc[pagos_totales_brad['Division']=='C2', 'SumaPagos'].item()\n",
    "C3 = pagos_totales_brad.loc[pagos_totales_brad['Division']=='C3', 'SumaPagos'].item()\n",
    "C4 = pagos_totales_brad.loc[pagos_totales_brad['Division']=='C4', 'SumaPagos'].item()\n",
    "B = pagos_totales_brad.loc[pagos_totales_brad['Division']=='B', 'SumaPagos'].item()"
   ]
  },
  {
   "cell_type": "code",
   "execution_count": 44,
   "metadata": {},
   "outputs": [],
   "source": [
    "def func(row):\n",
    "    if row['TIPO_ASIGANCION'] == 'C0 4PV':\n",
    "        return np.where((C04PV>0) & (C04PV<=c04pv1),arancel_4pv1,\n",
    "                        np.where((C04PV>c04pv1) & (C04PV<=c04pv2),arancel_4pv2,\n",
    "                                 np.where((C04PV>c04pv2) & (C04PV<=c04pv3),arancel_4pv3,arancel_4pv3+.03)))\n",
    "    elif row['TIPO_ASIGANCION'] == 'C0 5PV':\n",
    "        return np.where((C05PV>0) & (C05PV<=c05pv1),arancel_5pv1,\n",
    "                        np.where((C05PV>c05pv1) & (C05PV<=c05pv2),arancel_5pv2,\n",
    "                                 np.where((C05PV>c05pv2) & (C05PV<=c05pv3),arancel_5pv3,arancel_5pv3+.03)))\n",
    "    elif row['TIPO_ASIGANCION'] == 'C0 6PV':\n",
    "        return np.where((C06PV>0) & (C06PV<=c06pv1),arancel_6pv1,\n",
    "                        np.where((C06PV>c06pv1) & (C06PV<=c06pv2),arancel_6pv2,\n",
    "                                 np.where((C06PV>c06pv2) & (C06PV<=c06pv3),arancel_6pv3,arancel_6pv3+.03)))\n",
    "    elif row['TIPO_ASIGANCION'] == 'A':\n",
    "        return np.where((A>0) & (A<=a1),arancel_a1,\n",
    "                        np.where((A>a1) & (A<=a2),arancel_a2,\n",
    "                                 np.where((A>a2) & (A<=a3),arancel_a3,arancel_a3+.03)))\n",
    "    elif row['TIPO_ASIGANCION'] == 'B':\n",
    "        return np.where((B>0) & (B<=b1),arancel_b1,\n",
    "                        np.where((B>b1) & (B<=b2),arancel_b2,\n",
    "                                 np.where((B>b2) & (B<=b3),arancel_b3,arancel_b3+.03)))\n",
    "    elif row['TIPO_ASIGANCION'] == 'C1':\n",
    "        return np.where((C1>0) & (C1<=c11),arancel_c11,\n",
    "                        np.where((C1>c11) & (C1<=c12),arancel_c12,\n",
    "                                 np.where((C1>c12) & (C1<=c13),arancel_c13,arancel_c13+.03)))\n",
    "    elif row['TIPO_ASIGANCION'] == 'C2':\n",
    "        return np.where((C2>0) & (C2<=c21),arancel_c21,\n",
    "                        np.where((C2>c21) & (C2<=c22),arancel_c22,\n",
    "                                 np.where((C2>c22) & (C2<=c23),arancel_c23,arancel_c23+.03)))\n",
    "    elif row['TIPO_ASIGANCION'] == 'C3':\n",
    "        return np.where((C3>0) & (C3<=c31),arancel_c31,\n",
    "                        np.where((C3>c31) & (C3<=c32),arancel_c32,\n",
    "                                 np.where((C3>c32) & (C3<=c33),arancel_c33,arancel_c33+.03)))\n",
    "    elif row['TIPO_ASIGANCION'] == 'C4':\n",
    "        return np.where((C4>0) & (C4<=c41),arancel_c41,\n",
    "                        np.where((C4>c41) & (C4<=c42),arancel_c42,\n",
    "                                 np.where((C4>c42) & (C4<=c43),arancel_c43,arancel_c43+.03)))\n",
    "    \n",
    "    else:\n",
    "        return 0"
   ]
  },
  {
   "cell_type": "code",
   "execution_count": 45,
   "metadata": {},
   "outputs": [],
   "source": [
    "pagos_brad2 = pagos_brad\n",
    "pagos_brad2['Arancel'] = pagos_brad2.apply(func, axis=1)\n",
    "pagos_brad2['Facturacion'] = [x*y for x,y in zip(pagos_brad2['MONTO'],pagos_brad2['Arancel'])]"
   ]
  },
  {
   "cell_type": "code",
   "execution_count": 46,
   "metadata": {},
   "outputs": [],
   "source": [
    "#Hacemos la union consolidado y pagos\n",
    "consoliado_pagos_brad = pd.merge(consolidado_brad_mes,pagos_brad2,how='left',on=['NUMERO_TARJETA'])\n",
    "consoliado_pagos_brad['fecha_promesa'] = pd.to_datetime(consoliado_pagos_brad['fecha_promesa'],dayfirst=False)"
   ]
  },
  {
   "cell_type": "code",
   "execution_count": 47,
   "metadata": {},
   "outputs": [],
   "source": [
    "#Condicionamos a los gestores cuyas promesas y pagos estan en un plazo de 3 dias\n",
    "consoliado_pagos_brad['PagoUnico'] = [np.where((z < x+pd.Timedelta(4, unit='D')) & ((z > x)), y, 0) for x,y,z in zip(consoliado_pagos_brad['fecha_promesa'],consoliado_pagos_brad['MONTO'],consoliado_pagos_brad['FECHA_PAGO'])]\n",
    "consoliado_pagos_brad['PagoUnico'] = [x.item() for x in consoliado_pagos_brad['PagoUnico']]"
   ]
  },
  {
   "cell_type": "code",
   "execution_count": 48,
   "metadata": {},
   "outputs": [],
   "source": [
    "consoliado_pagos_brad['PagoReal'] = [x*y for x,y in zip(consoliado_pagos_brad['PagoUnico'],consoliado_pagos_brad['Arancel'])]\n",
    "consoliado_pagos_brad2 = consoliado_pagos_brad.drop_duplicates(subset=['NUMERO_TARJETA','MONTO','FECHA_PAGO','usuario'])"
   ]
  },
  {
   "cell_type": "code",
   "execution_count": 49,
   "metadata": {},
   "outputs": [
    {
     "output_type": "execute_result",
     "data": {
      "text/plain": [
       "       usuario  ('count', 'MONTO')  ('count', 'PagoReal')  \\\n",
       "0  AGUILARMAVA                  71                     71   \n",
       "\n",
       "   ('count', 'monto_promesa')  ('sum', 'MONTO')  ('sum', 'PagoReal')  \\\n",
       "0                         113          108993.0              1171.06   \n",
       "\n",
       "   ('sum', 'monto_promesa')  \n",
       "0                  122013.0  "
      ],
      "text/html": "<div>\n<style scoped>\n    .dataframe tbody tr th:only-of-type {\n        vertical-align: middle;\n    }\n\n    .dataframe tbody tr th {\n        vertical-align: top;\n    }\n\n    .dataframe thead th {\n        text-align: right;\n    }\n</style>\n<table border=\"1\" class=\"dataframe\">\n  <thead>\n    <tr style=\"text-align: right;\">\n      <th></th>\n      <th>usuario</th>\n      <th>('count', 'MONTO')</th>\n      <th>('count', 'PagoReal')</th>\n      <th>('count', 'monto_promesa')</th>\n      <th>('sum', 'MONTO')</th>\n      <th>('sum', 'PagoReal')</th>\n      <th>('sum', 'monto_promesa')</th>\n    </tr>\n  </thead>\n  <tbody>\n    <tr>\n      <th>0</th>\n      <td>AGUILARMAVA</td>\n      <td>71</td>\n      <td>71</td>\n      <td>113</td>\n      <td>108993.0</td>\n      <td>1171.06</td>\n      <td>122013.0</td>\n    </tr>\n  </tbody>\n</table>\n</div>"
     },
     "metadata": {},
     "execution_count": 49
    }
   ],
   "source": [
    "pagos_totales_brad2 = pd.pivot_table(consoliado_pagos_brad,index=['usuario'],values=['monto_promesa','MONTO','PagoReal'],aggfunc=['count',np.sum],dropna=False)\n",
    "pagos_totales_brad2 = pd.DataFrame(pagos_totales_brad2.to_records())\n",
    "# pagos_totales_brad2 = pagos_totales_brad2.iloc[:,[0,3,1,6,4,5]]\n",
    "# pagos_totales_brad2.columns = ['Gestor','NumeroPromesas','NumeroPagos','SumaPromesas','SumaPagos','SumaArancel']\n",
    "# pagos_totales_brad2.fillna(0,inplace=True)\n",
    "#pagos_totales_brad2['FechaFact'] = max(pagos_brad2['FECHA_PAGO'])\n",
    "pagos_totales_brad2.head(1)"
   ]
  },
  {
   "cell_type": "code",
   "execution_count": 50,
   "metadata": {},
   "outputs": [
    {
     "output_type": "execute_result",
     "data": {
      "text/plain": [
       "                          Gestor  NumeroPromesas  NumeroPagos  SumaPromesas  \\\n",
       "0  AGUILAR RIOS DANIEL ALEJANDRO            12.0          5.0       26501.0   \n",
       "\n",
       "   SumaPagos  SumaArancel  EfVolumen   EfPagos  \n",
       "0     2021.0        808.4   0.416667  0.076261  "
      ],
      "text/html": "<div>\n<style scoped>\n    .dataframe tbody tr th:only-of-type {\n        vertical-align: middle;\n    }\n\n    .dataframe tbody tr th {\n        vertical-align: top;\n    }\n\n    .dataframe thead th {\n        text-align: right;\n    }\n</style>\n<table border=\"1\" class=\"dataframe\">\n  <thead>\n    <tr style=\"text-align: right;\">\n      <th></th>\n      <th>Gestor</th>\n      <th>NumeroPromesas</th>\n      <th>NumeroPagos</th>\n      <th>SumaPromesas</th>\n      <th>SumaPagos</th>\n      <th>SumaArancel</th>\n      <th>EfVolumen</th>\n      <th>EfPagos</th>\n    </tr>\n  </thead>\n  <tbody>\n    <tr>\n      <th>0</th>\n      <td>AGUILAR RIOS DANIEL ALEJANDRO</td>\n      <td>12.0</td>\n      <td>5.0</td>\n      <td>26501.0</td>\n      <td>2021.0</td>\n      <td>808.4</td>\n      <td>0.416667</td>\n      <td>0.076261</td>\n    </tr>\n  </tbody>\n</table>\n</div>"
     },
     "metadata": {},
     "execution_count": 50
    }
   ],
   "source": [
    "gestor_brad_liv = pd.concat([pagos_totales_brad2,prom_liv_gestor_mes],ignore_index=True)\n",
    "gestor_final_brad_liv = pd.pivot_table(gestor_brad_liv,index=['Gestor'],values=['NumeroPromesas','NumeroPagos','SumaPromesas','SumaPagos','SumaArancel'],aggfunc=np.sum)\n",
    "gestor_final_brad_liv = pd.DataFrame(gestor_final_brad_liv.to_records())\n",
    "gestor_final_brad_liv = gestor_final_brad_liv.iloc[:,[0,2,1,5,4,3]]\n",
    "gestor_final_brad_liv['EfVolumen'] = gestor_final_brad_liv['NumeroPagos']/gestor_final_brad_liv['NumeroPromesas']\n",
    "gestor_final_brad_liv['EfPagos'] = gestor_final_brad_liv['SumaPagos']/gestor_final_brad_liv['SumaPromesas']\n",
    "gestor_final_brad_liv.head(1)"
   ]
  },
  {
   "cell_type": "code",
   "execution_count": 51,
   "metadata": {},
   "outputs": [
    {
     "output_type": "execute_result",
     "data": {
      "text/plain": [
       "                          Gestor  SumaPagos   EfPagos\n",
       "0  AGUILAR RIOS DANIEL ALEJANDRO     2021.0  0.076261"
      ],
      "text/html": "<div>\n<style scoped>\n    .dataframe tbody tr th:only-of-type {\n        vertical-align: middle;\n    }\n\n    .dataframe tbody tr th {\n        vertical-align: top;\n    }\n\n    .dataframe thead th {\n        text-align: right;\n    }\n</style>\n<table border=\"1\" class=\"dataframe\">\n  <thead>\n    <tr style=\"text-align: right;\">\n      <th></th>\n      <th>Gestor</th>\n      <th>SumaPagos</th>\n      <th>EfPagos</th>\n    </tr>\n  </thead>\n  <tbody>\n    <tr>\n      <th>0</th>\n      <td>AGUILAR RIOS DANIEL ALEJANDRO</td>\n      <td>2021.0</td>\n      <td>0.076261</td>\n    </tr>\n  </tbody>\n</table>\n</div>"
     },
     "metadata": {},
     "execution_count": 51
    }
   ],
   "source": [
    "gestor_final_brad_liv2 = gestor_final_brad_liv[['Gestor','SumaPagos','EfPagos']]\n",
    "gestor_final_brad_liv2.head(1)"
   ]
  },
  {
   "cell_type": "code",
   "execution_count": 52,
   "metadata": {},
   "outputs": [
    {
     "output_type": "execute_result",
     "data": {
      "text/plain": [
       "                                  Gestor  SumaPagos   EfPagos  \\\n",
       "0          AGUILAR RIOS DANIEL ALEJANDRO    2021.00  0.076261   \n",
       "1       ALEJANDRA YESENIA HERNANDEZ BITE    8928.00  0.148589   \n",
       "2        BARRETO OSEGUERA MARIA FERNANDA   52131.00  0.344619   \n",
       "3                  BERENICE GUZMAN JAIME   19223.00  0.143819   \n",
       "4   CASTILLEJO CASTILLEJO DULCE MICHELLE       0.00  0.000000   \n",
       "5                CASTRO REZA IRVING YAEL       0.00  0.000000   \n",
       "6            COLULA CALIXTO MIGUEL ANGEL   20010.00  0.226416   \n",
       "7                    CRUZ SALAZAR XIMENA   58148.00  0.458394   \n",
       "8                 DANIEL PINEDA ALVARADO       0.00  0.000000   \n",
       "9                       DIAZ DIAZ LEONOR   28461.00  0.136053   \n",
       "10      ESCALONA ZUNIGA FRANCISCO JAVIER    1768.00  1.000000   \n",
       "11             GARCIA FLORES OMAR ADRIAN  118184.36  0.939482   \n",
       "12                GOMEZ CARRILLO LETICIA   59602.37  0.691729   \n",
       "13                  GONZALEZ TOTO BRENDA   27415.00  0.219675   \n",
       "14          HERNANDEZ MEDEL LUIS ENRIQUE       0.00  0.000000   \n",
       "15                 JUAREZ ROBLEDO LORENA   24700.00  0.262738   \n",
       "16             LOPEZ ESTRADA MA. IGNACIA   12000.00  0.558140   \n",
       "17                LOPEZ LOPEZ JULIO IVAN    5932.00  0.061581   \n",
       "18                 LOPEZ VASQUEZ YOSELIN   34165.00  0.390003   \n",
       "19      LORAYNI GUADALUPE OSNAYA VAZQUEZ   40945.00  0.292908   \n",
       "20     LUCIA ESMERALDA LONGORIA CISNEROS    5092.00  0.367999   \n",
       "21         MADRID GARCIA MARIA GUADALUPE   11416.00  0.178797   \n",
       "22                  MANUEL BUSTOS LUCERO   19556.00  0.408617   \n",
       "23                 MEDINA ARIAS MAURICIO    1800.00  0.047718   \n",
       "24                OROZCO GONZALEZ BRENDA  158971.72  0.696189   \n",
       "25            QUINTOS ARVIZU LUIS DANIEL   20990.00  0.228220   \n",
       "26          RAMIREZ OSORIO CESAR AUGUSTO    2400.00  0.096050   \n",
       "27              RODRIGUEZ MARQUEZ JAVIER    4756.00  0.158597   \n",
       "28         RODRIGUEZ PAZ DIANA ELIZABETH   45657.00  0.306981   \n",
       "29          RUIZ CASIMIRO MARCO ANTONIO    14134.51  0.077393   \n",
       "30                  TORRES NARVAEZ MAYTE   14967.00  0.257932   \n",
       "31        TREJO MONTESINOS JORGE JHOVANI   19207.00  0.153881   \n",
       "32            ZARZA NORIA JEFREY ALBERTO   42161.00  0.300787   \n",
       "33                AGUILAR MACEDO VALERIA       0.00  0.000000   \n",
       "34            ALANIZ DIAZ ALISON JOCELIN       0.00  0.000000   \n",
       "35              AMADOR FLORES LUIS ANGEL       0.00  0.000000   \n",
       "36           BALBUENA MACEDO EDGAR URIEL       0.00  0.000000   \n",
       "37           BERNAL TREJO MARIA FERNANDA       0.00  0.000000   \n",
       "38        CARRANCO ZAMORA JAIME WALBERTO       0.00  0.000000   \n",
       "39                 CID IRINEO ROSA ISELA       0.00  0.000000   \n",
       "40          ESCOBAR MONROY BRENDA IVONNE       0.00  0.000000   \n",
       "41         GARCIA JIMENEZ ALONDRA YAZMIN       0.00  0.000000   \n",
       "42    GUADALUPE MAYELA HERNANDEZ MENDITA       0.00  0.000000   \n",
       "43             HERNANDEZ GONZALEZ SANDRA       0.00  0.000000   \n",
       "44          HUERTA LOPEZ NATALIA XOCHITL       0.00  0.000000   \n",
       "45            LIZBETH INELVA LUNA COLULA       0.00  0.000000   \n",
       "46                MIRIAM PEINADO ALVAREZ       0.00  0.000000   \n",
       "47        MISHELLLE ADYANI CHAVEZ CASTRO       0.00  0.000000   \n",
       "48              MUNOZ BORJA KATYA MUSMED       0.00  0.000000   \n",
       "49        RAMIREZ REYES LESLIE GUADALUPE       0.00  0.000000   \n",
       "50          RODRIGUEZ HERNANDEZ CRISTIAN       0.00  0.000000   \n",
       "51             ROSAS TREJO JESUS EDUARDO       0.00  0.000000   \n",
       "52           RUIZ CASIMIRO MARCO ANTONIO       0.00  0.000000   \n",
       "53          TRON FIERROS FELIPE DE JESUS       0.00  0.000000   \n",
       "54        VARGAS CANCINO AURENY ARISBETH       0.00  0.000000   \n",
       "55      VAZQUEZ SANCHEZ LINNETH BERENICE       0.00  0.000000   \n",
       "56                VEGA HERNANDEZ NATALIE       0.00  0.000000   \n",
       "57                ROBLES REYES VIRIDIANA       0.00  0.000000   \n",
       "58       TEPOZOTLAN CENTENO PERLA YADIRA       0.00  0.000000   \n",
       "\n",
       "    PromedioOcupacion  ContactoHora  LlamadasHora  \n",
       "0            0.154150      0.833333          40.0  \n",
       "1            0.000000      0.000000           0.0  \n",
       "2            0.149900      1.465347          19.0  \n",
       "3            0.269041      0.437037          47.0  \n",
       "4            0.000000      0.000000           0.0  \n",
       "5            0.411575      0.197080          23.0  \n",
       "6            0.403200      0.921348          37.0  \n",
       "7            0.280612      0.137931          44.0  \n",
       "8            0.295519      0.409836          21.0  \n",
       "9            0.072361      0.230769          18.0  \n",
       "10           0.428825      1.148148          32.0  \n",
       "11           0.000000      0.000000           0.0  \n",
       "12           0.435065      1.027273          43.0  \n",
       "13           0.441719      0.542373          25.0  \n",
       "14           0.210540      2.154639          22.0  \n",
       "15           0.265428      1.442424          32.0  \n",
       "16           0.469719      1.618750          23.0  \n",
       "17           0.000000      0.000000           0.0  \n",
       "18           0.218782      0.719697          20.0  \n",
       "19           0.400165      0.143939          32.0  \n",
       "20           0.248394      0.101695          30.0  \n",
       "21           0.503165      1.129032          25.0  \n",
       "22           0.281488      0.445255          31.0  \n",
       "23           0.000000      0.000000           0.0  \n",
       "24           0.372622      1.397436          30.0  \n",
       "25           0.000000      0.000000           0.0  \n",
       "26           0.438381      0.196262          30.0  \n",
       "27           0.408450      0.421053          20.0  \n",
       "28           0.446138      0.288136          19.0  \n",
       "29           0.000000      0.000000           0.0  \n",
       "30           0.230800      0.336842          34.0  \n",
       "31           0.433479      2.306931          31.0  \n",
       "32           0.000000      0.000000           0.0  \n",
       "33           0.097888      0.651007          13.0  \n",
       "34           0.251075      1.117647          49.0  \n",
       "35           0.341909      1.576923          23.0  \n",
       "36           0.376525      0.415584          23.0  \n",
       "37           0.180860      2.129870          29.0  \n",
       "38           0.262767      3.454545          32.0  \n",
       "39           0.403394      1.389535          26.0  \n",
       "40           0.217100           inf           inf  \n",
       "41           0.405857      2.460000          25.0  \n",
       "42           0.283839      1.019737          25.0  \n",
       "43           0.260147      0.685950          25.0  \n",
       "44           0.412994      0.453988          15.0  \n",
       "45           0.333461      0.450000          15.0  \n",
       "46           0.362167      1.474747          27.0  \n",
       "47           0.000000      0.000000           0.0  \n",
       "48           0.118424      1.007407          20.0  \n",
       "49           0.170550      0.159292          14.0  \n",
       "50           0.322100      3.333333          30.0  \n",
       "51           0.351550      3.582524          33.0  \n",
       "52           0.209300      1.426230          33.0  \n",
       "53           0.057081      1.081481           7.0  \n",
       "54           0.426013      1.150000          28.0  \n",
       "55           0.298329      0.368794          18.0  \n",
       "56           0.399693      2.423423          22.0  \n",
       "57           0.221900      0.000000           inf  \n",
       "58           0.000000      0.000000           0.0  "
      ],
      "text/html": "<div>\n<style scoped>\n    .dataframe tbody tr th:only-of-type {\n        vertical-align: middle;\n    }\n\n    .dataframe tbody tr th {\n        vertical-align: top;\n    }\n\n    .dataframe thead th {\n        text-align: right;\n    }\n</style>\n<table border=\"1\" class=\"dataframe\">\n  <thead>\n    <tr style=\"text-align: right;\">\n      <th></th>\n      <th>Gestor</th>\n      <th>SumaPagos</th>\n      <th>EfPagos</th>\n      <th>PromedioOcupacion</th>\n      <th>ContactoHora</th>\n      <th>LlamadasHora</th>\n    </tr>\n  </thead>\n  <tbody>\n    <tr>\n      <th>0</th>\n      <td>AGUILAR RIOS DANIEL ALEJANDRO</td>\n      <td>2021.00</td>\n      <td>0.076261</td>\n      <td>0.154150</td>\n      <td>0.833333</td>\n      <td>40.0</td>\n    </tr>\n    <tr>\n      <th>1</th>\n      <td>ALEJANDRA YESENIA HERNANDEZ BITE</td>\n      <td>8928.00</td>\n      <td>0.148589</td>\n      <td>0.000000</td>\n      <td>0.000000</td>\n      <td>0.0</td>\n    </tr>\n    <tr>\n      <th>2</th>\n      <td>BARRETO OSEGUERA MARIA FERNANDA</td>\n      <td>52131.00</td>\n      <td>0.344619</td>\n      <td>0.149900</td>\n      <td>1.465347</td>\n      <td>19.0</td>\n    </tr>\n    <tr>\n      <th>3</th>\n      <td>BERENICE GUZMAN JAIME</td>\n      <td>19223.00</td>\n      <td>0.143819</td>\n      <td>0.269041</td>\n      <td>0.437037</td>\n      <td>47.0</td>\n    </tr>\n    <tr>\n      <th>4</th>\n      <td>CASTILLEJO CASTILLEJO DULCE MICHELLE</td>\n      <td>0.00</td>\n      <td>0.000000</td>\n      <td>0.000000</td>\n      <td>0.000000</td>\n      <td>0.0</td>\n    </tr>\n    <tr>\n      <th>5</th>\n      <td>CASTRO REZA IRVING YAEL</td>\n      <td>0.00</td>\n      <td>0.000000</td>\n      <td>0.411575</td>\n      <td>0.197080</td>\n      <td>23.0</td>\n    </tr>\n    <tr>\n      <th>6</th>\n      <td>COLULA CALIXTO MIGUEL ANGEL</td>\n      <td>20010.00</td>\n      <td>0.226416</td>\n      <td>0.403200</td>\n      <td>0.921348</td>\n      <td>37.0</td>\n    </tr>\n    <tr>\n      <th>7</th>\n      <td>CRUZ SALAZAR XIMENA</td>\n      <td>58148.00</td>\n      <td>0.458394</td>\n      <td>0.280612</td>\n      <td>0.137931</td>\n      <td>44.0</td>\n    </tr>\n    <tr>\n      <th>8</th>\n      <td>DANIEL PINEDA ALVARADO</td>\n      <td>0.00</td>\n      <td>0.000000</td>\n      <td>0.295519</td>\n      <td>0.409836</td>\n      <td>21.0</td>\n    </tr>\n    <tr>\n      <th>9</th>\n      <td>DIAZ DIAZ LEONOR</td>\n      <td>28461.00</td>\n      <td>0.136053</td>\n      <td>0.072361</td>\n      <td>0.230769</td>\n      <td>18.0</td>\n    </tr>\n    <tr>\n      <th>10</th>\n      <td>ESCALONA ZUNIGA FRANCISCO JAVIER</td>\n      <td>1768.00</td>\n      <td>1.000000</td>\n      <td>0.428825</td>\n      <td>1.148148</td>\n      <td>32.0</td>\n    </tr>\n    <tr>\n      <th>11</th>\n      <td>GARCIA FLORES OMAR ADRIAN</td>\n      <td>118184.36</td>\n      <td>0.939482</td>\n      <td>0.000000</td>\n      <td>0.000000</td>\n      <td>0.0</td>\n    </tr>\n    <tr>\n      <th>12</th>\n      <td>GOMEZ CARRILLO LETICIA</td>\n      <td>59602.37</td>\n      <td>0.691729</td>\n      <td>0.435065</td>\n      <td>1.027273</td>\n      <td>43.0</td>\n    </tr>\n    <tr>\n      <th>13</th>\n      <td>GONZALEZ TOTO BRENDA</td>\n      <td>27415.00</td>\n      <td>0.219675</td>\n      <td>0.441719</td>\n      <td>0.542373</td>\n      <td>25.0</td>\n    </tr>\n    <tr>\n      <th>14</th>\n      <td>HERNANDEZ MEDEL LUIS ENRIQUE</td>\n      <td>0.00</td>\n      <td>0.000000</td>\n      <td>0.210540</td>\n      <td>2.154639</td>\n      <td>22.0</td>\n    </tr>\n    <tr>\n      <th>15</th>\n      <td>JUAREZ ROBLEDO LORENA</td>\n      <td>24700.00</td>\n      <td>0.262738</td>\n      <td>0.265428</td>\n      <td>1.442424</td>\n      <td>32.0</td>\n    </tr>\n    <tr>\n      <th>16</th>\n      <td>LOPEZ ESTRADA MA. IGNACIA</td>\n      <td>12000.00</td>\n      <td>0.558140</td>\n      <td>0.469719</td>\n      <td>1.618750</td>\n      <td>23.0</td>\n    </tr>\n    <tr>\n      <th>17</th>\n      <td>LOPEZ LOPEZ JULIO IVAN</td>\n      <td>5932.00</td>\n      <td>0.061581</td>\n      <td>0.000000</td>\n      <td>0.000000</td>\n      <td>0.0</td>\n    </tr>\n    <tr>\n      <th>18</th>\n      <td>LOPEZ VASQUEZ YOSELIN</td>\n      <td>34165.00</td>\n      <td>0.390003</td>\n      <td>0.218782</td>\n      <td>0.719697</td>\n      <td>20.0</td>\n    </tr>\n    <tr>\n      <th>19</th>\n      <td>LORAYNI GUADALUPE OSNAYA VAZQUEZ</td>\n      <td>40945.00</td>\n      <td>0.292908</td>\n      <td>0.400165</td>\n      <td>0.143939</td>\n      <td>32.0</td>\n    </tr>\n    <tr>\n      <th>20</th>\n      <td>LUCIA ESMERALDA LONGORIA CISNEROS</td>\n      <td>5092.00</td>\n      <td>0.367999</td>\n      <td>0.248394</td>\n      <td>0.101695</td>\n      <td>30.0</td>\n    </tr>\n    <tr>\n      <th>21</th>\n      <td>MADRID GARCIA MARIA GUADALUPE</td>\n      <td>11416.00</td>\n      <td>0.178797</td>\n      <td>0.503165</td>\n      <td>1.129032</td>\n      <td>25.0</td>\n    </tr>\n    <tr>\n      <th>22</th>\n      <td>MANUEL BUSTOS LUCERO</td>\n      <td>19556.00</td>\n      <td>0.408617</td>\n      <td>0.281488</td>\n      <td>0.445255</td>\n      <td>31.0</td>\n    </tr>\n    <tr>\n      <th>23</th>\n      <td>MEDINA ARIAS MAURICIO</td>\n      <td>1800.00</td>\n      <td>0.047718</td>\n      <td>0.000000</td>\n      <td>0.000000</td>\n      <td>0.0</td>\n    </tr>\n    <tr>\n      <th>24</th>\n      <td>OROZCO GONZALEZ BRENDA</td>\n      <td>158971.72</td>\n      <td>0.696189</td>\n      <td>0.372622</td>\n      <td>1.397436</td>\n      <td>30.0</td>\n    </tr>\n    <tr>\n      <th>25</th>\n      <td>QUINTOS ARVIZU LUIS DANIEL</td>\n      <td>20990.00</td>\n      <td>0.228220</td>\n      <td>0.000000</td>\n      <td>0.000000</td>\n      <td>0.0</td>\n    </tr>\n    <tr>\n      <th>26</th>\n      <td>RAMIREZ OSORIO CESAR AUGUSTO</td>\n      <td>2400.00</td>\n      <td>0.096050</td>\n      <td>0.438381</td>\n      <td>0.196262</td>\n      <td>30.0</td>\n    </tr>\n    <tr>\n      <th>27</th>\n      <td>RODRIGUEZ MARQUEZ JAVIER</td>\n      <td>4756.00</td>\n      <td>0.158597</td>\n      <td>0.408450</td>\n      <td>0.421053</td>\n      <td>20.0</td>\n    </tr>\n    <tr>\n      <th>28</th>\n      <td>RODRIGUEZ PAZ DIANA ELIZABETH</td>\n      <td>45657.00</td>\n      <td>0.306981</td>\n      <td>0.446138</td>\n      <td>0.288136</td>\n      <td>19.0</td>\n    </tr>\n    <tr>\n      <th>29</th>\n      <td>RUIZ CASIMIRO MARCO ANTONIO</td>\n      <td>14134.51</td>\n      <td>0.077393</td>\n      <td>0.000000</td>\n      <td>0.000000</td>\n      <td>0.0</td>\n    </tr>\n    <tr>\n      <th>30</th>\n      <td>TORRES NARVAEZ MAYTE</td>\n      <td>14967.00</td>\n      <td>0.257932</td>\n      <td>0.230800</td>\n      <td>0.336842</td>\n      <td>34.0</td>\n    </tr>\n    <tr>\n      <th>31</th>\n      <td>TREJO MONTESINOS JORGE JHOVANI</td>\n      <td>19207.00</td>\n      <td>0.153881</td>\n      <td>0.433479</td>\n      <td>2.306931</td>\n      <td>31.0</td>\n    </tr>\n    <tr>\n      <th>32</th>\n      <td>ZARZA NORIA JEFREY ALBERTO</td>\n      <td>42161.00</td>\n      <td>0.300787</td>\n      <td>0.000000</td>\n      <td>0.000000</td>\n      <td>0.0</td>\n    </tr>\n    <tr>\n      <th>33</th>\n      <td>AGUILAR MACEDO VALERIA</td>\n      <td>0.00</td>\n      <td>0.000000</td>\n      <td>0.097888</td>\n      <td>0.651007</td>\n      <td>13.0</td>\n    </tr>\n    <tr>\n      <th>34</th>\n      <td>ALANIZ DIAZ ALISON JOCELIN</td>\n      <td>0.00</td>\n      <td>0.000000</td>\n      <td>0.251075</td>\n      <td>1.117647</td>\n      <td>49.0</td>\n    </tr>\n    <tr>\n      <th>35</th>\n      <td>AMADOR FLORES LUIS ANGEL</td>\n      <td>0.00</td>\n      <td>0.000000</td>\n      <td>0.341909</td>\n      <td>1.576923</td>\n      <td>23.0</td>\n    </tr>\n    <tr>\n      <th>36</th>\n      <td>BALBUENA MACEDO EDGAR URIEL</td>\n      <td>0.00</td>\n      <td>0.000000</td>\n      <td>0.376525</td>\n      <td>0.415584</td>\n      <td>23.0</td>\n    </tr>\n    <tr>\n      <th>37</th>\n      <td>BERNAL TREJO MARIA FERNANDA</td>\n      <td>0.00</td>\n      <td>0.000000</td>\n      <td>0.180860</td>\n      <td>2.129870</td>\n      <td>29.0</td>\n    </tr>\n    <tr>\n      <th>38</th>\n      <td>CARRANCO ZAMORA JAIME WALBERTO</td>\n      <td>0.00</td>\n      <td>0.000000</td>\n      <td>0.262767</td>\n      <td>3.454545</td>\n      <td>32.0</td>\n    </tr>\n    <tr>\n      <th>39</th>\n      <td>CID IRINEO ROSA ISELA</td>\n      <td>0.00</td>\n      <td>0.000000</td>\n      <td>0.403394</td>\n      <td>1.389535</td>\n      <td>26.0</td>\n    </tr>\n    <tr>\n      <th>40</th>\n      <td>ESCOBAR MONROY BRENDA IVONNE</td>\n      <td>0.00</td>\n      <td>0.000000</td>\n      <td>0.217100</td>\n      <td>inf</td>\n      <td>inf</td>\n    </tr>\n    <tr>\n      <th>41</th>\n      <td>GARCIA JIMENEZ ALONDRA YAZMIN</td>\n      <td>0.00</td>\n      <td>0.000000</td>\n      <td>0.405857</td>\n      <td>2.460000</td>\n      <td>25.0</td>\n    </tr>\n    <tr>\n      <th>42</th>\n      <td>GUADALUPE MAYELA HERNANDEZ MENDITA</td>\n      <td>0.00</td>\n      <td>0.000000</td>\n      <td>0.283839</td>\n      <td>1.019737</td>\n      <td>25.0</td>\n    </tr>\n    <tr>\n      <th>43</th>\n      <td>HERNANDEZ GONZALEZ SANDRA</td>\n      <td>0.00</td>\n      <td>0.000000</td>\n      <td>0.260147</td>\n      <td>0.685950</td>\n      <td>25.0</td>\n    </tr>\n    <tr>\n      <th>44</th>\n      <td>HUERTA LOPEZ NATALIA XOCHITL</td>\n      <td>0.00</td>\n      <td>0.000000</td>\n      <td>0.412994</td>\n      <td>0.453988</td>\n      <td>15.0</td>\n    </tr>\n    <tr>\n      <th>45</th>\n      <td>LIZBETH INELVA LUNA COLULA</td>\n      <td>0.00</td>\n      <td>0.000000</td>\n      <td>0.333461</td>\n      <td>0.450000</td>\n      <td>15.0</td>\n    </tr>\n    <tr>\n      <th>46</th>\n      <td>MIRIAM PEINADO ALVAREZ</td>\n      <td>0.00</td>\n      <td>0.000000</td>\n      <td>0.362167</td>\n      <td>1.474747</td>\n      <td>27.0</td>\n    </tr>\n    <tr>\n      <th>47</th>\n      <td>MISHELLLE ADYANI CHAVEZ CASTRO</td>\n      <td>0.00</td>\n      <td>0.000000</td>\n      <td>0.000000</td>\n      <td>0.000000</td>\n      <td>0.0</td>\n    </tr>\n    <tr>\n      <th>48</th>\n      <td>MUNOZ BORJA KATYA MUSMED</td>\n      <td>0.00</td>\n      <td>0.000000</td>\n      <td>0.118424</td>\n      <td>1.007407</td>\n      <td>20.0</td>\n    </tr>\n    <tr>\n      <th>49</th>\n      <td>RAMIREZ REYES LESLIE GUADALUPE</td>\n      <td>0.00</td>\n      <td>0.000000</td>\n      <td>0.170550</td>\n      <td>0.159292</td>\n      <td>14.0</td>\n    </tr>\n    <tr>\n      <th>50</th>\n      <td>RODRIGUEZ HERNANDEZ CRISTIAN</td>\n      <td>0.00</td>\n      <td>0.000000</td>\n      <td>0.322100</td>\n      <td>3.333333</td>\n      <td>30.0</td>\n    </tr>\n    <tr>\n      <th>51</th>\n      <td>ROSAS TREJO JESUS EDUARDO</td>\n      <td>0.00</td>\n      <td>0.000000</td>\n      <td>0.351550</td>\n      <td>3.582524</td>\n      <td>33.0</td>\n    </tr>\n    <tr>\n      <th>52</th>\n      <td>RUIZ CASIMIRO MARCO ANTONIO</td>\n      <td>0.00</td>\n      <td>0.000000</td>\n      <td>0.209300</td>\n      <td>1.426230</td>\n      <td>33.0</td>\n    </tr>\n    <tr>\n      <th>53</th>\n      <td>TRON FIERROS FELIPE DE JESUS</td>\n      <td>0.00</td>\n      <td>0.000000</td>\n      <td>0.057081</td>\n      <td>1.081481</td>\n      <td>7.0</td>\n    </tr>\n    <tr>\n      <th>54</th>\n      <td>VARGAS CANCINO AURENY ARISBETH</td>\n      <td>0.00</td>\n      <td>0.000000</td>\n      <td>0.426013</td>\n      <td>1.150000</td>\n      <td>28.0</td>\n    </tr>\n    <tr>\n      <th>55</th>\n      <td>VAZQUEZ SANCHEZ LINNETH BERENICE</td>\n      <td>0.00</td>\n      <td>0.000000</td>\n      <td>0.298329</td>\n      <td>0.368794</td>\n      <td>18.0</td>\n    </tr>\n    <tr>\n      <th>56</th>\n      <td>VEGA HERNANDEZ NATALIE</td>\n      <td>0.00</td>\n      <td>0.000000</td>\n      <td>0.399693</td>\n      <td>2.423423</td>\n      <td>22.0</td>\n    </tr>\n    <tr>\n      <th>57</th>\n      <td>ROBLES REYES VIRIDIANA</td>\n      <td>0.00</td>\n      <td>0.000000</td>\n      <td>0.221900</td>\n      <td>0.000000</td>\n      <td>inf</td>\n    </tr>\n    <tr>\n      <th>58</th>\n      <td>TEPOZOTLAN CENTENO PERLA YADIRA</td>\n      <td>0.00</td>\n      <td>0.000000</td>\n      <td>0.000000</td>\n      <td>0.000000</td>\n      <td>0.0</td>\n    </tr>\n  </tbody>\n</table>\n</div>"
     },
     "metadata": {},
     "execution_count": 52
    }
   ],
   "source": [
    "final = pd.merge(gestor_final_brad_liv2,conjunto_performance_llamadas,how='outer',on='Gestor')\n",
    "#final['PromedioLlamadasHora'] = final['PromedioLlamadasHora'].round()\n",
    "final['PromedioOcupacion'] = final['PromedioOcupacion']/100\n",
    "cols = ['PromedioOcupacion','EfPagos','LlamadasHora','ContactoHora']\n",
    "#final[cols] = final[cols].round(2)\n",
    "final.fillna(0,inplace=True)\n",
    "final"
   ]
  },
  {
   "cell_type": "code",
   "execution_count": 53,
   "metadata": {},
   "outputs": [],
   "source": [
    "writer = pd.ExcelWriter(''+ruta_guardar+'/Gestores/BradLiv/Reporte Gestor BradLiv '+now+'.xlsx',engine='xlsxwriter')\n",
    "final.to_excel(writer,'BSC',index=False,header=True)\n",
    "gestor_final_brad_liv2.to_excel(writer,'MontoRecuperado',index=False,header=True)\n",
    "control_liv_consol_turno.to_excel(writer,'LlamadasDetallado',index=False,header=True)\n",
    "control_performance_brad_turno.to_excel(writer,'PerformanceDetallado',index=False,header=True)\n",
    "gestor_final_brad_liv.to_excel(writer,'PagosDetallado',index=False,header=True)\n",
    "\n",
    "writer.save()"
   ]
  },
  {
   "cell_type": "code",
   "execution_count": null,
   "metadata": {},
   "outputs": [],
   "source": []
  }
 ]
}