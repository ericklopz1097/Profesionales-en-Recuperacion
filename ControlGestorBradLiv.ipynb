{
 "metadata": {
  "language_info": {
   "codemirror_mode": {
    "name": "ipython",
    "version": 3
   },
   "file_extension": ".py",
   "mimetype": "text/x-python",
   "name": "python",
   "nbconvert_exporter": "python",
   "pygments_lexer": "ipython3",
   "version": "3.8.5-final"
  },
  "orig_nbformat": 2,
  "kernelspec": {
   "name": "python3",
   "display_name": "Python 3",
   "language": "python"
  }
 },
 "nbformat": 4,
 "nbformat_minor": 2,
 "cells": [
  {
   "cell_type": "code",
   "execution_count": 58,
   "metadata": {},
   "outputs": [],
   "source": [
    "import pandas as pd\n",
    "import numpy as np\n",
    "import mysql.connector\n",
    "import os\n",
    "from mysql.connector import Error\n",
    "from datetime import datetime, date, timedelta\n",
    "import re\n",
    "from IPython.core.interactiveshell import InteractiveShell\n",
    "InteractiveShell.ast_node_interactivity = \"all\""
   ]
  },
  {
   "cell_type": "code",
   "execution_count": 59,
   "metadata": {},
   "outputs": [],
   "source": [
    "#Definimos la ruta en donde queremos guardar los archivos\n",
    "ruta_guardar = '/home/estadistico/Documents/Erick/Reportes diarios'\n",
    "ruta_asig_baz = '/home/estadistico/Documents/Erick/Banco Azteca/Asignacion csv'\n",
    "ruta_pagos = '/home/estadistico/Documents/Erick'\n",
    "mes = 20201201\n",
    "mes2 = 'Diciembre2020'\n",
    "mes3 = pd.to_datetime('01/12/2020',dayfirst=True)\n",
    "prim_sem_mes = 49"
   ]
  },
  {
   "cell_type": "code",
   "execution_count": 60,
   "metadata": {},
   "outputs": [],
   "source": [
    "#Agregamos las variables a ocupar\n",
    "servidor = '192.168.15.12'\n",
    "puerto = int('3306')\n",
    "usuario = 'estadisticas'\n",
    "contrasena = 'estadisticas8474'\n",
    "base = 'procesos_externos'"
   ]
  },
  {
   "cell_type": "code",
   "execution_count": 61,
   "metadata": {},
   "outputs": [],
   "source": [
    "#Lectura pagos Bradesco\n",
    "pagos_brad = pd.read_excel(''+ruta_pagos+'/'+str(mes2)+'/Bradesco/Pagos/ENRIQUEZ Acumulado de pagos Diciembre de 2020.xlsx')\n",
    "pagos_brad = pagos_brad.iloc[:,0:9]\n",
    "pagos_brad = pagos_brad.drop_duplicates()\n",
    "pagos_brad2 = pd.pivot_table(pagos_brad,index=['NUMERO_TARJETA','FECHA_PAGO','TIPO_ASIGANCION'],values=['MONTO'],aggfunc=np.sum)\n",
    "pagos_brad2 = pd.DataFrame(pagos_brad2.to_records())\n",
    "pagos_brad2 = pagos_brad2.loc[pagos_brad2['FECHA_PAGO']>=mes3]"
   ]
  },
  {
   "cell_type": "code",
   "execution_count": 62,
   "metadata": {},
   "outputs": [],
   "source": [
    "#Lectura pagos Liverpool\n",
    "sheet_liv = ['SA002REM','SA001REM','DKN04REM','DKN02REM','DKN00REM']\n",
    "pagos_liv = pd.DataFrame()\n",
    "for i in sheet_liv:\n",
    "    pagos_liv_new = pd.read_excel(''+ruta_pagos+'/'+str(mes2)+'/Liverpool/Pagos/PAGOS DIC LIVERPOOL .xlsx',sheet_name = str(i))\n",
    "    pagos_liv = pd.concat([pagos_liv,pagos_liv_new],ignore_index=True)\n",
    "pagos_liv = pagos_liv.drop_duplicates()\n",
    "pagos_liv = pagos_liv.iloc[:,0:6]\n",
    "pagos_liv.columns = ['Id','Cuenta','Fecha Prom','Fecha Pago','Monto','Posteo']\n",
    "try: \n",
    "    pagos_liv['Fecha Pago'] = pd.to_datetime(pagos_liv['Fecha Pago'],dayfirst=True)\n",
    "except: pagos_liv['Fecha Pago']   \n",
    "pagos_liv['Fecha Pago'] = [datetime.strftime(x,'%d/%m/%Y') for x in pagos_liv['Fecha Pago']]\n",
    "try: \n",
    "    pagos_liv['Fecha Prom'] = pd.to_datetime(pagos_liv['Fecha Prom'],dayfirst=True)\n",
    "except: pagos_liv['Fecha Prom']    \n",
    "pagos_liv['Fecha Prom'] = [datetime.strftime(x,'%d/%m/%Y') for x in pagos_liv['Fecha Prom']]\n",
    "pagos_liv2 = pd.pivot_table(pagos_liv,index=['Id','Cuenta','Fecha Pago','Fecha Prom'],values=['Monto'],aggfunc=np.sum)\n",
    "pagos_liv2 = pd.DataFrame(pagos_liv2.to_records())\n",
    "#pagos_liv2 = pagos_liv2.loc[pagos_liv2['Fecha Pago']>=mes3]"
   ]
  },
  {
   "cell_type": "code",
   "execution_count": 63,
   "metadata": {},
   "outputs": [],
   "source": [
    "#Asignamos valores a los parametros \\n\"\n",
    "today = date.today().strftime('%Y%m%d')\n",
    "now = datetime.now().strftime('%d-%m-%Y %H:%M')\n",
    "hoy = np.datetime64('today')\n",
    "ayer = np.datetime64(date.today() - timedelta(1))\n",
    "today2 = date.today().strftime('%d-%m-%Y')"
   ]
  },
  {
   "cell_type": "code",
   "execution_count": 64,
   "metadata": {},
   "outputs": [],
   "source": [
    "#Hacemos la conexion con el servidor\\n\",\n",
    "try: \n",
    "    conn = mysql.connector.connect(user=usuario,\n",
    "                               password=contrasena,\n",
    "                               host=servidor,\n",
    "                               port=3306,\n",
    "                               database=base)\n",
    "    conn.set_charset_collation('latin1')\n",
    "except mysql.Error as e:\n",
    "    print(\"Failed to execute stored procedure: {}\".format(error))\n",
    "\n",
    "cursor = conn.cursor()"
   ]
  },
  {
   "cell_type": "code",
   "execution_count": 65,
   "metadata": {},
   "outputs": [],
   "source": [
    "#Funcion para hacer la consulta sql, ya sea de gestion o de asignacion en donde requerimos tres parametros, la tabla de donde vamos a sacar la consulta, en caso de asignacin requerimos los otros dos parametros fecha inicial y fecha final\n",
    "def consulta_sql(table,from_date=None,to_date=None,campana=None):\n",
    "    if campana is None:\n",
    "        if from_date is None:\n",
    "            sql_mes = cursor.callproc(table,)\n",
    "            for result in cursor.stored_results():\n",
    "                sql_mes = pd.DataFrame(result.fetchall())\n",
    "        else:\n",
    "            sql_mes = cursor.callproc(table, [from_date,to_date])\n",
    "            for result in cursor.stored_results():\n",
    "                sql_mes = pd.DataFrame(result.fetchall())\n",
    "    else:\n",
    "        sql_mes = cursor.callproc(table, [from_date,to_date,campana])\n",
    "        for result in cursor.stored_results():\n",
    "                sql_mes = pd.DataFrame(result.fetchall())\n",
    "    sql_mes = sql_mes.drop_duplicates()\n",
    "    return sql_mes"
   ]
  },
  {
   "cell_type": "code",
   "execution_count": 66,
   "metadata": {},
   "outputs": [],
   "source": [
    "#Funcion para transformar varias columnas a numero\n",
    "def transform_numeric(df,cols):\n",
    "    return df[cols].apply(pd.to_numeric, errors='coerce')\n",
    "\n",
    "#Funcion que convierte a dataframe y rellena espacios con 0\n",
    "def to_dataframe(df):\n",
    "    df = pd.DataFrame(df.to_records())\n",
    "    df.fillna(0,inplace=True)\n",
    "    return df\n",
    "\n",
    "#Funcion que quita el % del string\n",
    "def percent_tonumeric(df,cols):\n",
    "    for c in cols:\n",
    "        df[c] = [x[:-2] for x in df[c]]\n",
    "    return transform_numeric(df,cols)"
   ]
  },
  {
   "cell_type": "code",
   "execution_count": 67,
   "metadata": {},
   "outputs": [],
   "source": [
    "#Hacemos la asignacion de cada una de las metas para cambiar de arancel sin tomar el 0 en cuenta\n",
    "c04pv1, arancel_4pv1 = 1204704, .07\n",
    "c04pv2, arancel_4pv2 = 1807056, .09\n",
    "c04pv3, arancel_4pv3 = 2409407, .12\n",
    "c05pv1, arancel_5pv1 = 662269, .09\n",
    "c05pv2, arancel_5pv2 = 993403, .10\n",
    "c05pv3, arancel_5pv3 = 1324538, .14\n",
    "c06pv1, arancel_6pv1 = 807172, .10\n",
    "c06pv2, arancel_6pv2 = 1210759, .11\n",
    "c06pv3, arancel_6pv3 = 1614345, .16\n",
    "a1, arancel_a1 = 260190, .27\n",
    "a2, arancel_a2 = 390285, .30\n",
    "a3, arancel_a3 = 520381, .33\n",
    "b1, arancel_b1 = 215083, .25\n",
    "b2, arancel_b2 = 322624, .28\n",
    "b3, arancel_b3 = 430165, .31\n",
    "c11, arancel_c11 = 1430989, .17\n",
    "c12, arancel_c12 = 2146483, .20\n",
    "c13, arancel_c13 = 2861978, .23\n",
    "c21, arancel_c21 = 626634, .19\n",
    "c22, arancel_c22 = 939951, .22\n",
    "c23, arancel_c23 = 1253267, .25\n",
    "c31, arancel_c31 = 246425, .21\n",
    "c32, arancel_c32 = 369637, .24\n",
    "c33, arancel_c33 = 492849, .27\n",
    "c41, arancel_c41 = 123529, .23\n",
    "c42, arancel_c42 = 185294, .26\n",
    "c43, arancel_c43 = 247059, .29"
   ]
  },
  {
   "source": [
    "# Llamadas detallado Liverpool Bradesco"
   ],
   "cell_type": "markdown",
   "metadata": {}
  },
  {
   "cell_type": "code",
   "execution_count": 68,
   "metadata": {},
   "outputs": [
    {
     "output_type": "execute_result",
     "data": {
      "text/plain": [
       "       server_ip            uniqueid call_type           call_date  \\\n",
       "0  192.168.15.21  1606804940.8041242   Inbound 2020-12-01 00:42:21   \n",
       "\n",
       "  campaign_id      campaign_name list_id             list_name   lead_id  \\\n",
       "0     1102_IN  LIVERPOOL_BLASTER     999  Default inbound list  27470625   \n",
       "\n",
       "  vendor_lead_id  ... call_time_short call_time_hour call_range_hour  \\\n",
       "0     5591048001  ... 0 days 00:42:21              0   00:00 - 01:00   \n",
       "\n",
       "  dialstatus hangup_cause sip_hangup_cause  carrier  areacode  state  region  \n",
       "0     ANSWER           16           200 OK  INBOUND       559   CDMX  CENTRO  \n",
       "\n",
       "[1 rows x 30 columns]"
      ],
      "text/html": "<div>\n<style scoped>\n    .dataframe tbody tr th:only-of-type {\n        vertical-align: middle;\n    }\n\n    .dataframe tbody tr th {\n        vertical-align: top;\n    }\n\n    .dataframe thead th {\n        text-align: right;\n    }\n</style>\n<table border=\"1\" class=\"dataframe\">\n  <thead>\n    <tr style=\"text-align: right;\">\n      <th></th>\n      <th>server_ip</th>\n      <th>uniqueid</th>\n      <th>call_type</th>\n      <th>call_date</th>\n      <th>campaign_id</th>\n      <th>campaign_name</th>\n      <th>list_id</th>\n      <th>list_name</th>\n      <th>lead_id</th>\n      <th>vendor_lead_id</th>\n      <th>...</th>\n      <th>call_time_short</th>\n      <th>call_time_hour</th>\n      <th>call_range_hour</th>\n      <th>dialstatus</th>\n      <th>hangup_cause</th>\n      <th>sip_hangup_cause</th>\n      <th>carrier</th>\n      <th>areacode</th>\n      <th>state</th>\n      <th>region</th>\n    </tr>\n  </thead>\n  <tbody>\n    <tr>\n      <th>0</th>\n      <td>192.168.15.21</td>\n      <td>1606804940.8041242</td>\n      <td>Inbound</td>\n      <td>2020-12-01 00:42:21</td>\n      <td>1102_IN</td>\n      <td>LIVERPOOL_BLASTER</td>\n      <td>999</td>\n      <td>Default inbound list</td>\n      <td>27470625</td>\n      <td>5591048001</td>\n      <td>...</td>\n      <td>0 days 00:42:21</td>\n      <td>0</td>\n      <td>00:00 - 01:00</td>\n      <td>ANSWER</td>\n      <td>16</td>\n      <td>200 OK</td>\n      <td>INBOUND</td>\n      <td>559</td>\n      <td>CDMX</td>\n      <td>CENTRO</td>\n    </tr>\n  </tbody>\n</table>\n<p>1 rows × 30 columns</p>\n</div>"
     },
     "metadata": {},
     "execution_count": 68
    }
   ],
   "source": [
    "#Hacemos la consulta referente a las llamadas de Liverpool\n",
    "llamadas_liv = consulta_sql('procesos_externos.all_rpt_llamadas_detallado',mes,today,'(^LIV)')\n",
    "llamadas_liv.columns = ['server_ip','uniqueid','call_type','call_date','campaign_id','campaign_name','list_id','list_name','lead_id','vendor_lead_id','vendor_lead_name','phone_number','status','status_name','username','full_name','term_reason_call','queue_seconds','length_in_sec','call_date_short','call_time_short','call_time_hour','call_range_hour','dialstatus','hangup_cause','sip_hangup_cause','carrier','areacode','state','region']\n",
    "llamadas_liv.head(1)"
   ]
  },
  {
   "cell_type": "code",
   "execution_count": 69,
   "metadata": {},
   "outputs": [
    {
     "output_type": "execute_result",
     "data": {
      "text/plain": [
       "       server_ip            uniqueid call_type           call_date  \\\n",
       "0  192.168.15.21  1606818712.8041254   Inbound 2020-12-01 04:31:53   \n",
       "\n",
       "  campaign_id  campaign_name list_id             list_name   lead_id  \\\n",
       "0     1001_IN  BRADESCO_CALL     999  Default inbound list  16344681   \n",
       "\n",
       "  vendor_lead_id  ... call_time_short call_time_hour call_range_hour  \\\n",
       "0    MCM Telecom  ... 0 days 04:31:53              4   04:00 - 05:00   \n",
       "\n",
       "  dialstatus hangup_cause sip_hangup_cause  carrier  areacode  state  region  \n",
       "0     ANSWER           16           200 OK  INBOUND       555   CDMX  CENTRO  \n",
       "\n",
       "[1 rows x 30 columns]"
      ],
      "text/html": "<div>\n<style scoped>\n    .dataframe tbody tr th:only-of-type {\n        vertical-align: middle;\n    }\n\n    .dataframe tbody tr th {\n        vertical-align: top;\n    }\n\n    .dataframe thead th {\n        text-align: right;\n    }\n</style>\n<table border=\"1\" class=\"dataframe\">\n  <thead>\n    <tr style=\"text-align: right;\">\n      <th></th>\n      <th>server_ip</th>\n      <th>uniqueid</th>\n      <th>call_type</th>\n      <th>call_date</th>\n      <th>campaign_id</th>\n      <th>campaign_name</th>\n      <th>list_id</th>\n      <th>list_name</th>\n      <th>lead_id</th>\n      <th>vendor_lead_id</th>\n      <th>...</th>\n      <th>call_time_short</th>\n      <th>call_time_hour</th>\n      <th>call_range_hour</th>\n      <th>dialstatus</th>\n      <th>hangup_cause</th>\n      <th>sip_hangup_cause</th>\n      <th>carrier</th>\n      <th>areacode</th>\n      <th>state</th>\n      <th>region</th>\n    </tr>\n  </thead>\n  <tbody>\n    <tr>\n      <th>0</th>\n      <td>192.168.15.21</td>\n      <td>1606818712.8041254</td>\n      <td>Inbound</td>\n      <td>2020-12-01 04:31:53</td>\n      <td>1001_IN</td>\n      <td>BRADESCO_CALL</td>\n      <td>999</td>\n      <td>Default inbound list</td>\n      <td>16344681</td>\n      <td>MCM Telecom</td>\n      <td>...</td>\n      <td>0 days 04:31:53</td>\n      <td>4</td>\n      <td>04:00 - 05:00</td>\n      <td>ANSWER</td>\n      <td>16</td>\n      <td>200 OK</td>\n      <td>INBOUND</td>\n      <td>555</td>\n      <td>CDMX</td>\n      <td>CENTRO</td>\n    </tr>\n  </tbody>\n</table>\n<p>1 rows × 30 columns</p>\n</div>"
     },
     "metadata": {},
     "execution_count": 69
    }
   ],
   "source": [
    "#Hacemos la consulta referente a las llamadas de Bradesco\n",
    "llamadas_brad = consulta_sql('procesos_externos.all_rpt_llamadas_detallado',mes,today,'(^BRAD)')\n",
    "llamadas_brad.columns = ['server_ip','uniqueid','call_type','call_date','campaign_id','campaign_name','list_id','list_name','lead_id','vendor_lead_id','vendor_lead_name','phone_number','status','status_name','username','full_name','term_reason_call','queue_seconds','length_in_sec','call_date_short','call_time_short','call_time_hour','call_range_hour','dialstatus','hangup_cause','sip_hangup_cause','carrier','areacode','state','region']\n",
    "llamadas_brad.head(1)"
   ]
  },
  {
   "cell_type": "code",
   "execution_count": 70,
   "metadata": {},
   "outputs": [],
   "source": [
    "llamadas_liv_brad = pd.concat([llamadas_liv,llamadas_brad],ignore_index=True)"
   ]
  },
  {
   "cell_type": "code",
   "execution_count": 71,
   "metadata": {},
   "outputs": [],
   "source": [
    "llamadas_liv_brad['turno'] = np.where(llamadas_liv_brad['call_time_hour']<=14,'M','V')"
   ]
  },
  {
   "cell_type": "code",
   "execution_count": 72,
   "metadata": {},
   "outputs": [
    {
     "output_type": "execute_result",
     "data": {
      "text/plain": [
       "                               Gestor Turno  NumeroGestionesB  \\\n",
       "0                                         M                 3   \n",
       "1              AGUILAR MACEDO VALERIA     M              1460   \n",
       "2              AGUILAR MACEDO VALERIA     V               495   \n",
       "3          ALANIZ DIAZ ALISON JOCELIN     M              3922   \n",
       "4          ALANIZ DIAZ ALISON JOCELIN     V               694   \n",
       "..                                ...   ...               ...   \n",
       "116  VAZQUEZ SANCHEZ LINNETH BERENICE     V               533   \n",
       "117            VEGA HERNANDEZ NATALIE     M              2346   \n",
       "118            VEGA HERNANDEZ NATALIE     V               674   \n",
       "119  VELAZQUEZ IBARRA ERICK ALEJANDRO     M              3679   \n",
       "120  VELAZQUEZ IBARRA ERICK ALEJANDRO     V               331   \n",
       "\n",
       "     TiempoTotalSegB  PromedioLlamadaSegB  TiempoTotalMinB  \n",
       "0                  0             0.000000         0.000000  \n",
       "1              61900            42.397260      1031.666667  \n",
       "2              14032            28.347475       233.866667  \n",
       "3             114054            29.080571      1900.900000  \n",
       "4              17690            25.489914       294.833333  \n",
       "..               ...                  ...              ...  \n",
       "116            39019            73.206379       650.316667  \n",
       "117           160689            68.494885      2678.150000  \n",
       "118            40931            60.728487       682.183333  \n",
       "119           152688            41.502582      2544.800000  \n",
       "120            14394            43.486405       239.900000  \n",
       "\n",
       "[121 rows x 6 columns]"
      ],
      "text/html": "<div>\n<style scoped>\n    .dataframe tbody tr th:only-of-type {\n        vertical-align: middle;\n    }\n\n    .dataframe tbody tr th {\n        vertical-align: top;\n    }\n\n    .dataframe thead th {\n        text-align: right;\n    }\n</style>\n<table border=\"1\" class=\"dataframe\">\n  <thead>\n    <tr style=\"text-align: right;\">\n      <th></th>\n      <th>Gestor</th>\n      <th>Turno</th>\n      <th>NumeroGestionesB</th>\n      <th>TiempoTotalSegB</th>\n      <th>PromedioLlamadaSegB</th>\n      <th>TiempoTotalMinB</th>\n    </tr>\n  </thead>\n  <tbody>\n    <tr>\n      <th>0</th>\n      <td></td>\n      <td>M</td>\n      <td>3</td>\n      <td>0</td>\n      <td>0.000000</td>\n      <td>0.000000</td>\n    </tr>\n    <tr>\n      <th>1</th>\n      <td>AGUILAR MACEDO VALERIA</td>\n      <td>M</td>\n      <td>1460</td>\n      <td>61900</td>\n      <td>42.397260</td>\n      <td>1031.666667</td>\n    </tr>\n    <tr>\n      <th>2</th>\n      <td>AGUILAR MACEDO VALERIA</td>\n      <td>V</td>\n      <td>495</td>\n      <td>14032</td>\n      <td>28.347475</td>\n      <td>233.866667</td>\n    </tr>\n    <tr>\n      <th>3</th>\n      <td>ALANIZ DIAZ ALISON JOCELIN</td>\n      <td>M</td>\n      <td>3922</td>\n      <td>114054</td>\n      <td>29.080571</td>\n      <td>1900.900000</td>\n    </tr>\n    <tr>\n      <th>4</th>\n      <td>ALANIZ DIAZ ALISON JOCELIN</td>\n      <td>V</td>\n      <td>694</td>\n      <td>17690</td>\n      <td>25.489914</td>\n      <td>294.833333</td>\n    </tr>\n    <tr>\n      <th>...</th>\n      <td>...</td>\n      <td>...</td>\n      <td>...</td>\n      <td>...</td>\n      <td>...</td>\n      <td>...</td>\n    </tr>\n    <tr>\n      <th>116</th>\n      <td>VAZQUEZ SANCHEZ LINNETH BERENICE</td>\n      <td>V</td>\n      <td>533</td>\n      <td>39019</td>\n      <td>73.206379</td>\n      <td>650.316667</td>\n    </tr>\n    <tr>\n      <th>117</th>\n      <td>VEGA HERNANDEZ NATALIE</td>\n      <td>M</td>\n      <td>2346</td>\n      <td>160689</td>\n      <td>68.494885</td>\n      <td>2678.150000</td>\n    </tr>\n    <tr>\n      <th>118</th>\n      <td>VEGA HERNANDEZ NATALIE</td>\n      <td>V</td>\n      <td>674</td>\n      <td>40931</td>\n      <td>60.728487</td>\n      <td>682.183333</td>\n    </tr>\n    <tr>\n      <th>119</th>\n      <td>VELAZQUEZ IBARRA ERICK ALEJANDRO</td>\n      <td>M</td>\n      <td>3679</td>\n      <td>152688</td>\n      <td>41.502582</td>\n      <td>2544.800000</td>\n    </tr>\n    <tr>\n      <th>120</th>\n      <td>VELAZQUEZ IBARRA ERICK ALEJANDRO</td>\n      <td>V</td>\n      <td>331</td>\n      <td>14394</td>\n      <td>43.486405</td>\n      <td>239.900000</td>\n    </tr>\n  </tbody>\n</table>\n<p>121 rows × 6 columns</p>\n</div>"
     },
     "metadata": {},
     "execution_count": 72
    }
   ],
   "source": [
    "#Obtenemos el performance bruto de cada gestor\n",
    "control_gestores_bruto_brad = pd.pivot_table(llamadas_liv_brad,index=['full_name','turno'],values=['length_in_sec'],aggfunc=[np.sum,np.mean,'count'])\n",
    "control_gestores_bruto_brad = to_dataframe(control_gestores_bruto_brad)\n",
    "control_gestores_bruto_brad = control_gestores_bruto_brad.iloc[:,[0,1,4,2,3]]\n",
    "control_gestores_bruto_brad.columns = ['Gestor','Turno','NumeroGestionesB','TiempoTotalSegB','PromedioLlamadaSegB']\n",
    "control_gestores_bruto_brad['TiempoTotalMinB'] = [x/60 for x in control_gestores_bruto_brad['TiempoTotalSegB']]\n",
    "control_gestores_bruto_brad"
   ]
  },
  {
   "cell_type": "code",
   "execution_count": 73,
   "metadata": {},
   "outputs": [],
   "source": [
    "#Obtenemos el performance de las llamadas contestadas\n",
    "llamadas_liv_brad2 = llamadas_liv_brad.loc[llamadas_liv_brad['status_name'].isin(['Contacto con titular','Promesa de pago','Mensaje con terceros','Mensaje con familiar','Negativa de pago','Contacto familiar','Agendar llamada'])]\n",
    "control_gestores_llamadas_brad = pd.pivot_table(llamadas_liv_brad2,index=['full_name','turno'],values=['length_in_sec'],aggfunc=[np.sum,np.mean,'count'])\n",
    "control_gestores_llamadas_brad = to_dataframe(control_gestores_llamadas_brad)\n",
    "control_gestores_llamadas_brad = control_gestores_llamadas_brad.iloc[:,[0,1,4,2,3]]\n",
    "control_gestores_llamadas_brad.columns = ['Gestor','Turno','NumeroGestiones','TiempoTotalSeg','PromedioLlamadaSeg']\n",
    "control_gestores_llamadas_brad['TiempoTotalMin'] = [x/60 for x in control_gestores_llamadas_brad['TiempoTotalSeg']]\n",
    "#control_gestores_llamadas_brad"
   ]
  },
  {
   "cell_type": "code",
   "execution_count": 74,
   "metadata": {},
   "outputs": [
    {
     "output_type": "execute_result",
     "data": {
      "text/plain": [
       "                   Gestor Turno  NumeroGestionesB  TiempoTotalSegB  \\\n",
       "0                             M                 3                0   \n",
       "1  AGUILAR MACEDO VALERIA     M              1460            61900   \n",
       "\n",
       "   PromedioLlamadaSegB  TiempoTotalMinB  NumeroGestiones  TiempoTotalSeg  \\\n",
       "0              0.00000         0.000000              0.0             0.0   \n",
       "1             42.39726      1031.666667             45.0          6072.0   \n",
       "\n",
       "   PromedioLlamadaSeg  TiempoTotalMin  \n",
       "0            0.000000             0.0  \n",
       "1          134.933333           101.2  "
      ],
      "text/html": "<div>\n<style scoped>\n    .dataframe tbody tr th:only-of-type {\n        vertical-align: middle;\n    }\n\n    .dataframe tbody tr th {\n        vertical-align: top;\n    }\n\n    .dataframe thead th {\n        text-align: right;\n    }\n</style>\n<table border=\"1\" class=\"dataframe\">\n  <thead>\n    <tr style=\"text-align: right;\">\n      <th></th>\n      <th>Gestor</th>\n      <th>Turno</th>\n      <th>NumeroGestionesB</th>\n      <th>TiempoTotalSegB</th>\n      <th>PromedioLlamadaSegB</th>\n      <th>TiempoTotalMinB</th>\n      <th>NumeroGestiones</th>\n      <th>TiempoTotalSeg</th>\n      <th>PromedioLlamadaSeg</th>\n      <th>TiempoTotalMin</th>\n    </tr>\n  </thead>\n  <tbody>\n    <tr>\n      <th>0</th>\n      <td></td>\n      <td>M</td>\n      <td>3</td>\n      <td>0</td>\n      <td>0.00000</td>\n      <td>0.000000</td>\n      <td>0.0</td>\n      <td>0.0</td>\n      <td>0.000000</td>\n      <td>0.0</td>\n    </tr>\n    <tr>\n      <th>1</th>\n      <td>AGUILAR MACEDO VALERIA</td>\n      <td>M</td>\n      <td>1460</td>\n      <td>61900</td>\n      <td>42.39726</td>\n      <td>1031.666667</td>\n      <td>45.0</td>\n      <td>6072.0</td>\n      <td>134.933333</td>\n      <td>101.2</td>\n    </tr>\n  </tbody>\n</table>\n</div>"
     },
     "metadata": {},
     "execution_count": 74
    }
   ],
   "source": [
    "control_liv_consol_turno = pd.merge(control_gestores_bruto_brad,control_gestores_llamadas_brad,how='left',on=['Gestor','Turno'])\n",
    "control_liv_consol_turno.fillna(0,inplace=True)\n",
    "control_liv_consol_turno.head(2)"
   ]
  },
  {
   "cell_type": "code",
   "execution_count": 75,
   "metadata": {},
   "outputs": [
    {
     "output_type": "execute_result",
     "data": {
      "text/plain": [
       "                                Gestor  NumeroGestiones  TiempoTotalSeg  \\\n",
       "0               AGUILAR MACEDO VALERIA               73            8658   \n",
       "1           ALANIZ DIAZ ALISON JOCELIN              156           21753   \n",
       "2     ALEJANDRA YESENIA HERNANDEZ BITE               21            3055   \n",
       "3          BALBUENA MACEDO EDGAR URIEL              100           20141   \n",
       "4      BARRETO OSEGUERA MARIA FERNANDA              147           29402   \n",
       "5              BAUTISTA HILARIO YANELY               45           10640   \n",
       "6                BERENICE GUZMAN JAIME               24            4743   \n",
       "7       CARRANCO ZAMORA JAIME WALBERTO              185           29079   \n",
       "8              CASTRO REZA IRVING YAEL              116           17061   \n",
       "9                CID IRINEO ROSA ISELA              218           35719   \n",
       "10         COLULA CALIXTO MIGUEL ANGEL              113           20943   \n",
       "11                 CRUZ SALAZAR XIMENA               32            8256   \n",
       "12              DANIEL PINEDA ALVARADO              114           26813   \n",
       "13        DE LA FUENTE MIJARES BETTINA              152           24068   \n",
       "14                    DIAZ DIAZ LEONOR               32            7185   \n",
       "15     DOMINGUEZ HERNANDEZ ANAID ITZEL               52            9681   \n",
       "16                GARCIA CHAVEZ BRAYAN               19            3810   \n",
       "17       GARCIA JIMENEZ ALONDRA YAZMIN               26            5877   \n",
       "18                  GARCIA RUIZ ALEXIS               87           19964   \n",
       "19              GOMEZ CARRILLO LETICIA              135           26031   \n",
       "20                GONZALEZ TOTO BRENDA               80           18690   \n",
       "21  GUADALUPE MAYELA HERNANDEZ MENDITA              129           16539   \n",
       "22           HERNANDEZ GONZALEZ SANDRA              131           25306   \n",
       "23        HERNANDEZ MEDEL LUIS ENRIQUE              198           31175   \n",
       "24  HERNANDEZ VELASCO YALITZI AZAYAEEL                4            3715   \n",
       "25        HUERTA LOPEZ NATALIA XOCHITL               79           21735   \n",
       "26               JUAREZ ROBLEDO LORENA              127           18223   \n",
       "27          LIZBETH INELVA LUNA COLULA               65           19052   \n",
       "28           LOPEZ ESTRADA MA. IGNACIA              225           52768   \n",
       "29               LOPEZ VASQUEZ YOSELIN              137           20347   \n",
       "30                  LOPEZ VAZQUEZ ERIK               25            2477   \n",
       "31    LORAYNI GUADALUPE OSNAYA VAZQUEZ               27            1804   \n",
       "32   LUCIA ESMERALDA LONGORIA CISNEROS               82           14025   \n",
       "33                MANUEL BUSTOS LUCERO               59           15687   \n",
       "34     MARTINEZ HERNANDEZ SERGIO DAVID               88            9807   \n",
       "35               MARY CRUZ RIOS TOLEDO               35            6681   \n",
       "36               MEDINA ARIAS MAURICIO               21            3314   \n",
       "37              MIRIAM PEINADO ALVAREZ              129           11389   \n",
       "38      MISHELLLE ADYANI CHAVEZ CASTRO               47            7094   \n",
       "39            MUNOZ BORJA KATYA MUSMED              108           17183   \n",
       "40              OROZCO GONZALEZ BRENDA               44            8908   \n",
       "41    PEDRAZA COLIN MARIA DEL CONZUELO               44            5983   \n",
       "42                  PEREZ GARCIA ISAAC               61            8679   \n",
       "43        RAMIREZ OSORIO CESAR AUGUSTO               70           15956   \n",
       "44      RAMIREZ REYES LESLIE GUADALUPE               49            9669   \n",
       "45        RODRIGUEZ HERNANDEZ CRISTIAN              110           21071   \n",
       "46            RODRIGUEZ MARQUEZ JAVIER               32            9605   \n",
       "47       RODRIGUEZ PAZ DIANA ELIZABETH               58           17517   \n",
       "48           RODRIGUEZ SANTIAGO JUDITH               56            7202   \n",
       "49           ROSAS TREJO JESUS EDUARDO              310           33900   \n",
       "50      SANCHEZ VELASCO VANESSA IVONNE               34            6469   \n",
       "51                TORRES NARVAEZ MAYTE               86           17784   \n",
       "52      TREJO MONTESINOS JORGE JHOVANI               32            5526   \n",
       "53        TRON FIERROS FELIPE DE JESUS              136           21276   \n",
       "54    VAZQUEZ SANCHEZ LINNETH BERENICE               48           12127   \n",
       "55              VEGA HERNANDEZ NATALIE              277           45950   \n",
       "56    VELAZQUEZ IBARRA ERICK ALEJANDRO               23            4188   \n",
       "\n",
       "    PromedioLlamadaSeg  TiempoTotalMin  \n",
       "0           118.602740      144.300000  \n",
       "1           139.442308      362.550000  \n",
       "2           145.476190       50.916667  \n",
       "3           201.410000      335.683333  \n",
       "4           200.013605      490.033333  \n",
       "5           236.444444      177.333333  \n",
       "6           197.625000       79.050000  \n",
       "7           157.183784      484.650000  \n",
       "8           147.077586      284.350000  \n",
       "9           163.848624      595.316667  \n",
       "10          185.336283      349.050000  \n",
       "11          258.000000      137.600000  \n",
       "12          235.201754      446.883333  \n",
       "13          158.342105      401.133333  \n",
       "14          224.531250      119.750000  \n",
       "15          186.173077      161.350000  \n",
       "16          200.526316       63.500000  \n",
       "17          226.038462       97.950000  \n",
       "18          229.471264      332.733333  \n",
       "19          192.822222      433.850000  \n",
       "20          233.625000      311.500000  \n",
       "21          128.209302      275.650000  \n",
       "22          193.175573      421.766667  \n",
       "23          157.449495      519.583333  \n",
       "24          928.750000       61.916667  \n",
       "25          275.126582      362.250000  \n",
       "26          143.488189      303.716667  \n",
       "27          293.107692      317.533333  \n",
       "28          234.524444      879.466667  \n",
       "29          148.518248      339.116667  \n",
       "30           99.080000       41.283333  \n",
       "31           66.814815       30.066667  \n",
       "32          171.036585      233.750000  \n",
       "33          265.881356      261.450000  \n",
       "34          111.443182      163.450000  \n",
       "35          190.885714      111.350000  \n",
       "36          157.809524       55.233333  \n",
       "37           88.286822      189.816667  \n",
       "38          150.936170      118.233333  \n",
       "39          159.101852      286.383333  \n",
       "40          202.454545      148.466667  \n",
       "41          135.977273       99.716667  \n",
       "42          142.278689      144.650000  \n",
       "43          227.942857      265.933333  \n",
       "44          197.326531      161.150000  \n",
       "45          191.554545      351.183333  \n",
       "46          300.156250      160.083333  \n",
       "47          302.017241      291.950000  \n",
       "48          128.607143      120.033333  \n",
       "49          109.354839      565.000000  \n",
       "50          190.264706      107.816667  \n",
       "51          206.790698      296.400000  \n",
       "52          172.687500       92.100000  \n",
       "53          156.441176      354.600000  \n",
       "54          252.645833      202.116667  \n",
       "55          165.884477      765.833333  \n",
       "56          182.086957       69.800000  "
      ],
      "text/html": "<div>\n<style scoped>\n    .dataframe tbody tr th:only-of-type {\n        vertical-align: middle;\n    }\n\n    .dataframe tbody tr th {\n        vertical-align: top;\n    }\n\n    .dataframe thead th {\n        text-align: right;\n    }\n</style>\n<table border=\"1\" class=\"dataframe\">\n  <thead>\n    <tr style=\"text-align: right;\">\n      <th></th>\n      <th>Gestor</th>\n      <th>NumeroGestiones</th>\n      <th>TiempoTotalSeg</th>\n      <th>PromedioLlamadaSeg</th>\n      <th>TiempoTotalMin</th>\n    </tr>\n  </thead>\n  <tbody>\n    <tr>\n      <th>0</th>\n      <td>AGUILAR MACEDO VALERIA</td>\n      <td>73</td>\n      <td>8658</td>\n      <td>118.602740</td>\n      <td>144.300000</td>\n    </tr>\n    <tr>\n      <th>1</th>\n      <td>ALANIZ DIAZ ALISON JOCELIN</td>\n      <td>156</td>\n      <td>21753</td>\n      <td>139.442308</td>\n      <td>362.550000</td>\n    </tr>\n    <tr>\n      <th>2</th>\n      <td>ALEJANDRA YESENIA HERNANDEZ BITE</td>\n      <td>21</td>\n      <td>3055</td>\n      <td>145.476190</td>\n      <td>50.916667</td>\n    </tr>\n    <tr>\n      <th>3</th>\n      <td>BALBUENA MACEDO EDGAR URIEL</td>\n      <td>100</td>\n      <td>20141</td>\n      <td>201.410000</td>\n      <td>335.683333</td>\n    </tr>\n    <tr>\n      <th>4</th>\n      <td>BARRETO OSEGUERA MARIA FERNANDA</td>\n      <td>147</td>\n      <td>29402</td>\n      <td>200.013605</td>\n      <td>490.033333</td>\n    </tr>\n    <tr>\n      <th>5</th>\n      <td>BAUTISTA HILARIO YANELY</td>\n      <td>45</td>\n      <td>10640</td>\n      <td>236.444444</td>\n      <td>177.333333</td>\n    </tr>\n    <tr>\n      <th>6</th>\n      <td>BERENICE GUZMAN JAIME</td>\n      <td>24</td>\n      <td>4743</td>\n      <td>197.625000</td>\n      <td>79.050000</td>\n    </tr>\n    <tr>\n      <th>7</th>\n      <td>CARRANCO ZAMORA JAIME WALBERTO</td>\n      <td>185</td>\n      <td>29079</td>\n      <td>157.183784</td>\n      <td>484.650000</td>\n    </tr>\n    <tr>\n      <th>8</th>\n      <td>CASTRO REZA IRVING YAEL</td>\n      <td>116</td>\n      <td>17061</td>\n      <td>147.077586</td>\n      <td>284.350000</td>\n    </tr>\n    <tr>\n      <th>9</th>\n      <td>CID IRINEO ROSA ISELA</td>\n      <td>218</td>\n      <td>35719</td>\n      <td>163.848624</td>\n      <td>595.316667</td>\n    </tr>\n    <tr>\n      <th>10</th>\n      <td>COLULA CALIXTO MIGUEL ANGEL</td>\n      <td>113</td>\n      <td>20943</td>\n      <td>185.336283</td>\n      <td>349.050000</td>\n    </tr>\n    <tr>\n      <th>11</th>\n      <td>CRUZ SALAZAR XIMENA</td>\n      <td>32</td>\n      <td>8256</td>\n      <td>258.000000</td>\n      <td>137.600000</td>\n    </tr>\n    <tr>\n      <th>12</th>\n      <td>DANIEL PINEDA ALVARADO</td>\n      <td>114</td>\n      <td>26813</td>\n      <td>235.201754</td>\n      <td>446.883333</td>\n    </tr>\n    <tr>\n      <th>13</th>\n      <td>DE LA FUENTE MIJARES BETTINA</td>\n      <td>152</td>\n      <td>24068</td>\n      <td>158.342105</td>\n      <td>401.133333</td>\n    </tr>\n    <tr>\n      <th>14</th>\n      <td>DIAZ DIAZ LEONOR</td>\n      <td>32</td>\n      <td>7185</td>\n      <td>224.531250</td>\n      <td>119.750000</td>\n    </tr>\n    <tr>\n      <th>15</th>\n      <td>DOMINGUEZ HERNANDEZ ANAID ITZEL</td>\n      <td>52</td>\n      <td>9681</td>\n      <td>186.173077</td>\n      <td>161.350000</td>\n    </tr>\n    <tr>\n      <th>16</th>\n      <td>GARCIA CHAVEZ BRAYAN</td>\n      <td>19</td>\n      <td>3810</td>\n      <td>200.526316</td>\n      <td>63.500000</td>\n    </tr>\n    <tr>\n      <th>17</th>\n      <td>GARCIA JIMENEZ ALONDRA YAZMIN</td>\n      <td>26</td>\n      <td>5877</td>\n      <td>226.038462</td>\n      <td>97.950000</td>\n    </tr>\n    <tr>\n      <th>18</th>\n      <td>GARCIA RUIZ ALEXIS</td>\n      <td>87</td>\n      <td>19964</td>\n      <td>229.471264</td>\n      <td>332.733333</td>\n    </tr>\n    <tr>\n      <th>19</th>\n      <td>GOMEZ CARRILLO LETICIA</td>\n      <td>135</td>\n      <td>26031</td>\n      <td>192.822222</td>\n      <td>433.850000</td>\n    </tr>\n    <tr>\n      <th>20</th>\n      <td>GONZALEZ TOTO BRENDA</td>\n      <td>80</td>\n      <td>18690</td>\n      <td>233.625000</td>\n      <td>311.500000</td>\n    </tr>\n    <tr>\n      <th>21</th>\n      <td>GUADALUPE MAYELA HERNANDEZ MENDITA</td>\n      <td>129</td>\n      <td>16539</td>\n      <td>128.209302</td>\n      <td>275.650000</td>\n    </tr>\n    <tr>\n      <th>22</th>\n      <td>HERNANDEZ GONZALEZ SANDRA</td>\n      <td>131</td>\n      <td>25306</td>\n      <td>193.175573</td>\n      <td>421.766667</td>\n    </tr>\n    <tr>\n      <th>23</th>\n      <td>HERNANDEZ MEDEL LUIS ENRIQUE</td>\n      <td>198</td>\n      <td>31175</td>\n      <td>157.449495</td>\n      <td>519.583333</td>\n    </tr>\n    <tr>\n      <th>24</th>\n      <td>HERNANDEZ VELASCO YALITZI AZAYAEEL</td>\n      <td>4</td>\n      <td>3715</td>\n      <td>928.750000</td>\n      <td>61.916667</td>\n    </tr>\n    <tr>\n      <th>25</th>\n      <td>HUERTA LOPEZ NATALIA XOCHITL</td>\n      <td>79</td>\n      <td>21735</td>\n      <td>275.126582</td>\n      <td>362.250000</td>\n    </tr>\n    <tr>\n      <th>26</th>\n      <td>JUAREZ ROBLEDO LORENA</td>\n      <td>127</td>\n      <td>18223</td>\n      <td>143.488189</td>\n      <td>303.716667</td>\n    </tr>\n    <tr>\n      <th>27</th>\n      <td>LIZBETH INELVA LUNA COLULA</td>\n      <td>65</td>\n      <td>19052</td>\n      <td>293.107692</td>\n      <td>317.533333</td>\n    </tr>\n    <tr>\n      <th>28</th>\n      <td>LOPEZ ESTRADA MA. IGNACIA</td>\n      <td>225</td>\n      <td>52768</td>\n      <td>234.524444</td>\n      <td>879.466667</td>\n    </tr>\n    <tr>\n      <th>29</th>\n      <td>LOPEZ VASQUEZ YOSELIN</td>\n      <td>137</td>\n      <td>20347</td>\n      <td>148.518248</td>\n      <td>339.116667</td>\n    </tr>\n    <tr>\n      <th>30</th>\n      <td>LOPEZ VAZQUEZ ERIK</td>\n      <td>25</td>\n      <td>2477</td>\n      <td>99.080000</td>\n      <td>41.283333</td>\n    </tr>\n    <tr>\n      <th>31</th>\n      <td>LORAYNI GUADALUPE OSNAYA VAZQUEZ</td>\n      <td>27</td>\n      <td>1804</td>\n      <td>66.814815</td>\n      <td>30.066667</td>\n    </tr>\n    <tr>\n      <th>32</th>\n      <td>LUCIA ESMERALDA LONGORIA CISNEROS</td>\n      <td>82</td>\n      <td>14025</td>\n      <td>171.036585</td>\n      <td>233.750000</td>\n    </tr>\n    <tr>\n      <th>33</th>\n      <td>MANUEL BUSTOS LUCERO</td>\n      <td>59</td>\n      <td>15687</td>\n      <td>265.881356</td>\n      <td>261.450000</td>\n    </tr>\n    <tr>\n      <th>34</th>\n      <td>MARTINEZ HERNANDEZ SERGIO DAVID</td>\n      <td>88</td>\n      <td>9807</td>\n      <td>111.443182</td>\n      <td>163.450000</td>\n    </tr>\n    <tr>\n      <th>35</th>\n      <td>MARY CRUZ RIOS TOLEDO</td>\n      <td>35</td>\n      <td>6681</td>\n      <td>190.885714</td>\n      <td>111.350000</td>\n    </tr>\n    <tr>\n      <th>36</th>\n      <td>MEDINA ARIAS MAURICIO</td>\n      <td>21</td>\n      <td>3314</td>\n      <td>157.809524</td>\n      <td>55.233333</td>\n    </tr>\n    <tr>\n      <th>37</th>\n      <td>MIRIAM PEINADO ALVAREZ</td>\n      <td>129</td>\n      <td>11389</td>\n      <td>88.286822</td>\n      <td>189.816667</td>\n    </tr>\n    <tr>\n      <th>38</th>\n      <td>MISHELLLE ADYANI CHAVEZ CASTRO</td>\n      <td>47</td>\n      <td>7094</td>\n      <td>150.936170</td>\n      <td>118.233333</td>\n    </tr>\n    <tr>\n      <th>39</th>\n      <td>MUNOZ BORJA KATYA MUSMED</td>\n      <td>108</td>\n      <td>17183</td>\n      <td>159.101852</td>\n      <td>286.383333</td>\n    </tr>\n    <tr>\n      <th>40</th>\n      <td>OROZCO GONZALEZ BRENDA</td>\n      <td>44</td>\n      <td>8908</td>\n      <td>202.454545</td>\n      <td>148.466667</td>\n    </tr>\n    <tr>\n      <th>41</th>\n      <td>PEDRAZA COLIN MARIA DEL CONZUELO</td>\n      <td>44</td>\n      <td>5983</td>\n      <td>135.977273</td>\n      <td>99.716667</td>\n    </tr>\n    <tr>\n      <th>42</th>\n      <td>PEREZ GARCIA ISAAC</td>\n      <td>61</td>\n      <td>8679</td>\n      <td>142.278689</td>\n      <td>144.650000</td>\n    </tr>\n    <tr>\n      <th>43</th>\n      <td>RAMIREZ OSORIO CESAR AUGUSTO</td>\n      <td>70</td>\n      <td>15956</td>\n      <td>227.942857</td>\n      <td>265.933333</td>\n    </tr>\n    <tr>\n      <th>44</th>\n      <td>RAMIREZ REYES LESLIE GUADALUPE</td>\n      <td>49</td>\n      <td>9669</td>\n      <td>197.326531</td>\n      <td>161.150000</td>\n    </tr>\n    <tr>\n      <th>45</th>\n      <td>RODRIGUEZ HERNANDEZ CRISTIAN</td>\n      <td>110</td>\n      <td>21071</td>\n      <td>191.554545</td>\n      <td>351.183333</td>\n    </tr>\n    <tr>\n      <th>46</th>\n      <td>RODRIGUEZ MARQUEZ JAVIER</td>\n      <td>32</td>\n      <td>9605</td>\n      <td>300.156250</td>\n      <td>160.083333</td>\n    </tr>\n    <tr>\n      <th>47</th>\n      <td>RODRIGUEZ PAZ DIANA ELIZABETH</td>\n      <td>58</td>\n      <td>17517</td>\n      <td>302.017241</td>\n      <td>291.950000</td>\n    </tr>\n    <tr>\n      <th>48</th>\n      <td>RODRIGUEZ SANTIAGO JUDITH</td>\n      <td>56</td>\n      <td>7202</td>\n      <td>128.607143</td>\n      <td>120.033333</td>\n    </tr>\n    <tr>\n      <th>49</th>\n      <td>ROSAS TREJO JESUS EDUARDO</td>\n      <td>310</td>\n      <td>33900</td>\n      <td>109.354839</td>\n      <td>565.000000</td>\n    </tr>\n    <tr>\n      <th>50</th>\n      <td>SANCHEZ VELASCO VANESSA IVONNE</td>\n      <td>34</td>\n      <td>6469</td>\n      <td>190.264706</td>\n      <td>107.816667</td>\n    </tr>\n    <tr>\n      <th>51</th>\n      <td>TORRES NARVAEZ MAYTE</td>\n      <td>86</td>\n      <td>17784</td>\n      <td>206.790698</td>\n      <td>296.400000</td>\n    </tr>\n    <tr>\n      <th>52</th>\n      <td>TREJO MONTESINOS JORGE JHOVANI</td>\n      <td>32</td>\n      <td>5526</td>\n      <td>172.687500</td>\n      <td>92.100000</td>\n    </tr>\n    <tr>\n      <th>53</th>\n      <td>TRON FIERROS FELIPE DE JESUS</td>\n      <td>136</td>\n      <td>21276</td>\n      <td>156.441176</td>\n      <td>354.600000</td>\n    </tr>\n    <tr>\n      <th>54</th>\n      <td>VAZQUEZ SANCHEZ LINNETH BERENICE</td>\n      <td>48</td>\n      <td>12127</td>\n      <td>252.645833</td>\n      <td>202.116667</td>\n    </tr>\n    <tr>\n      <th>55</th>\n      <td>VEGA HERNANDEZ NATALIE</td>\n      <td>277</td>\n      <td>45950</td>\n      <td>165.884477</td>\n      <td>765.833333</td>\n    </tr>\n    <tr>\n      <th>56</th>\n      <td>VELAZQUEZ IBARRA ERICK ALEJANDRO</td>\n      <td>23</td>\n      <td>4188</td>\n      <td>182.086957</td>\n      <td>69.800000</td>\n    </tr>\n  </tbody>\n</table>\n</div>"
     },
     "metadata": {},
     "execution_count": 75
    }
   ],
   "source": [
    "#Obtenemos el performance de las llamadas contestadas\n",
    "control_gestores_total = pd.pivot_table(llamadas_liv_brad2,index=['full_name'],values=['length_in_sec'],aggfunc=[np.sum,np.mean,'count'])\n",
    "control_gestores_total = to_dataframe(control_gestores_total)\n",
    "control_gestores_total = control_gestores_total.iloc[:,[0,3,1,2]]\n",
    "control_gestores_total.columns = ['Gestor','NumeroGestiones','TiempoTotalSeg','PromedioLlamadaSeg']\n",
    "control_gestores_total['TiempoTotalMin'] = [x/60 for x in control_gestores_total['TiempoTotalSeg']]\n",
    "control_gestores_total"
   ]
  },
  {
   "source": [
    "# Performance Liverpool Bradesco"
   ],
   "cell_type": "markdown",
   "metadata": {}
  },
  {
   "cell_type": "code",
   "execution_count": 76,
   "metadata": {},
   "outputs": [],
   "source": [
    "#Hacemos la consulta referente al performance del Gestor\n",
    "performance_all = consulta_sql('procesos_externos.all_rpt_agent_performance',mes,today)\n",
    "performance_all.columns = ['fecha','usuario','nombre_usuario','user_group','llamadas','aht','ocupacion','adherencia','login_vici','logout_vici','staff_time','wait_time','talk_time','dispo_time','pause','login','manual','gestion','agua','alimentos','sanitario','retroalimentacion','tranferencia','validacion','whatsapp','incumplimiento','recordatorios','capacitacion','sistemas','lagged','tipificando','*']"
   ]
  },
  {
   "cell_type": "code",
   "execution_count": 77,
   "metadata": {},
   "outputs": [],
   "source": [
    "performance_liv_brad = performance_all.loc[(performance_all['user_group']=='LIVERPOOL') | (performance_all['user_group']=='BRADESCARD')]\n",
    "performance_liv_brad[['ocupacion','adherencia']] = percent_tonumeric(performance_liv_brad,['ocupacion','adherencia'])"
   ]
  },
  {
   "cell_type": "code",
   "execution_count": 78,
   "metadata": {},
   "outputs": [],
   "source": [
    "def to_hour(df,cols):\n",
    "    df[cols] = [datetime.strptime(x,'%H:%M:%S') for x in df[cols]]\n",
    "    return df\n",
    "    \n",
    "#performance_liv_brad['login_vici2'] = to_hour(performance_liv_brad,'login_vici')\n",
    "#performance_liv_brad['logout_vici2'] = to_hour(performance_liv_brad,'logout_vici')"
   ]
  },
  {
   "cell_type": "code",
   "execution_count": 79,
   "metadata": {},
   "outputs": [],
   "source": [
    "performance_liv_brad['hora_login'] = [int(x[:2]) for x in performance_liv_brad['login_vici']]\n",
    "performance_liv_brad['hora_logout'] = [int(x[:2]) for x in performance_liv_brad['logout_vici']]\n",
    "performance_liv_brad['turno'] = np.where((performance_liv_brad['hora_logout']<=14)&(performance_liv_brad['hora_logout']-performance_liv_brad['hora_login']<=8),'M',\n",
    "                                    np.where((performance_liv_brad['hora_logout']>17)&(performance_liv_brad['hora_logout']-performance_liv_brad['hora_login']<=8),'V','Mixto'))"
   ]
  },
  {
   "cell_type": "code",
   "execution_count": 80,
   "metadata": {},
   "outputs": [
    {
     "output_type": "execute_result",
     "data": {
      "text/plain": [
       "        fecha      usuario          nombre_usuario  user_group  llamadas  \\\n",
       "1  2020-12-01  AGUILARMAVA  AGUILAR MACEDO VALERIA  BRADESCARD        64   \n",
       "\n",
       "        aht  ocupacion  adherencia login_vici logout_vici  ... capacitacion  \\\n",
       "1  00:00:46       9.83       14.93   13:05:58    20:57:22  ...     00:00:00   \n",
       "\n",
       "   sistemas    lagged tipificando         * hora_login hora_logout turno  \\\n",
       "1  00:00:00  00:00:53    00:01:32  00:04:04         13          20     V   \n",
       "\n",
       "  horas_trabajadas llamadas_hora  \n",
       "1                7          9.14  \n",
       "\n",
       "[1 rows x 37 columns]"
      ],
      "text/html": "<div>\n<style scoped>\n    .dataframe tbody tr th:only-of-type {\n        vertical-align: middle;\n    }\n\n    .dataframe tbody tr th {\n        vertical-align: top;\n    }\n\n    .dataframe thead th {\n        text-align: right;\n    }\n</style>\n<table border=\"1\" class=\"dataframe\">\n  <thead>\n    <tr style=\"text-align: right;\">\n      <th></th>\n      <th>fecha</th>\n      <th>usuario</th>\n      <th>nombre_usuario</th>\n      <th>user_group</th>\n      <th>llamadas</th>\n      <th>aht</th>\n      <th>ocupacion</th>\n      <th>adherencia</th>\n      <th>login_vici</th>\n      <th>logout_vici</th>\n      <th>...</th>\n      <th>capacitacion</th>\n      <th>sistemas</th>\n      <th>lagged</th>\n      <th>tipificando</th>\n      <th>*</th>\n      <th>hora_login</th>\n      <th>hora_logout</th>\n      <th>turno</th>\n      <th>horas_trabajadas</th>\n      <th>llamadas_hora</th>\n    </tr>\n  </thead>\n  <tbody>\n    <tr>\n      <th>1</th>\n      <td>2020-12-01</td>\n      <td>AGUILARMAVA</td>\n      <td>AGUILAR MACEDO VALERIA</td>\n      <td>BRADESCARD</td>\n      <td>64</td>\n      <td>00:00:46</td>\n      <td>9.83</td>\n      <td>14.93</td>\n      <td>13:05:58</td>\n      <td>20:57:22</td>\n      <td>...</td>\n      <td>00:00:00</td>\n      <td>00:00:00</td>\n      <td>00:00:53</td>\n      <td>00:01:32</td>\n      <td>00:04:04</td>\n      <td>13</td>\n      <td>20</td>\n      <td>V</td>\n      <td>7</td>\n      <td>9.14</td>\n    </tr>\n  </tbody>\n</table>\n<p>1 rows × 37 columns</p>\n</div>"
     },
     "metadata": {},
     "execution_count": 80
    }
   ],
   "source": [
    "performance_liv_brad['horas_trabajadas'] = performance_liv_brad['hora_logout']-performance_liv_brad['hora_login']\n",
    "performance_liv_brad['llamadas_hora'] = performance_liv_brad['llamadas']/performance_liv_brad['horas_trabajadas']\n",
    "performance_liv_brad['llamadas_hora'] = performance_liv_brad['llamadas_hora'].round(2)\n",
    "performance_liv_brad.head(1)"
   ]
  },
  {
   "cell_type": "code",
   "execution_count": 81,
   "metadata": {},
   "outputs": [
    {
     "output_type": "execute_result",
     "data": {
      "text/plain": [
       "                   Gestor Turno  SumLlamadasDia  SumLlamadasHora  \\\n",
       "0  AGUILAR MACEDO VALERIA     M             612           104.05   \n",
       "\n",
       "   SumOcupacion  PromedioLlamadasDia  PromedioLlamadasHora  PromedioOcupacion  \\\n",
       "0         80.67                102.0             17.341667             13.445   \n",
       "\n",
       "   DiasAsitencia  MinLlamadasDia  MinLlamadasHora  MinOcupacion  \\\n",
       "0              6              58            11.67          6.87   \n",
       "\n",
       "   MaxLlamadasDia  MaxLlamadasHora  MaxOcupacion  \n",
       "0             142            22.33         21.02  "
      ],
      "text/html": "<div>\n<style scoped>\n    .dataframe tbody tr th:only-of-type {\n        vertical-align: middle;\n    }\n\n    .dataframe tbody tr th {\n        vertical-align: top;\n    }\n\n    .dataframe thead th {\n        text-align: right;\n    }\n</style>\n<table border=\"1\" class=\"dataframe\">\n  <thead>\n    <tr style=\"text-align: right;\">\n      <th></th>\n      <th>Gestor</th>\n      <th>Turno</th>\n      <th>SumLlamadasDia</th>\n      <th>SumLlamadasHora</th>\n      <th>SumOcupacion</th>\n      <th>PromedioLlamadasDia</th>\n      <th>PromedioLlamadasHora</th>\n      <th>PromedioOcupacion</th>\n      <th>DiasAsitencia</th>\n      <th>MinLlamadasDia</th>\n      <th>MinLlamadasHora</th>\n      <th>MinOcupacion</th>\n      <th>MaxLlamadasDia</th>\n      <th>MaxLlamadasHora</th>\n      <th>MaxOcupacion</th>\n    </tr>\n  </thead>\n  <tbody>\n    <tr>\n      <th>0</th>\n      <td>AGUILAR MACEDO VALERIA</td>\n      <td>M</td>\n      <td>612</td>\n      <td>104.05</td>\n      <td>80.67</td>\n      <td>102.0</td>\n      <td>17.341667</td>\n      <td>13.445</td>\n      <td>6</td>\n      <td>58</td>\n      <td>11.67</td>\n      <td>6.87</td>\n      <td>142</td>\n      <td>22.33</td>\n      <td>21.02</td>\n    </tr>\n  </tbody>\n</table>\n</div>"
     },
     "metadata": {},
     "execution_count": 81
    }
   ],
   "source": [
    "control_performance_brad_turno = pd.pivot_table(performance_liv_brad,index=['nombre_usuario','turno'],values=['llamadas','ocupacion','llamadas_hora'],aggfunc=[np.sum,np.mean,'count',min,max])\n",
    "control_performance_brad_turno = to_dataframe(control_performance_brad_turno)\n",
    "control_performance_brad_turno = control_performance_brad_turno.iloc[:,[0,1,2,3,4,5,6,7,8,11,12,13,14,15,16]]\n",
    "control_performance_brad_turno.columns = ['Gestor','Turno','SumLlamadasDia','SumLlamadasHora','SumOcupacion','PromedioLlamadasDia','PromedioLlamadasHora','PromedioOcupacion','DiasAsitencia','MinLlamadasDia','MinLlamadasHora','MinOcupacion','MaxLlamadasDia','MaxLlamadasHora','MaxOcupacion']\n",
    "control_performance_brad_turno.head(1)"
   ]
  },
  {
   "cell_type": "code",
   "execution_count": 82,
   "metadata": {},
   "outputs": [],
   "source": [
    "control_performance_brad_turno2 = control_performance_brad_turno[['Gestor','Turno','PromedioLlamadasHora','PromedioOcupacion']]"
   ]
  },
  {
   "cell_type": "code",
   "execution_count": 83,
   "metadata": {},
   "outputs": [
    {
     "output_type": "execute_result",
     "data": {
      "text/plain": [
       "                             Gestor  SumHorasTrabajadas  SumLlamadasDia  \\\n",
       "0            AGUILAR MACEDO VALERIA                 132            1955   \n",
       "1        ALANIZ DIAZ ALISON JOCELIN                 108            4616   \n",
       "2  ALEJANDRA YESENIA HERNANDEZ BITE                   6             113   \n",
       "\n",
       "   PromedioLlamadasDia  PromedioLlamadasHora  PromedioOcupacion  \n",
       "0           130.333333             15.014000          11.082000  \n",
       "1           329.714286             43.137143          32.732857  \n",
       "2           113.000000             18.830000          20.140000  "
      ],
      "text/html": "<div>\n<style scoped>\n    .dataframe tbody tr th:only-of-type {\n        vertical-align: middle;\n    }\n\n    .dataframe tbody tr th {\n        vertical-align: top;\n    }\n\n    .dataframe thead th {\n        text-align: right;\n    }\n</style>\n<table border=\"1\" class=\"dataframe\">\n  <thead>\n    <tr style=\"text-align: right;\">\n      <th></th>\n      <th>Gestor</th>\n      <th>SumHorasTrabajadas</th>\n      <th>SumLlamadasDia</th>\n      <th>PromedioLlamadasDia</th>\n      <th>PromedioLlamadasHora</th>\n      <th>PromedioOcupacion</th>\n    </tr>\n  </thead>\n  <tbody>\n    <tr>\n      <th>0</th>\n      <td>AGUILAR MACEDO VALERIA</td>\n      <td>132</td>\n      <td>1955</td>\n      <td>130.333333</td>\n      <td>15.014000</td>\n      <td>11.082000</td>\n    </tr>\n    <tr>\n      <th>1</th>\n      <td>ALANIZ DIAZ ALISON JOCELIN</td>\n      <td>108</td>\n      <td>4616</td>\n      <td>329.714286</td>\n      <td>43.137143</td>\n      <td>32.732857</td>\n    </tr>\n    <tr>\n      <th>2</th>\n      <td>ALEJANDRA YESENIA HERNANDEZ BITE</td>\n      <td>6</td>\n      <td>113</td>\n      <td>113.000000</td>\n      <td>18.830000</td>\n      <td>20.140000</td>\n    </tr>\n  </tbody>\n</table>\n</div>"
     },
     "metadata": {},
     "execution_count": 83
    }
   ],
   "source": [
    "control_performance_brad = pd.pivot_table(performance_liv_brad,index=['nombre_usuario'],values=['llamadas','ocupacion','llamadas_hora','horas_trabajadas'],aggfunc=[np.sum,np.mean,'count',min,max])\n",
    "control_performance_brad = to_dataframe(control_performance_brad)\n",
    "control_performance_brad = control_performance_brad.iloc[:,[0,1,2,6,7,8]]\n",
    "control_performance_brad.columns = ['Gestor','SumHorasTrabajadas','SumLlamadasDia','PromedioLlamadasDia','PromedioLlamadasHora','PromedioOcupacion']\n",
    "control_performance_brad.head(3)"
   ]
  },
  {
   "cell_type": "code",
   "execution_count": 84,
   "metadata": {},
   "outputs": [
    {
     "output_type": "execute_result",
     "data": {
      "text/plain": [
       "                             Gestor  PromedioLlamadasHora  ContactoHora  \\\n",
       "0            AGUILAR MACEDO VALERIA             15.014000      0.553030   \n",
       "1        ALANIZ DIAZ ALISON JOCELIN             43.137143      1.444444   \n",
       "2  ALEJANDRA YESENIA HERNANDEZ BITE             18.830000      3.500000   \n",
       "\n",
       "   PromedioOcupacion  \n",
       "0          11.082000  \n",
       "1          32.732857  \n",
       "2          20.140000  "
      ],
      "text/html": "<div>\n<style scoped>\n    .dataframe tbody tr th:only-of-type {\n        vertical-align: middle;\n    }\n\n    .dataframe tbody tr th {\n        vertical-align: top;\n    }\n\n    .dataframe thead th {\n        text-align: right;\n    }\n</style>\n<table border=\"1\" class=\"dataframe\">\n  <thead>\n    <tr style=\"text-align: right;\">\n      <th></th>\n      <th>Gestor</th>\n      <th>PromedioLlamadasHora</th>\n      <th>ContactoHora</th>\n      <th>PromedioOcupacion</th>\n    </tr>\n  </thead>\n  <tbody>\n    <tr>\n      <th>0</th>\n      <td>AGUILAR MACEDO VALERIA</td>\n      <td>15.014000</td>\n      <td>0.553030</td>\n      <td>11.082000</td>\n    </tr>\n    <tr>\n      <th>1</th>\n      <td>ALANIZ DIAZ ALISON JOCELIN</td>\n      <td>43.137143</td>\n      <td>1.444444</td>\n      <td>32.732857</td>\n    </tr>\n    <tr>\n      <th>2</th>\n      <td>ALEJANDRA YESENIA HERNANDEZ BITE</td>\n      <td>18.830000</td>\n      <td>3.500000</td>\n      <td>20.140000</td>\n    </tr>\n  </tbody>\n</table>\n</div>"
     },
     "metadata": {},
     "execution_count": 84
    }
   ],
   "source": [
    "conjunto_performance_llamadas = pd.merge(control_gestores_total,control_performance_brad,on='Gestor',how='outer')\n",
    "conjunto_performance_llamadas['ContactoHora'] = conjunto_performance_llamadas['NumeroGestiones']/conjunto_performance_llamadas['SumHorasTrabajadas']\n",
    "conjunto_performance_llamadas = conjunto_performance_llamadas.iloc[:,[0,8,10,9,]]\n",
    "conjunto_performance_llamadas.head(3)"
   ]
  },
  {
   "source": [
    "# Gestion detallado Liverpool Bradesco"
   ],
   "cell_type": "markdown",
   "metadata": {}
  },
  {
   "source": [
    "# Liverpool"
   ],
   "cell_type": "markdown",
   "metadata": {}
  },
  {
   "cell_type": "code",
   "execution_count": 85,
   "metadata": {},
   "outputs": [],
   "source": [
    "#Hacemos la consulta referente a las gestiones de Liverpool\n",
    "gestion_liv = consulta_sql('liverpool_rpt_gestiones_detallado',mes,today)\n",
    "gestion_liv.columns = ['folio_gestion','firma_id','unegocio_id','credito','nombre_credito','telefono','tipo_telefono','fecha_gestion','usuario','nombre_usuario','dictamen','accion','resultado','fecha_promesa','monto_promesa','comentarios']\n",
    "gestion_liv = gestion_liv.loc[gestion_liv['dictamen']=='PROMESA']\n",
    "gestion_liv['credito'] = pd.to_numeric(gestion_liv['credito'])\n",
    "gestion_liv['anio'] = [int(x[:4]) for x in gestion_liv['fecha_promesa']]\n",
    "gestion_liv = gestion_liv.loc[(gestion_liv['anio']>2010)&(gestion_liv['anio']<2100)]"
   ]
  },
  {
   "cell_type": "code",
   "execution_count": 86,
   "metadata": {},
   "outputs": [],
   "source": [
    "#Hacemos la consulta de la asignacion\n",
    "asignacion_liv = consulta_sql('liverpool_rpt_asignacion_activa')\n",
    "asignacion_liv = asignacion_liv.iloc[:,[0,1,3,24,6,26]]\n",
    "asignacion_liv.columns = ['firma_id','unegocio_id','credito','estado','rfc','division']\n",
    "asignacion_liv['credito'] = pd.to_numeric(asignacion_liv['credito'])"
   ]
  },
  {
   "cell_type": "code",
   "execution_count": 87,
   "metadata": {},
   "outputs": [],
   "source": [
    "#Hacemos el consolidado \n",
    "consolidado_liv_mes = pd.merge(gestion_liv,asignacion_liv,how='left',on=['firma_id','unegocio_id','credito'])\n",
    "cols = ['monto_promesa','credito']\n",
    "consolidado_liv_mes[cols] = consolidado_liv_mes[cols].apply(pd.to_numeric, errors='coerce')\n",
    "consolidado_liv_mes = consolidado_liv_mes[(consolidado_liv_mes['monto_promesa']>50)]\n",
    "consolidado_liv_mes = consolidado_liv_mes[(consolidado_liv_mes['monto_promesa']<500000)]\n",
    "consolidado_liv_mes.fillna('COBRANZA',inplace=True)\n",
    "consolidado_liv_mes = consolidado_liv_mes.drop_duplicates(subset = ['usuario','credito','fecha_promesa','monto_promesa'])\n",
    "#consolidado_liv_mes.head(3)"
   ]
  },
  {
   "cell_type": "code",
   "execution_count": 88,
   "metadata": {},
   "outputs": [],
   "source": [
    "#Asignamos los aranceles de liverpool\n",
    "aranceles = [('DKN00REM',0.28),('DKN02REM',0.4),('DKN04REM',0.5),('SA001REM',0.15),('SA002REM',0.16)]\n",
    "aranceles = pd.DataFrame(aranceles)\n",
    "aranceles.columns = ['Id','Arancel']\n",
    "#Agregamos aranceles al consolidado\n",
    "pagos_liv2 = pd.merge(pagos_liv2,aranceles,how='left',on='Id')\n",
    "pagos_liv2['PagoArancel'] = [x*y for x,y in zip(pagos_liv2['Monto'],pagos_liv2['Arancel'])]"
   ]
  },
  {
   "cell_type": "code",
   "execution_count": 89,
   "metadata": {},
   "outputs": [],
   "source": [
    "#Unimos el consolidado con los pagos \n",
    "consolidado_pagos_liv = pd.merge(consolidado_liv_mes,pagos_liv2,how='left',left_on=['credito'],right_on=['Cuenta'])\n",
    "consolidado_pagos_liv = consolidado_pagos_liv.drop_duplicates(subset = ['credito','Monto','usuario','fecha_promesa'])\n",
    "consolidado_pagos_liv['Fecha Pago'] = pd.to_datetime(consolidado_pagos_liv['Fecha Pago'],dayfirst=True)\n",
    "try:consolidado_pagos_liv['fecha_promesa'] = pd.to_datetime(consolidado_pagos_liv['fecha_promesa'],dayfirst=False)\n",
    "except: consolidado_pagos_liv['fecha_promesa'] = consolidado_pagos_liv['fecha_promesa']\n",
    "consolidado_pagos_liv['dia_prom'] = consolidado_pagos_liv['fecha_promesa'].dt.day\n",
    "consolidado_pagos_liv['dia_pago'] = consolidado_pagos_liv['Fecha Pago'].dt.day\n",
    "cols = ['dia_prom','dia_pago','Monto']\n",
    "consolidado_pagos_liv[cols] = consolidado_pagos_liv[cols].apply(pd.to_numeric, errors='coerce',downcast='integer')\n",
    "consolidado_pagos_liv['dia_pago'].fillna(0,inplace=True)\n",
    "try:\n",
    "    consolidado_pagos_liv['dia_pago'] = [int(x) for x in consolidado_pagos_liv['dia_pago']]\n",
    "except: consolidado_pagos_liv['dia_pago'] = consolidado_pagos_liv['dia_pago']\n",
    "#consolidado_pagos_liv.head(3)"
   ]
  },
  {
   "cell_type": "code",
   "execution_count": 90,
   "metadata": {},
   "outputs": [],
   "source": [
    "#Condicionamos a los gestores cuyas promesas y pagos estan en un plazo de 3 dias\n",
    "consolidado_pagos_liv['PagoReal'] = [np.where((z < x+pd.Timedelta(3, unit='D')) & ((z > x-pd.Timedelta(3, unit='D') )), y, 0) for x,y,z in zip(consolidado_pagos_liv['fecha_promesa'],consolidado_pagos_liv['Monto'],consolidado_pagos_liv['Fecha Pago'])]\n",
    "consolidado_pagos_liv['PagoReal'] = [x.item() for x in consolidado_pagos_liv['PagoReal']]\n",
    "#consolidado_pagos_liv.head(3)"
   ]
  },
  {
   "cell_type": "code",
   "execution_count": 91,
   "metadata": {},
   "outputs": [],
   "source": [
    "consolidado_pagos_liv['MontoArancel'] = [x*y for x,y in zip(consolidado_pagos_liv['PagoReal'],consolidado_pagos_liv['Arancel'])]"
   ]
  },
  {
   "cell_type": "code",
   "execution_count": 92,
   "metadata": {},
   "outputs": [
    {
     "output_type": "execute_result",
     "data": {
      "text/plain": [
       "                        Gestor  NumeroPromesas  NumeroPagos  SumaPromesas  \\\n",
       "0  BALBUENA MACEDO EDGAR URIEL               1            0       14938.0   \n",
       "\n",
       "   SumaPagos  SumaArancel  \n",
       "0        0.0          0.0  "
      ],
      "text/html": "<div>\n<style scoped>\n    .dataframe tbody tr th:only-of-type {\n        vertical-align: middle;\n    }\n\n    .dataframe tbody tr th {\n        vertical-align: top;\n    }\n\n    .dataframe thead th {\n        text-align: right;\n    }\n</style>\n<table border=\"1\" class=\"dataframe\">\n  <thead>\n    <tr style=\"text-align: right;\">\n      <th></th>\n      <th>Gestor</th>\n      <th>NumeroPromesas</th>\n      <th>NumeroPagos</th>\n      <th>SumaPromesas</th>\n      <th>SumaPagos</th>\n      <th>SumaArancel</th>\n    </tr>\n  </thead>\n  <tbody>\n    <tr>\n      <th>0</th>\n      <td>BALBUENA MACEDO EDGAR URIEL</td>\n      <td>1</td>\n      <td>0</td>\n      <td>14938.0</td>\n      <td>0.0</td>\n      <td>0.0</td>\n    </tr>\n  </tbody>\n</table>\n</div>"
     },
     "metadata": {},
     "execution_count": 92
    }
   ],
   "source": [
    "#Obtenemos datos de los gestores de Liverpool\n",
    "prom_liv_gestor_mes = pd.pivot_table(consolidado_pagos_liv,index=['nombre_usuario'],values=['credito','monto_promesa','PagoReal','MontoArancel'],aggfunc=['count',np.sum],dropna=False)\n",
    "prom_liv_gestor_mes = pd.DataFrame(prom_liv_gestor_mes.to_records())\n",
    "prom_liv_gestor_mes = prom_liv_gestor_mes.iloc[:,[0,2,1,8,6,5]]\n",
    "prom_liv_gestor_mes.columns = ['Gestor','NumeroPromesas','NumeroPagos','SumaPromesas','SumaPagos','SumaArancel']\n",
    "prom_liv_gestor_mes.fillna(0,inplace=True)\n",
    "#prom_liv_gestor_mes = prom_liv_gestor_mes.sort_values(by='SumaPagos',ascending=False)\n",
    "#prom_liv_gestor_mes[['SumaPromesas']] = prom_liv_gestor_mes[['SumaPromesas']].applymap(\"{0:.2f}\".format)\n",
    "prom_liv_gestor_mes.head(1)"
   ]
  },
  {
   "source": [
    "# Bradesco"
   ],
   "cell_type": "markdown",
   "metadata": {}
  },
  {
   "cell_type": "code",
   "execution_count": 93,
   "metadata": {},
   "outputs": [],
   "source": [
    "#Hacemos la consulta referente a las gestiones de Bradesco\n",
    "gestion_brad_mes = consulta_sql('bradescard_rpt_gestiones_detallado',mes,today)\n",
    "gestion_brad_mes.columns = ['folio_gestion','firma_id','unegocio_id','credito','nombre_credito','telefono','tipo_telefono','fecha_gestion','usuario','nombre_usuario','dictamen','accion','resultado','accion_resultado','fecha_promesa','monto_promesa','comentarios']\n",
    "gestion_brad_mes = gestion_brad_mes.loc[gestion_brad_mes['dictamen']=='PROMESA']\n",
    "gestion_brad_mes['credito'] = pd.to_numeric(gestion_brad_mes['credito'])\n",
    "gestion_brad_mes['monto_promesa'] = pd.to_numeric(gestion_brad_mes['monto_promesa'])\n",
    "gestion_brad_mes = gestion_brad_mes.drop_duplicates(subset=['credito','usuario','fecha_promesa','monto_promesa'])\n",
    "#gestion_brad_mes.head(3)"
   ]
  },
  {
   "cell_type": "code",
   "execution_count": 94,
   "metadata": {},
   "outputs": [],
   "source": [
    "#Hacemos la consulta de la asignacion\n",
    "asignacion_brad = consulta_sql('liverpool_rpt_asignacion_activa')\n",
    "asignacion_brad = asignacion_brad.iloc[:,[0,1,3,9,24,6,26]]\n",
    "asignacion_brad.columns = ['firma_id','unegocio_id','credito','saldo_total','estado','rfc','division']\n",
    "asignacion_brad['credito'] = pd.to_numeric(asignacion_brad['credito'])\n",
    "#asignacion_brad.head(3)"
   ]
  },
  {
   "cell_type": "code",
   "execution_count": 95,
   "metadata": {},
   "outputs": [],
   "source": [
    "#Hacemos la union de asignacion y promesas\n",
    "consolidado_brad_mes = pd.merge(gestion_brad_mes,asignacion_brad,how='left',on=['firma_id','unegocio_id','credito'])\n",
    "cols = ['monto_promesa','credito']\n",
    "consolidado_brad_mes[cols] = consolidado_brad_mes[cols].apply(pd.to_numeric, errors='coerce')\n",
    "consolidado_brad_mes = consolidado_brad_mes[(consolidado_brad_mes['monto_promesa']>50)]\n",
    "consolidado_brad_mes = consolidado_brad_mes[(consolidado_brad_mes['monto_promesa']<500000)]\n",
    "consolidado_brad_mes.fillna('COBRANZA',inplace=True)\n",
    "#consolidado_brad_mes.head(3)"
   ]
  },
  {
   "cell_type": "code",
   "execution_count": 96,
   "metadata": {},
   "outputs": [],
   "source": [
    "#Obtenemos los pagos totales por division\n",
    "pagos_totales_brad = pd.pivot_table(pagos_brad2,index=['TIPO_ASIGANCION'],values=['MONTO'],aggfunc=[np.sum,'count'],margins=True,dropna=False)\n",
    "pagos_totales_brad = pd.DataFrame(pagos_totales_brad.to_records())\n",
    "pagos_totales_brad = pagos_totales_brad.iloc[:,[0,2,1]]\n",
    "pagos_totales_brad.columns = ['Division','NumeroPagos','SumaPagos']\n",
    "pagos_totales_brad.fillna(0,inplace=True)"
   ]
  },
  {
   "cell_type": "code",
   "execution_count": 97,
   "metadata": {},
   "outputs": [],
   "source": [
    "C04PV = pagos_totales_brad.loc[pagos_totales_brad['Division']=='C0 4PV', 'SumaPagos'].item()\n",
    "C05PV = pagos_totales_brad.loc[pagos_totales_brad['Division']=='C0 5PV', 'SumaPagos'].item()\n",
    "C06PV = pagos_totales_brad.loc[pagos_totales_brad['Division']=='C0 6PV', 'SumaPagos'].item()\n",
    "A = pagos_totales_brad.loc[pagos_totales_brad['Division']=='A', 'SumaPagos'].item()\n",
    "C1 = pagos_totales_brad.loc[pagos_totales_brad['Division']=='C1', 'SumaPagos'].item()\n",
    "C2 = pagos_totales_brad.loc[pagos_totales_brad['Division']=='C2', 'SumaPagos'].item()\n",
    "C3 = pagos_totales_brad.loc[pagos_totales_brad['Division']=='C3', 'SumaPagos'].item()\n",
    "C4 = pagos_totales_brad.loc[pagos_totales_brad['Division']=='C4', 'SumaPagos'].item()\n",
    "B = pagos_totales_brad.loc[pagos_totales_brad['Division']=='B', 'SumaPagos'].item()"
   ]
  },
  {
   "cell_type": "code",
   "execution_count": 98,
   "metadata": {},
   "outputs": [],
   "source": [
    "def func(row):\n",
    "    if row['TIPO_ASIGANCION'] == 'C0 4PV':\n",
    "        return np.where((C04PV>0) & (C04PV<=c04pv1),arancel_4pv1,\n",
    "                        np.where((C04PV>c04pv1) & (C04PV<=c04pv2),arancel_4pv2,\n",
    "                                 np.where((C04PV>c04pv2) & (C04PV<=c04pv3),arancel_4pv3,arancel_4pv3+.03)))\n",
    "    elif row['TIPO_ASIGANCION'] == 'C0 5PV':\n",
    "        return np.where((C05PV>0) & (C05PV<=c05pv1),arancel_5pv1,\n",
    "                        np.where((C05PV>c05pv1) & (C05PV<=c05pv2),arancel_5pv2,\n",
    "                                 np.where((C05PV>c05pv2) & (C05PV<=c05pv3),arancel_5pv3,arancel_5pv3+.03)))\n",
    "    elif row['TIPO_ASIGANCION'] == 'C0 6PV':\n",
    "        return np.where((C06PV>0) & (C06PV<=c06pv1),arancel_6pv1,\n",
    "                        np.where((C06PV>c06pv1) & (C06PV<=c06pv2),arancel_6pv2,\n",
    "                                 np.where((C06PV>c06pv2) & (C06PV<=c06pv3),arancel_6pv3,arancel_6pv3+.03)))\n",
    "    elif row['TIPO_ASIGANCION'] == 'A':\n",
    "        return np.where((A>0) & (A<=a1),arancel_a1,\n",
    "                        np.where((A>a1) & (A<=a2),arancel_a2,\n",
    "                                 np.where((A>a2) & (A<=a3),arancel_a3,arancel_a3+.03)))\n",
    "    elif row['TIPO_ASIGANCION'] == 'B':\n",
    "        return np.where((B>0) & (B<=b1),arancel_b1,\n",
    "                        np.where((B>b1) & (B<=b2),arancel_b2,\n",
    "                                 np.where((B>b2) & (B<=b3),arancel_b3,arancel_b3+.03)))\n",
    "    elif row['TIPO_ASIGANCION'] == 'C1':\n",
    "        return np.where((C1>0) & (C1<=c11),arancel_c11,\n",
    "                        np.where((C1>c11) & (C1<=c12),arancel_c12,\n",
    "                                 np.where((C1>c12) & (C1<=c13),arancel_c13,arancel_c13+.03)))\n",
    "    elif row['TIPO_ASIGANCION'] == 'C2':\n",
    "        return np.where((C2>0) & (C2<=c21),arancel_c21,\n",
    "                        np.where((C2>c21) & (C2<=c22),arancel_c22,\n",
    "                                 np.where((C2>c22) & (C2<=c23),arancel_c23,arancel_c23+.03)))\n",
    "    elif row['TIPO_ASIGANCION'] == 'C3':\n",
    "        return np.where((C3>0) & (C3<=c31),arancel_c31,\n",
    "                        np.where((C3>c31) & (C3<=c32),arancel_c32,\n",
    "                                 np.where((C3>c32) & (C3<=c33),arancel_c33,arancel_c33+.03)))\n",
    "    elif row['TIPO_ASIGANCION'] == 'C4':\n",
    "        return np.where((C4>0) & (C4<=c41),arancel_c41,\n",
    "                        np.where((C4>c41) & (C4<=c42),arancel_c42,\n",
    "                                 np.where((C4>c42) & (C4<=c43),arancel_c43,arancel_c43+.03)))\n",
    "    \n",
    "    else:\n",
    "        return 0\n",
    "\n",
    "pagos_brad2['Arancel'] = pagos_brad2.apply(func, axis=1)"
   ]
  },
  {
   "cell_type": "code",
   "execution_count": 99,
   "metadata": {},
   "outputs": [],
   "source": [
    "pagos_brad2['Facturacion'] = [x*y for x,y in zip(pagos_brad2['MONTO'],pagos_brad2['Arancel'])]"
   ]
  },
  {
   "cell_type": "code",
   "execution_count": 100,
   "metadata": {},
   "outputs": [],
   "source": [
    "#Hacemos la union consolidado y pagos\n",
    "consoliado_pagos_brad = pd.merge(consolidado_brad_mes,pagos_brad2,how='left',left_on=['credito'],right_on=['NUMERO_TARJETA'])\n",
    "try: consoliado_pagos_brad['fecha_promesa'] = pd.to_datetime(consoliado_pagos_brad['fecha_promesa'],dayfirst=False)\n",
    "except: consoliado_pagos_brad['fecha_promesa'] = consoliado_pagos_brad['fecha_gestion']"
   ]
  },
  {
   "cell_type": "code",
   "execution_count": 101,
   "metadata": {},
   "outputs": [],
   "source": [
    "#Condicionamos a los gestores cuyas promesas y pagos estan en un plazo de 3 dias\n",
    "consoliado_pagos_brad['PagoUnico'] = [np.where((z < x+pd.Timedelta(4, unit='D')) & ((z > x-pd.Timedelta(3, unit='D') )), y, 0) for x,y,z in zip(consoliado_pagos_brad['fecha_promesa'],consoliado_pagos_brad['MONTO'],consoliado_pagos_brad['FECHA_PAGO'])]\n",
    "consoliado_pagos_brad['PagoUnico'] = [x.item() for x in consoliado_pagos_brad['PagoUnico']]"
   ]
  },
  {
   "cell_type": "code",
   "execution_count": 102,
   "metadata": {},
   "outputs": [],
   "source": [
    "consoliado_pagos_brad['PagoReal'] = [x*y for x,y in zip(consoliado_pagos_brad['PagoUnico'],consoliado_pagos_brad['Arancel'])]\n",
    "consoliado_pagos_brad2 = consoliado_pagos_brad.drop_duplicates(subset=['credito','MONTO','FECHA_PAGO','usuario'])"
   ]
  },
  {
   "cell_type": "code",
   "execution_count": 103,
   "metadata": {},
   "outputs": [
    {
     "output_type": "execute_result",
     "data": {
      "text/plain": [
       "                   Gestor  NumeroPromesas  NumeroPagos  SumaPromesas  \\\n",
       "0  AGUILAR MACEDO VALERIA             129           86      145456.0   \n",
       "\n",
       "   SumaPagos  SumaArancel  \n",
       "0   116867.0     12817.57  "
      ],
      "text/html": "<div>\n<style scoped>\n    .dataframe tbody tr th:only-of-type {\n        vertical-align: middle;\n    }\n\n    .dataframe tbody tr th {\n        vertical-align: top;\n    }\n\n    .dataframe thead th {\n        text-align: right;\n    }\n</style>\n<table border=\"1\" class=\"dataframe\">\n  <thead>\n    <tr style=\"text-align: right;\">\n      <th></th>\n      <th>Gestor</th>\n      <th>NumeroPromesas</th>\n      <th>NumeroPagos</th>\n      <th>SumaPromesas</th>\n      <th>SumaPagos</th>\n      <th>SumaArancel</th>\n    </tr>\n  </thead>\n  <tbody>\n    <tr>\n      <th>0</th>\n      <td>AGUILAR MACEDO VALERIA</td>\n      <td>129</td>\n      <td>86</td>\n      <td>145456.0</td>\n      <td>116867.0</td>\n      <td>12817.57</td>\n    </tr>\n  </tbody>\n</table>\n</div>"
     },
     "metadata": {},
     "execution_count": 103
    }
   ],
   "source": [
    "pagos_totales_brad2 = pd.pivot_table(consoliado_pagos_brad,index=['nombre_usuario'],values=['monto_promesa','MONTO','PagoReal'],aggfunc=['count',np.sum],dropna=False)\n",
    "pagos_totales_brad2 = pd.DataFrame(pagos_totales_brad2.to_records())\n",
    "pagos_totales_brad2 = pagos_totales_brad2.iloc[:,[0,3,1,6,4,5]]\n",
    "pagos_totales_brad2.columns = ['Gestor','NumeroPromesas','NumeroPagos','SumaPromesas','SumaPagos','SumaArancel']\n",
    "pagos_totales_brad2.fillna(0,inplace=True)\n",
    "#pagos_totales_brad2['FechaFact'] = max(pagos_brad2['FECHA_PAGO'])\n",
    "pagos_totales_brad2.head(1)"
   ]
  },
  {
   "cell_type": "code",
   "execution_count": 104,
   "metadata": {},
   "outputs": [
    {
     "output_type": "execute_result",
     "data": {
      "text/plain": [
       "                   Gestor  NumeroPromesas  NumeroPagos  SumaPromesas  \\\n",
       "0  AGUILAR MACEDO VALERIA             129           86      145456.0   \n",
       "\n",
       "   SumaPagos  SumaArancel  EfVolumen   EfPagos  \n",
       "0   116867.0     12817.57   0.666667  0.803453  "
      ],
      "text/html": "<div>\n<style scoped>\n    .dataframe tbody tr th:only-of-type {\n        vertical-align: middle;\n    }\n\n    .dataframe tbody tr th {\n        vertical-align: top;\n    }\n\n    .dataframe thead th {\n        text-align: right;\n    }\n</style>\n<table border=\"1\" class=\"dataframe\">\n  <thead>\n    <tr style=\"text-align: right;\">\n      <th></th>\n      <th>Gestor</th>\n      <th>NumeroPromesas</th>\n      <th>NumeroPagos</th>\n      <th>SumaPromesas</th>\n      <th>SumaPagos</th>\n      <th>SumaArancel</th>\n      <th>EfVolumen</th>\n      <th>EfPagos</th>\n    </tr>\n  </thead>\n  <tbody>\n    <tr>\n      <th>0</th>\n      <td>AGUILAR MACEDO VALERIA</td>\n      <td>129</td>\n      <td>86</td>\n      <td>145456.0</td>\n      <td>116867.0</td>\n      <td>12817.57</td>\n      <td>0.666667</td>\n      <td>0.803453</td>\n    </tr>\n  </tbody>\n</table>\n</div>"
     },
     "metadata": {},
     "execution_count": 104
    }
   ],
   "source": [
    "gestor_brad_liv = pd.concat([pagos_totales_brad2,prom_liv_gestor_mes],ignore_index=True)\n",
    "gestor_final_brad_liv = pd.pivot_table(gestor_brad_liv,index=['Gestor'],values=['NumeroPromesas','NumeroPagos','SumaPromesas','SumaPagos','SumaArancel'],aggfunc=np.sum)\n",
    "gestor_final_brad_liv = pd.DataFrame(gestor_final_brad_liv.to_records())\n",
    "gestor_final_brad_liv = gestor_final_brad_liv.iloc[:,[0,2,1,5,4,3]]\n",
    "gestor_final_brad_liv['EfVolumen'] = gestor_final_brad_liv['NumeroPagos']/gestor_final_brad_liv['NumeroPromesas']\n",
    "gestor_final_brad_liv['EfPagos'] = gestor_final_brad_liv['SumaPagos']/gestor_final_brad_liv['SumaPromesas']\n",
    "gestor_final_brad_liv.head(1)"
   ]
  },
  {
   "cell_type": "code",
   "execution_count": 105,
   "metadata": {},
   "outputs": [
    {
     "output_type": "execute_result",
     "data": {
      "text/plain": [
       "                   Gestor  SumaPagos   EfPagos\n",
       "0  AGUILAR MACEDO VALERIA   116867.0  0.803453"
      ],
      "text/html": "<div>\n<style scoped>\n    .dataframe tbody tr th:only-of-type {\n        vertical-align: middle;\n    }\n\n    .dataframe tbody tr th {\n        vertical-align: top;\n    }\n\n    .dataframe thead th {\n        text-align: right;\n    }\n</style>\n<table border=\"1\" class=\"dataframe\">\n  <thead>\n    <tr style=\"text-align: right;\">\n      <th></th>\n      <th>Gestor</th>\n      <th>SumaPagos</th>\n      <th>EfPagos</th>\n    </tr>\n  </thead>\n  <tbody>\n    <tr>\n      <th>0</th>\n      <td>AGUILAR MACEDO VALERIA</td>\n      <td>116867.0</td>\n      <td>0.803453</td>\n    </tr>\n  </tbody>\n</table>\n</div>"
     },
     "metadata": {},
     "execution_count": 105
    }
   ],
   "source": [
    "gestor_final_brad_liv2 = gestor_final_brad_liv[['Gestor','SumaPagos','EfPagos']]\n",
    "gestor_final_brad_liv2.head(1)"
   ]
  },
  {
   "cell_type": "code",
   "execution_count": 106,
   "metadata": {},
   "outputs": [
    {
     "output_type": "execute_result",
     "data": {
      "text/plain": [
       "                               Gestor  SumaPagos   EfPagos  \\\n",
       "0              AGUILAR MACEDO VALERIA   116867.0  0.803453   \n",
       "1          ALANIZ DIAZ ALISON JOCELIN    93757.0  0.516952   \n",
       "2    ALEJANDRA YESENIA HERNANDEZ BITE     9246.0  0.389469   \n",
       "3         BALBUENA MACEDO EDGAR URIEL    43437.0  0.492712   \n",
       "4     BARRETO OSEGUERA MARIA FERNANDA    69327.0  0.498375   \n",
       "..                                ...        ...       ...   \n",
       "59  VELAZQUEZ IBARRA ERICK ALEJANDRO     45542.0  0.460157   \n",
       "60                 LOPEZ VAZQUEZ ERIK        0.0  0.000000   \n",
       "61   VAZQUEZ SANCHEZ LINNETH BERENICE        0.0  0.000000   \n",
       "62   VELAZQUEZ IBARRA ERICK ALEJANDRO        0.0  0.000000   \n",
       "63   ESCALONA ZUNIGA FRANCISCO JAVIER        0.0  0.000000   \n",
       "\n",
       "    PromedioLlamadasHora  ContactoHora  PromedioOcupacion  \\\n",
       "0              15.014000      0.553030           0.110820   \n",
       "1              43.137143      1.444444           0.327329   \n",
       "2              18.830000      3.500000           0.201400   \n",
       "3              21.578462      0.925926           0.432308   \n",
       "4              19.506364      2.013699           0.217809   \n",
       "..                   ...           ...                ...   \n",
       "59              0.000000      0.000000           0.000000   \n",
       "60             23.223333      1.562500           0.295700   \n",
       "61             22.380667      0.475248           0.340113   \n",
       "62                   inf      0.370968           0.441600   \n",
       "63             44.000000      0.000000           0.582800   \n",
       "\n",
       "    PromedioaLlamadasHora  \n",
       "0                    15.0  \n",
       "1                    43.0  \n",
       "2                    19.0  \n",
       "3                    22.0  \n",
       "4                    20.0  \n",
       "..                    ...  \n",
       "59                    0.0  \n",
       "60                   23.0  \n",
       "61                   22.0  \n",
       "62                    inf  \n",
       "63                   44.0  \n",
       "\n",
       "[64 rows x 7 columns]"
      ],
      "text/html": "<div>\n<style scoped>\n    .dataframe tbody tr th:only-of-type {\n        vertical-align: middle;\n    }\n\n    .dataframe tbody tr th {\n        vertical-align: top;\n    }\n\n    .dataframe thead th {\n        text-align: right;\n    }\n</style>\n<table border=\"1\" class=\"dataframe\">\n  <thead>\n    <tr style=\"text-align: right;\">\n      <th></th>\n      <th>Gestor</th>\n      <th>SumaPagos</th>\n      <th>EfPagos</th>\n      <th>PromedioLlamadasHora</th>\n      <th>ContactoHora</th>\n      <th>PromedioOcupacion</th>\n      <th>PromedioaLlamadasHora</th>\n    </tr>\n  </thead>\n  <tbody>\n    <tr>\n      <th>0</th>\n      <td>AGUILAR MACEDO VALERIA</td>\n      <td>116867.0</td>\n      <td>0.803453</td>\n      <td>15.014000</td>\n      <td>0.553030</td>\n      <td>0.110820</td>\n      <td>15.0</td>\n    </tr>\n    <tr>\n      <th>1</th>\n      <td>ALANIZ DIAZ ALISON JOCELIN</td>\n      <td>93757.0</td>\n      <td>0.516952</td>\n      <td>43.137143</td>\n      <td>1.444444</td>\n      <td>0.327329</td>\n      <td>43.0</td>\n    </tr>\n    <tr>\n      <th>2</th>\n      <td>ALEJANDRA YESENIA HERNANDEZ BITE</td>\n      <td>9246.0</td>\n      <td>0.389469</td>\n      <td>18.830000</td>\n      <td>3.500000</td>\n      <td>0.201400</td>\n      <td>19.0</td>\n    </tr>\n    <tr>\n      <th>3</th>\n      <td>BALBUENA MACEDO EDGAR URIEL</td>\n      <td>43437.0</td>\n      <td>0.492712</td>\n      <td>21.578462</td>\n      <td>0.925926</td>\n      <td>0.432308</td>\n      <td>22.0</td>\n    </tr>\n    <tr>\n      <th>4</th>\n      <td>BARRETO OSEGUERA MARIA FERNANDA</td>\n      <td>69327.0</td>\n      <td>0.498375</td>\n      <td>19.506364</td>\n      <td>2.013699</td>\n      <td>0.217809</td>\n      <td>20.0</td>\n    </tr>\n    <tr>\n      <th>...</th>\n      <td>...</td>\n      <td>...</td>\n      <td>...</td>\n      <td>...</td>\n      <td>...</td>\n      <td>...</td>\n      <td>...</td>\n    </tr>\n    <tr>\n      <th>59</th>\n      <td>VELAZQUEZ IBARRA ERICK ALEJANDRO</td>\n      <td>45542.0</td>\n      <td>0.460157</td>\n      <td>0.000000</td>\n      <td>0.000000</td>\n      <td>0.000000</td>\n      <td>0.0</td>\n    </tr>\n    <tr>\n      <th>60</th>\n      <td>LOPEZ VAZQUEZ ERIK</td>\n      <td>0.0</td>\n      <td>0.000000</td>\n      <td>23.223333</td>\n      <td>1.562500</td>\n      <td>0.295700</td>\n      <td>23.0</td>\n    </tr>\n    <tr>\n      <th>61</th>\n      <td>VAZQUEZ SANCHEZ LINNETH BERENICE</td>\n      <td>0.0</td>\n      <td>0.000000</td>\n      <td>22.380667</td>\n      <td>0.475248</td>\n      <td>0.340113</td>\n      <td>22.0</td>\n    </tr>\n    <tr>\n      <th>62</th>\n      <td>VELAZQUEZ IBARRA ERICK ALEJANDRO</td>\n      <td>0.0</td>\n      <td>0.000000</td>\n      <td>inf</td>\n      <td>0.370968</td>\n      <td>0.441600</td>\n      <td>inf</td>\n    </tr>\n    <tr>\n      <th>63</th>\n      <td>ESCALONA ZUNIGA FRANCISCO JAVIER</td>\n      <td>0.0</td>\n      <td>0.000000</td>\n      <td>44.000000</td>\n      <td>0.000000</td>\n      <td>0.582800</td>\n      <td>44.0</td>\n    </tr>\n  </tbody>\n</table>\n<p>64 rows × 7 columns</p>\n</div>"
     },
     "metadata": {},
     "execution_count": 106
    }
   ],
   "source": [
    "final = pd.merge(gestor_final_brad_liv2,conjunto_performance_llamadas,how='outer',on='Gestor')\n",
    "final['PromedioaLlamadasHora'] = final['PromedioLlamadasHora'].round()\n",
    "final['PromedioOcupacion'] = final['PromedioOcupacion']/100\n",
    "cols = ['PromedioOcupacion','EfPagos','PromedioLlamadasHora','0.ContactoHora']\n",
    "#final[cols] = final[cols].round(2)\n",
    "final.fillna(0,inplace=True)\n",
    "final"
   ]
  },
  {
   "cell_type": "code",
   "execution_count": 107,
   "metadata": {},
   "outputs": [],
   "source": [
    "writer = pd.ExcelWriter(''+ruta_guardar+'/Gestores/BradLiv/Reporte Gestor BradLiv '+now+'.xlsx',engine='xlsxwriter')\n",
    "final.to_excel(writer,'BSC',index=False,header=True)\n",
    "gestor_final_brad_liv2.to_excel(writer,'MontoRecuperado',index=False,header=True)\n",
    "control_liv_consol_turno.to_excel(writer,'LlamadasDetallado',index=False,header=True)\n",
    "control_performance_brad_turno.to_excel(writer,'PerformanceDetallado',index=False,header=True)\n",
    "gestor_final_brad_liv.to_excel(writer,'PagosDetallado',index=False,header=True)\n",
    "\n",
    "writer.save()"
   ]
  },
  {
   "cell_type": "code",
   "execution_count": null,
   "metadata": {},
   "outputs": [],
   "source": []
  }
 ]
}