{
 "metadata": {
  "language_info": {
   "codemirror_mode": {
    "name": "ipython",
    "version": 3
   },
   "file_extension": ".py",
   "mimetype": "text/x-python",
   "name": "python",
   "nbconvert_exporter": "python",
   "pygments_lexer": "ipython3",
   "version": "3.8.5-final"
  },
  "orig_nbformat": 2,
  "kernelspec": {
   "name": "python3",
   "display_name": "Python 3",
   "language": "python"
  }
 },
 "nbformat": 4,
 "nbformat_minor": 2,
 "cells": [
  {
   "cell_type": "code",
   "execution_count": 2,
   "metadata": {},
   "outputs": [],
   "source": [
    "import pandas as pd\n",
    "import numpy as np\n",
    "import mysql.connector\n",
    "import os\n",
    "from mysql.connector import Error\n",
    "from datetime import datetime, date, timedelta\n",
    "import re\n",
    "import ConeccionesSucursales as cs\n",
    "from IPython.core.interactiveshell import InteractiveShell\n",
    "InteractiveShell.ast_node_interactivity = \"all\""
   ]
  },
  {
   "cell_type": "code",
   "execution_count": 3,
   "metadata": {},
   "outputs": [],
   "source": [
    "#Definimos la ruta en donde queremos guardar los archivos\n",
    "ruta = '/home/estadistico/Documents/Erick/'\n",
    "ruta_guardar = '/home/estadistico/Documents/Erick/Reportes diarios'\n",
    "mes = 20210101\n",
    "mes2 = 'Enero2021'\n",
    "mes3 = pd.to_datetime('01/01/2021',dayfirst=True)\n",
    "fin_mes = pd.to_datetime('31/01/2021',dayfirst=True)\n",
    "quetzal = 2.54\n",
    "dolar = 19.8"
   ]
  },
  {
   "cell_type": "code",
   "execution_count": 5,
   "metadata": {},
   "outputs": [],
   "source": [
    "#Lectura pagos Bradesco\n",
    "book = os.listdir(''+ruta+'/'+str(mes2)+'/Bradesco/Pagos/')\n",
    "pagos_brad = pd.DataFrame()\n",
    "for i in book:\n",
    "    pagos_new = pd.read_excel(''+ruta+'/'+str(mes2)+'/Bradesco/Pagos/'+i+'')\n",
    "    pagos_new = pagos_new.iloc[:,0:9]\n",
    "    pagos_brad = pd.concat([pagos_brad,pagos_new],ignore_index=True)\n",
    "    pagos_brad = pagos_brad.drop_duplicates()\n",
    "pagos_brad = pd.pivot_table(pagos_brad,index=['NUMERO_TARJETA','FECHA_PAGO','TIPO_ASIGANCION'],values=['MONTO'],aggfunc=np.sum)\n",
    "pagos_brad = pd.DataFrame(pagos_brad.to_records())\n",
    "pagos_brad = pagos_brad.loc[pagos_brad['FECHA_PAGO']>=mes3]"
   ]
  },
  {
   "cell_type": "code",
   "execution_count": 6,
   "metadata": {},
   "outputs": [],
   "source": [
    "#Lectura pagos Liverpool\n",
    "book =  os.listdir(''+ruta+'/'+str(mes2)+'/Liverpool/Pagos/')\n",
    "sheet_liv = ['SA002REM','SA001REM','DKN04REM','DKN02REM','DKN00REM']\n",
    "pagos_liv = pd.DataFrame()\n",
    "pagos_liv_new = pd.DataFrame()\n",
    "for i in book:\n",
    "    for j in sheet_liv:\n",
    "        pagos_new = pd.read_excel(''+ruta+'/'+str(mes2)+'/Liverpool/Pagos/'+i+'',sheet_name = str(j),converters={'Cuenta':str})\n",
    "        pagos_new.columns = ['Id','Cuenta','Fecha Prom','Fecha Pago','Monto','Posteo']\n",
    "        pagos_liv_new = pd.concat([pagos_liv_new,pagos_new],ignore_index=True)\n",
    "        pagos_liv_new = pagos_liv_new.iloc[:,0:6]\n",
    "    pagos_liv = pd.concat([pagos_liv,pagos_liv_new],ignore_index=True)\n",
    "    pagos_liv = pagos_liv.drop_duplicates()\n",
    "pagos_liv['Fecha Pago'] = pd.to_datetime(pagos_liv['Fecha Pago'],dayfirst=True)\n",
    "pagos_liv = pd.pivot_table(pagos_liv,index=['Id','Cuenta','Fecha Pago','Fecha Prom'],values=['Monto'],aggfunc=np.sum) \n",
    "pagos_liv = pd.DataFrame(pagos_liv.to_records())\n",
    "pagos_liv = pagos_liv.loc[pagos_liv['Fecha Pago']>=mes3]"
   ]
  },
  {
   "cell_type": "code",
   "execution_count": 7,
   "metadata": {},
   "outputs": [],
   "source": [
    "#Asignamos valores a los parametros \\n\"\n",
    "today = date.today().strftime('%Y%m%d')\n",
    "now = datetime.now().strftime('%d-%m-%Y %H:%M')\n",
    "hoy = np.datetime64('today')\n",
    "ayer = np.datetime64(date.today() - timedelta(1))\n",
    "today2 = date.today().strftime('%d-%m-%Y')"
   ]
  },
  {
   "cell_type": "code",
   "execution_count": 10,
   "metadata": {},
   "outputs": [],
   "source": [
    "#Funcion para transformar varias columnas a numero\n",
    "def transform_numeric(df,cols):\n",
    "    return df[cols].apply(pd.to_numeric, errors='coerce')\n",
    "\n",
    "#Funcion que convierte a dataframe y rellena espacios con 0\n",
    "def to_dataframe(df):\n",
    "    df = pd.DataFrame(df.to_records())\n",
    "    df.fillna(0,inplace=True)\n",
    "    return df\n",
    "\n",
    "#Funcion que quita el % del string\n",
    "def percent_tonumeric(df,cols):\n",
    "    for c in cols:\n",
    "        df[c] = [x[:-2] for x in df[c]]\n",
    "    return transform_numeric(df,cols)"
   ]
  },
  {
   "cell_type": "code",
   "execution_count": 11,
   "metadata": {},
   "outputs": [],
   "source": [
    "#Hacemos la asignacion de cada una de las metas para cambiar de arancel sin tomar el 0 en cuenta\n",
    "c04pv1, arancel_4pv1 = 1204704, .07\n",
    "c04pv2, arancel_4pv2 = 1807056, .09\n",
    "c04pv3, arancel_4pv3 = 2409407, .12\n",
    "c05pv1, arancel_5pv1 = 662269, .09\n",
    "c05pv2, arancel_5pv2 = 993403, .10\n",
    "c05pv3, arancel_5pv3 = 1324538, .14\n",
    "c06pv1, arancel_6pv1 = 807172, .10\n",
    "c06pv2, arancel_6pv2 = 1210759, .11\n",
    "c06pv3, arancel_6pv3 = 1614345, .16\n",
    "a1, arancel_a1 = 260190, .27\n",
    "a2, arancel_a2 = 390285, .30\n",
    "a3, arancel_a3 = 520381, .33\n",
    "b1, arancel_b1 = 215083, .25\n",
    "b2, arancel_b2 = 322624, .28\n",
    "b3, arancel_b3 = 430165, .31\n",
    "c11, arancel_c11 = 1430989, .17\n",
    "c12, arancel_c12 = 2146483, .20\n",
    "c13, arancel_c13 = 2861978, .23\n",
    "c21, arancel_c21 = 626634, .19\n",
    "c22, arancel_c22 = 939951, .22\n",
    "c23, arancel_c23 = 1253267, .25\n",
    "c31, arancel_c31 = 246425, .21\n",
    "c32, arancel_c32 = 369637, .24\n",
    "c33, arancel_c33 = 492849, .27\n",
    "c41, arancel_c41 = 123529, .23\n",
    "c42, arancel_c42 = 185294, .26\n",
    "c43, arancel_c43 = 247059, .29"
   ]
  },
  {
   "source": [
    "# Llamadas detallado Liverpool Bradesco"
   ],
   "cell_type": "markdown",
   "metadata": {}
  },
  {
   "cell_type": "code",
   "execution_count": 12,
   "metadata": {},
   "outputs": [
    {
     "output_type": "execute_result",
     "data": {
      "text/plain": [
       "       server_ip            uniqueid call_type           call_date  \\\n",
       "0  192.168.15.21  1609483969.1374923   Inbound 2021-01-01 00:52:50   \n",
       "\n",
       "  campaign_id      campaign_name list_id             list_name   lead_id  \\\n",
       "0     1102_IN  LIVERPOOL_BLASTER     999  Default inbound list  34186185   \n",
       "\n",
       "  vendor_lead_id  ... call_time_short call_time_hour call_range_hour  \\\n",
       "0     3331298280  ... 0 days 00:52:50              0   00:00 - 01:00   \n",
       "\n",
       "  dialstatus hangup_cause sip_hangup_cause  carrier  areacode  state  \\\n",
       "0     ANSWER           16           200 OK  INBOUND       333    JAL   \n",
       "\n",
       "      region  \n",
       "0  OCCIDENTE  \n",
       "\n",
       "[1 rows x 30 columns]"
      ],
      "text/html": "<div>\n<style scoped>\n    .dataframe tbody tr th:only-of-type {\n        vertical-align: middle;\n    }\n\n    .dataframe tbody tr th {\n        vertical-align: top;\n    }\n\n    .dataframe thead th {\n        text-align: right;\n    }\n</style>\n<table border=\"1\" class=\"dataframe\">\n  <thead>\n    <tr style=\"text-align: right;\">\n      <th></th>\n      <th>server_ip</th>\n      <th>uniqueid</th>\n      <th>call_type</th>\n      <th>call_date</th>\n      <th>campaign_id</th>\n      <th>campaign_name</th>\n      <th>list_id</th>\n      <th>list_name</th>\n      <th>lead_id</th>\n      <th>vendor_lead_id</th>\n      <th>...</th>\n      <th>call_time_short</th>\n      <th>call_time_hour</th>\n      <th>call_range_hour</th>\n      <th>dialstatus</th>\n      <th>hangup_cause</th>\n      <th>sip_hangup_cause</th>\n      <th>carrier</th>\n      <th>areacode</th>\n      <th>state</th>\n      <th>region</th>\n    </tr>\n  </thead>\n  <tbody>\n    <tr>\n      <th>0</th>\n      <td>192.168.15.21</td>\n      <td>1609483969.1374923</td>\n      <td>Inbound</td>\n      <td>2021-01-01 00:52:50</td>\n      <td>1102_IN</td>\n      <td>LIVERPOOL_BLASTER</td>\n      <td>999</td>\n      <td>Default inbound list</td>\n      <td>34186185</td>\n      <td>3331298280</td>\n      <td>...</td>\n      <td>0 days 00:52:50</td>\n      <td>0</td>\n      <td>00:00 - 01:00</td>\n      <td>ANSWER</td>\n      <td>16</td>\n      <td>200 OK</td>\n      <td>INBOUND</td>\n      <td>333</td>\n      <td>JAL</td>\n      <td>OCCIDENTE</td>\n    </tr>\n  </tbody>\n</table>\n<p>1 rows × 30 columns</p>\n</div>"
     },
     "metadata": {},
     "execution_count": 12
    }
   ],
   "source": [
    "#Hacemos la consulta referente a las llamadas de Liverpool\n",
    "llamadas_liv = cs.query_naucalpan('procesos_externos.all_rpt_llamadas_detallado',mes,today,'(^LIV)')\n",
    "llamadas_liv.columns = ['server_ip','uniqueid','call_type','call_date','campaign_id','campaign_name','list_id','list_name','lead_id','vendor_lead_id','vendor_lead_name','phone_number','status','status_name','username','full_name','term_reason_call','queue_seconds','length_in_sec','call_date_short','call_time_short','call_time_hour','call_range_hour','dialstatus','hangup_cause','sip_hangup_cause','carrier','areacode','state','region']\n",
    "llamadas_liv.head(1)"
   ]
  },
  {
   "cell_type": "code",
   "execution_count": 13,
   "metadata": {},
   "outputs": [
    {
     "output_type": "execute_result",
     "data": {
      "text/plain": [
       "       server_ip            uniqueid call_type           call_date  \\\n",
       "0  192.168.15.21  1609502079.1374953   Inbound 2021-01-01 05:54:40   \n",
       "\n",
       "  campaign_id  campaign_name list_id             list_name   lead_id  \\\n",
       "0     1001_IN  BRADESCO_CALL     999  Default inbound list  33306642   \n",
       "\n",
       "  vendor_lead_id  ... call_time_short call_time_hour call_range_hour  \\\n",
       "0     3326563987  ... 0 days 05:54:40              5   05:00 - 06:00   \n",
       "\n",
       "  dialstatus hangup_cause sip_hangup_cause  carrier  areacode  state  \\\n",
       "0     ANSWER           16           200 OK  INBOUND       332    JAL   \n",
       "\n",
       "      region  \n",
       "0  OCCIDENTE  \n",
       "\n",
       "[1 rows x 30 columns]"
      ],
      "text/html": "<div>\n<style scoped>\n    .dataframe tbody tr th:only-of-type {\n        vertical-align: middle;\n    }\n\n    .dataframe tbody tr th {\n        vertical-align: top;\n    }\n\n    .dataframe thead th {\n        text-align: right;\n    }\n</style>\n<table border=\"1\" class=\"dataframe\">\n  <thead>\n    <tr style=\"text-align: right;\">\n      <th></th>\n      <th>server_ip</th>\n      <th>uniqueid</th>\n      <th>call_type</th>\n      <th>call_date</th>\n      <th>campaign_id</th>\n      <th>campaign_name</th>\n      <th>list_id</th>\n      <th>list_name</th>\n      <th>lead_id</th>\n      <th>vendor_lead_id</th>\n      <th>...</th>\n      <th>call_time_short</th>\n      <th>call_time_hour</th>\n      <th>call_range_hour</th>\n      <th>dialstatus</th>\n      <th>hangup_cause</th>\n      <th>sip_hangup_cause</th>\n      <th>carrier</th>\n      <th>areacode</th>\n      <th>state</th>\n      <th>region</th>\n    </tr>\n  </thead>\n  <tbody>\n    <tr>\n      <th>0</th>\n      <td>192.168.15.21</td>\n      <td>1609502079.1374953</td>\n      <td>Inbound</td>\n      <td>2021-01-01 05:54:40</td>\n      <td>1001_IN</td>\n      <td>BRADESCO_CALL</td>\n      <td>999</td>\n      <td>Default inbound list</td>\n      <td>33306642</td>\n      <td>3326563987</td>\n      <td>...</td>\n      <td>0 days 05:54:40</td>\n      <td>5</td>\n      <td>05:00 - 06:00</td>\n      <td>ANSWER</td>\n      <td>16</td>\n      <td>200 OK</td>\n      <td>INBOUND</td>\n      <td>332</td>\n      <td>JAL</td>\n      <td>OCCIDENTE</td>\n    </tr>\n  </tbody>\n</table>\n<p>1 rows × 30 columns</p>\n</div>"
     },
     "metadata": {},
     "execution_count": 13
    }
   ],
   "source": [
    "#Hacemos la consulta referente a las llamadas de Bradesco\n",
    "llamadas_brad = cs.query_naucalpan('procesos_externos.all_rpt_llamadas_detallado',mes,today,'(^BRAD)')\n",
    "llamadas_brad.columns = ['server_ip','uniqueid','call_type','call_date','campaign_id','campaign_name','list_id','list_name','lead_id','vendor_lead_id','vendor_lead_name','phone_number','status','status_name','username','full_name','term_reason_call','queue_seconds','length_in_sec','call_date_short','call_time_short','call_time_hour','call_range_hour','dialstatus','hangup_cause','sip_hangup_cause','carrier','areacode','state','region']\n",
    "llamadas_brad.head(1)"
   ]
  },
  {
   "cell_type": "code",
   "execution_count": 14,
   "metadata": {},
   "outputs": [],
   "source": [
    "llamadas_liv_brad = pd.concat([llamadas_liv,llamadas_brad],ignore_index=True)"
   ]
  },
  {
   "cell_type": "code",
   "execution_count": 15,
   "metadata": {},
   "outputs": [],
   "source": [
    "llamadas_liv_brad['turno'] = np.where(llamadas_liv_brad['call_time_hour']<=14,'M','V')"
   ]
  },
  {
   "cell_type": "code",
   "execution_count": 16,
   "metadata": {},
   "outputs": [
    {
     "output_type": "execute_result",
     "data": {
      "text/plain": [
       "                               Gestor Turno  NumeroGestionesB  \\\n",
       "0                                         M                 1   \n",
       "1              AGUILAR MACEDO VALERIA     M              1331   \n",
       "2              AGUILAR MACEDO VALERIA     V               338   \n",
       "3       AGUILAR RIOS DANIEL ALEJANDRO     M              4365   \n",
       "4       AGUILAR RIOS DANIEL ALEJANDRO     V               155   \n",
       "..                                ...   ...               ...   \n",
       "110  VAZQUEZ SANCHEZ LINNETH BERENICE     V               634   \n",
       "111            VEGA HERNANDEZ NATALIE     M              2468   \n",
       "112            VEGA HERNANDEZ NATALIE     V               461   \n",
       "113        ZARZA NORIA JEFREY ALBERTO     M              1700   \n",
       "114        ZARZA NORIA JEFREY ALBERTO     V              1652   \n",
       "\n",
       "     TiempoTotalSegB  PromedioLlamadaSegB  TiempoTotalMinB  \n",
       "0                  0             0.000000         0.000000  \n",
       "1              51927            39.013524       865.450000  \n",
       "2              11357            33.600592       189.283333  \n",
       "3              91961            21.067812      1532.683333  \n",
       "4               6013            38.793548       100.216667  \n",
       "..               ...                  ...              ...  \n",
       "110            39206            61.839117       653.433333  \n",
       "111           171726            69.581037      2862.100000  \n",
       "112            36512            79.201735       608.533333  \n",
       "113            94858            55.798824      1580.966667  \n",
       "114            90841            54.988499      1514.016667  \n",
       "\n",
       "[115 rows x 6 columns]"
      ],
      "text/html": "<div>\n<style scoped>\n    .dataframe tbody tr th:only-of-type {\n        vertical-align: middle;\n    }\n\n    .dataframe tbody tr th {\n        vertical-align: top;\n    }\n\n    .dataframe thead th {\n        text-align: right;\n    }\n</style>\n<table border=\"1\" class=\"dataframe\">\n  <thead>\n    <tr style=\"text-align: right;\">\n      <th></th>\n      <th>Gestor</th>\n      <th>Turno</th>\n      <th>NumeroGestionesB</th>\n      <th>TiempoTotalSegB</th>\n      <th>PromedioLlamadaSegB</th>\n      <th>TiempoTotalMinB</th>\n    </tr>\n  </thead>\n  <tbody>\n    <tr>\n      <th>0</th>\n      <td></td>\n      <td>M</td>\n      <td>1</td>\n      <td>0</td>\n      <td>0.000000</td>\n      <td>0.000000</td>\n    </tr>\n    <tr>\n      <th>1</th>\n      <td>AGUILAR MACEDO VALERIA</td>\n      <td>M</td>\n      <td>1331</td>\n      <td>51927</td>\n      <td>39.013524</td>\n      <td>865.450000</td>\n    </tr>\n    <tr>\n      <th>2</th>\n      <td>AGUILAR MACEDO VALERIA</td>\n      <td>V</td>\n      <td>338</td>\n      <td>11357</td>\n      <td>33.600592</td>\n      <td>189.283333</td>\n    </tr>\n    <tr>\n      <th>3</th>\n      <td>AGUILAR RIOS DANIEL ALEJANDRO</td>\n      <td>M</td>\n      <td>4365</td>\n      <td>91961</td>\n      <td>21.067812</td>\n      <td>1532.683333</td>\n    </tr>\n    <tr>\n      <th>4</th>\n      <td>AGUILAR RIOS DANIEL ALEJANDRO</td>\n      <td>V</td>\n      <td>155</td>\n      <td>6013</td>\n      <td>38.793548</td>\n      <td>100.216667</td>\n    </tr>\n    <tr>\n      <th>...</th>\n      <td>...</td>\n      <td>...</td>\n      <td>...</td>\n      <td>...</td>\n      <td>...</td>\n      <td>...</td>\n    </tr>\n    <tr>\n      <th>110</th>\n      <td>VAZQUEZ SANCHEZ LINNETH BERENICE</td>\n      <td>V</td>\n      <td>634</td>\n      <td>39206</td>\n      <td>61.839117</td>\n      <td>653.433333</td>\n    </tr>\n    <tr>\n      <th>111</th>\n      <td>VEGA HERNANDEZ NATALIE</td>\n      <td>M</td>\n      <td>2468</td>\n      <td>171726</td>\n      <td>69.581037</td>\n      <td>2862.100000</td>\n    </tr>\n    <tr>\n      <th>112</th>\n      <td>VEGA HERNANDEZ NATALIE</td>\n      <td>V</td>\n      <td>461</td>\n      <td>36512</td>\n      <td>79.201735</td>\n      <td>608.533333</td>\n    </tr>\n    <tr>\n      <th>113</th>\n      <td>ZARZA NORIA JEFREY ALBERTO</td>\n      <td>M</td>\n      <td>1700</td>\n      <td>94858</td>\n      <td>55.798824</td>\n      <td>1580.966667</td>\n    </tr>\n    <tr>\n      <th>114</th>\n      <td>ZARZA NORIA JEFREY ALBERTO</td>\n      <td>V</td>\n      <td>1652</td>\n      <td>90841</td>\n      <td>54.988499</td>\n      <td>1514.016667</td>\n    </tr>\n  </tbody>\n</table>\n<p>115 rows × 6 columns</p>\n</div>"
     },
     "metadata": {},
     "execution_count": 16
    }
   ],
   "source": [
    "#Obtenemos el performance bruto de cada gestor\n",
    "control_gestores_bruto_brad = pd.pivot_table(llamadas_liv_brad,index=['full_name','turno'],values=['length_in_sec'],aggfunc=[np.sum,np.mean,'count'])\n",
    "control_gestores_bruto_brad = to_dataframe(control_gestores_bruto_brad)\n",
    "control_gestores_bruto_brad = control_gestores_bruto_brad.iloc[:,[0,1,4,2,3]]\n",
    "control_gestores_bruto_brad.columns = ['Gestor','Turno','NumeroGestionesB','TiempoTotalSegB','PromedioLlamadaSegB']\n",
    "control_gestores_bruto_brad['TiempoTotalMinB'] = [x/60 for x in control_gestores_bruto_brad['TiempoTotalSegB']]\n",
    "control_gestores_bruto_brad"
   ]
  },
  {
   "cell_type": "code",
   "execution_count": 17,
   "metadata": {},
   "outputs": [],
   "source": [
    "#Obtenemos el performance de las llamadas contestadas\n",
    "llamadas_liv_brad2 = llamadas_liv_brad.loc[llamadas_liv_brad['status_name'].isin(['Contacto con titular','Promesa de pago','Mensaje con terceros','Mensaje con familiar','Negativa de pago','Contacto familiar','Agendar llamada'])]\n",
    "control_gestores_llamadas_brad = pd.pivot_table(llamadas_liv_brad2,index=['full_name','turno'],values=['length_in_sec'],aggfunc=[np.sum,np.mean,'count'])\n",
    "control_gestores_llamadas_brad = to_dataframe(control_gestores_llamadas_brad)\n",
    "control_gestores_llamadas_brad = control_gestores_llamadas_brad.iloc[:,[0,1,4,2,3]]\n",
    "control_gestores_llamadas_brad.columns = ['Gestor','Turno','NumeroGestiones','TiempoTotalSeg','PromedioLlamadaSeg']\n",
    "control_gestores_llamadas_brad['TiempoTotalMin'] = [x/60 for x in control_gestores_llamadas_brad['TiempoTotalSeg']]\n",
    "#control_gestores_llamadas_brad"
   ]
  },
  {
   "cell_type": "code",
   "execution_count": 18,
   "metadata": {},
   "outputs": [
    {
     "output_type": "execute_result",
     "data": {
      "text/plain": [
       "                   Gestor Turno  NumeroGestionesB  TiempoTotalSegB  \\\n",
       "0                             M                 1                0   \n",
       "1  AGUILAR MACEDO VALERIA     M              1331            51927   \n",
       "\n",
       "   PromedioLlamadaSegB  TiempoTotalMinB  NumeroGestiones  TiempoTotalSeg  \\\n",
       "0             0.000000             0.00              0.0             0.0   \n",
       "1            39.013524           865.45             62.0          6395.0   \n",
       "\n",
       "   PromedioLlamadaSeg  TiempoTotalMin  \n",
       "0            0.000000        0.000000  \n",
       "1          103.145161      106.583333  "
      ],
      "text/html": "<div>\n<style scoped>\n    .dataframe tbody tr th:only-of-type {\n        vertical-align: middle;\n    }\n\n    .dataframe tbody tr th {\n        vertical-align: top;\n    }\n\n    .dataframe thead th {\n        text-align: right;\n    }\n</style>\n<table border=\"1\" class=\"dataframe\">\n  <thead>\n    <tr style=\"text-align: right;\">\n      <th></th>\n      <th>Gestor</th>\n      <th>Turno</th>\n      <th>NumeroGestionesB</th>\n      <th>TiempoTotalSegB</th>\n      <th>PromedioLlamadaSegB</th>\n      <th>TiempoTotalMinB</th>\n      <th>NumeroGestiones</th>\n      <th>TiempoTotalSeg</th>\n      <th>PromedioLlamadaSeg</th>\n      <th>TiempoTotalMin</th>\n    </tr>\n  </thead>\n  <tbody>\n    <tr>\n      <th>0</th>\n      <td></td>\n      <td>M</td>\n      <td>1</td>\n      <td>0</td>\n      <td>0.000000</td>\n      <td>0.00</td>\n      <td>0.0</td>\n      <td>0.0</td>\n      <td>0.000000</td>\n      <td>0.000000</td>\n    </tr>\n    <tr>\n      <th>1</th>\n      <td>AGUILAR MACEDO VALERIA</td>\n      <td>M</td>\n      <td>1331</td>\n      <td>51927</td>\n      <td>39.013524</td>\n      <td>865.45</td>\n      <td>62.0</td>\n      <td>6395.0</td>\n      <td>103.145161</td>\n      <td>106.583333</td>\n    </tr>\n  </tbody>\n</table>\n</div>"
     },
     "metadata": {},
     "execution_count": 18
    }
   ],
   "source": [
    "control_liv_consol_turno = pd.merge(control_gestores_bruto_brad,control_gestores_llamadas_brad,how='left',on=['Gestor','Turno'])\n",
    "control_liv_consol_turno.fillna(0,inplace=True)\n",
    "control_liv_consol_turno.head(2)"
   ]
  },
  {
   "cell_type": "code",
   "execution_count": 19,
   "metadata": {},
   "outputs": [
    {
     "output_type": "execute_result",
     "data": {
      "text/plain": [
       "                                  Gestor  NumeroGestiones  TiempoTotalSeg  \\\n",
       "0                 AGUILAR MACEDO VALERIA               77            8317   \n",
       "1          AGUILAR RIOS DANIEL ALEJANDRO               10             312   \n",
       "2             ALANIZ DIAZ ALISON JOCELIN               38            6898   \n",
       "3       ALEJANDRA YESENIA HERNANDEZ BITE               67           10967   \n",
       "4               AMADOR FLORES LUIS ANGEL               73           12036   \n",
       "5            BALBUENA MACEDO EDGAR URIEL               56           13427   \n",
       "6        BARRETO OSEGUERA MARIA FERNANDA              124           16026   \n",
       "7                  BERENICE GUZMAN JAIME               54            7102   \n",
       "8            BERNAL TREJO MARIA FERNANDA              113           16006   \n",
       "9         CARRANCO ZAMORA JAIME WALBERTO              114           22264   \n",
       "10  CASTILLEJO CASTILLEJO DULCE MICHELLE              154           18319   \n",
       "11               CASTRO REZA IRVING YAEL               24            3558   \n",
       "12                 CID IRINEO ROSA ISELA              204           29643   \n",
       "13           COLULA CALIXTO MIGUEL ANGEL               82           13634   \n",
       "14                   CRUZ SALAZAR XIMENA               19            5969   \n",
       "15                DANIEL PINEDA ALVARADO               50           10265   \n",
       "16                      DIAZ DIAZ LEONOR               27            5167   \n",
       "17      ESCALONA ZUNIGA FRANCISCO JAVIER               31            4028   \n",
       "18         GARCIA JIMENEZ ALONDRA YAZMIN              223           46924   \n",
       "19                GOMEZ CARRILLO LETICIA              106           19030   \n",
       "20                  GONZALEZ TOTO BRENDA               60           14143   \n",
       "21    GUADALUPE MAYELA HERNANDEZ MENDITA              138           17417   \n",
       "22             HERNANDEZ GONZALEZ SANDRA               66           12303   \n",
       "23          HERNANDEZ MEDEL LUIS ENRIQUE              179           25454   \n",
       "24          HUERTA LOPEZ NATALIA XOCHITL               52           12531   \n",
       "25                 JUAREZ ROBLEDO LORENA              201           24370   \n",
       "26            LIZBETH INELVA LUNA COLULA               50           15489   \n",
       "27             LOPEZ ESTRADA MA. IGNACIA              222           46578   \n",
       "28                 LOPEZ VASQUEZ YOSELIN               81            8891   \n",
       "29      LORAYNI GUADALUPE OSNAYA VAZQUEZ               19            2304   \n",
       "30     LUCIA ESMERALDA LONGORIA CISNEROS               12             885   \n",
       "31         MADRID GARCIA MARIA GUADALUPE              119           25575   \n",
       "32                  MANUEL BUSTOS LUCERO               54            9723   \n",
       "33                 MEDINA ARIAS MAURICIO               51            6698   \n",
       "34                MIRIAM PEINADO ALVAREZ              118           10155   \n",
       "35        MISHELLLE ADYANI CHAVEZ CASTRO                1              27   \n",
       "36              MUNOZ BORJA KATYA MUSMED              128           19156   \n",
       "37                OROZCO GONZALEZ BRENDA              187           29095   \n",
       "38            QUINTOS ARVIZU LUIS DANIEL               65            9375   \n",
       "39          RAMIREZ OSORIO CESAR AUGUSTO               20            2263   \n",
       "40        RAMIREZ REYES LESLIE GUADALUPE               14            2939   \n",
       "41          RODRIGUEZ HERNANDEZ CRISTIAN               20            2717   \n",
       "42              RODRIGUEZ MARQUEZ JAVIER               48           10473   \n",
       "43         RODRIGUEZ PAZ DIANA ELIZABETH               34            8184   \n",
       "44             ROSAS TREJO JESUS EDUARDO              359           37788   \n",
       "45           RUIZ CASIMIRO MARCO ANTONIO               83           12138   \n",
       "46                  TORRES NARVAEZ MAYTE               23            4228   \n",
       "47        TREJO MONTESINOS JORGE JHOVANI              219           33615   \n",
       "48          TRON FIERROS FELIPE DE JESUS              129           22064   \n",
       "49        VARGAS CANCINO AURENY ARISBETH              129           19288   \n",
       "50      VAZQUEZ SANCHEZ LINNETH BERENICE               50           15316   \n",
       "51                VEGA HERNANDEZ NATALIE              231           40594   \n",
       "52            ZARZA NORIA JEFREY ALBERTO                5             752   \n",
       "\n",
       "    PromedioLlamadaSeg  TiempoTotalMin  \n",
       "0           108.012987      138.616667  \n",
       "1            31.200000        5.200000  \n",
       "2           181.526316      114.966667  \n",
       "3           163.686567      182.783333  \n",
       "4           164.876712      200.600000  \n",
       "5           239.767857      223.783333  \n",
       "6           129.241935      267.100000  \n",
       "7           131.518519      118.366667  \n",
       "8           141.646018      266.766667  \n",
       "9           195.298246      371.066667  \n",
       "10          118.954545      305.316667  \n",
       "11          148.250000       59.300000  \n",
       "12          145.308824      494.050000  \n",
       "13          166.268293      227.233333  \n",
       "14          314.157895       99.483333  \n",
       "15          205.300000      171.083333  \n",
       "16          191.370370       86.116667  \n",
       "17          129.935484       67.133333  \n",
       "18          210.421525      782.066667  \n",
       "19          179.528302      317.166667  \n",
       "20          235.716667      235.716667  \n",
       "21          126.210145      290.283333  \n",
       "22          186.409091      205.050000  \n",
       "23          142.201117      424.233333  \n",
       "24          240.980769      208.850000  \n",
       "25          121.243781      406.166667  \n",
       "26          309.780000      258.150000  \n",
       "27          209.810811      776.300000  \n",
       "28          109.765432      148.183333  \n",
       "29          121.263158       38.400000  \n",
       "30           73.750000       14.750000  \n",
       "31          214.915966      426.250000  \n",
       "32          180.055556      162.050000  \n",
       "33          131.333333      111.633333  \n",
       "34           86.059322      169.250000  \n",
       "35           27.000000        0.450000  \n",
       "36          149.656250      319.266667  \n",
       "37          155.588235      484.916667  \n",
       "38          144.230769      156.250000  \n",
       "39          113.150000       37.716667  \n",
       "40          209.928571       48.983333  \n",
       "41          135.850000       45.283333  \n",
       "42          218.187500      174.550000  \n",
       "43          240.705882      136.400000  \n",
       "44          105.259053      629.800000  \n",
       "45          146.240964      202.300000  \n",
       "46          183.826087       70.466667  \n",
       "47          153.493151      560.250000  \n",
       "48          171.038760      367.733333  \n",
       "49          149.519380      321.466667  \n",
       "50          306.320000      255.266667  \n",
       "51          175.731602      676.566667  \n",
       "52          150.400000       12.533333  "
      ],
      "text/html": "<div>\n<style scoped>\n    .dataframe tbody tr th:only-of-type {\n        vertical-align: middle;\n    }\n\n    .dataframe tbody tr th {\n        vertical-align: top;\n    }\n\n    .dataframe thead th {\n        text-align: right;\n    }\n</style>\n<table border=\"1\" class=\"dataframe\">\n  <thead>\n    <tr style=\"text-align: right;\">\n      <th></th>\n      <th>Gestor</th>\n      <th>NumeroGestiones</th>\n      <th>TiempoTotalSeg</th>\n      <th>PromedioLlamadaSeg</th>\n      <th>TiempoTotalMin</th>\n    </tr>\n  </thead>\n  <tbody>\n    <tr>\n      <th>0</th>\n      <td>AGUILAR MACEDO VALERIA</td>\n      <td>77</td>\n      <td>8317</td>\n      <td>108.012987</td>\n      <td>138.616667</td>\n    </tr>\n    <tr>\n      <th>1</th>\n      <td>AGUILAR RIOS DANIEL ALEJANDRO</td>\n      <td>10</td>\n      <td>312</td>\n      <td>31.200000</td>\n      <td>5.200000</td>\n    </tr>\n    <tr>\n      <th>2</th>\n      <td>ALANIZ DIAZ ALISON JOCELIN</td>\n      <td>38</td>\n      <td>6898</td>\n      <td>181.526316</td>\n      <td>114.966667</td>\n    </tr>\n    <tr>\n      <th>3</th>\n      <td>ALEJANDRA YESENIA HERNANDEZ BITE</td>\n      <td>67</td>\n      <td>10967</td>\n      <td>163.686567</td>\n      <td>182.783333</td>\n    </tr>\n    <tr>\n      <th>4</th>\n      <td>AMADOR FLORES LUIS ANGEL</td>\n      <td>73</td>\n      <td>12036</td>\n      <td>164.876712</td>\n      <td>200.600000</td>\n    </tr>\n    <tr>\n      <th>5</th>\n      <td>BALBUENA MACEDO EDGAR URIEL</td>\n      <td>56</td>\n      <td>13427</td>\n      <td>239.767857</td>\n      <td>223.783333</td>\n    </tr>\n    <tr>\n      <th>6</th>\n      <td>BARRETO OSEGUERA MARIA FERNANDA</td>\n      <td>124</td>\n      <td>16026</td>\n      <td>129.241935</td>\n      <td>267.100000</td>\n    </tr>\n    <tr>\n      <th>7</th>\n      <td>BERENICE GUZMAN JAIME</td>\n      <td>54</td>\n      <td>7102</td>\n      <td>131.518519</td>\n      <td>118.366667</td>\n    </tr>\n    <tr>\n      <th>8</th>\n      <td>BERNAL TREJO MARIA FERNANDA</td>\n      <td>113</td>\n      <td>16006</td>\n      <td>141.646018</td>\n      <td>266.766667</td>\n    </tr>\n    <tr>\n      <th>9</th>\n      <td>CARRANCO ZAMORA JAIME WALBERTO</td>\n      <td>114</td>\n      <td>22264</td>\n      <td>195.298246</td>\n      <td>371.066667</td>\n    </tr>\n    <tr>\n      <th>10</th>\n      <td>CASTILLEJO CASTILLEJO DULCE MICHELLE</td>\n      <td>154</td>\n      <td>18319</td>\n      <td>118.954545</td>\n      <td>305.316667</td>\n    </tr>\n    <tr>\n      <th>11</th>\n      <td>CASTRO REZA IRVING YAEL</td>\n      <td>24</td>\n      <td>3558</td>\n      <td>148.250000</td>\n      <td>59.300000</td>\n    </tr>\n    <tr>\n      <th>12</th>\n      <td>CID IRINEO ROSA ISELA</td>\n      <td>204</td>\n      <td>29643</td>\n      <td>145.308824</td>\n      <td>494.050000</td>\n    </tr>\n    <tr>\n      <th>13</th>\n      <td>COLULA CALIXTO MIGUEL ANGEL</td>\n      <td>82</td>\n      <td>13634</td>\n      <td>166.268293</td>\n      <td>227.233333</td>\n    </tr>\n    <tr>\n      <th>14</th>\n      <td>CRUZ SALAZAR XIMENA</td>\n      <td>19</td>\n      <td>5969</td>\n      <td>314.157895</td>\n      <td>99.483333</td>\n    </tr>\n    <tr>\n      <th>15</th>\n      <td>DANIEL PINEDA ALVARADO</td>\n      <td>50</td>\n      <td>10265</td>\n      <td>205.300000</td>\n      <td>171.083333</td>\n    </tr>\n    <tr>\n      <th>16</th>\n      <td>DIAZ DIAZ LEONOR</td>\n      <td>27</td>\n      <td>5167</td>\n      <td>191.370370</td>\n      <td>86.116667</td>\n    </tr>\n    <tr>\n      <th>17</th>\n      <td>ESCALONA ZUNIGA FRANCISCO JAVIER</td>\n      <td>31</td>\n      <td>4028</td>\n      <td>129.935484</td>\n      <td>67.133333</td>\n    </tr>\n    <tr>\n      <th>18</th>\n      <td>GARCIA JIMENEZ ALONDRA YAZMIN</td>\n      <td>223</td>\n      <td>46924</td>\n      <td>210.421525</td>\n      <td>782.066667</td>\n    </tr>\n    <tr>\n      <th>19</th>\n      <td>GOMEZ CARRILLO LETICIA</td>\n      <td>106</td>\n      <td>19030</td>\n      <td>179.528302</td>\n      <td>317.166667</td>\n    </tr>\n    <tr>\n      <th>20</th>\n      <td>GONZALEZ TOTO BRENDA</td>\n      <td>60</td>\n      <td>14143</td>\n      <td>235.716667</td>\n      <td>235.716667</td>\n    </tr>\n    <tr>\n      <th>21</th>\n      <td>GUADALUPE MAYELA HERNANDEZ MENDITA</td>\n      <td>138</td>\n      <td>17417</td>\n      <td>126.210145</td>\n      <td>290.283333</td>\n    </tr>\n    <tr>\n      <th>22</th>\n      <td>HERNANDEZ GONZALEZ SANDRA</td>\n      <td>66</td>\n      <td>12303</td>\n      <td>186.409091</td>\n      <td>205.050000</td>\n    </tr>\n    <tr>\n      <th>23</th>\n      <td>HERNANDEZ MEDEL LUIS ENRIQUE</td>\n      <td>179</td>\n      <td>25454</td>\n      <td>142.201117</td>\n      <td>424.233333</td>\n    </tr>\n    <tr>\n      <th>24</th>\n      <td>HUERTA LOPEZ NATALIA XOCHITL</td>\n      <td>52</td>\n      <td>12531</td>\n      <td>240.980769</td>\n      <td>208.850000</td>\n    </tr>\n    <tr>\n      <th>25</th>\n      <td>JUAREZ ROBLEDO LORENA</td>\n      <td>201</td>\n      <td>24370</td>\n      <td>121.243781</td>\n      <td>406.166667</td>\n    </tr>\n    <tr>\n      <th>26</th>\n      <td>LIZBETH INELVA LUNA COLULA</td>\n      <td>50</td>\n      <td>15489</td>\n      <td>309.780000</td>\n      <td>258.150000</td>\n    </tr>\n    <tr>\n      <th>27</th>\n      <td>LOPEZ ESTRADA MA. IGNACIA</td>\n      <td>222</td>\n      <td>46578</td>\n      <td>209.810811</td>\n      <td>776.300000</td>\n    </tr>\n    <tr>\n      <th>28</th>\n      <td>LOPEZ VASQUEZ YOSELIN</td>\n      <td>81</td>\n      <td>8891</td>\n      <td>109.765432</td>\n      <td>148.183333</td>\n    </tr>\n    <tr>\n      <th>29</th>\n      <td>LORAYNI GUADALUPE OSNAYA VAZQUEZ</td>\n      <td>19</td>\n      <td>2304</td>\n      <td>121.263158</td>\n      <td>38.400000</td>\n    </tr>\n    <tr>\n      <th>30</th>\n      <td>LUCIA ESMERALDA LONGORIA CISNEROS</td>\n      <td>12</td>\n      <td>885</td>\n      <td>73.750000</td>\n      <td>14.750000</td>\n    </tr>\n    <tr>\n      <th>31</th>\n      <td>MADRID GARCIA MARIA GUADALUPE</td>\n      <td>119</td>\n      <td>25575</td>\n      <td>214.915966</td>\n      <td>426.250000</td>\n    </tr>\n    <tr>\n      <th>32</th>\n      <td>MANUEL BUSTOS LUCERO</td>\n      <td>54</td>\n      <td>9723</td>\n      <td>180.055556</td>\n      <td>162.050000</td>\n    </tr>\n    <tr>\n      <th>33</th>\n      <td>MEDINA ARIAS MAURICIO</td>\n      <td>51</td>\n      <td>6698</td>\n      <td>131.333333</td>\n      <td>111.633333</td>\n    </tr>\n    <tr>\n      <th>34</th>\n      <td>MIRIAM PEINADO ALVAREZ</td>\n      <td>118</td>\n      <td>10155</td>\n      <td>86.059322</td>\n      <td>169.250000</td>\n    </tr>\n    <tr>\n      <th>35</th>\n      <td>MISHELLLE ADYANI CHAVEZ CASTRO</td>\n      <td>1</td>\n      <td>27</td>\n      <td>27.000000</td>\n      <td>0.450000</td>\n    </tr>\n    <tr>\n      <th>36</th>\n      <td>MUNOZ BORJA KATYA MUSMED</td>\n      <td>128</td>\n      <td>19156</td>\n      <td>149.656250</td>\n      <td>319.266667</td>\n    </tr>\n    <tr>\n      <th>37</th>\n      <td>OROZCO GONZALEZ BRENDA</td>\n      <td>187</td>\n      <td>29095</td>\n      <td>155.588235</td>\n      <td>484.916667</td>\n    </tr>\n    <tr>\n      <th>38</th>\n      <td>QUINTOS ARVIZU LUIS DANIEL</td>\n      <td>65</td>\n      <td>9375</td>\n      <td>144.230769</td>\n      <td>156.250000</td>\n    </tr>\n    <tr>\n      <th>39</th>\n      <td>RAMIREZ OSORIO CESAR AUGUSTO</td>\n      <td>20</td>\n      <td>2263</td>\n      <td>113.150000</td>\n      <td>37.716667</td>\n    </tr>\n    <tr>\n      <th>40</th>\n      <td>RAMIREZ REYES LESLIE GUADALUPE</td>\n      <td>14</td>\n      <td>2939</td>\n      <td>209.928571</td>\n      <td>48.983333</td>\n    </tr>\n    <tr>\n      <th>41</th>\n      <td>RODRIGUEZ HERNANDEZ CRISTIAN</td>\n      <td>20</td>\n      <td>2717</td>\n      <td>135.850000</td>\n      <td>45.283333</td>\n    </tr>\n    <tr>\n      <th>42</th>\n      <td>RODRIGUEZ MARQUEZ JAVIER</td>\n      <td>48</td>\n      <td>10473</td>\n      <td>218.187500</td>\n      <td>174.550000</td>\n    </tr>\n    <tr>\n      <th>43</th>\n      <td>RODRIGUEZ PAZ DIANA ELIZABETH</td>\n      <td>34</td>\n      <td>8184</td>\n      <td>240.705882</td>\n      <td>136.400000</td>\n    </tr>\n    <tr>\n      <th>44</th>\n      <td>ROSAS TREJO JESUS EDUARDO</td>\n      <td>359</td>\n      <td>37788</td>\n      <td>105.259053</td>\n      <td>629.800000</td>\n    </tr>\n    <tr>\n      <th>45</th>\n      <td>RUIZ CASIMIRO MARCO ANTONIO</td>\n      <td>83</td>\n      <td>12138</td>\n      <td>146.240964</td>\n      <td>202.300000</td>\n    </tr>\n    <tr>\n      <th>46</th>\n      <td>TORRES NARVAEZ MAYTE</td>\n      <td>23</td>\n      <td>4228</td>\n      <td>183.826087</td>\n      <td>70.466667</td>\n    </tr>\n    <tr>\n      <th>47</th>\n      <td>TREJO MONTESINOS JORGE JHOVANI</td>\n      <td>219</td>\n      <td>33615</td>\n      <td>153.493151</td>\n      <td>560.250000</td>\n    </tr>\n    <tr>\n      <th>48</th>\n      <td>TRON FIERROS FELIPE DE JESUS</td>\n      <td>129</td>\n      <td>22064</td>\n      <td>171.038760</td>\n      <td>367.733333</td>\n    </tr>\n    <tr>\n      <th>49</th>\n      <td>VARGAS CANCINO AURENY ARISBETH</td>\n      <td>129</td>\n      <td>19288</td>\n      <td>149.519380</td>\n      <td>321.466667</td>\n    </tr>\n    <tr>\n      <th>50</th>\n      <td>VAZQUEZ SANCHEZ LINNETH BERENICE</td>\n      <td>50</td>\n      <td>15316</td>\n      <td>306.320000</td>\n      <td>255.266667</td>\n    </tr>\n    <tr>\n      <th>51</th>\n      <td>VEGA HERNANDEZ NATALIE</td>\n      <td>231</td>\n      <td>40594</td>\n      <td>175.731602</td>\n      <td>676.566667</td>\n    </tr>\n    <tr>\n      <th>52</th>\n      <td>ZARZA NORIA JEFREY ALBERTO</td>\n      <td>5</td>\n      <td>752</td>\n      <td>150.400000</td>\n      <td>12.533333</td>\n    </tr>\n  </tbody>\n</table>\n</div>"
     },
     "metadata": {},
     "execution_count": 19
    }
   ],
   "source": [
    "#Obtenemos el performance de las llamadas contestadas\n",
    "control_gestores_total = pd.pivot_table(llamadas_liv_brad2,index=['full_name'],values=['length_in_sec'],aggfunc=[np.sum,np.mean,'count'])\n",
    "control_gestores_total = to_dataframe(control_gestores_total)\n",
    "control_gestores_total = control_gestores_total.iloc[:,[0,3,1,2]]\n",
    "control_gestores_total.columns = ['Gestor','NumeroGestiones','TiempoTotalSeg','PromedioLlamadaSeg']\n",
    "control_gestores_total['TiempoTotalMin'] = [x/60 for x in control_gestores_total['TiempoTotalSeg']]\n",
    "control_gestores_total"
   ]
  },
  {
   "source": [
    "# Performance Liverpool Bradesco"
   ],
   "cell_type": "markdown",
   "metadata": {}
  },
  {
   "cell_type": "code",
   "execution_count": 20,
   "metadata": {},
   "outputs": [],
   "source": [
    "#Hacemos la consulta referente al performance del Gestor\n",
    "performance_all = consulta_sql('procesos_externos.all_rpt_agent_performance',mes,today)\n",
    "performance_all.columns = ['fecha','usuario','nombre_usuario','user_group','llamadas','aht','ocupacion','adherencia','login_vici','logout_vici','staff_time','wait_time','talk_time','dispo_time','pause','login','manual','gestion','agua','alimentos','sanitario','retroalimentacion','tranferencia','validacion','whatsapp','incumplimiento','recordatorios','capacitacion','sistemas','lagged','tipificando','*']"
   ]
  },
  {
   "cell_type": "code",
   "execution_count": 21,
   "metadata": {},
   "outputs": [],
   "source": [
    "performance_liv_brad = performance_all.loc[(performance_all['user_group']=='LIVERPOOL') | (performance_all['user_group']=='BRADESCARD')]\n",
    "performance_liv_brad[['ocupacion','adherencia']] = percent_tonumeric(performance_liv_brad,['ocupacion','adherencia'])"
   ]
  },
  {
   "cell_type": "code",
   "execution_count": 22,
   "metadata": {},
   "outputs": [],
   "source": [
    "def to_hour(df,cols):\n",
    "    df[cols] = [datetime.strptime(x,'%H:%M:%S') for x in df[cols]]\n",
    "    return df\n",
    "    \n",
    "#performance_liv_brad['login_vici2'] = to_hour(performance_liv_brad,'login_vici')\n",
    "#performance_liv_brad['logout_vici2'] = to_hour(performance_liv_brad,'logout_vici')"
   ]
  },
  {
   "cell_type": "code",
   "execution_count": 23,
   "metadata": {},
   "outputs": [],
   "source": [
    "performance_liv_brad['hora_login'] = [int(x[:2]) for x in performance_liv_brad['login_vici']]\n",
    "performance_liv_brad['hora_logout'] = [int(x[:2]) for x in performance_liv_brad['logout_vici']]\n",
    "performance_liv_brad['turno'] = np.where((performance_liv_brad['hora_logout']<=14)&(performance_liv_brad['hora_logout']-performance_liv_brad['hora_login']<=8),'M',\n",
    "                                    np.where((performance_liv_brad['hora_logout']>17)&(performance_liv_brad['hora_logout']-performance_liv_brad['hora_login']<=8),'V','Mixto'))"
   ]
  },
  {
   "cell_type": "code",
   "execution_count": 24,
   "metadata": {},
   "outputs": [
    {
     "output_type": "execute_result",
     "data": {
      "text/plain": [
       "         fecha      usuario          nombre_usuario  user_group  llamadas  \\\n",
       "49  2021-01-02  AGUILARMAVA  AGUILAR MACEDO VALERIA  BRADESCARD        11   \n",
       "\n",
       "         aht  ocupacion  adherencia login_vici logout_vici  ... capacitacion  \\\n",
       "49  00:01:18       18.2       25.08   12:04:44    13:15:49  ...     00:00:00   \n",
       "\n",
       "    sistemas    lagged tipificando         * hora_login hora_logout turno  \\\n",
       "49  00:00:00  00:00:00    00:00:00  00:00:00         12          13     M   \n",
       "\n",
       "   horas_trabajadas llamadas_hora  \n",
       "49                1          11.0  \n",
       "\n",
       "[1 rows x 37 columns]"
      ],
      "text/html": "<div>\n<style scoped>\n    .dataframe tbody tr th:only-of-type {\n        vertical-align: middle;\n    }\n\n    .dataframe tbody tr th {\n        vertical-align: top;\n    }\n\n    .dataframe thead th {\n        text-align: right;\n    }\n</style>\n<table border=\"1\" class=\"dataframe\">\n  <thead>\n    <tr style=\"text-align: right;\">\n      <th></th>\n      <th>fecha</th>\n      <th>usuario</th>\n      <th>nombre_usuario</th>\n      <th>user_group</th>\n      <th>llamadas</th>\n      <th>aht</th>\n      <th>ocupacion</th>\n      <th>adherencia</th>\n      <th>login_vici</th>\n      <th>logout_vici</th>\n      <th>...</th>\n      <th>capacitacion</th>\n      <th>sistemas</th>\n      <th>lagged</th>\n      <th>tipificando</th>\n      <th>*</th>\n      <th>hora_login</th>\n      <th>hora_logout</th>\n      <th>turno</th>\n      <th>horas_trabajadas</th>\n      <th>llamadas_hora</th>\n    </tr>\n  </thead>\n  <tbody>\n    <tr>\n      <th>49</th>\n      <td>2021-01-02</td>\n      <td>AGUILARMAVA</td>\n      <td>AGUILAR MACEDO VALERIA</td>\n      <td>BRADESCARD</td>\n      <td>11</td>\n      <td>00:01:18</td>\n      <td>18.2</td>\n      <td>25.08</td>\n      <td>12:04:44</td>\n      <td>13:15:49</td>\n      <td>...</td>\n      <td>00:00:00</td>\n      <td>00:00:00</td>\n      <td>00:00:00</td>\n      <td>00:00:00</td>\n      <td>00:00:00</td>\n      <td>12</td>\n      <td>13</td>\n      <td>M</td>\n      <td>1</td>\n      <td>11.0</td>\n    </tr>\n  </tbody>\n</table>\n<p>1 rows × 37 columns</p>\n</div>"
     },
     "metadata": {},
     "execution_count": 24
    }
   ],
   "source": [
    "performance_liv_brad['horas_trabajadas'] = performance_liv_brad['hora_logout']-performance_liv_brad['hora_login']\n",
    "performance_liv_brad['llamadas_hora'] = performance_liv_brad['llamadas']/performance_liv_brad['horas_trabajadas']\n",
    "performance_liv_brad['llamadas_hora'] = performance_liv_brad['llamadas_hora'].round(2)\n",
    "performance_liv_brad.head(1)"
   ]
  },
  {
   "cell_type": "code",
   "execution_count": 25,
   "metadata": {},
   "outputs": [
    {
     "output_type": "execute_result",
     "data": {
      "text/plain": [
       "                   Gestor Turno  SumLlamadasDia  SumLlamadasHora  \\\n",
       "0  AGUILAR MACEDO VALERIA     M             746           134.69   \n",
       "\n",
       "   SumOcupacion  PromedioLlamadasDia  PromedioLlamadasHora  PromedioOcupacion  \\\n",
       "0         93.12            82.888889             14.965556          10.346667   \n",
       "\n",
       "   DiasAsitencia  MinLlamadasDia  MinLlamadasHora  MinOcupacion  \\\n",
       "0              9              11            10.29          5.92   \n",
       "\n",
       "   MaxLlamadasDia  MaxLlamadasHora  MaxOcupacion  \n",
       "0             148            21.14          18.2  "
      ],
      "text/html": "<div>\n<style scoped>\n    .dataframe tbody tr th:only-of-type {\n        vertical-align: middle;\n    }\n\n    .dataframe tbody tr th {\n        vertical-align: top;\n    }\n\n    .dataframe thead th {\n        text-align: right;\n    }\n</style>\n<table border=\"1\" class=\"dataframe\">\n  <thead>\n    <tr style=\"text-align: right;\">\n      <th></th>\n      <th>Gestor</th>\n      <th>Turno</th>\n      <th>SumLlamadasDia</th>\n      <th>SumLlamadasHora</th>\n      <th>SumOcupacion</th>\n      <th>PromedioLlamadasDia</th>\n      <th>PromedioLlamadasHora</th>\n      <th>PromedioOcupacion</th>\n      <th>DiasAsitencia</th>\n      <th>MinLlamadasDia</th>\n      <th>MinLlamadasHora</th>\n      <th>MinOcupacion</th>\n      <th>MaxLlamadasDia</th>\n      <th>MaxLlamadasHora</th>\n      <th>MaxOcupacion</th>\n    </tr>\n  </thead>\n  <tbody>\n    <tr>\n      <th>0</th>\n      <td>AGUILAR MACEDO VALERIA</td>\n      <td>M</td>\n      <td>746</td>\n      <td>134.69</td>\n      <td>93.12</td>\n      <td>82.888889</td>\n      <td>14.965556</td>\n      <td>10.346667</td>\n      <td>9</td>\n      <td>11</td>\n      <td>10.29</td>\n      <td>5.92</td>\n      <td>148</td>\n      <td>21.14</td>\n      <td>18.2</td>\n    </tr>\n  </tbody>\n</table>\n</div>"
     },
     "metadata": {},
     "execution_count": 25
    }
   ],
   "source": [
    "control_performance_brad_turno = pd.pivot_table(performance_liv_brad,index=['nombre_usuario','turno'],values=['llamadas','ocupacion','llamadas_hora'],aggfunc=[np.sum,np.mean,'count',min,max])\n",
    "control_performance_brad_turno = to_dataframe(control_performance_brad_turno)\n",
    "control_performance_brad_turno = control_performance_brad_turno.iloc[:,[0,1,2,3,4,5,6,7,8,11,12,13,14,15,16]]\n",
    "control_performance_brad_turno.columns = ['Gestor','Turno','SumLlamadasDia','SumLlamadasHora','SumOcupacion','PromedioLlamadasDia','PromedioLlamadasHora','PromedioOcupacion','DiasAsitencia','MinLlamadasDia','MinLlamadasHora','MinOcupacion','MaxLlamadasDia','MaxLlamadasHora','MaxOcupacion']\n",
    "control_performance_brad_turno.head(1)"
   ]
  },
  {
   "cell_type": "code",
   "execution_count": 26,
   "metadata": {},
   "outputs": [],
   "source": [
    "control_performance_brad_turno2 = control_performance_brad_turno[['Gestor','Turno','PromedioLlamadasHora','PromedioOcupacion']]"
   ]
  },
  {
   "cell_type": "code",
   "execution_count": 27,
   "metadata": {},
   "outputs": [
    {
     "output_type": "execute_result",
     "data": {
      "text/plain": [
       "                          Gestor  SumHorasTrabajadas  SumLlamadasDia  \\\n",
       "0         AGUILAR MACEDO VALERIA                 132            1665   \n",
       "1  AGUILAR RIOS DANIEL ALEJANDRO                   3              86   \n",
       "2     ALANIZ DIAZ ALISON JOCELIN                  34            1677   \n",
       "\n",
       "   PromedioOcupacion  DiasTrabajados  LlamadasHora  \n",
       "0             9.5450              16          13.0  \n",
       "1            11.8300               1          29.0  \n",
       "2            25.1075               4          49.0  "
      ],
      "text/html": "<div>\n<style scoped>\n    .dataframe tbody tr th:only-of-type {\n        vertical-align: middle;\n    }\n\n    .dataframe tbody tr th {\n        vertical-align: top;\n    }\n\n    .dataframe thead th {\n        text-align: right;\n    }\n</style>\n<table border=\"1\" class=\"dataframe\">\n  <thead>\n    <tr style=\"text-align: right;\">\n      <th></th>\n      <th>Gestor</th>\n      <th>SumHorasTrabajadas</th>\n      <th>SumLlamadasDia</th>\n      <th>PromedioOcupacion</th>\n      <th>DiasTrabajados</th>\n      <th>LlamadasHora</th>\n    </tr>\n  </thead>\n  <tbody>\n    <tr>\n      <th>0</th>\n      <td>AGUILAR MACEDO VALERIA</td>\n      <td>132</td>\n      <td>1665</td>\n      <td>9.5450</td>\n      <td>16</td>\n      <td>13.0</td>\n    </tr>\n    <tr>\n      <th>1</th>\n      <td>AGUILAR RIOS DANIEL ALEJANDRO</td>\n      <td>3</td>\n      <td>86</td>\n      <td>11.8300</td>\n      <td>1</td>\n      <td>29.0</td>\n    </tr>\n    <tr>\n      <th>2</th>\n      <td>ALANIZ DIAZ ALISON JOCELIN</td>\n      <td>34</td>\n      <td>1677</td>\n      <td>25.1075</td>\n      <td>4</td>\n      <td>49.0</td>\n    </tr>\n  </tbody>\n</table>\n</div>"
     },
     "metadata": {},
     "execution_count": 27
    }
   ],
   "source": [
    "control_performance_brad = pd.pivot_table(performance_liv_brad,index=['nombre_usuario'],values=['llamadas','ocupacion','horas_trabajadas'],aggfunc=[np.sum,np.mean,'count',min,max])\n",
    "control_performance_brad = to_dataframe(control_performance_brad)\n",
    "control_performance_brad = control_performance_brad.iloc[:,[0,1,2,6,7]]\n",
    "control_performance_brad.columns = ['Gestor','SumHorasTrabajadas','SumLlamadasDia','PromedioOcupacion','DiasTrabajados']\n",
    "control_performance_brad['LlamadasHora'] = (control_performance_brad['SumLlamadasDia']/control_performance_brad['SumHorasTrabajadas']).round()\n",
    "control_performance_brad.head(3)"
   ]
  },
  {
   "cell_type": "code",
   "execution_count": 28,
   "metadata": {},
   "outputs": [
    {
     "output_type": "execute_result",
     "data": {
      "text/plain": [
       "                                  Gestor  PromedioOcupacion  ContactoHora  \\\n",
       "0                 AGUILAR MACEDO VALERIA           9.545000      0.583333   \n",
       "1          AGUILAR RIOS DANIEL ALEJANDRO          11.830000      3.333333   \n",
       "2             ALANIZ DIAZ ALISON JOCELIN          25.107500      1.117647   \n",
       "3       ALEJANDRA YESENIA HERNANDEZ BITE                NaN           NaN   \n",
       "4               AMADOR FLORES LUIS ANGEL          30.881111      1.622222   \n",
       "5            BALBUENA MACEDO EDGAR URIEL          37.618667      0.408759   \n",
       "6        BARRETO OSEGUERA MARIA FERNANDA          14.916667      1.319149   \n",
       "7                  BERENICE GUZMAN JAIME          26.746875      0.435484   \n",
       "8            BERNAL TREJO MARIA FERNANDA          16.014444      1.883333   \n",
       "9         CARRANCO ZAMORA JAIME WALBERTO          26.276667      3.454545   \n",
       "10  CASTILLEJO CASTILLEJO DULCE MICHELLE                NaN           NaN   \n",
       "11               CASTRO REZA IRVING YAEL          40.995000      0.195122   \n",
       "12                 CID IRINEO ROSA ISELA          39.767059      1.324675   \n",
       "13           COLULA CALIXTO MIGUEL ANGEL          40.320000      0.921348   \n",
       "14                   CRUZ SALAZAR XIMENA          28.152000      0.142857   \n",
       "15                DANIEL PINEDA ALVARADO          29.551875      0.409836   \n",
       "16                      DIAZ DIAZ LEONOR           6.968824      0.225000   \n",
       "17      ESCALONA ZUNIGA FRANCISCO JAVIER          42.882500      1.148148   \n",
       "18         GARCIA JIMENEZ ALONDRA YAZMIN          40.220769      2.505618   \n",
       "19                GOMEZ CARRILLO LETICIA          43.831333      1.029126   \n",
       "20                  GONZALEZ TOTO BRENDA          43.985000      0.526316   \n",
       "21    GUADALUPE MAYELA HERNANDEZ MENDITA          27.887059      0.978723   \n",
       "22             HERNANDEZ GONZALEZ SANDRA          24.411429      0.622642   \n",
       "23          HERNANDEZ MEDEL LUIS ENRIQUE          20.220000      2.057471   \n",
       "24          HUERTA LOPEZ NATALIA XOCHITL          39.822000      0.358621   \n",
       "25                 JUAREZ ROBLEDO LORENA          26.363750      1.358108   \n",
       "26            LIZBETH INELVA LUNA COLULA          32.318235      0.458716   \n",
       "27             LOPEZ ESTRADA MA. IGNACIA          47.632667      1.552448   \n",
       "28                 LOPEZ VASQUEZ YOSELIN          21.655625      0.704348   \n",
       "29      LORAYNI GUADALUPE OSNAYA VAZQUEZ          39.172500      0.152000   \n",
       "30     LUCIA ESMERALDA LONGORIA CISNEROS          25.112667      0.114286   \n",
       "31         MADRID GARCIA MARIA GUADALUPE          50.234375      1.053097   \n",
       "32                  MANUEL BUSTOS LUCERO          28.078667      0.428571   \n",
       "33                 MEDINA ARIAS MAURICIO                NaN           NaN   \n",
       "34                MIRIAM PEINADO ALVAREZ          36.223846      1.311111   \n",
       "35        MISHELLLE ADYANI CHAVEZ CASTRO                NaN           NaN   \n",
       "36              MUNOZ BORJA KATYA MUSMED          11.268750      1.049180   \n",
       "37                OROZCO GONZALEZ BRENDA          37.082500      1.316901   \n",
       "38            QUINTOS ARVIZU LUIS DANIEL                NaN           NaN   \n",
       "39          RAMIREZ OSORIO CESAR AUGUSTO          43.682667      0.210526   \n",
       "40        RAMIREZ REYES LESLIE GUADALUPE          16.654706      0.141414   \n",
       "41          RODRIGUEZ HERNANDEZ CRISTIAN          32.210000      3.333333   \n",
       "42              RODRIGUEZ MARQUEZ JAVIER          40.183125      0.448598   \n",
       "43         RODRIGUEZ PAZ DIANA ELIZABETH          44.613846      0.288136   \n",
       "44             ROSAS TREJO JESUS EDUARDO          35.216154      3.739583   \n",
       "45           RUIZ CASIMIRO MARCO ANTONIO          22.756364      1.537037   \n",
       "46                  TORRES NARVAEZ MAYTE          23.033333      0.283951   \n",
       "47        TREJO MONTESINOS JORGE JHOVANI          43.530833      2.638554   \n",
       "48          TRON FIERROS FELIPE DE JESUS           5.560714      1.121739   \n",
       "49        VARGAS CANCINO AURENY ARISBETH          42.662857      1.075000   \n",
       "50      VAZQUEZ SANCHEZ LINNETH BERENICE          30.200000      0.400000   \n",
       "51                VEGA HERNANDEZ NATALIE          39.990000      2.333333   \n",
       "52            ZARZA NORIA JEFREY ALBERTO                NaN           NaN   \n",
       "53          ESCOBAR MONROY BRENDA IVONNE           0.000000           NaN   \n",
       "54                ROBLES REYES VIRIDIANA           0.000000           NaN   \n",
       "55       TEPOZOTLAN CENTENO PERLA YADIRA           0.000000           NaN   \n",
       "\n",
       "    LlamadasHora  \n",
       "0           13.0  \n",
       "1           29.0  \n",
       "2           49.0  \n",
       "3            NaN  \n",
       "4           22.0  \n",
       "5           23.0  \n",
       "6           19.0  \n",
       "7           48.0  \n",
       "8           30.0  \n",
       "9           32.0  \n",
       "10           NaN  \n",
       "11          22.0  \n",
       "12          26.0  \n",
       "13          37.0  \n",
       "14          44.0  \n",
       "15          21.0  \n",
       "16          19.0  \n",
       "17          32.0  \n",
       "18          26.0  \n",
       "19          42.0  \n",
       "20          26.0  \n",
       "21          25.0  \n",
       "22          24.0  \n",
       "23          22.0  \n",
       "24          15.0  \n",
       "25          33.0  \n",
       "26          15.0  \n",
       "27          23.0  \n",
       "28          20.0  \n",
       "29          31.0  \n",
       "30          31.0  \n",
       "31          26.0  \n",
       "32          32.0  \n",
       "33           NaN  \n",
       "34          26.0  \n",
       "35           NaN  \n",
       "36          20.0  \n",
       "37          29.0  \n",
       "38           NaN  \n",
       "39          31.0  \n",
       "40          15.0  \n",
       "41          30.0  \n",
       "42          20.0  \n",
       "43          19.0  \n",
       "44          33.0  \n",
       "45          33.0  \n",
       "46          35.0  \n",
       "47          33.0  \n",
       "48           7.0  \n",
       "49          28.0  \n",
       "50          17.0  \n",
       "51          22.0  \n",
       "52           NaN  \n",
       "53           NaN  \n",
       "54           NaN  \n",
       "55           NaN  "
      ],
      "text/html": "<div>\n<style scoped>\n    .dataframe tbody tr th:only-of-type {\n        vertical-align: middle;\n    }\n\n    .dataframe tbody tr th {\n        vertical-align: top;\n    }\n\n    .dataframe thead th {\n        text-align: right;\n    }\n</style>\n<table border=\"1\" class=\"dataframe\">\n  <thead>\n    <tr style=\"text-align: right;\">\n      <th></th>\n      <th>Gestor</th>\n      <th>PromedioOcupacion</th>\n      <th>ContactoHora</th>\n      <th>LlamadasHora</th>\n    </tr>\n  </thead>\n  <tbody>\n    <tr>\n      <th>0</th>\n      <td>AGUILAR MACEDO VALERIA</td>\n      <td>9.545000</td>\n      <td>0.583333</td>\n      <td>13.0</td>\n    </tr>\n    <tr>\n      <th>1</th>\n      <td>AGUILAR RIOS DANIEL ALEJANDRO</td>\n      <td>11.830000</td>\n      <td>3.333333</td>\n      <td>29.0</td>\n    </tr>\n    <tr>\n      <th>2</th>\n      <td>ALANIZ DIAZ ALISON JOCELIN</td>\n      <td>25.107500</td>\n      <td>1.117647</td>\n      <td>49.0</td>\n    </tr>\n    <tr>\n      <th>3</th>\n      <td>ALEJANDRA YESENIA HERNANDEZ BITE</td>\n      <td>NaN</td>\n      <td>NaN</td>\n      <td>NaN</td>\n    </tr>\n    <tr>\n      <th>4</th>\n      <td>AMADOR FLORES LUIS ANGEL</td>\n      <td>30.881111</td>\n      <td>1.622222</td>\n      <td>22.0</td>\n    </tr>\n    <tr>\n      <th>5</th>\n      <td>BALBUENA MACEDO EDGAR URIEL</td>\n      <td>37.618667</td>\n      <td>0.408759</td>\n      <td>23.0</td>\n    </tr>\n    <tr>\n      <th>6</th>\n      <td>BARRETO OSEGUERA MARIA FERNANDA</td>\n      <td>14.916667</td>\n      <td>1.319149</td>\n      <td>19.0</td>\n    </tr>\n    <tr>\n      <th>7</th>\n      <td>BERENICE GUZMAN JAIME</td>\n      <td>26.746875</td>\n      <td>0.435484</td>\n      <td>48.0</td>\n    </tr>\n    <tr>\n      <th>8</th>\n      <td>BERNAL TREJO MARIA FERNANDA</td>\n      <td>16.014444</td>\n      <td>1.883333</td>\n      <td>30.0</td>\n    </tr>\n    <tr>\n      <th>9</th>\n      <td>CARRANCO ZAMORA JAIME WALBERTO</td>\n      <td>26.276667</td>\n      <td>3.454545</td>\n      <td>32.0</td>\n    </tr>\n    <tr>\n      <th>10</th>\n      <td>CASTILLEJO CASTILLEJO DULCE MICHELLE</td>\n      <td>NaN</td>\n      <td>NaN</td>\n      <td>NaN</td>\n    </tr>\n    <tr>\n      <th>11</th>\n      <td>CASTRO REZA IRVING YAEL</td>\n      <td>40.995000</td>\n      <td>0.195122</td>\n      <td>22.0</td>\n    </tr>\n    <tr>\n      <th>12</th>\n      <td>CID IRINEO ROSA ISELA</td>\n      <td>39.767059</td>\n      <td>1.324675</td>\n      <td>26.0</td>\n    </tr>\n    <tr>\n      <th>13</th>\n      <td>COLULA CALIXTO MIGUEL ANGEL</td>\n      <td>40.320000</td>\n      <td>0.921348</td>\n      <td>37.0</td>\n    </tr>\n    <tr>\n      <th>14</th>\n      <td>CRUZ SALAZAR XIMENA</td>\n      <td>28.152000</td>\n      <td>0.142857</td>\n      <td>44.0</td>\n    </tr>\n    <tr>\n      <th>15</th>\n      <td>DANIEL PINEDA ALVARADO</td>\n      <td>29.551875</td>\n      <td>0.409836</td>\n      <td>21.0</td>\n    </tr>\n    <tr>\n      <th>16</th>\n      <td>DIAZ DIAZ LEONOR</td>\n      <td>6.968824</td>\n      <td>0.225000</td>\n      <td>19.0</td>\n    </tr>\n    <tr>\n      <th>17</th>\n      <td>ESCALONA ZUNIGA FRANCISCO JAVIER</td>\n      <td>42.882500</td>\n      <td>1.148148</td>\n      <td>32.0</td>\n    </tr>\n    <tr>\n      <th>18</th>\n      <td>GARCIA JIMENEZ ALONDRA YAZMIN</td>\n      <td>40.220769</td>\n      <td>2.505618</td>\n      <td>26.0</td>\n    </tr>\n    <tr>\n      <th>19</th>\n      <td>GOMEZ CARRILLO LETICIA</td>\n      <td>43.831333</td>\n      <td>1.029126</td>\n      <td>42.0</td>\n    </tr>\n    <tr>\n      <th>20</th>\n      <td>GONZALEZ TOTO BRENDA</td>\n      <td>43.985000</td>\n      <td>0.526316</td>\n      <td>26.0</td>\n    </tr>\n    <tr>\n      <th>21</th>\n      <td>GUADALUPE MAYELA HERNANDEZ MENDITA</td>\n      <td>27.887059</td>\n      <td>0.978723</td>\n      <td>25.0</td>\n    </tr>\n    <tr>\n      <th>22</th>\n      <td>HERNANDEZ GONZALEZ SANDRA</td>\n      <td>24.411429</td>\n      <td>0.622642</td>\n      <td>24.0</td>\n    </tr>\n    <tr>\n      <th>23</th>\n      <td>HERNANDEZ MEDEL LUIS ENRIQUE</td>\n      <td>20.220000</td>\n      <td>2.057471</td>\n      <td>22.0</td>\n    </tr>\n    <tr>\n      <th>24</th>\n      <td>HUERTA LOPEZ NATALIA XOCHITL</td>\n      <td>39.822000</td>\n      <td>0.358621</td>\n      <td>15.0</td>\n    </tr>\n    <tr>\n      <th>25</th>\n      <td>JUAREZ ROBLEDO LORENA</td>\n      <td>26.363750</td>\n      <td>1.358108</td>\n      <td>33.0</td>\n    </tr>\n    <tr>\n      <th>26</th>\n      <td>LIZBETH INELVA LUNA COLULA</td>\n      <td>32.318235</td>\n      <td>0.458716</td>\n      <td>15.0</td>\n    </tr>\n    <tr>\n      <th>27</th>\n      <td>LOPEZ ESTRADA MA. IGNACIA</td>\n      <td>47.632667</td>\n      <td>1.552448</td>\n      <td>23.0</td>\n    </tr>\n    <tr>\n      <th>28</th>\n      <td>LOPEZ VASQUEZ YOSELIN</td>\n      <td>21.655625</td>\n      <td>0.704348</td>\n      <td>20.0</td>\n    </tr>\n    <tr>\n      <th>29</th>\n      <td>LORAYNI GUADALUPE OSNAYA VAZQUEZ</td>\n      <td>39.172500</td>\n      <td>0.152000</td>\n      <td>31.0</td>\n    </tr>\n    <tr>\n      <th>30</th>\n      <td>LUCIA ESMERALDA LONGORIA CISNEROS</td>\n      <td>25.112667</td>\n      <td>0.114286</td>\n      <td>31.0</td>\n    </tr>\n    <tr>\n      <th>31</th>\n      <td>MADRID GARCIA MARIA GUADALUPE</td>\n      <td>50.234375</td>\n      <td>1.053097</td>\n      <td>26.0</td>\n    </tr>\n    <tr>\n      <th>32</th>\n      <td>MANUEL BUSTOS LUCERO</td>\n      <td>28.078667</td>\n      <td>0.428571</td>\n      <td>32.0</td>\n    </tr>\n    <tr>\n      <th>33</th>\n      <td>MEDINA ARIAS MAURICIO</td>\n      <td>NaN</td>\n      <td>NaN</td>\n      <td>NaN</td>\n    </tr>\n    <tr>\n      <th>34</th>\n      <td>MIRIAM PEINADO ALVAREZ</td>\n      <td>36.223846</td>\n      <td>1.311111</td>\n      <td>26.0</td>\n    </tr>\n    <tr>\n      <th>35</th>\n      <td>MISHELLLE ADYANI CHAVEZ CASTRO</td>\n      <td>NaN</td>\n      <td>NaN</td>\n      <td>NaN</td>\n    </tr>\n    <tr>\n      <th>36</th>\n      <td>MUNOZ BORJA KATYA MUSMED</td>\n      <td>11.268750</td>\n      <td>1.049180</td>\n      <td>20.0</td>\n    </tr>\n    <tr>\n      <th>37</th>\n      <td>OROZCO GONZALEZ BRENDA</td>\n      <td>37.082500</td>\n      <td>1.316901</td>\n      <td>29.0</td>\n    </tr>\n    <tr>\n      <th>38</th>\n      <td>QUINTOS ARVIZU LUIS DANIEL</td>\n      <td>NaN</td>\n      <td>NaN</td>\n      <td>NaN</td>\n    </tr>\n    <tr>\n      <th>39</th>\n      <td>RAMIREZ OSORIO CESAR AUGUSTO</td>\n      <td>43.682667</td>\n      <td>0.210526</td>\n      <td>31.0</td>\n    </tr>\n    <tr>\n      <th>40</th>\n      <td>RAMIREZ REYES LESLIE GUADALUPE</td>\n      <td>16.654706</td>\n      <td>0.141414</td>\n      <td>15.0</td>\n    </tr>\n    <tr>\n      <th>41</th>\n      <td>RODRIGUEZ HERNANDEZ CRISTIAN</td>\n      <td>32.210000</td>\n      <td>3.333333</td>\n      <td>30.0</td>\n    </tr>\n    <tr>\n      <th>42</th>\n      <td>RODRIGUEZ MARQUEZ JAVIER</td>\n      <td>40.183125</td>\n      <td>0.448598</td>\n      <td>20.0</td>\n    </tr>\n    <tr>\n      <th>43</th>\n      <td>RODRIGUEZ PAZ DIANA ELIZABETH</td>\n      <td>44.613846</td>\n      <td>0.288136</td>\n      <td>19.0</td>\n    </tr>\n    <tr>\n      <th>44</th>\n      <td>ROSAS TREJO JESUS EDUARDO</td>\n      <td>35.216154</td>\n      <td>3.739583</td>\n      <td>33.0</td>\n    </tr>\n    <tr>\n      <th>45</th>\n      <td>RUIZ CASIMIRO MARCO ANTONIO</td>\n      <td>22.756364</td>\n      <td>1.537037</td>\n      <td>33.0</td>\n    </tr>\n    <tr>\n      <th>46</th>\n      <td>TORRES NARVAEZ MAYTE</td>\n      <td>23.033333</td>\n      <td>0.283951</td>\n      <td>35.0</td>\n    </tr>\n    <tr>\n      <th>47</th>\n      <td>TREJO MONTESINOS JORGE JHOVANI</td>\n      <td>43.530833</td>\n      <td>2.638554</td>\n      <td>33.0</td>\n    </tr>\n    <tr>\n      <th>48</th>\n      <td>TRON FIERROS FELIPE DE JESUS</td>\n      <td>5.560714</td>\n      <td>1.121739</td>\n      <td>7.0</td>\n    </tr>\n    <tr>\n      <th>49</th>\n      <td>VARGAS CANCINO AURENY ARISBETH</td>\n      <td>42.662857</td>\n      <td>1.075000</td>\n      <td>28.0</td>\n    </tr>\n    <tr>\n      <th>50</th>\n      <td>VAZQUEZ SANCHEZ LINNETH BERENICE</td>\n      <td>30.200000</td>\n      <td>0.400000</td>\n      <td>17.0</td>\n    </tr>\n    <tr>\n      <th>51</th>\n      <td>VEGA HERNANDEZ NATALIE</td>\n      <td>39.990000</td>\n      <td>2.333333</td>\n      <td>22.0</td>\n    </tr>\n    <tr>\n      <th>52</th>\n      <td>ZARZA NORIA JEFREY ALBERTO</td>\n      <td>NaN</td>\n      <td>NaN</td>\n      <td>NaN</td>\n    </tr>\n    <tr>\n      <th>53</th>\n      <td>ESCOBAR MONROY BRENDA IVONNE</td>\n      <td>0.000000</td>\n      <td>NaN</td>\n      <td>NaN</td>\n    </tr>\n    <tr>\n      <th>54</th>\n      <td>ROBLES REYES VIRIDIANA</td>\n      <td>0.000000</td>\n      <td>NaN</td>\n      <td>NaN</td>\n    </tr>\n    <tr>\n      <th>55</th>\n      <td>TEPOZOTLAN CENTENO PERLA YADIRA</td>\n      <td>0.000000</td>\n      <td>NaN</td>\n      <td>NaN</td>\n    </tr>\n  </tbody>\n</table>\n</div>"
     },
     "metadata": {},
     "execution_count": 28
    }
   ],
   "source": [
    "conjunto_performance_llamadas = pd.merge(control_gestores_total,control_performance_brad,on='Gestor',how='outer')\n",
    "conjunto_performance_llamadas['ContactoHora'] = conjunto_performance_llamadas['NumeroGestiones']/conjunto_performance_llamadas['SumHorasTrabajadas']\n",
    "conjunto_performance_llamadas = conjunto_performance_llamadas.iloc[:,[0,7,10,9,]]\n",
    "conjunto_performance_llamadas"
   ]
  },
  {
   "source": [
    "# Gestion detallado Liverpool Bradesco"
   ],
   "cell_type": "markdown",
   "metadata": {}
  },
  {
   "source": [
    "# Liverpool"
   ],
   "cell_type": "markdown",
   "metadata": {}
  },
  {
   "cell_type": "code",
   "execution_count": 29,
   "metadata": {},
   "outputs": [],
   "source": [
    "#Hacemos la consulta referente a las gestiones de Liverpool\n",
    "gestion_liv_mes = cs.query_naucalpan('liverpool_rpt_gestiones_detallado',mes,today)\n",
    "gestion_liv_mes.columns = ['folio_gestion','firma_id','unegocio_id','credito','nombre_credito','telefono','tipo_telefono','fecha_gestion','usuario','nombre_usuario','dictamen','accion','resultado','fecha_promesa','monto_promesa','comentarios']\n",
    "gestion_liv_mes = gestion_liv_mes.loc[gestion_liv_mes['dictamen']=='PROMESA']\n",
    "gestion_liv_mes['anio'] = [int(x[:4]) for x in gestion_liv_mes['fecha_promesa']]\n",
    "gestion_liv_mes = gestion_liv_mes.loc[(gestion_liv_mes['anio']>2010)&(gestion_liv_mes['anio']<2100)]\n",
    "gestion_liv_mes['fecha_promesa'] = pd.to_datetime(gestion_liv_mes['fecha_promesa'],dayfirst=False)"
   ]
  },
  {
   "cell_type": "code",
   "execution_count": 36,
   "metadata": {},
   "outputs": [],
   "source": [
    "#Asignacion Liverpool\n",
    "asignacion_liv = pd.read_csv(''+ruta+'/Liverpool/Asignacion/Asignaciones csv/Asignacion '+mes2+'.csv',converters={'# CUENTA':str})\n",
    "asignacion_liv = asignacion_liv[['ID AGENCIA', '# CUENTA']]\n",
    "asignacion_liv.columns = ['division','credito']"
   ]
  },
  {
   "cell_type": "code",
   "execution_count": 48,
   "metadata": {},
   "outputs": [],
   "source": [
    "#Hacemos el consolidado \n",
    "consolidado_liv_mes = pd.merge(gestion_liv_mes,asignacion_liv,how='left',on=['credito'])\n",
    "cols = ['monto_promesa']\n",
    "consolidado_liv_mes[cols] = consolidado_liv_mes[cols].apply(pd.to_numeric, errors='coerce')\n",
    "consolidado_liv_mes = consolidado_liv_mes[(consolidado_liv_mes['monto_promesa']>50)]\n",
    "consolidado_liv_mes = consolidado_liv_mes[(consolidado_liv_mes['monto_promesa']<500000)]\n",
    "consolidado_liv_mes.fillna('COBRANZA',inplace=True)\n",
    "consolidado_liv_mes = consolidado_liv_mes.drop_duplicates(subset = ['usuario','credito','fecha_promesa','monto_promesa'])\n",
    "#consolidado_liv_mes.head(3)"
   ]
  },
  {
   "cell_type": "code",
   "execution_count": 40,
   "metadata": {},
   "outputs": [],
   "source": [
    "#Obtenemos los pagos totales por division\n",
    "pagos_totales_liv = pd.pivot_table(pagos_liv,index=['Id'],values=['Monto'],aggfunc=[np.sum])\n",
    "pagos_totales_liv = pd.DataFrame(pagos_totales_liv.to_records())\n",
    "#pagos_totales_liv = pagos_totales_liv2.iloc[:,[0,2,1]]\n",
    "pagos_totales_liv.columns = ['Division','SumaPagos']\n",
    "pagos_totales_liv.fillna(0,inplace=True)"
   ]
  },
  {
   "cell_type": "code",
   "execution_count": 41,
   "metadata": {},
   "outputs": [],
   "source": [
    "#Para cada segmento se le asigna lo que lleva de cada uno\n",
    "DKN00REM = pagos_totales_liv.loc[pagos_totales_liv['Division']=='DKN00REM', 'SumaPagos'].item()\n",
    "DKN02REM = pagos_totales_liv.loc[pagos_totales_liv['Division']=='DKN02REM', 'SumaPagos'].item()\n",
    "DKN04REM = pagos_totales_liv.loc[pagos_totales_liv['Division']=='DKN04REM', 'SumaPagos'].item()\n",
    "SA001REM = pagos_totales_liv.loc[pagos_totales_liv['Division']=='SA001REM', 'SumaPagos'].item()\n",
    "SA002REM = pagos_totales_liv.loc[pagos_totales_liv['Division']=='SA002REM', 'SumaPagos'].item()"
   ]
  },
  {
   "cell_type": "code",
   "execution_count": 45,
   "metadata": {},
   "outputs": [],
   "source": [
    "#Hacemos la asignacion de cada una de las metas para cambiar de arancel sin tomar el 0 en cuenta\n",
    "cof, arancel_cof,arancel_cof2 = 300000, .5, .5\n",
    "sub, arancel_sub, arancel_sub2 = 300000, .15, .2\n",
    "subdic, arancel_subdic, arancel_subdic2 = 350000, .16, .2\n",
    "n2, arancel_n2, arancel_n22 = 650000, .4, .5\n",
    "pren, arancel_pren, arancel_pren2 = 300000, .28, .28"
   ]
  },
  {
   "cell_type": "code",
   "execution_count": 42,
   "metadata": {},
   "outputs": [],
   "source": [
    "#Funcion que asignará el arancel correspondiente\n",
    "def arancel_liv(row):\n",
    "    if row['Id'] == 'DKN00REM' :\n",
    "        return np.where((DKN00REM>0) & (DKN00REM<=pren/arancel_pren),arancel_pren,arancel_pren2)\n",
    "    elif row['Id'] == 'DKN02REM':\n",
    "        return np.where((DKN02REM>0) & (DKN02REM<=n2/arancel_n2),arancel_n2,arancel_n22)\n",
    "    elif row['Id'] == 'DKN04REM':\n",
    "        return np.where((DKN04REM>0) & (DKN04REM<=cof/arancel_cof),arancel_cof,arancel_cof2)\n",
    "    elif row['Id'] == 'SA001REM':\n",
    "        return np.where((SA001REM>0) & (SA001REM<=sub/arancel_sub),arancel_sub,arancel_sub2)\n",
    "    elif row['Id'] == 'SA002REM':\n",
    "        return np.where((SA002REM>0) & (SA002REM<=subdic/arancel_subdic),arancel_subdic,arancel_subdic2)\n",
    "    else:\n",
    "        return 0"
   ]
  },
  {
   "cell_type": "code",
   "execution_count": 43,
   "metadata": {},
   "outputs": [],
   "source": [
    "productos = [('DKN00REM','Liverpool','Penacional'),('DKN02REM','Liverpool Nacional','Nacional2'),('DKN04REM','Liverpool Cof','Cof'),('SA001REM','Liverpool','Suburbia'),('SA002REM','Liverpool','Dictamen')]\n",
    "productos = pd.DataFrame(productos)\n",
    "productos.columns = ['division','id','segmento']"
   ]
  },
  {
   "cell_type": "code",
   "execution_count": 46,
   "metadata": {},
   "outputs": [],
   "source": [
    "#Aplicamos la funcion para obtener los aranceles\n",
    "pagos_liv2 = pd.merge(pagos_liv,productos,how='left',left_on='Id',right_on='division')\n",
    "pagos_liv2['Arancel'] = pagos_liv2.apply(arancel_liv, axis=1)\n",
    "\n",
    "#Agregamos aranceles al consolidado\n",
    "pagos_liv2['PagoArancel'] = [x*y for x,y in zip(pagos_liv2['Monto'],pagos_liv2['Arancel'])]\n",
    "pagos_liv2['Fecha Pago'] = pd.to_datetime(pagos_liv2['Fecha Pago'],dayfirst=True)"
   ]
  },
  {
   "cell_type": "code",
   "execution_count": 49,
   "metadata": {},
   "outputs": [],
   "source": [
    "#Unimos el consolidado con los pagos \n",
    "consolidado_pagos_liv = pd.merge(consolidado_liv_mes,pagos_liv2,how='left',left_on=['credito'],right_on=['Cuenta'])\n",
    "consolidado_pagos_liv = consolidado_pagos_liv.drop_duplicates(subset = ['credito','Monto','usuario','fecha_promesa'])\n",
    "consolidado_pagos_liv['Fecha Pago'] = pd.to_datetime(consolidado_pagos_liv['Fecha Pago'],dayfirst=True)\n",
    "try:consolidado_pagos_liv['fecha_promesa'] = pd.to_datetime(consolidado_pagos_liv['fecha_promesa'],dayfirst=False)\n",
    "except: consolidado_pagos_liv['fecha_promesa'] = consolidado_pagos_liv['fecha_promesa']\n",
    "consolidado_pagos_liv['dia_prom'] = consolidado_pagos_liv['fecha_promesa'].dt.day\n",
    "consolidado_pagos_liv['dia_pago'] = consolidado_pagos_liv['Fecha Pago'].dt.day\n",
    "cols = ['dia_prom','dia_pago','Monto']\n",
    "consolidado_pagos_liv[cols] = consolidado_pagos_liv[cols].apply(pd.to_numeric, errors='coerce',downcast='integer')\n",
    "consolidado_pagos_liv['dia_pago'].fillna(0,inplace=True)\n",
    "try:\n",
    "    consolidado_pagos_liv['dia_pago'] = [int(x) for x in consolidado_pagos_liv['dia_pago']]\n",
    "except: consolidado_pagos_liv['dia_pago'] = consolidado_pagos_liv['dia_pago']\n",
    "#consolidado_pagos_liv.head(3)"
   ]
  },
  {
   "cell_type": "code",
   "execution_count": 50,
   "metadata": {},
   "outputs": [],
   "source": [
    "#Condicionamos a los gestores cuyas promesas y pagos estan en un plazo de 3 dias\n",
    "consolidado_pagos_liv['PagoReal'] = [np.where((z <= x+pd.Timedelta(3, unit='D')) & ((z >= x)), y, 0) for x,y,z in zip(consolidado_pagos_liv['fecha_promesa'],consolidado_pagos_liv['Monto'],consolidado_pagos_liv['Fecha Pago'])]\n",
    "consolidado_pagos_liv['PagoReal'] = [x.item() for x in consolidado_pagos_liv['PagoReal']]\n",
    "#consolidado_pagos_liv.head(3)"
   ]
  },
  {
   "cell_type": "code",
   "execution_count": 51,
   "metadata": {},
   "outputs": [],
   "source": [
    "consolidado_pagos_liv['MontoArancel'] = [x*y for x,y in zip(consolidado_pagos_liv['PagoReal'],consolidado_pagos_liv['Arancel'])]"
   ]
  },
  {
   "cell_type": "code",
   "execution_count": 57,
   "metadata": {},
   "outputs": [
    {
     "output_type": "execute_result",
     "data": {
      "text/plain": [
       "                          Gestor  NumeroPromesas  NumeroPagos  SumaPromesas  \\\n",
       "0  AGUILAR RIOS DANIEL ALEJANDRO              12            5       26501.0   \n",
       "\n",
       "   SumaPagos  SumaArancel  \n",
       "0     2021.0        808.4  "
      ],
      "text/html": "<div>\n<style scoped>\n    .dataframe tbody tr th:only-of-type {\n        vertical-align: middle;\n    }\n\n    .dataframe tbody tr th {\n        vertical-align: top;\n    }\n\n    .dataframe thead th {\n        text-align: right;\n    }\n</style>\n<table border=\"1\" class=\"dataframe\">\n  <thead>\n    <tr style=\"text-align: right;\">\n      <th></th>\n      <th>Gestor</th>\n      <th>NumeroPromesas</th>\n      <th>NumeroPagos</th>\n      <th>SumaPromesas</th>\n      <th>SumaPagos</th>\n      <th>SumaArancel</th>\n    </tr>\n  </thead>\n  <tbody>\n    <tr>\n      <th>0</th>\n      <td>AGUILAR RIOS DANIEL ALEJANDRO</td>\n      <td>12</td>\n      <td>5</td>\n      <td>26501.0</td>\n      <td>2021.0</td>\n      <td>808.4</td>\n    </tr>\n  </tbody>\n</table>\n</div>"
     },
     "metadata": {},
     "execution_count": 57
    }
   ],
   "source": [
    "#Obtenemos datos de los gestores de Liverpool\n",
    "prom_liv_gestor_mes = pd.pivot_table(consolidado_pagos_liv,index=['nombre_usuario'],values=['credito','monto_promesa','PagoReal','MontoArancel'],aggfunc=['count',np.sum],dropna=False)\n",
    "prom_liv_gestor_mes = pd.DataFrame(prom_liv_gestor_mes.to_records())\n",
    "prom_liv_gestor_mes = prom_liv_gestor_mes.iloc[:,[0,4,1,7,6,5]]\n",
    "prom_liv_gestor_mes.columns = ['Gestor','NumeroPromesas','NumeroPagos','SumaPromesas','SumaPagos','SumaArancel']\n",
    "prom_liv_gestor_mes.fillna(0,inplace=True)\n",
    "prom_liv_gestor_mes.head(1)"
   ]
  },
  {
   "source": [
    "# Bradesco"
   ],
   "cell_type": "markdown",
   "metadata": {}
  },
  {
   "cell_type": "code",
   "execution_count": 58,
   "metadata": {},
   "outputs": [],
   "source": [
    "#Hacemos la consulta referente a las gestiones de Bradesco\n",
    "gestion_brad_mes = cs.query_naucalpan('bradescard_rpt_gestiones_detallado',mes,today)\n",
    "gestion_brad_mes.columns = ['folio_gestion','firma_id','unegocio_id','NUMERO_TARJETA','nombre_credito','telefono','tipo_telefono','fecha_gestion','usuario','nombre_usuario','dictamen','accion','resultado','accion_resultado','fecha_promesa','monto_promesa','comentarios']\n",
    "gestion_brad_mes = gestion_brad_mes.loc[gestion_brad_mes['dictamen']=='PROMESA']\n",
    "gestion_brad_mes['NUMERO_TARJETA'] = pd.to_numeric(gestion_brad_mes['NUMERO_TARJETA'])\n",
    "gestion_brad_mes['monto_promesa'] = pd.to_numeric(gestion_brad_mes['monto_promesa'])\n",
    "gestion_brad_mes = gestion_brad_mes.drop_duplicates(subset=['NUMERO_TARJETA','usuario','fecha_promesa','monto_promesa'])\n",
    "gestion_brad_mes = gestion_brad_mes.loc[(gestion_brad_mes['fecha_promesa'].notnull())&(gestion_brad_mes['fecha_promesa']!='')]\n",
    "gestion_brad_mes = gestion_brad_mes.loc[(gestion_brad_mes['fecha_promesa'].str[:4].map(int)<=2100)&(gestion_brad_mes['fecha_promesa'].str[:4].map(int)>=2000)]\n",
    "gestion_brad_mes['fecha_promesa'] = pd.to_datetime(gestion_brad_mes['fecha_promesa'],dayfirst=False)"
   ]
  },
  {
   "cell_type": "code",
   "execution_count": 59,
   "metadata": {},
   "outputs": [],
   "source": [
    "#Asignacion Bradesco\n",
    "asignacion_brad_c0 = pd.read_csv(''+ruta+'/Bradesco/Asignacion_c0/CSV/ASIGNACION C0 '+mes2+'.csv')\n",
    "asignacion_brad_c0 = asignacion_brad_c0.iloc[:,[0,2,3,8,10,11,14,25]]\n",
    "asignacion_brad_extra = pd.read_csv(''+ruta+'/Bradesco/Asignacion_extra/CSV/Asignacion Extra '+mes2+'.csv',encoding= 'unicode_escape')\n",
    "asignacion_brad_extra = asignacion_brad_extra.iloc[:,[0,2,3,5,9,25,26,28]]\n",
    "asignacion_brad_extra.columns = ['CODIGO_ORG','NUMERO_CUENTA','NUMERO_TARJETA','RFC','ESTADO','SALDO_TOTAL','PAGO_DESCUENTO','PAGOSVENCIDOS']\n",
    "\n",
    "asignacion_brad = pd.concat([asignacion_brad_c0,asignacion_brad_extra],ignore_index=True)"
   ]
  },
  {
   "cell_type": "code",
   "execution_count": 60,
   "metadata": {},
   "outputs": [],
   "source": [
    "#Hacemos la union de asignacion y promesas\n",
    "consolidado_brad_mes = pd.merge(gestion_brad_mes,asignacion_brad,how='left',on=['NUMERO_TARJETA'])\n",
    "cols = ['monto_promesa']\n",
    "consolidado_brad_mes[cols] = consolidado_brad_mes[cols].apply(pd.to_numeric, errors='coerce')\n",
    "consolidado_brad_mes = consolidado_brad_mes[(consolidado_brad_mes['monto_promesa']>50)]\n",
    "consolidado_brad_mes = consolidado_brad_mes[(consolidado_brad_mes['monto_promesa']<500000)]\n",
    "#consolidado_brad_mes.fillna('COBRANZA',inplace=True)\n",
    "consolidado_brad_mes['NUMERO_TARJETA'] = pd.to_numeric(consolidado_brad_mes['NUMERO_TARJETA'])"
   ]
  },
  {
   "cell_type": "code",
   "execution_count": 62,
   "metadata": {},
   "outputs": [],
   "source": [
    "#Obtenemos los pagos totales por division\n",
    "pagos_totales_brad = pd.pivot_table(pagos_brad,index=['TIPO_ASIGANCION'],values=['MONTO'],aggfunc=[np.sum,'count'],margins=True,dropna=False)\n",
    "pagos_totales_brad = pd.DataFrame(pagos_totales_brad.to_records())\n",
    "pagos_totales_brad = pagos_totales_brad.iloc[:,[0,2,1]]\n",
    "pagos_totales_brad.columns = ['Division','NumeroPagos','SumaPagos']\n",
    "pagos_totales_brad.fillna(0,inplace=True)"
   ]
  },
  {
   "cell_type": "code",
   "execution_count": 63,
   "metadata": {},
   "outputs": [],
   "source": [
    "C04PV = pagos_totales_brad.loc[pagos_totales_brad['Division']=='C0 4PV', 'SumaPagos'].item()\n",
    "C05PV = pagos_totales_brad.loc[pagos_totales_brad['Division']=='C0 5PV', 'SumaPagos'].item()\n",
    "C06PV = pagos_totales_brad.loc[pagos_totales_brad['Division']=='C0 6PV', 'SumaPagos'].item()\n",
    "A = pagos_totales_brad.loc[pagos_totales_brad['Division']=='A', 'SumaPagos'].item()\n",
    "C1 = pagos_totales_brad.loc[pagos_totales_brad['Division']=='C1', 'SumaPagos'].item()\n",
    "C2 = pagos_totales_brad.loc[pagos_totales_brad['Division']=='C2', 'SumaPagos'].item()\n",
    "C3 = pagos_totales_brad.loc[pagos_totales_brad['Division']=='C3', 'SumaPagos'].item()\n",
    "C4 = pagos_totales_brad.loc[pagos_totales_brad['Division']=='C4', 'SumaPagos'].item()\n",
    "B = pagos_totales_brad.loc[pagos_totales_brad['Division']=='B', 'SumaPagos'].item()"
   ]
  },
  {
   "cell_type": "code",
   "execution_count": 65,
   "metadata": {},
   "outputs": [],
   "source": [
    "def func(row):\n",
    "    if row['TIPO_ASIGANCION'] == 'C0 4PV':\n",
    "        return np.where((C04PV>0) & (C04PV<=c04pv1),arancel_4pv1,\n",
    "                        np.where((C04PV>c04pv1) & (C04PV<=c04pv2),arancel_4pv2,\n",
    "                                 np.where((C04PV>c04pv2) & (C04PV<=c04pv3),arancel_4pv3,arancel_4pv3+.03)))\n",
    "    elif row['TIPO_ASIGANCION'] == 'C0 5PV':\n",
    "        return np.where((C05PV>0) & (C05PV<=c05pv1),arancel_5pv1,\n",
    "                        np.where((C05PV>c05pv1) & (C05PV<=c05pv2),arancel_5pv2,\n",
    "                                 np.where((C05PV>c05pv2) & (C05PV<=c05pv3),arancel_5pv3,arancel_5pv3+.03)))\n",
    "    elif row['TIPO_ASIGANCION'] == 'C0 6PV':\n",
    "        return np.where((C06PV>0) & (C06PV<=c06pv1),arancel_6pv1,\n",
    "                        np.where((C06PV>c06pv1) & (C06PV<=c06pv2),arancel_6pv2,\n",
    "                                 np.where((C06PV>c06pv2) & (C06PV<=c06pv3),arancel_6pv3,arancel_6pv3+.03)))\n",
    "    elif row['TIPO_ASIGANCION'] == 'A':\n",
    "        return np.where((A>0) & (A<=a1),arancel_a1,\n",
    "                        np.where((A>a1) & (A<=a2),arancel_a2,\n",
    "                                 np.where((A>a2) & (A<=a3),arancel_a3,arancel_a3+.03)))\n",
    "    elif row['TIPO_ASIGANCION'] == 'B':\n",
    "        return np.where((B>0) & (B<=b1),arancel_b1,\n",
    "                        np.where((B>b1) & (B<=b2),arancel_b2,\n",
    "                                 np.where((B>b2) & (B<=b3),arancel_b3,arancel_b3+.03)))\n",
    "    elif row['TIPO_ASIGANCION'] == 'C1':\n",
    "        return np.where((C1>0) & (C1<=c11),arancel_c11,\n",
    "                        np.where((C1>c11) & (C1<=c12),arancel_c12,\n",
    "                                 np.where((C1>c12) & (C1<=c13),arancel_c13,arancel_c13+.03)))\n",
    "    elif row['TIPO_ASIGANCION'] == 'C2':\n",
    "        return np.where((C2>0) & (C2<=c21),arancel_c21,\n",
    "                        np.where((C2>c21) & (C2<=c22),arancel_c22,\n",
    "                                 np.where((C2>c22) & (C2<=c23),arancel_c23,arancel_c23+.03)))\n",
    "    elif row['TIPO_ASIGANCION'] == 'C3':\n",
    "        return np.where((C3>0) & (C3<=c31),arancel_c31,\n",
    "                        np.where((C3>c31) & (C3<=c32),arancel_c32,\n",
    "                                 np.where((C3>c32) & (C3<=c33),arancel_c33,arancel_c33+.03)))\n",
    "    elif row['TIPO_ASIGANCION'] == 'C4':\n",
    "        return np.where((C4>0) & (C4<=c41),arancel_c41,\n",
    "                        np.where((C4>c41) & (C4<=c42),arancel_c42,\n",
    "                                 np.where((C4>c42) & (C4<=c43),arancel_c43,arancel_c43+.03)))\n",
    "    \n",
    "    else:\n",
    "        return 0"
   ]
  },
  {
   "cell_type": "code",
   "execution_count": 66,
   "metadata": {},
   "outputs": [],
   "source": [
    "pagos_brad2 = pagos_brad\n",
    "pagos_brad2['Arancel'] = pagos_brad2.apply(func, axis=1)\n",
    "pagos_brad2['Facturacion'] = [x*y for x,y in zip(pagos_brad2['MONTO'],pagos_brad2['Arancel'])]"
   ]
  },
  {
   "cell_type": "code",
   "execution_count": 67,
   "metadata": {},
   "outputs": [],
   "source": [
    "#Hacemos la union consolidado y pagos\n",
    "consoliado_pagos_brad = pd.merge(consolidado_brad_mes,pagos_brad2,how='left',on=['NUMERO_TARJETA'])\n",
    "try: consoliado_pagos_brad['fecha_promesa'] = pd.to_datetime(consoliado_pagos_brad['fecha_promesa'],dayfirst=False)\n",
    "except: consoliado_pagos_brad['fecha_promesa'] = consoliado_pagos_brad['fecha_gestion']"
   ]
  },
  {
   "cell_type": "code",
   "execution_count": 68,
   "metadata": {},
   "outputs": [],
   "source": [
    "#Condicionamos a los gestores cuyas promesas y pagos estan en un plazo de 3 dias\n",
    "consoliado_pagos_brad['PagoUnico'] = [np.where((z < x+pd.Timedelta(4, unit='D')) & ((z > x)), y, 0) for x,y,z in zip(consoliado_pagos_brad['fecha_promesa'],consoliado_pagos_brad['MONTO'],consoliado_pagos_brad['FECHA_PAGO'])]\n",
    "consoliado_pagos_brad['PagoUnico'] = [x.item() for x in consoliado_pagos_brad['PagoUnico']]"
   ]
  },
  {
   "cell_type": "code",
   "execution_count": 71,
   "metadata": {},
   "outputs": [],
   "source": [
    "consoliado_pagos_brad['PagoReal'] = [x*y for x,y in zip(consoliado_pagos_brad['PagoUnico'],consoliado_pagos_brad['Arancel'])]\n",
    "consoliado_pagos_brad2 = consoliado_pagos_brad.drop_duplicates(subset=['NUMERO_TARJETA','MONTO','FECHA_PAGO','usuario'])"
   ]
  },
  {
   "cell_type": "code",
   "execution_count": 72,
   "metadata": {},
   "outputs": [
    {
     "output_type": "execute_result",
     "data": {
      "text/plain": [
       "                   Gestor  NumeroPromesas  NumeroPagos  SumaPromesas  \\\n",
       "0  AGUILAR MACEDO VALERIA             108           61      115164.0   \n",
       "\n",
       "   SumaPagos  SumaArancel  \n",
       "0    81806.0       961.06  "
      ],
      "text/html": "<div>\n<style scoped>\n    .dataframe tbody tr th:only-of-type {\n        vertical-align: middle;\n    }\n\n    .dataframe tbody tr th {\n        vertical-align: top;\n    }\n\n    .dataframe thead th {\n        text-align: right;\n    }\n</style>\n<table border=\"1\" class=\"dataframe\">\n  <thead>\n    <tr style=\"text-align: right;\">\n      <th></th>\n      <th>Gestor</th>\n      <th>NumeroPromesas</th>\n      <th>NumeroPagos</th>\n      <th>SumaPromesas</th>\n      <th>SumaPagos</th>\n      <th>SumaArancel</th>\n    </tr>\n  </thead>\n  <tbody>\n    <tr>\n      <th>0</th>\n      <td>AGUILAR MACEDO VALERIA</td>\n      <td>108</td>\n      <td>61</td>\n      <td>115164.0</td>\n      <td>81806.0</td>\n      <td>961.06</td>\n    </tr>\n  </tbody>\n</table>\n</div>"
     },
     "metadata": {},
     "execution_count": 72
    }
   ],
   "source": [
    "pagos_totales_brad2 = pd.pivot_table(consoliado_pagos_brad,index=['nombre_usuario'],values=['monto_promesa','MONTO','PagoReal'],aggfunc=['count',np.sum],dropna=False)\n",
    "pagos_totales_brad2 = pd.DataFrame(pagos_totales_brad2.to_records())\n",
    "pagos_totales_brad2 = pagos_totales_brad2.iloc[:,[0,3,1,6,4,5]]\n",
    "pagos_totales_brad2.columns = ['Gestor','NumeroPromesas','NumeroPagos','SumaPromesas','SumaPagos','SumaArancel']\n",
    "pagos_totales_brad2.fillna(0,inplace=True)\n",
    "#pagos_totales_brad2['FechaFact'] = max(pagos_brad2['FECHA_PAGO'])\n",
    "pagos_totales_brad2.head(1)"
   ]
  },
  {
   "cell_type": "code",
   "execution_count": 73,
   "metadata": {},
   "outputs": [
    {
     "output_type": "execute_result",
     "data": {
      "text/plain": [
       "                   Gestor  NumeroPromesas  NumeroPagos  SumaPromesas  \\\n",
       "0  AGUILAR MACEDO VALERIA             108           61      115164.0   \n",
       "\n",
       "   SumaPagos  SumaArancel  EfVolumen   EfPagos  \n",
       "0    81806.0       961.06   0.564815  0.710344  "
      ],
      "text/html": "<div>\n<style scoped>\n    .dataframe tbody tr th:only-of-type {\n        vertical-align: middle;\n    }\n\n    .dataframe tbody tr th {\n        vertical-align: top;\n    }\n\n    .dataframe thead th {\n        text-align: right;\n    }\n</style>\n<table border=\"1\" class=\"dataframe\">\n  <thead>\n    <tr style=\"text-align: right;\">\n      <th></th>\n      <th>Gestor</th>\n      <th>NumeroPromesas</th>\n      <th>NumeroPagos</th>\n      <th>SumaPromesas</th>\n      <th>SumaPagos</th>\n      <th>SumaArancel</th>\n      <th>EfVolumen</th>\n      <th>EfPagos</th>\n    </tr>\n  </thead>\n  <tbody>\n    <tr>\n      <th>0</th>\n      <td>AGUILAR MACEDO VALERIA</td>\n      <td>108</td>\n      <td>61</td>\n      <td>115164.0</td>\n      <td>81806.0</td>\n      <td>961.06</td>\n      <td>0.564815</td>\n      <td>0.710344</td>\n    </tr>\n  </tbody>\n</table>\n</div>"
     },
     "metadata": {},
     "execution_count": 73
    }
   ],
   "source": [
    "gestor_brad_liv = pd.concat([pagos_totales_brad2,prom_liv_gestor_mes],ignore_index=True)\n",
    "gestor_final_brad_liv = pd.pivot_table(gestor_brad_liv,index=['Gestor'],values=['NumeroPromesas','NumeroPagos','SumaPromesas','SumaPagos','SumaArancel'],aggfunc=np.sum)\n",
    "gestor_final_brad_liv = pd.DataFrame(gestor_final_brad_liv.to_records())\n",
    "gestor_final_brad_liv = gestor_final_brad_liv.iloc[:,[0,2,1,5,4,3]]\n",
    "gestor_final_brad_liv['EfVolumen'] = gestor_final_brad_liv['NumeroPagos']/gestor_final_brad_liv['NumeroPromesas']\n",
    "gestor_final_brad_liv['EfPagos'] = gestor_final_brad_liv['SumaPagos']/gestor_final_brad_liv['SumaPromesas']\n",
    "gestor_final_brad_liv.head(1)"
   ]
  },
  {
   "cell_type": "code",
   "execution_count": 74,
   "metadata": {},
   "outputs": [
    {
     "output_type": "execute_result",
     "data": {
      "text/plain": [
       "                   Gestor  SumaPagos   EfPagos\n",
       "0  AGUILAR MACEDO VALERIA    81806.0  0.710344"
      ],
      "text/html": "<div>\n<style scoped>\n    .dataframe tbody tr th:only-of-type {\n        vertical-align: middle;\n    }\n\n    .dataframe tbody tr th {\n        vertical-align: top;\n    }\n\n    .dataframe thead th {\n        text-align: right;\n    }\n</style>\n<table border=\"1\" class=\"dataframe\">\n  <thead>\n    <tr style=\"text-align: right;\">\n      <th></th>\n      <th>Gestor</th>\n      <th>SumaPagos</th>\n      <th>EfPagos</th>\n    </tr>\n  </thead>\n  <tbody>\n    <tr>\n      <th>0</th>\n      <td>AGUILAR MACEDO VALERIA</td>\n      <td>81806.0</td>\n      <td>0.710344</td>\n    </tr>\n  </tbody>\n</table>\n</div>"
     },
     "metadata": {},
     "execution_count": 74
    }
   ],
   "source": [
    "gestor_final_brad_liv2 = gestor_final_brad_liv[['Gestor','SumaPagos','EfPagos']]\n",
    "gestor_final_brad_liv2.head(1)"
   ]
  },
  {
   "cell_type": "code",
   "execution_count": 75,
   "metadata": {},
   "outputs": [
    {
     "output_type": "execute_result",
     "data": {
      "text/plain": [
       "                                  Gestor  SumaPagos   EfPagos  \\\n",
       "0                 AGUILAR MACEDO VALERIA   81806.00  0.710344   \n",
       "1          AGUILAR RIOS DANIEL ALEJANDRO    2021.00  0.076261   \n",
       "2             ALANIZ DIAZ ALISON JOCELIN   20703.00  0.722240   \n",
       "3       ALEJANDRA YESENIA HERNANDEZ BITE   10868.00  0.160064   \n",
       "4               AMADOR FLORES LUIS ANGEL    3250.00  0.122180   \n",
       "5            BALBUENA MACEDO EDGAR URIEL   51755.00  0.715352   \n",
       "6        BARRETO OSEGUERA MARIA FERNANDA   43131.00  0.303517   \n",
       "7                  BERENICE GUZMAN JAIME   14168.00  0.109740   \n",
       "8            BERNAL TREJO MARIA FERNANDA   10200.00  0.412354   \n",
       "9         CARRANCO ZAMORA JAIME WALBERTO   53813.00  0.373904   \n",
       "10  CASTILLEJO CASTILLEJO DULCE MICHELLE    4625.00  0.132845   \n",
       "11               CASTRO REZA IRVING YAEL   50373.00  0.706900   \n",
       "12                 CID IRINEO ROSA ISELA   79435.00  0.624342   \n",
       "13           COLULA CALIXTO MIGUEL ANGEL   24274.00  0.264460   \n",
       "14                   CRUZ SALAZAR XIMENA   50770.00  0.447055   \n",
       "15                DANIEL PINEDA ALVARADO   53903.00  0.861442   \n",
       "16                      DIAZ DIAZ LEONOR   27475.00  0.129712   \n",
       "17      ESCALONA ZUNIGA FRANCISCO JAVIER    1768.00  1.000000   \n",
       "18             GARCIA FLORES OMAR ADRIAN  118184.36  0.939482   \n",
       "19         GARCIA JIMENEZ ALONDRA YAZMIN   56153.00  0.915752   \n",
       "20                GOMEZ CARRILLO LETICIA   55274.37  0.496887   \n",
       "21                  GONZALEZ TOTO BRENDA   13892.00  0.185190   \n",
       "22    GUADALUPE MAYELA HERNANDEZ MENDITA   54520.00  0.561321   \n",
       "23             HERNANDEZ GONZALEZ SANDRA   30381.00  0.608886   \n",
       "24          HERNANDEZ MEDEL LUIS ENRIQUE   35639.00  0.596878   \n",
       "25          HUERTA LOPEZ NATALIA XOCHITL   57016.09  0.654943   \n",
       "26                 JUAREZ ROBLEDO LORENA   25482.00  0.245172   \n",
       "27            LIZBETH INELVA LUNA COLULA  114208.00  0.759650   \n",
       "28             LOPEZ ESTRADA MA. IGNACIA   55692.00  0.502994   \n",
       "29                LOPEZ LOPEZ JULIO IVAN    5932.00  0.061581   \n",
       "30                 LOPEZ VASQUEZ YOSELIN   19436.00  0.256081   \n",
       "31      LORAYNI GUADALUPE OSNAYA VAZQUEZ   19041.00  0.186830   \n",
       "32     LUCIA ESMERALDA LONGORIA CISNEROS    8268.00  0.344514   \n",
       "33         MADRID GARCIA MARIA GUADALUPE   25517.00  0.255014   \n",
       "34                  MANUEL BUSTOS LUCERO    8101.00  0.169268   \n",
       "35                 MEDINA ARIAS MAURICIO    3000.00  0.075417   \n",
       "36                MIRIAM PEINADO ALVAREZ   12909.00  0.430443   \n",
       "37              MUNOZ BORJA KATYA MUSMED   66275.00  0.564379   \n",
       "38                OROZCO GONZALEZ BRENDA  146911.72  0.653389   \n",
       "39            QUINTOS ARVIZU LUIS DANIEL   13490.00  0.150248   \n",
       "40          RAMIREZ OSORIO CESAR AUGUSTO    2400.00  0.104822   \n",
       "41        RAMIREZ REYES LESLIE GUADALUPE   41733.00  0.360803   \n",
       "42          RODRIGUEZ HERNANDEZ CRISTIAN    2974.00  0.155976   \n",
       "43              RODRIGUEZ MARQUEZ JAVIER    3756.00  0.118158   \n",
       "44         RODRIGUEZ PAZ DIANA ELIZABETH   28738.00  0.193224   \n",
       "45             ROSAS TREJO JESUS EDUARDO   60759.00  0.647923   \n",
       "46          RUIZ CASIMIRO MARCO ANTONIO    11553.51  0.068310   \n",
       "47                  TORRES NARVAEZ MAYTE   14967.00  0.267172   \n",
       "48        TREJO MONTESINOS JORGE JHOVANI   10207.00  0.099277   \n",
       "49          TRON FIERROS FELIPE DE JESUS   83277.00  0.321276   \n",
       "50        VARGAS CANCINO AURENY ARISBETH   87605.00  0.676915   \n",
       "51  VAZQUEZ SANCHEZ LINNETH BERENICEÃÂ    68387.00  0.786609   \n",
       "52                VEGA HERNANDEZ NATALIE   65232.00  0.757833   \n",
       "53            ZARZA NORIA JEFREY ALBERTO   41320.00  0.339755   \n",
       "54        MISHELLLE ADYANI CHAVEZ CASTRO       0.00  0.000000   \n",
       "55           RUIZ CASIMIRO MARCO ANTONIO       0.00  0.000000   \n",
       "56      VAZQUEZ SANCHEZ LINNETH BERENICE       0.00  0.000000   \n",
       "57          ESCOBAR MONROY BRENDA IVONNE       0.00  0.000000   \n",
       "58                ROBLES REYES VIRIDIANA       0.00  0.000000   \n",
       "59       TEPOZOTLAN CENTENO PERLA YADIRA       0.00  0.000000   \n",
       "\n",
       "    PromedioOcupacion  ContactoHora  LlamadasHora  \n",
       "0            0.095450      0.583333          13.0  \n",
       "1            0.118300      3.333333          29.0  \n",
       "2            0.251075      1.117647          49.0  \n",
       "3            0.000000      0.000000           0.0  \n",
       "4            0.308811      1.622222          22.0  \n",
       "5            0.376187      0.408759          23.0  \n",
       "6            0.149167      1.319149          19.0  \n",
       "7            0.267469      0.435484          48.0  \n",
       "8            0.160144      1.883333          30.0  \n",
       "9            0.262767      3.454545          32.0  \n",
       "10           0.000000      0.000000           0.0  \n",
       "11           0.409950      0.195122          22.0  \n",
       "12           0.397671      1.324675          26.0  \n",
       "13           0.403200      0.921348          37.0  \n",
       "14           0.281520      0.142857          44.0  \n",
       "15           0.295519      0.409836          21.0  \n",
       "16           0.069688      0.225000          19.0  \n",
       "17           0.428825      1.148148          32.0  \n",
       "18           0.000000      0.000000           0.0  \n",
       "19           0.402208      2.505618          26.0  \n",
       "20           0.438313      1.029126          42.0  \n",
       "21           0.439850      0.526316          26.0  \n",
       "22           0.278871      0.978723          25.0  \n",
       "23           0.244114      0.622642          24.0  \n",
       "24           0.202200      2.057471          22.0  \n",
       "25           0.398220      0.358621          15.0  \n",
       "26           0.263638      1.358108          33.0  \n",
       "27           0.323182      0.458716          15.0  \n",
       "28           0.476327      1.552448          23.0  \n",
       "29           0.000000      0.000000           0.0  \n",
       "30           0.216556      0.704348          20.0  \n",
       "31           0.391725      0.152000          31.0  \n",
       "32           0.251127      0.114286          31.0  \n",
       "33           0.502344      1.053097          26.0  \n",
       "34           0.280787      0.428571          32.0  \n",
       "35           0.000000      0.000000           0.0  \n",
       "36           0.362238      1.311111          26.0  \n",
       "37           0.112688      1.049180          20.0  \n",
       "38           0.370825      1.316901          29.0  \n",
       "39           0.000000      0.000000           0.0  \n",
       "40           0.436827      0.210526          31.0  \n",
       "41           0.166547      0.141414          15.0  \n",
       "42           0.322100      3.333333          30.0  \n",
       "43           0.401831      0.448598          20.0  \n",
       "44           0.446138      0.288136          19.0  \n",
       "45           0.352162      3.739583          33.0  \n",
       "46           0.000000      0.000000           0.0  \n",
       "47           0.230333      0.283951          35.0  \n",
       "48           0.435308      2.638554          33.0  \n",
       "49           0.055607      1.121739           7.0  \n",
       "50           0.426629      1.075000          28.0  \n",
       "51           0.000000      0.000000           0.0  \n",
       "52           0.399900      2.333333          22.0  \n",
       "53           0.000000      0.000000           0.0  \n",
       "54           0.000000      0.000000           0.0  \n",
       "55           0.227564      1.537037          33.0  \n",
       "56           0.302000      0.400000          17.0  \n",
       "57           0.000000      0.000000           0.0  \n",
       "58           0.000000      0.000000           0.0  \n",
       "59           0.000000      0.000000           0.0  "
      ],
      "text/html": "<div>\n<style scoped>\n    .dataframe tbody tr th:only-of-type {\n        vertical-align: middle;\n    }\n\n    .dataframe tbody tr th {\n        vertical-align: top;\n    }\n\n    .dataframe thead th {\n        text-align: right;\n    }\n</style>\n<table border=\"1\" class=\"dataframe\">\n  <thead>\n    <tr style=\"text-align: right;\">\n      <th></th>\n      <th>Gestor</th>\n      <th>SumaPagos</th>\n      <th>EfPagos</th>\n      <th>PromedioOcupacion</th>\n      <th>ContactoHora</th>\n      <th>LlamadasHora</th>\n    </tr>\n  </thead>\n  <tbody>\n    <tr>\n      <th>0</th>\n      <td>AGUILAR MACEDO VALERIA</td>\n      <td>81806.00</td>\n      <td>0.710344</td>\n      <td>0.095450</td>\n      <td>0.583333</td>\n      <td>13.0</td>\n    </tr>\n    <tr>\n      <th>1</th>\n      <td>AGUILAR RIOS DANIEL ALEJANDRO</td>\n      <td>2021.00</td>\n      <td>0.076261</td>\n      <td>0.118300</td>\n      <td>3.333333</td>\n      <td>29.0</td>\n    </tr>\n    <tr>\n      <th>2</th>\n      <td>ALANIZ DIAZ ALISON JOCELIN</td>\n      <td>20703.00</td>\n      <td>0.722240</td>\n      <td>0.251075</td>\n      <td>1.117647</td>\n      <td>49.0</td>\n    </tr>\n    <tr>\n      <th>3</th>\n      <td>ALEJANDRA YESENIA HERNANDEZ BITE</td>\n      <td>10868.00</td>\n      <td>0.160064</td>\n      <td>0.000000</td>\n      <td>0.000000</td>\n      <td>0.0</td>\n    </tr>\n    <tr>\n      <th>4</th>\n      <td>AMADOR FLORES LUIS ANGEL</td>\n      <td>3250.00</td>\n      <td>0.122180</td>\n      <td>0.308811</td>\n      <td>1.622222</td>\n      <td>22.0</td>\n    </tr>\n    <tr>\n      <th>5</th>\n      <td>BALBUENA MACEDO EDGAR URIEL</td>\n      <td>51755.00</td>\n      <td>0.715352</td>\n      <td>0.376187</td>\n      <td>0.408759</td>\n      <td>23.0</td>\n    </tr>\n    <tr>\n      <th>6</th>\n      <td>BARRETO OSEGUERA MARIA FERNANDA</td>\n      <td>43131.00</td>\n      <td>0.303517</td>\n      <td>0.149167</td>\n      <td>1.319149</td>\n      <td>19.0</td>\n    </tr>\n    <tr>\n      <th>7</th>\n      <td>BERENICE GUZMAN JAIME</td>\n      <td>14168.00</td>\n      <td>0.109740</td>\n      <td>0.267469</td>\n      <td>0.435484</td>\n      <td>48.0</td>\n    </tr>\n    <tr>\n      <th>8</th>\n      <td>BERNAL TREJO MARIA FERNANDA</td>\n      <td>10200.00</td>\n      <td>0.412354</td>\n      <td>0.160144</td>\n      <td>1.883333</td>\n      <td>30.0</td>\n    </tr>\n    <tr>\n      <th>9</th>\n      <td>CARRANCO ZAMORA JAIME WALBERTO</td>\n      <td>53813.00</td>\n      <td>0.373904</td>\n      <td>0.262767</td>\n      <td>3.454545</td>\n      <td>32.0</td>\n    </tr>\n    <tr>\n      <th>10</th>\n      <td>CASTILLEJO CASTILLEJO DULCE MICHELLE</td>\n      <td>4625.00</td>\n      <td>0.132845</td>\n      <td>0.000000</td>\n      <td>0.000000</td>\n      <td>0.0</td>\n    </tr>\n    <tr>\n      <th>11</th>\n      <td>CASTRO REZA IRVING YAEL</td>\n      <td>50373.00</td>\n      <td>0.706900</td>\n      <td>0.409950</td>\n      <td>0.195122</td>\n      <td>22.0</td>\n    </tr>\n    <tr>\n      <th>12</th>\n      <td>CID IRINEO ROSA ISELA</td>\n      <td>79435.00</td>\n      <td>0.624342</td>\n      <td>0.397671</td>\n      <td>1.324675</td>\n      <td>26.0</td>\n    </tr>\n    <tr>\n      <th>13</th>\n      <td>COLULA CALIXTO MIGUEL ANGEL</td>\n      <td>24274.00</td>\n      <td>0.264460</td>\n      <td>0.403200</td>\n      <td>0.921348</td>\n      <td>37.0</td>\n    </tr>\n    <tr>\n      <th>14</th>\n      <td>CRUZ SALAZAR XIMENA</td>\n      <td>50770.00</td>\n      <td>0.447055</td>\n      <td>0.281520</td>\n      <td>0.142857</td>\n      <td>44.0</td>\n    </tr>\n    <tr>\n      <th>15</th>\n      <td>DANIEL PINEDA ALVARADO</td>\n      <td>53903.00</td>\n      <td>0.861442</td>\n      <td>0.295519</td>\n      <td>0.409836</td>\n      <td>21.0</td>\n    </tr>\n    <tr>\n      <th>16</th>\n      <td>DIAZ DIAZ LEONOR</td>\n      <td>27475.00</td>\n      <td>0.129712</td>\n      <td>0.069688</td>\n      <td>0.225000</td>\n      <td>19.0</td>\n    </tr>\n    <tr>\n      <th>17</th>\n      <td>ESCALONA ZUNIGA FRANCISCO JAVIER</td>\n      <td>1768.00</td>\n      <td>1.000000</td>\n      <td>0.428825</td>\n      <td>1.148148</td>\n      <td>32.0</td>\n    </tr>\n    <tr>\n      <th>18</th>\n      <td>GARCIA FLORES OMAR ADRIAN</td>\n      <td>118184.36</td>\n      <td>0.939482</td>\n      <td>0.000000</td>\n      <td>0.000000</td>\n      <td>0.0</td>\n    </tr>\n    <tr>\n      <th>19</th>\n      <td>GARCIA JIMENEZ ALONDRA YAZMIN</td>\n      <td>56153.00</td>\n      <td>0.915752</td>\n      <td>0.402208</td>\n      <td>2.505618</td>\n      <td>26.0</td>\n    </tr>\n    <tr>\n      <th>20</th>\n      <td>GOMEZ CARRILLO LETICIA</td>\n      <td>55274.37</td>\n      <td>0.496887</td>\n      <td>0.438313</td>\n      <td>1.029126</td>\n      <td>42.0</td>\n    </tr>\n    <tr>\n      <th>21</th>\n      <td>GONZALEZ TOTO BRENDA</td>\n      <td>13892.00</td>\n      <td>0.185190</td>\n      <td>0.439850</td>\n      <td>0.526316</td>\n      <td>26.0</td>\n    </tr>\n    <tr>\n      <th>22</th>\n      <td>GUADALUPE MAYELA HERNANDEZ MENDITA</td>\n      <td>54520.00</td>\n      <td>0.561321</td>\n      <td>0.278871</td>\n      <td>0.978723</td>\n      <td>25.0</td>\n    </tr>\n    <tr>\n      <th>23</th>\n      <td>HERNANDEZ GONZALEZ SANDRA</td>\n      <td>30381.00</td>\n      <td>0.608886</td>\n      <td>0.244114</td>\n      <td>0.622642</td>\n      <td>24.0</td>\n    </tr>\n    <tr>\n      <th>24</th>\n      <td>HERNANDEZ MEDEL LUIS ENRIQUE</td>\n      <td>35639.00</td>\n      <td>0.596878</td>\n      <td>0.202200</td>\n      <td>2.057471</td>\n      <td>22.0</td>\n    </tr>\n    <tr>\n      <th>25</th>\n      <td>HUERTA LOPEZ NATALIA XOCHITL</td>\n      <td>57016.09</td>\n      <td>0.654943</td>\n      <td>0.398220</td>\n      <td>0.358621</td>\n      <td>15.0</td>\n    </tr>\n    <tr>\n      <th>26</th>\n      <td>JUAREZ ROBLEDO LORENA</td>\n      <td>25482.00</td>\n      <td>0.245172</td>\n      <td>0.263638</td>\n      <td>1.358108</td>\n      <td>33.0</td>\n    </tr>\n    <tr>\n      <th>27</th>\n      <td>LIZBETH INELVA LUNA COLULA</td>\n      <td>114208.00</td>\n      <td>0.759650</td>\n      <td>0.323182</td>\n      <td>0.458716</td>\n      <td>15.0</td>\n    </tr>\n    <tr>\n      <th>28</th>\n      <td>LOPEZ ESTRADA MA. IGNACIA</td>\n      <td>55692.00</td>\n      <td>0.502994</td>\n      <td>0.476327</td>\n      <td>1.552448</td>\n      <td>23.0</td>\n    </tr>\n    <tr>\n      <th>29</th>\n      <td>LOPEZ LOPEZ JULIO IVAN</td>\n      <td>5932.00</td>\n      <td>0.061581</td>\n      <td>0.000000</td>\n      <td>0.000000</td>\n      <td>0.0</td>\n    </tr>\n    <tr>\n      <th>30</th>\n      <td>LOPEZ VASQUEZ YOSELIN</td>\n      <td>19436.00</td>\n      <td>0.256081</td>\n      <td>0.216556</td>\n      <td>0.704348</td>\n      <td>20.0</td>\n    </tr>\n    <tr>\n      <th>31</th>\n      <td>LORAYNI GUADALUPE OSNAYA VAZQUEZ</td>\n      <td>19041.00</td>\n      <td>0.186830</td>\n      <td>0.391725</td>\n      <td>0.152000</td>\n      <td>31.0</td>\n    </tr>\n    <tr>\n      <th>32</th>\n      <td>LUCIA ESMERALDA LONGORIA CISNEROS</td>\n      <td>8268.00</td>\n      <td>0.344514</td>\n      <td>0.251127</td>\n      <td>0.114286</td>\n      <td>31.0</td>\n    </tr>\n    <tr>\n      <th>33</th>\n      <td>MADRID GARCIA MARIA GUADALUPE</td>\n      <td>25517.00</td>\n      <td>0.255014</td>\n      <td>0.502344</td>\n      <td>1.053097</td>\n      <td>26.0</td>\n    </tr>\n    <tr>\n      <th>34</th>\n      <td>MANUEL BUSTOS LUCERO</td>\n      <td>8101.00</td>\n      <td>0.169268</td>\n      <td>0.280787</td>\n      <td>0.428571</td>\n      <td>32.0</td>\n    </tr>\n    <tr>\n      <th>35</th>\n      <td>MEDINA ARIAS MAURICIO</td>\n      <td>3000.00</td>\n      <td>0.075417</td>\n      <td>0.000000</td>\n      <td>0.000000</td>\n      <td>0.0</td>\n    </tr>\n    <tr>\n      <th>36</th>\n      <td>MIRIAM PEINADO ALVAREZ</td>\n      <td>12909.00</td>\n      <td>0.430443</td>\n      <td>0.362238</td>\n      <td>1.311111</td>\n      <td>26.0</td>\n    </tr>\n    <tr>\n      <th>37</th>\n      <td>MUNOZ BORJA KATYA MUSMED</td>\n      <td>66275.00</td>\n      <td>0.564379</td>\n      <td>0.112688</td>\n      <td>1.049180</td>\n      <td>20.0</td>\n    </tr>\n    <tr>\n      <th>38</th>\n      <td>OROZCO GONZALEZ BRENDA</td>\n      <td>146911.72</td>\n      <td>0.653389</td>\n      <td>0.370825</td>\n      <td>1.316901</td>\n      <td>29.0</td>\n    </tr>\n    <tr>\n      <th>39</th>\n      <td>QUINTOS ARVIZU LUIS DANIEL</td>\n      <td>13490.00</td>\n      <td>0.150248</td>\n      <td>0.000000</td>\n      <td>0.000000</td>\n      <td>0.0</td>\n    </tr>\n    <tr>\n      <th>40</th>\n      <td>RAMIREZ OSORIO CESAR AUGUSTO</td>\n      <td>2400.00</td>\n      <td>0.104822</td>\n      <td>0.436827</td>\n      <td>0.210526</td>\n      <td>31.0</td>\n    </tr>\n    <tr>\n      <th>41</th>\n      <td>RAMIREZ REYES LESLIE GUADALUPE</td>\n      <td>41733.00</td>\n      <td>0.360803</td>\n      <td>0.166547</td>\n      <td>0.141414</td>\n      <td>15.0</td>\n    </tr>\n    <tr>\n      <th>42</th>\n      <td>RODRIGUEZ HERNANDEZ CRISTIAN</td>\n      <td>2974.00</td>\n      <td>0.155976</td>\n      <td>0.322100</td>\n      <td>3.333333</td>\n      <td>30.0</td>\n    </tr>\n    <tr>\n      <th>43</th>\n      <td>RODRIGUEZ MARQUEZ JAVIER</td>\n      <td>3756.00</td>\n      <td>0.118158</td>\n      <td>0.401831</td>\n      <td>0.448598</td>\n      <td>20.0</td>\n    </tr>\n    <tr>\n      <th>44</th>\n      <td>RODRIGUEZ PAZ DIANA ELIZABETH</td>\n      <td>28738.00</td>\n      <td>0.193224</td>\n      <td>0.446138</td>\n      <td>0.288136</td>\n      <td>19.0</td>\n    </tr>\n    <tr>\n      <th>45</th>\n      <td>ROSAS TREJO JESUS EDUARDO</td>\n      <td>60759.00</td>\n      <td>0.647923</td>\n      <td>0.352162</td>\n      <td>3.739583</td>\n      <td>33.0</td>\n    </tr>\n    <tr>\n      <th>46</th>\n      <td>RUIZ CASIMIRO MARCO ANTONIO</td>\n      <td>11553.51</td>\n      <td>0.068310</td>\n      <td>0.000000</td>\n      <td>0.000000</td>\n      <td>0.0</td>\n    </tr>\n    <tr>\n      <th>47</th>\n      <td>TORRES NARVAEZ MAYTE</td>\n      <td>14967.00</td>\n      <td>0.267172</td>\n      <td>0.230333</td>\n      <td>0.283951</td>\n      <td>35.0</td>\n    </tr>\n    <tr>\n      <th>48</th>\n      <td>TREJO MONTESINOS JORGE JHOVANI</td>\n      <td>10207.00</td>\n      <td>0.099277</td>\n      <td>0.435308</td>\n      <td>2.638554</td>\n      <td>33.0</td>\n    </tr>\n    <tr>\n      <th>49</th>\n      <td>TRON FIERROS FELIPE DE JESUS</td>\n      <td>83277.00</td>\n      <td>0.321276</td>\n      <td>0.055607</td>\n      <td>1.121739</td>\n      <td>7.0</td>\n    </tr>\n    <tr>\n      <th>50</th>\n      <td>VARGAS CANCINO AURENY ARISBETH</td>\n      <td>87605.00</td>\n      <td>0.676915</td>\n      <td>0.426629</td>\n      <td>1.075000</td>\n      <td>28.0</td>\n    </tr>\n    <tr>\n      <th>51</th>\n      <td>VAZQUEZ SANCHEZ LINNETH BERENICEÃÂ</td>\n      <td>68387.00</td>\n      <td>0.786609</td>\n      <td>0.000000</td>\n      <td>0.000000</td>\n      <td>0.0</td>\n    </tr>\n    <tr>\n      <th>52</th>\n      <td>VEGA HERNANDEZ NATALIE</td>\n      <td>65232.00</td>\n      <td>0.757833</td>\n      <td>0.399900</td>\n      <td>2.333333</td>\n      <td>22.0</td>\n    </tr>\n    <tr>\n      <th>53</th>\n      <td>ZARZA NORIA JEFREY ALBERTO</td>\n      <td>41320.00</td>\n      <td>0.339755</td>\n      <td>0.000000</td>\n      <td>0.000000</td>\n      <td>0.0</td>\n    </tr>\n    <tr>\n      <th>54</th>\n      <td>MISHELLLE ADYANI CHAVEZ CASTRO</td>\n      <td>0.00</td>\n      <td>0.000000</td>\n      <td>0.000000</td>\n      <td>0.000000</td>\n      <td>0.0</td>\n    </tr>\n    <tr>\n      <th>55</th>\n      <td>RUIZ CASIMIRO MARCO ANTONIO</td>\n      <td>0.00</td>\n      <td>0.000000</td>\n      <td>0.227564</td>\n      <td>1.537037</td>\n      <td>33.0</td>\n    </tr>\n    <tr>\n      <th>56</th>\n      <td>VAZQUEZ SANCHEZ LINNETH BERENICE</td>\n      <td>0.00</td>\n      <td>0.000000</td>\n      <td>0.302000</td>\n      <td>0.400000</td>\n      <td>17.0</td>\n    </tr>\n    <tr>\n      <th>57</th>\n      <td>ESCOBAR MONROY BRENDA IVONNE</td>\n      <td>0.00</td>\n      <td>0.000000</td>\n      <td>0.000000</td>\n      <td>0.000000</td>\n      <td>0.0</td>\n    </tr>\n    <tr>\n      <th>58</th>\n      <td>ROBLES REYES VIRIDIANA</td>\n      <td>0.00</td>\n      <td>0.000000</td>\n      <td>0.000000</td>\n      <td>0.000000</td>\n      <td>0.0</td>\n    </tr>\n    <tr>\n      <th>59</th>\n      <td>TEPOZOTLAN CENTENO PERLA YADIRA</td>\n      <td>0.00</td>\n      <td>0.000000</td>\n      <td>0.000000</td>\n      <td>0.000000</td>\n      <td>0.0</td>\n    </tr>\n  </tbody>\n</table>\n</div>"
     },
     "metadata": {},
     "execution_count": 75
    }
   ],
   "source": [
    "final = pd.merge(gestor_final_brad_liv2,conjunto_performance_llamadas,how='outer',on='Gestor')\n",
    "#final['PromedioLlamadasHora'] = final['PromedioLlamadasHora'].round()\n",
    "final['PromedioOcupacion'] = final['PromedioOcupacion']/100\n",
    "cols = ['PromedioOcupacion','EfPagos','LlamadasHora','ContactoHora']\n",
    "#final[cols] = final[cols].round(2)\n",
    "final.fillna(0,inplace=True)\n",
    "final"
   ]
  },
  {
   "cell_type": "code",
   "execution_count": 63,
   "metadata": {},
   "outputs": [],
   "source": [
    "writer = pd.ExcelWriter(''+ruta_guardar+'/Gestores/BradLiv/Reporte Gestor BradLiv '+now+'.xlsx',engine='xlsxwriter')\n",
    "final.to_excel(writer,'BSC',index=False,header=True)\n",
    "gestor_final_brad_liv2.to_excel(writer,'MontoRecuperado',index=False,header=True)\n",
    "control_liv_consol_turno.to_excel(writer,'LlamadasDetallado',index=False,header=True)\n",
    "control_performance_brad_turno.to_excel(writer,'PerformanceDetallado',index=False,header=True)\n",
    "gestor_final_brad_liv.to_excel(writer,'PagosDetallado',index=False,header=True)\n",
    "\n",
    "writer.save()"
   ]
  },
  {
   "cell_type": "code",
   "execution_count": null,
   "metadata": {},
   "outputs": [],
   "source": []
  }
 ]
}