{
 "metadata": {
  "language_info": {
   "codemirror_mode": {
    "name": "ipython",
    "version": 3
   },
   "file_extension": ".py",
   "mimetype": "text/x-python",
   "name": "python",
   "nbconvert_exporter": "python",
   "pygments_lexer": "ipython3",
   "version": "3.8.5-final"
  },
  "orig_nbformat": 2,
  "kernelspec": {
   "name": "python3",
   "display_name": "Python 3",
   "language": "python"
  }
 },
 "nbformat": 4,
 "nbformat_minor": 2,
 "cells": [
  {
   "cell_type": "code",
   "execution_count": 1,
   "metadata": {},
   "outputs": [],
   "source": [
    "import pandas as pd\n",
    "import numpy as np\n",
    "import mysql.connector\n",
    "import os\n",
    "from mysql.connector import Error\n",
    "from datetime import datetime, date, timedelta\n",
    "import re\n",
    "import ConeccionesSucursales as cs\n",
    "from IPython.core.interactiveshell import InteractiveShell\n",
    "InteractiveShell.ast_node_interactivity = \"all\""
   ]
  },
  {
   "cell_type": "code",
   "execution_count": 2,
   "metadata": {},
   "outputs": [],
   "source": [
    "#Definimos la ruta en donde queremos guardar los archivos\n",
    "ruta = '/home/estadistico/Documents/Erick/'\n",
    "ruta_guardar = '/home/estadistico/Documents/Erick/Reportes diarios'\n",
    "mes = 20210101\n",
    "mes2 = 'Enero2021'\n",
    "mes3 = pd.to_datetime('01/01/2021',dayfirst=True)\n",
    "fin_mes = pd.to_datetime('31/01/2021',dayfirst=True)"
   ]
  },
  {
   "cell_type": "code",
   "execution_count": 3,
   "metadata": {},
   "outputs": [],
   "source": [
    "#Lectura pagos Credifiel\n",
    "book = os.listdir(''+ruta+'/'+str(mes2)+'/Credifiel/Pagos/')\n",
    "pagos_cred = pd.DataFrame()\n",
    "for j in book:\n",
    "    pagos_new = pd.read_excel(''+ruta+'/'+str(mes2)+'/Credifiel/Pagos/'+j+'',converters={'ID':str})\n",
    "    pagos_cred = pd.concat([pagos_cred,pagos_new],ignore_index=True)\n",
    "    pagos_cred = pagos_cred.drop_duplicates()\n",
    "#pagos_cred = pagos_cred.iloc[:,[12,1,8]]\n",
    "pagos_cred = pd.pivot_table(pagos_cred,index=['ID','FECHA'],values=['IMPORTE'],aggfunc=np.sum)\n",
    "pagos_cred = pd.DataFrame(pagos_cred.to_records())\n",
    "pagos_cred = pagos_cred.loc[pagos_cred['FECHA']>=mes3]"
   ]
  },
  {
   "cell_type": "code",
   "execution_count": 4,
   "metadata": {},
   "outputs": [
    {
     "output_type": "execute_result",
     "data": {
      "text/plain": [
       "  credito  arancel\n",
       "0       9      0.4\n",
       "1     831      0.4"
      ],
      "text/html": "<div>\n<style scoped>\n    .dataframe tbody tr th:only-of-type {\n        vertical-align: middle;\n    }\n\n    .dataframe tbody tr th {\n        vertical-align: top;\n    }\n\n    .dataframe thead th {\n        text-align: right;\n    }\n</style>\n<table border=\"1\" class=\"dataframe\">\n  <thead>\n    <tr style=\"text-align: right;\">\n      <th></th>\n      <th>credito</th>\n      <th>arancel</th>\n    </tr>\n  </thead>\n  <tbody>\n    <tr>\n      <th>0</th>\n      <td>9</td>\n      <td>0.4</td>\n    </tr>\n    <tr>\n      <th>1</th>\n      <td>831</td>\n      <td>0.4</td>\n    </tr>\n  </tbody>\n</table>\n</div>"
     },
     "metadata": {},
     "execution_count": 4
    }
   ],
   "source": [
    "#Lectura asignacion Credifiel\n",
    "sheet_cred2 = os.listdir(''+ruta+'/'+str(mes2)+'/Credifiel/Asignacion/')\n",
    "asignacion_cred = pd.DataFrame()\n",
    "for j in sheet_cred2:\n",
    "    asignacion_cred_new = pd.read_excel(''+ruta+'/'+str(mes2)+'/Credifiel/Asignacion/'+j+'',converters={'CREDITO':str})\n",
    "    asignacion_cred = pd.concat([asignacion_cred,asignacion_cred_new],ignore_index=True)\n",
    "    asignacion_cred = asignacion_cred.drop_duplicates(subset='CREDITO')\n",
    "asignacion_cred = asignacion_cred.loc[:,['CREDITO','ARANCEL']]\n",
    "asignacion_cred.columns = ['credito','arancel']\n",
    "asignacion_cred.head(2)"
   ]
  },
  {
   "cell_type": "code",
   "execution_count": 5,
   "metadata": {},
   "outputs": [],
   "source": [
    "#Asignamos valores a los parametros \\n\"\n",
    "today = date.today().strftime('%Y%m%d')\n",
    "now = datetime.now().strftime('%d-%m-%Y %H:%M')\n",
    "hoy = np.datetime64('today')\n",
    "ayer = np.datetime64(date.today() - timedelta(1))\n",
    "today2 = date.today().strftime('%d-%m-%Y')"
   ]
  },
  {
   "cell_type": "code",
   "execution_count": 6,
   "metadata": {},
   "outputs": [],
   "source": [
    "#Funcion para transformar varias columnas a numero\n",
    "def transform_numeric(df,cols):\n",
    "    return df[cols].apply(pd.to_numeric, errors='coerce')\n",
    "\n",
    "#Funcion que convierte a dataframe y rellena espacios con 0\n",
    "def to_dataframe(df):\n",
    "    df = pd.DataFrame(df.to_records())\n",
    "    df.fillna(0,inplace=True)\n",
    "    return df\n",
    "\n",
    "#Funcion que quita el % del string\n",
    "def percent_tonumeric(df,cols):\n",
    "    for c in cols:\n",
    "        df[c] = [x[:-2] for x in df[c]]\n",
    "    return transform_numeric(df,cols)"
   ]
  },
  {
   "source": [
    "# Llamadas detallado Credifiel"
   ],
   "cell_type": "markdown",
   "metadata": {}
  },
  {
   "cell_type": "code",
   "execution_count": 7,
   "metadata": {},
   "outputs": [
    {
     "output_type": "execute_result",
     "data": {
      "text/plain": [
       "       server_ip           uniqueid call_type           call_date campaign_id  \\\n",
       "0  192.168.15.21  1609596926.193234  Outbound 2021-01-02 08:15:26        1301   \n",
       "\n",
       "  campaign_name list_id             list_name   lead_id  vendor_lead_id  ...  \\\n",
       "0     CREDIFIEL   10477  0912_PRED_CRF_NUEVAS  29537153  17_1_CR-317856  ...   \n",
       "\n",
       "  call_time_short call_time_hour call_range_hour  dialstatus hangup_cause  \\\n",
       "0 0 days 08:15:26              8   08:00 - 09:00  CONGESTION           34   \n",
       "\n",
       "          sip_hangup_cause    carrier  areacode  state   region  \n",
       "0  503 Service Unavailable  CONVERGIA       993    TAB  SURESTE  \n",
       "\n",
       "[1 rows x 30 columns]"
      ],
      "text/html": "<div>\n<style scoped>\n    .dataframe tbody tr th:only-of-type {\n        vertical-align: middle;\n    }\n\n    .dataframe tbody tr th {\n        vertical-align: top;\n    }\n\n    .dataframe thead th {\n        text-align: right;\n    }\n</style>\n<table border=\"1\" class=\"dataframe\">\n  <thead>\n    <tr style=\"text-align: right;\">\n      <th></th>\n      <th>server_ip</th>\n      <th>uniqueid</th>\n      <th>call_type</th>\n      <th>call_date</th>\n      <th>campaign_id</th>\n      <th>campaign_name</th>\n      <th>list_id</th>\n      <th>list_name</th>\n      <th>lead_id</th>\n      <th>vendor_lead_id</th>\n      <th>...</th>\n      <th>call_time_short</th>\n      <th>call_time_hour</th>\n      <th>call_range_hour</th>\n      <th>dialstatus</th>\n      <th>hangup_cause</th>\n      <th>sip_hangup_cause</th>\n      <th>carrier</th>\n      <th>areacode</th>\n      <th>state</th>\n      <th>region</th>\n    </tr>\n  </thead>\n  <tbody>\n    <tr>\n      <th>0</th>\n      <td>192.168.15.21</td>\n      <td>1609596926.193234</td>\n      <td>Outbound</td>\n      <td>2021-01-02 08:15:26</td>\n      <td>1301</td>\n      <td>CREDIFIEL</td>\n      <td>10477</td>\n      <td>0912_PRED_CRF_NUEVAS</td>\n      <td>29537153</td>\n      <td>17_1_CR-317856</td>\n      <td>...</td>\n      <td>0 days 08:15:26</td>\n      <td>8</td>\n      <td>08:00 - 09:00</td>\n      <td>CONGESTION</td>\n      <td>34</td>\n      <td>503 Service Unavailable</td>\n      <td>CONVERGIA</td>\n      <td>993</td>\n      <td>TAB</td>\n      <td>SURESTE</td>\n    </tr>\n  </tbody>\n</table>\n<p>1 rows × 30 columns</p>\n</div>"
     },
     "metadata": {},
     "execution_count": 7
    }
   ],
   "source": [
    "#Hacemos la consulta referente a las gestiones de Credifiel\n",
    "llamadas_cred = cs.query_naucalpan('procesos_externos.all_rpt_llamadas_detallado',mes,today,'(^CRED)')\n",
    "llamadas_cred.columns = ['server_ip','uniqueid','call_type','call_date','campaign_id','campaign_name','list_id','list_name','lead_id','vendor_lead_id','vendor_lead_name','phone_number','status','status_name','username','full_name','term_reason_call','queue_seconds','length_in_sec','call_date_short','call_time_short','call_time_hour','call_range_hour','dialstatus','hangup_cause','sip_hangup_cause','carrier','areacode','state','region']\n",
    "llamadas_cred.head(1)"
   ]
  },
  {
   "cell_type": "code",
   "execution_count": 8,
   "metadata": {},
   "outputs": [],
   "source": [
    "llamadas_cred['turno'] = np.where(llamadas_cred['call_time_hour']<=14,'M','V')"
   ]
  },
  {
   "cell_type": "code",
   "execution_count": 9,
   "metadata": {},
   "outputs": [],
   "source": [
    "#Obtenemos el performance bruto de cada gestor\n",
    "control_gestores_bruto_cred = pd.pivot_table(llamadas_cred,index=['full_name','turno'],values=['length_in_sec'],aggfunc=[np.sum,np.mean,'count'])\n",
    "control_gestores_bruto_cred = to_dataframe(control_gestores_bruto_cred)\n",
    "control_gestores_bruto_cred = control_gestores_bruto_cred.iloc[:,[0,1,4,2,3]]\n",
    "control_gestores_bruto_cred.columns = ['Gestor','Turno','NumeroGestionesB','TiempoTotalSegB','PromedioLlamadaSegB']\n",
    "control_gestores_bruto_cred['TiempoTotalMinB'] = [x/60 for x in control_gestores_bruto_cred['TiempoTotalSegB']]"
   ]
  },
  {
   "cell_type": "code",
   "execution_count": 10,
   "metadata": {},
   "outputs": [],
   "source": [
    "#Obtenemos el performance de las llamadas contestadas\n",
    "llamadas_cred2 = llamadas_cred.loc[llamadas_cred['status_name'].isin(['Contacto con titular','Promesa de pago','Mensaje con terceros','Mensaje con familiar','Negativa de pago','Contacto familiar','Agendar llamada'])]\n",
    "control_gestores_llamadas_cred = pd.pivot_table(llamadas_cred2,index=['full_name','turno'],values=['length_in_sec'],aggfunc=[np.sum,np.mean,'count'])\n",
    "control_gestores_llamadas_cred = to_dataframe(control_gestores_llamadas_cred)\n",
    "control_gestores_llamadas_cred = control_gestores_llamadas_cred.iloc[:,[0,1,4,2,3]]\n",
    "control_gestores_llamadas_cred.columns = ['Gestor','Turno','NumeroGestiones','TiempoTotalSeg','PromedioLlamadaSeg']\n",
    "control_gestores_llamadas_cred['TiempoTotalMin'] = [x/60 for x in control_gestores_llamadas_cred['TiempoTotalSeg']]"
   ]
  },
  {
   "cell_type": "code",
   "execution_count": 11,
   "metadata": {},
   "outputs": [
    {
     "output_type": "execute_result",
     "data": {
      "text/plain": [
       "                          Gestor Turno  NumeroGestionesB  TiempoTotalSegB  \\\n",
       "0         AGUILAR MACEDO VALERIA     M                 1                4   \n",
       "1  AGUILAR RIOS DANIEL ALEJANDRO     M               296             3865   \n",
       "\n",
       "   PromedioLlamadaSegB  TiempoTotalMinB  NumeroGestiones  TiempoTotalSeg  \\\n",
       "0             4.000000         0.066667              0.0             0.0   \n",
       "1            13.057432        64.416667              1.0             8.0   \n",
       "\n",
       "   PromedioLlamadaSeg  TiempoTotalMin  \n",
       "0                 0.0        0.000000  \n",
       "1                 8.0        0.133333  "
      ],
      "text/html": "<div>\n<style scoped>\n    .dataframe tbody tr th:only-of-type {\n        vertical-align: middle;\n    }\n\n    .dataframe tbody tr th {\n        vertical-align: top;\n    }\n\n    .dataframe thead th {\n        text-align: right;\n    }\n</style>\n<table border=\"1\" class=\"dataframe\">\n  <thead>\n    <tr style=\"text-align: right;\">\n      <th></th>\n      <th>Gestor</th>\n      <th>Turno</th>\n      <th>NumeroGestionesB</th>\n      <th>TiempoTotalSegB</th>\n      <th>PromedioLlamadaSegB</th>\n      <th>TiempoTotalMinB</th>\n      <th>NumeroGestiones</th>\n      <th>TiempoTotalSeg</th>\n      <th>PromedioLlamadaSeg</th>\n      <th>TiempoTotalMin</th>\n    </tr>\n  </thead>\n  <tbody>\n    <tr>\n      <th>0</th>\n      <td>AGUILAR MACEDO VALERIA</td>\n      <td>M</td>\n      <td>1</td>\n      <td>4</td>\n      <td>4.000000</td>\n      <td>0.066667</td>\n      <td>0.0</td>\n      <td>0.0</td>\n      <td>0.0</td>\n      <td>0.000000</td>\n    </tr>\n    <tr>\n      <th>1</th>\n      <td>AGUILAR RIOS DANIEL ALEJANDRO</td>\n      <td>M</td>\n      <td>296</td>\n      <td>3865</td>\n      <td>13.057432</td>\n      <td>64.416667</td>\n      <td>1.0</td>\n      <td>8.0</td>\n      <td>8.0</td>\n      <td>0.133333</td>\n    </tr>\n  </tbody>\n</table>\n</div>"
     },
     "metadata": {},
     "execution_count": 11
    }
   ],
   "source": [
    "control_cred_turno = pd.merge(control_gestores_bruto_cred,control_gestores_llamadas_cred,how='left',on=['Gestor','Turno'])\n",
    "control_cred_turno.fillna(0,inplace=True)\n",
    "control_cred_turno.head(2)"
   ]
  },
  {
   "cell_type": "code",
   "execution_count": 12,
   "metadata": {},
   "outputs": [
    {
     "output_type": "execute_result",
     "data": {
      "text/plain": [
       "                                  Gestor  NumeroGestiones  TiempoTotalSeg  \\\n",
       "0          AGUILAR RIOS DANIEL ALEJANDRO                1               8   \n",
       "1            BALBUENA MACEDO EDGAR URIEL                1             439   \n",
       "2   CASTILLEJO CASTILLEJO DULCE MICHELLE                3             205   \n",
       "3                   GARCIA CHAVEZ BRAYAN               36            5442   \n",
       "4           HERNANDEZ MEDEL LUIS ENRIQUE                2              62   \n",
       "5     HERNANDEZ VELASCO YALITZI AZAYAEEL               43           16862   \n",
       "6           HUERTA LOPEZ NATALIA XOCHITL                1             222   \n",
       "7                  JUAREZ ROBLEDO LORENA                1              37   \n",
       "8              LOPEZ ESTRADA MA. IGNACIA                2             149   \n",
       "9      LUCIA ESMERALDA LONGORIA CISNEROS               32            5197   \n",
       "10                 MEDINA ARIAS MAURICIO                1             147   \n",
       "11        MISHELLLE ADYANI CHAVEZ CASTRO               89           18673   \n",
       "12                OROZCO GONZALEZ BRENDA                1              64   \n",
       "13            QUINTOS ARVIZU LUIS DANIEL                4              99   \n",
       "14         RODRIGUEZ PAZ DIANA ELIZABETH                1             346   \n",
       "15          TRON FIERROS FELIPE DE JESUS                1              30   \n",
       "\n",
       "    PromedioLlamadaSeg  TiempoTotalMin  \n",
       "0             8.000000        0.133333  \n",
       "1           439.000000        7.316667  \n",
       "2            68.333333        3.416667  \n",
       "3           151.166667       90.700000  \n",
       "4            31.000000        1.033333  \n",
       "5           392.139535      281.033333  \n",
       "6           222.000000        3.700000  \n",
       "7            37.000000        0.616667  \n",
       "8            74.500000        2.483333  \n",
       "9           162.406250       86.616667  \n",
       "10          147.000000        2.450000  \n",
       "11          209.808989      311.216667  \n",
       "12           64.000000        1.066667  \n",
       "13           24.750000        1.650000  \n",
       "14          346.000000        5.766667  \n",
       "15           30.000000        0.500000  "
      ],
      "text/html": "<div>\n<style scoped>\n    .dataframe tbody tr th:only-of-type {\n        vertical-align: middle;\n    }\n\n    .dataframe tbody tr th {\n        vertical-align: top;\n    }\n\n    .dataframe thead th {\n        text-align: right;\n    }\n</style>\n<table border=\"1\" class=\"dataframe\">\n  <thead>\n    <tr style=\"text-align: right;\">\n      <th></th>\n      <th>Gestor</th>\n      <th>NumeroGestiones</th>\n      <th>TiempoTotalSeg</th>\n      <th>PromedioLlamadaSeg</th>\n      <th>TiempoTotalMin</th>\n    </tr>\n  </thead>\n  <tbody>\n    <tr>\n      <th>0</th>\n      <td>AGUILAR RIOS DANIEL ALEJANDRO</td>\n      <td>1</td>\n      <td>8</td>\n      <td>8.000000</td>\n      <td>0.133333</td>\n    </tr>\n    <tr>\n      <th>1</th>\n      <td>BALBUENA MACEDO EDGAR URIEL</td>\n      <td>1</td>\n      <td>439</td>\n      <td>439.000000</td>\n      <td>7.316667</td>\n    </tr>\n    <tr>\n      <th>2</th>\n      <td>CASTILLEJO CASTILLEJO DULCE MICHELLE</td>\n      <td>3</td>\n      <td>205</td>\n      <td>68.333333</td>\n      <td>3.416667</td>\n    </tr>\n    <tr>\n      <th>3</th>\n      <td>GARCIA CHAVEZ BRAYAN</td>\n      <td>36</td>\n      <td>5442</td>\n      <td>151.166667</td>\n      <td>90.700000</td>\n    </tr>\n    <tr>\n      <th>4</th>\n      <td>HERNANDEZ MEDEL LUIS ENRIQUE</td>\n      <td>2</td>\n      <td>62</td>\n      <td>31.000000</td>\n      <td>1.033333</td>\n    </tr>\n    <tr>\n      <th>5</th>\n      <td>HERNANDEZ VELASCO YALITZI AZAYAEEL</td>\n      <td>43</td>\n      <td>16862</td>\n      <td>392.139535</td>\n      <td>281.033333</td>\n    </tr>\n    <tr>\n      <th>6</th>\n      <td>HUERTA LOPEZ NATALIA XOCHITL</td>\n      <td>1</td>\n      <td>222</td>\n      <td>222.000000</td>\n      <td>3.700000</td>\n    </tr>\n    <tr>\n      <th>7</th>\n      <td>JUAREZ ROBLEDO LORENA</td>\n      <td>1</td>\n      <td>37</td>\n      <td>37.000000</td>\n      <td>0.616667</td>\n    </tr>\n    <tr>\n      <th>8</th>\n      <td>LOPEZ ESTRADA MA. IGNACIA</td>\n      <td>2</td>\n      <td>149</td>\n      <td>74.500000</td>\n      <td>2.483333</td>\n    </tr>\n    <tr>\n      <th>9</th>\n      <td>LUCIA ESMERALDA LONGORIA CISNEROS</td>\n      <td>32</td>\n      <td>5197</td>\n      <td>162.406250</td>\n      <td>86.616667</td>\n    </tr>\n    <tr>\n      <th>10</th>\n      <td>MEDINA ARIAS MAURICIO</td>\n      <td>1</td>\n      <td>147</td>\n      <td>147.000000</td>\n      <td>2.450000</td>\n    </tr>\n    <tr>\n      <th>11</th>\n      <td>MISHELLLE ADYANI CHAVEZ CASTRO</td>\n      <td>89</td>\n      <td>18673</td>\n      <td>209.808989</td>\n      <td>311.216667</td>\n    </tr>\n    <tr>\n      <th>12</th>\n      <td>OROZCO GONZALEZ BRENDA</td>\n      <td>1</td>\n      <td>64</td>\n      <td>64.000000</td>\n      <td>1.066667</td>\n    </tr>\n    <tr>\n      <th>13</th>\n      <td>QUINTOS ARVIZU LUIS DANIEL</td>\n      <td>4</td>\n      <td>99</td>\n      <td>24.750000</td>\n      <td>1.650000</td>\n    </tr>\n    <tr>\n      <th>14</th>\n      <td>RODRIGUEZ PAZ DIANA ELIZABETH</td>\n      <td>1</td>\n      <td>346</td>\n      <td>346.000000</td>\n      <td>5.766667</td>\n    </tr>\n    <tr>\n      <th>15</th>\n      <td>TRON FIERROS FELIPE DE JESUS</td>\n      <td>1</td>\n      <td>30</td>\n      <td>30.000000</td>\n      <td>0.500000</td>\n    </tr>\n  </tbody>\n</table>\n</div>"
     },
     "metadata": {},
     "execution_count": 12
    }
   ],
   "source": [
    "#Obtenemos el performance de las llamadas contestadas\n",
    "control_gestores_total_cred = pd.pivot_table(llamadas_cred2,index=['full_name'],values=['length_in_sec'],aggfunc=[np.sum,np.mean,'count'])\n",
    "control_gestores_total_cred = to_dataframe(control_gestores_total_cred)\n",
    "control_gestores_total_cred = control_gestores_total_cred.iloc[:,[0,3,1,2]]\n",
    "control_gestores_total_cred.columns = ['Gestor','NumeroGestiones','TiempoTotalSeg','PromedioLlamadaSeg']\n",
    "control_gestores_total_cred['TiempoTotalMin'] = [x/60 for x in control_gestores_total_cred['TiempoTotalSeg']]\n",
    "control_gestores_total_cred"
   ]
  },
  {
   "source": [
    "# Performance Credifiel"
   ],
   "cell_type": "markdown",
   "metadata": {}
  },
  {
   "cell_type": "code",
   "execution_count": 13,
   "metadata": {},
   "outputs": [],
   "source": [
    "#Hacemos la consulta referente al performance del Gestor\n",
    "performance_all = cs.query_naucalpan('procesos_externos.all_rpt_agent_performance',mes,today)\n",
    "performance_all.columns = ['fecha','usuario','nombre_usuario','user_group','llamadas','aht','ocupacion','adherencia','login_vici','logout_vici','staff_time','wait_time','talk_time','dispo_time','pause','login','manual','gestion','agua','alimentos','sanitario','retroalimentacion','tranferencia','validacion','whatsapp','incumplimiento','recordatorios','capacitacion','sistemas','lagged','tipificando','*']"
   ]
  },
  {
   "cell_type": "code",
   "execution_count": 14,
   "metadata": {},
   "outputs": [],
   "source": [
    "performance_cred = performance_all.loc[performance_all['user_group']=='AFINES']\n",
    "performance_cred[['ocupacion','adherencia']] = percent_tonumeric(performance_cred,['ocupacion','adherencia'])"
   ]
  },
  {
   "cell_type": "code",
   "execution_count": 15,
   "metadata": {},
   "outputs": [],
   "source": [
    "performance_cred['hora_login'] = [int(x[:2]) for x in performance_cred['login_vici']]\n",
    "performance_cred['hora_logout'] = [int(x[:2]) for x in performance_cred['logout_vici']]\n",
    "performance_cred['turno'] = np.where((performance_cred['hora_logout']<=14)&(performance_cred['hora_logout']-performance_cred['hora_login']<=8),'M',\n",
    "                                    np.where((performance_cred['hora_logout']>17)&(performance_cred['hora_logout']-performance_cred['hora_login']<=8),'V','Mixto'))"
   ]
  },
  {
   "cell_type": "code",
   "execution_count": 16,
   "metadata": {},
   "outputs": [
    {
     "output_type": "execute_result",
     "data": {
      "text/plain": [
       "         fecha      usuario                 nombre_usuario user_group  \\\n",
       "50  2021-01-02  AGUILARRIAL  AGUILAR RIOS DANIEL ALEJANDRO     AFINES   \n",
       "\n",
       "    llamadas       aht  ocupacion  adherencia login_vici logout_vici  ...  \\\n",
       "50       354  00:00:32      24.23       88.12   08:05:59    14:00:01  ...   \n",
       "\n",
       "   capacitacion  sistemas    lagged tipificando         * hora_login  \\\n",
       "50     00:00:11  00:00:00  00:00:00    00:08:31  00:24:05          8   \n",
       "\n",
       "   hora_logout turno horas_trabajadas llamadas_hora  \n",
       "50          14     M                6          59.0  \n",
       "\n",
       "[1 rows x 37 columns]"
      ],
      "text/html": "<div>\n<style scoped>\n    .dataframe tbody tr th:only-of-type {\n        vertical-align: middle;\n    }\n\n    .dataframe tbody tr th {\n        vertical-align: top;\n    }\n\n    .dataframe thead th {\n        text-align: right;\n    }\n</style>\n<table border=\"1\" class=\"dataframe\">\n  <thead>\n    <tr style=\"text-align: right;\">\n      <th></th>\n      <th>fecha</th>\n      <th>usuario</th>\n      <th>nombre_usuario</th>\n      <th>user_group</th>\n      <th>llamadas</th>\n      <th>aht</th>\n      <th>ocupacion</th>\n      <th>adherencia</th>\n      <th>login_vici</th>\n      <th>logout_vici</th>\n      <th>...</th>\n      <th>capacitacion</th>\n      <th>sistemas</th>\n      <th>lagged</th>\n      <th>tipificando</th>\n      <th>*</th>\n      <th>hora_login</th>\n      <th>hora_logout</th>\n      <th>turno</th>\n      <th>horas_trabajadas</th>\n      <th>llamadas_hora</th>\n    </tr>\n  </thead>\n  <tbody>\n    <tr>\n      <th>50</th>\n      <td>2021-01-02</td>\n      <td>AGUILARRIAL</td>\n      <td>AGUILAR RIOS DANIEL ALEJANDRO</td>\n      <td>AFINES</td>\n      <td>354</td>\n      <td>00:00:32</td>\n      <td>24.23</td>\n      <td>88.12</td>\n      <td>08:05:59</td>\n      <td>14:00:01</td>\n      <td>...</td>\n      <td>00:00:11</td>\n      <td>00:00:00</td>\n      <td>00:00:00</td>\n      <td>00:08:31</td>\n      <td>00:24:05</td>\n      <td>8</td>\n      <td>14</td>\n      <td>M</td>\n      <td>6</td>\n      <td>59.0</td>\n    </tr>\n  </tbody>\n</table>\n<p>1 rows × 37 columns</p>\n</div>"
     },
     "metadata": {},
     "execution_count": 16
    }
   ],
   "source": [
    "performance_cred['horas_trabajadas'] = performance_cred['hora_logout']-performance_cred['hora_login']\n",
    "performance_cred['llamadas_hora'] = performance_cred['llamadas']/performance_cred['horas_trabajadas']\n",
    "performance_cred['llamadas_hora'] = performance_cred['llamadas_hora'].round(1)\n",
    "performance_cred.head(1)"
   ]
  },
  {
   "cell_type": "code",
   "execution_count": 17,
   "metadata": {},
   "outputs": [
    {
     "output_type": "execute_result",
     "data": {
      "text/plain": [
       "                          Gestor Turno  SumLlamadasDia  SumLlamadasHora  \\\n",
       "0  AGUILAR RIOS DANIEL ALEJANDRO     M            4434            646.6   \n",
       "\n",
       "   SumOcupacion  PromedioLlamadasDia  PromedioLlamadasHora  PromedioOcupacion  \\\n",
       "0        294.86           341.076923             49.738462          22.681538   \n",
       "\n",
       "   DiasAsitencia  MinLlamadasDia  MinLlamadasHora  MinOcupacion  \\\n",
       "0             13             198             33.0         18.21   \n",
       "\n",
       "   MaxLlamadasDia  MaxLlamadasHora  MaxOcupacion  \n",
       "0             460             65.7         30.06  "
      ],
      "text/html": "<div>\n<style scoped>\n    .dataframe tbody tr th:only-of-type {\n        vertical-align: middle;\n    }\n\n    .dataframe tbody tr th {\n        vertical-align: top;\n    }\n\n    .dataframe thead th {\n        text-align: right;\n    }\n</style>\n<table border=\"1\" class=\"dataframe\">\n  <thead>\n    <tr style=\"text-align: right;\">\n      <th></th>\n      <th>Gestor</th>\n      <th>Turno</th>\n      <th>SumLlamadasDia</th>\n      <th>SumLlamadasHora</th>\n      <th>SumOcupacion</th>\n      <th>PromedioLlamadasDia</th>\n      <th>PromedioLlamadasHora</th>\n      <th>PromedioOcupacion</th>\n      <th>DiasAsitencia</th>\n      <th>MinLlamadasDia</th>\n      <th>MinLlamadasHora</th>\n      <th>MinOcupacion</th>\n      <th>MaxLlamadasDia</th>\n      <th>MaxLlamadasHora</th>\n      <th>MaxOcupacion</th>\n    </tr>\n  </thead>\n  <tbody>\n    <tr>\n      <th>0</th>\n      <td>AGUILAR RIOS DANIEL ALEJANDRO</td>\n      <td>M</td>\n      <td>4434</td>\n      <td>646.6</td>\n      <td>294.86</td>\n      <td>341.076923</td>\n      <td>49.738462</td>\n      <td>22.681538</td>\n      <td>13</td>\n      <td>198</td>\n      <td>33.0</td>\n      <td>18.21</td>\n      <td>460</td>\n      <td>65.7</td>\n      <td>30.06</td>\n    </tr>\n  </tbody>\n</table>\n</div>"
     },
     "metadata": {},
     "execution_count": 17
    }
   ],
   "source": [
    "control_performance_cred_turno = pd.pivot_table(performance_cred,index=['nombre_usuario','turno'],values=['llamadas','ocupacion','llamadas_hora'],aggfunc=[np.sum,np.mean,'count',min,max])\n",
    "control_performance_cred_turno = to_dataframe(control_performance_cred_turno)\n",
    "control_performance_cred_turno = control_performance_cred_turno.iloc[:,[0,1,2,3,4,5,6,7,8,11,12,13,14,15,16]]\n",
    "control_performance_cred_turno.columns = ['Gestor','Turno','SumLlamadasDia','SumLlamadasHora','SumOcupacion','PromedioLlamadasDia','PromedioLlamadasHora','PromedioOcupacion','DiasAsitencia','MinLlamadasDia','MinLlamadasHora','MinOcupacion','MaxLlamadasDia','MaxLlamadasHora','MaxOcupacion']\n",
    "control_performance_cred_turno.head(1)"
   ]
  },
  {
   "cell_type": "code",
   "execution_count": 18,
   "metadata": {},
   "outputs": [],
   "source": [
    "control_performance_cred_turno2 = control_performance_cred_turno[['Gestor','Turno','PromedioLlamadasHora','PromedioOcupacion']]"
   ]
  },
  {
   "cell_type": "code",
   "execution_count": 19,
   "metadata": {},
   "outputs": [
    {
     "output_type": "execute_result",
     "data": {
      "text/plain": [
       "                                 Gestor  SumHorasTrabajadas  SumLlamadasDia  \\\n",
       "0         AGUILAR RIOS DANIEL ALEJANDRO                  94            4659   \n",
       "1  CASTILLEJO CASTILLEJO DULCE MICHELLE                 121            3784   \n",
       "2                  GARCIA CHAVEZ BRAYAN                  98            1326   \n",
       "\n",
       "   PromedioLlamadasDia  PromedioLlamadasHora  PromedioOcupacion  \n",
       "0           332.785714             49.400000          23.785000  \n",
       "1           236.500000             31.425000          43.106250  \n",
       "2            94.714286             13.535714          30.282857  "
      ],
      "text/html": "<div>\n<style scoped>\n    .dataframe tbody tr th:only-of-type {\n        vertical-align: middle;\n    }\n\n    .dataframe tbody tr th {\n        vertical-align: top;\n    }\n\n    .dataframe thead th {\n        text-align: right;\n    }\n</style>\n<table border=\"1\" class=\"dataframe\">\n  <thead>\n    <tr style=\"text-align: right;\">\n      <th></th>\n      <th>Gestor</th>\n      <th>SumHorasTrabajadas</th>\n      <th>SumLlamadasDia</th>\n      <th>PromedioLlamadasDia</th>\n      <th>PromedioLlamadasHora</th>\n      <th>PromedioOcupacion</th>\n    </tr>\n  </thead>\n  <tbody>\n    <tr>\n      <th>0</th>\n      <td>AGUILAR RIOS DANIEL ALEJANDRO</td>\n      <td>94</td>\n      <td>4659</td>\n      <td>332.785714</td>\n      <td>49.400000</td>\n      <td>23.785000</td>\n    </tr>\n    <tr>\n      <th>1</th>\n      <td>CASTILLEJO CASTILLEJO DULCE MICHELLE</td>\n      <td>121</td>\n      <td>3784</td>\n      <td>236.500000</td>\n      <td>31.425000</td>\n      <td>43.106250</td>\n    </tr>\n    <tr>\n      <th>2</th>\n      <td>GARCIA CHAVEZ BRAYAN</td>\n      <td>98</td>\n      <td>1326</td>\n      <td>94.714286</td>\n      <td>13.535714</td>\n      <td>30.282857</td>\n    </tr>\n  </tbody>\n</table>\n</div>"
     },
     "metadata": {},
     "execution_count": 19
    }
   ],
   "source": [
    "control_performance_cred = pd.pivot_table(performance_cred,index=['nombre_usuario'],values=['llamadas','ocupacion','llamadas_hora','horas_trabajadas'],aggfunc=[np.sum,np.mean,'count',min,max])\n",
    "control_performance_cred = to_dataframe(control_performance_cred)\n",
    "control_performance_cred = control_performance_cred.iloc[:,[0,1,2,6,7,8]]\n",
    "control_performance_cred.columns = ['Gestor','SumHorasTrabajadas','SumLlamadasDia','PromedioLlamadasDia','PromedioLlamadasHora','PromedioOcupacion']\n",
    "control_performance_cred.head(3)"
   ]
  },
  {
   "cell_type": "code",
   "execution_count": 20,
   "metadata": {},
   "outputs": [
    {
     "output_type": "execute_result",
     "data": {
      "text/plain": [
       "                                  Gestor  PromedioLlamadasHora  ContactoHora  \\\n",
       "0          AGUILAR RIOS DANIEL ALEJANDRO             49.563830      0.010638   \n",
       "2   CASTILLEJO CASTILLEJO DULCE MICHELLE             31.272727      0.024793   \n",
       "3                   GARCIA CHAVEZ BRAYAN             13.530612      0.367347   \n",
       "10                 MEDINA ARIAS MAURICIO             31.306452      0.008065   \n",
       "11        MISHELLLE ADYANI CHAVEZ CASTRO             24.548913      0.483696   \n",
       "13            QUINTOS ARVIZU LUIS DANIEL             52.347826      0.028986   \n",
       "\n",
       "    PromedioOcupacion  \n",
       "0           23.785000  \n",
       "2           43.106250  \n",
       "3           30.282857  \n",
       "10          42.416667  \n",
       "11          29.928333  \n",
       "13          44.399412  "
      ],
      "text/html": "<div>\n<style scoped>\n    .dataframe tbody tr th:only-of-type {\n        vertical-align: middle;\n    }\n\n    .dataframe tbody tr th {\n        vertical-align: top;\n    }\n\n    .dataframe thead th {\n        text-align: right;\n    }\n</style>\n<table border=\"1\" class=\"dataframe\">\n  <thead>\n    <tr style=\"text-align: right;\">\n      <th></th>\n      <th>Gestor</th>\n      <th>PromedioLlamadasHora</th>\n      <th>ContactoHora</th>\n      <th>PromedioOcupacion</th>\n    </tr>\n  </thead>\n  <tbody>\n    <tr>\n      <th>0</th>\n      <td>AGUILAR RIOS DANIEL ALEJANDRO</td>\n      <td>49.563830</td>\n      <td>0.010638</td>\n      <td>23.785000</td>\n    </tr>\n    <tr>\n      <th>2</th>\n      <td>CASTILLEJO CASTILLEJO DULCE MICHELLE</td>\n      <td>31.272727</td>\n      <td>0.024793</td>\n      <td>43.106250</td>\n    </tr>\n    <tr>\n      <th>3</th>\n      <td>GARCIA CHAVEZ BRAYAN</td>\n      <td>13.530612</td>\n      <td>0.367347</td>\n      <td>30.282857</td>\n    </tr>\n    <tr>\n      <th>10</th>\n      <td>MEDINA ARIAS MAURICIO</td>\n      <td>31.306452</td>\n      <td>0.008065</td>\n      <td>42.416667</td>\n    </tr>\n    <tr>\n      <th>11</th>\n      <td>MISHELLLE ADYANI CHAVEZ CASTRO</td>\n      <td>24.548913</td>\n      <td>0.483696</td>\n      <td>29.928333</td>\n    </tr>\n    <tr>\n      <th>13</th>\n      <td>QUINTOS ARVIZU LUIS DANIEL</td>\n      <td>52.347826</td>\n      <td>0.028986</td>\n      <td>44.399412</td>\n    </tr>\n  </tbody>\n</table>\n</div>"
     },
     "metadata": {},
     "execution_count": 20
    }
   ],
   "source": [
    "conjunto_performance_llamadas_cred = pd.merge(control_gestores_total_cred,control_performance_cred,on='Gestor',how='left')\n",
    "conjunto_performance_llamadas_cred['ContactoHora'] = conjunto_performance_llamadas_cred['NumeroGestiones']/conjunto_performance_llamadas_cred['SumHorasTrabajadas']\n",
    "conjunto_performance_llamadas_cred['PromedioLlamadasHora'] = conjunto_performance_llamadas_cred['SumLlamadasDia']/conjunto_performance_llamadas_cred['SumHorasTrabajadas']\n",
    "conjunto_performance_llamadas_cred = conjunto_performance_llamadas_cred.iloc[:,[0,8,10,9,]]\n",
    "conjunto_performance_llamadas_cred = conjunto_performance_llamadas_cred.dropna()\n",
    "conjunto_performance_llamadas_cred"
   ]
  },
  {
   "source": [
    "# Gestion detallado Credifiel"
   ],
   "cell_type": "markdown",
   "metadata": {}
  },
  {
   "cell_type": "code",
   "execution_count": 21,
   "metadata": {},
   "outputs": [
    {
     "output_type": "execute_result",
     "data": {
      "text/plain": [
       "   folio_gestion  unegocio_id fecha_gestion    hora_gestion credito  \\\n",
       "8        9518854            1    2021-01-02 0 days 10:16:54  380282   \n",
       "\n",
       "         nombre_credito    telefono      usuario              nombre_usuario  \\\n",
       "8  HIPOLITO OJEDA DAVID  2741226882  QUINTOSARLD  QUINTOS ARVIZU LUIS DANIEL   \n",
       "\n",
       "              accion              resultado fecha_promesa  monto_promesa  \\\n",
       "8  LLAMADA A TITULAR  SEGUIMIENTO A PROMESA                          NaN   \n",
       "\n",
       "                                         comentarios accion_credifiel  \\\n",
       "8  2741226882 SE HACE RECORDATORIO DE PAGO POR WH...              PDP   \n",
       "\n",
       "  resultado_credifiel  dictamen       division  \n",
       "8     Promesa de Pago  CONTACTO  Extrajudicial  "
      ],
      "text/html": "<div>\n<style scoped>\n    .dataframe tbody tr th:only-of-type {\n        vertical-align: middle;\n    }\n\n    .dataframe tbody tr th {\n        vertical-align: top;\n    }\n\n    .dataframe thead th {\n        text-align: right;\n    }\n</style>\n<table border=\"1\" class=\"dataframe\">\n  <thead>\n    <tr style=\"text-align: right;\">\n      <th></th>\n      <th>folio_gestion</th>\n      <th>unegocio_id</th>\n      <th>fecha_gestion</th>\n      <th>hora_gestion</th>\n      <th>credito</th>\n      <th>nombre_credito</th>\n      <th>telefono</th>\n      <th>usuario</th>\n      <th>nombre_usuario</th>\n      <th>accion</th>\n      <th>resultado</th>\n      <th>fecha_promesa</th>\n      <th>monto_promesa</th>\n      <th>comentarios</th>\n      <th>accion_credifiel</th>\n      <th>resultado_credifiel</th>\n      <th>dictamen</th>\n      <th>division</th>\n    </tr>\n  </thead>\n  <tbody>\n    <tr>\n      <th>8</th>\n      <td>9518854</td>\n      <td>1</td>\n      <td>2021-01-02</td>\n      <td>0 days 10:16:54</td>\n      <td>380282</td>\n      <td>HIPOLITO OJEDA DAVID</td>\n      <td>2741226882</td>\n      <td>QUINTOSARLD</td>\n      <td>QUINTOS ARVIZU LUIS DANIEL</td>\n      <td>LLAMADA A TITULAR</td>\n      <td>SEGUIMIENTO A PROMESA</td>\n      <td></td>\n      <td>NaN</td>\n      <td>2741226882 SE HACE RECORDATORIO DE PAGO POR WH...</td>\n      <td>PDP</td>\n      <td>Promesa de Pago</td>\n      <td>CONTACTO</td>\n      <td>Extrajudicial</td>\n    </tr>\n  </tbody>\n</table>\n</div>"
     },
     "metadata": {},
     "execution_count": 21
    }
   ],
   "source": [
    "#Hacemos la consulta referente a las gestiones de Credifiel\n",
    "gestion_cred = cs.query_naucalpan('credifiel_rpt_gestiones_detallado',mes,today)\n",
    "gestion_cred.columns = ['folio_gestion','unegocio_id','fecha_gestion','hora_gestion','credito','nombre_credito','telefono','usuario','nombre_usuario','accion','resultado','fecha_promesa','monto_promesa','comentarios','accion_credifiel','resultado_credifiel','dictamen']\n",
    "gestion_cred['monto_promesa'] = pd.to_numeric(gestion_cred['monto_promesa'])\n",
    "gestion_cred = gestion_cred.loc[gestion_cred['accion_credifiel']=='PDP']\n",
    "gestion_cred['division'] = 'Extrajudicial'\n",
    "gestion_cred['credito'] = [x[3:] for x in gestion_cred['credito']]\n",
    "gestion_cred.head(1)"
   ]
  },
  {
   "cell_type": "code",
   "execution_count": 22,
   "metadata": {},
   "outputs": [],
   "source": [
    "#Hacemos el consolidado de la asignacion y promesado\n",
    "consolidado_cred = pd.merge(gestion_cred,asignacion_cred,how='left',on=['credito'])\n",
    "cols = ['monto_promesa']\n",
    "consolidado_cred[cols] = consolidado_cred[cols].apply(pd.to_numeric, errors='coerce')\n",
    "consolidado_cred = consolidado_cred.loc[consolidado_cred['monto_promesa']>50]\n",
    "consolidado_cred = consolidado_cred[(consolidado_cred['monto_promesa']<500000)]"
   ]
  },
  {
   "cell_type": "code",
   "execution_count": 23,
   "metadata": {},
   "outputs": [],
   "source": [
    "# pagos_cred_fact = pd.merge(pagos_cred,asignacion_cred,how='left',left_on=['ID'],right_on=['credito'])\n",
    "# pagos_cred_fact['arancel'] = np.where(pagos_cred_fact['arancel'].isna(),np.mean(pagos_cred_fact['arancel']),pagos_cred_fact['arancel'])\n",
    "# consolidado_pagos_cred.head(1)"
   ]
  },
  {
   "cell_type": "code",
   "execution_count": 24,
   "metadata": {},
   "outputs": [],
   "source": [
    "consolidado_pagos_cred = pd.merge(consolidado_cred,pagos_cred,how='left',left_on=['credito'],right_on=['ID'])\n",
    "consolidado_pagos_cred['arancel'] = np.where(consolidado_pagos_cred['arancel'].isna(),np.mean(consolidado_pagos_cred['arancel']),consolidado_pagos_cred['arancel'])\n",
    "consolidado_pagos_cred['fecha_promesa'] = pd.to_datetime(consolidado_pagos_cred['fecha_promesa'],dayfirst=False)"
   ]
  },
  {
   "cell_type": "code",
   "execution_count": 25,
   "metadata": {},
   "outputs": [],
   "source": [
    "#Condicionamos a los gestores cuyas promesas y pagos estan en un plazo de 3 dias\n",
    "#consolidado_pagos_cred['PagoUnico'] = [np.where((z < x+pd.Timedelta(4, unit='D')) & ((z > x-pd.Timedelta(4, unit='D') )), y, 0) for x,y,z in zip(consolidado_pagos_cred['fecha_promesa'],consolidado_pagos_cred['IMPORTE'],consolidado_pagos_cred['FECHA'])]\n",
    "#consolidado_pagos_cred['PagoUnico'] = [x.item() for x in consolidado_pagos_cred['PagoUnico']]"
   ]
  },
  {
   "cell_type": "code",
   "execution_count": 26,
   "metadata": {},
   "outputs": [],
   "source": [
    "consolidado_pagos_cred['PagoReal'] = [x*y for x,y in zip(consolidado_pagos_cred['IMPORTE'],consolidado_pagos_cred['arancel'])]\n",
    "consolidado_pagos_cred2 = consolidado_pagos_cred.drop_duplicates(subset=['credito','IMPORTE','FECHA','usuario'])"
   ]
  },
  {
   "cell_type": "code",
   "execution_count": 27,
   "metadata": {},
   "outputs": [
    {
     "output_type": "execute_result",
     "data": {
      "text/plain": [
       "                 Gestor  NumeroPromesas  NumeroPagos  SumaPromesas  SumaPagos  \\\n",
       "0  GARCIA CHAVEZ BRAYAN              36           24     154128.68   77224.99   \n",
       "\n",
       "   SumaArancel  EfVolumen   EfPagos  \n",
       "0   11778.2136   0.666667  0.501042  "
      ],
      "text/html": "<div>\n<style scoped>\n    .dataframe tbody tr th:only-of-type {\n        vertical-align: middle;\n    }\n\n    .dataframe tbody tr th {\n        vertical-align: top;\n    }\n\n    .dataframe thead th {\n        text-align: right;\n    }\n</style>\n<table border=\"1\" class=\"dataframe\">\n  <thead>\n    <tr style=\"text-align: right;\">\n      <th></th>\n      <th>Gestor</th>\n      <th>NumeroPromesas</th>\n      <th>NumeroPagos</th>\n      <th>SumaPromesas</th>\n      <th>SumaPagos</th>\n      <th>SumaArancel</th>\n      <th>EfVolumen</th>\n      <th>EfPagos</th>\n    </tr>\n  </thead>\n  <tbody>\n    <tr>\n      <th>0</th>\n      <td>GARCIA CHAVEZ BRAYAN</td>\n      <td>36</td>\n      <td>24</td>\n      <td>154128.68</td>\n      <td>77224.99</td>\n      <td>11778.2136</td>\n      <td>0.666667</td>\n      <td>0.501042</td>\n    </tr>\n  </tbody>\n</table>\n</div>"
     },
     "metadata": {},
     "execution_count": 27
    }
   ],
   "source": [
    "pagos_totales_cred = pd.pivot_table(consolidado_pagos_cred2,index=['nombre_usuario'],values=['monto_promesa','IMPORTE','PagoReal'],aggfunc=['count',np.sum],dropna=False)\n",
    "pagos_totales_cred = pd.DataFrame(pagos_totales_cred.to_records())\n",
    "pagos_totales_cred = pagos_totales_cred.iloc[:,[0,3,1,6,4,5]]\n",
    "pagos_totales_cred.columns = ['Gestor','NumeroPromesas','NumeroPagos','SumaPromesas','SumaPagos','SumaArancel']\n",
    "pagos_totales_cred.fillna(0,inplace=True)\n",
    "pagos_totales_cred['EfVolumen'] = pagos_totales_cred['NumeroPagos']/pagos_totales_cred['NumeroPromesas']\n",
    "pagos_totales_cred['EfPagos'] = pagos_totales_cred['SumaPagos']/pagos_totales_cred['SumaPromesas']\n",
    "#pagos_totales_cred['FechaFact'] = max(pagos_brad2['FECHA_PAGO'])\n",
    "pagos_totales_cred.head(1)"
   ]
  },
  {
   "cell_type": "code",
   "execution_count": 28,
   "metadata": {},
   "outputs": [
    {
     "output_type": "execute_result",
     "data": {
      "text/plain": [
       "                               Gestor  SumaPagos   EfPagos\n",
       "0                GARCIA CHAVEZ BRAYAN   77224.99  0.501042\n",
       "1  HERNANDEZ VELASCO YALITZI AZAYAEEL   12407.00  0.328941\n",
       "2   LUCIA ESMERALDA LONGORIA CISNEROS    7320.03  0.220785\n",
       "3      MISHELLLE ADYANI CHAVEZ CASTRO   33635.00  0.700701\n",
       "4          ZARZA NORIA JEFREY ALBERTO    2900.00  1.000000"
      ],
      "text/html": "<div>\n<style scoped>\n    .dataframe tbody tr th:only-of-type {\n        vertical-align: middle;\n    }\n\n    .dataframe tbody tr th {\n        vertical-align: top;\n    }\n\n    .dataframe thead th {\n        text-align: right;\n    }\n</style>\n<table border=\"1\" class=\"dataframe\">\n  <thead>\n    <tr style=\"text-align: right;\">\n      <th></th>\n      <th>Gestor</th>\n      <th>SumaPagos</th>\n      <th>EfPagos</th>\n    </tr>\n  </thead>\n  <tbody>\n    <tr>\n      <th>0</th>\n      <td>GARCIA CHAVEZ BRAYAN</td>\n      <td>77224.99</td>\n      <td>0.501042</td>\n    </tr>\n    <tr>\n      <th>1</th>\n      <td>HERNANDEZ VELASCO YALITZI AZAYAEEL</td>\n      <td>12407.00</td>\n      <td>0.328941</td>\n    </tr>\n    <tr>\n      <th>2</th>\n      <td>LUCIA ESMERALDA LONGORIA CISNEROS</td>\n      <td>7320.03</td>\n      <td>0.220785</td>\n    </tr>\n    <tr>\n      <th>3</th>\n      <td>MISHELLLE ADYANI CHAVEZ CASTRO</td>\n      <td>33635.00</td>\n      <td>0.700701</td>\n    </tr>\n    <tr>\n      <th>4</th>\n      <td>ZARZA NORIA JEFREY ALBERTO</td>\n      <td>2900.00</td>\n      <td>1.000000</td>\n    </tr>\n  </tbody>\n</table>\n</div>"
     },
     "metadata": {},
     "execution_count": 28
    }
   ],
   "source": [
    "gestor_final_cred = pagos_totales_cred[['Gestor','SumaPagos','EfPagos']]\n",
    "gestor_final_cred"
   ]
  },
  {
   "cell_type": "code",
   "execution_count": 29,
   "metadata": {},
   "outputs": [
    {
     "output_type": "execute_result",
     "data": {
      "text/plain": [
       "                                 Gestor  SumaPagos  EfPagos  \\\n",
       "0                  GARCIA CHAVEZ BRAYAN   77224.99     0.50   \n",
       "1    HERNANDEZ VELASCO YALITZI AZAYAEEL   12407.00     0.33   \n",
       "2     LUCIA ESMERALDA LONGORIA CISNEROS    7320.03     0.22   \n",
       "3        MISHELLLE ADYANI CHAVEZ CASTRO   33635.00     0.70   \n",
       "4            ZARZA NORIA JEFREY ALBERTO    2900.00     1.00   \n",
       "5         AGUILAR RIOS DANIEL ALEJANDRO       0.00     0.00   \n",
       "6  CASTILLEJO CASTILLEJO DULCE MICHELLE       0.00     0.00   \n",
       "7                 MEDINA ARIAS MAURICIO       0.00     0.00   \n",
       "8            QUINTOS ARVIZU LUIS DANIEL       0.00     0.00   \n",
       "\n",
       "   PromedioLlamadasHora  ContactoHora  PromedioOcupacion  \n",
       "0                  14.0          0.37               0.30  \n",
       "1                   0.0          0.00               0.00  \n",
       "2                   0.0          0.00               0.00  \n",
       "3                  25.0          0.48               0.30  \n",
       "4                   0.0          0.00               0.00  \n",
       "5                  50.0          0.01               0.24  \n",
       "6                  31.0          0.02               0.43  \n",
       "7                  31.0          0.01               0.42  \n",
       "8                  52.0          0.03               0.44  "
      ],
      "text/html": "<div>\n<style scoped>\n    .dataframe tbody tr th:only-of-type {\n        vertical-align: middle;\n    }\n\n    .dataframe tbody tr th {\n        vertical-align: top;\n    }\n\n    .dataframe thead th {\n        text-align: right;\n    }\n</style>\n<table border=\"1\" class=\"dataframe\">\n  <thead>\n    <tr style=\"text-align: right;\">\n      <th></th>\n      <th>Gestor</th>\n      <th>SumaPagos</th>\n      <th>EfPagos</th>\n      <th>PromedioLlamadasHora</th>\n      <th>ContactoHora</th>\n      <th>PromedioOcupacion</th>\n    </tr>\n  </thead>\n  <tbody>\n    <tr>\n      <th>0</th>\n      <td>GARCIA CHAVEZ BRAYAN</td>\n      <td>77224.99</td>\n      <td>0.50</td>\n      <td>14.0</td>\n      <td>0.37</td>\n      <td>0.30</td>\n    </tr>\n    <tr>\n      <th>1</th>\n      <td>HERNANDEZ VELASCO YALITZI AZAYAEEL</td>\n      <td>12407.00</td>\n      <td>0.33</td>\n      <td>0.0</td>\n      <td>0.00</td>\n      <td>0.00</td>\n    </tr>\n    <tr>\n      <th>2</th>\n      <td>LUCIA ESMERALDA LONGORIA CISNEROS</td>\n      <td>7320.03</td>\n      <td>0.22</td>\n      <td>0.0</td>\n      <td>0.00</td>\n      <td>0.00</td>\n    </tr>\n    <tr>\n      <th>3</th>\n      <td>MISHELLLE ADYANI CHAVEZ CASTRO</td>\n      <td>33635.00</td>\n      <td>0.70</td>\n      <td>25.0</td>\n      <td>0.48</td>\n      <td>0.30</td>\n    </tr>\n    <tr>\n      <th>4</th>\n      <td>ZARZA NORIA JEFREY ALBERTO</td>\n      <td>2900.00</td>\n      <td>1.00</td>\n      <td>0.0</td>\n      <td>0.00</td>\n      <td>0.00</td>\n    </tr>\n    <tr>\n      <th>5</th>\n      <td>AGUILAR RIOS DANIEL ALEJANDRO</td>\n      <td>0.00</td>\n      <td>0.00</td>\n      <td>50.0</td>\n      <td>0.01</td>\n      <td>0.24</td>\n    </tr>\n    <tr>\n      <th>6</th>\n      <td>CASTILLEJO CASTILLEJO DULCE MICHELLE</td>\n      <td>0.00</td>\n      <td>0.00</td>\n      <td>31.0</td>\n      <td>0.02</td>\n      <td>0.43</td>\n    </tr>\n    <tr>\n      <th>7</th>\n      <td>MEDINA ARIAS MAURICIO</td>\n      <td>0.00</td>\n      <td>0.00</td>\n      <td>31.0</td>\n      <td>0.01</td>\n      <td>0.42</td>\n    </tr>\n    <tr>\n      <th>8</th>\n      <td>QUINTOS ARVIZU LUIS DANIEL</td>\n      <td>0.00</td>\n      <td>0.00</td>\n      <td>52.0</td>\n      <td>0.03</td>\n      <td>0.44</td>\n    </tr>\n  </tbody>\n</table>\n</div>"
     },
     "metadata": {},
     "execution_count": 29
    }
   ],
   "source": [
    "final_cred = pd.merge(gestor_final_cred,conjunto_performance_llamadas_cred,how='outer',on='Gestor')\n",
    "final_cred['PromedioLlamadasHora'] = final_cred['PromedioLlamadasHora'].round()\n",
    "final_cred['PromedioOcupacion'] = final_cred['PromedioOcupacion']/100\n",
    "cols = ['PromedioOcupacion','EfPagos','ContactoHora']\n",
    "final_cred[cols] = final_cred[cols].round(2)\n",
    "final_cred.fillna(0,inplace=True)\n",
    "final_cred"
   ]
  },
  {
   "cell_type": "code",
   "execution_count": 30,
   "metadata": {},
   "outputs": [],
   "source": [
    "writer = pd.ExcelWriter(''+ruta_guardar+'/Gestores/Credifiel/Reporte Gestor Credifiel '+now+'.xlsx',engine='xlsxwriter')\n",
    "final_cred.to_excel(writer,'BSC',index=False,header=True)\n",
    "gestor_final_cred.to_excel(writer,'MontoRecuperado',index=False,header=True)\n",
    "control_cred_turno.to_excel(writer,'LlamadasDetallado',index=False,header=True)\n",
    "control_performance_cred_turno.to_excel(writer,'PerformanceDetallado',index=False,header=True)\n",
    "pagos_totales_cred.to_excel(writer,'PagosDetallado',index=False,header=True)\n",
    "\n",
    "writer.save()"
   ]
  },
  {
   "cell_type": "code",
   "execution_count": null,
   "metadata": {},
   "outputs": [],
   "source": []
  }
 ]
}