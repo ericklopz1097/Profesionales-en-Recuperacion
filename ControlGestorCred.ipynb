{
 "metadata": {
  "language_info": {
   "codemirror_mode": {
    "name": "ipython",
    "version": 3
   },
   "file_extension": ".py",
   "mimetype": "text/x-python",
   "name": "python",
   "nbconvert_exporter": "python",
   "pygments_lexer": "ipython3",
   "version": "3.8.5-final"
  },
  "orig_nbformat": 2,
  "kernelspec": {
   "name": "python3",
   "display_name": "Python 3",
   "language": "python"
  }
 },
 "nbformat": 4,
 "nbformat_minor": 2,
 "cells": [
  {
   "cell_type": "code",
   "execution_count": 1,
   "metadata": {},
   "outputs": [],
   "source": [
    "import pandas as pd\n",
    "import numpy as np\n",
    "import mysql.connector\n",
    "import os\n",
    "from mysql.connector import Error\n",
    "from datetime import datetime, date, timedelta\n",
    "import re\n",
    "from IPython.core.interactiveshell import InteractiveShell\n",
    "InteractiveShell.ast_node_interactivity = \"all\""
   ]
  },
  {
   "cell_type": "code",
   "execution_count": 2,
   "metadata": {},
   "outputs": [],
   "source": [
    "#Definimos la ruta en donde queremos guardar los archivos\n",
    "ruta_guardar = '/home/estadistico/Documents/Erick/Reportes diarios'\n",
    "ruta_pagos = '/home/estadistico/Documents/Erick'\n",
    "mes = 20201201\n",
    "mes2 = 'Diciembre2020'\n",
    "mes3 = pd.to_datetime('01/12/2020',dayfirst=True)\n",
    "prim_sem_mes = 49"
   ]
  },
  {
   "cell_type": "code",
   "execution_count": 3,
   "metadata": {},
   "outputs": [],
   "source": [
    "#Agregamos las variables a ocupar\n",
    "servidor = '192.168.15.12'\n",
    "puerto = int('3306')\n",
    "usuario = 'estadisticas'\n",
    "contrasena = 'estadisticas8474'\n",
    "base = 'procesos_externos'"
   ]
  },
  {
   "cell_type": "code",
   "execution_count": 4,
   "metadata": {},
   "outputs": [],
   "source": [
    "#Lectura pagos Credifiel\n",
    "sheet_cred = os.listdir(''+ruta_pagos+'/'+str(mes2)+'/Credifiel/Pagos/')\n",
    "pagos_cred = pd.DataFrame()\n",
    "for i in sheet_cred:\n",
    "    pagos_cred_new = pd.read_excel(''+ruta_pagos+'/'+str(mes2)+'/Credifiel/Pagos/'+i+'')\n",
    "    pagos_cred = pd.concat([pagos_cred,pagos_cred_new],ignore_index=True)\n",
    "pagos_cred = pagos_cred.iloc[:,0:5]\n",
    "pagos_cred2 = pd.pivot_table(pagos_cred,index=['ID','FECHA'],values=['IMPORTE'],aggfunc=np.sum)\n",
    "pagos_cred2 = pd.DataFrame(pagos_cred2.to_records())"
   ]
  },
  {
   "cell_type": "code",
   "execution_count": 5,
   "metadata": {},
   "outputs": [],
   "source": [
    "#Lectura asignacion Credifiel\n",
    "sheet_cred2 = os.listdir(''+ruta_pagos+'/'+str(mes2)+'/Credifiel/Asignacion/')\n",
    "asignacion_cred = pd.DataFrame()\n",
    "for j in sheet_cred2:\n",
    "    asignacion_cred_new = pd.read_excel(''+ruta_pagos+'/'+str(mes2)+'/Credifiel/Asignacion/'+j+'')\n",
    "    asignacion_cred = pd.concat([asignacion_cred,asignacion_cred_new],ignore_index=True)\n",
    "asignacion_cred = asignacion_cred.loc[:,['CREDITO','ARANCEL']]\n",
    "#asignacion_cred2 = pd.pivot_table(asignacion_cred,index=['ID','FECHA'],values=['IMPORTE'],aggfunc=np.sum)\n",
    "#asignacion_cred2 = pd.DataFrame(asignacion_cred2.to_records())"
   ]
  },
  {
   "cell_type": "code",
   "execution_count": 6,
   "metadata": {},
   "outputs": [],
   "source": [
    "#Asignamos valores a los parametros \\n\"\n",
    "#today = date.today().strftime('%Y%m%d')\n",
    "today = 20201231\n",
    "now = datetime.now().strftime('%d-%m-%Y %H:%M')\n",
    "hoy = np.datetime64('today')\n",
    "ayer = np.datetime64(date.today() - timedelta(1))\n",
    "today2 = date.today().strftime('%d-%m-%Y')"
   ]
  },
  {
   "cell_type": "code",
   "execution_count": 7,
   "metadata": {},
   "outputs": [],
   "source": [
    "#Hacemos la conexion con el servidor\\n\",\n",
    "try: \n",
    "    conn = mysql.connector.connect(user=usuario,\n",
    "                               password=contrasena,\n",
    "                               host=servidor,\n",
    "                               port=3306,\n",
    "                               database=base)\n",
    "    conn.set_charset_collation('latin1')\n",
    "except mysql.Error as e:\n",
    "    print(\"Failed to execute stored procedure: {}\".format(error))\n",
    "\n",
    "cursor = conn.cursor()"
   ]
  },
  {
   "cell_type": "code",
   "execution_count": 8,
   "metadata": {},
   "outputs": [],
   "source": [
    "#Funcion para hacer la consulta sql, ya sea de gestion o de asignacion en donde requerimos tres parametros, la tabla de donde vamos a sacar la consulta, en caso de asignacin requerimos los otros dos parametros fecha inicial y fecha final\n",
    "def consulta_sql(table,from_date=None,to_date=None,campana=None):\n",
    "    if campana is None:\n",
    "        if from_date is None:\n",
    "            sql_mes = cursor.callproc(table,)\n",
    "            for result in cursor.stored_results():\n",
    "                sql_mes = pd.DataFrame(result.fetchall())\n",
    "        else:\n",
    "            sql_mes = cursor.callproc(table, [from_date,to_date])\n",
    "            for result in cursor.stored_results():\n",
    "                sql_mes = pd.DataFrame(result.fetchall())\n",
    "    else:\n",
    "        sql_mes = cursor.callproc(table, [from_date,to_date,campana])\n",
    "        for result in cursor.stored_results():\n",
    "                sql_mes = pd.DataFrame(result.fetchall())\n",
    "    sql_mes = sql_mes.drop_duplicates()\n",
    "    return sql_mes"
   ]
  },
  {
   "cell_type": "code",
   "execution_count": 9,
   "metadata": {},
   "outputs": [],
   "source": [
    "#Funcion para transformar varias columnas a numero\n",
    "def transform_numeric(df,cols):\n",
    "    return df[cols].apply(pd.to_numeric, errors='coerce')\n",
    "\n",
    "#Funcion que convierte a dataframe y rellena espacios con 0\n",
    "def to_dataframe(df):\n",
    "    df = pd.DataFrame(df.to_records())\n",
    "    df.fillna(0,inplace=True)\n",
    "    return df\n",
    "\n",
    "#Funcion que quita el % del string\n",
    "def percent_tonumeric(df,cols):\n",
    "    for c in cols:\n",
    "        df[c] = [x[:-2] for x in df[c]]\n",
    "    return transform_numeric(df,cols)"
   ]
  },
  {
   "source": [
    "# Llamadas detallado Credifiel"
   ],
   "cell_type": "markdown",
   "metadata": {}
  },
  {
   "cell_type": "code",
   "execution_count": 10,
   "metadata": {},
   "outputs": [
    {
     "output_type": "execute_result",
     "data": {
      "text/plain": [
       "       server_ip            uniqueid call_type           call_date  \\\n",
       "0  192.168.15.21  1606803067.8041239   Inbound 2020-12-01 00:11:08   \n",
       "\n",
       "  campaign_id   campaign_name list_id             list_name   lead_id  \\\n",
       "0     1301_IN  CREDIFIEL_CALL     999  Default inbound list  26748421   \n",
       "\n",
       "  vendor_lead_id  ... call_time_short call_time_hour call_range_hour  \\\n",
       "0     5529935415  ... 0 days 00:11:08              0   00:00 - 01:00   \n",
       "\n",
       "  dialstatus hangup_cause sip_hangup_cause  carrier  areacode  state  region  \n",
       "0     ANSWER           16           200 OK  INBOUND       552   CDMX  CENTRO  \n",
       "\n",
       "[1 rows x 30 columns]"
      ],
      "text/html": "<div>\n<style scoped>\n    .dataframe tbody tr th:only-of-type {\n        vertical-align: middle;\n    }\n\n    .dataframe tbody tr th {\n        vertical-align: top;\n    }\n\n    .dataframe thead th {\n        text-align: right;\n    }\n</style>\n<table border=\"1\" class=\"dataframe\">\n  <thead>\n    <tr style=\"text-align: right;\">\n      <th></th>\n      <th>server_ip</th>\n      <th>uniqueid</th>\n      <th>call_type</th>\n      <th>call_date</th>\n      <th>campaign_id</th>\n      <th>campaign_name</th>\n      <th>list_id</th>\n      <th>list_name</th>\n      <th>lead_id</th>\n      <th>vendor_lead_id</th>\n      <th>...</th>\n      <th>call_time_short</th>\n      <th>call_time_hour</th>\n      <th>call_range_hour</th>\n      <th>dialstatus</th>\n      <th>hangup_cause</th>\n      <th>sip_hangup_cause</th>\n      <th>carrier</th>\n      <th>areacode</th>\n      <th>state</th>\n      <th>region</th>\n    </tr>\n  </thead>\n  <tbody>\n    <tr>\n      <th>0</th>\n      <td>192.168.15.21</td>\n      <td>1606803067.8041239</td>\n      <td>Inbound</td>\n      <td>2020-12-01 00:11:08</td>\n      <td>1301_IN</td>\n      <td>CREDIFIEL_CALL</td>\n      <td>999</td>\n      <td>Default inbound list</td>\n      <td>26748421</td>\n      <td>5529935415</td>\n      <td>...</td>\n      <td>0 days 00:11:08</td>\n      <td>0</td>\n      <td>00:00 - 01:00</td>\n      <td>ANSWER</td>\n      <td>16</td>\n      <td>200 OK</td>\n      <td>INBOUND</td>\n      <td>552</td>\n      <td>CDMX</td>\n      <td>CENTRO</td>\n    </tr>\n  </tbody>\n</table>\n<p>1 rows × 30 columns</p>\n</div>"
     },
     "metadata": {},
     "execution_count": 10
    }
   ],
   "source": [
    "#Hacemos la consulta referente a las gestiones de Credifiel\n",
    "llamadas_cred = consulta_sql('procesos_externos.all_rpt_llamadas_detallado',mes,today,'(^CRED)')\n",
    "llamadas_cred.columns = ['server_ip','uniqueid','call_type','call_date','campaign_id','campaign_name','list_id','list_name','lead_id','vendor_lead_id','vendor_lead_name','phone_number','status','status_name','username','full_name','term_reason_call','queue_seconds','length_in_sec','call_date_short','call_time_short','call_time_hour','call_range_hour','dialstatus','hangup_cause','sip_hangup_cause','carrier','areacode','state','region']\n",
    "llamadas_cred.head(1)"
   ]
  },
  {
   "cell_type": "code",
   "execution_count": 11,
   "metadata": {},
   "outputs": [],
   "source": [
    "llamadas_cred['turno'] = np.where(llamadas_cred['call_time_hour']<=14,'M','V')"
   ]
  },
  {
   "cell_type": "code",
   "execution_count": 12,
   "metadata": {},
   "outputs": [
    {
     "output_type": "execute_result",
     "data": {
      "text/plain": [
       "                                Gestor Turno  NumeroGestionesB  \\\n",
       "0     ALEJANDRA YESENIA HERNANDEZ BITE     V                15   \n",
       "1                 GARCIA CHAVEZ BRAYAN     M              1509   \n",
       "2                 GARCIA CHAVEZ BRAYAN     V               539   \n",
       "3       GONZALEZ MORALES BRENDA MARLEN     M               611   \n",
       "4       GONZALEZ MORALES BRENDA MARLEN     V               107   \n",
       "5            HERNANDEZ GALINDO RODRIGO     M               576   \n",
       "6   HERNANDEZ VELASCO YALITZI AZAYAEEL     M                 6   \n",
       "7                     Inbound No Agent     M               218   \n",
       "8                     Inbound No Agent     V               184   \n",
       "9           LAZARO LOPEZ VICTOR MANUEL     M                78   \n",
       "10          LAZARO LOPEZ VICTOR MANUEL     V               407   \n",
       "11             MARTINEZ RODRIGUEZ JUAN     V                80   \n",
       "12               MEDINA ARIAS MAURICIO     M              1401   \n",
       "13      MISHELLLE ADYANI CHAVEZ CASTRO     M              1017   \n",
       "14      MISHELLLE ADYANI CHAVEZ CASTRO     V              1598   \n",
       "15                  Outbound Auto Dial     M             35540   \n",
       "16                  Outbound Auto Dial     V             19773   \n",
       "17          QUINTOS ARVIZU LUIS DANIEL     M              6618   \n",
       "18          QUINTOS ARVIZU LUIS DANIEL     V              2376   \n",
       "19          ZARZA NORIA JEFREY ALBERTO     M              2833   \n",
       "20          ZARZA NORIA JEFREY ALBERTO     V              2088   \n",
       "\n",
       "    TiempoTotalSegB  PromedioLlamadaSegB  TiempoTotalMinB  \n",
       "0               592            39.466667         9.866667  \n",
       "1            134254            88.968854      2237.566667  \n",
       "2             33406            61.977737       556.766667  \n",
       "3             28393            46.469722       473.216667  \n",
       "4              4470            41.775701        74.500000  \n",
       "5             25578            44.406250       426.300000  \n",
       "6               267            44.500000         4.450000  \n",
       "7             11782            54.045872       196.366667  \n",
       "8             10341            56.201087       172.350000  \n",
       "9              3165            40.576923        52.750000  \n",
       "10            28774            70.697789       479.566667  \n",
       "11             2258            28.225000        37.633333  \n",
       "12            86849            61.990721      1447.483333  \n",
       "13            43798            43.065880       729.966667  \n",
       "14            65064            40.715895      1084.400000  \n",
       "15             7621             0.214434       127.016667  \n",
       "16             4049             0.204774        67.483333  \n",
       "17           231053            34.912814      3850.883333  \n",
       "18            82468            34.708754      1374.466667  \n",
       "19           150794            53.227674      2513.233333  \n",
       "20           120619            57.767720      2010.316667  "
      ],
      "text/html": "<div>\n<style scoped>\n    .dataframe tbody tr th:only-of-type {\n        vertical-align: middle;\n    }\n\n    .dataframe tbody tr th {\n        vertical-align: top;\n    }\n\n    .dataframe thead th {\n        text-align: right;\n    }\n</style>\n<table border=\"1\" class=\"dataframe\">\n  <thead>\n    <tr style=\"text-align: right;\">\n      <th></th>\n      <th>Gestor</th>\n      <th>Turno</th>\n      <th>NumeroGestionesB</th>\n      <th>TiempoTotalSegB</th>\n      <th>PromedioLlamadaSegB</th>\n      <th>TiempoTotalMinB</th>\n    </tr>\n  </thead>\n  <tbody>\n    <tr>\n      <th>0</th>\n      <td>ALEJANDRA YESENIA HERNANDEZ BITE</td>\n      <td>V</td>\n      <td>15</td>\n      <td>592</td>\n      <td>39.466667</td>\n      <td>9.866667</td>\n    </tr>\n    <tr>\n      <th>1</th>\n      <td>GARCIA CHAVEZ BRAYAN</td>\n      <td>M</td>\n      <td>1509</td>\n      <td>134254</td>\n      <td>88.968854</td>\n      <td>2237.566667</td>\n    </tr>\n    <tr>\n      <th>2</th>\n      <td>GARCIA CHAVEZ BRAYAN</td>\n      <td>V</td>\n      <td>539</td>\n      <td>33406</td>\n      <td>61.977737</td>\n      <td>556.766667</td>\n    </tr>\n    <tr>\n      <th>3</th>\n      <td>GONZALEZ MORALES BRENDA MARLEN</td>\n      <td>M</td>\n      <td>611</td>\n      <td>28393</td>\n      <td>46.469722</td>\n      <td>473.216667</td>\n    </tr>\n    <tr>\n      <th>4</th>\n      <td>GONZALEZ MORALES BRENDA MARLEN</td>\n      <td>V</td>\n      <td>107</td>\n      <td>4470</td>\n      <td>41.775701</td>\n      <td>74.500000</td>\n    </tr>\n    <tr>\n      <th>5</th>\n      <td>HERNANDEZ GALINDO RODRIGO</td>\n      <td>M</td>\n      <td>576</td>\n      <td>25578</td>\n      <td>44.406250</td>\n      <td>426.300000</td>\n    </tr>\n    <tr>\n      <th>6</th>\n      <td>HERNANDEZ VELASCO YALITZI AZAYAEEL</td>\n      <td>M</td>\n      <td>6</td>\n      <td>267</td>\n      <td>44.500000</td>\n      <td>4.450000</td>\n    </tr>\n    <tr>\n      <th>7</th>\n      <td>Inbound No Agent</td>\n      <td>M</td>\n      <td>218</td>\n      <td>11782</td>\n      <td>54.045872</td>\n      <td>196.366667</td>\n    </tr>\n    <tr>\n      <th>8</th>\n      <td>Inbound No Agent</td>\n      <td>V</td>\n      <td>184</td>\n      <td>10341</td>\n      <td>56.201087</td>\n      <td>172.350000</td>\n    </tr>\n    <tr>\n      <th>9</th>\n      <td>LAZARO LOPEZ VICTOR MANUEL</td>\n      <td>M</td>\n      <td>78</td>\n      <td>3165</td>\n      <td>40.576923</td>\n      <td>52.750000</td>\n    </tr>\n    <tr>\n      <th>10</th>\n      <td>LAZARO LOPEZ VICTOR MANUEL</td>\n      <td>V</td>\n      <td>407</td>\n      <td>28774</td>\n      <td>70.697789</td>\n      <td>479.566667</td>\n    </tr>\n    <tr>\n      <th>11</th>\n      <td>MARTINEZ RODRIGUEZ JUAN</td>\n      <td>V</td>\n      <td>80</td>\n      <td>2258</td>\n      <td>28.225000</td>\n      <td>37.633333</td>\n    </tr>\n    <tr>\n      <th>12</th>\n      <td>MEDINA ARIAS MAURICIO</td>\n      <td>M</td>\n      <td>1401</td>\n      <td>86849</td>\n      <td>61.990721</td>\n      <td>1447.483333</td>\n    </tr>\n    <tr>\n      <th>13</th>\n      <td>MISHELLLE ADYANI CHAVEZ CASTRO</td>\n      <td>M</td>\n      <td>1017</td>\n      <td>43798</td>\n      <td>43.065880</td>\n      <td>729.966667</td>\n    </tr>\n    <tr>\n      <th>14</th>\n      <td>MISHELLLE ADYANI CHAVEZ CASTRO</td>\n      <td>V</td>\n      <td>1598</td>\n      <td>65064</td>\n      <td>40.715895</td>\n      <td>1084.400000</td>\n    </tr>\n    <tr>\n      <th>15</th>\n      <td>Outbound Auto Dial</td>\n      <td>M</td>\n      <td>35540</td>\n      <td>7621</td>\n      <td>0.214434</td>\n      <td>127.016667</td>\n    </tr>\n    <tr>\n      <th>16</th>\n      <td>Outbound Auto Dial</td>\n      <td>V</td>\n      <td>19773</td>\n      <td>4049</td>\n      <td>0.204774</td>\n      <td>67.483333</td>\n    </tr>\n    <tr>\n      <th>17</th>\n      <td>QUINTOS ARVIZU LUIS DANIEL</td>\n      <td>M</td>\n      <td>6618</td>\n      <td>231053</td>\n      <td>34.912814</td>\n      <td>3850.883333</td>\n    </tr>\n    <tr>\n      <th>18</th>\n      <td>QUINTOS ARVIZU LUIS DANIEL</td>\n      <td>V</td>\n      <td>2376</td>\n      <td>82468</td>\n      <td>34.708754</td>\n      <td>1374.466667</td>\n    </tr>\n    <tr>\n      <th>19</th>\n      <td>ZARZA NORIA JEFREY ALBERTO</td>\n      <td>M</td>\n      <td>2833</td>\n      <td>150794</td>\n      <td>53.227674</td>\n      <td>2513.233333</td>\n    </tr>\n    <tr>\n      <th>20</th>\n      <td>ZARZA NORIA JEFREY ALBERTO</td>\n      <td>V</td>\n      <td>2088</td>\n      <td>120619</td>\n      <td>57.767720</td>\n      <td>2010.316667</td>\n    </tr>\n  </tbody>\n</table>\n</div>"
     },
     "metadata": {},
     "execution_count": 12
    }
   ],
   "source": [
    "#Obtenemos el performance bruto de cada gestor\n",
    "control_gestores_bruto_cred = pd.pivot_table(llamadas_cred,index=['full_name','turno'],values=['length_in_sec'],aggfunc=[np.sum,np.mean,'count'])\n",
    "control_gestores_bruto_cred = to_dataframe(control_gestores_bruto_cred)\n",
    "control_gestores_bruto_cred = control_gestores_bruto_cred.iloc[:,[0,1,4,2,3]]\n",
    "control_gestores_bruto_cred.columns = ['Gestor','Turno','NumeroGestionesB','TiempoTotalSegB','PromedioLlamadaSegB']\n",
    "control_gestores_bruto_cred['TiempoTotalMinB'] = [x/60 for x in control_gestores_bruto_cred['TiempoTotalSegB']]\n",
    "control_gestores_bruto_cred"
   ]
  },
  {
   "cell_type": "code",
   "execution_count": 13,
   "metadata": {},
   "outputs": [
    {
     "output_type": "execute_result",
     "data": {
      "text/plain": [
       "                              Gestor Turno  NumeroGestiones  TiempoTotalSeg  \\\n",
       "0   ALEJANDRA YESENIA HERNANDEZ BITE     V                1               8   \n",
       "1               GARCIA CHAVEZ BRAYAN     M               29            4788   \n",
       "2               GARCIA CHAVEZ BRAYAN     V               10            1129   \n",
       "3     GONZALEZ MORALES BRENDA MARLEN     M               24            2008   \n",
       "4     GONZALEZ MORALES BRENDA MARLEN     V                1              74   \n",
       "5          HERNANDEZ GALINDO RODRIGO     M               45            5812   \n",
       "6         LAZARO LOPEZ VICTOR MANUEL     M                2             659   \n",
       "7         LAZARO LOPEZ VICTOR MANUEL     V               45            6646   \n",
       "8            MARTINEZ RODRIGUEZ JUAN     V                1              83   \n",
       "9              MEDINA ARIAS MAURICIO     M               20            3583   \n",
       "10    MISHELLLE ADYANI CHAVEZ CASTRO     M               33            7088   \n",
       "11    MISHELLLE ADYANI CHAVEZ CASTRO     V               49            6975   \n",
       "12        QUINTOS ARVIZU LUIS DANIEL     M               72            8183   \n",
       "13        QUINTOS ARVIZU LUIS DANIEL     V               11            1790   \n",
       "14        ZARZA NORIA JEFREY ALBERTO     M                4             315   \n",
       "15        ZARZA NORIA JEFREY ALBERTO     V                6             305   \n",
       "\n",
       "    PromedioLlamadaSeg  TiempoTotalMin  \n",
       "0             8.000000        0.133333  \n",
       "1           165.103448       79.800000  \n",
       "2           112.900000       18.816667  \n",
       "3            83.666667       33.466667  \n",
       "4            74.000000        1.233333  \n",
       "5           129.155556       96.866667  \n",
       "6           329.500000       10.983333  \n",
       "7           147.688889      110.766667  \n",
       "8            83.000000        1.383333  \n",
       "9           179.150000       59.716667  \n",
       "10          214.787879      118.133333  \n",
       "11          142.346939      116.250000  \n",
       "12          113.652778      136.383333  \n",
       "13          162.727273       29.833333  \n",
       "14           78.750000        5.250000  \n",
       "15           50.833333        5.083333  "
      ],
      "text/html": "<div>\n<style scoped>\n    .dataframe tbody tr th:only-of-type {\n        vertical-align: middle;\n    }\n\n    .dataframe tbody tr th {\n        vertical-align: top;\n    }\n\n    .dataframe thead th {\n        text-align: right;\n    }\n</style>\n<table border=\"1\" class=\"dataframe\">\n  <thead>\n    <tr style=\"text-align: right;\">\n      <th></th>\n      <th>Gestor</th>\n      <th>Turno</th>\n      <th>NumeroGestiones</th>\n      <th>TiempoTotalSeg</th>\n      <th>PromedioLlamadaSeg</th>\n      <th>TiempoTotalMin</th>\n    </tr>\n  </thead>\n  <tbody>\n    <tr>\n      <th>0</th>\n      <td>ALEJANDRA YESENIA HERNANDEZ BITE</td>\n      <td>V</td>\n      <td>1</td>\n      <td>8</td>\n      <td>8.000000</td>\n      <td>0.133333</td>\n    </tr>\n    <tr>\n      <th>1</th>\n      <td>GARCIA CHAVEZ BRAYAN</td>\n      <td>M</td>\n      <td>29</td>\n      <td>4788</td>\n      <td>165.103448</td>\n      <td>79.800000</td>\n    </tr>\n    <tr>\n      <th>2</th>\n      <td>GARCIA CHAVEZ BRAYAN</td>\n      <td>V</td>\n      <td>10</td>\n      <td>1129</td>\n      <td>112.900000</td>\n      <td>18.816667</td>\n    </tr>\n    <tr>\n      <th>3</th>\n      <td>GONZALEZ MORALES BRENDA MARLEN</td>\n      <td>M</td>\n      <td>24</td>\n      <td>2008</td>\n      <td>83.666667</td>\n      <td>33.466667</td>\n    </tr>\n    <tr>\n      <th>4</th>\n      <td>GONZALEZ MORALES BRENDA MARLEN</td>\n      <td>V</td>\n      <td>1</td>\n      <td>74</td>\n      <td>74.000000</td>\n      <td>1.233333</td>\n    </tr>\n    <tr>\n      <th>5</th>\n      <td>HERNANDEZ GALINDO RODRIGO</td>\n      <td>M</td>\n      <td>45</td>\n      <td>5812</td>\n      <td>129.155556</td>\n      <td>96.866667</td>\n    </tr>\n    <tr>\n      <th>6</th>\n      <td>LAZARO LOPEZ VICTOR MANUEL</td>\n      <td>M</td>\n      <td>2</td>\n      <td>659</td>\n      <td>329.500000</td>\n      <td>10.983333</td>\n    </tr>\n    <tr>\n      <th>7</th>\n      <td>LAZARO LOPEZ VICTOR MANUEL</td>\n      <td>V</td>\n      <td>45</td>\n      <td>6646</td>\n      <td>147.688889</td>\n      <td>110.766667</td>\n    </tr>\n    <tr>\n      <th>8</th>\n      <td>MARTINEZ RODRIGUEZ JUAN</td>\n      <td>V</td>\n      <td>1</td>\n      <td>83</td>\n      <td>83.000000</td>\n      <td>1.383333</td>\n    </tr>\n    <tr>\n      <th>9</th>\n      <td>MEDINA ARIAS MAURICIO</td>\n      <td>M</td>\n      <td>20</td>\n      <td>3583</td>\n      <td>179.150000</td>\n      <td>59.716667</td>\n    </tr>\n    <tr>\n      <th>10</th>\n      <td>MISHELLLE ADYANI CHAVEZ CASTRO</td>\n      <td>M</td>\n      <td>33</td>\n      <td>7088</td>\n      <td>214.787879</td>\n      <td>118.133333</td>\n    </tr>\n    <tr>\n      <th>11</th>\n      <td>MISHELLLE ADYANI CHAVEZ CASTRO</td>\n      <td>V</td>\n      <td>49</td>\n      <td>6975</td>\n      <td>142.346939</td>\n      <td>116.250000</td>\n    </tr>\n    <tr>\n      <th>12</th>\n      <td>QUINTOS ARVIZU LUIS DANIEL</td>\n      <td>M</td>\n      <td>72</td>\n      <td>8183</td>\n      <td>113.652778</td>\n      <td>136.383333</td>\n    </tr>\n    <tr>\n      <th>13</th>\n      <td>QUINTOS ARVIZU LUIS DANIEL</td>\n      <td>V</td>\n      <td>11</td>\n      <td>1790</td>\n      <td>162.727273</td>\n      <td>29.833333</td>\n    </tr>\n    <tr>\n      <th>14</th>\n      <td>ZARZA NORIA JEFREY ALBERTO</td>\n      <td>M</td>\n      <td>4</td>\n      <td>315</td>\n      <td>78.750000</td>\n      <td>5.250000</td>\n    </tr>\n    <tr>\n      <th>15</th>\n      <td>ZARZA NORIA JEFREY ALBERTO</td>\n      <td>V</td>\n      <td>6</td>\n      <td>305</td>\n      <td>50.833333</td>\n      <td>5.083333</td>\n    </tr>\n  </tbody>\n</table>\n</div>"
     },
     "metadata": {},
     "execution_count": 13
    }
   ],
   "source": [
    "#Obtenemos el performance de las llamadas contestadas\n",
    "llamadas_cred2 = llamadas_cred.loc[llamadas_cred['status_name'].isin(['Contacto con titular','Promesa de pago','Mensaje con terceros','Mensaje con familiar','Negativa de pago','Contacto familiar','Agendar llamada'])]\n",
    "control_gestores_llamadas_cred = pd.pivot_table(llamadas_cred2,index=['full_name','turno'],values=['length_in_sec'],aggfunc=[np.sum,np.mean,'count'])\n",
    "control_gestores_llamadas_cred = to_dataframe(control_gestores_llamadas_cred)\n",
    "control_gestores_llamadas_cred = control_gestores_llamadas_cred.iloc[:,[0,1,4,2,3]]\n",
    "control_gestores_llamadas_cred.columns = ['Gestor','Turno','NumeroGestiones','TiempoTotalSeg','PromedioLlamadaSeg']\n",
    "control_gestores_llamadas_cred['TiempoTotalMin'] = [x/60 for x in control_gestores_llamadas_cred['TiempoTotalSeg']]\n",
    "control_gestores_llamadas_cred"
   ]
  },
  {
   "cell_type": "code",
   "execution_count": 14,
   "metadata": {},
   "outputs": [
    {
     "output_type": "execute_result",
     "data": {
      "text/plain": [
       "                             Gestor Turno  NumeroGestionesB  TiempoTotalSegB  \\\n",
       "0  ALEJANDRA YESENIA HERNANDEZ BITE     V                15              592   \n",
       "1              GARCIA CHAVEZ BRAYAN     M              1509           134254   \n",
       "\n",
       "   PromedioLlamadaSegB  TiempoTotalMinB  NumeroGestiones  TiempoTotalSeg  \\\n",
       "0            39.466667         9.866667              1.0             8.0   \n",
       "1            88.968854      2237.566667             29.0          4788.0   \n",
       "\n",
       "   PromedioLlamadaSeg  TiempoTotalMin  \n",
       "0            8.000000        0.133333  \n",
       "1          165.103448       79.800000  "
      ],
      "text/html": "<div>\n<style scoped>\n    .dataframe tbody tr th:only-of-type {\n        vertical-align: middle;\n    }\n\n    .dataframe tbody tr th {\n        vertical-align: top;\n    }\n\n    .dataframe thead th {\n        text-align: right;\n    }\n</style>\n<table border=\"1\" class=\"dataframe\">\n  <thead>\n    <tr style=\"text-align: right;\">\n      <th></th>\n      <th>Gestor</th>\n      <th>Turno</th>\n      <th>NumeroGestionesB</th>\n      <th>TiempoTotalSegB</th>\n      <th>PromedioLlamadaSegB</th>\n      <th>TiempoTotalMinB</th>\n      <th>NumeroGestiones</th>\n      <th>TiempoTotalSeg</th>\n      <th>PromedioLlamadaSeg</th>\n      <th>TiempoTotalMin</th>\n    </tr>\n  </thead>\n  <tbody>\n    <tr>\n      <th>0</th>\n      <td>ALEJANDRA YESENIA HERNANDEZ BITE</td>\n      <td>V</td>\n      <td>15</td>\n      <td>592</td>\n      <td>39.466667</td>\n      <td>9.866667</td>\n      <td>1.0</td>\n      <td>8.0</td>\n      <td>8.000000</td>\n      <td>0.133333</td>\n    </tr>\n    <tr>\n      <th>1</th>\n      <td>GARCIA CHAVEZ BRAYAN</td>\n      <td>M</td>\n      <td>1509</td>\n      <td>134254</td>\n      <td>88.968854</td>\n      <td>2237.566667</td>\n      <td>29.0</td>\n      <td>4788.0</td>\n      <td>165.103448</td>\n      <td>79.800000</td>\n    </tr>\n  </tbody>\n</table>\n</div>"
     },
     "metadata": {},
     "execution_count": 14
    }
   ],
   "source": [
    "control_cred_turno = pd.merge(control_gestores_bruto_cred,control_gestores_llamadas_cred,how='left',on=['Gestor','Turno'])\n",
    "control_cred_turno.fillna(0,inplace=True)\n",
    "control_cred_turno.head(2)"
   ]
  },
  {
   "cell_type": "code",
   "execution_count": 15,
   "metadata": {},
   "outputs": [
    {
     "output_type": "execute_result",
     "data": {
      "text/plain": [
       "                             Gestor  NumeroGestiones  TiempoTotalSeg  \\\n",
       "0  ALEJANDRA YESENIA HERNANDEZ BITE                1               8   \n",
       "1              GARCIA CHAVEZ BRAYAN               39            5917   \n",
       "2    GONZALEZ MORALES BRENDA MARLEN               25            2082   \n",
       "3         HERNANDEZ GALINDO RODRIGO               45            5812   \n",
       "4        LAZARO LOPEZ VICTOR MANUEL               47            7305   \n",
       "5           MARTINEZ RODRIGUEZ JUAN                1              83   \n",
       "6             MEDINA ARIAS MAURICIO               20            3583   \n",
       "7    MISHELLLE ADYANI CHAVEZ CASTRO               82           14063   \n",
       "8        QUINTOS ARVIZU LUIS DANIEL               83            9973   \n",
       "9        ZARZA NORIA JEFREY ALBERTO               10             620   \n",
       "\n",
       "   PromedioLlamadaSeg  TiempoTotalMin  \n",
       "0            8.000000        0.133333  \n",
       "1          151.717949       98.616667  \n",
       "2           83.280000       34.700000  \n",
       "3          129.155556       96.866667  \n",
       "4          155.425532      121.750000  \n",
       "5           83.000000        1.383333  \n",
       "6          179.150000       59.716667  \n",
       "7          171.500000      234.383333  \n",
       "8          120.156627      166.216667  \n",
       "9           62.000000       10.333333  "
      ],
      "text/html": "<div>\n<style scoped>\n    .dataframe tbody tr th:only-of-type {\n        vertical-align: middle;\n    }\n\n    .dataframe tbody tr th {\n        vertical-align: top;\n    }\n\n    .dataframe thead th {\n        text-align: right;\n    }\n</style>\n<table border=\"1\" class=\"dataframe\">\n  <thead>\n    <tr style=\"text-align: right;\">\n      <th></th>\n      <th>Gestor</th>\n      <th>NumeroGestiones</th>\n      <th>TiempoTotalSeg</th>\n      <th>PromedioLlamadaSeg</th>\n      <th>TiempoTotalMin</th>\n    </tr>\n  </thead>\n  <tbody>\n    <tr>\n      <th>0</th>\n      <td>ALEJANDRA YESENIA HERNANDEZ BITE</td>\n      <td>1</td>\n      <td>8</td>\n      <td>8.000000</td>\n      <td>0.133333</td>\n    </tr>\n    <tr>\n      <th>1</th>\n      <td>GARCIA CHAVEZ BRAYAN</td>\n      <td>39</td>\n      <td>5917</td>\n      <td>151.717949</td>\n      <td>98.616667</td>\n    </tr>\n    <tr>\n      <th>2</th>\n      <td>GONZALEZ MORALES BRENDA MARLEN</td>\n      <td>25</td>\n      <td>2082</td>\n      <td>83.280000</td>\n      <td>34.700000</td>\n    </tr>\n    <tr>\n      <th>3</th>\n      <td>HERNANDEZ GALINDO RODRIGO</td>\n      <td>45</td>\n      <td>5812</td>\n      <td>129.155556</td>\n      <td>96.866667</td>\n    </tr>\n    <tr>\n      <th>4</th>\n      <td>LAZARO LOPEZ VICTOR MANUEL</td>\n      <td>47</td>\n      <td>7305</td>\n      <td>155.425532</td>\n      <td>121.750000</td>\n    </tr>\n    <tr>\n      <th>5</th>\n      <td>MARTINEZ RODRIGUEZ JUAN</td>\n      <td>1</td>\n      <td>83</td>\n      <td>83.000000</td>\n      <td>1.383333</td>\n    </tr>\n    <tr>\n      <th>6</th>\n      <td>MEDINA ARIAS MAURICIO</td>\n      <td>20</td>\n      <td>3583</td>\n      <td>179.150000</td>\n      <td>59.716667</td>\n    </tr>\n    <tr>\n      <th>7</th>\n      <td>MISHELLLE ADYANI CHAVEZ CASTRO</td>\n      <td>82</td>\n      <td>14063</td>\n      <td>171.500000</td>\n      <td>234.383333</td>\n    </tr>\n    <tr>\n      <th>8</th>\n      <td>QUINTOS ARVIZU LUIS DANIEL</td>\n      <td>83</td>\n      <td>9973</td>\n      <td>120.156627</td>\n      <td>166.216667</td>\n    </tr>\n    <tr>\n      <th>9</th>\n      <td>ZARZA NORIA JEFREY ALBERTO</td>\n      <td>10</td>\n      <td>620</td>\n      <td>62.000000</td>\n      <td>10.333333</td>\n    </tr>\n  </tbody>\n</table>\n</div>"
     },
     "metadata": {},
     "execution_count": 15
    }
   ],
   "source": [
    "#Obtenemos el performance de las llamadas contestadas\n",
    "control_gestores_total_cred = pd.pivot_table(llamadas_cred2,index=['full_name'],values=['length_in_sec'],aggfunc=[np.sum,np.mean,'count'])\n",
    "control_gestores_total_cred = to_dataframe(control_gestores_total_cred)\n",
    "control_gestores_total_cred = control_gestores_total_cred.iloc[:,[0,3,1,2]]\n",
    "control_gestores_total_cred.columns = ['Gestor','NumeroGestiones','TiempoTotalSeg','PromedioLlamadaSeg']\n",
    "control_gestores_total_cred['TiempoTotalMin'] = [x/60 for x in control_gestores_total_cred['TiempoTotalSeg']]\n",
    "control_gestores_total_cred"
   ]
  },
  {
   "source": [
    "# Performance Credifiel"
   ],
   "cell_type": "markdown",
   "metadata": {}
  },
  {
   "cell_type": "code",
   "execution_count": 16,
   "metadata": {},
   "outputs": [],
   "source": [
    "#Hacemos la consulta referente al performance del Gestor\n",
    "performance_all = consulta_sql('procesos_externos.all_rpt_agent_performance',mes,today)\n",
    "performance_all.columns = ['fecha','usuario','nombre_usuario','user_group','llamadas','aht','ocupacion','adherencia','login_vici','logout_vici','staff_time','wait_time','talk_time','dispo_time','pause','login','manual','gestion','agua','alimentos','sanitario','retroalimentacion','tranferencia','validacion','whatsapp','incumplimiento','recordatorios','capacitacion','sistemas','lagged','tipificando','*']"
   ]
  },
  {
   "cell_type": "code",
   "execution_count": 17,
   "metadata": {},
   "outputs": [],
   "source": [
    "performance_cred = performance_all.loc[performance_all['user_group']=='AFINES']\n",
    "performance_cred[['ocupacion','adherencia']] = percent_tonumeric(performance_cred,['ocupacion','adherencia'])"
   ]
  },
  {
   "cell_type": "code",
   "execution_count": 18,
   "metadata": {},
   "outputs": [],
   "source": [
    "performance_cred['hora_login'] = [int(x[:2]) for x in performance_cred['login_vici']]\n",
    "performance_cred['hora_logout'] = [int(x[:2]) for x in performance_cred['logout_vici']]\n",
    "performance_cred['turno'] = np.where((performance_cred['hora_logout']<=14)&(performance_cred['hora_logout']-performance_cred['hora_login']<=8),'M',\n",
    "                                    np.where((performance_cred['hora_logout']>17)&(performance_cred['hora_logout']-performance_cred['hora_login']<=8),'V','Mixto'))"
   ]
  },
  {
   "cell_type": "code",
   "execution_count": 19,
   "metadata": {},
   "outputs": [
    {
     "output_type": "execute_result",
     "data": {
      "text/plain": [
       "         fecha      usuario        nombre_usuario user_group  llamadas  \\\n",
       "89  2020-12-01  GACHAVEZBRA  GARCIA CHAVEZ BRAYAN     AFINES       136   \n",
       "\n",
       "         aht  ocupacion  adherencia login_vici logout_vici  ... capacitacion  \\\n",
       "89  00:01:18      33.23       64.35   07:09:39    14:00:06  ...     00:00:00   \n",
       "\n",
       "    sistemas    lagged tipificando         * hora_login hora_logout turno  \\\n",
       "89  00:00:00  00:00:33    00:51:56  00:00:01          7          14     M   \n",
       "\n",
       "   horas_trabajadas llamadas_hora  \n",
       "89                7          19.4  \n",
       "\n",
       "[1 rows x 37 columns]"
      ],
      "text/html": "<div>\n<style scoped>\n    .dataframe tbody tr th:only-of-type {\n        vertical-align: middle;\n    }\n\n    .dataframe tbody tr th {\n        vertical-align: top;\n    }\n\n    .dataframe thead th {\n        text-align: right;\n    }\n</style>\n<table border=\"1\" class=\"dataframe\">\n  <thead>\n    <tr style=\"text-align: right;\">\n      <th></th>\n      <th>fecha</th>\n      <th>usuario</th>\n      <th>nombre_usuario</th>\n      <th>user_group</th>\n      <th>llamadas</th>\n      <th>aht</th>\n      <th>ocupacion</th>\n      <th>adherencia</th>\n      <th>login_vici</th>\n      <th>logout_vici</th>\n      <th>...</th>\n      <th>capacitacion</th>\n      <th>sistemas</th>\n      <th>lagged</th>\n      <th>tipificando</th>\n      <th>*</th>\n      <th>hora_login</th>\n      <th>hora_logout</th>\n      <th>turno</th>\n      <th>horas_trabajadas</th>\n      <th>llamadas_hora</th>\n    </tr>\n  </thead>\n  <tbody>\n    <tr>\n      <th>89</th>\n      <td>2020-12-01</td>\n      <td>GACHAVEZBRA</td>\n      <td>GARCIA CHAVEZ BRAYAN</td>\n      <td>AFINES</td>\n      <td>136</td>\n      <td>00:01:18</td>\n      <td>33.23</td>\n      <td>64.35</td>\n      <td>07:09:39</td>\n      <td>14:00:06</td>\n      <td>...</td>\n      <td>00:00:00</td>\n      <td>00:00:00</td>\n      <td>00:00:33</td>\n      <td>00:51:56</td>\n      <td>00:00:01</td>\n      <td>7</td>\n      <td>14</td>\n      <td>M</td>\n      <td>7</td>\n      <td>19.4</td>\n    </tr>\n  </tbody>\n</table>\n<p>1 rows × 37 columns</p>\n</div>"
     },
     "metadata": {},
     "execution_count": 19
    }
   ],
   "source": [
    "performance_cred['horas_trabajadas'] = performance_cred['hora_logout']-performance_cred['hora_login']\n",
    "performance_cred['llamadas_hora'] = performance_cred['llamadas']/performance_cred['horas_trabajadas']\n",
    "performance_cred['llamadas_hora'] = performance_cred['llamadas_hora'].round(1)\n",
    "performance_cred.head(1)"
   ]
  },
  {
   "cell_type": "code",
   "execution_count": 20,
   "metadata": {},
   "outputs": [
    {
     "output_type": "execute_result",
     "data": {
      "text/plain": [
       "                          Gestor Turno  SumLlamadasDia  SumLlamadasHora  \\\n",
       "0  AGUILAR RIOS DANIEL ALEJANDRO     M            3077            509.3   \n",
       "\n",
       "   SumOcupacion  PromedioLlamadasDia  PromedioLlamadasHora  PromedioOcupacion  \\\n",
       "0         360.3           341.888889             56.588889          40.033333   \n",
       "\n",
       "   DiasAsitencia  MinLlamadasDia  MinLlamadasHora  MinOcupacion  \\\n",
       "0              9             108             44.4         29.16   \n",
       "\n",
       "   MaxLlamadasDia  MaxLlamadasHora  MaxOcupacion  \n",
       "0             487             81.2         58.45  "
      ],
      "text/html": "<div>\n<style scoped>\n    .dataframe tbody tr th:only-of-type {\n        vertical-align: middle;\n    }\n\n    .dataframe tbody tr th {\n        vertical-align: top;\n    }\n\n    .dataframe thead th {\n        text-align: right;\n    }\n</style>\n<table border=\"1\" class=\"dataframe\">\n  <thead>\n    <tr style=\"text-align: right;\">\n      <th></th>\n      <th>Gestor</th>\n      <th>Turno</th>\n      <th>SumLlamadasDia</th>\n      <th>SumLlamadasHora</th>\n      <th>SumOcupacion</th>\n      <th>PromedioLlamadasDia</th>\n      <th>PromedioLlamadasHora</th>\n      <th>PromedioOcupacion</th>\n      <th>DiasAsitencia</th>\n      <th>MinLlamadasDia</th>\n      <th>MinLlamadasHora</th>\n      <th>MinOcupacion</th>\n      <th>MaxLlamadasDia</th>\n      <th>MaxLlamadasHora</th>\n      <th>MaxOcupacion</th>\n    </tr>\n  </thead>\n  <tbody>\n    <tr>\n      <th>0</th>\n      <td>AGUILAR RIOS DANIEL ALEJANDRO</td>\n      <td>M</td>\n      <td>3077</td>\n      <td>509.3</td>\n      <td>360.3</td>\n      <td>341.888889</td>\n      <td>56.588889</td>\n      <td>40.033333</td>\n      <td>9</td>\n      <td>108</td>\n      <td>44.4</td>\n      <td>29.16</td>\n      <td>487</td>\n      <td>81.2</td>\n      <td>58.45</td>\n    </tr>\n  </tbody>\n</table>\n</div>"
     },
     "metadata": {},
     "execution_count": 20
    }
   ],
   "source": [
    "control_performance_cred_turno = pd.pivot_table(performance_cred,index=['nombre_usuario','turno'],values=['llamadas','ocupacion','llamadas_hora'],aggfunc=[np.sum,np.mean,'count',min,max])\n",
    "control_performance_cred_turno = to_dataframe(control_performance_cred_turno)\n",
    "control_performance_cred_turno = control_performance_cred_turno.iloc[:,[0,1,2,3,4,5,6,7,8,11,12,13,14,15,16]]\n",
    "control_performance_cred_turno.columns = ['Gestor','Turno','SumLlamadasDia','SumLlamadasHora','SumOcupacion','PromedioLlamadasDia','PromedioLlamadasHora','PromedioOcupacion','DiasAsitencia','MinLlamadasDia','MinLlamadasHora','MinOcupacion','MaxLlamadasDia','MaxLlamadasHora','MaxOcupacion']\n",
    "control_performance_cred_turno.head(1)"
   ]
  },
  {
   "cell_type": "code",
   "execution_count": 21,
   "metadata": {},
   "outputs": [],
   "source": [
    "control_performance_cred_turno2 = control_performance_cred_turno[['Gestor','Turno','PromedioLlamadasHora','PromedioOcupacion']]"
   ]
  },
  {
   "cell_type": "code",
   "execution_count": 22,
   "metadata": {},
   "outputs": [
    {
     "output_type": "execute_result",
     "data": {
      "text/plain": [
       "                                 Gestor  SumHorasTrabajadas  SumLlamadasDia  \\\n",
       "0         AGUILAR RIOS DANIEL ALEJANDRO                  68            3857   \n",
       "1  CASTILLEJO CASTILLEJO DULCE MICHELLE                  21             655   \n",
       "2                  GARCIA CHAVEZ BRAYAN                 209            2748   \n",
       "\n",
       "   PromedioLlamadasDia  PromedioLlamadasHora  PromedioOcupacion  \n",
       "0           350.636364             56.981818          38.271818  \n",
       "1           218.333333             31.200000          50.483333  \n",
       "2           119.478261             13.460870          27.853478  "
      ],
      "text/html": "<div>\n<style scoped>\n    .dataframe tbody tr th:only-of-type {\n        vertical-align: middle;\n    }\n\n    .dataframe tbody tr th {\n        vertical-align: top;\n    }\n\n    .dataframe thead th {\n        text-align: right;\n    }\n</style>\n<table border=\"1\" class=\"dataframe\">\n  <thead>\n    <tr style=\"text-align: right;\">\n      <th></th>\n      <th>Gestor</th>\n      <th>SumHorasTrabajadas</th>\n      <th>SumLlamadasDia</th>\n      <th>PromedioLlamadasDia</th>\n      <th>PromedioLlamadasHora</th>\n      <th>PromedioOcupacion</th>\n    </tr>\n  </thead>\n  <tbody>\n    <tr>\n      <th>0</th>\n      <td>AGUILAR RIOS DANIEL ALEJANDRO</td>\n      <td>68</td>\n      <td>3857</td>\n      <td>350.636364</td>\n      <td>56.981818</td>\n      <td>38.271818</td>\n    </tr>\n    <tr>\n      <th>1</th>\n      <td>CASTILLEJO CASTILLEJO DULCE MICHELLE</td>\n      <td>21</td>\n      <td>655</td>\n      <td>218.333333</td>\n      <td>31.200000</td>\n      <td>50.483333</td>\n    </tr>\n    <tr>\n      <th>2</th>\n      <td>GARCIA CHAVEZ BRAYAN</td>\n      <td>209</td>\n      <td>2748</td>\n      <td>119.478261</td>\n      <td>13.460870</td>\n      <td>27.853478</td>\n    </tr>\n  </tbody>\n</table>\n</div>"
     },
     "metadata": {},
     "execution_count": 22
    }
   ],
   "source": [
    "control_performance_cred = pd.pivot_table(performance_cred,index=['nombre_usuario'],values=['llamadas','ocupacion','llamadas_hora','horas_trabajadas'],aggfunc=[np.sum,np.mean,'count',min,max])\n",
    "control_performance_cred = to_dataframe(control_performance_cred)\n",
    "control_performance_cred = control_performance_cred.iloc[:,[0,1,2,6,7,8]]\n",
    "control_performance_cred.columns = ['Gestor','SumHorasTrabajadas','SumLlamadasDia','PromedioLlamadasDia','PromedioLlamadasHora','PromedioOcupacion']\n",
    "control_performance_cred.head(3)"
   ]
  },
  {
   "cell_type": "code",
   "execution_count": 23,
   "metadata": {},
   "outputs": [
    {
     "output_type": "execute_result",
     "data": {
      "text/plain": [
       "                           Gestor  PromedioLlamadasHora  ContactoHora  \\\n",
       "1            GARCIA CHAVEZ BRAYAN             13.460870      0.186603   \n",
       "2  GONZALEZ MORALES BRENDA MARLEN             23.320000      0.806452   \n",
       "3       HERNANDEZ GALINDO RODRIGO             32.300000      2.500000   \n",
       "4      LAZARO LOPEZ VICTOR MANUEL             19.950000      1.270270   \n",
       "5         MARTINEZ RODRIGUEZ JUAN             80.000000      1.000000   \n",
       "6           MEDINA ARIAS MAURICIO             23.871429      0.136054   \n",
       "7  MISHELLLE ADYANI CHAVEZ CASTRO             24.707692      0.820000   \n",
       "8      QUINTOS ARVIZU LUIS DANIEL             39.029167      0.340164   \n",
       "9      ZARZA NORIA JEFREY ALBERTO                   inf      0.149254   \n",
       "\n",
       "   PromedioOcupacion  \n",
       "1          27.853478  \n",
       "2          31.842000  \n",
       "3          34.006667  \n",
       "4          45.940000  \n",
       "5          49.560000  \n",
       "6          39.541429  \n",
       "7          29.401538  \n",
       "8          37.922083  \n",
       "9          29.334286  "
      ],
      "text/html": "<div>\n<style scoped>\n    .dataframe tbody tr th:only-of-type {\n        vertical-align: middle;\n    }\n\n    .dataframe tbody tr th {\n        vertical-align: top;\n    }\n\n    .dataframe thead th {\n        text-align: right;\n    }\n</style>\n<table border=\"1\" class=\"dataframe\">\n  <thead>\n    <tr style=\"text-align: right;\">\n      <th></th>\n      <th>Gestor</th>\n      <th>PromedioLlamadasHora</th>\n      <th>ContactoHora</th>\n      <th>PromedioOcupacion</th>\n    </tr>\n  </thead>\n  <tbody>\n    <tr>\n      <th>1</th>\n      <td>GARCIA CHAVEZ BRAYAN</td>\n      <td>13.460870</td>\n      <td>0.186603</td>\n      <td>27.853478</td>\n    </tr>\n    <tr>\n      <th>2</th>\n      <td>GONZALEZ MORALES BRENDA MARLEN</td>\n      <td>23.320000</td>\n      <td>0.806452</td>\n      <td>31.842000</td>\n    </tr>\n    <tr>\n      <th>3</th>\n      <td>HERNANDEZ GALINDO RODRIGO</td>\n      <td>32.300000</td>\n      <td>2.500000</td>\n      <td>34.006667</td>\n    </tr>\n    <tr>\n      <th>4</th>\n      <td>LAZARO LOPEZ VICTOR MANUEL</td>\n      <td>19.950000</td>\n      <td>1.270270</td>\n      <td>45.940000</td>\n    </tr>\n    <tr>\n      <th>5</th>\n      <td>MARTINEZ RODRIGUEZ JUAN</td>\n      <td>80.000000</td>\n      <td>1.000000</td>\n      <td>49.560000</td>\n    </tr>\n    <tr>\n      <th>6</th>\n      <td>MEDINA ARIAS MAURICIO</td>\n      <td>23.871429</td>\n      <td>0.136054</td>\n      <td>39.541429</td>\n    </tr>\n    <tr>\n      <th>7</th>\n      <td>MISHELLLE ADYANI CHAVEZ CASTRO</td>\n      <td>24.707692</td>\n      <td>0.820000</td>\n      <td>29.401538</td>\n    </tr>\n    <tr>\n      <th>8</th>\n      <td>QUINTOS ARVIZU LUIS DANIEL</td>\n      <td>39.029167</td>\n      <td>0.340164</td>\n      <td>37.922083</td>\n    </tr>\n    <tr>\n      <th>9</th>\n      <td>ZARZA NORIA JEFREY ALBERTO</td>\n      <td>inf</td>\n      <td>0.149254</td>\n      <td>29.334286</td>\n    </tr>\n  </tbody>\n</table>\n</div>"
     },
     "metadata": {},
     "execution_count": 23
    }
   ],
   "source": [
    "conjunto_performance_llamadas_cred = pd.merge(control_gestores_total_cred,control_performance_cred,on='Gestor',how='left')\n",
    "conjunto_performance_llamadas_cred['ContactoHora'] = conjunto_performance_llamadas_cred['NumeroGestiones']/conjunto_performance_llamadas_cred['SumHorasTrabajadas']\n",
    "conjunto_performance_llamadas_cred = conjunto_performance_llamadas_cred.iloc[:,[0,8,10,9,]]\n",
    "conjunto_performance_llamadas_cred = conjunto_performance_llamadas_cred.dropna()\n",
    "conjunto_performance_llamadas_cred"
   ]
  },
  {
   "source": [
    "# Gestion detallado Credifiel"
   ],
   "cell_type": "markdown",
   "metadata": {}
  },
  {
   "cell_type": "code",
   "execution_count": 24,
   "metadata": {},
   "outputs": [
    {
     "output_type": "execute_result",
     "data": {
      "text/plain": [
       "    folio_gestion  unegocio_id fecha_gestion    hora_gestion    credito  \\\n",
       "6         9229469            1    2020-12-01 0 days 07:29:39  CR-267152   \n",
       "7         9229522            1    2020-12-01 0 days 07:34:46  CR-494364   \n",
       "11        9229759            1    2020-12-01 0 days 07:49:21  CR-503789   \n",
       "\n",
       "                    nombre_credito    telefono        usuario  \\\n",
       "6     LIEVANO CAL Y MAYOR VERONICA  9616189250  HERNANDEZGARO   \n",
       "7   DE LA VEGA ROMERO MIGUEL ANGEL  5959250197  HERNANDEZGARO   \n",
       "11          MARTINEZ MANRIQUE LUCY  5588471578  HERNANDEZGARO   \n",
       "\n",
       "               nombre_usuario             accion                resultado  \\\n",
       "6   HERNANDEZ GALINDO RODRIGO  LLAMADA A TITULAR  PROMESA DE PAGO PARCIAL   \n",
       "7   HERNANDEZ GALINDO RODRIGO  LLAMADA A TITULAR  PROMESA DE PAGO PARCIAL   \n",
       "11  HERNANDEZ GALINDO RODRIGO  LLAMADA A TITULAR  PROMESA DE PAGO PARCIAL   \n",
       "\n",
       "   fecha_promesa  monto_promesa  \\\n",
       "6     2020-12-15        4294.00   \n",
       "7     2020-12-15        3148.83   \n",
       "11    2020-12-01        2000.00   \n",
       "\n",
       "                                          comentarios accion_credifiel  \\\n",
       "6     9616189250 TT REALIZARA PAGO 6  $4294 15/12/20               PDP   \n",
       "7   5959250197 SE GENERA PAGO 9 POR $3148.83 PARA ...              PDP   \n",
       "11  5588471578  TT REALIZARA LIQUIDACION CON 32000...              PDP   \n",
       "\n",
       "   resultado_credifiel  dictamen  \n",
       "6      Promesa de Pago  CONTACTO  \n",
       "7      Promesa de Pago  CONTACTO  \n",
       "11     Promesa de Pago  CONTACTO  "
      ],
      "text/html": "<div>\n<style scoped>\n    .dataframe tbody tr th:only-of-type {\n        vertical-align: middle;\n    }\n\n    .dataframe tbody tr th {\n        vertical-align: top;\n    }\n\n    .dataframe thead th {\n        text-align: right;\n    }\n</style>\n<table border=\"1\" class=\"dataframe\">\n  <thead>\n    <tr style=\"text-align: right;\">\n      <th></th>\n      <th>folio_gestion</th>\n      <th>unegocio_id</th>\n      <th>fecha_gestion</th>\n      <th>hora_gestion</th>\n      <th>credito</th>\n      <th>nombre_credito</th>\n      <th>telefono</th>\n      <th>usuario</th>\n      <th>nombre_usuario</th>\n      <th>accion</th>\n      <th>resultado</th>\n      <th>fecha_promesa</th>\n      <th>monto_promesa</th>\n      <th>comentarios</th>\n      <th>accion_credifiel</th>\n      <th>resultado_credifiel</th>\n      <th>dictamen</th>\n    </tr>\n  </thead>\n  <tbody>\n    <tr>\n      <th>6</th>\n      <td>9229469</td>\n      <td>1</td>\n      <td>2020-12-01</td>\n      <td>0 days 07:29:39</td>\n      <td>CR-267152</td>\n      <td>LIEVANO CAL Y MAYOR VERONICA</td>\n      <td>9616189250</td>\n      <td>HERNANDEZGARO</td>\n      <td>HERNANDEZ GALINDO RODRIGO</td>\n      <td>LLAMADA A TITULAR</td>\n      <td>PROMESA DE PAGO PARCIAL</td>\n      <td>2020-12-15</td>\n      <td>4294.00</td>\n      <td>9616189250 TT REALIZARA PAGO 6  $4294 15/12/20</td>\n      <td>PDP</td>\n      <td>Promesa de Pago</td>\n      <td>CONTACTO</td>\n    </tr>\n    <tr>\n      <th>7</th>\n      <td>9229522</td>\n      <td>1</td>\n      <td>2020-12-01</td>\n      <td>0 days 07:34:46</td>\n      <td>CR-494364</td>\n      <td>DE LA VEGA ROMERO MIGUEL ANGEL</td>\n      <td>5959250197</td>\n      <td>HERNANDEZGARO</td>\n      <td>HERNANDEZ GALINDO RODRIGO</td>\n      <td>LLAMADA A TITULAR</td>\n      <td>PROMESA DE PAGO PARCIAL</td>\n      <td>2020-12-15</td>\n      <td>3148.83</td>\n      <td>5959250197 SE GENERA PAGO 9 POR $3148.83 PARA ...</td>\n      <td>PDP</td>\n      <td>Promesa de Pago</td>\n      <td>CONTACTO</td>\n    </tr>\n    <tr>\n      <th>11</th>\n      <td>9229759</td>\n      <td>1</td>\n      <td>2020-12-01</td>\n      <td>0 days 07:49:21</td>\n      <td>CR-503789</td>\n      <td>MARTINEZ MANRIQUE LUCY</td>\n      <td>5588471578</td>\n      <td>HERNANDEZGARO</td>\n      <td>HERNANDEZ GALINDO RODRIGO</td>\n      <td>LLAMADA A TITULAR</td>\n      <td>PROMESA DE PAGO PARCIAL</td>\n      <td>2020-12-01</td>\n      <td>2000.00</td>\n      <td>5588471578  TT REALIZARA LIQUIDACION CON 32000...</td>\n      <td>PDP</td>\n      <td>Promesa de Pago</td>\n      <td>CONTACTO</td>\n    </tr>\n  </tbody>\n</table>\n</div>"
     },
     "metadata": {},
     "execution_count": 24
    }
   ],
   "source": [
    "#Hacemos la consulta referente a las gestiones de Credifiel\n",
    "gestion_cred = consulta_sql('credifiel_rpt_gestiones_detallado',mes,today)\n",
    "gestion_cred.columns = ['folio_gestion','unegocio_id','fecha_gestion','hora_gestion','credito','nombre_credito','telefono','usuario','nombre_usuario','accion','resultado','fecha_promesa','monto_promesa','comentarios','accion_credifiel','resultado_credifiel','dictamen']\n",
    "gestion_cred['monto_promesa'] = pd.to_numeric(gestion_cred['monto_promesa'])\n",
    "gestion_cred = gestion_cred.loc[gestion_cred['accion_credifiel']=='PDP']\n",
    "gestion_cred.head(3)"
   ]
  },
  {
   "cell_type": "code",
   "execution_count": 25,
   "metadata": {},
   "outputs": [
    {
     "output_type": "execute_result",
     "data": {
      "text/plain": [
       "   unegocio_id    credito                division\n",
       "0            1  CR-101922  COBRANZA EXTRAJUDICIAL\n",
       "1            1  CR-101949                LIQUIDAR\n",
       "2            1  CR-101952                LIQUIDAR"
      ],
      "text/html": "<div>\n<style scoped>\n    .dataframe tbody tr th:only-of-type {\n        vertical-align: middle;\n    }\n\n    .dataframe tbody tr th {\n        vertical-align: top;\n    }\n\n    .dataframe thead th {\n        text-align: right;\n    }\n</style>\n<table border=\"1\" class=\"dataframe\">\n  <thead>\n    <tr style=\"text-align: right;\">\n      <th></th>\n      <th>unegocio_id</th>\n      <th>credito</th>\n      <th>division</th>\n    </tr>\n  </thead>\n  <tbody>\n    <tr>\n      <th>0</th>\n      <td>1</td>\n      <td>CR-101922</td>\n      <td>COBRANZA EXTRAJUDICIAL</td>\n    </tr>\n    <tr>\n      <th>1</th>\n      <td>1</td>\n      <td>CR-101949</td>\n      <td>LIQUIDAR</td>\n    </tr>\n    <tr>\n      <th>2</th>\n      <td>1</td>\n      <td>CR-101952</td>\n      <td>LIQUIDAR</td>\n    </tr>\n  </tbody>\n</table>\n</div>"
     },
     "metadata": {},
     "execution_count": 25
    }
   ],
   "source": [
    "#Hacemos la consulta de la asignacion\n",
    "asignacion_cred2 = consulta_sql('credifiel_rpt_asignacion_activa')\n",
    "asignacion_cred2 = asignacion_cred2.iloc[:,[1,3,32]]\n",
    "asignacion_cred2.columns = ['unegocio_id','credito','division']\n",
    "#asignacion_brad2['credito'] = pd.to_numeric(asignacion_brad2['credito'])\n",
    "asignacion_cred2.head(3)"
   ]
  },
  {
   "cell_type": "code",
   "execution_count": 26,
   "metadata": {},
   "outputs": [
    {
     "output_type": "execute_result",
     "data": {
      "text/plain": [
       "   folio_gestion  unegocio_id_x fecha_gestion    hora_gestion  credito  \\\n",
       "0        9229469              1    2020-12-01 0 days 07:29:39   267152   \n",
       "1        9229522              1    2020-12-01 0 days 07:34:46   494364   \n",
       "2        9229759              1    2020-12-01 0 days 07:49:21   503789   \n",
       "\n",
       "                   nombre_credito    telefono        usuario  \\\n",
       "0    LIEVANO CAL Y MAYOR VERONICA  9616189250  HERNANDEZGARO   \n",
       "1  DE LA VEGA ROMERO MIGUEL ANGEL  5959250197  HERNANDEZGARO   \n",
       "2          MARTINEZ MANRIQUE LUCY  5588471578  HERNANDEZGARO   \n",
       "\n",
       "              nombre_usuario             accion                resultado  \\\n",
       "0  HERNANDEZ GALINDO RODRIGO  LLAMADA A TITULAR  PROMESA DE PAGO PARCIAL   \n",
       "1  HERNANDEZ GALINDO RODRIGO  LLAMADA A TITULAR  PROMESA DE PAGO PARCIAL   \n",
       "2  HERNANDEZ GALINDO RODRIGO  LLAMADA A TITULAR  PROMESA DE PAGO PARCIAL   \n",
       "\n",
       "  fecha_promesa  monto_promesa  \\\n",
       "0    2020-12-15        4294.00   \n",
       "1    2020-12-15        3148.83   \n",
       "2    2020-12-01        2000.00   \n",
       "\n",
       "                                         comentarios accion_credifiel  \\\n",
       "0    9616189250 TT REALIZARA PAGO 6  $4294 15/12/20               PDP   \n",
       "1  5959250197 SE GENERA PAGO 9 POR $3148.83 PARA ...              PDP   \n",
       "2  5588471578  TT REALIZARA LIQUIDACION CON 32000...              PDP   \n",
       "\n",
       "  resultado_credifiel  dictamen  unegocio_id_y                division  \n",
       "0     Promesa de Pago  CONTACTO            1.0           EXTRAJUDICIAL  \n",
       "1     Promesa de Pago  CONTACTO            1.0  COBRANZA EXTRAJUDICIAL  \n",
       "2     Promesa de Pago  CONTACTO            NaN                COBRANZA  "
      ],
      "text/html": "<div>\n<style scoped>\n    .dataframe tbody tr th:only-of-type {\n        vertical-align: middle;\n    }\n\n    .dataframe tbody tr th {\n        vertical-align: top;\n    }\n\n    .dataframe thead th {\n        text-align: right;\n    }\n</style>\n<table border=\"1\" class=\"dataframe\">\n  <thead>\n    <tr style=\"text-align: right;\">\n      <th></th>\n      <th>folio_gestion</th>\n      <th>unegocio_id_x</th>\n      <th>fecha_gestion</th>\n      <th>hora_gestion</th>\n      <th>credito</th>\n      <th>nombre_credito</th>\n      <th>telefono</th>\n      <th>usuario</th>\n      <th>nombre_usuario</th>\n      <th>accion</th>\n      <th>resultado</th>\n      <th>fecha_promesa</th>\n      <th>monto_promesa</th>\n      <th>comentarios</th>\n      <th>accion_credifiel</th>\n      <th>resultado_credifiel</th>\n      <th>dictamen</th>\n      <th>unegocio_id_y</th>\n      <th>division</th>\n    </tr>\n  </thead>\n  <tbody>\n    <tr>\n      <th>0</th>\n      <td>9229469</td>\n      <td>1</td>\n      <td>2020-12-01</td>\n      <td>0 days 07:29:39</td>\n      <td>267152</td>\n      <td>LIEVANO CAL Y MAYOR VERONICA</td>\n      <td>9616189250</td>\n      <td>HERNANDEZGARO</td>\n      <td>HERNANDEZ GALINDO RODRIGO</td>\n      <td>LLAMADA A TITULAR</td>\n      <td>PROMESA DE PAGO PARCIAL</td>\n      <td>2020-12-15</td>\n      <td>4294.00</td>\n      <td>9616189250 TT REALIZARA PAGO 6  $4294 15/12/20</td>\n      <td>PDP</td>\n      <td>Promesa de Pago</td>\n      <td>CONTACTO</td>\n      <td>1.0</td>\n      <td>EXTRAJUDICIAL</td>\n    </tr>\n    <tr>\n      <th>1</th>\n      <td>9229522</td>\n      <td>1</td>\n      <td>2020-12-01</td>\n      <td>0 days 07:34:46</td>\n      <td>494364</td>\n      <td>DE LA VEGA ROMERO MIGUEL ANGEL</td>\n      <td>5959250197</td>\n      <td>HERNANDEZGARO</td>\n      <td>HERNANDEZ GALINDO RODRIGO</td>\n      <td>LLAMADA A TITULAR</td>\n      <td>PROMESA DE PAGO PARCIAL</td>\n      <td>2020-12-15</td>\n      <td>3148.83</td>\n      <td>5959250197 SE GENERA PAGO 9 POR $3148.83 PARA ...</td>\n      <td>PDP</td>\n      <td>Promesa de Pago</td>\n      <td>CONTACTO</td>\n      <td>1.0</td>\n      <td>COBRANZA EXTRAJUDICIAL</td>\n    </tr>\n    <tr>\n      <th>2</th>\n      <td>9229759</td>\n      <td>1</td>\n      <td>2020-12-01</td>\n      <td>0 days 07:49:21</td>\n      <td>503789</td>\n      <td>MARTINEZ MANRIQUE LUCY</td>\n      <td>5588471578</td>\n      <td>HERNANDEZGARO</td>\n      <td>HERNANDEZ GALINDO RODRIGO</td>\n      <td>LLAMADA A TITULAR</td>\n      <td>PROMESA DE PAGO PARCIAL</td>\n      <td>2020-12-01</td>\n      <td>2000.00</td>\n      <td>5588471578  TT REALIZARA LIQUIDACION CON 32000...</td>\n      <td>PDP</td>\n      <td>Promesa de Pago</td>\n      <td>CONTACTO</td>\n      <td>NaN</td>\n      <td>COBRANZA</td>\n    </tr>\n  </tbody>\n</table>\n</div>"
     },
     "metadata": {},
     "execution_count": 26
    }
   ],
   "source": [
    "#Hacemos el consolidado de la asignacion y promesado\n",
    "consolidado_cred = pd.merge(gestion_cred,asignacion_cred2,how='left',on=['credito'])\n",
    "cols = ['monto_promesa']\n",
    "consolidado_cred[cols] = consolidado_cred[cols].apply(pd.to_numeric, errors='coerce')\n",
    "consolidado_cred = consolidado_cred.loc[consolidado_cred['monto_promesa']>50]\n",
    "consolidado_cred = consolidado_cred[(consolidado_cred['monto_promesa']<500000)]\n",
    "consolidado_cred['division'].fillna('COBRANZA',inplace=True)\n",
    "consolidado_cred['division'].replace('','COBRANZA',inplace=True)\n",
    "consolidado_cred['credito'] = [x[3:] for x in consolidado_cred['credito']]\n",
    "consolidado_cred['credito'] = pd.to_numeric(consolidado_cred['credito'])\n",
    "consolidado_cred.head(3)"
   ]
  },
  {
   "cell_type": "code",
   "execution_count": 27,
   "metadata": {},
   "outputs": [],
   "source": [
    "pagos_cred_fact = pd.merge(pagos_cred2,asignacion_cred,how='left',left_on=['ID'],right_on=['CREDITO'])\n",
    "pagos_cred_fact['ARANCEL'] = np.where(pagos_cred_fact['ARANCEL'].isna(),np.mean(pagos_cred_fact['ARANCEL']),pagos_cred_fact['ARANCEL'])"
   ]
  },
  {
   "cell_type": "code",
   "execution_count": 28,
   "metadata": {},
   "outputs": [],
   "source": [
    "consolidado_pagos_cred = pd.merge(consolidado_cred,pagos_cred_fact,how='left',left_on=['credito'],right_on=['ID'])\n",
    "try: consolidado_pagos_cred['fecha_promesa'] = pd.to_datetime(consolidado_pagos_cred['fecha_promesa'],dayfirst=False)\n",
    "except: consolidado_pagos_cred['fecha_promesa'] = consolidado_pagos_cred['fecha_gestion']"
   ]
  },
  {
   "cell_type": "code",
   "execution_count": 29,
   "metadata": {},
   "outputs": [],
   "source": [
    "#Condicionamos a los gestores cuyas promesas y pagos estan en un plazo de 3 dias\n",
    "#consolidado_pagos_cred['PagoUnico'] = [np.where((z < x+pd.Timedelta(4, unit='D')) & ((z > x-pd.Timedelta(4, unit='D') )), y, 0) for x,y,z in zip(consolidado_pagos_cred['fecha_promesa'],consolidado_pagos_cred['IMPORTE'],consolidado_pagos_cred['FECHA'])]\n",
    "#consolidado_pagos_cred['PagoUnico'] = [x.item() for x in consolidado_pagos_cred['PagoUnico']]"
   ]
  },
  {
   "cell_type": "code",
   "execution_count": 30,
   "metadata": {},
   "outputs": [],
   "source": [
    "consolidado_pagos_cred['PagoReal'] = [x*y for x,y in zip(consolidado_pagos_cred['IMPORTE'],consolidado_pagos_cred['ARANCEL'])]\n",
    "consolidado_pagos_cred2 = consolidado_pagos_cred.drop_duplicates(subset=['credito','IMPORTE','FECHA','usuario'])"
   ]
  },
  {
   "cell_type": "code",
   "execution_count": 31,
   "metadata": {},
   "outputs": [
    {
     "output_type": "execute_result",
     "data": {
      "text/plain": [
       "                 Gestor  NumeroPromesas  NumeroPagos  SumaPromesas  SumaPagos  \\\n",
       "0  GARCIA CHAVEZ BRAYAN              47           35     170290.98  113946.82   \n",
       "\n",
       "   SumaArancel  EfVolumen  EfPagos  \n",
       "0   21200.9054   0.744681  0.66913  "
      ],
      "text/html": "<div>\n<style scoped>\n    .dataframe tbody tr th:only-of-type {\n        vertical-align: middle;\n    }\n\n    .dataframe tbody tr th {\n        vertical-align: top;\n    }\n\n    .dataframe thead th {\n        text-align: right;\n    }\n</style>\n<table border=\"1\" class=\"dataframe\">\n  <thead>\n    <tr style=\"text-align: right;\">\n      <th></th>\n      <th>Gestor</th>\n      <th>NumeroPromesas</th>\n      <th>NumeroPagos</th>\n      <th>SumaPromesas</th>\n      <th>SumaPagos</th>\n      <th>SumaArancel</th>\n      <th>EfVolumen</th>\n      <th>EfPagos</th>\n    </tr>\n  </thead>\n  <tbody>\n    <tr>\n      <th>0</th>\n      <td>GARCIA CHAVEZ BRAYAN</td>\n      <td>47</td>\n      <td>35</td>\n      <td>170290.98</td>\n      <td>113946.82</td>\n      <td>21200.9054</td>\n      <td>0.744681</td>\n      <td>0.66913</td>\n    </tr>\n  </tbody>\n</table>\n</div>"
     },
     "metadata": {},
     "execution_count": 31
    }
   ],
   "source": [
    "pagos_totales_cred = pd.pivot_table(consolidado_pagos_cred2,index=['nombre_usuario'],values=['monto_promesa','IMPORTE','PagoReal'],aggfunc=['count',np.sum],dropna=False)\n",
    "pagos_totales_cred = pd.DataFrame(pagos_totales_cred.to_records())\n",
    "pagos_totales_cred = pagos_totales_cred.iloc[:,[0,3,1,6,4,5]]\n",
    "pagos_totales_cred.columns = ['Gestor','NumeroPromesas','NumeroPagos','SumaPromesas','SumaPagos','SumaArancel']\n",
    "pagos_totales_cred.fillna(0,inplace=True)\n",
    "pagos_totales_cred['EfVolumen'] = pagos_totales_cred['NumeroPagos']/pagos_totales_cred['NumeroPromesas']\n",
    "pagos_totales_cred['EfPagos'] = pagos_totales_cred['SumaPagos']/pagos_totales_cred['SumaPromesas']\n",
    "#pagos_totales_cred['FechaFact'] = max(pagos_brad2['FECHA_PAGO'])\n",
    "pagos_totales_cred.head(1)"
   ]
  },
  {
   "cell_type": "code",
   "execution_count": 32,
   "metadata": {},
   "outputs": [],
   "source": [
    "gestor_final_cred = pagos_totales_cred[['Gestor','SumaPagos','EfPagos']]"
   ]
  },
  {
   "cell_type": "code",
   "execution_count": 33,
   "metadata": {},
   "outputs": [
    {
     "output_type": "execute_result",
     "data": {
      "text/plain": [
       "                           Gestor  SumaPagos  EfPagos  PromedioLlamadasHora  \\\n",
       "0            GARCIA CHAVEZ BRAYAN  113946.82     0.67                  13.0   \n",
       "1  GONZALEZ MORALES BRENDA MARLEN   41862.51     1.17                  23.0   \n",
       "2       HERNANDEZ GALINDO RODRIGO   49417.35     1.76                  32.0   \n",
       "3      LAZARO LOPEZ VICTOR MANUEL    4050.00     0.85                  20.0   \n",
       "4           MEDINA ARIAS MAURICIO   30355.88     0.94                  24.0   \n",
       "5  MISHELLLE ADYANI CHAVEZ CASTRO    2300.00     0.08                  25.0   \n",
       "6      QUINTOS ARVIZU LUIS DANIEL   71958.39     0.75                  39.0   \n",
       "7      ZARZA NORIA JEFREY ALBERTO   44495.50     0.63                   inf   \n",
       "8         MARTINEZ RODRIGUEZ JUAN       0.00     0.00                  80.0   \n",
       "\n",
       "   ContactoHora  PromedioOcupacion  \n",
       "0          0.19               0.28  \n",
       "1          0.81               0.32  \n",
       "2          2.50               0.34  \n",
       "3          1.27               0.46  \n",
       "4          0.14               0.40  \n",
       "5          0.82               0.29  \n",
       "6          0.34               0.38  \n",
       "7          0.15               0.29  \n",
       "8          1.00               0.50  "
      ],
      "text/html": "<div>\n<style scoped>\n    .dataframe tbody tr th:only-of-type {\n        vertical-align: middle;\n    }\n\n    .dataframe tbody tr th {\n        vertical-align: top;\n    }\n\n    .dataframe thead th {\n        text-align: right;\n    }\n</style>\n<table border=\"1\" class=\"dataframe\">\n  <thead>\n    <tr style=\"text-align: right;\">\n      <th></th>\n      <th>Gestor</th>\n      <th>SumaPagos</th>\n      <th>EfPagos</th>\n      <th>PromedioLlamadasHora</th>\n      <th>ContactoHora</th>\n      <th>PromedioOcupacion</th>\n    </tr>\n  </thead>\n  <tbody>\n    <tr>\n      <th>0</th>\n      <td>GARCIA CHAVEZ BRAYAN</td>\n      <td>113946.82</td>\n      <td>0.67</td>\n      <td>13.0</td>\n      <td>0.19</td>\n      <td>0.28</td>\n    </tr>\n    <tr>\n      <th>1</th>\n      <td>GONZALEZ MORALES BRENDA MARLEN</td>\n      <td>41862.51</td>\n      <td>1.17</td>\n      <td>23.0</td>\n      <td>0.81</td>\n      <td>0.32</td>\n    </tr>\n    <tr>\n      <th>2</th>\n      <td>HERNANDEZ GALINDO RODRIGO</td>\n      <td>49417.35</td>\n      <td>1.76</td>\n      <td>32.0</td>\n      <td>2.50</td>\n      <td>0.34</td>\n    </tr>\n    <tr>\n      <th>3</th>\n      <td>LAZARO LOPEZ VICTOR MANUEL</td>\n      <td>4050.00</td>\n      <td>0.85</td>\n      <td>20.0</td>\n      <td>1.27</td>\n      <td>0.46</td>\n    </tr>\n    <tr>\n      <th>4</th>\n      <td>MEDINA ARIAS MAURICIO</td>\n      <td>30355.88</td>\n      <td>0.94</td>\n      <td>24.0</td>\n      <td>0.14</td>\n      <td>0.40</td>\n    </tr>\n    <tr>\n      <th>5</th>\n      <td>MISHELLLE ADYANI CHAVEZ CASTRO</td>\n      <td>2300.00</td>\n      <td>0.08</td>\n      <td>25.0</td>\n      <td>0.82</td>\n      <td>0.29</td>\n    </tr>\n    <tr>\n      <th>6</th>\n      <td>QUINTOS ARVIZU LUIS DANIEL</td>\n      <td>71958.39</td>\n      <td>0.75</td>\n      <td>39.0</td>\n      <td>0.34</td>\n      <td>0.38</td>\n    </tr>\n    <tr>\n      <th>7</th>\n      <td>ZARZA NORIA JEFREY ALBERTO</td>\n      <td>44495.50</td>\n      <td>0.63</td>\n      <td>inf</td>\n      <td>0.15</td>\n      <td>0.29</td>\n    </tr>\n    <tr>\n      <th>8</th>\n      <td>MARTINEZ RODRIGUEZ JUAN</td>\n      <td>0.00</td>\n      <td>0.00</td>\n      <td>80.0</td>\n      <td>1.00</td>\n      <td>0.50</td>\n    </tr>\n  </tbody>\n</table>\n</div>"
     },
     "metadata": {},
     "execution_count": 33
    }
   ],
   "source": [
    "final_cred = pd.merge(gestor_final_cred,conjunto_performance_llamadas_cred,how='outer',on='Gestor')\n",
    "final_cred['PromedioLlamadasHora'] = final_cred['PromedioLlamadasHora'].round()\n",
    "final_cred['PromedioOcupacion'] = final_cred['PromedioOcupacion']/100\n",
    "cols = ['PromedioOcupacion','EfPagos','ContactoHora']\n",
    "final_cred[cols] = final_cred[cols].round(2)\n",
    "final_cred.fillna(0,inplace=True)\n",
    "final_cred"
   ]
  },
  {
   "cell_type": "code",
   "execution_count": 34,
   "metadata": {},
   "outputs": [],
   "source": [
    "writer = pd.ExcelWriter(''+ruta_guardar+'/Gestores/Credifiel/Reporte Gestor Credifiel '+now+'.xlsx',engine='xlsxwriter')\n",
    "final_cred.to_excel(writer,'BSC',index=False,header=True)\n",
    "gestor_final_cred.to_excel(writer,'MontoRecuperado',index=False,header=True)\n",
    "control_cred_turno.to_excel(writer,'LlamadasDetallado',index=False,header=True)\n",
    "control_performance_cred_turno.to_excel(writer,'PerformanceDetallado',index=False,header=True)\n",
    "pagos_totales_cred.to_excel(writer,'PagosDetallado',index=False,header=True)\n",
    "\n",
    "writer.save()"
   ]
  },
  {
   "cell_type": "code",
   "execution_count": null,
   "metadata": {},
   "outputs": [],
   "source": []
  }
 ]
}