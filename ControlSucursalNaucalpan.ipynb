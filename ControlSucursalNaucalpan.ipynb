{
 "metadata": {
  "language_info": {
   "codemirror_mode": {
    "name": "ipython",
    "version": 3
   },
   "file_extension": ".py",
   "mimetype": "text/x-python",
   "name": "python",
   "nbconvert_exporter": "python",
   "pygments_lexer": "ipython3",
   "version": "3.8.5-final"
  },
  "orig_nbformat": 2,
  "kernelspec": {
   "name": "python3",
   "display_name": "Python 3",
   "language": "python"
  }
 },
 "nbformat": 4,
 "nbformat_minor": 2,
 "cells": [
  {
   "cell_type": "code",
   "execution_count": 1,
   "metadata": {},
   "outputs": [],
   "source": [
    "import pandas as pd\n",
    "import numpy as np\n",
    "import mysql.connector\n",
    "import os\n",
    "from mysql.connector import Error\n",
    "from datetime import datetime, date, timedelta\n",
    "from IPython.core.interactiveshell import InteractiveShell\n",
    "InteractiveShell.ast_node_interactivity = \"all\""
   ]
  },
  {
   "cell_type": "code",
   "execution_count": 2,
   "metadata": {},
   "outputs": [],
   "source": [
    "#Definimos la ruta en donde queremos guardar los archivos\n",
    "ruta_guardar = '/home/estadistico/Documents/Erick/Reportes diarios'\n",
    "ruta_asig_baz = '/home/estadistico/Documents/Erick/Banco Azteca/Asignacion csv'\n",
    "ruta_pagos = '/home/estadistico/Documents/Erick'\n",
    "mes = 20201201\n",
    "mes2 = 'Diciembre2020'\n",
    "mes3 = pd.to_datetime('01/12/2020',dayfirst=True)\n",
    "prim_sem_mes = 49"
   ]
  },
  {
   "cell_type": "code",
   "execution_count": 3,
   "metadata": {},
   "outputs": [],
   "source": [
    "#Agregamos las variables a ocupar\n",
    "servidor = '192.168.15.12'\n",
    "puerto = int('3306')\n",
    "usuario = 'estadisticas'\n",
    "contraseña = 'estadisticas8474'\n",
    "base = 'procesos_externos'"
   ]
  },
  {
   "cell_type": "code",
   "execution_count": 4,
   "metadata": {},
   "outputs": [],
   "source": [
    "#Lectura pagos Bradesco\n",
    "pagos_brad = pd.read_excel(''+ruta_pagos+'/'+str(mes2)+'/Bradesco/Pagos/ENRIQUEZ Acumulado de pagos Diciembre de 2020.xlsx')\n",
    "pagos_brad = pagos_brad.iloc[:,0:9]\n",
    "pagos_brad = pagos_brad.drop_duplicates()\n",
    "pagos_brad2 = pd.pivot_table(pagos_brad,index=['NUMERO_TARJETA','FECHA_PAGO','TIPO_ASIGANCION'],values=['MONTO'],aggfunc=np.sum)\n",
    "pagos_brad2 = pd.DataFrame(pagos_brad2.to_records())\n",
    "pagos_brad2 = pagos_brad2.loc[pagos_brad2['FECHA_PAGO']>=mes3]"
   ]
  },
  {
   "cell_type": "code",
   "execution_count": 5,
   "metadata": {},
   "outputs": [],
   "source": [
    "#Lectura pagos Liverpool\n",
    "sheet_liv = ['SA002REM','SA001REM','DKN04REM','DKN02REM','DKN00REM']\n",
    "pagos_liv = pd.DataFrame()\n",
    "for i in sheet_liv:\n",
    "    pagos_liv_new = pd.read_excel(''+ruta_pagos+'/'+str(mes2)+'/Liverpool/Pagos/PAGOS DIC LIVERPOOL .xlsx',sheet_name = str(i))\n",
    "    pagos_liv = pd.concat([pagos_liv,pagos_liv_new],ignore_index=True)\n",
    "pagos_liv = pagos_liv.drop_duplicates()\n",
    "pagos_liv = pagos_liv.iloc[:,0:6]\n",
    "pagos_liv.columns = ['Id','Cuenta','Fecha Prom','Fecha Pago','Monto','Posteo']\n",
    "#try: \n",
    "pagos_liv['Fecha Pago'] = pd.to_datetime(pagos_liv['Fecha Pago'],dayfirst=True)\n",
    "#except: pagos_liv['Fecha Pago'] \n",
    "#pagos_liv['Fecha Pago'] = [datetime.strftime(x,'%d/%m/%Y') for x in pagos_liv['Fecha Pago']]\n",
    "try: \n",
    "    pagos_liv['Fecha Prom'] = pd.to_datetime(pagos_liv['Fecha Prom'],dayfirst=True)\n",
    "except: pagos_liv['Fecha Prom'] = pagos_liv['Fecha Prom']\n",
    "pagos_liv['Fecha Prom'] = [datetime.strftime(x,'%d/%m/%Y') for x in pagos_liv['Fecha Prom']]\n",
    "pagos_liv2 = pd.pivot_table(pagos_liv,index=['Id','Cuenta','Fecha Pago','Fecha Prom'],values=['Monto'],aggfunc=np.sum)\n",
    "pagos_liv2 = pd.DataFrame(pagos_liv2.to_records())\n",
    "pagos_liv2 = pagos_liv2.loc[pagos_liv2['Fecha Pago']>=mes3]"
   ]
  },
  {
   "cell_type": "code",
   "execution_count": 6,
   "metadata": {},
   "outputs": [],
   "source": [
    "#Lectura pagos Credifiel\n",
    "sheet_cred = os.listdir(''+ruta_pagos+'/'+str(mes2)+'/Credifiel/Pagos/')\n",
    "pagos_cred = pd.DataFrame()\n",
    "for i in sheet_cred:\n",
    "    pagos_cred_new = pd.read_excel(''+ruta_pagos+'/'+str(mes2)+'/Credifiel/Pagos/'+i+'')\n",
    "    pagos_cred = pd.concat([pagos_cred,pagos_cred_new],ignore_index=True)\n",
    "pagos_cred = pagos_cred.iloc[:,0:5]\n",
    "pagos_cred2 = pd.pivot_table(pagos_cred,index=['ID','FECHA'],values=['IMPORTE'],aggfunc=np.sum)\n",
    "pagos_cred2 = pd.DataFrame(pagos_cred2.to_records())"
   ]
  },
  {
   "cell_type": "code",
   "execution_count": 7,
   "metadata": {},
   "outputs": [],
   "source": [
    "#Lectura asignacion Credifiel\n",
    "sheet_cred2 = os.listdir(''+ruta_pagos+'/'+str(mes2)+'/Credifiel/Asignacion/')\n",
    "asignacion_cred = pd.DataFrame()\n",
    "for j in sheet_cred2:\n",
    "    asignacion_cred_new = pd.read_excel(''+ruta_pagos+'/'+str(mes2)+'/Credifiel/Asignacion/'+j+'')\n",
    "    asignacion_cred = pd.concat([asignacion_cred,asignacion_cred_new],ignore_index=True)\n",
    "asignacion_cred = asignacion_cred.loc[:,['CREDITO','ARANCEL']]"
   ]
  },
  {
   "cell_type": "code",
   "execution_count": 8,
   "metadata": {},
   "outputs": [],
   "source": [
    "#Lectura pagos Banco Azteca\n",
    "sheet_baz_renta = os.listdir(''+ruta_pagos+'/'+str(mes2)+'/Banco Azteca/Pagos/Renta')\n",
    "pagos_baz_renta = pd.DataFrame()\n",
    "for i in sheet_baz_renta:\n",
    "    pagos_baz_renta_new = pd.read_csv(''+ruta_pagos+'/'+str(mes2)+'/Banco Azteca/Pagos/Renta/'+i+'')\n",
    "    pagos_baz_renta = pd.concat([pagos_baz_renta,pagos_baz_renta_new],ignore_index=True)\n",
    "pagos_baz_renta = pagos_baz_renta.drop_duplicates()\n",
    "pagos_baz_renta = pagos_baz_renta.loc[pagos_baz_renta['FNMONTOPAGADO']>0]\n",
    "pagos_baz_renta['FDFECHAABONO'] = pd.to_datetime(pagos_baz_renta['FDFECHAABONO'],dayfirst=True)\n",
    "pagos_baz_renta = pagos_baz_renta.loc[pagos_baz_renta['FDFECHAABONO']>=mes3]\n",
    "pagos_baz_renta2 = pd.pivot_table(pagos_baz_renta,index=['CAMPANAID','FDFECHAABONO','FIIDPERIODO','FNSCOMPROMISO','FCEMPNUMCORTE','FNMONTOPROMETIDO'],values=['FNMONTOPAGADO'],aggfunc=np.sum)\n",
    "pagos_baz_renta2 = pd.DataFrame(pagos_baz_renta2.to_records())\n",
    "pagos_baz_renta2['Cliente'] = 'Renta Azteca'"
   ]
  },
  {
   "cell_type": "code",
   "execution_count": 9,
   "metadata": {},
   "outputs": [],
   "source": [
    "#Leemos facturacion Banco Azteca\n",
    "sheet_baz2 = os.listdir(''+ruta_pagos+'/'+str(mes2)+'/Banco Azteca/Facturacion/')\n",
    "fact_baz = pd.DataFrame()\n",
    "for k in sheet_baz2:\n",
    "    fact_baz_new = pd.read_csv(''+ruta_pagos+'/'+str(mes2)+'/Banco Azteca/Facturacion/'+k+'',encoding='latin-1')\n",
    "    fact_baz = pd.concat([fact_baz,fact_baz_new],ignore_index=True)\n",
    "fact_baz = fact_baz.drop_duplicates()\n",
    "fact_baz = fact_baz.loc[fact_baz['Número Semana']>=prim_sem_mes]\n",
    "fact_baz['Final de Semana'] = pd.to_datetime(fact_baz['Final de Semana'],dayfirst=True)\n",
    "fact_baz['Inicio de Semana'] = pd.to_datetime(fact_baz['Inicio de Semana'],dayfirst=True)\n",
    "fact_baz['Cliente'] = 'Banco Azteca'"
   ]
  },
  {
   "cell_type": "code",
   "execution_count": 10,
   "metadata": {},
   "outputs": [],
   "source": [
    "#Lectura pagos Banco Azteca Recovery\n",
    "sheet_baz_recovery = os.listdir(''+ruta_pagos+'/'+str(mes2)+'/Banco Azteca/Pagos/Recovery/')\n",
    "pagos_baz_recovery = pd.DataFrame()\n",
    "for k in sheet_baz_recovery:\n",
    "    pagos_baz_recovery_new = pd.read_csv(''+ruta_pagos+'/'+str(mes2)+'/Banco Azteca/Pagos/Recovery/'+k+'',sep='|')\n",
    "    pagos_baz_recovery = pd.concat([pagos_baz_recovery,pagos_baz_recovery_new],ignore_index=True)\n",
    "pagos_baz_recovery['Cartera'] = 'Recovery'\n",
    "pagos_baz_recovery['DIA'] = pd.to_datetime(pagos_baz_recovery['DIA'],dayfirst=True)\n",
    "pagos_baz_recovery = pagos_baz_recovery.loc[pagos_baz_recovery['DIA']>=mes3]\n",
    "pagos_baz_recovery = pagos_baz_recovery.loc[pagos_baz_recovery['DIA']>=mes3]\n",
    "pagos_baz_recovery['credito'] = pagos_baz_recovery['PAIS'].map(str)+'-'+pagos_baz_recovery['CANAL'].map(str)+'-'+pagos_baz_recovery['SUCURSAL'].map(str)+'-'+pagos_baz_recovery['FOLIO'].map(str)\n",
    "pagos_baz_recovery = pagos_baz_recovery.drop_duplicates()"
   ]
  },
  {
   "cell_type": "code",
   "execution_count": 11,
   "metadata": {},
   "outputs": [],
   "source": [
    "#Lectura pagos Banco Azteca 26-39\n",
    "sheet_baz_26 = os.listdir(''+ruta_pagos+'/'+str(mes2)+'/Banco Azteca/Pagos/26-39/')\n",
    "pagos_baz_26 = pd.DataFrame()\n",
    "for j in sheet_baz_26:\n",
    "    pagos_baz_26_new = pd.read_csv(''+ruta_pagos+'/'+str(mes2)+'/Banco Azteca/Pagos/26-39/'+j+'',sep='|')\n",
    "    pagos_baz_26 = pd.concat([pagos_baz_26,pagos_baz_26_new],ignore_index=True)\n",
    "pagos_baz_26['cartera'] = '26-39'\n",
    "pagos_baz_26['DIA'] = pd.to_datetime(pagos_baz_26['DIA'],dayfirst=True)\n",
    "pagos_baz_26 = pagos_baz_26.loc[pagos_baz_26['DIA']>=mes3]\n",
    "pagos_baz_26['credito'] = pagos_baz_26['PAIS'].map(str)+'-'+pagos_baz_26['CANAL'].map(str)+'-'+pagos_baz_26['SUCURSAL'].map(str)+'-'+pagos_baz_26['FOLIO'].map(str)\n",
    "pagos_baz_26 = pagos_baz_26.drop_duplicates()"
   ]
  },
  {
   "cell_type": "code",
   "execution_count": 12,
   "metadata": {},
   "outputs": [],
   "source": [
    "#Asignamos valores a los parametros\"\n",
    "today = date.today().strftime('%Y%m%d')\n",
    "now = datetime.now().strftime('%d-%m-%Y %H-%M')\n",
    "hoy = np.datetime64('today')\n",
    "ayer = np.datetime64(date.today() - timedelta(1))\n",
    "today2 = date.today().strftime('%d-%m-%Y')"
   ]
  },
  {
   "cell_type": "code",
   "execution_count": 13,
   "metadata": {},
   "outputs": [],
   "source": [
    "#Hacemos la conexion con el servidor\\n\",\n",
    "try:\n",
    "    conn = mysql.connector.connect(user=usuario,\n",
    "                               password=contraseña,\n",
    "                               host=servidor,\n",
    "                               port=3306,\n",
    "                               database=base)\n",
    "    conn.set_charset_collation('latin1')\n",
    "except mysql.Error as e:\n",
    "    print(\"Failed to execute stored procedure: {}\".format(error))\n",
    "\n",
    "cursor = conn.cursor()"
   ]
  },
  {
   "cell_type": "code",
   "execution_count": 56,
   "metadata": {},
   "outputs": [],
   "source": [
    "meta = pd.DataFrame([('Liverpool',1000000),('Bradesco',1200000),('Credifiel',120000)])\n",
    "meta.columns = ['Cliente','Meta']"
   ]
  },
  {
   "cell_type": "code",
   "execution_count": 14,
   "metadata": {},
   "outputs": [],
   "source": [
    "#Hacemos la asignacion de cada una de las metas para cambiar de arancel sin tomar el 0 en cuenta\n",
    "c04pv1, arancel_4pv1 = 1204704, .07\n",
    "c04pv2, arancel_4pv2 = 1807056, .09\n",
    "c04pv3, arancel_4pv3 = 2409407, .12\n",
    "c05pv1, arancel_5pv1 = 662269, .09\n",
    "c05pv2, arancel_5pv2 = 993403, .10\n",
    "c05pv3, arancel_5pv3 = 1324538, .14\n",
    "c06pv1, arancel_6pv1 = 807172, .10\n",
    "c06pv2, arancel_6pv2 = 1210759, .11\n",
    "c06pv3, arancel_6pv3 = 1614345, .16\n",
    "a1, arancel_a1 = 260190, .27\n",
    "a2, arancel_a2 = 390285, .30\n",
    "a3, arancel_a3 = 520381, .33\n",
    "b1, arancel_b1 = 215083, .25\n",
    "b2, arancel_b2 = 322624, .28\n",
    "b3, arancel_b3 = 430165, .31\n",
    "c11, arancel_c11 = 1430989, .17\n",
    "c12, arancel_c12 = 2146483, .20\n",
    "c13, arancel_c13 = 2861978, .23\n",
    "c21, arancel_c21 = 626634, .19\n",
    "c22, arancel_c22 = 939951, .22\n",
    "c23, arancel_c23 = 1253267, .25\n",
    "c31, arancel_c31 = 246425, .21\n",
    "c32, arancel_c32 = 369637, .24\n",
    "c33, arancel_c33 = 492849, .27\n",
    "c41, arancel_c41 = 123529, .23\n",
    "c42, arancel_c42 = 185294, .26\n",
    "c43, arancel_c43 = 247059, .29"
   ]
  },
  {
   "cell_type": "code",
   "execution_count": 15,
   "metadata": {},
   "outputs": [],
   "source": [
    "#Funcion para hacer la consulta sql, ya sea de gestion o de asignacion en donde requerimos tres parametros, la tabla de donde vamos a sacar la consulta, en caso de asignacin requerimos los otros dos parametros fecha inicial y fecha final\n",
    "def consulta_sql(table,from_date=None,to_date=None):\n",
    "    if from_date is None:\n",
    "        sql_mes = cursor.callproc(table,)\n",
    "        for result in cursor.stored_results():\n",
    "            sql_mes = pd.DataFrame(result.fetchall())\n",
    "    else:\n",
    "        sql_mes = cursor.callproc(table, [from_date,to_date])\n",
    "        for result in cursor.stored_results():\n",
    "            sql_mes = pd.DataFrame(result.fetchall())\n",
    "    sql_mes = sql_mes.drop_duplicates()\n",
    "    return sql_mes"
   ]
  },
  {
   "cell_type": "code",
   "execution_count": 16,
   "metadata": {},
   "outputs": [],
   "source": [
    "#Funcion para transformar varias columnas a numero\n",
    "def transform_numeric(df,cols):\n",
    "    return df[cols].apply(pd.to_numeric, errors='coerce')\n",
    "\n",
    "#Funcion que convierte a dataframe y rellena espacios con 0\n",
    "def to_dataframe(df):\n",
    "    df = pd.DataFrame(df.to_records())\n",
    "    df.fillna(0,inplace=True)\n",
    "    return df"
   ]
  },
  {
   "source": [
    "# Reporte Liverpool"
   ],
   "cell_type": "markdown",
   "metadata": {}
  },
  {
   "cell_type": "code",
   "execution_count": 17,
   "metadata": {},
   "outputs": [],
   "source": [
    "#Hacemos la consulta referente a las gestiones de Liverpool\n",
    "gestion_liv_mes = consulta_sql('liverpool_rpt_gestiones_detallado',mes,today)\n",
    "gestion_liv_mes.columns = ['folio_gestion','firma_id','unegocio_id','credito','nombre_credito','telefono','tipo_telefono','fecha_gestion','usuario','nombre_usuario','dictamen','accion','resultado','fecha_promesa','monto_promesa','comentarios']\n",
    "gestion_liv_mes = gestion_liv_mes.loc[gestion_liv_mes['dictamen']=='PROMESA']\n",
    "gestion_liv_mes[['credito','telefono']] = transform_numeric(gestion_liv_mes,['credito','telefono'])\n",
    "gestion_liv_mes['anio'] = [int(x[:4]) for x in gestion_liv_mes['fecha_promesa']]\n",
    "gestion_liv_mes = gestion_liv_mes.loc[(gestion_liv_mes['anio']>2010)&(gestion_liv_mes['anio']<2100)]\n",
    "gestion_liv_mes['fecha_promesa'] = pd.to_datetime(gestion_liv_mes['fecha_promesa'],dayfirst=False)"
   ]
  },
  {
   "cell_type": "code",
   "execution_count": 18,
   "metadata": {},
   "outputs": [],
   "source": [
    "#Hacemos el consolidado\n",
    "gestion_liv_mes[['credito','monto_promesa']] = transform_numeric(gestion_liv_mes,['credito','monto_promesa'])\n",
    "gestion_liv_mes = gestion_liv_mes[(gestion_liv_mes['monto_promesa']>50)]\n",
    "gestion_liv_mes = gestion_liv_mes[(gestion_liv_mes['monto_promesa']<500000)]\n",
    "gestion_liv_mes = gestion_liv_mes.drop_duplicates(subset = ['usuario','credito','fecha_promesa','monto_promesa'])\n",
    "gestion_liv_mes['Cliente'] = 'Liverpool'"
   ]
  },
  {
   "cell_type": "code",
   "execution_count": 19,
   "metadata": {},
   "outputs": [],
   "source": [
    "#Asignamos los aranceles de liverpool\n",
    "aranceles = [('DKN00REM',0.28),('DKN02REM',0.4),('DKN04REM',0.5),('SA001REM',0.15),('SA002REM',0.16)]\n",
    "aranceles = pd.DataFrame(aranceles)\n",
    "aranceles.columns = ['Id','Arancel']\n",
    "\n",
    "#Agregamos aranceles al consolidado\n",
    "pagos_liv2 = pd.merge(pagos_liv2,aranceles,how='left',on='Id')\n",
    "pagos_liv2['PagoArancel'] = [x*y for x,y in zip(pagos_liv2['Monto'],pagos_liv2['Arancel'])]\n",
    "pagos_liv2['Fecha Pago'] = pd.to_datetime(pagos_liv2['Fecha Pago'],dayfirst=True)\n",
    "pagos_liv2['Cliente'] = 'Liverpool'"
   ]
  },
  {
   "cell_type": "code",
   "execution_count": 20,
   "metadata": {},
   "outputs": [
    {
     "output_type": "execute_result",
     "data": {
      "text/plain": [
       "     Cliente  NumeroPromesas  SumaPromesas\n",
       "0  Liverpool             902     2988701.0"
      ],
      "text/html": "<div>\n<style scoped>\n    .dataframe tbody tr th:only-of-type {\n        vertical-align: middle;\n    }\n\n    .dataframe tbody tr th {\n        vertical-align: top;\n    }\n\n    .dataframe thead th {\n        text-align: right;\n    }\n</style>\n<table border=\"1\" class=\"dataframe\">\n  <thead>\n    <tr style=\"text-align: right;\">\n      <th></th>\n      <th>Cliente</th>\n      <th>NumeroPromesas</th>\n      <th>SumaPromesas</th>\n    </tr>\n  </thead>\n  <tbody>\n    <tr>\n      <th>0</th>\n      <td>Liverpool</td>\n      <td>902</td>\n      <td>2988701.0</td>\n    </tr>\n  </tbody>\n</table>\n</div>"
     },
     "metadata": {},
     "execution_count": 20
    }
   ],
   "source": [
    "#Obtenemos datos de los gestores de Liverpool\n",
    "promesas_mes_liv = pd.pivot_table(gestion_liv_mes,index=['Cliente'],values=['monto_promesa'],aggfunc=['count',np.sum],dropna=False)\n",
    "promesas_mes_liv = pd.DataFrame(promesas_mes_liv.to_records())\n",
    "promesas_mes_liv.columns = ['Cliente','NumeroPromesas','SumaPromesas']\n",
    "promesas_mes_liv.fillna(0,inplace=True)\n",
    "promesas_mes_liv"
   ]
  },
  {
   "cell_type": "code",
   "execution_count": 21,
   "metadata": {},
   "outputs": [
    {
     "output_type": "execute_result",
     "data": {
      "text/plain": [
       "     Cliente  PromesasRestantes\n",
       "0  Liverpool           474905.1"
      ],
      "text/html": "<div>\n<style scoped>\n    .dataframe tbody tr th:only-of-type {\n        vertical-align: middle;\n    }\n\n    .dataframe tbody tr th {\n        vertical-align: top;\n    }\n\n    .dataframe thead th {\n        text-align: right;\n    }\n</style>\n<table border=\"1\" class=\"dataframe\">\n  <thead>\n    <tr style=\"text-align: right;\">\n      <th></th>\n      <th>Cliente</th>\n      <th>PromesasRestantes</th>\n    </tr>\n  </thead>\n  <tbody>\n    <tr>\n      <th>0</th>\n      <td>Liverpool</td>\n      <td>474905.1</td>\n    </tr>\n  </tbody>\n</table>\n</div>"
     },
     "metadata": {},
     "execution_count": 21
    }
   ],
   "source": [
    "#Obtenemos las promesas restantes a partir del día de hoy\n",
    "restantes_liv = gestion_liv_mes.loc[gestion_liv_mes['fecha_promesa']>ayer]\n",
    "promesas_restantes_liv = pd.pivot_table(restantes_liv,index=['Cliente'],values=['monto_promesa'],aggfunc=[np.sum],dropna=False)\n",
    "promesas_restantes_liv = pd.DataFrame(promesas_restantes_liv.to_records())\n",
    "promesas_restantes_liv.columns = ['Cliente','PromesasRestantes']\n",
    "promesas_mes_liv.fillna(0,inplace=True)\n",
    "promesas_restantes_liv"
   ]
  },
  {
   "cell_type": "code",
   "execution_count": 22,
   "metadata": {},
   "outputs": [
    {
     "output_type": "execute_result",
     "data": {
      "text/plain": [
       "     Cliente  NumeroPagos   SumaPagos  SumaFacturacion  FechaFact\n",
       "0  Liverpool          716  2253072.79      783536.1734 2020-12-18"
      ],
      "text/html": "<div>\n<style scoped>\n    .dataframe tbody tr th:only-of-type {\n        vertical-align: middle;\n    }\n\n    .dataframe tbody tr th {\n        vertical-align: top;\n    }\n\n    .dataframe thead th {\n        text-align: right;\n    }\n</style>\n<table border=\"1\" class=\"dataframe\">\n  <thead>\n    <tr style=\"text-align: right;\">\n      <th></th>\n      <th>Cliente</th>\n      <th>NumeroPagos</th>\n      <th>SumaPagos</th>\n      <th>SumaFacturacion</th>\n      <th>FechaFact</th>\n    </tr>\n  </thead>\n  <tbody>\n    <tr>\n      <th>0</th>\n      <td>Liverpool</td>\n      <td>716</td>\n      <td>2253072.79</td>\n      <td>783536.1734</td>\n      <td>2020-12-18</td>\n    </tr>\n  </tbody>\n</table>\n</div>"
     },
     "metadata": {},
     "execution_count": 22
    }
   ],
   "source": [
    "#Total pagos Liver registrados\n",
    "pagos_totales_liv = pd.pivot_table(pagos_liv2,index=['Cliente'],values=['Monto','PagoArancel'],aggfunc=[np.sum,'count'],dropna=False)\n",
    "pagos_totales_liv = pd.DataFrame(pagos_totales_liv.to_records())\n",
    "pagos_totales_liv = pagos_totales_liv.iloc[:,[0,3,1,2]]\n",
    "pagos_totales_liv.columns = ['Cliente','NumeroPagos','SumaPagos','SumaFacturacion']\n",
    "pagos_totales_liv.fillna(0,inplace=True)\n",
    "pagos_totales_liv['FechaFact'] = max(pagos_liv2['Fecha Pago'])\n",
    "pagos_totales_liv['FechaFact'] = pd.to_datetime(pagos_totales_liv['FechaFact'],dayfirst=True)\n",
    "pagos_totales_liv"
   ]
  },
  {
   "cell_type": "code",
   "execution_count": 23,
   "metadata": {},
   "outputs": [
    {
     "output_type": "execute_result",
     "data": {
      "text/plain": [
       "     Cliente  NumeroPagos   SumaPagos  SumaFacturacion  FechaFact  \\\n",
       "0  Liverpool          716  2253072.79      783536.1734 2020-12-18   \n",
       "\n",
       "   NumeroPromesas  SumaPromesas  PromesasRestantes  \n",
       "0             902     2988701.0           474905.1  "
      ],
      "text/html": "<div>\n<style scoped>\n    .dataframe tbody tr th:only-of-type {\n        vertical-align: middle;\n    }\n\n    .dataframe tbody tr th {\n        vertical-align: top;\n    }\n\n    .dataframe thead th {\n        text-align: right;\n    }\n</style>\n<table border=\"1\" class=\"dataframe\">\n  <thead>\n    <tr style=\"text-align: right;\">\n      <th></th>\n      <th>Cliente</th>\n      <th>NumeroPagos</th>\n      <th>SumaPagos</th>\n      <th>SumaFacturacion</th>\n      <th>FechaFact</th>\n      <th>NumeroPromesas</th>\n      <th>SumaPromesas</th>\n      <th>PromesasRestantes</th>\n    </tr>\n  </thead>\n  <tbody>\n    <tr>\n      <th>0</th>\n      <td>Liverpool</td>\n      <td>716</td>\n      <td>2253072.79</td>\n      <td>783536.1734</td>\n      <td>2020-12-18</td>\n      <td>902</td>\n      <td>2988701.0</td>\n      <td>474905.1</td>\n    </tr>\n  </tbody>\n</table>\n</div>"
     },
     "metadata": {},
     "execution_count": 23
    }
   ],
   "source": [
    "final_liv = pd.merge(pagos_totales_liv,promesas_mes_liv,how='left',on=['Cliente'])\n",
    "final_liv = pd.merge(final_liv,promesas_restantes_liv,how='left',on=['Cliente'])\n",
    "#final_liv.insert(loc=0,column='Cliente',value='Liverpool')\n",
    "final_liv"
   ]
  },
  {
   "source": [
    "# Reporte Bradesco"
   ],
   "cell_type": "markdown",
   "metadata": {}
  },
  {
   "cell_type": "code",
   "execution_count": 24,
   "metadata": {},
   "outputs": [],
   "source": [
    "#Hacemos la consulta referente a las gestiones de Bradesco\n",
    "gestion_brad_mes = consulta_sql('bradescard_rpt_gestiones_detallado',mes,today)\n",
    "gestion_brad_mes.columns = ['folio_gestion','firma_id','unegocio_id','credito','nombre_credito','telefono','tipo_telefono','fecha_gestion','usuario','nombre_usuario','dictamen','accion','resultado','accion_resultado','fecha_promesa','monto_promesa','comentarios']\n",
    "gestion_brad_mes = gestion_brad_mes.loc[gestion_brad_mes['dictamen']=='PROMESA']\n",
    "gestion_brad_mes['credito'] = pd.to_numeric(gestion_brad_mes['credito'])\n",
    "gestion_brad_mes['monto_promesa'] = pd.to_numeric(gestion_brad_mes['monto_promesa'])\n",
    "gestion_brad_mes = gestion_brad_mes.drop_duplicates(subset=['credito','usuario','fecha_promesa','monto_promesa'])"
   ]
  },
  {
   "cell_type": "code",
   "execution_count": 25,
   "metadata": {},
   "outputs": [],
   "source": [
    "#Hacemos la union de asignacion y promesas\n",
    "cols = ['monto_promesa','credito']\n",
    "gestion_brad_mes[cols] = gestion_brad_mes[cols].apply(pd.to_numeric, errors='coerce')\n",
    "gestion_brad_mes = gestion_brad_mes[(gestion_brad_mes['monto_promesa']>50)]\n",
    "gestion_brad_mes = gestion_brad_mes[(gestion_brad_mes['monto_promesa']<500000)]\n",
    "gestion_brad_mes['Cliente'] = 'Bradesco'"
   ]
  },
  {
   "cell_type": "code",
   "execution_count": 26,
   "metadata": {},
   "outputs": [],
   "source": [
    "#Obtenemos los pagos totales por division\n",
    "pagos_totales_brad = pd.pivot_table(pagos_brad2,index=['TIPO_ASIGANCION'],values=['MONTO'],aggfunc=[np.sum,'count'],margins=True,dropna=False)\n",
    "pagos_totales_brad = pd.DataFrame(pagos_totales_brad.to_records())\n",
    "pagos_totales_brad = pagos_totales_brad.iloc[:,[0,2,1]]\n",
    "pagos_totales_brad.columns = ['Division','NumeroPagos','SumaPagos']\n",
    "pagos_totales_brad.fillna(0,inplace=True)"
   ]
  },
  {
   "cell_type": "code",
   "execution_count": 27,
   "metadata": {},
   "outputs": [],
   "source": [
    "C04PV = pagos_totales_brad.loc[pagos_totales_brad['Division']=='C0 4PV', 'SumaPagos'].item()\n",
    "C05PV = pagos_totales_brad.loc[pagos_totales_brad['Division']=='C0 5PV', 'SumaPagos'].item()\n",
    "C06PV = pagos_totales_brad.loc[pagos_totales_brad['Division']=='C0 6PV', 'SumaPagos'].item()\n",
    "A = pagos_totales_brad.loc[pagos_totales_brad['Division']=='A', 'SumaPagos'].item()\n",
    "C1 = pagos_totales_brad.loc[pagos_totales_brad['Division']=='C1', 'SumaPagos'].item()\n",
    "C2 = pagos_totales_brad.loc[pagos_totales_brad['Division']=='C2', 'SumaPagos'].item()\n",
    "C3 = pagos_totales_brad.loc[pagos_totales_brad['Division']=='C3', 'SumaPagos'].item()\n",
    "C4 = pagos_totales_brad.loc[pagos_totales_brad['Division']=='C4', 'SumaPagos'].item()\n",
    "B = pagos_totales_brad.loc[pagos_totales_brad['Division']=='B', 'SumaPagos'].item()"
   ]
  },
  {
   "cell_type": "code",
   "execution_count": 28,
   "metadata": {},
   "outputs": [],
   "source": [
    "def func(row):\n",
    "    if row['TIPO_ASIGANCION'] == 'C0 4PV':\n",
    "        return np.where((C04PV>0) & (C04PV<=c04pv1),arancel_4pv1,\n",
    "                        np.where((C04PV>c04pv1) & (C04PV<=c04pv2),arancel_4pv2,\n",
    "                                 np.where((C04PV>c04pv2) & (C04PV<=c04pv3),arancel_4pv3,arancel_4pv3+.03)))\n",
    "    elif row['TIPO_ASIGANCION'] == 'C0 5PV':\n",
    "        return np.where((C05PV>0) & (C05PV<=c05pv1),arancel_5pv1,\n",
    "                        np.where((C05PV>c05pv1) & (C05PV<=c05pv2),arancel_5pv2,\n",
    "                                 np.where((C05PV>c05pv2) & (C05PV<=c05pv3),arancel_5pv3,arancel_5pv3+.03)))\n",
    "    elif row['TIPO_ASIGANCION'] == 'C0 6PV':\n",
    "        return np.where((C06PV>0) & (C06PV<=c06pv1),arancel_6pv1,\n",
    "                        np.where((C06PV>c06pv1) & (C06PV<=c06pv2),arancel_6pv2,\n",
    "                                 np.where((C06PV>c06pv2) & (C06PV<=c06pv3),arancel_6pv3,arancel_6pv3+.03)))\n",
    "    elif row['TIPO_ASIGANCION'] == 'A':\n",
    "        return np.where((A>0) & (A<=a1),arancel_a1,\n",
    "                        np.where((A>a1) & (A<=a2),arancel_a2,\n",
    "                                 np.where((A>a2) & (A<=a3),arancel_a3,arancel_a3+.03)))\n",
    "    elif row['TIPO_ASIGANCION'] == 'B':\n",
    "        return np.where((B>0) & (B<=b1),arancel_b1,\n",
    "                        np.where((B>b1) & (B<=b2),arancel_b2,\n",
    "                                 np.where((B>b2) & (B<=b3),arancel_b3,arancel_b3+.03)))\n",
    "    elif row['TIPO_ASIGANCION'] == 'C1':\n",
    "        return np.where((C1>0) & (C1<=c11),arancel_c11,\n",
    "                        np.where((C1>c11) & (C1<=c12),arancel_c12,\n",
    "                                 np.where((C1>c12) & (C1<=c13),arancel_c13,arancel_c13+.03)))\n",
    "    elif row['TIPO_ASIGANCION'] == 'C2':\n",
    "        return np.where((C2>0) & (C2<=c21),arancel_c21,\n",
    "                        np.where((C2>c21) & (C2<=c22),arancel_c22,\n",
    "                                 np.where((C2>c22) & (C2<=c23),arancel_c23,arancel_c23+.03)))\n",
    "    elif row['TIPO_ASIGANCION'] == 'C3':\n",
    "        return np.where((C3>0) & (C3<=c31),arancel_c31,\n",
    "                        np.where((C3>c31) & (C3<=c32),arancel_c32,\n",
    "                                 np.where((C3>c32) & (C3<=c33),arancel_c33,arancel_c33+.03)))\n",
    "    elif row['TIPO_ASIGANCION'] == 'C4':\n",
    "        return np.where((C4>0) & (C4<=c41),arancel_c41,\n",
    "                        np.where((C4>c41) & (C4<=c42),arancel_c42,\n",
    "                                 np.where((C4>c42) & (C4<=c43),arancel_c43,arancel_c43+.03)))\n",
    "    \n",
    "    else:\n",
    "        return 0\n",
    "\n",
    "pagos_brad2['Arancel'] = pagos_brad2.apply(func, axis=1)"
   ]
  },
  {
   "cell_type": "code",
   "execution_count": 29,
   "metadata": {},
   "outputs": [],
   "source": [
    "pagos_brad2['Facturacion'] = [x*y for x,y in zip(pagos_brad2['MONTO'],pagos_brad2['Arancel'])]\n",
    "pagos_brad2['Cliente'] = 'Bradesco'"
   ]
  },
  {
   "cell_type": "code",
   "execution_count": 30,
   "metadata": {},
   "outputs": [
    {
     "output_type": "execute_result",
     "data": {
      "text/plain": [
       "    Cliente  NumeroPromesas  SumaPromesas\n",
       "0  Bradesco            2080    3408458.65"
      ],
      "text/html": "<div>\n<style scoped>\n    .dataframe tbody tr th:only-of-type {\n        vertical-align: middle;\n    }\n\n    .dataframe tbody tr th {\n        vertical-align: top;\n    }\n\n    .dataframe thead th {\n        text-align: right;\n    }\n</style>\n<table border=\"1\" class=\"dataframe\">\n  <thead>\n    <tr style=\"text-align: right;\">\n      <th></th>\n      <th>Cliente</th>\n      <th>NumeroPromesas</th>\n      <th>SumaPromesas</th>\n    </tr>\n  </thead>\n  <tbody>\n    <tr>\n      <th>0</th>\n      <td>Bradesco</td>\n      <td>2080</td>\n      <td>3408458.65</td>\n    </tr>\n  </tbody>\n</table>\n</div>"
     },
     "metadata": {},
     "execution_count": 30
    }
   ],
   "source": [
    "#Obtenemos datos de las promesas de Bradesco\n",
    "prom_brad_mes = pd.pivot_table(gestion_brad_mes,index='Cliente',values=['monto_promesa'], aggfunc = ['count',np.sum],dropna=False)\n",
    "prom_brad_mes = pd.DataFrame(prom_brad_mes.to_records())\n",
    "prom_brad_mes.columns = ['Cliente','NumeroPromesas','SumaPromesas']\n",
    "prom_brad_mes.fillna(0,inplace=True)\n",
    "prom_brad_mes"
   ]
  },
  {
   "cell_type": "code",
   "execution_count": 31,
   "metadata": {},
   "outputs": [],
   "source": [
    "gestion_brad_mes['fecha_promesa'] = gestion_brad_mes['fecha_promesa'].map(str)\n",
    "gestion_brad_mes['fecha_promesa2'] = [x[:4] for x in gestion_brad_mes['fecha_promesa']]\n",
    "gestion_brad_mes = gestion_brad_mes.loc[gestion_brad_mes['fecha_promesa2']=='2020']\n",
    "gestion_brad_mes['fecha_promesa'] = pd.to_datetime(gestion_brad_mes['fecha_promesa'],dayfirst=False)"
   ]
  },
  {
   "cell_type": "code",
   "execution_count": 32,
   "metadata": {},
   "outputs": [
    {
     "output_type": "execute_result",
     "data": {
      "text/plain": [
       "    Cliente  PromesasRestantes\n",
       "0  Bradesco           561020.0"
      ],
      "text/html": "<div>\n<style scoped>\n    .dataframe tbody tr th:only-of-type {\n        vertical-align: middle;\n    }\n\n    .dataframe tbody tr th {\n        vertical-align: top;\n    }\n\n    .dataframe thead th {\n        text-align: right;\n    }\n</style>\n<table border=\"1\" class=\"dataframe\">\n  <thead>\n    <tr style=\"text-align: right;\">\n      <th></th>\n      <th>Cliente</th>\n      <th>PromesasRestantes</th>\n    </tr>\n  </thead>\n  <tbody>\n    <tr>\n      <th>0</th>\n      <td>Bradesco</td>\n      <td>561020.0</td>\n    </tr>\n  </tbody>\n</table>\n</div>"
     },
     "metadata": {},
     "execution_count": 32
    }
   ],
   "source": [
    "#Obtenemos las promesas restantes a partir del día de hoy\n",
    "restantes_brad = gestion_brad_mes.loc[gestion_brad_mes['fecha_promesa']>ayer]\n",
    "promesas_restantes_brad = pd.pivot_table(restantes_brad,index=['Cliente'],values=['monto_promesa'],aggfunc=[np.sum],dropna=False)\n",
    "promesas_restantes_brad = pd.DataFrame(promesas_restantes_brad.to_records())\n",
    "promesas_restantes_brad.columns = ['Cliente','PromesasRestantes']\n",
    "promesas_restantes_brad.fillna(0,inplace=True)\n",
    "promesas_restantes_brad"
   ]
  },
  {
   "cell_type": "code",
   "execution_count": 33,
   "metadata": {},
   "outputs": [
    {
     "output_type": "execute_result",
     "data": {
      "text/plain": [
       "    Cliente  NumeroPagos   SumaPagos  SumaFacturacion  FechaFact\n",
       "0  Bradesco         1596  2601999.32      342591.8027 2020-12-17"
      ],
      "text/html": "<div>\n<style scoped>\n    .dataframe tbody tr th:only-of-type {\n        vertical-align: middle;\n    }\n\n    .dataframe tbody tr th {\n        vertical-align: top;\n    }\n\n    .dataframe thead th {\n        text-align: right;\n    }\n</style>\n<table border=\"1\" class=\"dataframe\">\n  <thead>\n    <tr style=\"text-align: right;\">\n      <th></th>\n      <th>Cliente</th>\n      <th>NumeroPagos</th>\n      <th>SumaPagos</th>\n      <th>SumaFacturacion</th>\n      <th>FechaFact</th>\n    </tr>\n  </thead>\n  <tbody>\n    <tr>\n      <th>0</th>\n      <td>Bradesco</td>\n      <td>1596</td>\n      <td>2601999.32</td>\n      <td>342591.8027</td>\n      <td>2020-12-17</td>\n    </tr>\n  </tbody>\n</table>\n</div>"
     },
     "metadata": {},
     "execution_count": 33
    }
   ],
   "source": [
    "pagos_totales_brad2 = pd.pivot_table(pagos_brad2,index=['Cliente'],values=['MONTO','Facturacion'],aggfunc=['count',np.sum],dropna=False)\n",
    "pagos_totales_brad2 = pd.DataFrame(pagos_totales_brad2.to_records())\n",
    "pagos_totales_brad2 = pagos_totales_brad2.iloc[:,[0,1,4,3]]\n",
    "pagos_totales_brad2.columns = ['Cliente','NumeroPagos','SumaPagos','SumaFacturacion']\n",
    "pagos_totales_brad2.fillna(0,inplace=True)\n",
    "pagos_totales_brad2['FechaFact'] = max(pagos_brad2['FECHA_PAGO'])\n",
    "pagos_totales_brad2"
   ]
  },
  {
   "cell_type": "code",
   "execution_count": 34,
   "metadata": {},
   "outputs": [
    {
     "output_type": "execute_result",
     "data": {
      "text/plain": [
       "    Cliente  NumeroPagos   SumaPagos  SumaFacturacion  FechaFact  \\\n",
       "0  Bradesco         1596  2601999.32      342591.8027 2020-12-17   \n",
       "\n",
       "   NumeroPromesas  SumaPromesas  PromesasRestantes  \n",
       "0            2080    3408458.65           561020.0  "
      ],
      "text/html": "<div>\n<style scoped>\n    .dataframe tbody tr th:only-of-type {\n        vertical-align: middle;\n    }\n\n    .dataframe tbody tr th {\n        vertical-align: top;\n    }\n\n    .dataframe thead th {\n        text-align: right;\n    }\n</style>\n<table border=\"1\" class=\"dataframe\">\n  <thead>\n    <tr style=\"text-align: right;\">\n      <th></th>\n      <th>Cliente</th>\n      <th>NumeroPagos</th>\n      <th>SumaPagos</th>\n      <th>SumaFacturacion</th>\n      <th>FechaFact</th>\n      <th>NumeroPromesas</th>\n      <th>SumaPromesas</th>\n      <th>PromesasRestantes</th>\n    </tr>\n  </thead>\n  <tbody>\n    <tr>\n      <th>0</th>\n      <td>Bradesco</td>\n      <td>1596</td>\n      <td>2601999.32</td>\n      <td>342591.8027</td>\n      <td>2020-12-17</td>\n      <td>2080</td>\n      <td>3408458.65</td>\n      <td>561020.0</td>\n    </tr>\n  </tbody>\n</table>\n</div>"
     },
     "metadata": {},
     "execution_count": 34
    }
   ],
   "source": [
    "final_brad = pd.merge(pagos_totales_brad2,prom_brad_mes,how='left',on=['Cliente'])\n",
    "final_brad = pd.merge(final_brad,promesas_restantes_brad,how='left',on=['Cliente'])\n",
    "final_brad.fillna(0,inplace=True)\n",
    "final_brad"
   ]
  },
  {
   "source": [
    "# Reporte Banco Azteca  "
   ],
   "cell_type": "markdown",
   "metadata": {}
  },
  {
   "cell_type": "code",
   "execution_count": 35,
   "metadata": {},
   "outputs": [],
   "source": [
    "#Hacemos la consulta referente a las gestiones de Banco Azteca\n",
    "gestion_baz = consulta_sql('baz_rpt_gestiones_detallado',mes,today)\n",
    "gestion_baz.columns = ['folio_gestion','firma_id','unegocio_id','credito','nombre_credito','telefono','tipo_telefono','fecha_gestion','usuario','nombre_usuario','dictamen','accion_resultado','fecha_promesa','monto_promesa','comentarios']\n",
    "gestion_baz = gestion_baz.loc[gestion_baz['dictamen']=='PROMESA']"
   ]
  },
  {
   "cell_type": "code",
   "execution_count": 36,
   "metadata": {},
   "outputs": [],
   "source": [
    "gestion_baz['fecha_promesa'] = gestion_baz['fecha_promesa'].map(str)\n",
    "gestion_baz['fecha_promesa2'] = [x[:4] for x in gestion_baz['fecha_promesa']]\n",
    "gestion_baz = gestion_baz.loc[gestion_baz['fecha_promesa2']=='2020']\n",
    "gestion_baz['fecha_promesa'] = pd.to_datetime(gestion_baz['fecha_promesa'],dayfirst=False)\n",
    "gestion_baz['monto_promesa'] = pd.to_numeric(gestion_baz['monto_promesa'])\n",
    "gestion_baz['Cliente'] = 'Banco Azteca'"
   ]
  },
  {
   "cell_type": "code",
   "execution_count": 37,
   "metadata": {},
   "outputs": [
    {
     "output_type": "execute_result",
     "data": {
      "text/plain": [
       "        Cliente  NumeroPromesas  SumaPromesas\n",
       "0  Banco Azteca            1550   21422631.98"
      ],
      "text/html": "<div>\n<style scoped>\n    .dataframe tbody tr th:only-of-type {\n        vertical-align: middle;\n    }\n\n    .dataframe tbody tr th {\n        vertical-align: top;\n    }\n\n    .dataframe thead th {\n        text-align: right;\n    }\n</style>\n<table border=\"1\" class=\"dataframe\">\n  <thead>\n    <tr style=\"text-align: right;\">\n      <th></th>\n      <th>Cliente</th>\n      <th>NumeroPromesas</th>\n      <th>SumaPromesas</th>\n    </tr>\n  </thead>\n  <tbody>\n    <tr>\n      <th>0</th>\n      <td>Banco Azteca</td>\n      <td>1550</td>\n      <td>21422631.98</td>\n    </tr>\n  </tbody>\n</table>\n</div>"
     },
     "metadata": {},
     "execution_count": 37
    }
   ],
   "source": [
    "#Obtenemos datos de las promesas de Banco Azteca\n",
    "gestion_baz = gestion_baz.drop_duplicates(subset=['credito','fecha_promesa','monto_promesa'])\n",
    "prom_baz_div_mes = pd.pivot_table(gestion_baz,index=['Cliente'],values=['monto_promesa'],aggfunc=('count',np.sum),dropna=False)\n",
    "prom_baz_div_mes = pd.DataFrame(prom_baz_div_mes.to_records())\n",
    "prom_baz_div_mes.columns = ['Cliente','NumeroPromesas','SumaPromesas']\n",
    "prom_baz_div_mes.fillna(0,inplace=True)\n",
    "prom_baz_div_mes"
   ]
  },
  {
   "cell_type": "code",
   "execution_count": 38,
   "metadata": {},
   "outputs": [
    {
     "output_type": "execute_result",
     "data": {
      "text/plain": [
       "        Cliente  PromesasRestantes\n",
       "0  Banco Azteca        10366768.49"
      ],
      "text/html": "<div>\n<style scoped>\n    .dataframe tbody tr th:only-of-type {\n        vertical-align: middle;\n    }\n\n    .dataframe tbody tr th {\n        vertical-align: top;\n    }\n\n    .dataframe thead th {\n        text-align: right;\n    }\n</style>\n<table border=\"1\" class=\"dataframe\">\n  <thead>\n    <tr style=\"text-align: right;\">\n      <th></th>\n      <th>Cliente</th>\n      <th>PromesasRestantes</th>\n    </tr>\n  </thead>\n  <tbody>\n    <tr>\n      <th>0</th>\n      <td>Banco Azteca</td>\n      <td>10366768.49</td>\n    </tr>\n  </tbody>\n</table>\n</div>"
     },
     "metadata": {},
     "execution_count": 38
    }
   ],
   "source": [
    "#Obtenemos las promesas restantes a partir del día de hoy\n",
    "restantes_baz = gestion_baz.loc[gestion_baz['fecha_promesa']>=ayer]\n",
    "promesas_restantes_baz = pd.pivot_table(restantes_baz,index=['Cliente'],values=['monto_promesa'],aggfunc=[np.sum],dropna=False)\n",
    "promesas_restantes_baz = pd.DataFrame(promesas_restantes_baz.to_records())\n",
    "promesas_restantes_baz.columns = ['Cliente','PromesasRestantes']\n",
    "promesas_restantes_baz.fillna(0,inplace=True)\n",
    "promesas_restantes_baz"
   ]
  },
  {
   "cell_type": "code",
   "execution_count": 39,
   "metadata": {},
   "outputs": [],
   "source": [
    "pagos_baz = pd.concat([pagos_baz_26,pagos_baz_recovery],ignore_index=True)\n",
    "pagos_baz = pagos_baz.loc[pagos_baz['CARGO AUTOMATICO']=='NO']\n",
    "pagos_baz['Recuperado'] = pagos_baz['RECUPERACION DE CAPITAL']+pagos_baz['RECUPERACION DE MORATORIOS']\n",
    "pagos_baz['Cliente'] = 'Banco Azteca'"
   ]
  },
  {
   "cell_type": "code",
   "execution_count": 40,
   "metadata": {},
   "outputs": [
    {
     "output_type": "execute_result",
     "data": {
      "text/plain": [
       "0    0.169313\n",
       "dtype: float64"
      ]
     },
     "metadata": {},
     "execution_count": 40
    }
   ],
   "source": [
    "pagos_totales_baz = pd.pivot_table(fact_baz,index=['Cliente'],values=['Total Recuperado','Total Comisión'],aggfunc=[np.sum],dropna=False)\n",
    "pagos_totales_baz = pd.DataFrame(pagos_totales_baz.to_records())\n",
    "pagos_totales_baz.columns = ['Cliente','Recuperado','SumaPagos']\n",
    "porcentaje_prom_arancel_baz = pagos_totales_baz['Recuperado']/pagos_totales_baz['SumaPagos']\n",
    "porcentaje_prom_arancel_baz"
   ]
  },
  {
   "cell_type": "code",
   "execution_count": 41,
   "metadata": {},
   "outputs": [
    {
     "output_type": "execute_result",
     "data": {
      "text/plain": [
       "        Cliente  NumeroPagos  SumaPagos  SumaFacturacion  FechaFact\n",
       "0  Banco Azteca         1748    1648177    279057.955072 2020-12-17"
      ],
      "text/html": "<div>\n<style scoped>\n    .dataframe tbody tr th:only-of-type {\n        vertical-align: middle;\n    }\n\n    .dataframe tbody tr th {\n        vertical-align: top;\n    }\n\n    .dataframe thead th {\n        text-align: right;\n    }\n</style>\n<table border=\"1\" class=\"dataframe\">\n  <thead>\n    <tr style=\"text-align: right;\">\n      <th></th>\n      <th>Cliente</th>\n      <th>NumeroPagos</th>\n      <th>SumaPagos</th>\n      <th>SumaFacturacion</th>\n      <th>FechaFact</th>\n    </tr>\n  </thead>\n  <tbody>\n    <tr>\n      <th>0</th>\n      <td>Banco Azteca</td>\n      <td>1748</td>\n      <td>1648177</td>\n      <td>279057.955072</td>\n      <td>2020-12-17</td>\n    </tr>\n  </tbody>\n</table>\n</div>"
     },
     "metadata": {},
     "execution_count": 41
    }
   ],
   "source": [
    "pagos_fact_baz = pd.pivot_table(pagos_baz,index=['Cliente'],values=['Recuperado'],aggfunc=['count',np.sum])\n",
    "pagos_fact_baz = to_dataframe(pagos_fact_baz)\n",
    "pagos_fact_baz.columns = ['Cliente','NumeroPagos','SumaPagos']\n",
    "pagos_fact_baz['SumaFacturacion'] = pagos_fact_baz['SumaPagos']*porcentaje_prom_arancel_baz\n",
    "pagos_fact_baz['FechaFact'] = max(pagos_baz['DIA'])\n",
    "pagos_fact_baz"
   ]
  },
  {
   "cell_type": "code",
   "execution_count": 42,
   "metadata": {},
   "outputs": [
    {
     "output_type": "execute_result",
     "data": {
      "text/plain": [
       "        Cliente  NumeroPagos  SumaPagos  SumaFacturacion  FechaFact  \\\n",
       "0  Banco Azteca         1748    1648177    279057.955072 2020-12-17   \n",
       "\n",
       "   NumeroPromesas  SumaPromesas  PromesasRestantes  \n",
       "0            1550   21422631.98        10366768.49  "
      ],
      "text/html": "<div>\n<style scoped>\n    .dataframe tbody tr th:only-of-type {\n        vertical-align: middle;\n    }\n\n    .dataframe tbody tr th {\n        vertical-align: top;\n    }\n\n    .dataframe thead th {\n        text-align: right;\n    }\n</style>\n<table border=\"1\" class=\"dataframe\">\n  <thead>\n    <tr style=\"text-align: right;\">\n      <th></th>\n      <th>Cliente</th>\n      <th>NumeroPagos</th>\n      <th>SumaPagos</th>\n      <th>SumaFacturacion</th>\n      <th>FechaFact</th>\n      <th>NumeroPromesas</th>\n      <th>SumaPromesas</th>\n      <th>PromesasRestantes</th>\n    </tr>\n  </thead>\n  <tbody>\n    <tr>\n      <th>0</th>\n      <td>Banco Azteca</td>\n      <td>1748</td>\n      <td>1648177</td>\n      <td>279057.955072</td>\n      <td>2020-12-17</td>\n      <td>1550</td>\n      <td>21422631.98</td>\n      <td>10366768.49</td>\n    </tr>\n  </tbody>\n</table>\n</div>"
     },
     "metadata": {},
     "execution_count": 42
    }
   ],
   "source": [
    "final_baz = pd.merge(pagos_fact_baz,prom_baz_div_mes,how='left',on=['Cliente'])\n",
    "final_baz = pd.merge(final_baz,promesas_restantes_baz,how='left',on=['Cliente'])\n",
    "final_baz.fillna(0,inplace=True)\n",
    "final_baz"
   ]
  },
  {
   "source": [
    "# Reporte Banco Azteca Renta"
   ],
   "cell_type": "markdown",
   "metadata": {}
  },
  {
   "cell_type": "code",
   "execution_count": 43,
   "metadata": {},
   "outputs": [
    {
     "output_type": "execute_result",
     "data": {
      "text/plain": [
       "        Cliente  NumeroPagos    SumaPagos  FechaFact\n",
       "0  Renta Azteca        38625  26085305.45 2020-12-18"
      ],
      "text/html": "<div>\n<style scoped>\n    .dataframe tbody tr th:only-of-type {\n        vertical-align: middle;\n    }\n\n    .dataframe tbody tr th {\n        vertical-align: top;\n    }\n\n    .dataframe thead th {\n        text-align: right;\n    }\n</style>\n<table border=\"1\" class=\"dataframe\">\n  <thead>\n    <tr style=\"text-align: right;\">\n      <th></th>\n      <th>Cliente</th>\n      <th>NumeroPagos</th>\n      <th>SumaPagos</th>\n      <th>FechaFact</th>\n    </tr>\n  </thead>\n  <tbody>\n    <tr>\n      <th>0</th>\n      <td>Renta Azteca</td>\n      <td>38625</td>\n      <td>26085305.45</td>\n      <td>2020-12-18</td>\n    </tr>\n  </tbody>\n</table>\n</div>"
     },
     "metadata": {},
     "execution_count": 43
    }
   ],
   "source": [
    "pagos_renta = pd.pivot_table(pagos_baz_renta2,index=['Cliente'],values=['FNMONTOPAGADO'],aggfunc=['count',np.sum],dropna=False)\n",
    "pagos_renta = pd.DataFrame(pagos_renta.to_records())\n",
    "pagos_renta.columns = ['Cliente','NumeroPagos','SumaPagos']\n",
    "pagos_renta['FechaFact'] = max(pagos_baz_renta2['FDFECHAABONO'])\n",
    "pagos_renta"
   ]
  },
  {
   "source": [
    "# Reporte Credifiel"
   ],
   "cell_type": "markdown",
   "metadata": {}
  },
  {
   "cell_type": "code",
   "execution_count": 44,
   "metadata": {},
   "outputs": [],
   "source": [
    "#Hacemos la consulta referente a las gestiones de Credifiel\n",
    "gestion_cred = consulta_sql('credifiel_rpt_gestiones_detallado',mes,today)\n",
    "gestion_cred.columns = ['folio_gestion','unegocio_id','fecha_gestion','hora_gestion','credito','nombre_credito','telefono','usuario','nombre_usuario','accion','resultado','fecha_promesa','monto_promesa','comentarios','accion_credifiel','resultado_credifiel','dictamen']\n",
    "gestion_cred['monto_promesa'] = pd.to_numeric(gestion_cred['monto_promesa'])\n",
    "gestion_cred = gestion_cred.loc[gestion_cred['accion_credifiel']=='PDP']\n",
    "gestion_cred['credito'] = [x[3:] for x in gestion_cred['credito']]\n",
    "gestion_cred['credito'] = pd.to_numeric(gestion_cred['credito'])\n",
    "gestion_cred['Cliente'] = 'Credifiel'\n",
    "#gestion_cred.head(3)"
   ]
  },
  {
   "cell_type": "code",
   "execution_count": 45,
   "metadata": {},
   "outputs": [
    {
     "output_type": "execute_result",
     "data": {
      "text/plain": [
       "      ID      FECHA  IMPORTE   ARANCEL  FACTURACION    CLIENTE\n",
       "0  74246 2020-12-01   388.51  0.191569    74.426327  Credifiel"
      ],
      "text/html": "<div>\n<style scoped>\n    .dataframe tbody tr th:only-of-type {\n        vertical-align: middle;\n    }\n\n    .dataframe tbody tr th {\n        vertical-align: top;\n    }\n\n    .dataframe thead th {\n        text-align: right;\n    }\n</style>\n<table border=\"1\" class=\"dataframe\">\n  <thead>\n    <tr style=\"text-align: right;\">\n      <th></th>\n      <th>ID</th>\n      <th>FECHA</th>\n      <th>IMPORTE</th>\n      <th>ARANCEL</th>\n      <th>FACTURACION</th>\n      <th>CLIENTE</th>\n    </tr>\n  </thead>\n  <tbody>\n    <tr>\n      <th>0</th>\n      <td>74246</td>\n      <td>2020-12-01</td>\n      <td>388.51</td>\n      <td>0.191569</td>\n      <td>74.426327</td>\n      <td>Credifiel</td>\n    </tr>\n  </tbody>\n</table>\n</div>"
     },
     "metadata": {},
     "execution_count": 45
    }
   ],
   "source": [
    "#Hacemos el consolidado de la asignacion y promesado\n",
    "consolidado_pagos_cred = pd.merge(pagos_cred2,asignacion_cred,how='left',left_on=['ID'],right_on=['CREDITO'])\n",
    "consolidado_pagos_cred.drop('CREDITO',1,inplace=True)\n",
    "consolidado_pagos_cred['ARANCEL'] = np.where(consolidado_pagos_cred['ARANCEL'].isna(),np.mean(consolidado_pagos_cred['ARANCEL']),consolidado_pagos_cred['ARANCEL'])\n",
    "consolidado_pagos_cred['FACTURACION'] = consolidado_pagos_cred['IMPORTE']*consolidado_pagos_cred['ARANCEL']\n",
    "consolidado_pagos_cred['CLIENTE'] = 'Credifiel'\n",
    "consolidado_pagos_cred.head(1)"
   ]
  },
  {
   "cell_type": "code",
   "execution_count": 46,
   "metadata": {},
   "outputs": [
    {
     "output_type": "execute_result",
     "data": {
      "text/plain": [
       "     Cliente  NumeroPromesas  SumaPromesas\n",
       "0  Credifiel             107      342106.3"
      ],
      "text/html": "<div>\n<style scoped>\n    .dataframe tbody tr th:only-of-type {\n        vertical-align: middle;\n    }\n\n    .dataframe tbody tr th {\n        vertical-align: top;\n    }\n\n    .dataframe thead th {\n        text-align: right;\n    }\n</style>\n<table border=\"1\" class=\"dataframe\">\n  <thead>\n    <tr style=\"text-align: right;\">\n      <th></th>\n      <th>Cliente</th>\n      <th>NumeroPromesas</th>\n      <th>SumaPromesas</th>\n    </tr>\n  </thead>\n  <tbody>\n    <tr>\n      <th>0</th>\n      <td>Credifiel</td>\n      <td>107</td>\n      <td>342106.3</td>\n    </tr>\n  </tbody>\n</table>\n</div>"
     },
     "metadata": {},
     "execution_count": 46
    }
   ],
   "source": [
    "#Obtenemos datos de las promesas de Bradesco\n",
    "prom_cred_div_mes = pd.pivot_table(gestion_cred,index=['Cliente'],values=['monto_promesa'], aggfunc=['count',np.sum],dropna=False)\n",
    "prom_cred_div_mes = pd.DataFrame(prom_cred_div_mes.to_records())\n",
    "prom_cred_div_mes.columns = ['Cliente','NumeroPromesas','SumaPromesas']\n",
    "#prom_brad_div_mes[['NumeroPromesas','PromedioPromesa','SumaPromesas']] = prom_brad_gestor_mes[['NumeroPromesas','PromedioPromesa','SumaPromesas']].applymap(\"{0:.2f}\".format)\n",
    "prom_cred_div_mes"
   ]
  },
  {
   "cell_type": "code",
   "execution_count": 47,
   "metadata": {},
   "outputs": [
    {
     "output_type": "execute_result",
     "data": {
      "text/plain": [
       "     Cliente  PromesasRestantes\n",
       "0  Credifiel          125984.69"
      ],
      "text/html": "<div>\n<style scoped>\n    .dataframe tbody tr th:only-of-type {\n        vertical-align: middle;\n    }\n\n    .dataframe tbody tr th {\n        vertical-align: top;\n    }\n\n    .dataframe thead th {\n        text-align: right;\n    }\n</style>\n<table border=\"1\" class=\"dataframe\">\n  <thead>\n    <tr style=\"text-align: right;\">\n      <th></th>\n      <th>Cliente</th>\n      <th>PromesasRestantes</th>\n    </tr>\n  </thead>\n  <tbody>\n    <tr>\n      <th>0</th>\n      <td>Credifiel</td>\n      <td>125984.69</td>\n    </tr>\n  </tbody>\n</table>\n</div>"
     },
     "metadata": {},
     "execution_count": 47
    }
   ],
   "source": [
    "#Obtenemos las promesas restantes a partir del día de hoy\n",
    "gestion_cred['fecha_promesa'] = pd.to_datetime(gestion_cred['fecha_promesa'],dayfirst=False)\n",
    "restantes_cred = gestion_cred.loc[gestion_cred['fecha_promesa']>=ayer]\n",
    "promesas_restantes_cred = pd.pivot_table(restantes_cred,index=['Cliente'],values=['monto_promesa'],aggfunc=[np.sum],dropna=False)\n",
    "promesas_restantes_cred = pd.DataFrame(promesas_restantes_cred.to_records())\n",
    "promesas_restantes_cred.columns = ['Cliente','PromesasRestantes']\n",
    "promesas_restantes_cred.fillna(0,inplace=True)\n",
    "#promesas_restantes_brad[['SumaPromesas']] = promesas_restantes_brad[['SumaPromesas']].applymap(\"{0:.2f}\".format)\n",
    "promesas_restantes_cred"
   ]
  },
  {
   "cell_type": "code",
   "execution_count": 48,
   "metadata": {},
   "outputs": [
    {
     "output_type": "execute_result",
     "data": {
      "text/plain": [
       "     Cliente  NumeroPagos  SumaPagos  SumaFacturacion  FechaFact\n",
       "0  Credifiel           65  180437.74     36731.721398 2020-12-15"
      ],
      "text/html": "<div>\n<style scoped>\n    .dataframe tbody tr th:only-of-type {\n        vertical-align: middle;\n    }\n\n    .dataframe tbody tr th {\n        vertical-align: top;\n    }\n\n    .dataframe thead th {\n        text-align: right;\n    }\n</style>\n<table border=\"1\" class=\"dataframe\">\n  <thead>\n    <tr style=\"text-align: right;\">\n      <th></th>\n      <th>Cliente</th>\n      <th>NumeroPagos</th>\n      <th>SumaPagos</th>\n      <th>SumaFacturacion</th>\n      <th>FechaFact</th>\n    </tr>\n  </thead>\n  <tbody>\n    <tr>\n      <th>0</th>\n      <td>Credifiel</td>\n      <td>65</td>\n      <td>180437.74</td>\n      <td>36731.721398</td>\n      <td>2020-12-15</td>\n    </tr>\n  </tbody>\n</table>\n</div>"
     },
     "metadata": {},
     "execution_count": 48
    }
   ],
   "source": [
    "pagos_totales_cred = pd.pivot_table(consolidado_pagos_cred,index=['CLIENTE'],values=['IMPORTE','FACTURACION'],aggfunc=['count',np.sum],dropna=False)\n",
    "pagos_totales_cred = pd.DataFrame(pagos_totales_cred.to_records())\n",
    "pagos_totales_cred = pagos_totales_cred.iloc[:,[0,1,4,3]]\n",
    "pagos_totales_cred.columns = ['Cliente','NumeroPagos','SumaPagos','SumaFacturacion']\n",
    "pagos_totales_cred.fillna(0,inplace=True)\n",
    "#pagos_totales_cred[['SumaPagos','SumaFacturacion']] = pagos_totales_cred[['SumaPagos','SumaFacturacion']].applymap(\"${0:,.2f}\".format)\n",
    "pagos_totales_cred['FechaFact'] = max(consolidado_pagos_cred['FECHA'])\n",
    "pagos_totales_cred"
   ]
  },
  {
   "cell_type": "code",
   "execution_count": 49,
   "metadata": {},
   "outputs": [
    {
     "output_type": "execute_result",
     "data": {
      "text/plain": [
       "     Cliente  NumeroPagos  SumaPagos  SumaFacturacion  FechaFact  \\\n",
       "0  Credifiel           65  180437.74     36731.721398 2020-12-15   \n",
       "\n",
       "   NumeroPromesas  SumaPromesas  PromesasRestantes  \n",
       "0             107      342106.3          125984.69  "
      ],
      "text/html": "<div>\n<style scoped>\n    .dataframe tbody tr th:only-of-type {\n        vertical-align: middle;\n    }\n\n    .dataframe tbody tr th {\n        vertical-align: top;\n    }\n\n    .dataframe thead th {\n        text-align: right;\n    }\n</style>\n<table border=\"1\" class=\"dataframe\">\n  <thead>\n    <tr style=\"text-align: right;\">\n      <th></th>\n      <th>Cliente</th>\n      <th>NumeroPagos</th>\n      <th>SumaPagos</th>\n      <th>SumaFacturacion</th>\n      <th>FechaFact</th>\n      <th>NumeroPromesas</th>\n      <th>SumaPromesas</th>\n      <th>PromesasRestantes</th>\n    </tr>\n  </thead>\n  <tbody>\n    <tr>\n      <th>0</th>\n      <td>Credifiel</td>\n      <td>65</td>\n      <td>180437.74</td>\n      <td>36731.721398</td>\n      <td>2020-12-15</td>\n      <td>107</td>\n      <td>342106.3</td>\n      <td>125984.69</td>\n    </tr>\n  </tbody>\n</table>\n</div>"
     },
     "metadata": {},
     "execution_count": 49
    }
   ],
   "source": [
    "final_cred = pd.merge(pagos_totales_cred,prom_cred_div_mes,how='left',on=['Cliente'])\n",
    "final_cred = pd.merge(final_cred,promesas_restantes_cred,how='left',on=['Cliente'])\n",
    "final_cred.fillna(0,inplace=True)\n",
    "final_cred"
   ]
  },
  {
   "source": [
    "# Reporte final Naucalpan"
   ],
   "cell_type": "markdown",
   "metadata": {}
  },
  {
   "cell_type": "code",
   "execution_count": 59,
   "metadata": {},
   "outputs": [
    {
     "output_type": "execute_result",
     "data": {
      "text/plain": [
       "     Pais   Sucursal       Cliente  NumeroPagos   SumaPagos  SumaFacturacion  \\\n",
       "0  Mexico  Naucalpan     Liverpool          716  2253072.79        783536.17   \n",
       "1  Mexico  Naucalpan      Bradesco         1596  2601999.32        342591.80   \n",
       "2  Mexico  Naucalpan     Credifiel           65   180437.74         36731.72   \n",
       "3  Mexico  Naucalpan  Banco Azteca         1748  1648177.00        279057.96   \n",
       "\n",
       "   FechaFact  NumeroPromesas  SumaPromesas  PromesasRestantes       Meta  \\\n",
       "0 2020-12-18             902    2988701.00          474905.10  1000000.0   \n",
       "1 2020-12-17            2080    3408458.65          561020.00  1200000.0   \n",
       "2 2020-12-15             107     342106.30          125984.69   120000.0   \n",
       "3 2020-12-17            1550   21422631.98        10366768.49        0.0   \n",
       "\n",
       "    Avance%  TendenciaCierre1  \n",
       "0  0.783536        1305893.62  \n",
       "1  0.285493         604573.77  \n",
       "2  0.306098          73463.44  \n",
       "3  0.000000         492455.21  "
      ],
      "text/html": "<div>\n<style scoped>\n    .dataframe tbody tr th:only-of-type {\n        vertical-align: middle;\n    }\n\n    .dataframe tbody tr th {\n        vertical-align: top;\n    }\n\n    .dataframe thead th {\n        text-align: right;\n    }\n</style>\n<table border=\"1\" class=\"dataframe\">\n  <thead>\n    <tr style=\"text-align: right;\">\n      <th></th>\n      <th>Pais</th>\n      <th>Sucursal</th>\n      <th>Cliente</th>\n      <th>NumeroPagos</th>\n      <th>SumaPagos</th>\n      <th>SumaFacturacion</th>\n      <th>FechaFact</th>\n      <th>NumeroPromesas</th>\n      <th>SumaPromesas</th>\n      <th>PromesasRestantes</th>\n      <th>Meta</th>\n      <th>Avance%</th>\n      <th>TendenciaCierre1</th>\n    </tr>\n  </thead>\n  <tbody>\n    <tr>\n      <th>0</th>\n      <td>Mexico</td>\n      <td>Naucalpan</td>\n      <td>Liverpool</td>\n      <td>716</td>\n      <td>2253072.79</td>\n      <td>783536.17</td>\n      <td>2020-12-18</td>\n      <td>902</td>\n      <td>2988701.00</td>\n      <td>474905.10</td>\n      <td>1000000.0</td>\n      <td>0.783536</td>\n      <td>1305893.62</td>\n    </tr>\n    <tr>\n      <th>1</th>\n      <td>Mexico</td>\n      <td>Naucalpan</td>\n      <td>Bradesco</td>\n      <td>1596</td>\n      <td>2601999.32</td>\n      <td>342591.80</td>\n      <td>2020-12-17</td>\n      <td>2080</td>\n      <td>3408458.65</td>\n      <td>561020.00</td>\n      <td>1200000.0</td>\n      <td>0.285493</td>\n      <td>604573.77</td>\n    </tr>\n    <tr>\n      <th>2</th>\n      <td>Mexico</td>\n      <td>Naucalpan</td>\n      <td>Credifiel</td>\n      <td>65</td>\n      <td>180437.74</td>\n      <td>36731.72</td>\n      <td>2020-12-15</td>\n      <td>107</td>\n      <td>342106.30</td>\n      <td>125984.69</td>\n      <td>120000.0</td>\n      <td>0.306098</td>\n      <td>73463.44</td>\n    </tr>\n    <tr>\n      <th>3</th>\n      <td>Mexico</td>\n      <td>Naucalpan</td>\n      <td>Banco Azteca</td>\n      <td>1748</td>\n      <td>1648177.00</td>\n      <td>279057.96</td>\n      <td>2020-12-17</td>\n      <td>1550</td>\n      <td>21422631.98</td>\n      <td>10366768.49</td>\n      <td>0.0</td>\n      <td>0.000000</td>\n      <td>492455.21</td>\n    </tr>\n  </tbody>\n</table>\n</div>"
     },
     "metadata": {},
     "execution_count": 59
    }
   ],
   "source": [
    "final_naucalpan = pd.concat([final_liv,final_brad],ignore_index=True)\n",
    "final_naucalpan = pd.concat([final_naucalpan,final_cred],ignore_index=True)\n",
    "final_naucalpan = pd.concat([final_naucalpan,final_baz],ignore_index=True)\n",
    "final_naucalpan = pd.merge(final_naucalpan,meta,how='left',on='Cliente')\n",
    "final_naucalpan['Avance%'] = final_naucalpan['SumaFacturacion']/final_naucalpan['Meta']\n",
    "final_naucalpan.insert(loc=0,column='Sucursal',value='Naucalpan')\n",
    "final_naucalpan.insert(loc=0,column='Pais',value='Mexico')\n",
    "final_naucalpan['TendenciaCierre1'] = [(30/x.day)*y for x,y in zip(final_naucalpan['FechaFact'],final_naucalpan['SumaFacturacion'])]\n",
    "cols = ['SumaPagos','SumaFacturacion','SumaPromesas','PromesasRestantes','TendenciaCierre1']\n",
    "final_naucalpan[cols] = final_naucalpan[cols].round(2)\n",
    "final_naucalpan.fillna(0,inplace=True)\n",
    "final_naucalpan = final_naucalpan[[]]\n",
    "final_naucalpan"
   ]
  },
  {
   "cell_type": "code",
   "execution_count": 51,
   "metadata": {},
   "outputs": [],
   "source": [
    "#final_naucalpan.to_csv(''+ruta_guardar+'/Reporte Sucursal/Reporte sucursal '+today2+'.csv',index=False,header=True)"
   ]
  },
  {
   "cell_type": "code",
   "execution_count": null,
   "metadata": {},
   "outputs": [],
   "source": []
  }
 ]
}