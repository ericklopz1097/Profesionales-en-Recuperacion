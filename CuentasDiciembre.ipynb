{
 "metadata": {
  "language_info": {
   "codemirror_mode": {
    "name": "ipython",
    "version": 3
   },
   "file_extension": ".py",
   "mimetype": "text/x-python",
   "name": "python",
   "nbconvert_exporter": "python",
   "pygments_lexer": "ipython3",
   "version": "3.7.6-final"
  },
  "orig_nbformat": 2,
  "kernelspec": {
   "name": "python3",
   "display_name": "Python 3"
  }
 },
 "nbformat": 4,
 "nbformat_minor": 2,
 "cells": [
  {
   "cell_type": "code",
   "execution_count": 6,
   "metadata": {},
   "outputs": [],
   "source": [
    "import pandas as pd\n",
    "import numpy as np\n",
    "import mysql.connector\n",
    "from mysql.connector import Error\n",
    "from datetime import date\n",
    "from datetime import datetime\n",
    "from IPython.core.interactiveshell import InteractiveShell\n",
    "InteractiveShell.ast_node_interactivity = \"all\"\n",
    "\n",
    "#Definimos la ruta en donde queremos guardar los archivos\n",
    "ruta = '/home/estadistico/Documents/Erick/Reportes diarios/Promesas Diarias'\n",
    "#Definimos la ruta donde estan las asignaciones\n",
    "ruta_asig_baz = '/home/estadistico/Documents/Erick/Banco Azteca/Asignacion csv'\n",
    "mes2 = 'Diciembre2020'\n",
    "\n",
    "#Agregamos las variables a ocupar\n",
    "servidor = '192.168.15.12'\n",
    "puerto = int('3306')\n",
    "usuario = 'estadisticas'\n",
    "contraseña = 'estadisticas8474'\n",
    "base = 'procesos_externos'\n",
    "\n",
    "#Hacemos la conexion con el servidor\\n\",\n",
    "try:\n",
    "    conn = mysql.connector.connect(user=usuario,\n",
    "                               password=contraseña,\n",
    "                               host=servidor,\n",
    "                               port=3306,\n",
    "                               database=base)\n",
    "    conn.set_charset_collation('latin1')\n",
    "except mysql.Error as e:\n",
    "    print(\"Failed to execute stored procedure: {}\".format(error))\n",
    "\n",
    "cursor = conn.cursor()\n"
   ]
  },
  {
   "source": [
    "# Liverpool"
   ],
   "cell_type": "markdown",
   "metadata": {}
  },
  {
   "cell_type": "code",
   "execution_count": 11,
   "metadata": {},
   "outputs": [],
   "source": [
    "#Hacemos la consulta de la asignacion\n",
    "sql_asig_liv = cursor.callproc('liverpool_rpt_asignacion_activa',)\n",
    "for result in cursor.stored_results():\n",
    "    asignacion_liv = pd.DataFrame(result.fetchall())\n",
    "asignacion_liv = asignacion_liv.iloc[:,[0,1,3,24,6,26,8]]\n",
    "asignacion_liv.columns = ['firma_id','unegocio_id','credito','estado','rfc','division','saldo_recuperar']\n",
    "asignacion_liv['credito'] = pd.to_numeric(asignacion_liv['credito'])\n",
    "asignacion_liv['saldo_recuperar'] = pd.to_numeric(asignacion_liv['saldo_recuperar'])\n",
    "#asignacion_liv.head(3)"
   ]
  },
  {
   "cell_type": "code",
   "execution_count": 14,
   "metadata": {},
   "outputs": [
    {
     "output_type": "execute_result",
     "data": {
      "text/plain": [
       "   division  ('count', 'credito')  ('sum', 'saldo_recuperar')\n",
       "0                              42                3.549011e+05\n",
       "1      DEPN                    71                4.884212e+05\n",
       "2      GAA1                     1                1.249341e+04\n",
       "3      GAA3                     1                3.389358e+04\n",
       "4      JGS3                  2150                3.668020e+07\n",
       "5      NOQ1                     1                0.000000e+00\n",
       "6      RCC4                  1211                1.928807e+07\n",
       "7      REM2                 37123                6.702653e+08\n",
       "8      REM4                 67858                1.349509e+09\n",
       "9      REM9                   811                3.822455e+06\n",
       "10     SB02                  2955                1.927299e+07\n",
       "11     SER4                  1741                2.765660e+07\n",
       "12     pren                  3888                9.384239e+07\n",
       "13      All                117853                2.221227e+09"
      ],
      "text/html": "<div>\n<style scoped>\n    .dataframe tbody tr th:only-of-type {\n        vertical-align: middle;\n    }\n\n    .dataframe tbody tr th {\n        vertical-align: top;\n    }\n\n    .dataframe thead th {\n        text-align: right;\n    }\n</style>\n<table border=\"1\" class=\"dataframe\">\n  <thead>\n    <tr style=\"text-align: right;\">\n      <th></th>\n      <th>division</th>\n      <th>('count', 'credito')</th>\n      <th>('sum', 'saldo_recuperar')</th>\n    </tr>\n  </thead>\n  <tbody>\n    <tr>\n      <th>0</th>\n      <td></td>\n      <td>42</td>\n      <td>3.549011e+05</td>\n    </tr>\n    <tr>\n      <th>1</th>\n      <td>DEPN</td>\n      <td>71</td>\n      <td>4.884212e+05</td>\n    </tr>\n    <tr>\n      <th>2</th>\n      <td>GAA1</td>\n      <td>1</td>\n      <td>1.249341e+04</td>\n    </tr>\n    <tr>\n      <th>3</th>\n      <td>GAA3</td>\n      <td>1</td>\n      <td>3.389358e+04</td>\n    </tr>\n    <tr>\n      <th>4</th>\n      <td>JGS3</td>\n      <td>2150</td>\n      <td>3.668020e+07</td>\n    </tr>\n    <tr>\n      <th>5</th>\n      <td>NOQ1</td>\n      <td>1</td>\n      <td>0.000000e+00</td>\n    </tr>\n    <tr>\n      <th>6</th>\n      <td>RCC4</td>\n      <td>1211</td>\n      <td>1.928807e+07</td>\n    </tr>\n    <tr>\n      <th>7</th>\n      <td>REM2</td>\n      <td>37123</td>\n      <td>6.702653e+08</td>\n    </tr>\n    <tr>\n      <th>8</th>\n      <td>REM4</td>\n      <td>67858</td>\n      <td>1.349509e+09</td>\n    </tr>\n    <tr>\n      <th>9</th>\n      <td>REM9</td>\n      <td>811</td>\n      <td>3.822455e+06</td>\n    </tr>\n    <tr>\n      <th>10</th>\n      <td>SB02</td>\n      <td>2955</td>\n      <td>1.927299e+07</td>\n    </tr>\n    <tr>\n      <th>11</th>\n      <td>SER4</td>\n      <td>1741</td>\n      <td>2.765660e+07</td>\n    </tr>\n    <tr>\n      <th>12</th>\n      <td>pren</td>\n      <td>3888</td>\n      <td>9.384239e+07</td>\n    </tr>\n    <tr>\n      <th>13</th>\n      <td>All</td>\n      <td>117853</td>\n      <td>2.221227e+09</td>\n    </tr>\n  </tbody>\n</table>\n</div>"
     },
     "metadata": {},
     "execution_count": 14
    }
   ],
   "source": [
    "#Obtenemos datos de las promesas de Liverpool\n",
    "pivot_liv = pd.pivot_table(asignacion_liv,index=['division'],values=['credito','saldo_recuperar'],aggfunc=['count',np.sum],margins=True,dropna=False)\n",
    "pivot_liv = pd.DataFrame(pivot_liv.to_records())\n",
    "pivot_liv = pivot_liv.iloc[:,[0,1,4]]\n",
    "pivot_liv.columns = ['Division','NumeroPromesas','SaldoRecuperar']\n",
    "pivot_liv.fillna(0,inplace=True)\n",
    "#pivot_liv[['NumeroPromesas','PromedioPromesa','SumaPromesas']] = pivot_liv[['NumeroPromesas','PromedioPromesa','SumaPromesas']].applymap(\"{0:.2f}\".format)\n",
    "pivot_liv"
   ]
  },
  {
   "source": [
    "# Credifiel"
   ],
   "cell_type": "markdown",
   "metadata": {}
  },
  {
   "cell_type": "code",
   "execution_count": 18,
   "metadata": {},
   "outputs": [
    {
     "output_type": "execute_result",
     "data": {
      "text/plain": [
       "   unegocio_id    credito                division  saldo_recuperar\n",
       "1            1  CR-101922  COBRANZA EXTRAJUDICIAL         35606.11\n",
       "2            1  CR-101949                LIQUIDAR         28340.31\n",
       "3            1  CR-101952                LIQUIDAR         21259.41"
      ],
      "text/html": "<div>\n<style scoped>\n    .dataframe tbody tr th:only-of-type {\n        vertical-align: middle;\n    }\n\n    .dataframe tbody tr th {\n        vertical-align: top;\n    }\n\n    .dataframe thead th {\n        text-align: right;\n    }\n</style>\n<table border=\"1\" class=\"dataframe\">\n  <thead>\n    <tr style=\"text-align: right;\">\n      <th></th>\n      <th>unegocio_id</th>\n      <th>credito</th>\n      <th>division</th>\n      <th>saldo_recuperar</th>\n    </tr>\n  </thead>\n  <tbody>\n    <tr>\n      <th>1</th>\n      <td>1</td>\n      <td>CR-101922</td>\n      <td>COBRANZA EXTRAJUDICIAL</td>\n      <td>35606.11</td>\n    </tr>\n    <tr>\n      <th>2</th>\n      <td>1</td>\n      <td>CR-101949</td>\n      <td>LIQUIDAR</td>\n      <td>28340.31</td>\n    </tr>\n    <tr>\n      <th>3</th>\n      <td>1</td>\n      <td>CR-101952</td>\n      <td>LIQUIDAR</td>\n      <td>21259.41</td>\n    </tr>\n  </tbody>\n</table>\n</div>"
     },
     "metadata": {},
     "execution_count": 18
    }
   ],
   "source": [
    "#Hacemos la consulta de la asignacion\n",
    "sql_asig_cred = cursor.callproc('credifiel_rpt_asignacion_activa',)\n",
    "for result in cursor.stored_results():\n",
    "    asignacion_cred = pd.DataFrame(result.fetchall())\n",
    "asignacion_cred = asignacion_cred.iloc[:,[1,3,32,8]]\n",
    "asignacion_cred.columns = ['unegocio_id','credito','division','saldo_recuperar']\n",
    "asignacion_cred['saldo_recuperar'] = pd.to_numeric(asignacion_cred['saldo_recuperar'])\n",
    "asignacion_cred = asignacion_cred.loc[asignacion_cred['saldo_recuperar']>0]\n",
    "#asignacion_brad['credito'] = pd.to_numeric(asignacion_brad['credito'])\n",
    "asignacion_cred.head(3)"
   ]
  },
  {
   "cell_type": "code",
   "execution_count": 21,
   "metadata": {},
   "outputs": [
    {
     "output_type": "execute_result",
     "data": {
      "text/plain": [
       "                 Division  NumeroPromesas  SaldoRecuperar\n",
       "0                                    1301    4.091192e+07\n",
       "1           COBRANZA DUAL               8    3.377336e+05\n",
       "2  COBRANZA EXTRAJUDICIAL            6039    2.326000e+08\n",
       "3      COBRANZA PAGO CERO              84    5.793293e+06\n",
       "4           EXTRAJUDICIAL             510    2.174625e+07\n",
       "5                LIQUIDAR             846    3.433660e+07\n",
       "6              PREVENTIVA               1    3.465500e+02\n",
       "7                     All            8789    3.357262e+08"
      ],
      "text/html": "<div>\n<style scoped>\n    .dataframe tbody tr th:only-of-type {\n        vertical-align: middle;\n    }\n\n    .dataframe tbody tr th {\n        vertical-align: top;\n    }\n\n    .dataframe thead th {\n        text-align: right;\n    }\n</style>\n<table border=\"1\" class=\"dataframe\">\n  <thead>\n    <tr style=\"text-align: right;\">\n      <th></th>\n      <th>Division</th>\n      <th>NumeroPromesas</th>\n      <th>SaldoRecuperar</th>\n    </tr>\n  </thead>\n  <tbody>\n    <tr>\n      <th>0</th>\n      <td></td>\n      <td>1301</td>\n      <td>4.091192e+07</td>\n    </tr>\n    <tr>\n      <th>1</th>\n      <td>COBRANZA DUAL</td>\n      <td>8</td>\n      <td>3.377336e+05</td>\n    </tr>\n    <tr>\n      <th>2</th>\n      <td>COBRANZA EXTRAJUDICIAL</td>\n      <td>6039</td>\n      <td>2.326000e+08</td>\n    </tr>\n    <tr>\n      <th>3</th>\n      <td>COBRANZA PAGO CERO</td>\n      <td>84</td>\n      <td>5.793293e+06</td>\n    </tr>\n    <tr>\n      <th>4</th>\n      <td>EXTRAJUDICIAL</td>\n      <td>510</td>\n      <td>2.174625e+07</td>\n    </tr>\n    <tr>\n      <th>5</th>\n      <td>LIQUIDAR</td>\n      <td>846</td>\n      <td>3.433660e+07</td>\n    </tr>\n    <tr>\n      <th>6</th>\n      <td>PREVENTIVA</td>\n      <td>1</td>\n      <td>3.465500e+02</td>\n    </tr>\n    <tr>\n      <th>7</th>\n      <td>All</td>\n      <td>8789</td>\n      <td>3.357262e+08</td>\n    </tr>\n  </tbody>\n</table>\n</div>"
     },
     "metadata": {},
     "execution_count": 21
    }
   ],
   "source": [
    "#Obtenemos datos de las promesas de Liverpool\n",
    "pivot_cred = pd.pivot_table(asignacion_cred,index=['division'],values=['credito','saldo_recuperar'],aggfunc=['count',np.sum],margins=True,dropna=False)\n",
    "pivot_cred = pd.DataFrame(pivot_cred.to_records())\n",
    "pivot_cred = pivot_cred.iloc[:,[0,1,3]]\n",
    "pivot_cred.columns = ['Division','NumeroPromesas','SaldoRecuperar']\n",
    "pivot_cred.fillna(0,inplace=True)\n",
    "#pivot_cred[['NumeroPromesas','PromedioPromesa','SumaPromesas']] = pivot_liv[['NumeroPromesas','PromedioPromesa','SumaPromesas']].applymap(\"{0:.2f}\".format)\n",
    "pivot_cred"
   ]
  },
  {
   "source": [
    "# Bradesco"
   ],
   "cell_type": "markdown",
   "metadata": {}
  },
  {
   "cell_type": "code",
   "execution_count": 23,
   "metadata": {},
   "outputs": [
    {
     "output_type": "execute_result",
     "data": {
      "text/plain": [
       "   firma_id  unegocio_id           credito    estado              rfc  \\\n",
       "0         1            3  2869000138080177   YUCATAN  JURM8405047J801   \n",
       "1         1            3  2869000240445953  VERACRUZ  TOHI650826EZ601   \n",
       "2         1            3  2869000320452929    PUEBLA  HERL821006J1401   \n",
       "\n",
       "  division saldo_recuperar  \n",
       "0   C0 5PV          974.00  \n",
       "1   C0 4PV          962.00  \n",
       "2   C0 4PV         2539.00  "
      ],
      "text/html": "<div>\n<style scoped>\n    .dataframe tbody tr th:only-of-type {\n        vertical-align: middle;\n    }\n\n    .dataframe tbody tr th {\n        vertical-align: top;\n    }\n\n    .dataframe thead th {\n        text-align: right;\n    }\n</style>\n<table border=\"1\" class=\"dataframe\">\n  <thead>\n    <tr style=\"text-align: right;\">\n      <th></th>\n      <th>firma_id</th>\n      <th>unegocio_id</th>\n      <th>credito</th>\n      <th>estado</th>\n      <th>rfc</th>\n      <th>division</th>\n      <th>saldo_recuperar</th>\n    </tr>\n  </thead>\n  <tbody>\n    <tr>\n      <th>0</th>\n      <td>1</td>\n      <td>3</td>\n      <td>2869000138080177</td>\n      <td>YUCATAN</td>\n      <td>JURM8405047J801</td>\n      <td>C0 5PV</td>\n      <td>974.00</td>\n    </tr>\n    <tr>\n      <th>1</th>\n      <td>1</td>\n      <td>3</td>\n      <td>2869000240445953</td>\n      <td>VERACRUZ</td>\n      <td>TOHI650826EZ601</td>\n      <td>C0 4PV</td>\n      <td>962.00</td>\n    </tr>\n    <tr>\n      <th>2</th>\n      <td>1</td>\n      <td>3</td>\n      <td>2869000320452929</td>\n      <td>PUEBLA</td>\n      <td>HERL821006J1401</td>\n      <td>C0 4PV</td>\n      <td>2539.00</td>\n    </tr>\n  </tbody>\n</table>\n</div>"
     },
     "metadata": {},
     "execution_count": 23
    }
   ],
   "source": [
    "#Hacemos la consulta de la asignacion\n",
    "sql_asig_brad = cursor.callproc('bradescard_rpt_asignacion_activa',)\n",
    "for result in cursor.stored_results():\n",
    "    asignacion_brad = pd.DataFrame(result.fetchall())\n",
    "asignacion_brad = asignacion_brad.iloc[:,[0,1,3,24,6,26,8]]\n",
    "asignacion_brad.columns = ['firma_id','unegocio_id','credito','estado','rfc','division','saldo_recuperar']\n",
    "asignacion_brad['credito'] = pd.to_numeric(asignacion_brad['credito'])\n",
    "asignacion_brad.head(3)"
   ]
  },
  {
   "cell_type": "code",
   "execution_count": 25,
   "metadata": {},
   "outputs": [
    {
     "output_type": "execute_result",
     "data": {
      "text/plain": [
       "  Division  NumeroPromesas  SaldoRecuperar\n",
       "0        A          129184    8.673014e+07\n",
       "1        B           30860    2.150932e+07\n",
       "2   C0 4PV            4382    1.767318e+07\n",
       "3   C0 5PV            3861    1.409293e+07\n",
       "4   C0 6PV            4166    1.452120e+07\n",
       "5       C1           14567    5.026947e+07\n",
       "6       C2           11028    3.791186e+07\n",
       "7       C3            7937    6.010358e+06\n",
       "8       C4            6890    5.147056e+06\n",
       "9      All          212875    2.538655e+08"
      ],
      "text/html": "<div>\n<style scoped>\n    .dataframe tbody tr th:only-of-type {\n        vertical-align: middle;\n    }\n\n    .dataframe tbody tr th {\n        vertical-align: top;\n    }\n\n    .dataframe thead th {\n        text-align: right;\n    }\n</style>\n<table border=\"1\" class=\"dataframe\">\n  <thead>\n    <tr style=\"text-align: right;\">\n      <th></th>\n      <th>Division</th>\n      <th>NumeroPromesas</th>\n      <th>SaldoRecuperar</th>\n    </tr>\n  </thead>\n  <tbody>\n    <tr>\n      <th>0</th>\n      <td>A</td>\n      <td>129184</td>\n      <td>8.673014e+07</td>\n    </tr>\n    <tr>\n      <th>1</th>\n      <td>B</td>\n      <td>30860</td>\n      <td>2.150932e+07</td>\n    </tr>\n    <tr>\n      <th>2</th>\n      <td>C0 4PV</td>\n      <td>4382</td>\n      <td>1.767318e+07</td>\n    </tr>\n    <tr>\n      <th>3</th>\n      <td>C0 5PV</td>\n      <td>3861</td>\n      <td>1.409293e+07</td>\n    </tr>\n    <tr>\n      <th>4</th>\n      <td>C0 6PV</td>\n      <td>4166</td>\n      <td>1.452120e+07</td>\n    </tr>\n    <tr>\n      <th>5</th>\n      <td>C1</td>\n      <td>14567</td>\n      <td>5.026947e+07</td>\n    </tr>\n    <tr>\n      <th>6</th>\n      <td>C2</td>\n      <td>11028</td>\n      <td>3.791186e+07</td>\n    </tr>\n    <tr>\n      <th>7</th>\n      <td>C3</td>\n      <td>7937</td>\n      <td>6.010358e+06</td>\n    </tr>\n    <tr>\n      <th>8</th>\n      <td>C4</td>\n      <td>6890</td>\n      <td>5.147056e+06</td>\n    </tr>\n    <tr>\n      <th>9</th>\n      <td>All</td>\n      <td>212875</td>\n      <td>2.538655e+08</td>\n    </tr>\n  </tbody>\n</table>\n</div>"
     },
     "metadata": {},
     "execution_count": 25
    }
   ],
   "source": [
    "#Obtenemos datos de las promesas de Liverpool\n",
    "asignacion_brad['saldo_recuperar'] = pd.to_numeric(asignacion_brad['saldo_recuperar'])\n",
    "pivot_brad = pd.pivot_table(asignacion_brad,index=['division'],values=['credito','saldo_recuperar'],aggfunc=['count',np.sum],margins=True,dropna=False)\n",
    "pivot_brad = pd.DataFrame(pivot_brad.to_records())\n",
    "pivot_brad = pivot_brad.iloc[:,[0,1,4]]\n",
    "pivot_brad.columns = ['Division','NumeroPromesas','SaldoRecuperar']\n",
    "pivot_brad.fillna(0,inplace=True)\n",
    "#pivot_cred[['NumeroPromesas','PromedioPromesa','SumaPromesas']] = pivot_liv[['NumeroPromesas','PromedioPromesa','SumaPromesas']].applymap(\"{0:.2f}\".format)\n",
    "pivot_brad"
   ]
  },
  {
   "cell_type": "code",
   "execution_count": 26,
   "metadata": {},
   "outputs": [],
   "source": [
    "writer = pd.ExcelWriter('/home/estadistico/Documents/Dic 2020.xlsx', engine='xlsxwriter')\n",
    "pivot_liv.to_excel(writer,'Liverpool',index=False,header=True)\n",
    "pivot_cred.to_excel(writer,'Credifiel',index=False,header=True)\n",
    "pivot_brad.to_excel(writer,'Bradesco',index=False,header=True)\n",
    "\n",
    "writer.save()\n",
    "writer.close()"
   ]
  }
 ]
}