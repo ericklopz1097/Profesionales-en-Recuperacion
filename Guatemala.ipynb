{
 "metadata": {
  "language_info": {
   "codemirror_mode": {
    "name": "ipython",
    "version": 3
   },
   "file_extension": ".py",
   "mimetype": "text/x-python",
   "name": "python",
   "nbconvert_exporter": "python",
   "pygments_lexer": "ipython3",
   "version": "3.8.5-final"
  },
  "orig_nbformat": 2,
  "kernelspec": {
   "name": "python3",
   "display_name": "Python 3",
   "language": "python"
  }
 },
 "nbformat": 4,
 "nbformat_minor": 2,
 "cells": [
  {
   "cell_type": "code",
   "execution_count": 2,
   "metadata": {},
   "outputs": [],
   "source": [
    "import pandas as pd\n",
    "import numpy as np\n",
    "import os\n",
    "from datetime import date, datetime, timedelta"
   ]
  },
  {
   "cell_type": "code",
   "execution_count": 3,
   "metadata": {},
   "outputs": [],
   "source": [
    "#Definimos la ruta en donde queremos guardar los archivos\n",
    "ruta = '/home/estadistico/Documents/Erick/'\n",
    "mes = 20210101\n",
    "mes2 = 'Enero2021'\n",
    "mes3 = pd.to_datetime('01/01/2021',dayfirst=True)\n",
    "fin_mes = pd.to_datetime('31/01/2021',dayfirst=True)\n",
    "quetzal = 2.5\n",
    "dolar = 20\n",
    "belcorp_mesanterior = 29000"
   ]
  },
  {
   "cell_type": "code",
   "execution_count": 5,
   "metadata": {},
   "outputs": [
    {
     "output_type": "execute_result",
     "data": {
      "text/plain": [
       "            Cliente    Meta\n",
       "0            Avon G  250000\n",
       "1         Arabela G    5100\n",
       "2      Banco Azteca   52000\n",
       "3  Banco Credomatic   17000\n",
       "4           Belcorp    5000\n",
       "5      Banco Azteca  115000"
      ],
      "text/html": "<div>\n<style scoped>\n    .dataframe tbody tr th:only-of-type {\n        vertical-align: middle;\n    }\n\n    .dataframe tbody tr th {\n        vertical-align: top;\n    }\n\n    .dataframe thead th {\n        text-align: right;\n    }\n</style>\n<table border=\"1\" class=\"dataframe\">\n  <thead>\n    <tr style=\"text-align: right;\">\n      <th></th>\n      <th>Cliente</th>\n      <th>Meta</th>\n    </tr>\n  </thead>\n  <tbody>\n    <tr>\n      <th>0</th>\n      <td>Avon G</td>\n      <td>250000</td>\n    </tr>\n    <tr>\n      <th>1</th>\n      <td>Arabela G</td>\n      <td>5100</td>\n    </tr>\n    <tr>\n      <th>2</th>\n      <td>Banco Azteca</td>\n      <td>52000</td>\n    </tr>\n    <tr>\n      <th>3</th>\n      <td>Banco Credomatic</td>\n      <td>17000</td>\n    </tr>\n    <tr>\n      <th>4</th>\n      <td>Belcorp</td>\n      <td>5000</td>\n    </tr>\n    <tr>\n      <th>5</th>\n      <td>Banco Azteca</td>\n      <td>115000</td>\n    </tr>\n  </tbody>\n</table>\n</div>"
     },
     "metadata": {},
     "execution_count": 5
    }
   ],
   "source": [
    "meta_guatemala = pd.read_excel(''+ruta+'Metas/Metas '+mes2+'.xlsx',sheet_name='Guatemala')\n",
    "meta_guatemala = metas_guatemala[['Cliente','Meta']]"
   ]
  },
  {
   "cell_type": "code",
   "execution_count": 24,
   "metadata": {},
   "outputs": [],
   "source": [
    "#Asignamos valores a los parametros \\n\"\n",
    "today = date.today().strftime('%Y%m%d')\n",
    "now = datetime.now().strftime('%d-%m-%Y %H-%M')\n",
    "hoy = np.datetime64('today')\n",
    "ayer = np.datetime64(date.today() - timedelta(1))\n",
    "today2 = date.today().strftime('%d-%m-%Y')"
   ]
  },
  {
   "cell_type": "code",
   "execution_count": 11,
   "metadata": {},
   "outputs": [],
   "source": [
    "book = os.listdir(''+ruta+''+mes2+'/Guatemala/Belcorp/')\n",
    "asig_belcorp = pd.DataFrame()\n",
    "for i in book:\n",
    "    new = pd.read_excel(''+ruta+''+mes2+'/Guatemala/Belcorp/'+i+'',sheet_name='Reporte Detallado de Recuperaci')\n",
    "    asig_belcorp = pd.concat([asig_belcorp,new],ignore_index=True)\n",
    "asig_belcorp = asig_belcorp.drop_duplicates()\n",
    "asig_belcorp['Cliente'] = 'Belcorp'"
   ]
  },
  {
   "cell_type": "code",
   "execution_count": 25,
   "metadata": {},
   "outputs": [
    {
     "output_type": "execute_result",
     "data": {
      "text/plain": [
       "   Cliente  Importe Deuda Recuperada  Importe actual  FechaFact\n",
       "0  Belcorp                  57455.79        28455.79 2021-01-22"
      ],
      "text/html": "<div>\n<style scoped>\n    .dataframe tbody tr th:only-of-type {\n        vertical-align: middle;\n    }\n\n    .dataframe tbody tr th {\n        vertical-align: top;\n    }\n\n    .dataframe thead th {\n        text-align: right;\n    }\n</style>\n<table border=\"1\" class=\"dataframe\">\n  <thead>\n    <tr style=\"text-align: right;\">\n      <th></th>\n      <th>Cliente</th>\n      <th>Importe Deuda Recuperada</th>\n      <th>Importe actual</th>\n      <th>FechaFact</th>\n    </tr>\n  </thead>\n  <tbody>\n    <tr>\n      <th>0</th>\n      <td>Belcorp</td>\n      <td>57455.79</td>\n      <td>28455.79</td>\n      <td>2021-01-22</td>\n    </tr>\n  </tbody>\n</table>\n</div>"
     },
     "metadata": {},
     "execution_count": 25
    }
   ],
   "source": [
    "pagos_asig = pd.pivot_table(asig_belcorp,index='Cliente',values='Importe Deuda Recuperada',aggfunc=np.sum)\n",
    "pagos_asig = pd.DataFrame(pagos_asig.to_records())\n",
    "pagos_asig['Importe actual'] = pagos_asig['Importe Deuda Recuperada']-belcorp_mesanterior\n",
    "pagos_asig['FechaFact'] = ayer\n",
    "pagos_asig"
   ]
  },
  {
   "cell_type": "code",
   "execution_count": null,
   "metadata": {},
   "outputs": [],
   "source": []
  }
 ]
}