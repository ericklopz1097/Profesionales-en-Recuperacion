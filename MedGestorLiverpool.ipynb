{
 "metadata": {
  "language_info": {
   "codemirror_mode": {
    "name": "ipython",
    "version": 3
   },
   "file_extension": ".py",
   "mimetype": "text/x-python",
   "name": "python",
   "nbconvert_exporter": "python",
   "pygments_lexer": "ipython3",
   "version": "3.8.5-final"
  },
  "orig_nbformat": 2,
  "kernelspec": {
   "name": "python3",
   "display_name": "Python 3",
   "language": "python"
  }
 },
 "nbformat": 4,
 "nbformat_minor": 2,
 "cells": [
  {
   "source": [
    "# Medir al gestor"
   ],
   "cell_type": "markdown",
   "metadata": {}
  },
  {
   "cell_type": "code",
   "execution_count": 1,
   "metadata": {},
   "outputs": [],
   "source": [
    "import pandas as pd\n",
    "import numpy as np\n",
    "import mysql.connector\n",
    "import os\n",
    "from mysql.connector import Error\n",
    "from datetime import date\n",
    "from datetime import datetime\n",
    "from IPython.core.interactiveshell import InteractiveShell\n",
    "InteractiveShell.ast_node_interactivity = \"all\""
   ]
  },
  {
   "cell_type": "code",
   "execution_count": 2,
   "metadata": {},
   "outputs": [],
   "source": [
    "#Definimos la ruta en donde queremos guardar los archivos\n",
    "ruta_guardar = '/home/estadistico/Documents/Erick/Reportes diarios/Gestores'\n",
    "ruta_asig_baz = '/home/estadistico/Documents/Erick/Banco Azteca/Asignacion csv'\n",
    "ruta_pagos = '/home/estadistico/Documents/Erick'\n",
    "mes = 20201201\n",
    "mes2 = 'Diciembre2020'\n",
    "mes3 = pd.to_datetime('01/12/2020',dayfirst=True)"
   ]
  },
  {
   "cell_type": "code",
   "execution_count": 3,
   "metadata": {},
   "outputs": [],
   "source": [
    "#Agregamos las variables a ocupar\n",
    "servidor = '192.168.15.12'\n",
    "puerto = int('3306')\n",
    "usuario = 'estadisticas'\n",
    "contrasena = 'estadisticas8474'\n",
    "base = 'procesos_externos'"
   ]
  },
  {
   "cell_type": "code",
   "execution_count": 4,
   "metadata": {},
   "outputs": [],
   "source": [
    "#Lectura pagos Bradesco\n",
    "pagos_brad = pd.read_excel(''+ruta_pagos+'/'+str(mes2)+'/Bradesco/Pagos/ENRIQUEZ Acumulado de pagos Diciembre de 2020.xlsx')\n",
    "pagos_brad = pagos_brad.iloc[:,0:9]\n",
    "pagos_brad = pagos_brad.drop_duplicates()\n",
    "pagos_brad2 = pd.pivot_table(pagos_brad,index=['NUMERO_TARJETA','FECHA_PAGO','TIPO_ASIGANCION'],values=['MONTO'],aggfunc=np.sum)\n",
    "pagos_brad2 = pd.DataFrame(pagos_brad2.to_records())\n",
    "pagos_brad2 = pagos_brad2.loc[pagos_brad2['FECHA_PAGO']>=mes3]"
   ]
  },
  {
   "cell_type": "code",
   "execution_count": 5,
   "metadata": {},
   "outputs": [],
   "source": [
    "#Lectura pagos Liverpool\n",
    "sheet_liv = ['SA002REM','SA001REM','DKN04REM','DKN02REM','DKN00REM']\n",
    "pagos_liv = pd.DataFrame()\n",
    "for i in sheet_liv:\n",
    "    pagos_liv_new = pd.read_excel(''+ruta_pagos+'/'+str(mes2)+'/Liverpool/Pagos/PAGOS DIC LIVERPOOL .xlsx',sheet_name = str(i))\n",
    "    pagos_liv = pd.concat([pagos_liv,pagos_liv_new],ignore_index=True)\n",
    "pagos_liv = pagos_liv.drop_duplicates()\n",
    "pagos_liv = pagos_liv.iloc[:,0:6]\n",
    "pagos_liv.columns = ['Id','Cuenta','Fecha Prom','Fecha Pago','Monto','Posteo']\n",
    "try: \n",
    "    pagos_liv['Fecha Pago'] = pd.to_datetime(pagos_liv['Fecha Pago'],dayfirst=True)\n",
    "except: pagos_liv['Fecha Pago']   \n",
    "pagos_liv['Fecha Pago'] = [datetime.strftime(x,'%d/%m/%Y') for x in pagos_liv['Fecha Pago']]\n",
    "try: \n",
    "    pagos_liv['Fecha Prom'] = pd.to_datetime(pagos_liv['Fecha Prom'],dayfirst=True)\n",
    "except: pagos_liv['Fecha Prom']    \n",
    "pagos_liv['Fecha Prom'] = [datetime.strftime(x,'%d/%m/%Y') for x in pagos_liv['Fecha Prom']]\n",
    "pagos_liv2 = pd.pivot_table(pagos_liv,index=['Id','Cuenta','Fecha Pago','Fecha Prom'],values=['Monto'],aggfunc=np.sum)\n",
    "pagos_liv2 = pd.DataFrame(pagos_liv2.to_records())\n",
    "#pagos_liv2 = pagos_liv2.loc[pagos_liv2['Fecha Pago']>=mes3]"
   ]
  },
  {
   "cell_type": "code",
   "execution_count": 6,
   "metadata": {},
   "outputs": [],
   "source": [
    "sheet_cred = os.listdir(''+ruta_pagos+'/'+str(mes2)+'/Credifiel/Pagos/')\n",
    "pagos_cred = pd.DataFrame()\n",
    "for j in sheet_cred:\n",
    "    pagos_cred_new = pd.read_excel(''+ruta_pagos+'/'+str(mes2)+'/Credifiel/Pagos/'+j+'')\n",
    "    pagos_cred = pd.concat([pagos_cred,pagos_cred_new],ignore_index=True)\n",
    "#pagos_cred.head(3)"
   ]
  },
  {
   "cell_type": "code",
   "execution_count": 7,
   "metadata": {},
   "outputs": [
    {
     "output_type": "execute_result",
     "data": {
      "text/plain": [
       "    CALL_CENTER FDFECHAGENPROMESA FDFECHAPROMESA  FIIDPERIODO  \\\n",
       "1  Recuperacion        05/12/2020     08/12/2020            3   \n",
       "3  Recuperacion        07/12/2020     09/12/2020            2   \n",
       "5  Recuperacion        05/12/2020     08/12/2020            1   \n",
       "\n",
       "   FNMONTOPROMETIDO  FNMONTOPAGADO FDFECHAABONO  FNMONTOREQUERIDO  CAMPANAID  \\\n",
       "1             176.0          176.0   05/12/2020             206.0        753   \n",
       "3             963.0          985.0   07/12/2020             910.0        776   \n",
       "5             324.0          324.0   06/12/2020             159.0        402   \n",
       "\n",
       "                             CAMPANA FNSCOMPROMISO  DIASENTREGENYCOMPROMISO  \\\n",
       "1                    Semana 3 Mexico      CUMPLIDO                        3   \n",
       "3          Semana 2 Territorio Golfo      CUMPLIDO                        2   \n",
       "5  Canales a Terceros de 8 a 14 dias      CUMPLIDO                        3   \n",
       "\n",
       "   CIERR_SEM  FCEMPNUMCORTE  \n",
       "1         50            467  \n",
       "3         50            438  \n",
       "5         50            520  "
      ],
      "text/html": "<div>\n<style scoped>\n    .dataframe tbody tr th:only-of-type {\n        vertical-align: middle;\n    }\n\n    .dataframe tbody tr th {\n        vertical-align: top;\n    }\n\n    .dataframe thead th {\n        text-align: right;\n    }\n</style>\n<table border=\"1\" class=\"dataframe\">\n  <thead>\n    <tr style=\"text-align: right;\">\n      <th></th>\n      <th>CALL_CENTER</th>\n      <th>FDFECHAGENPROMESA</th>\n      <th>FDFECHAPROMESA</th>\n      <th>FIIDPERIODO</th>\n      <th>FNMONTOPROMETIDO</th>\n      <th>FNMONTOPAGADO</th>\n      <th>FDFECHAABONO</th>\n      <th>FNMONTOREQUERIDO</th>\n      <th>CAMPANAID</th>\n      <th>CAMPANA</th>\n      <th>FNSCOMPROMISO</th>\n      <th>DIASENTREGENYCOMPROMISO</th>\n      <th>CIERR_SEM</th>\n      <th>FCEMPNUMCORTE</th>\n    </tr>\n  </thead>\n  <tbody>\n    <tr>\n      <th>1</th>\n      <td>Recuperacion</td>\n      <td>05/12/2020</td>\n      <td>08/12/2020</td>\n      <td>3</td>\n      <td>176.0</td>\n      <td>176.0</td>\n      <td>05/12/2020</td>\n      <td>206.0</td>\n      <td>753</td>\n      <td>Semana 3 Mexico</td>\n      <td>CUMPLIDO</td>\n      <td>3</td>\n      <td>50</td>\n      <td>467</td>\n    </tr>\n    <tr>\n      <th>3</th>\n      <td>Recuperacion</td>\n      <td>07/12/2020</td>\n      <td>09/12/2020</td>\n      <td>2</td>\n      <td>963.0</td>\n      <td>985.0</td>\n      <td>07/12/2020</td>\n      <td>910.0</td>\n      <td>776</td>\n      <td>Semana 2 Territorio Golfo</td>\n      <td>CUMPLIDO</td>\n      <td>2</td>\n      <td>50</td>\n      <td>438</td>\n    </tr>\n    <tr>\n      <th>5</th>\n      <td>Recuperacion</td>\n      <td>05/12/2020</td>\n      <td>08/12/2020</td>\n      <td>1</td>\n      <td>324.0</td>\n      <td>324.0</td>\n      <td>06/12/2020</td>\n      <td>159.0</td>\n      <td>402</td>\n      <td>Canales a Terceros de 8 a 14 dias</td>\n      <td>CUMPLIDO</td>\n      <td>3</td>\n      <td>50</td>\n      <td>520</td>\n    </tr>\n  </tbody>\n</table>\n</div>"
     },
     "metadata": {},
     "execution_count": 7
    }
   ],
   "source": [
    "sheet_baz = os.listdir(''+ruta_pagos+'/'+str(mes2)+'/Banco Azteca/Pagos/')\n",
    "pagos_baz = pd.DataFrame()\n",
    "for k in sheet_baz:\n",
    "    pagos_baz_new = pd.read_csv(''+ruta_pagos+'/'+str(mes2)+'/Banco Azteca/Pagos/'+k+'')\n",
    "    pagos_baz = pd.concat([pagos_baz,pagos_baz_new],ignore_index=True)\n",
    "pagos_baz = pagos_baz.loc[pagos_baz['FNMONTOPAGADO']>0]\n",
    "pagos_baz = pagos_baz.drop_duplicates(subset=['FNMONTOPAGADO','CAMPANAID','FDFECHAABONO'])\n",
    "pagos_baz.head(3)"
   ]
  },
  {
   "cell_type": "code",
   "execution_count": 8,
   "metadata": {},
   "outputs": [],
   "source": [
    "#Asignamos valores a los parametros \\n\",\n",
    "today = date.today().strftime('%Y%m%d')\n",
    "now = datetime.now().strftime('%d-%m-%Y %H-%M')\n",
    "hoy = np.datetime64('today')"
   ]
  },
  {
   "cell_type": "code",
   "execution_count": 9,
   "metadata": {},
   "outputs": [],
   "source": [
    "#Hacemos la conexion con el servidor\\n\",\n",
    "try: \n",
    "    conn = mysql.connector.connect(user=usuario,\n",
    "                               password=contrasena,\n",
    "                               host=servidor,\n",
    "                               port=3306,\n",
    "                               database=base)\n",
    "    conn.set_charset_collation('latin1')\n",
    "except mysql.Error as e:\n",
    "    print(\"Failed to execute stored procedure: {}\".format(error))\n",
    "\n",
    "cursor = conn.cursor()"
   ]
  },
  {
   "cell_type": "code",
   "execution_count": 10,
   "metadata": {},
   "outputs": [],
   "source": [
    "#Funcion para hacer la consulta sql, ya sea de gestion o de asignacion en donde requerimos tres parametros, la tabla de donde vamos a sacar la consulta, en caso de asignacin requerimos los otros dos parametros fecha inicial y fecha final\n",
    "def consulta_sql(table,from_date=None,to_date=None):\n",
    "    if from_date is None:\n",
    "        sql_mes = cursor.callproc(table,)\n",
    "        for result in cursor.stored_results():\n",
    "            sql_mes = pd.DataFrame(result.fetchall())\n",
    "    else:\n",
    "        sql_mes = cursor.callproc(table, [from_date,to_date])\n",
    "        for result in cursor.stored_results():\n",
    "            sql_mes = pd.DataFrame(result.fetchall())\n",
    "    sql_mes = sql_mes.drop_duplicates()\n",
    "    return sql_mes"
   ]
  },
  {
   "source": [
    "# Reporte diario Liverpool"
   ],
   "cell_type": "markdown",
   "metadata": {}
  },
  {
   "cell_type": "code",
   "execution_count": 11,
   "metadata": {},
   "outputs": [],
   "source": [
    "#Hacemos la consulta referente a las gestiones de Liverpool\n",
    "gestion_liv = consulta_sql('liverpool_rpt_gestiones_detallado',today,today)\n",
    "gestion_liv.columns = ['folio_gestion','firma_id','unegocio_id','credito','nombre_credito','telefono','tipo_telefono','fecha_gestion','usuario','nombre_usuario','dictamen','accion','resultado','fecha_promesa','monto_promesa','comentarios']\n",
    "gestion_liv = gestion_liv.loc[gestion_liv['dictamen']=='PROMESA']\n",
    "gestion_liv['credito'] = pd.to_numeric(gestion_liv['credito'])"
   ]
  },
  {
   "cell_type": "code",
   "execution_count": 12,
   "metadata": {},
   "outputs": [],
   "source": [
    "#Hacemos la consulta de la asignacion\n",
    "asignacion_liv = consulta_sql('liverpool_rpt_asignacion_activa')\n",
    "asignacion_liv = asignacion_liv.iloc[:,[0,1,3,24,6,26]]\n",
    "asignacion_liv.columns = ['firma_id','unegocio_id','credito','estado','rfc','division']\n",
    "asignacion_liv['credito'] = pd.to_numeric(asignacion_liv['credito'])"
   ]
  },
  {
   "cell_type": "code",
   "execution_count": 13,
   "metadata": {},
   "outputs": [],
   "source": [
    "#Hacemos el consolidado \n",
    "consolidado_liv = pd.merge(gestion_liv,asignacion_liv,how='left',on=['firma_id','unegocio_id','credito'])\n",
    "cols = ['monto_promesa','credito']\n",
    "consolidado_liv[cols] = consolidado_liv[cols].apply(pd.to_numeric, errors='coerce')\n",
    "consolidado_liv = consolidado_liv[(consolidado_liv['monto_promesa']>50)]\n",
    "consolidado_liv = consolidado_liv[(consolidado_liv['monto_promesa']<500000)]\n",
    "consolidado_liv.fillna('COBRANZA',inplace=True)"
   ]
  },
  {
   "cell_type": "code",
   "execution_count": 14,
   "metadata": {},
   "outputs": [
    {
     "output_type": "execute_result",
     "data": {
      "text/plain": [
       "                              Gestor  NumPromesas  SumaPromesas\n",
       "0                CRUZ SALAZAR XIMENA            1        1564.0\n",
       "1                   DIAZ DIAZ LEONOR            3       22501.0\n",
       "2              LOPEZ VASQUEZ YOSELIN            1         770.0\n",
       "3   LORAYNI GUADALUPE OSNAYA VAZQUEZ            1        2022.0\n",
       "4  LUCIA ESMERALDA LONGORIA CISNEROS            1        1146.0\n",
       "5      RODRIGUEZ PAZ DIANA ELIZABETH            1        2600.0\n",
       "6               TORRES NARVAEZ MAYTE            1        5000.0\n",
       "7                                All            9       35603.0"
      ],
      "text/html": "<div>\n<style scoped>\n    .dataframe tbody tr th:only-of-type {\n        vertical-align: middle;\n    }\n\n    .dataframe tbody tr th {\n        vertical-align: top;\n    }\n\n    .dataframe thead th {\n        text-align: right;\n    }\n</style>\n<table border=\"1\" class=\"dataframe\">\n  <thead>\n    <tr style=\"text-align: right;\">\n      <th></th>\n      <th>Gestor</th>\n      <th>NumPromesas</th>\n      <th>SumaPromesas</th>\n    </tr>\n  </thead>\n  <tbody>\n    <tr>\n      <th>0</th>\n      <td>CRUZ SALAZAR XIMENA</td>\n      <td>1</td>\n      <td>1564.0</td>\n    </tr>\n    <tr>\n      <th>1</th>\n      <td>DIAZ DIAZ LEONOR</td>\n      <td>3</td>\n      <td>22501.0</td>\n    </tr>\n    <tr>\n      <th>2</th>\n      <td>LOPEZ VASQUEZ YOSELIN</td>\n      <td>1</td>\n      <td>770.0</td>\n    </tr>\n    <tr>\n      <th>3</th>\n      <td>LORAYNI GUADALUPE OSNAYA VAZQUEZ</td>\n      <td>1</td>\n      <td>2022.0</td>\n    </tr>\n    <tr>\n      <th>4</th>\n      <td>LUCIA ESMERALDA LONGORIA CISNEROS</td>\n      <td>1</td>\n      <td>1146.0</td>\n    </tr>\n    <tr>\n      <th>5</th>\n      <td>RODRIGUEZ PAZ DIANA ELIZABETH</td>\n      <td>1</td>\n      <td>2600.0</td>\n    </tr>\n    <tr>\n      <th>6</th>\n      <td>TORRES NARVAEZ MAYTE</td>\n      <td>1</td>\n      <td>5000.0</td>\n    </tr>\n    <tr>\n      <th>7</th>\n      <td>All</td>\n      <td>9</td>\n      <td>35603.0</td>\n    </tr>\n  </tbody>\n</table>\n</div>"
     },
     "metadata": {},
     "execution_count": 14
    }
   ],
   "source": [
    "#Obtenemos datos de las promesas de Liverpool\n",
    "consolidado_liv2 = consolidado_liv.drop_duplicates(subset=['credito','fecha_promesa','monto_promesa'])\n",
    "prom_liv_gestor = pd.pivot_table(consolidado_liv2,index=['nombre_usuario'],values=['credito','monto_promesa'],aggfunc=['count',np.sum],margins=True)\n",
    "prom_liv_gestor = pd.DataFrame(prom_liv_gestor.to_records())\n",
    "prom_liv_gestor = prom_liv_gestor.iloc[:,[0,1,4]]\n",
    "prom_liv_gestor.columns = ['Gestor','NumPromesas','SumaPromesas']\n",
    "prom_liv_gestor.fillna(0,inplace=True)\n",
    "#pivot_liv[['NumeroPromesas','PromedioPromesa','SumaPromesas']] = pivot_liv[['NumeroPromesas','PromedioPromesa','SumaPromesas']].applymap(\"{0:.2f}\".format)\n",
    "prom_liv_gestor"
   ]
  },
  {
   "source": [
    "# Acumulado Mes Liverpool"
   ],
   "cell_type": "markdown",
   "metadata": {}
  },
  {
   "cell_type": "code",
   "execution_count": 37,
   "metadata": {},
   "outputs": [],
   "source": [
    "#Hacemos la consulta referente a las gestiones de Liverpool\n",
    "gestion_liv_mes = consulta_sql('liverpool_rpt_gestiones_detallado',mes,today)\n",
    "gestion_liv_mes.columns = ['folio_gestion','firma_id','unegocio_id','credito','nombre_credito','telefono','tipo_telefono','fecha_gestion','usuario','nombre_usuario','dictamen','accion','resultado','fecha_promesa','monto_promesa','comentarios']\n",
    "gestion_liv_mes = gestion_liv_mes.loc[gestion_liv_mes['dictamen']=='PROMESA']\n",
    "gestion_liv_mes['credito'] = pd.to_numeric(gestion_liv_mes['credito'])\n",
    "try: gestion_liv_mes['fecha_promesa'] = pd.to_datetime(gestion_liv_mes['fecha_promesa'],dayfirst=False)\n",
    "except: gestion_liv_mes['fecha_promesa'] = gestion_liv_mes['fecha_gestion']\n",
    "#gestion_liv_mes.head(3)"
   ]
  },
  {
   "cell_type": "code",
   "execution_count": 38,
   "metadata": {},
   "outputs": [],
   "source": [
    "#Hacemos el consolidado \n",
    "consolidado_liv_mes = pd.merge(gestion_liv_mes,asignacion_liv,how='left',on=['firma_id','unegocio_id','credito'])\n",
    "cols = ['monto_promesa','credito']\n",
    "consolidado_liv_mes[cols] = consolidado_liv_mes[cols].apply(pd.to_numeric, errors='coerce')\n",
    "consolidado_liv_mes = consolidado_liv_mes[(consolidado_liv_mes['monto_promesa']>50)]\n",
    "consolidado_liv_mes = consolidado_liv_mes[(consolidado_liv_mes['monto_promesa']<500000)]\n",
    "consolidado_liv_mes.fillna('COBRANZA',inplace=True)\n",
    "consolidado_liv_mes = consolidado_liv_mes.drop_duplicates(subset = ['usuario','credito','fecha_promesa','monto_promesa'])\n",
    "#consolidado_liv_mes.head(3)"
   ]
  },
  {
   "cell_type": "code",
   "execution_count": 39,
   "metadata": {},
   "outputs": [],
   "source": [
    "#Asignamos los aranceles de liverpool\n",
    "aranceles = [('DKN00REM',0.28),('DKN02REM',0.4),('DKN04REM',0.5),('SA001REM',0.15),('SA002REM',0.16)]\n",
    "aranceles = pd.DataFrame(aranceles)\n",
    "aranceles.columns = ['Id','Arancel']\n",
    "#Agregamos aranceles al consolidado\n",
    "pagos_liv2 = pd.merge(pagos_liv2,aranceles,how='left',on='Id')\n",
    "pagos_liv2['PagoArancel'] = [x*y for x,y in zip(pagos_liv2['Monto'],pagos_liv2['Arancel'])]"
   ]
  },
  {
   "cell_type": "code",
   "execution_count": 41,
   "metadata": {},
   "outputs": [],
   "source": [
    "#Unimos el consolidado con los pagos \n",
    "consolidado_pagos_liv = pd.merge(consolidado_liv_mes,pagos_liv2,how='left',left_on=['credito'],right_on=['Cuenta'])\n",
    "consolidado_pagos_liv = consolidado_pagos_liv.drop_duplicates(subset = ['credito','Monto','usuario','fecha_promesa'])\n",
    "consolidado_pagos_liv['Fecha Pago'] = pd.to_datetime(consolidado_pagos_liv['Fecha Pago'],dayfirst=True)\n",
    "consolidado_pagos_liv['dia_prom'] = consolidado_pagos_liv['fecha_promesa'].dt.day\n",
    "consolidado_pagos_liv['dia_pago'] = consolidado_pagos_liv['Fecha Pago'].dt.day\n",
    "cols = ['dia_prom','dia_pago','Monto']\n",
    "consolidado_pagos_liv[cols] = consolidado_pagos_liv[cols].apply(pd.to_numeric, errors='coerce',downcast='integer')\n",
    "consolidado_pagos_liv['dia_pago'].fillna(0,inplace=True)\n",
    "try:\n",
    "    consolidado_pagos_liv['dia_pago'] = [int(x) for x in consolidado_pagos_liv['dia_pago']]\n",
    "except: consolidado_pagos_liv['dia_pago'] = consolidado_pagos_liv['dia_pago']\n",
    "#consolidado_pagos_liv.head(3)"
   ]
  },
  {
   "cell_type": "code",
   "execution_count": 42,
   "metadata": {},
   "outputs": [],
   "source": [
    "#Condicionamos a los gestores cuyas promesas y pagos estan en un plazo de 3 dias\n",
    "consolidado_pagos_liv['PagoReal'] = [np.where((z < x+pd.Timedelta(3, unit='D')) & ((z > x-pd.Timedelta(3, unit='D') )), y, 0) for x,y,z in zip(consolidado_pagos_liv['fecha_promesa'],consolidado_pagos_liv['Monto'],consolidado_pagos_liv['Fecha Pago'])]\n",
    "consolidado_pagos_liv['PagoReal'] = [x.item() for x in consolidado_pagos_liv['PagoReal']]\n",
    "#consolidado_pagos_liv.head(3)"
   ]
  },
  {
   "cell_type": "code",
   "execution_count": 43,
   "metadata": {},
   "outputs": [],
   "source": [
    "consolidado_pagos_liv['MontoArancel'] = [x*y for x,y in zip(consolidado_pagos_liv['PagoReal'],consolidado_pagos_liv['Arancel'])]"
   ]
  },
  {
   "cell_type": "code",
   "execution_count": 44,
   "metadata": {},
   "outputs": [
    {
     "output_type": "execute_result",
     "data": {
      "text/plain": [
       "                                Gestor  Numeropromesas  SumaPromesas  \\\n",
       "26                                 All             408    1372947.11   \n",
       "11              LOPEZ LOPEZ JULIO IVAN              54     237928.55   \n",
       "6            GARCIA FLORES OMAR ADRIAN              17      98822.96   \n",
       "1              BAUTISTA HILARIO YANELY              16      69908.00   \n",
       "7                   GARCIA RUIZ ALEXIS              19      42326.00   \n",
       "4                     DIAZ DIAZ LEONOR              30     131118.00   \n",
       "21            RODRIGUEZ MARQUEZ JAVIER              10      59679.00   \n",
       "24                TORRES NARVAEZ MAYTE              27      63218.00   \n",
       "3                  CRUZ SALAZAR XIMENA              29      73243.00   \n",
       "13    LORAYNI GUADALUPE OSNAYA VAZQUEZ              28      78987.00   \n",
       "12               LOPEZ VASQUEZ YOSELIN              21      56855.00   \n",
       "2                BERENICE GUZMAN JAIME              13      44815.10   \n",
       "15                MANUEL BUSTOS LUCERO              20      57716.00   \n",
       "22       RODRIGUEZ PAZ DIANA ELIZABETH              33      85905.00   \n",
       "25   VELAZQUEZ IBARRA ERICK ALEJANDRO               26      53892.50   \n",
       "23      SANCHEZ VELASCO VANESSA IVONNE              15      79047.00   \n",
       "16               MARY CRUZ RIOS TOLEDO               3      27110.00   \n",
       "0      BARRETO OSEGUERA MARIA FERNANDA              18      36988.00   \n",
       "5      DOMINGUEZ HERNANDEZ ANAID ITZEL              12      27656.00   \n",
       "17      MISHELLLE ADYANI CHAVEZ CASTRO               5       9827.00   \n",
       "8                 GONZALEZ TOTO BRENDA               4       9221.00   \n",
       "14   LUCIA ESMERALDA LONGORIA CISNEROS               3       5715.00   \n",
       "19              OROZCO GONZALEZ BRENDA               1       1667.00   \n",
       "10           HERNANDEZ GONZALEZ SANDRA               1       9182.00   \n",
       "20      RAMIREZ REYES LESLIE GUADALUPE               1       9070.00   \n",
       "9   GUADALUPE MAYELA HERNANDEZ MENDITA               1       2350.00   \n",
       "18            MUNOZ BORJA KATYA MUSMED               1        700.00   \n",
       "\n",
       "    SumaPagos  SumaArancel  \n",
       "26  818625.41  279132.7974  \n",
       "11  233364.37   83730.8156  \n",
       "6    98822.96   32551.1998  \n",
       "1    51564.00   14408.1000  \n",
       "7    47862.08   18460.1120  \n",
       "4    45640.00   11933.5000  \n",
       "21   40812.00   18516.6400  \n",
       "24   38968.00   16124.2000  \n",
       "3    35364.00   12281.1000  \n",
       "13   35043.00   12760.8800  \n",
       "12   29045.00    8548.0000  \n",
       "2    27150.00    9210.0000  \n",
       "15   24388.00    7097.4000  \n",
       "22   22950.00    5650.9600  \n",
       "25   22744.00    7837.5500  \n",
       "23   17631.00    5251.9600  \n",
       "16   12110.00    3814.7600  \n",
       "0     9800.00    4203.5000  \n",
       "5     9234.00    2429.5200  \n",
       "17    6230.00    1602.8000  \n",
       "8     4164.00     624.6000  \n",
       "14    4069.00    1627.6000  \n",
       "19    1670.00     467.6000  \n",
       "10       0.00       0.0000  \n",
       "20       0.00       0.0000  \n",
       "9        0.00       0.0000  \n",
       "18       0.00       0.0000  "
      ],
      "text/html": "<div>\n<style scoped>\n    .dataframe tbody tr th:only-of-type {\n        vertical-align: middle;\n    }\n\n    .dataframe tbody tr th {\n        vertical-align: top;\n    }\n\n    .dataframe thead th {\n        text-align: right;\n    }\n</style>\n<table border=\"1\" class=\"dataframe\">\n  <thead>\n    <tr style=\"text-align: right;\">\n      <th></th>\n      <th>Gestor</th>\n      <th>Numeropromesas</th>\n      <th>SumaPromesas</th>\n      <th>SumaPagos</th>\n      <th>SumaArancel</th>\n    </tr>\n  </thead>\n  <tbody>\n    <tr>\n      <th>26</th>\n      <td>All</td>\n      <td>408</td>\n      <td>1372947.11</td>\n      <td>818625.41</td>\n      <td>279132.7974</td>\n    </tr>\n    <tr>\n      <th>11</th>\n      <td>LOPEZ LOPEZ JULIO IVAN</td>\n      <td>54</td>\n      <td>237928.55</td>\n      <td>233364.37</td>\n      <td>83730.8156</td>\n    </tr>\n    <tr>\n      <th>6</th>\n      <td>GARCIA FLORES OMAR ADRIAN</td>\n      <td>17</td>\n      <td>98822.96</td>\n      <td>98822.96</td>\n      <td>32551.1998</td>\n    </tr>\n    <tr>\n      <th>1</th>\n      <td>BAUTISTA HILARIO YANELY</td>\n      <td>16</td>\n      <td>69908.00</td>\n      <td>51564.00</td>\n      <td>14408.1000</td>\n    </tr>\n    <tr>\n      <th>7</th>\n      <td>GARCIA RUIZ ALEXIS</td>\n      <td>19</td>\n      <td>42326.00</td>\n      <td>47862.08</td>\n      <td>18460.1120</td>\n    </tr>\n    <tr>\n      <th>4</th>\n      <td>DIAZ DIAZ LEONOR</td>\n      <td>30</td>\n      <td>131118.00</td>\n      <td>45640.00</td>\n      <td>11933.5000</td>\n    </tr>\n    <tr>\n      <th>21</th>\n      <td>RODRIGUEZ MARQUEZ JAVIER</td>\n      <td>10</td>\n      <td>59679.00</td>\n      <td>40812.00</td>\n      <td>18516.6400</td>\n    </tr>\n    <tr>\n      <th>24</th>\n      <td>TORRES NARVAEZ MAYTE</td>\n      <td>27</td>\n      <td>63218.00</td>\n      <td>38968.00</td>\n      <td>16124.2000</td>\n    </tr>\n    <tr>\n      <th>3</th>\n      <td>CRUZ SALAZAR XIMENA</td>\n      <td>29</td>\n      <td>73243.00</td>\n      <td>35364.00</td>\n      <td>12281.1000</td>\n    </tr>\n    <tr>\n      <th>13</th>\n      <td>LORAYNI GUADALUPE OSNAYA VAZQUEZ</td>\n      <td>28</td>\n      <td>78987.00</td>\n      <td>35043.00</td>\n      <td>12760.8800</td>\n    </tr>\n    <tr>\n      <th>12</th>\n      <td>LOPEZ VASQUEZ YOSELIN</td>\n      <td>21</td>\n      <td>56855.00</td>\n      <td>29045.00</td>\n      <td>8548.0000</td>\n    </tr>\n    <tr>\n      <th>2</th>\n      <td>BERENICE GUZMAN JAIME</td>\n      <td>13</td>\n      <td>44815.10</td>\n      <td>27150.00</td>\n      <td>9210.0000</td>\n    </tr>\n    <tr>\n      <th>15</th>\n      <td>MANUEL BUSTOS LUCERO</td>\n      <td>20</td>\n      <td>57716.00</td>\n      <td>24388.00</td>\n      <td>7097.4000</td>\n    </tr>\n    <tr>\n      <th>22</th>\n      <td>RODRIGUEZ PAZ DIANA ELIZABETH</td>\n      <td>33</td>\n      <td>85905.00</td>\n      <td>22950.00</td>\n      <td>5650.9600</td>\n    </tr>\n    <tr>\n      <th>25</th>\n      <td>VELAZQUEZ IBARRA ERICK ALEJANDRO</td>\n      <td>26</td>\n      <td>53892.50</td>\n      <td>22744.00</td>\n      <td>7837.5500</td>\n    </tr>\n    <tr>\n      <th>23</th>\n      <td>SANCHEZ VELASCO VANESSA IVONNE</td>\n      <td>15</td>\n      <td>79047.00</td>\n      <td>17631.00</td>\n      <td>5251.9600</td>\n    </tr>\n    <tr>\n      <th>16</th>\n      <td>MARY CRUZ RIOS TOLEDO</td>\n      <td>3</td>\n      <td>27110.00</td>\n      <td>12110.00</td>\n      <td>3814.7600</td>\n    </tr>\n    <tr>\n      <th>0</th>\n      <td>BARRETO OSEGUERA MARIA FERNANDA</td>\n      <td>18</td>\n      <td>36988.00</td>\n      <td>9800.00</td>\n      <td>4203.5000</td>\n    </tr>\n    <tr>\n      <th>5</th>\n      <td>DOMINGUEZ HERNANDEZ ANAID ITZEL</td>\n      <td>12</td>\n      <td>27656.00</td>\n      <td>9234.00</td>\n      <td>2429.5200</td>\n    </tr>\n    <tr>\n      <th>17</th>\n      <td>MISHELLLE ADYANI CHAVEZ CASTRO</td>\n      <td>5</td>\n      <td>9827.00</td>\n      <td>6230.00</td>\n      <td>1602.8000</td>\n    </tr>\n    <tr>\n      <th>8</th>\n      <td>GONZALEZ TOTO BRENDA</td>\n      <td>4</td>\n      <td>9221.00</td>\n      <td>4164.00</td>\n      <td>624.6000</td>\n    </tr>\n    <tr>\n      <th>14</th>\n      <td>LUCIA ESMERALDA LONGORIA CISNEROS</td>\n      <td>3</td>\n      <td>5715.00</td>\n      <td>4069.00</td>\n      <td>1627.6000</td>\n    </tr>\n    <tr>\n      <th>19</th>\n      <td>OROZCO GONZALEZ BRENDA</td>\n      <td>1</td>\n      <td>1667.00</td>\n      <td>1670.00</td>\n      <td>467.6000</td>\n    </tr>\n    <tr>\n      <th>10</th>\n      <td>HERNANDEZ GONZALEZ SANDRA</td>\n      <td>1</td>\n      <td>9182.00</td>\n      <td>0.00</td>\n      <td>0.0000</td>\n    </tr>\n    <tr>\n      <th>20</th>\n      <td>RAMIREZ REYES LESLIE GUADALUPE</td>\n      <td>1</td>\n      <td>9070.00</td>\n      <td>0.00</td>\n      <td>0.0000</td>\n    </tr>\n    <tr>\n      <th>9</th>\n      <td>GUADALUPE MAYELA HERNANDEZ MENDITA</td>\n      <td>1</td>\n      <td>2350.00</td>\n      <td>0.00</td>\n      <td>0.0000</td>\n    </tr>\n    <tr>\n      <th>18</th>\n      <td>MUNOZ BORJA KATYA MUSMED</td>\n      <td>1</td>\n      <td>700.00</td>\n      <td>0.00</td>\n      <td>0.0000</td>\n    </tr>\n  </tbody>\n</table>\n</div>"
     },
     "metadata": {},
     "execution_count": 44
    }
   ],
   "source": [
    "#Obtenemos datos de los gestores de Liverpool\n",
    "prom_liv_gestor_mes = pd.pivot_table(consolidado_pagos_liv,index=['nombre_usuario'],values=['credito','monto_promesa','PagoReal','MontoArancel'],aggfunc=['count',np.sum],margins=True,dropna=False)\n",
    "prom_liv_gestor_mes = pd.DataFrame(prom_liv_gestor_mes.to_records())\n",
    "prom_liv_gestor_mes = prom_liv_gestor_mes.iloc[:,[0,3,8,6,5]]\n",
    "prom_liv_gestor_mes.columns = ['Gestor','Numeropromesas','SumaPromesas','SumaPagos','SumaArancel']\n",
    "prom_liv_gestor_mes.fillna(0,inplace=True)\n",
    "prom_liv_gestor_mes = prom_liv_gestor_mes.sort_values(by='SumaPagos',ascending=False)\n",
    "#prom_liv_gestor_mes[['SumaPromesas']] = prom_liv_gestor_mes[['SumaPromesas']].applymap(\"{0:.2f}\".format)\n",
    "prom_liv_gestor_mes"
   ]
  },
  {
   "cell_type": "code",
   "execution_count": 45,
   "metadata": {},
   "outputs": [],
   "source": [
    "pagos_duplicados_liv = consolidado_pagos_liv[consolidado_pagos_liv['Cuenta'].isin(consolidado_pagos_liv['Cuenta'][consolidado_pagos_liv['Cuenta'].duplicated()])]\n",
    "pagos_duplicados_liv = pagos_duplicados_liv.dropna(subset=['Cuenta']).sort_values('Cuenta')\n",
    "#pagos_duplicados_liv.head(3)"
   ]
  },
  {
   "cell_type": "code",
   "execution_count": 46,
   "metadata": {},
   "outputs": [
    {
     "output_type": "execute_result",
     "data": {
      "text/plain": [
       "   Division  NumeroPagos  SumaPagos  SumaArancel\n",
       "0  DKN00REM           50  189920.91   53177.8548\n",
       "1  DKN02REM           76  367387.98  146955.1920\n",
       "2  DKN04REM           32  178815.95   89407.9750\n",
       "3  SA001REM           93  154040.80   23106.1200\n",
       "4  SA002REM           13   24909.26    3985.4816\n",
       "5       All          264  915074.90  316632.6234"
      ],
      "text/html": "<div>\n<style scoped>\n    .dataframe tbody tr th:only-of-type {\n        vertical-align: middle;\n    }\n\n    .dataframe tbody tr th {\n        vertical-align: top;\n    }\n\n    .dataframe thead th {\n        text-align: right;\n    }\n</style>\n<table border=\"1\" class=\"dataframe\">\n  <thead>\n    <tr style=\"text-align: right;\">\n      <th></th>\n      <th>Division</th>\n      <th>NumeroPagos</th>\n      <th>SumaPagos</th>\n      <th>SumaArancel</th>\n    </tr>\n  </thead>\n  <tbody>\n    <tr>\n      <th>0</th>\n      <td>DKN00REM</td>\n      <td>50</td>\n      <td>189920.91</td>\n      <td>53177.8548</td>\n    </tr>\n    <tr>\n      <th>1</th>\n      <td>DKN02REM</td>\n      <td>76</td>\n      <td>367387.98</td>\n      <td>146955.1920</td>\n    </tr>\n    <tr>\n      <th>2</th>\n      <td>DKN04REM</td>\n      <td>32</td>\n      <td>178815.95</td>\n      <td>89407.9750</td>\n    </tr>\n    <tr>\n      <th>3</th>\n      <td>SA001REM</td>\n      <td>93</td>\n      <td>154040.80</td>\n      <td>23106.1200</td>\n    </tr>\n    <tr>\n      <th>4</th>\n      <td>SA002REM</td>\n      <td>13</td>\n      <td>24909.26</td>\n      <td>3985.4816</td>\n    </tr>\n    <tr>\n      <th>5</th>\n      <td>All</td>\n      <td>264</td>\n      <td>915074.90</td>\n      <td>316632.6234</td>\n    </tr>\n  </tbody>\n</table>\n</div>"
     },
     "metadata": {},
     "execution_count": 46
    }
   ],
   "source": [
    "#Total pagos Liver registrados\n",
    "pagos_totales_liv = pd.pivot_table(pagos_liv2,index=['Id'],values=['Monto','PagoArancel'],aggfunc=[np.sum,'count'],margins=True)\n",
    "pagos_totales_liv = pd.DataFrame(pagos_totales_liv.to_records())\n",
    "pagos_totales_liv = pagos_totales_liv.iloc[:,[0,3,1,2]]\n",
    "pagos_totales_liv.columns = ['Division','NumeroPagos','SumaPagos','SumaArancel']\n",
    "pagos_totales_liv.fillna(0,inplace=True)\n",
    "pagos_totales_liv"
   ]
  },
  {
   "source": [
    "# Medir al gestor Bradesco"
   ],
   "cell_type": "markdown",
   "metadata": {}
  },
  {
   "source": [
    "# Reporte diario Bradesco"
   ],
   "cell_type": "markdown",
   "metadata": {}
  },
  {
   "cell_type": "code",
   "execution_count": 25,
   "metadata": {},
   "outputs": [],
   "source": [
    "#Hacemos la consulta referente a las gestiones de Bradesco\n",
    "sql_gest_brad = cursor.callproc('bradescard_rpt_gestiones_detallado', [today,today])\n",
    "for result in cursor.stored_results():\n",
    "    gestion_brad = pd.DataFrame(result.fetchall())\n",
    "gestion_brad.columns = ['folio_gestion','firma_id','unegocio_id','credito','nombre_credito','telefono','tipo_telefono','fecha_gestion','usuario','nombre_usuario','dictamen','accion','resultado','accion_resultado','fecha_promesa','monto_promesa','comentarios']\n",
    "gestion_brad = gestion_brad.loc[gestion_brad['dictamen']=='PROMESA']\n",
    "gestion_brad['credito'] = pd.to_numeric(gestion_brad['credito'])\n",
    "#gestion_brad.head(3)"
   ]
  },
  {
   "cell_type": "code",
   "execution_count": 26,
   "metadata": {},
   "outputs": [],
   "source": [
    "#Hacemos la consulta de la asignacion\n",
    "sql_asig_brad = cursor.callproc('bradescard_rpt_asignacion_activa',)\n",
    "for result in cursor.stored_results():\n",
    "    asignacion_brad = pd.DataFrame(result.fetchall())\n",
    "asignacion_brad = asignacion_brad.iloc[:,[0,1,3,9,24,6,26]]\n",
    "asignacion_brad.columns = ['firma_id','unegocio_id','credito','saldo_total','estado','rfc','division']\n",
    "asignacion_brad['credito'] = pd.to_numeric(asignacion_brad['credito'])\n",
    "#asignacion_brad.head(3)"
   ]
  },
  {
   "cell_type": "code",
   "execution_count": 27,
   "metadata": {},
   "outputs": [],
   "source": [
    "#Hacemos la union de asignacion y promesas\n",
    "consolidado_brad = pd.merge(gestion_brad,asignacion_brad,how='left',on=['firma_id','unegocio_id','credito'])\n",
    "cols = ['monto_promesa','credito']\n",
    "consolidado_brad[cols] = consolidado_brad[cols].apply(pd.to_numeric, errors='coerce')\n",
    "consolidado_brad = consolidado_brad[(consolidado_brad['monto_promesa']>50)]\n",
    "consolidado_brad = consolidado_brad[(consolidado_brad['monto_promesa']<500000)]\n",
    "consolidado_brad.fillna('COBRANZA',inplace=True)\n",
    "#consolidado_brad.head(3)"
   ]
  },
  {
   "cell_type": "code",
   "execution_count": 28,
   "metadata": {},
   "outputs": [
    {
     "output_type": "execute_result",
     "data": {
      "text/plain": [
       "                              Gestor  NumeroPromesas  SumaPromesas\n",
       "0             AGUILAR MACEDO VALERIA               2        1432.0\n",
       "1        BALBUENA MACEDO EDGAR URIEL               1         700.0\n",
       "2            CASTRO REZA IRVING YAEL               1        3385.0\n",
       "3        COLULA CALIXTO MIGUEL ANGEL               2        4500.0\n",
       "4             DANIEL PINEDA ALVARADO               2        3600.0\n",
       "5       DE LA FUENTE MIJARES BETTINA               2        3530.0\n",
       "6    DOMINGUEZ HERNANDEZ ANAID ITZEL               4        4350.0\n",
       "7               GARCIA CHAVEZ BRAYAN               1         500.0\n",
       "8           MUNOZ BORJA KATYA MUSMED               3        6100.0\n",
       "9   PEDRAZA COLIN MARIA DEL CONZUELO               1        4385.0\n",
       "10      TRON FIERROS FELIPE DE JESUS               2        3625.0\n",
       "11            VEGA HERNANDEZ NATALIE               1         800.0\n",
       "12                               All              22       36907.0"
      ],
      "text/html": "<div>\n<style scoped>\n    .dataframe tbody tr th:only-of-type {\n        vertical-align: middle;\n    }\n\n    .dataframe tbody tr th {\n        vertical-align: top;\n    }\n\n    .dataframe thead th {\n        text-align: right;\n    }\n</style>\n<table border=\"1\" class=\"dataframe\">\n  <thead>\n    <tr style=\"text-align: right;\">\n      <th></th>\n      <th>Gestor</th>\n      <th>NumeroPromesas</th>\n      <th>SumaPromesas</th>\n    </tr>\n  </thead>\n  <tbody>\n    <tr>\n      <th>0</th>\n      <td>AGUILAR MACEDO VALERIA</td>\n      <td>2</td>\n      <td>1432.0</td>\n    </tr>\n    <tr>\n      <th>1</th>\n      <td>BALBUENA MACEDO EDGAR URIEL</td>\n      <td>1</td>\n      <td>700.0</td>\n    </tr>\n    <tr>\n      <th>2</th>\n      <td>CASTRO REZA IRVING YAEL</td>\n      <td>1</td>\n      <td>3385.0</td>\n    </tr>\n    <tr>\n      <th>3</th>\n      <td>COLULA CALIXTO MIGUEL ANGEL</td>\n      <td>2</td>\n      <td>4500.0</td>\n    </tr>\n    <tr>\n      <th>4</th>\n      <td>DANIEL PINEDA ALVARADO</td>\n      <td>2</td>\n      <td>3600.0</td>\n    </tr>\n    <tr>\n      <th>5</th>\n      <td>DE LA FUENTE MIJARES BETTINA</td>\n      <td>2</td>\n      <td>3530.0</td>\n    </tr>\n    <tr>\n      <th>6</th>\n      <td>DOMINGUEZ HERNANDEZ ANAID ITZEL</td>\n      <td>4</td>\n      <td>4350.0</td>\n    </tr>\n    <tr>\n      <th>7</th>\n      <td>GARCIA CHAVEZ BRAYAN</td>\n      <td>1</td>\n      <td>500.0</td>\n    </tr>\n    <tr>\n      <th>8</th>\n      <td>MUNOZ BORJA KATYA MUSMED</td>\n      <td>3</td>\n      <td>6100.0</td>\n    </tr>\n    <tr>\n      <th>9</th>\n      <td>PEDRAZA COLIN MARIA DEL CONZUELO</td>\n      <td>1</td>\n      <td>4385.0</td>\n    </tr>\n    <tr>\n      <th>10</th>\n      <td>TRON FIERROS FELIPE DE JESUS</td>\n      <td>2</td>\n      <td>3625.0</td>\n    </tr>\n    <tr>\n      <th>11</th>\n      <td>VEGA HERNANDEZ NATALIE</td>\n      <td>1</td>\n      <td>800.0</td>\n    </tr>\n    <tr>\n      <th>12</th>\n      <td>All</td>\n      <td>22</td>\n      <td>36907.0</td>\n    </tr>\n  </tbody>\n</table>\n</div>"
     },
     "metadata": {},
     "execution_count": 28
    }
   ],
   "source": [
    "#Obtenemos datos de las promesas de Bradesco\n",
    "consolidado_brad2 = consolidado_brad.drop_duplicates(subset=['credito','fecha_promesa','monto_promesa'])\n",
    "prom_brad_gestor = pd.pivot_table(consolidado_brad2,index=['nombre_usuario'],values=['credito','monto_promesa'],aggfunc=['count',np.sum],margins=True)\n",
    "prom_brad_gestor = pd.DataFrame(prom_brad_gestor.to_records())\n",
    "prom_brad_gestor = prom_brad_gestor.iloc[:,[0,1,4]]\n",
    "prom_brad_gestor.columns = ['Gestor','NumeroPromesas','SumaPromesas']\n",
    "prom_brad_gestor.fillna(0,inplace=True)\n",
    "#prom_brad_gestor[['NumeroPromesas','PromedioPromesa','SumaPromesas']] = pivot_gestion_brad[['NumeroPromesas','PromedioPromesa','SumaPromesas']].applymap(\"{0:.2f}\".format)\n",
    "prom_brad_gestor"
   ]
  },
  {
   "source": [
    "# Acumulado mes Bradesco"
   ],
   "cell_type": "markdown",
   "metadata": {}
  },
  {
   "cell_type": "code",
   "execution_count": 29,
   "metadata": {},
   "outputs": [],
   "source": [
    "#Hacemos la consulta referente a las gestiones de Bradesco\n",
    "sql_gest_brad_mes = cursor.callproc('bradescard_rpt_gestiones_detallado', [mes,today])\n",
    "for result in cursor.stored_results():\n",
    "    gestion_brad_mes = pd.DataFrame(result.fetchall())\n",
    "gestion_brad_mes.columns = ['folio_gestion','firma_id','unegocio_id','credito','nombre_credito','telefono','tipo_telefono','fecha_gestion','usuario','nombre_usuario','dictamen','accion','resultado','accion_resultado','fecha_promesa','monto_promesa','comentarios']\n",
    "gestion_brad_mes = gestion_brad_mes.loc[gestion_brad_mes['dictamen']=='PROMESA']\n",
    "gestion_brad_mes['credito'] = pd.to_numeric(gestion_brad_mes['credito'])\n",
    "gestion_brad_mes['monto_promesa'] = pd.to_numeric(gestion_brad_mes['monto_promesa'])\n",
    "gestion_brad_mes = gestion_brad_mes.drop_duplicates(subset=['credito','usuario','fecha_promesa','monto_promesa'])\n",
    "#gestion_brad_mes.head(3)"
   ]
  },
  {
   "cell_type": "code",
   "execution_count": 30,
   "metadata": {},
   "outputs": [],
   "source": [
    "#Hacemos la union de asignacion y promesas\n",
    "consolidado_brad_mes = pd.merge(gestion_brad_mes,asignacion_brad,how='left',on=['firma_id','unegocio_id','credito'])\n",
    "cols = ['monto_promesa','credito']\n",
    "consolidado_brad_mes[cols] = consolidado_brad_mes[cols].apply(pd.to_numeric, errors='coerce')\n",
    "consolidado_brad_mes = consolidado_brad_mes[(consolidado_brad_mes['monto_promesa']>50)]\n",
    "consolidado_brad_mes = consolidado_brad_mes[(consolidado_brad_mes['monto_promesa']<500000)]\n",
    "consolidado_brad_mes.fillna('COBRANZA',inplace=True)\n",
    "#consolidado_brad_mes.head(3)"
   ]
  },
  {
   "cell_type": "code",
   "execution_count": 61,
   "metadata": {},
   "outputs": [
    {
     "output_type": "execute_result",
     "data": {
      "text/plain": [
       "  Division  NumeroPagos    SumaPagos\n",
       "0   C0 4PV           25   $56,031.00\n",
       "1   C0 5PV           10    $8,209.00\n",
       "2   C0 6PV            8   $12,240.00\n",
       "3       C1           28   $38,004.24\n",
       "4       C2            8    $8,449.00\n",
       "5       C3           21   $22,699.00\n",
       "6       C4            7    $8,403.00\n",
       "7      All          107  $154,035.24"
      ],
      "text/html": "<div>\n<style scoped>\n    .dataframe tbody tr th:only-of-type {\n        vertical-align: middle;\n    }\n\n    .dataframe tbody tr th {\n        vertical-align: top;\n    }\n\n    .dataframe thead th {\n        text-align: right;\n    }\n</style>\n<table border=\"1\" class=\"dataframe\">\n  <thead>\n    <tr style=\"text-align: right;\">\n      <th></th>\n      <th>Division</th>\n      <th>NumeroPagos</th>\n      <th>SumaPagos</th>\n    </tr>\n  </thead>\n  <tbody>\n    <tr>\n      <th>0</th>\n      <td>C0 4PV</td>\n      <td>25</td>\n      <td>$56,031.00</td>\n    </tr>\n    <tr>\n      <th>1</th>\n      <td>C0 5PV</td>\n      <td>10</td>\n      <td>$8,209.00</td>\n    </tr>\n    <tr>\n      <th>2</th>\n      <td>C0 6PV</td>\n      <td>8</td>\n      <td>$12,240.00</td>\n    </tr>\n    <tr>\n      <th>3</th>\n      <td>C1</td>\n      <td>28</td>\n      <td>$38,004.24</td>\n    </tr>\n    <tr>\n      <th>4</th>\n      <td>C2</td>\n      <td>8</td>\n      <td>$8,449.00</td>\n    </tr>\n    <tr>\n      <th>5</th>\n      <td>C3</td>\n      <td>21</td>\n      <td>$22,699.00</td>\n    </tr>\n    <tr>\n      <th>6</th>\n      <td>C4</td>\n      <td>7</td>\n      <td>$8,403.00</td>\n    </tr>\n    <tr>\n      <th>7</th>\n      <td>All</td>\n      <td>107</td>\n      <td>$154,035.24</td>\n    </tr>\n  </tbody>\n</table>\n</div>"
     },
     "metadata": {},
     "execution_count": 61
    }
   ],
   "source": [
    "#Obtenemos los pagos totales por division\n",
    "pagos_totales_brad = pd.pivot_table(pagos_brad2,index=['TIPO_ASIGANCION'],values=['MONTO'],aggfunc=[np.sum,'count'],margins=True,dropna=False)\n",
    "pagos_totales_brad = pd.DataFrame(pagos_totales_brad.to_records())\n",
    "pagos_totales_brad = pagos_totales_brad.iloc[:,[0,2,1]]\n",
    "pagos_totales_brad.columns = ['Division','NumeroPagos','SumaPagos']\n",
    "pagos_totales_brad.fillna(0,inplace=True)\n",
    "pagos_totales_brad['SumaPagos'] = ['${:,.2f}'.format(x) for x in pagos_totales_brad['SumaPagos']]\n",
    "pagos_totales_brad"
   ]
  },
  {
   "cell_type": "code",
   "execution_count": 62,
   "metadata": {},
   "outputs": [],
   "source": [
    "def func(row):\n",
    "    if row['TIPO_ASIGANCION'] == 'C0 4PV':\n",
    "        return .07\n",
    "    elif row['TIPO_ASIGANCION'] == 'C0 5PV':\n",
    "        return .09\n",
    "    elif row['TIPO_ASIGANCION'] == 'C0 6PV':\n",
    "        return .1\n",
    "    elif row['TIPO_ASIGANCION'] == 'A':\n",
    "        return .27\n",
    "    elif row['TIPO_ASIGANCION'] == 'B':\n",
    "        return .25\n",
    "    elif row['TIPO_ASIGANCION'] == 'C1':\n",
    "        return .17\n",
    "    elif row['TIPO_ASIGANCION'] == 'C2':\n",
    "        return .19\n",
    "    elif row['TIPO_ASIGANCION'] == 'C3':\n",
    "        return .21\n",
    "    elif row['TIPO_ASIGANCION'] == 'C4':\n",
    "        return .23\n",
    "    else:\n",
    "        return 0\n",
    "\n",
    "pagos_brad2['Arancel'] = pagos_brad2.apply(func, axis=1)"
   ]
  },
  {
   "cell_type": "code",
   "execution_count": 63,
   "metadata": {},
   "outputs": [],
   "source": [
    "pagos_brad2['Facturacion'] = [x*y for x,y in zip(pagos_brad2['MONTO'],pagos_brad2['Arancel'])]"
   ]
  },
  {
   "cell_type": "code",
   "execution_count": 64,
   "metadata": {},
   "outputs": [],
   "source": [
    "#Hacemos la union consolidado y pagos\n",
    "consoliado_pagos_brad = pd.merge(consolidado_brad_mes,pagos_brad2,how='left',left_on=['credito'],right_on=['NUMERO_TARJETA'])\n",
    "try: consoliado_pagos_brad['fecha_promesa'] = pd.to_datetime(consoliado_pagos_brad['fecha_promesa'],dayfirst=False)\n",
    "except: consoliado_pagos_brad['fecha_promesa'] = consoliado_pagos_brad['fecha_gestion']"
   ]
  },
  {
   "cell_type": "code",
   "execution_count": 65,
   "metadata": {},
   "outputs": [],
   "source": [
    "#Condicionamos a los gestores cuyas promesas y pagos estan en un plazo de 3 dias\n",
    "consoliado_pagos_brad['PagoUnico'] = [np.where((z < x+pd.Timedelta(4, unit='D')) & ((z > x-pd.Timedelta(3, unit='D') )), y, 0) for x,y,z in zip(consoliado_pagos_brad['fecha_promesa'],consoliado_pagos_brad['MONTO'],consoliado_pagos_brad['FECHA_PAGO'])]\n",
    "consoliado_pagos_brad['PagoUnico'] = [x.item() for x in consoliado_pagos_brad['PagoUnico']]"
   ]
  },
  {
   "cell_type": "code",
   "execution_count": 66,
   "metadata": {},
   "outputs": [],
   "source": [
    "consoliado_pagos_brad['PagoReal'] = [x*y for x,y in zip(consoliado_pagos_brad['PagoUnico'],consoliado_pagos_brad['Arancel'])]\n",
    "consoliado_pagos_brad2 = consoliado_pagos_brad.drop_duplicates(subset=['credito','MONTO','FECHA_PAGO','usuario'])"
   ]
  },
  {
   "cell_type": "code",
   "execution_count": 67,
   "metadata": {},
   "outputs": [
    {
     "output_type": "execute_result",
     "data": {
      "text/plain": [
       "                                  Gestor  NumeroPromesas  SumaPromesas  \\\n",
       "0                                    All             448      715729.0   \n",
       "1                 AGUILAR MACEDO VALERIA              27       32771.0   \n",
       "2                 GOMEZ CARRILLO LETICIA              17       38638.0   \n",
       "3                 MIRIAM PEINADO ALVAREZ              19       23820.0   \n",
       "4              ROSAS TREJO JESUS EDUARDO               9       13662.0   \n",
       "5                  JUAREZ ROBLEDO LORENA              16       22091.0   \n",
       "6       ALEJANDRA YESENIA HERNANDEZ BITE               8       10730.0   \n",
       "7                   MANUEL BUSTOS LUCERO               2        5162.0   \n",
       "8             LIZBETH INELVA LUNA COLULA              16       20085.0   \n",
       "9                     GARCIA RUIZ ALEXIS               5        9434.0   \n",
       "10                 MEDINA ARIAS MAURICIO              13       20758.0   \n",
       "11               CASTRO REZA IRVING YAEL              11       14880.0   \n",
       "12        CARRANCO ZAMORA JAIME WALBERTO              34       73278.0   \n",
       "13          RODRIGUEZ HERNANDEZ CRISTIAN              13       23305.0   \n",
       "14     LUCIA ESMERALDA LONGORIA CISNEROS              17       33495.0   \n",
       "15                  GARCIA CHAVEZ BRAYAN              11        9733.0   \n",
       "16            ALANIZ DIAZ ALISON JOCELIN               5        9433.0   \n",
       "17             RODRIGUEZ SANTIAGO JUDITH               9       13415.0   \n",
       "18       BARRETO OSEGUERA MARIA FERNANDA               4        4024.0   \n",
       "19             LOPEZ ESTRADA MA. IGNACIA              12       18377.0   \n",
       "20                VEGA HERNANDEZ NATALIE              11        9328.0   \n",
       "21        MISHELLLE ADYANI CHAVEZ CASTRO               6        6739.0   \n",
       "22          HERNANDEZ MEDEL LUIS ENRIQUE              10       17984.0   \n",
       "23           COLULA CALIXTO MIGUEL ANGEL              12       18821.0   \n",
       "24      PEDRAZA COLIN MARIA DEL CONZUELO               9       16959.0   \n",
       "25     VELAZQUEZ IBARRA ERICK ALEJANDRO                1         300.0   \n",
       "26  VAZQUEZ SANCHEZ LINNETH BERENICEÃÂ                6       19505.0   \n",
       "27          TRON FIERROS FELIPE DE JESUS              21       42810.0   \n",
       "28        SANCHEZ VELASCO VANESSA IVONNE               2        2735.0   \n",
       "29                 CID IRINEO ROSA ISELA              20       32959.0   \n",
       "30         RODRIGUEZ PAZ DIANA ELIZABETH               1         300.0   \n",
       "31              RODRIGUEZ MARQUEZ JAVIER               3        4168.0   \n",
       "32                DANIEL PINEDA ALVARADO              11       14117.0   \n",
       "33        RAMIREZ REYES LESLIE GUADALUPE               4       11620.0   \n",
       "34          RAMIREZ OSORIO CESAR AUGUSTO               8        8494.0   \n",
       "35                OROZCO GONZALEZ BRENDA               3        2290.0   \n",
       "36          HUERTA LOPEZ NATALIA XOCHITL              12       19186.0   \n",
       "37              MUNOZ BORJA KATYA MUSMED               6        8250.0   \n",
       "38          DE LA FUENTE MIJARES BETTINA               8       19660.0   \n",
       "39                      DIAZ DIAZ LEONOR               4       15431.0   \n",
       "40                 MARY CRUZ RIOS TOLEDO               1         620.0   \n",
       "41       DOMINGUEZ HERNANDEZ ANAID ITZEL               6        6573.0   \n",
       "42                    ERIK LOPEZ VAZQUEZ               6        7547.0   \n",
       "43      LORAYNI GUADALUPE OSNAYA VAZQUEZ               1        1040.0   \n",
       "44           BALBUENA MACEDO EDGAR URIEL              10       11744.0   \n",
       "45                  GONZALEZ TOTO BRENDA               1        2800.0   \n",
       "46    GUADALUPE MAYELA HERNANDEZ MENDITA               6        7500.0   \n",
       "47             HERNANDEZ GONZALEZ SANDRA               8        6426.0   \n",
       "48                 LOPEZ VASQUEZ YOSELIN               3        2732.0   \n",
       "\n",
       "    SumaPago  SumaFacturacion  \n",
       "0    87907.0         13119.79  \n",
       "1    14430.0          2250.74  \n",
       "2    10333.0          1512.80  \n",
       "3     9363.0          1120.45  \n",
       "4     8317.0          1512.05  \n",
       "5     4735.0           577.71  \n",
       "6     4721.0           960.89  \n",
       "7     4588.0           321.16  \n",
       "8     4500.0           875.00  \n",
       "9     4485.0           313.95  \n",
       "10    3093.0           305.55  \n",
       "11    2951.0           605.61  \n",
       "12    2837.0           490.05  \n",
       "13    2497.0           249.70  \n",
       "14    2146.0           444.26  \n",
       "15    2000.0           340.00  \n",
       "16    1604.0           336.84  \n",
       "17    1073.0           225.33  \n",
       "18    1023.0           214.83  \n",
       "19     850.0           144.50  \n",
       "20     696.0            48.72  \n",
       "21     665.0           139.65  \n",
       "22     500.0            85.00  \n",
       "23     500.0            45.00  \n",
       "24       0.0             0.00  \n",
       "25       0.0             0.00  \n",
       "26       0.0             0.00  \n",
       "27       0.0             0.00  \n",
       "28       0.0             0.00  \n",
       "29       0.0             0.00  \n",
       "30       0.0             0.00  \n",
       "31       0.0             0.00  \n",
       "32       0.0             0.00  \n",
       "33       0.0             0.00  \n",
       "34       0.0             0.00  \n",
       "35       0.0             0.00  \n",
       "36       0.0             0.00  \n",
       "37       0.0             0.00  \n",
       "38       0.0             0.00  \n",
       "39       0.0             0.00  \n",
       "40       0.0             0.00  \n",
       "41       0.0             0.00  \n",
       "42       0.0             0.00  \n",
       "43       0.0             0.00  \n",
       "44       0.0             0.00  \n",
       "45       0.0             0.00  \n",
       "46       0.0             0.00  \n",
       "47       0.0             0.00  \n",
       "48       0.0             0.00  "
      ],
      "text/html": "<div>\n<style scoped>\n    .dataframe tbody tr th:only-of-type {\n        vertical-align: middle;\n    }\n\n    .dataframe tbody tr th {\n        vertical-align: top;\n    }\n\n    .dataframe thead th {\n        text-align: right;\n    }\n</style>\n<table border=\"1\" class=\"dataframe\">\n  <thead>\n    <tr style=\"text-align: right;\">\n      <th></th>\n      <th>Gestor</th>\n      <th>NumeroPromesas</th>\n      <th>SumaPromesas</th>\n      <th>SumaPago</th>\n      <th>SumaFacturacion</th>\n    </tr>\n  </thead>\n  <tbody>\n    <tr>\n      <th>0</th>\n      <td>All</td>\n      <td>448</td>\n      <td>715729.0</td>\n      <td>87907.0</td>\n      <td>13119.79</td>\n    </tr>\n    <tr>\n      <th>1</th>\n      <td>AGUILAR MACEDO VALERIA</td>\n      <td>27</td>\n      <td>32771.0</td>\n      <td>14430.0</td>\n      <td>2250.74</td>\n    </tr>\n    <tr>\n      <th>2</th>\n      <td>GOMEZ CARRILLO LETICIA</td>\n      <td>17</td>\n      <td>38638.0</td>\n      <td>10333.0</td>\n      <td>1512.80</td>\n    </tr>\n    <tr>\n      <th>3</th>\n      <td>MIRIAM PEINADO ALVAREZ</td>\n      <td>19</td>\n      <td>23820.0</td>\n      <td>9363.0</td>\n      <td>1120.45</td>\n    </tr>\n    <tr>\n      <th>4</th>\n      <td>ROSAS TREJO JESUS EDUARDO</td>\n      <td>9</td>\n      <td>13662.0</td>\n      <td>8317.0</td>\n      <td>1512.05</td>\n    </tr>\n    <tr>\n      <th>5</th>\n      <td>JUAREZ ROBLEDO LORENA</td>\n      <td>16</td>\n      <td>22091.0</td>\n      <td>4735.0</td>\n      <td>577.71</td>\n    </tr>\n    <tr>\n      <th>6</th>\n      <td>ALEJANDRA YESENIA HERNANDEZ BITE</td>\n      <td>8</td>\n      <td>10730.0</td>\n      <td>4721.0</td>\n      <td>960.89</td>\n    </tr>\n    <tr>\n      <th>7</th>\n      <td>MANUEL BUSTOS LUCERO</td>\n      <td>2</td>\n      <td>5162.0</td>\n      <td>4588.0</td>\n      <td>321.16</td>\n    </tr>\n    <tr>\n      <th>8</th>\n      <td>LIZBETH INELVA LUNA COLULA</td>\n      <td>16</td>\n      <td>20085.0</td>\n      <td>4500.0</td>\n      <td>875.00</td>\n    </tr>\n    <tr>\n      <th>9</th>\n      <td>GARCIA RUIZ ALEXIS</td>\n      <td>5</td>\n      <td>9434.0</td>\n      <td>4485.0</td>\n      <td>313.95</td>\n    </tr>\n    <tr>\n      <th>10</th>\n      <td>MEDINA ARIAS MAURICIO</td>\n      <td>13</td>\n      <td>20758.0</td>\n      <td>3093.0</td>\n      <td>305.55</td>\n    </tr>\n    <tr>\n      <th>11</th>\n      <td>CASTRO REZA IRVING YAEL</td>\n      <td>11</td>\n      <td>14880.0</td>\n      <td>2951.0</td>\n      <td>605.61</td>\n    </tr>\n    <tr>\n      <th>12</th>\n      <td>CARRANCO ZAMORA JAIME WALBERTO</td>\n      <td>34</td>\n      <td>73278.0</td>\n      <td>2837.0</td>\n      <td>490.05</td>\n    </tr>\n    <tr>\n      <th>13</th>\n      <td>RODRIGUEZ HERNANDEZ CRISTIAN</td>\n      <td>13</td>\n      <td>23305.0</td>\n      <td>2497.0</td>\n      <td>249.70</td>\n    </tr>\n    <tr>\n      <th>14</th>\n      <td>LUCIA ESMERALDA LONGORIA CISNEROS</td>\n      <td>17</td>\n      <td>33495.0</td>\n      <td>2146.0</td>\n      <td>444.26</td>\n    </tr>\n    <tr>\n      <th>15</th>\n      <td>GARCIA CHAVEZ BRAYAN</td>\n      <td>11</td>\n      <td>9733.0</td>\n      <td>2000.0</td>\n      <td>340.00</td>\n    </tr>\n    <tr>\n      <th>16</th>\n      <td>ALANIZ DIAZ ALISON JOCELIN</td>\n      <td>5</td>\n      <td>9433.0</td>\n      <td>1604.0</td>\n      <td>336.84</td>\n    </tr>\n    <tr>\n      <th>17</th>\n      <td>RODRIGUEZ SANTIAGO JUDITH</td>\n      <td>9</td>\n      <td>13415.0</td>\n      <td>1073.0</td>\n      <td>225.33</td>\n    </tr>\n    <tr>\n      <th>18</th>\n      <td>BARRETO OSEGUERA MARIA FERNANDA</td>\n      <td>4</td>\n      <td>4024.0</td>\n      <td>1023.0</td>\n      <td>214.83</td>\n    </tr>\n    <tr>\n      <th>19</th>\n      <td>LOPEZ ESTRADA MA. IGNACIA</td>\n      <td>12</td>\n      <td>18377.0</td>\n      <td>850.0</td>\n      <td>144.50</td>\n    </tr>\n    <tr>\n      <th>20</th>\n      <td>VEGA HERNANDEZ NATALIE</td>\n      <td>11</td>\n      <td>9328.0</td>\n      <td>696.0</td>\n      <td>48.72</td>\n    </tr>\n    <tr>\n      <th>21</th>\n      <td>MISHELLLE ADYANI CHAVEZ CASTRO</td>\n      <td>6</td>\n      <td>6739.0</td>\n      <td>665.0</td>\n      <td>139.65</td>\n    </tr>\n    <tr>\n      <th>22</th>\n      <td>HERNANDEZ MEDEL LUIS ENRIQUE</td>\n      <td>10</td>\n      <td>17984.0</td>\n      <td>500.0</td>\n      <td>85.00</td>\n    </tr>\n    <tr>\n      <th>23</th>\n      <td>COLULA CALIXTO MIGUEL ANGEL</td>\n      <td>12</td>\n      <td>18821.0</td>\n      <td>500.0</td>\n      <td>45.00</td>\n    </tr>\n    <tr>\n      <th>24</th>\n      <td>PEDRAZA COLIN MARIA DEL CONZUELO</td>\n      <td>9</td>\n      <td>16959.0</td>\n      <td>0.0</td>\n      <td>0.00</td>\n    </tr>\n    <tr>\n      <th>25</th>\n      <td>VELAZQUEZ IBARRA ERICK ALEJANDRO</td>\n      <td>1</td>\n      <td>300.0</td>\n      <td>0.0</td>\n      <td>0.00</td>\n    </tr>\n    <tr>\n      <th>26</th>\n      <td>VAZQUEZ SANCHEZ LINNETH BERENICEÃÂ</td>\n      <td>6</td>\n      <td>19505.0</td>\n      <td>0.0</td>\n      <td>0.00</td>\n    </tr>\n    <tr>\n      <th>27</th>\n      <td>TRON FIERROS FELIPE DE JESUS</td>\n      <td>21</td>\n      <td>42810.0</td>\n      <td>0.0</td>\n      <td>0.00</td>\n    </tr>\n    <tr>\n      <th>28</th>\n      <td>SANCHEZ VELASCO VANESSA IVONNE</td>\n      <td>2</td>\n      <td>2735.0</td>\n      <td>0.0</td>\n      <td>0.00</td>\n    </tr>\n    <tr>\n      <th>29</th>\n      <td>CID IRINEO ROSA ISELA</td>\n      <td>20</td>\n      <td>32959.0</td>\n      <td>0.0</td>\n      <td>0.00</td>\n    </tr>\n    <tr>\n      <th>30</th>\n      <td>RODRIGUEZ PAZ DIANA ELIZABETH</td>\n      <td>1</td>\n      <td>300.0</td>\n      <td>0.0</td>\n      <td>0.00</td>\n    </tr>\n    <tr>\n      <th>31</th>\n      <td>RODRIGUEZ MARQUEZ JAVIER</td>\n      <td>3</td>\n      <td>4168.0</td>\n      <td>0.0</td>\n      <td>0.00</td>\n    </tr>\n    <tr>\n      <th>32</th>\n      <td>DANIEL PINEDA ALVARADO</td>\n      <td>11</td>\n      <td>14117.0</td>\n      <td>0.0</td>\n      <td>0.00</td>\n    </tr>\n    <tr>\n      <th>33</th>\n      <td>RAMIREZ REYES LESLIE GUADALUPE</td>\n      <td>4</td>\n      <td>11620.0</td>\n      <td>0.0</td>\n      <td>0.00</td>\n    </tr>\n    <tr>\n      <th>34</th>\n      <td>RAMIREZ OSORIO CESAR AUGUSTO</td>\n      <td>8</td>\n      <td>8494.0</td>\n      <td>0.0</td>\n      <td>0.00</td>\n    </tr>\n    <tr>\n      <th>35</th>\n      <td>OROZCO GONZALEZ BRENDA</td>\n      <td>3</td>\n      <td>2290.0</td>\n      <td>0.0</td>\n      <td>0.00</td>\n    </tr>\n    <tr>\n      <th>36</th>\n      <td>HUERTA LOPEZ NATALIA XOCHITL</td>\n      <td>12</td>\n      <td>19186.0</td>\n      <td>0.0</td>\n      <td>0.00</td>\n    </tr>\n    <tr>\n      <th>37</th>\n      <td>MUNOZ BORJA KATYA MUSMED</td>\n      <td>6</td>\n      <td>8250.0</td>\n      <td>0.0</td>\n      <td>0.00</td>\n    </tr>\n    <tr>\n      <th>38</th>\n      <td>DE LA FUENTE MIJARES BETTINA</td>\n      <td>8</td>\n      <td>19660.0</td>\n      <td>0.0</td>\n      <td>0.00</td>\n    </tr>\n    <tr>\n      <th>39</th>\n      <td>DIAZ DIAZ LEONOR</td>\n      <td>4</td>\n      <td>15431.0</td>\n      <td>0.0</td>\n      <td>0.00</td>\n    </tr>\n    <tr>\n      <th>40</th>\n      <td>MARY CRUZ RIOS TOLEDO</td>\n      <td>1</td>\n      <td>620.0</td>\n      <td>0.0</td>\n      <td>0.00</td>\n    </tr>\n    <tr>\n      <th>41</th>\n      <td>DOMINGUEZ HERNANDEZ ANAID ITZEL</td>\n      <td>6</td>\n      <td>6573.0</td>\n      <td>0.0</td>\n      <td>0.00</td>\n    </tr>\n    <tr>\n      <th>42</th>\n      <td>ERIK LOPEZ VAZQUEZ</td>\n      <td>6</td>\n      <td>7547.0</td>\n      <td>0.0</td>\n      <td>0.00</td>\n    </tr>\n    <tr>\n      <th>43</th>\n      <td>LORAYNI GUADALUPE OSNAYA VAZQUEZ</td>\n      <td>1</td>\n      <td>1040.0</td>\n      <td>0.0</td>\n      <td>0.00</td>\n    </tr>\n    <tr>\n      <th>44</th>\n      <td>BALBUENA MACEDO EDGAR URIEL</td>\n      <td>10</td>\n      <td>11744.0</td>\n      <td>0.0</td>\n      <td>0.00</td>\n    </tr>\n    <tr>\n      <th>45</th>\n      <td>GONZALEZ TOTO BRENDA</td>\n      <td>1</td>\n      <td>2800.0</td>\n      <td>0.0</td>\n      <td>0.00</td>\n    </tr>\n    <tr>\n      <th>46</th>\n      <td>GUADALUPE MAYELA HERNANDEZ MENDITA</td>\n      <td>6</td>\n      <td>7500.0</td>\n      <td>0.0</td>\n      <td>0.00</td>\n    </tr>\n    <tr>\n      <th>47</th>\n      <td>HERNANDEZ GONZALEZ SANDRA</td>\n      <td>8</td>\n      <td>6426.0</td>\n      <td>0.0</td>\n      <td>0.00</td>\n    </tr>\n    <tr>\n      <th>48</th>\n      <td>LOPEZ VASQUEZ YOSELIN</td>\n      <td>3</td>\n      <td>2732.0</td>\n      <td>0.0</td>\n      <td>0.00</td>\n    </tr>\n  </tbody>\n</table>\n</div>"
     },
     "metadata": {},
     "execution_count": 67
    }
   ],
   "source": [
    "#Obtenemos datos de las promesas de Bradesco\n",
    "prom_brad_gestor_mes = pd.pivot_table(consoliado_pagos_brad2,index='nombre_usuario',values=['credito','monto_promesa','PagoUnico','PagoReal'], aggfunc = ['count',np.sum], margins=True,dropna=False)\n",
    "prom_brad_gestor_mes = pd.DataFrame(prom_brad_gestor_mes.to_records())\n",
    "prom_brad_gestor_mes = prom_brad_gestor_mes.iloc[:,[0,4,8,6,5]]\n",
    "prom_brad_gestor_mes.columns = ['Gestor','NumeroPromesas','SumaPromesas','SumaPago','SumaFacturacion']\n",
    "prom_brad_gestor_mes = prom_brad_gestor_mes.sort_values(by=['SumaPago'],ascending =False)\n",
    "prom_brad_gestor_mes = prom_brad_gestor_mes.reset_index(drop=True)\n",
    "#prom_brad_gestor_mes.fillna(0,inplace=True)\n",
    "#prom_brad_gestor_mes[['NumeroPromesas','PromedioPromesa','SumaPromesas']] = prom_brad_gestor_mes[['NumeroPromesas','PromedioPromesa','SumaPromesas']].applymap(\"{0:.2f}\".format)\n",
    "prom_brad_gestor_mes"
   ]
  },
  {
   "cell_type": "code",
   "execution_count": 68,
   "metadata": {},
   "outputs": [
    {
     "output_type": "execute_result",
     "data": {
      "text/plain": [
       "  Division  NumeroPagos    SumaPagos SumaFacturacion\n",
       "0   C0 4PV           25   $56,031.00       $3,922.17\n",
       "1   C0 5PV           10    $8,209.00         $738.81\n",
       "2   C0 6PV            8   $12,240.00       $1,224.00\n",
       "3       C1           28   $38,004.24       $6,460.72\n",
       "4       C2            8    $8,449.00       $1,605.31\n",
       "5       C3           21   $22,699.00       $4,766.79\n",
       "6       C4            7    $8,403.00       $1,932.69\n",
       "7      All          107  $154,035.24      $20,650.49"
      ],
      "text/html": "<div>\n<style scoped>\n    .dataframe tbody tr th:only-of-type {\n        vertical-align: middle;\n    }\n\n    .dataframe tbody tr th {\n        vertical-align: top;\n    }\n\n    .dataframe thead th {\n        text-align: right;\n    }\n</style>\n<table border=\"1\" class=\"dataframe\">\n  <thead>\n    <tr style=\"text-align: right;\">\n      <th></th>\n      <th>Division</th>\n      <th>NumeroPagos</th>\n      <th>SumaPagos</th>\n      <th>SumaFacturacion</th>\n    </tr>\n  </thead>\n  <tbody>\n    <tr>\n      <th>0</th>\n      <td>C0 4PV</td>\n      <td>25</td>\n      <td>$56,031.00</td>\n      <td>$3,922.17</td>\n    </tr>\n    <tr>\n      <th>1</th>\n      <td>C0 5PV</td>\n      <td>10</td>\n      <td>$8,209.00</td>\n      <td>$738.81</td>\n    </tr>\n    <tr>\n      <th>2</th>\n      <td>C0 6PV</td>\n      <td>8</td>\n      <td>$12,240.00</td>\n      <td>$1,224.00</td>\n    </tr>\n    <tr>\n      <th>3</th>\n      <td>C1</td>\n      <td>28</td>\n      <td>$38,004.24</td>\n      <td>$6,460.72</td>\n    </tr>\n    <tr>\n      <th>4</th>\n      <td>C2</td>\n      <td>8</td>\n      <td>$8,449.00</td>\n      <td>$1,605.31</td>\n    </tr>\n    <tr>\n      <th>5</th>\n      <td>C3</td>\n      <td>21</td>\n      <td>$22,699.00</td>\n      <td>$4,766.79</td>\n    </tr>\n    <tr>\n      <th>6</th>\n      <td>C4</td>\n      <td>7</td>\n      <td>$8,403.00</td>\n      <td>$1,932.69</td>\n    </tr>\n    <tr>\n      <th>7</th>\n      <td>All</td>\n      <td>107</td>\n      <td>$154,035.24</td>\n      <td>$20,650.49</td>\n    </tr>\n  </tbody>\n</table>\n</div>"
     },
     "metadata": {},
     "execution_count": 68
    }
   ],
   "source": [
    "pagos_totales_brad2 = pd.pivot_table(pagos_brad2,index=['TIPO_ASIGANCION'],values=['MONTO','Facturacion'],aggfunc=['count',np.sum],margins=True)\n",
    "pagos_totales_brad2 = pd.DataFrame(pagos_totales_brad2.to_records())\n",
    "pagos_totales_brad2 = pagos_totales_brad2.iloc[:,[0,1,4,3]]\n",
    "pagos_totales_brad2.columns = ['Division','NumeroPagos','SumaPagos','SumaFacturacion']\n",
    "pagos_totales_brad2.fillna(0,inplace=True)\n",
    "pagos_totales_brad2[['SumaPagos','SumaFacturacion']] = pagos_totales_brad2[['SumaPagos','SumaFacturacion']].applymap(\"${0:,.2f}\".format)\n",
    "pagos_totales_brad2"
   ]
  },
  {
   "source": [
    "# Banco Azteca"
   ],
   "cell_type": "markdown",
   "metadata": {}
  },
  {
   "source": [
    "# Reporte diario Banco Azteca"
   ],
   "cell_type": "markdown",
   "metadata": {}
  },
  {
   "cell_type": "code",
   "execution_count": 45,
   "metadata": {},
   "outputs": [
    {
     "output_type": "execute_result",
     "data": {
      "text/plain": [
       "     folio_gestion  firma_id  unegocio_id          credito  \\\n",
       "237        9284762         7            1  1-1-9661-108923   \n",
       "239        9284753         7            1   1-1-2066-23650   \n",
       "241        9284750         7            1   1-20-1675-4882   \n",
       "\n",
       "                  nombre_credito    telefono tipo_telefono  \\\n",
       "237       ALBA LUCIA MATUZ PEREZ  9614553755          casa   \n",
       "239  MARCO ANTONIO MARTINEZ SOTO  5511749466       celular   \n",
       "241         JAVIER TREJO RAMIREZ  5538066228       celular   \n",
       "\n",
       "          fecha_gestion       usuario               nombre_usuario dictamen  \\\n",
       "237 2020-12-05 10:57:09  HEBALTAZARAL  HERNANDEZ BALTAZAR ALFREDO   PROMESA   \n",
       "239 2020-12-05 11:30:19  HEBALTAZARAL  HERNANDEZ BALTAZAR ALFREDO   PROMESA   \n",
       "241 2020-12-05 11:34:01  HEBALTAZARAL  HERNANDEZ BALTAZAR ALFREDO   PROMESA   \n",
       "\n",
       "                                accion_resultado fecha_promesa monto_promesa  \\\n",
       "237  GESTION TELEFONICA -PROMESA DE PAGO PARCIAL    2020-12-11        307.00   \n",
       "239  GESTION TELEFONICA -PROMESA DE PAGO PARCIAL    2020-12-06        100.00   \n",
       "241  GESTION TELEFONICA -PROMESA DE PAGO PARCIAL    2020-12-08        359.00   \n",
       "\n",
       "                                           comentarios  \n",
       "237    9614553755 9613329771 Man pagos sem de 30740sem  \n",
       "239  5511749466 EL CONVENIO ESTA ROTO SE LE HACE NO...  \n",
       "241  5538066228 5556181003 SE REPORTA PAGO PARA AGE...  "
      ],
      "text/html": "<div>\n<style scoped>\n    .dataframe tbody tr th:only-of-type {\n        vertical-align: middle;\n    }\n\n    .dataframe tbody tr th {\n        vertical-align: top;\n    }\n\n    .dataframe thead th {\n        text-align: right;\n    }\n</style>\n<table border=\"1\" class=\"dataframe\">\n  <thead>\n    <tr style=\"text-align: right;\">\n      <th></th>\n      <th>folio_gestion</th>\n      <th>firma_id</th>\n      <th>unegocio_id</th>\n      <th>credito</th>\n      <th>nombre_credito</th>\n      <th>telefono</th>\n      <th>tipo_telefono</th>\n      <th>fecha_gestion</th>\n      <th>usuario</th>\n      <th>nombre_usuario</th>\n      <th>dictamen</th>\n      <th>accion_resultado</th>\n      <th>fecha_promesa</th>\n      <th>monto_promesa</th>\n      <th>comentarios</th>\n    </tr>\n  </thead>\n  <tbody>\n    <tr>\n      <th>237</th>\n      <td>9284762</td>\n      <td>7</td>\n      <td>1</td>\n      <td>1-1-9661-108923</td>\n      <td>ALBA LUCIA MATUZ PEREZ</td>\n      <td>9614553755</td>\n      <td>casa</td>\n      <td>2020-12-05 10:57:09</td>\n      <td>HEBALTAZARAL</td>\n      <td>HERNANDEZ BALTAZAR ALFREDO</td>\n      <td>PROMESA</td>\n      <td>GESTION TELEFONICA -PROMESA DE PAGO PARCIAL</td>\n      <td>2020-12-11</td>\n      <td>307.00</td>\n      <td>9614553755 9613329771 Man pagos sem de 30740sem</td>\n    </tr>\n    <tr>\n      <th>239</th>\n      <td>9284753</td>\n      <td>7</td>\n      <td>1</td>\n      <td>1-1-2066-23650</td>\n      <td>MARCO ANTONIO MARTINEZ SOTO</td>\n      <td>5511749466</td>\n      <td>celular</td>\n      <td>2020-12-05 11:30:19</td>\n      <td>HEBALTAZARAL</td>\n      <td>HERNANDEZ BALTAZAR ALFREDO</td>\n      <td>PROMESA</td>\n      <td>GESTION TELEFONICA -PROMESA DE PAGO PARCIAL</td>\n      <td>2020-12-06</td>\n      <td>100.00</td>\n      <td>5511749466 EL CONVENIO ESTA ROTO SE LE HACE NO...</td>\n    </tr>\n    <tr>\n      <th>241</th>\n      <td>9284750</td>\n      <td>7</td>\n      <td>1</td>\n      <td>1-20-1675-4882</td>\n      <td>JAVIER TREJO RAMIREZ</td>\n      <td>5538066228</td>\n      <td>celular</td>\n      <td>2020-12-05 11:34:01</td>\n      <td>HEBALTAZARAL</td>\n      <td>HERNANDEZ BALTAZAR ALFREDO</td>\n      <td>PROMESA</td>\n      <td>GESTION TELEFONICA -PROMESA DE PAGO PARCIAL</td>\n      <td>2020-12-08</td>\n      <td>359.00</td>\n      <td>5538066228 5556181003 SE REPORTA PAGO PARA AGE...</td>\n    </tr>\n  </tbody>\n</table>\n</div>"
     },
     "metadata": {},
     "execution_count": 45
    }
   ],
   "source": [
    "#Hacemos la consulta referente a las gestiones de Banco Azteca\n",
    "sql_gest_baz = cursor.callproc('baz_rpt_gestiones_detallado', [today,today])\n",
    "for result in cursor.stored_results():\n",
    "     gestion_baz = pd.DataFrame(result.fetchall())\n",
    "gestion_baz.columns = ['folio_gestion','firma_id','unegocio_id','credito','nombre_credito','telefono','tipo_telefono','fecha_gestion','usuario','nombre_usuario','dictamen','accion_resultado','fecha_promesa','monto_promesa','comentarios']\n",
    "gestion_baz = gestion_baz.loc[gestion_baz['dictamen']=='PROMESA']\n",
    "#gestion_baz.head(3)"
   ]
  },
  {
   "cell_type": "code",
   "execution_count": 46,
   "metadata": {},
   "outputs": [
    {
     "output_type": "execute_result",
     "data": {
      "text/plain": [
       "   #fiidcampana  fipais  ficanal  fisucursal  fifolio\n",
       "0           164       1        1        5496     4183\n",
       "1           164       1        1         110    52389\n",
       "2           164       1        1        5254    28682"
      ],
      "text/html": "<div>\n<style scoped>\n    .dataframe tbody tr th:only-of-type {\n        vertical-align: middle;\n    }\n\n    .dataframe tbody tr th {\n        vertical-align: top;\n    }\n\n    .dataframe thead th {\n        text-align: right;\n    }\n</style>\n<table border=\"1\" class=\"dataframe\">\n  <thead>\n    <tr style=\"text-align: right;\">\n      <th></th>\n      <th>#fiidcampana</th>\n      <th>fipais</th>\n      <th>ficanal</th>\n      <th>fisucursal</th>\n      <th>fifolio</th>\n    </tr>\n  </thead>\n  <tbody>\n    <tr>\n      <th>0</th>\n      <td>164</td>\n      <td>1</td>\n      <td>1</td>\n      <td>5496</td>\n      <td>4183</td>\n    </tr>\n    <tr>\n      <th>1</th>\n      <td>164</td>\n      <td>1</td>\n      <td>1</td>\n      <td>110</td>\n      <td>52389</td>\n    </tr>\n    <tr>\n      <th>2</th>\n      <td>164</td>\n      <td>1</td>\n      <td>1</td>\n      <td>5254</td>\n      <td>28682</td>\n    </tr>\n  </tbody>\n</table>\n</div>"
     },
     "metadata": {},
     "execution_count": 46
    }
   ],
   "source": [
    "asignacion_baz = pd.read_csv(''+ruta_asig_baz+'/Asignacion banco azteca '+str(mes2)+'.csv')\n",
    "asignacion_baz = asignacion_baz.rename(columns=str.lower)\n",
    "#|asignacion_baz.head(3)"
   ]
  },
  {
   "cell_type": "code",
   "execution_count": 47,
   "metadata": {},
   "outputs": [
    {
     "output_type": "execute_result",
     "data": {
      "text/plain": [
       "   #fiidcampana  fipais  ficanal  fisucursal  fifolio         credito\n",
       "0           164       1        1        5496     4183   1-1-5496-4183\n",
       "1           164       1        1         110    52389   1-1-110-52389\n",
       "2           164       1        1        5254    28682  1-1-5254-28682"
      ],
      "text/html": "<div>\n<style scoped>\n    .dataframe tbody tr th:only-of-type {\n        vertical-align: middle;\n    }\n\n    .dataframe tbody tr th {\n        vertical-align: top;\n    }\n\n    .dataframe thead th {\n        text-align: right;\n    }\n</style>\n<table border=\"1\" class=\"dataframe\">\n  <thead>\n    <tr style=\"text-align: right;\">\n      <th></th>\n      <th>#fiidcampana</th>\n      <th>fipais</th>\n      <th>ficanal</th>\n      <th>fisucursal</th>\n      <th>fifolio</th>\n      <th>credito</th>\n    </tr>\n  </thead>\n  <tbody>\n    <tr>\n      <th>0</th>\n      <td>164</td>\n      <td>1</td>\n      <td>1</td>\n      <td>5496</td>\n      <td>4183</td>\n      <td>1-1-5496-4183</td>\n    </tr>\n    <tr>\n      <th>1</th>\n      <td>164</td>\n      <td>1</td>\n      <td>1</td>\n      <td>110</td>\n      <td>52389</td>\n      <td>1-1-110-52389</td>\n    </tr>\n    <tr>\n      <th>2</th>\n      <td>164</td>\n      <td>1</td>\n      <td>1</td>\n      <td>5254</td>\n      <td>28682</td>\n      <td>1-1-5254-28682</td>\n    </tr>\n  </tbody>\n</table>\n</div>"
     },
     "metadata": {},
     "execution_count": 47
    }
   ],
   "source": [
    "asignacion_baz['credito'] = asignacion_baz['fipais'].map(str)+'-'+asignacion_baz['ficanal'].map(str)+'-'+asignacion_baz['fisucursal'].map(str)+'-'+asignacion_baz['fifolio'].map(str)\n",
    "#asignacion_baz.head(3)"
   ]
  },
  {
   "cell_type": "code",
   "execution_count": 48,
   "metadata": {},
   "outputs": [
    {
     "output_type": "execute_result",
     "data": {
      "text/plain": [
       "   folio_gestion  firma_id  unegocio_id          credito  \\\n",
       "0        9284762         7            1  1-1-9661-108923   \n",
       "1        9284753         7            1   1-1-2066-23650   \n",
       "2        9284750         7            1   1-20-1675-4882   \n",
       "\n",
       "                nombre_credito    telefono tipo_telefono       fecha_gestion  \\\n",
       "0       ALBA LUCIA MATUZ PEREZ  9614553755          casa 2020-12-05 10:57:09   \n",
       "1  MARCO ANTONIO MARTINEZ SOTO  5511749466       celular 2020-12-05 11:30:19   \n",
       "2         JAVIER TREJO RAMIREZ  5538066228       celular 2020-12-05 11:34:01   \n",
       "\n",
       "        usuario               nombre_usuario dictamen  \\\n",
       "0  HEBALTAZARAL  HERNANDEZ BALTAZAR ALFREDO   PROMESA   \n",
       "1  HEBALTAZARAL  HERNANDEZ BALTAZAR ALFREDO   PROMESA   \n",
       "2  HEBALTAZARAL  HERNANDEZ BALTAZAR ALFREDO   PROMESA   \n",
       "\n",
       "                              accion_resultado fecha_promesa  monto_promesa  \\\n",
       "0  GESTION TELEFONICA -PROMESA DE PAGO PARCIAL    2020-12-11          307.0   \n",
       "1  GESTION TELEFONICA -PROMESA DE PAGO PARCIAL    2020-12-06          100.0   \n",
       "2  GESTION TELEFONICA -PROMESA DE PAGO PARCIAL    2020-12-08          359.0   \n",
       "\n",
       "                                         comentarios #fiidcampana    fipais  \\\n",
       "0    9614553755 9613329771 Man pagos sem de 30740sem     COBRANZA  COBRANZA   \n",
       "1  5511749466 EL CONVENIO ESTA ROTO SE LE HACE NO...     COBRANZA  COBRANZA   \n",
       "2  5538066228 5556181003 SE REPORTA PAGO PARA AGE...     COBRANZA  COBRANZA   \n",
       "\n",
       "    ficanal fisucursal   fifolio  \n",
       "0  COBRANZA   COBRANZA  COBRANZA  \n",
       "1  COBRANZA   COBRANZA  COBRANZA  \n",
       "2  COBRANZA   COBRANZA  COBRANZA  "
      ],
      "text/html": "<div>\n<style scoped>\n    .dataframe tbody tr th:only-of-type {\n        vertical-align: middle;\n    }\n\n    .dataframe tbody tr th {\n        vertical-align: top;\n    }\n\n    .dataframe thead th {\n        text-align: right;\n    }\n</style>\n<table border=\"1\" class=\"dataframe\">\n  <thead>\n    <tr style=\"text-align: right;\">\n      <th></th>\n      <th>folio_gestion</th>\n      <th>firma_id</th>\n      <th>unegocio_id</th>\n      <th>credito</th>\n      <th>nombre_credito</th>\n      <th>telefono</th>\n      <th>tipo_telefono</th>\n      <th>fecha_gestion</th>\n      <th>usuario</th>\n      <th>nombre_usuario</th>\n      <th>dictamen</th>\n      <th>accion_resultado</th>\n      <th>fecha_promesa</th>\n      <th>monto_promesa</th>\n      <th>comentarios</th>\n      <th>#fiidcampana</th>\n      <th>fipais</th>\n      <th>ficanal</th>\n      <th>fisucursal</th>\n      <th>fifolio</th>\n    </tr>\n  </thead>\n  <tbody>\n    <tr>\n      <th>0</th>\n      <td>9284762</td>\n      <td>7</td>\n      <td>1</td>\n      <td>1-1-9661-108923</td>\n      <td>ALBA LUCIA MATUZ PEREZ</td>\n      <td>9614553755</td>\n      <td>casa</td>\n      <td>2020-12-05 10:57:09</td>\n      <td>HEBALTAZARAL</td>\n      <td>HERNANDEZ BALTAZAR ALFREDO</td>\n      <td>PROMESA</td>\n      <td>GESTION TELEFONICA -PROMESA DE PAGO PARCIAL</td>\n      <td>2020-12-11</td>\n      <td>307.0</td>\n      <td>9614553755 9613329771 Man pagos sem de 30740sem</td>\n      <td>COBRANZA</td>\n      <td>COBRANZA</td>\n      <td>COBRANZA</td>\n      <td>COBRANZA</td>\n      <td>COBRANZA</td>\n    </tr>\n    <tr>\n      <th>1</th>\n      <td>9284753</td>\n      <td>7</td>\n      <td>1</td>\n      <td>1-1-2066-23650</td>\n      <td>MARCO ANTONIO MARTINEZ SOTO</td>\n      <td>5511749466</td>\n      <td>celular</td>\n      <td>2020-12-05 11:30:19</td>\n      <td>HEBALTAZARAL</td>\n      <td>HERNANDEZ BALTAZAR ALFREDO</td>\n      <td>PROMESA</td>\n      <td>GESTION TELEFONICA -PROMESA DE PAGO PARCIAL</td>\n      <td>2020-12-06</td>\n      <td>100.0</td>\n      <td>5511749466 EL CONVENIO ESTA ROTO SE LE HACE NO...</td>\n      <td>COBRANZA</td>\n      <td>COBRANZA</td>\n      <td>COBRANZA</td>\n      <td>COBRANZA</td>\n      <td>COBRANZA</td>\n    </tr>\n    <tr>\n      <th>2</th>\n      <td>9284750</td>\n      <td>7</td>\n      <td>1</td>\n      <td>1-20-1675-4882</td>\n      <td>JAVIER TREJO RAMIREZ</td>\n      <td>5538066228</td>\n      <td>celular</td>\n      <td>2020-12-05 11:34:01</td>\n      <td>HEBALTAZARAL</td>\n      <td>HERNANDEZ BALTAZAR ALFREDO</td>\n      <td>PROMESA</td>\n      <td>GESTION TELEFONICA -PROMESA DE PAGO PARCIAL</td>\n      <td>2020-12-08</td>\n      <td>359.0</td>\n      <td>5538066228 5556181003 SE REPORTA PAGO PARA AGE...</td>\n      <td>COBRANZA</td>\n      <td>COBRANZA</td>\n      <td>COBRANZA</td>\n      <td>COBRANZA</td>\n      <td>COBRANZA</td>\n    </tr>\n  </tbody>\n</table>\n</div>"
     },
     "metadata": {},
     "execution_count": 48
    }
   ],
   "source": [
    "consolidado_baz = pd.merge(gestion_baz,asignacion_baz,how='left',on='credito')\n",
    "cols = ['monto_promesa','#fiidcampana']\n",
    "consolidado_baz[cols] = consolidado_baz[cols].apply(pd.to_numeric, errors='coerce')\n",
    "consolidado_baz = consolidado_baz[(consolidado_baz['monto_promesa']>50)]\n",
    "consolidado_baz = consolidado_baz[(consolidado_baz['monto_promesa']<500000)]\n",
    "consolidado_baz.fillna('COBRANZA',inplace=True)\n",
    "consolidado_baz.head(3)"
   ]
  },
  {
   "cell_type": "code",
   "execution_count": 51,
   "metadata": {},
   "outputs": [
    {
     "output_type": "execute_result",
     "data": {
      "text/plain": [
       "                         Dictamen  NumeroPromesas  SumaPromesas\n",
       "0      ALVARADO HERNANDEZ ADRIANA               2        2336.0\n",
       "1  BRENDA EVELYN CARDOSA SEVEROÂ                4        3398.0\n",
       "2   GALVAN ESTRADA VICTOR ALFONSO               1         232.0\n",
       "3     HERNANDEZ BALTAZAR ALFREDO                9        7306.0\n",
       "4      HUGO GERARDO CASTRO GARCIA               4       15042.0\n",
       "5           JIMMY ZEPEDA ESPINOSA               1       15025.0\n",
       "6             LEON SALINAS SUSANA               3        2647.0\n",
       "7          MARIA ELENA LOPEZ MORA               1         200.0\n",
       "8                             All              25       46186.0"
      ],
      "text/html": "<div>\n<style scoped>\n    .dataframe tbody tr th:only-of-type {\n        vertical-align: middle;\n    }\n\n    .dataframe tbody tr th {\n        vertical-align: top;\n    }\n\n    .dataframe thead th {\n        text-align: right;\n    }\n</style>\n<table border=\"1\" class=\"dataframe\">\n  <thead>\n    <tr style=\"text-align: right;\">\n      <th></th>\n      <th>Dictamen</th>\n      <th>NumeroPromesas</th>\n      <th>SumaPromesas</th>\n    </tr>\n  </thead>\n  <tbody>\n    <tr>\n      <th>0</th>\n      <td>ALVARADO HERNANDEZ ADRIANA</td>\n      <td>2</td>\n      <td>2336.0</td>\n    </tr>\n    <tr>\n      <th>1</th>\n      <td>BRENDA EVELYN CARDOSA SEVEROÂ</td>\n      <td>4</td>\n      <td>3398.0</td>\n    </tr>\n    <tr>\n      <th>2</th>\n      <td>GALVAN ESTRADA VICTOR ALFONSO</td>\n      <td>1</td>\n      <td>232.0</td>\n    </tr>\n    <tr>\n      <th>3</th>\n      <td>HERNANDEZ BALTAZAR ALFREDO</td>\n      <td>9</td>\n      <td>7306.0</td>\n    </tr>\n    <tr>\n      <th>4</th>\n      <td>HUGO GERARDO CASTRO GARCIA</td>\n      <td>4</td>\n      <td>15042.0</td>\n    </tr>\n    <tr>\n      <th>5</th>\n      <td>JIMMY ZEPEDA ESPINOSA</td>\n      <td>1</td>\n      <td>15025.0</td>\n    </tr>\n    <tr>\n      <th>6</th>\n      <td>LEON SALINAS SUSANA</td>\n      <td>3</td>\n      <td>2647.0</td>\n    </tr>\n    <tr>\n      <th>7</th>\n      <td>MARIA ELENA LOPEZ MORA</td>\n      <td>1</td>\n      <td>200.0</td>\n    </tr>\n    <tr>\n      <th>8</th>\n      <td>All</td>\n      <td>25</td>\n      <td>46186.0</td>\n    </tr>\n  </tbody>\n</table>\n</div>"
     },
     "metadata": {},
     "execution_count": 51
    }
   ],
   "source": [
    "#Vemos las promesas reales eliminando duplicados\n",
    "consolidado_baz2 = consolidado_baz.drop_duplicates(subset=['credito','fecha_promesa','monto_promesa','usuario'])\n",
    "prom_baz_gestor = pd.pivot_table(consolidado_baz2,index=['nombre_usuario'],values=['unegocio_id','monto_promesa'],aggfunc=['count',np.sum],margins=True)\n",
    "prom_baz_gestor = pd.DataFrame(prom_baz_gestor.to_records())\n",
    "prom_baz_gestor = prom_baz_gestor.iloc[:,[0,2,3]]\n",
    "prom_baz_gestor.columns = ['Dictamen','NumeroPromesas','SumaPromesas']\n",
    "prom_baz_gestor.fillna(0,inplace=True)\n",
    "#prom_baz_gestor[['NumeroPromesas','PromedioPromesa','SumaPromesas']] = prom_baz_gestor[['NumeroPromesas','PromedioPromesa','SumaPromesas']].applymap(\"{0:.2f}\".format)\n",
    "prom_baz_gestor"
   ]
  },
  {
   "source": [
    "# Acumulado Mes Banco Azteca"
   ],
   "cell_type": "markdown",
   "metadata": {}
  },
  {
   "cell_type": "code",
   "execution_count": null,
   "metadata": {},
   "outputs": [],
   "source": []
  },
  {
   "cell_type": "code",
   "execution_count": 55,
   "metadata": {},
   "outputs": [],
   "source": [
    "writer = pd.ExcelWriter(''+ruta_guardar+'/Reporte Avance Gestor '+now+'.xlsx', engine='xlsxwriter')\n",
    "prom_liv_gestor.to_excel(writer,'PromDiariaLiv',index=False,header=True)\n",
    "prom_liv_gestor_mes.to_excel(writer,'PromMesLiv',index=False,header=True)\n",
    "pagos_totales_liv.to_excel(writer,'PagosTotalesLiv',index=False,header=True)\n",
    "prom_brad_gestor.to_excel(writer,'PromDiariaBrad',index=False,header=True)\n",
    "prom_brad_gestor_mes.to_excel(writer,'PromMesBrad',index=False,header=True)\n",
    "pagos_totales_brad2.to_excel(writer,'PagosTotalesBrad',index=False,header=True)\n",
    "pivot_baz2.to_excel(writer,'PromDiariaBAZ',index=False,header=True)\n",
    "\n",
    "writer.save()\n",
    "writer.close()"
   ]
  },
  {
   "cell_type": "code",
   "execution_count": 118,
   "metadata": {},
   "outputs": [],
   "source": [
    "writer = pd.ExcelWriter('/home/estadistico/Documents/Erick/Reportes diarios/Pagos duplicados.xlsx', engine='xlsxwriter')\n",
    "pagos_duplicados.to_excel(writer,'Pagos duplicados Liv',index=False,header=True)\n",
    "\n",
    "writer.save()\n",
    "writer.close()"
   ]
  },
  {
   "cell_type": "code",
   "execution_count": 56,
   "metadata": {},
   "outputs": [],
   "source": [
    "gestion_liv_mes.to_csv('/home/estadistico/Documents/Erick/Reportes diarios/Promesas mes liver.csv',index=False)"
   ]
  }
 ]
}