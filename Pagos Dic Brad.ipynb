{
 "metadata": {
  "language_info": {
   "codemirror_mode": {
    "name": "ipython",
    "version": 3
   },
   "file_extension": ".py",
   "mimetype": "text/x-python",
   "name": "python",
   "nbconvert_exporter": "python",
   "pygments_lexer": "ipython3",
   "version": "3.8.5-final"
  },
  "orig_nbformat": 2,
  "kernelspec": {
   "name": "python3",
   "display_name": "Python 3",
   "language": "python"
  }
 },
 "nbformat": 4,
 "nbformat_minor": 2,
 "cells": [
  {
   "source": [
    "# Analisis Diciembre"
   ],
   "cell_type": "markdown",
   "metadata": {}
  },
  {
   "cell_type": "code",
   "execution_count": 1,
   "metadata": {},
   "outputs": [],
   "source": [
    "import pandas as pd \n",
    "import numpy as np \n",
    "import os\n",
    "from datetime import datetime\n",
    "import datetime as dt\n",
    "import xlrd\n",
    "from xlrd.xldate import xldate_as_tuple"
   ]
  },
  {
   "cell_type": "code",
   "execution_count": 2,
   "metadata": {},
   "outputs": [],
   "source": [
    "ruta = '/home/estadistico/Documents/Erick/'\n",
    "ruta_brad = '/home/estadistico/Documents/Erick/Bradesco/'\n",
    "ruta_liver = '/home/estadistico/Documents/Erick/Liverpool/Pagos/'\n",
    "mes = 1\n",
    "mes2 = 'Enero'"
   ]
  },
  {
   "cell_type": "code",
   "execution_count": 3,
   "metadata": {},
   "outputs": [],
   "source": [
    "pc0 = os.listdir(''+ruta_brad+'Facturacion_c0/')\n",
    "pagos_c0 = pd.DataFrame()\n",
    "for i in pc0:\n",
    "    pagos_c0_new = pd.read_excel(''+ruta_brad+'Facturacion_c0/'+i+'',converters={'TARJETA':str})\n",
    "    pagos_c0 = pd.concat([pagos_c0,pagos_c0_new],ignore_index=True)\n",
    "    pagos_c0 = pagos_c0.drop_duplicates()\n",
    "pagos_c0 = pd.pivot_table(pagos_c0,index=['PRODUCTO','TARJETA','FECHA','PV','%'],values=['PAGO','COMISION.FINAL'],aggfunc=np.sum)\n",
    "pagos_c0 = pd.DataFrame(pagos_c0.to_records())"
   ]
  },
  {
   "cell_type": "code",
   "execution_count": 4,
   "metadata": {},
   "outputs": [
    {
     "output_type": "execute_result",
     "data": {
      "text/plain": [
       "  PRODUCTO              TARJETA      FECHA BUCKET  PORCENTAJE  COMISION  \\\n",
       "0       BC  0004463510011431000 2020-03-10     C1        0.17     51.00   \n",
       "1       BC  0004463510011431000 2020-03-15     C1        0.17     17.00   \n",
       "2       BC  0004463510011431000 2020-03-31     C1        0.17    383.35   \n",
       "\n",
       "     PAGO  \n",
       "0   300.0  \n",
       "1   100.0  \n",
       "2  2255.0  "
      ],
      "text/html": "<div>\n<style scoped>\n    .dataframe tbody tr th:only-of-type {\n        vertical-align: middle;\n    }\n\n    .dataframe tbody tr th {\n        vertical-align: top;\n    }\n\n    .dataframe thead th {\n        text-align: right;\n    }\n</style>\n<table border=\"1\" class=\"dataframe\">\n  <thead>\n    <tr style=\"text-align: right;\">\n      <th></th>\n      <th>PRODUCTO</th>\n      <th>TARJETA</th>\n      <th>FECHA</th>\n      <th>BUCKET</th>\n      <th>PORCENTAJE</th>\n      <th>COMISION</th>\n      <th>PAGO</th>\n    </tr>\n  </thead>\n  <tbody>\n    <tr>\n      <th>0</th>\n      <td>BC</td>\n      <td>0004463510011431000</td>\n      <td>2020-03-10</td>\n      <td>C1</td>\n      <td>0.17</td>\n      <td>51.00</td>\n      <td>300.0</td>\n    </tr>\n    <tr>\n      <th>1</th>\n      <td>BC</td>\n      <td>0004463510011431000</td>\n      <td>2020-03-15</td>\n      <td>C1</td>\n      <td>0.17</td>\n      <td>17.00</td>\n      <td>100.0</td>\n    </tr>\n    <tr>\n      <th>2</th>\n      <td>BC</td>\n      <td>0004463510011431000</td>\n      <td>2020-03-31</td>\n      <td>C1</td>\n      <td>0.17</td>\n      <td>383.35</td>\n      <td>2255.0</td>\n    </tr>\n  </tbody>\n</table>\n</div>"
     },
     "metadata": {},
     "execution_count": 4
    }
   ],
   "source": [
    "pextra = os.listdir(''+ruta_brad+'Facturacion_extra/')\n",
    "pagos_extra = pd.DataFrame()\n",
    "for i in pextra:\n",
    "    pagos_extra_new = pd.read_excel(''+ruta_brad+'Facturacion_extra/'+i+'',converters={'TARJETA':str})\n",
    "    pagos_extra = pd.concat([pagos_extra,pagos_extra_new],ignore_index=True)\n",
    "    pagos_extra = pagos_extra.drop_duplicates()\n",
    "pagos_extra = pd.pivot_table(pagos_extra,index=['PRODUCTO','TARJETA','FECHA','BUCKET','PORCENTAJE'],values=['PAGO','COMISION'],aggfunc=np.sum)\n",
    "pagos_extra = pd.DataFrame(pagos_extra.to_records())\n",
    "pagos_extra.head(3)"
   ]
  },
  {
   "cell_type": "code",
   "execution_count": 5,
   "metadata": {},
   "outputs": [],
   "source": [
    "ac0 = os.listdir(''+ruta_brad+'Facturacion_extra/')\n",
    "asignacion_c0 = pd.DataFrame()\n",
    "for i in ac0:\n",
    "    "
   ]
  },
  {
   "cell_type": "code",
   "execution_count": 6,
   "metadata": {},
   "outputs": [],
   "source": [
    "# pagos_liver = pd.read_excel(''+ruta_liver+'Union pagos.xlsx')"
   ]
  },
  {
   "source": [
    "# PAGOS C0"
   ],
   "cell_type": "markdown",
   "metadata": {}
  },
  {
   "cell_type": "code",
   "execution_count": 7,
   "metadata": {},
   "outputs": [
    {
     "output_type": "execute_result",
     "data": {
      "text/plain": [
       "       PRODUCTO              TARJETA      FECHA  PV     %  COMISION.FINAL  \\\n",
       "0  AURRERA VISA  0004812830001473000 2020-12-20   4  0.08          160.00   \n",
       "1  AURRERA VISA  0004812830002343000 2020-10-29   4  0.07          244.16   \n",
       "2  AURRERA VISA  0004812830003103000 2020-11-15   6  0.10          131.60   \n",
       "\n",
       "     PAGO  MONTH  YEAR  DAY  \n",
       "0  2000.0     12  2020   20  \n",
       "1  3488.0     10  2020   29  \n",
       "2  1316.0     11  2020   15  "
      ],
      "text/html": "<div>\n<style scoped>\n    .dataframe tbody tr th:only-of-type {\n        vertical-align: middle;\n    }\n\n    .dataframe tbody tr th {\n        vertical-align: top;\n    }\n\n    .dataframe thead th {\n        text-align: right;\n    }\n</style>\n<table border=\"1\" class=\"dataframe\">\n  <thead>\n    <tr style=\"text-align: right;\">\n      <th></th>\n      <th>PRODUCTO</th>\n      <th>TARJETA</th>\n      <th>FECHA</th>\n      <th>PV</th>\n      <th>%</th>\n      <th>COMISION.FINAL</th>\n      <th>PAGO</th>\n      <th>MONTH</th>\n      <th>YEAR</th>\n      <th>DAY</th>\n    </tr>\n  </thead>\n  <tbody>\n    <tr>\n      <th>0</th>\n      <td>AURRERA VISA</td>\n      <td>0004812830001473000</td>\n      <td>2020-12-20</td>\n      <td>4</td>\n      <td>0.08</td>\n      <td>160.00</td>\n      <td>2000.0</td>\n      <td>12</td>\n      <td>2020</td>\n      <td>20</td>\n    </tr>\n    <tr>\n      <th>1</th>\n      <td>AURRERA VISA</td>\n      <td>0004812830002343000</td>\n      <td>2020-10-29</td>\n      <td>4</td>\n      <td>0.07</td>\n      <td>244.16</td>\n      <td>3488.0</td>\n      <td>10</td>\n      <td>2020</td>\n      <td>29</td>\n    </tr>\n    <tr>\n      <th>2</th>\n      <td>AURRERA VISA</td>\n      <td>0004812830003103000</td>\n      <td>2020-11-15</td>\n      <td>6</td>\n      <td>0.10</td>\n      <td>131.60</td>\n      <td>1316.0</td>\n      <td>11</td>\n      <td>2020</td>\n      <td>15</td>\n    </tr>\n  </tbody>\n</table>\n</div>"
     },
     "metadata": {},
     "execution_count": 7
    }
   ],
   "source": [
    "pagos_c0 = pagos_c0.drop_duplicates(subset=['PRODUCTO','TARJETA','PAGO','FECHA','PV'])\n",
    "pagos_c0['MONTH'] = pagos_c0['FECHA'].dt.month\n",
    "pagos_c0['YEAR'] = pagos_c0['FECHA'].dt.year\n",
    "pagos_c0['DAY'] = pagos_c0['FECHA'].dt.day\n",
    "pagos_c0.head(3)"
   ]
  },
  {
   "cell_type": "code",
   "execution_count": 8,
   "metadata": {},
   "outputs": [
    {
     "output_type": "execute_result",
     "data": {
      "text/plain": [
       "   YEAR        PAGOV 4        PAGOV 5      PAGOV 6\n",
       "0  2018  $1,459,867.96    $873,014.94  $554,374.00\n",
       "1  2019  $2,008,256.64  $1,000,617.83  $669,227.72\n",
       "2  2020  $2,106,093.44    $758,547.24  $669,809.61"
      ],
      "text/html": "<div>\n<style scoped>\n    .dataframe tbody tr th:only-of-type {\n        vertical-align: middle;\n    }\n\n    .dataframe tbody tr th {\n        vertical-align: top;\n    }\n\n    .dataframe thead th {\n        text-align: right;\n    }\n</style>\n<table border=\"1\" class=\"dataframe\">\n  <thead>\n    <tr style=\"text-align: right;\">\n      <th></th>\n      <th>YEAR</th>\n      <th>PAGOV 4</th>\n      <th>PAGOV 5</th>\n      <th>PAGOV 6</th>\n    </tr>\n  </thead>\n  <tbody>\n    <tr>\n      <th>0</th>\n      <td>2018</td>\n      <td>$1,459,867.96</td>\n      <td>$873,014.94</td>\n      <td>$554,374.00</td>\n    </tr>\n    <tr>\n      <th>1</th>\n      <td>2019</td>\n      <td>$2,008,256.64</td>\n      <td>$1,000,617.83</td>\n      <td>$669,227.72</td>\n    </tr>\n    <tr>\n      <th>2</th>\n      <td>2020</td>\n      <td>$2,106,093.44</td>\n      <td>$758,547.24</td>\n      <td>$669,809.61</td>\n    </tr>\n  </tbody>\n</table>\n</div>"
     },
     "metadata": {},
     "execution_count": 8
    }
   ],
   "source": [
    "pagos_mes_c0 = pagos_c0.loc[pagos_c0['MONTH']==mes]\n",
    "pivot_mes_c0 = pd.pivot_table(pagos_mes_c0,index=['YEAR'],columns=['PV'],values=['PAGO'],aggfunc='sum')\n",
    "pivot_mes_c0 = pd.DataFrame(pivot_mes_c0.to_records())\n",
    "pivot_mes_c0.columns = ['YEAR','PAGOV 4','PAGOV 5','PAGOV 6']\n",
    "pivot_mes_c0['PAGOV 4'] = ['${:,.2f}'.format(x) for x in pivot_mes_c0['PAGOV 4']]\n",
    "pivot_mes_c0['PAGOV 5'] = ['${:,.2f}'.format(x) for x in pivot_mes_c0['PAGOV 5']]\n",
    "pivot_mes_c0['PAGOV 6'] = ['${:,.2f}'.format(x) for x in pivot_mes_c0['PAGOV 6']]\n",
    "pivot_mes_c0"
   ]
  },
  {
   "cell_type": "code",
   "execution_count": 9,
   "metadata": {},
   "outputs": [
    {
     "output_type": "execute_result",
     "data": {
      "text/plain": [
       "     PV  MES  DIA    PAGO 2017   PAGO 2018   PAGO 2019   PAGO 2020\n",
       "0     4    1    1        $0.00   $1,000.00   $4,118.00  $12,668.00\n",
       "1     4    1    2        $0.00  $39,207.07  $51,241.19  $71,125.10\n",
       "2     4    1    3        $0.00  $53,244.42  $76,378.34  $96,773.00\n",
       "3     4    1    4        $0.00  $33,417.00  $57,804.92  $78,591.20\n",
       "4     4    1    5        $0.00  $56,428.00  $33,458.96  $29,512.00\n",
       "..   ..  ...  ...          ...         ...         ...         ...\n",
       "361   4   12   27   $36,698.00  $59,436.00  $34,865.00   $6,349.00\n",
       "362   4   12   28   $69,428.75  $81,630.98  $39,791.00  $22,000.00\n",
       "363   4   12   29  $131,596.00  $61,330.01  $13,586.61  $20,399.00\n",
       "364   4   12   30   $65,437.58  $35,725.00  $87,009.50  $42,091.00\n",
       "365   4   12   31   $19,243.00  $56,279.00  $70,329.00  $20,564.94\n",
       "\n",
       "[366 rows x 7 columns]"
      ],
      "text/html": "<div>\n<style scoped>\n    .dataframe tbody tr th:only-of-type {\n        vertical-align: middle;\n    }\n\n    .dataframe tbody tr th {\n        vertical-align: top;\n    }\n\n    .dataframe thead th {\n        text-align: right;\n    }\n</style>\n<table border=\"1\" class=\"dataframe\">\n  <thead>\n    <tr style=\"text-align: right;\">\n      <th></th>\n      <th>PV</th>\n      <th>MES</th>\n      <th>DIA</th>\n      <th>PAGO 2017</th>\n      <th>PAGO 2018</th>\n      <th>PAGO 2019</th>\n      <th>PAGO 2020</th>\n    </tr>\n  </thead>\n  <tbody>\n    <tr>\n      <th>0</th>\n      <td>4</td>\n      <td>1</td>\n      <td>1</td>\n      <td>$0.00</td>\n      <td>$1,000.00</td>\n      <td>$4,118.00</td>\n      <td>$12,668.00</td>\n    </tr>\n    <tr>\n      <th>1</th>\n      <td>4</td>\n      <td>1</td>\n      <td>2</td>\n      <td>$0.00</td>\n      <td>$39,207.07</td>\n      <td>$51,241.19</td>\n      <td>$71,125.10</td>\n    </tr>\n    <tr>\n      <th>2</th>\n      <td>4</td>\n      <td>1</td>\n      <td>3</td>\n      <td>$0.00</td>\n      <td>$53,244.42</td>\n      <td>$76,378.34</td>\n      <td>$96,773.00</td>\n    </tr>\n    <tr>\n      <th>3</th>\n      <td>4</td>\n      <td>1</td>\n      <td>4</td>\n      <td>$0.00</td>\n      <td>$33,417.00</td>\n      <td>$57,804.92</td>\n      <td>$78,591.20</td>\n    </tr>\n    <tr>\n      <th>4</th>\n      <td>4</td>\n      <td>1</td>\n      <td>5</td>\n      <td>$0.00</td>\n      <td>$56,428.00</td>\n      <td>$33,458.96</td>\n      <td>$29,512.00</td>\n    </tr>\n    <tr>\n      <th>...</th>\n      <td>...</td>\n      <td>...</td>\n      <td>...</td>\n      <td>...</td>\n      <td>...</td>\n      <td>...</td>\n      <td>...</td>\n    </tr>\n    <tr>\n      <th>361</th>\n      <td>4</td>\n      <td>12</td>\n      <td>27</td>\n      <td>$36,698.00</td>\n      <td>$59,436.00</td>\n      <td>$34,865.00</td>\n      <td>$6,349.00</td>\n    </tr>\n    <tr>\n      <th>362</th>\n      <td>4</td>\n      <td>12</td>\n      <td>28</td>\n      <td>$69,428.75</td>\n      <td>$81,630.98</td>\n      <td>$39,791.00</td>\n      <td>$22,000.00</td>\n    </tr>\n    <tr>\n      <th>363</th>\n      <td>4</td>\n      <td>12</td>\n      <td>29</td>\n      <td>$131,596.00</td>\n      <td>$61,330.01</td>\n      <td>$13,586.61</td>\n      <td>$20,399.00</td>\n    </tr>\n    <tr>\n      <th>364</th>\n      <td>4</td>\n      <td>12</td>\n      <td>30</td>\n      <td>$65,437.58</td>\n      <td>$35,725.00</td>\n      <td>$87,009.50</td>\n      <td>$42,091.00</td>\n    </tr>\n    <tr>\n      <th>365</th>\n      <td>4</td>\n      <td>12</td>\n      <td>31</td>\n      <td>$19,243.00</td>\n      <td>$56,279.00</td>\n      <td>$70,329.00</td>\n      <td>$20,564.94</td>\n    </tr>\n  </tbody>\n</table>\n<p>366 rows × 7 columns</p>\n</div>"
     },
     "metadata": {},
     "execution_count": 9
    }
   ],
   "source": [
    "#Primero para pago vencido 4\n",
    "pagos_4pv = pagos_c0.loc[pagos_c0['PV']==4]\n",
    "pivot_4pv = pd.pivot_table(pagos_4pv,index=['PV','MONTH','DAY'],columns=['YEAR'],values=['PAGO'],aggfunc=['sum'])\n",
    "pivot_4pv = pd.DataFrame(pivot_4pv.to_records())\n",
    "pivot_4pv.columns = ['PV','MES','DIA','PAGO 2017','PAGO 2018','PAGO 2019','PAGO 2020']\n",
    "pivot_4pv.fillna(0,inplace=True)\n",
    "pivot_4pv['PAGO 2017'] = ['${:,.2f}'.format(x) for x in pivot_4pv['PAGO 2017']]\n",
    "pivot_4pv['PAGO 2018'] = ['${:,.2f}'.format(x) for x in pivot_4pv['PAGO 2018']]\n",
    "pivot_4pv['PAGO 2019'] = ['${:,.2f}'.format(x) for x in pivot_4pv['PAGO 2019']]\n",
    "pivot_4pv['PAGO 2020'] = ['${:,.2f}'.format(x) for x in pivot_4pv['PAGO 2020']]\n",
    "pivot_4pv"
   ]
  },
  {
   "cell_type": "code",
   "execution_count": 10,
   "metadata": {},
   "outputs": [
    {
     "output_type": "execute_result",
     "data": {
      "text/plain": [
       "     PV  MES  DIA   PAGO 2017   PAGO 2018   PAGO 2019   PAGO 2020\n",
       "0     5    1    1       $0.00   $4,025.00   $4,250.00   $9,500.00\n",
       "1     5    1    2       $0.00  $44,644.77  $27,198.00  $22,755.00\n",
       "2     5    1    3       $0.00  $36,265.00  $29,733.11  $43,594.00\n",
       "3     5    1    4       $0.00  $38,371.00  $40,332.00  $27,130.00\n",
       "4     5    1    5       $0.00  $34,147.00  $36,668.00  $25,087.00\n",
       "..   ..  ...  ...         ...         ...         ...         ...\n",
       "361   5   12   27  $29,366.00   $7,280.00  $24,473.00  $10,033.00\n",
       "362   5   12   28  $20,253.00  $11,745.90  $17,634.00   $5,850.56\n",
       "363   5   12   29  $62,694.52  $13,009.00  $15,634.00  $13,057.00\n",
       "364   5   12   30  $42,681.00  $22,647.00  $44,295.00  $25,898.00\n",
       "365   5   12   31   $5,969.00  $38,421.00  $30,016.00  $13,118.00\n",
       "\n",
       "[366 rows x 7 columns]"
      ],
      "text/html": "<div>\n<style scoped>\n    .dataframe tbody tr th:only-of-type {\n        vertical-align: middle;\n    }\n\n    .dataframe tbody tr th {\n        vertical-align: top;\n    }\n\n    .dataframe thead th {\n        text-align: right;\n    }\n</style>\n<table border=\"1\" class=\"dataframe\">\n  <thead>\n    <tr style=\"text-align: right;\">\n      <th></th>\n      <th>PV</th>\n      <th>MES</th>\n      <th>DIA</th>\n      <th>PAGO 2017</th>\n      <th>PAGO 2018</th>\n      <th>PAGO 2019</th>\n      <th>PAGO 2020</th>\n    </tr>\n  </thead>\n  <tbody>\n    <tr>\n      <th>0</th>\n      <td>5</td>\n      <td>1</td>\n      <td>1</td>\n      <td>$0.00</td>\n      <td>$4,025.00</td>\n      <td>$4,250.00</td>\n      <td>$9,500.00</td>\n    </tr>\n    <tr>\n      <th>1</th>\n      <td>5</td>\n      <td>1</td>\n      <td>2</td>\n      <td>$0.00</td>\n      <td>$44,644.77</td>\n      <td>$27,198.00</td>\n      <td>$22,755.00</td>\n    </tr>\n    <tr>\n      <th>2</th>\n      <td>5</td>\n      <td>1</td>\n      <td>3</td>\n      <td>$0.00</td>\n      <td>$36,265.00</td>\n      <td>$29,733.11</td>\n      <td>$43,594.00</td>\n    </tr>\n    <tr>\n      <th>3</th>\n      <td>5</td>\n      <td>1</td>\n      <td>4</td>\n      <td>$0.00</td>\n      <td>$38,371.00</td>\n      <td>$40,332.00</td>\n      <td>$27,130.00</td>\n    </tr>\n    <tr>\n      <th>4</th>\n      <td>5</td>\n      <td>1</td>\n      <td>5</td>\n      <td>$0.00</td>\n      <td>$34,147.00</td>\n      <td>$36,668.00</td>\n      <td>$25,087.00</td>\n    </tr>\n    <tr>\n      <th>...</th>\n      <td>...</td>\n      <td>...</td>\n      <td>...</td>\n      <td>...</td>\n      <td>...</td>\n      <td>...</td>\n      <td>...</td>\n    </tr>\n    <tr>\n      <th>361</th>\n      <td>5</td>\n      <td>12</td>\n      <td>27</td>\n      <td>$29,366.00</td>\n      <td>$7,280.00</td>\n      <td>$24,473.00</td>\n      <td>$10,033.00</td>\n    </tr>\n    <tr>\n      <th>362</th>\n      <td>5</td>\n      <td>12</td>\n      <td>28</td>\n      <td>$20,253.00</td>\n      <td>$11,745.90</td>\n      <td>$17,634.00</td>\n      <td>$5,850.56</td>\n    </tr>\n    <tr>\n      <th>363</th>\n      <td>5</td>\n      <td>12</td>\n      <td>29</td>\n      <td>$62,694.52</td>\n      <td>$13,009.00</td>\n      <td>$15,634.00</td>\n      <td>$13,057.00</td>\n    </tr>\n    <tr>\n      <th>364</th>\n      <td>5</td>\n      <td>12</td>\n      <td>30</td>\n      <td>$42,681.00</td>\n      <td>$22,647.00</td>\n      <td>$44,295.00</td>\n      <td>$25,898.00</td>\n    </tr>\n    <tr>\n      <th>365</th>\n      <td>5</td>\n      <td>12</td>\n      <td>31</td>\n      <td>$5,969.00</td>\n      <td>$38,421.00</td>\n      <td>$30,016.00</td>\n      <td>$13,118.00</td>\n    </tr>\n  </tbody>\n</table>\n<p>366 rows × 7 columns</p>\n</div>"
     },
     "metadata": {},
     "execution_count": 10
    }
   ],
   "source": [
    "#Para 5 pagos vencidos\n",
    "pagos_5pv = pagos_c0.loc[pagos_c0['PV']==5]\n",
    "pivot_5pv = pd.pivot_table(pagos_5pv,index=['PV','MONTH','DAY'],columns=['YEAR'],values=['PAGO'],aggfunc=[np.sum])\n",
    "pivot_5pv = pd.DataFrame(pivot_5pv.to_records())\n",
    "pivot_5pv.columns = ['PV','MES','DIA','PAGO 2017','PAGO 2018','PAGO 2019','PAGO 2020']\n",
    "pivot_5pv.fillna(0,inplace=True)\n",
    "pivot_5pv['PAGO 2017'] = ['${:,.2f}'.format(x) for x in pivot_5pv['PAGO 2017']]\n",
    "pivot_5pv['PAGO 2018'] = ['${:,.2f}'.format(x) for x in pivot_5pv['PAGO 2018']]\n",
    "pivot_5pv['PAGO 2019'] = ['${:,.2f}'.format(x) for x in pivot_5pv['PAGO 2019']]\n",
    "pivot_5pv['PAGO 2020'] = ['${:,.2f}'.format(x) for x in pivot_5pv['PAGO 2020']]\n",
    "pivot_5pv"
   ]
  },
  {
   "cell_type": "code",
   "execution_count": 11,
   "metadata": {},
   "outputs": [
    {
     "output_type": "execute_result",
     "data": {
      "text/plain": [
       "     PV  MES  DIA   PAGO 2017   PAGO 2018   PAGO 2019   PAGO 2020\n",
       "0     6    1    1       $0.00       $0.00   $3,590.00       $0.00\n",
       "1     6    1    2       $0.00   $4,715.00   $9,531.00  $32,899.50\n",
       "2     6    1    3       $0.00  $19,884.00  $20,635.00  $25,503.00\n",
       "3     6    1    4       $0.00  $25,630.00  $14,590.00   $9,127.00\n",
       "4     6    1    5       $0.00  $12,805.00  $13,381.00   $6,094.00\n",
       "..   ..  ...  ...         ...         ...         ...         ...\n",
       "361   6   12   27  $10,073.00   $5,296.00  $18,567.00   $4,932.00\n",
       "362   6   12   28  $13,258.00  $14,861.00   $8,209.00   $6,901.00\n",
       "363   6   12   29  $39,908.00  $14,422.00   $9,713.00  $11,874.00\n",
       "364   6   12   30  $26,989.00  $21,375.00  $39,491.00   $9,704.00\n",
       "365   6   12   31   $8,485.00  $61,310.00  $26,152.00   $4,582.00\n",
       "\n",
       "[366 rows x 7 columns]"
      ],
      "text/html": "<div>\n<style scoped>\n    .dataframe tbody tr th:only-of-type {\n        vertical-align: middle;\n    }\n\n    .dataframe tbody tr th {\n        vertical-align: top;\n    }\n\n    .dataframe thead th {\n        text-align: right;\n    }\n</style>\n<table border=\"1\" class=\"dataframe\">\n  <thead>\n    <tr style=\"text-align: right;\">\n      <th></th>\n      <th>PV</th>\n      <th>MES</th>\n      <th>DIA</th>\n      <th>PAGO 2017</th>\n      <th>PAGO 2018</th>\n      <th>PAGO 2019</th>\n      <th>PAGO 2020</th>\n    </tr>\n  </thead>\n  <tbody>\n    <tr>\n      <th>0</th>\n      <td>6</td>\n      <td>1</td>\n      <td>1</td>\n      <td>$0.00</td>\n      <td>$0.00</td>\n      <td>$3,590.00</td>\n      <td>$0.00</td>\n    </tr>\n    <tr>\n      <th>1</th>\n      <td>6</td>\n      <td>1</td>\n      <td>2</td>\n      <td>$0.00</td>\n      <td>$4,715.00</td>\n      <td>$9,531.00</td>\n      <td>$32,899.50</td>\n    </tr>\n    <tr>\n      <th>2</th>\n      <td>6</td>\n      <td>1</td>\n      <td>3</td>\n      <td>$0.00</td>\n      <td>$19,884.00</td>\n      <td>$20,635.00</td>\n      <td>$25,503.00</td>\n    </tr>\n    <tr>\n      <th>3</th>\n      <td>6</td>\n      <td>1</td>\n      <td>4</td>\n      <td>$0.00</td>\n      <td>$25,630.00</td>\n      <td>$14,590.00</td>\n      <td>$9,127.00</td>\n    </tr>\n    <tr>\n      <th>4</th>\n      <td>6</td>\n      <td>1</td>\n      <td>5</td>\n      <td>$0.00</td>\n      <td>$12,805.00</td>\n      <td>$13,381.00</td>\n      <td>$6,094.00</td>\n    </tr>\n    <tr>\n      <th>...</th>\n      <td>...</td>\n      <td>...</td>\n      <td>...</td>\n      <td>...</td>\n      <td>...</td>\n      <td>...</td>\n      <td>...</td>\n    </tr>\n    <tr>\n      <th>361</th>\n      <td>6</td>\n      <td>12</td>\n      <td>27</td>\n      <td>$10,073.00</td>\n      <td>$5,296.00</td>\n      <td>$18,567.00</td>\n      <td>$4,932.00</td>\n    </tr>\n    <tr>\n      <th>362</th>\n      <td>6</td>\n      <td>12</td>\n      <td>28</td>\n      <td>$13,258.00</td>\n      <td>$14,861.00</td>\n      <td>$8,209.00</td>\n      <td>$6,901.00</td>\n    </tr>\n    <tr>\n      <th>363</th>\n      <td>6</td>\n      <td>12</td>\n      <td>29</td>\n      <td>$39,908.00</td>\n      <td>$14,422.00</td>\n      <td>$9,713.00</td>\n      <td>$11,874.00</td>\n    </tr>\n    <tr>\n      <th>364</th>\n      <td>6</td>\n      <td>12</td>\n      <td>30</td>\n      <td>$26,989.00</td>\n      <td>$21,375.00</td>\n      <td>$39,491.00</td>\n      <td>$9,704.00</td>\n    </tr>\n    <tr>\n      <th>365</th>\n      <td>6</td>\n      <td>12</td>\n      <td>31</td>\n      <td>$8,485.00</td>\n      <td>$61,310.00</td>\n      <td>$26,152.00</td>\n      <td>$4,582.00</td>\n    </tr>\n  </tbody>\n</table>\n<p>366 rows × 7 columns</p>\n</div>"
     },
     "metadata": {},
     "execution_count": 11
    }
   ],
   "source": [
    "#Para 6 pagos vencidos\n",
    "pagos_6pv = pagos_c0.loc[pagos_c0['PV']==6]\n",
    "pivot_6pv = pd.pivot_table(pagos_6pv,index=['PV','MONTH','DAY'],columns=['YEAR'],values=['PAGO'],aggfunc=['sum'])\n",
    "pivot_6pv = pd.DataFrame(pivot_6pv.to_records())\n",
    "pivot_6pv.columns = ['PV','MES','DIA','PAGO 2017','PAGO 2018','PAGO 2019','PAGO 2020']\n",
    "pivot_6pv.fillna(0,inplace=True)\n",
    "pivot_6pv['PAGO 2017'] = ['${:,.2f}'.format(x) for x in pivot_6pv['PAGO 2017']]\n",
    "pivot_6pv['PAGO 2018'] = ['${:,.2f}'.format(x) for x in pivot_6pv['PAGO 2018']]\n",
    "pivot_6pv['PAGO 2019'] = ['${:,.2f}'.format(x) for x in pivot_6pv['PAGO 2019']]\n",
    "pivot_6pv['PAGO 2020'] = ['${:,.2f}'.format(x) for x in pivot_6pv['PAGO 2020']]\n",
    "pivot_6pv"
   ]
  },
  {
   "source": [
    "# PAGOS EXTRAJUDICIAL"
   ],
   "cell_type": "markdown",
   "metadata": {}
  },
  {
   "cell_type": "code",
   "execution_count": 12,
   "metadata": {},
   "outputs": [
    {
     "output_type": "execute_result",
     "data": {
      "text/plain": [
       "  PRODUCTO              TARJETA      FECHA BUCKET  PORCENTAJE  COMISION  \\\n",
       "0       BC  0004463510011431000 2020-03-10     C1        0.17     51.00   \n",
       "1       BC  0004463510011431000 2020-03-15     C1        0.17     17.00   \n",
       "2       BC  0004463510011431000 2020-03-31     C1        0.17    383.35   \n",
       "\n",
       "     PAGO  MONTH  YEAR  DAY  \n",
       "0   300.0      3  2020   10  \n",
       "1   100.0      3  2020   15  \n",
       "2  2255.0      3  2020   31  "
      ],
      "text/html": "<div>\n<style scoped>\n    .dataframe tbody tr th:only-of-type {\n        vertical-align: middle;\n    }\n\n    .dataframe tbody tr th {\n        vertical-align: top;\n    }\n\n    .dataframe thead th {\n        text-align: right;\n    }\n</style>\n<table border=\"1\" class=\"dataframe\">\n  <thead>\n    <tr style=\"text-align: right;\">\n      <th></th>\n      <th>PRODUCTO</th>\n      <th>TARJETA</th>\n      <th>FECHA</th>\n      <th>BUCKET</th>\n      <th>PORCENTAJE</th>\n      <th>COMISION</th>\n      <th>PAGO</th>\n      <th>MONTH</th>\n      <th>YEAR</th>\n      <th>DAY</th>\n    </tr>\n  </thead>\n  <tbody>\n    <tr>\n      <th>0</th>\n      <td>BC</td>\n      <td>0004463510011431000</td>\n      <td>2020-03-10</td>\n      <td>C1</td>\n      <td>0.17</td>\n      <td>51.00</td>\n      <td>300.0</td>\n      <td>3</td>\n      <td>2020</td>\n      <td>10</td>\n    </tr>\n    <tr>\n      <th>1</th>\n      <td>BC</td>\n      <td>0004463510011431000</td>\n      <td>2020-03-15</td>\n      <td>C1</td>\n      <td>0.17</td>\n      <td>17.00</td>\n      <td>100.0</td>\n      <td>3</td>\n      <td>2020</td>\n      <td>15</td>\n    </tr>\n    <tr>\n      <th>2</th>\n      <td>BC</td>\n      <td>0004463510011431000</td>\n      <td>2020-03-31</td>\n      <td>C1</td>\n      <td>0.17</td>\n      <td>383.35</td>\n      <td>2255.0</td>\n      <td>3</td>\n      <td>2020</td>\n      <td>31</td>\n    </tr>\n  </tbody>\n</table>\n</div>"
     },
     "metadata": {},
     "execution_count": 12
    }
   ],
   "source": [
    "pagos_extra = pagos_extra.drop_duplicates(subset=['PRODUCTO','TARJETA','PAGO','FECHA','BUCKET'])\n",
    "pagos_extra['BUCKET'] = pagos_extra['BUCKET'].str.upper()\n",
    "pagos_extra['MONTH'] = pagos_extra['FECHA'].dt.month\n",
    "pagos_extra['YEAR'] = pagos_extra['FECHA'].dt.year\n",
    "pagos_extra['DAY'] = pagos_extra['FECHA'].dt.day\n",
    "pagos_extra.fillna(0,inplace=True)\n",
    "pagos_extra[['YEAR','MONTH','DAY']] = pagos_extra[['YEAR','MONTH','DAY']].astype('int')\n",
    "pagos_extra.head(3)"
   ]
  },
  {
   "cell_type": "code",
   "execution_count": 13,
   "metadata": {},
   "outputs": [
    {
     "output_type": "execute_result",
     "data": {
      "text/plain": [
       "   YEAR       PAGO A      PAGO B      PAGO C1      PAGO C2      PAGO C3  \\\n",
       "0  2018  $151,288.15  $62,329.00  $805,136.95  $494,694.26  $291,613.70   \n",
       "1  2019  $145,749.00  $45,856.73  $833,877.61  $342,965.00  $210,416.00   \n",
       "2  2020  $173,748.82  $27,925.13  $652,952.95  $536,098.14  $183,528.04   \n",
       "\n",
       "       PAGO C4  \n",
       "0  $133,785.00  \n",
       "1   $85,090.00  \n",
       "2  $132,856.00  "
      ],
      "text/html": "<div>\n<style scoped>\n    .dataframe tbody tr th:only-of-type {\n        vertical-align: middle;\n    }\n\n    .dataframe tbody tr th {\n        vertical-align: top;\n    }\n\n    .dataframe thead th {\n        text-align: right;\n    }\n</style>\n<table border=\"1\" class=\"dataframe\">\n  <thead>\n    <tr style=\"text-align: right;\">\n      <th></th>\n      <th>YEAR</th>\n      <th>PAGO A</th>\n      <th>PAGO B</th>\n      <th>PAGO C1</th>\n      <th>PAGO C2</th>\n      <th>PAGO C3</th>\n      <th>PAGO C4</th>\n    </tr>\n  </thead>\n  <tbody>\n    <tr>\n      <th>0</th>\n      <td>2018</td>\n      <td>$151,288.15</td>\n      <td>$62,329.00</td>\n      <td>$805,136.95</td>\n      <td>$494,694.26</td>\n      <td>$291,613.70</td>\n      <td>$133,785.00</td>\n    </tr>\n    <tr>\n      <th>1</th>\n      <td>2019</td>\n      <td>$145,749.00</td>\n      <td>$45,856.73</td>\n      <td>$833,877.61</td>\n      <td>$342,965.00</td>\n      <td>$210,416.00</td>\n      <td>$85,090.00</td>\n    </tr>\n    <tr>\n      <th>2</th>\n      <td>2020</td>\n      <td>$173,748.82</td>\n      <td>$27,925.13</td>\n      <td>$652,952.95</td>\n      <td>$536,098.14</td>\n      <td>$183,528.04</td>\n      <td>$132,856.00</td>\n    </tr>\n  </tbody>\n</table>\n</div>"
     },
     "metadata": {},
     "execution_count": 13
    }
   ],
   "source": [
    "#Obtenemos los datos diciembre\n",
    "pagos_dic_extra = pagos_extra.loc[pagos_extra['MONTH']==mes]\n",
    "pivot_dic_extra = pd.pivot_table(pagos_dic_extra,index=['YEAR'],columns=['BUCKET'],values=['PAGO'],aggfunc='sum')\n",
    "pivot_dic_extra = pd.DataFrame(pivot_dic_extra.to_records())\n",
    "pivot_dic_extra.columns = ['YEAR','PAGO A','PAGO B','PAGO C1','PAGO C2','PAGO C3','PAGO C4']\n",
    "pivot_dic_extra['PAGO A'] = ['${:,.2f}'.format(x) for x in pivot_dic_extra['PAGO A']]\n",
    "pivot_dic_extra['PAGO B'] = ['${:,.2f}'.format(x) for x in pivot_dic_extra['PAGO B']]\n",
    "pivot_dic_extra['PAGO C1'] = ['${:,.2f}'.format(x) for x in pivot_dic_extra['PAGO C1']]\n",
    "pivot_dic_extra['PAGO C2'] = ['${:,.2f}'.format(x) for x in pivot_dic_extra['PAGO C2']]\n",
    "pivot_dic_extra['PAGO C3'] = ['${:,.2f}'.format(x) for x in pivot_dic_extra['PAGO C3']]\n",
    "pivot_dic_extra['PAGO C4'] = ['${:,.2f}'.format(x) for x in pivot_dic_extra['PAGO C4']]\n",
    "pivot_dic_extra"
   ]
  },
  {
   "cell_type": "code",
   "execution_count": 14,
   "metadata": {},
   "outputs": [
    {
     "output_type": "execute_result",
     "data": {
      "text/plain": [
       "   YEAR        PAGOV 4        PAGOV 5      PAGOV 6       PAGO A      PAGO B  \\\n",
       "0  2018  $1,459,867.96    $873,014.94  $554,374.00  $151,288.15  $62,329.00   \n",
       "1  2019  $2,008,256.64  $1,000,617.83  $669,227.72  $145,749.00  $45,856.73   \n",
       "2  2020  $2,106,093.44    $758,547.24  $669,809.61  $173,748.82  $27,925.13   \n",
       "\n",
       "       PAGO C1      PAGO C2      PAGO C3      PAGO C4  \n",
       "0  $805,136.95  $494,694.26  $291,613.70  $133,785.00  \n",
       "1  $833,877.61  $342,965.00  $210,416.00   $85,090.00  \n",
       "2  $652,952.95  $536,098.14  $183,528.04  $132,856.00  "
      ],
      "text/html": "<div>\n<style scoped>\n    .dataframe tbody tr th:only-of-type {\n        vertical-align: middle;\n    }\n\n    .dataframe tbody tr th {\n        vertical-align: top;\n    }\n\n    .dataframe thead th {\n        text-align: right;\n    }\n</style>\n<table border=\"1\" class=\"dataframe\">\n  <thead>\n    <tr style=\"text-align: right;\">\n      <th></th>\n      <th>YEAR</th>\n      <th>PAGOV 4</th>\n      <th>PAGOV 5</th>\n      <th>PAGOV 6</th>\n      <th>PAGO A</th>\n      <th>PAGO B</th>\n      <th>PAGO C1</th>\n      <th>PAGO C2</th>\n      <th>PAGO C3</th>\n      <th>PAGO C4</th>\n    </tr>\n  </thead>\n  <tbody>\n    <tr>\n      <th>0</th>\n      <td>2018</td>\n      <td>$1,459,867.96</td>\n      <td>$873,014.94</td>\n      <td>$554,374.00</td>\n      <td>$151,288.15</td>\n      <td>$62,329.00</td>\n      <td>$805,136.95</td>\n      <td>$494,694.26</td>\n      <td>$291,613.70</td>\n      <td>$133,785.00</td>\n    </tr>\n    <tr>\n      <th>1</th>\n      <td>2019</td>\n      <td>$2,008,256.64</td>\n      <td>$1,000,617.83</td>\n      <td>$669,227.72</td>\n      <td>$145,749.00</td>\n      <td>$45,856.73</td>\n      <td>$833,877.61</td>\n      <td>$342,965.00</td>\n      <td>$210,416.00</td>\n      <td>$85,090.00</td>\n    </tr>\n    <tr>\n      <th>2</th>\n      <td>2020</td>\n      <td>$2,106,093.44</td>\n      <td>$758,547.24</td>\n      <td>$669,809.61</td>\n      <td>$173,748.82</td>\n      <td>$27,925.13</td>\n      <td>$652,952.95</td>\n      <td>$536,098.14</td>\n      <td>$183,528.04</td>\n      <td>$132,856.00</td>\n    </tr>\n  </tbody>\n</table>\n</div>"
     },
     "metadata": {},
     "execution_count": 14
    }
   ],
   "source": [
    "pivot_mes = pd.merge(pivot_mes_c0,pivot_dic_extra,on='YEAR',how='left')\n",
    "pivot_mes"
   ]
  },
  {
   "cell_type": "code",
   "execution_count": 15,
   "metadata": {},
   "outputs": [
    {
     "output_type": "execute_result",
     "data": {
      "text/plain": [
       "    BUCKET  MES  DAY  PAGO 2017   PAGO 2018   PAGO 2019   PAGO 2020\n",
       "0        A    1    3      $0.00   $9,469.00       $0.00       $0.00\n",
       "1        A    1    4      $0.00   $7,681.00   $2,798.00   $7,450.00\n",
       "2        A    1    5      $0.00   $6,502.19   $2,630.00       $0.00\n",
       "3        A    1    6      $0.00  $10,209.00       $0.00       $0.00\n",
       "4        A    1    7      $0.00       $0.00       $0.00   $1,506.10\n",
       "..     ...  ...  ...        ...         ...         ...         ...\n",
       "348      A   12   27  $2,000.00  $11,349.00   $5,581.00     $310.00\n",
       "349      A   12   28      $0.00  $38,000.00   $9,987.13   $6,302.74\n",
       "350      A   12   29  $8,699.00   $2,902.00       $0.00     $292.00\n",
       "351      A   12   30      $0.00     $817.00  $14,709.00   $1,721.54\n",
       "352      A   12   31  $5,000.00   $1,281.00   $1,500.00  $28,847.80\n",
       "\n",
       "[353 rows x 7 columns]"
      ],
      "text/html": "<div>\n<style scoped>\n    .dataframe tbody tr th:only-of-type {\n        vertical-align: middle;\n    }\n\n    .dataframe tbody tr th {\n        vertical-align: top;\n    }\n\n    .dataframe thead th {\n        text-align: right;\n    }\n</style>\n<table border=\"1\" class=\"dataframe\">\n  <thead>\n    <tr style=\"text-align: right;\">\n      <th></th>\n      <th>BUCKET</th>\n      <th>MES</th>\n      <th>DAY</th>\n      <th>PAGO 2017</th>\n      <th>PAGO 2018</th>\n      <th>PAGO 2019</th>\n      <th>PAGO 2020</th>\n    </tr>\n  </thead>\n  <tbody>\n    <tr>\n      <th>0</th>\n      <td>A</td>\n      <td>1</td>\n      <td>3</td>\n      <td>$0.00</td>\n      <td>$9,469.00</td>\n      <td>$0.00</td>\n      <td>$0.00</td>\n    </tr>\n    <tr>\n      <th>1</th>\n      <td>A</td>\n      <td>1</td>\n      <td>4</td>\n      <td>$0.00</td>\n      <td>$7,681.00</td>\n      <td>$2,798.00</td>\n      <td>$7,450.00</td>\n    </tr>\n    <tr>\n      <th>2</th>\n      <td>A</td>\n      <td>1</td>\n      <td>5</td>\n      <td>$0.00</td>\n      <td>$6,502.19</td>\n      <td>$2,630.00</td>\n      <td>$0.00</td>\n    </tr>\n    <tr>\n      <th>3</th>\n      <td>A</td>\n      <td>1</td>\n      <td>6</td>\n      <td>$0.00</td>\n      <td>$10,209.00</td>\n      <td>$0.00</td>\n      <td>$0.00</td>\n    </tr>\n    <tr>\n      <th>4</th>\n      <td>A</td>\n      <td>1</td>\n      <td>7</td>\n      <td>$0.00</td>\n      <td>$0.00</td>\n      <td>$0.00</td>\n      <td>$1,506.10</td>\n    </tr>\n    <tr>\n      <th>...</th>\n      <td>...</td>\n      <td>...</td>\n      <td>...</td>\n      <td>...</td>\n      <td>...</td>\n      <td>...</td>\n      <td>...</td>\n    </tr>\n    <tr>\n      <th>348</th>\n      <td>A</td>\n      <td>12</td>\n      <td>27</td>\n      <td>$2,000.00</td>\n      <td>$11,349.00</td>\n      <td>$5,581.00</td>\n      <td>$310.00</td>\n    </tr>\n    <tr>\n      <th>349</th>\n      <td>A</td>\n      <td>12</td>\n      <td>28</td>\n      <td>$0.00</td>\n      <td>$38,000.00</td>\n      <td>$9,987.13</td>\n      <td>$6,302.74</td>\n    </tr>\n    <tr>\n      <th>350</th>\n      <td>A</td>\n      <td>12</td>\n      <td>29</td>\n      <td>$8,699.00</td>\n      <td>$2,902.00</td>\n      <td>$0.00</td>\n      <td>$292.00</td>\n    </tr>\n    <tr>\n      <th>351</th>\n      <td>A</td>\n      <td>12</td>\n      <td>30</td>\n      <td>$0.00</td>\n      <td>$817.00</td>\n      <td>$14,709.00</td>\n      <td>$1,721.54</td>\n    </tr>\n    <tr>\n      <th>352</th>\n      <td>A</td>\n      <td>12</td>\n      <td>31</td>\n      <td>$5,000.00</td>\n      <td>$1,281.00</td>\n      <td>$1,500.00</td>\n      <td>$28,847.80</td>\n    </tr>\n  </tbody>\n</table>\n<p>353 rows × 7 columns</p>\n</div>"
     },
     "metadata": {},
     "execution_count": 15
    }
   ],
   "source": [
    "#Para bucket A\n",
    "pagos_bucket_a = pagos_extra.loc[pagos_extra['BUCKET']=='A']\n",
    "pivot_bucket_a = pd.pivot_table(pagos_bucket_a,index=['BUCKET','MONTH','DAY'],columns=['YEAR'],values=['PAGO'],aggfunc=['sum'])\n",
    "pivot_bucket_a = pd.DataFrame(pivot_bucket_a.to_records())\n",
    "pivot_bucket_a.columns = ['BUCKET','MES','DAY','PAGO 2017','PAGO 2018','PAGO 2019','PAGO 2020']\n",
    "pivot_bucket_a.fillna(0,inplace=True)\n",
    "pivot_bucket_a['PAGO 2017'] = ['${:,.2f}'.format(x) for x in pivot_bucket_a['PAGO 2017']]\n",
    "pivot_bucket_a['PAGO 2018'] = ['${:,.2f}'.format(x) for x in pivot_bucket_a['PAGO 2018']]\n",
    "pivot_bucket_a['PAGO 2019'] = ['${:,.2f}'.format(x) for x in pivot_bucket_a['PAGO 2019']]\n",
    "pivot_bucket_a['PAGO 2020'] = ['${:,.2f}'.format(x) for x in pivot_bucket_a['PAGO 2020']]\n",
    "pivot_bucket_a"
   ]
  },
  {
   "cell_type": "code",
   "execution_count": 16,
   "metadata": {},
   "outputs": [
    {
     "output_type": "execute_result",
     "data": {
      "text/plain": [
       "    BUCKET  MES  DAY  PAGO 2017  PAGO 2018  PAGO 2019  PAGO 2020\n",
       "0        B    1    3      $0.00  $4,889.00  $2,000.00      $0.00\n",
       "1        B    1    4      $0.00    $200.00  $7,948.00      $0.00\n",
       "2        B    1    5      $0.00  $1,000.00    $700.00      $0.00\n",
       "3        B    1    8      $0.00      $0.00  $2,800.00      $0.00\n",
       "4        B    1   10      $0.00  $2,750.00      $0.00  $2,500.00\n",
       "..     ...  ...  ...        ...        ...        ...        ...\n",
       "320      B   12   24      $0.00  $7,805.78  $1,600.00  $7,156.00\n",
       "321      B   12   27      $0.00    $500.00      $0.00      $0.00\n",
       "322      B   12   28      $0.00  $3,065.00      $0.00      $0.00\n",
       "323      B   12   29  $2,000.00      $0.00      $0.00      $0.00\n",
       "324      B   12   30  $3,694.00      $0.00      $0.00      $0.00\n",
       "\n",
       "[325 rows x 7 columns]"
      ],
      "text/html": "<div>\n<style scoped>\n    .dataframe tbody tr th:only-of-type {\n        vertical-align: middle;\n    }\n\n    .dataframe tbody tr th {\n        vertical-align: top;\n    }\n\n    .dataframe thead th {\n        text-align: right;\n    }\n</style>\n<table border=\"1\" class=\"dataframe\">\n  <thead>\n    <tr style=\"text-align: right;\">\n      <th></th>\n      <th>BUCKET</th>\n      <th>MES</th>\n      <th>DAY</th>\n      <th>PAGO 2017</th>\n      <th>PAGO 2018</th>\n      <th>PAGO 2019</th>\n      <th>PAGO 2020</th>\n    </tr>\n  </thead>\n  <tbody>\n    <tr>\n      <th>0</th>\n      <td>B</td>\n      <td>1</td>\n      <td>3</td>\n      <td>$0.00</td>\n      <td>$4,889.00</td>\n      <td>$2,000.00</td>\n      <td>$0.00</td>\n    </tr>\n    <tr>\n      <th>1</th>\n      <td>B</td>\n      <td>1</td>\n      <td>4</td>\n      <td>$0.00</td>\n      <td>$200.00</td>\n      <td>$7,948.00</td>\n      <td>$0.00</td>\n    </tr>\n    <tr>\n      <th>2</th>\n      <td>B</td>\n      <td>1</td>\n      <td>5</td>\n      <td>$0.00</td>\n      <td>$1,000.00</td>\n      <td>$700.00</td>\n      <td>$0.00</td>\n    </tr>\n    <tr>\n      <th>3</th>\n      <td>B</td>\n      <td>1</td>\n      <td>8</td>\n      <td>$0.00</td>\n      <td>$0.00</td>\n      <td>$2,800.00</td>\n      <td>$0.00</td>\n    </tr>\n    <tr>\n      <th>4</th>\n      <td>B</td>\n      <td>1</td>\n      <td>10</td>\n      <td>$0.00</td>\n      <td>$2,750.00</td>\n      <td>$0.00</td>\n      <td>$2,500.00</td>\n    </tr>\n    <tr>\n      <th>...</th>\n      <td>...</td>\n      <td>...</td>\n      <td>...</td>\n      <td>...</td>\n      <td>...</td>\n      <td>...</td>\n      <td>...</td>\n    </tr>\n    <tr>\n      <th>320</th>\n      <td>B</td>\n      <td>12</td>\n      <td>24</td>\n      <td>$0.00</td>\n      <td>$7,805.78</td>\n      <td>$1,600.00</td>\n      <td>$7,156.00</td>\n    </tr>\n    <tr>\n      <th>321</th>\n      <td>B</td>\n      <td>12</td>\n      <td>27</td>\n      <td>$0.00</td>\n      <td>$500.00</td>\n      <td>$0.00</td>\n      <td>$0.00</td>\n    </tr>\n    <tr>\n      <th>322</th>\n      <td>B</td>\n      <td>12</td>\n      <td>28</td>\n      <td>$0.00</td>\n      <td>$3,065.00</td>\n      <td>$0.00</td>\n      <td>$0.00</td>\n    </tr>\n    <tr>\n      <th>323</th>\n      <td>B</td>\n      <td>12</td>\n      <td>29</td>\n      <td>$2,000.00</td>\n      <td>$0.00</td>\n      <td>$0.00</td>\n      <td>$0.00</td>\n    </tr>\n    <tr>\n      <th>324</th>\n      <td>B</td>\n      <td>12</td>\n      <td>30</td>\n      <td>$3,694.00</td>\n      <td>$0.00</td>\n      <td>$0.00</td>\n      <td>$0.00</td>\n    </tr>\n  </tbody>\n</table>\n<p>325 rows × 7 columns</p>\n</div>"
     },
     "metadata": {},
     "execution_count": 16
    }
   ],
   "source": [
    "#Para bucket B\n",
    "pagos_bucket_b = pagos_extra.loc[pagos_extra['BUCKET']=='B']\n",
    "pivot_bucket_b = pd.pivot_table(pagos_bucket_b,index=['BUCKET','MONTH','DAY'],columns=['YEAR'],values=['PAGO'],aggfunc=['sum'])\n",
    "pivot_bucket_b = pd.DataFrame(pivot_bucket_b.to_records())\n",
    "# pivot_bucket_b = pivot_bucket_b.iloc[:,[0,1,2,4,5,6,7]]\n",
    "pivot_bucket_b.columns = ['BUCKET','MES','DAY','PAGO 2017','PAGO 2018','PAGO 2019','PAGO 2020']\n",
    "pivot_bucket_b.fillna(0,inplace=True)\n",
    "pivot_bucket_b['PAGO 2017'] = ['${:,.2f}'.format(x) for x in pivot_bucket_b['PAGO 2017']]\n",
    "pivot_bucket_b['PAGO 2018'] = ['${:,.2f}'.format(x) for x in pivot_bucket_b['PAGO 2018']]\n",
    "pivot_bucket_b['PAGO 2019'] = ['${:,.2f}'.format(x) for x in pivot_bucket_b['PAGO 2019']]\n",
    "pivot_bucket_b['PAGO 2020'] = ['${:,.2f}'.format(x) for x in pivot_bucket_b['PAGO 2020']]\n",
    "pivot_bucket_b"
   ]
  },
  {
   "cell_type": "code",
   "execution_count": 17,
   "metadata": {},
   "outputs": [
    {
     "output_type": "execute_result",
     "data": {
      "text/plain": [
       "    BUCKET  MES  DAY   PAGO 2017   PAGO 2018   PAGO 2019   PAGO 2020\n",
       "0       C1    1    1       $0.00   $3,072.00   $5,586.00     $300.00\n",
       "1       C1    1    2       $0.00  $48,648.00  $22,736.00   $7,983.00\n",
       "2       C1    1    3       $0.00  $15,951.00  $20,365.00  $13,715.00\n",
       "3       C1    1    4       $0.00  $16,067.00  $21,373.00   $5,185.00\n",
       "4       C1    1    5       $0.00  $40,247.00  $14,484.00  $15,937.00\n",
       "..     ...  ...  ...         ...         ...         ...         ...\n",
       "361     C1   12   27  $17,768.00   $8,866.00  $12,080.00   $3,475.00\n",
       "362     C1   12   28  $39,580.00  $18,842.00  $14,972.00  $20,905.35\n",
       "363     C1   12   29  $83,120.00  $33,254.00   $8,078.00  $41,254.00\n",
       "364     C1   12   30  $68,724.00  $15,253.00  $46,002.00  $43,796.01\n",
       "365     C1   12   31   $5,829.00  $20,916.00  $30,611.00  $52,872.43\n",
       "\n",
       "[366 rows x 7 columns]"
      ],
      "text/html": "<div>\n<style scoped>\n    .dataframe tbody tr th:only-of-type {\n        vertical-align: middle;\n    }\n\n    .dataframe tbody tr th {\n        vertical-align: top;\n    }\n\n    .dataframe thead th {\n        text-align: right;\n    }\n</style>\n<table border=\"1\" class=\"dataframe\">\n  <thead>\n    <tr style=\"text-align: right;\">\n      <th></th>\n      <th>BUCKET</th>\n      <th>MES</th>\n      <th>DAY</th>\n      <th>PAGO 2017</th>\n      <th>PAGO 2018</th>\n      <th>PAGO 2019</th>\n      <th>PAGO 2020</th>\n    </tr>\n  </thead>\n  <tbody>\n    <tr>\n      <th>0</th>\n      <td>C1</td>\n      <td>1</td>\n      <td>1</td>\n      <td>$0.00</td>\n      <td>$3,072.00</td>\n      <td>$5,586.00</td>\n      <td>$300.00</td>\n    </tr>\n    <tr>\n      <th>1</th>\n      <td>C1</td>\n      <td>1</td>\n      <td>2</td>\n      <td>$0.00</td>\n      <td>$48,648.00</td>\n      <td>$22,736.00</td>\n      <td>$7,983.00</td>\n    </tr>\n    <tr>\n      <th>2</th>\n      <td>C1</td>\n      <td>1</td>\n      <td>3</td>\n      <td>$0.00</td>\n      <td>$15,951.00</td>\n      <td>$20,365.00</td>\n      <td>$13,715.00</td>\n    </tr>\n    <tr>\n      <th>3</th>\n      <td>C1</td>\n      <td>1</td>\n      <td>4</td>\n      <td>$0.00</td>\n      <td>$16,067.00</td>\n      <td>$21,373.00</td>\n      <td>$5,185.00</td>\n    </tr>\n    <tr>\n      <th>4</th>\n      <td>C1</td>\n      <td>1</td>\n      <td>5</td>\n      <td>$0.00</td>\n      <td>$40,247.00</td>\n      <td>$14,484.00</td>\n      <td>$15,937.00</td>\n    </tr>\n    <tr>\n      <th>...</th>\n      <td>...</td>\n      <td>...</td>\n      <td>...</td>\n      <td>...</td>\n      <td>...</td>\n      <td>...</td>\n      <td>...</td>\n    </tr>\n    <tr>\n      <th>361</th>\n      <td>C1</td>\n      <td>12</td>\n      <td>27</td>\n      <td>$17,768.00</td>\n      <td>$8,866.00</td>\n      <td>$12,080.00</td>\n      <td>$3,475.00</td>\n    </tr>\n    <tr>\n      <th>362</th>\n      <td>C1</td>\n      <td>12</td>\n      <td>28</td>\n      <td>$39,580.00</td>\n      <td>$18,842.00</td>\n      <td>$14,972.00</td>\n      <td>$20,905.35</td>\n    </tr>\n    <tr>\n      <th>363</th>\n      <td>C1</td>\n      <td>12</td>\n      <td>29</td>\n      <td>$83,120.00</td>\n      <td>$33,254.00</td>\n      <td>$8,078.00</td>\n      <td>$41,254.00</td>\n    </tr>\n    <tr>\n      <th>364</th>\n      <td>C1</td>\n      <td>12</td>\n      <td>30</td>\n      <td>$68,724.00</td>\n      <td>$15,253.00</td>\n      <td>$46,002.00</td>\n      <td>$43,796.01</td>\n    </tr>\n    <tr>\n      <th>365</th>\n      <td>C1</td>\n      <td>12</td>\n      <td>31</td>\n      <td>$5,829.00</td>\n      <td>$20,916.00</td>\n      <td>$30,611.00</td>\n      <td>$52,872.43</td>\n    </tr>\n  </tbody>\n</table>\n<p>366 rows × 7 columns</p>\n</div>"
     },
     "metadata": {},
     "execution_count": 17
    }
   ],
   "source": [
    "#Para bucket c1\n",
    "pagos_bucket_c1 = pagos_extra.loc[pagos_extra['BUCKET']=='C1']\n",
    "pivot_bucket_c1 = pd.pivot_table(pagos_bucket_c1,index=['BUCKET','MONTH','DAY'],columns=['YEAR'],values=['PAGO'],aggfunc=['sum'])\n",
    "pivot_bucket_c1 = pd.DataFrame(pivot_bucket_c1.to_records())\n",
    "pivot_bucket_c1.columns = ['BUCKET','MES','DAY','PAGO 2017','PAGO 2018','PAGO 2019','PAGO 2020']\n",
    "pivot_bucket_c1.fillna(0,inplace=True)\n",
    "pivot_bucket_c1['PAGO 2017'] = ['${:,.2f}'.format(x) for x in pivot_bucket_c1['PAGO 2017']]\n",
    "pivot_bucket_c1['PAGO 2018'] = ['${:,.2f}'.format(x) for x in pivot_bucket_c1['PAGO 2018']]\n",
    "pivot_bucket_c1['PAGO 2019'] = ['${:,.2f}'.format(x) for x in pivot_bucket_c1['PAGO 2019']]\n",
    "pivot_bucket_c1['PAGO 2020'] = ['${:,.2f}'.format(x) for x in pivot_bucket_c1['PAGO 2020']]\n",
    "pivot_bucket_c1"
   ]
  },
  {
   "cell_type": "code",
   "execution_count": 18,
   "metadata": {},
   "outputs": [
    {
     "output_type": "execute_result",
     "data": {
      "text/plain": [
       "    BUCKET  MES  DAY   PAGO 2017   PAGO 2018   PAGO 2019   PAGO 2020\n",
       "0       C2    1    2       $0.00  $13,785.00  $19,012.00   $2,300.00\n",
       "1       C2    1    3       $0.00  $11,735.00   $4,300.00  $30,450.00\n",
       "2       C2    1    4       $0.00   $6,566.00   $2,877.00   $8,331.59\n",
       "3       C2    1    5       $0.00  $15,517.00  $20,455.00   $1,539.00\n",
       "4       C2    1    6       $0.00  $14,762.00       $0.00  $10,149.00\n",
       "..     ...  ...  ...         ...         ...         ...         ...\n",
       "360     C2   12   27  $30,536.00   $9,511.00   $7,300.00   $8,743.00\n",
       "361     C2   12   28  $23,965.00  $17,592.00   $4,276.00  $25,946.00\n",
       "362     C2   12   29  $52,520.98  $11,463.00   $2,000.00   $8,591.00\n",
       "363     C2   12   30  $61,619.92  $15,286.00  $23,685.00  $58,497.00\n",
       "364     C2   12   31   $4,206.00  $37,221.00  $26,450.00   $6,641.00\n",
       "\n",
       "[365 rows x 7 columns]"
      ],
      "text/html": "<div>\n<style scoped>\n    .dataframe tbody tr th:only-of-type {\n        vertical-align: middle;\n    }\n\n    .dataframe tbody tr th {\n        vertical-align: top;\n    }\n\n    .dataframe thead th {\n        text-align: right;\n    }\n</style>\n<table border=\"1\" class=\"dataframe\">\n  <thead>\n    <tr style=\"text-align: right;\">\n      <th></th>\n      <th>BUCKET</th>\n      <th>MES</th>\n      <th>DAY</th>\n      <th>PAGO 2017</th>\n      <th>PAGO 2018</th>\n      <th>PAGO 2019</th>\n      <th>PAGO 2020</th>\n    </tr>\n  </thead>\n  <tbody>\n    <tr>\n      <th>0</th>\n      <td>C2</td>\n      <td>1</td>\n      <td>2</td>\n      <td>$0.00</td>\n      <td>$13,785.00</td>\n      <td>$19,012.00</td>\n      <td>$2,300.00</td>\n    </tr>\n    <tr>\n      <th>1</th>\n      <td>C2</td>\n      <td>1</td>\n      <td>3</td>\n      <td>$0.00</td>\n      <td>$11,735.00</td>\n      <td>$4,300.00</td>\n      <td>$30,450.00</td>\n    </tr>\n    <tr>\n      <th>2</th>\n      <td>C2</td>\n      <td>1</td>\n      <td>4</td>\n      <td>$0.00</td>\n      <td>$6,566.00</td>\n      <td>$2,877.00</td>\n      <td>$8,331.59</td>\n    </tr>\n    <tr>\n      <th>3</th>\n      <td>C2</td>\n      <td>1</td>\n      <td>5</td>\n      <td>$0.00</td>\n      <td>$15,517.00</td>\n      <td>$20,455.00</td>\n      <td>$1,539.00</td>\n    </tr>\n    <tr>\n      <th>4</th>\n      <td>C2</td>\n      <td>1</td>\n      <td>6</td>\n      <td>$0.00</td>\n      <td>$14,762.00</td>\n      <td>$0.00</td>\n      <td>$10,149.00</td>\n    </tr>\n    <tr>\n      <th>...</th>\n      <td>...</td>\n      <td>...</td>\n      <td>...</td>\n      <td>...</td>\n      <td>...</td>\n      <td>...</td>\n      <td>...</td>\n    </tr>\n    <tr>\n      <th>360</th>\n      <td>C2</td>\n      <td>12</td>\n      <td>27</td>\n      <td>$30,536.00</td>\n      <td>$9,511.00</td>\n      <td>$7,300.00</td>\n      <td>$8,743.00</td>\n    </tr>\n    <tr>\n      <th>361</th>\n      <td>C2</td>\n      <td>12</td>\n      <td>28</td>\n      <td>$23,965.00</td>\n      <td>$17,592.00</td>\n      <td>$4,276.00</td>\n      <td>$25,946.00</td>\n    </tr>\n    <tr>\n      <th>362</th>\n      <td>C2</td>\n      <td>12</td>\n      <td>29</td>\n      <td>$52,520.98</td>\n      <td>$11,463.00</td>\n      <td>$2,000.00</td>\n      <td>$8,591.00</td>\n    </tr>\n    <tr>\n      <th>363</th>\n      <td>C2</td>\n      <td>12</td>\n      <td>30</td>\n      <td>$61,619.92</td>\n      <td>$15,286.00</td>\n      <td>$23,685.00</td>\n      <td>$58,497.00</td>\n    </tr>\n    <tr>\n      <th>364</th>\n      <td>C2</td>\n      <td>12</td>\n      <td>31</td>\n      <td>$4,206.00</td>\n      <td>$37,221.00</td>\n      <td>$26,450.00</td>\n      <td>$6,641.00</td>\n    </tr>\n  </tbody>\n</table>\n<p>365 rows × 7 columns</p>\n</div>"
     },
     "metadata": {},
     "execution_count": 18
    }
   ],
   "source": [
    "#Para bucket c2\n",
    "pagos_bucket_c2 = pagos_extra.loc[pagos_extra['BUCKET']=='C2']\n",
    "pivot_bucket_c2 = pd.pivot_table(pagos_bucket_c2,index=['BUCKET','MONTH','DAY'],columns=['YEAR'],values=['PAGO'],aggfunc=['sum'])\n",
    "pivot_bucket_c2 = pd.DataFrame(pivot_bucket_c2.to_records())\n",
    "pivot_bucket_c2.columns = ['BUCKET','MES','DAY','PAGO 2017','PAGO 2018','PAGO 2019','PAGO 2020']\n",
    "pivot_bucket_c2.fillna(0,inplace=True)\n",
    "pivot_bucket_c2['PAGO 2017'] = ['${:,.2f}'.format(x) for x in pivot_bucket_c2['PAGO 2017']]\n",
    "pivot_bucket_c2['PAGO 2018'] = ['${:,.2f}'.format(x) for x in pivot_bucket_c2['PAGO 2018']]\n",
    "pivot_bucket_c2['PAGO 2019'] = ['${:,.2f}'.format(x) for x in pivot_bucket_c2['PAGO 2019']]\n",
    "pivot_bucket_c2['PAGO 2020'] = ['${:,.2f}'.format(x) for x in pivot_bucket_c2['PAGO 2020']]\n",
    "pivot_bucket_c2"
   ]
  },
  {
   "cell_type": "code",
   "execution_count": 19,
   "metadata": {},
   "outputs": [
    {
     "output_type": "execute_result",
     "data": {
      "text/plain": [
       "    BUCKET  MES  DAY   PAGO 2017   PAGO 2018   PAGO 2019   PAGO 2020\n",
       "0       C3    1    1       $0.00       $0.00   $2,558.00       $0.00\n",
       "1       C3    1    2       $0.00  $17,423.00   $6,513.00   $1,530.00\n",
       "2       C3    1    3       $0.00  $11,602.00  $17,226.00  $13,146.00\n",
       "3       C3    1    4       $0.00   $1,143.00   $2,000.00   $2,614.00\n",
       "4       C3    1    5       $0.00  $13,333.00   $1,500.00       $0.00\n",
       "..     ...  ...  ...         ...         ...         ...         ...\n",
       "361     C3   12   27   $1,982.00  $11,401.91     $877.00   $3,374.00\n",
       "362     C3   12   28  $31,233.00   $5,029.00       $0.00   $5,184.00\n",
       "363     C3   12   29  $26,164.00  $16,200.00       $0.00   $4,595.00\n",
       "364     C3   12   30  $12,940.00  $11,911.00  $11,206.00   $3,420.00\n",
       "365     C3   12   31       $0.00   $9,588.00   $8,547.00   $3,502.00\n",
       "\n",
       "[366 rows x 7 columns]"
      ],
      "text/html": "<div>\n<style scoped>\n    .dataframe tbody tr th:only-of-type {\n        vertical-align: middle;\n    }\n\n    .dataframe tbody tr th {\n        vertical-align: top;\n    }\n\n    .dataframe thead th {\n        text-align: right;\n    }\n</style>\n<table border=\"1\" class=\"dataframe\">\n  <thead>\n    <tr style=\"text-align: right;\">\n      <th></th>\n      <th>BUCKET</th>\n      <th>MES</th>\n      <th>DAY</th>\n      <th>PAGO 2017</th>\n      <th>PAGO 2018</th>\n      <th>PAGO 2019</th>\n      <th>PAGO 2020</th>\n    </tr>\n  </thead>\n  <tbody>\n    <tr>\n      <th>0</th>\n      <td>C3</td>\n      <td>1</td>\n      <td>1</td>\n      <td>$0.00</td>\n      <td>$0.00</td>\n      <td>$2,558.00</td>\n      <td>$0.00</td>\n    </tr>\n    <tr>\n      <th>1</th>\n      <td>C3</td>\n      <td>1</td>\n      <td>2</td>\n      <td>$0.00</td>\n      <td>$17,423.00</td>\n      <td>$6,513.00</td>\n      <td>$1,530.00</td>\n    </tr>\n    <tr>\n      <th>2</th>\n      <td>C3</td>\n      <td>1</td>\n      <td>3</td>\n      <td>$0.00</td>\n      <td>$11,602.00</td>\n      <td>$17,226.00</td>\n      <td>$13,146.00</td>\n    </tr>\n    <tr>\n      <th>3</th>\n      <td>C3</td>\n      <td>1</td>\n      <td>4</td>\n      <td>$0.00</td>\n      <td>$1,143.00</td>\n      <td>$2,000.00</td>\n      <td>$2,614.00</td>\n    </tr>\n    <tr>\n      <th>4</th>\n      <td>C3</td>\n      <td>1</td>\n      <td>5</td>\n      <td>$0.00</td>\n      <td>$13,333.00</td>\n      <td>$1,500.00</td>\n      <td>$0.00</td>\n    </tr>\n    <tr>\n      <th>...</th>\n      <td>...</td>\n      <td>...</td>\n      <td>...</td>\n      <td>...</td>\n      <td>...</td>\n      <td>...</td>\n      <td>...</td>\n    </tr>\n    <tr>\n      <th>361</th>\n      <td>C3</td>\n      <td>12</td>\n      <td>27</td>\n      <td>$1,982.00</td>\n      <td>$11,401.91</td>\n      <td>$877.00</td>\n      <td>$3,374.00</td>\n    </tr>\n    <tr>\n      <th>362</th>\n      <td>C3</td>\n      <td>12</td>\n      <td>28</td>\n      <td>$31,233.00</td>\n      <td>$5,029.00</td>\n      <td>$0.00</td>\n      <td>$5,184.00</td>\n    </tr>\n    <tr>\n      <th>363</th>\n      <td>C3</td>\n      <td>12</td>\n      <td>29</td>\n      <td>$26,164.00</td>\n      <td>$16,200.00</td>\n      <td>$0.00</td>\n      <td>$4,595.00</td>\n    </tr>\n    <tr>\n      <th>364</th>\n      <td>C3</td>\n      <td>12</td>\n      <td>30</td>\n      <td>$12,940.00</td>\n      <td>$11,911.00</td>\n      <td>$11,206.00</td>\n      <td>$3,420.00</td>\n    </tr>\n    <tr>\n      <th>365</th>\n      <td>C3</td>\n      <td>12</td>\n      <td>31</td>\n      <td>$0.00</td>\n      <td>$9,588.00</td>\n      <td>$8,547.00</td>\n      <td>$3,502.00</td>\n    </tr>\n  </tbody>\n</table>\n<p>366 rows × 7 columns</p>\n</div>"
     },
     "metadata": {},
     "execution_count": 19
    }
   ],
   "source": [
    "#Para bucket c3\n",
    "pagos_bucket_c3 = pagos_extra.loc[pagos_extra['BUCKET']=='C3']\n",
    "pivot_bucket_c3 = pd.pivot_table(pagos_bucket_c3,index=['BUCKET','MONTH','DAY'],columns=['YEAR'],values=['PAGO'],aggfunc=['sum'])\n",
    "pivot_bucket_c3 = pd.DataFrame(pivot_bucket_c3.to_records())\n",
    "pivot_bucket_c3.columns = ['BUCKET','MES','DAY','PAGO 2017','PAGO 2018','PAGO 2019','PAGO 2020']\n",
    "pivot_bucket_c3.fillna(0,inplace=True)\n",
    "pivot_bucket_c3['PAGO 2017'] = ['${:,.2f}'.format(x) for x in pivot_bucket_c3['PAGO 2017']]\n",
    "pivot_bucket_c3['PAGO 2018'] = ['${:,.2f}'.format(x) for x in pivot_bucket_c3['PAGO 2018']]\n",
    "pivot_bucket_c3['PAGO 2019'] = ['${:,.2f}'.format(x) for x in pivot_bucket_c3['PAGO 2019']]\n",
    "pivot_bucket_c3['PAGO 2020'] = ['${:,.2f}'.format(x) for x in pivot_bucket_c3['PAGO 2020']]\n",
    "pivot_bucket_c3"
   ]
  },
  {
   "cell_type": "code",
   "execution_count": 20,
   "metadata": {},
   "outputs": [
    {
     "output_type": "execute_result",
     "data": {
      "text/plain": [
       "    BUCKET  MES  DAY   PAGO 2017   PAGO 2018  PAGO 2019  PAGO 2020\n",
       "0       C4    1    1       $0.00       $0.00      $0.00    $529.00\n",
       "1       C4    1    2       $0.00   $3,016.00  $1,545.00  $6,475.00\n",
       "2       C4    1    3       $0.00   $1,320.00  $1,610.00  $2,635.00\n",
       "3       C4    1    4       $0.00   $4,755.00      $0.00  $1,000.00\n",
       "4       C4    1    5       $0.00   $5,237.00  $1,000.00      $0.00\n",
       "..     ...  ...  ...         ...         ...        ...        ...\n",
       "356     C4   12   27   $1,548.00   $4,010.00  $4,948.00  $1,179.00\n",
       "357     C4   12   28  $17,264.00  $12,675.00      $0.00  $4,363.00\n",
       "358     C4   12   29  $21,886.00   $7,852.00  $5,339.00  $1,418.00\n",
       "359     C4   12   30  $12,982.00   $7,951.00  $4,090.00  $1,179.00\n",
       "360     C4   12   31       $0.00   $7,624.00  $1,572.00  $8,316.83\n",
       "\n",
       "[361 rows x 7 columns]"
      ],
      "text/html": "<div>\n<style scoped>\n    .dataframe tbody tr th:only-of-type {\n        vertical-align: middle;\n    }\n\n    .dataframe tbody tr th {\n        vertical-align: top;\n    }\n\n    .dataframe thead th {\n        text-align: right;\n    }\n</style>\n<table border=\"1\" class=\"dataframe\">\n  <thead>\n    <tr style=\"text-align: right;\">\n      <th></th>\n      <th>BUCKET</th>\n      <th>MES</th>\n      <th>DAY</th>\n      <th>PAGO 2017</th>\n      <th>PAGO 2018</th>\n      <th>PAGO 2019</th>\n      <th>PAGO 2020</th>\n    </tr>\n  </thead>\n  <tbody>\n    <tr>\n      <th>0</th>\n      <td>C4</td>\n      <td>1</td>\n      <td>1</td>\n      <td>$0.00</td>\n      <td>$0.00</td>\n      <td>$0.00</td>\n      <td>$529.00</td>\n    </tr>\n    <tr>\n      <th>1</th>\n      <td>C4</td>\n      <td>1</td>\n      <td>2</td>\n      <td>$0.00</td>\n      <td>$3,016.00</td>\n      <td>$1,545.00</td>\n      <td>$6,475.00</td>\n    </tr>\n    <tr>\n      <th>2</th>\n      <td>C4</td>\n      <td>1</td>\n      <td>3</td>\n      <td>$0.00</td>\n      <td>$1,320.00</td>\n      <td>$1,610.00</td>\n      <td>$2,635.00</td>\n    </tr>\n    <tr>\n      <th>3</th>\n      <td>C4</td>\n      <td>1</td>\n      <td>4</td>\n      <td>$0.00</td>\n      <td>$4,755.00</td>\n      <td>$0.00</td>\n      <td>$1,000.00</td>\n    </tr>\n    <tr>\n      <th>4</th>\n      <td>C4</td>\n      <td>1</td>\n      <td>5</td>\n      <td>$0.00</td>\n      <td>$5,237.00</td>\n      <td>$1,000.00</td>\n      <td>$0.00</td>\n    </tr>\n    <tr>\n      <th>...</th>\n      <td>...</td>\n      <td>...</td>\n      <td>...</td>\n      <td>...</td>\n      <td>...</td>\n      <td>...</td>\n      <td>...</td>\n    </tr>\n    <tr>\n      <th>356</th>\n      <td>C4</td>\n      <td>12</td>\n      <td>27</td>\n      <td>$1,548.00</td>\n      <td>$4,010.00</td>\n      <td>$4,948.00</td>\n      <td>$1,179.00</td>\n    </tr>\n    <tr>\n      <th>357</th>\n      <td>C4</td>\n      <td>12</td>\n      <td>28</td>\n      <td>$17,264.00</td>\n      <td>$12,675.00</td>\n      <td>$0.00</td>\n      <td>$4,363.00</td>\n    </tr>\n    <tr>\n      <th>358</th>\n      <td>C4</td>\n      <td>12</td>\n      <td>29</td>\n      <td>$21,886.00</td>\n      <td>$7,852.00</td>\n      <td>$5,339.00</td>\n      <td>$1,418.00</td>\n    </tr>\n    <tr>\n      <th>359</th>\n      <td>C4</td>\n      <td>12</td>\n      <td>30</td>\n      <td>$12,982.00</td>\n      <td>$7,951.00</td>\n      <td>$4,090.00</td>\n      <td>$1,179.00</td>\n    </tr>\n    <tr>\n      <th>360</th>\n      <td>C4</td>\n      <td>12</td>\n      <td>31</td>\n      <td>$0.00</td>\n      <td>$7,624.00</td>\n      <td>$1,572.00</td>\n      <td>$8,316.83</td>\n    </tr>\n  </tbody>\n</table>\n<p>361 rows × 7 columns</p>\n</div>"
     },
     "metadata": {},
     "execution_count": 20
    }
   ],
   "source": [
    "#Para bucket c4\n",
    "pagos_bucket_c4 = pagos_extra.loc[pagos_extra['BUCKET']=='C4']\n",
    "pivot_bucket_c4 = pd.pivot_table(pagos_bucket_c4,index=['BUCKET','MONTH','DAY'],columns=['YEAR'],values=['PAGO'],aggfunc=['sum'])\n",
    "pivot_bucket_c4 = pd.DataFrame(pivot_bucket_c4.to_records())\n",
    "pivot_bucket_c4.columns = ['BUCKET','MES','DAY','PAGO 2017','PAGO 2018','PAGO 2019','PAGO 2020']\n",
    "pivot_bucket_c4.fillna(0,inplace=True)\n",
    "pivot_bucket_c4['PAGO 2017'] = ['${:,.2f}'.format(x) for x in pivot_bucket_c4['PAGO 2017']]\n",
    "pivot_bucket_c4['PAGO 2018'] = ['${:,.2f}'.format(x) for x in pivot_bucket_c4['PAGO 2018']]\n",
    "pivot_bucket_c4['PAGO 2019'] = ['${:,.2f}'.format(x) for x in pivot_bucket_c4['PAGO 2019']]\n",
    "pivot_bucket_c4['PAGO 2020'] = ['${:,.2f}'.format(x) for x in pivot_bucket_c4['PAGO 2020']]\n",
    "pivot_bucket_c4"
   ]
  },
  {
   "source": [
    "# Pagos Liverpool"
   ],
   "cell_type": "markdown",
   "metadata": {}
  },
  {
   "cell_type": "code",
   "execution_count": 163,
   "metadata": {},
   "outputs": [
    {
     "output_type": "execute_result",
     "data": {
      "text/plain": [
       "                Cuenta Fecha pago Fecha Posteo    monto         Descripcion  \\\n",
       "0  0004178490000277468 2020-01-02   02/01/2020    500.0    5200000000008917   \n",
       "1  0000013000020401514 2020-01-02   02/01/2020   3376.0  005200000000007275   \n",
       "2  0000033000008868151 2020-01-02   02/01/2020  14000.0  005200000000005261   \n",
       "\n",
       "  Division  Month  Year  Day  \n",
       "0       N2      1  2020    2  \n",
       "1       N2      1  2020    2  \n",
       "2       N2      1  2020    2  "
      ],
      "text/html": "<div>\n<style scoped>\n    .dataframe tbody tr th:only-of-type {\n        vertical-align: middle;\n    }\n\n    .dataframe tbody tr th {\n        vertical-align: top;\n    }\n\n    .dataframe thead th {\n        text-align: right;\n    }\n</style>\n<table border=\"1\" class=\"dataframe\">\n  <thead>\n    <tr style=\"text-align: right;\">\n      <th></th>\n      <th>Cuenta</th>\n      <th>Fecha pago</th>\n      <th>Fecha Posteo</th>\n      <th>monto</th>\n      <th>Descripcion</th>\n      <th>Division</th>\n      <th>Month</th>\n      <th>Year</th>\n      <th>Day</th>\n    </tr>\n  </thead>\n  <tbody>\n    <tr>\n      <th>0</th>\n      <td>0004178490000277468</td>\n      <td>2020-01-02</td>\n      <td>02/01/2020</td>\n      <td>500.0</td>\n      <td>5200000000008917</td>\n      <td>N2</td>\n      <td>1</td>\n      <td>2020</td>\n      <td>2</td>\n    </tr>\n    <tr>\n      <th>1</th>\n      <td>0000013000020401514</td>\n      <td>2020-01-02</td>\n      <td>02/01/2020</td>\n      <td>3376.0</td>\n      <td>005200000000007275</td>\n      <td>N2</td>\n      <td>1</td>\n      <td>2020</td>\n      <td>2</td>\n    </tr>\n    <tr>\n      <th>2</th>\n      <td>0000033000008868151</td>\n      <td>2020-01-02</td>\n      <td>02/01/2020</td>\n      <td>14000.0</td>\n      <td>005200000000005261</td>\n      <td>N2</td>\n      <td>1</td>\n      <td>2020</td>\n      <td>2</td>\n    </tr>\n  </tbody>\n</table>\n</div>"
     },
     "metadata": {},
     "execution_count": 163
    }
   ],
   "source": [
    "pagos_liver['Fecha pago'] = pd.to_datetime(pagos_liver['Fecha pago'],dayfirst=True)\n",
    "pagos_liver['Month'] = pagos_liver['Fecha pago'].dt.month\n",
    "pagos_liver['Year'] = pagos_liver['Fecha pago'].dt.year\n",
    "pagos_liver['Day'] = pagos_liver['Fecha pago'].dt.day\n",
    "pagos_liver.head(3)"
   ]
  },
  {
   "cell_type": "code",
   "execution_count": 166,
   "metadata": {},
   "outputs": [
    {
     "output_type": "execute_result",
     "data": {
      "text/plain": [
       "   DIVISION  MES  DIA   PAGO 2020\n",
       "0       COF    6   18   $5,900.00\n",
       "1       COF    7    1   $1,600.00\n",
       "2       COF    7    2  $11,600.00\n",
       "3       COF    7    6     $500.00\n",
       "4       COF    7    7   $4,591.00\n",
       "..      ...  ...  ...         ...\n",
       "95      COF   10   26   $2,868.50\n",
       "96      COF   10   27  $10,594.00\n",
       "97      COF   10   28  $33,445.77\n",
       "98      COF   10   29  $24,791.00\n",
       "99      COF   10   30  $38,741.00\n",
       "\n",
       "[100 rows x 4 columns]"
      ],
      "text/html": "<div>\n<style scoped>\n    .dataframe tbody tr th:only-of-type {\n        vertical-align: middle;\n    }\n\n    .dataframe tbody tr th {\n        vertical-align: top;\n    }\n\n    .dataframe thead th {\n        text-align: right;\n    }\n</style>\n<table border=\"1\" class=\"dataframe\">\n  <thead>\n    <tr style=\"text-align: right;\">\n      <th></th>\n      <th>DIVISION</th>\n      <th>MES</th>\n      <th>DIA</th>\n      <th>PAGO 2020</th>\n    </tr>\n  </thead>\n  <tbody>\n    <tr>\n      <th>0</th>\n      <td>COF</td>\n      <td>6</td>\n      <td>18</td>\n      <td>$5,900.00</td>\n    </tr>\n    <tr>\n      <th>1</th>\n      <td>COF</td>\n      <td>7</td>\n      <td>1</td>\n      <td>$1,600.00</td>\n    </tr>\n    <tr>\n      <th>2</th>\n      <td>COF</td>\n      <td>7</td>\n      <td>2</td>\n      <td>$11,600.00</td>\n    </tr>\n    <tr>\n      <th>3</th>\n      <td>COF</td>\n      <td>7</td>\n      <td>6</td>\n      <td>$500.00</td>\n    </tr>\n    <tr>\n      <th>4</th>\n      <td>COF</td>\n      <td>7</td>\n      <td>7</td>\n      <td>$4,591.00</td>\n    </tr>\n    <tr>\n      <th>...</th>\n      <td>...</td>\n      <td>...</td>\n      <td>...</td>\n      <td>...</td>\n    </tr>\n    <tr>\n      <th>95</th>\n      <td>COF</td>\n      <td>10</td>\n      <td>26</td>\n      <td>$2,868.50</td>\n    </tr>\n    <tr>\n      <th>96</th>\n      <td>COF</td>\n      <td>10</td>\n      <td>27</td>\n      <td>$10,594.00</td>\n    </tr>\n    <tr>\n      <th>97</th>\n      <td>COF</td>\n      <td>10</td>\n      <td>28</td>\n      <td>$33,445.77</td>\n    </tr>\n    <tr>\n      <th>98</th>\n      <td>COF</td>\n      <td>10</td>\n      <td>29</td>\n      <td>$24,791.00</td>\n    </tr>\n    <tr>\n      <th>99</th>\n      <td>COF</td>\n      <td>10</td>\n      <td>30</td>\n      <td>$38,741.00</td>\n    </tr>\n  </tbody>\n</table>\n<p>100 rows × 4 columns</p>\n</div>"
     },
     "metadata": {},
     "execution_count": 166
    }
   ],
   "source": [
    "#Para COF\n",
    "pagos_cof = pagos_liver.loc[pagos_liver['Division']=='COF']\n",
    "pivot_cof = pd.pivot_table(pagos_cof,index=['Division','Month','Day'],columns=['Year'],values=['monto'],aggfunc=['sum'])\n",
    "pivot_cof = pd.DataFrame(pivot_cof.to_records())\n",
    "pivot_cof.columns = ['DIVISION','MES','DIA','PAGO 2020']\n",
    "pivot_cof.fillna(0,inplace=True)\n",
    "#pivot_cof['PAGO 2017'] = ['${:,.2f}'.format(x) for x in pivot_cof['PAGO 2017']]\n",
    "#pivot_cof['PAGO 2018'] = ['${:,.2f}'.format(x) for x in pivot_cof['PAGO 2018']]\n",
    "#pivot_cof['PAGO 2019'] = ['${:,.2f}'.format(x) for x in pivot_cof['PAGO 2019']]\n",
    "pivot_cof['PAGO 2020'] = ['${:,.2f}'.format(x) for x in pivot_cof['PAGO 2020']]\n",
    "pivot_cof"
   ]
  },
  {
   "cell_type": "code",
   "execution_count": 170,
   "metadata": {},
   "outputs": [
    {
     "output_type": "execute_result",
     "data": {
      "text/plain": [
       "    DIVISION  MES  DIA    PAGO 2020\n",
       "0         N2    1    2   $24,796.00\n",
       "1         N2    1    3   $24,399.00\n",
       "2         N2    1    4   $11,383.00\n",
       "3         N2    1    6    $2,000.00\n",
       "4         N2    1    7   $10,283.00\n",
       "..       ...  ...  ...          ...\n",
       "287       N2   10   26   $21,513.50\n",
       "288       N2   10   27   $76,280.00\n",
       "289       N2   10   28   $61,644.00\n",
       "290       N2   10   29   $54,036.00\n",
       "291       N2   10   30  $135,036.00\n",
       "\n",
       "[292 rows x 4 columns]"
      ],
      "text/html": "<div>\n<style scoped>\n    .dataframe tbody tr th:only-of-type {\n        vertical-align: middle;\n    }\n\n    .dataframe tbody tr th {\n        vertical-align: top;\n    }\n\n    .dataframe thead th {\n        text-align: right;\n    }\n</style>\n<table border=\"1\" class=\"dataframe\">\n  <thead>\n    <tr style=\"text-align: right;\">\n      <th></th>\n      <th>DIVISION</th>\n      <th>MES</th>\n      <th>DIA</th>\n      <th>PAGO 2020</th>\n    </tr>\n  </thead>\n  <tbody>\n    <tr>\n      <th>0</th>\n      <td>N2</td>\n      <td>1</td>\n      <td>2</td>\n      <td>$24,796.00</td>\n    </tr>\n    <tr>\n      <th>1</th>\n      <td>N2</td>\n      <td>1</td>\n      <td>3</td>\n      <td>$24,399.00</td>\n    </tr>\n    <tr>\n      <th>2</th>\n      <td>N2</td>\n      <td>1</td>\n      <td>4</td>\n      <td>$11,383.00</td>\n    </tr>\n    <tr>\n      <th>3</th>\n      <td>N2</td>\n      <td>1</td>\n      <td>6</td>\n      <td>$2,000.00</td>\n    </tr>\n    <tr>\n      <th>4</th>\n      <td>N2</td>\n      <td>1</td>\n      <td>7</td>\n      <td>$10,283.00</td>\n    </tr>\n    <tr>\n      <th>...</th>\n      <td>...</td>\n      <td>...</td>\n      <td>...</td>\n      <td>...</td>\n    </tr>\n    <tr>\n      <th>287</th>\n      <td>N2</td>\n      <td>10</td>\n      <td>26</td>\n      <td>$21,513.50</td>\n    </tr>\n    <tr>\n      <th>288</th>\n      <td>N2</td>\n      <td>10</td>\n      <td>27</td>\n      <td>$76,280.00</td>\n    </tr>\n    <tr>\n      <th>289</th>\n      <td>N2</td>\n      <td>10</td>\n      <td>28</td>\n      <td>$61,644.00</td>\n    </tr>\n    <tr>\n      <th>290</th>\n      <td>N2</td>\n      <td>10</td>\n      <td>29</td>\n      <td>$54,036.00</td>\n    </tr>\n    <tr>\n      <th>291</th>\n      <td>N2</td>\n      <td>10</td>\n      <td>30</td>\n      <td>$135,036.00</td>\n    </tr>\n  </tbody>\n</table>\n<p>292 rows × 4 columns</p>\n</div>"
     },
     "metadata": {},
     "execution_count": 170
    }
   ],
   "source": [
    "#Para pren N2\n",
    "pagos_n2 = pagos_liver.loc[pagos_liver['Division']=='N2']\n",
    "pivot_n2 = pd.pivot_table(pagos_n2,index=['Division','Month','Day'],columns=['Year'],values=['monto'],aggfunc=['sum'])\n",
    "pivot_n2 = pd.DataFrame(pivot_n2.to_records())\n",
    "pivot_n2.columns = ['DIVISION','MES','DIA','PAGO 2020']\n",
    "pivot_n2.fillna(0,inplace=True)\n",
    "#pivot_n2['PAGO 2017'] = ['${:,.2f}'.format(x) for x in pivot_n2['PAGO 2017']]\n",
    "#pivot_n2['PAGO 2018'] = ['${:,.2f}'.format(x) for x in pivot_n2['PAGO 2018']]\n",
    "#pivot_n2['PAGO 2019'] = ['${:,.2f}'.format(x) for x in pivot_n2['PAGO 2019']]\n",
    "pivot_n2['PAGO 2020'] = ['${:,.2f}'.format(x) for x in pivot_n2['PAGO 2020']]\n",
    "pivot_n2"
   ]
  },
  {
   "cell_type": "code",
   "execution_count": 171,
   "metadata": {},
   "outputs": [
    {
     "output_type": "execute_result",
     "data": {
      "text/plain": [
       "    DIVISION  MES  DIA   PAGO 2019   PAGO 2020\n",
       "0       PREN    1    2       $0.00  $24,332.00\n",
       "1       PREN    1    3       $0.00  $15,616.43\n",
       "2       PREN    1    4       $0.00  $18,621.00\n",
       "3       PREN    1    5       $0.00   $5,447.00\n",
       "4       PREN    1    6       $0.00  $62,202.00\n",
       "..       ...  ...  ...         ...         ...\n",
       "303     PREN   11    8       $0.00   $5,711.00\n",
       "304     PREN   11    9       $0.00  $61,100.00\n",
       "305     PREN   11   10       $0.00   $3,000.00\n",
       "306     PREN   11   11       $0.00  $48,262.00\n",
       "307     PREN   12   31  $28,599.00       $0.00\n",
       "\n",
       "[308 rows x 5 columns]"
      ],
      "text/html": "<div>\n<style scoped>\n    .dataframe tbody tr th:only-of-type {\n        vertical-align: middle;\n    }\n\n    .dataframe tbody tr th {\n        vertical-align: top;\n    }\n\n    .dataframe thead th {\n        text-align: right;\n    }\n</style>\n<table border=\"1\" class=\"dataframe\">\n  <thead>\n    <tr style=\"text-align: right;\">\n      <th></th>\n      <th>DIVISION</th>\n      <th>MES</th>\n      <th>DIA</th>\n      <th>PAGO 2019</th>\n      <th>PAGO 2020</th>\n    </tr>\n  </thead>\n  <tbody>\n    <tr>\n      <th>0</th>\n      <td>PREN</td>\n      <td>1</td>\n      <td>2</td>\n      <td>$0.00</td>\n      <td>$24,332.00</td>\n    </tr>\n    <tr>\n      <th>1</th>\n      <td>PREN</td>\n      <td>1</td>\n      <td>3</td>\n      <td>$0.00</td>\n      <td>$15,616.43</td>\n    </tr>\n    <tr>\n      <th>2</th>\n      <td>PREN</td>\n      <td>1</td>\n      <td>4</td>\n      <td>$0.00</td>\n      <td>$18,621.00</td>\n    </tr>\n    <tr>\n      <th>3</th>\n      <td>PREN</td>\n      <td>1</td>\n      <td>5</td>\n      <td>$0.00</td>\n      <td>$5,447.00</td>\n    </tr>\n    <tr>\n      <th>4</th>\n      <td>PREN</td>\n      <td>1</td>\n      <td>6</td>\n      <td>$0.00</td>\n      <td>$62,202.00</td>\n    </tr>\n    <tr>\n      <th>...</th>\n      <td>...</td>\n      <td>...</td>\n      <td>...</td>\n      <td>...</td>\n      <td>...</td>\n    </tr>\n    <tr>\n      <th>303</th>\n      <td>PREN</td>\n      <td>11</td>\n      <td>8</td>\n      <td>$0.00</td>\n      <td>$5,711.00</td>\n    </tr>\n    <tr>\n      <th>304</th>\n      <td>PREN</td>\n      <td>11</td>\n      <td>9</td>\n      <td>$0.00</td>\n      <td>$61,100.00</td>\n    </tr>\n    <tr>\n      <th>305</th>\n      <td>PREN</td>\n      <td>11</td>\n      <td>10</td>\n      <td>$0.00</td>\n      <td>$3,000.00</td>\n    </tr>\n    <tr>\n      <th>306</th>\n      <td>PREN</td>\n      <td>11</td>\n      <td>11</td>\n      <td>$0.00</td>\n      <td>$48,262.00</td>\n    </tr>\n    <tr>\n      <th>307</th>\n      <td>PREN</td>\n      <td>12</td>\n      <td>31</td>\n      <td>$28,599.00</td>\n      <td>$0.00</td>\n    </tr>\n  </tbody>\n</table>\n<p>308 rows × 5 columns</p>\n</div>"
     },
     "metadata": {},
     "execution_count": 171
    }
   ],
   "source": [
    "#Para pren PREN\n",
    "pagos_pren = pagos_liver.loc[pagos_liver['Division']=='PREN']\n",
    "pivot_pren = pd.pivot_table(pagos_pren,index=['Division','Month','Day'],columns=['Year'],values=['monto'],aggfunc=['sum'])\n",
    "pivot_pren = pd.DataFrame(pivot_pren.to_records())\n",
    "pivot_pren.columns = ['DIVISION','MES','DIA','PAGO 2019','PAGO 2020']\n",
    "pivot_pren.fillna(0,inplace=True)\n",
    "#pivot_pren['PAGO 2017'] = ['${:,.2f}'.format(x) for x in pivot_n2['PAGO 2017']]\n",
    "#pivot_n2['PAGO 2018'] = ['${:,.2f}'.format(x) for x in pivot_n2['PAGO 2018']]\n",
    "pivot_pren['PAGO 2019'] = ['${:,.2f}'.format(x) for x in pivot_pren['PAGO 2019']]\n",
    "pivot_pren['PAGO 2020'] = ['${:,.2f}'.format(x) for x in pivot_pren['PAGO 2020']]\n",
    "pivot_pren"
   ]
  },
  {
   "cell_type": "code",
   "execution_count": 172,
   "metadata": {},
   "outputs": [
    {
     "output_type": "execute_result",
     "data": {
      "text/plain": [
       "    DIVISION  MES  DIA   PAGO 2020\n",
       "0        SUB    1    1   $1,055.00\n",
       "1        SUB    1    2  $23,304.00\n",
       "2        SUB    1    3  $13,257.00\n",
       "3        SUB    1    4   $7,843.00\n",
       "4        SUB    1    5   $6,997.00\n",
       "..       ...  ...  ...         ...\n",
       "279      SUB   10   26   $6,360.00\n",
       "280      SUB   10   27  $20,460.34\n",
       "281      SUB   10   28  $29,563.00\n",
       "282      SUB   10   29   $7,410.00\n",
       "283      SUB   10   30  $30,944.00\n",
       "\n",
       "[284 rows x 4 columns]"
      ],
      "text/html": "<div>\n<style scoped>\n    .dataframe tbody tr th:only-of-type {\n        vertical-align: middle;\n    }\n\n    .dataframe tbody tr th {\n        vertical-align: top;\n    }\n\n    .dataframe thead th {\n        text-align: right;\n    }\n</style>\n<table border=\"1\" class=\"dataframe\">\n  <thead>\n    <tr style=\"text-align: right;\">\n      <th></th>\n      <th>DIVISION</th>\n      <th>MES</th>\n      <th>DIA</th>\n      <th>PAGO 2020</th>\n    </tr>\n  </thead>\n  <tbody>\n    <tr>\n      <th>0</th>\n      <td>SUB</td>\n      <td>1</td>\n      <td>1</td>\n      <td>$1,055.00</td>\n    </tr>\n    <tr>\n      <th>1</th>\n      <td>SUB</td>\n      <td>1</td>\n      <td>2</td>\n      <td>$23,304.00</td>\n    </tr>\n    <tr>\n      <th>2</th>\n      <td>SUB</td>\n      <td>1</td>\n      <td>3</td>\n      <td>$13,257.00</td>\n    </tr>\n    <tr>\n      <th>3</th>\n      <td>SUB</td>\n      <td>1</td>\n      <td>4</td>\n      <td>$7,843.00</td>\n    </tr>\n    <tr>\n      <th>4</th>\n      <td>SUB</td>\n      <td>1</td>\n      <td>5</td>\n      <td>$6,997.00</td>\n    </tr>\n    <tr>\n      <th>...</th>\n      <td>...</td>\n      <td>...</td>\n      <td>...</td>\n      <td>...</td>\n    </tr>\n    <tr>\n      <th>279</th>\n      <td>SUB</td>\n      <td>10</td>\n      <td>26</td>\n      <td>$6,360.00</td>\n    </tr>\n    <tr>\n      <th>280</th>\n      <td>SUB</td>\n      <td>10</td>\n      <td>27</td>\n      <td>$20,460.34</td>\n    </tr>\n    <tr>\n      <th>281</th>\n      <td>SUB</td>\n      <td>10</td>\n      <td>28</td>\n      <td>$29,563.00</td>\n    </tr>\n    <tr>\n      <th>282</th>\n      <td>SUB</td>\n      <td>10</td>\n      <td>29</td>\n      <td>$7,410.00</td>\n    </tr>\n    <tr>\n      <th>283</th>\n      <td>SUB</td>\n      <td>10</td>\n      <td>30</td>\n      <td>$30,944.00</td>\n    </tr>\n  </tbody>\n</table>\n<p>284 rows × 4 columns</p>\n</div>"
     },
     "metadata": {},
     "execution_count": 172
    }
   ],
   "source": [
    "#Para pren PREN\n",
    "pagos_sub = pagos_liver.loc[pagos_liver['Division']=='SUB']\n",
    "pivot_sub = pd.pivot_table(pagos_sub,index=['Division','Month','Day'],columns=['Year'],values=['monto'],aggfunc=['sum'])\n",
    "pivot_sub = pd.DataFrame(pivot_sub.to_records())\n",
    "pivot_sub.columns = ['DIVISION','MES','DIA','PAGO 2020']\n",
    "pivot_sub.fillna(0,inplace=True)\n",
    "#pivot_pren['PAGO 2017'] = ['${:,.2f}'.format(x) for x in pivot_n2['PAGO 2017']]\n",
    "#pivot_n2['PAGO 2018'] = ['${:,.2f}'.format(x) for x in pivot_n2['PAGO 2018']]\n",
    "#pivot_pren['PAGO 2019'] = ['${:,.2f}'.format(x) for x in pivot_pren['PAGO 2019']]\n",
    "pivot_sub['PAGO 2020'] = ['${:,.2f}'.format(x) for x in pivot_sub['PAGO 2020']]\n",
    "pivot_sub"
   ]
  },
  {
   "cell_type": "code",
   "execution_count": 173,
   "metadata": {},
   "outputs": [
    {
     "output_type": "execute_result",
     "data": {
      "text/plain": [
       "   DIVISION  MES  DIA  PAGO 2020\n",
       "0    SUBDIC    1    3  $3,600.00\n",
       "1    SUBDIC    1    4  $3,526.22\n",
       "2    SUBDIC    1    5  $3,319.00\n",
       "3    SUBDIC    1   21  $2,000.00\n",
       "4    SUBDIC    1   22  $4,374.00\n",
       "..      ...  ...  ...        ...\n",
       "81   SUBDIC   10   19  $2,000.00\n",
       "82   SUBDIC   10   20  $1,000.00\n",
       "83   SUBDIC   10   23  $3,081.00\n",
       "84   SUBDIC   10   29    $500.00\n",
       "85   SUBDIC   10   30  $7,963.00\n",
       "\n",
       "[86 rows x 4 columns]"
      ],
      "text/html": "<div>\n<style scoped>\n    .dataframe tbody tr th:only-of-type {\n        vertical-align: middle;\n    }\n\n    .dataframe tbody tr th {\n        vertical-align: top;\n    }\n\n    .dataframe thead th {\n        text-align: right;\n    }\n</style>\n<table border=\"1\" class=\"dataframe\">\n  <thead>\n    <tr style=\"text-align: right;\">\n      <th></th>\n      <th>DIVISION</th>\n      <th>MES</th>\n      <th>DIA</th>\n      <th>PAGO 2020</th>\n    </tr>\n  </thead>\n  <tbody>\n    <tr>\n      <th>0</th>\n      <td>SUBDIC</td>\n      <td>1</td>\n      <td>3</td>\n      <td>$3,600.00</td>\n    </tr>\n    <tr>\n      <th>1</th>\n      <td>SUBDIC</td>\n      <td>1</td>\n      <td>4</td>\n      <td>$3,526.22</td>\n    </tr>\n    <tr>\n      <th>2</th>\n      <td>SUBDIC</td>\n      <td>1</td>\n      <td>5</td>\n      <td>$3,319.00</td>\n    </tr>\n    <tr>\n      <th>3</th>\n      <td>SUBDIC</td>\n      <td>1</td>\n      <td>21</td>\n      <td>$2,000.00</td>\n    </tr>\n    <tr>\n      <th>4</th>\n      <td>SUBDIC</td>\n      <td>1</td>\n      <td>22</td>\n      <td>$4,374.00</td>\n    </tr>\n    <tr>\n      <th>...</th>\n      <td>...</td>\n      <td>...</td>\n      <td>...</td>\n      <td>...</td>\n    </tr>\n    <tr>\n      <th>81</th>\n      <td>SUBDIC</td>\n      <td>10</td>\n      <td>19</td>\n      <td>$2,000.00</td>\n    </tr>\n    <tr>\n      <th>82</th>\n      <td>SUBDIC</td>\n      <td>10</td>\n      <td>20</td>\n      <td>$1,000.00</td>\n    </tr>\n    <tr>\n      <th>83</th>\n      <td>SUBDIC</td>\n      <td>10</td>\n      <td>23</td>\n      <td>$3,081.00</td>\n    </tr>\n    <tr>\n      <th>84</th>\n      <td>SUBDIC</td>\n      <td>10</td>\n      <td>29</td>\n      <td>$500.00</td>\n    </tr>\n    <tr>\n      <th>85</th>\n      <td>SUBDIC</td>\n      <td>10</td>\n      <td>30</td>\n      <td>$7,963.00</td>\n    </tr>\n  </tbody>\n</table>\n<p>86 rows × 4 columns</p>\n</div>"
     },
     "metadata": {},
     "execution_count": 173
    }
   ],
   "source": [
    "#Para pren PREN\n",
    "pagos_subdic = pagos_liver.loc[pagos_liver['Division']=='SUBDIC']\n",
    "pivot_subdic = pd.pivot_table(pagos_subdic,index=['Division','Month','Day'],columns=['Year'],values=['monto'],aggfunc=['sum'])\n",
    "pivot_subdic = pd.DataFrame(pivot_subdic.to_records())\n",
    "pivot_subdic.columns = ['DIVISION','MES','DIA','PAGO 2020']\n",
    "pivot_subdic.fillna(0,inplace=True)\n",
    "#pivot_pren['PAGO 2017'] = ['${:,.2f}'.format(x) for x in pivot_n2['PAGO 2017']]\n",
    "#pivot_n2['PAGO 2018'] = ['${:,.2f}'.format(x) for x in pivot_n2['PAGO 2018']]\n",
    "#pivot_pren['PAGO 2019'] = ['${:,.2f}'.format(x) for x in pivot_pren['PAGO 2019']]\n",
    "pivot_subdic['PAGO 2020'] = ['${:,.2f}'.format(x) for x in pivot_subdic['PAGO 2020']]\n",
    "pivot_subdic"
   ]
  },
  {
   "cell_type": "code",
   "execution_count": 21,
   "metadata": {},
   "outputs": [],
   "source": [
    "writer = pd.ExcelWriter(''+ruta+'/Reporte pagos Bradesco '+mes2+'.xlsx', engine='xlsxwriter')\n",
    "pivot_mes.to_excel(writer,'C0 '+mes2+'',index=False,header=True)\n",
    "pivot_4pv.to_excel(writer,'4PV',index=False,header=True)\n",
    "pivot_5pv.to_excel(writer,'5PV',index=False,header=True)\n",
    "pivot_6pv.to_excel(writer,'6PV',index=False,header=True)\n",
    "pivot_bucket_a.to_excel(writer,'A',index=False,header=True)\n",
    "pivot_bucket_b.to_excel(writer,'B',index=False,header=True)\n",
    "pivot_bucket_c1.to_excel(writer,'C1',index=False,header=True)\n",
    "pivot_bucket_c2.to_excel(writer,'C2',index=False,header=True)\n",
    "pivot_bucket_c3.to_excel(writer,'C3',index=False,header=True)\n",
    "pivot_bucket_c4.to_excel(writer,'C4',index=False,header=True)\n",
    "\n",
    "writer.save()\n",
    "writer.close()"
   ]
  },
  {
   "cell_type": "code",
   "execution_count": 175,
   "metadata": {},
   "outputs": [],
   "source": [
    "writer = pd.ExcelWriter(''+ruta+'Reporte pagos Liverpool Dic.xlsx', engine='xlsxwriter')\n",
    "pivot_cof.to_excel(writer,'COF',index=False,header=True)\n",
    "pivot_n2.to_excel(writer,'N2',index=False,header=True)\n",
    "pivot_pren.to_excel(writer,'PREN',index=False,header=True)\n",
    "pivot_sub.to_excel(writer,'SUB',index=False,header=True)\n",
    "pivot_subdic.to_excel(writer,'SUBDIC',index=False,header=True)\n",
    "\n",
    "writer.save()\n",
    "writer.close()"
   ]
  }
 ]
}