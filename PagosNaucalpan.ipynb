{
 "metadata": {
  "language_info": {
   "codemirror_mode": {
    "name": "ipython",
    "version": 3
   },
   "file_extension": ".py",
   "mimetype": "text/x-python",
   "name": "python",
   "nbconvert_exporter": "python",
   "pygments_lexer": "ipython3",
   "version": "3.7.6-final"
  },
  "orig_nbformat": 2,
  "kernelspec": {
   "name": "python3",
   "display_name": "Python 3",
   "language": "python"
  }
 },
 "nbformat": 4,
 "nbformat_minor": 2,
 "cells": [
  {
   "cell_type": "code",
   "execution_count": 2,
   "metadata": {},
   "outputs": [],
   "source": [
    "import pandas as pd\n",
    "import numpy as np\n",
    "import mysql.connector\n",
    "import os\n",
    "from mysql.connector import Error\n",
    "from datetime import datetime, date, timedelta\n",
    "from IPython.core.interactiveshell import InteractiveShell\n",
    "InteractiveShell.ast_node_interactivity = \"all\""
   ]
  },
  {
   "cell_type": "code",
   "execution_count": 3,
   "metadata": {},
   "outputs": [],
   "source": [
    "#Definimos la ruta en donde queremos guardar los archivos\n",
    "ruta_guardar = '/home/estadistico/Documents/Erick/Reportes diarios'\n",
    "ruta_asig_baz = '/home/estadistico/Documents/Erick/Banco Azteca/Asignacion csv'\n",
    "ruta_pagos = '/home/estadistico/Documents/Erick'\n",
    "mes = 20201201\n",
    "mes2 = 'Diciembre2020'\n",
    "mes3 = pd.to_datetime('01/12/2020',dayfirst=True)\n",
    "prim_sem_mes = 49"
   ]
  },
  {
   "cell_type": "code",
   "execution_count": 4,
   "metadata": {},
   "outputs": [],
   "source": [
    "#Agregamos las variables a ocupar\n",
    "servidor = '192.168.15.12'\n",
    "puerto = int('3306')\n",
    "usuario = 'estadisticas'\n",
    "contraseña = 'estadisticas8474'\n",
    "base = 'procesos_externos'"
   ]
  },
  {
   "cell_type": "code",
   "execution_count": 16,
   "metadata": {},
   "outputs": [],
   "source": [
    "#Lectura pagos Bradesco\n",
    "pagos_brad_c0 = pd.read_excel(''+ruta_pagos+'/Bradesco/Facturacion_c0/Facturacion c0.xlsx'dtype={'TARJETA': object})\n",
    "pagos_brad_c0 = pagos_brad_c0.drop_duplicates()\n",
    "pagos_brad_c02 = pd.pivot_table(pagos_brad_c0,index=['TARJETA','FECHA','BUCKET','PRODUCTO'],values=['PAGO','COMISION'],aggfunc=np.sum)\n",
    "pagos_brad_c02 = pd.DataFrame(pagos_brad_c02.to_records())"
   ]
  },
  {
   "cell_type": "code",
   "execution_count": 26,
   "metadata": {},
   "outputs": [],
   "source": [
    "#Lectura pagos Bradesco\n",
    "pagos_brad_extra = pd.read_excel(''+ruta_pagos+'/Bradesco/Facturacion_extra/Facturacion extra.xlsx'dtype={'TARJETA': object})\n",
    "pagos_brad_extra = pagos_brad_extra.drop_duplicates()\n",
    "pagos_brad_extra2 = pd.pivot_table(pagos_brad_extra,index=['TARJETA','FECHA','BUCKET','PRODUCTO'],values=['PAGO','COMISION'],aggfunc=np.sum)\n",
    "pagos_brad_extra2 = pd.DataFrame(pagos_brad_extra2.to_records())"
   ]
  },
  {
   "cell_type": "code",
   "execution_count": 47,
   "metadata": {},
   "outputs": [
    {
     "output_type": "execute_result",
     "data": {
      "text/plain": [
       "                Cuenta  Fecha pago Fecha Posteo  monto       Descripcion  \\\n",
       "0  0004178490000277468  02/01/2020   02/01/2020  500.0  5200000000008917   \n",
       "\n",
       "  Division  \n",
       "0       N2  "
      ],
      "text/html": "<div>\n<style scoped>\n    .dataframe tbody tr th:only-of-type {\n        vertical-align: middle;\n    }\n\n    .dataframe tbody tr th {\n        vertical-align: top;\n    }\n\n    .dataframe thead th {\n        text-align: right;\n    }\n</style>\n<table border=\"1\" class=\"dataframe\">\n  <thead>\n    <tr style=\"text-align: right;\">\n      <th></th>\n      <th>Cuenta</th>\n      <th>Fecha pago</th>\n      <th>Fecha Posteo</th>\n      <th>monto</th>\n      <th>Descripcion</th>\n      <th>Division</th>\n    </tr>\n  </thead>\n  <tbody>\n    <tr>\n      <th>0</th>\n      <td>0004178490000277468</td>\n      <td>02/01/2020</td>\n      <td>02/01/2020</td>\n      <td>500.0</td>\n      <td>5200000000008917</td>\n      <td>N2</td>\n    </tr>\n  </tbody>\n</table>\n</div>"
     },
     "metadata": {},
     "execution_count": 47
    }
   ],
   "source": [
    "#Lectura pagos Liverpool\n",
    "pagos_liv = pd.read_excel(''+ruta_pagos+'/Liverpool/Pagos/Facturacion Liverpool.xlsx',converters={'Cuenta':str})"
   ]
  },
  {
   "cell_type": "code",
   "execution_count": 76,
   "metadata": {},
   "outputs": [],
   "source": [
    "#Lectura pagos Banco Azteca\n",
    "pagos_baz = pd.read_excel(''+ruta_pagos+'/Banco Azteca/Pagos/Pagos recovery-26.xlsx')"
   ]
  },
  {
   "source": [
    "# Bradesco"
   ],
   "cell_type": "markdown",
   "metadata": {}
  },
  {
   "cell_type": "code",
   "execution_count": 57,
   "metadata": {},
   "outputs": [
    {
     "output_type": "execute_result",
     "data": {
      "text/plain": [
       "             Cuenta Fecha pago Division   monto  YEAR  MONTH  \\\n",
       "0  2869002607825000 2020-07-30        5  1542.0  2020      7   \n",
       "\n",
       "             credito_unico YEAR_MONTH   Cliente  \n",
       "0  2869002607825000-7-2020     2020-7  Bradesco  "
      ],
      "text/html": "<div>\n<style scoped>\n    .dataframe tbody tr th:only-of-type {\n        vertical-align: middle;\n    }\n\n    .dataframe tbody tr th {\n        vertical-align: top;\n    }\n\n    .dataframe thead th {\n        text-align: right;\n    }\n</style>\n<table border=\"1\" class=\"dataframe\">\n  <thead>\n    <tr style=\"text-align: right;\">\n      <th></th>\n      <th>Cuenta</th>\n      <th>Fecha pago</th>\n      <th>Division</th>\n      <th>monto</th>\n      <th>YEAR</th>\n      <th>MONTH</th>\n      <th>credito_unico</th>\n      <th>YEAR_MONTH</th>\n      <th>Cliente</th>\n    </tr>\n  </thead>\n  <tbody>\n    <tr>\n      <th>0</th>\n      <td>2869002607825000</td>\n      <td>2020-07-30</td>\n      <td>5</td>\n      <td>1542.0</td>\n      <td>2020</td>\n      <td>7</td>\n      <td>2869002607825000-7-2020</td>\n      <td>2020-7</td>\n      <td>Bradesco</td>\n    </tr>\n  </tbody>\n</table>\n</div>"
     },
     "metadata": {},
     "execution_count": 57
    }
   ],
   "source": [
    "#Concatenamos los pagos de brad\n",
    "pagos_brad = pd.concat([pagos_brad_c0,pagos_brad_extra],ignore_index=True)\n",
    "pagos_brad = pagos_brad.loc[pagos_brad['FECHA'].map(str)!='00:00:00']\n",
    "pagos_brad['FECHA'] = pd.to_datetime(pagos_brad['FECHA'],dayfirst=False)\n",
    "pagos_brad['YEAR'] = pagos_brad['FECHA'].dt.year\n",
    "pagos_brad['MONTH'] = pagos_brad['FECHA'].dt.month\n",
    "pagos_brad['credito_unico'] = pagos_brad['TARJETA'].map(str)+'-'+pagos_brad['MONTH'].map(str)+'-'+pagos_brad['YEAR'].map(str)\n",
    "pagos_brad['YEAR_MONTH'] = pagos_brad['YEAR'].map(str)+'-'+pagos_brad['MONTH'].map(str)\n",
    "pagos_brad = pagos_brad.loc[pagos_brad['YEAR'] >= 2019]\n",
    "pagos_brad = pagos_brad.iloc[:,[1,3,6,2,9,10,11,12]]\n",
    "pagos_brad.columns = ['Cuenta','Fecha pago','Division','monto','YEAR','MONTH','credito_unico','YEAR_MONTH']\n",
    "pagos_brad['Cliente'] = 'Bradesco' \n",
    "pagos_brad.head(1)"
   ]
  },
  {
   "source": [
    "# Liverpool"
   ],
   "cell_type": "markdown",
   "metadata": {}
  },
  {
   "cell_type": "code",
   "execution_count": 58,
   "metadata": {},
   "outputs": [
    {
     "output_type": "execute_result",
     "data": {
      "text/plain": [
       "                Cuenta Fecha pago Division  monto  YEAR  MONTH  \\\n",
       "0  0000010000003513825 2020-07-24      COF  500.0  2020      7   \n",
       "\n",
       "                credito_unico YEAR_MONTH    Cliente  \n",
       "0  0000010000003513825-7-2020     2020-7  Liverpool  "
      ],
      "text/html": "<div>\n<style scoped>\n    .dataframe tbody tr th:only-of-type {\n        vertical-align: middle;\n    }\n\n    .dataframe tbody tr th {\n        vertical-align: top;\n    }\n\n    .dataframe thead th {\n        text-align: right;\n    }\n</style>\n<table border=\"1\" class=\"dataframe\">\n  <thead>\n    <tr style=\"text-align: right;\">\n      <th></th>\n      <th>Cuenta</th>\n      <th>Fecha pago</th>\n      <th>Division</th>\n      <th>monto</th>\n      <th>YEAR</th>\n      <th>MONTH</th>\n      <th>credito_unico</th>\n      <th>YEAR_MONTH</th>\n      <th>Cliente</th>\n    </tr>\n  </thead>\n  <tbody>\n    <tr>\n      <th>0</th>\n      <td>0000010000003513825</td>\n      <td>2020-07-24</td>\n      <td>COF</td>\n      <td>500.0</td>\n      <td>2020</td>\n      <td>7</td>\n      <td>0000010000003513825-7-2020</td>\n      <td>2020-7</td>\n      <td>Liverpool</td>\n    </tr>\n  </tbody>\n</table>\n</div>"
     },
     "metadata": {},
     "execution_count": 58
    }
   ],
   "source": [
    "pagos_liv2 = pd.pivot_table(pagos_liv,index=['Cuenta','Fecha pago','Division'],values=['monto'],aggfunc=np.sum)\n",
    "pagos_liv2 = pd.DataFrame(pagos_liv2.to_records())\n",
    "pagos_liv2['Fecha pago'] = pd.to_datetime(pagos_liv2['Fecha pago'],dayfirst=True)\n",
    "pagos_liv2['YEAR'] = pagos_liv2['Fecha pago'].dt.year\n",
    "pagos_liv2['MONTH'] = pagos_liv2['Fecha pago'].dt.month\n",
    "pagos_liv2['credito_unico'] = pagos_liv2['Cuenta'].map(str)+'-'+pagos_liv2['MONTH'].map(str)+'-'+pagos_liv2['YEAR'].map(str)\n",
    "pagos_liv2['YEAR_MONTH'] = pagos_liv2['YEAR'].map(str)+'-'+pagos_liv2['MONTH'].map(str)\n",
    "pagos_liv2 = pagos_liv2.loc[pagos_liv2['YEAR'] >= 2019]\n",
    "pagos_liv2['Cliente'] = 'Liverpool'\n",
    "pagos_liv2.head(1)"
   ]
  },
  {
   "cell_type": "code",
   "execution_count": 59,
   "metadata": {},
   "outputs": [],
   "source": [
    "#Hacemos la union entre promesas y pagos\n",
    "pagos_brad_liv = pd.concat([pagos_brad,pagos_liv2],ignore_index=True)"
   ]
  },
  {
   "cell_type": "code",
   "execution_count": 68,
   "metadata": {},
   "outputs": [
    {
     "output_type": "execute_result",
     "data": {
      "text/plain": [
       "     Cliente  ('monto', '2019-1')  ('monto', '2019-10')  ('monto', '2019-11')  \\\n",
       "0   Bradesco           3678102.19             5426913.2            5496582.19   \n",
       "1  Liverpool                  NaN                   NaN                   NaN   \n",
       "2        All           3678102.19             5426913.2            5496582.19   \n",
       "\n",
       "   ('monto', '2019-12')  ('monto', '2019-2')  ('monto', '2019-3')  \\\n",
       "0            6649977.42           4663196.31           6144176.84   \n",
       "1              28599.00                  NaN                  NaN   \n",
       "2            6678576.42           4663196.31           6144176.84   \n",
       "\n",
       "   ('monto', '2019-4')  ('monto', '2019-5')  ('monto', '2019-6')  ...  \\\n",
       "0           4410956.03           5972336.53           4990561.33  ...   \n",
       "1                  NaN                  NaN                  NaN  ...   \n",
       "2           4410956.03           5972336.53           4990561.33  ...   \n",
       "\n",
       "   ('monto', '2020-11')  ('monto', '2020-2')  ('monto', '2020-3')  \\\n",
       "0            4899667.03           4215084.14           4054285.78   \n",
       "1             161837.00           2872860.10           2780681.54   \n",
       "2            5061504.03           7087944.24           6834967.32   \n",
       "\n",
       "   ('monto', '2020-4')  ('monto', '2020-5')  ('monto', '2020-6')  \\\n",
       "0           2257007.20           2677542.03           4708089.72   \n",
       "1           3032286.74           3130591.87           3618743.56   \n",
       "2           5289293.94           5808133.90           8326833.28   \n",
       "\n",
       "   ('monto', '2020-7')  ('monto', '2020-8')  ('monto', '2020-9')    Promedio  \n",
       "0           7331414.66           7901981.89           7505988.99  5249906.39  \n",
       "1           3947593.95           3594131.05           2920522.56  2650922.16  \n",
       "2          11279008.61          11496112.94          10426511.55  6632996.21  \n",
       "\n",
       "[3 rows x 25 columns]"
      ],
      "text/html": "<div>\n<style scoped>\n    .dataframe tbody tr th:only-of-type {\n        vertical-align: middle;\n    }\n\n    .dataframe tbody tr th {\n        vertical-align: top;\n    }\n\n    .dataframe thead th {\n        text-align: right;\n    }\n</style>\n<table border=\"1\" class=\"dataframe\">\n  <thead>\n    <tr style=\"text-align: right;\">\n      <th></th>\n      <th>Cliente</th>\n      <th>('monto', '2019-1')</th>\n      <th>('monto', '2019-10')</th>\n      <th>('monto', '2019-11')</th>\n      <th>('monto', '2019-12')</th>\n      <th>('monto', '2019-2')</th>\n      <th>('monto', '2019-3')</th>\n      <th>('monto', '2019-4')</th>\n      <th>('monto', '2019-5')</th>\n      <th>('monto', '2019-6')</th>\n      <th>...</th>\n      <th>('monto', '2020-11')</th>\n      <th>('monto', '2020-2')</th>\n      <th>('monto', '2020-3')</th>\n      <th>('monto', '2020-4')</th>\n      <th>('monto', '2020-5')</th>\n      <th>('monto', '2020-6')</th>\n      <th>('monto', '2020-7')</th>\n      <th>('monto', '2020-8')</th>\n      <th>('monto', '2020-9')</th>\n      <th>Promedio</th>\n    </tr>\n  </thead>\n  <tbody>\n    <tr>\n      <th>0</th>\n      <td>Bradesco</td>\n      <td>3678102.19</td>\n      <td>5426913.2</td>\n      <td>5496582.19</td>\n      <td>6649977.42</td>\n      <td>4663196.31</td>\n      <td>6144176.84</td>\n      <td>4410956.03</td>\n      <td>5972336.53</td>\n      <td>4990561.33</td>\n      <td>...</td>\n      <td>4899667.03</td>\n      <td>4215084.14</td>\n      <td>4054285.78</td>\n      <td>2257007.20</td>\n      <td>2677542.03</td>\n      <td>4708089.72</td>\n      <td>7331414.66</td>\n      <td>7901981.89</td>\n      <td>7505988.99</td>\n      <td>5249906.39</td>\n    </tr>\n    <tr>\n      <th>1</th>\n      <td>Liverpool</td>\n      <td>NaN</td>\n      <td>NaN</td>\n      <td>NaN</td>\n      <td>28599.00</td>\n      <td>NaN</td>\n      <td>NaN</td>\n      <td>NaN</td>\n      <td>NaN</td>\n      <td>NaN</td>\n      <td>...</td>\n      <td>161837.00</td>\n      <td>2872860.10</td>\n      <td>2780681.54</td>\n      <td>3032286.74</td>\n      <td>3130591.87</td>\n      <td>3618743.56</td>\n      <td>3947593.95</td>\n      <td>3594131.05</td>\n      <td>2920522.56</td>\n      <td>2650922.16</td>\n    </tr>\n    <tr>\n      <th>2</th>\n      <td>All</td>\n      <td>3678102.19</td>\n      <td>5426913.2</td>\n      <td>5496582.19</td>\n      <td>6678576.42</td>\n      <td>4663196.31</td>\n      <td>6144176.84</td>\n      <td>4410956.03</td>\n      <td>5972336.53</td>\n      <td>4990561.33</td>\n      <td>...</td>\n      <td>5061504.03</td>\n      <td>7087944.24</td>\n      <td>6834967.32</td>\n      <td>5289293.94</td>\n      <td>5808133.90</td>\n      <td>8326833.28</td>\n      <td>11279008.61</td>\n      <td>11496112.94</td>\n      <td>10426511.55</td>\n      <td>6632996.21</td>\n    </tr>\n  </tbody>\n</table>\n<p>3 rows × 25 columns</p>\n</div>"
     },
     "metadata": {},
     "execution_count": 68
    }
   ],
   "source": [
    "total_pagos_mes = pd.pivot_table(pagos_brad_liv,index=['Cliente'],columns=['YEAR_MONTH'],values=['monto'],aggfunc=np.sum, margins=True)\n",
    "total_pagos_mes = pd.DataFrame(total_pagos_mes.to_records())\n",
    "total_pagos_mes = total_pagos_mes.iloc[:,:-1]\n",
    "total_pagos_mes['Promedio'] = total_pagos_mes.mean(numeric_only=True,axis=1).round(2)\n",
    "total_pagos_mes"
   ]
  },
  {
   "source": [
    "# Banco Azteca"
   ],
   "cell_type": "markdown",
   "metadata": {}
  },
  {
   "cell_type": "code",
   "execution_count": 77,
   "metadata": {},
   "outputs": [
    {
     "output_type": "execute_result",
     "data": {
      "text/plain": [
       "    Año  Número Semana Inicio de Semana Final de Semana  \\\n",
       "0  2020             51       2020-12-14      2020-12-20   \n",
       "\n",
       "     JEFATURA DE COBRANZA                  REGIONAL                 GERENTE  \\\n",
       "0  8693-VERACRUZ / CARDEL  9164 GCC VERACRUZ CENTRO  TAPIA CARO JOSE LUCINO   \n",
       "\n",
       "   Folio de Facturación  Total Recuperado  Total Comisión   Estatus  \\\n",
       "0        20514497491641            1754.0           434.0  GENERADA   \n",
       "\n",
       "  Fecha de Generación   Cartera  Mes  \n",
       "0          2020-12-21  Recovery   12  "
      ],
      "text/html": "<div>\n<style scoped>\n    .dataframe tbody tr th:only-of-type {\n        vertical-align: middle;\n    }\n\n    .dataframe tbody tr th {\n        vertical-align: top;\n    }\n\n    .dataframe thead th {\n        text-align: right;\n    }\n</style>\n<table border=\"1\" class=\"dataframe\">\n  <thead>\n    <tr style=\"text-align: right;\">\n      <th></th>\n      <th>Año</th>\n      <th>Número Semana</th>\n      <th>Inicio de Semana</th>\n      <th>Final de Semana</th>\n      <th>JEFATURA DE COBRANZA</th>\n      <th>REGIONAL</th>\n      <th>GERENTE</th>\n      <th>Folio de Facturación</th>\n      <th>Total Recuperado</th>\n      <th>Total Comisión</th>\n      <th>Estatus</th>\n      <th>Fecha de Generación</th>\n      <th>Cartera</th>\n      <th>Mes</th>\n    </tr>\n  </thead>\n  <tbody>\n    <tr>\n      <th>0</th>\n      <td>2020</td>\n      <td>51</td>\n      <td>2020-12-14</td>\n      <td>2020-12-20</td>\n      <td>8693-VERACRUZ / CARDEL</td>\n      <td>9164 GCC VERACRUZ CENTRO</td>\n      <td>TAPIA CARO JOSE LUCINO</td>\n      <td>20514497491641</td>\n      <td>1754.0</td>\n      <td>434.0</td>\n      <td>GENERADA</td>\n      <td>2020-12-21</td>\n      <td>Recovery</td>\n      <td>12</td>\n    </tr>\n  </tbody>\n</table>\n</div>"
     },
     "metadata": {},
     "execution_count": 77
    }
   ],
   "source": [
    "pagos_baz2 = pagos_baz.drop_duplicates()\n",
    "pagos_baz2['Mes'] = pagos_baz2['Inicio de Semana'].dt.month\n",
    "pagos_baz2.head(1)"
   ]
  },
  {
   "cell_type": "code",
   "execution_count": 88,
   "metadata": {},
   "outputs": [
    {
     "output_type": "execute_result",
     "data": {
      "text/plain": [
       "    Cartera  ('Total Comisión', 1)  ('Total Comisión', 2)  \\\n",
       "0     26-39              130626.02              212267.99   \n",
       "1  Recovery              570062.93             1054812.49   \n",
       "2       All              700688.95             1267080.48   \n",
       "\n",
       "   ('Total Comisión', 3)  ('Total Comisión', 4)  ('Total Comisión', 5)  \\\n",
       "0              265012.24              144546.31              275292.94   \n",
       "1             1147021.12              624110.72              680143.21   \n",
       "2             1412033.36              768657.03              955436.15   \n",
       "\n",
       "   ('Total Comisión', 6)  ('Total Comisión', 7)  ('Total Comisión', 8)  \\\n",
       "0              418912.34              276712.17              303359.67   \n",
       "1             1042809.13              791691.99              833067.05   \n",
       "2             1461721.47             1068404.16             1136426.72   \n",
       "\n",
       "   ('Total Comisión', 9)  ('Total Comisión', 10)  ('Total Comisión', 11)  \\\n",
       "0              281539.94               277916.11               315719.10   \n",
       "1              418109.59               454287.66               411255.84   \n",
       "2              699649.53               732203.77               726974.94   \n",
       "\n",
       "    Promedio  \n",
       "0  263809.53  \n",
       "1  729761.07  \n",
       "2  993570.60  "
      ],
      "text/html": "<div>\n<style scoped>\n    .dataframe tbody tr th:only-of-type {\n        vertical-align: middle;\n    }\n\n    .dataframe tbody tr th {\n        vertical-align: top;\n    }\n\n    .dataframe thead th {\n        text-align: right;\n    }\n</style>\n<table border=\"1\" class=\"dataframe\">\n  <thead>\n    <tr style=\"text-align: right;\">\n      <th></th>\n      <th>Cartera</th>\n      <th>('Total Comisión', 1)</th>\n      <th>('Total Comisión', 2)</th>\n      <th>('Total Comisión', 3)</th>\n      <th>('Total Comisión', 4)</th>\n      <th>('Total Comisión', 5)</th>\n      <th>('Total Comisión', 6)</th>\n      <th>('Total Comisión', 7)</th>\n      <th>('Total Comisión', 8)</th>\n      <th>('Total Comisión', 9)</th>\n      <th>('Total Comisión', 10)</th>\n      <th>('Total Comisión', 11)</th>\n      <th>Promedio</th>\n    </tr>\n  </thead>\n  <tbody>\n    <tr>\n      <th>0</th>\n      <td>26-39</td>\n      <td>130626.02</td>\n      <td>212267.99</td>\n      <td>265012.24</td>\n      <td>144546.31</td>\n      <td>275292.94</td>\n      <td>418912.34</td>\n      <td>276712.17</td>\n      <td>303359.67</td>\n      <td>281539.94</td>\n      <td>277916.11</td>\n      <td>315719.10</td>\n      <td>263809.53</td>\n    </tr>\n    <tr>\n      <th>1</th>\n      <td>Recovery</td>\n      <td>570062.93</td>\n      <td>1054812.49</td>\n      <td>1147021.12</td>\n      <td>624110.72</td>\n      <td>680143.21</td>\n      <td>1042809.13</td>\n      <td>791691.99</td>\n      <td>833067.05</td>\n      <td>418109.59</td>\n      <td>454287.66</td>\n      <td>411255.84</td>\n      <td>729761.07</td>\n    </tr>\n    <tr>\n      <th>2</th>\n      <td>All</td>\n      <td>700688.95</td>\n      <td>1267080.48</td>\n      <td>1412033.36</td>\n      <td>768657.03</td>\n      <td>955436.15</td>\n      <td>1461721.47</td>\n      <td>1068404.16</td>\n      <td>1136426.72</td>\n      <td>699649.53</td>\n      <td>732203.77</td>\n      <td>726974.94</td>\n      <td>993570.60</td>\n    </tr>\n  </tbody>\n</table>\n</div>"
     },
     "metadata": {},
     "execution_count": 88
    }
   ],
   "source": [
    "total_pagos_mes_baz = pd.pivot_table(pagos_baz2,index=['Cartera'],columns=['Mes'],values=['Total Comisión'],aggfunc=np.sum,margins=True)\n",
    "total_pagos_mes_baz = pd.DataFrame(total_pagos_mes_baz.to_records())\n",
    "total_pagos_mes_baz = total_pagos_mes_baz.iloc[:,:-2]\n",
    "total_pagos_mes_baz['Promedio'] = total_pagos_mes_baz.mean(numeric_only=True,axis=1).round(2)\n",
    "total_pagos_mes_baz"
   ]
  },
  {
   "cell_type": "code",
   "execution_count": 90,
   "metadata": {},
   "outputs": [],
   "source": [
    "writer = pd.ExcelWriter(''+ruta_guardar+'/Pagos historicos Naucalpan.xlsx',engine='xlsxwriter')\n",
    "total_pagos_mes.to_excel(writer,'BradLiv',index=False,header=True)\n",
    "total_pagos_mes_baz.to_excel(writer,'BancoAzteca',index=False,header=True)\n",
    "\n",
    "\n",
    "writer.save()"
   ]
  }
 ]
}