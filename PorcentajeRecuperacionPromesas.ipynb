{
 "metadata": {
  "language_info": {
   "codemirror_mode": {
    "name": "ipython",
    "version": 3
   },
   "file_extension": ".py",
   "mimetype": "text/x-python",
   "name": "python",
   "nbconvert_exporter": "python",
   "pygments_lexer": "ipython3",
   "version": "3.8.5-final"
  },
  "orig_nbformat": 2,
  "kernelspec": {
   "name": "python3",
   "display_name": "Python 3",
   "language": "python"
  }
 },
 "nbformat": 4,
 "nbformat_minor": 2,
 "cells": [
  {
   "cell_type": "code",
   "execution_count": 62,
   "metadata": {},
   "outputs": [],
   "source": [
    "import pandas as pd\n",
    "import numpy as np\n",
    "import mysql.connector\n",
    "import os\n",
    "from mysql.connector import Error\n",
    "from datetime import datetime, date, timedelta\n",
    "import ConeccionesSucursales as cs\n",
    "from IPython.core.interactiveshell import InteractiveShell\n",
    "InteractiveShell.ast_node_interactivity = \"all\""
   ]
  },
  {
   "cell_type": "code",
   "execution_count": 63,
   "metadata": {},
   "outputs": [],
   "source": [
    "#Definimos la ruta en donde queremos guardar los archivos\n",
    "ruta_guardar = '/home/estadistico/Documents/Erick/Reportes diarios'\n",
    "ruta_asig_baz = '/home/estadistico/Documents/Erick/Banco Azteca/Asignacion csv'\n",
    "ruta_pagos = '/home/estadistico/Documents/Erick'\n",
    "mes = 20210101\n",
    "mes2 = 'Enero2021'\n",
    "mes3 = pd.to_datetime('01/01/2021',dayfirst=True)\n",
    "prim_sem_mes = 1"
   ]
  },
  {
   "cell_type": "code",
   "execution_count": 64,
   "metadata": {},
   "outputs": [],
   "source": [
    "#Agregamos las variables a ocupar\n",
    "servidor = '192.168.15.12'\n",
    "puerto = int('3306')\n",
    "usuario = 'estadisticas'\n",
    "contraseña = 'estadisticas8474'\n",
    "base = 'procesos_externos'"
   ]
  },
  {
   "cell_type": "code",
   "execution_count": 65,
   "metadata": {},
   "outputs": [],
   "source": [
    "#Lectura pagos Bradesco\n",
    "pagos_brad = pd.read_excel(''+ruta_pagos+'/'+str(mes2)+'/Bradesco/Pagos/Acumulado de pagos enero de 2021.xlsx')\n",
    "pagos_brad = pagos_brad.iloc[:,0:9]\n",
    "pagos_brad = pagos_brad.drop_duplicates()\n",
    "pagos_brad2 = pd.pivot_table(pagos_brad,index=['NUMERO_TARJETA','FECHA_PAGO','TIPO_ASIGANCION'],values=['MONTO'],aggfunc=np.sum)\n",
    "pagos_brad2 = pd.DataFrame(pagos_brad2.to_records())\n",
    "pagos_brad2 = pagos_brad2.loc[pagos_brad2['FECHA_PAGO']>=mes3]"
   ]
  },
  {
   "cell_type": "code",
   "execution_count": 66,
   "metadata": {},
   "outputs": [],
   "source": [
    "#Lectura pagos Liverpool\n",
    "sheet_liv = ['SA002REM','SA001REM','DKN04REM','DKN02REM','DKN00REM']\n",
    "pagos_liv = pd.DataFrame()\n",
    "for i in sheet_liv:\n",
    "    pagos_liv_new = pd.read_excel(''+ruta_pagos+'/'+str(mes2)+'/Liverpool/Pagos/PAGOS ENERO2021.xlsx',sheet_name = str(i),converters={'Cuenta':str})\n",
    "    pagos_liv = pd.concat([pagos_liv,pagos_liv_new],ignore_index=True)\n",
    "pagos_liv = pagos_liv.drop_duplicates()\n",
    "pagos_liv = pagos_liv.iloc[:,0:6]\n",
    "pagos_liv.columns = ['Id','Cuenta','Fecha Prom','Fecha Pago','Monto','Posteo']\n",
    "try: \n",
    "    pagos_liv['Fecha Pago'] = pd.to_datetime(pagos_liv['Fecha Pago'],dayfirst=True)\n",
    "except: pagos_liv['Fecha Pago']   \n",
    "pagos_liv['Fecha Pago'] = [datetime.strftime(x,'%d/%m/%Y') for x in pagos_liv['Fecha Pago']]\n",
    "try: \n",
    "    pagos_liv['Fecha Prom'] = pd.to_datetime(pagos_liv['Fecha Prom'],dayfirst=True)\n",
    "except: pagos_liv['Fecha Prom']    \n",
    "pagos_liv['Fecha Prom'] = [datetime.strftime(x,'%d/%m/%Y') for x in pagos_liv['Fecha Prom']]\n",
    "pagos_liv2 = pd.pivot_table(pagos_liv,index=['Id','Cuenta','Fecha Pago','Fecha Prom'],values=['Monto'],aggfunc=np.sum)\n",
    "pagos_liv2 = pd.DataFrame(pagos_liv2.to_records())\n",
    "#pagos_liv2 = pagos_liv2.loc[pagos_liv2['Fecha Pago']>=mes3]"
   ]
  },
  {
   "cell_type": "code",
   "execution_count": 67,
   "metadata": {},
   "outputs": [],
   "source": [
    "#Lectura pagos Credifiel\n",
    "sheet_cred = os.listdir(''+ruta_pagos+'/'+str(mes2)+'/Credifiel/Pagos/')\n",
    "pagos_cred = pd.DataFrame()\n",
    "for j in sheet_cred:\n",
    "    pagos_cred_new = pd.read_excel(''+ruta_pagos+'/'+str(mes2)+'/Credifiel/Pagos/'+j+'')\n",
    "    pagos_cred = pd.concat([pagos_cred,pagos_cred_new],ignore_index=True)\n",
    "#pagos_cred = pagos_cred.iloc[:,[12,1,8]]\n",
    "pagos_cred2 = pd.pivot_table(pagos_cred,index=['ID','FECHA'],values=['IMPORTE'],aggfunc=np.sum)\n",
    "pagos_cred2 = pd.DataFrame(pagos_cred2.to_records())"
   ]
  },
  {
   "cell_type": "code",
   "execution_count": 68,
   "metadata": {},
   "outputs": [],
   "source": [
    "#Lectura pagos Banco Azteca\n",
    "#sheet_baz = os.listdir(''+ruta_pagos+'/'+str(mes2)+'/Banco Azteca/Pagos/')\n",
    "#pagos_baz = pd.DataFrame()\n",
    "#for k in sheet_baz:\n",
    "#    pagos_baz_new = pd.read_csv(''+ruta_pagos+'/'+str(mes2)+'/Banco Azteca/Pagos/'+k+'')\n",
    "#    pagos_baz = pd.concat([pagos_baz,pagos_baz_new],ignore_index=True)\n",
    "#pagos_baz = pagos_baz.drop_duplicates()\n",
    "#pagos_baz = pagos_baz.loc[pagos_baz['FNMONTOPAGADO']>0]\n",
    "#pagos_baz['FDFECHAABONO'] = pd.to_datetime(pagos_baz['FDFECHAABONO'],dayfirst=True)\n",
    "#pagos_baz = pagos_baz.loc[pagos_baz['FDFECHAABONO']>=mes3]\n",
    "#pagos_baz2 = pd.pivot_table(pagos_baz,index=['CAMPANAID','FDFECHAABONO','FIIDPERIODO','FNSCOMPROMISO','FCEMPNUMCORTE','FNMONTOPROMETIDO'],values=['FNMONTOPAGADO'],aggfunc=np.sum)\n",
    "#pagos_baz2 = pd.DataFrame(pagos_baz2.to_records())"
   ]
  },
  {
   "cell_type": "code",
   "execution_count": 69,
   "metadata": {},
   "outputs": [],
   "source": [
    "#Leemos facturacion Banco Azteca\n",
    "#sheet_baz2 = os.listdir(''+ruta_pagos+'/'+str(mes2)+'/Banco Azteca/Facturacion/')\n",
    "#fact_baz = pd.DataFrame()\n",
    "#for k in sheet_baz2:\n",
    "#    fact_baz_new = pd.read_csv(''+ruta_pagos+'/'+str(mes2)+'/Banco Azteca/Facturacion/'+k+'',encoding='latin-1')\n",
    "#    fact_baz = pd.concat([fact_baz,fact_baz_new],ignore_index=True)\n",
    "#fact_baz = fact_baz.drop_duplicates()\n",
    "#fact_baz = fact_baz.loc[fact_baz['Número Semana']>=prim_sem_mes]\n",
    "#fact_baz['Final de Semana'] = pd.to_datetime(fact_baz['Final de Semana'],dayfirst=True)\n",
    "#fact_baz['Inicio de Semana'] = pd.to_datetime(fact_baz['Inicio de Semana'],dayfirst=True)"
   ]
  },
  {
   "cell_type": "code",
   "execution_count": 70,
   "metadata": {},
   "outputs": [],
   "source": [
    "#Asignamos valores a los parametros \\n\"\n",
    "today = date.today().strftime('%Y%m%d')\n",
    "now = datetime.now().strftime('%d-%m-%Y %H-%M')\n",
    "hoy = np.datetime64('today')\n",
    "ayer = np.datetime64(date.today() - timedelta(1))\n",
    "today2 = date.today().strftime('%d-%m-%Y')"
   ]
  },
  {
   "cell_type": "code",
   "execution_count": 71,
   "metadata": {},
   "outputs": [],
   "source": [
    "#Hacemos la conexion con el servidor\\n\",\n",
    "try:\n",
    "    conn = mysql.connector.connect(user=usuario,\n",
    "                               password=contraseña,\n",
    "                               host=servidor,\n",
    "                               port=3306,\n",
    "                               database=base)\n",
    "    conn.set_charset_collation('latin1')\n",
    "except mysql.Error as e:\n",
    "    print(\"Failed to execute stored procedure: {}\".format(error))\n",
    "\n",
    "cursor = conn.cursor()"
   ]
  },
  {
   "cell_type": "code",
   "execution_count": 72,
   "metadata": {},
   "outputs": [],
   "source": [
    "#Hacemos la asignacion de cada una de las metas para cambiar de arancel sin tomar el 0 en cuenta\n",
    "c04pv1, arancel_4pv1 = 1204704, .07\n",
    "c04pv2, arancel_4pv2 = 1807056, .09\n",
    "c04pv3, arancel_4pv3 = 2409407, .12\n",
    "c05pv1, arancel_5pv1 = 662269, .09\n",
    "c05pv2, arancel_5pv2 = 993403, .10\n",
    "c05pv3, arancel_5pv3 = 1324538, .14\n",
    "c06pv1, arancel_6pv1 = 807172, .10\n",
    "c06pv2, arancel_6pv2 = 1210759, .11\n",
    "c06pv3, arancel_6pv3 = 1614345, .16\n",
    "a1, arancel_a1 = 260190, .27\n",
    "a2, arancel_a2 = 390285, .30\n",
    "a3, arancel_a3 = 520381, .33\n",
    "b1, arancel_b1 = 215083, .25\n",
    "b2, arancel_b2 = 322624, .28\n",
    "b3, arancel_b3 = 430165, .31\n",
    "c11, arancel_c11 = 1430989, .17\n",
    "c12, arancel_c12 = 2146483, .20\n",
    "c13, arancel_c13 = 2861978, .23\n",
    "c21, arancel_c21 = 626634, .19\n",
    "c22, arancel_c22 = 939951, .22\n",
    "c23, arancel_c23 = 1253267, .25\n",
    "c31, arancel_c31 = 246425, .21\n",
    "c32, arancel_c32 = 369637, .24\n",
    "c33, arancel_c33 = 492849, .27\n",
    "c41, arancel_c41 = 123529, .23\n",
    "c42, arancel_c42 = 185294, .26\n",
    "c43, arancel_c43 = 247059, .29"
   ]
  },
  {
   "cell_type": "code",
   "execution_count": 73,
   "metadata": {},
   "outputs": [],
   "source": [
    "#Funcion para hacer la consulta sql, ya sea de gestion o de asignacion en donde requerimos tres parametros, la tabla de donde vamos a sacar la consulta, en caso de asignacin requerimos los otros dos parametros fecha inicial y fecha final\n",
    "def consulta_sql(table,from_date=None,to_date=None):\n",
    "    if from_date is None:\n",
    "        sql_mes = cursor.callproc(table,)\n",
    "        for result in cursor.stored_results():\n",
    "            sql_mes = pd.DataFrame(result.fetchall())\n",
    "    else:\n",
    "        sql_mes = cursor.callproc(table, [from_date,to_date])\n",
    "        for result in cursor.stored_results():\n",
    "            sql_mes = pd.DataFrame(result.fetchall())\n",
    "    sql_mes = sql_mes.drop_duplicates()\n",
    "    return sql_mes"
   ]
  },
  {
   "cell_type": "code",
   "execution_count": 74,
   "metadata": {},
   "outputs": [],
   "source": [
    "#Funcion para transformar varias columnas a numero\n",
    "def transform_numeric(df,cols):\n",
    "    return df[cols].apply(pd.to_numeric, errors='coerce')\n",
    "\n",
    "#Funcion que convierte a dataframe y rellena espacios con 0\n",
    "def to_dataframe(df):\n",
    "    df = pd.DataFrame(df.to_records())\n",
    "    df.fillna(0,inplace=True)\n",
    "    return df"
   ]
  },
  {
   "source": [
    "# Reporte Liverpool"
   ],
   "cell_type": "markdown",
   "metadata": {}
  },
  {
   "cell_type": "code",
   "execution_count": 75,
   "metadata": {},
   "outputs": [],
   "source": [
    "#Hacemos la consulta referente a las gestiones de Liverpool\n",
    "gestion_liv_mes = cs.query_naucalpan('liverpool_rpt_gestiones_detallado',mes,today)\n",
    "gestion_liv_mes.columns = ['folio_gestion','firma_id','unegocio_id','credito','nombre_credito','telefono','tipo_telefono','fecha_gestion','usuario','nombre_usuario','dictamen','accion','resultado','fecha_promesa','monto_promesa','comentarios']\n",
    "gestion_liv_mes = gestion_liv_mes.loc[gestion_liv_mes['dictamen']=='PROMESA']\n",
    "gestion_liv_mes['anio'] = [int(x[:4]) for x in gestion_liv_mes['fecha_promesa']]\n",
    "gestion_liv_mes = gestion_liv_mes.loc[(gestion_liv_mes['anio']>2010)&(gestion_liv_mes['anio']<2100)]\n",
    "gestion_liv_mes['fecha_promesa'] = pd.to_datetime(gestion_liv_mes['fecha_promesa'],dayfirst=False)"
   ]
  },
  {
   "cell_type": "code",
   "execution_count": 76,
   "metadata": {},
   "outputs": [
    {
     "output_type": "execute_result",
     "data": {
      "text/plain": [
       "   division              credito\n",
       "0  SA002REM  0001400000007731973"
      ],
      "text/html": "<div>\n<style scoped>\n    .dataframe tbody tr th:only-of-type {\n        vertical-align: middle;\n    }\n\n    .dataframe tbody tr th {\n        vertical-align: top;\n    }\n\n    .dataframe thead th {\n        text-align: right;\n    }\n</style>\n<table border=\"1\" class=\"dataframe\">\n  <thead>\n    <tr style=\"text-align: right;\">\n      <th></th>\n      <th>division</th>\n      <th>credito</th>\n    </tr>\n  </thead>\n  <tbody>\n    <tr>\n      <th>0</th>\n      <td>SA002REM</td>\n      <td>0001400000007731973</td>\n    </tr>\n  </tbody>\n</table>\n</div>"
     },
     "metadata": {},
     "execution_count": 76
    }
   ],
   "source": [
    "#Asignacion Liverpool\n",
    "asignacion_liv = pd.read_csv(''+ruta_pagos+'/Liverpool/Asignacion/Asignaciones csv/Asignacion '+mes2+'.csv',converters={'# CUENTA':str})\n",
    "asignacion_liv = asignacion_liv[['ID AGENCIA', '# CUENTA']]\n",
    "asignacion_liv.columns = ['division','credito']\n",
    "asignacion_liv.head(1)"
   ]
  },
  {
   "cell_type": "code",
   "execution_count": 77,
   "metadata": {},
   "outputs": [],
   "source": [
    "#Hacemos el consolidado\n",
    "consolidado_liv_mes = pd.merge(gestion_liv_mes,asignacion_liv,how='left',on=['credito'])\n",
    "cols = ['monto_promesa']\n",
    "consolidado_liv_mes[cols] = consolidado_liv_mes[cols].apply(pd.to_numeric, errors='coerce')\n",
    "consolidado_liv_mes = consolidado_liv_mes[(consolidado_liv_mes['monto_promesa']>50)]\n",
    "consolidado_liv_mes = consolidado_liv_mes[(consolidado_liv_mes['monto_promesa']<500000)]\n",
    "consolidado_liv_mes['division'].fillna('COBRANZA',inplace=True)\n",
    "consolidado_liv_mes['division'] = consolidado_liv_mes['division'].replace('','COBRANZA')\n",
    "consolidado_liv_mes = consolidado_liv_mes.drop_duplicates(subset = ['usuario','credito','fecha_promesa','monto_promesa'])"
   ]
  },
  {
   "cell_type": "code",
   "execution_count": 78,
   "metadata": {},
   "outputs": [],
   "source": [
    "productos = [('DKN00REM','pren'),('DKN02REM','REM2'),('DKN04REM','REM4'),('SA001REM','SB02'),('SA002REM','REM9')]\n",
    "productos = pd.DataFrame(productos)\n",
    "productos.columns = ['id','division']\n",
    "consolidado_liv_mes = pd.merge(consolidado_liv_mes,productos,how='left',on=['division'])"
   ]
  },
  {
   "cell_type": "code",
   "execution_count": 79,
   "metadata": {},
   "outputs": [],
   "source": [
    "#Asignamos los aranceles de liverpool\n",
    "aranceles = [('DKN00REM',0.28),('DKN02REM',0.4),('DKN04REM',0.5),('SA001REM',0.15),('SA002REM',0.16)]\n",
    "aranceles = pd.DataFrame(aranceles)\n",
    "aranceles.columns = ['Id','Arancel']\n",
    "\n",
    "#Agregamos aranceles al consolidado\n",
    "pagos_liv3 = pd.merge(pagos_liv2,aranceles,how='left',on='Id')\n",
    "pagos_liv3['PagoArancel'] = [x*y for x,y in zip(pagos_liv3['Monto'],pagos_liv3['Arancel'])]"
   ]
  },
  {
   "cell_type": "code",
   "execution_count": 80,
   "metadata": {},
   "outputs": [],
   "source": [
    "#Unimos el consolidado con los pagos \n",
    "consolidado_pagos_liv = pd.merge(consolidado_liv_mes,pagos_liv3,how='left',left_on=['credito'],right_on=['Cuenta'])\n",
    "consolidado_pagos_liv = consolidado_pagos_liv.drop_duplicates(subset = ['credito','Monto','usuario','fecha_promesa'])\n",
    "consolidado_pagos_liv['Fecha Pago'] = pd.to_datetime(consolidado_pagos_liv['Fecha Pago'],dayfirst=True)\n",
    "consolidado_pagos_liv['dia_prom'] = consolidado_pagos_liv['fecha_promesa'].dt.day\n",
    "consolidado_pagos_liv['dia_pago'] = consolidado_pagos_liv['Fecha Pago'].dt.day\n",
    "cols = ['dia_prom','dia_pago','Monto']\n",
    "consolidado_pagos_liv[cols] = consolidado_pagos_liv[cols].apply(pd.to_numeric, errors='coerce',downcast='integer')\n",
    "consolidado_pagos_liv['dia_pago'].fillna(0,inplace=True)\n",
    "try:\n",
    "    consolidado_pagos_liv['dia_pago'] = [int(x) for x in consolidado_pagos_liv['dia_pago']]\n",
    "except: consolidado_pagos_liv['dia_pago'] = consolidado_pagos_liv['dia_pago']"
   ]
  },
  {
   "cell_type": "code",
   "execution_count": 81,
   "metadata": {},
   "outputs": [],
   "source": [
    "#Condicionamos a los gestores cuyas promesas y pagos estan en un plazo de 3 dias\n",
    "consolidado_pagos_liv['PagoReal'] = [np.where((z < x+pd.Timedelta(3, unit='D')) & ((z > x-pd.Timedelta(3, unit='D') )), y, 0) for x,y,z in zip(consolidado_pagos_liv['fecha_promesa'],consolidado_pagos_liv['Monto'],consolidado_pagos_liv['Fecha Pago'])]\n",
    "consolidado_pagos_liv['PagoReal'] = [x.item() for x in consolidado_pagos_liv['PagoReal']]"
   ]
  },
  {
   "cell_type": "code",
   "execution_count": 82,
   "metadata": {},
   "outputs": [],
   "source": [
    "consolidado_pagos_liv['MontoArancel'] = [x*y for x,y in zip(consolidado_pagos_liv['PagoReal'],consolidado_pagos_liv['Arancel'])]"
   ]
  },
  {
   "cell_type": "code",
   "execution_count": 83,
   "metadata": {},
   "outputs": [
    {
     "output_type": "execute_result",
     "data": {
      "text/plain": [
       "   Division  NumeroPromesas  SumaPromesas\n",
       "0  COBRANZA               4      31128.28\n",
       "1  DKN00REM              75     327977.87\n",
       "2  DKN02REM              63     374182.44\n",
       "3  DKN04REM              38     149896.37\n",
       "4  SA001REM              75     123798.64\n",
       "5  SA002REM               7      14273.00\n",
       "6       All             262    1021256.60"
      ],
      "text/html": "<div>\n<style scoped>\n    .dataframe tbody tr th:only-of-type {\n        vertical-align: middle;\n    }\n\n    .dataframe tbody tr th {\n        vertical-align: top;\n    }\n\n    .dataframe thead th {\n        text-align: right;\n    }\n</style>\n<table border=\"1\" class=\"dataframe\">\n  <thead>\n    <tr style=\"text-align: right;\">\n      <th></th>\n      <th>Division</th>\n      <th>NumeroPromesas</th>\n      <th>SumaPromesas</th>\n    </tr>\n  </thead>\n  <tbody>\n    <tr>\n      <th>0</th>\n      <td>COBRANZA</td>\n      <td>4</td>\n      <td>31128.28</td>\n    </tr>\n    <tr>\n      <th>1</th>\n      <td>DKN00REM</td>\n      <td>75</td>\n      <td>327977.87</td>\n    </tr>\n    <tr>\n      <th>2</th>\n      <td>DKN02REM</td>\n      <td>63</td>\n      <td>374182.44</td>\n    </tr>\n    <tr>\n      <th>3</th>\n      <td>DKN04REM</td>\n      <td>38</td>\n      <td>149896.37</td>\n    </tr>\n    <tr>\n      <th>4</th>\n      <td>SA001REM</td>\n      <td>75</td>\n      <td>123798.64</td>\n    </tr>\n    <tr>\n      <th>5</th>\n      <td>SA002REM</td>\n      <td>7</td>\n      <td>14273.00</td>\n    </tr>\n    <tr>\n      <th>6</th>\n      <td>All</td>\n      <td>262</td>\n      <td>1021256.60</td>\n    </tr>\n  </tbody>\n</table>\n</div>"
     },
     "metadata": {},
     "execution_count": 83
    }
   ],
   "source": [
    "#Obtenemos datos de los gestores de Liverpool\n",
    "promesas_mes_liv = pd.pivot_table(consolidado_pagos_liv,index=['division'],values=['monto_promesa'],aggfunc=['count',np.sum],margins=True,dropna=False)\n",
    "promesas_mes_liv = pd.DataFrame(promesas_mes_liv.to_records())\n",
    "promesas_mes_liv.columns = ['Division','NumeroPromesas','SumaPromesas']\n",
    "promesas_mes_liv.fillna(0,inplace=True)\n",
    "promesas_mes_liv"
   ]
  },
  {
   "cell_type": "code",
   "execution_count": 84,
   "metadata": {},
   "outputs": [
    {
     "output_type": "execute_result",
     "data": {
      "text/plain": [
       "Empty DataFrame\n",
       "Columns: [Division, PromesasRestantes]\n",
       "Index: []"
      ],
      "text/html": "<div>\n<style scoped>\n    .dataframe tbody tr th:only-of-type {\n        vertical-align: middle;\n    }\n\n    .dataframe tbody tr th {\n        vertical-align: top;\n    }\n\n    .dataframe thead th {\n        text-align: right;\n    }\n</style>\n<table border=\"1\" class=\"dataframe\">\n  <thead>\n    <tr style=\"text-align: right;\">\n      <th></th>\n      <th>Division</th>\n      <th>PromesasRestantes</th>\n    </tr>\n  </thead>\n  <tbody>\n  </tbody>\n</table>\n</div>"
     },
     "metadata": {},
     "execution_count": 84
    }
   ],
   "source": [
    "#Obtenemos las promesas restantes a partir del día de hoy\n",
    "restantes_liv = consolidado_pagos_liv.loc[consolidado_pagos_liv['fecha_promesa']>=ayer]\n",
    "promesas_restantes_liv = pd.pivot_table(restantes_liv,index=['id'],values=['monto_promesa'],aggfunc=[np.sum],dropna=False)\n",
    "promesas_restantes_liv = pd.DataFrame(promesas_restantes_liv.to_records())\n",
    "promesas_restantes_liv.columns = ['Division','PromesasRestantes']\n",
    "promesas_mes_liv.fillna(0,inplace=True)\n",
    "promesas_restantes_liv"
   ]
  },
  {
   "cell_type": "code",
   "execution_count": 85,
   "metadata": {},
   "outputs": [
    {
     "output_type": "execute_result",
     "data": {
      "text/plain": [
       "   Division  NumeroPagos  SumaPagos  SumaFacturacion  FechaFact\n",
       "0  DKN00REM           39  181816.00       50908.4800 2021-01-10\n",
       "1  DKN02REM           34  205398.99       82159.5960 2021-01-10\n",
       "2  DKN04REM           19  104195.37       52097.6850 2021-01-10\n",
       "3  SA001REM           39   62743.15        9411.4725 2021-01-10\n",
       "4  SA002REM            3    2411.00         385.7600 2021-01-10"
      ],
      "text/html": "<div>\n<style scoped>\n    .dataframe tbody tr th:only-of-type {\n        vertical-align: middle;\n    }\n\n    .dataframe tbody tr th {\n        vertical-align: top;\n    }\n\n    .dataframe thead th {\n        text-align: right;\n    }\n</style>\n<table border=\"1\" class=\"dataframe\">\n  <thead>\n    <tr style=\"text-align: right;\">\n      <th></th>\n      <th>Division</th>\n      <th>NumeroPagos</th>\n      <th>SumaPagos</th>\n      <th>SumaFacturacion</th>\n      <th>FechaFact</th>\n    </tr>\n  </thead>\n  <tbody>\n    <tr>\n      <th>0</th>\n      <td>DKN00REM</td>\n      <td>39</td>\n      <td>181816.00</td>\n      <td>50908.4800</td>\n      <td>2021-01-10</td>\n    </tr>\n    <tr>\n      <th>1</th>\n      <td>DKN02REM</td>\n      <td>34</td>\n      <td>205398.99</td>\n      <td>82159.5960</td>\n      <td>2021-01-10</td>\n    </tr>\n    <tr>\n      <th>2</th>\n      <td>DKN04REM</td>\n      <td>19</td>\n      <td>104195.37</td>\n      <td>52097.6850</td>\n      <td>2021-01-10</td>\n    </tr>\n    <tr>\n      <th>3</th>\n      <td>SA001REM</td>\n      <td>39</td>\n      <td>62743.15</td>\n      <td>9411.4725</td>\n      <td>2021-01-10</td>\n    </tr>\n    <tr>\n      <th>4</th>\n      <td>SA002REM</td>\n      <td>3</td>\n      <td>2411.00</td>\n      <td>385.7600</td>\n      <td>2021-01-10</td>\n    </tr>\n  </tbody>\n</table>\n</div>"
     },
     "metadata": {},
     "execution_count": 85
    }
   ],
   "source": [
    "#Total pagos Liver registrados\n",
    "pagos_totales_liv = pd.pivot_table(pagos_liv3,index=['Id'],values=['Monto','PagoArancel'],aggfunc=[np.sum,'count'],dropna=False)\n",
    "pagos_totales_liv = pd.DataFrame(pagos_totales_liv.to_records())\n",
    "pagos_totales_liv = pagos_totales_liv.iloc[:,[0,3,1,2]]\n",
    "pagos_totales_liv.columns = ['Division','NumeroPagos','SumaPagos','SumaFacturacion']\n",
    "pagos_totales_liv.fillna(0,inplace=True)\n",
    "pagos_totales_liv['FechaFact'] = max(pagos_liv2['Fecha Pago'])\n",
    "pagos_totales_liv['FechaFact'] = pd.to_datetime(pagos_totales_liv['FechaFact'],dayfirst=True)\n",
    "pagos_totales_liv"
   ]
  },
  {
   "cell_type": "code",
   "execution_count": 86,
   "metadata": {},
   "outputs": [
    {
     "output_type": "execute_result",
     "data": {
      "text/plain": [
       "     Cliente  Division  NumeroPagos  SumaPagos  SumaFacturacion  FechaFact  \\\n",
       "0  Liverpool  DKN00REM           39  181816.00       50908.4800 2021-01-10   \n",
       "1  Liverpool  DKN02REM           34  205398.99       82159.5960 2021-01-10   \n",
       "2  Liverpool  DKN04REM           19  104195.37       52097.6850 2021-01-10   \n",
       "3  Liverpool  SA001REM           39   62743.15        9411.4725 2021-01-10   \n",
       "4  Liverpool  SA002REM            3    2411.00         385.7600 2021-01-10   \n",
       "\n",
       "   NumeroPromesas  SumaPromesas  PromesasRestantes  \n",
       "0              75     327977.87                NaN  \n",
       "1              63     374182.44                NaN  \n",
       "2              38     149896.37                NaN  \n",
       "3              75     123798.64                NaN  \n",
       "4               7      14273.00                NaN  "
      ],
      "text/html": "<div>\n<style scoped>\n    .dataframe tbody tr th:only-of-type {\n        vertical-align: middle;\n    }\n\n    .dataframe tbody tr th {\n        vertical-align: top;\n    }\n\n    .dataframe thead th {\n        text-align: right;\n    }\n</style>\n<table border=\"1\" class=\"dataframe\">\n  <thead>\n    <tr style=\"text-align: right;\">\n      <th></th>\n      <th>Cliente</th>\n      <th>Division</th>\n      <th>NumeroPagos</th>\n      <th>SumaPagos</th>\n      <th>SumaFacturacion</th>\n      <th>FechaFact</th>\n      <th>NumeroPromesas</th>\n      <th>SumaPromesas</th>\n      <th>PromesasRestantes</th>\n    </tr>\n  </thead>\n  <tbody>\n    <tr>\n      <th>0</th>\n      <td>Liverpool</td>\n      <td>DKN00REM</td>\n      <td>39</td>\n      <td>181816.00</td>\n      <td>50908.4800</td>\n      <td>2021-01-10</td>\n      <td>75</td>\n      <td>327977.87</td>\n      <td>NaN</td>\n    </tr>\n    <tr>\n      <th>1</th>\n      <td>Liverpool</td>\n      <td>DKN02REM</td>\n      <td>34</td>\n      <td>205398.99</td>\n      <td>82159.5960</td>\n      <td>2021-01-10</td>\n      <td>63</td>\n      <td>374182.44</td>\n      <td>NaN</td>\n    </tr>\n    <tr>\n      <th>2</th>\n      <td>Liverpool</td>\n      <td>DKN04REM</td>\n      <td>19</td>\n      <td>104195.37</td>\n      <td>52097.6850</td>\n      <td>2021-01-10</td>\n      <td>38</td>\n      <td>149896.37</td>\n      <td>NaN</td>\n    </tr>\n    <tr>\n      <th>3</th>\n      <td>Liverpool</td>\n      <td>SA001REM</td>\n      <td>39</td>\n      <td>62743.15</td>\n      <td>9411.4725</td>\n      <td>2021-01-10</td>\n      <td>75</td>\n      <td>123798.64</td>\n      <td>NaN</td>\n    </tr>\n    <tr>\n      <th>4</th>\n      <td>Liverpool</td>\n      <td>SA002REM</td>\n      <td>3</td>\n      <td>2411.00</td>\n      <td>385.7600</td>\n      <td>2021-01-10</td>\n      <td>7</td>\n      <td>14273.00</td>\n      <td>NaN</td>\n    </tr>\n  </tbody>\n</table>\n</div>"
     },
     "metadata": {},
     "execution_count": 86
    }
   ],
   "source": [
    "final_liv = pd.merge(pagos_totales_liv,promesas_mes_liv,how='left',on=['Division'])\n",
    "final_liv = pd.merge(final_liv,promesas_restantes_liv,how='left',on=['Division'])\n",
    "final_liv.insert(loc=0,column='Cliente',value='Liverpool')\n",
    "final_liv"
   ]
  },
  {
   "source": [
    "# Reporte Bradesco"
   ],
   "cell_type": "markdown",
   "metadata": {}
  },
  {
   "cell_type": "code",
   "execution_count": 87,
   "metadata": {},
   "outputs": [],
   "source": [
    "asignacion_brad_c0 = pd.read_excel(''+ruta_pagos+'/Bradesco/Asignacion_c0/ASIGNACION C0 '+mes2+'.xlsx')\n",
    "asignacion_brad_c0 = asignacion_brad_c0.iloc[:,[0,2,3,8,10,11,14,25]]\n",
    "asignacion_brad_extra = pd.read_csv(''+ruta_pagos+'/Bradesco/Asignacion_extra/CSV/Asignacion Extra '+mes2+'.csv',encoding= 'unicode_escape')\n",
    "asignacion_brad_extra = asignacion_brad_extra.iloc[:,[0,2,3,5,9,25,26,28]]\n",
    "asignacion_brad_extra.columns = ['CODIGO_ORG','NUMERO_CUENTA','NUMERO_TARJETA','RFC','ESTADO','SALDO_TOTAL','PAGO_DESCUENTO','PAGOSVENCIDOS']\n",
    "\n",
    "asignacion_brad = pd.concat([asignacion_brad_c0,asignacion_brad_extra],ignore_index=True)"
   ]
  },
  {
   "cell_type": "code",
   "execution_count": 88,
   "metadata": {},
   "outputs": [],
   "source": [
    "#Hacemos la consulta referente a las gestiones de Bradesco\n",
    "gestion_brad_mes = cs.query_naucalpan('bradescard_rpt_gestiones_detallado',mes,today)\n",
    "gestion_brad_mes.columns = ['folio_gestion','firma_id','unegocio_id','NUMERO_TARJETA','nombre_credito','telefono','tipo_telefono','fecha_gestion','usuario','nombre_usuario','dictamen','accion','resultado','accion_resultado','fecha_promesa','monto_promesa','comentarios']\n",
    "gestion_brad_mes = gestion_brad_mes.loc[gestion_brad_mes['dictamen']=='PROMESA']\n",
    "gestion_brad_mes['NUMERO_TARJETA'] = pd.to_numeric(gestion_brad_mes['NUMERO_TARJETA'])\n",
    "gestion_brad_mes['monto_promesa'] = pd.to_numeric(gestion_brad_mes['monto_promesa'])\n",
    "gestion_brad_mes = gestion_brad_mes.drop_duplicates(subset=['NUMERO_TARJETA','usuario','fecha_promesa','monto_promesa'])"
   ]
  },
  {
   "cell_type": "code",
   "execution_count": 89,
   "metadata": {},
   "outputs": [
    {
     "output_type": "execute_result",
     "data": {
      "text/plain": [
       "   folio_gestion  firma_id  unegocio_id    NUMERO_TARJETA  \\\n",
       "0        9595300         1            3  5063291625426018   \n",
       "\n",
       "                  nombre_credito    telefono tipo_telefono  \\\n",
       "0  ROMERO DELGADO  ROGELIO PABLO  8119910367       celular   \n",
       "\n",
       "        fecha_gestion   usuario          nombre_usuario  ... fecha_promesa  \\\n",
       "0 2021-01-11 16:48:02  VEGAHENA  VEGA HERNANDEZ NATALIE  ...    2021-01-25   \n",
       "\n",
       "  monto_promesa                                        comentarios CODIGO_ORG  \\\n",
       "0         615.0  8119910367 TT REALIZARA PAGO APRCIAL POR $615 ...       PLCC   \n",
       "\n",
       "      NUMERO_CUENTA      ESTADO              RFC SALDO_TOTAL  PAGO_DESCUENTO  \\\n",
       "0  5063291625426000  NUEVO LEON  RODR760628Q5801     1889.64          1229.0   \n",
       "\n",
       "  PAGOSVENCIDOS  \n",
       "0        C0 5PV  \n",
       "\n",
       "[1 rows x 24 columns]"
      ],
      "text/html": "<div>\n<style scoped>\n    .dataframe tbody tr th:only-of-type {\n        vertical-align: middle;\n    }\n\n    .dataframe tbody tr th {\n        vertical-align: top;\n    }\n\n    .dataframe thead th {\n        text-align: right;\n    }\n</style>\n<table border=\"1\" class=\"dataframe\">\n  <thead>\n    <tr style=\"text-align: right;\">\n      <th></th>\n      <th>folio_gestion</th>\n      <th>firma_id</th>\n      <th>unegocio_id</th>\n      <th>NUMERO_TARJETA</th>\n      <th>nombre_credito</th>\n      <th>telefono</th>\n      <th>tipo_telefono</th>\n      <th>fecha_gestion</th>\n      <th>usuario</th>\n      <th>nombre_usuario</th>\n      <th>...</th>\n      <th>fecha_promesa</th>\n      <th>monto_promesa</th>\n      <th>comentarios</th>\n      <th>CODIGO_ORG</th>\n      <th>NUMERO_CUENTA</th>\n      <th>ESTADO</th>\n      <th>RFC</th>\n      <th>SALDO_TOTAL</th>\n      <th>PAGO_DESCUENTO</th>\n      <th>PAGOSVENCIDOS</th>\n    </tr>\n  </thead>\n  <tbody>\n    <tr>\n      <th>0</th>\n      <td>9595300</td>\n      <td>1</td>\n      <td>3</td>\n      <td>5063291625426018</td>\n      <td>ROMERO DELGADO  ROGELIO PABLO</td>\n      <td>8119910367</td>\n      <td>celular</td>\n      <td>2021-01-11 16:48:02</td>\n      <td>VEGAHENA</td>\n      <td>VEGA HERNANDEZ NATALIE</td>\n      <td>...</td>\n      <td>2021-01-25</td>\n      <td>615.0</td>\n      <td>8119910367 TT REALIZARA PAGO APRCIAL POR $615 ...</td>\n      <td>PLCC</td>\n      <td>5063291625426000</td>\n      <td>NUEVO LEON</td>\n      <td>RODR760628Q5801</td>\n      <td>1889.64</td>\n      <td>1229.0</td>\n      <td>C0 5PV</td>\n    </tr>\n  </tbody>\n</table>\n<p>1 rows × 24 columns</p>\n</div>"
     },
     "metadata": {},
     "execution_count": 89
    }
   ],
   "source": [
    "#Hacemos la union de asignacion y promesas\n",
    "consolidado_brad_mes = pd.merge(gestion_brad_mes,asignacion_brad,how='left',on=['NUMERO_TARJETA'])\n",
    "cols = ['monto_promesa']\n",
    "consolidado_brad_mes[cols] = consolidado_brad_mes[cols].apply(pd.to_numeric, errors='coerce')\n",
    "consolidado_brad_mes = consolidado_brad_mes[(consolidado_brad_mes['monto_promesa']>50)]\n",
    "consolidado_brad_mes = consolidado_brad_mes[(consolidado_brad_mes['monto_promesa']<500000)]\n",
    "#consolidado_brad_mes.fillna('COBRANZA',inplace=True)\n",
    "consolidado_brad_mes['NUMERO_TARJETA'] = pd.to_numeric(consolidado_brad_mes['NUMERO_TARJETA'])\n",
    "consolidado_brad_mes.head(1)"
   ]
  },
  {
   "cell_type": "code",
   "execution_count": 90,
   "metadata": {},
   "outputs": [],
   "source": [
    "#Obtenemos los pagos totales por division\n",
    "pagos_totales_brad = pd.pivot_table(pagos_brad2,index=['TIPO_ASIGANCION'],values=['MONTO'],aggfunc=[np.sum,'count'],margins=True,dropna=False)\n",
    "pagos_totales_brad = pd.DataFrame(pagos_totales_brad.to_records())\n",
    "pagos_totales_brad = pagos_totales_brad.iloc[:,[0,2,1]]\n",
    "pagos_totales_brad.columns = ['Division','NumeroPagos','SumaPagos']\n",
    "pagos_totales_brad.fillna(0,inplace=True)"
   ]
  },
  {
   "cell_type": "code",
   "execution_count": 91,
   "metadata": {},
   "outputs": [],
   "source": [
    "C04PV = pagos_totales_brad.loc[pagos_totales_brad['Division']=='C0 4PV', 'SumaPagos'].item()\n",
    "C05PV = pagos_totales_brad.loc[pagos_totales_brad['Division']=='C0 5PV', 'SumaPagos'].item()\n",
    "C06PV = pagos_totales_brad.loc[pagos_totales_brad['Division']=='C0 6PV', 'SumaPagos'].item()\n",
    "A = pagos_totales_brad.loc[pagos_totales_brad['Division']=='A', 'SumaPagos'].item()\n",
    "C1 = pagos_totales_brad.loc[pagos_totales_brad['Division']=='C1', 'SumaPagos'].item()\n",
    "C2 = pagos_totales_brad.loc[pagos_totales_brad['Division']=='C2', 'SumaPagos'].item()\n",
    "C3 = pagos_totales_brad.loc[pagos_totales_brad['Division']=='C3', 'SumaPagos'].item()\n",
    "C4 = pagos_totales_brad.loc[pagos_totales_brad['Division']=='C4', 'SumaPagos'].item()\n",
    "B = pagos_totales_brad.loc[pagos_totales_brad['Division']=='B', 'SumaPagos'].item()"
   ]
  },
  {
   "cell_type": "code",
   "execution_count": 92,
   "metadata": {},
   "outputs": [],
   "source": [
    "def func(row):\n",
    "    if row['TIPO_ASIGANCION'] == 'C0 4PV':\n",
    "        return np.where((C04PV>0) & (C04PV<=c04pv1),arancel_4pv1,\n",
    "                        np.where((C04PV>c04pv1) & (C04PV<=c04pv2),arancel_4pv2,\n",
    "                                 np.where((C04PV>c04pv2) & (C04PV<=c04pv3),arancel_4pv3,arancel_4pv3+.03)))\n",
    "    elif row['TIPO_ASIGANCION'] == 'C0 5PV':\n",
    "        return np.where((C05PV>0) & (C05PV<=c05pv1),arancel_5pv1,\n",
    "                        np.where((C05PV>c05pv1) & (C05PV<=c05pv2),arancel_5pv2,\n",
    "                                 np.where((C05PV>c05pv2) & (C05PV<=c05pv3),arancel_5pv3,arancel_5pv3+.03)))\n",
    "    elif row['TIPO_ASIGANCION'] == 'C0 6PV':\n",
    "        return np.where((C06PV>0) & (C06PV<=c06pv1),arancel_6pv1,\n",
    "                        np.where((C06PV>c06pv1) & (C06PV<=c06pv2),arancel_6pv2,\n",
    "                                 np.where((C06PV>c06pv2) & (C06PV<=c06pv3),arancel_6pv3,arancel_6pv3+.03)))\n",
    "    elif row['TIPO_ASIGANCION'] == 'A':\n",
    "        return np.where((A>0) & (A<=a1),arancel_a1,\n",
    "                        np.where((A>a1) & (A<=a2),arancel_a2,\n",
    "                                 np.where((A>a2) & (A<=a3),arancel_a3,arancel_a3+.03)))\n",
    "    elif row['TIPO_ASIGANCION'] == 'B':\n",
    "        return np.where((B>0) & (B<=b1),arancel_b1,\n",
    "                        np.where((B>b1) & (B<=b2),arancel_b2,\n",
    "                                 np.where((B>b2) & (B<=b3),arancel_b3,arancel_b3+.03)))\n",
    "    elif row['TIPO_ASIGANCION'] == 'C1':\n",
    "        return np.where((C1>0) & (C1<=c11),arancel_c11,\n",
    "                        np.where((C1>c11) & (C1<=c12),arancel_c12,\n",
    "                                 np.where((C1>c12) & (C1<=c13),arancel_c13,arancel_c13+.03)))\n",
    "    elif row['TIPO_ASIGANCION'] == 'C2':\n",
    "        return np.where((C2>0) & (C2<=c21),arancel_c21,\n",
    "                        np.where((C2>c21) & (C2<=c22),arancel_c22,\n",
    "                                 np.where((C2>c22) & (C2<=c23),arancel_c23,arancel_c23+.03)))\n",
    "    elif row['TIPO_ASIGANCION'] == 'C3':\n",
    "        return np.where((C3>0) & (C3<=c31),arancel_c31,\n",
    "                        np.where((C3>c31) & (C3<=c32),arancel_c32,\n",
    "                                 np.where((C3>c32) & (C3<=c33),arancel_c33,arancel_c33+.03)))\n",
    "    elif row['TIPO_ASIGANCION'] == 'C4':\n",
    "        return np.where((C4>0) & (C4<=c41),arancel_c41,\n",
    "                        np.where((C4>c41) & (C4<=c42),arancel_c42,\n",
    "                                 np.where((C4>c42) & (C4<=c43),arancel_c43,arancel_c43+.03)))\n",
    "    \n",
    "    else:\n",
    "        return 0\n",
    "\n",
    "pagos_brad2['Arancel'] = pagos_brad2.apply(func, axis=1)"
   ]
  },
  {
   "cell_type": "code",
   "execution_count": 93,
   "metadata": {},
   "outputs": [],
   "source": [
    "pagos_brad2['Facturacion'] = [x*y for x,y in zip(pagos_brad2['MONTO'],pagos_brad2['Arancel'])]"
   ]
  },
  {
   "cell_type": "code",
   "execution_count": 94,
   "metadata": {},
   "outputs": [],
   "source": [
    "#Hacemos la union consolidado y pagos\n",
    "consoliado_pagos_brad = pd.merge(consolidado_brad_mes,pagos_brad2,how='left',left_on=['NUMERO_TARJETA'],right_on=['NUMERO_TARJETA'])\n",
    "try: consoliado_pagos_brad['fecha_promesa'] = pd.to_datetime(consoliado_pagos_brad['fecha_promesa'],dayfirst=False)\n",
    "except: consoliado_pagos_brad['fecha_promesa'] = consoliado_pagos_brad['fecha_gestion']"
   ]
  },
  {
   "cell_type": "code",
   "execution_count": 95,
   "metadata": {},
   "outputs": [],
   "source": [
    "#Condicionamos a los gestores cuyas promesas y pagos estan en un plazo de 3 dias\n",
    "consoliado_pagos_brad['PagoUnico'] = [np.where((z < x+pd.Timedelta(4, unit='D')) & ((z > x-pd.Timedelta(3, unit='D') )), y, 0) for x,y,z in zip(consoliado_pagos_brad['fecha_promesa'],consoliado_pagos_brad['MONTO'],consoliado_pagos_brad['FECHA_PAGO'])]\n",
    "consoliado_pagos_brad['PagoUnico'] = [x.item() for x in consoliado_pagos_brad['PagoUnico']]"
   ]
  },
  {
   "cell_type": "code",
   "execution_count": 96,
   "metadata": {},
   "outputs": [],
   "source": [
    "consoliado_pagos_brad['PagoReal'] = [x*y for x,y in zip(consoliado_pagos_brad['PagoUnico'],consoliado_pagos_brad['Arancel'])]\n",
    "consoliado_pagos_brad2 = consoliado_pagos_brad.drop_duplicates(subset=['NUMERO_CUENTA','MONTO','FECHA_PAGO','usuario'])"
   ]
  },
  {
   "cell_type": "code",
   "execution_count": 97,
   "metadata": {},
   "outputs": [
    {
     "output_type": "execute_result",
     "data": {
      "text/plain": [
       "  Division  NumeroPromesas  SumaPromesas\n",
       "0        A              17      38197.00\n",
       "1        B               5       9797.00\n",
       "2   C0 4PV             142     237789.09\n",
       "3   C0 5PV              76     125807.00\n",
       "4   C0 6PV              55     111773.00\n",
       "5       C1              81     132339.00\n",
       "6       C2              79     106979.00\n",
       "7       C3              68      92581.00\n",
       "8       C4              24      27318.00\n",
       "9      All             547     882580.09"
      ],
      "text/html": "<div>\n<style scoped>\n    .dataframe tbody tr th:only-of-type {\n        vertical-align: middle;\n    }\n\n    .dataframe tbody tr th {\n        vertical-align: top;\n    }\n\n    .dataframe thead th {\n        text-align: right;\n    }\n</style>\n<table border=\"1\" class=\"dataframe\">\n  <thead>\n    <tr style=\"text-align: right;\">\n      <th></th>\n      <th>Division</th>\n      <th>NumeroPromesas</th>\n      <th>SumaPromesas</th>\n    </tr>\n  </thead>\n  <tbody>\n    <tr>\n      <th>0</th>\n      <td>A</td>\n      <td>17</td>\n      <td>38197.00</td>\n    </tr>\n    <tr>\n      <th>1</th>\n      <td>B</td>\n      <td>5</td>\n      <td>9797.00</td>\n    </tr>\n    <tr>\n      <th>2</th>\n      <td>C0 4PV</td>\n      <td>142</td>\n      <td>237789.09</td>\n    </tr>\n    <tr>\n      <th>3</th>\n      <td>C0 5PV</td>\n      <td>76</td>\n      <td>125807.00</td>\n    </tr>\n    <tr>\n      <th>4</th>\n      <td>C0 6PV</td>\n      <td>55</td>\n      <td>111773.00</td>\n    </tr>\n    <tr>\n      <th>5</th>\n      <td>C1</td>\n      <td>81</td>\n      <td>132339.00</td>\n    </tr>\n    <tr>\n      <th>6</th>\n      <td>C2</td>\n      <td>79</td>\n      <td>106979.00</td>\n    </tr>\n    <tr>\n      <th>7</th>\n      <td>C3</td>\n      <td>68</td>\n      <td>92581.00</td>\n    </tr>\n    <tr>\n      <th>8</th>\n      <td>C4</td>\n      <td>24</td>\n      <td>27318.00</td>\n    </tr>\n    <tr>\n      <th>9</th>\n      <td>All</td>\n      <td>547</td>\n      <td>882580.09</td>\n    </tr>\n  </tbody>\n</table>\n</div>"
     },
     "metadata": {},
     "execution_count": 97
    }
   ],
   "source": [
    "#Obtenemos datos de las promesas de Bradesco\n",
    "prom_brad_div_mes = pd.pivot_table(consoliado_pagos_brad2,index='PAGOSVENCIDOS',values=['monto_promesa'], aggfunc = ['count',np.sum], margins=True,dropna=False)\n",
    "prom_brad_div_mes = pd.DataFrame(prom_brad_div_mes.to_records())\n",
    "prom_brad_div_mes.columns = ['Division','NumeroPromesas','SumaPromesas']\n",
    "prom_brad_div_mes.fillna(0,inplace=True)\n",
    "prom_brad_div_mes"
   ]
  },
  {
   "cell_type": "code",
   "execution_count": 98,
   "metadata": {},
   "outputs": [
    {
     "output_type": "execute_result",
     "data": {
      "text/plain": [
       "  Division  PromesasRestantes\n",
       "0        A            5105.00\n",
       "1        B            1050.00\n",
       "2   C0 4PV          136473.09\n",
       "3   C0 5PV           78999.00\n",
       "4   C0 6PV           63407.00\n",
       "5       C1           46004.00\n",
       "6       C2           59896.00\n",
       "7       C3           44631.00\n",
       "8       C4            9738.00"
      ],
      "text/html": "<div>\n<style scoped>\n    .dataframe tbody tr th:only-of-type {\n        vertical-align: middle;\n    }\n\n    .dataframe tbody tr th {\n        vertical-align: top;\n    }\n\n    .dataframe thead th {\n        text-align: right;\n    }\n</style>\n<table border=\"1\" class=\"dataframe\">\n  <thead>\n    <tr style=\"text-align: right;\">\n      <th></th>\n      <th>Division</th>\n      <th>PromesasRestantes</th>\n    </tr>\n  </thead>\n  <tbody>\n    <tr>\n      <th>0</th>\n      <td>A</td>\n      <td>5105.00</td>\n    </tr>\n    <tr>\n      <th>1</th>\n      <td>B</td>\n      <td>1050.00</td>\n    </tr>\n    <tr>\n      <th>2</th>\n      <td>C0 4PV</td>\n      <td>136473.09</td>\n    </tr>\n    <tr>\n      <th>3</th>\n      <td>C0 5PV</td>\n      <td>78999.00</td>\n    </tr>\n    <tr>\n      <th>4</th>\n      <td>C0 6PV</td>\n      <td>63407.00</td>\n    </tr>\n    <tr>\n      <th>5</th>\n      <td>C1</td>\n      <td>46004.00</td>\n    </tr>\n    <tr>\n      <th>6</th>\n      <td>C2</td>\n      <td>59896.00</td>\n    </tr>\n    <tr>\n      <th>7</th>\n      <td>C3</td>\n      <td>44631.00</td>\n    </tr>\n    <tr>\n      <th>8</th>\n      <td>C4</td>\n      <td>9738.00</td>\n    </tr>\n  </tbody>\n</table>\n</div>"
     },
     "metadata": {},
     "execution_count": 98
    }
   ],
   "source": [
    "#Obtenemos las promesas restantes a partir del día de hoy\n",
    "restantes_brad = consoliado_pagos_brad2.loc[consoliado_pagos_brad2['fecha_promesa']>=ayer]\n",
    "promesas_restantes_brad = pd.pivot_table(restantes_brad,index=['PAGOSVENCIDOS'],values=['monto_promesa'],aggfunc=[np.sum],dropna=False)\n",
    "promesas_restantes_brad = pd.DataFrame(promesas_restantes_brad.to_records())\n",
    "promesas_restantes_brad.columns = ['Division','PromesasRestantes']\n",
    "promesas_restantes_brad.fillna(0,inplace=True)\n",
    "promesas_restantes_brad"
   ]
  },
  {
   "cell_type": "code",
   "execution_count": 99,
   "metadata": {},
   "outputs": [],
   "source": [
    "pagos_totales_brad2 = pd.pivot_table(pagos_brad2,index=['TIPO_ASIGANCION'],values=['MONTO','Facturacion'],aggfunc=['count',np.sum],dropna=False)\n",
    "pagos_totales_brad2 = pd.DataFrame(pagos_totales_brad2.to_records())\n",
    "pagos_totales_brad2 = pagos_totales_brad2.iloc[:,[0,1,4,3]]\n",
    "pagos_totales_brad2.columns = ['Division','NumeroPagos','SumaPagos','SumaFacturacion']\n",
    "pagos_totales_brad2.fillna(0,inplace=True)\n",
    "pagos_totales_brad2['FechaFact'] = max(pagos_brad2['FECHA_PAGO'])"
   ]
  },
  {
   "cell_type": "code",
   "execution_count": 100,
   "metadata": {},
   "outputs": [
    {
     "output_type": "execute_result",
     "data": {
      "text/plain": [
       "    Cliente Division  NumeroPagos  SumaPagos  SumaFacturacion  FechaFact  \\\n",
       "0  Bradesco        A            4    7250.00        1957.5000 2021-01-10   \n",
       "1  Bradesco        B            3    4797.00        1199.2500 2021-01-10   \n",
       "2  Bradesco   C0 4PV           95  166763.13       11673.4191 2021-01-10   \n",
       "3  Bradesco   C0 5PV           61   84299.10        7586.9190 2021-01-10   \n",
       "4  Bradesco   C0 6PV           37   62408.00        6240.8000 2021-01-10   \n",
       "5  Bradesco       C1           53   77593.00       13190.8100 2021-01-10   \n",
       "6  Bradesco       C2           33   49080.84        9325.3596 2021-01-10   \n",
       "7  Bradesco       C3           20   32240.00        6770.4000 2021-01-10   \n",
       "8  Bradesco       C4            6    4471.00        1028.3300 2021-01-10   \n",
       "\n",
       "   NumeroPromesas  SumaPromesas  PromesasRestantes  \n",
       "0              17      38197.00            5105.00  \n",
       "1               5       9797.00            1050.00  \n",
       "2             142     237789.09          136473.09  \n",
       "3              76     125807.00           78999.00  \n",
       "4              55     111773.00           63407.00  \n",
       "5              81     132339.00           46004.00  \n",
       "6              79     106979.00           59896.00  \n",
       "7              68      92581.00           44631.00  \n",
       "8              24      27318.00            9738.00  "
      ],
      "text/html": "<div>\n<style scoped>\n    .dataframe tbody tr th:only-of-type {\n        vertical-align: middle;\n    }\n\n    .dataframe tbody tr th {\n        vertical-align: top;\n    }\n\n    .dataframe thead th {\n        text-align: right;\n    }\n</style>\n<table border=\"1\" class=\"dataframe\">\n  <thead>\n    <tr style=\"text-align: right;\">\n      <th></th>\n      <th>Cliente</th>\n      <th>Division</th>\n      <th>NumeroPagos</th>\n      <th>SumaPagos</th>\n      <th>SumaFacturacion</th>\n      <th>FechaFact</th>\n      <th>NumeroPromesas</th>\n      <th>SumaPromesas</th>\n      <th>PromesasRestantes</th>\n    </tr>\n  </thead>\n  <tbody>\n    <tr>\n      <th>0</th>\n      <td>Bradesco</td>\n      <td>A</td>\n      <td>4</td>\n      <td>7250.00</td>\n      <td>1957.5000</td>\n      <td>2021-01-10</td>\n      <td>17</td>\n      <td>38197.00</td>\n      <td>5105.00</td>\n    </tr>\n    <tr>\n      <th>1</th>\n      <td>Bradesco</td>\n      <td>B</td>\n      <td>3</td>\n      <td>4797.00</td>\n      <td>1199.2500</td>\n      <td>2021-01-10</td>\n      <td>5</td>\n      <td>9797.00</td>\n      <td>1050.00</td>\n    </tr>\n    <tr>\n      <th>2</th>\n      <td>Bradesco</td>\n      <td>C0 4PV</td>\n      <td>95</td>\n      <td>166763.13</td>\n      <td>11673.4191</td>\n      <td>2021-01-10</td>\n      <td>142</td>\n      <td>237789.09</td>\n      <td>136473.09</td>\n    </tr>\n    <tr>\n      <th>3</th>\n      <td>Bradesco</td>\n      <td>C0 5PV</td>\n      <td>61</td>\n      <td>84299.10</td>\n      <td>7586.9190</td>\n      <td>2021-01-10</td>\n      <td>76</td>\n      <td>125807.00</td>\n      <td>78999.00</td>\n    </tr>\n    <tr>\n      <th>4</th>\n      <td>Bradesco</td>\n      <td>C0 6PV</td>\n      <td>37</td>\n      <td>62408.00</td>\n      <td>6240.8000</td>\n      <td>2021-01-10</td>\n      <td>55</td>\n      <td>111773.00</td>\n      <td>63407.00</td>\n    </tr>\n    <tr>\n      <th>5</th>\n      <td>Bradesco</td>\n      <td>C1</td>\n      <td>53</td>\n      <td>77593.00</td>\n      <td>13190.8100</td>\n      <td>2021-01-10</td>\n      <td>81</td>\n      <td>132339.00</td>\n      <td>46004.00</td>\n    </tr>\n    <tr>\n      <th>6</th>\n      <td>Bradesco</td>\n      <td>C2</td>\n      <td>33</td>\n      <td>49080.84</td>\n      <td>9325.3596</td>\n      <td>2021-01-10</td>\n      <td>79</td>\n      <td>106979.00</td>\n      <td>59896.00</td>\n    </tr>\n    <tr>\n      <th>7</th>\n      <td>Bradesco</td>\n      <td>C3</td>\n      <td>20</td>\n      <td>32240.00</td>\n      <td>6770.4000</td>\n      <td>2021-01-10</td>\n      <td>68</td>\n      <td>92581.00</td>\n      <td>44631.00</td>\n    </tr>\n    <tr>\n      <th>8</th>\n      <td>Bradesco</td>\n      <td>C4</td>\n      <td>6</td>\n      <td>4471.00</td>\n      <td>1028.3300</td>\n      <td>2021-01-10</td>\n      <td>24</td>\n      <td>27318.00</td>\n      <td>9738.00</td>\n    </tr>\n  </tbody>\n</table>\n</div>"
     },
     "metadata": {},
     "execution_count": 100
    }
   ],
   "source": [
    "final_brad = pd.merge(pagos_totales_brad2,prom_brad_div_mes,how='left',on=['Division'])\n",
    "final_brad = pd.merge(final_brad,promesas_restantes_brad,how='left',on=['Division'])\n",
    "final_brad.fillna(0,inplace=True)\n",
    "final_brad.insert(loc=0,column='Cliente',value='Bradesco')\n",
    "final_brad"
   ]
  },
  {
   "source": [
    "# Reporte Banco Azteca  "
   ],
   "cell_type": "markdown",
   "metadata": {}
  },
  {
   "cell_type": "code",
   "execution_count": 101,
   "metadata": {},
   "outputs": [],
   "source": [
    "# #Hacemos la consulta referente a las gestiones de Banco Azteca\n",
    "# sql_gest_baz = cursor.callproc('baz_rpt_gestiones_detallado', [mes,today])\n",
    "# for result in cursor.stored_results():\n",
    "#      gestion_baz = pd.DataFrame(result.fetchall())\n",
    "# gestion_baz.columns = ['folio_gestion','firma_id','unegocio_id','credito','nombre_credito','telefono','tipo_telefono','fecha_gestion','usuario','nombre_usuario','dictamen','accion_resultado','fecha_promesa','monto_promesa','comentarios']\n",
    "# gestion_baz = gestion_baz.loc[gestion_baz['dictamen']=='PROMESA']\n",
    "# gestion_baz['monto_promesa'] = pd.to_numeric(gestion_baz['monto_promesa'])\n",
    "# gestion_baz = gestion_baz.loc[gestion_baz['fecha_promesa'].map(str).str[:4].map(int)<2100]\n",
    "# gestion_baz['fecha_promesa'] = pd.to_datetime(gestion_baz['fecha_promesa'],dayfirst=False)\n",
    "# #gestion_baz.head(3)"
   ]
  },
  {
   "cell_type": "code",
   "execution_count": 102,
   "metadata": {},
   "outputs": [],
   "source": [
    "# #Obtenemos datos de las promesas de Banco Azteca\n",
    "# gestion_baz = gestion_baz.drop_duplicates(subset=['credito','fecha_promesa','monto_promesa'])\n",
    "# prom_baz_div_mes = pd.pivot_table(gestion_baz,index=['dictamen'],values=['unegocio_id','monto_promesa'],aggfunc=('count',np.sum))\n",
    "# prom_baz_div_mes = pd.DataFrame(prom_baz_div_mes.to_records())\n",
    "# prom_baz_div_mes = prom_baz_div_mes.iloc[:,[0,1,2]]\n",
    "# prom_baz_div_mes.columns = ['Division','NumeroPromesas','SumaPromesas']\n",
    "# prom_baz_div_mes.fillna(0,inplace=True)\n",
    "# prom_baz_div_mes = prom_baz_div_mes.replace('PROMESA','COBRANZA')\n",
    "# prom_baz_div_mes"
   ]
  },
  {
   "cell_type": "code",
   "execution_count": 103,
   "metadata": {},
   "outputs": [],
   "source": [
    "# #Obtenemos las promesas restantes a partir del día de hoy\n",
    "# restantes_baz = gestion_baz.loc[gestion_baz['fecha_promesa']>=ayer]\n",
    "\n",
    "# promesas_restantes_baz = pd.pivot_table(restantes_baz,index=['dictamen'],values=['monto_promesa'],aggfunc=[np.sum],dropna=False)\n",
    "# promesas_restantes_baz = pd.DataFrame(promesas_restantes_baz.to_records())\n",
    "# promesas_restantes_baz.columns = ['Division','PromesasRestantes']\n",
    "# promesas_restantes_baz = promesas_restantes_baz.replace('PROMESA','COBRANZA')\n",
    "# promesas_restantes_baz.fillna(0,inplace=True)\n",
    "# promesas_restantes_baz"
   ]
  },
  {
   "cell_type": "code",
   "execution_count": 104,
   "metadata": {},
   "outputs": [],
   "source": [
    "# pagos_baz2['division'] = 'COBRANZA'\n",
    "# pagos_baz2['FNFACTURACION'] = [x*.2 for x in pagos_baz2['FNMONTOPAGADO']]\n",
    "# pagos_totales_baz = pd.pivot_table(pagos_baz2,index=['division'],values=['FNMONTOPAGADO'],aggfunc=['count',np.sum],dropna=False)\n",
    "# pagos_totales_baz = pd.DataFrame(pagos_totales_baz.to_records())\n",
    "# #pagos_totales_baz = pagos_totales_baz.iloc[:,[0,1,4,3]]\n",
    "# pagos_totales_baz.columns = ['Division','NumeroPagos','SumaPagos']\n",
    "# #pagos_totales_baz.fillna(0,inplace=True)\n",
    "# #pagos_totales_baz['FechaFact'] = ayer\n",
    "# pagos_totales_baz"
   ]
  },
  {
   "cell_type": "code",
   "execution_count": 105,
   "metadata": {},
   "outputs": [],
   "source": [
    "# fact_baz['Total Recuperado'] = np.where(fact_baz['Inicio de Semana']<mes3,fact_baz['Total Recuperado']*.85,fact_baz['Total Recuperado'])\n",
    "# fact_baz['Total Comisión'] = np.where(fact_baz['Inicio de Semana']<mes3,fact_baz['Total Comisión']*.85,fact_baz['Total Comisión'])"
   ]
  },
  {
   "cell_type": "code",
   "execution_count": 106,
   "metadata": {},
   "outputs": [],
   "source": [
    "# #Hacemos la consulta de pagos y facturacion\n",
    "# fact_baz['Division2'] = 'COBRANZA'\n",
    "# pagos_fact_baz = pd.pivot_table(fact_baz,index=['Division2'],values=['Total Recuperado','Total Comisión'],aggfunc=[np.sum])\n",
    "# pagos_fact_baz = to_dataframe(pagos_fact_baz)\n",
    "# pagos_fact_baz = pagos_fact_baz.iloc[:,[0,2,1]]\n",
    "# pagos_fact_baz.columns = ['Division','SumaPagos','SumaFacturacion']\n",
    "# pagos_fact_baz['FechaFact'] = max(fact_baz['Final de Semana'])\n",
    "# pagos_fact_baz"
   ]
  },
  {
   "cell_type": "code",
   "execution_count": 107,
   "metadata": {},
   "outputs": [],
   "source": [
    "# final_baz = pd.merge(pagos_fact_baz,prom_baz_div_mes,how='left',on=['Division'])\n",
    "# final_baz = pd.merge(final_baz,promesas_restantes_baz,how='left',on=['Division'])\n",
    "# final_baz.fillna(0,inplace=True)\n",
    "# final_baz.insert(loc=0,column='Cliente',value='Banco Azteca')\n",
    "# final_baz"
   ]
  },
  {
   "source": [
    "# Reporte Credifiel"
   ],
   "cell_type": "markdown",
   "metadata": {}
  },
  {
   "cell_type": "code",
   "execution_count": 108,
   "metadata": {},
   "outputs": [],
   "source": [
    "#Hacemos la consulta referente a las gestiones de Credifiel\n",
    "gestion_cred = cs.query_naucalpan('credifiel_rpt_gestiones_detallado',mes,today)\n",
    "gestion_cred.columns = ['folio_gestion','unegocio_id','fecha_gestion','hora_gestion','credito','nombre_credito','telefono','usuario','nombre_usuario','accion','resultado','fecha_promesa','monto_promesa','comentarios','accion_credifiel','resultado_credifiel','dictamen']\n",
    "gestion_cred['monto_promesa'] = pd.to_numeric(gestion_cred['monto_promesa'])\n",
    "gestion_cred = gestion_cred.loc[gestion_cred['accion_credifiel']=='PDP']\n",
    "gestion_cred['credito'] = [x[3:] for x in gestion_cred['credito']]\n",
    "gestion_cred['credito'] = pd.to_numeric(gestion_cred['credito'])\n",
    "#gestion_cred.head(3)"
   ]
  },
  {
   "cell_type": "code",
   "execution_count": 109,
   "metadata": {},
   "outputs": [],
   "source": [
    "#Hacemos la consulta de la asignacion\n",
    "asignacion_cred = pd.read_excel('/home/estadistico/Documents/Erick/Credifiel/Asignacion/Asignacion Credifiel '+mes2+'.xlsx')\n",
    "asignacion_cred = asignacion_cred.drop_duplicates(subset=['CREDITO','SALDO TOTAL REAL'])\n",
    "asignacion_cred['CREDITO'] = pd.to_numeric(asignacion_cred['CREDITO'])"
   ]
  },
  {
   "cell_type": "code",
   "execution_count": 110,
   "metadata": {},
   "outputs": [],
   "source": [
    "#Hacemos el consolidado de la asignacion y promesado\n",
    "consolidado_cred = pd.merge(gestion_cred,asignacion_cred,how='left',left_on=['credito'],right_on=['CREDITO'])\n",
    "cols = ['monto_promesa','unegocio_id']\n",
    "consolidado_cred[cols] = consolidado_cred[cols].apply(pd.to_numeric, errors='coerce')\n",
    "consolidado_cred = consolidado_cred.loc[consolidado_cred['monto_promesa']>50]\n",
    "consolidado_cred = consolidado_cred[(consolidado_cred['monto_promesa']<500000)]\n",
    "consolidado_cred['fecha_promesa'] = pd.to_datetime(consolidado_cred['fecha_promesa'],dayfirst=False)\n",
    "consolidado_cred.replace('CONTACTO','EXTRA',inplace=True)"
   ]
  },
  {
   "cell_type": "code",
   "execution_count": 111,
   "metadata": {},
   "outputs": [],
   "source": [
    "pagos_cred3 = pd.merge(pagos_cred2,consolidado_cred[['credito','nombre_usuario','fecha_promesa','monto_promesa','ARANCEL']],how='left',left_on=['ID'],right_on=['credito'])\n",
    "pagos_cred3['ARANCEL'].fillna(np.mean(pagos_cred3['ARANCEL']),inplace=True)\n",
    "pagos_cred3['PagoFacturacion'] = [x*y for x,y in zip(pagos_cred3['ARANCEL'],pagos_cred3['IMPORTE'])]\n",
    "pagos_cred3['division'] = 'EXTRA'\n",
    "pagos_cred3 = pagos_cred3.drop_duplicates(subset=['ID','IMPORTE'])"
   ]
  },
  {
   "cell_type": "code",
   "execution_count": 112,
   "metadata": {},
   "outputs": [
    {
     "output_type": "execute_result",
     "data": {
      "text/plain": [
       "  Division  NumeroPromesas  SumaPromesas\n",
       "0    EXTRA              37     136948.34"
      ],
      "text/html": "<div>\n<style scoped>\n    .dataframe tbody tr th:only-of-type {\n        vertical-align: middle;\n    }\n\n    .dataframe tbody tr th {\n        vertical-align: top;\n    }\n\n    .dataframe thead th {\n        text-align: right;\n    }\n</style>\n<table border=\"1\" class=\"dataframe\">\n  <thead>\n    <tr style=\"text-align: right;\">\n      <th></th>\n      <th>Division</th>\n      <th>NumeroPromesas</th>\n      <th>SumaPromesas</th>\n    </tr>\n  </thead>\n  <tbody>\n    <tr>\n      <th>0</th>\n      <td>EXTRA</td>\n      <td>37</td>\n      <td>136948.34</td>\n    </tr>\n  </tbody>\n</table>\n</div>"
     },
     "metadata": {},
     "execution_count": 112
    }
   ],
   "source": [
    "#Obtenemos datos de las promesas de Bradesco\n",
    "prom_cred_div_mes = pd.pivot_table(consolidado_cred,index=['dictamen'],values=['monto_promesa'], aggfunc=['count',np.sum], dropna=False)\n",
    "prom_cred_div_mes = pd.DataFrame(prom_cred_div_mes.to_records())\n",
    "#prom_cred_div_mes = prom_cred_div_mes.iloc[:,[0,4,8,6,5]]\n",
    "prom_cred_div_mes.columns = ['Division','NumeroPromesas','SumaPromesas']\n",
    "#prom_cred_div_mes = prom_cred_div_mes.sort_values(by=['SumaPago'],ascending =False)\n",
    "#prom_cred_div_mes = prom_cred_div_mes.reset_index(drop=True)\n",
    "#prom_cred_div_mes.fillna(0,inplace=True)\n",
    "#prom_brad_div_mes[['NumeroPromesas','PromedioPromesa','SumaPromesas']] = prom_brad_gestor_mes[['NumeroPromesas','PromedioPromesa','SumaPromesas']].applymap(\"{0:.2f}\".format)\n",
    "prom_cred_div_mes"
   ]
  },
  {
   "cell_type": "code",
   "execution_count": 113,
   "metadata": {},
   "outputs": [
    {
     "output_type": "execute_result",
     "data": {
      "text/plain": [
       "  Division  PromesasRestantes\n",
       "0    EXTRA           94844.23"
      ],
      "text/html": "<div>\n<style scoped>\n    .dataframe tbody tr th:only-of-type {\n        vertical-align: middle;\n    }\n\n    .dataframe tbody tr th {\n        vertical-align: top;\n    }\n\n    .dataframe thead th {\n        text-align: right;\n    }\n</style>\n<table border=\"1\" class=\"dataframe\">\n  <thead>\n    <tr style=\"text-align: right;\">\n      <th></th>\n      <th>Division</th>\n      <th>PromesasRestantes</th>\n    </tr>\n  </thead>\n  <tbody>\n    <tr>\n      <th>0</th>\n      <td>EXTRA</td>\n      <td>94844.23</td>\n    </tr>\n  </tbody>\n</table>\n</div>"
     },
     "metadata": {},
     "execution_count": 113
    }
   ],
   "source": [
    "#Obtenemos las promesas restantes a partir del día de hoy\n",
    "restantes_cred = consolidado_cred.loc[consolidado_cred['fecha_promesa']>=ayer]\n",
    "\n",
    "promesas_restantes_cred = pd.pivot_table(restantes_cred,index=['dictamen'],values=['monto_promesa'],aggfunc=[np.sum],dropna=False)\n",
    "promesas_restantes_cred = pd.DataFrame(promesas_restantes_cred.to_records())\n",
    "#promesas_restantes_brad = promesas_restantes_brad.iloc[:,[0,3,8,6,5]]\n",
    "promesas_restantes_cred.columns = ['Division','PromesasRestantes']\n",
    "promesas_restantes_cred.fillna(0,inplace=True)\n",
    "\n",
    "#posible cambio\n",
    "#promesas_restantes_brad = promesas_restantes_brad.sort_values(by='SumaPagos',ascending=False)\n",
    "#promesas_restantes_brad[['SumaPromesas']] = promesas_restantes_brad[['SumaPromesas']].applymap(\"{0:.2f}\".format)\n",
    "promesas_restantes_cred"
   ]
  },
  {
   "cell_type": "code",
   "execution_count": 114,
   "metadata": {},
   "outputs": [
    {
     "output_type": "execute_result",
     "data": {
      "text/plain": [
       "  Division  NumeroPagos  SumaPagos  SumaFacturacion  FechaFact\n",
       "0    EXTRA           21   107727.5     23762.778333 2021-01-08"
      ],
      "text/html": "<div>\n<style scoped>\n    .dataframe tbody tr th:only-of-type {\n        vertical-align: middle;\n    }\n\n    .dataframe tbody tr th {\n        vertical-align: top;\n    }\n\n    .dataframe thead th {\n        text-align: right;\n    }\n</style>\n<table border=\"1\" class=\"dataframe\">\n  <thead>\n    <tr style=\"text-align: right;\">\n      <th></th>\n      <th>Division</th>\n      <th>NumeroPagos</th>\n      <th>SumaPagos</th>\n      <th>SumaFacturacion</th>\n      <th>FechaFact</th>\n    </tr>\n  </thead>\n  <tbody>\n    <tr>\n      <th>0</th>\n      <td>EXTRA</td>\n      <td>21</td>\n      <td>107727.5</td>\n      <td>23762.778333</td>\n      <td>2021-01-08</td>\n    </tr>\n  </tbody>\n</table>\n</div>"
     },
     "metadata": {},
     "execution_count": 114
    }
   ],
   "source": [
    "pagos_totales_cred = pd.pivot_table(pagos_cred3,index=['division'],values=['IMPORTE','PagoFacturacion'],aggfunc=['count',np.sum],dropna=False)\n",
    "pagos_totales_cred = pd.DataFrame(pagos_totales_cred.to_records())\n",
    "pagos_totales_cred = pagos_totales_cred.iloc[:,[0,1,3,4]]\n",
    "pagos_totales_cred.columns = ['Division','NumeroPagos','SumaPagos','SumaFacturacion']\n",
    "pagos_totales_cred.fillna(0,inplace=True)\n",
    "#pagos_totales_cred[['SumaPagos','SumaFacturacion']] = pagos_totales_cred[['SumaPagos','SumaFacturacion']].applymap(\"${0:,.2f}\".format)\n",
    "pagos_totales_cred['FechaFact'] = max(pagos_cred3['FECHA'])\n",
    "pagos_totales_cred"
   ]
  },
  {
   "cell_type": "code",
   "execution_count": 115,
   "metadata": {},
   "outputs": [
    {
     "output_type": "execute_result",
     "data": {
      "text/plain": [
       "     Cliente  Division  NumeroPagos  SumaPagos  SumaFacturacion  FechaFact  \\\n",
       "0  Credifiel  COBRANZA           21   107727.5     23762.778333 2021-01-08   \n",
       "\n",
       "   NumeroPromesas  SumaPromesas  PromesasRestantes  \n",
       "0              37     136948.34           94844.23  "
      ],
      "text/html": "<div>\n<style scoped>\n    .dataframe tbody tr th:only-of-type {\n        vertical-align: middle;\n    }\n\n    .dataframe tbody tr th {\n        vertical-align: top;\n    }\n\n    .dataframe thead th {\n        text-align: right;\n    }\n</style>\n<table border=\"1\" class=\"dataframe\">\n  <thead>\n    <tr style=\"text-align: right;\">\n      <th></th>\n      <th>Cliente</th>\n      <th>Division</th>\n      <th>NumeroPagos</th>\n      <th>SumaPagos</th>\n      <th>SumaFacturacion</th>\n      <th>FechaFact</th>\n      <th>NumeroPromesas</th>\n      <th>SumaPromesas</th>\n      <th>PromesasRestantes</th>\n    </tr>\n  </thead>\n  <tbody>\n    <tr>\n      <th>0</th>\n      <td>Credifiel</td>\n      <td>COBRANZA</td>\n      <td>21</td>\n      <td>107727.5</td>\n      <td>23762.778333</td>\n      <td>2021-01-08</td>\n      <td>37</td>\n      <td>136948.34</td>\n      <td>94844.23</td>\n    </tr>\n  </tbody>\n</table>\n</div>"
     },
     "metadata": {},
     "execution_count": 115
    }
   ],
   "source": [
    "final_cred = pd.merge(pagos_totales_cred,prom_cred_div_mes,how='left',on=['Division'])\n",
    "final_cred = pd.merge(final_cred,promesas_restantes_cred,how='left',on=['Division'])\n",
    "final_cred.fillna(0,inplace=True)\n",
    "final_cred.insert(loc=0,column='Cliente',value='Credifiel')\n",
    "final_cred = final_cred.replace('EXTRA','COBRANZA')\n",
    "final_cred"
   ]
  },
  {
   "source": [
    "# Reporte final Naucalpan"
   ],
   "cell_type": "markdown",
   "metadata": {}
  },
  {
   "cell_type": "code",
   "execution_count": 116,
   "metadata": {},
   "outputs": [
    {
     "output_type": "execute_result",
     "data": {
      "text/plain": [
       "      Pais   Sucursal    Cliente       Division  NumeroPagos  SumaPagos  \\\n",
       "0   Mexico  Naucalpan  Liverpool       DKN00REM           39  181816.00   \n",
       "1   Mexico  Naucalpan  Liverpool       DKN02REM           34  205398.99   \n",
       "2   Mexico  Naucalpan  Liverpool       DKN04REM           19  104195.37   \n",
       "3   Mexico  Naucalpan  Liverpool       SA001REM           39   62743.15   \n",
       "4   Mexico  Naucalpan  Liverpool       SA002REM            3    2411.00   \n",
       "5   Mexico  Naucalpan   Bradesco              A            4    7250.00   \n",
       "6   Mexico  Naucalpan   Bradesco              B            3    4797.00   \n",
       "7   Mexico  Naucalpan   Bradesco         C0 4PV           95  166763.13   \n",
       "8   Mexico  Naucalpan   Bradesco         C0 5PV           61   84299.10   \n",
       "9   Mexico  Naucalpan   Bradesco         C0 6PV           37   62408.00   \n",
       "10  Mexico  Naucalpan   Bradesco             C1           53   77593.00   \n",
       "11  Mexico  Naucalpan   Bradesco             C2           33   49080.84   \n",
       "12  Mexico  Naucalpan   Bradesco             C3           20   32240.00   \n",
       "13  Mexico  Naucalpan   Bradesco             C4            6    4471.00   \n",
       "14  Mexico  Naucalpan  Credifiel  EXTRAJUDICIAL           21  107727.50   \n",
       "\n",
       "    SumaFacturacion  FechaFact  NumeroPromesas  SumaPromesas  \\\n",
       "0      50908.480000 2021-01-10              75     327977.87   \n",
       "1      82159.596000 2021-01-10              63     374182.44   \n",
       "2      52097.685000 2021-01-10              38     149896.37   \n",
       "3       9411.472500 2021-01-10              75     123798.64   \n",
       "4        385.760000 2021-01-10               7      14273.00   \n",
       "5       1957.500000 2021-01-10              17      38197.00   \n",
       "6       1199.250000 2021-01-10               5       9797.00   \n",
       "7      11673.419100 2021-01-10             142     237789.09   \n",
       "8       7586.919000 2021-01-10              76     125807.00   \n",
       "9       6240.800000 2021-01-10              55     111773.00   \n",
       "10     13190.810000 2021-01-10              81     132339.00   \n",
       "11      9325.359600 2021-01-10              79     106979.00   \n",
       "12      6770.400000 2021-01-10              68      92581.00   \n",
       "13      1028.330000 2021-01-10              24      27318.00   \n",
       "14     23762.778333 2021-01-08              37     136948.34   \n",
       "\n",
       "   PromesasRestantes  TendenciaCierre1  \n",
       "0                         152725.44000  \n",
       "1                         246478.78800  \n",
       "2                         156293.05500  \n",
       "3                          28234.41750  \n",
       "4                           1157.28000  \n",
       "5               5105        5872.50000  \n",
       "6               1050        3597.75000  \n",
       "7             136473       35020.25730  \n",
       "8              78999       22760.75700  \n",
       "9              63407       18722.40000  \n",
       "10             46004       39572.43000  \n",
       "11             59896       27976.07880  \n",
       "12             44631       20311.20000  \n",
       "13              9738        3084.99000  \n",
       "14           94844.2       89110.41875  "
      ],
      "text/html": "<div>\n<style scoped>\n    .dataframe tbody tr th:only-of-type {\n        vertical-align: middle;\n    }\n\n    .dataframe tbody tr th {\n        vertical-align: top;\n    }\n\n    .dataframe thead th {\n        text-align: right;\n    }\n</style>\n<table border=\"1\" class=\"dataframe\">\n  <thead>\n    <tr style=\"text-align: right;\">\n      <th></th>\n      <th>Pais</th>\n      <th>Sucursal</th>\n      <th>Cliente</th>\n      <th>Division</th>\n      <th>NumeroPagos</th>\n      <th>SumaPagos</th>\n      <th>SumaFacturacion</th>\n      <th>FechaFact</th>\n      <th>NumeroPromesas</th>\n      <th>SumaPromesas</th>\n      <th>PromesasRestantes</th>\n      <th>TendenciaCierre1</th>\n    </tr>\n  </thead>\n  <tbody>\n    <tr>\n      <th>0</th>\n      <td>Mexico</td>\n      <td>Naucalpan</td>\n      <td>Liverpool</td>\n      <td>DKN00REM</td>\n      <td>39</td>\n      <td>181816.00</td>\n      <td>50908.480000</td>\n      <td>2021-01-10</td>\n      <td>75</td>\n      <td>327977.87</td>\n      <td></td>\n      <td>152725.44000</td>\n    </tr>\n    <tr>\n      <th>1</th>\n      <td>Mexico</td>\n      <td>Naucalpan</td>\n      <td>Liverpool</td>\n      <td>DKN02REM</td>\n      <td>34</td>\n      <td>205398.99</td>\n      <td>82159.596000</td>\n      <td>2021-01-10</td>\n      <td>63</td>\n      <td>374182.44</td>\n      <td></td>\n      <td>246478.78800</td>\n    </tr>\n    <tr>\n      <th>2</th>\n      <td>Mexico</td>\n      <td>Naucalpan</td>\n      <td>Liverpool</td>\n      <td>DKN04REM</td>\n      <td>19</td>\n      <td>104195.37</td>\n      <td>52097.685000</td>\n      <td>2021-01-10</td>\n      <td>38</td>\n      <td>149896.37</td>\n      <td></td>\n      <td>156293.05500</td>\n    </tr>\n    <tr>\n      <th>3</th>\n      <td>Mexico</td>\n      <td>Naucalpan</td>\n      <td>Liverpool</td>\n      <td>SA001REM</td>\n      <td>39</td>\n      <td>62743.15</td>\n      <td>9411.472500</td>\n      <td>2021-01-10</td>\n      <td>75</td>\n      <td>123798.64</td>\n      <td></td>\n      <td>28234.41750</td>\n    </tr>\n    <tr>\n      <th>4</th>\n      <td>Mexico</td>\n      <td>Naucalpan</td>\n      <td>Liverpool</td>\n      <td>SA002REM</td>\n      <td>3</td>\n      <td>2411.00</td>\n      <td>385.760000</td>\n      <td>2021-01-10</td>\n      <td>7</td>\n      <td>14273.00</td>\n      <td></td>\n      <td>1157.28000</td>\n    </tr>\n    <tr>\n      <th>5</th>\n      <td>Mexico</td>\n      <td>Naucalpan</td>\n      <td>Bradesco</td>\n      <td>A</td>\n      <td>4</td>\n      <td>7250.00</td>\n      <td>1957.500000</td>\n      <td>2021-01-10</td>\n      <td>17</td>\n      <td>38197.00</td>\n      <td>5105</td>\n      <td>5872.50000</td>\n    </tr>\n    <tr>\n      <th>6</th>\n      <td>Mexico</td>\n      <td>Naucalpan</td>\n      <td>Bradesco</td>\n      <td>B</td>\n      <td>3</td>\n      <td>4797.00</td>\n      <td>1199.250000</td>\n      <td>2021-01-10</td>\n      <td>5</td>\n      <td>9797.00</td>\n      <td>1050</td>\n      <td>3597.75000</td>\n    </tr>\n    <tr>\n      <th>7</th>\n      <td>Mexico</td>\n      <td>Naucalpan</td>\n      <td>Bradesco</td>\n      <td>C0 4PV</td>\n      <td>95</td>\n      <td>166763.13</td>\n      <td>11673.419100</td>\n      <td>2021-01-10</td>\n      <td>142</td>\n      <td>237789.09</td>\n      <td>136473</td>\n      <td>35020.25730</td>\n    </tr>\n    <tr>\n      <th>8</th>\n      <td>Mexico</td>\n      <td>Naucalpan</td>\n      <td>Bradesco</td>\n      <td>C0 5PV</td>\n      <td>61</td>\n      <td>84299.10</td>\n      <td>7586.919000</td>\n      <td>2021-01-10</td>\n      <td>76</td>\n      <td>125807.00</td>\n      <td>78999</td>\n      <td>22760.75700</td>\n    </tr>\n    <tr>\n      <th>9</th>\n      <td>Mexico</td>\n      <td>Naucalpan</td>\n      <td>Bradesco</td>\n      <td>C0 6PV</td>\n      <td>37</td>\n      <td>62408.00</td>\n      <td>6240.800000</td>\n      <td>2021-01-10</td>\n      <td>55</td>\n      <td>111773.00</td>\n      <td>63407</td>\n      <td>18722.40000</td>\n    </tr>\n    <tr>\n      <th>10</th>\n      <td>Mexico</td>\n      <td>Naucalpan</td>\n      <td>Bradesco</td>\n      <td>C1</td>\n      <td>53</td>\n      <td>77593.00</td>\n      <td>13190.810000</td>\n      <td>2021-01-10</td>\n      <td>81</td>\n      <td>132339.00</td>\n      <td>46004</td>\n      <td>39572.43000</td>\n    </tr>\n    <tr>\n      <th>11</th>\n      <td>Mexico</td>\n      <td>Naucalpan</td>\n      <td>Bradesco</td>\n      <td>C2</td>\n      <td>33</td>\n      <td>49080.84</td>\n      <td>9325.359600</td>\n      <td>2021-01-10</td>\n      <td>79</td>\n      <td>106979.00</td>\n      <td>59896</td>\n      <td>27976.07880</td>\n    </tr>\n    <tr>\n      <th>12</th>\n      <td>Mexico</td>\n      <td>Naucalpan</td>\n      <td>Bradesco</td>\n      <td>C3</td>\n      <td>20</td>\n      <td>32240.00</td>\n      <td>6770.400000</td>\n      <td>2021-01-10</td>\n      <td>68</td>\n      <td>92581.00</td>\n      <td>44631</td>\n      <td>20311.20000</td>\n    </tr>\n    <tr>\n      <th>13</th>\n      <td>Mexico</td>\n      <td>Naucalpan</td>\n      <td>Bradesco</td>\n      <td>C4</td>\n      <td>6</td>\n      <td>4471.00</td>\n      <td>1028.330000</td>\n      <td>2021-01-10</td>\n      <td>24</td>\n      <td>27318.00</td>\n      <td>9738</td>\n      <td>3084.99000</td>\n    </tr>\n    <tr>\n      <th>14</th>\n      <td>Mexico</td>\n      <td>Naucalpan</td>\n      <td>Credifiel</td>\n      <td>EXTRAJUDICIAL</td>\n      <td>21</td>\n      <td>107727.50</td>\n      <td>23762.778333</td>\n      <td>2021-01-08</td>\n      <td>37</td>\n      <td>136948.34</td>\n      <td>94844.2</td>\n      <td>89110.41875</td>\n    </tr>\n  </tbody>\n</table>\n</div>"
     },
     "metadata": {},
     "execution_count": 116
    }
   ],
   "source": [
    "final_naucalpan = pd.concat([final_liv,final_brad],ignore_index=True)\n",
    "final_naucalpan = pd.concat([final_naucalpan,final_cred],ignore_index=True)\n",
    "#final_naucalpan = pd.concat([final_naucalpan,final_baz],ignore_index=True)\n",
    "final_naucalpan.insert(loc=0,column='Sucursal',value='Naucalpan')\n",
    "final_naucalpan.insert(loc=0,column='Pais',value='Mexico')\n",
    "final_naucalpan['TendenciaCierre1'] = [(30/x.day)*y for x,y in zip(final_naucalpan['FechaFact'],final_naucalpan['SumaFacturacion'])]\n",
    "final_naucalpan = final_naucalpan.replace('EXTRA','EXTRAJUDICIAL')\n",
    "final_naucalpan = final_naucalpan.replace('COBRANZA','EXTRAJUDICIAL')\n",
    "final_naucalpan.fillna('',inplace=True)\n",
    "final_naucalpan"
   ]
  },
  {
   "cell_type": "code",
   "execution_count": 116,
   "metadata": {},
   "outputs": [],
   "source": []
  },
  {
   "source": [
    "# Pagos sin promesa asignada"
   ],
   "cell_type": "markdown",
   "metadata": {}
  },
  {
   "cell_type": "code",
   "execution_count": 117,
   "metadata": {},
   "outputs": [
    {
     "output_type": "execute_result",
     "data": {
      "text/plain": [
       "  Division  RecuperadoNoPromesa  PagosNoPromesa\n",
       "0        B              1500.00               1\n",
       "1   C0 4PV             74044.13              53\n",
       "2   C0 5PV             45745.08              35\n",
       "3   C0 6PV             28605.00              19\n",
       "4       C1             36892.00              27\n",
       "5       C2             22649.84              15\n",
       "6       C3              2222.00               2"
      ],
      "text/html": "<div>\n<style scoped>\n    .dataframe tbody tr th:only-of-type {\n        vertical-align: middle;\n    }\n\n    .dataframe tbody tr th {\n        vertical-align: top;\n    }\n\n    .dataframe thead th {\n        text-align: right;\n    }\n</style>\n<table border=\"1\" class=\"dataframe\">\n  <thead>\n    <tr style=\"text-align: right;\">\n      <th></th>\n      <th>Division</th>\n      <th>RecuperadoNoPromesa</th>\n      <th>PagosNoPromesa</th>\n    </tr>\n  </thead>\n  <tbody>\n    <tr>\n      <th>0</th>\n      <td>B</td>\n      <td>1500.00</td>\n      <td>1</td>\n    </tr>\n    <tr>\n      <th>1</th>\n      <td>C0 4PV</td>\n      <td>74044.13</td>\n      <td>53</td>\n    </tr>\n    <tr>\n      <th>2</th>\n      <td>C0 5PV</td>\n      <td>45745.08</td>\n      <td>35</td>\n    </tr>\n    <tr>\n      <th>3</th>\n      <td>C0 6PV</td>\n      <td>28605.00</td>\n      <td>19</td>\n    </tr>\n    <tr>\n      <th>4</th>\n      <td>C1</td>\n      <td>36892.00</td>\n      <td>27</td>\n    </tr>\n    <tr>\n      <th>5</th>\n      <td>C2</td>\n      <td>22649.84</td>\n      <td>15</td>\n    </tr>\n    <tr>\n      <th>6</th>\n      <td>C3</td>\n      <td>2222.00</td>\n      <td>2</td>\n    </tr>\n  </tbody>\n</table>\n</div>"
     },
     "metadata": {},
     "execution_count": 117
    }
   ],
   "source": [
    "#Pagos de bradesco que no tienen promesa asignada\n",
    "gestion_brad_mes2 = gestion_brad_mes.drop_duplicates(subset='NUMERO_TARJETA')\n",
    "pagos_noasig_brad = pd.merge(pagos_brad2,gestion_brad_mes2[['NUMERO_TARJETA','nombre_credito']],how='left',on='NUMERO_TARJETA')\n",
    "pagos_noasig_brad = pagos_noasig_brad.loc[pagos_noasig_brad['nombre_credito'].isnull()]\n",
    "pagos_noasig_brad_pivot = pd.pivot_table(pagos_noasig_brad,index=['TIPO_ASIGANCION'],values=['MONTO'],aggfunc=[np.sum,'count'])\n",
    "pagos_noasig_brad_pivot = pd.DataFrame(pagos_noasig_brad_pivot.to_records())\n",
    "pagos_noasig_brad_pivot.columns = ['Division','RecuperadoNoPromesa','PagosNoPromesa']\n",
    "pagos_noasig_brad_pivot"
   ]
  },
  {
   "cell_type": "code",
   "execution_count": 118,
   "metadata": {},
   "outputs": [
    {
     "output_type": "execute_result",
     "data": {
      "text/plain": [
       "   Division  RecuperadoNoPromesa  PagosNoPromesa\n",
       "0  DKN00REM             35602.00              11\n",
       "1  DKN02REM             44173.99              19\n",
       "2  DKN04REM             26263.00               5\n",
       "3  SA001REM             13979.00              11\n",
       "4  SA002REM              2411.00               3"
      ],
      "text/html": "<div>\n<style scoped>\n    .dataframe tbody tr th:only-of-type {\n        vertical-align: middle;\n    }\n\n    .dataframe tbody tr th {\n        vertical-align: top;\n    }\n\n    .dataframe thead th {\n        text-align: right;\n    }\n</style>\n<table border=\"1\" class=\"dataframe\">\n  <thead>\n    <tr style=\"text-align: right;\">\n      <th></th>\n      <th>Division</th>\n      <th>RecuperadoNoPromesa</th>\n      <th>PagosNoPromesa</th>\n    </tr>\n  </thead>\n  <tbody>\n    <tr>\n      <th>0</th>\n      <td>DKN00REM</td>\n      <td>35602.00</td>\n      <td>11</td>\n    </tr>\n    <tr>\n      <th>1</th>\n      <td>DKN02REM</td>\n      <td>44173.99</td>\n      <td>19</td>\n    </tr>\n    <tr>\n      <th>2</th>\n      <td>DKN04REM</td>\n      <td>26263.00</td>\n      <td>5</td>\n    </tr>\n    <tr>\n      <th>3</th>\n      <td>SA001REM</td>\n      <td>13979.00</td>\n      <td>11</td>\n    </tr>\n    <tr>\n      <th>4</th>\n      <td>SA002REM</td>\n      <td>2411.00</td>\n      <td>3</td>\n    </tr>\n  </tbody>\n</table>\n</div>"
     },
     "metadata": {},
     "execution_count": 118
    }
   ],
   "source": [
    "#Pagos de Liverpool que no tienen promesa asignada\n",
    "gestion_liv_mes2 = gestion_liv_mes.drop_duplicates(subset='credito')\n",
    "pagos_noasig_liv = pd.merge(pagos_liv2,gestion_liv_mes2[['credito','nombre_credito']],left_on='Cuenta',right_on='credito',how='left')\n",
    "pagos_noasig_liv = pagos_noasig_liv.loc[pagos_noasig_liv['nombre_credito'].isnull()]\n",
    "pagos_noasig_liv_pivot = pd.pivot_table(pagos_noasig_liv,index=['Id'],values=['Monto'],aggfunc=[np.sum,'count'])\n",
    "pagos_noasig_liv_pivot = pd.DataFrame(pagos_noasig_liv_pivot.to_records())\n",
    "pagos_noasig_liv_pivot.columns = ['Division','RecuperadoNoPromesa','PagosNoPromesa']\n",
    "pagos_noasig_liv_pivot"
   ]
  },
  {
   "cell_type": "code",
   "execution_count": 119,
   "metadata": {},
   "outputs": [
    {
     "output_type": "execute_result",
     "data": {
      "text/plain": [
       "        Division  RecuperadoNoPromesa  PagosNoPromesa\n",
       "0  EXTRAJUDICIAL              62454.0               8"
      ],
      "text/html": "<div>\n<style scoped>\n    .dataframe tbody tr th:only-of-type {\n        vertical-align: middle;\n    }\n\n    .dataframe tbody tr th {\n        vertical-align: top;\n    }\n\n    .dataframe thead th {\n        text-align: right;\n    }\n</style>\n<table border=\"1\" class=\"dataframe\">\n  <thead>\n    <tr style=\"text-align: right;\">\n      <th></th>\n      <th>Division</th>\n      <th>RecuperadoNoPromesa</th>\n      <th>PagosNoPromesa</th>\n    </tr>\n  </thead>\n  <tbody>\n    <tr>\n      <th>0</th>\n      <td>EXTRAJUDICIAL</td>\n      <td>62454.0</td>\n      <td>8</td>\n    </tr>\n  </tbody>\n</table>\n</div>"
     },
     "metadata": {},
     "execution_count": 119
    }
   ],
   "source": [
    "#Pagos de Liverpool que no tienen promesa asignada\n",
    "gestion_cred2 = gestion_cred.drop_duplicates(subset='credito')\n",
    "pagos_noasig_cred = pd.merge(pagos_cred2,gestion_cred2[['credito','nombre_credito']],left_on='ID',right_on='credito',how='left')\n",
    "pagos_noasig_cred = pagos_noasig_cred.loc[pagos_noasig_cred['nombre_credito'].isnull()]\n",
    "pagos_noasig_cred['Cliente'] = 'EXTRAJUDICIAL'\n",
    "pagos_noasig_cred_pivot = pd.pivot_table(pagos_noasig_cred,index=['Cliente'],values=['IMPORTE'],aggfunc=[np.sum,'count'])\n",
    "pagos_noasig_cred_pivot = pd.DataFrame(pagos_noasig_cred_pivot.to_records())\n",
    "pagos_noasig_cred_pivot.columns = ['Division','RecuperadoNoPromesa','PagosNoPromesa']\n",
    "pagos_noasig_cred_pivot"
   ]
  },
  {
   "cell_type": "code",
   "execution_count": 120,
   "metadata": {},
   "outputs": [
    {
     "output_type": "execute_result",
     "data": {
      "text/plain": [
       "         Division  RecuperadoNoPromesa  PagosNoPromesa\n",
       "0   EXTRAJUDICIAL             62454.00               8\n",
       "1        DKN00REM             35602.00              11\n",
       "2        DKN02REM             44173.99              19\n",
       "3        DKN04REM             26263.00               5\n",
       "4        SA001REM             13979.00              11\n",
       "5        SA002REM              2411.00               3\n",
       "6               B              1500.00               1\n",
       "7          C0 4PV             74044.13              53\n",
       "8          C0 5PV             45745.08              35\n",
       "9          C0 6PV             28605.00              19\n",
       "10             C1             36892.00              27\n",
       "11             C2             22649.84              15\n",
       "12             C3              2222.00               2"
      ],
      "text/html": "<div>\n<style scoped>\n    .dataframe tbody tr th:only-of-type {\n        vertical-align: middle;\n    }\n\n    .dataframe tbody tr th {\n        vertical-align: top;\n    }\n\n    .dataframe thead th {\n        text-align: right;\n    }\n</style>\n<table border=\"1\" class=\"dataframe\">\n  <thead>\n    <tr style=\"text-align: right;\">\n      <th></th>\n      <th>Division</th>\n      <th>RecuperadoNoPromesa</th>\n      <th>PagosNoPromesa</th>\n    </tr>\n  </thead>\n  <tbody>\n    <tr>\n      <th>0</th>\n      <td>EXTRAJUDICIAL</td>\n      <td>62454.00</td>\n      <td>8</td>\n    </tr>\n    <tr>\n      <th>1</th>\n      <td>DKN00REM</td>\n      <td>35602.00</td>\n      <td>11</td>\n    </tr>\n    <tr>\n      <th>2</th>\n      <td>DKN02REM</td>\n      <td>44173.99</td>\n      <td>19</td>\n    </tr>\n    <tr>\n      <th>3</th>\n      <td>DKN04REM</td>\n      <td>26263.00</td>\n      <td>5</td>\n    </tr>\n    <tr>\n      <th>4</th>\n      <td>SA001REM</td>\n      <td>13979.00</td>\n      <td>11</td>\n    </tr>\n    <tr>\n      <th>5</th>\n      <td>SA002REM</td>\n      <td>2411.00</td>\n      <td>3</td>\n    </tr>\n    <tr>\n      <th>6</th>\n      <td>B</td>\n      <td>1500.00</td>\n      <td>1</td>\n    </tr>\n    <tr>\n      <th>7</th>\n      <td>C0 4PV</td>\n      <td>74044.13</td>\n      <td>53</td>\n    </tr>\n    <tr>\n      <th>8</th>\n      <td>C0 5PV</td>\n      <td>45745.08</td>\n      <td>35</td>\n    </tr>\n    <tr>\n      <th>9</th>\n      <td>C0 6PV</td>\n      <td>28605.00</td>\n      <td>19</td>\n    </tr>\n    <tr>\n      <th>10</th>\n      <td>C1</td>\n      <td>36892.00</td>\n      <td>27</td>\n    </tr>\n    <tr>\n      <th>11</th>\n      <td>C2</td>\n      <td>22649.84</td>\n      <td>15</td>\n    </tr>\n    <tr>\n      <th>12</th>\n      <td>C3</td>\n      <td>2222.00</td>\n      <td>2</td>\n    </tr>\n  </tbody>\n</table>\n</div>"
     },
     "metadata": {},
     "execution_count": 120
    }
   ],
   "source": [
    "list1 = [pagos_noasig_cred_pivot,pagos_noasig_liv_pivot,pagos_noasig_brad_pivot]\n",
    "pagos_noasig_naucalpan = pd.concat(list1,ignore_index=True)\n",
    "pagos_noasig_naucalpan"
   ]
  },
  {
   "cell_type": "code",
   "execution_count": 121,
   "metadata": {},
   "outputs": [
    {
     "output_type": "execute_result",
     "data": {
      "text/plain": [
       "      Pais   Sucursal    Cliente       Division  NumeroPagos  SumaPagos  \\\n",
       "0   Mexico  Naucalpan  Liverpool       DKN00REM           39  181816.00   \n",
       "1   Mexico  Naucalpan  Liverpool       DKN02REM           34  205398.99   \n",
       "2   Mexico  Naucalpan  Liverpool       DKN04REM           19  104195.37   \n",
       "3   Mexico  Naucalpan  Liverpool       SA001REM           39   62743.15   \n",
       "4   Mexico  Naucalpan  Liverpool       SA002REM            3    2411.00   \n",
       "5   Mexico  Naucalpan   Bradesco              A            4    7250.00   \n",
       "6   Mexico  Naucalpan   Bradesco              B            3    4797.00   \n",
       "7   Mexico  Naucalpan   Bradesco         C0 4PV           95  166763.13   \n",
       "8   Mexico  Naucalpan   Bradesco         C0 5PV           61   84299.10   \n",
       "9   Mexico  Naucalpan   Bradesco         C0 6PV           37   62408.00   \n",
       "10  Mexico  Naucalpan   Bradesco             C1           53   77593.00   \n",
       "11  Mexico  Naucalpan   Bradesco             C2           33   49080.84   \n",
       "12  Mexico  Naucalpan   Bradesco             C3           20   32240.00   \n",
       "13  Mexico  Naucalpan   Bradesco             C4            6    4471.00   \n",
       "14  Mexico  Naucalpan  Credifiel  EXTRAJUDICIAL           21  107727.50   \n",
       "\n",
       "    SumaFacturacion  FechaFact  NumeroPromesas  SumaPromesas  \\\n",
       "0      50908.480000 2021-01-10              75     327977.87   \n",
       "1      82159.596000 2021-01-10              63     374182.44   \n",
       "2      52097.685000 2021-01-10              38     149896.37   \n",
       "3       9411.472500 2021-01-10              75     123798.64   \n",
       "4        385.760000 2021-01-10               7      14273.00   \n",
       "5       1957.500000 2021-01-10              17      38197.00   \n",
       "6       1199.250000 2021-01-10               5       9797.00   \n",
       "7      11673.419100 2021-01-10             142     237789.09   \n",
       "8       7586.919000 2021-01-10              76     125807.00   \n",
       "9       6240.800000 2021-01-10              55     111773.00   \n",
       "10     13190.810000 2021-01-10              81     132339.00   \n",
       "11      9325.359600 2021-01-10              79     106979.00   \n",
       "12      6770.400000 2021-01-10              68      92581.00   \n",
       "13      1028.330000 2021-01-10              24      27318.00   \n",
       "14     23762.778333 2021-01-08              37     136948.34   \n",
       "\n",
       "   PromesasRestantes  TendenciaCierre1  RecuperadoNoPromesa  PagosNoPromesa  \n",
       "0                         152725.44000             35602.00            11.0  \n",
       "1                         246478.78800             44173.99            19.0  \n",
       "2                         156293.05500             26263.00             5.0  \n",
       "3                          28234.41750             13979.00            11.0  \n",
       "4                           1157.28000              2411.00             3.0  \n",
       "5               5105        5872.50000                  NaN             NaN  \n",
       "6               1050        3597.75000              1500.00             1.0  \n",
       "7             136473       35020.25730             74044.13            53.0  \n",
       "8              78999       22760.75700             45745.08            35.0  \n",
       "9              63407       18722.40000             28605.00            19.0  \n",
       "10             46004       39572.43000             36892.00            27.0  \n",
       "11             59896       27976.07880             22649.84            15.0  \n",
       "12             44631       20311.20000              2222.00             2.0  \n",
       "13              9738        3084.99000                  NaN             NaN  \n",
       "14           94844.2       89110.41875             62454.00             8.0  "
      ],
      "text/html": "<div>\n<style scoped>\n    .dataframe tbody tr th:only-of-type {\n        vertical-align: middle;\n    }\n\n    .dataframe tbody tr th {\n        vertical-align: top;\n    }\n\n    .dataframe thead th {\n        text-align: right;\n    }\n</style>\n<table border=\"1\" class=\"dataframe\">\n  <thead>\n    <tr style=\"text-align: right;\">\n      <th></th>\n      <th>Pais</th>\n      <th>Sucursal</th>\n      <th>Cliente</th>\n      <th>Division</th>\n      <th>NumeroPagos</th>\n      <th>SumaPagos</th>\n      <th>SumaFacturacion</th>\n      <th>FechaFact</th>\n      <th>NumeroPromesas</th>\n      <th>SumaPromesas</th>\n      <th>PromesasRestantes</th>\n      <th>TendenciaCierre1</th>\n      <th>RecuperadoNoPromesa</th>\n      <th>PagosNoPromesa</th>\n    </tr>\n  </thead>\n  <tbody>\n    <tr>\n      <th>0</th>\n      <td>Mexico</td>\n      <td>Naucalpan</td>\n      <td>Liverpool</td>\n      <td>DKN00REM</td>\n      <td>39</td>\n      <td>181816.00</td>\n      <td>50908.480000</td>\n      <td>2021-01-10</td>\n      <td>75</td>\n      <td>327977.87</td>\n      <td></td>\n      <td>152725.44000</td>\n      <td>35602.00</td>\n      <td>11.0</td>\n    </tr>\n    <tr>\n      <th>1</th>\n      <td>Mexico</td>\n      <td>Naucalpan</td>\n      <td>Liverpool</td>\n      <td>DKN02REM</td>\n      <td>34</td>\n      <td>205398.99</td>\n      <td>82159.596000</td>\n      <td>2021-01-10</td>\n      <td>63</td>\n      <td>374182.44</td>\n      <td></td>\n      <td>246478.78800</td>\n      <td>44173.99</td>\n      <td>19.0</td>\n    </tr>\n    <tr>\n      <th>2</th>\n      <td>Mexico</td>\n      <td>Naucalpan</td>\n      <td>Liverpool</td>\n      <td>DKN04REM</td>\n      <td>19</td>\n      <td>104195.37</td>\n      <td>52097.685000</td>\n      <td>2021-01-10</td>\n      <td>38</td>\n      <td>149896.37</td>\n      <td></td>\n      <td>156293.05500</td>\n      <td>26263.00</td>\n      <td>5.0</td>\n    </tr>\n    <tr>\n      <th>3</th>\n      <td>Mexico</td>\n      <td>Naucalpan</td>\n      <td>Liverpool</td>\n      <td>SA001REM</td>\n      <td>39</td>\n      <td>62743.15</td>\n      <td>9411.472500</td>\n      <td>2021-01-10</td>\n      <td>75</td>\n      <td>123798.64</td>\n      <td></td>\n      <td>28234.41750</td>\n      <td>13979.00</td>\n      <td>11.0</td>\n    </tr>\n    <tr>\n      <th>4</th>\n      <td>Mexico</td>\n      <td>Naucalpan</td>\n      <td>Liverpool</td>\n      <td>SA002REM</td>\n      <td>3</td>\n      <td>2411.00</td>\n      <td>385.760000</td>\n      <td>2021-01-10</td>\n      <td>7</td>\n      <td>14273.00</td>\n      <td></td>\n      <td>1157.28000</td>\n      <td>2411.00</td>\n      <td>3.0</td>\n    </tr>\n    <tr>\n      <th>5</th>\n      <td>Mexico</td>\n      <td>Naucalpan</td>\n      <td>Bradesco</td>\n      <td>A</td>\n      <td>4</td>\n      <td>7250.00</td>\n      <td>1957.500000</td>\n      <td>2021-01-10</td>\n      <td>17</td>\n      <td>38197.00</td>\n      <td>5105</td>\n      <td>5872.50000</td>\n      <td>NaN</td>\n      <td>NaN</td>\n    </tr>\n    <tr>\n      <th>6</th>\n      <td>Mexico</td>\n      <td>Naucalpan</td>\n      <td>Bradesco</td>\n      <td>B</td>\n      <td>3</td>\n      <td>4797.00</td>\n      <td>1199.250000</td>\n      <td>2021-01-10</td>\n      <td>5</td>\n      <td>9797.00</td>\n      <td>1050</td>\n      <td>3597.75000</td>\n      <td>1500.00</td>\n      <td>1.0</td>\n    </tr>\n    <tr>\n      <th>7</th>\n      <td>Mexico</td>\n      <td>Naucalpan</td>\n      <td>Bradesco</td>\n      <td>C0 4PV</td>\n      <td>95</td>\n      <td>166763.13</td>\n      <td>11673.419100</td>\n      <td>2021-01-10</td>\n      <td>142</td>\n      <td>237789.09</td>\n      <td>136473</td>\n      <td>35020.25730</td>\n      <td>74044.13</td>\n      <td>53.0</td>\n    </tr>\n    <tr>\n      <th>8</th>\n      <td>Mexico</td>\n      <td>Naucalpan</td>\n      <td>Bradesco</td>\n      <td>C0 5PV</td>\n      <td>61</td>\n      <td>84299.10</td>\n      <td>7586.919000</td>\n      <td>2021-01-10</td>\n      <td>76</td>\n      <td>125807.00</td>\n      <td>78999</td>\n      <td>22760.75700</td>\n      <td>45745.08</td>\n      <td>35.0</td>\n    </tr>\n    <tr>\n      <th>9</th>\n      <td>Mexico</td>\n      <td>Naucalpan</td>\n      <td>Bradesco</td>\n      <td>C0 6PV</td>\n      <td>37</td>\n      <td>62408.00</td>\n      <td>6240.800000</td>\n      <td>2021-01-10</td>\n      <td>55</td>\n      <td>111773.00</td>\n      <td>63407</td>\n      <td>18722.40000</td>\n      <td>28605.00</td>\n      <td>19.0</td>\n    </tr>\n    <tr>\n      <th>10</th>\n      <td>Mexico</td>\n      <td>Naucalpan</td>\n      <td>Bradesco</td>\n      <td>C1</td>\n      <td>53</td>\n      <td>77593.00</td>\n      <td>13190.810000</td>\n      <td>2021-01-10</td>\n      <td>81</td>\n      <td>132339.00</td>\n      <td>46004</td>\n      <td>39572.43000</td>\n      <td>36892.00</td>\n      <td>27.0</td>\n    </tr>\n    <tr>\n      <th>11</th>\n      <td>Mexico</td>\n      <td>Naucalpan</td>\n      <td>Bradesco</td>\n      <td>C2</td>\n      <td>33</td>\n      <td>49080.84</td>\n      <td>9325.359600</td>\n      <td>2021-01-10</td>\n      <td>79</td>\n      <td>106979.00</td>\n      <td>59896</td>\n      <td>27976.07880</td>\n      <td>22649.84</td>\n      <td>15.0</td>\n    </tr>\n    <tr>\n      <th>12</th>\n      <td>Mexico</td>\n      <td>Naucalpan</td>\n      <td>Bradesco</td>\n      <td>C3</td>\n      <td>20</td>\n      <td>32240.00</td>\n      <td>6770.400000</td>\n      <td>2021-01-10</td>\n      <td>68</td>\n      <td>92581.00</td>\n      <td>44631</td>\n      <td>20311.20000</td>\n      <td>2222.00</td>\n      <td>2.0</td>\n    </tr>\n    <tr>\n      <th>13</th>\n      <td>Mexico</td>\n      <td>Naucalpan</td>\n      <td>Bradesco</td>\n      <td>C4</td>\n      <td>6</td>\n      <td>4471.00</td>\n      <td>1028.330000</td>\n      <td>2021-01-10</td>\n      <td>24</td>\n      <td>27318.00</td>\n      <td>9738</td>\n      <td>3084.99000</td>\n      <td>NaN</td>\n      <td>NaN</td>\n    </tr>\n    <tr>\n      <th>14</th>\n      <td>Mexico</td>\n      <td>Naucalpan</td>\n      <td>Credifiel</td>\n      <td>EXTRAJUDICIAL</td>\n      <td>21</td>\n      <td>107727.50</td>\n      <td>23762.778333</td>\n      <td>2021-01-08</td>\n      <td>37</td>\n      <td>136948.34</td>\n      <td>94844.2</td>\n      <td>89110.41875</td>\n      <td>62454.00</td>\n      <td>8.0</td>\n    </tr>\n  </tbody>\n</table>\n</div>"
     },
     "metadata": {},
     "execution_count": 121
    }
   ],
   "source": [
    "final = pd.merge(final_naucalpan,pagos_noasig_naucalpan,on='Division',how='left')\n",
    "final"
   ]
  },
  {
   "cell_type": "code",
   "execution_count": 122,
   "metadata": {},
   "outputs": [],
   "source": [
    "final.to_csv(''+ruta_pagos+'/'+mes2+'/Reportes diarios/Reporte sucursal/Reporte sucursal '+today2+'.csv',index=False,header=True)"
   ]
  }
 ]
}