{
 "metadata": {
  "language_info": {
   "codemirror_mode": {
    "name": "ipython",
    "version": 3
   },
   "file_extension": ".py",
   "mimetype": "text/x-python",
   "name": "python",
   "nbconvert_exporter": "python",
   "pygments_lexer": "ipython3",
   "version": "3.7.6-final"
  },
  "orig_nbformat": 2,
  "kernelspec": {
   "name": "python3",
   "display_name": "Python 3"
  }
 },
 "nbformat": 4,
 "nbformat_minor": 2,
 "cells": [
  {
   "source": [
    "# Reporte de promesas acumuladas en el mes"
   ],
   "cell_type": "markdown",
   "metadata": {}
  },
  {
   "cell_type": "code",
   "execution_count": 2,
   "metadata": {},
   "outputs": [],
   "source": [
    "import pandas as pd\n",
    "import numpy as np\n",
    "import mysql.connector\n",
    "from mysql.connector import Error\n",
    "from datetime import date\n",
    "from datetime import datetime\n",
    "from IPython.core.interactiveshell import InteractiveShell\n",
    "InteractiveShell.ast_node_interactivity = \"all\""
   ]
  },
  {
   "cell_type": "code",
   "execution_count": 3,
   "metadata": {},
   "outputs": [],
   "source": [
    "#Definimos la ruta en donde queremos guardar los archivos\n",
    "ruta = '/home/estadistico/Documents/Erick/Reportes diarios/Promesas Mes'\n",
    "mes = 20201101"
   ]
  },
  {
   "cell_type": "code",
   "execution_count": 4,
   "metadata": {},
   "outputs": [],
   "source": [
    "#Agregamos las variables a ocupar\n",
    "servidor = '192.168.15.12'\n",
    "puerto = int('3306')\n",
    "usuario = 'estadisticas'\n",
    "contraseña = 'estadisticas8474'\n",
    "base = 'procesos_externos'"
   ]
  },
  {
   "cell_type": "code",
   "execution_count": 5,
   "metadata": {},
   "outputs": [],
   "source": [
    "#Asignamos valores a los parametros \\n\",\n",
    "today = date.today().strftime('%Y%m%d')"
   ]
  },
  {
   "cell_type": "code",
   "execution_count": 6,
   "metadata": {},
   "outputs": [],
   "source": [
    "#Hacemos la conexion con el servidor\\n\",\n",
    "try:\n",
    "    conn = mysql.connector.connect(user=usuario,\n",
    "                               password=contraseña,\n",
    "                               host=servidor,\n",
    "                               port=3306,\n",
    "                               database=base)\n",
    "    conn.set_charset_collation('latin1')\n",
    "except mysql.Error as e:\n",
    "    print(\"Failed to execute stored procedure: {}\".format(error))\n",
    "\n",
    "cursor = conn.cursor()"
   ]
  },
  {
   "source": [
    "# Liverpool"
   ],
   "cell_type": "markdown",
   "metadata": {}
  },
  {
   "cell_type": "code",
   "execution_count": 6,
   "metadata": {},
   "outputs": [
    {
     "output_type": "execute_result",
     "data": {
      "text/plain": [
       "     folio_gestion  firma_id  unegocio_id           credito  \\\n",
       "70         9219811        12            5    13000012435603   \n",
       "169        9219184        12            3  1400000008415568   \n",
       "189        9219060        12            5    13000017650685   \n",
       "\n",
       "                            nombre_credito    telefono tipo_telefono  \\\n",
       "70   CONCEPCION DEL CARMEN TORRES CASANOVA  8115322132       celular   \n",
       "169     JOSE HERIBERTO BENJAMIN DIAZ PEREZ  2414071815       celular   \n",
       "189            MARIEL EUGENIA LOPEZ CORTES  5563486320       celular   \n",
       "\n",
       "          fecha_gestion          usuario                      nombre_usuario  \\\n",
       "70  2020-11-30 10:19:38  HERNANDEZMEMAGU  GUADALUPE MAYELA HERNANDEZ MENDITA   \n",
       "169 2020-11-30 09:49:05       RIOSTOMACR               MARY CRUZ RIOS TOLEDO   \n",
       "189 2020-11-30 09:44:47       OROZCOGOBR              OROZCO GONZALEZ BRENDA   \n",
       "\n",
       "    dictamen             accion                    resultado fecha_promesa  \\\n",
       "70   PROMESA  LLAMADA A TITULAR  PROMESA DE PAGO LIQUIDACION    2020-11-30   \n",
       "169  PROMESA  LLAMADA A TITULAR  PROMESA DE PAGO LIQUIDACION    2020-11-30   \n",
       "189  PROMESA  LLAMADA A TITULAR      PROMESA DE PAGO PARCIAL    2020-11-30   \n",
       "\n",
       "    monto_promesa                                        comentarios  \n",
       "70        1368.00  8115322132 TT SE COMUNICA, NO DA MOTIVO DEL AT...  \n",
       "169       1737.00  2414071815 //ESPOSA DE TT LIQUIDARA CUENTA POR...  \n",
       "189       1170.00  5563486320 SRITA REALIZA PPP POR $3170 PRIMER ...  "
      ],
      "text/html": "<div>\n<style scoped>\n    .dataframe tbody tr th:only-of-type {\n        vertical-align: middle;\n    }\n\n    .dataframe tbody tr th {\n        vertical-align: top;\n    }\n\n    .dataframe thead th {\n        text-align: right;\n    }\n</style>\n<table border=\"1\" class=\"dataframe\">\n  <thead>\n    <tr style=\"text-align: right;\">\n      <th></th>\n      <th>folio_gestion</th>\n      <th>firma_id</th>\n      <th>unegocio_id</th>\n      <th>credito</th>\n      <th>nombre_credito</th>\n      <th>telefono</th>\n      <th>tipo_telefono</th>\n      <th>fecha_gestion</th>\n      <th>usuario</th>\n      <th>nombre_usuario</th>\n      <th>dictamen</th>\n      <th>accion</th>\n      <th>resultado</th>\n      <th>fecha_promesa</th>\n      <th>monto_promesa</th>\n      <th>comentarios</th>\n    </tr>\n  </thead>\n  <tbody>\n    <tr>\n      <th>70</th>\n      <td>9219811</td>\n      <td>12</td>\n      <td>5</td>\n      <td>13000012435603</td>\n      <td>CONCEPCION DEL CARMEN TORRES CASANOVA</td>\n      <td>8115322132</td>\n      <td>celular</td>\n      <td>2020-11-30 10:19:38</td>\n      <td>HERNANDEZMEMAGU</td>\n      <td>GUADALUPE MAYELA HERNANDEZ MENDITA</td>\n      <td>PROMESA</td>\n      <td>LLAMADA A TITULAR</td>\n      <td>PROMESA DE PAGO LIQUIDACION</td>\n      <td>2020-11-30</td>\n      <td>1368.00</td>\n      <td>8115322132 TT SE COMUNICA, NO DA MOTIVO DEL AT...</td>\n    </tr>\n    <tr>\n      <th>169</th>\n      <td>9219184</td>\n      <td>12</td>\n      <td>3</td>\n      <td>1400000008415568</td>\n      <td>JOSE HERIBERTO BENJAMIN DIAZ PEREZ</td>\n      <td>2414071815</td>\n      <td>celular</td>\n      <td>2020-11-30 09:49:05</td>\n      <td>RIOSTOMACR</td>\n      <td>MARY CRUZ RIOS TOLEDO</td>\n      <td>PROMESA</td>\n      <td>LLAMADA A TITULAR</td>\n      <td>PROMESA DE PAGO LIQUIDACION</td>\n      <td>2020-11-30</td>\n      <td>1737.00</td>\n      <td>2414071815 //ESPOSA DE TT LIQUIDARA CUENTA POR...</td>\n    </tr>\n    <tr>\n      <th>189</th>\n      <td>9219060</td>\n      <td>12</td>\n      <td>5</td>\n      <td>13000017650685</td>\n      <td>MARIEL EUGENIA LOPEZ CORTES</td>\n      <td>5563486320</td>\n      <td>celular</td>\n      <td>2020-11-30 09:44:47</td>\n      <td>OROZCOGOBR</td>\n      <td>OROZCO GONZALEZ BRENDA</td>\n      <td>PROMESA</td>\n      <td>LLAMADA A TITULAR</td>\n      <td>PROMESA DE PAGO PARCIAL</td>\n      <td>2020-11-30</td>\n      <td>1170.00</td>\n      <td>5563486320 SRITA REALIZA PPP POR $3170 PRIMER ...</td>\n    </tr>\n  </tbody>\n</table>\n</div>"
     },
     "metadata": {},
     "execution_count": 6
    }
   ],
   "source": [
    "#Hacemos la consulta referente a las gestiones de Liverpool\n",
    "sql_gest_liv = cursor.callproc('liverpool_rpt_gestiones_detallado', [mes,today])\n",
    "for result in cursor.stored_results():\n",
    "    gestion_liv = pd.DataFrame(result.fetchall())\n",
    "gestion_liv.columns = ['folio_gestion','firma_id','unegocio_id','credito','nombre_credito','telefono','tipo_telefono','fecha_gestion','usuario','nombre_usuario','dictamen','accion','resultado','fecha_promesa','monto_promesa','comentarios']\n",
    "gestion_liv = gestion_liv.loc[gestion_liv['dictamen']=='PROMESA']\n",
    "gestion_liv['credito'] = pd.to_numeric(gestion_liv['credito'])\n",
    "gestion_liv.head(3)"
   ]
  },
  {
   "cell_type": "code",
   "execution_count": 7,
   "metadata": {},
   "outputs": [
    {
     "output_type": "execute_result",
     "data": {
      "text/plain": [
       "   firma_id  unegocio_id         credito estado            rfc division\n",
       "0        12            0  10000001017274    MEX  MAMA720814JK8     DEPN\n",
       "1        12            0  10000005443864  TAMPS  HEGD7610029Z4     DEPN\n",
       "2        12            0  10000005657620    PUE  LADF4609143I1     SER4"
      ],
      "text/html": "<div>\n<style scoped>\n    .dataframe tbody tr th:only-of-type {\n        vertical-align: middle;\n    }\n\n    .dataframe tbody tr th {\n        vertical-align: top;\n    }\n\n    .dataframe thead th {\n        text-align: right;\n    }\n</style>\n<table border=\"1\" class=\"dataframe\">\n  <thead>\n    <tr style=\"text-align: right;\">\n      <th></th>\n      <th>firma_id</th>\n      <th>unegocio_id</th>\n      <th>credito</th>\n      <th>estado</th>\n      <th>rfc</th>\n      <th>division</th>\n    </tr>\n  </thead>\n  <tbody>\n    <tr>\n      <th>0</th>\n      <td>12</td>\n      <td>0</td>\n      <td>10000001017274</td>\n      <td>MEX</td>\n      <td>MAMA720814JK8</td>\n      <td>DEPN</td>\n    </tr>\n    <tr>\n      <th>1</th>\n      <td>12</td>\n      <td>0</td>\n      <td>10000005443864</td>\n      <td>TAMPS</td>\n      <td>HEGD7610029Z4</td>\n      <td>DEPN</td>\n    </tr>\n    <tr>\n      <th>2</th>\n      <td>12</td>\n      <td>0</td>\n      <td>10000005657620</td>\n      <td>PUE</td>\n      <td>LADF4609143I1</td>\n      <td>SER4</td>\n    </tr>\n  </tbody>\n</table>\n</div>"
     },
     "metadata": {},
     "execution_count": 7
    }
   ],
   "source": [
    "#Hacemos la consulta de la asignacion\n",
    "sql_asig_liv = cursor.callproc('liverpool_rpt_asignacion_activa',)\n",
    "for result in cursor.stored_results():\n",
    "    asignacion_liv = pd.DataFrame(result.fetchall())\n",
    "asignacion_liv = asignacion_liv.iloc[:,[0,1,3,24,6,26]]\n",
    "asignacion_liv.columns = ['firma_id','unegocio_id','credito','estado','rfc','division']\n",
    "asignacion_liv['credito'] = pd.to_numeric(asignacion_liv['credito'])\n",
    "asignacion_liv.head(3)"
   ]
  },
  {
   "cell_type": "code",
   "execution_count": 8,
   "metadata": {},
   "outputs": [
    {
     "output_type": "execute_result",
     "data": {
      "text/plain": [
       "   folio_gestion  firma_id  unegocio_id           credito  \\\n",
       "0        9219811        12            5    13000012435603   \n",
       "1        9219184        12            3  1400000008415568   \n",
       "2        9219060        12            5    13000017650685   \n",
       "\n",
       "                          nombre_credito    telefono tipo_telefono  \\\n",
       "0  CONCEPCION DEL CARMEN TORRES CASANOVA  8115322132       celular   \n",
       "1     JOSE HERIBERTO BENJAMIN DIAZ PEREZ  2414071815       celular   \n",
       "2            MARIEL EUGENIA LOPEZ CORTES  5563486320       celular   \n",
       "\n",
       "        fecha_gestion          usuario                      nombre_usuario  \\\n",
       "0 2020-11-30 10:19:38  HERNANDEZMEMAGU  GUADALUPE MAYELA HERNANDEZ MENDITA   \n",
       "1 2020-11-30 09:49:05       RIOSTOMACR               MARY CRUZ RIOS TOLEDO   \n",
       "2 2020-11-30 09:44:47       OROZCOGOBR              OROZCO GONZALEZ BRENDA   \n",
       "\n",
       "  dictamen             accion                    resultado fecha_promesa  \\\n",
       "0  PROMESA  LLAMADA A TITULAR  PROMESA DE PAGO LIQUIDACION    2020-11-30   \n",
       "1  PROMESA  LLAMADA A TITULAR  PROMESA DE PAGO LIQUIDACION    2020-11-30   \n",
       "2  PROMESA  LLAMADA A TITULAR      PROMESA DE PAGO PARCIAL    2020-11-30   \n",
       "\n",
       "   monto_promesa                                        comentarios estado  \\\n",
       "0         1368.0  8115322132 TT SE COMUNICA, NO DA MOTIVO DEL AT...     NL   \n",
       "1         1737.0  2414071815 //ESPOSA DE TT LIQUIDARA CUENTA POR...   TLAX   \n",
       "2         1170.0  5563486320 SRITA REALIZA PPP POR $3170 PRIMER ...     DF   \n",
       "\n",
       "             rfc division  \n",
       "0  TOCC661001QLA     REM4  \n",
       "1  DIPH660401TI3     REM9  \n",
       "2  LOCM820525RY5     REM4  "
      ],
      "text/html": "<div>\n<style scoped>\n    .dataframe tbody tr th:only-of-type {\n        vertical-align: middle;\n    }\n\n    .dataframe tbody tr th {\n        vertical-align: top;\n    }\n\n    .dataframe thead th {\n        text-align: right;\n    }\n</style>\n<table border=\"1\" class=\"dataframe\">\n  <thead>\n    <tr style=\"text-align: right;\">\n      <th></th>\n      <th>folio_gestion</th>\n      <th>firma_id</th>\n      <th>unegocio_id</th>\n      <th>credito</th>\n      <th>nombre_credito</th>\n      <th>telefono</th>\n      <th>tipo_telefono</th>\n      <th>fecha_gestion</th>\n      <th>usuario</th>\n      <th>nombre_usuario</th>\n      <th>dictamen</th>\n      <th>accion</th>\n      <th>resultado</th>\n      <th>fecha_promesa</th>\n      <th>monto_promesa</th>\n      <th>comentarios</th>\n      <th>estado</th>\n      <th>rfc</th>\n      <th>division</th>\n    </tr>\n  </thead>\n  <tbody>\n    <tr>\n      <th>0</th>\n      <td>9219811</td>\n      <td>12</td>\n      <td>5</td>\n      <td>13000012435603</td>\n      <td>CONCEPCION DEL CARMEN TORRES CASANOVA</td>\n      <td>8115322132</td>\n      <td>celular</td>\n      <td>2020-11-30 10:19:38</td>\n      <td>HERNANDEZMEMAGU</td>\n      <td>GUADALUPE MAYELA HERNANDEZ MENDITA</td>\n      <td>PROMESA</td>\n      <td>LLAMADA A TITULAR</td>\n      <td>PROMESA DE PAGO LIQUIDACION</td>\n      <td>2020-11-30</td>\n      <td>1368.0</td>\n      <td>8115322132 TT SE COMUNICA, NO DA MOTIVO DEL AT...</td>\n      <td>NL</td>\n      <td>TOCC661001QLA</td>\n      <td>REM4</td>\n    </tr>\n    <tr>\n      <th>1</th>\n      <td>9219184</td>\n      <td>12</td>\n      <td>3</td>\n      <td>1400000008415568</td>\n      <td>JOSE HERIBERTO BENJAMIN DIAZ PEREZ</td>\n      <td>2414071815</td>\n      <td>celular</td>\n      <td>2020-11-30 09:49:05</td>\n      <td>RIOSTOMACR</td>\n      <td>MARY CRUZ RIOS TOLEDO</td>\n      <td>PROMESA</td>\n      <td>LLAMADA A TITULAR</td>\n      <td>PROMESA DE PAGO LIQUIDACION</td>\n      <td>2020-11-30</td>\n      <td>1737.0</td>\n      <td>2414071815 //ESPOSA DE TT LIQUIDARA CUENTA POR...</td>\n      <td>TLAX</td>\n      <td>DIPH660401TI3</td>\n      <td>REM9</td>\n    </tr>\n    <tr>\n      <th>2</th>\n      <td>9219060</td>\n      <td>12</td>\n      <td>5</td>\n      <td>13000017650685</td>\n      <td>MARIEL EUGENIA LOPEZ CORTES</td>\n      <td>5563486320</td>\n      <td>celular</td>\n      <td>2020-11-30 09:44:47</td>\n      <td>OROZCOGOBR</td>\n      <td>OROZCO GONZALEZ BRENDA</td>\n      <td>PROMESA</td>\n      <td>LLAMADA A TITULAR</td>\n      <td>PROMESA DE PAGO PARCIAL</td>\n      <td>2020-11-30</td>\n      <td>1170.0</td>\n      <td>5563486320 SRITA REALIZA PPP POR $3170 PRIMER ...</td>\n      <td>DF</td>\n      <td>LOCM820525RY5</td>\n      <td>REM4</td>\n    </tr>\n  </tbody>\n</table>\n</div>"
     },
     "metadata": {},
     "execution_count": 8
    }
   ],
   "source": [
    "#Hacemos el consolidado \n",
    "consolidado_liv = pd.merge(gestion_liv,asignacion_liv,how='left',on=['firma_id','unegocio_id','credito'])\n",
    "cols = ['monto_promesa','credito']\n",
    "consolidado_liv[cols] = consolidado_liv[cols].apply(pd.to_numeric, errors='coerce')\n",
    "consolidado_liv.head(3)"
   ]
  },
  {
   "cell_type": "code",
   "execution_count": 19,
   "metadata": {},
   "outputs": [
    {
     "output_type": "execute_result",
     "data": {
      "text/plain": [
       "   Division  NumeroPromesas  SumaPromesas\n",
       "0                         4       6500.00\n",
       "1      JGS3              16      35188.00\n",
       "2      RCC4               1       6395.00\n",
       "3      REM2             253     803925.66\n",
       "4      REM4             112     428649.00\n",
       "5      REM9             106     152589.52\n",
       "6      SB02             388   10588579.87\n",
       "7      SER4               1       1000.00\n",
       "8      ab02               2       5170.00\n",
       "9      pren             137     502392.00\n",
       "10      All            1020   12530389.05"
      ],
      "text/html": "<div>\n<style scoped>\n    .dataframe tbody tr th:only-of-type {\n        vertical-align: middle;\n    }\n\n    .dataframe tbody tr th {\n        vertical-align: top;\n    }\n\n    .dataframe thead th {\n        text-align: right;\n    }\n</style>\n<table border=\"1\" class=\"dataframe\">\n  <thead>\n    <tr style=\"text-align: right;\">\n      <th></th>\n      <th>Division</th>\n      <th>NumeroPromesas</th>\n      <th>SumaPromesas</th>\n    </tr>\n  </thead>\n  <tbody>\n    <tr>\n      <th>0</th>\n      <td></td>\n      <td>4</td>\n      <td>6500.00</td>\n    </tr>\n    <tr>\n      <th>1</th>\n      <td>JGS3</td>\n      <td>16</td>\n      <td>35188.00</td>\n    </tr>\n    <tr>\n      <th>2</th>\n      <td>RCC4</td>\n      <td>1</td>\n      <td>6395.00</td>\n    </tr>\n    <tr>\n      <th>3</th>\n      <td>REM2</td>\n      <td>253</td>\n      <td>803925.66</td>\n    </tr>\n    <tr>\n      <th>4</th>\n      <td>REM4</td>\n      <td>112</td>\n      <td>428649.00</td>\n    </tr>\n    <tr>\n      <th>5</th>\n      <td>REM9</td>\n      <td>106</td>\n      <td>152589.52</td>\n    </tr>\n    <tr>\n      <th>6</th>\n      <td>SB02</td>\n      <td>388</td>\n      <td>10588579.87</td>\n    </tr>\n    <tr>\n      <th>7</th>\n      <td>SER4</td>\n      <td>1</td>\n      <td>1000.00</td>\n    </tr>\n    <tr>\n      <th>8</th>\n      <td>ab02</td>\n      <td>2</td>\n      <td>5170.00</td>\n    </tr>\n    <tr>\n      <th>9</th>\n      <td>pren</td>\n      <td>137</td>\n      <td>502392.00</td>\n    </tr>\n    <tr>\n      <th>10</th>\n      <td>All</td>\n      <td>1020</td>\n      <td>12530389.05</td>\n    </tr>\n  </tbody>\n</table>\n</div>"
     },
     "metadata": {},
     "execution_count": 19
    }
   ],
   "source": [
    "#Obtenemos datos de las promesas de Liverpool\n",
    "consolidado_liv2 = consolidado_liv.drop_duplicates(subset=['credito','fecha_promesa','monto_promesa'])\n",
    "pivot_liv = pd.pivot_table(consolidado_liv2,index=['division'],values=['credito','monto_promesa'],aggfunc=['count',np.sum],margins=True)\n",
    "pivot_liv = pd.DataFrame(pivot_liv.to_records())\n",
    "pivot_liv = pivot_liv.iloc[:,[0,1,4]]\n",
    "pivot_liv.columns = ['Division','NumeroPromesas','SumaPromesas']\n",
    "pivot_liv.fillna(0,inplace=True)\n",
    "#pivot_liv[['NumeroPromesas','PromedioPromesa','SumaPromesas']] = pivot_liv[['NumeroPromesas','PromedioPromesa','SumaPromesas']].applymap(\"{0:.2f}\".format)\n",
    "pivot_liv"
   ]
  },
  {
   "source": [
    "# Bradesco "
   ],
   "cell_type": "markdown",
   "metadata": {}
  },
  {
   "cell_type": "code",
   "execution_count": 20,
   "metadata": {},
   "outputs": [
    {
     "output_type": "execute_result",
     "data": {
      "text/plain": [
       "     folio_gestion  firma_id  unegocio_id           credito  \\\n",
       "58         9220162         1            3  4812830042336016   \n",
       "148        9219832         1            3  2869009122280024   \n",
       "153        9219961         1            4  5063291140806017   \n",
       "\n",
       "                   nombre_credito    telefono tipo_telefono  \\\n",
       "58           RAMIREZ ROMERO  JOSE  4776713714       celular   \n",
       "148       HUESCA CASTRO  ANA ROSA  2321099321       celular   \n",
       "153  MONTALVO ARREDONDO  GRACIELA  4445487915       celular   \n",
       "\n",
       "          fecha_gestion        usuario                        nombre_usuario  \\\n",
       "58  2020-11-30 10:32:38  VAZQUEZSALIBE  VAZQUEZ SANCHEZ LINNETH BERENICEÃÂ    \n",
       "148 2020-11-30 10:18:05      GOMEZCALE                GOMEZ CARRILLO LETICIA   \n",
       "153 2020-11-30 10:17:38  RAMIREZRELEGU        RAMIREZ REYES LESLIE GUADALUPE   \n",
       "\n",
       "    dictamen             accion                    resultado  \\\n",
       "58   PROMESA  LLAMADA A TITULAR  PROMESA DE PAGO LIQUIDACION   \n",
       "148  PROMESA     ENTRADA CARTEO  PROMESA DE PAGO LIQUIDACION   \n",
       "153  PROMESA  LLAMADA A TITULAR  PROMESA DE PAGO LIQUIDACION   \n",
       "\n",
       "                                  accion_resultado fecha_promesa  \\\n",
       "58   LLAMADA A TITULAR-PROMESA DE PAGO LIQUIDACION    2020-11-30   \n",
       "148     ENTRADA CARTEO-PROMESA DE PAGO LIQUIDACION    2020-11-30   \n",
       "153  LLAMADA A TITULAR-PROMESA DE PAGO LIQUIDACION    2020-11-30   \n",
       "\n",
       "     monto_promesa                                        comentarios  \n",
       "58          1405.0  4776713714 TT SE PONE EN CONTACTO PARA INDICAR...  \n",
       "148         1798.0  2321099321 SC TT DICE QUE LE  LLEGO CARTEO POR...  \n",
       "153          900.0  4448619175// COMENTA LA SEÃâORA QUE HOY REA...  "
      ],
      "text/html": "<div>\n<style scoped>\n    .dataframe tbody tr th:only-of-type {\n        vertical-align: middle;\n    }\n\n    .dataframe tbody tr th {\n        vertical-align: top;\n    }\n\n    .dataframe thead th {\n        text-align: right;\n    }\n</style>\n<table border=\"1\" class=\"dataframe\">\n  <thead>\n    <tr style=\"text-align: right;\">\n      <th></th>\n      <th>folio_gestion</th>\n      <th>firma_id</th>\n      <th>unegocio_id</th>\n      <th>credito</th>\n      <th>nombre_credito</th>\n      <th>telefono</th>\n      <th>tipo_telefono</th>\n      <th>fecha_gestion</th>\n      <th>usuario</th>\n      <th>nombre_usuario</th>\n      <th>dictamen</th>\n      <th>accion</th>\n      <th>resultado</th>\n      <th>accion_resultado</th>\n      <th>fecha_promesa</th>\n      <th>monto_promesa</th>\n      <th>comentarios</th>\n    </tr>\n  </thead>\n  <tbody>\n    <tr>\n      <th>58</th>\n      <td>9220162</td>\n      <td>1</td>\n      <td>3</td>\n      <td>4812830042336016</td>\n      <td>RAMIREZ ROMERO  JOSE</td>\n      <td>4776713714</td>\n      <td>celular</td>\n      <td>2020-11-30 10:32:38</td>\n      <td>VAZQUEZSALIBE</td>\n      <td>VAZQUEZ SANCHEZ LINNETH BERENICEÃÂ</td>\n      <td>PROMESA</td>\n      <td>LLAMADA A TITULAR</td>\n      <td>PROMESA DE PAGO LIQUIDACION</td>\n      <td>LLAMADA A TITULAR-PROMESA DE PAGO LIQUIDACION</td>\n      <td>2020-11-30</td>\n      <td>1405.0</td>\n      <td>4776713714 TT SE PONE EN CONTACTO PARA INDICAR...</td>\n    </tr>\n    <tr>\n      <th>148</th>\n      <td>9219832</td>\n      <td>1</td>\n      <td>3</td>\n      <td>2869009122280024</td>\n      <td>HUESCA CASTRO  ANA ROSA</td>\n      <td>2321099321</td>\n      <td>celular</td>\n      <td>2020-11-30 10:18:05</td>\n      <td>GOMEZCALE</td>\n      <td>GOMEZ CARRILLO LETICIA</td>\n      <td>PROMESA</td>\n      <td>ENTRADA CARTEO</td>\n      <td>PROMESA DE PAGO LIQUIDACION</td>\n      <td>ENTRADA CARTEO-PROMESA DE PAGO LIQUIDACION</td>\n      <td>2020-11-30</td>\n      <td>1798.0</td>\n      <td>2321099321 SC TT DICE QUE LE  LLEGO CARTEO POR...</td>\n    </tr>\n    <tr>\n      <th>153</th>\n      <td>9219961</td>\n      <td>1</td>\n      <td>4</td>\n      <td>5063291140806017</td>\n      <td>MONTALVO ARREDONDO  GRACIELA</td>\n      <td>4445487915</td>\n      <td>celular</td>\n      <td>2020-11-30 10:17:38</td>\n      <td>RAMIREZRELEGU</td>\n      <td>RAMIREZ REYES LESLIE GUADALUPE</td>\n      <td>PROMESA</td>\n      <td>LLAMADA A TITULAR</td>\n      <td>PROMESA DE PAGO LIQUIDACION</td>\n      <td>LLAMADA A TITULAR-PROMESA DE PAGO LIQUIDACION</td>\n      <td>2020-11-30</td>\n      <td>900.0</td>\n      <td>4448619175// COMENTA LA SEÃâORA QUE HOY REA...</td>\n    </tr>\n  </tbody>\n</table>\n</div>"
     },
     "metadata": {},
     "execution_count": 20
    }
   ],
   "source": [
    "#Hacemos la consulta referente a las gestiones de Bradesco\n",
    "sql_gest_brad = cursor.callproc('bradescard_rpt_gestiones_detallado', [mes,today])\n",
    "for result in cursor.stored_results():\n",
    "    gestion_brad = pd.DataFrame(result.fetchall())\n",
    "gestion_brad.columns = ['folio_gestion','firma_id','unegocio_id','credito','nombre_credito','telefono','tipo_telefono','fecha_gestion','usuario','nombre_usuario','dictamen','accion','resultado','accion_resultado','fecha_promesa','monto_promesa','comentarios']\n",
    "gestion_brad = gestion_brad.loc[gestion_brad['dictamen']=='PROMESA']\n",
    "gestion_brad['credito'] = pd.to_numeric(gestion_brad['credito'])\n",
    "gestion_brad['monto_promesa'] = pd.to_numeric(gestion_brad['monto_promesa'])\n",
    "gestion_brad.head(3)"
   ]
  },
  {
   "cell_type": "code",
   "execution_count": 12,
   "metadata": {},
   "outputs": [
    {
     "output_type": "execute_result",
     "data": {
      "text/plain": [
       "   firma_id  unegocio_id           credito    estado              rfc division\n",
       "0         1            3  2869000138080177   YUCATAN  JURM8405047J801   C0 4PV\n",
       "1         1            3  2869000220229211  VERACRUZ  HUQL8505057F701   C0 5PV\n",
       "2         1            3  2869000320518893    PUEBLA  FEHL8809278HA01   C0 5PV"
      ],
      "text/html": "<div>\n<style scoped>\n    .dataframe tbody tr th:only-of-type {\n        vertical-align: middle;\n    }\n\n    .dataframe tbody tr th {\n        vertical-align: top;\n    }\n\n    .dataframe thead th {\n        text-align: right;\n    }\n</style>\n<table border=\"1\" class=\"dataframe\">\n  <thead>\n    <tr style=\"text-align: right;\">\n      <th></th>\n      <th>firma_id</th>\n      <th>unegocio_id</th>\n      <th>credito</th>\n      <th>estado</th>\n      <th>rfc</th>\n      <th>division</th>\n    </tr>\n  </thead>\n  <tbody>\n    <tr>\n      <th>0</th>\n      <td>1</td>\n      <td>3</td>\n      <td>2869000138080177</td>\n      <td>YUCATAN</td>\n      <td>JURM8405047J801</td>\n      <td>C0 4PV</td>\n    </tr>\n    <tr>\n      <th>1</th>\n      <td>1</td>\n      <td>3</td>\n      <td>2869000220229211</td>\n      <td>VERACRUZ</td>\n      <td>HUQL8505057F701</td>\n      <td>C0 5PV</td>\n    </tr>\n    <tr>\n      <th>2</th>\n      <td>1</td>\n      <td>3</td>\n      <td>2869000320518893</td>\n      <td>PUEBLA</td>\n      <td>FEHL8809278HA01</td>\n      <td>C0 5PV</td>\n    </tr>\n  </tbody>\n</table>\n</div>"
     },
     "metadata": {},
     "execution_count": 12
    }
   ],
   "source": [
    "#Hacemos la consulta de la asignacion\n",
    "sql_asig_brad = cursor.callproc('bradescard_rpt_asignacion_activa',)\n",
    "for result in cursor.stored_results():\n",
    "    asignacion_brad = pd.DataFrame(result.fetchall())\n",
    "asignacion_brad = asignacion_brad.iloc[:,[0,1,3,24,6,26]]\n",
    "asignacion_brad.columns = ['firma_id','unegocio_id','credito','estado','rfc','division']\n",
    "asignacion_brad['credito'] = pd.to_numeric(asignacion_brad['credito'])\n",
    "asignacion_brad.head(3)"
   ]
  },
  {
   "cell_type": "code",
   "execution_count": 21,
   "metadata": {},
   "outputs": [
    {
     "output_type": "execute_result",
     "data": {
      "text/plain": [
       "   folio_gestion  firma_id  unegocio_id           credito  \\\n",
       "0        9220162         1            3  4812830042336016   \n",
       "1        9219832         1            3  2869009122280024   \n",
       "2        9219961         1            4  5063291140806017   \n",
       "\n",
       "                 nombre_credito    telefono tipo_telefono       fecha_gestion  \\\n",
       "0          RAMIREZ ROMERO  JOSE  4776713714       celular 2020-11-30 10:32:38   \n",
       "1       HUESCA CASTRO  ANA ROSA  2321099321       celular 2020-11-30 10:18:05   \n",
       "2  MONTALVO ARREDONDO  GRACIELA  4445487915       celular 2020-11-30 10:17:38   \n",
       "\n",
       "         usuario                        nombre_usuario dictamen  \\\n",
       "0  VAZQUEZSALIBE  VAZQUEZ SANCHEZ LINNETH BERENICEÃÂ   PROMESA   \n",
       "1      GOMEZCALE                GOMEZ CARRILLO LETICIA  PROMESA   \n",
       "2  RAMIREZRELEGU        RAMIREZ REYES LESLIE GUADALUPE  PROMESA   \n",
       "\n",
       "              accion                    resultado  \\\n",
       "0  LLAMADA A TITULAR  PROMESA DE PAGO LIQUIDACION   \n",
       "1     ENTRADA CARTEO  PROMESA DE PAGO LIQUIDACION   \n",
       "2  LLAMADA A TITULAR  PROMESA DE PAGO LIQUIDACION   \n",
       "\n",
       "                                accion_resultado fecha_promesa  monto_promesa  \\\n",
       "0  LLAMADA A TITULAR-PROMESA DE PAGO LIQUIDACION    2020-11-30         1405.0   \n",
       "1     ENTRADA CARTEO-PROMESA DE PAGO LIQUIDACION    2020-11-30         1798.0   \n",
       "2  LLAMADA A TITULAR-PROMESA DE PAGO LIQUIDACION    2020-11-30          900.0   \n",
       "\n",
       "                                         comentarios           estado  \\\n",
       "0  4776713714 TT SE PONE EN CONTACTO PARA INDICAR...           PUEBLA   \n",
       "1  2321099321 SC TT DICE QUE LE  LLEGO CARTEO POR...           PUEBLA   \n",
       "2  4448619175// COMENTA LA SEÃâORA QUE HOY REA...  SAN LUIS POTOSI   \n",
       "\n",
       "               rfc division  \n",
       "0  RARJ5711121L101   C0 4PV  \n",
       "1  HUCA90042341201   C0 4PV  \n",
       "2  MOAG970618JG001       C1  "
      ],
      "text/html": "<div>\n<style scoped>\n    .dataframe tbody tr th:only-of-type {\n        vertical-align: middle;\n    }\n\n    .dataframe tbody tr th {\n        vertical-align: top;\n    }\n\n    .dataframe thead th {\n        text-align: right;\n    }\n</style>\n<table border=\"1\" class=\"dataframe\">\n  <thead>\n    <tr style=\"text-align: right;\">\n      <th></th>\n      <th>folio_gestion</th>\n      <th>firma_id</th>\n      <th>unegocio_id</th>\n      <th>credito</th>\n      <th>nombre_credito</th>\n      <th>telefono</th>\n      <th>tipo_telefono</th>\n      <th>fecha_gestion</th>\n      <th>usuario</th>\n      <th>nombre_usuario</th>\n      <th>dictamen</th>\n      <th>accion</th>\n      <th>resultado</th>\n      <th>accion_resultado</th>\n      <th>fecha_promesa</th>\n      <th>monto_promesa</th>\n      <th>comentarios</th>\n      <th>estado</th>\n      <th>rfc</th>\n      <th>division</th>\n    </tr>\n  </thead>\n  <tbody>\n    <tr>\n      <th>0</th>\n      <td>9220162</td>\n      <td>1</td>\n      <td>3</td>\n      <td>4812830042336016</td>\n      <td>RAMIREZ ROMERO  JOSE</td>\n      <td>4776713714</td>\n      <td>celular</td>\n      <td>2020-11-30 10:32:38</td>\n      <td>VAZQUEZSALIBE</td>\n      <td>VAZQUEZ SANCHEZ LINNETH BERENICEÃÂ</td>\n      <td>PROMESA</td>\n      <td>LLAMADA A TITULAR</td>\n      <td>PROMESA DE PAGO LIQUIDACION</td>\n      <td>LLAMADA A TITULAR-PROMESA DE PAGO LIQUIDACION</td>\n      <td>2020-11-30</td>\n      <td>1405.0</td>\n      <td>4776713714 TT SE PONE EN CONTACTO PARA INDICAR...</td>\n      <td>PUEBLA</td>\n      <td>RARJ5711121L101</td>\n      <td>C0 4PV</td>\n    </tr>\n    <tr>\n      <th>1</th>\n      <td>9219832</td>\n      <td>1</td>\n      <td>3</td>\n      <td>2869009122280024</td>\n      <td>HUESCA CASTRO  ANA ROSA</td>\n      <td>2321099321</td>\n      <td>celular</td>\n      <td>2020-11-30 10:18:05</td>\n      <td>GOMEZCALE</td>\n      <td>GOMEZ CARRILLO LETICIA</td>\n      <td>PROMESA</td>\n      <td>ENTRADA CARTEO</td>\n      <td>PROMESA DE PAGO LIQUIDACION</td>\n      <td>ENTRADA CARTEO-PROMESA DE PAGO LIQUIDACION</td>\n      <td>2020-11-30</td>\n      <td>1798.0</td>\n      <td>2321099321 SC TT DICE QUE LE  LLEGO CARTEO POR...</td>\n      <td>PUEBLA</td>\n      <td>HUCA90042341201</td>\n      <td>C0 4PV</td>\n    </tr>\n    <tr>\n      <th>2</th>\n      <td>9219961</td>\n      <td>1</td>\n      <td>4</td>\n      <td>5063291140806017</td>\n      <td>MONTALVO ARREDONDO  GRACIELA</td>\n      <td>4445487915</td>\n      <td>celular</td>\n      <td>2020-11-30 10:17:38</td>\n      <td>RAMIREZRELEGU</td>\n      <td>RAMIREZ REYES LESLIE GUADALUPE</td>\n      <td>PROMESA</td>\n      <td>LLAMADA A TITULAR</td>\n      <td>PROMESA DE PAGO LIQUIDACION</td>\n      <td>LLAMADA A TITULAR-PROMESA DE PAGO LIQUIDACION</td>\n      <td>2020-11-30</td>\n      <td>900.0</td>\n      <td>4448619175// COMENTA LA SEÃâORA QUE HOY REA...</td>\n      <td>SAN LUIS POTOSI</td>\n      <td>MOAG970618JG001</td>\n      <td>C1</td>\n    </tr>\n  </tbody>\n</table>\n</div>"
     },
     "metadata": {},
     "execution_count": 21
    }
   ],
   "source": [
    "#Hacemos la union de asignacion y promesas\n",
    "consolidado_brad = pd.merge(gestion_brad,asignacion_brad,how='left',on=['firma_id','unegocio_id','credito'])\n",
    "cols = ['monto_promesa','credito']\n",
    "consolidado_liv[cols] = consolidado_liv[cols].apply(pd.to_numeric, errors='coerce')\n",
    "consolidado_brad.head(3)"
   ]
  },
  {
   "cell_type": "code",
   "execution_count": 25,
   "metadata": {},
   "outputs": [
    {
     "output_type": "execute_result",
     "data": {
      "text/plain": [
       "  Division  NumeroPromesas  SumaPromesas\n",
       "0        A              51     102973.72\n",
       "1        B              18      28654.00\n",
       "2   C0 4PV             465     908097.16\n",
       "3   C0 5PV             397     758583.99\n",
       "4   C0 6PV             495   20835316.98\n",
       "5       C1             976   11683910.64\n",
       "6       C2             298     487423.00\n",
       "7       C3             368     482607.50\n",
       "8       C4             174     158559.00\n",
       "9      All            3242   35446125.99"
      ],
      "text/html": "<div>\n<style scoped>\n    .dataframe tbody tr th:only-of-type {\n        vertical-align: middle;\n    }\n\n    .dataframe tbody tr th {\n        vertical-align: top;\n    }\n\n    .dataframe thead th {\n        text-align: right;\n    }\n</style>\n<table border=\"1\" class=\"dataframe\">\n  <thead>\n    <tr style=\"text-align: right;\">\n      <th></th>\n      <th>Division</th>\n      <th>NumeroPromesas</th>\n      <th>SumaPromesas</th>\n    </tr>\n  </thead>\n  <tbody>\n    <tr>\n      <th>0</th>\n      <td>A</td>\n      <td>51</td>\n      <td>102973.72</td>\n    </tr>\n    <tr>\n      <th>1</th>\n      <td>B</td>\n      <td>18</td>\n      <td>28654.00</td>\n    </tr>\n    <tr>\n      <th>2</th>\n      <td>C0 4PV</td>\n      <td>465</td>\n      <td>908097.16</td>\n    </tr>\n    <tr>\n      <th>3</th>\n      <td>C0 5PV</td>\n      <td>397</td>\n      <td>758583.99</td>\n    </tr>\n    <tr>\n      <th>4</th>\n      <td>C0 6PV</td>\n      <td>495</td>\n      <td>20835316.98</td>\n    </tr>\n    <tr>\n      <th>5</th>\n      <td>C1</td>\n      <td>976</td>\n      <td>11683910.64</td>\n    </tr>\n    <tr>\n      <th>6</th>\n      <td>C2</td>\n      <td>298</td>\n      <td>487423.00</td>\n    </tr>\n    <tr>\n      <th>7</th>\n      <td>C3</td>\n      <td>368</td>\n      <td>482607.50</td>\n    </tr>\n    <tr>\n      <th>8</th>\n      <td>C4</td>\n      <td>174</td>\n      <td>158559.00</td>\n    </tr>\n    <tr>\n      <th>9</th>\n      <td>All</td>\n      <td>3242</td>\n      <td>35446125.99</td>\n    </tr>\n  </tbody>\n</table>\n</div>"
     },
     "metadata": {},
     "execution_count": 25
    }
   ],
   "source": [
    "#Obtenemos datos de las promesas de Bradesco\n",
    "consolidado_brad2 = consolidado_brad.drop_duplicates(subset=['credito','fecha_promesa','monto_promesa'])\n",
    "pivot_brad = pd.pivot_table(consolidado_brad2,index=['division'],values=['credito','monto_promesa'],aggfunc=['count',np.sum],margins=True)\n",
    "pivot_brad = pd.DataFrame(pivot_brad.to_records())\n",
    "pivot_brad = pivot_brad.iloc[:,[0,1,4]]\n",
    "pivot_brad.columns = ['Division','NumeroPromesas','SumaPromesas']\n",
    "pivot_brad.fillna(0,inplace=True)\n",
    "#pivot_brad[['NumeroPromesas','PromedioPromesa','SumaPromesas']] = pivot_gestion_brad[['NumeroPromesas','PromedioPromesa','SumaPromesas']].applymap(\"{0:.2f}\".format)\n",
    "pivot_brad"
   ]
  },
  {
   "source": [
    "# Credifiel"
   ],
   "cell_type": "markdown",
   "metadata": {}
  },
  {
   "cell_type": "code",
   "execution_count": 7,
   "metadata": {},
   "outputs": [
    {
     "output_type": "execute_result",
     "data": {
      "text/plain": [
       "     folio_gestion  unegocio_id fecha_gestion hora_gestion    credito  \\\n",
       "24         8897094            1    2020-11-02     08:24:58  CR-287300   \n",
       "106        8897909            1    2020-11-02     09:45:05  CR-441366   \n",
       "112        8897999            1    2020-11-02     09:48:21  CR-540140   \n",
       "\n",
       "              nombre_credito    telefono        usuario  \\\n",
       "24   MORALES ZARATE PATRICIA  9321097494    QUINTOSARLD   \n",
       "106  SOTO LIMAS JESUS MANUEL  8681360360  HERNANDEZGARO   \n",
       "112   ALVAREZ MUÑOZ ANGELICA  3319616535  HERNANDEZGARO   \n",
       "\n",
       "                 nombre_usuario             accion              resultado  \\\n",
       "24   QUINTOS ARVIZU LUIS DANIEL  LLAMADA A TITULAR  SEGUIMIENTO A PROMESA   \n",
       "106   HERNANDEZ GALINDO RODRIGO  LLAMADA A TITULAR  SEGUIMIENTO A PROMESA   \n",
       "112   HERNANDEZ GALINDO RODRIGO  LLAMADA A TITULAR  SEGUIMIENTO A PROMESA   \n",
       "\n",
       "    fecha_promesa  monto_promesa  \\\n",
       "24                           NaN   \n",
       "106                          NaN   \n",
       "112                          NaN   \n",
       "\n",
       "                                           comentarios accion_credifiel  \\\n",
       "24                  \\t9321097494 SEGUIMIENTO POR WHATS              PDP   \n",
       "106  8681360360  no contesta se manda mensaje vÃ­a ...              PDP   \n",
       "112  3319616535 se manda mensaje via whatsapp pidie...              PDP   \n",
       "\n",
       "    resultado_credifiel  dictamen  \n",
       "24      Promesa de Pago  CONTACTO  \n",
       "106     Promesa de Pago  CONTACTO  \n",
       "112     Promesa de Pago  CONTACTO  "
      ],
      "text/html": "<div>\n<style scoped>\n    .dataframe tbody tr th:only-of-type {\n        vertical-align: middle;\n    }\n\n    .dataframe tbody tr th {\n        vertical-align: top;\n    }\n\n    .dataframe thead th {\n        text-align: right;\n    }\n</style>\n<table border=\"1\" class=\"dataframe\">\n  <thead>\n    <tr style=\"text-align: right;\">\n      <th></th>\n      <th>folio_gestion</th>\n      <th>unegocio_id</th>\n      <th>fecha_gestion</th>\n      <th>hora_gestion</th>\n      <th>credito</th>\n      <th>nombre_credito</th>\n      <th>telefono</th>\n      <th>usuario</th>\n      <th>nombre_usuario</th>\n      <th>accion</th>\n      <th>resultado</th>\n      <th>fecha_promesa</th>\n      <th>monto_promesa</th>\n      <th>comentarios</th>\n      <th>accion_credifiel</th>\n      <th>resultado_credifiel</th>\n      <th>dictamen</th>\n    </tr>\n  </thead>\n  <tbody>\n    <tr>\n      <th>24</th>\n      <td>8897094</td>\n      <td>1</td>\n      <td>2020-11-02</td>\n      <td>08:24:58</td>\n      <td>CR-287300</td>\n      <td>MORALES ZARATE PATRICIA</td>\n      <td>9321097494</td>\n      <td>QUINTOSARLD</td>\n      <td>QUINTOS ARVIZU LUIS DANIEL</td>\n      <td>LLAMADA A TITULAR</td>\n      <td>SEGUIMIENTO A PROMESA</td>\n      <td></td>\n      <td>NaN</td>\n      <td>\\t9321097494 SEGUIMIENTO POR WHATS</td>\n      <td>PDP</td>\n      <td>Promesa de Pago</td>\n      <td>CONTACTO</td>\n    </tr>\n    <tr>\n      <th>106</th>\n      <td>8897909</td>\n      <td>1</td>\n      <td>2020-11-02</td>\n      <td>09:45:05</td>\n      <td>CR-441366</td>\n      <td>SOTO LIMAS JESUS MANUEL</td>\n      <td>8681360360</td>\n      <td>HERNANDEZGARO</td>\n      <td>HERNANDEZ GALINDO RODRIGO</td>\n      <td>LLAMADA A TITULAR</td>\n      <td>SEGUIMIENTO A PROMESA</td>\n      <td></td>\n      <td>NaN</td>\n      <td>8681360360  no contesta se manda mensaje vÃ­a ...</td>\n      <td>PDP</td>\n      <td>Promesa de Pago</td>\n      <td>CONTACTO</td>\n    </tr>\n    <tr>\n      <th>112</th>\n      <td>8897999</td>\n      <td>1</td>\n      <td>2020-11-02</td>\n      <td>09:48:21</td>\n      <td>CR-540140</td>\n      <td>ALVAREZ MUÑOZ ANGELICA</td>\n      <td>3319616535</td>\n      <td>HERNANDEZGARO</td>\n      <td>HERNANDEZ GALINDO RODRIGO</td>\n      <td>LLAMADA A TITULAR</td>\n      <td>SEGUIMIENTO A PROMESA</td>\n      <td></td>\n      <td>NaN</td>\n      <td>3319616535 se manda mensaje via whatsapp pidie...</td>\n      <td>PDP</td>\n      <td>Promesa de Pago</td>\n      <td>CONTACTO</td>\n    </tr>\n  </tbody>\n</table>\n</div>"
     },
     "metadata": {},
     "execution_count": 7
    }
   ],
   "source": [
    "#Hacemos la consulta referente a las gestiones de Credifiel\n",
    "sql_gest_cred = cursor.callproc('credifiel_rpt_gestiones_detallado', [mes,today])\n",
    "for result in cursor.stored_results():\n",
    "    gestion_cred = pd.DataFrame(result.fetchall())\n",
    "gestion_cred.columns = ['folio_gestion','unegocio_id','fecha_gestion','hora_gestion','credito','nombre_credito','telefono','usuario','nombre_usuario','accion','resultado','fecha_promesa','monto_promesa','comentarios','accion_credifiel','resultado_credifiel','dictamen']\n",
    "gestion_cred['monto_promesa'] = pd.to_numeric(gestion_cred['monto_promesa'])\n",
    "gestion_cred = gestion_cred.loc[gestion_cred['accion_credifiel']=='PDP']\n",
    "gestion_cred.head(3)"
   ]
  },
  {
   "cell_type": "code",
   "execution_count": 8,
   "metadata": {},
   "outputs": [
    {
     "output_type": "execute_result",
     "data": {
      "text/plain": [
       "   unegocio_id    credito                division\n",
       "0            1  CR-101922  COBRANZA EXTRAJUDICIAL\n",
       "1            1  CR-101949                LIQUIDAR\n",
       "2            1  CR-101952                LIQUIDAR"
      ],
      "text/html": "<div>\n<style scoped>\n    .dataframe tbody tr th:only-of-type {\n        vertical-align: middle;\n    }\n\n    .dataframe tbody tr th {\n        vertical-align: top;\n    }\n\n    .dataframe thead th {\n        text-align: right;\n    }\n</style>\n<table border=\"1\" class=\"dataframe\">\n  <thead>\n    <tr style=\"text-align: right;\">\n      <th></th>\n      <th>unegocio_id</th>\n      <th>credito</th>\n      <th>division</th>\n    </tr>\n  </thead>\n  <tbody>\n    <tr>\n      <th>0</th>\n      <td>1</td>\n      <td>CR-101922</td>\n      <td>COBRANZA EXTRAJUDICIAL</td>\n    </tr>\n    <tr>\n      <th>1</th>\n      <td>1</td>\n      <td>CR-101949</td>\n      <td>LIQUIDAR</td>\n    </tr>\n    <tr>\n      <th>2</th>\n      <td>1</td>\n      <td>CR-101952</td>\n      <td>LIQUIDAR</td>\n    </tr>\n  </tbody>\n</table>\n</div>"
     },
     "metadata": {},
     "execution_count": 8
    }
   ],
   "source": [
    "#Hacemos la consulta de la asignacion\n",
    "sql_asig_cred = cursor.callproc('credifiel_rpt_asignacion_activa',)\n",
    "for result in cursor.stored_results():\n",
    "    asignacion_cred = pd.DataFrame(result.fetchall())\n",
    "asignacion_cred = asignacion_cred.iloc[:,[1,3,32]]\n",
    "asignacion_cred.columns = ['unegocio_id','credito','division']\n",
    "#asignacion_brad['credito'] = pd.to_numeric(asignacion_brad['credito'])\n",
    "asignacion_cred.head(3)"
   ]
  },
  {
   "cell_type": "code",
   "execution_count": 11,
   "metadata": {},
   "outputs": [
    {
     "output_type": "execute_result",
     "data": {
      "text/plain": [
       "    folio_gestion  unegocio_id fecha_gestion hora_gestion    credito  \\\n",
       "6         8903928            1    2020-11-02     16:50:16  CR-458939   \n",
       "33        8909981            1    2020-11-03     10:50:16  CR-333406   \n",
       "47        8911773            1    2020-11-03     12:26:20  CR-464179   \n",
       "\n",
       "                       nombre_credito    telefono       usuario  \\\n",
       "6             CORTEZ CASTAÑEDA ELVIRA  3111064432  GONMORALESBM   \n",
       "33               TINOCO ELIZALDE JUAN  9611158039  GONMORALESBM   \n",
       "47  PACHECO VILLALOBOS JOSE FRANCISCO  6623981460  GONMORALESBM   \n",
       "\n",
       "                    nombre_usuario             accion  \\\n",
       "6   GONZALEZ MORALES BRENDA MARLEN  LLAMADA A TITULAR   \n",
       "33  GONZALEZ MORALES BRENDA MARLEN  LLAMADA A TITULAR   \n",
       "47  GONZALEZ MORALES BRENDA MARLEN  LLAMADA A TITULAR   \n",
       "\n",
       "                  resultado fecha_promesa  monto_promesa  \\\n",
       "6   PROMESA DE PAGO PARCIAL    2020-11-06       16333.00   \n",
       "33  PROMESA DE PAGO PARCIAL    2020-11-15        1356.00   \n",
       "47  PROMESA DE PAGO PARCIAL    2020-11-30        3064.74   \n",
       "\n",
       "                                          comentarios accion_credifiel  \\\n",
       "6   3111064432 PLAN DE PAGOS TT PONE AL CORRIENTE ...              PDP   \n",
       "33  9611158039 TT REALIZARA PAGO 9 POR $1356 EL DI...              PDP   \n",
       "47  6623981460 TT REALIZARA PAGO 2 $3064.74 Y LOS ...              PDP   \n",
       "\n",
       "   resultado_credifiel  dictamen                division  \n",
       "6      Promesa de Pago  CONTACTO                     NaN  \n",
       "33     Promesa de Pago  CONTACTO                          \n",
       "47     Promesa de Pago  CONTACTO  COBRANZA EXTRAJUDICIAL  "
      ],
      "text/html": "<div>\n<style scoped>\n    .dataframe tbody tr th:only-of-type {\n        vertical-align: middle;\n    }\n\n    .dataframe tbody tr th {\n        vertical-align: top;\n    }\n\n    .dataframe thead th {\n        text-align: right;\n    }\n</style>\n<table border=\"1\" class=\"dataframe\">\n  <thead>\n    <tr style=\"text-align: right;\">\n      <th></th>\n      <th>folio_gestion</th>\n      <th>unegocio_id</th>\n      <th>fecha_gestion</th>\n      <th>hora_gestion</th>\n      <th>credito</th>\n      <th>nombre_credito</th>\n      <th>telefono</th>\n      <th>usuario</th>\n      <th>nombre_usuario</th>\n      <th>accion</th>\n      <th>resultado</th>\n      <th>fecha_promesa</th>\n      <th>monto_promesa</th>\n      <th>comentarios</th>\n      <th>accion_credifiel</th>\n      <th>resultado_credifiel</th>\n      <th>dictamen</th>\n      <th>division</th>\n    </tr>\n  </thead>\n  <tbody>\n    <tr>\n      <th>6</th>\n      <td>8903928</td>\n      <td>1</td>\n      <td>2020-11-02</td>\n      <td>16:50:16</td>\n      <td>CR-458939</td>\n      <td>CORTEZ CASTAÑEDA ELVIRA</td>\n      <td>3111064432</td>\n      <td>GONMORALESBM</td>\n      <td>GONZALEZ MORALES BRENDA MARLEN</td>\n      <td>LLAMADA A TITULAR</td>\n      <td>PROMESA DE PAGO PARCIAL</td>\n      <td>2020-11-06</td>\n      <td>16333.00</td>\n      <td>3111064432 PLAN DE PAGOS TT PONE AL CORRIENTE ...</td>\n      <td>PDP</td>\n      <td>Promesa de Pago</td>\n      <td>CONTACTO</td>\n      <td>NaN</td>\n    </tr>\n    <tr>\n      <th>33</th>\n      <td>8909981</td>\n      <td>1</td>\n      <td>2020-11-03</td>\n      <td>10:50:16</td>\n      <td>CR-333406</td>\n      <td>TINOCO ELIZALDE JUAN</td>\n      <td>9611158039</td>\n      <td>GONMORALESBM</td>\n      <td>GONZALEZ MORALES BRENDA MARLEN</td>\n      <td>LLAMADA A TITULAR</td>\n      <td>PROMESA DE PAGO PARCIAL</td>\n      <td>2020-11-15</td>\n      <td>1356.00</td>\n      <td>9611158039 TT REALIZARA PAGO 9 POR $1356 EL DI...</td>\n      <td>PDP</td>\n      <td>Promesa de Pago</td>\n      <td>CONTACTO</td>\n      <td></td>\n    </tr>\n    <tr>\n      <th>47</th>\n      <td>8911773</td>\n      <td>1</td>\n      <td>2020-11-03</td>\n      <td>12:26:20</td>\n      <td>CR-464179</td>\n      <td>PACHECO VILLALOBOS JOSE FRANCISCO</td>\n      <td>6623981460</td>\n      <td>GONMORALESBM</td>\n      <td>GONZALEZ MORALES BRENDA MARLEN</td>\n      <td>LLAMADA A TITULAR</td>\n      <td>PROMESA DE PAGO PARCIAL</td>\n      <td>2020-11-30</td>\n      <td>3064.74</td>\n      <td>6623981460 TT REALIZARA PAGO 2 $3064.74 Y LOS ...</td>\n      <td>PDP</td>\n      <td>Promesa de Pago</td>\n      <td>CONTACTO</td>\n      <td>COBRANZA EXTRAJUDICIAL</td>\n    </tr>\n  </tbody>\n</table>\n</div>"
     },
     "metadata": {},
     "execution_count": 11
    }
   ],
   "source": [
    "#Hacemos el consolidado de la asignacion y promesado\n",
    "consolidado_cred = pd.merge(gestion_cred,asignacion_cred,how='left',on=['unegocio_id','credito'])\n",
    "cols = ['monto_promesa','unegocio_id']\n",
    "consolidado_cred[cols] = consolidado_cred[cols].apply(pd.to_numeric, errors='coerce')\n",
    "consolidado_cred = consolidado_cred.loc[consolidado_cred['monto_promesa']>=100]\n",
    "consolidado_cred.head(3)"
   ]
  },
  {
   "cell_type": "code",
   "execution_count": 13,
   "metadata": {},
   "outputs": [
    {
     "output_type": "execute_result",
     "data": {
      "text/plain": [
       "         Accion_Credifiel  NumeroPromesas  SumaPromesas\n",
       "0                                      16      68818.51\n",
       "1  COBRANZA EXTRAJUDICIAL              82     248272.63\n",
       "2           EXTRAJUDICIAL              15      47549.22\n",
       "3                LIQUIDAR               2      15666.60"
      ],
      "text/html": "<div>\n<style scoped>\n    .dataframe tbody tr th:only-of-type {\n        vertical-align: middle;\n    }\n\n    .dataframe tbody tr th {\n        vertical-align: top;\n    }\n\n    .dataframe thead th {\n        text-align: right;\n    }\n</style>\n<table border=\"1\" class=\"dataframe\">\n  <thead>\n    <tr style=\"text-align: right;\">\n      <th></th>\n      <th>Accion_Credifiel</th>\n      <th>NumeroPromesas</th>\n      <th>SumaPromesas</th>\n    </tr>\n  </thead>\n  <tbody>\n    <tr>\n      <th>0</th>\n      <td></td>\n      <td>16</td>\n      <td>68818.51</td>\n    </tr>\n    <tr>\n      <th>1</th>\n      <td>COBRANZA EXTRAJUDICIAL</td>\n      <td>82</td>\n      <td>248272.63</td>\n    </tr>\n    <tr>\n      <th>2</th>\n      <td>EXTRAJUDICIAL</td>\n      <td>15</td>\n      <td>47549.22</td>\n    </tr>\n    <tr>\n      <th>3</th>\n      <td>LIQUIDAR</td>\n      <td>2</td>\n      <td>15666.60</td>\n    </tr>\n  </tbody>\n</table>\n</div>"
     },
     "metadata": {},
     "execution_count": 13
    }
   ],
   "source": [
    "#Obtenemos datos de las promesas de Credifiel\n",
    "#consolidado_cred2 = consolidado_cred.drop_duplicates(subset=['credito','fecha_promesa','monto_promesa'])\n",
    "pivot_cred = pd.pivot_table(consolidado_cred,index=['division'],values=['unegocio_id','monto_promesa'],aggfunc=('count',np.sum))\n",
    "pivot_cred = pd.DataFrame(pivot_cred.to_records())\n",
    "pivot_cred = pivot_cred.iloc[:,[0,3,2]]\n",
    "pivot_cred.columns = ['Accion_Credifiel','NumeroPromesas','SumaPromesas']\n",
    "pivot_cred.fillna(0,inplace=True)\n",
    "#pivot_gestion_cred[['NumeroPromesas','PromedioPromesa','SumaPromesas']] = pivot_gestion_brad[['NumeroPromesas','PromedioPromesa','SumaPromesas']].applymap(\"{0:.2f}\".format)\n",
    "pivot_cred"
   ]
  },
  {
   "source": [
    "# Banco Azteca"
   ],
   "cell_type": "markdown",
   "metadata": {}
  },
  {
   "cell_type": "code",
   "execution_count": null,
   "metadata": {},
   "outputs": [],
   "source": [
    "#Hacemos la consulta referente a las gestiones de Banco Azteca\n",
    "sql_gest_baz = cursor.callproc('baz_rpt_gestiones_detallado', [mes,today])\n",
    "for result in cursor.stored_results():\n",
    "     gestion_baz = pd.DataFrame(result.fetchall())\n",
    "gestion_baz.columns = ['folio_gestion','firma_id','unegocio_id','credito','nombre_credito','telefono','tipo_telefono','fecha_gestion','usuario','nombre_usuario','dictamen','accion_resultado','fecha_promesa','monto_promesa','comentarios']\n",
    "gestion_baz = gestion_baz.loc[gestion_baz['dictamen']=='PROMESA']\n",
    "gestion_baz.head(3)"
   ]
  },
  {
   "cell_type": "code",
   "execution_count": null,
   "metadata": {},
   "outputs": [],
   "source": [
    "sample_cols_to_keep =['#FIIDCAMPANA', 'FIPAIS', 'FICANAL','FISUCURSAL','FIFOLIO','FISEMATRASMAX','FNSALDO','FNSALDOCAPITAL','FNPAGOREQ','FCTEL1','FCTIPO1','FNDIA_PAGO','FIDIASATRASOMAX','FNCAPPAGODISP','FNABONOSEMANAL','FNCAPACIDADPAGO','FILCRACTIVA','FDFECPROXPAG','FNTASAINT','CP','fcnombreos','fcappaternoos','FITERRITORIO','FCDESCTERRITORIO','FIZONA','FCDESCZONA','FIREGION','FCDESCREGION','FIGERENCIA','FCDESCGERENCIA','FCBESTTIMETOCALL','FECHA']\n",
    "df_iter = pd.read_csv('/home/estadistico/Documents/Erick/Banco Azteca/Asignacion_csv/Asignacion banco azteca '+mes+'.csv', chunksize=20000, usecols=sample_cols_to_keep) \n",
    "df_lst = [] \n",
    "for df_ in df_iter: \n",
    "            tmp_df = (df_.rename(columns={col: col.lower() for col in df_.columns}))\n",
    "            df_lst += [tmp_df.copy()] \n",
    "asignacion_baz = pd.concat(df_lst)"
   ]
  },
  {
   "cell_type": "code",
   "execution_count": null,
   "metadata": {},
   "outputs": [],
   "source": []
  }
 ]
}