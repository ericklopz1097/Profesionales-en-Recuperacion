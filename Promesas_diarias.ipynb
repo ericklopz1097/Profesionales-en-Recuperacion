{
 "metadata": {
  "language_info": {
   "codemirror_mode": {
    "name": "ipython",
    "version": 3
   },
   "file_extension": ".py",
   "mimetype": "text/x-python",
   "name": "python",
   "nbconvert_exporter": "python",
   "pygments_lexer": "ipython3",
   "version": "3.7.6-final"
  },
  "orig_nbformat": 2,
  "kernelspec": {
   "name": "python3",
   "display_name": "Python 3"
  }
 },
 "nbformat": 4,
 "nbformat_minor": 2,
 "cells": [
  {
   "source": [
    "# Reporte diario promesas realizadas durante el dia"
   ],
   "cell_type": "markdown",
   "metadata": {}
  },
  {
   "cell_type": "code",
   "execution_count": 1,
   "metadata": {},
   "outputs": [],
   "source": [
    "import pandas as pd\n",
    "import numpy as np\n",
    "import mysql.connector\n",
    "from mysql.connector import Error\n",
    "from datetime import date\n",
    "from IPython.core.interactiveshell import InteractiveShell\n",
    "InteractiveShell.ast_node_interactivity = \"all\""
   ]
  },
  {
   "cell_type": "code",
   "execution_count": 2,
   "metadata": {},
   "outputs": [],
   "source": [
    "#Definimos la ruta en donde queremos guardar los archivos\n",
    "ruta = '/home/estadistico/Documents/Erick/Reportes diarios/Promesas Diarias'"
   ]
  },
  {
   "cell_type": "code",
   "execution_count": 3,
   "metadata": {},
   "outputs": [],
   "source": [
    "#Agregamos las variables a ocupar\n",
    "servidor = '192.168.15.12'\n",
    "puerto = int('3306')\n",
    "usuario = 'estadisticas'\n",
    "contraseña = 'estadisticas8474'\n",
    "base = 'procesos_externos'"
   ]
  },
  {
   "cell_type": "code",
   "execution_count": 4,
   "metadata": {},
   "outputs": [],
   "source": [
    "#Asignamos valores a los parametros \\n\",\n",
    "today = date.today().strftime('%Y%m%d')\n",
    "mes = 'Noviembre2020'"
   ]
  },
  {
   "cell_type": "code",
   "execution_count": 5,
   "metadata": {},
   "outputs": [],
   "source": [
    "#Hacemos la conexion con el servidor\\n\",\n",
    "try:\n",
    "    conn = mysql.connector.connect(user=usuario,\n",
    "                               password=contraseña,\n",
    "                               host=servidor,\n",
    "                               port=3306,\n",
    "                               database=base)\n",
    "    conn.set_charset_collation('latin1')\n",
    "except mysql.Error as e:\n",
    "    print(\"Failed to execute stored procedure: {}\".format(error))\n",
    "\n",
    "cursor = conn.cursor()"
   ]
  },
  {
   "source": [
    "# Liverpool"
   ],
   "cell_type": "markdown",
   "metadata": {}
  },
  {
   "cell_type": "code",
   "execution_count": 6,
   "metadata": {},
   "outputs": [
    {
     "output_type": "execute_result",
     "data": {
      "text/plain": [
       "    folio_gestion  firma_id  unegocio_id           credito  \\\n",
       "38        9245819        12            2  1400000003201237   \n",
       "62        9245391        12            1  4178490011284255   \n",
       "87        9244669        12            2  1400000004200345   \n",
       "\n",
       "                     nombre_credito    telefono tipo_telefono  \\\n",
       "38           ALEJANDRA MORA MIRANDA  2212384546       celular   \n",
       "62   YADIRA GUADALUPE OCHOA ALVAREZ  6622292466       celular   \n",
       "87  MARIA GUADALUPE GONZALEZ MORENO  5549455963       celular   \n",
       "\n",
       "         fecha_gestion       usuario             nombre_usuario dictamen  \\\n",
       "38 2020-12-02 11:15:08  GARCIAFLOMAD  GARCIA FLORES OMAR ADRIAN  PROMESA   \n",
       "62 2020-12-02 10:55:08       GUZJABE      BERENICE GUZMAN JAIME  PROMESA   \n",
       "87 2020-12-02 10:12:58  GARCIAFLOMAD  GARCIA FLORES OMAR ADRIAN  PROMESA   \n",
       "\n",
       "               accion                    resultado fecha_promesa  \\\n",
       "38  LLAMADA A TITULAR  PROMESA DE PAGO LIQUIDACION    2020-12-02   \n",
       "62  LLAMADA A TITULAR      PROMESA DE PAGO PARCIAL    2020-12-15   \n",
       "87  LLAMADA A TITULAR  PROMESA DE PAGO LIQUIDACION    2020-12-02   \n",
       "\n",
       "   monto_promesa                                        comentarios  \n",
       "38       1986.98  2212384546// TT REALIZA PAGO DE  $1,986.98 CON...  \n",
       "62       2000.00  (6622292466) 6622292466- promesa de pago parci...  \n",
       "87       2716.00  5549455963// TT HACE UN PAGO LIQUIDACIÃN POR ...  "
      ],
      "text/html": "<div>\n<style scoped>\n    .dataframe tbody tr th:only-of-type {\n        vertical-align: middle;\n    }\n\n    .dataframe tbody tr th {\n        vertical-align: top;\n    }\n\n    .dataframe thead th {\n        text-align: right;\n    }\n</style>\n<table border=\"1\" class=\"dataframe\">\n  <thead>\n    <tr style=\"text-align: right;\">\n      <th></th>\n      <th>folio_gestion</th>\n      <th>firma_id</th>\n      <th>unegocio_id</th>\n      <th>credito</th>\n      <th>nombre_credito</th>\n      <th>telefono</th>\n      <th>tipo_telefono</th>\n      <th>fecha_gestion</th>\n      <th>usuario</th>\n      <th>nombre_usuario</th>\n      <th>dictamen</th>\n      <th>accion</th>\n      <th>resultado</th>\n      <th>fecha_promesa</th>\n      <th>monto_promesa</th>\n      <th>comentarios</th>\n    </tr>\n  </thead>\n  <tbody>\n    <tr>\n      <th>38</th>\n      <td>9245819</td>\n      <td>12</td>\n      <td>2</td>\n      <td>1400000003201237</td>\n      <td>ALEJANDRA MORA MIRANDA</td>\n      <td>2212384546</td>\n      <td>celular</td>\n      <td>2020-12-02 11:15:08</td>\n      <td>GARCIAFLOMAD</td>\n      <td>GARCIA FLORES OMAR ADRIAN</td>\n      <td>PROMESA</td>\n      <td>LLAMADA A TITULAR</td>\n      <td>PROMESA DE PAGO LIQUIDACION</td>\n      <td>2020-12-02</td>\n      <td>1986.98</td>\n      <td>2212384546// TT REALIZA PAGO DE  $1,986.98 CON...</td>\n    </tr>\n    <tr>\n      <th>62</th>\n      <td>9245391</td>\n      <td>12</td>\n      <td>1</td>\n      <td>4178490011284255</td>\n      <td>YADIRA GUADALUPE OCHOA ALVAREZ</td>\n      <td>6622292466</td>\n      <td>celular</td>\n      <td>2020-12-02 10:55:08</td>\n      <td>GUZJABE</td>\n      <td>BERENICE GUZMAN JAIME</td>\n      <td>PROMESA</td>\n      <td>LLAMADA A TITULAR</td>\n      <td>PROMESA DE PAGO PARCIAL</td>\n      <td>2020-12-15</td>\n      <td>2000.00</td>\n      <td>(6622292466) 6622292466- promesa de pago parci...</td>\n    </tr>\n    <tr>\n      <th>87</th>\n      <td>9244669</td>\n      <td>12</td>\n      <td>2</td>\n      <td>1400000004200345</td>\n      <td>MARIA GUADALUPE GONZALEZ MORENO</td>\n      <td>5549455963</td>\n      <td>celular</td>\n      <td>2020-12-02 10:12:58</td>\n      <td>GARCIAFLOMAD</td>\n      <td>GARCIA FLORES OMAR ADRIAN</td>\n      <td>PROMESA</td>\n      <td>LLAMADA A TITULAR</td>\n      <td>PROMESA DE PAGO LIQUIDACION</td>\n      <td>2020-12-02</td>\n      <td>2716.00</td>\n      <td>5549455963// TT HACE UN PAGO LIQUIDACIÃN POR ...</td>\n    </tr>\n  </tbody>\n</table>\n</div>"
     },
     "metadata": {},
     "execution_count": 6
    }
   ],
   "source": [
    "#Hacemos la consulta referente a las gestiones de Liverpool\n",
    "sql_gest_liv = cursor.callproc('liverpool_rpt_gestiones_detallado', [today,today])\n",
    "for result in cursor.stored_results():\n",
    "    gestion_liv = pd.DataFrame(result.fetchall())\n",
    "gestion_liv.columns = ['folio_gestion','firma_id','unegocio_id','credito','nombre_credito','telefono','tipo_telefono','fecha_gestion','usuario','nombre_usuario','dictamen','accion','resultado','fecha_promesa','monto_promesa','comentarios']\n",
    "gestion_liv = gestion_liv.loc[gestion_liv['dictamen']=='PROMESA']\n",
    "gestion_liv['credito'] = pd.to_numeric(gestion_liv['credito'])\n",
    "gestion_liv.head(3)"
   ]
  },
  {
   "cell_type": "code",
   "execution_count": 7,
   "metadata": {},
   "outputs": [
    {
     "output_type": "execute_result",
     "data": {
      "text/plain": [
       "   firma_id  unegocio_id         credito estado            rfc division\n",
       "0        12            0  10000001017274    MEX  MAMA720814JK8     DEPN\n",
       "1        12            0  10000005443864  TAMPS  HEGD7610029Z4     DEPN\n",
       "2        12            0  10000005657620    PUE  LADF4609143I1     SER4"
      ],
      "text/html": "<div>\n<style scoped>\n    .dataframe tbody tr th:only-of-type {\n        vertical-align: middle;\n    }\n\n    .dataframe tbody tr th {\n        vertical-align: top;\n    }\n\n    .dataframe thead th {\n        text-align: right;\n    }\n</style>\n<table border=\"1\" class=\"dataframe\">\n  <thead>\n    <tr style=\"text-align: right;\">\n      <th></th>\n      <th>firma_id</th>\n      <th>unegocio_id</th>\n      <th>credito</th>\n      <th>estado</th>\n      <th>rfc</th>\n      <th>division</th>\n    </tr>\n  </thead>\n  <tbody>\n    <tr>\n      <th>0</th>\n      <td>12</td>\n      <td>0</td>\n      <td>10000001017274</td>\n      <td>MEX</td>\n      <td>MAMA720814JK8</td>\n      <td>DEPN</td>\n    </tr>\n    <tr>\n      <th>1</th>\n      <td>12</td>\n      <td>0</td>\n      <td>10000005443864</td>\n      <td>TAMPS</td>\n      <td>HEGD7610029Z4</td>\n      <td>DEPN</td>\n    </tr>\n    <tr>\n      <th>2</th>\n      <td>12</td>\n      <td>0</td>\n      <td>10000005657620</td>\n      <td>PUE</td>\n      <td>LADF4609143I1</td>\n      <td>SER4</td>\n    </tr>\n  </tbody>\n</table>\n</div>"
     },
     "metadata": {},
     "execution_count": 7
    }
   ],
   "source": [
    "#Hacemos la consulta de la asignacion\n",
    "sql_asig_liv = cursor.callproc('liverpool_rpt_asignacion_activa',)\n",
    "for result in cursor.stored_results():\n",
    "    asignacion_liv = pd.DataFrame(result.fetchall())\n",
    "asignacion_liv = asignacion_liv.iloc[:,[0,1,3,24,6,26]]\n",
    "asignacion_liv.columns = ['firma_id','unegocio_id','credito','estado','rfc','division']\n",
    "asignacion_liv['credito'] = pd.to_numeric(asignacion_liv['credito'])\n",
    "asignacion_liv.head(3)"
   ]
  },
  {
   "cell_type": "code",
   "execution_count": 8,
   "metadata": {},
   "outputs": [
    {
     "output_type": "execute_result",
     "data": {
      "text/plain": [
       "   folio_gestion  firma_id  unegocio_id           credito  \\\n",
       "0        9245819        12            2  1400000003201237   \n",
       "1        9245391        12            1  4178490011284255   \n",
       "2        9244669        12            2  1400000004200345   \n",
       "\n",
       "                    nombre_credito    telefono tipo_telefono  \\\n",
       "0           ALEJANDRA MORA MIRANDA  2212384546       celular   \n",
       "1   YADIRA GUADALUPE OCHOA ALVAREZ  6622292466       celular   \n",
       "2  MARIA GUADALUPE GONZALEZ MORENO  5549455963       celular   \n",
       "\n",
       "        fecha_gestion       usuario             nombre_usuario dictamen  \\\n",
       "0 2020-12-02 11:15:08  GARCIAFLOMAD  GARCIA FLORES OMAR ADRIAN  PROMESA   \n",
       "1 2020-12-02 10:55:08       GUZJABE      BERENICE GUZMAN JAIME  PROMESA   \n",
       "2 2020-12-02 10:12:58  GARCIAFLOMAD  GARCIA FLORES OMAR ADRIAN  PROMESA   \n",
       "\n",
       "              accion                    resultado fecha_promesa  \\\n",
       "0  LLAMADA A TITULAR  PROMESA DE PAGO LIQUIDACION    2020-12-02   \n",
       "1  LLAMADA A TITULAR      PROMESA DE PAGO PARCIAL    2020-12-15   \n",
       "2  LLAMADA A TITULAR  PROMESA DE PAGO LIQUIDACION    2020-12-02   \n",
       "\n",
       "   monto_promesa                                        comentarios estado  \\\n",
       "0        1986.98  2212384546// TT REALIZA PAGO DE  $1,986.98 CON...    PUE   \n",
       "1        2000.00  (6622292466) 6622292466- promesa de pago parci...    SON   \n",
       "2        2716.00  5549455963// TT HACE UN PAGO LIQUIDACIÃN POR ...    MEX   \n",
       "\n",
       "             rfc division  \n",
       "0  MOMA9705102M5     SB02  \n",
       "1  OOAY670208R40     REM2  \n",
       "2  GOMG920522HL7     SB02  "
      ],
      "text/html": "<div>\n<style scoped>\n    .dataframe tbody tr th:only-of-type {\n        vertical-align: middle;\n    }\n\n    .dataframe tbody tr th {\n        vertical-align: top;\n    }\n\n    .dataframe thead th {\n        text-align: right;\n    }\n</style>\n<table border=\"1\" class=\"dataframe\">\n  <thead>\n    <tr style=\"text-align: right;\">\n      <th></th>\n      <th>folio_gestion</th>\n      <th>firma_id</th>\n      <th>unegocio_id</th>\n      <th>credito</th>\n      <th>nombre_credito</th>\n      <th>telefono</th>\n      <th>tipo_telefono</th>\n      <th>fecha_gestion</th>\n      <th>usuario</th>\n      <th>nombre_usuario</th>\n      <th>dictamen</th>\n      <th>accion</th>\n      <th>resultado</th>\n      <th>fecha_promesa</th>\n      <th>monto_promesa</th>\n      <th>comentarios</th>\n      <th>estado</th>\n      <th>rfc</th>\n      <th>division</th>\n    </tr>\n  </thead>\n  <tbody>\n    <tr>\n      <th>0</th>\n      <td>9245819</td>\n      <td>12</td>\n      <td>2</td>\n      <td>1400000003201237</td>\n      <td>ALEJANDRA MORA MIRANDA</td>\n      <td>2212384546</td>\n      <td>celular</td>\n      <td>2020-12-02 11:15:08</td>\n      <td>GARCIAFLOMAD</td>\n      <td>GARCIA FLORES OMAR ADRIAN</td>\n      <td>PROMESA</td>\n      <td>LLAMADA A TITULAR</td>\n      <td>PROMESA DE PAGO LIQUIDACION</td>\n      <td>2020-12-02</td>\n      <td>1986.98</td>\n      <td>2212384546// TT REALIZA PAGO DE  $1,986.98 CON...</td>\n      <td>PUE</td>\n      <td>MOMA9705102M5</td>\n      <td>SB02</td>\n    </tr>\n    <tr>\n      <th>1</th>\n      <td>9245391</td>\n      <td>12</td>\n      <td>1</td>\n      <td>4178490011284255</td>\n      <td>YADIRA GUADALUPE OCHOA ALVAREZ</td>\n      <td>6622292466</td>\n      <td>celular</td>\n      <td>2020-12-02 10:55:08</td>\n      <td>GUZJABE</td>\n      <td>BERENICE GUZMAN JAIME</td>\n      <td>PROMESA</td>\n      <td>LLAMADA A TITULAR</td>\n      <td>PROMESA DE PAGO PARCIAL</td>\n      <td>2020-12-15</td>\n      <td>2000.00</td>\n      <td>(6622292466) 6622292466- promesa de pago parci...</td>\n      <td>SON</td>\n      <td>OOAY670208R40</td>\n      <td>REM2</td>\n    </tr>\n    <tr>\n      <th>2</th>\n      <td>9244669</td>\n      <td>12</td>\n      <td>2</td>\n      <td>1400000004200345</td>\n      <td>MARIA GUADALUPE GONZALEZ MORENO</td>\n      <td>5549455963</td>\n      <td>celular</td>\n      <td>2020-12-02 10:12:58</td>\n      <td>GARCIAFLOMAD</td>\n      <td>GARCIA FLORES OMAR ADRIAN</td>\n      <td>PROMESA</td>\n      <td>LLAMADA A TITULAR</td>\n      <td>PROMESA DE PAGO LIQUIDACION</td>\n      <td>2020-12-02</td>\n      <td>2716.00</td>\n      <td>5549455963// TT HACE UN PAGO LIQUIDACIÃN POR ...</td>\n      <td>MEX</td>\n      <td>GOMG920522HL7</td>\n      <td>SB02</td>\n    </tr>\n  </tbody>\n</table>\n</div>"
     },
     "metadata": {},
     "execution_count": 8
    }
   ],
   "source": [
    "#Hacemos el consolidado \n",
    "consolidado_liv = pd.merge(gestion_liv,asignacion_liv,how='left',on=['firma_id','unegocio_id','credito'])\n",
    "cols = ['monto_promesa','credito']\n",
    "consolidado_liv[cols] = consolidado_liv[cols].apply(pd.to_numeric, errors='coerce')\n",
    "consolidado_liv.head(3)"
   ]
  },
  {
   "cell_type": "code",
   "execution_count": 9,
   "metadata": {},
   "outputs": [
    {
     "output_type": "execute_result",
     "data": {
      "text/plain": [
       "  Division  NumeroPromesas  SumaPromesas\n",
       "0     REM2               2       3754.00\n",
       "1     REM4               3       6434.00\n",
       "2     SB02               5      15824.98\n",
       "3     pren               2      11833.00\n",
       "4      All              12      37845.98"
      ],
      "text/html": "<div>\n<style scoped>\n    .dataframe tbody tr th:only-of-type {\n        vertical-align: middle;\n    }\n\n    .dataframe tbody tr th {\n        vertical-align: top;\n    }\n\n    .dataframe thead th {\n        text-align: right;\n    }\n</style>\n<table border=\"1\" class=\"dataframe\">\n  <thead>\n    <tr style=\"text-align: right;\">\n      <th></th>\n      <th>Division</th>\n      <th>NumeroPromesas</th>\n      <th>SumaPromesas</th>\n    </tr>\n  </thead>\n  <tbody>\n    <tr>\n      <th>0</th>\n      <td>REM2</td>\n      <td>2</td>\n      <td>3754.00</td>\n    </tr>\n    <tr>\n      <th>1</th>\n      <td>REM4</td>\n      <td>3</td>\n      <td>6434.00</td>\n    </tr>\n    <tr>\n      <th>2</th>\n      <td>SB02</td>\n      <td>5</td>\n      <td>15824.98</td>\n    </tr>\n    <tr>\n      <th>3</th>\n      <td>pren</td>\n      <td>2</td>\n      <td>11833.00</td>\n    </tr>\n    <tr>\n      <th>4</th>\n      <td>All</td>\n      <td>12</td>\n      <td>37845.98</td>\n    </tr>\n  </tbody>\n</table>\n</div>"
     },
     "metadata": {},
     "execution_count": 9
    }
   ],
   "source": [
    "#Obtenemos datos de las promesas de Liverpool\n",
    "pivot_liv = pd.pivot_table(consolidado_liv,index=['division'],values=['credito','monto_promesa'],aggfunc=['count',np.sum],margins=True)\n",
    "pivot_liv = pd.DataFrame(pivot_liv.to_records())\n",
    "pivot_liv = pivot_liv.iloc[:,[0,1,4]]\n",
    "pivot_liv.columns = ['Division','NumeroPromesas','SumaPromesas']\n",
    "pivot_liv.fillna(0,inplace=True)\n",
    "#pivot_liv[['NumeroPromesas','PromedioPromesa','SumaPromesas']] = pivot_liv[['NumeroPromesas','PromedioPromesa','SumaPromesas']].applymap(\"{0:.2f}\".format)\n",
    "pivot_liv"
   ]
  },
  {
   "cell_type": "code",
   "execution_count": 10,
   "metadata": {},
   "outputs": [
    {
     "output_type": "execute_result",
     "data": {
      "text/plain": [
       "  Dictamen  NumeroPromesas  SumaPromesas\n",
       "0     REM2               2       3754.00\n",
       "1     REM4               3       6434.00\n",
       "2     SB02               5      15824.98\n",
       "3     pren               2      11833.00\n",
       "4      All              12      37845.98"
      ],
      "text/html": "<div>\n<style scoped>\n    .dataframe tbody tr th:only-of-type {\n        vertical-align: middle;\n    }\n\n    .dataframe tbody tr th {\n        vertical-align: top;\n    }\n\n    .dataframe thead th {\n        text-align: right;\n    }\n</style>\n<table border=\"1\" class=\"dataframe\">\n  <thead>\n    <tr style=\"text-align: right;\">\n      <th></th>\n      <th>Dictamen</th>\n      <th>NumeroPromesas</th>\n      <th>SumaPromesas</th>\n    </tr>\n  </thead>\n  <tbody>\n    <tr>\n      <th>0</th>\n      <td>REM2</td>\n      <td>2</td>\n      <td>3754.00</td>\n    </tr>\n    <tr>\n      <th>1</th>\n      <td>REM4</td>\n      <td>3</td>\n      <td>6434.00</td>\n    </tr>\n    <tr>\n      <th>2</th>\n      <td>SB02</td>\n      <td>5</td>\n      <td>15824.98</td>\n    </tr>\n    <tr>\n      <th>3</th>\n      <td>pren</td>\n      <td>2</td>\n      <td>11833.00</td>\n    </tr>\n    <tr>\n      <th>4</th>\n      <td>All</td>\n      <td>12</td>\n      <td>37845.98</td>\n    </tr>\n  </tbody>\n</table>\n</div>"
     },
     "metadata": {},
     "execution_count": 10
    }
   ],
   "source": [
    "#Vemos las promesas reales eliminando duplicados\n",
    "consolidado_liv2 = consolidado_liv.drop_duplicates(subset=['credito','fecha_promesa','monto_promesa'])\n",
    "pivot_liv2 = pd.pivot_table(consolidado_liv2,index=['division'],values=['credito','monto_promesa'],aggfunc=['count',np.sum],margins=True)\n",
    "pivot_liv2 = pd.DataFrame(pivot_liv2.to_records())\n",
    "pivot_liv2 = pivot_liv2.iloc[:,[0,1,4]]\n",
    "pivot_liv2.columns = ['Dictamen','NumeroPromesas','SumaPromesas']\n",
    "pivot_liv2.fillna(0,inplace=True)\n",
    "#pivot_liv2[['NumeroPromesas','PromedioPromesa','SumaPromesas']] = pivot_gestion_liv2[['NumeroPromesas','PromedioPromesa','SumaPromesas']].applymap(\"{0:.2f}\".format)\n",
    "pivot_liv2"
   ]
  },
  {
   "source": [
    "# Bradesco"
   ],
   "cell_type": "markdown",
   "metadata": {}
  },
  {
   "cell_type": "code",
   "execution_count": 11,
   "metadata": {},
   "outputs": [
    {
     "output_type": "execute_result",
     "data": {
      "text/plain": [
       "     folio_gestion  firma_id  unegocio_id           credito  \\\n",
       "72         9246146         1            3  5063291381201019   \n",
       "130        9246201         1            3  4037500020930010   \n",
       "232        9245923         1            3  5063291339468017   \n",
       "\n",
       "                            nombre_credito    telefono tipo_telefono  \\\n",
       "72   DE LA ROSA LEYVA  ARACELIS DEL CARMEN  9931913695       celular   \n",
       "130              CARRASCO BELTRAN  ADRIANA  5532777794       celular   \n",
       "232                  HARO JIMENEZ  RICARDO  3313725048        nextel   \n",
       "\n",
       "          fecha_gestion          usuario                   nombre_usuario  \\\n",
       "72  2020-12-02 11:31:32      TRFIERROSFJ     TRON FIERROS FELIPE DE JESUS   \n",
       "130 2020-12-02 11:26:17         HDEZMELE     HERNANDEZ MEDEL LUIS ENRIQUE   \n",
       "232 2020-12-02 11:18:52  DOMINGUEZHEANIT  DOMINGUEZ HERNANDEZ ANAID ITZEL   \n",
       "\n",
       "    dictamen             accion                    resultado  \\\n",
       "72   PROMESA  LLAMADA A TITULAR  PROMESA DE PAGO LIQUIDACION   \n",
       "130  PROMESA  LLAMADA A TITULAR      PROMESA DE PAGO PARCIAL   \n",
       "232  PROMESA  LLAMADA A TITULAR  PROMESA DE PAGO LIQUIDACION   \n",
       "\n",
       "                                  accion_resultado fecha_promesa  \\\n",
       "72   LLAMADA A TITULAR-PROMESA DE PAGO LIQUIDACION    2020-12-02   \n",
       "130      LLAMADA A TITULAR-PROMESA DE PAGO PARCIAL    2020-12-04   \n",
       "232  LLAMADA A TITULAR-PROMESA DE PAGO LIQUIDACION    2020-12-04   \n",
       "\n",
       "    monto_promesa                                        comentarios  \n",
       "72        1781.00  9931913695 TT INDICA LE LLEGO MENSAJE PARA LIQ...  \n",
       "130       2000.00  5532777794  MENCIONA QUE NO TIENE TRABAJO ESTA...  \n",
       "232       1573.00  3313725048 IN/ TT CONFIRMA PP POR $1573.00  EN...  "
      ],
      "text/html": "<div>\n<style scoped>\n    .dataframe tbody tr th:only-of-type {\n        vertical-align: middle;\n    }\n\n    .dataframe tbody tr th {\n        vertical-align: top;\n    }\n\n    .dataframe thead th {\n        text-align: right;\n    }\n</style>\n<table border=\"1\" class=\"dataframe\">\n  <thead>\n    <tr style=\"text-align: right;\">\n      <th></th>\n      <th>folio_gestion</th>\n      <th>firma_id</th>\n      <th>unegocio_id</th>\n      <th>credito</th>\n      <th>nombre_credito</th>\n      <th>telefono</th>\n      <th>tipo_telefono</th>\n      <th>fecha_gestion</th>\n      <th>usuario</th>\n      <th>nombre_usuario</th>\n      <th>dictamen</th>\n      <th>accion</th>\n      <th>resultado</th>\n      <th>accion_resultado</th>\n      <th>fecha_promesa</th>\n      <th>monto_promesa</th>\n      <th>comentarios</th>\n    </tr>\n  </thead>\n  <tbody>\n    <tr>\n      <th>72</th>\n      <td>9246146</td>\n      <td>1</td>\n      <td>3</td>\n      <td>5063291381201019</td>\n      <td>DE LA ROSA LEYVA  ARACELIS DEL CARMEN</td>\n      <td>9931913695</td>\n      <td>celular</td>\n      <td>2020-12-02 11:31:32</td>\n      <td>TRFIERROSFJ</td>\n      <td>TRON FIERROS FELIPE DE JESUS</td>\n      <td>PROMESA</td>\n      <td>LLAMADA A TITULAR</td>\n      <td>PROMESA DE PAGO LIQUIDACION</td>\n      <td>LLAMADA A TITULAR-PROMESA DE PAGO LIQUIDACION</td>\n      <td>2020-12-02</td>\n      <td>1781.00</td>\n      <td>9931913695 TT INDICA LE LLEGO MENSAJE PARA LIQ...</td>\n    </tr>\n    <tr>\n      <th>130</th>\n      <td>9246201</td>\n      <td>1</td>\n      <td>3</td>\n      <td>4037500020930010</td>\n      <td>CARRASCO BELTRAN  ADRIANA</td>\n      <td>5532777794</td>\n      <td>celular</td>\n      <td>2020-12-02 11:26:17</td>\n      <td>HDEZMELE</td>\n      <td>HERNANDEZ MEDEL LUIS ENRIQUE</td>\n      <td>PROMESA</td>\n      <td>LLAMADA A TITULAR</td>\n      <td>PROMESA DE PAGO PARCIAL</td>\n      <td>LLAMADA A TITULAR-PROMESA DE PAGO PARCIAL</td>\n      <td>2020-12-04</td>\n      <td>2000.00</td>\n      <td>5532777794  MENCIONA QUE NO TIENE TRABAJO ESTA...</td>\n    </tr>\n    <tr>\n      <th>232</th>\n      <td>9245923</td>\n      <td>1</td>\n      <td>3</td>\n      <td>5063291339468017</td>\n      <td>HARO JIMENEZ  RICARDO</td>\n      <td>3313725048</td>\n      <td>nextel</td>\n      <td>2020-12-02 11:18:52</td>\n      <td>DOMINGUEZHEANIT</td>\n      <td>DOMINGUEZ HERNANDEZ ANAID ITZEL</td>\n      <td>PROMESA</td>\n      <td>LLAMADA A TITULAR</td>\n      <td>PROMESA DE PAGO LIQUIDACION</td>\n      <td>LLAMADA A TITULAR-PROMESA DE PAGO LIQUIDACION</td>\n      <td>2020-12-04</td>\n      <td>1573.00</td>\n      <td>3313725048 IN/ TT CONFIRMA PP POR $1573.00  EN...</td>\n    </tr>\n  </tbody>\n</table>\n</div>"
     },
     "metadata": {},
     "execution_count": 11
    }
   ],
   "source": [
    "#Hacemos la consulta referente a las gestiones de Bradesco\n",
    "sql_gest_brad = cursor.callproc('bradescard_rpt_gestiones_detallado', [today,today])\n",
    "for result in cursor.stored_results():\n",
    "    gestion_brad = pd.DataFrame(result.fetchall())\n",
    "gestion_brad.columns = ['folio_gestion','firma_id','unegocio_id','credito','nombre_credito','telefono','tipo_telefono','fecha_gestion','usuario','nombre_usuario','dictamen','accion','resultado','accion_resultado','fecha_promesa','monto_promesa','comentarios']\n",
    "gestion_brad = gestion_brad.loc[gestion_brad['dictamen']=='PROMESA']\n",
    "gestion_brad['credito'] = pd.to_numeric(gestion_brad['credito'])\n",
    "gestion_brad.head(3)"
   ]
  },
  {
   "cell_type": "code",
   "execution_count": 12,
   "metadata": {},
   "outputs": [],
   "source": [
    "#Convertimos a numero las columnas que necesitemos\n",
    "gestion_brad[cols] = gestion_brad[cols].apply(pd.to_numeric, errors='coerce')"
   ]
  },
  {
   "cell_type": "code",
   "execution_count": 13,
   "metadata": {},
   "outputs": [
    {
     "output_type": "execute_result",
     "data": {
      "text/plain": [
       "   firma_id  unegocio_id           credito    estado              rfc division\n",
       "0         1            3  2869000138080177   YUCATAN  JURM8405047J801   C0 5PV\n",
       "1         1            3  2869000240445953  VERACRUZ  TOHI650826EZ601   C0 4PV\n",
       "2         1            3  2869000320452929    PUEBLA  HERL821006J1401   C0 4PV"
      ],
      "text/html": "<div>\n<style scoped>\n    .dataframe tbody tr th:only-of-type {\n        vertical-align: middle;\n    }\n\n    .dataframe tbody tr th {\n        vertical-align: top;\n    }\n\n    .dataframe thead th {\n        text-align: right;\n    }\n</style>\n<table border=\"1\" class=\"dataframe\">\n  <thead>\n    <tr style=\"text-align: right;\">\n      <th></th>\n      <th>firma_id</th>\n      <th>unegocio_id</th>\n      <th>credito</th>\n      <th>estado</th>\n      <th>rfc</th>\n      <th>division</th>\n    </tr>\n  </thead>\n  <tbody>\n    <tr>\n      <th>0</th>\n      <td>1</td>\n      <td>3</td>\n      <td>2869000138080177</td>\n      <td>YUCATAN</td>\n      <td>JURM8405047J801</td>\n      <td>C0 5PV</td>\n    </tr>\n    <tr>\n      <th>1</th>\n      <td>1</td>\n      <td>3</td>\n      <td>2869000240445953</td>\n      <td>VERACRUZ</td>\n      <td>TOHI650826EZ601</td>\n      <td>C0 4PV</td>\n    </tr>\n    <tr>\n      <th>2</th>\n      <td>1</td>\n      <td>3</td>\n      <td>2869000320452929</td>\n      <td>PUEBLA</td>\n      <td>HERL821006J1401</td>\n      <td>C0 4PV</td>\n    </tr>\n  </tbody>\n</table>\n</div>"
     },
     "metadata": {},
     "execution_count": 13
    }
   ],
   "source": [
    "#Hacemos la consulta de la asignacion\n",
    "sql_asig_brad = cursor.callproc('bradescard_rpt_asignacion_activa',)\n",
    "for result in cursor.stored_results():\n",
    "    asignacion_brad = pd.DataFrame(result.fetchall())\n",
    "asignacion_brad = asignacion_brad.iloc[:,[0,1,3,24,6,26]]\n",
    "asignacion_brad.columns = ['firma_id','unegocio_id','credito','estado','rfc','division']\n",
    "asignacion_brad['credito'] = pd.to_numeric(asignacion_brad['credito'])\n",
    "asignacion_brad.head(3)"
   ]
  },
  {
   "cell_type": "code",
   "execution_count": 14,
   "metadata": {},
   "outputs": [
    {
     "output_type": "execute_result",
     "data": {
      "text/plain": [
       "   folio_gestion  firma_id  unegocio_id           credito  \\\n",
       "0        9246146         1            3  5063291381201019   \n",
       "1        9246201         1            3  4037500020930010   \n",
       "2        9245923         1            3  5063291339468017   \n",
       "\n",
       "                          nombre_credito    telefono tipo_telefono  \\\n",
       "0  DE LA ROSA LEYVA  ARACELIS DEL CARMEN  9931913695       celular   \n",
       "1              CARRASCO BELTRAN  ADRIANA  5532777794       celular   \n",
       "2                  HARO JIMENEZ  RICARDO  3313725048        nextel   \n",
       "\n",
       "        fecha_gestion          usuario                   nombre_usuario  \\\n",
       "0 2020-12-02 11:31:32      TRFIERROSFJ     TRON FIERROS FELIPE DE JESUS   \n",
       "1 2020-12-02 11:26:17         HDEZMELE     HERNANDEZ MEDEL LUIS ENRIQUE   \n",
       "2 2020-12-02 11:18:52  DOMINGUEZHEANIT  DOMINGUEZ HERNANDEZ ANAID ITZEL   \n",
       "\n",
       "  dictamen             accion                    resultado  \\\n",
       "0  PROMESA  LLAMADA A TITULAR  PROMESA DE PAGO LIQUIDACION   \n",
       "1  PROMESA  LLAMADA A TITULAR      PROMESA DE PAGO PARCIAL   \n",
       "2  PROMESA  LLAMADA A TITULAR  PROMESA DE PAGO LIQUIDACION   \n",
       "\n",
       "                                accion_resultado fecha_promesa  monto_promesa  \\\n",
       "0  LLAMADA A TITULAR-PROMESA DE PAGO LIQUIDACION    2020-12-02         1781.0   \n",
       "1      LLAMADA A TITULAR-PROMESA DE PAGO PARCIAL    2020-12-04         2000.0   \n",
       "2  LLAMADA A TITULAR-PROMESA DE PAGO LIQUIDACION    2020-12-04         1573.0   \n",
       "\n",
       "                                         comentarios             estado  \\\n",
       "0  9931913695 TT INDICA LE LLEGO MENSAJE PARA LIQ...            TABASCO   \n",
       "1  5532777794  MENCIONA QUE NO TIENE TRABAJO ESTA...  CIUDAD DE MÃXICO   \n",
       "2  3313725048 IN/ TT CONFIRMA PP POR $1573.00  EN...            JALISCO   \n",
       "\n",
       "               rfc division  \n",
       "0  ROLA960101SZ501   C0 4PV  \n",
       "1  CABA851025BQ401   C0 6PV  \n",
       "2  HAJR000611LM801   C0 4PV  "
      ],
      "text/html": "<div>\n<style scoped>\n    .dataframe tbody tr th:only-of-type {\n        vertical-align: middle;\n    }\n\n    .dataframe tbody tr th {\n        vertical-align: top;\n    }\n\n    .dataframe thead th {\n        text-align: right;\n    }\n</style>\n<table border=\"1\" class=\"dataframe\">\n  <thead>\n    <tr style=\"text-align: right;\">\n      <th></th>\n      <th>folio_gestion</th>\n      <th>firma_id</th>\n      <th>unegocio_id</th>\n      <th>credito</th>\n      <th>nombre_credito</th>\n      <th>telefono</th>\n      <th>tipo_telefono</th>\n      <th>fecha_gestion</th>\n      <th>usuario</th>\n      <th>nombre_usuario</th>\n      <th>dictamen</th>\n      <th>accion</th>\n      <th>resultado</th>\n      <th>accion_resultado</th>\n      <th>fecha_promesa</th>\n      <th>monto_promesa</th>\n      <th>comentarios</th>\n      <th>estado</th>\n      <th>rfc</th>\n      <th>division</th>\n    </tr>\n  </thead>\n  <tbody>\n    <tr>\n      <th>0</th>\n      <td>9246146</td>\n      <td>1</td>\n      <td>3</td>\n      <td>5063291381201019</td>\n      <td>DE LA ROSA LEYVA  ARACELIS DEL CARMEN</td>\n      <td>9931913695</td>\n      <td>celular</td>\n      <td>2020-12-02 11:31:32</td>\n      <td>TRFIERROSFJ</td>\n      <td>TRON FIERROS FELIPE DE JESUS</td>\n      <td>PROMESA</td>\n      <td>LLAMADA A TITULAR</td>\n      <td>PROMESA DE PAGO LIQUIDACION</td>\n      <td>LLAMADA A TITULAR-PROMESA DE PAGO LIQUIDACION</td>\n      <td>2020-12-02</td>\n      <td>1781.0</td>\n      <td>9931913695 TT INDICA LE LLEGO MENSAJE PARA LIQ...</td>\n      <td>TABASCO</td>\n      <td>ROLA960101SZ501</td>\n      <td>C0 4PV</td>\n    </tr>\n    <tr>\n      <th>1</th>\n      <td>9246201</td>\n      <td>1</td>\n      <td>3</td>\n      <td>4037500020930010</td>\n      <td>CARRASCO BELTRAN  ADRIANA</td>\n      <td>5532777794</td>\n      <td>celular</td>\n      <td>2020-12-02 11:26:17</td>\n      <td>HDEZMELE</td>\n      <td>HERNANDEZ MEDEL LUIS ENRIQUE</td>\n      <td>PROMESA</td>\n      <td>LLAMADA A TITULAR</td>\n      <td>PROMESA DE PAGO PARCIAL</td>\n      <td>LLAMADA A TITULAR-PROMESA DE PAGO PARCIAL</td>\n      <td>2020-12-04</td>\n      <td>2000.0</td>\n      <td>5532777794  MENCIONA QUE NO TIENE TRABAJO ESTA...</td>\n      <td>CIUDAD DE MÃXICO</td>\n      <td>CABA851025BQ401</td>\n      <td>C0 6PV</td>\n    </tr>\n    <tr>\n      <th>2</th>\n      <td>9245923</td>\n      <td>1</td>\n      <td>3</td>\n      <td>5063291339468017</td>\n      <td>HARO JIMENEZ  RICARDO</td>\n      <td>3313725048</td>\n      <td>nextel</td>\n      <td>2020-12-02 11:18:52</td>\n      <td>DOMINGUEZHEANIT</td>\n      <td>DOMINGUEZ HERNANDEZ ANAID ITZEL</td>\n      <td>PROMESA</td>\n      <td>LLAMADA A TITULAR</td>\n      <td>PROMESA DE PAGO LIQUIDACION</td>\n      <td>LLAMADA A TITULAR-PROMESA DE PAGO LIQUIDACION</td>\n      <td>2020-12-04</td>\n      <td>1573.0</td>\n      <td>3313725048 IN/ TT CONFIRMA PP POR $1573.00  EN...</td>\n      <td>JALISCO</td>\n      <td>HAJR000611LM801</td>\n      <td>C0 4PV</td>\n    </tr>\n  </tbody>\n</table>\n</div>"
     },
     "metadata": {},
     "execution_count": 14
    }
   ],
   "source": [
    "#Hacemos la union de asignacion y promesas\n",
    "consolidado_brad = pd.merge(gestion_brad,asignacion_brad,how='left',on=['firma_id','unegocio_id','credito'])\n",
    "cols = ['monto_promesa','credito']\n",
    "consolidado_liv[cols] = consolidado_liv[cols].apply(pd.to_numeric, errors='coerce')\n",
    "consolidado_brad.head(3)"
   ]
  },
  {
   "cell_type": "code",
   "execution_count": 15,
   "metadata": {},
   "outputs": [
    {
     "output_type": "execute_result",
     "data": {
      "text/plain": [
       "  Division  NumeroPromesas  SumaPromesas\n",
       "0   C0 4PV              13       19785.0\n",
       "1   C0 5PV               1        1457.0\n",
       "2   C0 6PV               2        2700.0\n",
       "3       C1              13       20476.0\n",
       "4       C2               1        1000.0\n",
       "5       C3               3        3304.0\n",
       "6      All              33       48722.0"
      ],
      "text/html": "<div>\n<style scoped>\n    .dataframe tbody tr th:only-of-type {\n        vertical-align: middle;\n    }\n\n    .dataframe tbody tr th {\n        vertical-align: top;\n    }\n\n    .dataframe thead th {\n        text-align: right;\n    }\n</style>\n<table border=\"1\" class=\"dataframe\">\n  <thead>\n    <tr style=\"text-align: right;\">\n      <th></th>\n      <th>Division</th>\n      <th>NumeroPromesas</th>\n      <th>SumaPromesas</th>\n    </tr>\n  </thead>\n  <tbody>\n    <tr>\n      <th>0</th>\n      <td>C0 4PV</td>\n      <td>13</td>\n      <td>19785.0</td>\n    </tr>\n    <tr>\n      <th>1</th>\n      <td>C0 5PV</td>\n      <td>1</td>\n      <td>1457.0</td>\n    </tr>\n    <tr>\n      <th>2</th>\n      <td>C0 6PV</td>\n      <td>2</td>\n      <td>2700.0</td>\n    </tr>\n    <tr>\n      <th>3</th>\n      <td>C1</td>\n      <td>13</td>\n      <td>20476.0</td>\n    </tr>\n    <tr>\n      <th>4</th>\n      <td>C2</td>\n      <td>1</td>\n      <td>1000.0</td>\n    </tr>\n    <tr>\n      <th>5</th>\n      <td>C3</td>\n      <td>3</td>\n      <td>3304.0</td>\n    </tr>\n    <tr>\n      <th>6</th>\n      <td>All</td>\n      <td>33</td>\n      <td>48722.0</td>\n    </tr>\n  </tbody>\n</table>\n</div>"
     },
     "metadata": {},
     "execution_count": 15
    }
   ],
   "source": [
    "#Obtenemos datos de las promesas de Bradesco\n",
    "pivot_brad = pd.pivot_table(consolidado_brad,index=['division'],values=['credito','monto_promesa'],aggfunc=['count',np.sum],margins=True)\n",
    "pivot_brad = pd.DataFrame(pivot_brad.to_records())\n",
    "pivot_brad = pivot_brad.iloc[:,[0,1,4]]\n",
    "pivot_brad.columns = ['Division','NumeroPromesas','SumaPromesas']\n",
    "pivot_brad.fillna(0,inplace=True)\n",
    "#pivot_brad[['NumeroPromesas','PromedioPromesa','SumaPromesas']] = pivot_gestion_brad[['NumeroPromesas','PromedioPromesa','SumaPromesas']].applymap(\"{0:.2f}\".format)\n",
    "pivot_brad"
   ]
  },
  {
   "cell_type": "code",
   "execution_count": 16,
   "metadata": {},
   "outputs": [
    {
     "output_type": "execute_result",
     "data": {
      "text/plain": [
       "  Division  NumeroPromesas  SumaPromesas\n",
       "0   C0 4PV              13       19785.0\n",
       "1   C0 5PV               1        1457.0\n",
       "2   C0 6PV               2        2700.0\n",
       "3       C1              13       20476.0\n",
       "4       C2               1        1000.0\n",
       "5       C3               3        3304.0\n",
       "6      All              33       48722.0"
      ],
      "text/html": "<div>\n<style scoped>\n    .dataframe tbody tr th:only-of-type {\n        vertical-align: middle;\n    }\n\n    .dataframe tbody tr th {\n        vertical-align: top;\n    }\n\n    .dataframe thead th {\n        text-align: right;\n    }\n</style>\n<table border=\"1\" class=\"dataframe\">\n  <thead>\n    <tr style=\"text-align: right;\">\n      <th></th>\n      <th>Division</th>\n      <th>NumeroPromesas</th>\n      <th>SumaPromesas</th>\n    </tr>\n  </thead>\n  <tbody>\n    <tr>\n      <th>0</th>\n      <td>C0 4PV</td>\n      <td>13</td>\n      <td>19785.0</td>\n    </tr>\n    <tr>\n      <th>1</th>\n      <td>C0 5PV</td>\n      <td>1</td>\n      <td>1457.0</td>\n    </tr>\n    <tr>\n      <th>2</th>\n      <td>C0 6PV</td>\n      <td>2</td>\n      <td>2700.0</td>\n    </tr>\n    <tr>\n      <th>3</th>\n      <td>C1</td>\n      <td>13</td>\n      <td>20476.0</td>\n    </tr>\n    <tr>\n      <th>4</th>\n      <td>C2</td>\n      <td>1</td>\n      <td>1000.0</td>\n    </tr>\n    <tr>\n      <th>5</th>\n      <td>C3</td>\n      <td>3</td>\n      <td>3304.0</td>\n    </tr>\n    <tr>\n      <th>6</th>\n      <td>All</td>\n      <td>33</td>\n      <td>48722.0</td>\n    </tr>\n  </tbody>\n</table>\n</div>"
     },
     "metadata": {},
     "execution_count": 16
    }
   ],
   "source": [
    "#Vemos las promesas reales eliminando duplicados\n",
    "consolidado_brad2 = consolidado_brad.drop_duplicates(subset=['credito','fecha_promesa','monto_promesa'])\n",
    "pivot_brad2 = pd.pivot_table(consolidado_brad2,index=['division'],values=['credito','monto_promesa'],aggfunc=['count',np.sum],margins=True)\n",
    "pivot_brad2 = pd.DataFrame(pivot_brad2.to_records())\n",
    "pivot_brad2 = pivot_brad2.iloc[:,[0,1,4]]\n",
    "pivot_brad2.columns = ['Division','NumeroPromesas','SumaPromesas']\n",
    "pivot_brad2.fillna(0,inplace=True)\n",
    "#pivot_brad2[['NumeroPromesas','PromedioPromesa','SumaPromesas']] = pivot_gestion_brad2[['NumeroPromesas','PromedioPromesa','SumaPromesas']].applymap(\"{0:.2f}\".format)\n",
    "pivot_brad2"
   ]
  },
  {
   "source": [
    "# Credifiel"
   ],
   "cell_type": "markdown",
   "metadata": {}
  },
  {
   "cell_type": "code",
   "execution_count": 17,
   "metadata": {},
   "outputs": [
    {
     "output_type": "execute_result",
     "data": {
      "text/plain": [
       "    folio_gestion  unegocio_id fecha_gestion hora_gestion    credito  \\\n",
       "25        9241276            1    2020-12-02     07:34:59  CR-418505   \n",
       "99        9242467            1    2020-12-02     07:45:17  CR-532876   \n",
       "\n",
       "                        nombre_credito    telefono        usuario  \\\n",
       "25              TZOMPANTZI TEXIS JUANA  5548632739   GONMORALESBM   \n",
       "99  MARQUEZ ARREDONDO ROBERTO DE JESUS  7831177323  HERNANDEZGARO   \n",
       "\n",
       "                    nombre_usuario             accion  \\\n",
       "25  GONZALEZ MORALES BRENDA MARLEN  LLAMADA A TITULAR   \n",
       "99       HERNANDEZ GALINDO RODRIGO  ENTRADA WHATS APP   \n",
       "\n",
       "                  resultado fecha_promesa  monto_promesa  \\\n",
       "25  PROMESA DE PAGO PARCIAL    2020-12-15         1090.0   \n",
       "99  PROMESA DE PAGO PARCIAL    2020-12-15         4196.3   \n",
       "\n",
       "                                          comentarios accion_credifiel  \\\n",
       "25  5548632739 TT REALIZARA PAGO 4 POR $1090 EL 15...              PDP   \n",
       "99  7831177323 TT REALIZARA PAGO EL DIA 15/12/2020...              PDP   \n",
       "\n",
       "   resultado_credifiel  dictamen  \n",
       "25     Promesa de Pago  CONTACTO  \n",
       "99     Promesa de Pago  CONTACTO  "
      ],
      "text/html": "<div>\n<style scoped>\n    .dataframe tbody tr th:only-of-type {\n        vertical-align: middle;\n    }\n\n    .dataframe tbody tr th {\n        vertical-align: top;\n    }\n\n    .dataframe thead th {\n        text-align: right;\n    }\n</style>\n<table border=\"1\" class=\"dataframe\">\n  <thead>\n    <tr style=\"text-align: right;\">\n      <th></th>\n      <th>folio_gestion</th>\n      <th>unegocio_id</th>\n      <th>fecha_gestion</th>\n      <th>hora_gestion</th>\n      <th>credito</th>\n      <th>nombre_credito</th>\n      <th>telefono</th>\n      <th>usuario</th>\n      <th>nombre_usuario</th>\n      <th>accion</th>\n      <th>resultado</th>\n      <th>fecha_promesa</th>\n      <th>monto_promesa</th>\n      <th>comentarios</th>\n      <th>accion_credifiel</th>\n      <th>resultado_credifiel</th>\n      <th>dictamen</th>\n    </tr>\n  </thead>\n  <tbody>\n    <tr>\n      <th>25</th>\n      <td>9241276</td>\n      <td>1</td>\n      <td>2020-12-02</td>\n      <td>07:34:59</td>\n      <td>CR-418505</td>\n      <td>TZOMPANTZI TEXIS JUANA</td>\n      <td>5548632739</td>\n      <td>GONMORALESBM</td>\n      <td>GONZALEZ MORALES BRENDA MARLEN</td>\n      <td>LLAMADA A TITULAR</td>\n      <td>PROMESA DE PAGO PARCIAL</td>\n      <td>2020-12-15</td>\n      <td>1090.0</td>\n      <td>5548632739 TT REALIZARA PAGO 4 POR $1090 EL 15...</td>\n      <td>PDP</td>\n      <td>Promesa de Pago</td>\n      <td>CONTACTO</td>\n    </tr>\n    <tr>\n      <th>99</th>\n      <td>9242467</td>\n      <td>1</td>\n      <td>2020-12-02</td>\n      <td>07:45:17</td>\n      <td>CR-532876</td>\n      <td>MARQUEZ ARREDONDO ROBERTO DE JESUS</td>\n      <td>7831177323</td>\n      <td>HERNANDEZGARO</td>\n      <td>HERNANDEZ GALINDO RODRIGO</td>\n      <td>ENTRADA WHATS APP</td>\n      <td>PROMESA DE PAGO PARCIAL</td>\n      <td>2020-12-15</td>\n      <td>4196.3</td>\n      <td>7831177323 TT REALIZARA PAGO EL DIA 15/12/2020...</td>\n      <td>PDP</td>\n      <td>Promesa de Pago</td>\n      <td>CONTACTO</td>\n    </tr>\n  </tbody>\n</table>\n</div>"
     },
     "metadata": {},
     "execution_count": 17
    }
   ],
   "source": [
    "#Hacemos la consulta referente a las gestiones de Credifiel\n",
    "sql_gest_cred = cursor.callproc('credifiel_rpt_gestiones_detallado', [today,today])\n",
    "for result in cursor.stored_results():\n",
    "    gestion_cred = pd.DataFrame(result.fetchall())\n",
    "gestion_cred.columns = ['folio_gestion','unegocio_id','fecha_gestion','hora_gestion','credito','nombre_credito','telefono','usuario','nombre_usuario','accion','resultado','fecha_promesa','monto_promesa','comentarios','accion_credifiel','resultado_credifiel','dictamen']\n",
    "gestion_cred = gestion_cred.loc[gestion_cred['accion_credifiel']=='PDP']\n",
    "cols = ['monto_promesa','unegocio_id']\n",
    "gestion_cred[cols] = gestion_cred[cols].apply(pd.to_numeric, errors='coerce')\n",
    "gestion_cred = gestion_cred.loc[gestion_cred['monto_promesa']>0]\n",
    "gestion_cred.head(3)"
   ]
  },
  {
   "cell_type": "code",
   "execution_count": 18,
   "metadata": {},
   "outputs": [
    {
     "output_type": "execute_result",
     "data": {
      "text/plain": [
       "   unegocio_id    credito                division\n",
       "0            1  CR-101922  COBRANZA EXTRAJUDICIAL\n",
       "1            1  CR-101949                LIQUIDAR\n",
       "2            1  CR-101952                LIQUIDAR"
      ],
      "text/html": "<div>\n<style scoped>\n    .dataframe tbody tr th:only-of-type {\n        vertical-align: middle;\n    }\n\n    .dataframe tbody tr th {\n        vertical-align: top;\n    }\n\n    .dataframe thead th {\n        text-align: right;\n    }\n</style>\n<table border=\"1\" class=\"dataframe\">\n  <thead>\n    <tr style=\"text-align: right;\">\n      <th></th>\n      <th>unegocio_id</th>\n      <th>credito</th>\n      <th>division</th>\n    </tr>\n  </thead>\n  <tbody>\n    <tr>\n      <th>0</th>\n      <td>1</td>\n      <td>CR-101922</td>\n      <td>COBRANZA EXTRAJUDICIAL</td>\n    </tr>\n    <tr>\n      <th>1</th>\n      <td>1</td>\n      <td>CR-101949</td>\n      <td>LIQUIDAR</td>\n    </tr>\n    <tr>\n      <th>2</th>\n      <td>1</td>\n      <td>CR-101952</td>\n      <td>LIQUIDAR</td>\n    </tr>\n  </tbody>\n</table>\n</div>"
     },
     "metadata": {},
     "execution_count": 18
    }
   ],
   "source": [
    "#Hacemos la consulta de la asignacion\n",
    "sql_asig_cred = cursor.callproc('credifiel_rpt_asignacion_activa',)\n",
    "for result in cursor.stored_results():\n",
    "    asignacion_cred = pd.DataFrame(result.fetchall())\n",
    "asignacion_cred = asignacion_cred.iloc[:,[1,3,32]]\n",
    "asignacion_cred.columns = ['unegocio_id','credito','division']\n",
    "#asignacion_brad['credito'] = pd.to_numeric(asignacion_brad['credito'])\n",
    "asignacion_cred.head(3)"
   ]
  },
  {
   "cell_type": "code",
   "execution_count": 19,
   "metadata": {},
   "outputs": [
    {
     "output_type": "execute_result",
     "data": {
      "text/plain": [
       "   folio_gestion  unegocio_id fecha_gestion hora_gestion    credito  \\\n",
       "0        9241276            1    2020-12-02     07:34:59  CR-418505   \n",
       "1        9242467            1    2020-12-02     07:45:17  CR-532876   \n",
       "\n",
       "                       nombre_credito    telefono        usuario  \\\n",
       "0              TZOMPANTZI TEXIS JUANA  5548632739   GONMORALESBM   \n",
       "1  MARQUEZ ARREDONDO ROBERTO DE JESUS  7831177323  HERNANDEZGARO   \n",
       "\n",
       "                   nombre_usuario             accion                resultado  \\\n",
       "0  GONZALEZ MORALES BRENDA MARLEN  LLAMADA A TITULAR  PROMESA DE PAGO PARCIAL   \n",
       "1       HERNANDEZ GALINDO RODRIGO  ENTRADA WHATS APP  PROMESA DE PAGO PARCIAL   \n",
       "\n",
       "  fecha_promesa  monto_promesa  \\\n",
       "0    2020-12-15         1090.0   \n",
       "1    2020-12-15         4196.3   \n",
       "\n",
       "                                         comentarios accion_credifiel  \\\n",
       "0  5548632739 TT REALIZARA PAGO 4 POR $1090 EL 15...              PDP   \n",
       "1  7831177323 TT REALIZARA PAGO EL DIA 15/12/2020...              PDP   \n",
       "\n",
       "  resultado_credifiel  dictamen                division  \n",
       "0     Promesa de Pago  CONTACTO                          \n",
       "1     Promesa de Pago  CONTACTO  COBRANZA EXTRAJUDICIAL  "
      ],
      "text/html": "<div>\n<style scoped>\n    .dataframe tbody tr th:only-of-type {\n        vertical-align: middle;\n    }\n\n    .dataframe tbody tr th {\n        vertical-align: top;\n    }\n\n    .dataframe thead th {\n        text-align: right;\n    }\n</style>\n<table border=\"1\" class=\"dataframe\">\n  <thead>\n    <tr style=\"text-align: right;\">\n      <th></th>\n      <th>folio_gestion</th>\n      <th>unegocio_id</th>\n      <th>fecha_gestion</th>\n      <th>hora_gestion</th>\n      <th>credito</th>\n      <th>nombre_credito</th>\n      <th>telefono</th>\n      <th>usuario</th>\n      <th>nombre_usuario</th>\n      <th>accion</th>\n      <th>resultado</th>\n      <th>fecha_promesa</th>\n      <th>monto_promesa</th>\n      <th>comentarios</th>\n      <th>accion_credifiel</th>\n      <th>resultado_credifiel</th>\n      <th>dictamen</th>\n      <th>division</th>\n    </tr>\n  </thead>\n  <tbody>\n    <tr>\n      <th>0</th>\n      <td>9241276</td>\n      <td>1</td>\n      <td>2020-12-02</td>\n      <td>07:34:59</td>\n      <td>CR-418505</td>\n      <td>TZOMPANTZI TEXIS JUANA</td>\n      <td>5548632739</td>\n      <td>GONMORALESBM</td>\n      <td>GONZALEZ MORALES BRENDA MARLEN</td>\n      <td>LLAMADA A TITULAR</td>\n      <td>PROMESA DE PAGO PARCIAL</td>\n      <td>2020-12-15</td>\n      <td>1090.0</td>\n      <td>5548632739 TT REALIZARA PAGO 4 POR $1090 EL 15...</td>\n      <td>PDP</td>\n      <td>Promesa de Pago</td>\n      <td>CONTACTO</td>\n      <td></td>\n    </tr>\n    <tr>\n      <th>1</th>\n      <td>9242467</td>\n      <td>1</td>\n      <td>2020-12-02</td>\n      <td>07:45:17</td>\n      <td>CR-532876</td>\n      <td>MARQUEZ ARREDONDO ROBERTO DE JESUS</td>\n      <td>7831177323</td>\n      <td>HERNANDEZGARO</td>\n      <td>HERNANDEZ GALINDO RODRIGO</td>\n      <td>ENTRADA WHATS APP</td>\n      <td>PROMESA DE PAGO PARCIAL</td>\n      <td>2020-12-15</td>\n      <td>4196.3</td>\n      <td>7831177323 TT REALIZARA PAGO EL DIA 15/12/2020...</td>\n      <td>PDP</td>\n      <td>Promesa de Pago</td>\n      <td>CONTACTO</td>\n      <td>COBRANZA EXTRAJUDICIAL</td>\n    </tr>\n  </tbody>\n</table>\n</div>"
     },
     "metadata": {},
     "execution_count": 19
    }
   ],
   "source": [
    "#Hacemos la union de asignacion y promesas\n",
    "consolidado_cred = pd.merge(gestion_cred,asignacion_cred,how='left',on=['unegocio_id','credito'])\n",
    "cols = ['monto_promesa','unegocio_id']\n",
    "consolidado_cred[cols] = consolidado_cred[cols].apply(pd.to_numeric, errors='coerce')\n",
    "consolidado_cred.head(3)"
   ]
  },
  {
   "cell_type": "code",
   "execution_count": 20,
   "metadata": {},
   "outputs": [
    {
     "output_type": "execute_result",
     "data": {
      "text/plain": [
       "                 Division  NumeroPromesas  SumaPromesas\n",
       "0                                       1        1090.0\n",
       "1  COBRANZA EXTRAJUDICIAL               1        4196.3"
      ],
      "text/html": "<div>\n<style scoped>\n    .dataframe tbody tr th:only-of-type {\n        vertical-align: middle;\n    }\n\n    .dataframe tbody tr th {\n        vertical-align: top;\n    }\n\n    .dataframe thead th {\n        text-align: right;\n    }\n</style>\n<table border=\"1\" class=\"dataframe\">\n  <thead>\n    <tr style=\"text-align: right;\">\n      <th></th>\n      <th>Division</th>\n      <th>NumeroPromesas</th>\n      <th>SumaPromesas</th>\n    </tr>\n  </thead>\n  <tbody>\n    <tr>\n      <th>0</th>\n      <td></td>\n      <td>1</td>\n      <td>1090.0</td>\n    </tr>\n    <tr>\n      <th>1</th>\n      <td>COBRANZA EXTRAJUDICIAL</td>\n      <td>1</td>\n      <td>4196.3</td>\n    </tr>\n  </tbody>\n</table>\n</div>"
     },
     "metadata": {},
     "execution_count": 20
    }
   ],
   "source": [
    "#Obtenemos datos de las promesas de Credifiel\n",
    "pivot_cred = pd.pivot_table(consolidado_cred,index=['division'],values=['unegocio_id','monto_promesa'],aggfunc=('count',np.sum))\n",
    "pivot_cred = pd.DataFrame(pivot_cred.to_records())\n",
    "pivot_cred = pivot_cred.iloc[:,[0,3,2]]\n",
    "pivot_cred.columns = ['Division','NumeroPromesas','SumaPromesas']\n",
    "pivot_cred.fillna(0,inplace=True)\n",
    "pivot_cred = pivot_cred.loc[pivot_cred['SumaPromesas']>0]\n",
    "#pivot_gestion_cred[['NumeroPromesas','PromedioPromesa','SumaPromesas']] = pivot_gestion_brad[['NumeroPromesas','PromedioPromesa','SumaPromesas']].applymap(\"{0:.2f}\".format)\n",
    "pivot_cred"
   ]
  },
  {
   "cell_type": "code",
   "execution_count": 21,
   "metadata": {},
   "outputs": [
    {
     "output_type": "execute_result",
     "data": {
      "text/plain": [
       "                 Division  NumeroPromesas  SumaPromesas\n",
       "0                                       1        1090.0\n",
       "1  COBRANZA EXTRAJUDICIAL               1        4196.3"
      ],
      "text/html": "<div>\n<style scoped>\n    .dataframe tbody tr th:only-of-type {\n        vertical-align: middle;\n    }\n\n    .dataframe tbody tr th {\n        vertical-align: top;\n    }\n\n    .dataframe thead th {\n        text-align: right;\n    }\n</style>\n<table border=\"1\" class=\"dataframe\">\n  <thead>\n    <tr style=\"text-align: right;\">\n      <th></th>\n      <th>Division</th>\n      <th>NumeroPromesas</th>\n      <th>SumaPromesas</th>\n    </tr>\n  </thead>\n  <tbody>\n    <tr>\n      <th>0</th>\n      <td></td>\n      <td>1</td>\n      <td>1090.0</td>\n    </tr>\n    <tr>\n      <th>1</th>\n      <td>COBRANZA EXTRAJUDICIAL</td>\n      <td>1</td>\n      <td>4196.3</td>\n    </tr>\n  </tbody>\n</table>\n</div>"
     },
     "metadata": {},
     "execution_count": 21
    }
   ],
   "source": [
    "#Vemos las promesas reales eliminando duplicados\n",
    "consolidado_cred2 = consolidado_cred.drop_duplicates(subset=['credito','fecha_promesa','monto_promesa'])\n",
    "pivot_cred2 = pd.pivot_table(consolidado_cred2,index=['division'],values=['unegocio_id','monto_promesa'],aggfunc=('count',np.sum))\n",
    "pivot_cred2 = pd.DataFrame(pivot_cred2.to_records())\n",
    "pivot_cred2 = pivot_cred2.iloc[:,[0,3,2]]\n",
    "pivot_cred2.columns = ['Division','NumeroPromesas','SumaPromesas']\n",
    "pivot_cred2.fillna(0,inplace=True)\n",
    "pivot_cred2 = pivot_cred2.loc[pivot_cred2['SumaPromesas']>0]\n",
    "#pivot_gestion_cred[['NumeroPromesas','PromedioPromesa','SumaPromesas']] = pivot_gestion_brad[['NumeroPromesas','PromedioPromesa','SumaPromesas']].applymap(\"{0:.2f}\".format)\n",
    "pivot_cred2"
   ]
  },
  {
   "source": [
    "# Banco Azteca"
   ],
   "cell_type": "markdown",
   "metadata": {}
  },
  {
   "cell_type": "code",
   "execution_count": 22,
   "metadata": {},
   "outputs": [
    {
     "output_type": "execute_result",
     "data": {
      "text/plain": [
       "    folio_gestion  firma_id  unegocio_id          credito  \\\n",
       "43        9246095         7            1   1-20-2386-5686   \n",
       "44        9246094         7            1  1-1-2684-114992   \n",
       "46        9246092         7            1   1-1-6606-18281   \n",
       "\n",
       "                   nombre_credito    telefono tipo_telefono  \\\n",
       "43        JORGE LUIS URREA FLORES  5561118790       celular   \n",
       "44  ALEXIS ABIRAM MORALES VERDUGO  9626968554       celular   \n",
       "46    ISRAEL RAMIRO AQUINO MONROY  5571868040       oficina   \n",
       "\n",
       "         fecha_gestion       usuario               nombre_usuario dictamen  \\\n",
       "43 2020-12-02 07:58:33  HEBALTAZARAL  HERNANDEZ BALTAZAR ALFREDO   PROMESA   \n",
       "44 2020-12-02 07:59:30  HEBALTAZARAL  HERNANDEZ BALTAZAR ALFREDO   PROMESA   \n",
       "46 2020-12-02 08:00:08  HEBALTAZARAL  HERNANDEZ BALTAZAR ALFREDO   PROMESA   \n",
       "\n",
       "                               accion_resultado fecha_promesa monto_promesa  \\\n",
       "43  GESTION TELEFONICA -PROMESA DE PAGO PARCIAL    2020-12-07        491.00   \n",
       "44  GESTION TELEFONICA -PROMESA DE PAGO PARCIAL    2020-12-07        480.00   \n",
       "46  GESTION TELEFONICA -PROMESA DE PAGO PARCIAL    2020-12-07        431.00   \n",
       "\n",
       "                                          comentarios  \n",
       "43  5561118790 TT REALIZARA PAGO SEMANAL POR 491 X...  \n",
       "44                        9626968554 pagos sem de 480  \n",
       "46  5571868040 5526191333 5537539557 pagos sem de 431  "
      ],
      "text/html": "<div>\n<style scoped>\n    .dataframe tbody tr th:only-of-type {\n        vertical-align: middle;\n    }\n\n    .dataframe tbody tr th {\n        vertical-align: top;\n    }\n\n    .dataframe thead th {\n        text-align: right;\n    }\n</style>\n<table border=\"1\" class=\"dataframe\">\n  <thead>\n    <tr style=\"text-align: right;\">\n      <th></th>\n      <th>folio_gestion</th>\n      <th>firma_id</th>\n      <th>unegocio_id</th>\n      <th>credito</th>\n      <th>nombre_credito</th>\n      <th>telefono</th>\n      <th>tipo_telefono</th>\n      <th>fecha_gestion</th>\n      <th>usuario</th>\n      <th>nombre_usuario</th>\n      <th>dictamen</th>\n      <th>accion_resultado</th>\n      <th>fecha_promesa</th>\n      <th>monto_promesa</th>\n      <th>comentarios</th>\n    </tr>\n  </thead>\n  <tbody>\n    <tr>\n      <th>43</th>\n      <td>9246095</td>\n      <td>7</td>\n      <td>1</td>\n      <td>1-20-2386-5686</td>\n      <td>JORGE LUIS URREA FLORES</td>\n      <td>5561118790</td>\n      <td>celular</td>\n      <td>2020-12-02 07:58:33</td>\n      <td>HEBALTAZARAL</td>\n      <td>HERNANDEZ BALTAZAR ALFREDO</td>\n      <td>PROMESA</td>\n      <td>GESTION TELEFONICA -PROMESA DE PAGO PARCIAL</td>\n      <td>2020-12-07</td>\n      <td>491.00</td>\n      <td>5561118790 TT REALIZARA PAGO SEMANAL POR 491 X...</td>\n    </tr>\n    <tr>\n      <th>44</th>\n      <td>9246094</td>\n      <td>7</td>\n      <td>1</td>\n      <td>1-1-2684-114992</td>\n      <td>ALEXIS ABIRAM MORALES VERDUGO</td>\n      <td>9626968554</td>\n      <td>celular</td>\n      <td>2020-12-02 07:59:30</td>\n      <td>HEBALTAZARAL</td>\n      <td>HERNANDEZ BALTAZAR ALFREDO</td>\n      <td>PROMESA</td>\n      <td>GESTION TELEFONICA -PROMESA DE PAGO PARCIAL</td>\n      <td>2020-12-07</td>\n      <td>480.00</td>\n      <td>9626968554 pagos sem de 480</td>\n    </tr>\n    <tr>\n      <th>46</th>\n      <td>9246092</td>\n      <td>7</td>\n      <td>1</td>\n      <td>1-1-6606-18281</td>\n      <td>ISRAEL RAMIRO AQUINO MONROY</td>\n      <td>5571868040</td>\n      <td>oficina</td>\n      <td>2020-12-02 08:00:08</td>\n      <td>HEBALTAZARAL</td>\n      <td>HERNANDEZ BALTAZAR ALFREDO</td>\n      <td>PROMESA</td>\n      <td>GESTION TELEFONICA -PROMESA DE PAGO PARCIAL</td>\n      <td>2020-12-07</td>\n      <td>431.00</td>\n      <td>5571868040 5526191333 5537539557 pagos sem de 431</td>\n    </tr>\n  </tbody>\n</table>\n</div>"
     },
     "metadata": {},
     "execution_count": 22
    }
   ],
   "source": [
    "#Hacemos la consulta referente a las gestiones de Banco Azteca\n",
    "sql_gest_baz = cursor.callproc('baz_rpt_gestiones_detallado', [today,today])\n",
    "for result in cursor.stored_results():\n",
    "     gestion_baz = pd.DataFrame(result.fetchall())\n",
    "gestion_baz.columns = ['folio_gestion','firma_id','unegocio_id','credito','nombre_credito','telefono','tipo_telefono','fecha_gestion','usuario','nombre_usuario','dictamen','accion_resultado','fecha_promesa','monto_promesa','comentarios']\n",
    "gestion_baz = gestion_baz.loc[gestion_baz['dictamen']=='PROMESA']\n",
    "gestion_baz.head(3)"
   ]
  },
  {
   "cell_type": "code",
   "execution_count": 23,
   "metadata": {},
   "outputs": [],
   "source": [
    "sample_cols_to_keep =['#FIIDCAMPANA', 'FIPAIS', 'FICANAL','FISUCURSAL','FIFOLIO','FISEMATRASMAX','FNSALDO','FNSALDOCAPITAL','FNPAGOREQ','FCTEL1','FCTIPO1','FNDIA_PAGO','FIDIASATRASOMAX','FNCAPPAGODISP','FNABONOSEMANAL','FNCAPACIDADPAGO','FILCRACTIVA','FDFECPROXPAG','FNTASAINT','CP','fcnombreos','fcappaternoos','FITERRITORIO','FCDESCTERRITORIO','FIZONA','FCDESCZONA','FIREGION','FCDESCREGION','FIGERENCIA','FCDESCGERENCIA','FCBESTTIMETOCALL','FECHA']\n",
    "df_iter = pd.read_csv('/home/estadistico/Documents/Erick/Banco Azteca/Asignacion_csv/Asignacion banco azteca '+mes+'.csv', chunksize=20000, usecols=sample_cols_to_keep) \n",
    "df_lst = [] \n",
    "for df_ in df_iter: \n",
    "            tmp_df = (df_.rename(columns={col: col.lower() for col in df_.columns}))\n",
    "            df_lst += [tmp_df.copy()] \n",
    "asignacion_baz = pd.concat(df_lst)"
   ]
  },
  {
   "cell_type": "code",
   "execution_count": 24,
   "metadata": {},
   "outputs": [
    {
     "output_type": "execute_result",
     "data": {
      "text/plain": [
       "   #fiidcampana  fipais  ficanal  fisucursal  fifolio  fisematrasmax  fnsaldo  \\\n",
       "0           160       1        1         657    83392              1    28128   \n",
       "1           160       1       51        8032   104288              1    31062   \n",
       "2           160       1        1        2020     1379              1    63550   \n",
       "\n",
       "   fnsaldocapital  fnpagoreq      fctel1  ...       fcdescterritorio  fizona  \\\n",
       "0            4199        249  6371181906  ...  9828 TERRITORIO NORTE    9875   \n",
       "1            4500        414  6565811031  ...  9828 TERRITORIO NORTE    9871   \n",
       "2             492        649  6531392132  ...  9828 TERRITORIO NORTE    9878   \n",
       "\n",
       "        fcdesczona  firegion           fcdescregion  figerencia  \\\n",
       "0  9875 HERMOSILLO      8262  8262 RCR HERMOSILLO 3        8305   \n",
       "1   9871 CHIHUAHUA      9324   9324 RCR CHIHUAHUA 4        9618   \n",
       "2     9878 TIJUANA      8261     8261 RCR TIJUANA 3        8304   \n",
       "\n",
       "                   fcdescgerencia fcbesttimetocall       fecha  \\\n",
       "0                8305 GCC CABORCA              NaN  11/01/2020   \n",
       "1       9618 GCC OASIS REVOLUCION              NaN  11/01/2020   \n",
       "2  8304 GCC SAN LUIS RIO COLORADO              NaN  11/01/2020   \n",
       "\n",
       "            credito  \n",
       "0     1-1-657-83392  \n",
       "1  1-51-8032-104288  \n",
       "2     1-1-2020-1379  \n",
       "\n",
       "[3 rows x 33 columns]"
      ],
      "text/html": "<div>\n<style scoped>\n    .dataframe tbody tr th:only-of-type {\n        vertical-align: middle;\n    }\n\n    .dataframe tbody tr th {\n        vertical-align: top;\n    }\n\n    .dataframe thead th {\n        text-align: right;\n    }\n</style>\n<table border=\"1\" class=\"dataframe\">\n  <thead>\n    <tr style=\"text-align: right;\">\n      <th></th>\n      <th>#fiidcampana</th>\n      <th>fipais</th>\n      <th>ficanal</th>\n      <th>fisucursal</th>\n      <th>fifolio</th>\n      <th>fisematrasmax</th>\n      <th>fnsaldo</th>\n      <th>fnsaldocapital</th>\n      <th>fnpagoreq</th>\n      <th>fctel1</th>\n      <th>...</th>\n      <th>fcdescterritorio</th>\n      <th>fizona</th>\n      <th>fcdesczona</th>\n      <th>firegion</th>\n      <th>fcdescregion</th>\n      <th>figerencia</th>\n      <th>fcdescgerencia</th>\n      <th>fcbesttimetocall</th>\n      <th>fecha</th>\n      <th>credito</th>\n    </tr>\n  </thead>\n  <tbody>\n    <tr>\n      <th>0</th>\n      <td>160</td>\n      <td>1</td>\n      <td>1</td>\n      <td>657</td>\n      <td>83392</td>\n      <td>1</td>\n      <td>28128</td>\n      <td>4199</td>\n      <td>249</td>\n      <td>6371181906</td>\n      <td>...</td>\n      <td>9828 TERRITORIO NORTE</td>\n      <td>9875</td>\n      <td>9875 HERMOSILLO</td>\n      <td>8262</td>\n      <td>8262 RCR HERMOSILLO 3</td>\n      <td>8305</td>\n      <td>8305 GCC CABORCA</td>\n      <td>NaN</td>\n      <td>11/01/2020</td>\n      <td>1-1-657-83392</td>\n    </tr>\n    <tr>\n      <th>1</th>\n      <td>160</td>\n      <td>1</td>\n      <td>51</td>\n      <td>8032</td>\n      <td>104288</td>\n      <td>1</td>\n      <td>31062</td>\n      <td>4500</td>\n      <td>414</td>\n      <td>6565811031</td>\n      <td>...</td>\n      <td>9828 TERRITORIO NORTE</td>\n      <td>9871</td>\n      <td>9871 CHIHUAHUA</td>\n      <td>9324</td>\n      <td>9324 RCR CHIHUAHUA 4</td>\n      <td>9618</td>\n      <td>9618 GCC OASIS REVOLUCION</td>\n      <td>NaN</td>\n      <td>11/01/2020</td>\n      <td>1-51-8032-104288</td>\n    </tr>\n    <tr>\n      <th>2</th>\n      <td>160</td>\n      <td>1</td>\n      <td>1</td>\n      <td>2020</td>\n      <td>1379</td>\n      <td>1</td>\n      <td>63550</td>\n      <td>492</td>\n      <td>649</td>\n      <td>6531392132</td>\n      <td>...</td>\n      <td>9828 TERRITORIO NORTE</td>\n      <td>9878</td>\n      <td>9878 TIJUANA</td>\n      <td>8261</td>\n      <td>8261 RCR TIJUANA 3</td>\n      <td>8304</td>\n      <td>8304 GCC SAN LUIS RIO COLORADO</td>\n      <td>NaN</td>\n      <td>11/01/2020</td>\n      <td>1-1-2020-1379</td>\n    </tr>\n  </tbody>\n</table>\n<p>3 rows × 33 columns</p>\n</div>"
     },
     "metadata": {},
     "execution_count": 24
    }
   ],
   "source": [
    "asignacion_baz['credito'] = asignacion_baz['fipais'].map(str)+'-'+asignacion_baz['ficanal'].map(str)+'-'+asignacion_baz['fisucursal'].map(str)+'-'+asignacion_baz['fifolio'].map(str)\n",
    "asignacion_baz.head(3)"
   ]
  },
  {
   "cell_type": "code",
   "execution_count": 25,
   "metadata": {},
   "outputs": [
    {
     "output_type": "execute_result",
     "data": {
      "text/plain": [
       "   folio_gestion  firma_id  unegocio_id          credito  \\\n",
       "0        9246095         7            1   1-20-2386-5686   \n",
       "1        9246094         7            1  1-1-2684-114992   \n",
       "2        9246092         7            1   1-1-6606-18281   \n",
       "\n",
       "                  nombre_credito    telefono tipo_telefono  \\\n",
       "0        JORGE LUIS URREA FLORES  5561118790       celular   \n",
       "1  ALEXIS ABIRAM MORALES VERDUGO  9626968554       celular   \n",
       "2    ISRAEL RAMIRO AQUINO MONROY  5571868040       oficina   \n",
       "\n",
       "        fecha_gestion       usuario               nombre_usuario  ...  \\\n",
       "0 2020-12-02 07:58:33  HEBALTAZARAL  HERNANDEZ BALTAZAR ALFREDO   ...   \n",
       "1 2020-12-02 07:59:30  HEBALTAZARAL  HERNANDEZ BALTAZAR ALFREDO   ...   \n",
       "2 2020-12-02 08:00:08  HEBALTAZARAL  HERNANDEZ BALTAZAR ALFREDO   ...   \n",
       "\n",
       "  fiterritorio fcdescterritorio fizona  fcdesczona firegion  fcdescregion  \\\n",
       "0          NaN              NaN    NaN         NaN      NaN           NaN   \n",
       "1          NaN              NaN    NaN         NaN      NaN           NaN   \n",
       "2          NaN              NaN    NaN         NaN      NaN           NaN   \n",
       "\n",
       "   figerencia  fcdescgerencia  fcbesttimetocall  fecha  \n",
       "0         NaN             NaN               NaN    NaN  \n",
       "1         NaN             NaN               NaN    NaN  \n",
       "2         NaN             NaN               NaN    NaN  \n",
       "\n",
       "[3 rows x 47 columns]"
      ],
      "text/html": "<div>\n<style scoped>\n    .dataframe tbody tr th:only-of-type {\n        vertical-align: middle;\n    }\n\n    .dataframe tbody tr th {\n        vertical-align: top;\n    }\n\n    .dataframe thead th {\n        text-align: right;\n    }\n</style>\n<table border=\"1\" class=\"dataframe\">\n  <thead>\n    <tr style=\"text-align: right;\">\n      <th></th>\n      <th>folio_gestion</th>\n      <th>firma_id</th>\n      <th>unegocio_id</th>\n      <th>credito</th>\n      <th>nombre_credito</th>\n      <th>telefono</th>\n      <th>tipo_telefono</th>\n      <th>fecha_gestion</th>\n      <th>usuario</th>\n      <th>nombre_usuario</th>\n      <th>...</th>\n      <th>fiterritorio</th>\n      <th>fcdescterritorio</th>\n      <th>fizona</th>\n      <th>fcdesczona</th>\n      <th>firegion</th>\n      <th>fcdescregion</th>\n      <th>figerencia</th>\n      <th>fcdescgerencia</th>\n      <th>fcbesttimetocall</th>\n      <th>fecha</th>\n    </tr>\n  </thead>\n  <tbody>\n    <tr>\n      <th>0</th>\n      <td>9246095</td>\n      <td>7</td>\n      <td>1</td>\n      <td>1-20-2386-5686</td>\n      <td>JORGE LUIS URREA FLORES</td>\n      <td>5561118790</td>\n      <td>celular</td>\n      <td>2020-12-02 07:58:33</td>\n      <td>HEBALTAZARAL</td>\n      <td>HERNANDEZ BALTAZAR ALFREDO</td>\n      <td>...</td>\n      <td>NaN</td>\n      <td>NaN</td>\n      <td>NaN</td>\n      <td>NaN</td>\n      <td>NaN</td>\n      <td>NaN</td>\n      <td>NaN</td>\n      <td>NaN</td>\n      <td>NaN</td>\n      <td>NaN</td>\n    </tr>\n    <tr>\n      <th>1</th>\n      <td>9246094</td>\n      <td>7</td>\n      <td>1</td>\n      <td>1-1-2684-114992</td>\n      <td>ALEXIS ABIRAM MORALES VERDUGO</td>\n      <td>9626968554</td>\n      <td>celular</td>\n      <td>2020-12-02 07:59:30</td>\n      <td>HEBALTAZARAL</td>\n      <td>HERNANDEZ BALTAZAR ALFREDO</td>\n      <td>...</td>\n      <td>NaN</td>\n      <td>NaN</td>\n      <td>NaN</td>\n      <td>NaN</td>\n      <td>NaN</td>\n      <td>NaN</td>\n      <td>NaN</td>\n      <td>NaN</td>\n      <td>NaN</td>\n      <td>NaN</td>\n    </tr>\n    <tr>\n      <th>2</th>\n      <td>9246092</td>\n      <td>7</td>\n      <td>1</td>\n      <td>1-1-6606-18281</td>\n      <td>ISRAEL RAMIRO AQUINO MONROY</td>\n      <td>5571868040</td>\n      <td>oficina</td>\n      <td>2020-12-02 08:00:08</td>\n      <td>HEBALTAZARAL</td>\n      <td>HERNANDEZ BALTAZAR ALFREDO</td>\n      <td>...</td>\n      <td>NaN</td>\n      <td>NaN</td>\n      <td>NaN</td>\n      <td>NaN</td>\n      <td>NaN</td>\n      <td>NaN</td>\n      <td>NaN</td>\n      <td>NaN</td>\n      <td>NaN</td>\n      <td>NaN</td>\n    </tr>\n  </tbody>\n</table>\n<p>3 rows × 47 columns</p>\n</div>"
     },
     "metadata": {},
     "execution_count": 25
    }
   ],
   "source": [
    "consolidado_baz = pd.merge(gestion_baz,asignacion_baz,how='left',on='credito')\n",
    "cols = ['monto_promesa','#fiidcampana']\n",
    "consolidado_baz[cols] = consolidado_baz[cols].apply(pd.to_numeric, errors='coerce')\n",
    "consolidado_baz.head(3)"
   ]
  },
  {
   "cell_type": "code",
   "execution_count": 26,
   "metadata": {},
   "outputs": [
    {
     "output_type": "execute_result",
     "data": {
      "text/plain": [
       "  Dictamen  NumeroPromesas  SumaPromesas\n",
       "0  PROMESA              37       25846.0"
      ],
      "text/html": "<div>\n<style scoped>\n    .dataframe tbody tr th:only-of-type {\n        vertical-align: middle;\n    }\n\n    .dataframe tbody tr th {\n        vertical-align: top;\n    }\n\n    .dataframe thead th {\n        text-align: right;\n    }\n</style>\n<table border=\"1\" class=\"dataframe\">\n  <thead>\n    <tr style=\"text-align: right;\">\n      <th></th>\n      <th>Dictamen</th>\n      <th>NumeroPromesas</th>\n      <th>SumaPromesas</th>\n    </tr>\n  </thead>\n  <tbody>\n    <tr>\n      <th>0</th>\n      <td>PROMESA</td>\n      <td>37</td>\n      <td>25846.0</td>\n    </tr>\n  </tbody>\n</table>\n</div>"
     },
     "metadata": {},
     "execution_count": 26
    }
   ],
   "source": [
    "#Obtenemos datos de las promesas de Banco Azteca\n",
    "pivot_baz = pd.pivot_table(consolidado_baz,index=['dictamen'],values=['unegocio_id','monto_promesa'],aggfunc=('count',np.sum))\n",
    "pivot_baz = pd.DataFrame(pivot_baz.to_records())\n",
    "pivot_baz = pivot_baz.iloc[:,[0,3,2]]\n",
    "pivot_baz.columns = ['Dictamen','NumeroPromesas','SumaPromesas']\n",
    "pivot_baz.fillna(0,inplace=True)\n",
    "#pivot_baz[['NumeroPromesas','PromedioPromesa','SumaPromesas']] = pivot_gestion_baz[['NumeroPromesas','PromedioPromesa','SumaPromesas']].applymap(\"{0:.2f}\".format)\n",
    "pivot_baz"
   ]
  },
  {
   "cell_type": "code",
   "execution_count": 27,
   "metadata": {},
   "outputs": [
    {
     "output_type": "execute_result",
     "data": {
      "text/plain": [
       "  Dictamen  NumeroPromesas  SumaPromesas\n",
       "0  PROMESA              37       25846.0"
      ],
      "text/html": "<div>\n<style scoped>\n    .dataframe tbody tr th:only-of-type {\n        vertical-align: middle;\n    }\n\n    .dataframe tbody tr th {\n        vertical-align: top;\n    }\n\n    .dataframe thead th {\n        text-align: right;\n    }\n</style>\n<table border=\"1\" class=\"dataframe\">\n  <thead>\n    <tr style=\"text-align: right;\">\n      <th></th>\n      <th>Dictamen</th>\n      <th>NumeroPromesas</th>\n      <th>SumaPromesas</th>\n    </tr>\n  </thead>\n  <tbody>\n    <tr>\n      <th>0</th>\n      <td>PROMESA</td>\n      <td>37</td>\n      <td>25846.0</td>\n    </tr>\n  </tbody>\n</table>\n</div>"
     },
     "metadata": {},
     "execution_count": 27
    }
   ],
   "source": [
    "#Vemos las promesas reales eliminando duplicados\n",
    "consolidado_baz2 = consolidado_baz.drop_duplicates(subset=['credito','fecha_promesa','monto_promesa'])\n",
    "pivot_baz2 = pd.pivot_table(consolidado_baz2,index=['dictamen'],values=['unegocio_id','monto_promesa'],aggfunc=('count',np.sum))\n",
    "pivot_baz2 = pd.DataFrame(pivot_baz2.to_records())\n",
    "pivot_baz2 = pivot_baz2.iloc[:,[0,3,2]]\n",
    "pivot_baz2.columns = ['Dictamen','NumeroPromesas','SumaPromesas']\n",
    "pivot_baz2.fillna(0,inplace=True)\n",
    "#pivot_baz2[['NumeroPromesas','PromedioPromesa','SumaPromesas']] = pivot_gestion_baz2[['NumeroPromesas','PromedioPromesa','SumaPromesas']].applymap(\"{0:.2f}\".format)\n",
    "pivot_baz2"
   ]
  },
  {
   "cell_type": "code",
   "execution_count": 28,
   "metadata": {},
   "outputs": [],
   "source": [
    "writer = pd.ExcelWriter(''+ruta+'/Reporte Promesas Diarias '+today+'.xlsx', engine='xlsxwriter')\n",
    "pivot_liv.to_excel(writer,'PromDiariaLivBruto',index=False,header=True)\n",
    "pivot_liv2.to_excel(writer,'PromDiariaLivReal',index=False,header=True)\n",
    "pivot_brad.to_excel(writer,'PromDiariaBradBruto',index=False,header=True)\n",
    "pivot_brad2.to_excel(writer,'PromDiariaBradReal',index=False,header=True)\n",
    "pivot_cred.to_excel(writer,'PromDiariaCredBruto',index=False,header=True)\n",
    "pivot_cred2.to_excel(writer,'PromDiariaCredReal',index=False,header=True)\n",
    "pivot_baz.to_excel(writer,'PromDiariaBAZBruto',index=False,header=True)\n",
    "pivot_baz2.to_excel(writer,'PromDiariaBAZReal',index=False,header=True)\n",
    "\n",
    "writer.save()\n",
    "writer.close()"
   ]
  }
 ]
}