{
 "metadata": {
  "language_info": {
   "codemirror_mode": {
    "name": "ipython",
    "version": 3
   },
   "file_extension": ".py",
   "mimetype": "text/x-python",
   "name": "python",
   "nbconvert_exporter": "python",
   "pygments_lexer": "ipython3",
   "version": "3.8.5-final"
  },
  "orig_nbformat": 2,
  "kernelspec": {
   "name": "python3",
   "display_name": "Python 3",
   "language": "python"
  }
 },
 "nbformat": 4,
 "nbformat_minor": 2,
 "cells": [
  {
   "source": [
    "# Reporte diario promesas realizadas durante el dia"
   ],
   "cell_type": "markdown",
   "metadata": {}
  },
  {
   "cell_type": "code",
   "execution_count": 1,
   "metadata": {},
   "outputs": [],
   "source": [
    "import pandas as pd\n",
    "import numpy as np\n",
    "import mysql.connector\n",
    "from mysql.connector import Error\n",
    "from datetime import date\n",
    "from datetime import datetime\n",
    "from IPython.core.interactiveshell import InteractiveShell\n",
    "InteractiveShell.ast_node_interactivity = \"all\""
   ]
  },
  {
   "cell_type": "code",
   "execution_count": 2,
   "metadata": {},
   "outputs": [],
   "source": [
    "#Definimos la ruta en donde queremos guardar los archivos\n",
    "ruta = '/home/estadistico/Documents/Erick/Reportes diarios/Promesas Diarias'\n",
    "#Definimos la ruta donde estan las asignaciones\n",
    "ruta_asig_baz = '/home/estadistico/Documents/Erick/Banco Azteca/Asignacion csv'\n",
    "mes2 = 'Diciembre2020'"
   ]
  },
  {
   "cell_type": "code",
   "execution_count": 3,
   "metadata": {},
   "outputs": [],
   "source": [
    "#Agregamos las variables a ocupar\n",
    "servidor = '192.168.15.12'\n",
    "puerto = 3306\n",
    "usuario = 'estadisticas'\n",
    "contraseña = 'estadisticas8474'\n",
    "base = 'procesos_externos'"
   ]
  },
  {
   "cell_type": "code",
   "execution_count": 4,
   "metadata": {},
   "outputs": [
    {
     "output_type": "execute_result",
     "data": {
      "text/plain": [
       "'20201224'"
      ]
     },
     "metadata": {},
     "execution_count": 4
    }
   ],
   "source": [
    "#Asignamos valores a los parametros \\n\",\n",
    "today = date.today().strftime('%Y%m%d')\n",
    "now = datetime.now().strftime('%d-%m-%Y-%H-%M')\n",
    "today"
   ]
  },
  {
   "cell_type": "code",
   "execution_count": 5,
   "metadata": {},
   "outputs": [],
   "source": [
    "#Hacemos la conexion con el servidor\\n\",\n",
    "try:\n",
    "    conn = mysql.connector.connect(user=usuario,\n",
    "                               password=contraseña,\n",
    "                               host=servidor,\n",
    "                               port=puerto,\n",
    "                               database=base)\n",
    "    conn.set_charset_collation('latin1')\n",
    "except mysql.Error as e:\n",
    "    print(\"Failed to execute stored procedure: {}\".format(error))\n",
    "\n",
    "cursor = conn.cursor()"
   ]
  },
  {
   "source": [
    "# Liverpool"
   ],
   "cell_type": "markdown",
   "metadata": {}
  },
  {
   "cell_type": "code",
   "execution_count": 6,
   "metadata": {},
   "outputs": [
    {
     "output_type": "execute_result",
     "data": {
      "text/plain": [
       "     folio_gestion  firma_id  unegocio_id           credito  \\\n",
       "427        9464459        12            2  1400000007326212   \n",
       "603        9464063        12            2  1400000007611209   \n",
       "799        9463614        12            4    13000022296821   \n",
       "\n",
       "                        nombre_credito    telefono tipo_telefono  \\\n",
       "427      VICTOR MANUEL GUERRA REGALADO  5574556931       celular   \n",
       "603  ROSARIO MARIBEL HERNANDEZ SANCHEZ  5530580822       celular   \n",
       "799         JUAN CARLOS CASTILLO OCHOA  2225236144       celular   \n",
       "\n",
       "          fecha_gestion        usuario                 nombre_usuario  \\\n",
       "427 2020-12-24 08:47:38  RODRIGUEZHECR   RODRIGUEZ HERNANDEZ CRISTIAN   \n",
       "603 2020-12-24 08:33:19    AGUILARRIAL  AGUILAR RIOS DANIEL ALEJANDRO   \n",
       "799 2020-12-24 08:08:23     OROZCOGOBR         OROZCO GONZALEZ BRENDA   \n",
       "\n",
       "    dictamen             accion                    resultado fecha_promesa  \\\n",
       "427  PROMESA  LLAMADA A TITULAR  PROMESA DE PAGO LIQUIDACION    2020-12-24   \n",
       "603  PROMESA  LLAMADA A TITULAR  PROMESA DE PAGO LIQUIDACION    2020-12-24   \n",
       "799  PROMESA  LLAMADA A TITULAR  PROMESA DE PAGO LIQUIDACION    2020-12-30   \n",
       "\n",
       "    monto_promesa                                        comentarios  \n",
       "427        981.00  5574556931 // PROMESA DE PAGO LIQUIDACIÃN POR...  \n",
       "603       1900.00  5530580822 TT SE COMUNICA PORQUE LE LLEGO UN M...  \n",
       "799       1760.00  fSE  AGENDA PAGO DE LIQUIDACION POR $1760 EL D...  "
      ],
      "text/html": "<div>\n<style scoped>\n    .dataframe tbody tr th:only-of-type {\n        vertical-align: middle;\n    }\n\n    .dataframe tbody tr th {\n        vertical-align: top;\n    }\n\n    .dataframe thead th {\n        text-align: right;\n    }\n</style>\n<table border=\"1\" class=\"dataframe\">\n  <thead>\n    <tr style=\"text-align: right;\">\n      <th></th>\n      <th>folio_gestion</th>\n      <th>firma_id</th>\n      <th>unegocio_id</th>\n      <th>credito</th>\n      <th>nombre_credito</th>\n      <th>telefono</th>\n      <th>tipo_telefono</th>\n      <th>fecha_gestion</th>\n      <th>usuario</th>\n      <th>nombre_usuario</th>\n      <th>dictamen</th>\n      <th>accion</th>\n      <th>resultado</th>\n      <th>fecha_promesa</th>\n      <th>monto_promesa</th>\n      <th>comentarios</th>\n    </tr>\n  </thead>\n  <tbody>\n    <tr>\n      <th>427</th>\n      <td>9464459</td>\n      <td>12</td>\n      <td>2</td>\n      <td>1400000007326212</td>\n      <td>VICTOR MANUEL GUERRA REGALADO</td>\n      <td>5574556931</td>\n      <td>celular</td>\n      <td>2020-12-24 08:47:38</td>\n      <td>RODRIGUEZHECR</td>\n      <td>RODRIGUEZ HERNANDEZ CRISTIAN</td>\n      <td>PROMESA</td>\n      <td>LLAMADA A TITULAR</td>\n      <td>PROMESA DE PAGO LIQUIDACION</td>\n      <td>2020-12-24</td>\n      <td>981.00</td>\n      <td>5574556931 // PROMESA DE PAGO LIQUIDACIÃN POR...</td>\n    </tr>\n    <tr>\n      <th>603</th>\n      <td>9464063</td>\n      <td>12</td>\n      <td>2</td>\n      <td>1400000007611209</td>\n      <td>ROSARIO MARIBEL HERNANDEZ SANCHEZ</td>\n      <td>5530580822</td>\n      <td>celular</td>\n      <td>2020-12-24 08:33:19</td>\n      <td>AGUILARRIAL</td>\n      <td>AGUILAR RIOS DANIEL ALEJANDRO</td>\n      <td>PROMESA</td>\n      <td>LLAMADA A TITULAR</td>\n      <td>PROMESA DE PAGO LIQUIDACION</td>\n      <td>2020-12-24</td>\n      <td>1900.00</td>\n      <td>5530580822 TT SE COMUNICA PORQUE LE LLEGO UN M...</td>\n    </tr>\n    <tr>\n      <th>799</th>\n      <td>9463614</td>\n      <td>12</td>\n      <td>4</td>\n      <td>13000022296821</td>\n      <td>JUAN CARLOS CASTILLO OCHOA</td>\n      <td>2225236144</td>\n      <td>celular</td>\n      <td>2020-12-24 08:08:23</td>\n      <td>OROZCOGOBR</td>\n      <td>OROZCO GONZALEZ BRENDA</td>\n      <td>PROMESA</td>\n      <td>LLAMADA A TITULAR</td>\n      <td>PROMESA DE PAGO LIQUIDACION</td>\n      <td>2020-12-30</td>\n      <td>1760.00</td>\n      <td>fSE  AGENDA PAGO DE LIQUIDACION POR $1760 EL D...</td>\n    </tr>\n  </tbody>\n</table>\n</div>"
     },
     "metadata": {},
     "execution_count": 6
    }
   ],
   "source": [
    "#Hacemos la consulta referente a las gestiones de Liverpool\n",
    "sql_gest_liv = cursor.callproc('liverpool_rpt_gestiones_detallado', [today,today])\n",
    "for result in cursor.stored_results():\n",
    "    gestion_liv = pd.DataFrame(result.fetchall())\n",
    "gestion_liv.columns = ['folio_gestion','firma_id','unegocio_id','credito','nombre_credito','telefono','tipo_telefono','fecha_gestion','usuario','nombre_usuario','dictamen','accion','resultado','fecha_promesa','monto_promesa','comentarios']\n",
    "gestion_liv = gestion_liv.loc[gestion_liv['dictamen']=='PROMESA']\n",
    "gestion_liv['credito'] = pd.to_numeric(gestion_liv['credito'])\n",
    "gestion_liv.head(3)"
   ]
  },
  {
   "cell_type": "code",
   "execution_count": 7,
   "metadata": {},
   "outputs": [
    {
     "output_type": "execute_result",
     "data": {
      "text/plain": [
       "   firma_id  unegocio_id         credito estado            rfc division\n",
       "0        12            0  10000001017274    MEX  MAMA720814JK8     DEPN\n",
       "1        12            0  10000005443864  TAMPS  HEGD7610029Z4     DEPN\n",
       "2        12            0  10000005657620    PUE  LADF4609143I1     SER4"
      ],
      "text/html": "<div>\n<style scoped>\n    .dataframe tbody tr th:only-of-type {\n        vertical-align: middle;\n    }\n\n    .dataframe tbody tr th {\n        vertical-align: top;\n    }\n\n    .dataframe thead th {\n        text-align: right;\n    }\n</style>\n<table border=\"1\" class=\"dataframe\">\n  <thead>\n    <tr style=\"text-align: right;\">\n      <th></th>\n      <th>firma_id</th>\n      <th>unegocio_id</th>\n      <th>credito</th>\n      <th>estado</th>\n      <th>rfc</th>\n      <th>division</th>\n    </tr>\n  </thead>\n  <tbody>\n    <tr>\n      <th>0</th>\n      <td>12</td>\n      <td>0</td>\n      <td>10000001017274</td>\n      <td>MEX</td>\n      <td>MAMA720814JK8</td>\n      <td>DEPN</td>\n    </tr>\n    <tr>\n      <th>1</th>\n      <td>12</td>\n      <td>0</td>\n      <td>10000005443864</td>\n      <td>TAMPS</td>\n      <td>HEGD7610029Z4</td>\n      <td>DEPN</td>\n    </tr>\n    <tr>\n      <th>2</th>\n      <td>12</td>\n      <td>0</td>\n      <td>10000005657620</td>\n      <td>PUE</td>\n      <td>LADF4609143I1</td>\n      <td>SER4</td>\n    </tr>\n  </tbody>\n</table>\n</div>"
     },
     "metadata": {},
     "execution_count": 7
    }
   ],
   "source": [
    "#Hacemos la consulta de la asignacion\n",
    "sql_asig_liv = cursor.callproc('liverpool_rpt_asignacion_activa',)\n",
    "for result in cursor.stored_results():\n",
    "    asignacion_liv = pd.DataFrame(result.fetchall())\n",
    "asignacion_liv = asignacion_liv.iloc[:,[0,1,3,24,6,26]]\n",
    "asignacion_liv.columns = ['firma_id','unegocio_id','credito','estado','rfc','division']\n",
    "asignacion_liv['credito'] = pd.to_numeric(asignacion_liv['credito'])\n",
    "asignacion_liv.head(3)"
   ]
  },
  {
   "cell_type": "code",
   "execution_count": 8,
   "metadata": {},
   "outputs": [
    {
     "output_type": "execute_result",
     "data": {
      "text/plain": [
       "   folio_gestion  firma_id  unegocio_id           credito  \\\n",
       "0        9273958        12            5    13000013194803   \n",
       "1        9273488        12            2  1400000006734838   \n",
       "2        9273225        12            1    33000007401079   \n",
       "\n",
       "                nombre_credito    telefono tipo_telefono       fecha_gestion  \\\n",
       "0      SANDIBEL GARCIA ARRIOLA  2296053728       celular 2020-12-04 12:32:42   \n",
       "1   JACOBO FRANCISCO GUTIERREZ  7121544717       celular 2020-12-04 12:11:14   \n",
       "2  JOSE ANTONIO TORRES GODINEZ  5513315629       celular 2020-12-04 12:01:24   \n",
       "\n",
       "       usuario        nombre_usuario dictamen             accion  \\\n",
       "0   BUSTOSLUMA  MANUEL BUSTOS LUCERO  PROMESA  LLAMADA A TITULAR   \n",
       "1     CRUZSAXI   CRUZ SALAZAR XIMENA  PROMESA  ENTRADA WHATS APP   \n",
       "2  TONARVAEZMA  TORRES NARVAEZ MAYTE  PROMESA  LLAMADA A TITULAR   \n",
       "\n",
       "                     resultado fecha_promesa  monto_promesa  \\\n",
       "0  PROMESA DE PAGO LIQUIDACION    2020-12-08         4935.0   \n",
       "1  PROMESA DE PAGO LIQUIDACION    2020-12-15         1126.0   \n",
       "2  PROMESA DE PAGO LIQUIDACION    2020-12-30         1883.0   \n",
       "\n",
       "                                         comentarios estado            rfc  \\\n",
       "0  2296053728//  TT REALIZARA SU SIGUENTE PAGO EL...    VER  GAAS870930EG2   \n",
       "1  7121544717// tt hace pp para liquidar con $1,1...    MEX  FAGJ840807PR6   \n",
       "2  5513315629  TT REALIZARA PAGO LIQUIDACION EL D...    MEX  TOGA690613883   \n",
       "\n",
       "  division  \n",
       "0     REM4  \n",
       "1     SB02  \n",
       "2     REM2  "
      ],
      "text/html": "<div>\n<style scoped>\n    .dataframe tbody tr th:only-of-type {\n        vertical-align: middle;\n    }\n\n    .dataframe tbody tr th {\n        vertical-align: top;\n    }\n\n    .dataframe thead th {\n        text-align: right;\n    }\n</style>\n<table border=\"1\" class=\"dataframe\">\n  <thead>\n    <tr style=\"text-align: right;\">\n      <th></th>\n      <th>folio_gestion</th>\n      <th>firma_id</th>\n      <th>unegocio_id</th>\n      <th>credito</th>\n      <th>nombre_credito</th>\n      <th>telefono</th>\n      <th>tipo_telefono</th>\n      <th>fecha_gestion</th>\n      <th>usuario</th>\n      <th>nombre_usuario</th>\n      <th>dictamen</th>\n      <th>accion</th>\n      <th>resultado</th>\n      <th>fecha_promesa</th>\n      <th>monto_promesa</th>\n      <th>comentarios</th>\n      <th>estado</th>\n      <th>rfc</th>\n      <th>division</th>\n    </tr>\n  </thead>\n  <tbody>\n    <tr>\n      <th>0</th>\n      <td>9273958</td>\n      <td>12</td>\n      <td>5</td>\n      <td>13000013194803</td>\n      <td>SANDIBEL GARCIA ARRIOLA</td>\n      <td>2296053728</td>\n      <td>celular</td>\n      <td>2020-12-04 12:32:42</td>\n      <td>BUSTOSLUMA</td>\n      <td>MANUEL BUSTOS LUCERO</td>\n      <td>PROMESA</td>\n      <td>LLAMADA A TITULAR</td>\n      <td>PROMESA DE PAGO LIQUIDACION</td>\n      <td>2020-12-08</td>\n      <td>4935.0</td>\n      <td>2296053728//  TT REALIZARA SU SIGUENTE PAGO EL...</td>\n      <td>VER</td>\n      <td>GAAS870930EG2</td>\n      <td>REM4</td>\n    </tr>\n    <tr>\n      <th>1</th>\n      <td>9273488</td>\n      <td>12</td>\n      <td>2</td>\n      <td>1400000006734838</td>\n      <td>JACOBO FRANCISCO GUTIERREZ</td>\n      <td>7121544717</td>\n      <td>celular</td>\n      <td>2020-12-04 12:11:14</td>\n      <td>CRUZSAXI</td>\n      <td>CRUZ SALAZAR XIMENA</td>\n      <td>PROMESA</td>\n      <td>ENTRADA WHATS APP</td>\n      <td>PROMESA DE PAGO LIQUIDACION</td>\n      <td>2020-12-15</td>\n      <td>1126.0</td>\n      <td>7121544717// tt hace pp para liquidar con $1,1...</td>\n      <td>MEX</td>\n      <td>FAGJ840807PR6</td>\n      <td>SB02</td>\n    </tr>\n    <tr>\n      <th>2</th>\n      <td>9273225</td>\n      <td>12</td>\n      <td>1</td>\n      <td>33000007401079</td>\n      <td>JOSE ANTONIO TORRES GODINEZ</td>\n      <td>5513315629</td>\n      <td>celular</td>\n      <td>2020-12-04 12:01:24</td>\n      <td>TONARVAEZMA</td>\n      <td>TORRES NARVAEZ MAYTE</td>\n      <td>PROMESA</td>\n      <td>LLAMADA A TITULAR</td>\n      <td>PROMESA DE PAGO LIQUIDACION</td>\n      <td>2020-12-30</td>\n      <td>1883.0</td>\n      <td>5513315629  TT REALIZARA PAGO LIQUIDACION EL D...</td>\n      <td>MEX</td>\n      <td>TOGA690613883</td>\n      <td>REM2</td>\n    </tr>\n  </tbody>\n</table>\n</div>"
     },
     "metadata": {},
     "execution_count": 8
    }
   ],
   "source": [
    "#Hacemos el consolidado \n",
    "consolidado_liv = pd.merge(gestion_liv,asignacion_liv,how='left',on=['firma_id','unegocio_id','credito'])\n",
    "cols = ['monto_promesa','credito']\n",
    "consolidado_liv[cols] = consolidado_liv[cols].apply(pd.to_numeric, errors='coerce')\n",
    "consolidado_liv = consolidado_liv[(consolidado_liv['monto_promesa']>50)]\n",
    "consolidado_liv = consolidado_liv[(consolidado_liv['monto_promesa']<500000)]\n",
    "consolidado_liv.fillna('COBRANZA',inplace=True)\n",
    "consolidado_liv.head(3)"
   ]
  },
  {
   "cell_type": "code",
   "execution_count": 9,
   "metadata": {},
   "outputs": [
    {
     "output_type": "execute_result",
     "data": {
      "text/plain": [
       "  Division  NumeroPromesas  SumaPromesas\n",
       "0     REM2               1        1883.0\n",
       "1     REM4               1        4935.0\n",
       "2     REM9               1         500.0\n",
       "3     SB02               4        7348.0\n",
       "4     pren               1        7000.0\n",
       "5      All               8       21666.0"
      ],
      "text/html": "<div>\n<style scoped>\n    .dataframe tbody tr th:only-of-type {\n        vertical-align: middle;\n    }\n\n    .dataframe tbody tr th {\n        vertical-align: top;\n    }\n\n    .dataframe thead th {\n        text-align: right;\n    }\n</style>\n<table border=\"1\" class=\"dataframe\">\n  <thead>\n    <tr style=\"text-align: right;\">\n      <th></th>\n      <th>Division</th>\n      <th>NumeroPromesas</th>\n      <th>SumaPromesas</th>\n    </tr>\n  </thead>\n  <tbody>\n    <tr>\n      <th>0</th>\n      <td>REM2</td>\n      <td>1</td>\n      <td>1883.0</td>\n    </tr>\n    <tr>\n      <th>1</th>\n      <td>REM4</td>\n      <td>1</td>\n      <td>4935.0</td>\n    </tr>\n    <tr>\n      <th>2</th>\n      <td>REM9</td>\n      <td>1</td>\n      <td>500.0</td>\n    </tr>\n    <tr>\n      <th>3</th>\n      <td>SB02</td>\n      <td>4</td>\n      <td>7348.0</td>\n    </tr>\n    <tr>\n      <th>4</th>\n      <td>pren</td>\n      <td>1</td>\n      <td>7000.0</td>\n    </tr>\n    <tr>\n      <th>5</th>\n      <td>All</td>\n      <td>8</td>\n      <td>21666.0</td>\n    </tr>\n  </tbody>\n</table>\n</div>"
     },
     "metadata": {},
     "execution_count": 9
    }
   ],
   "source": [
    "#Obtenemos datos de las promesas de Liverpool\n",
    "pivot_liv = pd.pivot_table(consolidado_liv,index=['division'],values=['credito','monto_promesa'],aggfunc=['count',np.sum],margins=True)\n",
    "pivot_liv = pd.DataFrame(pivot_liv.to_records())\n",
    "pivot_liv = pivot_liv.iloc[:,[0,1,4]]\n",
    "pivot_liv.columns = ['Division','NumeroPromesas','SumaPromesas']\n",
    "pivot_liv.fillna(0,inplace=True)\n",
    "#pivot_liv[['NumeroPromesas','PromedioPromesa','SumaPromesas']] = pivot_liv[['NumeroPromesas','PromedioPromesa','SumaPromesas']].applymap(\"{0:.2f}\".format)\n",
    "pivot_liv"
   ]
  },
  {
   "cell_type": "code",
   "execution_count": 10,
   "metadata": {},
   "outputs": [
    {
     "output_type": "execute_result",
     "data": {
      "text/plain": [
       "  Dictamen  NumeroPromesas  SumaPromesas\n",
       "0     REM2               1        1883.0\n",
       "1     REM4               1        4935.0\n",
       "2     REM9               1         500.0\n",
       "3     SB02               4        7348.0\n",
       "4     pren               1        7000.0\n",
       "5      All               8       21666.0"
      ],
      "text/html": "<div>\n<style scoped>\n    .dataframe tbody tr th:only-of-type {\n        vertical-align: middle;\n    }\n\n    .dataframe tbody tr th {\n        vertical-align: top;\n    }\n\n    .dataframe thead th {\n        text-align: right;\n    }\n</style>\n<table border=\"1\" class=\"dataframe\">\n  <thead>\n    <tr style=\"text-align: right;\">\n      <th></th>\n      <th>Dictamen</th>\n      <th>NumeroPromesas</th>\n      <th>SumaPromesas</th>\n    </tr>\n  </thead>\n  <tbody>\n    <tr>\n      <th>0</th>\n      <td>REM2</td>\n      <td>1</td>\n      <td>1883.0</td>\n    </tr>\n    <tr>\n      <th>1</th>\n      <td>REM4</td>\n      <td>1</td>\n      <td>4935.0</td>\n    </tr>\n    <tr>\n      <th>2</th>\n      <td>REM9</td>\n      <td>1</td>\n      <td>500.0</td>\n    </tr>\n    <tr>\n      <th>3</th>\n      <td>SB02</td>\n      <td>4</td>\n      <td>7348.0</td>\n    </tr>\n    <tr>\n      <th>4</th>\n      <td>pren</td>\n      <td>1</td>\n      <td>7000.0</td>\n    </tr>\n    <tr>\n      <th>5</th>\n      <td>All</td>\n      <td>8</td>\n      <td>21666.0</td>\n    </tr>\n  </tbody>\n</table>\n</div>"
     },
     "metadata": {},
     "execution_count": 10
    }
   ],
   "source": [
    "#Vemos las promesas reales eliminando duplicados\n",
    "consolidado_liv2 = consolidado_liv.drop_duplicates(subset=['credito','fecha_promesa','monto_promesa'])\n",
    "pivot_liv2 = pd.pivot_table(consolidado_liv2,index=['division'],values=['credito','monto_promesa'],aggfunc=['count',np.sum],margins=True)\n",
    "pivot_liv2 = pd.DataFrame(pivot_liv2.to_records())\n",
    "pivot_liv2 = pivot_liv2.iloc[:,[0,1,4]]\n",
    "pivot_liv2.columns = ['Dictamen','NumeroPromesas','SumaPromesas']\n",
    "pivot_liv2.fillna(0,inplace=True)\n",
    "#pivot_liv2[['NumeroPromesas','PromedioPromesa','SumaPromesas']] = pivot_gestion_liv2[['NumeroPromesas','PromedioPromesa','SumaPromesas']].applymap(\"{0:.2f}\".format)\n",
    "pivot_liv2"
   ]
  },
  {
   "source": [
    "# Bradesco"
   ],
   "cell_type": "markdown",
   "metadata": {}
  },
  {
   "cell_type": "code",
   "execution_count": 11,
   "metadata": {},
   "outputs": [
    {
     "output_type": "execute_result",
     "data": {
      "text/plain": [
       "     folio_gestion  firma_id  unegocio_id           credito  \\\n",
       "92         9275748         1            3  5063690389458010   \n",
       "282        9275381         1            3  4812830085852010   \n",
       "294        9275319         1            4  4812840717921018   \n",
       "\n",
       "                    nombre_credito    telefono tipo_telefono  \\\n",
       "92   ARRIAGA ESPINOZA  FLOR YANETT  5517520704       celular   \n",
       "282      MEX EUAN  PILAR DEL ROCIO  9994961529       celular   \n",
       "294            ROJAS GOMEZ  SILVIA  7227926269       celular   \n",
       "\n",
       "          fecha_gestion      usuario             nombre_usuario dictamen  \\\n",
       "92  2020-12-04 13:39:47   GACHAVEZBR       GARCIA CHAVEZ BRAYAN  PROMESA   \n",
       "282 2020-12-04 13:22:25  LOPEZESMAIG  LOPEZ ESTRADA MA. IGNACIA  PROMESA   \n",
       "294 2020-12-04 13:21:32   GARCIARUAL         GARCIA RUIZ ALEXIS  PROMESA   \n",
       "\n",
       "                accion                resultado  \\\n",
       "92   LLAMADA A TITULAR  PROMESA DE PAGO PARCIAL   \n",
       "282  LLAMADA A TITULAR  PROMESA DE PAGO PARCIAL   \n",
       "294        ENTRADA SMS  PROMESA DE PAGO PARCIAL   \n",
       "\n",
       "                              accion_resultado fecha_promesa monto_promesa  \\\n",
       "92   LLAMADA A TITULAR-PROMESA DE PAGO PARCIAL    2020-12-07        300.00   \n",
       "282  LLAMADA A TITULAR-PROMESA DE PAGO PARCIAL    2020-12-05        500.00   \n",
       "294        ENTRADA SMS-PROMESA DE PAGO PARCIAL    2020-12-05        500.00   \n",
       "\n",
       "                                           comentarios  \n",
       "92   5517520704  TT REALIZA PAGO POR $300 EL DIA 07...  \n",
       "282  0459994961529 TT HACE PROMESA DE PAGO PARCIAL ...  \n",
       "294  7227926269 TT MENCIONA QUE NO PUEDE LIQUIDAR E...  "
      ],
      "text/html": "<div>\n<style scoped>\n    .dataframe tbody tr th:only-of-type {\n        vertical-align: middle;\n    }\n\n    .dataframe tbody tr th {\n        vertical-align: top;\n    }\n\n    .dataframe thead th {\n        text-align: right;\n    }\n</style>\n<table border=\"1\" class=\"dataframe\">\n  <thead>\n    <tr style=\"text-align: right;\">\n      <th></th>\n      <th>folio_gestion</th>\n      <th>firma_id</th>\n      <th>unegocio_id</th>\n      <th>credito</th>\n      <th>nombre_credito</th>\n      <th>telefono</th>\n      <th>tipo_telefono</th>\n      <th>fecha_gestion</th>\n      <th>usuario</th>\n      <th>nombre_usuario</th>\n      <th>dictamen</th>\n      <th>accion</th>\n      <th>resultado</th>\n      <th>accion_resultado</th>\n      <th>fecha_promesa</th>\n      <th>monto_promesa</th>\n      <th>comentarios</th>\n    </tr>\n  </thead>\n  <tbody>\n    <tr>\n      <th>92</th>\n      <td>9275748</td>\n      <td>1</td>\n      <td>3</td>\n      <td>5063690389458010</td>\n      <td>ARRIAGA ESPINOZA  FLOR YANETT</td>\n      <td>5517520704</td>\n      <td>celular</td>\n      <td>2020-12-04 13:39:47</td>\n      <td>GACHAVEZBR</td>\n      <td>GARCIA CHAVEZ BRAYAN</td>\n      <td>PROMESA</td>\n      <td>LLAMADA A TITULAR</td>\n      <td>PROMESA DE PAGO PARCIAL</td>\n      <td>LLAMADA A TITULAR-PROMESA DE PAGO PARCIAL</td>\n      <td>2020-12-07</td>\n      <td>300.00</td>\n      <td>5517520704  TT REALIZA PAGO POR $300 EL DIA 07...</td>\n    </tr>\n    <tr>\n      <th>282</th>\n      <td>9275381</td>\n      <td>1</td>\n      <td>3</td>\n      <td>4812830085852010</td>\n      <td>MEX EUAN  PILAR DEL ROCIO</td>\n      <td>9994961529</td>\n      <td>celular</td>\n      <td>2020-12-04 13:22:25</td>\n      <td>LOPEZESMAIG</td>\n      <td>LOPEZ ESTRADA MA. IGNACIA</td>\n      <td>PROMESA</td>\n      <td>LLAMADA A TITULAR</td>\n      <td>PROMESA DE PAGO PARCIAL</td>\n      <td>LLAMADA A TITULAR-PROMESA DE PAGO PARCIAL</td>\n      <td>2020-12-05</td>\n      <td>500.00</td>\n      <td>0459994961529 TT HACE PROMESA DE PAGO PARCIAL ...</td>\n    </tr>\n    <tr>\n      <th>294</th>\n      <td>9275319</td>\n      <td>1</td>\n      <td>4</td>\n      <td>4812840717921018</td>\n      <td>ROJAS GOMEZ  SILVIA</td>\n      <td>7227926269</td>\n      <td>celular</td>\n      <td>2020-12-04 13:21:32</td>\n      <td>GARCIARUAL</td>\n      <td>GARCIA RUIZ ALEXIS</td>\n      <td>PROMESA</td>\n      <td>ENTRADA SMS</td>\n      <td>PROMESA DE PAGO PARCIAL</td>\n      <td>ENTRADA SMS-PROMESA DE PAGO PARCIAL</td>\n      <td>2020-12-05</td>\n      <td>500.00</td>\n      <td>7227926269 TT MENCIONA QUE NO PUEDE LIQUIDAR E...</td>\n    </tr>\n  </tbody>\n</table>\n</div>"
     },
     "metadata": {},
     "execution_count": 11
    }
   ],
   "source": [
    "#Hacemos la consulta referente a las gestiones de Bradesco\n",
    "sql_gest_brad = cursor.callproc('bradescard_rpt_gestiones_detallado', [today,today])\n",
    "for result in cursor.stored_results():\n",
    "    gestion_brad = pd.DataFrame(result.fetchall())\n",
    "gestion_brad.columns = ['folio_gestion','firma_id','unegocio_id','credito','nombre_credito','telefono','tipo_telefono','fecha_gestion','usuario','nombre_usuario','dictamen','accion','resultado','accion_resultado','fecha_promesa','monto_promesa','comentarios']\n",
    "gestion_brad = gestion_brad.loc[gestion_brad['dictamen']=='PROMESA']\n",
    "gestion_brad['credito'] = pd.to_numeric(gestion_brad['credito'])\n",
    "gestion_brad.head(3)"
   ]
  },
  {
   "cell_type": "code",
   "execution_count": 12,
   "metadata": {},
   "outputs": [],
   "source": [
    "#Convertimos a numero las columnas que necesitemos\n",
    "gestion_brad[cols] = gestion_brad[cols].apply(pd.to_numeric, errors='coerce')"
   ]
  },
  {
   "cell_type": "code",
   "execution_count": 13,
   "metadata": {},
   "outputs": [
    {
     "output_type": "execute_result",
     "data": {
      "text/plain": [
       "   firma_id  unegocio_id           credito    estado              rfc division\n",
       "0         1            3  2869000138080177   YUCATAN  JURM8405047J801   C0 5PV\n",
       "1         1            3  2869000240445953  VERACRUZ  TOHI650826EZ601   C0 4PV\n",
       "2         1            3  2869000320452929    PUEBLA  HERL821006J1401   C0 4PV"
      ],
      "text/html": "<div>\n<style scoped>\n    .dataframe tbody tr th:only-of-type {\n        vertical-align: middle;\n    }\n\n    .dataframe tbody tr th {\n        vertical-align: top;\n    }\n\n    .dataframe thead th {\n        text-align: right;\n    }\n</style>\n<table border=\"1\" class=\"dataframe\">\n  <thead>\n    <tr style=\"text-align: right;\">\n      <th></th>\n      <th>firma_id</th>\n      <th>unegocio_id</th>\n      <th>credito</th>\n      <th>estado</th>\n      <th>rfc</th>\n      <th>division</th>\n    </tr>\n  </thead>\n  <tbody>\n    <tr>\n      <th>0</th>\n      <td>1</td>\n      <td>3</td>\n      <td>2869000138080177</td>\n      <td>YUCATAN</td>\n      <td>JURM8405047J801</td>\n      <td>C0 5PV</td>\n    </tr>\n    <tr>\n      <th>1</th>\n      <td>1</td>\n      <td>3</td>\n      <td>2869000240445953</td>\n      <td>VERACRUZ</td>\n      <td>TOHI650826EZ601</td>\n      <td>C0 4PV</td>\n    </tr>\n    <tr>\n      <th>2</th>\n      <td>1</td>\n      <td>3</td>\n      <td>2869000320452929</td>\n      <td>PUEBLA</td>\n      <td>HERL821006J1401</td>\n      <td>C0 4PV</td>\n    </tr>\n  </tbody>\n</table>\n</div>"
     },
     "metadata": {},
     "execution_count": 13
    }
   ],
   "source": [
    "#Hacemos la consulta de la asignacion\n",
    "sql_asig_brad = cursor.callproc('bradescard_rpt_asignacion_activa',)\n",
    "for result in cursor.stored_results():\n",
    "    asignacion_brad = pd.DataFrame(result.fetchall())\n",
    "asignacion_brad = asignacion_brad.iloc[:,[0,1,3,24,6,26]]\n",
    "asignacion_brad.columns = ['firma_id','unegocio_id','credito','estado','rfc','division']\n",
    "asignacion_brad['credito'] = pd.to_numeric(asignacion_brad['credito'])\n",
    "asignacion_brad.head(3)"
   ]
  },
  {
   "cell_type": "code",
   "execution_count": 14,
   "metadata": {},
   "outputs": [
    {
     "output_type": "execute_result",
     "data": {
      "text/plain": [
       "   folio_gestion  firma_id  unegocio_id           credito  \\\n",
       "0        9275748         1            3  5063690389458010   \n",
       "1        9275381         1            3  4812830085852010   \n",
       "2        9275319         1            4  4812840717921018   \n",
       "\n",
       "                  nombre_credito    telefono tipo_telefono  \\\n",
       "0  ARRIAGA ESPINOZA  FLOR YANETT  5517520704       celular   \n",
       "1      MEX EUAN  PILAR DEL ROCIO  9994961529       celular   \n",
       "2            ROJAS GOMEZ  SILVIA  7227926269       celular   \n",
       "\n",
       "        fecha_gestion      usuario             nombre_usuario dictamen  \\\n",
       "0 2020-12-04 13:39:47   GACHAVEZBR       GARCIA CHAVEZ BRAYAN  PROMESA   \n",
       "1 2020-12-04 13:22:25  LOPEZESMAIG  LOPEZ ESTRADA MA. IGNACIA  PROMESA   \n",
       "2 2020-12-04 13:21:32   GARCIARUAL         GARCIA RUIZ ALEXIS  PROMESA   \n",
       "\n",
       "              accion                resultado  \\\n",
       "0  LLAMADA A TITULAR  PROMESA DE PAGO PARCIAL   \n",
       "1  LLAMADA A TITULAR  PROMESA DE PAGO PARCIAL   \n",
       "2        ENTRADA SMS  PROMESA DE PAGO PARCIAL   \n",
       "\n",
       "                            accion_resultado fecha_promesa  monto_promesa  \\\n",
       "0  LLAMADA A TITULAR-PROMESA DE PAGO PARCIAL    2020-12-07          300.0   \n",
       "1  LLAMADA A TITULAR-PROMESA DE PAGO PARCIAL    2020-12-05          500.0   \n",
       "2        ENTRADA SMS-PROMESA DE PAGO PARCIAL    2020-12-05          500.0   \n",
       "\n",
       "                                         comentarios             estado  \\\n",
       "0  5517520704  TT REALIZA PAGO POR $300 EL DIA 07...  CIUDAD DE MÃXICO   \n",
       "1  0459994961529 TT HACE PROMESA DE PAGO PARCIAL ...            YUCATAN   \n",
       "2  7227926269 TT MENCIONA QUE NO PUEDE LIQUIDAR E...            MÃXICO   \n",
       "\n",
       "               rfc division  \n",
       "0  AIEF800819AUA01   C0 5PV  \n",
       "1  MEEP850708PY801   C0 6PV  \n",
       "2  ROGS6612238K501       C1  "
      ],
      "text/html": "<div>\n<style scoped>\n    .dataframe tbody tr th:only-of-type {\n        vertical-align: middle;\n    }\n\n    .dataframe tbody tr th {\n        vertical-align: top;\n    }\n\n    .dataframe thead th {\n        text-align: right;\n    }\n</style>\n<table border=\"1\" class=\"dataframe\">\n  <thead>\n    <tr style=\"text-align: right;\">\n      <th></th>\n      <th>folio_gestion</th>\n      <th>firma_id</th>\n      <th>unegocio_id</th>\n      <th>credito</th>\n      <th>nombre_credito</th>\n      <th>telefono</th>\n      <th>tipo_telefono</th>\n      <th>fecha_gestion</th>\n      <th>usuario</th>\n      <th>nombre_usuario</th>\n      <th>dictamen</th>\n      <th>accion</th>\n      <th>resultado</th>\n      <th>accion_resultado</th>\n      <th>fecha_promesa</th>\n      <th>monto_promesa</th>\n      <th>comentarios</th>\n      <th>estado</th>\n      <th>rfc</th>\n      <th>division</th>\n    </tr>\n  </thead>\n  <tbody>\n    <tr>\n      <th>0</th>\n      <td>9275748</td>\n      <td>1</td>\n      <td>3</td>\n      <td>5063690389458010</td>\n      <td>ARRIAGA ESPINOZA  FLOR YANETT</td>\n      <td>5517520704</td>\n      <td>celular</td>\n      <td>2020-12-04 13:39:47</td>\n      <td>GACHAVEZBR</td>\n      <td>GARCIA CHAVEZ BRAYAN</td>\n      <td>PROMESA</td>\n      <td>LLAMADA A TITULAR</td>\n      <td>PROMESA DE PAGO PARCIAL</td>\n      <td>LLAMADA A TITULAR-PROMESA DE PAGO PARCIAL</td>\n      <td>2020-12-07</td>\n      <td>300.0</td>\n      <td>5517520704  TT REALIZA PAGO POR $300 EL DIA 07...</td>\n      <td>CIUDAD DE MÃXICO</td>\n      <td>AIEF800819AUA01</td>\n      <td>C0 5PV</td>\n    </tr>\n    <tr>\n      <th>1</th>\n      <td>9275381</td>\n      <td>1</td>\n      <td>3</td>\n      <td>4812830085852010</td>\n      <td>MEX EUAN  PILAR DEL ROCIO</td>\n      <td>9994961529</td>\n      <td>celular</td>\n      <td>2020-12-04 13:22:25</td>\n      <td>LOPEZESMAIG</td>\n      <td>LOPEZ ESTRADA MA. IGNACIA</td>\n      <td>PROMESA</td>\n      <td>LLAMADA A TITULAR</td>\n      <td>PROMESA DE PAGO PARCIAL</td>\n      <td>LLAMADA A TITULAR-PROMESA DE PAGO PARCIAL</td>\n      <td>2020-12-05</td>\n      <td>500.0</td>\n      <td>0459994961529 TT HACE PROMESA DE PAGO PARCIAL ...</td>\n      <td>YUCATAN</td>\n      <td>MEEP850708PY801</td>\n      <td>C0 6PV</td>\n    </tr>\n    <tr>\n      <th>2</th>\n      <td>9275319</td>\n      <td>1</td>\n      <td>4</td>\n      <td>4812840717921018</td>\n      <td>ROJAS GOMEZ  SILVIA</td>\n      <td>7227926269</td>\n      <td>celular</td>\n      <td>2020-12-04 13:21:32</td>\n      <td>GARCIARUAL</td>\n      <td>GARCIA RUIZ ALEXIS</td>\n      <td>PROMESA</td>\n      <td>ENTRADA SMS</td>\n      <td>PROMESA DE PAGO PARCIAL</td>\n      <td>ENTRADA SMS-PROMESA DE PAGO PARCIAL</td>\n      <td>2020-12-05</td>\n      <td>500.0</td>\n      <td>7227926269 TT MENCIONA QUE NO PUEDE LIQUIDAR E...</td>\n      <td>MÃXICO</td>\n      <td>ROGS6612238K501</td>\n      <td>C1</td>\n    </tr>\n  </tbody>\n</table>\n</div>"
     },
     "metadata": {},
     "execution_count": 14
    }
   ],
   "source": [
    "#Hacemos la union de asignacion y promesas\n",
    "consolidado_brad = pd.merge(gestion_brad,asignacion_brad,how='left',on=['firma_id','unegocio_id','credito'])\n",
    "cols = ['monto_promesa','credito']\n",
    "consolidado_brad[cols] = consolidado_brad[cols].apply(pd.to_numeric, errors='coerce')\n",
    "consolidado_brad = consolidado_brad[(consolidado_brad['monto_promesa']>50)]\n",
    "consolidado_brad = consolidado_brad[(consolidado_brad['monto_promesa']<500000)]\n",
    "consolidado_brad.fillna('COBRANZA',inplace=True)\n",
    "consolidado_brad.head(3)"
   ]
  },
  {
   "cell_type": "code",
   "execution_count": 15,
   "metadata": {},
   "outputs": [
    {
     "output_type": "execute_result",
     "data": {
      "text/plain": [
       "  Division  NumeroPromesas  SumaPromesas\n",
       "0   C0 4PV              16       30684.0\n",
       "1   C0 5PV              11       10791.0\n",
       "2   C0 6PV               7       12367.0\n",
       "3       C1              14       20476.0\n",
       "4       C2               4        5445.0\n",
       "5       C3               5        5100.0\n",
       "6       C4               1        1440.0\n",
       "7      All              58       86303.0"
      ],
      "text/html": "<div>\n<style scoped>\n    .dataframe tbody tr th:only-of-type {\n        vertical-align: middle;\n    }\n\n    .dataframe tbody tr th {\n        vertical-align: top;\n    }\n\n    .dataframe thead th {\n        text-align: right;\n    }\n</style>\n<table border=\"1\" class=\"dataframe\">\n  <thead>\n    <tr style=\"text-align: right;\">\n      <th></th>\n      <th>Division</th>\n      <th>NumeroPromesas</th>\n      <th>SumaPromesas</th>\n    </tr>\n  </thead>\n  <tbody>\n    <tr>\n      <th>0</th>\n      <td>C0 4PV</td>\n      <td>16</td>\n      <td>30684.0</td>\n    </tr>\n    <tr>\n      <th>1</th>\n      <td>C0 5PV</td>\n      <td>11</td>\n      <td>10791.0</td>\n    </tr>\n    <tr>\n      <th>2</th>\n      <td>C0 6PV</td>\n      <td>7</td>\n      <td>12367.0</td>\n    </tr>\n    <tr>\n      <th>3</th>\n      <td>C1</td>\n      <td>14</td>\n      <td>20476.0</td>\n    </tr>\n    <tr>\n      <th>4</th>\n      <td>C2</td>\n      <td>4</td>\n      <td>5445.0</td>\n    </tr>\n    <tr>\n      <th>5</th>\n      <td>C3</td>\n      <td>5</td>\n      <td>5100.0</td>\n    </tr>\n    <tr>\n      <th>6</th>\n      <td>C4</td>\n      <td>1</td>\n      <td>1440.0</td>\n    </tr>\n    <tr>\n      <th>7</th>\n      <td>All</td>\n      <td>58</td>\n      <td>86303.0</td>\n    </tr>\n  </tbody>\n</table>\n</div>"
     },
     "metadata": {},
     "execution_count": 15
    }
   ],
   "source": [
    "#Obtenemos datos de las promesas de Bradesco\n",
    "pivot_brad = pd.pivot_table(consolidado_brad,index=['division'],values=['credito','monto_promesa'],aggfunc=['count',np.sum],margins=True)\n",
    "pivot_brad = pd.DataFrame(pivot_brad.to_records())\n",
    "pivot_brad = pivot_brad.iloc[:,[0,1,4]]\n",
    "pivot_brad.columns = ['Division','NumeroPromesas','SumaPromesas']\n",
    "pivot_brad.fillna(0,inplace=True)\n",
    "#pivot_brad[['NumeroPromesas','PromedioPromesa','SumaPromesas']] = pivot_gestion_brad[['NumeroPromesas','PromedioPromesa','SumaPromesas']].applymap(\"{0:.2f}\".format)\n",
    "pivot_brad"
   ]
  },
  {
   "cell_type": "code",
   "execution_count": 16,
   "metadata": {},
   "outputs": [
    {
     "output_type": "execute_result",
     "data": {
      "text/plain": [
       "  Division  NumeroPromesas  SumaPromesas\n",
       "0   C0 4PV              16       30684.0\n",
       "1   C0 5PV              11       10791.0\n",
       "2   C0 6PV               7       12367.0\n",
       "3       C1              14       20476.0\n",
       "4       C2               4        5445.0\n",
       "5       C3               5        5100.0\n",
       "6       C4               1        1440.0\n",
       "7      All              58       86303.0"
      ],
      "text/html": "<div>\n<style scoped>\n    .dataframe tbody tr th:only-of-type {\n        vertical-align: middle;\n    }\n\n    .dataframe tbody tr th {\n        vertical-align: top;\n    }\n\n    .dataframe thead th {\n        text-align: right;\n    }\n</style>\n<table border=\"1\" class=\"dataframe\">\n  <thead>\n    <tr style=\"text-align: right;\">\n      <th></th>\n      <th>Division</th>\n      <th>NumeroPromesas</th>\n      <th>SumaPromesas</th>\n    </tr>\n  </thead>\n  <tbody>\n    <tr>\n      <th>0</th>\n      <td>C0 4PV</td>\n      <td>16</td>\n      <td>30684.0</td>\n    </tr>\n    <tr>\n      <th>1</th>\n      <td>C0 5PV</td>\n      <td>11</td>\n      <td>10791.0</td>\n    </tr>\n    <tr>\n      <th>2</th>\n      <td>C0 6PV</td>\n      <td>7</td>\n      <td>12367.0</td>\n    </tr>\n    <tr>\n      <th>3</th>\n      <td>C1</td>\n      <td>14</td>\n      <td>20476.0</td>\n    </tr>\n    <tr>\n      <th>4</th>\n      <td>C2</td>\n      <td>4</td>\n      <td>5445.0</td>\n    </tr>\n    <tr>\n      <th>5</th>\n      <td>C3</td>\n      <td>5</td>\n      <td>5100.0</td>\n    </tr>\n    <tr>\n      <th>6</th>\n      <td>C4</td>\n      <td>1</td>\n      <td>1440.0</td>\n    </tr>\n    <tr>\n      <th>7</th>\n      <td>All</td>\n      <td>58</td>\n      <td>86303.0</td>\n    </tr>\n  </tbody>\n</table>\n</div>"
     },
     "metadata": {},
     "execution_count": 16
    }
   ],
   "source": [
    "#Vemos las promesas reales eliminando duplicados\n",
    "consolidado_brad2 = consolidado_brad.drop_duplicates(subset=['credito','fecha_promesa','monto_promesa'])\n",
    "pivot_brad2 = pd.pivot_table(consolidado_brad2,index=['division'],values=['credito','monto_promesa'],aggfunc=['count',np.sum],margins=True)\n",
    "pivot_brad2 = pd.DataFrame(pivot_brad2.to_records())\n",
    "pivot_brad2 = pivot_brad2.iloc[:,[0,1,4]]\n",
    "pivot_brad2.columns = ['Division','NumeroPromesas','SumaPromesas']\n",
    "pivot_brad2.fillna(0,inplace=True)\n",
    "#pivot_brad2[['NumeroPromesas','PromedioPromesa','SumaPromesas']] = pivot_gestion_brad2[['NumeroPromesas','PromedioPromesa','SumaPromesas']].applymap(\"{0:.2f}\".format)\n",
    "pivot_brad2"
   ]
  },
  {
   "source": [
    "# Credifiel"
   ],
   "cell_type": "markdown",
   "metadata": {}
  },
  {
   "cell_type": "code",
   "execution_count": 17,
   "metadata": {},
   "outputs": [
    {
     "output_type": "execute_result",
     "data": {
      "text/plain": [
       "     folio_gestion  unegocio_id fecha_gestion hora_gestion    credito  \\\n",
       "10         9267070            1    2020-12-04     07:25:56  CR-474771   \n",
       "189        9271902            1    2020-12-04     10:34:28  CR-437255   \n",
       "366        9275731            1    2020-12-04     13:38:02  CR-485694   \n",
       "\n",
       "                   nombre_credito    telefono        usuario  \\\n",
       "10         GERALDO VERDUGO ARTURO  6121471521   GONMORALESBM   \n",
       "189      RASCON TRUJILLO NORMANDO  6623514659  HERNANDEZGARO   \n",
       "366  PEREZ FLORES SANDRA BERENICE  8994224084      ZARZANOJA   \n",
       "\n",
       "                     nombre_usuario             accion  \\\n",
       "10   GONZALEZ MORALES BRENDA MARLEN  LLAMADA A TITULAR   \n",
       "189       HERNANDEZ GALINDO RODRIGO  LLAMADA A TITULAR   \n",
       "366      ZARZA NORIA JEFREY ALBERTO  LLAMADA A TITULAR   \n",
       "\n",
       "                   resultado fecha_promesa  monto_promesa  \\\n",
       "10   PROMESA DE PAGO PARCIAL    2020-12-17        3823.72   \n",
       "189  PROMESA DE PAGO PARCIAL    2020-12-05        1000.00   \n",
       "366  PROMESA DE PAGO PARCIAL    2020-12-15        2833.00   \n",
       "\n",
       "                                           comentarios accion_credifiel  \\\n",
       "10   6121471521 TT REALIZARA PAGO 4 17/12 $3,823.72...              PDP   \n",
       "189  6623514659 TT DARA PRIMER PAGO POR 1000 EL DIA...              PDP   \n",
       "366  8994224084 TT REALIZARA PAGO 3 $2,833.00 15/12...              PDP   \n",
       "\n",
       "    resultado_credifiel  dictamen  \n",
       "10      Promesa de Pago  CONTACTO  \n",
       "189     Promesa de Pago  CONTACTO  \n",
       "366     Promesa de Pago  CONTACTO  "
      ],
      "text/html": "<div>\n<style scoped>\n    .dataframe tbody tr th:only-of-type {\n        vertical-align: middle;\n    }\n\n    .dataframe tbody tr th {\n        vertical-align: top;\n    }\n\n    .dataframe thead th {\n        text-align: right;\n    }\n</style>\n<table border=\"1\" class=\"dataframe\">\n  <thead>\n    <tr style=\"text-align: right;\">\n      <th></th>\n      <th>folio_gestion</th>\n      <th>unegocio_id</th>\n      <th>fecha_gestion</th>\n      <th>hora_gestion</th>\n      <th>credito</th>\n      <th>nombre_credito</th>\n      <th>telefono</th>\n      <th>usuario</th>\n      <th>nombre_usuario</th>\n      <th>accion</th>\n      <th>resultado</th>\n      <th>fecha_promesa</th>\n      <th>monto_promesa</th>\n      <th>comentarios</th>\n      <th>accion_credifiel</th>\n      <th>resultado_credifiel</th>\n      <th>dictamen</th>\n    </tr>\n  </thead>\n  <tbody>\n    <tr>\n      <th>10</th>\n      <td>9267070</td>\n      <td>1</td>\n      <td>2020-12-04</td>\n      <td>07:25:56</td>\n      <td>CR-474771</td>\n      <td>GERALDO VERDUGO ARTURO</td>\n      <td>6121471521</td>\n      <td>GONMORALESBM</td>\n      <td>GONZALEZ MORALES BRENDA MARLEN</td>\n      <td>LLAMADA A TITULAR</td>\n      <td>PROMESA DE PAGO PARCIAL</td>\n      <td>2020-12-17</td>\n      <td>3823.72</td>\n      <td>6121471521 TT REALIZARA PAGO 4 17/12 $3,823.72...</td>\n      <td>PDP</td>\n      <td>Promesa de Pago</td>\n      <td>CONTACTO</td>\n    </tr>\n    <tr>\n      <th>189</th>\n      <td>9271902</td>\n      <td>1</td>\n      <td>2020-12-04</td>\n      <td>10:34:28</td>\n      <td>CR-437255</td>\n      <td>RASCON TRUJILLO NORMANDO</td>\n      <td>6623514659</td>\n      <td>HERNANDEZGARO</td>\n      <td>HERNANDEZ GALINDO RODRIGO</td>\n      <td>LLAMADA A TITULAR</td>\n      <td>PROMESA DE PAGO PARCIAL</td>\n      <td>2020-12-05</td>\n      <td>1000.00</td>\n      <td>6623514659 TT DARA PRIMER PAGO POR 1000 EL DIA...</td>\n      <td>PDP</td>\n      <td>Promesa de Pago</td>\n      <td>CONTACTO</td>\n    </tr>\n    <tr>\n      <th>366</th>\n      <td>9275731</td>\n      <td>1</td>\n      <td>2020-12-04</td>\n      <td>13:38:02</td>\n      <td>CR-485694</td>\n      <td>PEREZ FLORES SANDRA BERENICE</td>\n      <td>8994224084</td>\n      <td>ZARZANOJA</td>\n      <td>ZARZA NORIA JEFREY ALBERTO</td>\n      <td>LLAMADA A TITULAR</td>\n      <td>PROMESA DE PAGO PARCIAL</td>\n      <td>2020-12-15</td>\n      <td>2833.00</td>\n      <td>8994224084 TT REALIZARA PAGO 3 $2,833.00 15/12...</td>\n      <td>PDP</td>\n      <td>Promesa de Pago</td>\n      <td>CONTACTO</td>\n    </tr>\n  </tbody>\n</table>\n</div>"
     },
     "metadata": {},
     "execution_count": 17
    }
   ],
   "source": [
    "#Hacemos la consulta referente a las gestiones de Credifiel\n",
    "sql_gest_cred = cursor.callproc('credifiel_rpt_gestiones_detallado',[today,today])\n",
    "for result in cursor.stored_results():\n",
    "    gestion_cred = pd.DataFrame(result.fetchall())\n",
    "gestion_cred.columns = ['folio_gestion','unegocio_id','fecha_gestion','hora_gestion','credito','nombre_credito','telefono','usuario','nombre_usuario','accion','resultado','fecha_promesa','monto_promesa','comentarios','accion_credifiel','resultado_credifiel','dictamen']\n",
    "gestion_cred = gestion_cred.loc[gestion_cred['accion_credifiel']=='PDP']\n",
    "cols = ['monto_promesa','unegocio_id']\n",
    "gestion_cred[cols] = gestion_cred[cols].apply(pd.to_numeric, errors='coerce')\n",
    "gestion_cred = gestion_cred.loc[gestion_cred['monto_promesa']>0]\n",
    "gestion_cred.head(3)"
   ]
  },
  {
   "cell_type": "code",
   "execution_count": 18,
   "metadata": {},
   "outputs": [
    {
     "output_type": "execute_result",
     "data": {
      "text/plain": [
       "   unegocio_id    credito                division\n",
       "0            1  CR-101922  COBRANZA EXTRAJUDICIAL\n",
       "1            1  CR-101949                LIQUIDAR\n",
       "2            1  CR-101952                LIQUIDAR"
      ],
      "text/html": "<div>\n<style scoped>\n    .dataframe tbody tr th:only-of-type {\n        vertical-align: middle;\n    }\n\n    .dataframe tbody tr th {\n        vertical-align: top;\n    }\n\n    .dataframe thead th {\n        text-align: right;\n    }\n</style>\n<table border=\"1\" class=\"dataframe\">\n  <thead>\n    <tr style=\"text-align: right;\">\n      <th></th>\n      <th>unegocio_id</th>\n      <th>credito</th>\n      <th>division</th>\n    </tr>\n  </thead>\n  <tbody>\n    <tr>\n      <th>0</th>\n      <td>1</td>\n      <td>CR-101922</td>\n      <td>COBRANZA EXTRAJUDICIAL</td>\n    </tr>\n    <tr>\n      <th>1</th>\n      <td>1</td>\n      <td>CR-101949</td>\n      <td>LIQUIDAR</td>\n    </tr>\n    <tr>\n      <th>2</th>\n      <td>1</td>\n      <td>CR-101952</td>\n      <td>LIQUIDAR</td>\n    </tr>\n  </tbody>\n</table>\n</div>"
     },
     "metadata": {},
     "execution_count": 18
    }
   ],
   "source": [
    "#Hacemos la consulta de la asignacion\n",
    "sql_asig_cred = cursor.callproc('credifiel_rpt_asignacion_activa',)\n",
    "for result in cursor.stored_results():\n",
    "    asignacion_cred = pd.DataFrame(result.fetchall())\n",
    "asignacion_cred = asignacion_cred.iloc[:,[1,3,32]]\n",
    "asignacion_cred.columns = ['unegocio_id','credito','division']\n",
    "#asignacion_brad['credito'] = pd.to_numeric(asignacion_brad['credito'])\n",
    "asignacion_cred.head(3)"
   ]
  },
  {
   "cell_type": "code",
   "execution_count": 19,
   "metadata": {},
   "outputs": [
    {
     "output_type": "execute_result",
     "data": {
      "text/plain": [
       "   folio_gestion  unegocio_id fecha_gestion hora_gestion    credito  \\\n",
       "0        9267070            1    2020-12-04     07:25:56  CR-474771   \n",
       "1        9271902            1    2020-12-04     10:34:28  CR-437255   \n",
       "2        9275731            1    2020-12-04     13:38:02  CR-485694   \n",
       "\n",
       "                 nombre_credito    telefono        usuario  \\\n",
       "0        GERALDO VERDUGO ARTURO  6121471521   GONMORALESBM   \n",
       "1      RASCON TRUJILLO NORMANDO  6623514659  HERNANDEZGARO   \n",
       "2  PEREZ FLORES SANDRA BERENICE  8994224084      ZARZANOJA   \n",
       "\n",
       "                   nombre_usuario             accion                resultado  \\\n",
       "0  GONZALEZ MORALES BRENDA MARLEN  LLAMADA A TITULAR  PROMESA DE PAGO PARCIAL   \n",
       "1       HERNANDEZ GALINDO RODRIGO  LLAMADA A TITULAR  PROMESA DE PAGO PARCIAL   \n",
       "2      ZARZA NORIA JEFREY ALBERTO  LLAMADA A TITULAR  PROMESA DE PAGO PARCIAL   \n",
       "\n",
       "  fecha_promesa  monto_promesa  \\\n",
       "0    2020-12-17        3823.72   \n",
       "1    2020-12-05        1000.00   \n",
       "2    2020-12-15        2833.00   \n",
       "\n",
       "                                         comentarios accion_credifiel  \\\n",
       "0  6121471521 TT REALIZARA PAGO 4 17/12 $3,823.72...              PDP   \n",
       "1  6623514659 TT DARA PRIMER PAGO POR 1000 EL DIA...              PDP   \n",
       "2  8994224084 TT REALIZARA PAGO 3 $2,833.00 15/12...              PDP   \n",
       "\n",
       "  resultado_credifiel  dictamen                division  \n",
       "0     Promesa de Pago  CONTACTO           EXTRAJUDICIAL  \n",
       "1     Promesa de Pago  CONTACTO           EXTRAJUDICIAL  \n",
       "2     Promesa de Pago  CONTACTO  COBRANZA EXTRAJUDICIAL  "
      ],
      "text/html": "<div>\n<style scoped>\n    .dataframe tbody tr th:only-of-type {\n        vertical-align: middle;\n    }\n\n    .dataframe tbody tr th {\n        vertical-align: top;\n    }\n\n    .dataframe thead th {\n        text-align: right;\n    }\n</style>\n<table border=\"1\" class=\"dataframe\">\n  <thead>\n    <tr style=\"text-align: right;\">\n      <th></th>\n      <th>folio_gestion</th>\n      <th>unegocio_id</th>\n      <th>fecha_gestion</th>\n      <th>hora_gestion</th>\n      <th>credito</th>\n      <th>nombre_credito</th>\n      <th>telefono</th>\n      <th>usuario</th>\n      <th>nombre_usuario</th>\n      <th>accion</th>\n      <th>resultado</th>\n      <th>fecha_promesa</th>\n      <th>monto_promesa</th>\n      <th>comentarios</th>\n      <th>accion_credifiel</th>\n      <th>resultado_credifiel</th>\n      <th>dictamen</th>\n      <th>division</th>\n    </tr>\n  </thead>\n  <tbody>\n    <tr>\n      <th>0</th>\n      <td>9267070</td>\n      <td>1</td>\n      <td>2020-12-04</td>\n      <td>07:25:56</td>\n      <td>CR-474771</td>\n      <td>GERALDO VERDUGO ARTURO</td>\n      <td>6121471521</td>\n      <td>GONMORALESBM</td>\n      <td>GONZALEZ MORALES BRENDA MARLEN</td>\n      <td>LLAMADA A TITULAR</td>\n      <td>PROMESA DE PAGO PARCIAL</td>\n      <td>2020-12-17</td>\n      <td>3823.72</td>\n      <td>6121471521 TT REALIZARA PAGO 4 17/12 $3,823.72...</td>\n      <td>PDP</td>\n      <td>Promesa de Pago</td>\n      <td>CONTACTO</td>\n      <td>EXTRAJUDICIAL</td>\n    </tr>\n    <tr>\n      <th>1</th>\n      <td>9271902</td>\n      <td>1</td>\n      <td>2020-12-04</td>\n      <td>10:34:28</td>\n      <td>CR-437255</td>\n      <td>RASCON TRUJILLO NORMANDO</td>\n      <td>6623514659</td>\n      <td>HERNANDEZGARO</td>\n      <td>HERNANDEZ GALINDO RODRIGO</td>\n      <td>LLAMADA A TITULAR</td>\n      <td>PROMESA DE PAGO PARCIAL</td>\n      <td>2020-12-05</td>\n      <td>1000.00</td>\n      <td>6623514659 TT DARA PRIMER PAGO POR 1000 EL DIA...</td>\n      <td>PDP</td>\n      <td>Promesa de Pago</td>\n      <td>CONTACTO</td>\n      <td>EXTRAJUDICIAL</td>\n    </tr>\n    <tr>\n      <th>2</th>\n      <td>9275731</td>\n      <td>1</td>\n      <td>2020-12-04</td>\n      <td>13:38:02</td>\n      <td>CR-485694</td>\n      <td>PEREZ FLORES SANDRA BERENICE</td>\n      <td>8994224084</td>\n      <td>ZARZANOJA</td>\n      <td>ZARZA NORIA JEFREY ALBERTO</td>\n      <td>LLAMADA A TITULAR</td>\n      <td>PROMESA DE PAGO PARCIAL</td>\n      <td>2020-12-15</td>\n      <td>2833.00</td>\n      <td>8994224084 TT REALIZARA PAGO 3 $2,833.00 15/12...</td>\n      <td>PDP</td>\n      <td>Promesa de Pago</td>\n      <td>CONTACTO</td>\n      <td>COBRANZA EXTRAJUDICIAL</td>\n    </tr>\n  </tbody>\n</table>\n</div>"
     },
     "metadata": {},
     "execution_count": 19
    }
   ],
   "source": [
    "#Hacemos la union de asignacion y promesas\n",
    "consolidado_cred = pd.merge(gestion_cred,asignacion_cred,how='left',on=['unegocio_id','credito'])\n",
    "cols = ['monto_promesa','unegocio_id']\n",
    "consolidado_cred[cols] = consolidado_cred[cols].apply(pd.to_numeric, errors='coerce')\n",
    "consolidado_cred = consolidado_cred[(consolidado_cred['monto_promesa']>50)]\n",
    "consolidado_cred = consolidado_cred[(consolidado_cred['monto_promesa']<500000)]\n",
    "consolidado_cred.fillna('COBRANZA',inplace=True)\n",
    "consolidado_cred.replace('','COBRANZA',inplace=True)\n",
    "consolidado_cred.head(3)"
   ]
  },
  {
   "cell_type": "code",
   "execution_count": 20,
   "metadata": {},
   "outputs": [
    {
     "output_type": "execute_result",
     "data": {
      "text/plain": [
       "                 Division  NumeroPromesas  SumaPromesas\n",
       "0  COBRANZA EXTRAJUDICIAL               1       2833.00\n",
       "1           EXTRAJUDICIAL               2       4823.72"
      ],
      "text/html": "<div>\n<style scoped>\n    .dataframe tbody tr th:only-of-type {\n        vertical-align: middle;\n    }\n\n    .dataframe tbody tr th {\n        vertical-align: top;\n    }\n\n    .dataframe thead th {\n        text-align: right;\n    }\n</style>\n<table border=\"1\" class=\"dataframe\">\n  <thead>\n    <tr style=\"text-align: right;\">\n      <th></th>\n      <th>Division</th>\n      <th>NumeroPromesas</th>\n      <th>SumaPromesas</th>\n    </tr>\n  </thead>\n  <tbody>\n    <tr>\n      <th>0</th>\n      <td>COBRANZA EXTRAJUDICIAL</td>\n      <td>1</td>\n      <td>2833.00</td>\n    </tr>\n    <tr>\n      <th>1</th>\n      <td>EXTRAJUDICIAL</td>\n      <td>2</td>\n      <td>4823.72</td>\n    </tr>\n  </tbody>\n</table>\n</div>"
     },
     "metadata": {},
     "execution_count": 20
    }
   ],
   "source": [
    "#Obtenemos datos de las promesas de Credifiel\n",
    "pivot_cred = pd.pivot_table(consolidado_cred,index=['division'],values=['unegocio_id','monto_promesa'],aggfunc=('count',np.sum))\n",
    "pivot_cred = pd.DataFrame(pivot_cred.to_records())\n",
    "pivot_cred = pivot_cred.iloc[:,[0,3,2]]\n",
    "pivot_cred.columns = ['Division','NumeroPromesas','SumaPromesas']\n",
    "pivot_cred.fillna(0,inplace=True)\n",
    "pivot_cred = pivot_cred.loc[pivot_cred['SumaPromesas']>0]\n",
    "#pivot_gestion_cred[['NumeroPromesas','PromedioPromesa','SumaPromesas']] = pivot_gestion_brad[['NumeroPromesas','PromedioPromesa','SumaPromesas']].applymap(\"{0:.2f}\".format)\n",
    "pivot_cred"
   ]
  },
  {
   "cell_type": "code",
   "execution_count": 21,
   "metadata": {},
   "outputs": [
    {
     "output_type": "execute_result",
     "data": {
      "text/plain": [
       "                 Division  NumeroPromesas  SumaPromesas\n",
       "0  COBRANZA EXTRAJUDICIAL               1       2833.00\n",
       "1           EXTRAJUDICIAL               2       4823.72"
      ],
      "text/html": "<div>\n<style scoped>\n    .dataframe tbody tr th:only-of-type {\n        vertical-align: middle;\n    }\n\n    .dataframe tbody tr th {\n        vertical-align: top;\n    }\n\n    .dataframe thead th {\n        text-align: right;\n    }\n</style>\n<table border=\"1\" class=\"dataframe\">\n  <thead>\n    <tr style=\"text-align: right;\">\n      <th></th>\n      <th>Division</th>\n      <th>NumeroPromesas</th>\n      <th>SumaPromesas</th>\n    </tr>\n  </thead>\n  <tbody>\n    <tr>\n      <th>0</th>\n      <td>COBRANZA EXTRAJUDICIAL</td>\n      <td>1</td>\n      <td>2833.00</td>\n    </tr>\n    <tr>\n      <th>1</th>\n      <td>EXTRAJUDICIAL</td>\n      <td>2</td>\n      <td>4823.72</td>\n    </tr>\n  </tbody>\n</table>\n</div>"
     },
     "metadata": {},
     "execution_count": 21
    }
   ],
   "source": [
    "#Vemos las promesas reales eliminando duplicados\n",
    "consolidado_cred2 = consolidado_cred.drop_duplicates(subset=['credito','fecha_promesa','monto_promesa'])\n",
    "pivot_cred2 = pd.pivot_table(consolidado_cred2,index=['division'],values=['unegocio_id','monto_promesa'],aggfunc=('count',np.sum))\n",
    "pivot_cred2 = pd.DataFrame(pivot_cred2.to_records())\n",
    "pivot_cred2 = pivot_cred2.iloc[:,[0,3,2]]\n",
    "pivot_cred2.columns = ['Division','NumeroPromesas','SumaPromesas']\n",
    "pivot_cred2.fillna(0,inplace=True)\n",
    "pivot_cred2 = pivot_cred2.loc[pivot_cred2['SumaPromesas']>0]\n",
    "#pivot_gestion_cred[['NumeroPromesas','PromedioPromesa','SumaPromesas']] = pivot_gestion_brad[['NumeroPromesas','PromedioPromesa','SumaPromesas']].applymap(\"{0:.2f}\".format)\n",
    "pivot_cred2"
   ]
  },
  {
   "source": [
    "# Banco Azteca"
   ],
   "cell_type": "markdown",
   "metadata": {}
  },
  {
   "cell_type": "code",
   "execution_count": 22,
   "metadata": {},
   "outputs": [
    {
     "output_type": "execute_result",
     "data": {
      "text/plain": [
       "     folio_gestion  firma_id  unegocio_id         credito  \\\n",
       "367        9274973         7            1  1-1-5063-18811   \n",
       "368        9274971         7            1  1-1-6027-51703   \n",
       "637        9274268         7            2  1-1-4221-38328   \n",
       "\n",
       "                      nombre_credito    telefono tipo_telefono  \\\n",
       "367  MARIA DEL CARMEN AZCONA SALINAS  5535642252       celular   \n",
       "368      LAURA MANUELA GARCIA CORREA  5567599408       celular   \n",
       "637            RICARDO LOPEZ MURILLO  3321993686       celular   \n",
       "\n",
       "          fecha_gestion     usuario            nombre_usuario dictamen  \\\n",
       "367 2020-12-04 10:43:30  VIEYRAITTR  TREJO VIEYRA ITZEL YANET  PROMESA   \n",
       "368 2020-12-04 12:21:10  VIEYRAITTR  TREJO VIEYRA ITZEL YANET  PROMESA   \n",
       "637 2020-12-04 12:05:49    LEONSASU       LEON SALINAS SUSANA  PROMESA   \n",
       "\n",
       "                                accion_resultado fecha_promesa monto_promesa  \\\n",
       "367  GESTION TELEFONICA -PROMESA DE PAGO PARCIAL    2020-12-08       3016.00   \n",
       "368  GESTION TELEFONICA -PROMESA DE PAGO PARCIAL    2020-12-08       1828.00   \n",
       "637     ENTRADA WHATSAPP-PROMESA DE PAGO PARCIAL    2020-12-11        580.00   \n",
       "\n",
       "                                           comentarios  \n",
       "367  5535642252  PRE INDICA PAGO INICIAL DE $ 3016 ...  \n",
       "368  5567599408 5618612054 PRE CONVENIO DE PAGO  SO...  \n",
       "637  3321993686 SE CONTACTA TT VIA WHAT REPORTANDO ...  "
      ],
      "text/html": "<div>\n<style scoped>\n    .dataframe tbody tr th:only-of-type {\n        vertical-align: middle;\n    }\n\n    .dataframe tbody tr th {\n        vertical-align: top;\n    }\n\n    .dataframe thead th {\n        text-align: right;\n    }\n</style>\n<table border=\"1\" class=\"dataframe\">\n  <thead>\n    <tr style=\"text-align: right;\">\n      <th></th>\n      <th>folio_gestion</th>\n      <th>firma_id</th>\n      <th>unegocio_id</th>\n      <th>credito</th>\n      <th>nombre_credito</th>\n      <th>telefono</th>\n      <th>tipo_telefono</th>\n      <th>fecha_gestion</th>\n      <th>usuario</th>\n      <th>nombre_usuario</th>\n      <th>dictamen</th>\n      <th>accion_resultado</th>\n      <th>fecha_promesa</th>\n      <th>monto_promesa</th>\n      <th>comentarios</th>\n    </tr>\n  </thead>\n  <tbody>\n    <tr>\n      <th>367</th>\n      <td>9274973</td>\n      <td>7</td>\n      <td>1</td>\n      <td>1-1-5063-18811</td>\n      <td>MARIA DEL CARMEN AZCONA SALINAS</td>\n      <td>5535642252</td>\n      <td>celular</td>\n      <td>2020-12-04 10:43:30</td>\n      <td>VIEYRAITTR</td>\n      <td>TREJO VIEYRA ITZEL YANET</td>\n      <td>PROMESA</td>\n      <td>GESTION TELEFONICA -PROMESA DE PAGO PARCIAL</td>\n      <td>2020-12-08</td>\n      <td>3016.00</td>\n      <td>5535642252  PRE INDICA PAGO INICIAL DE $ 3016 ...</td>\n    </tr>\n    <tr>\n      <th>368</th>\n      <td>9274971</td>\n      <td>7</td>\n      <td>1</td>\n      <td>1-1-6027-51703</td>\n      <td>LAURA MANUELA GARCIA CORREA</td>\n      <td>5567599408</td>\n      <td>celular</td>\n      <td>2020-12-04 12:21:10</td>\n      <td>VIEYRAITTR</td>\n      <td>TREJO VIEYRA ITZEL YANET</td>\n      <td>PROMESA</td>\n      <td>GESTION TELEFONICA -PROMESA DE PAGO PARCIAL</td>\n      <td>2020-12-08</td>\n      <td>1828.00</td>\n      <td>5567599408 5618612054 PRE CONVENIO DE PAGO  SO...</td>\n    </tr>\n    <tr>\n      <th>637</th>\n      <td>9274268</td>\n      <td>7</td>\n      <td>2</td>\n      <td>1-1-4221-38328</td>\n      <td>RICARDO LOPEZ MURILLO</td>\n      <td>3321993686</td>\n      <td>celular</td>\n      <td>2020-12-04 12:05:49</td>\n      <td>LEONSASU</td>\n      <td>LEON SALINAS SUSANA</td>\n      <td>PROMESA</td>\n      <td>ENTRADA WHATSAPP-PROMESA DE PAGO PARCIAL</td>\n      <td>2020-12-11</td>\n      <td>580.00</td>\n      <td>3321993686 SE CONTACTA TT VIA WHAT REPORTANDO ...</td>\n    </tr>\n  </tbody>\n</table>\n</div>"
     },
     "metadata": {},
     "execution_count": 22
    }
   ],
   "source": [
    "#Hacemos la consulta referente a las gestiones de Banco Azteca\n",
    "sql_gest_baz = cursor.callproc('baz_rpt_gestiones_detallado', [today,today])\n",
    "for result in cursor.stored_results():\n",
    "     gestion_baz = pd.DataFrame(result.fetchall())\n",
    "gestion_baz.columns = ['folio_gestion','firma_id','unegocio_id','credito','nombre_credito','telefono','tipo_telefono','fecha_gestion','usuario','nombre_usuario','dictamen','accion_resultado','fecha_promesa','monto_promesa','comentarios']\n",
    "gestion_baz = gestion_baz.loc[gestion_baz['dictamen']=='PROMESA']\n",
    "gestion_baz.head(3)"
   ]
  },
  {
   "cell_type": "code",
   "execution_count": 23,
   "metadata": {},
   "outputs": [],
   "source": [
    "#new_asignaciones = os.listdir('/home/estadistico/Documents/Erick/Banco Azteca/Asignacion')\n",
    "#sample_cols_to_keep =['#FIIDCAMPANA', 'FIPAIS', 'FICANAL','FISUCURSAL','FIFOLIO','FISEMATRASMAX','FNSALDO','FNSALDOCAPITAL','FNPAGOREQ','FCTEL1','FCTIPO1','FNDIA_PAGO','FIDIASATRASOMAX','FNCAPPAGODISP','FNABONOSEMANAL','FNCAPACIDADPAGO','FILCRACTIVA','FDFECPROXPAG','FNTASAINT','CP','fcnombreos','fcappaternoos','FITERRITORIO','FCDESCTERRITORIO','FIZONA','FCDESCZONA','FIREGION','FCDESCREGION','FIGERENCIA','FCDESCGERENCIA','FCBESTTIMETOCALL','FECHA']\n",
    "#df_iter = pd.read_csv('/home/estadistico/Documents/Erick/Banco Azteca/Asignacion_csv/Asignacion banco azteca '+mes+'.csv', chunksize=20000, usecols=sample_cols_to_keep) \n",
    "#df_lst = [] \n",
    "#for df_ in df_iter: \n",
    "#            tmp_df = (df_.rename(columns={col: col.lower() for col in df_.columns}))\n",
    "#            df_lst += [tmp_df.copy()] \n",
    "#asignacion_baz = pd.concat(df_lst)"
   ]
  },
  {
   "cell_type": "code",
   "execution_count": 24,
   "metadata": {},
   "outputs": [
    {
     "output_type": "execute_result",
     "data": {
      "text/plain": [
       "   #fiidcampana  fipais  ficanal  fisucursal  fifolio\n",
       "0           164       1        1        5496     4183\n",
       "1           164       1        1         110    52389\n",
       "2           164       1        1        5254    28682"
      ],
      "text/html": "<div>\n<style scoped>\n    .dataframe tbody tr th:only-of-type {\n        vertical-align: middle;\n    }\n\n    .dataframe tbody tr th {\n        vertical-align: top;\n    }\n\n    .dataframe thead th {\n        text-align: right;\n    }\n</style>\n<table border=\"1\" class=\"dataframe\">\n  <thead>\n    <tr style=\"text-align: right;\">\n      <th></th>\n      <th>#fiidcampana</th>\n      <th>fipais</th>\n      <th>ficanal</th>\n      <th>fisucursal</th>\n      <th>fifolio</th>\n    </tr>\n  </thead>\n  <tbody>\n    <tr>\n      <th>0</th>\n      <td>164</td>\n      <td>1</td>\n      <td>1</td>\n      <td>5496</td>\n      <td>4183</td>\n    </tr>\n    <tr>\n      <th>1</th>\n      <td>164</td>\n      <td>1</td>\n      <td>1</td>\n      <td>110</td>\n      <td>52389</td>\n    </tr>\n    <tr>\n      <th>2</th>\n      <td>164</td>\n      <td>1</td>\n      <td>1</td>\n      <td>5254</td>\n      <td>28682</td>\n    </tr>\n  </tbody>\n</table>\n</div>"
     },
     "metadata": {},
     "execution_count": 24
    }
   ],
   "source": [
    "asignacion_baz = pd.read_csv(''+ruta_asig_baz+'/Asignacion banco azteca '+str(mes2)+'.csv')\n",
    "asignacion_baz = asignacion_baz.rename(columns=str.lower)\n",
    "asignacion_baz.head(3)"
   ]
  },
  {
   "cell_type": "code",
   "execution_count": 25,
   "metadata": {},
   "outputs": [
    {
     "output_type": "execute_result",
     "data": {
      "text/plain": [
       "   #fiidcampana  fipais  ficanal  fisucursal  fifolio         credito\n",
       "0           164       1        1        5496     4183   1-1-5496-4183\n",
       "1           164       1        1         110    52389   1-1-110-52389\n",
       "2           164       1        1        5254    28682  1-1-5254-28682"
      ],
      "text/html": "<div>\n<style scoped>\n    .dataframe tbody tr th:only-of-type {\n        vertical-align: middle;\n    }\n\n    .dataframe tbody tr th {\n        vertical-align: top;\n    }\n\n    .dataframe thead th {\n        text-align: right;\n    }\n</style>\n<table border=\"1\" class=\"dataframe\">\n  <thead>\n    <tr style=\"text-align: right;\">\n      <th></th>\n      <th>#fiidcampana</th>\n      <th>fipais</th>\n      <th>ficanal</th>\n      <th>fisucursal</th>\n      <th>fifolio</th>\n      <th>credito</th>\n    </tr>\n  </thead>\n  <tbody>\n    <tr>\n      <th>0</th>\n      <td>164</td>\n      <td>1</td>\n      <td>1</td>\n      <td>5496</td>\n      <td>4183</td>\n      <td>1-1-5496-4183</td>\n    </tr>\n    <tr>\n      <th>1</th>\n      <td>164</td>\n      <td>1</td>\n      <td>1</td>\n      <td>110</td>\n      <td>52389</td>\n      <td>1-1-110-52389</td>\n    </tr>\n    <tr>\n      <th>2</th>\n      <td>164</td>\n      <td>1</td>\n      <td>1</td>\n      <td>5254</td>\n      <td>28682</td>\n      <td>1-1-5254-28682</td>\n    </tr>\n  </tbody>\n</table>\n</div>"
     },
     "metadata": {},
     "execution_count": 25
    }
   ],
   "source": [
    "asignacion_baz['credito'] = asignacion_baz['fipais'].map(str)+'-'+asignacion_baz['ficanal'].map(str)+'-'+asignacion_baz['fisucursal'].map(str)+'-'+asignacion_baz['fifolio'].map(str)\n",
    "asignacion_baz.head(3)"
   ]
  },
  {
   "cell_type": "code",
   "execution_count": 26,
   "metadata": {},
   "outputs": [
    {
     "output_type": "execute_result",
     "data": {
      "text/plain": [
       "   folio_gestion  firma_id  unegocio_id         credito  \\\n",
       "0        9274973         7            1  1-1-5063-18811   \n",
       "1        9274971         7            1  1-1-6027-51703   \n",
       "2        9274268         7            2  1-1-4221-38328   \n",
       "\n",
       "                    nombre_credito    telefono tipo_telefono  \\\n",
       "0  MARIA DEL CARMEN AZCONA SALINAS  5535642252       celular   \n",
       "1      LAURA MANUELA GARCIA CORREA  5567599408       celular   \n",
       "2            RICARDO LOPEZ MURILLO  3321993686       celular   \n",
       "\n",
       "        fecha_gestion     usuario            nombre_usuario dictamen  \\\n",
       "0 2020-12-04 10:43:30  VIEYRAITTR  TREJO VIEYRA ITZEL YANET  PROMESA   \n",
       "1 2020-12-04 12:21:10  VIEYRAITTR  TREJO VIEYRA ITZEL YANET  PROMESA   \n",
       "2 2020-12-04 12:05:49    LEONSASU       LEON SALINAS SUSANA  PROMESA   \n",
       "\n",
       "                              accion_resultado fecha_promesa  monto_promesa  \\\n",
       "0  GESTION TELEFONICA -PROMESA DE PAGO PARCIAL    2020-12-08         3016.0   \n",
       "1  GESTION TELEFONICA -PROMESA DE PAGO PARCIAL    2020-12-08         1828.0   \n",
       "2     ENTRADA WHATSAPP-PROMESA DE PAGO PARCIAL    2020-12-11          580.0   \n",
       "\n",
       "                                         comentarios #fiidcampana    fipais  \\\n",
       "0  5535642252  PRE INDICA PAGO INICIAL DE $ 3016 ...     COBRANZA  COBRANZA   \n",
       "1  5567599408 5618612054 PRE CONVENIO DE PAGO  SO...     COBRANZA  COBRANZA   \n",
       "2  3321993686 SE CONTACTA TT VIA WHAT REPORTANDO ...     COBRANZA  COBRANZA   \n",
       "\n",
       "    ficanal fisucursal   fifolio  \n",
       "0  COBRANZA   COBRANZA  COBRANZA  \n",
       "1  COBRANZA   COBRANZA  COBRANZA  \n",
       "2  COBRANZA   COBRANZA  COBRANZA  "
      ],
      "text/html": "<div>\n<style scoped>\n    .dataframe tbody tr th:only-of-type {\n        vertical-align: middle;\n    }\n\n    .dataframe tbody tr th {\n        vertical-align: top;\n    }\n\n    .dataframe thead th {\n        text-align: right;\n    }\n</style>\n<table border=\"1\" class=\"dataframe\">\n  <thead>\n    <tr style=\"text-align: right;\">\n      <th></th>\n      <th>folio_gestion</th>\n      <th>firma_id</th>\n      <th>unegocio_id</th>\n      <th>credito</th>\n      <th>nombre_credito</th>\n      <th>telefono</th>\n      <th>tipo_telefono</th>\n      <th>fecha_gestion</th>\n      <th>usuario</th>\n      <th>nombre_usuario</th>\n      <th>dictamen</th>\n      <th>accion_resultado</th>\n      <th>fecha_promesa</th>\n      <th>monto_promesa</th>\n      <th>comentarios</th>\n      <th>#fiidcampana</th>\n      <th>fipais</th>\n      <th>ficanal</th>\n      <th>fisucursal</th>\n      <th>fifolio</th>\n    </tr>\n  </thead>\n  <tbody>\n    <tr>\n      <th>0</th>\n      <td>9274973</td>\n      <td>7</td>\n      <td>1</td>\n      <td>1-1-5063-18811</td>\n      <td>MARIA DEL CARMEN AZCONA SALINAS</td>\n      <td>5535642252</td>\n      <td>celular</td>\n      <td>2020-12-04 10:43:30</td>\n      <td>VIEYRAITTR</td>\n      <td>TREJO VIEYRA ITZEL YANET</td>\n      <td>PROMESA</td>\n      <td>GESTION TELEFONICA -PROMESA DE PAGO PARCIAL</td>\n      <td>2020-12-08</td>\n      <td>3016.0</td>\n      <td>5535642252  PRE INDICA PAGO INICIAL DE $ 3016 ...</td>\n      <td>COBRANZA</td>\n      <td>COBRANZA</td>\n      <td>COBRANZA</td>\n      <td>COBRANZA</td>\n      <td>COBRANZA</td>\n    </tr>\n    <tr>\n      <th>1</th>\n      <td>9274971</td>\n      <td>7</td>\n      <td>1</td>\n      <td>1-1-6027-51703</td>\n      <td>LAURA MANUELA GARCIA CORREA</td>\n      <td>5567599408</td>\n      <td>celular</td>\n      <td>2020-12-04 12:21:10</td>\n      <td>VIEYRAITTR</td>\n      <td>TREJO VIEYRA ITZEL YANET</td>\n      <td>PROMESA</td>\n      <td>GESTION TELEFONICA -PROMESA DE PAGO PARCIAL</td>\n      <td>2020-12-08</td>\n      <td>1828.0</td>\n      <td>5567599408 5618612054 PRE CONVENIO DE PAGO  SO...</td>\n      <td>COBRANZA</td>\n      <td>COBRANZA</td>\n      <td>COBRANZA</td>\n      <td>COBRANZA</td>\n      <td>COBRANZA</td>\n    </tr>\n    <tr>\n      <th>2</th>\n      <td>9274268</td>\n      <td>7</td>\n      <td>2</td>\n      <td>1-1-4221-38328</td>\n      <td>RICARDO LOPEZ MURILLO</td>\n      <td>3321993686</td>\n      <td>celular</td>\n      <td>2020-12-04 12:05:49</td>\n      <td>LEONSASU</td>\n      <td>LEON SALINAS SUSANA</td>\n      <td>PROMESA</td>\n      <td>ENTRADA WHATSAPP-PROMESA DE PAGO PARCIAL</td>\n      <td>2020-12-11</td>\n      <td>580.0</td>\n      <td>3321993686 SE CONTACTA TT VIA WHAT REPORTANDO ...</td>\n      <td>COBRANZA</td>\n      <td>COBRANZA</td>\n      <td>COBRANZA</td>\n      <td>COBRANZA</td>\n      <td>COBRANZA</td>\n    </tr>\n  </tbody>\n</table>\n</div>"
     },
     "metadata": {},
     "execution_count": 26
    }
   ],
   "source": [
    "consolidado_baz = pd.merge(gestion_baz,asignacion_baz,how='left',on='credito')\n",
    "cols = ['monto_promesa','#fiidcampana']\n",
    "consolidado_baz[cols] = consolidado_baz[cols].apply(pd.to_numeric, errors='coerce')\n",
    "consolidado_baz = consolidado_baz[(consolidado_baz['monto_promesa']>50)]\n",
    "consolidado_baz = consolidado_baz[(consolidado_baz['monto_promesa']<500000)]\n",
    "consolidado_baz.fillna('COBRANZA',inplace=True)\n",
    "consolidado_baz.head(3)"
   ]
  },
  {
   "cell_type": "code",
   "execution_count": 27,
   "metadata": {},
   "outputs": [
    {
     "output_type": "execute_result",
     "data": {
      "text/plain": [
       "  Dictamen  NumeroPromesas  SumaPromesas\n",
       "0  PROMESA              28       22632.0"
      ],
      "text/html": "<div>\n<style scoped>\n    .dataframe tbody tr th:only-of-type {\n        vertical-align: middle;\n    }\n\n    .dataframe tbody tr th {\n        vertical-align: top;\n    }\n\n    .dataframe thead th {\n        text-align: right;\n    }\n</style>\n<table border=\"1\" class=\"dataframe\">\n  <thead>\n    <tr style=\"text-align: right;\">\n      <th></th>\n      <th>Dictamen</th>\n      <th>NumeroPromesas</th>\n      <th>SumaPromesas</th>\n    </tr>\n  </thead>\n  <tbody>\n    <tr>\n      <th>0</th>\n      <td>PROMESA</td>\n      <td>28</td>\n      <td>22632.0</td>\n    </tr>\n  </tbody>\n</table>\n</div>"
     },
     "metadata": {},
     "execution_count": 27
    }
   ],
   "source": [
    "#Obtenemos datos de las promesas de Banco Azteca\n",
    "pivot_baz = pd.pivot_table(consolidado_baz,index=['dictamen'],values=['unegocio_id','monto_promesa'],aggfunc=('count',np.sum))\n",
    "pivot_baz = pd.DataFrame(pivot_baz.to_records())\n",
    "pivot_baz = pivot_baz.iloc[:,[0,3,2]]\n",
    "pivot_baz.columns = ['Dictamen','NumeroPromesas','SumaPromesas']\n",
    "pivot_baz.fillna(0,inplace=True)\n",
    "#pivot_baz[['NumeroPromesas','PromedioPromesa','SumaPromesas']] = pivot_gestion_baz[['NumeroPromesas','PromedioPromesa','SumaPromesas']].applymap(\"{0:.2f}\".format)\n",
    "pivot_baz"
   ]
  },
  {
   "cell_type": "code",
   "execution_count": 28,
   "metadata": {},
   "outputs": [
    {
     "output_type": "execute_result",
     "data": {
      "text/plain": [
       "  Dictamen  NumeroPromesas  SumaPromesas\n",
       "0  PROMESA              28       22632.0"
      ],
      "text/html": "<div>\n<style scoped>\n    .dataframe tbody tr th:only-of-type {\n        vertical-align: middle;\n    }\n\n    .dataframe tbody tr th {\n        vertical-align: top;\n    }\n\n    .dataframe thead th {\n        text-align: right;\n    }\n</style>\n<table border=\"1\" class=\"dataframe\">\n  <thead>\n    <tr style=\"text-align: right;\">\n      <th></th>\n      <th>Dictamen</th>\n      <th>NumeroPromesas</th>\n      <th>SumaPromesas</th>\n    </tr>\n  </thead>\n  <tbody>\n    <tr>\n      <th>0</th>\n      <td>PROMESA</td>\n      <td>28</td>\n      <td>22632.0</td>\n    </tr>\n  </tbody>\n</table>\n</div>"
     },
     "metadata": {},
     "execution_count": 28
    }
   ],
   "source": [
    "#Vemos las promesas reales eliminando duplicados\n",
    "consolidado_baz2 = consolidado_baz.drop_duplicates(subset=['credito','fecha_promesa','monto_promesa'])\n",
    "pivot_baz2 = pd.pivot_table(consolidado_baz2,index=['dictamen'],values=['unegocio_id','monto_promesa'],aggfunc=('count',np.sum))\n",
    "pivot_baz2 = pd.DataFrame(pivot_baz2.to_records())\n",
    "pivot_baz2 = pivot_baz2.iloc[:,[0,3,2]]\n",
    "pivot_baz2.columns = ['Dictamen','NumeroPromesas','SumaPromesas']\n",
    "pivot_baz2.fillna(0,inplace=True)\n",
    "#pivot_baz2[['NumeroPromesas','PromedioPromesa','SumaPromesas']] = pivot_gestion_baz2[['NumeroPromesas','PromedioPromesa','SumaPromesas']].applymap(\"{0:.2f}\".format)\n",
    "pivot_baz2"
   ]
  },
  {
   "cell_type": "code",
   "execution_count": 29,
   "metadata": {},
   "outputs": [],
   "source": [
    "writer = pd.ExcelWriter(''+ruta+'/Reporte Promesas Diarias '+now+'.xlsx', engine='xlsxwriter')\n",
    "pivot_liv.to_excel(writer,'PromDiariaLivBruto',index=False,header=True)\n",
    "pivot_liv2.to_excel(writer,'PromDiariaLivReal',index=False,header=True)\n",
    "pivot_brad.to_excel(writer,'PromDiariaBradBruto',index=False,header=True)\n",
    "pivot_brad2.to_excel(writer,'PromDiariaBradReal',index=False,header=True)\n",
    "pivot_cred.to_excel(writer,'PromDiariaCredBruto',index=False,header=True)\n",
    "pivot_cred2.to_excel(writer,'PromDiariaCredReal',index=False,header=True)\n",
    "pivot_baz.to_excel(writer,'PromDiariaBAZBruto',index=False,header=True)\n",
    "pivot_baz2.to_excel(writer,'PromDiariaBAZReal',index=False,header=True)\n",
    "\n",
    "writer.save()\n",
    "writer.close()"
   ]
  },
  {
   "cell_type": "code",
   "execution_count": null,
   "metadata": {},
   "outputs": [],
   "source": []
  }
 ]
}