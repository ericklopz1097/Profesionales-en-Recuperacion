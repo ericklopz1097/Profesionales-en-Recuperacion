{
 "metadata": {
  "language_info": {
   "codemirror_mode": {
    "name": "ipython",
    "version": 3
   },
   "file_extension": ".py",
   "mimetype": "text/x-python",
   "name": "python",
   "nbconvert_exporter": "python",
   "pygments_lexer": "ipython3",
   "version": "3.8.5-final"
  },
  "orig_nbformat": 2,
  "kernelspec": {
   "name": "python3",
   "display_name": "Python 3",
   "language": "python"
  }
 },
 "nbformat": 4,
 "nbformat_minor": 2,
 "cells": [
  {
   "source": [
    "# Reporte diario promesas realizadas durante el dia"
   ],
   "cell_type": "markdown",
   "metadata": {}
  },
  {
   "cell_type": "code",
   "execution_count": 28,
   "metadata": {},
   "outputs": [],
   "source": [
    "import pandas as pd\n",
    "import numpy as np\n",
    "import mysql.connector\n",
    "from mysql.connector import Error\n",
    "from datetime import date\n",
    "from datetime import datetime\n",
    "import ConeccionesSucursales as cs\n",
    "from IPython.core.interactiveshell import InteractiveShell\n",
    "InteractiveShell.ast_node_interactivity = \"all\""
   ]
  },
  {
   "cell_type": "code",
   "execution_count": 29,
   "metadata": {},
   "outputs": [],
   "source": [
    "#Definimos la ruta en donde queremos guardar los archivos\n",
    "mes2 = 'Enero2021'\n",
    "ruta = '/home/estadistico/Documents/Erick/'+mes2+'/Reportes diarios/Promesas diarias'\n",
    "ruta_pagos = '/home/estadistico/Documents/Erick'\n",
    "#Definimos la ruta donde estan las asignaciones\n",
    "ruta_asig_baz = '/home/estadistico/Documents/Erick/Banco Azteca/Asignacion csv'"
   ]
  },
  {
   "cell_type": "code",
   "execution_count": 30,
   "metadata": {},
   "outputs": [],
   "source": [
    "#Agregamos las variables a ocupar\n",
    "servidor = '192.168.15.12'\n",
    "puerto = 3306\n",
    "usuario = 'estadisticas'\n",
    "contraseña = 'estadisticas8474'\n",
    "base = 'procesos_externos'"
   ]
  },
  {
   "cell_type": "code",
   "execution_count": 31,
   "metadata": {},
   "outputs": [
    {
     "output_type": "execute_result",
     "data": {
      "text/plain": [
       "'20210111'"
      ]
     },
     "metadata": {},
     "execution_count": 31
    }
   ],
   "source": [
    "#Asignamos valores a los parametros \\n\",\n",
    "today = date.today().strftime('%Y%m%d')\n",
    "now = datetime.now().strftime('%d-%m-%Y-%H-%M')\n",
    "today"
   ]
  },
  {
   "cell_type": "code",
   "execution_count": 32,
   "metadata": {},
   "outputs": [],
   "source": [
    "#Hacemos la conexion con el servidor\\n\",\n",
    "try:\n",
    "    conn = mysql.connector.connect(user=usuario,\n",
    "                               password=contraseña,\n",
    "                               host=servidor,\n",
    "                               port=puerto,\n",
    "                               database=base)\n",
    "    conn.set_charset_collation('latin1')\n",
    "except mysql.Error as e:\n",
    "    print(\"Failed to execute stored procedure: {}\".format(error))\n",
    "\n",
    "cursor = conn.cursor()"
   ]
  },
  {
   "source": [
    "# Liverpool"
   ],
   "cell_type": "markdown",
   "metadata": {}
  },
  {
   "cell_type": "code",
   "execution_count": 33,
   "metadata": {},
   "outputs": [],
   "source": [
    "#Hacemos la consulta referente a las gestiones de Liverpool\n",
    "gestion_liv = cs.query_naucalpan('liverpool_rpt_gestiones_detallado',today,today)\n",
    "gestion_liv.columns = ['folio_gestion','firma_id','unegocio_id','credito','nombre_credito','telefono','tipo_telefono','fecha_gestion','usuario','nombre_usuario','dictamen','accion','resultado','fecha_promesa','monto_promesa','comentarios']\n",
    "gestion_liv = gestion_liv.loc[gestion_liv['dictamen']=='PROMESA']"
   ]
  },
  {
   "cell_type": "code",
   "execution_count": 34,
   "metadata": {},
   "outputs": [
    {
     "output_type": "execute_result",
     "data": {
      "text/plain": [
       "   division              credito\n",
       "0  SA002REM  0001400000007731973"
      ],
      "text/html": "<div>\n<style scoped>\n    .dataframe tbody tr th:only-of-type {\n        vertical-align: middle;\n    }\n\n    .dataframe tbody tr th {\n        vertical-align: top;\n    }\n\n    .dataframe thead th {\n        text-align: right;\n    }\n</style>\n<table border=\"1\" class=\"dataframe\">\n  <thead>\n    <tr style=\"text-align: right;\">\n      <th></th>\n      <th>division</th>\n      <th>credito</th>\n    </tr>\n  </thead>\n  <tbody>\n    <tr>\n      <th>0</th>\n      <td>SA002REM</td>\n      <td>0001400000007731973</td>\n    </tr>\n  </tbody>\n</table>\n</div>"
     },
     "metadata": {},
     "execution_count": 34
    }
   ],
   "source": [
    "#Asignacion Liverpool\n",
    "asignacion_liv = pd.read_csv(''+ruta_pagos+'/Liverpool/Asignacion/Asignaciones csv/Asignacion '+mes2+'.csv',converters={'# CUENTA':str})\n",
    "asignacion_liv = asignacion_liv[['ID AGENCIA', '# CUENTA']]\n",
    "asignacion_liv.columns = ['division','credito']\n",
    "asignacion_liv.head(1)"
   ]
  },
  {
   "cell_type": "code",
   "execution_count": 35,
   "metadata": {},
   "outputs": [
    {
     "output_type": "execute_result",
     "data": {
      "text/plain": [
       "   folio_gestion  firma_id  unegocio_id           credito  \\\n",
       "1        9594579        12            2  1400000001083306   \n",
       "2        9594364        12            3  4050670000377912   \n",
       "3        9594304        12            4    13000024252145   \n",
       "\n",
       "            nombre_credito    telefono tipo_telefono       fecha_gestion  \\\n",
       "1       MARTIN PATLAN COTE  5533942597       celular 2021-01-11 15:29:24   \n",
       "2  ALEJANDRO CUANCA NAJERA  7713834418          casa 2021-01-11 15:10:50   \n",
       "3   GABRIEL OLVERA VAZQUEZ  4423616851       celular 2021-01-11 14:48:44   \n",
       "\n",
       "        usuario                    nombre_usuario dictamen             accion  \\\n",
       "1  YHERNANDEZBA  ALEJANDRA YESENIA HERNANDEZ BITE  PROMESA  LLAMADA A TITULAR   \n",
       "2  YHERNANDEZBA  ALEJANDRA YESENIA HERNANDEZ BITE  PROMESA  LLAMADA A TITULAR   \n",
       "3   BARRETOOSMF   BARRETO OSEGUERA MARIA FERNANDA  PROMESA  LLAMADA A TITULAR   \n",
       "\n",
       "                     resultado fecha_promesa  monto_promesa  \\\n",
       "1      PROMESA DE PAGO PARCIAL    2021-01-15         1000.0   \n",
       "2  PROMESA DE PAGO LIQUIDACION    2021-01-11         3337.0   \n",
       "3      PROMESA DE PAGO PARCIAL    2021-01-15         2250.0   \n",
       "\n",
       "                                         comentarios  division  \n",
       "1  5533942597 SE REPORTA TT PARA AGENDAR CONVENIO...  SA001REM  \n",
       "2  7713834418 MENCIONA QUE EL DIA 11/01/21 LE LLE...  SA002REM  \n",
       "3  4423616851 // PROMESA DE PAGO PARCIAL , TT LIQ...  DKN00REM  "
      ],
      "text/html": "<div>\n<style scoped>\n    .dataframe tbody tr th:only-of-type {\n        vertical-align: middle;\n    }\n\n    .dataframe tbody tr th {\n        vertical-align: top;\n    }\n\n    .dataframe thead th {\n        text-align: right;\n    }\n</style>\n<table border=\"1\" class=\"dataframe\">\n  <thead>\n    <tr style=\"text-align: right;\">\n      <th></th>\n      <th>folio_gestion</th>\n      <th>firma_id</th>\n      <th>unegocio_id</th>\n      <th>credito</th>\n      <th>nombre_credito</th>\n      <th>telefono</th>\n      <th>tipo_telefono</th>\n      <th>fecha_gestion</th>\n      <th>usuario</th>\n      <th>nombre_usuario</th>\n      <th>dictamen</th>\n      <th>accion</th>\n      <th>resultado</th>\n      <th>fecha_promesa</th>\n      <th>monto_promesa</th>\n      <th>comentarios</th>\n      <th>division</th>\n    </tr>\n  </thead>\n  <tbody>\n    <tr>\n      <th>1</th>\n      <td>9594579</td>\n      <td>12</td>\n      <td>2</td>\n      <td>1400000001083306</td>\n      <td>MARTIN PATLAN COTE</td>\n      <td>5533942597</td>\n      <td>celular</td>\n      <td>2021-01-11 15:29:24</td>\n      <td>YHERNANDEZBA</td>\n      <td>ALEJANDRA YESENIA HERNANDEZ BITE</td>\n      <td>PROMESA</td>\n      <td>LLAMADA A TITULAR</td>\n      <td>PROMESA DE PAGO PARCIAL</td>\n      <td>2021-01-15</td>\n      <td>1000.0</td>\n      <td>5533942597 SE REPORTA TT PARA AGENDAR CONVENIO...</td>\n      <td>SA001REM</td>\n    </tr>\n    <tr>\n      <th>2</th>\n      <td>9594364</td>\n      <td>12</td>\n      <td>3</td>\n      <td>4050670000377912</td>\n      <td>ALEJANDRO CUANCA NAJERA</td>\n      <td>7713834418</td>\n      <td>casa</td>\n      <td>2021-01-11 15:10:50</td>\n      <td>YHERNANDEZBA</td>\n      <td>ALEJANDRA YESENIA HERNANDEZ BITE</td>\n      <td>PROMESA</td>\n      <td>LLAMADA A TITULAR</td>\n      <td>PROMESA DE PAGO LIQUIDACION</td>\n      <td>2021-01-11</td>\n      <td>3337.0</td>\n      <td>7713834418 MENCIONA QUE EL DIA 11/01/21 LE LLE...</td>\n      <td>SA002REM</td>\n    </tr>\n    <tr>\n      <th>3</th>\n      <td>9594304</td>\n      <td>12</td>\n      <td>4</td>\n      <td>13000024252145</td>\n      <td>GABRIEL OLVERA VAZQUEZ</td>\n      <td>4423616851</td>\n      <td>celular</td>\n      <td>2021-01-11 14:48:44</td>\n      <td>BARRETOOSMF</td>\n      <td>BARRETO OSEGUERA MARIA FERNANDA</td>\n      <td>PROMESA</td>\n      <td>LLAMADA A TITULAR</td>\n      <td>PROMESA DE PAGO PARCIAL</td>\n      <td>2021-01-15</td>\n      <td>2250.0</td>\n      <td>4423616851 // PROMESA DE PAGO PARCIAL , TT LIQ...</td>\n      <td>DKN00REM</td>\n    </tr>\n  </tbody>\n</table>\n</div>"
     },
     "metadata": {},
     "execution_count": 35
    }
   ],
   "source": [
    "#Hacemos el consolidado \n",
    "consolidado_liv = pd.merge(gestion_liv,asignacion_liv,how='left',on=['credito'])\n",
    "cols = ['monto_promesa','credito']\n",
    "consolidado_liv[cols] = consolidado_liv[cols].apply(pd.to_numeric, errors='coerce')\n",
    "consolidado_liv = consolidado_liv[(consolidado_liv['monto_promesa']>50)]\n",
    "consolidado_liv = consolidado_liv[(consolidado_liv['monto_promesa']<500000)]\n",
    "consolidado_liv.fillna('COBRANZA',inplace=True)\n",
    "consolidado_liv.head(3)"
   ]
  },
  {
   "cell_type": "code",
   "execution_count": 36,
   "metadata": {},
   "outputs": [
    {
     "output_type": "execute_result",
     "data": {
      "text/plain": [
       "   Division  NumeroPromesas  SumaPromesas\n",
       "0  DKN00REM               8       21003.0\n",
       "1  DKN02REM               8       17418.0\n",
       "2  DKN04REM              13       28222.0\n",
       "3  SA001REM              11       21429.0\n",
       "4  SA002REM               2        4327.0\n",
       "5       All              42       92399.0"
      ],
      "text/html": "<div>\n<style scoped>\n    .dataframe tbody tr th:only-of-type {\n        vertical-align: middle;\n    }\n\n    .dataframe tbody tr th {\n        vertical-align: top;\n    }\n\n    .dataframe thead th {\n        text-align: right;\n    }\n</style>\n<table border=\"1\" class=\"dataframe\">\n  <thead>\n    <tr style=\"text-align: right;\">\n      <th></th>\n      <th>Division</th>\n      <th>NumeroPromesas</th>\n      <th>SumaPromesas</th>\n    </tr>\n  </thead>\n  <tbody>\n    <tr>\n      <th>0</th>\n      <td>DKN00REM</td>\n      <td>8</td>\n      <td>21003.0</td>\n    </tr>\n    <tr>\n      <th>1</th>\n      <td>DKN02REM</td>\n      <td>8</td>\n      <td>17418.0</td>\n    </tr>\n    <tr>\n      <th>2</th>\n      <td>DKN04REM</td>\n      <td>13</td>\n      <td>28222.0</td>\n    </tr>\n    <tr>\n      <th>3</th>\n      <td>SA001REM</td>\n      <td>11</td>\n      <td>21429.0</td>\n    </tr>\n    <tr>\n      <th>4</th>\n      <td>SA002REM</td>\n      <td>2</td>\n      <td>4327.0</td>\n    </tr>\n    <tr>\n      <th>5</th>\n      <td>All</td>\n      <td>42</td>\n      <td>92399.0</td>\n    </tr>\n  </tbody>\n</table>\n</div>"
     },
     "metadata": {},
     "execution_count": 36
    }
   ],
   "source": [
    "#Obtenemos datos de las promesas de Liverpool\n",
    "pivot_liv = pd.pivot_table(consolidado_liv,index=['division'],values=['credito','monto_promesa'],aggfunc=['count',np.sum],margins=True)\n",
    "pivot_liv = pd.DataFrame(pivot_liv.to_records())\n",
    "pivot_liv = pivot_liv.iloc[:,[0,1,4]]\n",
    "pivot_liv.columns = ['Division','NumeroPromesas','SumaPromesas']\n",
    "pivot_liv.fillna(0,inplace=True)\n",
    "#pivot_liv[['NumeroPromesas','PromedioPromesa','SumaPromesas']] = pivot_liv[['NumeroPromesas','PromedioPromesa','SumaPromesas']].applymap(\"{0:.2f}\".format)\n",
    "pivot_liv"
   ]
  },
  {
   "cell_type": "code",
   "execution_count": 37,
   "metadata": {},
   "outputs": [],
   "source": [
    "#Vemos las promesas reales eliminando duplicados\n",
    "consolidado_liv2 = consolidado_liv.drop_duplicates(subset=['credito','fecha_promesa','monto_promesa'])\n",
    "pivot_liv2 = pd.pivot_table(consolidado_liv2,index=['division'],values=['credito','monto_promesa'],aggfunc=['count',np.sum],margins=True)\n",
    "pivot_liv2 = pd.DataFrame(pivot_liv2.to_records())\n",
    "pivot_liv2 = pivot_liv2.iloc[:,[0,1,4]]\n",
    "pivot_liv2.columns = ['Dictamen','NumeroPromesas','SumaPromesas']\n",
    "pivot_liv2.fillna(0,inplace=True)\n",
    "#pivot_liv2[['NumeroPromesas','PromedioPromesa','SumaPromesas']] = pivot_gestion_liv2[['NumeroPromesas','PromedioPromesa','SumaPromesas']].applymap(\"{0:.2f}\".format)\n"
   ]
  },
  {
   "source": [
    "# Bradesco"
   ],
   "cell_type": "markdown",
   "metadata": {}
  },
  {
   "cell_type": "code",
   "execution_count": 38,
   "metadata": {},
   "outputs": [],
   "source": [
    "#Hacemos la consulta referente a las gestiones de Bradesco\n",
    "gestion_brad = cs.query_naucalpan('bradescard_rpt_gestiones_detallado',today,today)\n",
    "gestion_brad.columns = ['folio_gestion','firma_id','unegocio_id','NUMERO_TARJETA','nombre_credito','telefono','tipo_telefono','fecha_gestion','usuario','nombre_usuario','dictamen','accion','resultado','accion_resultado','fecha_promesa','monto_promesa','comentarios']\n",
    "gestion_brad = gestion_brad.loc[gestion_brad['dictamen']=='PROMESA']\n",
    "gestion_brad['NUMERO_TARJETA'] = pd.to_numeric(gestion_brad['NUMERO_TARJETA']) "
   ]
  },
  {
   "cell_type": "code",
   "execution_count": 39,
   "metadata": {},
   "outputs": [],
   "source": [
    "asignacion_brad_c0 = pd.read_excel(''+ruta_pagos+'/Bradesco/Asignacion_c0/ASIGNACION C0 '+mes2+'.xlsx')\n",
    "asignacion_brad_c0 = asignacion_brad_c0.iloc[:,[0,2,3,8,10,11,14,25]]\n",
    "asignacion_brad_extra = pd.read_csv(''+ruta_pagos+'/Bradesco/Asignacion_extra/CSV/Asignacion Extra '+mes2+'.csv',encoding= 'unicode_escape')\n",
    "asignacion_brad_extra = asignacion_brad_extra.iloc[:,[0,2,3,5,9,25,26,28]]\n",
    "asignacion_brad_extra.columns = ['CODIGO_ORG','NUMERO_CUENTA','NUMERO_TARJETA','RFC','ESTADO','SALDO_TOTAL','PAGO_DESCUENTO','PAGOSVENCIDOS']\n",
    "\n",
    "asignacion_brad = pd.concat([asignacion_brad_c0,asignacion_brad_extra],ignore_index=True)"
   ]
  },
  {
   "cell_type": "code",
   "execution_count": 40,
   "metadata": {},
   "outputs": [],
   "source": [
    "#Hacemos la union de asignacion y promesas\n",
    "consolidado_brad = pd.merge(gestion_brad,asignacion_brad,how='left',on=['NUMERO_TARJETA'])\n",
    "cols = ['monto_promesa']\n",
    "consolidado_brad[cols] = consolidado_brad[cols].apply(pd.to_numeric, errors='coerce')\n",
    "consolidado_brad = consolidado_brad[(consolidado_brad['monto_promesa']>50)]\n",
    "consolidado_brad = consolidado_brad[(consolidado_brad['monto_promesa']<500000)]"
   ]
  },
  {
   "cell_type": "code",
   "execution_count": 41,
   "metadata": {},
   "outputs": [
    {
     "output_type": "execute_result",
     "data": {
      "text/plain": [
       "  Division  NumeroPromesas  SumaPromesas\n",
       "0        A               1        2000.0\n",
       "1   C0 4PV              19       33440.0\n",
       "2   C0 5PV              14       22908.0\n",
       "3   C0 6PV              15       32130.0\n",
       "4       C1              18       26610.0\n",
       "5       C2              12       19566.0\n",
       "6       C3              11       12869.0\n",
       "7       C4               3        5050.0\n",
       "8      All              93      154573.0"
      ],
      "text/html": "<div>\n<style scoped>\n    .dataframe tbody tr th:only-of-type {\n        vertical-align: middle;\n    }\n\n    .dataframe tbody tr th {\n        vertical-align: top;\n    }\n\n    .dataframe thead th {\n        text-align: right;\n    }\n</style>\n<table border=\"1\" class=\"dataframe\">\n  <thead>\n    <tr style=\"text-align: right;\">\n      <th></th>\n      <th>Division</th>\n      <th>NumeroPromesas</th>\n      <th>SumaPromesas</th>\n    </tr>\n  </thead>\n  <tbody>\n    <tr>\n      <th>0</th>\n      <td>A</td>\n      <td>1</td>\n      <td>2000.0</td>\n    </tr>\n    <tr>\n      <th>1</th>\n      <td>C0 4PV</td>\n      <td>19</td>\n      <td>33440.0</td>\n    </tr>\n    <tr>\n      <th>2</th>\n      <td>C0 5PV</td>\n      <td>14</td>\n      <td>22908.0</td>\n    </tr>\n    <tr>\n      <th>3</th>\n      <td>C0 6PV</td>\n      <td>15</td>\n      <td>32130.0</td>\n    </tr>\n    <tr>\n      <th>4</th>\n      <td>C1</td>\n      <td>18</td>\n      <td>26610.0</td>\n    </tr>\n    <tr>\n      <th>5</th>\n      <td>C2</td>\n      <td>12</td>\n      <td>19566.0</td>\n    </tr>\n    <tr>\n      <th>6</th>\n      <td>C3</td>\n      <td>11</td>\n      <td>12869.0</td>\n    </tr>\n    <tr>\n      <th>7</th>\n      <td>C4</td>\n      <td>3</td>\n      <td>5050.0</td>\n    </tr>\n    <tr>\n      <th>8</th>\n      <td>All</td>\n      <td>93</td>\n      <td>154573.0</td>\n    </tr>\n  </tbody>\n</table>\n</div>"
     },
     "metadata": {},
     "execution_count": 41
    }
   ],
   "source": [
    "#Obtenemos datos de las promesas de Bradesco\n",
    "pivot_brad = pd.pivot_table(consolidado_brad,index=['PAGOSVENCIDOS'],values=['NUMERO_TARJETA','monto_promesa'],aggfunc=['count',np.sum],margins=True)\n",
    "pivot_brad = pd.DataFrame(pivot_brad.to_records())\n",
    "pivot_brad = pivot_brad.iloc[:,[0,1,4]]\n",
    "pivot_brad.columns = ['Division','NumeroPromesas','SumaPromesas']\n",
    "pivot_brad.fillna(0,inplace=True)\n",
    "#pivot_brad[['NumeroPromesas','PromedioPromesa','SumaPromesas']] = pivot_gestion_brad[['NumeroPromesas','PromedioPromesa','SumaPromesas']].applymap(\"{0:.2f}\".format)\n",
    "pivot_brad"
   ]
  },
  {
   "cell_type": "code",
   "execution_count": 42,
   "metadata": {},
   "outputs": [
    {
     "output_type": "execute_result",
     "data": {
      "text/plain": [
       "  Division  NumeroPromesas  SumaPromesas\n",
       "0        A               1        2000.0\n",
       "1   C0 4PV              19       33440.0\n",
       "2   C0 5PV              14       22908.0\n",
       "3   C0 6PV              15       32130.0\n",
       "4       C1              18       26610.0\n",
       "5       C2              12       19566.0\n",
       "6       C3              11       12869.0\n",
       "7       C4               3        5050.0\n",
       "8      All              93      154573.0"
      ],
      "text/html": "<div>\n<style scoped>\n    .dataframe tbody tr th:only-of-type {\n        vertical-align: middle;\n    }\n\n    .dataframe tbody tr th {\n        vertical-align: top;\n    }\n\n    .dataframe thead th {\n        text-align: right;\n    }\n</style>\n<table border=\"1\" class=\"dataframe\">\n  <thead>\n    <tr style=\"text-align: right;\">\n      <th></th>\n      <th>Division</th>\n      <th>NumeroPromesas</th>\n      <th>SumaPromesas</th>\n    </tr>\n  </thead>\n  <tbody>\n    <tr>\n      <th>0</th>\n      <td>A</td>\n      <td>1</td>\n      <td>2000.0</td>\n    </tr>\n    <tr>\n      <th>1</th>\n      <td>C0 4PV</td>\n      <td>19</td>\n      <td>33440.0</td>\n    </tr>\n    <tr>\n      <th>2</th>\n      <td>C0 5PV</td>\n      <td>14</td>\n      <td>22908.0</td>\n    </tr>\n    <tr>\n      <th>3</th>\n      <td>C0 6PV</td>\n      <td>15</td>\n      <td>32130.0</td>\n    </tr>\n    <tr>\n      <th>4</th>\n      <td>C1</td>\n      <td>18</td>\n      <td>26610.0</td>\n    </tr>\n    <tr>\n      <th>5</th>\n      <td>C2</td>\n      <td>12</td>\n      <td>19566.0</td>\n    </tr>\n    <tr>\n      <th>6</th>\n      <td>C3</td>\n      <td>11</td>\n      <td>12869.0</td>\n    </tr>\n    <tr>\n      <th>7</th>\n      <td>C4</td>\n      <td>3</td>\n      <td>5050.0</td>\n    </tr>\n    <tr>\n      <th>8</th>\n      <td>All</td>\n      <td>93</td>\n      <td>154573.0</td>\n    </tr>\n  </tbody>\n</table>\n</div>"
     },
     "metadata": {},
     "execution_count": 42
    }
   ],
   "source": [
    "#Vemos las promesas reales eliminando duplicados\n",
    "consolidado_brad2 = consolidado_brad.drop_duplicates(subset=['NUMERO_TARJETA','fecha_promesa','monto_promesa'])\n",
    "pivot_brad2 = pd.pivot_table(consolidado_brad2,index=['PAGOSVENCIDOS'],values=['NUMERO_TARJETA','monto_promesa'],aggfunc=['count',np.sum],margins=True)\n",
    "pivot_brad2 = pd.DataFrame(pivot_brad2.to_records())\n",
    "pivot_brad2 = pivot_brad2.iloc[:,[0,1,4]]\n",
    "pivot_brad2.columns = ['Division','NumeroPromesas','SumaPromesas']\n",
    "pivot_brad2.fillna(0,inplace=True)\n",
    "#pivot_brad2[['NumeroPromesas','PromedioPromesa','SumaPromesas']] = pivot_gestion_brad2[['NumeroPromesas','PromedioPromesa','SumaPromesas']].applymap(\"{0:.2f}\".format)\n",
    "pivot_brad2"
   ]
  },
  {
   "source": [
    "# Credifiel"
   ],
   "cell_type": "markdown",
   "metadata": {}
  },
  {
   "cell_type": "code",
   "execution_count": 43,
   "metadata": {},
   "outputs": [],
   "source": [
    "#Hacemos la consulta referente a las gestiones de Credifiel\n",
    "gestion_cred = cs.query_naucalpan('credifiel_rpt_gestiones_detallado',today,today)\n",
    "gestion_cred.columns = ['folio_gestion','unegocio_id','fecha_gestion','hora_gestion','credito','nombre_credito','telefono','usuario','nombre_usuario','accion','resultado','fecha_promesa','monto_promesa','comentarios','accion_credifiel','resultado_credifiel','dictamen']\n",
    "gestion_cred = gestion_cred.loc[gestion_cred['accion_credifiel']=='PDP']\n",
    "cols = ['monto_promesa','unegocio_id']\n",
    "gestion_cred[cols] = gestion_cred[cols].apply(pd.to_numeric, errors='coerce')\n",
    "gestion_cred = gestion_cred.loc[gestion_cred['monto_promesa']>0]"
   ]
  },
  {
   "cell_type": "code",
   "execution_count": 44,
   "metadata": {},
   "outputs": [],
   "source": [
    "#Hacemos la union de asignacion y promesas\n",
    "consolidado_cred = gestion_cred\n",
    "cols = ['monto_promesa','unegocio_id']\n",
    "consolidado_cred[cols] = consolidado_cred[cols].apply(pd.to_numeric, errors='coerce')\n",
    "consolidado_cred = consolidado_cred[(consolidado_cred['monto_promesa']>50)]\n",
    "consolidado_cred = consolidado_cred[(consolidado_cred['monto_promesa']<500000)]\n",
    "consolidado_cred['division'] = 'EXTRAJUDICIAL'"
   ]
  },
  {
   "cell_type": "code",
   "execution_count": 45,
   "metadata": {},
   "outputs": [
    {
     "output_type": "execute_result",
     "data": {
      "text/plain": [
       "        Division  NumeroPromesas  SumaPromesas\n",
       "0  EXTRAJUDICIAL               3        4669.0"
      ],
      "text/html": "<div>\n<style scoped>\n    .dataframe tbody tr th:only-of-type {\n        vertical-align: middle;\n    }\n\n    .dataframe tbody tr th {\n        vertical-align: top;\n    }\n\n    .dataframe thead th {\n        text-align: right;\n    }\n</style>\n<table border=\"1\" class=\"dataframe\">\n  <thead>\n    <tr style=\"text-align: right;\">\n      <th></th>\n      <th>Division</th>\n      <th>NumeroPromesas</th>\n      <th>SumaPromesas</th>\n    </tr>\n  </thead>\n  <tbody>\n    <tr>\n      <th>0</th>\n      <td>EXTRAJUDICIAL</td>\n      <td>3</td>\n      <td>4669.0</td>\n    </tr>\n  </tbody>\n</table>\n</div>"
     },
     "metadata": {},
     "execution_count": 45
    }
   ],
   "source": [
    "#Obtenemos datos de las promesas de Credifiel\n",
    "pivot_cred = pd.pivot_table(consolidado_cred,index=['division'],values=['unegocio_id','monto_promesa'],aggfunc=('count',np.sum))\n",
    "pivot_cred = pd.DataFrame(pivot_cred.to_records())\n",
    "pivot_cred = pivot_cred.iloc[:,[0,3,2]]\n",
    "pivot_cred.columns = ['Division','NumeroPromesas','SumaPromesas']\n",
    "pivot_cred.fillna(0,inplace=True)\n",
    "pivot_cred = pivot_cred.loc[pivot_cred['SumaPromesas']>0]\n",
    "#pivot_gestion_cred[['NumeroPromesas','PromedioPromesa','SumaPromesas']] = pivot_gestion_brad[['NumeroPromesas','PromedioPromesa','SumaPromesas']].applymap(\"{0:.2f}\".format)\n",
    "pivot_cred"
   ]
  },
  {
   "cell_type": "code",
   "execution_count": 46,
   "metadata": {},
   "outputs": [
    {
     "output_type": "execute_result",
     "data": {
      "text/plain": [
       "        Division  NumeroPromesas  SumaPromesas\n",
       "0  EXTRAJUDICIAL               3        4669.0"
      ],
      "text/html": "<div>\n<style scoped>\n    .dataframe tbody tr th:only-of-type {\n        vertical-align: middle;\n    }\n\n    .dataframe tbody tr th {\n        vertical-align: top;\n    }\n\n    .dataframe thead th {\n        text-align: right;\n    }\n</style>\n<table border=\"1\" class=\"dataframe\">\n  <thead>\n    <tr style=\"text-align: right;\">\n      <th></th>\n      <th>Division</th>\n      <th>NumeroPromesas</th>\n      <th>SumaPromesas</th>\n    </tr>\n  </thead>\n  <tbody>\n    <tr>\n      <th>0</th>\n      <td>EXTRAJUDICIAL</td>\n      <td>3</td>\n      <td>4669.0</td>\n    </tr>\n  </tbody>\n</table>\n</div>"
     },
     "metadata": {},
     "execution_count": 46
    }
   ],
   "source": [
    "#Vemos las promesas reales eliminando duplicados\n",
    "consolidado_cred2 = consolidado_cred.drop_duplicates(subset=['credito','fecha_promesa','monto_promesa'])\n",
    "pivot_cred2 = pd.pivot_table(consolidado_cred2,index=['division'],values=['unegocio_id','monto_promesa'],aggfunc=('count',np.sum))\n",
    "pivot_cred2 = pd.DataFrame(pivot_cred2.to_records())\n",
    "pivot_cred2 = pivot_cred2.iloc[:,[0,3,2]]\n",
    "pivot_cred2.columns = ['Division','NumeroPromesas','SumaPromesas']\n",
    "pivot_cred2.fillna(0,inplace=True)\n",
    "pivot_cred2 = pivot_cred2.loc[pivot_cred2['SumaPromesas']>0]\n",
    "#pivot_gestion_cred[['NumeroPromesas','PromedioPromesa','SumaPromesas']] = pivot_gestion_brad[['NumeroPromesas','PromedioPromesa','SumaPromesas']].applymap(\"{0:.2f}\".format)\n",
    "pivot_cred2"
   ]
  },
  {
   "source": [
    "# Banco Azteca"
   ],
   "cell_type": "markdown",
   "metadata": {}
  },
  {
   "cell_type": "code",
   "execution_count": 47,
   "metadata": {},
   "outputs": [],
   "source": [
    "#Hacemos la consulta referente a las gestiones de Banco Azteca\n",
    "gestion_baz = cs.query_naucalpan('baz_rpt_gestiones_detallado',today,today)\n",
    "gestion_baz.columns = ['folio_gestion','firma_id','unegocio_id','credito','nombre_credito','telefono','tipo_telefono','fecha_gestion','usuario','nombre_usuario','dictamen','accion_resultado','fecha_promesa','monto_promesa','comentarios']\n",
    "gestion_baz = gestion_baz.loc[gestion_baz['dictamen']=='PROMESA']"
   ]
  },
  {
   "cell_type": "code",
   "execution_count": 48,
   "metadata": {},
   "outputs": [],
   "source": [
    "#new_asignaciones = os.listdir('/home/estadistico/Documents/Erick/Banco Azteca/Asignacion')\n",
    "#sample_cols_to_keep =['#FIIDCAMPANA', 'FIPAIS', 'FICANAL','FISUCURSAL','FIFOLIO','FISEMATRASMAX','FNSALDO','FNSALDOCAPITAL','FNPAGOREQ','FCTEL1','FCTIPO1','FNDIA_PAGO','FIDIASATRASOMAX','FNCAPPAGODISP','FNABONOSEMANAL','FNCAPACIDADPAGO','FILCRACTIVA','FDFECPROXPAG','FNTASAINT','CP','fcnombreos','fcappaternoos','FITERRITORIO','FCDESCTERRITORIO','FIZONA','FCDESCZONA','FIREGION','FCDESCREGION','FIGERENCIA','FCDESCGERENCIA','FCBESTTIMETOCALL','FECHA']\n",
    "#df_iter = pd.read_csv('/home/estadistico/Documents/Erick/Banco Azteca/Asignacion_csv/Asignacion banco azteca '+mes+'.csv', chunksize=20000, usecols=sample_cols_to_keep) \n",
    "#df_lst = [] \n",
    "#for df_ in df_iter: \n",
    "#            tmp_df = (df_.rename(columns={col: col.lower() for col in df_.columns}))\n",
    "#            df_lst += [tmp_df.copy()] \n",
    "#asignacion_baz = pd.concat(df_lst)"
   ]
  },
  {
   "cell_type": "code",
   "execution_count": 49,
   "metadata": {},
   "outputs": [],
   "source": [
    "#asignacion_baz = pd.read_csv(''+ruta_asig_baz+'/Asignacion banco azteca '+str(mes2)+'.csv')\n",
    "#asignacion_baz = asignacion_baz.rename(columns=str.lower)\n",
    "#asignacion_baz.head(3)"
   ]
  },
  {
   "cell_type": "code",
   "execution_count": 50,
   "metadata": {},
   "outputs": [],
   "source": [
    "#asignacion_baz['credito'] = asignacion_baz['fipais'].map(str)+'-'+asignacion_baz['ficanal'].map(str)+'-'+asignacion_baz['fisucursal'].map(str)+'-'+asignacion_baz['fifolio'].map(str)\n",
    "#asignacion_baz.head(3)"
   ]
  },
  {
   "cell_type": "code",
   "execution_count": 51,
   "metadata": {},
   "outputs": [],
   "source": [
    "consolidado_baz = gestion_baz\n",
    "cols = ['monto_promesa']\n",
    "consolidado_baz[cols] = consolidado_baz[cols].apply(pd.to_numeric, errors='coerce')\n",
    "consolidado_baz = consolidado_baz[(consolidado_baz['monto_promesa']>50)]\n",
    "consolidado_baz = consolidado_baz[(consolidado_baz['monto_promesa']<500000)]\n",
    "consolidado_baz.fillna('COBRANZA',inplace=True)"
   ]
  },
  {
   "cell_type": "code",
   "execution_count": 52,
   "metadata": {},
   "outputs": [
    {
     "output_type": "execute_result",
     "data": {
      "text/plain": [
       "  Dictamen  NumeroPromesas  SumaPromesas\n",
       "0  PROMESA              98       96612.0"
      ],
      "text/html": "<div>\n<style scoped>\n    .dataframe tbody tr th:only-of-type {\n        vertical-align: middle;\n    }\n\n    .dataframe tbody tr th {\n        vertical-align: top;\n    }\n\n    .dataframe thead th {\n        text-align: right;\n    }\n</style>\n<table border=\"1\" class=\"dataframe\">\n  <thead>\n    <tr style=\"text-align: right;\">\n      <th></th>\n      <th>Dictamen</th>\n      <th>NumeroPromesas</th>\n      <th>SumaPromesas</th>\n    </tr>\n  </thead>\n  <tbody>\n    <tr>\n      <th>0</th>\n      <td>PROMESA</td>\n      <td>98</td>\n      <td>96612.0</td>\n    </tr>\n  </tbody>\n</table>\n</div>"
     },
     "metadata": {},
     "execution_count": 52
    }
   ],
   "source": [
    "#Obtenemos datos de las promesas de Banco Azteca\n",
    "pivot_baz = pd.pivot_table(consolidado_baz,index=['dictamen'],values=['unegocio_id','monto_promesa'],aggfunc=('count',np.sum))\n",
    "pivot_baz = pd.DataFrame(pivot_baz.to_records())\n",
    "pivot_baz = pivot_baz.iloc[:,[0,3,2]]\n",
    "pivot_baz.columns = ['Dictamen','NumeroPromesas','SumaPromesas']\n",
    "pivot_baz.fillna(0,inplace=True)\n",
    "#pivot_baz[['NumeroPromesas','PromedioPromesa','SumaPromesas']] = pivot_gestion_baz[['NumeroPromesas','PromedioPromesa','SumaPromesas']].applymap(\"{0:.2f}\".format)\n",
    "pivot_baz"
   ]
  },
  {
   "cell_type": "code",
   "execution_count": 53,
   "metadata": {},
   "outputs": [
    {
     "output_type": "execute_result",
     "data": {
      "text/plain": [
       "  Dictamen  NumeroPromesas  SumaPromesas\n",
       "0  PROMESA              98       96612.0"
      ],
      "text/html": "<div>\n<style scoped>\n    .dataframe tbody tr th:only-of-type {\n        vertical-align: middle;\n    }\n\n    .dataframe tbody tr th {\n        vertical-align: top;\n    }\n\n    .dataframe thead th {\n        text-align: right;\n    }\n</style>\n<table border=\"1\" class=\"dataframe\">\n  <thead>\n    <tr style=\"text-align: right;\">\n      <th></th>\n      <th>Dictamen</th>\n      <th>NumeroPromesas</th>\n      <th>SumaPromesas</th>\n    </tr>\n  </thead>\n  <tbody>\n    <tr>\n      <th>0</th>\n      <td>PROMESA</td>\n      <td>98</td>\n      <td>96612.0</td>\n    </tr>\n  </tbody>\n</table>\n</div>"
     },
     "metadata": {},
     "execution_count": 53
    }
   ],
   "source": [
    "#Vemos las promesas reales eliminando duplicados\n",
    "consolidado_baz2 = consolidado_baz.drop_duplicates(subset=['credito','fecha_promesa','monto_promesa'])\n",
    "pivot_baz2 = pd.pivot_table(consolidado_baz2,index=['dictamen'],values=['unegocio_id','monto_promesa'],aggfunc=('count',np.sum))\n",
    "pivot_baz2 = pd.DataFrame(pivot_baz2.to_records())\n",
    "pivot_baz2 = pivot_baz2.iloc[:,[0,3,2]]\n",
    "pivot_baz2.columns = ['Dictamen','NumeroPromesas','SumaPromesas']\n",
    "pivot_baz2.fillna(0,inplace=True)\n",
    "#pivot_baz2[['NumeroPromesas','PromedioPromesa','SumaPromesas']] = pivot_gestion_baz2[['NumeroPromesas','PromedioPromesa','SumaPromesas']].applymap(\"{0:.2f}\".format)\n",
    "pivot_baz2"
   ]
  },
  {
   "cell_type": "code",
   "execution_count": 55,
   "metadata": {},
   "outputs": [],
   "source": [
    "writer = pd.ExcelWriter(''+ruta+'/Reporte Promesas Diarias '+now+'.xlsx', engine='xlsxwriter')\n",
    "pivot_liv.to_excel(writer,'PromDiariaLivBruto',index=False,header=True)\n",
    "pivot_liv2.to_excel(writer,'PromDiariaLivReal',index=False,header=True)\n",
    "pivot_brad.to_excel(writer,'PromDiariaBradBruto',index=False,header=True)\n",
    "pivot_brad2.to_excel(writer,'PromDiariaBradReal',index=False,header=True)\n",
    "pivot_cred.to_excel(writer,'PromDiariaCredBruto',index=False,header=True)\n",
    "pivot_cred2.to_excel(writer,'PromDiariaCredReal',index=False,header=True)\n",
    "pivot_baz.to_excel(writer,'PromDiariaBAZBruto',index=False,header=True)\n",
    "pivot_baz2.to_excel(writer,'PromDiariaBAZReal',index=False,header=True)\n",
    "\n",
    "writer.save()\n",
    "# writer.close()"
   ]
  },
  {
   "cell_type": "code",
   "execution_count": null,
   "metadata": {},
   "outputs": [],
   "source": []
  }
 ]
}