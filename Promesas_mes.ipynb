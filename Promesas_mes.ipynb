{
 "metadata": {
  "language_info": {
   "codemirror_mode": {
    "name": "ipython",
    "version": 3
   },
   "file_extension": ".py",
   "mimetype": "text/x-python",
   "name": "python",
   "nbconvert_exporter": "python",
   "pygments_lexer": "ipython3",
   "version": "3.8.5-final"
  },
  "orig_nbformat": 2,
  "kernelspec": {
   "name": "python3",
   "display_name": "Python 3",
   "language": "python"
  }
 },
 "nbformat": 4,
 "nbformat_minor": 2,
 "cells": [
  {
   "source": [
    "# Reporte de promesas acumuladas en el mes"
   ],
   "cell_type": "markdown",
   "metadata": {}
  },
  {
   "cell_type": "code",
   "execution_count": 1,
   "metadata": {},
   "outputs": [],
   "source": [
    "import pandas as pd\n",
    "import numpy as np\n",
    "import mysql.connector\n",
    "from mysql.connector import Error\n",
    "from datetime import date, datetime\n",
    "import ConeccionesSucursales as cs\n",
    "from IPython.core.interactiveshell import InteractiveShell\n",
    "InteractiveShell.ast_node_interactivity = \"all\""
   ]
  },
  {
   "cell_type": "code",
   "execution_count": 2,
   "metadata": {},
   "outputs": [],
   "source": [
    "#Definimos la ruta en donde queremos guardar los archivos\n",
    "mes2 = 'Enero2021'\n",
    "ruta = '/home/estadistico/Documents/Erick/'+mes2+'/Reportes diarios/Promesas mes'\n",
    "ruta_pagos = '/home/estadistico/Documents/Erick'\n",
    "#Definimos la ruta donde estan las asignaciones\n",
    "ruta_asig_baz = '/home/estadistico/Documents/Erick/Banco Azteca/Asignacion csv'\n",
    "mes = 20210101"
   ]
  },
  {
   "cell_type": "code",
   "execution_count": 3,
   "metadata": {},
   "outputs": [],
   "source": [
    "#Agregamos las variables a ocupar\n",
    "servidor = '192.168.15.12'\n",
    "puerto = int('3306')\n",
    "usuario = 'estadisticas'\n",
    "contraseña = 'estadisticas8474'\n",
    "base = 'procesos_externos'"
   ]
  },
  {
   "cell_type": "code",
   "execution_count": 4,
   "metadata": {},
   "outputs": [],
   "source": [
    "#Asignamos valores a los parametros \\n\",\n",
    "today = date.today().strftime('%Y%m%d')\n",
    "now = datetime.now().strftime('%d-%m-%Y-%H:%M')"
   ]
  },
  {
   "cell_type": "code",
   "execution_count": 5,
   "metadata": {},
   "outputs": [],
   "source": [
    "#Hacemos la conexion con el servidor\\n\",\n",
    "try:\n",
    "    conn = mysql.connector.connect(user=usuario,\n",
    "                               password=contraseña,\n",
    "                               host=servidor,\n",
    "                               port=3306,\n",
    "                               database=base)\n",
    "    conn.set_charset_collation('latin1')\n",
    "except mysql.Error as e:\n",
    "    print(\"Failed to execute stored procedure: {}\".format(error))\n",
    "\n",
    "cursor = conn.cursor()"
   ]
  },
  {
   "source": [
    "# Liverpool"
   ],
   "cell_type": "markdown",
   "metadata": {}
  },
  {
   "cell_type": "code",
   "execution_count": 6,
   "metadata": {},
   "outputs": [],
   "source": [
    "#Hacemos la consulta referente a las gestiones de Liverpool\n",
    "gestion_liv = cs.query_naucalpan('liverpool_rpt_gestiones_detallado',mes,today)\n",
    "gestion_liv.columns = ['folio_gestion','firma_id','unegocio_id','credito','nombre_credito','telefono','tipo_telefono','fecha_gestion','usuario','nombre_usuario','dictamen','accion','resultado','fecha_promesa','monto_promesa','comentarios']\n",
    "gestion_liv = gestion_liv.loc[gestion_liv['dictamen']=='PROMESA']"
   ]
  },
  {
   "cell_type": "code",
   "execution_count": 7,
   "metadata": {},
   "outputs": [],
   "source": [
    "#Asignacion Liverpool\n",
    "asignacion_liv = pd.read_csv(''+ruta_pagos+'/Liverpool/Asignacion/Asignaciones csv/Asignacion '+mes2+'.csv',converters={'# CUENTA':str})\n",
    "asignacion_liv = asignacion_liv[['ID AGENCIA', '# CUENTA']]\n",
    "asignacion_liv.columns = ['division','credito']"
   ]
  },
  {
   "cell_type": "code",
   "execution_count": 8,
   "metadata": {},
   "outputs": [],
   "source": [
    "#Hacemos el consolidado \n",
    "consolidado_liv = pd.merge(gestion_liv,asignacion_liv,how='left',on=['credito'])\n",
    "cols = ['monto_promesa','credito']\n",
    "consolidado_liv[cols] = consolidado_liv[cols].apply(pd.to_numeric, errors='coerce')\n",
    "consolidado_liv = consolidado_liv[(consolidado_liv['monto_promesa']>50)]\n",
    "consolidado_liv = consolidado_liv[(consolidado_liv['monto_promesa']<500000)]\n",
    "#consolidado_liv.head(3)"
   ]
  },
  {
   "cell_type": "code",
   "execution_count": 9,
   "metadata": {},
   "outputs": [
    {
     "output_type": "execute_result",
     "data": {
      "text/plain": [
       "   Division  NumeroPromesas  SumaPromesas\n",
       "0  DKN00REM             240    1216869.74\n",
       "1  DKN02REM             239     880990.72\n",
       "2  DKN04REM             131     583782.44\n",
       "3  SA001REM             225     346023.32\n",
       "4  SA002REM              11      22817.00\n",
       "5       All             846    3050483.22"
      ],
      "text/html": "<div>\n<style scoped>\n    .dataframe tbody tr th:only-of-type {\n        vertical-align: middle;\n    }\n\n    .dataframe tbody tr th {\n        vertical-align: top;\n    }\n\n    .dataframe thead th {\n        text-align: right;\n    }\n</style>\n<table border=\"1\" class=\"dataframe\">\n  <thead>\n    <tr style=\"text-align: right;\">\n      <th></th>\n      <th>Division</th>\n      <th>NumeroPromesas</th>\n      <th>SumaPromesas</th>\n    </tr>\n  </thead>\n  <tbody>\n    <tr>\n      <th>0</th>\n      <td>DKN00REM</td>\n      <td>240</td>\n      <td>1216869.74</td>\n    </tr>\n    <tr>\n      <th>1</th>\n      <td>DKN02REM</td>\n      <td>239</td>\n      <td>880990.72</td>\n    </tr>\n    <tr>\n      <th>2</th>\n      <td>DKN04REM</td>\n      <td>131</td>\n      <td>583782.44</td>\n    </tr>\n    <tr>\n      <th>3</th>\n      <td>SA001REM</td>\n      <td>225</td>\n      <td>346023.32</td>\n    </tr>\n    <tr>\n      <th>4</th>\n      <td>SA002REM</td>\n      <td>11</td>\n      <td>22817.00</td>\n    </tr>\n    <tr>\n      <th>5</th>\n      <td>All</td>\n      <td>846</td>\n      <td>3050483.22</td>\n    </tr>\n  </tbody>\n</table>\n</div>"
     },
     "metadata": {},
     "execution_count": 9
    }
   ],
   "source": [
    "#Obtenemos datos de las promesas de Liverpool\n",
    "consolidado_liv2 = consolidado_liv.drop_duplicates(subset=['credito','fecha_promesa','monto_promesa'])\n",
    "pivot_liv = pd.pivot_table(consolidado_liv2,index=['division'],values=['credito','monto_promesa'],aggfunc=['count',np.sum],margins=True)\n",
    "pivot_liv = pd.DataFrame(pivot_liv.to_records())\n",
    "pivot_liv = pivot_liv.iloc[:,[0,1,4]]\n",
    "pivot_liv.columns = ['Division','NumeroPromesas','SumaPromesas']\n",
    "pivot_liv.fillna(0,inplace=True)\n",
    "#pivot_liv[['NumeroPromesas','PromedioPromesa','SumaPromesas']] = pivot_liv[['NumeroPromesas','PromedioPromesa','SumaPromesas']].applymap(\"{0:.2f}\".format)\n",
    "pivot_liv"
   ]
  },
  {
   "source": [
    "# Bradesco "
   ],
   "cell_type": "markdown",
   "metadata": {}
  },
  {
   "cell_type": "code",
   "execution_count": 10,
   "metadata": {},
   "outputs": [],
   "source": [
    "#Hacemos la consulta referente a las gestiones de Bradesco\n",
    "gestion_brad = cs.query_naucalpan('bradescard_rpt_gestiones_detallado',mes,today)\n",
    "gestion_brad.columns = ['folio_gestion','firma_id','unegocio_id','NUMERO_TARJETA','nombre_credito','telefono','tipo_telefono','fecha_gestion','usuario','nombre_usuario','dictamen','accion','resultado','accion_resultado','fecha_promesa','monto_promesa','comentarios']\n",
    "gestion_brad = gestion_brad.loc[gestion_brad['dictamen']=='PROMESA']\n",
    "gestion_brad['NUMERO_TARJETA'] = pd.to_numeric(gestion_brad['NUMERO_TARJETA']) "
   ]
  },
  {
   "cell_type": "code",
   "execution_count": 11,
   "metadata": {},
   "outputs": [],
   "source": [
    "asignacion_brad_c0 = pd.read_csv(''+ruta_pagos+'/Bradesco/Asignacion_c0/CSV/ASIGNACION C0 '+mes2+'.csv')\n",
    "asignacion_brad_c0 = asignacion_brad_c0.iloc[:,[0,2,3,8,10,11,14,25]]\n",
    "asignacion_brad_extra = pd.read_csv(''+ruta_pagos+'/Bradesco/Asignacion_extra/CSV/Asignacion Extra '+mes2+'.csv',encoding= 'unicode_escape')\n",
    "asignacion_brad_extra = asignacion_brad_extra.iloc[:,[0,2,3,5,9,25,26,28]]\n",
    "asignacion_brad_extra.columns = ['CODIGO_ORG','NUMERO_CUENTA','NUMERO_TARJETA','RFC','ESTADO','SALDO_TOTAL','PAGO_DESCUENTO','PAGOSVENCIDOS']\n",
    "\n",
    "asignacion_brad = pd.concat([asignacion_brad_c0,asignacion_brad_extra],ignore_index=True)"
   ]
  },
  {
   "cell_type": "code",
   "execution_count": 12,
   "metadata": {},
   "outputs": [],
   "source": [
    "#Hacemos la union de asignacion y promesas\n",
    "consolidado_brad = pd.merge(gestion_brad,asignacion_brad,how='left',on=['NUMERO_TARJETA'])\n",
    "cols = ['monto_promesa']\n",
    "consolidado_brad[cols] = consolidado_brad[cols].apply(pd.to_numeric, errors='coerce')\n",
    "consolidado_brad = consolidado_brad[(consolidado_brad['monto_promesa']>50)]\n",
    "consolidado_brad = consolidado_brad[(consolidado_brad['monto_promesa']<500000)]"
   ]
  },
  {
   "cell_type": "code",
   "execution_count": 13,
   "metadata": {},
   "outputs": [
    {
     "output_type": "execute_result",
     "data": {
      "text/plain": [
       "  Division  NumeroPromesas  SumaPromesas\n",
       "0        A              44      78995.00\n",
       "1        B               9      18565.00\n",
       "2   C0 4PV             461     707382.59\n",
       "3   C0 5PV             254     419754.00\n",
       "4   C0 6PV             170     287608.00\n",
       "5       C1             253     464956.00\n",
       "6       C2             223     352595.00\n",
       "7       C3             143     179705.00\n",
       "8       C4              68      85425.00\n",
       "9      All            1625    2594985.59"
      ],
      "text/html": "<div>\n<style scoped>\n    .dataframe tbody tr th:only-of-type {\n        vertical-align: middle;\n    }\n\n    .dataframe tbody tr th {\n        vertical-align: top;\n    }\n\n    .dataframe thead th {\n        text-align: right;\n    }\n</style>\n<table border=\"1\" class=\"dataframe\">\n  <thead>\n    <tr style=\"text-align: right;\">\n      <th></th>\n      <th>Division</th>\n      <th>NumeroPromesas</th>\n      <th>SumaPromesas</th>\n    </tr>\n  </thead>\n  <tbody>\n    <tr>\n      <th>0</th>\n      <td>A</td>\n      <td>44</td>\n      <td>78995.00</td>\n    </tr>\n    <tr>\n      <th>1</th>\n      <td>B</td>\n      <td>9</td>\n      <td>18565.00</td>\n    </tr>\n    <tr>\n      <th>2</th>\n      <td>C0 4PV</td>\n      <td>461</td>\n      <td>707382.59</td>\n    </tr>\n    <tr>\n      <th>3</th>\n      <td>C0 5PV</td>\n      <td>254</td>\n      <td>419754.00</td>\n    </tr>\n    <tr>\n      <th>4</th>\n      <td>C0 6PV</td>\n      <td>170</td>\n      <td>287608.00</td>\n    </tr>\n    <tr>\n      <th>5</th>\n      <td>C1</td>\n      <td>253</td>\n      <td>464956.00</td>\n    </tr>\n    <tr>\n      <th>6</th>\n      <td>C2</td>\n      <td>223</td>\n      <td>352595.00</td>\n    </tr>\n    <tr>\n      <th>7</th>\n      <td>C3</td>\n      <td>143</td>\n      <td>179705.00</td>\n    </tr>\n    <tr>\n      <th>8</th>\n      <td>C4</td>\n      <td>68</td>\n      <td>85425.00</td>\n    </tr>\n    <tr>\n      <th>9</th>\n      <td>All</td>\n      <td>1625</td>\n      <td>2594985.59</td>\n    </tr>\n  </tbody>\n</table>\n</div>"
     },
     "metadata": {},
     "execution_count": 13
    }
   ],
   "source": [
    "#Obtenemos datos de las promesas de Bradesco\n",
    "pivot_brad = pd.pivot_table(consolidado_brad,index=['PAGOSVENCIDOS'],values=['NUMERO_TARJETA','monto_promesa'],aggfunc=['count',np.sum],margins=True)\n",
    "pivot_brad = pd.DataFrame(pivot_brad.to_records())\n",
    "pivot_brad = pivot_brad.iloc[:,[0,1,4]]\n",
    "pivot_brad.columns = ['Division','NumeroPromesas','SumaPromesas']\n",
    "pivot_brad.fillna(0,inplace=True)\n",
    "#pivot_brad[['NumeroPromesas','PromedioPromesa','SumaPromesas']] = pivot_gestion_brad[['NumeroPromesas','PromedioPromesa','SumaPromesas']].applymap(\"{0:.2f}\".format)\n",
    "pivot_brad"
   ]
  },
  {
   "source": [
    "# Credifiel"
   ],
   "cell_type": "markdown",
   "metadata": {}
  },
  {
   "cell_type": "code",
   "execution_count": 14,
   "metadata": {},
   "outputs": [],
   "source": [
    "#Hacemos la consulta referente a las gestiones de Credifiel\n",
    "gestion_cred = cs.query_naucalpan('credifiel_rpt_gestiones_detallado',mes,today)\n",
    "gestion_cred.columns = ['folio_gestion','unegocio_id','fecha_gestion','hora_gestion','credito','nombre_credito','telefono','usuario','nombre_usuario','accion','resultado','fecha_promesa','monto_promesa','comentarios','accion_credifiel','resultado_credifiel','dictamen']\n",
    "gestion_cred = gestion_cred.loc[gestion_cred['accion_credifiel']=='PDP']\n",
    "cols = ['monto_promesa','unegocio_id']\n",
    "gestion_cred[cols] = gestion_cred[cols].apply(pd.to_numeric, errors='coerce')\n",
    "gestion_cred = gestion_cred.loc[gestion_cred['monto_promesa']>0]"
   ]
  },
  {
   "cell_type": "code",
   "execution_count": 15,
   "metadata": {},
   "outputs": [],
   "source": [
    "#Hacemos la union de asignacion y promesas\n",
    "consolidado_cred = gestion_cred\n",
    "cols = ['monto_promesa','unegocio_id']\n",
    "consolidado_cred[cols] = consolidado_cred[cols].apply(pd.to_numeric, errors='coerce')\n",
    "consolidado_cred = consolidado_cred[(consolidado_cred['monto_promesa']>50)]\n",
    "consolidado_cred = consolidado_cred[(consolidado_cred['monto_promesa']<500000)]\n",
    "consolidado_cred['division'] = 'EXTRAJUDICIAL'"
   ]
  },
  {
   "cell_type": "code",
   "execution_count": 16,
   "metadata": {},
   "outputs": [
    {
     "output_type": "execute_result",
     "data": {
      "text/plain": [
       "        Division  NumeroPromesas  SumaPromesas\n",
       "0  EXTRAJUDICIAL             111     309724.74"
      ],
      "text/html": "<div>\n<style scoped>\n    .dataframe tbody tr th:only-of-type {\n        vertical-align: middle;\n    }\n\n    .dataframe tbody tr th {\n        vertical-align: top;\n    }\n\n    .dataframe thead th {\n        text-align: right;\n    }\n</style>\n<table border=\"1\" class=\"dataframe\">\n  <thead>\n    <tr style=\"text-align: right;\">\n      <th></th>\n      <th>Division</th>\n      <th>NumeroPromesas</th>\n      <th>SumaPromesas</th>\n    </tr>\n  </thead>\n  <tbody>\n    <tr>\n      <th>0</th>\n      <td>EXTRAJUDICIAL</td>\n      <td>111</td>\n      <td>309724.74</td>\n    </tr>\n  </tbody>\n</table>\n</div>"
     },
     "metadata": {},
     "execution_count": 16
    }
   ],
   "source": [
    "#Obtenemos datos de las promesas de Credifiel\n",
    "pivot_cred = pd.pivot_table(consolidado_cred,index=['division'],values=['unegocio_id','monto_promesa'],aggfunc=('count',np.sum))\n",
    "pivot_cred = pd.DataFrame(pivot_cred.to_records())\n",
    "pivot_cred = pivot_cred.iloc[:,[0,3,2]]\n",
    "pivot_cred.columns = ['Division','NumeroPromesas','SumaPromesas']\n",
    "pivot_cred.fillna(0,inplace=True)\n",
    "pivot_cred = pivot_cred.loc[pivot_cred['SumaPromesas']>0]\n",
    "#pivot_gestion_cred[['NumeroPromesas','PromedioPromesa','SumaPromesas']] = pivot_gestion_brad[['NumeroPromesas','PromedioPromesa','SumaPromesas']].applymap(\"{0:.2f}\".format)\n",
    "pivot_cred"
   ]
  },
  {
   "source": [
    "# Banco Azteca"
   ],
   "cell_type": "markdown",
   "metadata": {}
  },
  {
   "cell_type": "code",
   "execution_count": 17,
   "metadata": {},
   "outputs": [],
   "source": [
    "#Hacemos la consulta referente a las gestiones de Banco Azteca\n",
    "gestion_baz = cs.query_naucalpan('baz_rpt_gestiones_detallado',mes,today)\n",
    "gestion_baz.columns = ['folio_gestion','firma_id','unegocio_id','credito','nombre_credito','telefono','tipo_telefono','fecha_gestion','usuario','nombre_usuario','dictamen','accion_resultado','fecha_promesa','monto_promesa','comentarios']\n",
    "gestion_baz = gestion_baz.loc[gestion_baz['dictamen']=='PROMESA']"
   ]
  },
  {
   "cell_type": "code",
   "execution_count": 18,
   "metadata": {},
   "outputs": [],
   "source": [
    "consolidado_baz = gestion_baz\n",
    "cols = ['monto_promesa']\n",
    "consolidado_baz[cols] = consolidado_baz[cols].apply(pd.to_numeric, errors='coerce')\n",
    "consolidado_baz = consolidado_baz[(consolidado_baz['monto_promesa']>50)]\n",
    "consolidado_baz = consolidado_baz[(consolidado_baz['monto_promesa']<500000)]"
   ]
  },
  {
   "cell_type": "code",
   "execution_count": 19,
   "metadata": {},
   "outputs": [
    {
     "output_type": "execute_result",
     "data": {
      "text/plain": [
       "  Dictamen  NumeroPromesas  SumaPromesas\n",
       "0  PROMESA            1976     1777571.0"
      ],
      "text/html": "<div>\n<style scoped>\n    .dataframe tbody tr th:only-of-type {\n        vertical-align: middle;\n    }\n\n    .dataframe tbody tr th {\n        vertical-align: top;\n    }\n\n    .dataframe thead th {\n        text-align: right;\n    }\n</style>\n<table border=\"1\" class=\"dataframe\">\n  <thead>\n    <tr style=\"text-align: right;\">\n      <th></th>\n      <th>Dictamen</th>\n      <th>NumeroPromesas</th>\n      <th>SumaPromesas</th>\n    </tr>\n  </thead>\n  <tbody>\n    <tr>\n      <th>0</th>\n      <td>PROMESA</td>\n      <td>1976</td>\n      <td>1777571.0</td>\n    </tr>\n  </tbody>\n</table>\n</div>"
     },
     "metadata": {},
     "execution_count": 19
    }
   ],
   "source": [
    "#Obtenemos datos de las promesas de Banco Azteca\n",
    "consolidado_baz2 = consolidado_baz.drop_duplicates(subset=['credito','fecha_promesa','monto_promesa'])\n",
    "pivot_baz = pd.pivot_table(consolidado_baz,index=['dictamen'],values=['unegocio_id','monto_promesa'],aggfunc=('count',np.sum))\n",
    "pivot_baz = pd.DataFrame(pivot_baz.to_records())\n",
    "pivot_baz = pivot_baz.iloc[:,[0,3,2]]\n",
    "pivot_baz.columns = ['Dictamen','NumeroPromesas','SumaPromesas']\n",
    "pivot_baz.fillna(0,inplace=True)\n",
    "pivot_baz"
   ]
  },
  {
   "cell_type": "code",
   "execution_count": null,
   "metadata": {},
   "outputs": [],
   "source": []
  },
  {
   "cell_type": "code",
   "execution_count": 20,
   "metadata": {},
   "outputs": [],
   "source": [
    "writer = pd.ExcelWriter(''+ruta+'/Reporte Promesas Acumulado Mes '+now+'.xlsx', engine='xlsxwriter')\n",
    "pivot_liv.to_excel(writer,'PromMesLiverpool',index=False,header=True)\n",
    "pivot_brad.to_excel(writer,'PromMesBradesco',index=False,header=True)\n",
    "pivot_cred.to_excel(writer,'PromMesCredifiel',index=False,header=True)\n",
    "pivot_baz.to_excel(writer,'PromBancoAzteca',index=False,header=True)\n",
    "\n",
    "writer.save()\n",
    "writer.close()"
   ]
  }
 ]
}