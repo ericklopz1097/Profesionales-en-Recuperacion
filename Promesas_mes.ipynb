{
 "metadata": {
  "language_info": {
   "codemirror_mode": {
    "name": "ipython",
    "version": 3
   },
   "file_extension": ".py",
   "mimetype": "text/x-python",
   "name": "python",
   "nbconvert_exporter": "python",
   "pygments_lexer": "ipython3",
   "version": "3.7.6-final"
  },
  "orig_nbformat": 2,
  "kernelspec": {
   "name": "python3",
   "display_name": "Python 3"
  }
 },
 "nbformat": 4,
 "nbformat_minor": 2,
 "cells": [
  {
   "source": [
    "# Reporte de promesas acumuladas en el mes"
   ],
   "cell_type": "markdown",
   "metadata": {}
  },
  {
   "cell_type": "code",
   "execution_count": 1,
   "metadata": {},
   "outputs": [],
   "source": [
    "import pandas as pd\n",
    "import numpy as np\n",
    "import mysql.connector\n",
    "from mysql.connector import Error\n",
    "from datetime import date\n",
    "from datetime import datetime\n",
    "from IPython.core.interactiveshell import InteractiveShell\n",
    "InteractiveShell.ast_node_interactivity = \"all\""
   ]
  },
  {
   "cell_type": "code",
   "execution_count": 2,
   "metadata": {},
   "outputs": [],
   "source": [
    "#Definimos la ruta en donde queremos guardar los archivos\n",
    "ruta = '/home/estadistico/Documents/Erick/Reportes diarios/Promesas Mes'\n",
    "#Definimos la ruta donde estan las asignaciones\n",
    "ruta_asig_baz = '/home/estadistico/Documents/Erick/Banco Azteca/Asignacion csv'\n",
    "mes = 20201201\n",
    "mes2 = 'Diciembre2020'"
   ]
  },
  {
   "cell_type": "code",
   "execution_count": 3,
   "metadata": {},
   "outputs": [],
   "source": [
    "#Agregamos las variables a ocupar\n",
    "servidor = '192.168.15.12'\n",
    "puerto = int('3306')\n",
    "usuario = 'estadisticas'\n",
    "contraseña = 'estadisticas8474'\n",
    "base = 'procesos_externos'"
   ]
  },
  {
   "cell_type": "code",
   "execution_count": 4,
   "metadata": {},
   "outputs": [],
   "source": [
    "#Asignamos valores a los parametros \\n\",\n",
    "today = date.today().strftime('%Y%m%d')\n",
    "now = datetime.now().strftime('%d-%m-%Y-%H:%M')"
   ]
  },
  {
   "cell_type": "code",
   "execution_count": 5,
   "metadata": {},
   "outputs": [],
   "source": [
    "#Hacemos la conexion con el servidor\\n\",\n",
    "try:\n",
    "    conn = mysql.connector.connect(user=usuario,\n",
    "                               password=contraseña,\n",
    "                               host=servidor,\n",
    "                               port=3306,\n",
    "                               database=base)\n",
    "    conn.set_charset_collation('latin1')\n",
    "except mysql.Error as e:\n",
    "    print(\"Failed to execute stored procedure: {}\".format(error))\n",
    "\n",
    "cursor = conn.cursor()"
   ]
  },
  {
   "source": [
    "# Liverpool"
   ],
   "cell_type": "markdown",
   "metadata": {}
  },
  {
   "cell_type": "code",
   "execution_count": 6,
   "metadata": {},
   "outputs": [],
   "source": [
    "#Hacemos la consulta referente a las gestiones de Liverpool\n",
    "sql_gest_liv = cursor.callproc('liverpool_rpt_gestiones_detallado', [mes,today])\n",
    "for result in cursor.stored_results():\n",
    "    gestion_liv = pd.DataFrame(result.fetchall())\n",
    "gestion_liv.columns = ['folio_gestion','firma_id','unegocio_id','credito','nombre_credito','telefono','tipo_telefono','fecha_gestion','usuario','nombre_usuario','dictamen','accion','resultado','fecha_promesa','monto_promesa','comentarios']\n",
    "gestion_liv = gestion_liv.loc[gestion_liv['dictamen']=='PROMESA']\n",
    "gestion_liv['credito'] = pd.to_numeric(gestion_liv['credito'])\n",
    "#gestion_liv.head(3)"
   ]
  },
  {
   "cell_type": "code",
   "execution_count": 7,
   "metadata": {},
   "outputs": [],
   "source": [
    "#Hacemos la consulta de la asignacion\n",
    "sql_asig_liv = cursor.callproc('liverpool_rpt_asignacion_activa',)\n",
    "for result in cursor.stored_results():\n",
    "    asignacion_liv = pd.DataFrame(result.fetchall())\n",
    "asignacion_liv = asignacion_liv.iloc[:,[0,1,3,24,6,26]]\n",
    "asignacion_liv.columns = ['firma_id','unegocio_id','credito','estado','rfc','division']\n",
    "asignacion_liv['credito'] = pd.to_numeric(asignacion_liv['credito'])\n",
    "#asignacion_liv.head(3)"
   ]
  },
  {
   "cell_type": "code",
   "execution_count": 8,
   "metadata": {},
   "outputs": [],
   "source": [
    "#Hacemos el consolidado \n",
    "consolidado_liv = pd.merge(gestion_liv,asignacion_liv,how='left',on=['firma_id','unegocio_id','credito'])\n",
    "cols = ['monto_promesa','credito']\n",
    "consolidado_liv[cols] = consolidado_liv[cols].apply(pd.to_numeric, errors='coerce')\n",
    "consolidado_liv = consolidado_liv[(consolidado_liv['monto_promesa']>50)]\n",
    "consolidado_liv = consolidado_liv[(consolidado_liv['monto_promesa']<500000)]\n",
    "consolidado_liv.fillna('COBRANZA',inplace=True)\n",
    "#consolidado_liv.head(3)"
   ]
  },
  {
   "cell_type": "code",
   "execution_count": 9,
   "metadata": {},
   "outputs": [
    {
     "output_type": "execute_result",
     "data": {
      "text/plain": [
       "   Division  NumeroPromesas  SumaPromesas\n",
       "0                         2       4000.00\n",
       "1  COBRANZA               6      13627.00\n",
       "2      REM2              40     186946.81\n",
       "3      REM4              23     103388.14\n",
       "4      REM9              18      27963.00\n",
       "5      SB02              64     105473.65\n",
       "6      pren              34     104692.00\n",
       "7       All             187     546090.60"
      ],
      "text/html": "<div>\n<style scoped>\n    .dataframe tbody tr th:only-of-type {\n        vertical-align: middle;\n    }\n\n    .dataframe tbody tr th {\n        vertical-align: top;\n    }\n\n    .dataframe thead th {\n        text-align: right;\n    }\n</style>\n<table border=\"1\" class=\"dataframe\">\n  <thead>\n    <tr style=\"text-align: right;\">\n      <th></th>\n      <th>Division</th>\n      <th>NumeroPromesas</th>\n      <th>SumaPromesas</th>\n    </tr>\n  </thead>\n  <tbody>\n    <tr>\n      <th>0</th>\n      <td></td>\n      <td>2</td>\n      <td>4000.00</td>\n    </tr>\n    <tr>\n      <th>1</th>\n      <td>COBRANZA</td>\n      <td>6</td>\n      <td>13627.00</td>\n    </tr>\n    <tr>\n      <th>2</th>\n      <td>REM2</td>\n      <td>40</td>\n      <td>186946.81</td>\n    </tr>\n    <tr>\n      <th>3</th>\n      <td>REM4</td>\n      <td>23</td>\n      <td>103388.14</td>\n    </tr>\n    <tr>\n      <th>4</th>\n      <td>REM9</td>\n      <td>18</td>\n      <td>27963.00</td>\n    </tr>\n    <tr>\n      <th>5</th>\n      <td>SB02</td>\n      <td>64</td>\n      <td>105473.65</td>\n    </tr>\n    <tr>\n      <th>6</th>\n      <td>pren</td>\n      <td>34</td>\n      <td>104692.00</td>\n    </tr>\n    <tr>\n      <th>7</th>\n      <td>All</td>\n      <td>187</td>\n      <td>546090.60</td>\n    </tr>\n  </tbody>\n</table>\n</div>"
     },
     "metadata": {},
     "execution_count": 9
    }
   ],
   "source": [
    "#Obtenemos datos de las promesas de Liverpool\n",
    "consolidado_liv2 = consolidado_liv.drop_duplicates(subset=['credito','fecha_promesa','monto_promesa'])\n",
    "pivot_liv = pd.pivot_table(consolidado_liv2,index=['division'],values=['credito','monto_promesa'],aggfunc=['count',np.sum],margins=True)\n",
    "pivot_liv = pd.DataFrame(pivot_liv.to_records())\n",
    "pivot_liv = pivot_liv.iloc[:,[0,1,4]]\n",
    "pivot_liv.columns = ['Division','NumeroPromesas','SumaPromesas']\n",
    "pivot_liv.fillna(0,inplace=True)\n",
    "#pivot_liv[['NumeroPromesas','PromedioPromesa','SumaPromesas']] = pivot_liv[['NumeroPromesas','PromedioPromesa','SumaPromesas']].applymap(\"{0:.2f}\".format)\n",
    "pivot_liv"
   ]
  },
  {
   "source": [
    "# Bradesco "
   ],
   "cell_type": "markdown",
   "metadata": {}
  },
  {
   "cell_type": "code",
   "execution_count": 10,
   "metadata": {},
   "outputs": [],
   "source": [
    "#Hacemos la consulta referente a las gestiones de Bradesco\n",
    "sql_gest_brad = cursor.callproc('bradescard_rpt_gestiones_detallado', [mes,today])\n",
    "for result in cursor.stored_results():\n",
    "    gestion_brad = pd.DataFrame(result.fetchall())\n",
    "gestion_brad.columns = ['folio_gestion','firma_id','unegocio_id','credito','nombre_credito','telefono','tipo_telefono','fecha_gestion','usuario','nombre_usuario','dictamen','accion','resultado','accion_resultado','fecha_promesa','monto_promesa','comentarios']\n",
    "gestion_brad = gestion_brad.loc[gestion_brad['dictamen']=='PROMESA']\n",
    "gestion_brad['credito'] = pd.to_numeric(gestion_brad['credito'])\n",
    "gestion_brad['monto_promesa'] = pd.to_numeric(gestion_brad['monto_promesa'])\n",
    "#gestion_brad.head(3)"
   ]
  },
  {
   "cell_type": "code",
   "execution_count": 22,
   "metadata": {},
   "outputs": [
    {
     "output_type": "execute_result",
     "data": {
      "text/plain": [
       "   firma_id  unegocio_id           credito    estado              rfc division\n",
       "0         1            3  2869000138080177   YUCATAN  JURM8405047J801   C0 5PV\n",
       "1         1            3  2869000240445953  VERACRUZ  TOHI650826EZ601   C0 4PV\n",
       "2         1            3  2869000320452929    PUEBLA  HERL821006J1401   C0 4PV"
      ],
      "text/html": "<div>\n<style scoped>\n    .dataframe tbody tr th:only-of-type {\n        vertical-align: middle;\n    }\n\n    .dataframe tbody tr th {\n        vertical-align: top;\n    }\n\n    .dataframe thead th {\n        text-align: right;\n    }\n</style>\n<table border=\"1\" class=\"dataframe\">\n  <thead>\n    <tr style=\"text-align: right;\">\n      <th></th>\n      <th>firma_id</th>\n      <th>unegocio_id</th>\n      <th>credito</th>\n      <th>estado</th>\n      <th>rfc</th>\n      <th>division</th>\n    </tr>\n  </thead>\n  <tbody>\n    <tr>\n      <th>0</th>\n      <td>1</td>\n      <td>3</td>\n      <td>2869000138080177</td>\n      <td>YUCATAN</td>\n      <td>JURM8405047J801</td>\n      <td>C0 5PV</td>\n    </tr>\n    <tr>\n      <th>1</th>\n      <td>1</td>\n      <td>3</td>\n      <td>2869000240445953</td>\n      <td>VERACRUZ</td>\n      <td>TOHI650826EZ601</td>\n      <td>C0 4PV</td>\n    </tr>\n    <tr>\n      <th>2</th>\n      <td>1</td>\n      <td>3</td>\n      <td>2869000320452929</td>\n      <td>PUEBLA</td>\n      <td>HERL821006J1401</td>\n      <td>C0 4PV</td>\n    </tr>\n  </tbody>\n</table>\n</div>"
     },
     "metadata": {},
     "execution_count": 22
    }
   ],
   "source": [
    "#Hacemos la consulta de la asignacion\n",
    "sql_asig_brad = cursor.callproc('bradescard_rpt_asignacion_activa',)\n",
    "for result in cursor.stored_results():\n",
    "    asignacion_brad = pd.DataFrame(result.fetchall())\n",
    "asignacion_brad = asignacion_brad.iloc[:,[0,1,3,24,6,26]]\n",
    "asignacion_brad.columns = ['firma_id','unegocio_id','credito','estado','rfc','division']\n",
    "asignacion_brad['credito'] = pd.to_numeric(asignacion_brad['credito'])\n",
    "asignacion_brad.head(3)"
   ]
  },
  {
   "cell_type": "code",
   "execution_count": 23,
   "metadata": {},
   "outputs": [],
   "source": [
    "#Hacemos la union de asignacion y promesas\n",
    "consolidado_brad = pd.merge(gestion_brad,asignacion_brad,how='left',on=['firma_id','unegocio_id','credito'])\n",
    "cols = ['monto_promesa','credito']\n",
    "consolidado_liv[cols] = consolidado_liv[cols].apply(pd.to_numeric, errors='coerce')\n",
    "consolidado_brad = consolidado_brad[(consolidado_brad['monto_promesa']>50)]\n",
    "consolidado_brad = consolidado_brad[(consolidado_brad['monto_promesa']<500000)]\n",
    "consolidado_brad.fillna('COBRANZA',inplace=True)\n",
    "#consolidado_brad.head(3)"
   ]
  },
  {
   "cell_type": "code",
   "execution_count": 24,
   "metadata": {},
   "outputs": [
    {
     "output_type": "execute_result",
     "data": {
      "text/plain": [
       "  Division  NumeroPromesas  SumaPromesas\n",
       "0        A               3        3400.0\n",
       "1        B               5        3650.0\n",
       "2   C0 4PV             124      231715.0\n",
       "3   C0 5PV              49       72150.0\n",
       "4   C0 6PV              53      101713.0\n",
       "5       C1             108      159102.0\n",
       "6       C2              45       70602.0\n",
       "7       C3              77       88709.0\n",
       "8       C4              20       26853.0\n",
       "9      All             484      757894.0"
      ],
      "text/html": "<div>\n<style scoped>\n    .dataframe tbody tr th:only-of-type {\n        vertical-align: middle;\n    }\n\n    .dataframe tbody tr th {\n        vertical-align: top;\n    }\n\n    .dataframe thead th {\n        text-align: right;\n    }\n</style>\n<table border=\"1\" class=\"dataframe\">\n  <thead>\n    <tr style=\"text-align: right;\">\n      <th></th>\n      <th>Division</th>\n      <th>NumeroPromesas</th>\n      <th>SumaPromesas</th>\n    </tr>\n  </thead>\n  <tbody>\n    <tr>\n      <th>0</th>\n      <td>A</td>\n      <td>3</td>\n      <td>3400.0</td>\n    </tr>\n    <tr>\n      <th>1</th>\n      <td>B</td>\n      <td>5</td>\n      <td>3650.0</td>\n    </tr>\n    <tr>\n      <th>2</th>\n      <td>C0 4PV</td>\n      <td>124</td>\n      <td>231715.0</td>\n    </tr>\n    <tr>\n      <th>3</th>\n      <td>C0 5PV</td>\n      <td>49</td>\n      <td>72150.0</td>\n    </tr>\n    <tr>\n      <th>4</th>\n      <td>C0 6PV</td>\n      <td>53</td>\n      <td>101713.0</td>\n    </tr>\n    <tr>\n      <th>5</th>\n      <td>C1</td>\n      <td>108</td>\n      <td>159102.0</td>\n    </tr>\n    <tr>\n      <th>6</th>\n      <td>C2</td>\n      <td>45</td>\n      <td>70602.0</td>\n    </tr>\n    <tr>\n      <th>7</th>\n      <td>C3</td>\n      <td>77</td>\n      <td>88709.0</td>\n    </tr>\n    <tr>\n      <th>8</th>\n      <td>C4</td>\n      <td>20</td>\n      <td>26853.0</td>\n    </tr>\n    <tr>\n      <th>9</th>\n      <td>All</td>\n      <td>484</td>\n      <td>757894.0</td>\n    </tr>\n  </tbody>\n</table>\n</div>"
     },
     "metadata": {},
     "execution_count": 24
    }
   ],
   "source": [
    "#Obtenemos datos de las promesas de Bradesco\n",
    "consolidado_brad2 = consolidado_brad.drop_duplicates(subset=['credito','fecha_promesa','monto_promesa'])\n",
    "pivot_brad = pd.pivot_table(consolidado_brad2,index=['division'],values=['credito','monto_promesa'],aggfunc=['count',np.sum],margins=True)\n",
    "pivot_brad = pd.DataFrame(pivot_brad.to_records())\n",
    "pivot_brad = pivot_brad.iloc[:,[0,1,4]]\n",
    "pivot_brad.columns = ['Division','NumeroPromesas','SumaPromesas']\n",
    "pivot_brad.fillna(0,inplace=True)\n",
    "#pivot_brad[['NumeroPromesas','PromedioPromesa','SumaPromesas']] = pivot_gestion_brad[['NumeroPromesas','PromedioPromesa','SumaPromesas']].applymap(\"{0:.2f}\".format)\n",
    "pivot_brad"
   ]
  },
  {
   "source": [
    "# Credifiel"
   ],
   "cell_type": "markdown",
   "metadata": {}
  },
  {
   "cell_type": "code",
   "execution_count": 25,
   "metadata": {},
   "outputs": [
    {
     "output_type": "execute_result",
     "data": {
      "text/plain": [
       "    folio_gestion  unegocio_id fecha_gestion hora_gestion    credito  \\\n",
       "6         9229469            1    2020-12-01     07:29:39  CR-267152   \n",
       "7         9229522            1    2020-12-01     07:34:46  CR-494364   \n",
       "11        9229759            1    2020-12-01     07:49:21  CR-503789   \n",
       "\n",
       "                    nombre_credito    telefono        usuario  \\\n",
       "6     LIEVANO CAL Y MAYOR VERONICA  9616189250  HERNANDEZGARO   \n",
       "7   DE LA VEGA ROMERO MIGUEL ANGEL  5959250197  HERNANDEZGARO   \n",
       "11          MARTINEZ MANRIQUE LUCY  5588471578  HERNANDEZGARO   \n",
       "\n",
       "               nombre_usuario             accion                resultado  \\\n",
       "6   HERNANDEZ GALINDO RODRIGO  LLAMADA A TITULAR  PROMESA DE PAGO PARCIAL   \n",
       "7   HERNANDEZ GALINDO RODRIGO  LLAMADA A TITULAR  PROMESA DE PAGO PARCIAL   \n",
       "11  HERNANDEZ GALINDO RODRIGO  LLAMADA A TITULAR  PROMESA DE PAGO PARCIAL   \n",
       "\n",
       "   fecha_promesa  monto_promesa  \\\n",
       "6     2020-12-15        4294.00   \n",
       "7     2020-12-15        3148.83   \n",
       "11    2020-12-01        2000.00   \n",
       "\n",
       "                                          comentarios accion_credifiel  \\\n",
       "6     9616189250 TT REALIZARA PAGO 6  $4294 15/12/20               PDP   \n",
       "7   5959250197 SE GENERA PAGO 9 POR $3148.83 PARA ...              PDP   \n",
       "11  5588471578  TT REALIZARA LIQUIDACION CON 32000...              PDP   \n",
       "\n",
       "   resultado_credifiel  dictamen  \n",
       "6      Promesa de Pago  CONTACTO  \n",
       "7      Promesa de Pago  CONTACTO  \n",
       "11     Promesa de Pago  CONTACTO  "
      ],
      "text/html": "<div>\n<style scoped>\n    .dataframe tbody tr th:only-of-type {\n        vertical-align: middle;\n    }\n\n    .dataframe tbody tr th {\n        vertical-align: top;\n    }\n\n    .dataframe thead th {\n        text-align: right;\n    }\n</style>\n<table border=\"1\" class=\"dataframe\">\n  <thead>\n    <tr style=\"text-align: right;\">\n      <th></th>\n      <th>folio_gestion</th>\n      <th>unegocio_id</th>\n      <th>fecha_gestion</th>\n      <th>hora_gestion</th>\n      <th>credito</th>\n      <th>nombre_credito</th>\n      <th>telefono</th>\n      <th>usuario</th>\n      <th>nombre_usuario</th>\n      <th>accion</th>\n      <th>resultado</th>\n      <th>fecha_promesa</th>\n      <th>monto_promesa</th>\n      <th>comentarios</th>\n      <th>accion_credifiel</th>\n      <th>resultado_credifiel</th>\n      <th>dictamen</th>\n    </tr>\n  </thead>\n  <tbody>\n    <tr>\n      <th>6</th>\n      <td>9229469</td>\n      <td>1</td>\n      <td>2020-12-01</td>\n      <td>07:29:39</td>\n      <td>CR-267152</td>\n      <td>LIEVANO CAL Y MAYOR VERONICA</td>\n      <td>9616189250</td>\n      <td>HERNANDEZGARO</td>\n      <td>HERNANDEZ GALINDO RODRIGO</td>\n      <td>LLAMADA A TITULAR</td>\n      <td>PROMESA DE PAGO PARCIAL</td>\n      <td>2020-12-15</td>\n      <td>4294.00</td>\n      <td>9616189250 TT REALIZARA PAGO 6  $4294 15/12/20</td>\n      <td>PDP</td>\n      <td>Promesa de Pago</td>\n      <td>CONTACTO</td>\n    </tr>\n    <tr>\n      <th>7</th>\n      <td>9229522</td>\n      <td>1</td>\n      <td>2020-12-01</td>\n      <td>07:34:46</td>\n      <td>CR-494364</td>\n      <td>DE LA VEGA ROMERO MIGUEL ANGEL</td>\n      <td>5959250197</td>\n      <td>HERNANDEZGARO</td>\n      <td>HERNANDEZ GALINDO RODRIGO</td>\n      <td>LLAMADA A TITULAR</td>\n      <td>PROMESA DE PAGO PARCIAL</td>\n      <td>2020-12-15</td>\n      <td>3148.83</td>\n      <td>5959250197 SE GENERA PAGO 9 POR $3148.83 PARA ...</td>\n      <td>PDP</td>\n      <td>Promesa de Pago</td>\n      <td>CONTACTO</td>\n    </tr>\n    <tr>\n      <th>11</th>\n      <td>9229759</td>\n      <td>1</td>\n      <td>2020-12-01</td>\n      <td>07:49:21</td>\n      <td>CR-503789</td>\n      <td>MARTINEZ MANRIQUE LUCY</td>\n      <td>5588471578</td>\n      <td>HERNANDEZGARO</td>\n      <td>HERNANDEZ GALINDO RODRIGO</td>\n      <td>LLAMADA A TITULAR</td>\n      <td>PROMESA DE PAGO PARCIAL</td>\n      <td>2020-12-01</td>\n      <td>2000.00</td>\n      <td>5588471578  TT REALIZARA LIQUIDACION CON 32000...</td>\n      <td>PDP</td>\n      <td>Promesa de Pago</td>\n      <td>CONTACTO</td>\n    </tr>\n  </tbody>\n</table>\n</div>"
     },
     "metadata": {},
     "execution_count": 25
    }
   ],
   "source": [
    "#Hacemos la consulta referente a las gestiones de Credifiel\n",
    "sql_gest_cred = cursor.callproc('credifiel_rpt_gestiones_detallado', [mes,today])\n",
    "for result in cursor.stored_results():\n",
    "    gestion_cred = pd.DataFrame(result.fetchall())\n",
    "gestion_cred.columns = ['folio_gestion','unegocio_id','fecha_gestion','hora_gestion','credito','nombre_credito','telefono','usuario','nombre_usuario','accion','resultado','fecha_promesa','monto_promesa','comentarios','accion_credifiel','resultado_credifiel','dictamen']\n",
    "gestion_cred['monto_promesa'] = pd.to_numeric(gestion_cred['monto_promesa'])\n",
    "gestion_cred = gestion_cred.loc[gestion_cred['accion_credifiel']=='PDP']\n",
    "gestion_cred.head(3)"
   ]
  },
  {
   "cell_type": "code",
   "execution_count": 26,
   "metadata": {},
   "outputs": [
    {
     "output_type": "execute_result",
     "data": {
      "text/plain": [
       "   unegocio_id    credito                division\n",
       "0            1  CR-101922  COBRANZA EXTRAJUDICIAL\n",
       "1            1  CR-101949                LIQUIDAR\n",
       "2            1  CR-101952                LIQUIDAR"
      ],
      "text/html": "<div>\n<style scoped>\n    .dataframe tbody tr th:only-of-type {\n        vertical-align: middle;\n    }\n\n    .dataframe tbody tr th {\n        vertical-align: top;\n    }\n\n    .dataframe thead th {\n        text-align: right;\n    }\n</style>\n<table border=\"1\" class=\"dataframe\">\n  <thead>\n    <tr style=\"text-align: right;\">\n      <th></th>\n      <th>unegocio_id</th>\n      <th>credito</th>\n      <th>division</th>\n    </tr>\n  </thead>\n  <tbody>\n    <tr>\n      <th>0</th>\n      <td>1</td>\n      <td>CR-101922</td>\n      <td>COBRANZA EXTRAJUDICIAL</td>\n    </tr>\n    <tr>\n      <th>1</th>\n      <td>1</td>\n      <td>CR-101949</td>\n      <td>LIQUIDAR</td>\n    </tr>\n    <tr>\n      <th>2</th>\n      <td>1</td>\n      <td>CR-101952</td>\n      <td>LIQUIDAR</td>\n    </tr>\n  </tbody>\n</table>\n</div>"
     },
     "metadata": {},
     "execution_count": 26
    }
   ],
   "source": [
    "#Hacemos la consulta de la asignacion\n",
    "sql_asig_cred = cursor.callproc('credifiel_rpt_asignacion_activa',)\n",
    "for result in cursor.stored_results():\n",
    "    asignacion_cred = pd.DataFrame(result.fetchall())\n",
    "asignacion_cred = asignacion_cred.iloc[:,[1,3,32]]\n",
    "asignacion_cred.columns = ['unegocio_id','credito','division']\n",
    "#asignacion_brad['credito'] = pd.to_numeric(asignacion_brad['credito'])\n",
    "asignacion_cred.head(3)"
   ]
  },
  {
   "cell_type": "code",
   "execution_count": 27,
   "metadata": {},
   "outputs": [
    {
     "output_type": "execute_result",
     "data": {
      "text/plain": [
       "   folio_gestion  unegocio_id fecha_gestion hora_gestion    credito  \\\n",
       "0        9229469            1    2020-12-01     07:29:39  CR-267152   \n",
       "1        9229522            1    2020-12-01     07:34:46  CR-494364   \n",
       "2        9229759            1    2020-12-01     07:49:21  CR-503789   \n",
       "\n",
       "                   nombre_credito    telefono        usuario  \\\n",
       "0    LIEVANO CAL Y MAYOR VERONICA  9616189250  HERNANDEZGARO   \n",
       "1  DE LA VEGA ROMERO MIGUEL ANGEL  5959250197  HERNANDEZGARO   \n",
       "2          MARTINEZ MANRIQUE LUCY  5588471578  HERNANDEZGARO   \n",
       "\n",
       "              nombre_usuario             accion                resultado  \\\n",
       "0  HERNANDEZ GALINDO RODRIGO  LLAMADA A TITULAR  PROMESA DE PAGO PARCIAL   \n",
       "1  HERNANDEZ GALINDO RODRIGO  LLAMADA A TITULAR  PROMESA DE PAGO PARCIAL   \n",
       "2  HERNANDEZ GALINDO RODRIGO  LLAMADA A TITULAR  PROMESA DE PAGO PARCIAL   \n",
       "\n",
       "  fecha_promesa  monto_promesa  \\\n",
       "0    2020-12-15        4294.00   \n",
       "1    2020-12-15        3148.83   \n",
       "2    2020-12-01        2000.00   \n",
       "\n",
       "                                         comentarios accion_credifiel  \\\n",
       "0    9616189250 TT REALIZARA PAGO 6  $4294 15/12/20               PDP   \n",
       "1  5959250197 SE GENERA PAGO 9 POR $3148.83 PARA ...              PDP   \n",
       "2  5588471578  TT REALIZARA LIQUIDACION CON 32000...              PDP   \n",
       "\n",
       "  resultado_credifiel  dictamen                division  \n",
       "0     Promesa de Pago  CONTACTO           EXTRAJUDICIAL  \n",
       "1     Promesa de Pago  CONTACTO  COBRANZA EXTRAJUDICIAL  \n",
       "2     Promesa de Pago  CONTACTO  COBRANZA EXTRAJUDICIAL  "
      ],
      "text/html": "<div>\n<style scoped>\n    .dataframe tbody tr th:only-of-type {\n        vertical-align: middle;\n    }\n\n    .dataframe tbody tr th {\n        vertical-align: top;\n    }\n\n    .dataframe thead th {\n        text-align: right;\n    }\n</style>\n<table border=\"1\" class=\"dataframe\">\n  <thead>\n    <tr style=\"text-align: right;\">\n      <th></th>\n      <th>folio_gestion</th>\n      <th>unegocio_id</th>\n      <th>fecha_gestion</th>\n      <th>hora_gestion</th>\n      <th>credito</th>\n      <th>nombre_credito</th>\n      <th>telefono</th>\n      <th>usuario</th>\n      <th>nombre_usuario</th>\n      <th>accion</th>\n      <th>resultado</th>\n      <th>fecha_promesa</th>\n      <th>monto_promesa</th>\n      <th>comentarios</th>\n      <th>accion_credifiel</th>\n      <th>resultado_credifiel</th>\n      <th>dictamen</th>\n      <th>division</th>\n    </tr>\n  </thead>\n  <tbody>\n    <tr>\n      <th>0</th>\n      <td>9229469</td>\n      <td>1</td>\n      <td>2020-12-01</td>\n      <td>07:29:39</td>\n      <td>CR-267152</td>\n      <td>LIEVANO CAL Y MAYOR VERONICA</td>\n      <td>9616189250</td>\n      <td>HERNANDEZGARO</td>\n      <td>HERNANDEZ GALINDO RODRIGO</td>\n      <td>LLAMADA A TITULAR</td>\n      <td>PROMESA DE PAGO PARCIAL</td>\n      <td>2020-12-15</td>\n      <td>4294.00</td>\n      <td>9616189250 TT REALIZARA PAGO 6  $4294 15/12/20</td>\n      <td>PDP</td>\n      <td>Promesa de Pago</td>\n      <td>CONTACTO</td>\n      <td>EXTRAJUDICIAL</td>\n    </tr>\n    <tr>\n      <th>1</th>\n      <td>9229522</td>\n      <td>1</td>\n      <td>2020-12-01</td>\n      <td>07:34:46</td>\n      <td>CR-494364</td>\n      <td>DE LA VEGA ROMERO MIGUEL ANGEL</td>\n      <td>5959250197</td>\n      <td>HERNANDEZGARO</td>\n      <td>HERNANDEZ GALINDO RODRIGO</td>\n      <td>LLAMADA A TITULAR</td>\n      <td>PROMESA DE PAGO PARCIAL</td>\n      <td>2020-12-15</td>\n      <td>3148.83</td>\n      <td>5959250197 SE GENERA PAGO 9 POR $3148.83 PARA ...</td>\n      <td>PDP</td>\n      <td>Promesa de Pago</td>\n      <td>CONTACTO</td>\n      <td>COBRANZA EXTRAJUDICIAL</td>\n    </tr>\n    <tr>\n      <th>2</th>\n      <td>9229759</td>\n      <td>1</td>\n      <td>2020-12-01</td>\n      <td>07:49:21</td>\n      <td>CR-503789</td>\n      <td>MARTINEZ MANRIQUE LUCY</td>\n      <td>5588471578</td>\n      <td>HERNANDEZGARO</td>\n      <td>HERNANDEZ GALINDO RODRIGO</td>\n      <td>LLAMADA A TITULAR</td>\n      <td>PROMESA DE PAGO PARCIAL</td>\n      <td>2020-12-01</td>\n      <td>2000.00</td>\n      <td>5588471578  TT REALIZARA LIQUIDACION CON 32000...</td>\n      <td>PDP</td>\n      <td>Promesa de Pago</td>\n      <td>CONTACTO</td>\n      <td>COBRANZA EXTRAJUDICIAL</td>\n    </tr>\n  </tbody>\n</table>\n</div>"
     },
     "metadata": {},
     "execution_count": 27
    }
   ],
   "source": [
    "#Hacemos el consolidado de la asignacion y promesado\n",
    "consolidado_cred = pd.merge(gestion_cred,asignacion_cred,how='left',on=['unegocio_id','credito'])\n",
    "cols = ['monto_promesa','unegocio_id']\n",
    "consolidado_cred[cols] = consolidado_cred[cols].apply(pd.to_numeric, errors='coerce')\n",
    "consolidado_cred = consolidado_cred.loc[consolidado_cred['monto_promesa']>50]\n",
    "consolidado_cred = consolidado_cred[(consolidado_cred['monto_promesa']<500000)]\n",
    "consolidado_cred.fillna('COBRANZA',inplace=True)\n",
    "consolidado_cred.replace('','COBRANZA',inplace=True)\n",
    "consolidado_cred.head(3)"
   ]
  },
  {
   "cell_type": "code",
   "execution_count": 28,
   "metadata": {},
   "outputs": [
    {
     "output_type": "execute_result",
     "data": {
      "text/plain": [
       "         Accion_Credifiel  NumeroPromesas  SumaPromesas\n",
       "0                COBRANZA               5       6832.93\n",
       "1  COBRANZA EXTRAJUDICIAL              20      88756.34\n",
       "2           EXTRAJUDICIAL               4      13411.72\n",
       "3                     All              29     109000.99"
      ],
      "text/html": "<div>\n<style scoped>\n    .dataframe tbody tr th:only-of-type {\n        vertical-align: middle;\n    }\n\n    .dataframe tbody tr th {\n        vertical-align: top;\n    }\n\n    .dataframe thead th {\n        text-align: right;\n    }\n</style>\n<table border=\"1\" class=\"dataframe\">\n  <thead>\n    <tr style=\"text-align: right;\">\n      <th></th>\n      <th>Accion_Credifiel</th>\n      <th>NumeroPromesas</th>\n      <th>SumaPromesas</th>\n    </tr>\n  </thead>\n  <tbody>\n    <tr>\n      <th>0</th>\n      <td>COBRANZA</td>\n      <td>5</td>\n      <td>6832.93</td>\n    </tr>\n    <tr>\n      <th>1</th>\n      <td>COBRANZA EXTRAJUDICIAL</td>\n      <td>20</td>\n      <td>88756.34</td>\n    </tr>\n    <tr>\n      <th>2</th>\n      <td>EXTRAJUDICIAL</td>\n      <td>4</td>\n      <td>13411.72</td>\n    </tr>\n    <tr>\n      <th>3</th>\n      <td>All</td>\n      <td>29</td>\n      <td>109000.99</td>\n    </tr>\n  </tbody>\n</table>\n</div>"
     },
     "metadata": {},
     "execution_count": 28
    }
   ],
   "source": [
    "#Obtenemos datos de las promesas de Credifiel\n",
    "consolidado_cred2 = consolidado_cred.drop_duplicates(subset=['credito','fecha_promesa','monto_promesa'])\n",
    "pivot_cred = pd.pivot_table(consolidado_cred,index=['division'],values=['unegocio_id','monto_promesa'],aggfunc=['count',np.sum],margins=True)\n",
    "pivot_cred = pd.DataFrame(pivot_cred.to_records())\n",
    "pivot_cred = pivot_cred.iloc[:,[0,2,3]]\n",
    "pivot_cred.columns = ['Accion_Credifiel','NumeroPromesas','SumaPromesas']\n",
    "pivot_cred.fillna(0,inplace=True)\n",
    "#pivot_gestion_cred[['NumeroPromesas','PromedioPromesa','SumaPromesas']] = pivot_gestion_brad[['NumeroPromesas','PromedioPromesa','SumaPromesas']].applymap(\"{0:.2f}\".format)\n",
    "pivot_cred"
   ]
  },
  {
   "source": [
    "# Banco Azteca"
   ],
   "cell_type": "markdown",
   "metadata": {}
  },
  {
   "cell_type": "code",
   "execution_count": 29,
   "metadata": {},
   "outputs": [
    {
     "output_type": "execute_result",
     "data": {
      "text/plain": [
       "     folio_gestion  firma_id  unegocio_id         credito  \\\n",
       "118        9286847         7            2  1-1-4221-45904   \n",
       "185        9286556         7            2   1-1-151-42488   \n",
       "349        9285838         7            2  1-3-9098-14378   \n",
       "\n",
       "                      nombre_credito    telefono tipo_telefono  \\\n",
       "118  EMELI ESMERALDA RAMIREZ ACEVEDO  3315276940       celular   \n",
       "185      JOSE ALFREDO CORONA MENDOZA  4444067499       celular   \n",
       "349              ADELA LOPEZ NAVARRO  4444920669       celular   \n",
       "\n",
       "          fecha_gestion         usuario                  nombre_usuario  \\\n",
       "118 2020-12-05 13:32:28        LEONSASU             LEON SALINAS SUSANA   \n",
       "185 2020-12-05 13:19:41  CARDOSASEVEBRE  BRENDA EVELYN CARDOSA SEVEROÂ    \n",
       "349 2020-12-05 12:46:08  CARDOSASEVEBRE  BRENDA EVELYN CARDOSA SEVEROÂ    \n",
       "\n",
       "    dictamen                             accion_resultado fecha_promesa  \\\n",
       "118  PROMESA     ENTRADA WHATSAPP-PROMESA DE PAGO PARCIAL    2020-12-12   \n",
       "185  PROMESA  GESTION TELEFONICA -PROMESA DE PAGO PARCIAL    2020-12-07   \n",
       "349  PROMESA  GESTION TELEFONICA -PROMESA DE PAGO PARCIAL    2020-12-12   \n",
       "\n",
       "    monto_promesa                                        comentarios  \n",
       "118        604.00  3315276940  MAN SE CONTACTA TT VIA WHAT PARA R...  \n",
       "185       3000.00  4444067499  4444067499  SE AGENDA PAGO DE 3000...  \n",
       "349       2796.00  4444920669 4444920669 se confirma pago y se ag...  "
      ],
      "text/html": "<div>\n<style scoped>\n    .dataframe tbody tr th:only-of-type {\n        vertical-align: middle;\n    }\n\n    .dataframe tbody tr th {\n        vertical-align: top;\n    }\n\n    .dataframe thead th {\n        text-align: right;\n    }\n</style>\n<table border=\"1\" class=\"dataframe\">\n  <thead>\n    <tr style=\"text-align: right;\">\n      <th></th>\n      <th>folio_gestion</th>\n      <th>firma_id</th>\n      <th>unegocio_id</th>\n      <th>credito</th>\n      <th>nombre_credito</th>\n      <th>telefono</th>\n      <th>tipo_telefono</th>\n      <th>fecha_gestion</th>\n      <th>usuario</th>\n      <th>nombre_usuario</th>\n      <th>dictamen</th>\n      <th>accion_resultado</th>\n      <th>fecha_promesa</th>\n      <th>monto_promesa</th>\n      <th>comentarios</th>\n    </tr>\n  </thead>\n  <tbody>\n    <tr>\n      <th>118</th>\n      <td>9286847</td>\n      <td>7</td>\n      <td>2</td>\n      <td>1-1-4221-45904</td>\n      <td>EMELI ESMERALDA RAMIREZ ACEVEDO</td>\n      <td>3315276940</td>\n      <td>celular</td>\n      <td>2020-12-05 13:32:28</td>\n      <td>LEONSASU</td>\n      <td>LEON SALINAS SUSANA</td>\n      <td>PROMESA</td>\n      <td>ENTRADA WHATSAPP-PROMESA DE PAGO PARCIAL</td>\n      <td>2020-12-12</td>\n      <td>604.00</td>\n      <td>3315276940  MAN SE CONTACTA TT VIA WHAT PARA R...</td>\n    </tr>\n    <tr>\n      <th>185</th>\n      <td>9286556</td>\n      <td>7</td>\n      <td>2</td>\n      <td>1-1-151-42488</td>\n      <td>JOSE ALFREDO CORONA MENDOZA</td>\n      <td>4444067499</td>\n      <td>celular</td>\n      <td>2020-12-05 13:19:41</td>\n      <td>CARDOSASEVEBRE</td>\n      <td>BRENDA EVELYN CARDOSA SEVEROÂ</td>\n      <td>PROMESA</td>\n      <td>GESTION TELEFONICA -PROMESA DE PAGO PARCIAL</td>\n      <td>2020-12-07</td>\n      <td>3000.00</td>\n      <td>4444067499  4444067499  SE AGENDA PAGO DE 3000...</td>\n    </tr>\n    <tr>\n      <th>349</th>\n      <td>9285838</td>\n      <td>7</td>\n      <td>2</td>\n      <td>1-3-9098-14378</td>\n      <td>ADELA LOPEZ NAVARRO</td>\n      <td>4444920669</td>\n      <td>celular</td>\n      <td>2020-12-05 12:46:08</td>\n      <td>CARDOSASEVEBRE</td>\n      <td>BRENDA EVELYN CARDOSA SEVEROÂ</td>\n      <td>PROMESA</td>\n      <td>GESTION TELEFONICA -PROMESA DE PAGO PARCIAL</td>\n      <td>2020-12-12</td>\n      <td>2796.00</td>\n      <td>4444920669 4444920669 se confirma pago y se ag...</td>\n    </tr>\n  </tbody>\n</table>\n</div>"
     },
     "metadata": {},
     "execution_count": 29
    }
   ],
   "source": [
    "#Hacemos la consulta referente a las gestiones de Banco Azteca\n",
    "sql_gest_baz = cursor.callproc('baz_rpt_gestiones_detallado', [mes,today])\n",
    "for result in cursor.stored_results():\n",
    "     gestion_baz = pd.DataFrame(result.fetchall())\n",
    "gestion_baz.columns = ['folio_gestion','firma_id','unegocio_id','credito','nombre_credito','telefono','tipo_telefono','fecha_gestion','usuario','nombre_usuario','dictamen','accion_resultado','fecha_promesa','monto_promesa','comentarios']\n",
    "gestion_baz = gestion_baz.loc[gestion_baz['dictamen']=='PROMESA']\n",
    "gestion_baz.head(3)"
   ]
  },
  {
   "cell_type": "code",
   "execution_count": 30,
   "metadata": {},
   "outputs": [
    {
     "output_type": "execute_result",
     "data": {
      "text/plain": [
       "   #fiidcampana  fipais  ficanal  fisucursal  fifolio\n",
       "0           164       1        1        5496     4183\n",
       "1           164       1        1         110    52389\n",
       "2           164       1        1        5254    28682"
      ],
      "text/html": "<div>\n<style scoped>\n    .dataframe tbody tr th:only-of-type {\n        vertical-align: middle;\n    }\n\n    .dataframe tbody tr th {\n        vertical-align: top;\n    }\n\n    .dataframe thead th {\n        text-align: right;\n    }\n</style>\n<table border=\"1\" class=\"dataframe\">\n  <thead>\n    <tr style=\"text-align: right;\">\n      <th></th>\n      <th>#fiidcampana</th>\n      <th>fipais</th>\n      <th>ficanal</th>\n      <th>fisucursal</th>\n      <th>fifolio</th>\n    </tr>\n  </thead>\n  <tbody>\n    <tr>\n      <th>0</th>\n      <td>164</td>\n      <td>1</td>\n      <td>1</td>\n      <td>5496</td>\n      <td>4183</td>\n    </tr>\n    <tr>\n      <th>1</th>\n      <td>164</td>\n      <td>1</td>\n      <td>1</td>\n      <td>110</td>\n      <td>52389</td>\n    </tr>\n    <tr>\n      <th>2</th>\n      <td>164</td>\n      <td>1</td>\n      <td>1</td>\n      <td>5254</td>\n      <td>28682</td>\n    </tr>\n  </tbody>\n</table>\n</div>"
     },
     "metadata": {},
     "execution_count": 30
    }
   ],
   "source": [
    "asignacion_baz = pd.read_csv(''+ruta_asig_baz+'/Asignacion banco azteca '+str(mes2)+'.csv')\n",
    "asignacion_baz = asignacion_baz.rename(columns=str.lower)\n",
    "asignacion_baz.head(3)"
   ]
  },
  {
   "cell_type": "code",
   "execution_count": 31,
   "metadata": {},
   "outputs": [
    {
     "output_type": "execute_result",
     "data": {
      "text/plain": [
       "   #fiidcampana  fipais  ficanal  fisucursal  fifolio         credito\n",
       "0           164       1        1        5496     4183   1-1-5496-4183\n",
       "1           164       1        1         110    52389   1-1-110-52389\n",
       "2           164       1        1        5254    28682  1-1-5254-28682"
      ],
      "text/html": "<div>\n<style scoped>\n    .dataframe tbody tr th:only-of-type {\n        vertical-align: middle;\n    }\n\n    .dataframe tbody tr th {\n        vertical-align: top;\n    }\n\n    .dataframe thead th {\n        text-align: right;\n    }\n</style>\n<table border=\"1\" class=\"dataframe\">\n  <thead>\n    <tr style=\"text-align: right;\">\n      <th></th>\n      <th>#fiidcampana</th>\n      <th>fipais</th>\n      <th>ficanal</th>\n      <th>fisucursal</th>\n      <th>fifolio</th>\n      <th>credito</th>\n    </tr>\n  </thead>\n  <tbody>\n    <tr>\n      <th>0</th>\n      <td>164</td>\n      <td>1</td>\n      <td>1</td>\n      <td>5496</td>\n      <td>4183</td>\n      <td>1-1-5496-4183</td>\n    </tr>\n    <tr>\n      <th>1</th>\n      <td>164</td>\n      <td>1</td>\n      <td>1</td>\n      <td>110</td>\n      <td>52389</td>\n      <td>1-1-110-52389</td>\n    </tr>\n    <tr>\n      <th>2</th>\n      <td>164</td>\n      <td>1</td>\n      <td>1</td>\n      <td>5254</td>\n      <td>28682</td>\n      <td>1-1-5254-28682</td>\n    </tr>\n  </tbody>\n</table>\n</div>"
     },
     "metadata": {},
     "execution_count": 31
    }
   ],
   "source": [
    "asignacion_baz['credito'] = asignacion_baz['fipais'].map(str)+'-'+asignacion_baz['ficanal'].map(str)+'-'+asignacion_baz['fisucursal'].map(str)+'-'+asignacion_baz['fifolio'].map(str)\n",
    "asignacion_baz.head(3)"
   ]
  },
  {
   "cell_type": "code",
   "execution_count": 32,
   "metadata": {},
   "outputs": [
    {
     "output_type": "execute_result",
     "data": {
      "text/plain": [
       "   folio_gestion  firma_id  unegocio_id         credito  \\\n",
       "0        9286847         7            2  1-1-4221-45904   \n",
       "1        9286556         7            2   1-1-151-42488   \n",
       "2        9285838         7            2  1-3-9098-14378   \n",
       "\n",
       "                    nombre_credito    telefono tipo_telefono  \\\n",
       "0  EMELI ESMERALDA RAMIREZ ACEVEDO  3315276940       celular   \n",
       "1      JOSE ALFREDO CORONA MENDOZA  4444067499       celular   \n",
       "2              ADELA LOPEZ NAVARRO  4444920669       celular   \n",
       "\n",
       "        fecha_gestion         usuario                  nombre_usuario  \\\n",
       "0 2020-12-05 13:32:28        LEONSASU             LEON SALINAS SUSANA   \n",
       "1 2020-12-05 13:19:41  CARDOSASEVEBRE  BRENDA EVELYN CARDOSA SEVEROÂ    \n",
       "2 2020-12-05 12:46:08  CARDOSASEVEBRE  BRENDA EVELYN CARDOSA SEVEROÂ    \n",
       "\n",
       "  dictamen                             accion_resultado fecha_promesa  \\\n",
       "0  PROMESA     ENTRADA WHATSAPP-PROMESA DE PAGO PARCIAL    2020-12-12   \n",
       "1  PROMESA  GESTION TELEFONICA -PROMESA DE PAGO PARCIAL    2020-12-07   \n",
       "2  PROMESA  GESTION TELEFONICA -PROMESA DE PAGO PARCIAL    2020-12-12   \n",
       "\n",
       "   monto_promesa                                        comentarios  \\\n",
       "0          604.0  3315276940  MAN SE CONTACTA TT VIA WHAT PARA R...   \n",
       "1         3000.0  4444067499  4444067499  SE AGENDA PAGO DE 3000...   \n",
       "2         2796.0  4444920669 4444920669 se confirma pago y se ag...   \n",
       "\n",
       "  #fiidcampana    fipais   ficanal fisucursal   fifolio  \n",
       "0     COBRANZA  COBRANZA  COBRANZA   COBRANZA  COBRANZA  \n",
       "1     COBRANZA  COBRANZA  COBRANZA   COBRANZA  COBRANZA  \n",
       "2     COBRANZA  COBRANZA  COBRANZA   COBRANZA  COBRANZA  "
      ],
      "text/html": "<div>\n<style scoped>\n    .dataframe tbody tr th:only-of-type {\n        vertical-align: middle;\n    }\n\n    .dataframe tbody tr th {\n        vertical-align: top;\n    }\n\n    .dataframe thead th {\n        text-align: right;\n    }\n</style>\n<table border=\"1\" class=\"dataframe\">\n  <thead>\n    <tr style=\"text-align: right;\">\n      <th></th>\n      <th>folio_gestion</th>\n      <th>firma_id</th>\n      <th>unegocio_id</th>\n      <th>credito</th>\n      <th>nombre_credito</th>\n      <th>telefono</th>\n      <th>tipo_telefono</th>\n      <th>fecha_gestion</th>\n      <th>usuario</th>\n      <th>nombre_usuario</th>\n      <th>dictamen</th>\n      <th>accion_resultado</th>\n      <th>fecha_promesa</th>\n      <th>monto_promesa</th>\n      <th>comentarios</th>\n      <th>#fiidcampana</th>\n      <th>fipais</th>\n      <th>ficanal</th>\n      <th>fisucursal</th>\n      <th>fifolio</th>\n    </tr>\n  </thead>\n  <tbody>\n    <tr>\n      <th>0</th>\n      <td>9286847</td>\n      <td>7</td>\n      <td>2</td>\n      <td>1-1-4221-45904</td>\n      <td>EMELI ESMERALDA RAMIREZ ACEVEDO</td>\n      <td>3315276940</td>\n      <td>celular</td>\n      <td>2020-12-05 13:32:28</td>\n      <td>LEONSASU</td>\n      <td>LEON SALINAS SUSANA</td>\n      <td>PROMESA</td>\n      <td>ENTRADA WHATSAPP-PROMESA DE PAGO PARCIAL</td>\n      <td>2020-12-12</td>\n      <td>604.0</td>\n      <td>3315276940  MAN SE CONTACTA TT VIA WHAT PARA R...</td>\n      <td>COBRANZA</td>\n      <td>COBRANZA</td>\n      <td>COBRANZA</td>\n      <td>COBRANZA</td>\n      <td>COBRANZA</td>\n    </tr>\n    <tr>\n      <th>1</th>\n      <td>9286556</td>\n      <td>7</td>\n      <td>2</td>\n      <td>1-1-151-42488</td>\n      <td>JOSE ALFREDO CORONA MENDOZA</td>\n      <td>4444067499</td>\n      <td>celular</td>\n      <td>2020-12-05 13:19:41</td>\n      <td>CARDOSASEVEBRE</td>\n      <td>BRENDA EVELYN CARDOSA SEVEROÂ</td>\n      <td>PROMESA</td>\n      <td>GESTION TELEFONICA -PROMESA DE PAGO PARCIAL</td>\n      <td>2020-12-07</td>\n      <td>3000.0</td>\n      <td>4444067499  4444067499  SE AGENDA PAGO DE 3000...</td>\n      <td>COBRANZA</td>\n      <td>COBRANZA</td>\n      <td>COBRANZA</td>\n      <td>COBRANZA</td>\n      <td>COBRANZA</td>\n    </tr>\n    <tr>\n      <th>2</th>\n      <td>9285838</td>\n      <td>7</td>\n      <td>2</td>\n      <td>1-3-9098-14378</td>\n      <td>ADELA LOPEZ NAVARRO</td>\n      <td>4444920669</td>\n      <td>celular</td>\n      <td>2020-12-05 12:46:08</td>\n      <td>CARDOSASEVEBRE</td>\n      <td>BRENDA EVELYN CARDOSA SEVEROÂ</td>\n      <td>PROMESA</td>\n      <td>GESTION TELEFONICA -PROMESA DE PAGO PARCIAL</td>\n      <td>2020-12-12</td>\n      <td>2796.0</td>\n      <td>4444920669 4444920669 se confirma pago y se ag...</td>\n      <td>COBRANZA</td>\n      <td>COBRANZA</td>\n      <td>COBRANZA</td>\n      <td>COBRANZA</td>\n      <td>COBRANZA</td>\n    </tr>\n  </tbody>\n</table>\n</div>"
     },
     "metadata": {},
     "execution_count": 32
    }
   ],
   "source": [
    "consolidado_baz = pd.merge(gestion_baz,asignacion_baz,how='left',on='credito')\n",
    "cols = ['monto_promesa','#fiidcampana']\n",
    "consolidado_baz[cols] = consolidado_baz[cols].apply(pd.to_numeric, errors='coerce')\n",
    "consolidado_baz = consolidado_baz[(consolidado_baz['monto_promesa']>50)]\n",
    "consolidado_baz = consolidado_baz[(consolidado_baz['monto_promesa']<500000)]\n",
    "consolidado_baz.fillna('COBRANZA',inplace=True)\n",
    "consolidado_baz.head(3)"
   ]
  },
  {
   "cell_type": "code",
   "execution_count": 33,
   "metadata": {},
   "outputs": [
    {
     "output_type": "execute_result",
     "data": {
      "text/plain": [
       "  Dictamen  NumeroPromesas  SumaPromesas\n",
       "0  PROMESA             377      376955.5"
      ],
      "text/html": "<div>\n<style scoped>\n    .dataframe tbody tr th:only-of-type {\n        vertical-align: middle;\n    }\n\n    .dataframe tbody tr th {\n        vertical-align: top;\n    }\n\n    .dataframe thead th {\n        text-align: right;\n    }\n</style>\n<table border=\"1\" class=\"dataframe\">\n  <thead>\n    <tr style=\"text-align: right;\">\n      <th></th>\n      <th>Dictamen</th>\n      <th>NumeroPromesas</th>\n      <th>SumaPromesas</th>\n    </tr>\n  </thead>\n  <tbody>\n    <tr>\n      <th>0</th>\n      <td>PROMESA</td>\n      <td>377</td>\n      <td>376955.5</td>\n    </tr>\n  </tbody>\n</table>\n</div>"
     },
     "metadata": {},
     "execution_count": 33
    }
   ],
   "source": [
    "#Obtenemos datos de las promesas de Banco Azteca\n",
    "consolidado_baz2 = consolidado_baz.drop_duplicates(subset=['credito','fecha_promesa','monto_promesa'])\n",
    "pivot_baz = pd.pivot_table(consolidado_baz,index=['dictamen'],values=['unegocio_id','monto_promesa'],aggfunc=('count',np.sum))\n",
    "pivot_baz = pd.DataFrame(pivot_baz.to_records())\n",
    "pivot_baz = pivot_baz.iloc[:,[0,3,2]]\n",
    "pivot_baz.columns = ['Dictamen','NumeroPromesas','SumaPromesas']\n",
    "pivot_baz.fillna(0,inplace=True)\n",
    "#pivot_baz[['NumeroPromesas','PromedioPromesa','SumaPromesas']] = pivot_gestion_baz[['NumeroPromesas','PromedioPromesa','SumaPromesas']].applymap(\"{0:.2f}\".format)\n",
    "pivot_baz"
   ]
  },
  {
   "cell_type": "code",
   "execution_count": null,
   "metadata": {},
   "outputs": [],
   "source": []
  },
  {
   "cell_type": "code",
   "execution_count": 34,
   "metadata": {},
   "outputs": [],
   "source": [
    "writer = pd.ExcelWriter(''+ruta+'/Reporte Promesas Acumulado Mes '+now+'.xlsx', engine='xlsxwriter')\n",
    "pivot_liv.to_excel(writer,'PromMesLiverpool',index=False,header=True)\n",
    "pivot_brad.to_excel(writer,'PromMesBradesco',index=False,header=True)\n",
    "pivot_cred.to_excel(writer,'PromMesCredifiel',index=False,header=True)\n",
    "pivot_baz.to_excel(writer,'PromBancoAzteca',index=False,header=True)\n",
    "\n",
    "writer.save()\n",
    "writer.close()"
   ]
  }
 ]
}