{
 "metadata": {
  "language_info": {
   "codemirror_mode": {
    "name": "ipython",
    "version": 3
   },
   "file_extension": ".py",
   "mimetype": "text/x-python",
   "name": "python",
   "nbconvert_exporter": "python",
   "pygments_lexer": "ipython3",
   "version": "3.8.5-final"
  },
  "orig_nbformat": 2,
  "kernelspec": {
   "name": "python3",
   "display_name": "Python 3",
   "language": "python"
  }
 },
 "nbformat": 4,
 "nbformat_minor": 2,
 "cells": [
  {
   "cell_type": "code",
   "execution_count": 1,
   "metadata": {},
   "outputs": [],
   "source": [
    "import pandas as pd\n",
    "import numpy as np\n",
    "import mysql.connector\n",
    "import os\n",
    "from mysql.connector import Error\n",
    "from datetime import datetime, date, timedelta\n",
    "import re\n",
    "from IPython.core.interactiveshell import InteractiveShell\n",
    "InteractiveShell.ast_node_interactivity = \"all\""
   ]
  },
  {
   "cell_type": "code",
   "execution_count": 2,
   "metadata": {},
   "outputs": [],
   "source": [
    "#Definimos la ruta en donde queremos guardar los archivos\n",
    "ruta_guardar = '/home/estadistico/Documents/Erick/Reportes diarios'\n",
    "ruta_pagos = '/home/estadistico/Documents/Erick'\n",
    "mes = 20201201\n",
    "mes2 = 'Diciembre2020'\n",
    "mes3 = pd.to_datetime('01/12/2020',dayfirst=True)\n",
    "prim_sem_mes = 49"
   ]
  },
  {
   "cell_type": "code",
   "execution_count": 3,
   "metadata": {},
   "outputs": [],
   "source": [
    "#Agregamos las variables a ocupar\n",
    "servidor = '192.168.15.12'\n",
    "puerto = 3306\n",
    "usuario = 'estadisticas'\n",
    "contrasena = 'estadisticas8474'\n",
    "base = 'procesos_externos'"
   ]
  },
  {
   "cell_type": "code",
   "execution_count": 4,
   "metadata": {},
   "outputs": [],
   "source": [
    "#Asignamos valores a los parametros \\n\"\n",
    "today = date.today().strftime('%Y%m%d')\n",
    "now = datetime.now().strftime('%d-%m-%Y %H:%M')\n",
    "hoy = np.datetime64('today')\n",
    "ayer = np.datetime64(date.today() - timedelta(1))\n",
    "today2 = date.today().strftime('%d-%m-%Y')"
   ]
  },
  {
   "cell_type": "code",
   "execution_count": 5,
   "metadata": {},
   "outputs": [],
   "source": [
    "#Lectura pagos Banco Azteca\n",
    "sheet_baz_renta = os.listdir(''+ruta_pagos+'/'+str(mes2)+'/Banco Azteca/Pagos/Renta')\n",
    "pagos_baz_renta = pd.DataFrame()\n",
    "for i in sheet_baz_renta:\n",
    "    pagos_baz_renta_new = pd.read_csv(''+ruta_pagos+'/'+str(mes2)+'/Banco Azteca/Pagos/Renta/'+i+'')\n",
    "    pagos_baz_renta = pd.concat([pagos_baz_renta,pagos_baz_renta_new],ignore_index=True)\n",
    "pagos_baz_renta = pagos_baz_renta.drop_duplicates()\n",
    "pagos_baz_renta = pagos_baz_renta.loc[pagos_baz_renta['FNMONTOPAGADO']>0]\n",
    "pagos_baz_renta['FDFECHAABONO'] = pd.to_datetime(pagos_baz_renta['FDFECHAABONO'],dayfirst=True)\n",
    "pagos_baz_renta = pagos_baz_renta.loc[pagos_baz_renta['FDFECHAABONO']>=mes3]\n",
    "pagos_baz_renta2 = pd.pivot_table(pagos_baz_renta,index=['CAMPANAID','FDFECHAABONO','FIIDPERIODO','FNSCOMPROMISO','FCEMPNUMCORTE','FNMONTOPROMETIDO'],values=['FNMONTOPAGADO'],aggfunc=np.sum)\n",
    "pagos_baz_renta2 = pd.DataFrame(pagos_baz_renta2.to_records())"
   ]
  },
  {
   "cell_type": "code",
   "execution_count": 6,
   "metadata": {},
   "outputs": [],
   "source": [
    "#Lectura pagos Banco Azteca\n",
    "sheet_baz_recovery = os.listdir(''+ruta_pagos+'/'+str(mes2)+'/Banco Azteca/Pagos/Recovery/')\n",
    "pagos_baz_recovery = pd.DataFrame()\n",
    "for k in sheet_baz_recovery:\n",
    "    pagos_baz_recovery_new = pd.read_csv(''+ruta_pagos+'/'+str(mes2)+'/Banco Azteca/Pagos/Recovery/'+k+'',sep='|')\n",
    "    pagos_baz_recovery = pd.concat([pagos_baz_recovery,pagos_baz_recovery_new],ignore_index=True)\n",
    "pagos_baz_recovery['Cartera'] = 'Recovery'\n",
    "pagos_baz_recovery['DIA'] = pd.to_datetime(pagos_baz_recovery['DIA'],dayfirst=True)\n",
    "pagos_baz_recovery = pagos_baz_recovery.loc[pagos_baz_recovery['DIA']>=mes3]\n",
    "pagos_baz_recovery = pagos_baz_recovery.loc[pagos_baz_recovery['DIA']>=mes3]\n",
    "pagos_baz_recovery['credito'] = pagos_baz_recovery['PAIS'].map(str)+'-'+pagos_baz_recovery['CANAL'].map(str)+'-'+pagos_baz_recovery['SUCURSAL'].map(str)+'-'+pagos_baz_recovery['FOLIO'].map(str)\n",
    "pagos_baz_recovery = pagos_baz_recovery.drop_duplicates()"
   ]
  },
  {
   "cell_type": "code",
   "execution_count": 7,
   "metadata": {},
   "outputs": [
    {
     "output_type": "execute_result",
     "data": {
      "text/plain": [
       "   ANIO  SEMANA        DIA  PAIS  CANAL  SUCURSAL  FOLIO  \\\n",
       "0  2020      50 2020-12-07     1      1      4167  21140   \n",
       "\n",
       "   RECUPERACION DE CAPITAL  RECUPERACION DE MORATORIOS  SALDO ACTUAL  \\\n",
       "0                      373                         632        5028.0   \n",
       "\n",
       "   MORATORIOS ACTUAL FECHA GESTION CARGO AUTOMATICO cartera         credito  \n",
       "0                0.0    02/12/2020               NO   26-39  1-1-4167-21140  "
      ],
      "text/html": "<div>\n<style scoped>\n    .dataframe tbody tr th:only-of-type {\n        vertical-align: middle;\n    }\n\n    .dataframe tbody tr th {\n        vertical-align: top;\n    }\n\n    .dataframe thead th {\n        text-align: right;\n    }\n</style>\n<table border=\"1\" class=\"dataframe\">\n  <thead>\n    <tr style=\"text-align: right;\">\n      <th></th>\n      <th>ANIO</th>\n      <th>SEMANA</th>\n      <th>DIA</th>\n      <th>PAIS</th>\n      <th>CANAL</th>\n      <th>SUCURSAL</th>\n      <th>FOLIO</th>\n      <th>RECUPERACION DE CAPITAL</th>\n      <th>RECUPERACION DE MORATORIOS</th>\n      <th>SALDO ACTUAL</th>\n      <th>MORATORIOS ACTUAL</th>\n      <th>FECHA GESTION</th>\n      <th>CARGO AUTOMATICO</th>\n      <th>cartera</th>\n      <th>credito</th>\n    </tr>\n  </thead>\n  <tbody>\n    <tr>\n      <th>0</th>\n      <td>2020</td>\n      <td>50</td>\n      <td>2020-12-07</td>\n      <td>1</td>\n      <td>1</td>\n      <td>4167</td>\n      <td>21140</td>\n      <td>373</td>\n      <td>632</td>\n      <td>5028.0</td>\n      <td>0.0</td>\n      <td>02/12/2020</td>\n      <td>NO</td>\n      <td>26-39</td>\n      <td>1-1-4167-21140</td>\n    </tr>\n  </tbody>\n</table>\n</div>"
     },
     "metadata": {},
     "execution_count": 7
    }
   ],
   "source": [
    "#Lectura pagos Banco Azteca\n",
    "sheet_baz_26 = os.listdir(''+ruta_pagos+'/'+str(mes2)+'/Banco Azteca/Pagos/26-39/')\n",
    "pagos_baz_26 = pd.DataFrame()\n",
    "for j in sheet_baz_26:\n",
    "    pagos_baz_26_new = pd.read_csv(''+ruta_pagos+'/'+str(mes2)+'/Banco Azteca/Pagos/26-39/'+j+'',sep='|')\n",
    "    pagos_baz_26 = pd.concat([pagos_baz_26,pagos_baz_26_new],ignore_index=True)\n",
    "pagos_baz_26['cartera'] = '26-39'\n",
    "pagos_baz_26['DIA'] = pd.to_datetime(pagos_baz_26['DIA'],dayfirst=True)\n",
    "pagos_baz_26 = pagos_baz_26.loc[pagos_baz_26['DIA']>=mes3]\n",
    "pagos_baz_26['credito'] = pagos_baz_26['PAIS'].map(str)+'-'+pagos_baz_26['CANAL'].map(str)+'-'+pagos_baz_26['SUCURSAL'].map(str)+'-'+pagos_baz_26['FOLIO'].map(str)\n",
    "pagos_baz_26 = pagos_baz_26.drop_duplicates()\n",
    "pagos_baz_26.head(1)"
   ]
  },
  {
   "cell_type": "code",
   "execution_count": 8,
   "metadata": {},
   "outputs": [],
   "source": [
    "#Hacemos la conexion con el servidor\\n\",\n",
    "try: \n",
    "    conn = mysql.connector.connect(user=usuario,\n",
    "                               password=contrasena,\n",
    "                               host=servidor,\n",
    "                               port=puerto,\n",
    "                               database=base)\n",
    "    conn.set_charset_collation('latin1')\n",
    "except mysql.Error as e:\n",
    "    print(\"Failed to execute stored procedure: {}\".format(error))\n",
    "\n",
    "cursor = conn.cursor()"
   ]
  },
  {
   "cell_type": "code",
   "execution_count": 9,
   "metadata": {},
   "outputs": [],
   "source": [
    "#Funcion para hacer la consulta sql, ya sea de gestion o de asignacion en donde requerimos tres parametros, la tabla de donde vamos a sacar la consulta, en caso de asignacin requerimos los otros dos parametros fecha inicial y fecha final\n",
    "def consulta_sql(table,from_date=None,to_date=None,campana=None):\n",
    "    if campana is None:\n",
    "        if from_date is None:\n",
    "            sql_mes = cursor.callproc(table,)\n",
    "            for result in cursor.stored_results():\n",
    "                sql_mes = pd.DataFrame(result.fetchall())\n",
    "        else:\n",
    "            sql_mes = cursor.callproc(table, [from_date,to_date])\n",
    "            for result in cursor.stored_results():\n",
    "                sql_mes = pd.DataFrame(result.fetchall())\n",
    "    else:\n",
    "        sql_mes = cursor.callproc(table, [from_date,to_date,campana])\n",
    "        for result in cursor.stored_results():\n",
    "                sql_mes = pd.DataFrame(result.fetchall())\n",
    "    sql_mes = sql_mes.drop_duplicates()\n",
    "    return sql_mes"
   ]
  },
  {
   "cell_type": "code",
   "execution_count": 10,
   "metadata": {},
   "outputs": [],
   "source": [
    "#Funcion para transformar varias columnas a numero\n",
    "def transform_numeric(df,cols):\n",
    "    return df[cols].apply(pd.to_numeric, errors='coerce')\n",
    "\n",
    "#Funcion que convierte a dataframe y rellena espacios con 0\n",
    "def to_dataframe(df):\n",
    "    df = pd.DataFrame(df.to_records())\n",
    "    df.fillna(0,inplace=True)\n",
    "    return df\n",
    "\n",
    "#Funcion que quita el % del string\n",
    "def percent_tonumeric(df,cols):\n",
    "    for c in cols:\n",
    "        df[c] = [x[:-2] for x in df[c]]\n",
    "    return transform_numeric(df,cols)"
   ]
  },
  {
   "source": [
    "# Llamadas Detallado Banco Azteca"
   ],
   "cell_type": "markdown",
   "metadata": {}
  },
  {
   "cell_type": "code",
   "execution_count": 11,
   "metadata": {},
   "outputs": [],
   "source": [
    "#Hacemos la consulta referente a las gestiones de Credifiel\n",
    "#llamadas_cred = consulta_sql('procesos_externos.all_rpt_llamadas_detallado',mes,today,'(^BAZ)')\n",
    "#llamadas_cred.columns = ['server_ip','uniqueid','call_type','call_date','campaign_id','campaign_name','list_id',#'list_name','lead_id','vendor_lead_id','vendor_lead_name','phone_number','status','status_name','username','full_name','term_reason_call','queue_seconds','length_in_sec','call_date_short','call_time_short','call_time_hour','call_range_hour','dialstatus','hangup_cause','sip_hangup_cause','carrier','areacode','state','region']\n",
    "#llamadas_cred.head(1)"
   ]
  },
  {
   "cell_type": "code",
   "execution_count": 12,
   "metadata": {},
   "outputs": [],
   "source": [
    "#llamadas_cred['turno'] = np.where(llamadas_cred['call_time_hour']<=14,'M','V')"
   ]
  },
  {
   "source": [
    "# Performance Banco Azteca"
   ],
   "cell_type": "markdown",
   "metadata": {}
  },
  {
   "cell_type": "code",
   "execution_count": 13,
   "metadata": {},
   "outputs": [],
   "source": [
    "#Hacemos la consulta referente al performance del Gestor\n",
    "performance_all = consulta_sql('procesos_externos.all_rpt_agent_performance',20200101,20201201)\n",
    "performance_all.columns = ['fecha','usuario','nombre_usuario','user_group','llamadas','aht','ocupacion','adherencia','login_vici','logout_vici','staff_time','wait_time','talk_time','dispo_time','pause','login','manual','gestion','agua','alimentos','sanitario','retroalimentacion','tranferencia','validacion','whatsapp','incumplimiento','recordatorios','capacitacion','sistemas','lagged','tipificando','*']"
   ]
  },
  {
   "cell_type": "code",
   "execution_count": 14,
   "metadata": {},
   "outputs": [],
   "source": [
    "performance_all['user_group2'] = [x[:3] for x in performance_all['user_group']]\n",
    "performance_baz = performance_all.loc[performance_all['user_group2']=='BAZ']\n",
    "performance_baz[['ocupacion','adherencia']] = percent_tonumeric(performance_baz,['ocupacion','adherencia'])"
   ]
  },
  {
   "cell_type": "code",
   "execution_count": 15,
   "metadata": {},
   "outputs": [],
   "source": [
    "performance_baz['hora_login'] = [int(x[:2]) for x in performance_baz['login_vici']]\n",
    "performance_baz['hora_logout'] = [int(x[:2]) for x in performance_baz['logout_vici']]\n",
    "performance_baz['turno'] = np.where((performance_baz['hora_logout']<=14)&(performance_baz['hora_logout']-performance_baz['hora_login']<=8),'M',\n",
    "                                    np.where((performance_baz['hora_logout']>17)&(performance_baz['hora_logout']-performance_baz['hora_login']<=8),'V','Mixto'))"
   ]
  },
  {
   "cell_type": "code",
   "execution_count": 16,
   "metadata": {},
   "outputs": [],
   "source": [
    "performance_baz['horas_trabajadas'] = performance_baz['hora_logout']-performance_baz['hora_login']\n",
    "performance_baz['llamadas_hora'] = performance_baz['llamadas']/performance_baz['horas_trabajadas']\n",
    "performance_baz['llamadas_hora'] = performance_baz['llamadas_hora'].round(1)"
   ]
  },
  {
   "cell_type": "code",
   "execution_count": 33,
   "metadata": {},
   "outputs": [
    {
     "output_type": "execute_result",
     "data": {
      "text/plain": [
       "   turno  ('sum', 'horas_trabajadas')  ('sum', 'llamadas')  \\\n",
       "0      M                        15510               842920   \n",
       "1  Mixto                         1564                55547   \n",
       "2      V                        11463               566965   \n",
       "\n",
       "   ('sum', 'ocupacion')  ('mean', 'horas_trabajadas')  ('mean', 'llamadas')  \\\n",
       "0             100472.06                      5.960799            323.950807   \n",
       "1               6563.34                      9.309524            330.636905   \n",
       "2              71321.73                      6.691769            330.977817   \n",
       "\n",
       "   ('mean', 'ocupacion')  ('count', 'horas_trabajadas')  \\\n",
       "0              38.643100                           2602   \n",
       "1              39.777818                            168   \n",
       "2              41.635569                           1713   \n",
       "\n",
       "   ('count', 'llamadas')  ('count', 'ocupacion')  ('min', 'horas_trabajadas')  \\\n",
       "0                   2602                    2600                            0   \n",
       "1                    168                     165                            0   \n",
       "2                   1713                    1713                            0   \n",
       "\n",
       "   ('min', 'llamadas')  ('min', 'ocupacion')  ('max', 'horas_trabajadas')  \\\n",
       "0                    0                   0.0                            8   \n",
       "1                    0                   0.0                           14   \n",
       "2                    0                   0.0                            8   \n",
       "\n",
       "   ('max', 'llamadas')  ('max', 'ocupacion')  \n",
       "0                 1390                 85.16  \n",
       "1                  966                 76.69  \n",
       "2                 1208                 74.15  "
      ],
      "text/html": "<div>\n<style scoped>\n    .dataframe tbody tr th:only-of-type {\n        vertical-align: middle;\n    }\n\n    .dataframe tbody tr th {\n        vertical-align: top;\n    }\n\n    .dataframe thead th {\n        text-align: right;\n    }\n</style>\n<table border=\"1\" class=\"dataframe\">\n  <thead>\n    <tr style=\"text-align: right;\">\n      <th></th>\n      <th>turno</th>\n      <th>('sum', 'horas_trabajadas')</th>\n      <th>('sum', 'llamadas')</th>\n      <th>('sum', 'ocupacion')</th>\n      <th>('mean', 'horas_trabajadas')</th>\n      <th>('mean', 'llamadas')</th>\n      <th>('mean', 'ocupacion')</th>\n      <th>('count', 'horas_trabajadas')</th>\n      <th>('count', 'llamadas')</th>\n      <th>('count', 'ocupacion')</th>\n      <th>('min', 'horas_trabajadas')</th>\n      <th>('min', 'llamadas')</th>\n      <th>('min', 'ocupacion')</th>\n      <th>('max', 'horas_trabajadas')</th>\n      <th>('max', 'llamadas')</th>\n      <th>('max', 'ocupacion')</th>\n    </tr>\n  </thead>\n  <tbody>\n    <tr>\n      <th>0</th>\n      <td>M</td>\n      <td>15510</td>\n      <td>842920</td>\n      <td>100472.06</td>\n      <td>5.960799</td>\n      <td>323.950807</td>\n      <td>38.643100</td>\n      <td>2602</td>\n      <td>2602</td>\n      <td>2600</td>\n      <td>0</td>\n      <td>0</td>\n      <td>0.0</td>\n      <td>8</td>\n      <td>1390</td>\n      <td>85.16</td>\n    </tr>\n    <tr>\n      <th>1</th>\n      <td>Mixto</td>\n      <td>1564</td>\n      <td>55547</td>\n      <td>6563.34</td>\n      <td>9.309524</td>\n      <td>330.636905</td>\n      <td>39.777818</td>\n      <td>168</td>\n      <td>168</td>\n      <td>165</td>\n      <td>0</td>\n      <td>0</td>\n      <td>0.0</td>\n      <td>14</td>\n      <td>966</td>\n      <td>76.69</td>\n    </tr>\n    <tr>\n      <th>2</th>\n      <td>V</td>\n      <td>11463</td>\n      <td>566965</td>\n      <td>71321.73</td>\n      <td>6.691769</td>\n      <td>330.977817</td>\n      <td>41.635569</td>\n      <td>1713</td>\n      <td>1713</td>\n      <td>1713</td>\n      <td>0</td>\n      <td>0</td>\n      <td>0.0</td>\n      <td>8</td>\n      <td>1208</td>\n      <td>74.15</td>\n    </tr>\n  </tbody>\n</table>\n</div>"
     },
     "metadata": {},
     "execution_count": 33
    }
   ],
   "source": [
    "control_performance_baz_turno = pd.pivot_table(performance_baz,index=['turno'],values=['llamadas','ocupacion','horas_trabajadas'],aggfunc=[np.sum,np.mean,'count',min,max])\n",
    "control_performance_baz_turno = to_dataframe(control_performance_baz_turno)\n",
    "#control_performance_baz_turno = control_performance_baz_turno.iloc[:,[0,1,2,3,4,5,6,7,8,9,12,13,14,15,16,17]]\n",
    "#control_performance_baz_turno.columns = ['Usuario','Gestor','Turno','SumHorasTrabajadas','SumLlamadasDia','SumOcupacion','PromedioHorasTrab','PromedioLlamadasDia','PromedioOcupacion','DiasAsitencia','MinHoras','MinLlamadasDia','MinOcupacion','MaxHoras','MaxLlamadasDia','MaxOcupacion']\n",
    "#control_performance_baz_turno['LlamadasHora'] = control_performance_baz_turno['SumLlamadasDia']/control_performance_baz_turno['SumHorasTrabajadas']\n",
    "control_performance_baz_turno"
   ]
  },
  {
   "cell_type": "code",
   "execution_count": 34,
   "metadata": {},
   "outputs": [],
   "source": [
    "control_performance_baz_turno3 = control_performance_baz_turno[np.abs(control_performance_baz_turno - \n",
    "control_performance_baz_turno.mean()) <= (3 * control_performance_baz_turno.std())]\n",
    "control_performance_baz_turno3 = control_performance_baz_turno3.replace({'0':np.nan, 0:np.nan})"
   ]
  },
  {
   "cell_type": "code",
   "execution_count": 35,
   "metadata": {},
   "outputs": [
    {
     "output_type": "execute_result",
     "data": {
      "text/plain": [
       "      turno  ('sum', 'horas_trabajadas')  ('sum', 'llamadas')  \\\n",
       "0       NaN                     15510.00            842920.00   \n",
       "1       NaN                      1564.00             55547.00   \n",
       "2       NaN                     11463.00            566965.00   \n",
       "mean    NaN                      9512.33            488477.33   \n",
       "\n",
       "      ('sum', 'ocupacion')  ('mean', 'horas_trabajadas')  \\\n",
       "0                100472.06                      5.960799   \n",
       "1                  6563.34                      9.309524   \n",
       "2                 71321.73                      6.691769   \n",
       "mean              59452.38                      7.320000   \n",
       "\n",
       "      ('mean', 'llamadas')  ('mean', 'ocupacion')  \\\n",
       "0               323.950807              38.643100   \n",
       "1               330.636905              39.777818   \n",
       "2               330.977817              41.635569   \n",
       "mean            328.520000              40.020000   \n",
       "\n",
       "      ('count', 'horas_trabajadas')  ('count', 'llamadas')  \\\n",
       "0                           2602.00                2602.00   \n",
       "1                            168.00                 168.00   \n",
       "2                           1713.00                1713.00   \n",
       "mean                        1494.33                1494.33   \n",
       "\n",
       "      ('count', 'ocupacion')  ('min', 'horas_trabajadas')  \\\n",
       "0                    2600.00                          NaN   \n",
       "1                     165.00                          NaN   \n",
       "2                    1713.00                          NaN   \n",
       "mean                 1492.67                          NaN   \n",
       "\n",
       "      ('min', 'llamadas')  ('min', 'ocupacion')  ('max', 'horas_trabajadas')  \\\n",
       "0                     NaN                   NaN                          8.0   \n",
       "1                     NaN                   NaN                         14.0   \n",
       "2                     NaN                   NaN                          8.0   \n",
       "mean                  NaN                   NaN                         10.0   \n",
       "\n",
       "      ('max', 'llamadas')  ('max', 'ocupacion')  \n",
       "0                  1390.0                 85.16  \n",
       "1                   966.0                 76.69  \n",
       "2                  1208.0                 74.15  \n",
       "mean               1188.0                 78.67  "
      ],
      "text/html": "<div>\n<style scoped>\n    .dataframe tbody tr th:only-of-type {\n        vertical-align: middle;\n    }\n\n    .dataframe tbody tr th {\n        vertical-align: top;\n    }\n\n    .dataframe thead th {\n        text-align: right;\n    }\n</style>\n<table border=\"1\" class=\"dataframe\">\n  <thead>\n    <tr style=\"text-align: right;\">\n      <th></th>\n      <th>turno</th>\n      <th>('sum', 'horas_trabajadas')</th>\n      <th>('sum', 'llamadas')</th>\n      <th>('sum', 'ocupacion')</th>\n      <th>('mean', 'horas_trabajadas')</th>\n      <th>('mean', 'llamadas')</th>\n      <th>('mean', 'ocupacion')</th>\n      <th>('count', 'horas_trabajadas')</th>\n      <th>('count', 'llamadas')</th>\n      <th>('count', 'ocupacion')</th>\n      <th>('min', 'horas_trabajadas')</th>\n      <th>('min', 'llamadas')</th>\n      <th>('min', 'ocupacion')</th>\n      <th>('max', 'horas_trabajadas')</th>\n      <th>('max', 'llamadas')</th>\n      <th>('max', 'ocupacion')</th>\n    </tr>\n  </thead>\n  <tbody>\n    <tr>\n      <th>0</th>\n      <td>NaN</td>\n      <td>15510.00</td>\n      <td>842920.00</td>\n      <td>100472.06</td>\n      <td>5.960799</td>\n      <td>323.950807</td>\n      <td>38.643100</td>\n      <td>2602.00</td>\n      <td>2602.00</td>\n      <td>2600.00</td>\n      <td>NaN</td>\n      <td>NaN</td>\n      <td>NaN</td>\n      <td>8.0</td>\n      <td>1390.0</td>\n      <td>85.16</td>\n    </tr>\n    <tr>\n      <th>1</th>\n      <td>NaN</td>\n      <td>1564.00</td>\n      <td>55547.00</td>\n      <td>6563.34</td>\n      <td>9.309524</td>\n      <td>330.636905</td>\n      <td>39.777818</td>\n      <td>168.00</td>\n      <td>168.00</td>\n      <td>165.00</td>\n      <td>NaN</td>\n      <td>NaN</td>\n      <td>NaN</td>\n      <td>14.0</td>\n      <td>966.0</td>\n      <td>76.69</td>\n    </tr>\n    <tr>\n      <th>2</th>\n      <td>NaN</td>\n      <td>11463.00</td>\n      <td>566965.00</td>\n      <td>71321.73</td>\n      <td>6.691769</td>\n      <td>330.977817</td>\n      <td>41.635569</td>\n      <td>1713.00</td>\n      <td>1713.00</td>\n      <td>1713.00</td>\n      <td>NaN</td>\n      <td>NaN</td>\n      <td>NaN</td>\n      <td>8.0</td>\n      <td>1208.0</td>\n      <td>74.15</td>\n    </tr>\n    <tr>\n      <th>mean</th>\n      <td>NaN</td>\n      <td>9512.33</td>\n      <td>488477.33</td>\n      <td>59452.38</td>\n      <td>7.320000</td>\n      <td>328.520000</td>\n      <td>40.020000</td>\n      <td>1494.33</td>\n      <td>1494.33</td>\n      <td>1492.67</td>\n      <td>NaN</td>\n      <td>NaN</td>\n      <td>NaN</td>\n      <td>10.0</td>\n      <td>1188.0</td>\n      <td>78.67</td>\n    </tr>\n  </tbody>\n</table>\n</div>"
     },
     "metadata": {},
     "execution_count": 35
    }
   ],
   "source": [
    "control_performance_baz_turno3.loc['mean'] = control_performance_baz_turno3.mean().round(2)\n",
    "control_performance_baz_turno3"
   ]
  },
  {
   "source": [
    "# Gestion Banco Azteca"
   ],
   "cell_type": "markdown",
   "metadata": {}
  },
  {
   "cell_type": "code",
   "execution_count": 20,
   "metadata": {},
   "outputs": [],
   "source": [
    "#Inicio y fin de meses que nos interesa conocer\n",
    "inicio_mes = [20200101,20200201,20200301,20200401,20200501,20200601,20200701,20200801,20200901,20201001,20201101]\n",
    "fin_mes = [20200131,20200228,20200331,20200430,20200531,20200630,20200731,20200831,20200930,20201031,20201130]"
   ]
  },
  {
   "cell_type": "code",
   "execution_count": 21,
   "metadata": {},
   "outputs": [
    {
     "output_type": "stream",
     "name": "stdout",
     "text": [
      "20200101\n",
      "20200201\n",
      "20200301\n",
      "20200401\n",
      "20200501\n",
      "20200601\n",
      "20200701\n",
      "20200801\n",
      "20200901\n",
      "20201001\n",
      "20201101\n"
     ]
    }
   ],
   "source": [
    "#Lectura de cada uno de los meses\n",
    "gestion_baz = pd.DataFrame()\n",
    "for i,j in zip(inicio_mes,fin_mes):\n",
    "    gestion_baz_mes = consulta_sql('baz_rpt_gestiones_detallado',i,j)\n",
    "    gestion_baz = pd.concat([gestion_baz,gestion_baz_mes],ignore_index=True)\n",
    "    print(i)"
   ]
  },
  {
   "cell_type": "code",
   "execution_count": 22,
   "metadata": {},
   "outputs": [],
   "source": [
    "#Hacemos la consulta referente a las gestiones de Banco Azteca\n",
    "gestion_baz.columns = ['folio_gestion','firma_id','unegocio_id','credito','nombre_credito','telefono','tipo_telefono','fecha_gestion','usuario','nombre_usuario','dictamen','accion_resultado','fecha_promesa','monto_promesa','comentarios']"
   ]
  },
  {
   "cell_type": "code",
   "execution_count": 23,
   "metadata": {},
   "outputs": [],
   "source": [
    "#try: gestion_baz['anio_prom'] = [int(x[:4]) for x in gestion_baz['fecha_promesa']]\n",
    "#except: gestion_baz['anio_prom'] = 0\n",
    "#gestion_baz = gestion_baz.loc[gestion_baz['anio_prom']<2030]\n",
    "gestion_baz = gestion_baz.drop_duplicates()\n",
    "gestion_baz['monto_promesa'] = pd.to_numeric(gestion_baz['monto_promesa'])\n",
    "gestion_baz['usuario'] = [x.rstrip() for x in gestion_baz['usuario']]\n",
    "#gestion_baz['fecha_promesa'] = pd.to_datetime(gestion_baz['fecha_promesa'],dayfirst=False)"
   ]
  },
  {
   "cell_type": "code",
   "execution_count": 25,
   "metadata": {},
   "outputs": [],
   "source": [
    "promesas_baz = gestion_baz.loc[gestion_baz['dictamen']=='PROMESA']\n",
    "promesas_baz = promesas_baz.loc[(promesas_baz['monto_promesa']>10) & (promesas_baz['monto_promesa']<500000)]"
   ]
  },
  {
   "cell_type": "code",
   "execution_count": 37,
   "metadata": {},
   "outputs": [
    {
     "output_type": "execute_result",
     "data": {
      "text/plain": [
       "   folio_gestion  firma_id  unegocio_id         credito  \\\n",
       "0        6604661         7            1  1-1-3625-80005   \n",
       "\n",
       "                    nombre_credito    telefono tipo_telefono  \\\n",
       "0  MONICA BERENICE ARRIAGA RAMIREZ  5561920651       celular   \n",
       "\n",
       "        fecha_gestion         usuario                   nombre_usuario  ...  \\\n",
       "0 2020-01-31 20:27:36  GACASTAÃEDAGA  GALLO CASTAÃEDA GUSTAVO ADOLFO  ...   \n",
       "\n",
       "  FOLIO RECUPERACION DE CAPITAL RECUPERACION DE MORATORIOS  SALDO ACTUAL  \\\n",
       "0   NaN                     NaN                        NaN           NaN   \n",
       "\n",
       "  MORATORIOS ACTUAL  FECHA GESTION  CARGO AUTOMATICO cartera  Cartera  MONTH  \n",
       "0               NaN            NaN               NaN     NaN      NaN      1  \n",
       "\n",
       "[1 rows x 31 columns]"
      ],
      "text/html": "<div>\n<style scoped>\n    .dataframe tbody tr th:only-of-type {\n        vertical-align: middle;\n    }\n\n    .dataframe tbody tr th {\n        vertical-align: top;\n    }\n\n    .dataframe thead th {\n        text-align: right;\n    }\n</style>\n<table border=\"1\" class=\"dataframe\">\n  <thead>\n    <tr style=\"text-align: right;\">\n      <th></th>\n      <th>folio_gestion</th>\n      <th>firma_id</th>\n      <th>unegocio_id</th>\n      <th>credito</th>\n      <th>nombre_credito</th>\n      <th>telefono</th>\n      <th>tipo_telefono</th>\n      <th>fecha_gestion</th>\n      <th>usuario</th>\n      <th>nombre_usuario</th>\n      <th>...</th>\n      <th>FOLIO</th>\n      <th>RECUPERACION DE CAPITAL</th>\n      <th>RECUPERACION DE MORATORIOS</th>\n      <th>SALDO ACTUAL</th>\n      <th>MORATORIOS ACTUAL</th>\n      <th>FECHA GESTION</th>\n      <th>CARGO AUTOMATICO</th>\n      <th>cartera</th>\n      <th>Cartera</th>\n      <th>MONTH</th>\n    </tr>\n  </thead>\n  <tbody>\n    <tr>\n      <th>0</th>\n      <td>6604661</td>\n      <td>7</td>\n      <td>1</td>\n      <td>1-1-3625-80005</td>\n      <td>MONICA BERENICE ARRIAGA RAMIREZ</td>\n      <td>5561920651</td>\n      <td>celular</td>\n      <td>2020-01-31 20:27:36</td>\n      <td>GACASTAÃEDAGA</td>\n      <td>GALLO CASTAÃEDA GUSTAVO ADOLFO</td>\n      <td>...</td>\n      <td>NaN</td>\n      <td>NaN</td>\n      <td>NaN</td>\n      <td>NaN</td>\n      <td>NaN</td>\n      <td>NaN</td>\n      <td>NaN</td>\n      <td>NaN</td>\n      <td>NaN</td>\n      <td>1</td>\n    </tr>\n  </tbody>\n</table>\n<p>1 rows × 31 columns</p>\n</div>"
     },
     "metadata": {},
     "execution_count": 37
    }
   ],
   "source": [
    "pagos_baz = pd.concat([pagos_baz_26,pagos_baz_recovery],ignore_index=True)\n",
    "pagos_baz = pagos_baz.loc[pagos_baz['CARGO AUTOMATICO']=='NO']\n",
    "consolidado_pagos_baz = pd.merge(promesas_baz,pagos_baz,how='left',on=['credito'])\n",
    "consolidado_pagos_baz['MONTH'] = consolidado_pagos_baz['fecha_gestion'].dt.month\n",
    "consolidado_pagos_baz.head(1)"
   ]
  },
  {
   "cell_type": "code",
   "execution_count": 44,
   "metadata": {},
   "outputs": [
    {
     "output_type": "execute_result",
     "data": {
      "text/plain": [
       "            usuario  ('sum', 'monto_promesa', 1)  ('sum', 'monto_promesa', 2)  \\\n",
       "0        ACDELRIOCH                         0.00                          0.0   \n",
       "1         ADAMECCAL                         0.00                      56306.0   \n",
       "2       ALHENANDEZA                    416428.00                     350149.0   \n",
       "3     ALLENDEIGCRJO                         0.00                          0.0   \n",
       "4      ALVARADOCHCI                     42208.00                       5949.0   \n",
       "...             ...                          ...                          ...   \n",
       "161      VIGARCIAEJ                         0.00                          0.0   \n",
       "162   VIRELASTOJOAN                         0.00                          0.0   \n",
       "163     WJZCARRANCO                         0.00                          0.0   \n",
       "164      ZEPEDAESJI                         0.00                          0.0   \n",
       "mean            NaN                     51988.11                      43586.0   \n",
       "\n",
       "      ('sum', 'monto_promesa', 3)  ('sum', 'monto_promesa', 4)  \\\n",
       "0                            0.00                         0.00   \n",
       "1                       370314.00                    368627.00   \n",
       "2                       478852.00                    361515.00   \n",
       "3                            0.00                         0.00   \n",
       "4                            0.00                         0.00   \n",
       "...                           ...                          ...   \n",
       "161                          0.00                         0.00   \n",
       "162                          0.00                         0.00   \n",
       "163                          0.00                         0.00   \n",
       "164                          0.00                         0.00   \n",
       "mean                     46342.75                     29955.52   \n",
       "\n",
       "      ('sum', 'monto_promesa', 5)  ('sum', 'monto_promesa', 6)  \\\n",
       "0                            0.00                         0.00   \n",
       "1                            0.00                         0.00   \n",
       "2                       182027.00                    325670.00   \n",
       "3                            0.00                         0.00   \n",
       "4                            0.00                         0.00   \n",
       "...                           ...                          ...   \n",
       "161                          0.00                         0.00   \n",
       "162                          0.00                         0.00   \n",
       "163                      35980.00                         0.00   \n",
       "164                          0.00                         0.00   \n",
       "mean                     34361.12                     37126.12   \n",
       "\n",
       "      ('sum', 'monto_promesa', 7)  ('sum', 'monto_promesa', 8)  \\\n",
       "0                            0.00                      2156.00   \n",
       "1                            0.00                         0.00   \n",
       "2                       323915.00                    464247.00   \n",
       "3                         4100.00                     58752.00   \n",
       "4                            0.00                         0.00   \n",
       "...                           ...                          ...   \n",
       "161                          0.00                      9111.00   \n",
       "162                          0.00                         0.00   \n",
       "163                          0.00                         0.00   \n",
       "164                          0.00                      4810.00   \n",
       "mean                     35260.35                     36527.96   \n",
       "\n",
       "      ('sum', 'monto_promesa', 9)  ('sum', 'monto_promesa', 10)       Mean  \n",
       "0                            0.00                          0.00     215.60  \n",
       "1                            0.00                          0.00   79524.70  \n",
       "2                       357875.00                     159559.00  342023.70  \n",
       "3                            0.00                          0.00    6285.20  \n",
       "4                            0.00                          0.00    4815.70  \n",
       "...                           ...                           ...        ...  \n",
       "161                     150773.00                       6734.00   16661.80  \n",
       "162                      84563.00                     269456.00   35401.90  \n",
       "163                          0.00                          0.00    3598.00  \n",
       "164                     122508.00                     278588.00   40590.60  \n",
       "mean                     38813.76                      39641.87   39360.36  \n",
       "\n",
       "[166 rows x 12 columns]"
      ],
      "text/html": "<div>\n<style scoped>\n    .dataframe tbody tr th:only-of-type {\n        vertical-align: middle;\n    }\n\n    .dataframe tbody tr th {\n        vertical-align: top;\n    }\n\n    .dataframe thead th {\n        text-align: right;\n    }\n</style>\n<table border=\"1\" class=\"dataframe\">\n  <thead>\n    <tr style=\"text-align: right;\">\n      <th></th>\n      <th>usuario</th>\n      <th>('sum', 'monto_promesa', 1)</th>\n      <th>('sum', 'monto_promesa', 2)</th>\n      <th>('sum', 'monto_promesa', 3)</th>\n      <th>('sum', 'monto_promesa', 4)</th>\n      <th>('sum', 'monto_promesa', 5)</th>\n      <th>('sum', 'monto_promesa', 6)</th>\n      <th>('sum', 'monto_promesa', 7)</th>\n      <th>('sum', 'monto_promesa', 8)</th>\n      <th>('sum', 'monto_promesa', 9)</th>\n      <th>('sum', 'monto_promesa', 10)</th>\n      <th>Mean</th>\n    </tr>\n  </thead>\n  <tbody>\n    <tr>\n      <th>0</th>\n      <td>ACDELRIOCH</td>\n      <td>0.00</td>\n      <td>0.0</td>\n      <td>0.00</td>\n      <td>0.00</td>\n      <td>0.00</td>\n      <td>0.00</td>\n      <td>0.00</td>\n      <td>2156.00</td>\n      <td>0.00</td>\n      <td>0.00</td>\n      <td>215.60</td>\n    </tr>\n    <tr>\n      <th>1</th>\n      <td>ADAMECCAL</td>\n      <td>0.00</td>\n      <td>56306.0</td>\n      <td>370314.00</td>\n      <td>368627.00</td>\n      <td>0.00</td>\n      <td>0.00</td>\n      <td>0.00</td>\n      <td>0.00</td>\n      <td>0.00</td>\n      <td>0.00</td>\n      <td>79524.70</td>\n    </tr>\n    <tr>\n      <th>2</th>\n      <td>ALHENANDEZA</td>\n      <td>416428.00</td>\n      <td>350149.0</td>\n      <td>478852.00</td>\n      <td>361515.00</td>\n      <td>182027.00</td>\n      <td>325670.00</td>\n      <td>323915.00</td>\n      <td>464247.00</td>\n      <td>357875.00</td>\n      <td>159559.00</td>\n      <td>342023.70</td>\n    </tr>\n    <tr>\n      <th>3</th>\n      <td>ALLENDEIGCRJO</td>\n      <td>0.00</td>\n      <td>0.0</td>\n      <td>0.00</td>\n      <td>0.00</td>\n      <td>0.00</td>\n      <td>0.00</td>\n      <td>4100.00</td>\n      <td>58752.00</td>\n      <td>0.00</td>\n      <td>0.00</td>\n      <td>6285.20</td>\n    </tr>\n    <tr>\n      <th>4</th>\n      <td>ALVARADOCHCI</td>\n      <td>42208.00</td>\n      <td>5949.0</td>\n      <td>0.00</td>\n      <td>0.00</td>\n      <td>0.00</td>\n      <td>0.00</td>\n      <td>0.00</td>\n      <td>0.00</td>\n      <td>0.00</td>\n      <td>0.00</td>\n      <td>4815.70</td>\n    </tr>\n    <tr>\n      <th>...</th>\n      <td>...</td>\n      <td>...</td>\n      <td>...</td>\n      <td>...</td>\n      <td>...</td>\n      <td>...</td>\n      <td>...</td>\n      <td>...</td>\n      <td>...</td>\n      <td>...</td>\n      <td>...</td>\n      <td>...</td>\n    </tr>\n    <tr>\n      <th>161</th>\n      <td>VIGARCIAEJ</td>\n      <td>0.00</td>\n      <td>0.0</td>\n      <td>0.00</td>\n      <td>0.00</td>\n      <td>0.00</td>\n      <td>0.00</td>\n      <td>0.00</td>\n      <td>9111.00</td>\n      <td>150773.00</td>\n      <td>6734.00</td>\n      <td>16661.80</td>\n    </tr>\n    <tr>\n      <th>162</th>\n      <td>VIRELASTOJOAN</td>\n      <td>0.00</td>\n      <td>0.0</td>\n      <td>0.00</td>\n      <td>0.00</td>\n      <td>0.00</td>\n      <td>0.00</td>\n      <td>0.00</td>\n      <td>0.00</td>\n      <td>84563.00</td>\n      <td>269456.00</td>\n      <td>35401.90</td>\n    </tr>\n    <tr>\n      <th>163</th>\n      <td>WJZCARRANCO</td>\n      <td>0.00</td>\n      <td>0.0</td>\n      <td>0.00</td>\n      <td>0.00</td>\n      <td>35980.00</td>\n      <td>0.00</td>\n      <td>0.00</td>\n      <td>0.00</td>\n      <td>0.00</td>\n      <td>0.00</td>\n      <td>3598.00</td>\n    </tr>\n    <tr>\n      <th>164</th>\n      <td>ZEPEDAESJI</td>\n      <td>0.00</td>\n      <td>0.0</td>\n      <td>0.00</td>\n      <td>0.00</td>\n      <td>0.00</td>\n      <td>0.00</td>\n      <td>0.00</td>\n      <td>4810.00</td>\n      <td>122508.00</td>\n      <td>278588.00</td>\n      <td>40590.60</td>\n    </tr>\n    <tr>\n      <th>mean</th>\n      <td>NaN</td>\n      <td>51988.11</td>\n      <td>43586.0</td>\n      <td>46342.75</td>\n      <td>29955.52</td>\n      <td>34361.12</td>\n      <td>37126.12</td>\n      <td>35260.35</td>\n      <td>36527.96</td>\n      <td>38813.76</td>\n      <td>39641.87</td>\n      <td>39360.36</td>\n    </tr>\n  </tbody>\n</table>\n<p>166 rows × 12 columns</p>\n</div>"
     },
     "metadata": {},
     "execution_count": 44
    }
   ],
   "source": [
    "promesas_gestor_rec = pd.pivot_table(consolidado_pagos_baz,index=['usuario'],values=['monto_promesa'],columns=['MONTH'],aggfunc=[np.sum])\n",
    "promesas_gestor_rec = to_dataframe(promesas_gestor_rec)\n",
    "promesas_gestor_rec = promesas_gestor_rec.iloc[:,:-1]\n",
    "\n",
    "#promesas_gestor_rec.columns = ['Usuario','NumeroPromesas','SumaRecCapital','SumaRecMoratorios','SumaPromesas']\n",
    "#promesas_gestor_rec['Recuperado'] = promesas_gestor_rec['SumaRecCapital']+promesas_gestor_rec['SumaRecMoratorios']\n",
    "promesas_gestor_rec"
   ]
  },
  {
   "cell_type": "code",
   "execution_count": 45,
   "metadata": {},
   "outputs": [
    {
     "output_type": "execute_result",
     "data": {
      "text/plain": [
       "      usuario  ('sum', 'monto_promesa', 1)  ('sum', 'monto_promesa', 2)  \\\n",
       "0         NaN                          NaN                          NaN   \n",
       "1         NaN                          NaN                     56306.00   \n",
       "2         NaN                    416428.00                    350149.00   \n",
       "3         NaN                          NaN                          NaN   \n",
       "4         NaN                     42208.00                      5949.00   \n",
       "...       ...                          ...                          ...   \n",
       "161       NaN                          NaN                          NaN   \n",
       "162       NaN                          NaN                          NaN   \n",
       "163       NaN                          NaN                          NaN   \n",
       "164       NaN                          NaN                          NaN   \n",
       "mean      NaN                     22744.26                     20969.48   \n",
       "\n",
       "      ('sum', 'monto_promesa', 3)  ('sum', 'monto_promesa', 4)  \\\n",
       "0                             NaN                          NaN   \n",
       "1                       370314.00                    368627.00   \n",
       "2                       478852.00                    361515.00   \n",
       "3                             NaN                          NaN   \n",
       "4                             NaN                          NaN   \n",
       "...                           ...                          ...   \n",
       "161                           NaN                          NaN   \n",
       "162                           NaN                          NaN   \n",
       "163                           NaN                          NaN   \n",
       "164                           NaN                          NaN   \n",
       "mean                     14375.06                     10391.28   \n",
       "\n",
       "      ('sum', 'monto_promesa', 5)  ('sum', 'monto_promesa', 6)  \\\n",
       "0                             NaN                          NaN   \n",
       "1                             NaN                          NaN   \n",
       "2                       182027.00                    325670.00   \n",
       "3                             NaN                          NaN   \n",
       "4                             NaN                          NaN   \n",
       "...                           ...                          ...   \n",
       "161                           NaN                          NaN   \n",
       "162                           NaN                          NaN   \n",
       "163                      35980.00                          NaN   \n",
       "164                           NaN                          NaN   \n",
       "mean                     16333.17                     21777.41   \n",
       "\n",
       "      ('sum', 'monto_promesa', 7)  ('sum', 'monto_promesa', 8)  \\\n",
       "0                             NaN                      2156.00   \n",
       "1                             NaN                          NaN   \n",
       "2                       323915.00                          NaN   \n",
       "3                         4100.00                     58752.00   \n",
       "4                             NaN                          NaN   \n",
       "...                           ...                          ...   \n",
       "161                           NaN                      9111.00   \n",
       "162                           NaN                          NaN   \n",
       "163                           NaN                          NaN   \n",
       "164                           NaN                      4810.00   \n",
       "mean                     18544.03                     19678.18   \n",
       "\n",
       "      ('sum', 'monto_promesa', 9)  ('sum', 'monto_promesa', 10)       Mean  \n",
       "0                             NaN                           NaN     215.60  \n",
       "1                             NaN                           NaN   79524.70  \n",
       "2                             NaN                     159559.00  324764.38  \n",
       "3                             NaN                           NaN    6285.20  \n",
       "4                             NaN                           NaN    4815.70  \n",
       "...                           ...                           ...        ...  \n",
       "161                     150773.00                       6734.00   16661.80  \n",
       "162                      84563.00                     269456.00   35401.90  \n",
       "163                           NaN                           NaN    3598.00  \n",
       "164                     122508.00                     278588.00   40590.60  \n",
       "mean                     26417.98                      30204.33   23752.40  \n",
       "\n",
       "[166 rows x 12 columns]"
      ],
      "text/html": "<div>\n<style scoped>\n    .dataframe tbody tr th:only-of-type {\n        vertical-align: middle;\n    }\n\n    .dataframe tbody tr th {\n        vertical-align: top;\n    }\n\n    .dataframe thead th {\n        text-align: right;\n    }\n</style>\n<table border=\"1\" class=\"dataframe\">\n  <thead>\n    <tr style=\"text-align: right;\">\n      <th></th>\n      <th>usuario</th>\n      <th>('sum', 'monto_promesa', 1)</th>\n      <th>('sum', 'monto_promesa', 2)</th>\n      <th>('sum', 'monto_promesa', 3)</th>\n      <th>('sum', 'monto_promesa', 4)</th>\n      <th>('sum', 'monto_promesa', 5)</th>\n      <th>('sum', 'monto_promesa', 6)</th>\n      <th>('sum', 'monto_promesa', 7)</th>\n      <th>('sum', 'monto_promesa', 8)</th>\n      <th>('sum', 'monto_promesa', 9)</th>\n      <th>('sum', 'monto_promesa', 10)</th>\n      <th>Mean</th>\n    </tr>\n  </thead>\n  <tbody>\n    <tr>\n      <th>0</th>\n      <td>NaN</td>\n      <td>NaN</td>\n      <td>NaN</td>\n      <td>NaN</td>\n      <td>NaN</td>\n      <td>NaN</td>\n      <td>NaN</td>\n      <td>NaN</td>\n      <td>2156.00</td>\n      <td>NaN</td>\n      <td>NaN</td>\n      <td>215.60</td>\n    </tr>\n    <tr>\n      <th>1</th>\n      <td>NaN</td>\n      <td>NaN</td>\n      <td>56306.00</td>\n      <td>370314.00</td>\n      <td>368627.00</td>\n      <td>NaN</td>\n      <td>NaN</td>\n      <td>NaN</td>\n      <td>NaN</td>\n      <td>NaN</td>\n      <td>NaN</td>\n      <td>79524.70</td>\n    </tr>\n    <tr>\n      <th>2</th>\n      <td>NaN</td>\n      <td>416428.00</td>\n      <td>350149.00</td>\n      <td>478852.00</td>\n      <td>361515.00</td>\n      <td>182027.00</td>\n      <td>325670.00</td>\n      <td>323915.00</td>\n      <td>NaN</td>\n      <td>NaN</td>\n      <td>159559.00</td>\n      <td>324764.38</td>\n    </tr>\n    <tr>\n      <th>3</th>\n      <td>NaN</td>\n      <td>NaN</td>\n      <td>NaN</td>\n      <td>NaN</td>\n      <td>NaN</td>\n      <td>NaN</td>\n      <td>NaN</td>\n      <td>4100.00</td>\n      <td>58752.00</td>\n      <td>NaN</td>\n      <td>NaN</td>\n      <td>6285.20</td>\n    </tr>\n    <tr>\n      <th>4</th>\n      <td>NaN</td>\n      <td>42208.00</td>\n      <td>5949.00</td>\n      <td>NaN</td>\n      <td>NaN</td>\n      <td>NaN</td>\n      <td>NaN</td>\n      <td>NaN</td>\n      <td>NaN</td>\n      <td>NaN</td>\n      <td>NaN</td>\n      <td>4815.70</td>\n    </tr>\n    <tr>\n      <th>...</th>\n      <td>...</td>\n      <td>...</td>\n      <td>...</td>\n      <td>...</td>\n      <td>...</td>\n      <td>...</td>\n      <td>...</td>\n      <td>...</td>\n      <td>...</td>\n      <td>...</td>\n      <td>...</td>\n      <td>...</td>\n    </tr>\n    <tr>\n      <th>161</th>\n      <td>NaN</td>\n      <td>NaN</td>\n      <td>NaN</td>\n      <td>NaN</td>\n      <td>NaN</td>\n      <td>NaN</td>\n      <td>NaN</td>\n      <td>NaN</td>\n      <td>9111.00</td>\n      <td>150773.00</td>\n      <td>6734.00</td>\n      <td>16661.80</td>\n    </tr>\n    <tr>\n      <th>162</th>\n      <td>NaN</td>\n      <td>NaN</td>\n      <td>NaN</td>\n      <td>NaN</td>\n      <td>NaN</td>\n      <td>NaN</td>\n      <td>NaN</td>\n      <td>NaN</td>\n      <td>NaN</td>\n      <td>84563.00</td>\n      <td>269456.00</td>\n      <td>35401.90</td>\n    </tr>\n    <tr>\n      <th>163</th>\n      <td>NaN</td>\n      <td>NaN</td>\n      <td>NaN</td>\n      <td>NaN</td>\n      <td>NaN</td>\n      <td>35980.00</td>\n      <td>NaN</td>\n      <td>NaN</td>\n      <td>NaN</td>\n      <td>NaN</td>\n      <td>NaN</td>\n      <td>3598.00</td>\n    </tr>\n    <tr>\n      <th>164</th>\n      <td>NaN</td>\n      <td>NaN</td>\n      <td>NaN</td>\n      <td>NaN</td>\n      <td>NaN</td>\n      <td>NaN</td>\n      <td>NaN</td>\n      <td>NaN</td>\n      <td>4810.00</td>\n      <td>122508.00</td>\n      <td>278588.00</td>\n      <td>40590.60</td>\n    </tr>\n    <tr>\n      <th>mean</th>\n      <td>NaN</td>\n      <td>22744.26</td>\n      <td>20969.48</td>\n      <td>14375.06</td>\n      <td>10391.28</td>\n      <td>16333.17</td>\n      <td>21777.41</td>\n      <td>18544.03</td>\n      <td>19678.18</td>\n      <td>26417.98</td>\n      <td>30204.33</td>\n      <td>23752.40</td>\n    </tr>\n  </tbody>\n</table>\n<p>166 rows × 12 columns</p>\n</div>"
     },
     "metadata": {},
     "execution_count": 45
    }
   ],
   "source": [
    "promesas_gestor_rec = promesas_gestor_rec[np.abs(promesas_gestor_rec - \n",
    "promesas_gestor_rec.mean()) <= (3 * promesas_gestor_rec.std())]\n",
    "promesas_gestor_rec['Mean'] = promesas_gestor_rec.mean(numeric_only=True, axis=1).round(2)\n",
    "promesas_gestor_rec.loc['mean'] = promesas_gestor_rec.mean().round(2)\n",
    "promesas_gestor_rec = promesas_gestor_rec.replace({'0':np.nan, 0:np.nan})\n",
    "promesas_gestor_rec"
   ]
  },
  {
   "cell_type": "code",
   "execution_count": 47,
   "metadata": {},
   "outputs": [],
   "source": [
    "writer = pd.ExcelWriter(''+ruta_guardar+'/Gestores/Banco Azteca/Puntos Banco Azteca '+now+'.xlsx',engine='xlsxwriter')\n",
    "promesas_gestor_rec.to_excel(writer,'BSC',index=False,header=True)\n",
    "control_performance_baz_turno.to_excel(writer,'PerformanceDetallado',index=False,header=True)\n",
    "control_performance_baz_turno3.to_excel(writer,'PerformanceTurno',index=False,header=True)\n",
    "\n",
    "writer.save()"
   ]
  },
  {
   "cell_type": "code",
   "execution_count": null,
   "metadata": {},
   "outputs": [],
   "source": []
  }
 ]
}