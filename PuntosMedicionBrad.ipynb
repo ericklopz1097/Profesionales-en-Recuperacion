{
 "metadata": {
  "language_info": {
   "codemirror_mode": {
    "name": "ipython",
    "version": 3
   },
   "file_extension": ".py",
   "mimetype": "text/x-python",
   "name": "python",
   "nbconvert_exporter": "python",
   "pygments_lexer": "ipython3",
   "version": "3.8.5-final"
  },
  "orig_nbformat": 2,
  "kernelspec": {
   "name": "python3",
   "display_name": "Python 3",
   "language": "python"
  }
 },
 "nbformat": 4,
 "nbformat_minor": 2,
 "cells": [
  {
   "cell_type": "code",
   "execution_count": 9,
   "metadata": {},
   "outputs": [],
   "source": [
    "import pandas as pd\n",
    "import numpy as np\n",
    "import mysql.connector\n",
    "import os\n",
    "from mysql.connector import Error\n",
    "from datetime import datetime, date, timedelta\n",
    "import re\n",
    "from IPython.core.interactiveshell import InteractiveShell\n",
    "InteractiveShell.ast_node_interactivity = \"all\""
   ]
  },
  {
   "cell_type": "code",
   "execution_count": 10,
   "metadata": {},
   "outputs": [],
   "source": [
    "#Definimos la ruta en donde queremos guardar los archivos\n",
    "ruta_guardar = '/home/estadistico/Documents/Erick/Reportes diarios'\n",
    "ruta_asig_baz = '/home/estadistico/Documents/Erick/Banco Azteca/Asignacion csv'\n",
    "ruta_pagos = '/home/estadistico/Documents/Erick'\n",
    "mes = 20201201\n",
    "mes2 = 'Diciembre2020'\n",
    "mes3 = pd.to_datetime('01/12/2020',dayfirst=True)\n",
    "prim_sem_mes = 49"
   ]
  },
  {
   "cell_type": "code",
   "execution_count": 11,
   "metadata": {},
   "outputs": [],
   "source": [
    "#Agregamos las variables a ocupar\n",
    "servidor = '192.168.15.12'\n",
    "puerto = int('3306')\n",
    "usuario = 'estadisticas'\n",
    "contrasena = 'estadisticas8474'\n",
    "base = 'procesos_externos'"
   ]
  },
  {
   "cell_type": "code",
   "execution_count": 12,
   "metadata": {},
   "outputs": [],
   "source": [
    "#Lectura pagos Bradesco c0\n",
    "pagos_brad_c0 = pd.read_excel(''+ruta_pagos+'/Bradesco/Facturacion_c0/Facturacion c0.xlsx',converters={'TARJETA':str})\n",
    "pagos_brad_c0 = pagos_brad_c0.drop_duplicates()\n",
    "#pagos_brad2 = pd.pivot_table(pagos_brad,index=['NUMERO_TARJETA','FECHA_PAGO','TIPO_ASIGANCION'],values=['MONTO'],aggfunc=np.sum)\n",
    "#pagos_brad2 = pd.DataFrame(pagos_brad2.to_records())\n",
    "#pagos_brad2 = pagos_brad2.loc[pagos_brad2['FECHA_PAGO']>=mes3]"
   ]
  },
  {
   "cell_type": "code",
   "execution_count": 13,
   "metadata": {},
   "outputs": [],
   "source": [
    "#Lectura pagos Bradesco extrajudicial\n",
    "pagos_brad_extra = pd.read_excel(''+ruta_pagos+'/Bradesco/Facturacion_extra/Facturacion extra.xlsx',converters={'TARJETA':str})\n",
    "pagos_brad_extra = pagos_brad_extra.drop_duplicates()\n",
    "#pagos_brad2 = pd.pivot_table(pagos_brad,index=['NUMERO_TARJETA','FECHA_PAGO','TIPO_ASIGANCION'],values=['MONTO'],aggfunc=np.sum)\n",
    "#pagos_brad2 = pd.DataFrame(pagos_brad2.to_records())\n",
    "#pagos_brad2 = pagos_brad2.loc[pagos_brad2['FECHA_PAGO']>=mes3]"
   ]
  },
  {
   "cell_type": "code",
   "execution_count": 14,
   "metadata": {},
   "outputs": [],
   "source": [
    "#Lectura pagos Liverpool\n",
    "pagos_liv = pd.read_excel(''+ruta_pagos+'/Liverpool/Pagos/Facturacion Liverpool.xlsx',converters={'Cuenta':str})"
   ]
  },
  {
   "cell_type": "code",
   "execution_count": 15,
   "metadata": {},
   "outputs": [],
   "source": [
    "#Asignamos valores a los parametros \\n\"\n",
    "today = date.today().strftime('%Y%m%d')\n",
    "now = datetime.now().strftime('%d-%m-%Y %H:%M')\n",
    "hoy = np.datetime64('today')\n",
    "ayer = np.datetime64(date.today() - timedelta(1))\n",
    "today2 = date.today().strftime('%d-%m-%Y')"
   ]
  },
  {
   "cell_type": "code",
   "execution_count": 16,
   "metadata": {},
   "outputs": [],
   "source": [
    "#Hacemos la conexion con el servidor\\n\",\n",
    "try: \n",
    "    conn = mysql.connector.connect(user=usuario,\n",
    "                               password=contrasena,\n",
    "                               host=servidor,\n",
    "                               port=3306,\n",
    "                               database=base)\n",
    "    conn.set_charset_collation('latin1')\n",
    "except mysql.Error as e:\n",
    "    print(\"Failed to execute stored procedure: {}\".format(error))\n",
    "\n",
    "cursor = conn.cursor()"
   ]
  },
  {
   "cell_type": "code",
   "execution_count": 17,
   "metadata": {},
   "outputs": [],
   "source": [
    "#Funcion para hacer la consulta sql, ya sea de gestion o de asignacion en donde requerimos tres parametros, la tabla de donde vamos a sacar la consulta, en caso de asignacin requerimos los otros dos parametros fecha inicial y fecha final\n",
    "def consulta_sql(table,from_date=None,to_date=None,campana=None):\n",
    "    if campana is None:\n",
    "        if from_date is None:\n",
    "            sql_mes = cursor.callproc(table,)\n",
    "            for result in cursor.stored_results():\n",
    "                sql_mes = pd.DataFrame(result.fetchall())\n",
    "        else:\n",
    "            sql_mes = cursor.callproc(table, [from_date,to_date])\n",
    "            for result in cursor.stored_results():\n",
    "                sql_mes = pd.DataFrame(result.fetchall())\n",
    "    else:\n",
    "        sql_mes = cursor.callproc(table, [from_date,to_date,campana])\n",
    "        for result in cursor.stored_results():\n",
    "                sql_mes = pd.DataFrame(result.fetchall())\n",
    "    sql_mes = sql_mes.drop_duplicates()\n",
    "    return sql_mes"
   ]
  },
  {
   "cell_type": "code",
   "execution_count": 18,
   "metadata": {},
   "outputs": [],
   "source": [
    "#Funcion para transformar varias columnas a numero\n",
    "def transform_numeric(df,cols):\n",
    "    return df[cols].apply(pd.to_numeric, errors='coerce')\n",
    "\n",
    "#Funcion que convierte a dataframe y rellena espacios con 0\n",
    "def to_dataframe(df):\n",
    "    df = pd.DataFrame(df.to_records())\n",
    "    df.fillna(0,inplace=True)\n",
    "    return df\n",
    "\n",
    "#Funcion que quita el % del string\n",
    "def percent_tonumeric(df,cols):\n",
    "    for c in cols:\n",
    "        df[c] = [x[:-2] for x in df[c]]\n",
    "    return transform_numeric(df,cols)"
   ]
  },
  {
   "source": [
    "# Bradesco"
   ],
   "cell_type": "markdown",
   "metadata": {}
  },
  {
   "cell_type": "code",
   "execution_count": 19,
   "metadata": {},
   "outputs": [],
   "source": [
    "#Inicio y fin de meses que nos interesa conocer\n",
    "inicio_mes = [20200101,20200201,20200301,20200401,20200501,20200601,20200701,20200801,20200901,20201001,20201101]\n",
    "fin_mes = [20200131,20200228,20200331,20200430,20200531,20200630,20200731,20200831,20200930,20201031,20201130]"
   ]
  },
  {
   "cell_type": "code",
   "execution_count": 20,
   "metadata": {},
   "outputs": [
    {
     "output_type": "stream",
     "name": "stdout",
     "text": [
      "20200101\n",
      "20200201\n",
      "20200301\n",
      "20200401\n",
      "20200501\n",
      "20200601\n",
      "20200701\n",
      "20200801\n",
      "20200901\n",
      "20201001\n",
      "20201101\n"
     ]
    }
   ],
   "source": [
    "#Lectura de cada uno de los meses\n",
    "gestion_brad = pd.DataFrame()\n",
    "for i,j in zip(inicio_mes,fin_mes):\n",
    "    gestion_brad_mes = consulta_sql('bradescard_rpt_gestiones_detallado',i,j)\n",
    "    gestion_brad = pd.concat([gestion_brad,gestion_brad_mes],ignore_index=True)\n",
    "    print(i)"
   ]
  },
  {
   "cell_type": "code",
   "execution_count": 21,
   "metadata": {},
   "outputs": [],
   "source": [
    "#Asignacion de nombre de columnas\n",
    "gestion_brad.columns = ['folio_gestion','firma_id','unegocio_id','credito','nombre_credito','telefono','tipo_telefono','fecha_gestion','usuario','nombre_usuario','dictamen','accion','resultado','accion_resultado','fecha_promesa','monto_promesa','comentarios']\n",
    "promesas_brad = gestion_brad.loc[gestion_brad['dictamen']=='PROMESA']"
   ]
  },
  {
   "cell_type": "code",
   "execution_count": 22,
   "metadata": {},
   "outputs": [
    {
     "output_type": "stream",
     "name": "stdout",
     "text": [
      "20200101\n",
      "20200201\n",
      "20200301\n",
      "20200401\n",
      "20200501\n",
      "20200601\n",
      "20200701\n",
      "20200801\n",
      "20200901\n",
      "20201001\n",
      "20201101\n"
     ]
    }
   ],
   "source": [
    "#Lectura de cada uno de los meses\n",
    "gestion_liv = pd.DataFrame()\n",
    "for i,j in zip(inicio_mes,fin_mes):\n",
    "    gestion_liv_mes = consulta_sql('liverpool_rpt_gestiones_detallado',i,j)\n",
    "    gestion_liv = pd.concat([gestion_liv,gestion_liv_mes],ignore_index=True)\n",
    "    print(i)"
   ]
  },
  {
   "cell_type": "code",
   "execution_count": 23,
   "metadata": {},
   "outputs": [],
   "source": [
    "gestion_liv.columns = ['folio_gestion','firma_id','unegocio_id','credito','nombre_credito','telefono','tipo_telefono','fecha_gestion','usuario','nombre_usuario','dictamen','accion','resultado','fecha_promesa','monto_promesa','comentarios']\n",
    "promesas_liv = gestion_liv.loc[gestion_liv['dictamen']=='PROMESA']"
   ]
  },
  {
   "cell_type": "code",
   "execution_count": 24,
   "metadata": {},
   "outputs": [
    {
     "output_type": "execute_result",
     "data": {
      "text/plain": [
       "   folio_gestion  firma_id  unegocio_id           credito  \\\n",
       "0        6604600         1            4  5063290226839017   \n",
       "\n",
       "               nombre_credito    telefono tipo_telefono       fecha_gestion  \\\n",
       "0  ORONA PONCE  ANGEL ALFREDO  6674234755       celular 2020-01-31 20:43:22   \n",
       "\n",
       "        usuario                    nombre_usuario dictamen             accion  \\\n",
       "0  YHERNANDEZBA  ALEJANDRA YESENIA HERNANDEZ BITE  PROMESA  LLAMADA A TITULAR   \n",
       "\n",
       "                     resultado                               accion_resultado  \\\n",
       "0  PROMESA DE PAGO LIQUIDACION  LLAMADA A TITULAR-PROMESA DE PAGO LIQUIDACION   \n",
       "\n",
       "  fecha_promesa  monto_promesa  \\\n",
       "0    2020-01-31         2250.0   \n",
       "\n",
       "                                         comentarios  anio  mes  \\\n",
       "0  6674234755  se agenda pago por:2250 al dia 318...  2020    1   \n",
       "\n",
       "             credito_unico  \n",
       "0  5063290226839017-1-2020  "
      ],
      "text/html": "<div>\n<style scoped>\n    .dataframe tbody tr th:only-of-type {\n        vertical-align: middle;\n    }\n\n    .dataframe tbody tr th {\n        vertical-align: top;\n    }\n\n    .dataframe thead th {\n        text-align: right;\n    }\n</style>\n<table border=\"1\" class=\"dataframe\">\n  <thead>\n    <tr style=\"text-align: right;\">\n      <th></th>\n      <th>folio_gestion</th>\n      <th>firma_id</th>\n      <th>unegocio_id</th>\n      <th>credito</th>\n      <th>nombre_credito</th>\n      <th>telefono</th>\n      <th>tipo_telefono</th>\n      <th>fecha_gestion</th>\n      <th>usuario</th>\n      <th>nombre_usuario</th>\n      <th>dictamen</th>\n      <th>accion</th>\n      <th>resultado</th>\n      <th>accion_resultado</th>\n      <th>fecha_promesa</th>\n      <th>monto_promesa</th>\n      <th>comentarios</th>\n      <th>anio</th>\n      <th>mes</th>\n      <th>credito_unico</th>\n    </tr>\n  </thead>\n  <tbody>\n    <tr>\n      <th>0</th>\n      <td>6604600</td>\n      <td>1</td>\n      <td>4</td>\n      <td>5063290226839017</td>\n      <td>ORONA PONCE  ANGEL ALFREDO</td>\n      <td>6674234755</td>\n      <td>celular</td>\n      <td>2020-01-31 20:43:22</td>\n      <td>YHERNANDEZBA</td>\n      <td>ALEJANDRA YESENIA HERNANDEZ BITE</td>\n      <td>PROMESA</td>\n      <td>LLAMADA A TITULAR</td>\n      <td>PROMESA DE PAGO LIQUIDACION</td>\n      <td>LLAMADA A TITULAR-PROMESA DE PAGO LIQUIDACION</td>\n      <td>2020-01-31</td>\n      <td>2250.0</td>\n      <td>6674234755  se agenda pago por:2250 al dia 318...</td>\n      <td>2020</td>\n      <td>1</td>\n      <td>5063290226839017-1-2020</td>\n    </tr>\n  </tbody>\n</table>\n</div>"
     },
     "metadata": {},
     "execution_count": 24
    }
   ],
   "source": [
    "#Ajustamos parametros para la gestion\n",
    "promesas_brad_liv = pd.concat([promesas_brad,promesas_liv],ignore_index=True)\n",
    "promesas_brad_liv['monto_promesa'] = pd.to_numeric(promesas_brad_liv['monto_promesa'])\n",
    "promesas_brad_liv = promesas_brad_liv.drop_duplicates(subset=['credito','usuario','fecha_promesa','monto_promesa'])\n",
    "promesas_brad_liv['anio'] = [x[:4] for x in promesas_brad_liv['fecha_promesa']]\n",
    "promesas_brad_liv = promesas_brad_liv.loc[(promesas_brad_liv['anio']=='2020')]\n",
    "promesas_brad_liv['fecha_promesa'] = pd.to_datetime(promesas_brad_liv['fecha_promesa'],dayfirst=False)\n",
    "promesas_brad_liv['mes'] = pd.DatetimeIndex(promesas_brad_liv['fecha_promesa']).month\n",
    "promesas_brad_liv['credito_unico'] = promesas_brad_liv['credito'].map(str)+'-'+promesas_brad_liv['mes'].map(str)+'-'+promesas_brad_liv['anio'].map(str)\n",
    "promesas_brad_liv.head(1)"
   ]
  },
  {
   "cell_type": "code",
   "execution_count": 25,
   "metadata": {},
   "outputs": [
    {
     "output_type": "execute_result",
     "data": {
      "text/plain": [
       "  PRODUCTO              TARJETA    PAGO      FECHA  PORCENTAJE  COMISION  \\\n",
       "0     PLCC  0002869002607825000  1542.0 2020-07-30         0.1     154.2   \n",
       "\n",
       "  BUCKET  DESPACHO        MES  YEAR  MONTH               credito_unico  \n",
       "0      5  ENRIQUEZ 2020-07-01  2020      7  0002869002607825000-7-2020  "
      ],
      "text/html": "<div>\n<style scoped>\n    .dataframe tbody tr th:only-of-type {\n        vertical-align: middle;\n    }\n\n    .dataframe tbody tr th {\n        vertical-align: top;\n    }\n\n    .dataframe thead th {\n        text-align: right;\n    }\n</style>\n<table border=\"1\" class=\"dataframe\">\n  <thead>\n    <tr style=\"text-align: right;\">\n      <th></th>\n      <th>PRODUCTO</th>\n      <th>TARJETA</th>\n      <th>PAGO</th>\n      <th>FECHA</th>\n      <th>PORCENTAJE</th>\n      <th>COMISION</th>\n      <th>BUCKET</th>\n      <th>DESPACHO</th>\n      <th>MES</th>\n      <th>YEAR</th>\n      <th>MONTH</th>\n      <th>credito_unico</th>\n    </tr>\n  </thead>\n  <tbody>\n    <tr>\n      <th>0</th>\n      <td>PLCC</td>\n      <td>0002869002607825000</td>\n      <td>1542.0</td>\n      <td>2020-07-30</td>\n      <td>0.1</td>\n      <td>154.2</td>\n      <td>5</td>\n      <td>ENRIQUEZ</td>\n      <td>2020-07-01</td>\n      <td>2020</td>\n      <td>7</td>\n      <td>0002869002607825000-7-2020</td>\n    </tr>\n  </tbody>\n</table>\n</div>"
     },
     "metadata": {},
     "execution_count": 25
    }
   ],
   "source": [
    "#Concatenamos los pagos de brad\n",
    "pagos_brad = pd.concat([pagos_brad_c0,pagos_brad_extra],ignore_index=True)\n",
    "pagos_brad = pagos_brad.loc[pagos_brad['FECHA'].map(str)!='00:00:00']\n",
    "pagos_brad['FECHA'] = pd.to_datetime(pagos_brad['FECHA'],dayfirst=False)\n",
    "pagos_brad['YEAR'] = pagos_brad['FECHA'].dt.year\n",
    "pagos_brad['MONTH'] = pagos_brad['FECHA'].dt.month\n",
    "pagos_brad['credito_unico'] = pagos_brad['TARJETA'].map(str)+'-'+pagos_brad['MONTH'].map(str)+'-'+pagos_brad['YEAR'].map(str)\n",
    "pagos_brad.head(1)"
   ]
  },
  {
   "cell_type": "code",
   "execution_count": 26,
   "metadata": {},
   "outputs": [
    {
     "output_type": "execute_result",
     "data": {
      "text/plain": [
       "                Cuenta   monto Fecha pago                credito_unico\n",
       "0  0002869002605707000  1000.0 2020-10-16  0002869002605707000-10-2020"
      ],
      "text/html": "<div>\n<style scoped>\n    .dataframe tbody tr th:only-of-type {\n        vertical-align: middle;\n    }\n\n    .dataframe tbody tr th {\n        vertical-align: top;\n    }\n\n    .dataframe thead th {\n        text-align: right;\n    }\n</style>\n<table border=\"1\" class=\"dataframe\">\n  <thead>\n    <tr style=\"text-align: right;\">\n      <th></th>\n      <th>Cuenta</th>\n      <th>monto</th>\n      <th>Fecha pago</th>\n      <th>credito_unico</th>\n    </tr>\n  </thead>\n  <tbody>\n    <tr>\n      <th>0</th>\n      <td>0002869002605707000</td>\n      <td>1000.0</td>\n      <td>2020-10-16</td>\n      <td>0002869002605707000-10-2020</td>\n    </tr>\n  </tbody>\n</table>\n</div>"
     },
     "metadata": {},
     "execution_count": 26
    }
   ],
   "source": [
    "pagos_brad2 = pd.pivot_table(pagos_brad,index=['TARJETA','FECHA','BUCKET','credito_unico','MES'],values=['PAGO','COMISION'],aggfunc=np.sum)\n",
    "pagos_brad2 = pd.DataFrame(pagos_brad2.to_records())\n",
    "pagos_brad2 = pagos_brad2.iloc[:,[0,6,1,3]]\n",
    "pagos_brad2.columns = ['Cuenta','monto','Fecha pago','credito_unico']\n",
    "pagos_brad2.head(1)"
   ]
  },
  {
   "cell_type": "code",
   "execution_count": 27,
   "metadata": {},
   "outputs": [
    {
     "output_type": "execute_result",
     "data": {
      "text/plain": [
       "                Cuenta  monto Fecha pago               credito_unico\n",
       "0  0000010000003513825  500.0 2020-07-24  0000010000003513825-7-2020"
      ],
      "text/html": "<div>\n<style scoped>\n    .dataframe tbody tr th:only-of-type {\n        vertical-align: middle;\n    }\n\n    .dataframe tbody tr th {\n        vertical-align: top;\n    }\n\n    .dataframe thead th {\n        text-align: right;\n    }\n</style>\n<table border=\"1\" class=\"dataframe\">\n  <thead>\n    <tr style=\"text-align: right;\">\n      <th></th>\n      <th>Cuenta</th>\n      <th>monto</th>\n      <th>Fecha pago</th>\n      <th>credito_unico</th>\n    </tr>\n  </thead>\n  <tbody>\n    <tr>\n      <th>0</th>\n      <td>0000010000003513825</td>\n      <td>500.0</td>\n      <td>2020-07-24</td>\n      <td>0000010000003513825-7-2020</td>\n    </tr>\n  </tbody>\n</table>\n</div>"
     },
     "metadata": {},
     "execution_count": 27
    }
   ],
   "source": [
    "pagos_liv2 = pd.pivot_table(pagos_liv,index=['Cuenta','Fecha pago'],values=['monto'],aggfunc=np.sum)\n",
    "pagos_liv2 = pd.DataFrame(pagos_liv2.to_records())\n",
    "pagos_liv2['Fecha pago'] = pd.to_datetime(pagos_liv2['Fecha pago'],dayfirst=True)\n",
    "pagos_liv2['YEAR'] = pagos_liv2['Fecha pago'].dt.year\n",
    "pagos_liv2['MONTH'] = pagos_liv2['Fecha pago'].dt.month\n",
    "pagos_liv2['credito_unico'] = pagos_liv2['Cuenta'].map(str)+'-'+pagos_liv2['MONTH'].map(str)+'-'+pagos_liv2['YEAR'].map(str)\n",
    "pagos_liv2 = pagos_liv2.iloc[:,[0,2,1,5]]\n",
    "pagos_liv2.colunms = ['Cuenta','monto','Fecha pago','credito_unico']\n",
    "pagos_liv2.head(1)"
   ]
  },
  {
   "cell_type": "code",
   "execution_count": 28,
   "metadata": {},
   "outputs": [
    {
     "output_type": "execute_result",
     "data": {
      "text/plain": [
       "   folio_gestion  firma_id  unegocio_id           credito  \\\n",
       "0        6604600         1            4  5063290226839017   \n",
       "\n",
       "               nombre_credito    telefono tipo_telefono       fecha_gestion  \\\n",
       "0  ORONA PONCE  ANGEL ALFREDO  6674234755       celular 2020-01-31 20:43:22   \n",
       "\n",
       "        usuario                    nombre_usuario  ...  \\\n",
       "0  YHERNANDEZBA  ALEJANDRA YESENIA HERNANDEZ BITE  ...   \n",
       "\n",
       "                                accion_resultado fecha_promesa monto_promesa  \\\n",
       "0  LLAMADA A TITULAR-PROMESA DE PAGO LIQUIDACION    2020-01-31        2250.0   \n",
       "\n",
       "                                         comentarios  anio  mes  \\\n",
       "0  6674234755  se agenda pago por:2250 al dia 318...  2020    1   \n",
       "\n",
       "             credito_unico            Cuenta   monto Fecha pago  \n",
       "0  5063290226839017-1-2020  5063290226839017  2250.0 2020-01-31  \n",
       "\n",
       "[1 rows x 23 columns]"
      ],
      "text/html": "<div>\n<style scoped>\n    .dataframe tbody tr th:only-of-type {\n        vertical-align: middle;\n    }\n\n    .dataframe tbody tr th {\n        vertical-align: top;\n    }\n\n    .dataframe thead th {\n        text-align: right;\n    }\n</style>\n<table border=\"1\" class=\"dataframe\">\n  <thead>\n    <tr style=\"text-align: right;\">\n      <th></th>\n      <th>folio_gestion</th>\n      <th>firma_id</th>\n      <th>unegocio_id</th>\n      <th>credito</th>\n      <th>nombre_credito</th>\n      <th>telefono</th>\n      <th>tipo_telefono</th>\n      <th>fecha_gestion</th>\n      <th>usuario</th>\n      <th>nombre_usuario</th>\n      <th>...</th>\n      <th>accion_resultado</th>\n      <th>fecha_promesa</th>\n      <th>monto_promesa</th>\n      <th>comentarios</th>\n      <th>anio</th>\n      <th>mes</th>\n      <th>credito_unico</th>\n      <th>Cuenta</th>\n      <th>monto</th>\n      <th>Fecha pago</th>\n    </tr>\n  </thead>\n  <tbody>\n    <tr>\n      <th>0</th>\n      <td>6604600</td>\n      <td>1</td>\n      <td>4</td>\n      <td>5063290226839017</td>\n      <td>ORONA PONCE  ANGEL ALFREDO</td>\n      <td>6674234755</td>\n      <td>celular</td>\n      <td>2020-01-31 20:43:22</td>\n      <td>YHERNANDEZBA</td>\n      <td>ALEJANDRA YESENIA HERNANDEZ BITE</td>\n      <td>...</td>\n      <td>LLAMADA A TITULAR-PROMESA DE PAGO LIQUIDACION</td>\n      <td>2020-01-31</td>\n      <td>2250.0</td>\n      <td>6674234755  se agenda pago por:2250 al dia 318...</td>\n      <td>2020</td>\n      <td>1</td>\n      <td>5063290226839017-1-2020</td>\n      <td>5063290226839017</td>\n      <td>2250.0</td>\n      <td>2020-01-31</td>\n    </tr>\n  </tbody>\n</table>\n<p>1 rows × 23 columns</p>\n</div>"
     },
     "metadata": {},
     "execution_count": 28
    }
   ],
   "source": [
    "#Hacemos la union entre promesas y pagos\n",
    "pagos_brad_liv = pd.concat([pagos_brad2,pagos_liv2],ignore_index=True)\n",
    "promesas_pagos_brad = pd.merge(promesas_brad_liv,pagos_brad_liv,how='left',on='credito_unico')\n",
    "promesas_pagos_brad = promesas_pagos_brad.drop_duplicates(subset=['credito','fecha_promesa','Fecha pago','monto','usuario'])\n",
    "promesas_pagos_brad['usuario'] = [x.rstrip() for x in promesas_pagos_brad['usuario']]\n",
    "promesas_pagos_brad.head(1)"
   ]
  },
  {
   "cell_type": "code",
   "execution_count": 29,
   "metadata": {},
   "outputs": [],
   "source": [
    "gestor_mes = pd.pivot_table(promesas_pagos_brad,index=['usuario'],values=['monto_promesa'],columns=['mes'],aggfunc=np.sum)\n",
    "gestor_mes = pd.DataFrame(gestor_mes.to_records())\n",
    "gestor_mes = gestor_mes[gestor_mes.isnull().sum(axis=1) < 8]"
   ]
  },
  {
   "cell_type": "code",
   "execution_count": 52,
   "metadata": {},
   "outputs": [],
   "source": [
    "gestor_mes = gestor_mes[np.abs(gestor_mes - gestor_mes.mean()) <= (3 * gestor_mes.std())]\n",
    "#cols = ['']\n",
    "gestor_mes = gestor_mes.replace({'0':np.nan, 0:np.nan})"
   ]
  },
  {
   "cell_type": "code",
   "execution_count": 53,
   "metadata": {},
   "outputs": [],
   "source": [
    "def cap_data(df):\n",
    "    for col in df.columns:\n",
    "        if (((df[col].dtype)=='float64') | ((df[col].dtype)=='int64')):\n",
    "            percentiles = df[col].quantile([0.25,0.75]).values\n",
    "            df[col][df[col] <= percentiles[0]] = percentiles[0]\n",
    "            df[col][df[col] >= percentiles[1]] = percentiles[1]\n",
    "        else:\n",
    "            df[col]=df[col]\n",
    "    return df"
   ]
  },
  {
   "cell_type": "code",
   "execution_count": 54,
   "metadata": {},
   "outputs": [],
   "source": [
    "gestor_mes_final=cap_data(gestor_mes)"
   ]
  },
  {
   "cell_type": "code",
   "execution_count": 56,
   "metadata": {},
   "outputs": [
    {
     "output_type": "execute_result",
     "data": {
      "text/plain": [
       "      usuario  ('monto_promesa', 1)  ('monto_promesa', 2)  \\\n",
       "9         NaN           254214.7500             260698.00   \n",
       "17        NaN           256881.0000             153713.89   \n",
       "21        NaN                   NaN                   NaN   \n",
       "40        NaN           489486.5625             347023.00   \n",
       "42        NaN           302373.0000             232215.00   \n",
       "44        NaN                   NaN                   NaN   \n",
       "47        NaN           489486.5625             170177.51   \n",
       "51        NaN                   NaN                   NaN   \n",
       "52        NaN           383389.0000             371670.00   \n",
       "57        NaN                   NaN             381505.00   \n",
       "64        NaN                   NaN                   NaN   \n",
       "65        NaN           254214.7500             204723.00   \n",
       "66        NaN           254214.7500             264406.00   \n",
       "67        NaN           485320.0000             381505.00   \n",
       "81        NaN                   NaN                   NaN   \n",
       "85        NaN                   NaN             153713.89   \n",
       "87        NaN                   NaN                   NaN   \n",
       "93        NaN           489486.5625             381505.00   \n",
       "98        NaN                   NaN                   NaN   \n",
       "102       NaN                   NaN                   NaN   \n",
       "103       NaN                   NaN                   NaN   \n",
       "106       NaN           259629.6600             153713.89   \n",
       "114       NaN           356185.0000             381505.00   \n",
       "115       NaN                   NaN                   NaN   \n",
       "117       NaN           489486.5625             324472.00   \n",
       "127       NaN           410664.0000             153713.89   \n",
       "130       NaN                   NaN                   NaN   \n",
       "131       NaN                   NaN             153713.89   \n",
       "145       NaN                   NaN                   NaN   \n",
       "146       NaN           254214.7500             381505.00   \n",
       "147       NaN                   NaN                   NaN   \n",
       "150       NaN                   NaN                   NaN   \n",
       "151       NaN                   NaN                   NaN   \n",
       "156       NaN                   NaN             153713.89   \n",
       "167       NaN           336790.0000             274982.00   \n",
       "174       NaN           477888.0000             381505.00   \n",
       "176       NaN           254214.7500             222952.00   \n",
       "177       NaN                   NaN                   NaN   \n",
       "180       NaN           254214.7500             153713.89   \n",
       "185       NaN                   NaN                   NaN   \n",
       "191       NaN                   NaN             153713.89   \n",
       "193       NaN           489486.5625             369450.00   \n",
       "194       NaN                   NaN                   NaN   \n",
       "196       NaN                   NaN                   NaN   \n",
       "197       NaN           410415.8600             364452.52   \n",
       "202       NaN           489486.5625             381505.00   \n",
       "203       NaN           439865.0000             381505.00   \n",
       "204       NaN           314169.0000             298724.00   \n",
       "mean      NaN           370657.3900             275437.80   \n",
       "\n",
       "      ('monto_promesa', 3)  ('monto_promesa', 4)  ('monto_promesa', 5)  \\\n",
       "9               137912.875           123049.8125             114182.25   \n",
       "17              137912.875           123049.8125             114182.25   \n",
       "21                     NaN                   NaN                   NaN   \n",
       "40              334883.750           352018.9375             270761.25   \n",
       "42              137912.875           239301.0000             114182.25   \n",
       "44                     NaN                   NaN                   NaN   \n",
       "47              301623.000           271917.0000                   NaN   \n",
       "51                     NaN           123049.8125             117775.00   \n",
       "52              334883.750           318995.0000             270761.25   \n",
       "57              162885.000           138760.0000             215728.00   \n",
       "64                     NaN           123049.8125                   NaN   \n",
       "65              138221.000           157124.0000             114541.00   \n",
       "66              207289.000                   NaN                   NaN   \n",
       "67              283298.000           264453.0000             159462.00   \n",
       "81                     NaN                   NaN                   NaN   \n",
       "85              137912.875           123049.8125             114182.25   \n",
       "87                     NaN                   NaN                   NaN   \n",
       "93              334883.750           215453.0000             268943.00   \n",
       "98                     NaN                   NaN                   NaN   \n",
       "102                    NaN                   NaN                   NaN   \n",
       "103                    NaN                   NaN                   NaN   \n",
       "106             209145.610           123049.8125             185902.00   \n",
       "114             334883.750           351628.0000             236301.00   \n",
       "115                    NaN                   NaN                   NaN   \n",
       "117             254567.000           233643.0000             270761.25   \n",
       "127                    NaN                   NaN             114182.25   \n",
       "130                    NaN                   NaN                   NaN   \n",
       "131                    NaN                   NaN                   NaN   \n",
       "145                    NaN                   NaN                   NaN   \n",
       "146             216648.000           288003.0000             270761.25   \n",
       "147                    NaN                   NaN                   NaN   \n",
       "150                    NaN                   NaN             114182.25   \n",
       "151                    NaN                   NaN                   NaN   \n",
       "156             260085.000           352018.9375             265012.00   \n",
       "167             200767.000           123053.0000                   NaN   \n",
       "174             334883.750           352018.9375             192405.00   \n",
       "176             137912.875           252430.0000             178558.00   \n",
       "177                    NaN                   NaN                   NaN   \n",
       "180             137912.875           123049.8125             114182.25   \n",
       "185                    NaN                   NaN                   NaN   \n",
       "191             185624.000           184210.0000             270761.25   \n",
       "193             334883.750           352018.9375             270761.25   \n",
       "194             252271.000           352018.9375             267641.00   \n",
       "196                    NaN                   NaN                   NaN   \n",
       "197             137912.875                   NaN                   NaN   \n",
       "202             334883.750           352018.9375             116963.00   \n",
       "203             334708.000           352018.9375             270761.25   \n",
       "204             253270.000           237592.0000             182749.00   \n",
       "mean            234642.070           235787.2600             192466.09   \n",
       "\n",
       "      ('monto_promesa', 6)  ('monto_promesa', 7)  ('monto_promesa', 8)  \\\n",
       "9               183297.000             186386.00            248946.000   \n",
       "17                     NaN                   NaN                   NaN   \n",
       "21              138945.275             144034.50            173362.750   \n",
       "40              382334.250             395721.75            173362.750   \n",
       "42                     NaN                   NaN                   NaN   \n",
       "44                     NaN             200047.00            322264.000   \n",
       "47              138945.275                   NaN            392065.000   \n",
       "51                     NaN             243103.41            392817.625   \n",
       "52              382334.250             395721.75            173362.750   \n",
       "57              169104.000                   NaN                   NaN   \n",
       "64              382334.250             147270.00                   NaN   \n",
       "65                     NaN                   NaN                   NaN   \n",
       "66                     NaN                   NaN            173362.750   \n",
       "67                     NaN                   NaN                   NaN   \n",
       "81                     NaN             144034.50            358782.500   \n",
       "85              171105.000             376875.50            257244.000   \n",
       "87              343399.000             386940.00            392817.625   \n",
       "93              372746.000             370160.00            261600.000   \n",
       "98              138945.275             276687.00            347790.000   \n",
       "102             138945.275             337002.00            213659.660   \n",
       "103             138945.275             345675.00            392817.625   \n",
       "106             138945.275                   NaN            173362.750   \n",
       "114             201093.000             324615.00            333415.000   \n",
       "115             251732.000             395721.75            282956.000   \n",
       "117             264256.000             395721.75            251273.000   \n",
       "127             268262.000             374866.00            305952.000   \n",
       "130             138945.275             226400.00            173362.750   \n",
       "131             227524.920             295091.00            173362.750   \n",
       "145             252815.660             395721.75            392817.625   \n",
       "146             323265.000             144034.50                   NaN   \n",
       "147             161928.060             144034.50            339158.500   \n",
       "150             382334.250             233943.00            174274.000   \n",
       "151                    NaN             144034.50            244235.000   \n",
       "156             207428.000                   NaN                   NaN   \n",
       "167                    NaN             144034.50                   NaN   \n",
       "174             138945.275             144034.50                   NaN   \n",
       "176             382334.250             373862.00            392817.625   \n",
       "177             181678.000             395721.75            392817.625   \n",
       "180             147309.700             264240.63            296320.540   \n",
       "185                    NaN             144034.50            392817.625   \n",
       "191             382334.250             325012.00            369587.000   \n",
       "193                    NaN                   NaN            173362.750   \n",
       "194             138945.275             144034.50            173362.750   \n",
       "196             377667.000             395721.75            383682.000   \n",
       "197                    NaN             395721.75            392817.625   \n",
       "202             382334.250             395721.75                   NaN   \n",
       "203             382334.250             395721.75            392817.625   \n",
       "204             382334.250             144034.50                   NaN   \n",
       "mean            251317.890             281203.63            291078.540   \n",
       "\n",
       "      ('monto_promesa', 9)  ('monto_promesa', 10)  ('monto_promesa', 11)  \\\n",
       "9               159722.000              138756.00                    NaN   \n",
       "17                     NaN                    NaN                    NaN   \n",
       "21              124911.625              138756.00            103777.2075   \n",
       "40                     NaN                    NaN                    NaN   \n",
       "42                     NaN                    NaN                    NaN   \n",
       "44              239206.000              203941.00            161664.5000   \n",
       "47              225493.000              264684.00            183301.3225   \n",
       "51              347877.000              222368.00            111066.0000   \n",
       "52                     NaN                    NaN                    NaN   \n",
       "57                     NaN                    NaN                    NaN   \n",
       "64                     NaN                    NaN            157694.0000   \n",
       "65                     NaN                    NaN                    NaN   \n",
       "66              127629.000                    NaN                    NaN   \n",
       "67                     NaN                    NaN                    NaN   \n",
       "81              124911.625              163767.50            129431.7800   \n",
       "85              174692.000              217707.00            103777.2075   \n",
       "87              347877.000              178296.00            106046.0000   \n",
       "93              347877.000              196572.31            103777.2075   \n",
       "98              127592.000              264684.00            183301.3225   \n",
       "102             206642.000              138756.00                    NaN   \n",
       "103             347877.000              264684.00            183301.3225   \n",
       "106                    NaN              138756.00            103777.2075   \n",
       "114             276036.000              230305.00            178246.0000   \n",
       "115             268962.000              201909.00            126029.0000   \n",
       "117             124911.625                    NaN                    NaN   \n",
       "127             340967.000              138756.00            183301.3225   \n",
       "130             124911.625              155510.62            103777.2075   \n",
       "131             136039.100              138756.00            103777.2075   \n",
       "145             347877.000              264684.00            180559.0000   \n",
       "146                    NaN                    NaN                    NaN   \n",
       "147             124911.625              160294.37            107745.2200   \n",
       "150             157841.000              177065.00            175731.3300   \n",
       "151             224618.000              169977.00            127739.0000   \n",
       "156             124911.625                    NaN                    NaN   \n",
       "167                    NaN                    NaN                    NaN   \n",
       "174                    NaN                    NaN                    NaN   \n",
       "176             347877.000              264684.00            183301.3225   \n",
       "177             124911.625              138756.00                    NaN   \n",
       "180             201316.880              264684.00            103777.2075   \n",
       "185             307065.000              138756.00            128534.0000   \n",
       "191             340835.000              243514.00            166748.0000   \n",
       "193             347877.000              264684.00            183301.3225   \n",
       "194             124911.625              138756.00            103777.2075   \n",
       "196             347877.000              244483.00            158448.0000   \n",
       "197             347877.000              264684.00            183301.3225   \n",
       "202                    NaN              264684.00            183301.3225   \n",
       "203             347766.000              153273.00            169756.0000   \n",
       "204             124911.625                    NaN                    NaN   \n",
       "mean            231929.130              198483.12            144582.7800   \n",
       "\n",
       "      ('monto_promesa', 12)       Mean  \n",
       "9                       NaN  180716.47  \n",
       "17                      NaN  157147.97  \n",
       "21                 13611.00  119628.34  \n",
       "40                      NaN  343199.03  \n",
       "42                      NaN  205196.82  \n",
       "44                 15738.38  190476.81  \n",
       "47                  5843.50  244353.62  \n",
       "51                      NaN  222579.55  \n",
       "52                      NaN  328889.72  \n",
       "57                      NaN  213596.40  \n",
       "64                  7565.00  163582.61  \n",
       "65                      NaN  173764.75  \n",
       "66                      NaN  205380.30  \n",
       "67                      NaN  314807.60  \n",
       "81                 15738.38  156111.05  \n",
       "85                 15738.38  167817.99  \n",
       "87                 15358.00  252961.95  \n",
       "93                      NaN  303909.44  \n",
       "98                  5843.50  192120.44  \n",
       "102                     NaN  207000.99  \n",
       "103                 5843.50  239877.67  \n",
       "106                     NaN  165142.47  \n",
       "114                     NaN  291292.07  \n",
       "115                     NaN  254551.62  \n",
       "117                     NaN  289899.13  \n",
       "127                     NaN  254518.27  \n",
       "130                     NaN  153817.91  \n",
       "131                     NaN  175466.41  \n",
       "145                     NaN  305745.84  \n",
       "146                     NaN  268347.36  \n",
       "147                     NaN  173012.05  \n",
       "150                10210.33  178197.64  \n",
       "151                     NaN  182120.70  \n",
       "156                     NaN  227194.91  \n",
       "167                 6713.00  181056.58  \n",
       "174                     NaN  288811.49  \n",
       "176                 8719.00  249971.90  \n",
       "177                     NaN  246777.00  \n",
       "180                     NaN  187338.41  \n",
       "185                 8813.00  186670.02  \n",
       "191                15738.38  239825.25  \n",
       "193                     NaN  309536.17  \n",
       "194                     NaN  188413.14  \n",
       "196                     NaN  317979.79  \n",
       "197                 5843.50  278114.05  \n",
       "202                     NaN  322322.06  \n",
       "203                     NaN  329138.80  \n",
       "204                     NaN  242223.05  \n",
       "mean               10487.79  230559.75  "
      ],
      "text/html": "<div>\n<style scoped>\n    .dataframe tbody tr th:only-of-type {\n        vertical-align: middle;\n    }\n\n    .dataframe tbody tr th {\n        vertical-align: top;\n    }\n\n    .dataframe thead th {\n        text-align: right;\n    }\n</style>\n<table border=\"1\" class=\"dataframe\">\n  <thead>\n    <tr style=\"text-align: right;\">\n      <th></th>\n      <th>usuario</th>\n      <th>('monto_promesa', 1)</th>\n      <th>('monto_promesa', 2)</th>\n      <th>('monto_promesa', 3)</th>\n      <th>('monto_promesa', 4)</th>\n      <th>('monto_promesa', 5)</th>\n      <th>('monto_promesa', 6)</th>\n      <th>('monto_promesa', 7)</th>\n      <th>('monto_promesa', 8)</th>\n      <th>('monto_promesa', 9)</th>\n      <th>('monto_promesa', 10)</th>\n      <th>('monto_promesa', 11)</th>\n      <th>('monto_promesa', 12)</th>\n      <th>Mean</th>\n    </tr>\n  </thead>\n  <tbody>\n    <tr>\n      <th>9</th>\n      <td>NaN</td>\n      <td>254214.7500</td>\n      <td>260698.00</td>\n      <td>137912.875</td>\n      <td>123049.8125</td>\n      <td>114182.25</td>\n      <td>183297.000</td>\n      <td>186386.00</td>\n      <td>248946.000</td>\n      <td>159722.000</td>\n      <td>138756.00</td>\n      <td>NaN</td>\n      <td>NaN</td>\n      <td>180716.47</td>\n    </tr>\n    <tr>\n      <th>17</th>\n      <td>NaN</td>\n      <td>256881.0000</td>\n      <td>153713.89</td>\n      <td>137912.875</td>\n      <td>123049.8125</td>\n      <td>114182.25</td>\n      <td>NaN</td>\n      <td>NaN</td>\n      <td>NaN</td>\n      <td>NaN</td>\n      <td>NaN</td>\n      <td>NaN</td>\n      <td>NaN</td>\n      <td>157147.97</td>\n    </tr>\n    <tr>\n      <th>21</th>\n      <td>NaN</td>\n      <td>NaN</td>\n      <td>NaN</td>\n      <td>NaN</td>\n      <td>NaN</td>\n      <td>NaN</td>\n      <td>138945.275</td>\n      <td>144034.50</td>\n      <td>173362.750</td>\n      <td>124911.625</td>\n      <td>138756.00</td>\n      <td>103777.2075</td>\n      <td>13611.00</td>\n      <td>119628.34</td>\n    </tr>\n    <tr>\n      <th>40</th>\n      <td>NaN</td>\n      <td>489486.5625</td>\n      <td>347023.00</td>\n      <td>334883.750</td>\n      <td>352018.9375</td>\n      <td>270761.25</td>\n      <td>382334.250</td>\n      <td>395721.75</td>\n      <td>173362.750</td>\n      <td>NaN</td>\n      <td>NaN</td>\n      <td>NaN</td>\n      <td>NaN</td>\n      <td>343199.03</td>\n    </tr>\n    <tr>\n      <th>42</th>\n      <td>NaN</td>\n      <td>302373.0000</td>\n      <td>232215.00</td>\n      <td>137912.875</td>\n      <td>239301.0000</td>\n      <td>114182.25</td>\n      <td>NaN</td>\n      <td>NaN</td>\n      <td>NaN</td>\n      <td>NaN</td>\n      <td>NaN</td>\n      <td>NaN</td>\n      <td>NaN</td>\n      <td>205196.82</td>\n    </tr>\n    <tr>\n      <th>44</th>\n      <td>NaN</td>\n      <td>NaN</td>\n      <td>NaN</td>\n      <td>NaN</td>\n      <td>NaN</td>\n      <td>NaN</td>\n      <td>NaN</td>\n      <td>200047.00</td>\n      <td>322264.000</td>\n      <td>239206.000</td>\n      <td>203941.00</td>\n      <td>161664.5000</td>\n      <td>15738.38</td>\n      <td>190476.81</td>\n    </tr>\n    <tr>\n      <th>47</th>\n      <td>NaN</td>\n      <td>489486.5625</td>\n      <td>170177.51</td>\n      <td>301623.000</td>\n      <td>271917.0000</td>\n      <td>NaN</td>\n      <td>138945.275</td>\n      <td>NaN</td>\n      <td>392065.000</td>\n      <td>225493.000</td>\n      <td>264684.00</td>\n      <td>183301.3225</td>\n      <td>5843.50</td>\n      <td>244353.62</td>\n    </tr>\n    <tr>\n      <th>51</th>\n      <td>NaN</td>\n      <td>NaN</td>\n      <td>NaN</td>\n      <td>NaN</td>\n      <td>123049.8125</td>\n      <td>117775.00</td>\n      <td>NaN</td>\n      <td>243103.41</td>\n      <td>392817.625</td>\n      <td>347877.000</td>\n      <td>222368.00</td>\n      <td>111066.0000</td>\n      <td>NaN</td>\n      <td>222579.55</td>\n    </tr>\n    <tr>\n      <th>52</th>\n      <td>NaN</td>\n      <td>383389.0000</td>\n      <td>371670.00</td>\n      <td>334883.750</td>\n      <td>318995.0000</td>\n      <td>270761.25</td>\n      <td>382334.250</td>\n      <td>395721.75</td>\n      <td>173362.750</td>\n      <td>NaN</td>\n      <td>NaN</td>\n      <td>NaN</td>\n      <td>NaN</td>\n      <td>328889.72</td>\n    </tr>\n    <tr>\n      <th>57</th>\n      <td>NaN</td>\n      <td>NaN</td>\n      <td>381505.00</td>\n      <td>162885.000</td>\n      <td>138760.0000</td>\n      <td>215728.00</td>\n      <td>169104.000</td>\n      <td>NaN</td>\n      <td>NaN</td>\n      <td>NaN</td>\n      <td>NaN</td>\n      <td>NaN</td>\n      <td>NaN</td>\n      <td>213596.40</td>\n    </tr>\n    <tr>\n      <th>64</th>\n      <td>NaN</td>\n      <td>NaN</td>\n      <td>NaN</td>\n      <td>NaN</td>\n      <td>123049.8125</td>\n      <td>NaN</td>\n      <td>382334.250</td>\n      <td>147270.00</td>\n      <td>NaN</td>\n      <td>NaN</td>\n      <td>NaN</td>\n      <td>157694.0000</td>\n      <td>7565.00</td>\n      <td>163582.61</td>\n    </tr>\n    <tr>\n      <th>65</th>\n      <td>NaN</td>\n      <td>254214.7500</td>\n      <td>204723.00</td>\n      <td>138221.000</td>\n      <td>157124.0000</td>\n      <td>114541.00</td>\n      <td>NaN</td>\n      <td>NaN</td>\n      <td>NaN</td>\n      <td>NaN</td>\n      <td>NaN</td>\n      <td>NaN</td>\n      <td>NaN</td>\n      <td>173764.75</td>\n    </tr>\n    <tr>\n      <th>66</th>\n      <td>NaN</td>\n      <td>254214.7500</td>\n      <td>264406.00</td>\n      <td>207289.000</td>\n      <td>NaN</td>\n      <td>NaN</td>\n      <td>NaN</td>\n      <td>NaN</td>\n      <td>173362.750</td>\n      <td>127629.000</td>\n      <td>NaN</td>\n      <td>NaN</td>\n      <td>NaN</td>\n      <td>205380.30</td>\n    </tr>\n    <tr>\n      <th>67</th>\n      <td>NaN</td>\n      <td>485320.0000</td>\n      <td>381505.00</td>\n      <td>283298.000</td>\n      <td>264453.0000</td>\n      <td>159462.00</td>\n      <td>NaN</td>\n      <td>NaN</td>\n      <td>NaN</td>\n      <td>NaN</td>\n      <td>NaN</td>\n      <td>NaN</td>\n      <td>NaN</td>\n      <td>314807.60</td>\n    </tr>\n    <tr>\n      <th>81</th>\n      <td>NaN</td>\n      <td>NaN</td>\n      <td>NaN</td>\n      <td>NaN</td>\n      <td>NaN</td>\n      <td>NaN</td>\n      <td>NaN</td>\n      <td>144034.50</td>\n      <td>358782.500</td>\n      <td>124911.625</td>\n      <td>163767.50</td>\n      <td>129431.7800</td>\n      <td>15738.38</td>\n      <td>156111.05</td>\n    </tr>\n    <tr>\n      <th>85</th>\n      <td>NaN</td>\n      <td>NaN</td>\n      <td>153713.89</td>\n      <td>137912.875</td>\n      <td>123049.8125</td>\n      <td>114182.25</td>\n      <td>171105.000</td>\n      <td>376875.50</td>\n      <td>257244.000</td>\n      <td>174692.000</td>\n      <td>217707.00</td>\n      <td>103777.2075</td>\n      <td>15738.38</td>\n      <td>167817.99</td>\n    </tr>\n    <tr>\n      <th>87</th>\n      <td>NaN</td>\n      <td>NaN</td>\n      <td>NaN</td>\n      <td>NaN</td>\n      <td>NaN</td>\n      <td>NaN</td>\n      <td>343399.000</td>\n      <td>386940.00</td>\n      <td>392817.625</td>\n      <td>347877.000</td>\n      <td>178296.00</td>\n      <td>106046.0000</td>\n      <td>15358.00</td>\n      <td>252961.95</td>\n    </tr>\n    <tr>\n      <th>93</th>\n      <td>NaN</td>\n      <td>489486.5625</td>\n      <td>381505.00</td>\n      <td>334883.750</td>\n      <td>215453.0000</td>\n      <td>268943.00</td>\n      <td>372746.000</td>\n      <td>370160.00</td>\n      <td>261600.000</td>\n      <td>347877.000</td>\n      <td>196572.31</td>\n      <td>103777.2075</td>\n      <td>NaN</td>\n      <td>303909.44</td>\n    </tr>\n    <tr>\n      <th>98</th>\n      <td>NaN</td>\n      <td>NaN</td>\n      <td>NaN</td>\n      <td>NaN</td>\n      <td>NaN</td>\n      <td>NaN</td>\n      <td>138945.275</td>\n      <td>276687.00</td>\n      <td>347790.000</td>\n      <td>127592.000</td>\n      <td>264684.00</td>\n      <td>183301.3225</td>\n      <td>5843.50</td>\n      <td>192120.44</td>\n    </tr>\n    <tr>\n      <th>102</th>\n      <td>NaN</td>\n      <td>NaN</td>\n      <td>NaN</td>\n      <td>NaN</td>\n      <td>NaN</td>\n      <td>NaN</td>\n      <td>138945.275</td>\n      <td>337002.00</td>\n      <td>213659.660</td>\n      <td>206642.000</td>\n      <td>138756.00</td>\n      <td>NaN</td>\n      <td>NaN</td>\n      <td>207000.99</td>\n    </tr>\n    <tr>\n      <th>103</th>\n      <td>NaN</td>\n      <td>NaN</td>\n      <td>NaN</td>\n      <td>NaN</td>\n      <td>NaN</td>\n      <td>NaN</td>\n      <td>138945.275</td>\n      <td>345675.00</td>\n      <td>392817.625</td>\n      <td>347877.000</td>\n      <td>264684.00</td>\n      <td>183301.3225</td>\n      <td>5843.50</td>\n      <td>239877.67</td>\n    </tr>\n    <tr>\n      <th>106</th>\n      <td>NaN</td>\n      <td>259629.6600</td>\n      <td>153713.89</td>\n      <td>209145.610</td>\n      <td>123049.8125</td>\n      <td>185902.00</td>\n      <td>138945.275</td>\n      <td>NaN</td>\n      <td>173362.750</td>\n      <td>NaN</td>\n      <td>138756.00</td>\n      <td>103777.2075</td>\n      <td>NaN</td>\n      <td>165142.47</td>\n    </tr>\n    <tr>\n      <th>114</th>\n      <td>NaN</td>\n      <td>356185.0000</td>\n      <td>381505.00</td>\n      <td>334883.750</td>\n      <td>351628.0000</td>\n      <td>236301.00</td>\n      <td>201093.000</td>\n      <td>324615.00</td>\n      <td>333415.000</td>\n      <td>276036.000</td>\n      <td>230305.00</td>\n      <td>178246.0000</td>\n      <td>NaN</td>\n      <td>291292.07</td>\n    </tr>\n    <tr>\n      <th>115</th>\n      <td>NaN</td>\n      <td>NaN</td>\n      <td>NaN</td>\n      <td>NaN</td>\n      <td>NaN</td>\n      <td>NaN</td>\n      <td>251732.000</td>\n      <td>395721.75</td>\n      <td>282956.000</td>\n      <td>268962.000</td>\n      <td>201909.00</td>\n      <td>126029.0000</td>\n      <td>NaN</td>\n      <td>254551.62</td>\n    </tr>\n    <tr>\n      <th>117</th>\n      <td>NaN</td>\n      <td>489486.5625</td>\n      <td>324472.00</td>\n      <td>254567.000</td>\n      <td>233643.0000</td>\n      <td>270761.25</td>\n      <td>264256.000</td>\n      <td>395721.75</td>\n      <td>251273.000</td>\n      <td>124911.625</td>\n      <td>NaN</td>\n      <td>NaN</td>\n      <td>NaN</td>\n      <td>289899.13</td>\n    </tr>\n    <tr>\n      <th>127</th>\n      <td>NaN</td>\n      <td>410664.0000</td>\n      <td>153713.89</td>\n      <td>NaN</td>\n      <td>NaN</td>\n      <td>114182.25</td>\n      <td>268262.000</td>\n      <td>374866.00</td>\n      <td>305952.000</td>\n      <td>340967.000</td>\n      <td>138756.00</td>\n      <td>183301.3225</td>\n      <td>NaN</td>\n      <td>254518.27</td>\n    </tr>\n    <tr>\n      <th>130</th>\n      <td>NaN</td>\n      <td>NaN</td>\n      <td>NaN</td>\n      <td>NaN</td>\n      <td>NaN</td>\n      <td>NaN</td>\n      <td>138945.275</td>\n      <td>226400.00</td>\n      <td>173362.750</td>\n      <td>124911.625</td>\n      <td>155510.62</td>\n      <td>103777.2075</td>\n      <td>NaN</td>\n      <td>153817.91</td>\n    </tr>\n    <tr>\n      <th>131</th>\n      <td>NaN</td>\n      <td>NaN</td>\n      <td>153713.89</td>\n      <td>NaN</td>\n      <td>NaN</td>\n      <td>NaN</td>\n      <td>227524.920</td>\n      <td>295091.00</td>\n      <td>173362.750</td>\n      <td>136039.100</td>\n      <td>138756.00</td>\n      <td>103777.2075</td>\n      <td>NaN</td>\n      <td>175466.41</td>\n    </tr>\n    <tr>\n      <th>145</th>\n      <td>NaN</td>\n      <td>NaN</td>\n      <td>NaN</td>\n      <td>NaN</td>\n      <td>NaN</td>\n      <td>NaN</td>\n      <td>252815.660</td>\n      <td>395721.75</td>\n      <td>392817.625</td>\n      <td>347877.000</td>\n      <td>264684.00</td>\n      <td>180559.0000</td>\n      <td>NaN</td>\n      <td>305745.84</td>\n    </tr>\n    <tr>\n      <th>146</th>\n      <td>NaN</td>\n      <td>254214.7500</td>\n      <td>381505.00</td>\n      <td>216648.000</td>\n      <td>288003.0000</td>\n      <td>270761.25</td>\n      <td>323265.000</td>\n      <td>144034.50</td>\n      <td>NaN</td>\n      <td>NaN</td>\n      <td>NaN</td>\n      <td>NaN</td>\n      <td>NaN</td>\n      <td>268347.36</td>\n    </tr>\n    <tr>\n      <th>147</th>\n      <td>NaN</td>\n      <td>NaN</td>\n      <td>NaN</td>\n      <td>NaN</td>\n      <td>NaN</td>\n      <td>NaN</td>\n      <td>161928.060</td>\n      <td>144034.50</td>\n      <td>339158.500</td>\n      <td>124911.625</td>\n      <td>160294.37</td>\n      <td>107745.2200</td>\n      <td>NaN</td>\n      <td>173012.05</td>\n    </tr>\n    <tr>\n      <th>150</th>\n      <td>NaN</td>\n      <td>NaN</td>\n      <td>NaN</td>\n      <td>NaN</td>\n      <td>NaN</td>\n      <td>114182.25</td>\n      <td>382334.250</td>\n      <td>233943.00</td>\n      <td>174274.000</td>\n      <td>157841.000</td>\n      <td>177065.00</td>\n      <td>175731.3300</td>\n      <td>10210.33</td>\n      <td>178197.64</td>\n    </tr>\n    <tr>\n      <th>151</th>\n      <td>NaN</td>\n      <td>NaN</td>\n      <td>NaN</td>\n      <td>NaN</td>\n      <td>NaN</td>\n      <td>NaN</td>\n      <td>NaN</td>\n      <td>144034.50</td>\n      <td>244235.000</td>\n      <td>224618.000</td>\n      <td>169977.00</td>\n      <td>127739.0000</td>\n      <td>NaN</td>\n      <td>182120.70</td>\n    </tr>\n    <tr>\n      <th>156</th>\n      <td>NaN</td>\n      <td>NaN</td>\n      <td>153713.89</td>\n      <td>260085.000</td>\n      <td>352018.9375</td>\n      <td>265012.00</td>\n      <td>207428.000</td>\n      <td>NaN</td>\n      <td>NaN</td>\n      <td>124911.625</td>\n      <td>NaN</td>\n      <td>NaN</td>\n      <td>NaN</td>\n      <td>227194.91</td>\n    </tr>\n    <tr>\n      <th>167</th>\n      <td>NaN</td>\n      <td>336790.0000</td>\n      <td>274982.00</td>\n      <td>200767.000</td>\n      <td>123053.0000</td>\n      <td>NaN</td>\n      <td>NaN</td>\n      <td>144034.50</td>\n      <td>NaN</td>\n      <td>NaN</td>\n      <td>NaN</td>\n      <td>NaN</td>\n      <td>6713.00</td>\n      <td>181056.58</td>\n    </tr>\n    <tr>\n      <th>174</th>\n      <td>NaN</td>\n      <td>477888.0000</td>\n      <td>381505.00</td>\n      <td>334883.750</td>\n      <td>352018.9375</td>\n      <td>192405.00</td>\n      <td>138945.275</td>\n      <td>144034.50</td>\n      <td>NaN</td>\n      <td>NaN</td>\n      <td>NaN</td>\n      <td>NaN</td>\n      <td>NaN</td>\n      <td>288811.49</td>\n    </tr>\n    <tr>\n      <th>176</th>\n      <td>NaN</td>\n      <td>254214.7500</td>\n      <td>222952.00</td>\n      <td>137912.875</td>\n      <td>252430.0000</td>\n      <td>178558.00</td>\n      <td>382334.250</td>\n      <td>373862.00</td>\n      <td>392817.625</td>\n      <td>347877.000</td>\n      <td>264684.00</td>\n      <td>183301.3225</td>\n      <td>8719.00</td>\n      <td>249971.90</td>\n    </tr>\n    <tr>\n      <th>177</th>\n      <td>NaN</td>\n      <td>NaN</td>\n      <td>NaN</td>\n      <td>NaN</td>\n      <td>NaN</td>\n      <td>NaN</td>\n      <td>181678.000</td>\n      <td>395721.75</td>\n      <td>392817.625</td>\n      <td>124911.625</td>\n      <td>138756.00</td>\n      <td>NaN</td>\n      <td>NaN</td>\n      <td>246777.00</td>\n    </tr>\n    <tr>\n      <th>180</th>\n      <td>NaN</td>\n      <td>254214.7500</td>\n      <td>153713.89</td>\n      <td>137912.875</td>\n      <td>123049.8125</td>\n      <td>114182.25</td>\n      <td>147309.700</td>\n      <td>264240.63</td>\n      <td>296320.540</td>\n      <td>201316.880</td>\n      <td>264684.00</td>\n      <td>103777.2075</td>\n      <td>NaN</td>\n      <td>187338.41</td>\n    </tr>\n    <tr>\n      <th>185</th>\n      <td>NaN</td>\n      <td>NaN</td>\n      <td>NaN</td>\n      <td>NaN</td>\n      <td>NaN</td>\n      <td>NaN</td>\n      <td>NaN</td>\n      <td>144034.50</td>\n      <td>392817.625</td>\n      <td>307065.000</td>\n      <td>138756.00</td>\n      <td>128534.0000</td>\n      <td>8813.00</td>\n      <td>186670.02</td>\n    </tr>\n    <tr>\n      <th>191</th>\n      <td>NaN</td>\n      <td>NaN</td>\n      <td>153713.89</td>\n      <td>185624.000</td>\n      <td>184210.0000</td>\n      <td>270761.25</td>\n      <td>382334.250</td>\n      <td>325012.00</td>\n      <td>369587.000</td>\n      <td>340835.000</td>\n      <td>243514.00</td>\n      <td>166748.0000</td>\n      <td>15738.38</td>\n      <td>239825.25</td>\n    </tr>\n    <tr>\n      <th>193</th>\n      <td>NaN</td>\n      <td>489486.5625</td>\n      <td>369450.00</td>\n      <td>334883.750</td>\n      <td>352018.9375</td>\n      <td>270761.25</td>\n      <td>NaN</td>\n      <td>NaN</td>\n      <td>173362.750</td>\n      <td>347877.000</td>\n      <td>264684.00</td>\n      <td>183301.3225</td>\n      <td>NaN</td>\n      <td>309536.17</td>\n    </tr>\n    <tr>\n      <th>194</th>\n      <td>NaN</td>\n      <td>NaN</td>\n      <td>NaN</td>\n      <td>252271.000</td>\n      <td>352018.9375</td>\n      <td>267641.00</td>\n      <td>138945.275</td>\n      <td>144034.50</td>\n      <td>173362.750</td>\n      <td>124911.625</td>\n      <td>138756.00</td>\n      <td>103777.2075</td>\n      <td>NaN</td>\n      <td>188413.14</td>\n    </tr>\n    <tr>\n      <th>196</th>\n      <td>NaN</td>\n      <td>NaN</td>\n      <td>NaN</td>\n      <td>NaN</td>\n      <td>NaN</td>\n      <td>NaN</td>\n      <td>377667.000</td>\n      <td>395721.75</td>\n      <td>383682.000</td>\n      <td>347877.000</td>\n      <td>244483.00</td>\n      <td>158448.0000</td>\n      <td>NaN</td>\n      <td>317979.79</td>\n    </tr>\n    <tr>\n      <th>197</th>\n      <td>NaN</td>\n      <td>410415.8600</td>\n      <td>364452.52</td>\n      <td>137912.875</td>\n      <td>NaN</td>\n      <td>NaN</td>\n      <td>NaN</td>\n      <td>395721.75</td>\n      <td>392817.625</td>\n      <td>347877.000</td>\n      <td>264684.00</td>\n      <td>183301.3225</td>\n      <td>5843.50</td>\n      <td>278114.05</td>\n    </tr>\n    <tr>\n      <th>202</th>\n      <td>NaN</td>\n      <td>489486.5625</td>\n      <td>381505.00</td>\n      <td>334883.750</td>\n      <td>352018.9375</td>\n      <td>116963.00</td>\n      <td>382334.250</td>\n      <td>395721.75</td>\n      <td>NaN</td>\n      <td>NaN</td>\n      <td>264684.00</td>\n      <td>183301.3225</td>\n      <td>NaN</td>\n      <td>322322.06</td>\n    </tr>\n    <tr>\n      <th>203</th>\n      <td>NaN</td>\n      <td>439865.0000</td>\n      <td>381505.00</td>\n      <td>334708.000</td>\n      <td>352018.9375</td>\n      <td>270761.25</td>\n      <td>382334.250</td>\n      <td>395721.75</td>\n      <td>392817.625</td>\n      <td>347766.000</td>\n      <td>153273.00</td>\n      <td>169756.0000</td>\n      <td>NaN</td>\n      <td>329138.80</td>\n    </tr>\n    <tr>\n      <th>204</th>\n      <td>NaN</td>\n      <td>314169.0000</td>\n      <td>298724.00</td>\n      <td>253270.000</td>\n      <td>237592.0000</td>\n      <td>182749.00</td>\n      <td>382334.250</td>\n      <td>144034.50</td>\n      <td>NaN</td>\n      <td>124911.625</td>\n      <td>NaN</td>\n      <td>NaN</td>\n      <td>NaN</td>\n      <td>242223.05</td>\n    </tr>\n    <tr>\n      <th>mean</th>\n      <td>NaN</td>\n      <td>370657.3900</td>\n      <td>275437.80</td>\n      <td>234642.070</td>\n      <td>235787.2600</td>\n      <td>192466.09</td>\n      <td>251317.890</td>\n      <td>281203.63</td>\n      <td>291078.540</td>\n      <td>231929.130</td>\n      <td>198483.12</td>\n      <td>144582.7800</td>\n      <td>10487.79</td>\n      <td>230559.75</td>\n    </tr>\n  </tbody>\n</table>\n</div>"
     },
     "metadata": {},
     "execution_count": 56
    }
   ],
   "source": [
    "gestor_mes['Mean'] = gestor_mes.mean(numeric_only=True, axis=1).round(2)\n",
    "gestor_mes.loc['mean'] = gestor_mes.mean().round(2)\n",
    "gestor_mes"
   ]
  },
  {
   "source": [
    "# Performance promedio"
   ],
   "cell_type": "markdown",
   "metadata": {}
  },
  {
   "cell_type": "code",
   "execution_count": 34,
   "metadata": {},
   "outputs": [],
   "source": [
    "#Hacemos la consulta referente al performance del Gestor\n",
    "performance_all = consulta_sql('procesos_externos.all_rpt_agent_performance',20200101,mes)\n",
    "performance_all.columns = ['fecha','usuario','nombre_usuario','user_group','llamadas','aht','ocupacion','adherencia','login_vici','logout_vici','staff_time','wait_time','talk_time','dispo_time','pause','login','manual','gestion','agua','alimentos','sanitario','retroalimentacion','tranferencia','validacion','whatsapp','incumplimiento','recordatorios','capacitacion','sistemas','lagged','tipificando','*']"
   ]
  },
  {
   "cell_type": "code",
   "execution_count": 35,
   "metadata": {},
   "outputs": [],
   "source": [
    "def to_hour(df,cols):\n",
    "    df[cols] = [datetime.strptime(x,'%H:%M:%S') for x in df[cols]]\n",
    "    return df"
   ]
  },
  {
   "cell_type": "code",
   "execution_count": 36,
   "metadata": {},
   "outputs": [],
   "source": [
    "performance_liv_brad = performance_all.loc[(performance_all['user_group']=='LIVERPOOL') | (performance_all['user_group']=='BRADESCARD')]\n",
    "performance_liv_brad[['ocupacion','adherencia']] = percent_tonumeric(performance_liv_brad,['ocupacion','adherencia'])"
   ]
  },
  {
   "cell_type": "code",
   "execution_count": 37,
   "metadata": {},
   "outputs": [],
   "source": [
    "performance_liv_brad['hora_login'] = [int(x[:2]) for x in performance_liv_brad['login_vici']]\n",
    "performance_liv_brad['hora_logout'] = [int(x[:2]) for x in performance_liv_brad['logout_vici']]\n",
    "performance_liv_brad['turno'] = np.where((performance_liv_brad['hora_logout']<=14)&(performance_liv_brad['hora_logout']-performance_liv_brad['hora_login']<=8),'M',\n",
    "                                    np.where((performance_liv_brad['hora_logout']>17)&(performance_liv_brad['hora_logout']-performance_liv_brad['hora_login']<=8),'V','Mixto'))"
   ]
  },
  {
   "cell_type": "code",
   "execution_count": 44,
   "metadata": {},
   "outputs": [
    {
     "output_type": "execute_result",
     "data": {
      "text/plain": [
       "        fecha      usuario          nombre_usuario  user_group  llamadas  \\\n",
       "1  2020-10-01  AGUILARMAVA  AGUILAR MACEDO VALERIA  BRADESCARD       253   \n",
       "\n",
       "        aht  ocupacion  adherencia login_vici logout_vici  ... capacitacion  \\\n",
       "1  00:00:30      12.84       24.43   08:03:49    20:58:28  ...     00:00:00   \n",
       "\n",
       "   sistemas    lagged tipificando         * hora_login hora_logout  turno  \\\n",
       "1  00:00:00  00:00:00    00:10:09  00:00:00          8          20  Mixto   \n",
       "\n",
       "  horas_trabajadas llamadas_hora  \n",
       "1               12          21.0  \n",
       "\n",
       "[1 rows x 37 columns]"
      ],
      "text/html": "<div>\n<style scoped>\n    .dataframe tbody tr th:only-of-type {\n        vertical-align: middle;\n    }\n\n    .dataframe tbody tr th {\n        vertical-align: top;\n    }\n\n    .dataframe thead th {\n        text-align: right;\n    }\n</style>\n<table border=\"1\" class=\"dataframe\">\n  <thead>\n    <tr style=\"text-align: right;\">\n      <th></th>\n      <th>fecha</th>\n      <th>usuario</th>\n      <th>nombre_usuario</th>\n      <th>user_group</th>\n      <th>llamadas</th>\n      <th>aht</th>\n      <th>ocupacion</th>\n      <th>adherencia</th>\n      <th>login_vici</th>\n      <th>logout_vici</th>\n      <th>...</th>\n      <th>capacitacion</th>\n      <th>sistemas</th>\n      <th>lagged</th>\n      <th>tipificando</th>\n      <th>*</th>\n      <th>hora_login</th>\n      <th>hora_logout</th>\n      <th>turno</th>\n      <th>horas_trabajadas</th>\n      <th>llamadas_hora</th>\n    </tr>\n  </thead>\n  <tbody>\n    <tr>\n      <th>1</th>\n      <td>2020-10-01</td>\n      <td>AGUILARMAVA</td>\n      <td>AGUILAR MACEDO VALERIA</td>\n      <td>BRADESCARD</td>\n      <td>253</td>\n      <td>00:00:30</td>\n      <td>12.84</td>\n      <td>24.43</td>\n      <td>08:03:49</td>\n      <td>20:58:28</td>\n      <td>...</td>\n      <td>00:00:00</td>\n      <td>00:00:00</td>\n      <td>00:00:00</td>\n      <td>00:10:09</td>\n      <td>00:00:00</td>\n      <td>8</td>\n      <td>20</td>\n      <td>Mixto</td>\n      <td>12</td>\n      <td>21.0</td>\n    </tr>\n  </tbody>\n</table>\n<p>1 rows × 37 columns</p>\n</div>"
     },
     "metadata": {},
     "execution_count": 44
    }
   ],
   "source": [
    "performance_liv_brad['horas_trabajadas'] = performance_liv_brad['hora_logout']-performance_liv_brad['hora_login']\n",
    "performance_liv_brad['llamadas_hora'] = performance_liv_brad['llamadas']/performance_liv_brad['horas_trabajadas']\n",
    "performance_liv_brad['llamadas_hora'] = performance_liv_brad['llamadas_hora'].round()\n",
    "performance_liv_brad.head(1)"
   ]
  },
  {
   "cell_type": "code",
   "execution_count": 49,
   "metadata": {},
   "outputs": [
    {
     "output_type": "execute_result",
     "data": {
      "text/plain": [
       "   turno  ('sum', 'horas_trabajadas')  ('sum', 'llamadas')  \\\n",
       "0      M                         7350               219063   \n",
       "1  Mixto                         7428               208384   \n",
       "2      V                         3379               101517   \n",
       "\n",
       "   ('sum', 'ocupacion')  ('mean', 'horas_trabajadas')  ('mean', 'llamadas')  \\\n",
       "0              42723.82                      6.369151            189.829289   \n",
       "1              24036.67                     11.169925            313.359398   \n",
       "2              21567.50                      6.375472            191.541509   \n",
       "\n",
       "   ('mean', 'ocupacion')  ('count', 'horas_trabajadas')  \\\n",
       "0              37.022374                           1154   \n",
       "1              36.145368                            665   \n",
       "2              40.693396                            530   \n",
       "\n",
       "   ('count', 'llamadas')  ('count', 'ocupacion')  ('min', 'horas_trabajadas')  \\\n",
       "0                   1154                    1154                            0   \n",
       "1                    665                     665                            0   \n",
       "2                    530                     530                            1   \n",
       "\n",
       "   ('min', 'llamadas')  ('min', 'ocupacion')  ('max', 'horas_trabajadas')  \\\n",
       "0                    0                  0.00                            8   \n",
       "1                    0                  0.00                           14   \n",
       "2                   12                  7.17                            8   \n",
       "\n",
       "   ('max', 'llamadas')  ('max', 'ocupacion')  \n",
       "0                  591                 81.00  \n",
       "1                 1236                 75.24  \n",
       "2                  487                 65.90  "
      ],
      "text/html": "<div>\n<style scoped>\n    .dataframe tbody tr th:only-of-type {\n        vertical-align: middle;\n    }\n\n    .dataframe tbody tr th {\n        vertical-align: top;\n    }\n\n    .dataframe thead th {\n        text-align: right;\n    }\n</style>\n<table border=\"1\" class=\"dataframe\">\n  <thead>\n    <tr style=\"text-align: right;\">\n      <th></th>\n      <th>turno</th>\n      <th>('sum', 'horas_trabajadas')</th>\n      <th>('sum', 'llamadas')</th>\n      <th>('sum', 'ocupacion')</th>\n      <th>('mean', 'horas_trabajadas')</th>\n      <th>('mean', 'llamadas')</th>\n      <th>('mean', 'ocupacion')</th>\n      <th>('count', 'horas_trabajadas')</th>\n      <th>('count', 'llamadas')</th>\n      <th>('count', 'ocupacion')</th>\n      <th>('min', 'horas_trabajadas')</th>\n      <th>('min', 'llamadas')</th>\n      <th>('min', 'ocupacion')</th>\n      <th>('max', 'horas_trabajadas')</th>\n      <th>('max', 'llamadas')</th>\n      <th>('max', 'ocupacion')</th>\n    </tr>\n  </thead>\n  <tbody>\n    <tr>\n      <th>0</th>\n      <td>M</td>\n      <td>7350</td>\n      <td>219063</td>\n      <td>42723.82</td>\n      <td>6.369151</td>\n      <td>189.829289</td>\n      <td>37.022374</td>\n      <td>1154</td>\n      <td>1154</td>\n      <td>1154</td>\n      <td>0</td>\n      <td>0</td>\n      <td>0.00</td>\n      <td>8</td>\n      <td>591</td>\n      <td>81.00</td>\n    </tr>\n    <tr>\n      <th>1</th>\n      <td>Mixto</td>\n      <td>7428</td>\n      <td>208384</td>\n      <td>24036.67</td>\n      <td>11.169925</td>\n      <td>313.359398</td>\n      <td>36.145368</td>\n      <td>665</td>\n      <td>665</td>\n      <td>665</td>\n      <td>0</td>\n      <td>0</td>\n      <td>0.00</td>\n      <td>14</td>\n      <td>1236</td>\n      <td>75.24</td>\n    </tr>\n    <tr>\n      <th>2</th>\n      <td>V</td>\n      <td>3379</td>\n      <td>101517</td>\n      <td>21567.50</td>\n      <td>6.375472</td>\n      <td>191.541509</td>\n      <td>40.693396</td>\n      <td>530</td>\n      <td>530</td>\n      <td>530</td>\n      <td>1</td>\n      <td>12</td>\n      <td>7.17</td>\n      <td>8</td>\n      <td>487</td>\n      <td>65.90</td>\n    </tr>\n  </tbody>\n</table>\n</div>"
     },
     "metadata": {},
     "execution_count": 49
    }
   ],
   "source": [
    "control_performance_brad_turno = pd.pivot_table(performance_liv_brad,index=['turno'],values=['llamadas','ocupacion','horas_trabajadas'],aggfunc=[np.sum,np.mean,'count',min,max])\n",
    "control_performance_brad_turno = to_dataframe(control_performance_brad_turno)\n",
    "#control_performance_brad_turno = control_performance_brad_turno.iloc[:,[0,1,2,3,4,5,6,7,8,11,12,13,14,15,16]]\n",
    "#control_performance_brad_turno.columns = ['Turno','SumHorasTrabajadas','SumLlamadasDia','SumOcupacion','PromedioHorasTrabajadas','PromedioLlamadas','PromedioOcupacion','DiasAsitencia','MinHorasTrabajadas','MinLlamadas','MinOcupacion','MaxHorasTrabajadas','MaxLlamadas','MaxOcupacion']\n",
    "control_performance_brad_turno"
   ]
  },
  {
   "cell_type": "code",
   "execution_count": 50,
   "metadata": {},
   "outputs": [],
   "source": [
    "control_performance_brad_turno2 = control_performance_brad_turno[np.abs(control_performance_brad_turno - control_performance_brad_turno.mean()) <= (3 * control_performance_brad_turno.std())]\n",
    "#cols = ['']\n",
    "control_performance_brad_turno2 = control_performance_brad_turno2.replace({'0':np.nan, 0:np.nan})"
   ]
  },
  {
   "cell_type": "code",
   "execution_count": 51,
   "metadata": {},
   "outputs": [
    {
     "output_type": "execute_result",
     "data": {
      "text/plain": [
       "      turno  ('sum', 'horas_trabajadas')  ('sum', 'llamadas')  \\\n",
       "0         M                      7350.00            219063.00   \n",
       "1     Mixto                      7428.00            208384.00   \n",
       "2         V                      3379.00            101517.00   \n",
       "mean    NaN                      6052.33            176321.33   \n",
       "\n",
       "      ('sum', 'ocupacion')  ('mean', 'horas_trabajadas')  \\\n",
       "0                 42723.82                      6.369151   \n",
       "1                 24036.67                     11.169925   \n",
       "2                 21567.50                      6.375472   \n",
       "mean              29442.66                      7.970000   \n",
       "\n",
       "      ('mean', 'llamadas')  ('mean', 'ocupacion')  \\\n",
       "0               189.829289              37.022374   \n",
       "1               313.359398              36.145368   \n",
       "2               191.541509              40.693396   \n",
       "mean            231.580000              37.950000   \n",
       "\n",
       "      ('count', 'horas_trabajadas')  ('count', 'llamadas')  \\\n",
       "0                            1154.0                 1154.0   \n",
       "1                             665.0                  665.0   \n",
       "2                             530.0                  530.0   \n",
       "mean                          783.0                  783.0   \n",
       "\n",
       "      ('count', 'ocupacion')  ('min', 'horas_trabajadas')  \\\n",
       "0                     1154.0                         0.00   \n",
       "1                      665.0                         0.00   \n",
       "2                      530.0                         1.00   \n",
       "mean                   783.0                         0.33   \n",
       "\n",
       "      ('min', 'llamadas')  ('min', 'ocupacion')  ('max', 'horas_trabajadas')  \\\n",
       "0                     0.0                  0.00                          8.0   \n",
       "1                     0.0                  0.00                         14.0   \n",
       "2                    12.0                  7.17                          8.0   \n",
       "mean                  4.0                  2.39                         10.0   \n",
       "\n",
       "      ('max', 'llamadas')  ('max', 'ocupacion')  \n",
       "0                  591.00                 81.00  \n",
       "1                 1236.00                 75.24  \n",
       "2                  487.00                 65.90  \n",
       "mean               771.33                 74.05  "
      ],
      "text/html": "<div>\n<style scoped>\n    .dataframe tbody tr th:only-of-type {\n        vertical-align: middle;\n    }\n\n    .dataframe tbody tr th {\n        vertical-align: top;\n    }\n\n    .dataframe thead th {\n        text-align: right;\n    }\n</style>\n<table border=\"1\" class=\"dataframe\">\n  <thead>\n    <tr style=\"text-align: right;\">\n      <th></th>\n      <th>turno</th>\n      <th>('sum', 'horas_trabajadas')</th>\n      <th>('sum', 'llamadas')</th>\n      <th>('sum', 'ocupacion')</th>\n      <th>('mean', 'horas_trabajadas')</th>\n      <th>('mean', 'llamadas')</th>\n      <th>('mean', 'ocupacion')</th>\n      <th>('count', 'horas_trabajadas')</th>\n      <th>('count', 'llamadas')</th>\n      <th>('count', 'ocupacion')</th>\n      <th>('min', 'horas_trabajadas')</th>\n      <th>('min', 'llamadas')</th>\n      <th>('min', 'ocupacion')</th>\n      <th>('max', 'horas_trabajadas')</th>\n      <th>('max', 'llamadas')</th>\n      <th>('max', 'ocupacion')</th>\n    </tr>\n  </thead>\n  <tbody>\n    <tr>\n      <th>0</th>\n      <td>M</td>\n      <td>7350.00</td>\n      <td>219063.00</td>\n      <td>42723.82</td>\n      <td>6.369151</td>\n      <td>189.829289</td>\n      <td>37.022374</td>\n      <td>1154.0</td>\n      <td>1154.0</td>\n      <td>1154.0</td>\n      <td>0.00</td>\n      <td>0.0</td>\n      <td>0.00</td>\n      <td>8.0</td>\n      <td>591.00</td>\n      <td>81.00</td>\n    </tr>\n    <tr>\n      <th>1</th>\n      <td>Mixto</td>\n      <td>7428.00</td>\n      <td>208384.00</td>\n      <td>24036.67</td>\n      <td>11.169925</td>\n      <td>313.359398</td>\n      <td>36.145368</td>\n      <td>665.0</td>\n      <td>665.0</td>\n      <td>665.0</td>\n      <td>0.00</td>\n      <td>0.0</td>\n      <td>0.00</td>\n      <td>14.0</td>\n      <td>1236.00</td>\n      <td>75.24</td>\n    </tr>\n    <tr>\n      <th>2</th>\n      <td>V</td>\n      <td>3379.00</td>\n      <td>101517.00</td>\n      <td>21567.50</td>\n      <td>6.375472</td>\n      <td>191.541509</td>\n      <td>40.693396</td>\n      <td>530.0</td>\n      <td>530.0</td>\n      <td>530.0</td>\n      <td>1.00</td>\n      <td>12.0</td>\n      <td>7.17</td>\n      <td>8.0</td>\n      <td>487.00</td>\n      <td>65.90</td>\n    </tr>\n    <tr>\n      <th>mean</th>\n      <td>NaN</td>\n      <td>6052.33</td>\n      <td>176321.33</td>\n      <td>29442.66</td>\n      <td>7.970000</td>\n      <td>231.580000</td>\n      <td>37.950000</td>\n      <td>783.0</td>\n      <td>783.0</td>\n      <td>783.0</td>\n      <td>0.33</td>\n      <td>4.0</td>\n      <td>2.39</td>\n      <td>10.0</td>\n      <td>771.33</td>\n      <td>74.05</td>\n    </tr>\n  </tbody>\n</table>\n</div>"
     },
     "metadata": {},
     "execution_count": 51
    }
   ],
   "source": [
    "control_performance_brad_turno.loc['mean'] = control_performance_brad_turno.mean().round(2)\n",
    "control_performance_brad_turno"
   ]
  },
  {
   "cell_type": "code",
   "execution_count": 57,
   "metadata": {},
   "outputs": [],
   "source": [
    "writer = pd.ExcelWriter(''+ruta_guardar+'/Gestores/BradLiv/Puntos BradLiv '+now+'.xlsx',engine='xlsxwriter')\n",
    "gestor_mes.to_excel(writer,'BSC',index=False,header=True)\n",
    "control_performance_brad_turno.to_excel(writer,'PerformanceDetallado',index=False,header=True)\n",
    "control_performance_brad_turno2.to_excel(writer,'PerformanceTurno',index=False,header=True)\n",
    "\n",
    "writer.save()"
   ]
  }
 ]
}