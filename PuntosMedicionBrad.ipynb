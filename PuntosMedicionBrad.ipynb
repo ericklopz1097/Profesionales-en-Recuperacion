{
 "metadata": {
  "language_info": {
   "codemirror_mode": {
    "name": "ipython",
    "version": 3
   },
   "file_extension": ".py",
   "mimetype": "text/x-python",
   "name": "python",
   "nbconvert_exporter": "python",
   "pygments_lexer": "ipython3",
   "version": "3.7.6-final"
  },
  "orig_nbformat": 2,
  "kernelspec": {
   "name": "python3",
   "display_name": "Python 3",
   "language": "python"
  }
 },
 "nbformat": 4,
 "nbformat_minor": 2,
 "cells": [
  {
   "cell_type": "code",
   "execution_count": 142,
   "metadata": {},
   "outputs": [],
   "source": [
    "import pandas as pd\n",
    "import numpy as np\n",
    "import mysql.connector\n",
    "import os\n",
    "from mysql.connector import Error\n",
    "from datetime import datetime, date, timedelta\n",
    "import re\n",
    "from IPython.core.interactiveshell import InteractiveShell\n",
    "InteractiveShell.ast_node_interactivity = \"all\""
   ]
  },
  {
   "cell_type": "code",
   "execution_count": 143,
   "metadata": {},
   "outputs": [],
   "source": [
    "#Definimos la ruta en donde queremos guardar los archivos\n",
    "ruta_guardar = '/home/estadistico/Documents/Erick/Reportes diarios'\n",
    "ruta_asig_baz = '/home/estadistico/Documents/Erick/Banco Azteca/Asignacion csv'\n",
    "ruta_pagos = '/home/estadistico/Documents/Erick'\n",
    "mes = 20201201\n",
    "mes2 = 'Diciembre2020'\n",
    "mes3 = pd.to_datetime('01/12/2020',dayfirst=True)\n",
    "prim_sem_mes = 49"
   ]
  },
  {
   "cell_type": "code",
   "execution_count": 144,
   "metadata": {},
   "outputs": [],
   "source": [
    "#Agregamos las variables a ocupar\n",
    "servidor = '192.168.15.12'\n",
    "puerto = int('3306')\n",
    "usuario = 'estadisticas'\n",
    "contrasena = 'estadisticas8474'\n",
    "base = 'procesos_externos'"
   ]
  },
  {
   "cell_type": "code",
   "execution_count": 145,
   "metadata": {},
   "outputs": [],
   "source": [
    "#Lectura pagos Bradesco c0\n",
    "pagos_brad_c0 = pd.read_excel(''+ruta_pagos+'/Bradesco/Facturacion_c0/Facturacion c0.xlsx',converters={'TARJETA':str})\n",
    "pagos_brad_c0 = pagos_brad_c0.drop_duplicates()\n",
    "#pagos_brad2 = pd.pivot_table(pagos_brad,index=['NUMERO_TARJETA','FECHA_PAGO','TIPO_ASIGANCION'],values=['MONTO'],aggfunc=np.sum)\n",
    "#pagos_brad2 = pd.DataFrame(pagos_brad2.to_records())\n",
    "#pagos_brad2 = pagos_brad2.loc[pagos_brad2['FECHA_PAGO']>=mes3]"
   ]
  },
  {
   "cell_type": "code",
   "execution_count": 146,
   "metadata": {},
   "outputs": [],
   "source": [
    "#Lectura pagos Bradesco extrajudicial\n",
    "pagos_brad_extra = pd.read_excel(''+ruta_pagos+'/Bradesco/Facturacion_extra/Facturacion extra.xlsx',converters={'TARJETA':str})\n",
    "pagos_brad_extra = pagos_brad_extra.drop_duplicates()\n",
    "#pagos_brad2 = pd.pivot_table(pagos_brad,index=['NUMERO_TARJETA','FECHA_PAGO','TIPO_ASIGANCION'],values=['MONTO'],aggfunc=np.sum)\n",
    "#pagos_brad2 = pd.DataFrame(pagos_brad2.to_records())\n",
    "#pagos_brad2 = pagos_brad2.loc[pagos_brad2['FECHA_PAGO']>=mes3]"
   ]
  },
  {
   "cell_type": "code",
   "execution_count": 147,
   "metadata": {},
   "outputs": [],
   "source": [
    "#Asignamos valores a los parametros \\n\"\n",
    "today = date.today().strftime('%Y%m%d')\n",
    "now = datetime.now().strftime('%d-%m-%Y %H:%M')\n",
    "hoy = np.datetime64('today')\n",
    "ayer = np.datetime64(date.today() - timedelta(1))\n",
    "today2 = date.today().strftime('%d-%m-%Y')"
   ]
  },
  {
   "cell_type": "code",
   "execution_count": 148,
   "metadata": {},
   "outputs": [],
   "source": [
    "#Hacemos la conexion con el servidor\\n\",\n",
    "try: \n",
    "    conn = mysql.connector.connect(user=usuario,\n",
    "                               password=contrasena,\n",
    "                               host=servidor,\n",
    "                               port=3306,\n",
    "                               database=base)\n",
    "    conn.set_charset_collation('latin1')\n",
    "except mysql.Error as e:\n",
    "    print(\"Failed to execute stored procedure: {}\".format(error))\n",
    "\n",
    "cursor = conn.cursor()"
   ]
  },
  {
   "cell_type": "code",
   "execution_count": 149,
   "metadata": {},
   "outputs": [],
   "source": [
    "#Funcion para hacer la consulta sql, ya sea de gestion o de asignacion en donde requerimos tres parametros, la tabla de donde vamos a sacar la consulta, en caso de asignacin requerimos los otros dos parametros fecha inicial y fecha final\n",
    "def consulta_sql(table,from_date=None,to_date=None,campana=None):\n",
    "    if campana is None:\n",
    "        if from_date is None:\n",
    "            sql_mes = cursor.callproc(table,)\n",
    "            for result in cursor.stored_results():\n",
    "                sql_mes = pd.DataFrame(result.fetchall())\n",
    "        else:\n",
    "            sql_mes = cursor.callproc(table, [from_date,to_date])\n",
    "            for result in cursor.stored_results():\n",
    "                sql_mes = pd.DataFrame(result.fetchall())\n",
    "    else:\n",
    "        sql_mes = cursor.callproc(table, [from_date,to_date,campana])\n",
    "        for result in cursor.stored_results():\n",
    "                sql_mes = pd.DataFrame(result.fetchall())\n",
    "    sql_mes = sql_mes.drop_duplicates()\n",
    "    return sql_mes"
   ]
  },
  {
   "source": [
    "# Bradesco"
   ],
   "cell_type": "markdown",
   "metadata": {}
  },
  {
   "cell_type": "code",
   "execution_count": 150,
   "metadata": {},
   "outputs": [],
   "source": [
    "#Inicio y fin de meses que nos interesa conocer\n",
    "inicio_mes = [20200101,20200201,20200301,20200401,20200501,20200601,20200701,20200801,20200901,20201001,20201101]\n",
    "fin_mes = [20200131,20200228,20200331,20200430,20200531,20200630,20200731,20200831,20200930,20201031,20201130]"
   ]
  },
  {
   "cell_type": "code",
   "execution_count": 151,
   "metadata": {},
   "outputs": [
    {
     "output_type": "stream",
     "name": "stdout",
     "text": [
      "20200101\n",
      "20200201\n",
      "20200301\n",
      "20200401\n",
      "20200501\n",
      "20200601\n",
      "20200701\n",
      "20200801\n",
      "20200901\n",
      "20201001\n",
      "20201101\n"
     ]
    }
   ],
   "source": [
    "#Lectura de cada uno de los meses\n",
    "gestion_brad = pd.DataFrame()\n",
    "for i,j in zip(inicio_mes,fin_mes):\n",
    "    gestion_brad_mes = consulta_sql('bradescard_rpt_gestiones_detallado',i,j)\n",
    "    gestion_brad = pd.concat([gestion_brad,gestion_brad_mes],ignore_index=True)\n",
    "    print(i)"
   ]
  },
  {
   "cell_type": "code",
   "execution_count": 152,
   "metadata": {},
   "outputs": [],
   "source": [
    "#Asignacion de nombre de columnas\n",
    "gestion_brad.columns = ['folio_gestion','firma_id','unegocio_id','credito','nombre_credito','telefono','tipo_telefono','fecha_gestion','usuario','nombre_usuario','dictamen','accion','resultado','accion_resultado','fecha_promesa','monto_promesa','comentarios']\n",
    "promesas_brad = gestion_brad.loc[gestion_brad['dictamen']=='PROMESA']"
   ]
  },
  {
   "cell_type": "code",
   "execution_count": 153,
   "metadata": {},
   "outputs": [
    {
     "output_type": "execute_result",
     "data": {
      "text/plain": [
       "    folio_gestion  firma_id  unegocio_id           credito  \\\n",
       "20        6604600         1            4  5063290226839017   \n",
       "\n",
       "                nombre_credito    telefono tipo_telefono       fecha_gestion  \\\n",
       "20  ORONA PONCE  ANGEL ALFREDO  6674234755       celular 2020-01-31 20:43:22   \n",
       "\n",
       "         usuario                    nombre_usuario dictamen  \\\n",
       "20  YHERNANDEZBA  ALEJANDRA YESENIA HERNANDEZ BITE  PROMESA   \n",
       "\n",
       "               accion                    resultado  \\\n",
       "20  LLAMADA A TITULAR  PROMESA DE PAGO LIQUIDACION   \n",
       "\n",
       "                                 accion_resultado fecha_promesa  \\\n",
       "20  LLAMADA A TITULAR-PROMESA DE PAGO LIQUIDACION    2020-01-31   \n",
       "\n",
       "    monto_promesa                                        comentarios  anio  \\\n",
       "20         2250.0  6674234755  se agenda pago por:2250 al dia 318...  2020   \n",
       "\n",
       "    mes            credito_unico  \n",
       "20    1  5063290226839017-1-2020  "
      ],
      "text/html": "<div>\n<style scoped>\n    .dataframe tbody tr th:only-of-type {\n        vertical-align: middle;\n    }\n\n    .dataframe tbody tr th {\n        vertical-align: top;\n    }\n\n    .dataframe thead th {\n        text-align: right;\n    }\n</style>\n<table border=\"1\" class=\"dataframe\">\n  <thead>\n    <tr style=\"text-align: right;\">\n      <th></th>\n      <th>folio_gestion</th>\n      <th>firma_id</th>\n      <th>unegocio_id</th>\n      <th>credito</th>\n      <th>nombre_credito</th>\n      <th>telefono</th>\n      <th>tipo_telefono</th>\n      <th>fecha_gestion</th>\n      <th>usuario</th>\n      <th>nombre_usuario</th>\n      <th>dictamen</th>\n      <th>accion</th>\n      <th>resultado</th>\n      <th>accion_resultado</th>\n      <th>fecha_promesa</th>\n      <th>monto_promesa</th>\n      <th>comentarios</th>\n      <th>anio</th>\n      <th>mes</th>\n      <th>credito_unico</th>\n    </tr>\n  </thead>\n  <tbody>\n    <tr>\n      <th>20</th>\n      <td>6604600</td>\n      <td>1</td>\n      <td>4</td>\n      <td>5063290226839017</td>\n      <td>ORONA PONCE  ANGEL ALFREDO</td>\n      <td>6674234755</td>\n      <td>celular</td>\n      <td>2020-01-31 20:43:22</td>\n      <td>YHERNANDEZBA</td>\n      <td>ALEJANDRA YESENIA HERNANDEZ BITE</td>\n      <td>PROMESA</td>\n      <td>LLAMADA A TITULAR</td>\n      <td>PROMESA DE PAGO LIQUIDACION</td>\n      <td>LLAMADA A TITULAR-PROMESA DE PAGO LIQUIDACION</td>\n      <td>2020-01-31</td>\n      <td>2250.0</td>\n      <td>6674234755  se agenda pago por:2250 al dia 318...</td>\n      <td>2020</td>\n      <td>1</td>\n      <td>5063290226839017-1-2020</td>\n    </tr>\n  </tbody>\n</table>\n</div>"
     },
     "metadata": {},
     "execution_count": 153
    }
   ],
   "source": [
    "#Ajustamos parametros para la gestion\n",
    "promesas_brad['monto_promesa'] = pd.to_numeric(promesas_brad['monto_promesa'])\n",
    "promesas_brad = promesas_brad.drop_duplicates(subset=['credito','usuario','fecha_promesa','monto_promesa'])\n",
    "promesas_brad['anio'] = [x[:4] for x in promesas_brad['fecha_promesa']]\n",
    "promesas_brad = promesas_brad.loc[(promesas_brad['anio']=='2020')]\n",
    "promesas_brad['fecha_promesa'] = pd.to_datetime(promesas_brad['fecha_promesa'],dayfirst=False)\n",
    "promesas_brad['mes'] = pd.DatetimeIndex(promesas_brad['fecha_promesa']).month\n",
    "promesas_brad['credito_unico'] = promesas_brad['credito'].map(str)+'-'+promesas_brad['mes'].map(str)+'-'+promesas_brad['anio'].map(str)\n",
    "promesas_brad.head(1)"
   ]
  },
  {
   "cell_type": "code",
   "execution_count": 154,
   "metadata": {},
   "outputs": [
    {
     "output_type": "execute_result",
     "data": {
      "text/plain": [
       "  PRODUCTO              TARJETA    PAGO                FECHA  PORCENTAJE  \\\n",
       "0     PLCC  0002869002607825000  1542.0  2020-07-30 00:00:00         0.1   \n",
       "\n",
       "   COMISION BUCKET  DESPACHO        MES  YEAR  MONTH  \\\n",
       "0     154.2      5  ENRIQUEZ 2020-07-01  2020      7   \n",
       "\n",
       "                credito_unico  \n",
       "0  0002869002607825000-7-2020  "
      ],
      "text/html": "<div>\n<style scoped>\n    .dataframe tbody tr th:only-of-type {\n        vertical-align: middle;\n    }\n\n    .dataframe tbody tr th {\n        vertical-align: top;\n    }\n\n    .dataframe thead th {\n        text-align: right;\n    }\n</style>\n<table border=\"1\" class=\"dataframe\">\n  <thead>\n    <tr style=\"text-align: right;\">\n      <th></th>\n      <th>PRODUCTO</th>\n      <th>TARJETA</th>\n      <th>PAGO</th>\n      <th>FECHA</th>\n      <th>PORCENTAJE</th>\n      <th>COMISION</th>\n      <th>BUCKET</th>\n      <th>DESPACHO</th>\n      <th>MES</th>\n      <th>YEAR</th>\n      <th>MONTH</th>\n      <th>credito_unico</th>\n    </tr>\n  </thead>\n  <tbody>\n    <tr>\n      <th>0</th>\n      <td>PLCC</td>\n      <td>0002869002607825000</td>\n      <td>1542.0</td>\n      <td>2020-07-30 00:00:00</td>\n      <td>0.1</td>\n      <td>154.2</td>\n      <td>5</td>\n      <td>ENRIQUEZ</td>\n      <td>2020-07-01</td>\n      <td>2020</td>\n      <td>7</td>\n      <td>0002869002607825000-7-2020</td>\n    </tr>\n  </tbody>\n</table>\n</div>"
     },
     "metadata": {},
     "execution_count": 154
    }
   ],
   "source": [
    "#Concatenamos los pagos de brad\n",
    "pagos_brad = pd.concat([pagos_brad_c0,pagos_brad_extra],ignore_index=True)\n",
    "pagos_brad = pagos_brad.loc[pagos_brad['FECHA'].map(str)!='00:00:00']\n",
    "pagos_brad['YEAR'] = pagos_brad['FECHA'].dt.year\n",
    "pagos_brad['MONTH'] = pagos_brad['FECHA'].dt.month\n",
    "pagos_brad['credito_unico'] = pagos_brad['TARJETA'].map(str)+'-'+pagos_brad['MONTH'].map(str)+'-'+pagos_brad['YEAR'].map(str)\n",
    "pagos_brad.head(1)"
   ]
  },
  {
   "cell_type": "code",
   "execution_count": 155,
   "metadata": {},
   "outputs": [],
   "source": [
    "pagos_brad2 = pd.pivot_table(pagos_brad,index=['TARJETA','FECHA','BUCKET','credito_unico','MES'],values=['PAGO','COMISION'],aggfunc=np.sum)\n",
    "pagos_brad2 = pd.DataFrame(pagos_brad2.to_records())"
   ]
  },
  {
   "cell_type": "code",
   "execution_count": 161,
   "metadata": {},
   "outputs": [
    {
     "output_type": "execute_result",
     "data": {
      "text/plain": [
       "   folio_gestion  firma_id  unegocio_id           credito  \\\n",
       "0        6604600         1            4  5063290226839017   \n",
       "\n",
       "               nombre_credito    telefono tipo_telefono       fecha_gestion  \\\n",
       "0  ORONA PONCE  ANGEL ALFREDO  6674234755       celular 2020-01-31 20:43:22   \n",
       "\n",
       "        usuario                    nombre_usuario  ...  \\\n",
       "0  YHERNANDEZBA  ALEJANDRA YESENIA HERNANDEZ BITE  ...   \n",
       "\n",
       "                                         comentarios  anio mes  \\\n",
       "0  6674234755  se agenda pago por:2250 al dia 318...  2020   1   \n",
       "\n",
       "             credito_unico           TARJETA      FECHA BUCKET        MES  \\\n",
       "0  5063290226839017-1-2020  5063290226839017 2020-01-31      A 2020-01-01   \n",
       "\n",
       "   COMISION    PAGO  \n",
       "0     607.5  2250.0  \n",
       "\n",
       "[1 rows x 26 columns]"
      ],
      "text/html": "<div>\n<style scoped>\n    .dataframe tbody tr th:only-of-type {\n        vertical-align: middle;\n    }\n\n    .dataframe tbody tr th {\n        vertical-align: top;\n    }\n\n    .dataframe thead th {\n        text-align: right;\n    }\n</style>\n<table border=\"1\" class=\"dataframe\">\n  <thead>\n    <tr style=\"text-align: right;\">\n      <th></th>\n      <th>folio_gestion</th>\n      <th>firma_id</th>\n      <th>unegocio_id</th>\n      <th>credito</th>\n      <th>nombre_credito</th>\n      <th>telefono</th>\n      <th>tipo_telefono</th>\n      <th>fecha_gestion</th>\n      <th>usuario</th>\n      <th>nombre_usuario</th>\n      <th>...</th>\n      <th>comentarios</th>\n      <th>anio</th>\n      <th>mes</th>\n      <th>credito_unico</th>\n      <th>TARJETA</th>\n      <th>FECHA</th>\n      <th>BUCKET</th>\n      <th>MES</th>\n      <th>COMISION</th>\n      <th>PAGO</th>\n    </tr>\n  </thead>\n  <tbody>\n    <tr>\n      <th>0</th>\n      <td>6604600</td>\n      <td>1</td>\n      <td>4</td>\n      <td>5063290226839017</td>\n      <td>ORONA PONCE  ANGEL ALFREDO</td>\n      <td>6674234755</td>\n      <td>celular</td>\n      <td>2020-01-31 20:43:22</td>\n      <td>YHERNANDEZBA</td>\n      <td>ALEJANDRA YESENIA HERNANDEZ BITE</td>\n      <td>...</td>\n      <td>6674234755  se agenda pago por:2250 al dia 318...</td>\n      <td>2020</td>\n      <td>1</td>\n      <td>5063290226839017-1-2020</td>\n      <td>5063290226839017</td>\n      <td>2020-01-31</td>\n      <td>A</td>\n      <td>2020-01-01</td>\n      <td>607.5</td>\n      <td>2250.0</td>\n    </tr>\n  </tbody>\n</table>\n<p>1 rows × 26 columns</p>\n</div>"
     },
     "metadata": {},
     "execution_count": 161
    }
   ],
   "source": [
    "#Hacemos la union entre promesas y pagos\n",
    "promesas_pagos_brad = pd.merge(promesas_brad,pagos_brad2,how='left',on='credito_unico')\n",
    "promesas_pagos_brad = promesas_pagos_brad.drop_duplicates(subset=['credito','fecha_promesa','FECHA','PAGO','usuario'])\n",
    "promesas_pagos_brad['usuario'] = [x.rstrip() for x in promesas_pagos_brad['usuario']]\n",
    "promesas_pagos_brad.head(1)"
   ]
  },
  {
   "cell_type": "code",
   "execution_count": 165,
   "metadata": {},
   "outputs": [],
   "source": [
    "gestor_mes = pd.pivot_table(promesas_pagos_brad,index=['usuario'],values=['monto_promesa'],columns=['mes'],aggfunc=np.sum)\n",
    "gestor_mes = pd.DataFrame(gestor_mes.to_records())\n",
    "gestor_mes = gestor_mes[gestor_mes.isnull().sum(axis=1) < 8]"
   ]
  },
  {
   "cell_type": "code",
   "execution_count": 163,
   "metadata": {},
   "outputs": [],
   "source": [
    "def cap_data(df):\n",
    "    for col in df.columns:\n",
    "        print(\"capping the \",col)\n",
    "        if (((df[col].dtype)=='float64') | ((df[col].dtype)=='int64')):\n",
    "            percentiles = df[col].quantile([0.01,0.99]).values\n",
    "            df[col][df[col] <= percentiles[0]] = percentiles[0]\n",
    "            df[col][df[col] >= percentiles[1]] = percentiles[1]\n",
    "        else:\n",
    "            df[col]=df[col]\n",
    "    return df"
   ]
  },
  {
   "cell_type": "code",
   "execution_count": 166,
   "metadata": {},
   "outputs": [
    {
     "output_type": "stream",
     "name": "stdout",
     "text": [
      "capping the  usuario\ncapping the  ('monto_promesa', 1)\ncapping the  ('monto_promesa', 2)\ncapping the  ('monto_promesa', 3)\ncapping the  ('monto_promesa', 4)\ncapping the  ('monto_promesa', 5)\ncapping the  ('monto_promesa', 6)\ncapping the  ('monto_promesa', 7)\ncapping the  ('monto_promesa', 8)\ncapping the  ('monto_promesa', 9)\ncapping the  ('monto_promesa', 10)\ncapping the  ('monto_promesa', 11)\ncapping the  ('monto_promesa', 12)\ncapping the  ('monto_promesa', 'All')\n"
     ]
    }
   ],
   "source": [
    "final_df=cap_data(gestor_mes)"
   ]
  }
 ]
}