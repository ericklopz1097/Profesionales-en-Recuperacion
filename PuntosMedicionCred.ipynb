{
 "metadata": {
  "language_info": {
   "codemirror_mode": {
    "name": "ipython",
    "version": 3
   },
   "file_extension": ".py",
   "mimetype": "text/x-python",
   "name": "python",
   "nbconvert_exporter": "python",
   "pygments_lexer": "ipython3",
   "version": "3.8.5-final"
  },
  "orig_nbformat": 2,
  "kernelspec": {
   "name": "python3",
   "display_name": "Python 3",
   "language": "python"
  }
 },
 "nbformat": 4,
 "nbformat_minor": 2,
 "cells": [
  {
   "cell_type": "code",
   "execution_count": 1,
   "metadata": {},
   "outputs": [],
   "source": [
    "import pandas as pd\n",
    "import numpy as np\n",
    "import mysql.connector\n",
    "import os\n",
    "from mysql.connector import Error\n",
    "from datetime import datetime, date, timedelta\n",
    "import re\n",
    "from IPython.core.interactiveshell import InteractiveShell\n",
    "InteractiveShell.ast_node_interactivity = \"all\""
   ]
  },
  {
   "cell_type": "code",
   "execution_count": 2,
   "metadata": {},
   "outputs": [],
   "source": [
    "#Definimos la ruta en donde queremos guardar los archivos\n",
    "ruta_guardar = '/home/estadistico/Documents/Erick/Reportes diarios'\n",
    "ruta_pagos = '/home/estadistico/Documents/Erick'\n",
    "mes = 20201201\n",
    "mes2 = 'Diciembre2020'\n",
    "mes3 = pd.to_datetime('01/12/2020',dayfirst=True)\n",
    "prim_sem_mes = 49"
   ]
  },
  {
   "cell_type": "code",
   "execution_count": 3,
   "metadata": {},
   "outputs": [],
   "source": [
    "#Agregamos las variables a ocupar\n",
    "servidor = '192.168.15.12'\n",
    "puerto = int('3306')\n",
    "usuario = 'estadisticas'\n",
    "contrasena = 'estadisticas8474'\n",
    "base = 'procesos_externos'"
   ]
  },
  {
   "cell_type": "code",
   "execution_count": 4,
   "metadata": {},
   "outputs": [],
   "source": [
    "#Lectura pagos Credifiel\n",
    "sheet_cred = os.listdir(''+ruta_pagos+'/'+str(mes2)+'/Credifiel/Pagos/')\n",
    "pagos_cred = pd.DataFrame()\n",
    "for i in sheet_cred:\n",
    "    pagos_cred_new = pd.read_excel(''+ruta_pagos+'/'+str(mes2)+'/Credifiel/Pagos/'+i+'')\n",
    "    pagos_cred = pd.concat([pagos_cred,pagos_cred_new],ignore_index=True)\n",
    "pagos_cred = pagos_cred.iloc[:,0:5]\n",
    "pagos_cred2 = pd.pivot_table(pagos_cred,index=['ID','FECHA'],values=['IMPORTE'],aggfunc=np.sum)\n",
    "pagos_cred2 = pd.DataFrame(pagos_cred2.to_records())"
   ]
  },
  {
   "cell_type": "code",
   "execution_count": 5,
   "metadata": {},
   "outputs": [],
   "source": [
    "#Lectura asignacion Credifiel\n",
    "sheet_cred2 = os.listdir(''+ruta_pagos+'/'+str(mes2)+'/Credifiel/Asignacion/')\n",
    "asignacion_cred = pd.DataFrame()\n",
    "for j in sheet_cred2:\n",
    "    asignacion_cred_new = pd.read_excel(''+ruta_pagos+'/'+str(mes2)+'/Credifiel/Asignacion/'+j+'')\n",
    "    asignacion_cred = pd.concat([asignacion_cred,asignacion_cred_new],ignore_index=True)\n",
    "asignacion_cred = asignacion_cred.loc[:,['CREDITO','ARANCEL']]\n",
    "#asignacion_cred2 = pd.pivot_table(asignacion_cred,index=['ID','FECHA'],values=['IMPORTE'],aggfunc=np.sum)\n",
    "#asignacion_cred2 = pd.DataFrame(asignacion_cred2.to_records())"
   ]
  },
  {
   "cell_type": "code",
   "execution_count": 6,
   "metadata": {},
   "outputs": [],
   "source": [
    "#Asignamos valores a los parametros \\n\"\n",
    "today = date.today().strftime('%Y%m%d')\n",
    "now = datetime.now().strftime('%d-%m-%Y %H:%M')\n",
    "hoy = np.datetime64('today')\n",
    "ayer = np.datetime64(date.today() - timedelta(1))\n",
    "today2 = date.today().strftime('%d-%m-%Y')"
   ]
  },
  {
   "cell_type": "code",
   "execution_count": 7,
   "metadata": {},
   "outputs": [],
   "source": [
    "#Hacemos la conexion con el servidor\\n\",\n",
    "try: \n",
    "    conn = mysql.connector.connect(user=usuario,\n",
    "                               password=contrasena,\n",
    "                               host=servidor,\n",
    "                               port=3306,\n",
    "                               database=base)\n",
    "    conn.set_charset_collation('latin1')\n",
    "except mysql.Error as e:\n",
    "    print(\"Failed to execute stored procedure: {}\".format(error))\n",
    "\n",
    "cursor = conn.cursor()"
   ]
  },
  {
   "cell_type": "code",
   "execution_count": 8,
   "metadata": {},
   "outputs": [],
   "source": [
    "#Funcion para hacer la consulta sql, ya sea de gestion o de asignacion en donde requerimos tres parametros, la tabla de donde vamos a sacar la consulta, en caso de asignacin requerimos los otros dos parametros fecha inicial y fecha final\n",
    "def consulta_sql(table,from_date=None,to_date=None,campana=None):\n",
    "    if campana is None:\n",
    "        if from_date is None:\n",
    "            sql_mes = cursor.callproc(table,)\n",
    "            for result in cursor.stored_results():\n",
    "                sql_mes = pd.DataFrame(result.fetchall())\n",
    "        else:\n",
    "            sql_mes = cursor.callproc(table, [from_date,to_date])\n",
    "            for result in cursor.stored_results():\n",
    "                sql_mes = pd.DataFrame(result.fetchall())\n",
    "    else:\n",
    "        sql_mes = cursor.callproc(table, [from_date,to_date,campana])\n",
    "        for result in cursor.stored_results():\n",
    "                sql_mes = pd.DataFrame(result.fetchall())\n",
    "    sql_mes = sql_mes.drop_duplicates()\n",
    "    return sql_mes"
   ]
  },
  {
   "cell_type": "code",
   "execution_count": 9,
   "metadata": {},
   "outputs": [],
   "source": [
    "#Funcion para transformar varias columnas a numero\n",
    "def transform_numeric(df,cols):\n",
    "    return df[cols].apply(pd.to_numeric, errors='coerce')\n",
    "\n",
    "#Funcion que convierte a dataframe y rellena espacios con 0\n",
    "def to_dataframe(df):\n",
    "    df = pd.DataFrame(df.to_records())\n",
    "    df.fillna(0,inplace=True)\n",
    "    return df\n",
    "\n",
    "#Funcion que quita el % del string\n",
    "def percent_tonumeric(df,cols):\n",
    "    for c in cols:\n",
    "        df[c] = [x[:-2] for x in df[c]]\n",
    "    return transform_numeric(df,cols)"
   ]
  },
  {
   "source": [
    "# Performance Credifiel"
   ],
   "cell_type": "markdown",
   "metadata": {}
  },
  {
   "cell_type": "code",
   "execution_count": 10,
   "metadata": {},
   "outputs": [],
   "source": [
    "#Hacemos la consulta referente al performance del Gestor\n",
    "performance_all = consulta_sql('procesos_externos.all_rpt_agent_performance',20200101,today)\n",
    "performance_all.columns = ['fecha','usuario','nombre_usuario','user_group','llamadas','aht','ocupacion','adherencia','login_vici','logout_vici','staff_time','wait_time','talk_time','dispo_time','pause','login','manual','gestion','agua','alimentos','sanitario','retroalimentacion','tranferencia','validacion','whatsapp','incumplimiento','recordatorios','capacitacion','sistemas','lagged','tipificando','*']"
   ]
  },
  {
   "cell_type": "code",
   "execution_count": 11,
   "metadata": {},
   "outputs": [],
   "source": [
    "performance_cred = performance_all.loc[performance_all['user_group']=='AFINES']\n",
    "performance_cred[['ocupacion','adherencia']] = percent_tonumeric(performance_cred,['ocupacion','adherencia'])"
   ]
  },
  {
   "cell_type": "code",
   "execution_count": 12,
   "metadata": {},
   "outputs": [],
   "source": [
    "performance_cred['hora_login'] = [int(x[:2]) for x in performance_cred['login_vici']]\n",
    "performance_cred['hora_logout'] = [int(x[:2]) for x in performance_cred['logout_vici']]\n",
    "performance_cred['turno'] = np.where((performance_cred['hora_logout']<=14)&(performance_cred['hora_logout']-performance_cred['hora_login']<=8),'M',\n",
    "                                    np.where((performance_cred['hora_logout']>17)&(performance_cred['hora_logout']-performance_cred['hora_login']<=8),'V','Mixto'))"
   ]
  },
  {
   "cell_type": "code",
   "execution_count": 13,
   "metadata": {},
   "outputs": [
    {
     "output_type": "execute_result",
     "data": {
      "text/plain": [
       "           fecha       usuario                  nombre_usuario user_group  \\\n",
       "1329  2020-10-13  GONMORALESBM  GONZALEZ MORALES BRENDA MARLEN     AFINES   \n",
       "\n",
       "      llamadas       aht  ocupacion  adherencia login_vici logout_vici  ...  \\\n",
       "1329       312  00:00:56      40.54       72.42   07:09:34    16:50:10  ...   \n",
       "\n",
       "     capacitacion  sistemas    lagged tipificando         * hora_login  \\\n",
       "1329     00:00:00  00:00:00  00:00:00    00:07:52  00:03:45          7   \n",
       "\n",
       "     hora_logout  turno horas_trabajadas llamadas_hora  \n",
       "1329          16  Mixto                9          34.7  \n",
       "\n",
       "[1 rows x 37 columns]"
      ],
      "text/html": "<div>\n<style scoped>\n    .dataframe tbody tr th:only-of-type {\n        vertical-align: middle;\n    }\n\n    .dataframe tbody tr th {\n        vertical-align: top;\n    }\n\n    .dataframe thead th {\n        text-align: right;\n    }\n</style>\n<table border=\"1\" class=\"dataframe\">\n  <thead>\n    <tr style=\"text-align: right;\">\n      <th></th>\n      <th>fecha</th>\n      <th>usuario</th>\n      <th>nombre_usuario</th>\n      <th>user_group</th>\n      <th>llamadas</th>\n      <th>aht</th>\n      <th>ocupacion</th>\n      <th>adherencia</th>\n      <th>login_vici</th>\n      <th>logout_vici</th>\n      <th>...</th>\n      <th>capacitacion</th>\n      <th>sistemas</th>\n      <th>lagged</th>\n      <th>tipificando</th>\n      <th>*</th>\n      <th>hora_login</th>\n      <th>hora_logout</th>\n      <th>turno</th>\n      <th>horas_trabajadas</th>\n      <th>llamadas_hora</th>\n    </tr>\n  </thead>\n  <tbody>\n    <tr>\n      <th>1329</th>\n      <td>2020-10-13</td>\n      <td>GONMORALESBM</td>\n      <td>GONZALEZ MORALES BRENDA MARLEN</td>\n      <td>AFINES</td>\n      <td>312</td>\n      <td>00:00:56</td>\n      <td>40.54</td>\n      <td>72.42</td>\n      <td>07:09:34</td>\n      <td>16:50:10</td>\n      <td>...</td>\n      <td>00:00:00</td>\n      <td>00:00:00</td>\n      <td>00:00:00</td>\n      <td>00:07:52</td>\n      <td>00:03:45</td>\n      <td>7</td>\n      <td>16</td>\n      <td>Mixto</td>\n      <td>9</td>\n      <td>34.7</td>\n    </tr>\n  </tbody>\n</table>\n<p>1 rows × 37 columns</p>\n</div>"
     },
     "metadata": {},
     "execution_count": 13
    }
   ],
   "source": [
    "performance_cred['horas_trabajadas'] = performance_cred['hora_logout']-performance_cred['hora_login']\n",
    "performance_cred['llamadas_hora'] = performance_cred['llamadas']/performance_cred['horas_trabajadas']\n",
    "performance_cred['llamadas_hora'] = performance_cred['llamadas_hora'].round(1)\n",
    "performance_cred.head(1)"
   ]
  },
  {
   "cell_type": "code",
   "execution_count": 38,
   "metadata": {},
   "outputs": [
    {
     "output_type": "execute_result",
     "data": {
      "text/plain": [
       "   turno  ('sum', 'horas_trabajadas')  ('sum', 'llamadas')  \\\n",
       "0      M                          825                24136   \n",
       "1  Mixto                         1005                33411   \n",
       "2      V                          254                 7340   \n",
       "\n",
       "   ('sum', 'ocupacion')  ('mean', 'horas_trabajadas')  ('mean', 'llamadas')  \\\n",
       "0               5172.13                      5.892857            172.400000   \n",
       "1               3143.76                     11.686047            388.500000   \n",
       "2               1452.48                      6.512821            188.205128   \n",
       "\n",
       "   ('mean', 'ocupacion')  ('count', 'horas_trabajadas')  \\\n",
       "0              36.943786                            140   \n",
       "1              36.555349                             86   \n",
       "2              37.243077                             39   \n",
       "\n",
       "   ('count', 'llamadas')  ('count', 'ocupacion')  ('min', 'horas_trabajadas')  \\\n",
       "0                    140                     140                            0   \n",
       "1                     86                      86                            1   \n",
       "2                     39                      39                            5   \n",
       "\n",
       "   ('min', 'llamadas')  ('min', 'ocupacion')  ('max', 'horas_trabajadas')  \\\n",
       "0                    0                  0.00                            8   \n",
       "1                   31                 13.79                           14   \n",
       "2                   79                 14.67                            8   \n",
       "\n",
       "   ('max', 'llamadas')  ('max', 'ocupacion')  \n",
       "0                  654                 60.21  \n",
       "1                 1057                 57.35  \n",
       "2                  593                 73.74  "
      ],
      "text/html": "<div>\n<style scoped>\n    .dataframe tbody tr th:only-of-type {\n        vertical-align: middle;\n    }\n\n    .dataframe tbody tr th {\n        vertical-align: top;\n    }\n\n    .dataframe thead th {\n        text-align: right;\n    }\n</style>\n<table border=\"1\" class=\"dataframe\">\n  <thead>\n    <tr style=\"text-align: right;\">\n      <th></th>\n      <th>turno</th>\n      <th>('sum', 'horas_trabajadas')</th>\n      <th>('sum', 'llamadas')</th>\n      <th>('sum', 'ocupacion')</th>\n      <th>('mean', 'horas_trabajadas')</th>\n      <th>('mean', 'llamadas')</th>\n      <th>('mean', 'ocupacion')</th>\n      <th>('count', 'horas_trabajadas')</th>\n      <th>('count', 'llamadas')</th>\n      <th>('count', 'ocupacion')</th>\n      <th>('min', 'horas_trabajadas')</th>\n      <th>('min', 'llamadas')</th>\n      <th>('min', 'ocupacion')</th>\n      <th>('max', 'horas_trabajadas')</th>\n      <th>('max', 'llamadas')</th>\n      <th>('max', 'ocupacion')</th>\n    </tr>\n  </thead>\n  <tbody>\n    <tr>\n      <th>0</th>\n      <td>M</td>\n      <td>825</td>\n      <td>24136</td>\n      <td>5172.13</td>\n      <td>5.892857</td>\n      <td>172.400000</td>\n      <td>36.943786</td>\n      <td>140</td>\n      <td>140</td>\n      <td>140</td>\n      <td>0</td>\n      <td>0</td>\n      <td>0.00</td>\n      <td>8</td>\n      <td>654</td>\n      <td>60.21</td>\n    </tr>\n    <tr>\n      <th>1</th>\n      <td>Mixto</td>\n      <td>1005</td>\n      <td>33411</td>\n      <td>3143.76</td>\n      <td>11.686047</td>\n      <td>388.500000</td>\n      <td>36.555349</td>\n      <td>86</td>\n      <td>86</td>\n      <td>86</td>\n      <td>1</td>\n      <td>31</td>\n      <td>13.79</td>\n      <td>14</td>\n      <td>1057</td>\n      <td>57.35</td>\n    </tr>\n    <tr>\n      <th>2</th>\n      <td>V</td>\n      <td>254</td>\n      <td>7340</td>\n      <td>1452.48</td>\n      <td>6.512821</td>\n      <td>188.205128</td>\n      <td>37.243077</td>\n      <td>39</td>\n      <td>39</td>\n      <td>39</td>\n      <td>5</td>\n      <td>79</td>\n      <td>14.67</td>\n      <td>8</td>\n      <td>593</td>\n      <td>73.74</td>\n    </tr>\n  </tbody>\n</table>\n</div>"
     },
     "metadata": {},
     "execution_count": 38
    }
   ],
   "source": [
    "control_performance_cred_turno = pd.pivot_table(performance_cred,index=['turno'],values=['llamadas','ocupacion','horas_trabajadas'],aggfunc=[np.sum,np.mean,'count',min,max])\n",
    "control_performance_cred_turno = to_dataframe(control_performance_cred_turno)\n",
    "#control_performance_cred_turno = control_performance_cred_turno.iloc[:,[0,1,2,3,4,5,6,7,8,11,12,13,14,15,16]]\n",
    "#control_performance_cred_turno.columns = ['Gestor','Turno','SumLlamadasDia','SumLlamadasHora','SumOcupacion','PromedioLlamadasDia','PromedioLlamadasHora','PromedioOcupacion','DiasAsitencia','MinLlamadasDia','MinLlamadasHora','MinOcupacion','MaxLlamadasDia','MaxLlamadasHora','MaxOcupacion']\n",
    "control_performance_cred_turno"
   ]
  },
  {
   "cell_type": "code",
   "execution_count": 40,
   "metadata": {},
   "outputs": [
    {
     "output_type": "execute_result",
     "data": {
      "text/plain": [
       "                   nombre_usuario  ('sum', 'horas_trabajadas')  \\\n",
       "0   AGUILAR RIOS DANIEL ALEJANDRO                           30   \n",
       "1            GARCIA CHAVEZ BRAYAN                          240   \n",
       "2  GONZALEZ MORALES BRENDA MARLEN                          334   \n",
       "\n",
       "   ('sum', 'llamadas')  ('sum', 'ocupacion')  ('mean', 'horas_trabajadas')  \\\n",
       "0                 1580                278.35                      5.000000   \n",
       "1                 3416                819.79                      8.571429   \n",
       "2                 7470               1384.24                      8.146341   \n",
       "\n",
       "   ('mean', 'llamadas')  ('mean', 'ocupacion')  ('count', 'horas_trabajadas')  \\\n",
       "0            263.333333              46.391667                              6   \n",
       "1            122.000000              29.278214                             28   \n",
       "2            182.195122              33.761951                             41   \n",
       "\n",
       "   ('count', 'llamadas')  ('count', 'ocupacion')  ('min', 'horas_trabajadas')  \\\n",
       "0                      6                       6                            2   \n",
       "1                     28                      28                            1   \n",
       "2                     41                      41                            5   \n",
       "\n",
       "   ('min', 'llamadas')  ('min', 'ocupacion')  ('max', 'horas_trabajadas')  \\\n",
       "0                   81                 34.48                            7   \n",
       "1                   14                 14.81                           14   \n",
       "2                   31                 13.79                           13   \n",
       "\n",
       "   ('max', 'llamadas')  ('max', 'ocupacion')  \n",
       "0                  377                 58.45  \n",
       "1                  306                 45.55  \n",
       "2                  607                 54.07  "
      ],
      "text/html": "<div>\n<style scoped>\n    .dataframe tbody tr th:only-of-type {\n        vertical-align: middle;\n    }\n\n    .dataframe tbody tr th {\n        vertical-align: top;\n    }\n\n    .dataframe thead th {\n        text-align: right;\n    }\n</style>\n<table border=\"1\" class=\"dataframe\">\n  <thead>\n    <tr style=\"text-align: right;\">\n      <th></th>\n      <th>nombre_usuario</th>\n      <th>('sum', 'horas_trabajadas')</th>\n      <th>('sum', 'llamadas')</th>\n      <th>('sum', 'ocupacion')</th>\n      <th>('mean', 'horas_trabajadas')</th>\n      <th>('mean', 'llamadas')</th>\n      <th>('mean', 'ocupacion')</th>\n      <th>('count', 'horas_trabajadas')</th>\n      <th>('count', 'llamadas')</th>\n      <th>('count', 'ocupacion')</th>\n      <th>('min', 'horas_trabajadas')</th>\n      <th>('min', 'llamadas')</th>\n      <th>('min', 'ocupacion')</th>\n      <th>('max', 'horas_trabajadas')</th>\n      <th>('max', 'llamadas')</th>\n      <th>('max', 'ocupacion')</th>\n    </tr>\n  </thead>\n  <tbody>\n    <tr>\n      <th>0</th>\n      <td>AGUILAR RIOS DANIEL ALEJANDRO</td>\n      <td>30</td>\n      <td>1580</td>\n      <td>278.35</td>\n      <td>5.000000</td>\n      <td>263.333333</td>\n      <td>46.391667</td>\n      <td>6</td>\n      <td>6</td>\n      <td>6</td>\n      <td>2</td>\n      <td>81</td>\n      <td>34.48</td>\n      <td>7</td>\n      <td>377</td>\n      <td>58.45</td>\n    </tr>\n    <tr>\n      <th>1</th>\n      <td>GARCIA CHAVEZ BRAYAN</td>\n      <td>240</td>\n      <td>3416</td>\n      <td>819.79</td>\n      <td>8.571429</td>\n      <td>122.000000</td>\n      <td>29.278214</td>\n      <td>28</td>\n      <td>28</td>\n      <td>28</td>\n      <td>1</td>\n      <td>14</td>\n      <td>14.81</td>\n      <td>14</td>\n      <td>306</td>\n      <td>45.55</td>\n    </tr>\n    <tr>\n      <th>2</th>\n      <td>GONZALEZ MORALES BRENDA MARLEN</td>\n      <td>334</td>\n      <td>7470</td>\n      <td>1384.24</td>\n      <td>8.146341</td>\n      <td>182.195122</td>\n      <td>33.761951</td>\n      <td>41</td>\n      <td>41</td>\n      <td>41</td>\n      <td>5</td>\n      <td>31</td>\n      <td>13.79</td>\n      <td>13</td>\n      <td>607</td>\n      <td>54.07</td>\n    </tr>\n  </tbody>\n</table>\n</div>"
     },
     "metadata": {},
     "execution_count": 40
    }
   ],
   "source": [
    "control_performance_cred = pd.pivot_table(performance_cred,index=['nombre_usuario'],values=['llamadas','ocupacion','horas_trabajadas'],aggfunc=[np.sum,np.mean,'count',min,max])\n",
    "control_performance_cred = to_dataframe(control_performance_cred)\n",
    "#control_performance_cred = control_performance_cred.iloc[:,[0,1,2,6,7,8]]\n",
    "#control_performance_cred.columns = ['Gestor','SumHorasTrabajadas','SumLlamadasDia','PromedioLlamadasDia','PromedioLlamadasHora','PromedioOcupacion']\n",
    "control_performance_cred.head(3)"
   ]
  },
  {
   "cell_type": "code",
   "execution_count": 42,
   "metadata": {},
   "outputs": [],
   "source": [
    "control_performance_cred2 = control_performance_cred[np.abs(control_performance_cred - \n",
    "control_performance_cred.mean()) <= (3 * control_performance_cred.std())]\n",
    "#cols = ['']\n",
    "control_performance_cred2 = control_performance_cred2.replace({'0':np.nan, 0:np.nan})\n",
    "control_performance_cred2.loc['mean'] = control_performance_cred2.mean().round(2)"
   ]
  },
  {
   "cell_type": "code",
   "execution_count": 36,
   "metadata": {},
   "outputs": [],
   "source": [
    "col = ['Gestor', 'Turno', 'SumLlamadasDia', 'SumLlamadasHora', 'SumOcupacion',\n",
    "       'PromedioLlamadasDia', 'PromedioLlamadasHora', 'PromedioOcupacion',\n",
    "       'DiasAsitencia', 'MinLlamadasDia', 'MinLlamadasHora', 'MinOcupacion',\n",
    "       'MaxLlamadasDia', 'MaxLlamadasHora', 'MaxOcupacion']\n",
    "control_performance_cred_turno3 = control_performance_cred_turno[np.abs(control_performance_cred_turno - \n",
    "control_performance_cred_turno.mean()) <= (3 * control_performance_cred_turno.std())]\n",
    "#cols = ['']\n",
    "control_performance_cred_turno3 = control_performance_cred_turno3.replace({'0':np.nan, 0:np.nan})"
   ]
  },
  {
   "cell_type": "code",
   "execution_count": 37,
   "metadata": {},
   "outputs": [
    {
     "output_type": "execute_result",
     "data": {
      "text/plain": [
       "      turno  ('sum', 'horas_trabajadas')  ('sum', 'llamadas')  \\\n",
       "0       NaN                        825.0              24136.0   \n",
       "1       NaN                       1005.0              33411.0   \n",
       "2       NaN                        254.0               7340.0   \n",
       "3       NaN                       2084.0              64887.0   \n",
       "mean    NaN                       1042.0              32443.5   \n",
       "\n",
       "      ('sum', 'ocupacion')  ('mean', 'horas_trabajadas')  \\\n",
       "0                  5172.13                      5.892857   \n",
       "1                  3143.76                     11.686047   \n",
       "2                  1452.48                      6.512821   \n",
       "3                  9768.37                      7.864151   \n",
       "mean               4884.18                      7.990000   \n",
       "\n",
       "      ('mean', 'llamadas')  ('mean', 'ocupacion')  \\\n",
       "0               172.400000              36.943786   \n",
       "1               388.500000              36.555349   \n",
       "2               188.205128              37.243077   \n",
       "3               244.856604              36.861774   \n",
       "mean            248.490000              36.900000   \n",
       "\n",
       "      ('count', 'horas_trabajadas')  ('count', 'llamadas')  \\\n",
       "0                             140.0                  140.0   \n",
       "1                              86.0                   86.0   \n",
       "2                              39.0                   39.0   \n",
       "3                             265.0                  265.0   \n",
       "mean                          132.5                  132.5   \n",
       "\n",
       "      ('count', 'ocupacion')  ('min', 'horas_trabajadas')  \\\n",
       "0                      140.0                          NaN   \n",
       "1                       86.0                          1.0   \n",
       "2                       39.0                          5.0   \n",
       "3                      265.0                          NaN   \n",
       "mean                   132.5                          3.0   \n",
       "\n",
       "      ('min', 'llamadas')  ('min', 'ocupacion')  ('max', 'horas_trabajadas')  \\\n",
       "0                     NaN                   NaN                          8.0   \n",
       "1                    31.0                 13.79                         14.0   \n",
       "2                    79.0                 14.67                          8.0   \n",
       "3                     NaN                   NaN                         14.0   \n",
       "mean                 55.0                 14.23                         11.0   \n",
       "\n",
       "      ('max', 'llamadas')  ('max', 'ocupacion')  \n",
       "0                  654.00                 60.21  \n",
       "1                 1057.00                 57.35  \n",
       "2                  593.00                 73.74  \n",
       "3                 1057.00                 73.74  \n",
       "mean               840.25                 66.26  "
      ],
      "text/html": "<div>\n<style scoped>\n    .dataframe tbody tr th:only-of-type {\n        vertical-align: middle;\n    }\n\n    .dataframe tbody tr th {\n        vertical-align: top;\n    }\n\n    .dataframe thead th {\n        text-align: right;\n    }\n</style>\n<table border=\"1\" class=\"dataframe\">\n  <thead>\n    <tr style=\"text-align: right;\">\n      <th></th>\n      <th>turno</th>\n      <th>('sum', 'horas_trabajadas')</th>\n      <th>('sum', 'llamadas')</th>\n      <th>('sum', 'ocupacion')</th>\n      <th>('mean', 'horas_trabajadas')</th>\n      <th>('mean', 'llamadas')</th>\n      <th>('mean', 'ocupacion')</th>\n      <th>('count', 'horas_trabajadas')</th>\n      <th>('count', 'llamadas')</th>\n      <th>('count', 'ocupacion')</th>\n      <th>('min', 'horas_trabajadas')</th>\n      <th>('min', 'llamadas')</th>\n      <th>('min', 'ocupacion')</th>\n      <th>('max', 'horas_trabajadas')</th>\n      <th>('max', 'llamadas')</th>\n      <th>('max', 'ocupacion')</th>\n    </tr>\n  </thead>\n  <tbody>\n    <tr>\n      <th>0</th>\n      <td>NaN</td>\n      <td>825.0</td>\n      <td>24136.0</td>\n      <td>5172.13</td>\n      <td>5.892857</td>\n      <td>172.400000</td>\n      <td>36.943786</td>\n      <td>140.0</td>\n      <td>140.0</td>\n      <td>140.0</td>\n      <td>NaN</td>\n      <td>NaN</td>\n      <td>NaN</td>\n      <td>8.0</td>\n      <td>654.00</td>\n      <td>60.21</td>\n    </tr>\n    <tr>\n      <th>1</th>\n      <td>NaN</td>\n      <td>1005.0</td>\n      <td>33411.0</td>\n      <td>3143.76</td>\n      <td>11.686047</td>\n      <td>388.500000</td>\n      <td>36.555349</td>\n      <td>86.0</td>\n      <td>86.0</td>\n      <td>86.0</td>\n      <td>1.0</td>\n      <td>31.0</td>\n      <td>13.79</td>\n      <td>14.0</td>\n      <td>1057.00</td>\n      <td>57.35</td>\n    </tr>\n    <tr>\n      <th>2</th>\n      <td>NaN</td>\n      <td>254.0</td>\n      <td>7340.0</td>\n      <td>1452.48</td>\n      <td>6.512821</td>\n      <td>188.205128</td>\n      <td>37.243077</td>\n      <td>39.0</td>\n      <td>39.0</td>\n      <td>39.0</td>\n      <td>5.0</td>\n      <td>79.0</td>\n      <td>14.67</td>\n      <td>8.0</td>\n      <td>593.00</td>\n      <td>73.74</td>\n    </tr>\n    <tr>\n      <th>3</th>\n      <td>NaN</td>\n      <td>2084.0</td>\n      <td>64887.0</td>\n      <td>9768.37</td>\n      <td>7.864151</td>\n      <td>244.856604</td>\n      <td>36.861774</td>\n      <td>265.0</td>\n      <td>265.0</td>\n      <td>265.0</td>\n      <td>NaN</td>\n      <td>NaN</td>\n      <td>NaN</td>\n      <td>14.0</td>\n      <td>1057.00</td>\n      <td>73.74</td>\n    </tr>\n    <tr>\n      <th>mean</th>\n      <td>NaN</td>\n      <td>1042.0</td>\n      <td>32443.5</td>\n      <td>4884.18</td>\n      <td>7.990000</td>\n      <td>248.490000</td>\n      <td>36.900000</td>\n      <td>132.5</td>\n      <td>132.5</td>\n      <td>132.5</td>\n      <td>3.0</td>\n      <td>55.0</td>\n      <td>14.23</td>\n      <td>11.0</td>\n      <td>840.25</td>\n      <td>66.26</td>\n    </tr>\n  </tbody>\n</table>\n</div>"
     },
     "metadata": {},
     "execution_count": 37
    }
   ],
   "source": [
    "control_performance_cred_turno3.loc['mean'] = control_performance_cred_turno3.mean().round(2)\n",
    "control_performance_cred_turno3"
   ]
  },
  {
   "source": [
    "# Gestion detallado Credifiel"
   ],
   "cell_type": "markdown",
   "metadata": {}
  },
  {
   "cell_type": "code",
   "execution_count": 19,
   "metadata": {},
   "outputs": [],
   "source": [
    "#Inicio y fin de meses que nos interesa conocer\n",
    "inicio_mes = [20200101,20200201,20200301,20200401,20200501,20200601,20200701,20200801,20200901,20201001,20201101]\n",
    "fin_mes = [20200131,20200228,20200331,20200430,20200531,20200630,20200731,20200831,20200930,20201031,20201130]"
   ]
  },
  {
   "cell_type": "code",
   "execution_count": 20,
   "metadata": {},
   "outputs": [
    {
     "output_type": "stream",
     "name": "stdout",
     "text": [
      "20200101\n",
      "20200201\n",
      "20200301\n",
      "20200401\n",
      "20200501\n",
      "20200601\n",
      "20200701\n",
      "20200801\n",
      "20200901\n",
      "20201001\n",
      "20201101\n"
     ]
    }
   ],
   "source": [
    "#Lectura de cada uno de los meses\n",
    "gestion_cred = pd.DataFrame()\n",
    "for i,j in zip(inicio_mes,fin_mes):\n",
    "    gestion_cred_mes = consulta_sql('credifiel_rpt_gestiones_detallado',i,j)\n",
    "    gestion_cred = pd.concat([gestion_cred,gestion_cred_mes],ignore_index=True)\n",
    "    print(i)"
   ]
  },
  {
   "cell_type": "code",
   "execution_count": 21,
   "metadata": {},
   "outputs": [],
   "source": [
    "#Hacemos la consulta referente a las gestiones de Credifiel\n",
    "gestion_cred.columns = ['folio_gestion','unegocio_id','fecha_gestion','hora_gestion','credito','nombre_credito','telefono','usuario','nombre_usuario','accion','resultado','fecha_promesa','monto_promesa','comentarios','accion_credifiel','resultado_credifiel','dictamen']"
   ]
  },
  {
   "cell_type": "code",
   "execution_count": 22,
   "metadata": {},
   "outputs": [
    {
     "output_type": "execute_result",
     "data": {
      "text/plain": [
       "     folio_gestion  unegocio_id fecha_gestion    hora_gestion  credito  \\\n",
       "245        6506980            1    2020-01-20 0 days 09:51:48   292725   \n",
       "436        6545399            1    2020-01-24 0 days 11:29:00   273404   \n",
       "758        6560210            1    2020-01-27 0 days 07:35:53   273404   \n",
       "\n",
       "             nombre_credito    telefono     usuario  \\\n",
       "245  OVANDO MORALES PASCUAL  9681246856  MARIVERAAN   \n",
       "436   SANCHEZ ALVAREZ DIANA  7471007942   CRPEREZAS   \n",
       "758   SANCHEZ ALVAREZ DIANA  7471007942   CRPEREZAS   \n",
       "\n",
       "                        nombre_usuario             accion  \\\n",
       "245             MARTINEZ RIVERA ANDREA  LLAMADA A TITULAR   \n",
       "436  ALEJANDRA SARAI DE LA CRUZ PÃ¨REZ  LLAMADA A TITULAR   \n",
       "758  ALEJANDRA SARAI DE LA CRUZ PÃ¨REZ  LLAMADA A TITULAR   \n",
       "\n",
       "                   resultado fecha_promesa  monto_promesa  \\\n",
       "245  PROMESA DE PAGO PARCIAL    2020-01-22         5000.0   \n",
       "436  PROMESA DE PAGO PARCIAL    2020-01-24          700.0   \n",
       "758  PROMESA DE PAGO PARCIAL    2020-01-31         1000.0   \n",
       "\n",
       "                                           comentarios accion_credifiel  \\\n",
       "245  9681246856 /P/ TITULAR ESTARA REALIZANDO UN PA...              PDP   \n",
       "436  7471007942/IN/ TT REALIZARA SU PAGO EN PARCIAL...              PDP   \n",
       "758  7471007942/M/  TT REALIZARA SU SEGUNDO PAGO EL...              PDP   \n",
       "\n",
       "    resultado_credifiel  dictamen  \n",
       "245     Promesa de Pago  CONTACTO  \n",
       "436     Promesa de Pago  CONTACTO  \n",
       "758     Promesa de Pago  CONTACTO  "
      ],
      "text/html": "<div>\n<style scoped>\n    .dataframe tbody tr th:only-of-type {\n        vertical-align: middle;\n    }\n\n    .dataframe tbody tr th {\n        vertical-align: top;\n    }\n\n    .dataframe thead th {\n        text-align: right;\n    }\n</style>\n<table border=\"1\" class=\"dataframe\">\n  <thead>\n    <tr style=\"text-align: right;\">\n      <th></th>\n      <th>folio_gestion</th>\n      <th>unegocio_id</th>\n      <th>fecha_gestion</th>\n      <th>hora_gestion</th>\n      <th>credito</th>\n      <th>nombre_credito</th>\n      <th>telefono</th>\n      <th>usuario</th>\n      <th>nombre_usuario</th>\n      <th>accion</th>\n      <th>resultado</th>\n      <th>fecha_promesa</th>\n      <th>monto_promesa</th>\n      <th>comentarios</th>\n      <th>accion_credifiel</th>\n      <th>resultado_credifiel</th>\n      <th>dictamen</th>\n    </tr>\n  </thead>\n  <tbody>\n    <tr>\n      <th>245</th>\n      <td>6506980</td>\n      <td>1</td>\n      <td>2020-01-20</td>\n      <td>0 days 09:51:48</td>\n      <td>292725</td>\n      <td>OVANDO MORALES PASCUAL</td>\n      <td>9681246856</td>\n      <td>MARIVERAAN</td>\n      <td>MARTINEZ RIVERA ANDREA</td>\n      <td>LLAMADA A TITULAR</td>\n      <td>PROMESA DE PAGO PARCIAL</td>\n      <td>2020-01-22</td>\n      <td>5000.0</td>\n      <td>9681246856 /P/ TITULAR ESTARA REALIZANDO UN PA...</td>\n      <td>PDP</td>\n      <td>Promesa de Pago</td>\n      <td>CONTACTO</td>\n    </tr>\n    <tr>\n      <th>436</th>\n      <td>6545399</td>\n      <td>1</td>\n      <td>2020-01-24</td>\n      <td>0 days 11:29:00</td>\n      <td>273404</td>\n      <td>SANCHEZ ALVAREZ DIANA</td>\n      <td>7471007942</td>\n      <td>CRPEREZAS</td>\n      <td>ALEJANDRA SARAI DE LA CRUZ PÃ¨REZ</td>\n      <td>LLAMADA A TITULAR</td>\n      <td>PROMESA DE PAGO PARCIAL</td>\n      <td>2020-01-24</td>\n      <td>700.0</td>\n      <td>7471007942/IN/ TT REALIZARA SU PAGO EN PARCIAL...</td>\n      <td>PDP</td>\n      <td>Promesa de Pago</td>\n      <td>CONTACTO</td>\n    </tr>\n    <tr>\n      <th>758</th>\n      <td>6560210</td>\n      <td>1</td>\n      <td>2020-01-27</td>\n      <td>0 days 07:35:53</td>\n      <td>273404</td>\n      <td>SANCHEZ ALVAREZ DIANA</td>\n      <td>7471007942</td>\n      <td>CRPEREZAS</td>\n      <td>ALEJANDRA SARAI DE LA CRUZ PÃ¨REZ</td>\n      <td>LLAMADA A TITULAR</td>\n      <td>PROMESA DE PAGO PARCIAL</td>\n      <td>2020-01-31</td>\n      <td>1000.0</td>\n      <td>7471007942/M/  TT REALIZARA SU SEGUNDO PAGO EL...</td>\n      <td>PDP</td>\n      <td>Promesa de Pago</td>\n      <td>CONTACTO</td>\n    </tr>\n  </tbody>\n</table>\n</div>"
     },
     "metadata": {},
     "execution_count": 22
    }
   ],
   "source": [
    "#Hacemos el consolidado de la asignacion y promesado\n",
    "promesas_cred = gestion_cred.loc[gestion_cred['accion_credifiel']=='PDP']\n",
    "cols = ['monto_promesa']\n",
    "promesas_cred[cols] = promesas_cred[cols].apply(pd.to_numeric, errors='coerce')\n",
    "promesas_cred = promesas_cred.loc[promesas_cred['monto_promesa']>50]\n",
    "promesas_cred = promesas_cred[(promesas_cred['monto_promesa']<500000)]\n",
    "promesas_cred['credito'] = [x[3:] for x in promesas_cred['credito']]\n",
    "promesas_cred['credito'] = pd.to_numeric(promesas_cred['credito'])\n",
    "promesas_cred.head(3)"
   ]
  },
  {
   "cell_type": "code",
   "execution_count": 23,
   "metadata": {},
   "outputs": [],
   "source": [
    "pagos_cred_fact = pd.merge(pagos_cred2,asignacion_cred,how='left',left_on=['ID'],right_on=['CREDITO'])\n",
    "pagos_cred_fact['ARANCEL'] = np.where(pagos_cred_fact['ARANCEL'].isna(),np.mean(pagos_cred_fact['ARANCEL']),pagos_cred_fact['ARANCEL'])"
   ]
  },
  {
   "cell_type": "code",
   "execution_count": 24,
   "metadata": {},
   "outputs": [],
   "source": [
    "consolidado_pagos_cred = pd.merge(promesas_cred,pagos_cred_fact,how='left',left_on=['credito'],right_on=['ID'])\n",
    "try: consolidado_pagos_cred['fecha_promesa'] = pd.to_datetime(consolidado_pagos_cred['fecha_promesa'],dayfirst=False)\n",
    "except: consolidado_pagos_cred['fecha_promesa'] = consolidado_pagos_cred['fecha_gestion']"
   ]
  },
  {
   "cell_type": "code",
   "execution_count": 25,
   "metadata": {},
   "outputs": [],
   "source": [
    "#Condicionamos a los gestores cuyas promesas y pagos estan en un plazo de 3 dias\n",
    "#consolidado_pagos_cred['PagoUnico'] = [np.where((z < x+pd.Timedelta(4, unit='D')) & ((z > x-pd.Timedelta(4, unit='D') )), y, 0) for x,y,z in zip(consolidado_pagos_cred['fecha_promesa'],consolidado_pagos_cred['IMPORTE'],consolidado_pagos_cred['FECHA'])]\n",
    "#consolidado_pagos_cred['PagoUnico'] = [x.item() for x in consolidado_pagos_cred['PagoUnico']]"
   ]
  },
  {
   "cell_type": "code",
   "execution_count": 26,
   "metadata": {},
   "outputs": [],
   "source": [
    "consolidado_pagos_cred['PagoReal'] = [x*y for x,y in zip(consolidado_pagos_cred['IMPORTE'],consolidado_pagos_cred['ARANCEL'])]\n",
    "consolidado_pagos_cred2 = consolidado_pagos_cred.drop_duplicates(subset=['credito','IMPORTE','FECHA','usuario'])\n",
    "consolidado_pagos_cred2['mes'] = pd.DatetimeIndex(consolidado_pagos_cred2['fecha_promesa']).month"
   ]
  },
  {
   "cell_type": "code",
   "execution_count": 27,
   "metadata": {},
   "outputs": [
    {
     "output_type": "execute_result",
     "data": {
      "text/plain": [
       "            usuario  ('monto_promesa', 1)  ('monto_promesa', 2)  \\\n",
       "0         CRPEREZAS                 700.0                   NaN   \n",
       "1   DOMINGUEZHEANIT                   NaN                   NaN   \n",
       "2        ENRIQUEZLI                   NaN                5000.0   \n",
       "3    ESQUIVELESCYEL                   NaN                   NaN   \n",
       "4        GACHAVEZBR                   NaN                   NaN   \n",
       "5      GONMORALESBM                   NaN                   NaN   \n",
       "6      HEGONZALEZSA                   NaN                   NaN   \n",
       "7     HERNANDEZGARO                   NaN                   NaN   \n",
       "8           LOVAERE                   NaN                   NaN   \n",
       "9        MARIVERAAN                5000.0                   NaN   \n",
       "10        MEARIASMA                   NaN                1306.0   \n",
       "11      MIBETTINADL                   NaN                 500.0   \n",
       "12           ORBEYA                 176.0                   NaN   \n",
       "13      PESALGADOAL                1000.0                6000.0   \n",
       "14      QUINTOSARLD                   NaN                   NaN   \n",
       "15       ROMARRONJA                   NaN                5000.0   \n",
       "16        VAOJEDAPJ                   NaN                   NaN   \n",
       "17         VEIVSAVE                   NaN                1000.0   \n",
       "18        ZARZANOJA                   NaN                   NaN   \n",
       "\n",
       "    ('monto_promesa', 3)  ('monto_promesa', 4)  ('monto_promesa', 5)  \\\n",
       "0                    NaN                   NaN                   NaN   \n",
       "1                 6000.0                4060.5               32760.0   \n",
       "2                    NaN                   NaN                   NaN   \n",
       "3                    NaN                   NaN                   NaN   \n",
       "4                    NaN                   NaN                   NaN   \n",
       "5                24000.0               22600.0                7593.0   \n",
       "6                 3000.0                8000.0                6780.0   \n",
       "7                    NaN                   NaN                   NaN   \n",
       "8                    NaN                   NaN                4987.0   \n",
       "9                    NaN                   NaN                   NaN   \n",
       "10                5750.0               20801.0               15672.0   \n",
       "11                5220.0                5358.0                 681.0   \n",
       "12                9322.0               13517.0                9736.0   \n",
       "13                   NaN                7256.0               23144.5   \n",
       "14                   NaN                   NaN                   NaN   \n",
       "15                   NaN                 980.0                   NaN   \n",
       "16                   NaN                   NaN                   NaN   \n",
       "17               10450.0                6000.0                5545.0   \n",
       "18                   NaN                   NaN                   NaN   \n",
       "\n",
       "    ('monto_promesa', 6)  ('monto_promesa', 7)  ('monto_promesa', 8)  \\\n",
       "0                    NaN                   NaN                   NaN   \n",
       "1                    NaN                   NaN                   NaN   \n",
       "2                    NaN                   NaN                   NaN   \n",
       "3                    NaN                   NaN                450.79   \n",
       "4                34848.0             180267.97             105623.29   \n",
       "5                99305.0             125616.42              85019.22   \n",
       "6                 1500.0                   NaN                   NaN   \n",
       "7                59513.0              79655.00              54673.13   \n",
       "8                46538.0                   NaN                   NaN   \n",
       "9                    NaN                   NaN                   NaN   \n",
       "10                   NaN                   NaN                   NaN   \n",
       "11                   NaN                   NaN                   NaN   \n",
       "12                   NaN                   NaN                   NaN   \n",
       "13                   NaN              16561.68               2699.00   \n",
       "14                   NaN                   NaN                   NaN   \n",
       "15                   NaN                   NaN                   NaN   \n",
       "16              143947.0              69184.00              49535.53   \n",
       "17                   NaN                   NaN                   NaN   \n",
       "18                   NaN                   NaN                   NaN   \n",
       "\n",
       "    ('monto_promesa', 9)  ('monto_promesa', 10)  ('monto_promesa', 11)  \n",
       "0                    NaN                    NaN                    NaN  \n",
       "1                    NaN                    NaN                    NaN  \n",
       "2                    NaN                    NaN                    NaN  \n",
       "3                7727.42                    NaN                    NaN  \n",
       "4               58076.62               13000.00                    NaN  \n",
       "5               72305.20              137182.55               52514.59  \n",
       "6                    NaN                    NaN                    NaN  \n",
       "7               56079.99              222056.54               93094.83  \n",
       "8                    NaN                    NaN                    NaN  \n",
       "9                    NaN                    NaN                    NaN  \n",
       "10                   NaN                    NaN                    NaN  \n",
       "11                   NaN                    NaN                    NaN  \n",
       "12                   NaN                    NaN                    NaN  \n",
       "13                   NaN                    NaN                    NaN  \n",
       "14              13026.30               89268.50               20822.57  \n",
       "15                   NaN                    NaN                    NaN  \n",
       "16              26317.49                7305.34                    NaN  \n",
       "17                   NaN                    NaN                    NaN  \n",
       "18                   NaN               23255.01               55007.09  "
      ],
      "text/html": "<div>\n<style scoped>\n    .dataframe tbody tr th:only-of-type {\n        vertical-align: middle;\n    }\n\n    .dataframe tbody tr th {\n        vertical-align: top;\n    }\n\n    .dataframe thead th {\n        text-align: right;\n    }\n</style>\n<table border=\"1\" class=\"dataframe\">\n  <thead>\n    <tr style=\"text-align: right;\">\n      <th></th>\n      <th>usuario</th>\n      <th>('monto_promesa', 1)</th>\n      <th>('monto_promesa', 2)</th>\n      <th>('monto_promesa', 3)</th>\n      <th>('monto_promesa', 4)</th>\n      <th>('monto_promesa', 5)</th>\n      <th>('monto_promesa', 6)</th>\n      <th>('monto_promesa', 7)</th>\n      <th>('monto_promesa', 8)</th>\n      <th>('monto_promesa', 9)</th>\n      <th>('monto_promesa', 10)</th>\n      <th>('monto_promesa', 11)</th>\n    </tr>\n  </thead>\n  <tbody>\n    <tr>\n      <th>0</th>\n      <td>CRPEREZAS</td>\n      <td>700.0</td>\n      <td>NaN</td>\n      <td>NaN</td>\n      <td>NaN</td>\n      <td>NaN</td>\n      <td>NaN</td>\n      <td>NaN</td>\n      <td>NaN</td>\n      <td>NaN</td>\n      <td>NaN</td>\n      <td>NaN</td>\n    </tr>\n    <tr>\n      <th>1</th>\n      <td>DOMINGUEZHEANIT</td>\n      <td>NaN</td>\n      <td>NaN</td>\n      <td>6000.0</td>\n      <td>4060.5</td>\n      <td>32760.0</td>\n      <td>NaN</td>\n      <td>NaN</td>\n      <td>NaN</td>\n      <td>NaN</td>\n      <td>NaN</td>\n      <td>NaN</td>\n    </tr>\n    <tr>\n      <th>2</th>\n      <td>ENRIQUEZLI</td>\n      <td>NaN</td>\n      <td>5000.0</td>\n      <td>NaN</td>\n      <td>NaN</td>\n      <td>NaN</td>\n      <td>NaN</td>\n      <td>NaN</td>\n      <td>NaN</td>\n      <td>NaN</td>\n      <td>NaN</td>\n      <td>NaN</td>\n    </tr>\n    <tr>\n      <th>3</th>\n      <td>ESQUIVELESCYEL</td>\n      <td>NaN</td>\n      <td>NaN</td>\n      <td>NaN</td>\n      <td>NaN</td>\n      <td>NaN</td>\n      <td>NaN</td>\n      <td>NaN</td>\n      <td>450.79</td>\n      <td>7727.42</td>\n      <td>NaN</td>\n      <td>NaN</td>\n    </tr>\n    <tr>\n      <th>4</th>\n      <td>GACHAVEZBR</td>\n      <td>NaN</td>\n      <td>NaN</td>\n      <td>NaN</td>\n      <td>NaN</td>\n      <td>NaN</td>\n      <td>34848.0</td>\n      <td>180267.97</td>\n      <td>105623.29</td>\n      <td>58076.62</td>\n      <td>13000.00</td>\n      <td>NaN</td>\n    </tr>\n    <tr>\n      <th>5</th>\n      <td>GONMORALESBM</td>\n      <td>NaN</td>\n      <td>NaN</td>\n      <td>24000.0</td>\n      <td>22600.0</td>\n      <td>7593.0</td>\n      <td>99305.0</td>\n      <td>125616.42</td>\n      <td>85019.22</td>\n      <td>72305.20</td>\n      <td>137182.55</td>\n      <td>52514.59</td>\n    </tr>\n    <tr>\n      <th>6</th>\n      <td>HEGONZALEZSA</td>\n      <td>NaN</td>\n      <td>NaN</td>\n      <td>3000.0</td>\n      <td>8000.0</td>\n      <td>6780.0</td>\n      <td>1500.0</td>\n      <td>NaN</td>\n      <td>NaN</td>\n      <td>NaN</td>\n      <td>NaN</td>\n      <td>NaN</td>\n    </tr>\n    <tr>\n      <th>7</th>\n      <td>HERNANDEZGARO</td>\n      <td>NaN</td>\n      <td>NaN</td>\n      <td>NaN</td>\n      <td>NaN</td>\n      <td>NaN</td>\n      <td>59513.0</td>\n      <td>79655.00</td>\n      <td>54673.13</td>\n      <td>56079.99</td>\n      <td>222056.54</td>\n      <td>93094.83</td>\n    </tr>\n    <tr>\n      <th>8</th>\n      <td>LOVAERE</td>\n      <td>NaN</td>\n      <td>NaN</td>\n      <td>NaN</td>\n      <td>NaN</td>\n      <td>4987.0</td>\n      <td>46538.0</td>\n      <td>NaN</td>\n      <td>NaN</td>\n      <td>NaN</td>\n      <td>NaN</td>\n      <td>NaN</td>\n    </tr>\n    <tr>\n      <th>9</th>\n      <td>MARIVERAAN</td>\n      <td>5000.0</td>\n      <td>NaN</td>\n      <td>NaN</td>\n      <td>NaN</td>\n      <td>NaN</td>\n      <td>NaN</td>\n      <td>NaN</td>\n      <td>NaN</td>\n      <td>NaN</td>\n      <td>NaN</td>\n      <td>NaN</td>\n    </tr>\n    <tr>\n      <th>10</th>\n      <td>MEARIASMA</td>\n      <td>NaN</td>\n      <td>1306.0</td>\n      <td>5750.0</td>\n      <td>20801.0</td>\n      <td>15672.0</td>\n      <td>NaN</td>\n      <td>NaN</td>\n      <td>NaN</td>\n      <td>NaN</td>\n      <td>NaN</td>\n      <td>NaN</td>\n    </tr>\n    <tr>\n      <th>11</th>\n      <td>MIBETTINADL</td>\n      <td>NaN</td>\n      <td>500.0</td>\n      <td>5220.0</td>\n      <td>5358.0</td>\n      <td>681.0</td>\n      <td>NaN</td>\n      <td>NaN</td>\n      <td>NaN</td>\n      <td>NaN</td>\n      <td>NaN</td>\n      <td>NaN</td>\n    </tr>\n    <tr>\n      <th>12</th>\n      <td>ORBEYA</td>\n      <td>176.0</td>\n      <td>NaN</td>\n      <td>9322.0</td>\n      <td>13517.0</td>\n      <td>9736.0</td>\n      <td>NaN</td>\n      <td>NaN</td>\n      <td>NaN</td>\n      <td>NaN</td>\n      <td>NaN</td>\n      <td>NaN</td>\n    </tr>\n    <tr>\n      <th>13</th>\n      <td>PESALGADOAL</td>\n      <td>1000.0</td>\n      <td>6000.0</td>\n      <td>NaN</td>\n      <td>7256.0</td>\n      <td>23144.5</td>\n      <td>NaN</td>\n      <td>16561.68</td>\n      <td>2699.00</td>\n      <td>NaN</td>\n      <td>NaN</td>\n      <td>NaN</td>\n    </tr>\n    <tr>\n      <th>14</th>\n      <td>QUINTOSARLD</td>\n      <td>NaN</td>\n      <td>NaN</td>\n      <td>NaN</td>\n      <td>NaN</td>\n      <td>NaN</td>\n      <td>NaN</td>\n      <td>NaN</td>\n      <td>NaN</td>\n      <td>13026.30</td>\n      <td>89268.50</td>\n      <td>20822.57</td>\n    </tr>\n    <tr>\n      <th>15</th>\n      <td>ROMARRONJA</td>\n      <td>NaN</td>\n      <td>5000.0</td>\n      <td>NaN</td>\n      <td>980.0</td>\n      <td>NaN</td>\n      <td>NaN</td>\n      <td>NaN</td>\n      <td>NaN</td>\n      <td>NaN</td>\n      <td>NaN</td>\n      <td>NaN</td>\n    </tr>\n    <tr>\n      <th>16</th>\n      <td>VAOJEDAPJ</td>\n      <td>NaN</td>\n      <td>NaN</td>\n      <td>NaN</td>\n      <td>NaN</td>\n      <td>NaN</td>\n      <td>143947.0</td>\n      <td>69184.00</td>\n      <td>49535.53</td>\n      <td>26317.49</td>\n      <td>7305.34</td>\n      <td>NaN</td>\n    </tr>\n    <tr>\n      <th>17</th>\n      <td>VEIVSAVE</td>\n      <td>NaN</td>\n      <td>1000.0</td>\n      <td>10450.0</td>\n      <td>6000.0</td>\n      <td>5545.0</td>\n      <td>NaN</td>\n      <td>NaN</td>\n      <td>NaN</td>\n      <td>NaN</td>\n      <td>NaN</td>\n      <td>NaN</td>\n    </tr>\n    <tr>\n      <th>18</th>\n      <td>ZARZANOJA</td>\n      <td>NaN</td>\n      <td>NaN</td>\n      <td>NaN</td>\n      <td>NaN</td>\n      <td>NaN</td>\n      <td>NaN</td>\n      <td>NaN</td>\n      <td>NaN</td>\n      <td>NaN</td>\n      <td>23255.01</td>\n      <td>55007.09</td>\n    </tr>\n  </tbody>\n</table>\n</div>"
     },
     "metadata": {},
     "execution_count": 27
    }
   ],
   "source": [
    "gestor_mes = pd.pivot_table(consolidado_pagos_cred2,index=['usuario'],values=['monto_promesa'],columns=['mes'],aggfunc=np.sum)\n",
    "gestor_mes = pd.DataFrame(gestor_mes.to_records())\n",
    "gestor_mes# = gestor_mes[gestor_mes.isnull().sum(axis=1) < 8]"
   ]
  },
  {
   "cell_type": "code",
   "execution_count": 28,
   "metadata": {},
   "outputs": [],
   "source": [
    "gestor_mes2 = gestor_mes[np.abs(gestor_mes - \n",
    "gestor_mes.mean()) <= (3 * gestor_mes.std())]\n",
    "#cols = ['']\n",
    "gestor_mes2 = gestor_mes2.replace({'0':np.nan, 0:np.nan})"
   ]
  },
  {
   "cell_type": "code",
   "execution_count": 29,
   "metadata": {},
   "outputs": [
    {
     "output_type": "execute_result",
     "data": {
      "text/plain": [
       "      usuario  ('monto_promesa', 1)  ('monto_promesa', 2)  \\\n",
       "0         NaN                 700.0                   NaN   \n",
       "1         NaN                   NaN                   NaN   \n",
       "2         NaN                   NaN               5000.00   \n",
       "3         NaN                   NaN                   NaN   \n",
       "4         NaN                   NaN                   NaN   \n",
       "5         NaN                   NaN                   NaN   \n",
       "6         NaN                   NaN                   NaN   \n",
       "7         NaN                   NaN                   NaN   \n",
       "8         NaN                   NaN                   NaN   \n",
       "9         NaN                5000.0                   NaN   \n",
       "10        NaN                   NaN               1306.00   \n",
       "11        NaN                   NaN                500.00   \n",
       "12        NaN                 176.0                   NaN   \n",
       "13        NaN                1000.0               6000.00   \n",
       "14        NaN                   NaN                   NaN   \n",
       "15        NaN                   NaN               5000.00   \n",
       "16        NaN                   NaN                   NaN   \n",
       "17        NaN                   NaN               1000.00   \n",
       "18        NaN                   NaN                   NaN   \n",
       "mean      NaN                1719.0               3134.33   \n",
       "\n",
       "      ('monto_promesa', 3)  ('monto_promesa', 4)  ('monto_promesa', 5)  \\\n",
       "0                      NaN                   NaN                   NaN   \n",
       "1                   6000.0               4060.50              32760.00   \n",
       "2                      NaN                   NaN                   NaN   \n",
       "3                      NaN                   NaN                   NaN   \n",
       "4                      NaN                   NaN                   NaN   \n",
       "5                  24000.0              22600.00               7593.00   \n",
       "6                   3000.0               8000.00               6780.00   \n",
       "7                      NaN                   NaN                   NaN   \n",
       "8                      NaN                   NaN               4987.00   \n",
       "9                      NaN                   NaN                   NaN   \n",
       "10                  5750.0              20801.00              15672.00   \n",
       "11                  5220.0               5358.00                681.00   \n",
       "12                  9322.0              13517.00               9736.00   \n",
       "13                     NaN               7256.00              23144.50   \n",
       "14                     NaN                   NaN                   NaN   \n",
       "15                     NaN                980.00                   NaN   \n",
       "16                     NaN                   NaN                   NaN   \n",
       "17                 10450.0               6000.00               5545.00   \n",
       "18                     NaN                   NaN                   NaN   \n",
       "mean                9106.0               9841.39              11877.61   \n",
       "\n",
       "      ('monto_promesa', 6)  ('monto_promesa', 7)  ('monto_promesa', 8)  \\\n",
       "0                      NaN                   NaN                   NaN   \n",
       "1                      NaN                   NaN                   NaN   \n",
       "2                      NaN                   NaN                   NaN   \n",
       "3                      NaN                   NaN                450.79   \n",
       "4                 34848.00             180267.97             105623.29   \n",
       "5                 99305.00             125616.42              85019.22   \n",
       "6                  1500.00                   NaN                   NaN   \n",
       "7                 59513.00              79655.00              54673.13   \n",
       "8                 46538.00                   NaN                   NaN   \n",
       "9                      NaN                   NaN                   NaN   \n",
       "10                     NaN                   NaN                   NaN   \n",
       "11                     NaN                   NaN                   NaN   \n",
       "12                     NaN                   NaN                   NaN   \n",
       "13                     NaN              16561.68               2699.00   \n",
       "14                     NaN                   NaN                   NaN   \n",
       "15                     NaN                   NaN                   NaN   \n",
       "16               143947.00              69184.00              49535.53   \n",
       "17                     NaN                   NaN                   NaN   \n",
       "18                     NaN                   NaN                   NaN   \n",
       "mean              64275.17              94257.01              49666.83   \n",
       "\n",
       "      ('monto_promesa', 9)  ('monto_promesa', 10)  ('monto_promesa', 11)  \n",
       "0                      NaN                    NaN                    NaN  \n",
       "1                      NaN                    NaN                    NaN  \n",
       "2                      NaN                    NaN                    NaN  \n",
       "3                  7727.42                    NaN                    NaN  \n",
       "4                 58076.62               13000.00                    NaN  \n",
       "5                 72305.20              137182.55               52514.59  \n",
       "6                      NaN                    NaN                    NaN  \n",
       "7                 56079.99              222056.54               93094.83  \n",
       "8                      NaN                    NaN                    NaN  \n",
       "9                      NaN                    NaN                    NaN  \n",
       "10                     NaN                    NaN                    NaN  \n",
       "11                     NaN                    NaN                    NaN  \n",
       "12                     NaN                    NaN                    NaN  \n",
       "13                     NaN                    NaN                    NaN  \n",
       "14                13026.30               89268.50               20822.57  \n",
       "15                     NaN                    NaN                    NaN  \n",
       "16                26317.49                7305.34                    NaN  \n",
       "17                     NaN                    NaN                    NaN  \n",
       "18                     NaN               23255.01               55007.09  \n",
       "mean              38922.17               82011.32               55359.77  "
      ],
      "text/html": "<div>\n<style scoped>\n    .dataframe tbody tr th:only-of-type {\n        vertical-align: middle;\n    }\n\n    .dataframe tbody tr th {\n        vertical-align: top;\n    }\n\n    .dataframe thead th {\n        text-align: right;\n    }\n</style>\n<table border=\"1\" class=\"dataframe\">\n  <thead>\n    <tr style=\"text-align: right;\">\n      <th></th>\n      <th>usuario</th>\n      <th>('monto_promesa', 1)</th>\n      <th>('monto_promesa', 2)</th>\n      <th>('monto_promesa', 3)</th>\n      <th>('monto_promesa', 4)</th>\n      <th>('monto_promesa', 5)</th>\n      <th>('monto_promesa', 6)</th>\n      <th>('monto_promesa', 7)</th>\n      <th>('monto_promesa', 8)</th>\n      <th>('monto_promesa', 9)</th>\n      <th>('monto_promesa', 10)</th>\n      <th>('monto_promesa', 11)</th>\n    </tr>\n  </thead>\n  <tbody>\n    <tr>\n      <th>0</th>\n      <td>NaN</td>\n      <td>700.0</td>\n      <td>NaN</td>\n      <td>NaN</td>\n      <td>NaN</td>\n      <td>NaN</td>\n      <td>NaN</td>\n      <td>NaN</td>\n      <td>NaN</td>\n      <td>NaN</td>\n      <td>NaN</td>\n      <td>NaN</td>\n    </tr>\n    <tr>\n      <th>1</th>\n      <td>NaN</td>\n      <td>NaN</td>\n      <td>NaN</td>\n      <td>6000.0</td>\n      <td>4060.50</td>\n      <td>32760.00</td>\n      <td>NaN</td>\n      <td>NaN</td>\n      <td>NaN</td>\n      <td>NaN</td>\n      <td>NaN</td>\n      <td>NaN</td>\n    </tr>\n    <tr>\n      <th>2</th>\n      <td>NaN</td>\n      <td>NaN</td>\n      <td>5000.00</td>\n      <td>NaN</td>\n      <td>NaN</td>\n      <td>NaN</td>\n      <td>NaN</td>\n      <td>NaN</td>\n      <td>NaN</td>\n      <td>NaN</td>\n      <td>NaN</td>\n      <td>NaN</td>\n    </tr>\n    <tr>\n      <th>3</th>\n      <td>NaN</td>\n      <td>NaN</td>\n      <td>NaN</td>\n      <td>NaN</td>\n      <td>NaN</td>\n      <td>NaN</td>\n      <td>NaN</td>\n      <td>NaN</td>\n      <td>450.79</td>\n      <td>7727.42</td>\n      <td>NaN</td>\n      <td>NaN</td>\n    </tr>\n    <tr>\n      <th>4</th>\n      <td>NaN</td>\n      <td>NaN</td>\n      <td>NaN</td>\n      <td>NaN</td>\n      <td>NaN</td>\n      <td>NaN</td>\n      <td>34848.00</td>\n      <td>180267.97</td>\n      <td>105623.29</td>\n      <td>58076.62</td>\n      <td>13000.00</td>\n      <td>NaN</td>\n    </tr>\n    <tr>\n      <th>5</th>\n      <td>NaN</td>\n      <td>NaN</td>\n      <td>NaN</td>\n      <td>24000.0</td>\n      <td>22600.00</td>\n      <td>7593.00</td>\n      <td>99305.00</td>\n      <td>125616.42</td>\n      <td>85019.22</td>\n      <td>72305.20</td>\n      <td>137182.55</td>\n      <td>52514.59</td>\n    </tr>\n    <tr>\n      <th>6</th>\n      <td>NaN</td>\n      <td>NaN</td>\n      <td>NaN</td>\n      <td>3000.0</td>\n      <td>8000.00</td>\n      <td>6780.00</td>\n      <td>1500.00</td>\n      <td>NaN</td>\n      <td>NaN</td>\n      <td>NaN</td>\n      <td>NaN</td>\n      <td>NaN</td>\n    </tr>\n    <tr>\n      <th>7</th>\n      <td>NaN</td>\n      <td>NaN</td>\n      <td>NaN</td>\n      <td>NaN</td>\n      <td>NaN</td>\n      <td>NaN</td>\n      <td>59513.00</td>\n      <td>79655.00</td>\n      <td>54673.13</td>\n      <td>56079.99</td>\n      <td>222056.54</td>\n      <td>93094.83</td>\n    </tr>\n    <tr>\n      <th>8</th>\n      <td>NaN</td>\n      <td>NaN</td>\n      <td>NaN</td>\n      <td>NaN</td>\n      <td>NaN</td>\n      <td>4987.00</td>\n      <td>46538.00</td>\n      <td>NaN</td>\n      <td>NaN</td>\n      <td>NaN</td>\n      <td>NaN</td>\n      <td>NaN</td>\n    </tr>\n    <tr>\n      <th>9</th>\n      <td>NaN</td>\n      <td>5000.0</td>\n      <td>NaN</td>\n      <td>NaN</td>\n      <td>NaN</td>\n      <td>NaN</td>\n      <td>NaN</td>\n      <td>NaN</td>\n      <td>NaN</td>\n      <td>NaN</td>\n      <td>NaN</td>\n      <td>NaN</td>\n    </tr>\n    <tr>\n      <th>10</th>\n      <td>NaN</td>\n      <td>NaN</td>\n      <td>1306.00</td>\n      <td>5750.0</td>\n      <td>20801.00</td>\n      <td>15672.00</td>\n      <td>NaN</td>\n      <td>NaN</td>\n      <td>NaN</td>\n      <td>NaN</td>\n      <td>NaN</td>\n      <td>NaN</td>\n    </tr>\n    <tr>\n      <th>11</th>\n      <td>NaN</td>\n      <td>NaN</td>\n      <td>500.00</td>\n      <td>5220.0</td>\n      <td>5358.00</td>\n      <td>681.00</td>\n      <td>NaN</td>\n      <td>NaN</td>\n      <td>NaN</td>\n      <td>NaN</td>\n      <td>NaN</td>\n      <td>NaN</td>\n    </tr>\n    <tr>\n      <th>12</th>\n      <td>NaN</td>\n      <td>176.0</td>\n      <td>NaN</td>\n      <td>9322.0</td>\n      <td>13517.00</td>\n      <td>9736.00</td>\n      <td>NaN</td>\n      <td>NaN</td>\n      <td>NaN</td>\n      <td>NaN</td>\n      <td>NaN</td>\n      <td>NaN</td>\n    </tr>\n    <tr>\n      <th>13</th>\n      <td>NaN</td>\n      <td>1000.0</td>\n      <td>6000.00</td>\n      <td>NaN</td>\n      <td>7256.00</td>\n      <td>23144.50</td>\n      <td>NaN</td>\n      <td>16561.68</td>\n      <td>2699.00</td>\n      <td>NaN</td>\n      <td>NaN</td>\n      <td>NaN</td>\n    </tr>\n    <tr>\n      <th>14</th>\n      <td>NaN</td>\n      <td>NaN</td>\n      <td>NaN</td>\n      <td>NaN</td>\n      <td>NaN</td>\n      <td>NaN</td>\n      <td>NaN</td>\n      <td>NaN</td>\n      <td>NaN</td>\n      <td>13026.30</td>\n      <td>89268.50</td>\n      <td>20822.57</td>\n    </tr>\n    <tr>\n      <th>15</th>\n      <td>NaN</td>\n      <td>NaN</td>\n      <td>5000.00</td>\n      <td>NaN</td>\n      <td>980.00</td>\n      <td>NaN</td>\n      <td>NaN</td>\n      <td>NaN</td>\n      <td>NaN</td>\n      <td>NaN</td>\n      <td>NaN</td>\n      <td>NaN</td>\n    </tr>\n    <tr>\n      <th>16</th>\n      <td>NaN</td>\n      <td>NaN</td>\n      <td>NaN</td>\n      <td>NaN</td>\n      <td>NaN</td>\n      <td>NaN</td>\n      <td>143947.00</td>\n      <td>69184.00</td>\n      <td>49535.53</td>\n      <td>26317.49</td>\n      <td>7305.34</td>\n      <td>NaN</td>\n    </tr>\n    <tr>\n      <th>17</th>\n      <td>NaN</td>\n      <td>NaN</td>\n      <td>1000.00</td>\n      <td>10450.0</td>\n      <td>6000.00</td>\n      <td>5545.00</td>\n      <td>NaN</td>\n      <td>NaN</td>\n      <td>NaN</td>\n      <td>NaN</td>\n      <td>NaN</td>\n      <td>NaN</td>\n    </tr>\n    <tr>\n      <th>18</th>\n      <td>NaN</td>\n      <td>NaN</td>\n      <td>NaN</td>\n      <td>NaN</td>\n      <td>NaN</td>\n      <td>NaN</td>\n      <td>NaN</td>\n      <td>NaN</td>\n      <td>NaN</td>\n      <td>NaN</td>\n      <td>23255.01</td>\n      <td>55007.09</td>\n    </tr>\n    <tr>\n      <th>mean</th>\n      <td>NaN</td>\n      <td>1719.0</td>\n      <td>3134.33</td>\n      <td>9106.0</td>\n      <td>9841.39</td>\n      <td>11877.61</td>\n      <td>64275.17</td>\n      <td>94257.01</td>\n      <td>49666.83</td>\n      <td>38922.17</td>\n      <td>82011.32</td>\n      <td>55359.77</td>\n    </tr>\n  </tbody>\n</table>\n</div>"
     },
     "metadata": {},
     "execution_count": 29
    }
   ],
   "source": [
    "gestor_mes2.loc['mean'] = gestor_mes2.mean().round(2)\n",
    "gestor_mes2"
   ]
  },
  {
   "cell_type": "code",
   "execution_count": 43,
   "metadata": {},
   "outputs": [],
   "source": [
    "writer = pd.ExcelWriter(''+ruta_guardar+'/Gestores/Credifiel/Puntos comparativa '+now+'.xlsx',engine='xlsxwriter')\n",
    "gestor_mes2.to_excel(writer,'BSC',index=False,header=True)\n",
    "control_performance_cred_turno.to_excel(writer,'Turno',index=False,header=True)\n",
    "control_performance_cred2.to_excel(writer,'Gestor',index=False,header=True)\n",
    "\n",
    "\n",
    "writer.save()"
   ]
  }
 ]
}