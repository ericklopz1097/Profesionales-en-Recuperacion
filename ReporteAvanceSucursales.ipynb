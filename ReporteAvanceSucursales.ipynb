{
 "metadata": {
  "language_info": {
   "codemirror_mode": {
    "name": "ipython",
    "version": 3
   },
   "file_extension": ".py",
   "mimetype": "text/x-python",
   "name": "python",
   "nbconvert_exporter": "python",
   "pygments_lexer": "ipython3",
   "version": "3.8.5-final"
  },
  "orig_nbformat": 2,
  "kernelspec": {
   "name": "python3",
   "display_name": "Python 3",
   "language": "python"
  }
 },
 "nbformat": 4,
 "nbformat_minor": 2,
 "cells": [
  {
   "cell_type": "code",
   "execution_count": 1,
   "metadata": {},
   "outputs": [],
   "source": [
    "import pandas as pd\n",
    "import numpy as np\n",
    "import mysql.connector\n",
    "import os\n",
    "from mysql.connector import Error\n",
    "from datetime import datetime, date, timedelta\n",
    "from IPython.core.interactiveshell import InteractiveShell\n",
    "InteractiveShell.ast_node_interactivity = \"all\""
   ]
  },
  {
   "cell_type": "code",
   "execution_count": 2,
   "metadata": {},
   "outputs": [],
   "source": [
    "#Definimos la ruta en donde queremos guardar los archivos\n",
    "mes2 = 'Enero2021'\n",
    "ruta_guardar = '/home/estadistico/Documents/Erick/'+mes2+'/Reportes diarios/Avance pagos'\n",
    "ruta_pagos = '/home/estadistico/Documents/Erick'\n",
    "mes = 202010101\n",
    "mes3 = pd.to_datetime('01/01/2021',dayfirst=True)\n",
    "prim_sem_mes = 1"
   ]
  },
  {
   "cell_type": "code",
   "execution_count": 3,
   "metadata": {},
   "outputs": [],
   "source": [
    "quetzal = 2.54\n",
    "dolar = 19.8"
   ]
  },
  {
   "cell_type": "code",
   "execution_count": 4,
   "metadata": {},
   "outputs": [],
   "source": [
    "#Asignamos valores a los parametros\"\n",
    "today = date.today().strftime('%Y%m%d')\n",
    "now = datetime.now().strftime('%d-%m-%Y %H-%M')\n",
    "hoy = np.datetime64('today')\n",
    "ayer = np.datetime64(date.today() - timedelta(1))\n",
    "today2 = date.today().strftime('%d-%m-%Y')"
   ]
  },
  {
   "source": [
    "# Torreon"
   ],
   "cell_type": "markdown",
   "metadata": {}
  },
  {
   "cell_type": "code",
   "execution_count": 5,
   "metadata": {},
   "outputs": [],
   "source": [
    "metas = pd.DataFrame([('Avon',990000),('Oriflame',65000),('Invex_RLN',270000),('Invex_RLA',479000),('Invex_REL',470000),('Arabela',95000),('Cristian Lay',6000)])\n",
    "metas.columns = ['Cliente','Meta']"
   ]
  },
  {
   "cell_type": "code",
   "execution_count": 6,
   "metadata": {},
   "outputs": [],
   "source": [
    "#Lectura pagos Oriflam\n",
    "#pagos_oriflame = pd.read_excel(''+ruta_pagos+'/'+mes2+'/Torreon/Oriflame/RECUPERACION EXITOSA 31-12-2020.xlsx')\n",
    "pagos_oriflame = pd.read_excel(''+ruta_pagos+'/'+mes2+'/Torreon/Oriflame/RECUPERACION EXITOSA 12-01-2021.xlsx')\n",
    "pagos_oriflame['Cliente'] = 'Oriflame'\n",
    "pagos_oriflame = pagos_oriflame.drop_duplicates()\n",
    "pagos_oriflame['Factura'] = pagos_oriflame['PAGO_TOTAL']*.1\n",
    "# pagos_oriflame = pagos_oriflame.loc[pagos_oriflame['FECHA_PAGO']>=mes3]"
   ]
  },
  {
   "cell_type": "code",
   "execution_count": 7,
   "metadata": {},
   "outputs": [],
   "source": [
    "#Lectura pagos Arabela\n",
    "# pagos_arabela = pd.read_excel(''+ruta_pagos+'/'+mes2+'/Torreon/Arabela/31122020_PAGOS_ARABELA.xlsx')\n",
    "pagos_arabela = pd.read_excel(''+ruta_pagos+'/'+mes2+'/Torreon/Arabela/PAGOS_ARABELA_12012021.xlsx')\n",
    "pagos_arabela['Cliente'] = 'Arabela'\n",
    "pagos_arabela = pagos_arabela.drop_duplicates()\n",
    "pagos_arabela['FechaEntrega'] = [datetime.strptime(str(x), '%Y%m%d').strftime('%d/%m/%Y') for x in pagos_arabela['FechaEntrega']]\n",
    "pagos_arabela['FechaEntrega'] = pd.to_datetime(pagos_arabela['FechaEntrega'],dayfirst=True)\n",
    "# pagos_arabela = pagos_arabela.loc[pagos_arabela['FechaEntrega']>=mes3]\n",
    "pagos_arabela['factura'] = pagos_arabela['pago']*.22"
   ]
  },
  {
   "cell_type": "code",
   "execution_count": 8,
   "metadata": {},
   "outputs": [],
   "source": [
    "#Lectura pagos invex\n",
    "# pagos_invex = pd.read_excel(''+ruta_pagos+'/'+mes2+'/Torreon/Invex/Pagos Invex.xlsx')\n",
    "pagos_invex = pd.read_excel(''+ruta_pagos+'/'+mes2+'/Torreon/Invex/Pagos Invex '+mes2+'.xlsx')\n",
    "pagos_invex['Cliente'] = 'Invex_'+pagos_invex['Agencia'].map(str)\n",
    "pagos_invex = pagos_invex.drop_duplicates()\n",
    "# pagos_invex = pagos_invex.loc[pagos_invex['TRAN_POST_DT']>=mes3]"
   ]
  },
  {
   "source": [
    "# Oriflame"
   ],
   "cell_type": "markdown",
   "metadata": {}
  },
  {
   "cell_type": "code",
   "execution_count": 9,
   "metadata": {},
   "outputs": [
    {
     "output_type": "execute_result",
     "data": {
      "text/plain": [
       "    Cliente  Facturacion  FechaFact\n",
       "0  Oriflame    34482.005 2021-01-11"
      ],
      "text/html": "<div>\n<style scoped>\n    .dataframe tbody tr th:only-of-type {\n        vertical-align: middle;\n    }\n\n    .dataframe tbody tr th {\n        vertical-align: top;\n    }\n\n    .dataframe thead th {\n        text-align: right;\n    }\n</style>\n<table border=\"1\" class=\"dataframe\">\n  <thead>\n    <tr style=\"text-align: right;\">\n      <th></th>\n      <th>Cliente</th>\n      <th>Facturacion</th>\n      <th>FechaFact</th>\n    </tr>\n  </thead>\n  <tbody>\n    <tr>\n      <th>0</th>\n      <td>Oriflame</td>\n      <td>34482.005</td>\n      <td>2021-01-11</td>\n    </tr>\n  </tbody>\n</table>\n</div>"
     },
     "metadata": {},
     "execution_count": 9
    }
   ],
   "source": [
    "reporte_pagos_oriflame = pd.pivot_table(pagos_oriflame,index=['Cliente'],values=['Factura'],aggfunc=np.sum)\n",
    "reporte_pagos_oriflame = pd.DataFrame(reporte_pagos_oriflame.to_records())\n",
    "reporte_pagos_oriflame.columns = ['Cliente','Facturacion']\n",
    "reporte_pagos_oriflame['FechaFact'] = max(pagos_oriflame['FECHA_PAGO'])\n",
    "reporte_pagos_oriflame['FechaFact'] = pd.to_datetime(reporte_pagos_oriflame['FechaFact'],dayfirst=True)\n",
    "reporte_pagos_oriflame"
   ]
  },
  {
   "source": [
    "# Invex"
   ],
   "cell_type": "markdown",
   "metadata": {}
  },
  {
   "cell_type": "code",
   "execution_count": 10,
   "metadata": {},
   "outputs": [
    {
     "output_type": "execute_result",
     "data": {
      "text/plain": [
       "     Cliente  Facturacion  FechaFact\n",
       "0  Invex_REL    67912.764 2021-01-11\n",
       "1  Invex_RLA    78187.004 2021-01-11\n",
       "2  Invex_RLN    58453.902 2021-01-11"
      ],
      "text/html": "<div>\n<style scoped>\n    .dataframe tbody tr th:only-of-type {\n        vertical-align: middle;\n    }\n\n    .dataframe tbody tr th {\n        vertical-align: top;\n    }\n\n    .dataframe thead th {\n        text-align: right;\n    }\n</style>\n<table border=\"1\" class=\"dataframe\">\n  <thead>\n    <tr style=\"text-align: right;\">\n      <th></th>\n      <th>Cliente</th>\n      <th>Facturacion</th>\n      <th>FechaFact</th>\n    </tr>\n  </thead>\n  <tbody>\n    <tr>\n      <th>0</th>\n      <td>Invex_REL</td>\n      <td>67912.764</td>\n      <td>2021-01-11</td>\n    </tr>\n    <tr>\n      <th>1</th>\n      <td>Invex_RLA</td>\n      <td>78187.004</td>\n      <td>2021-01-11</td>\n    </tr>\n    <tr>\n      <th>2</th>\n      <td>Invex_RLN</td>\n      <td>58453.902</td>\n      <td>2021-01-11</td>\n    </tr>\n  </tbody>\n</table>\n</div>"
     },
     "metadata": {},
     "execution_count": 10
    }
   ],
   "source": [
    "reporte_pagos_invex = pd.pivot_table(pagos_invex,index=['Cliente'],values=['AMT_TRAN','HONORARIO'],aggfunc=[np.sum,np.mean])\n",
    "reporte_pagos_invex = pd.DataFrame(reporte_pagos_invex.to_records())\n",
    "reporte_pagos_invex = reporte_pagos_invex.iloc[:,[0,1,4]]\n",
    "reporte_pagos_invex.columns = ['Cliente','Pago','Honorario']\n",
    "reporte_pagos_invex['Facturacion'] = reporte_pagos_invex['Pago']*reporte_pagos_invex['Honorario']\n",
    "reporte_pagos_invex = reporte_pagos_invex.iloc[:,[0,3]]\n",
    "reporte_pagos_invex['FechaFact'] = max(pagos_invex['TRAN_POST_DT'])\n",
    "reporte_pagos_invex['FechaFact'] = pd.to_datetime(reporte_pagos_invex['FechaFact'],dayfirst=True)\n",
    "reporte_pagos_invex"
   ]
  },
  {
   "source": [
    "# Arabela"
   ],
   "cell_type": "markdown",
   "metadata": {}
  },
  {
   "cell_type": "code",
   "execution_count": 11,
   "metadata": {},
   "outputs": [
    {
     "output_type": "execute_result",
     "data": {
      "text/plain": [
       "   Cliente  Facturacion  FechaFact\n",
       "0  Arabela   47829.2936 2021-01-12"
      ],
      "text/html": "<div>\n<style scoped>\n    .dataframe tbody tr th:only-of-type {\n        vertical-align: middle;\n    }\n\n    .dataframe tbody tr th {\n        vertical-align: top;\n    }\n\n    .dataframe thead th {\n        text-align: right;\n    }\n</style>\n<table border=\"1\" class=\"dataframe\">\n  <thead>\n    <tr style=\"text-align: right;\">\n      <th></th>\n      <th>Cliente</th>\n      <th>Facturacion</th>\n      <th>FechaFact</th>\n    </tr>\n  </thead>\n  <tbody>\n    <tr>\n      <th>0</th>\n      <td>Arabela</td>\n      <td>47829.2936</td>\n      <td>2021-01-12</td>\n    </tr>\n  </tbody>\n</table>\n</div>"
     },
     "metadata": {},
     "execution_count": 11
    }
   ],
   "source": [
    "reporte_pagos_arabela = pd.pivot_table(pagos_arabela,index=['Cliente'],values=['factura'],aggfunc=np.sum)\n",
    "reporte_pagos_arabela = pd.DataFrame(reporte_pagos_arabela.to_records())\n",
    "reporte_pagos_arabela.columns = ['Cliente','Facturacion']\n",
    "reporte_pagos_arabela['FechaFact'] = max(pagos_arabela['FechaEntrega'])\n",
    "reporte_pagos_arabela['FechaFact'] = pd.to_datetime(reporte_pagos_arabela['FechaFact'],dayfirst=True)\n",
    "reporte_pagos_arabela"
   ]
  },
  {
   "source": [
    "# Union sucursal"
   ],
   "cell_type": "markdown",
   "metadata": {}
  },
  {
   "cell_type": "code",
   "execution_count": 12,
   "metadata": {},
   "outputs": [
    {
     "output_type": "execute_result",
     "data": {
      "text/plain": [
       "  Sucursal    Cliente  Facturacion  FechaFact    Meta   Avance%\n",
       "0  Torreon    Arabela   47829.2936 2021-01-12   95000  0.503466\n",
       "1  Torreon  Invex_REL   67912.7640 2021-01-11  470000  0.144495\n",
       "2  Torreon  Invex_RLA   78187.0040 2021-01-11  479000  0.163230\n",
       "3  Torreon  Invex_RLN   58453.9020 2021-01-11  270000  0.216496\n",
       "4  Torreon   Oriflame   34482.0050 2021-01-11   65000  0.530492"
      ],
      "text/html": "<div>\n<style scoped>\n    .dataframe tbody tr th:only-of-type {\n        vertical-align: middle;\n    }\n\n    .dataframe tbody tr th {\n        vertical-align: top;\n    }\n\n    .dataframe thead th {\n        text-align: right;\n    }\n</style>\n<table border=\"1\" class=\"dataframe\">\n  <thead>\n    <tr style=\"text-align: right;\">\n      <th></th>\n      <th>Sucursal</th>\n      <th>Cliente</th>\n      <th>Facturacion</th>\n      <th>FechaFact</th>\n      <th>Meta</th>\n      <th>Avance%</th>\n    </tr>\n  </thead>\n  <tbody>\n    <tr>\n      <th>0</th>\n      <td>Torreon</td>\n      <td>Arabela</td>\n      <td>47829.2936</td>\n      <td>2021-01-12</td>\n      <td>95000</td>\n      <td>0.503466</td>\n    </tr>\n    <tr>\n      <th>1</th>\n      <td>Torreon</td>\n      <td>Invex_REL</td>\n      <td>67912.7640</td>\n      <td>2021-01-11</td>\n      <td>470000</td>\n      <td>0.144495</td>\n    </tr>\n    <tr>\n      <th>2</th>\n      <td>Torreon</td>\n      <td>Invex_RLA</td>\n      <td>78187.0040</td>\n      <td>2021-01-11</td>\n      <td>479000</td>\n      <td>0.163230</td>\n    </tr>\n    <tr>\n      <th>3</th>\n      <td>Torreon</td>\n      <td>Invex_RLN</td>\n      <td>58453.9020</td>\n      <td>2021-01-11</td>\n      <td>270000</td>\n      <td>0.216496</td>\n    </tr>\n    <tr>\n      <th>4</th>\n      <td>Torreon</td>\n      <td>Oriflame</td>\n      <td>34482.0050</td>\n      <td>2021-01-11</td>\n      <td>65000</td>\n      <td>0.530492</td>\n    </tr>\n  </tbody>\n</table>\n</div>"
     },
     "metadata": {},
     "execution_count": 12
    }
   ],
   "source": [
    "pdList = [reporte_pagos_arabela,reporte_pagos_invex,reporte_pagos_oriflame]\n",
    "final_torreon = pd.concat(pdList,ignore_index=True)\n",
    "final_torreon = pd.merge(final_torreon,metas,on=['Cliente'],how='left')\n",
    "final_torreon['Avance%'] = final_torreon['Facturacion']/final_torreon['Meta']\n",
    "final_torreon.insert(loc=0,column='Sucursal',value='Torreon')\n",
    "final_torreon"
   ]
  },
  {
   "source": [
    "# Naucalpan"
   ],
   "cell_type": "markdown",
   "metadata": {}
  },
  {
   "cell_type": "code",
   "execution_count": 13,
   "metadata": {},
   "outputs": [],
   "source": [
    "meta_naucalpan = pd.DataFrame([['Liverpool', 300000],['Liverpool Cof', 300000],['Liverpool Nacional', 550000],['Bradesco',750000],['Credifiel',100000]])\n",
    "meta_naucalpan.columns = ['Cliente','Meta']"
   ]
  },
  {
   "cell_type": "code",
   "execution_count": 14,
   "metadata": {},
   "outputs": [],
   "source": [
    "#Lectura pagos Bradesco\n",
    "pagos_brad = pd.read_excel(''+ruta_pagos+'/'+str(mes2)+'/Bradesco/Pagos/Acumulado de pagos enero de 2021.xlsx')\n",
    "pagos_brad = pagos_brad.iloc[:,0:9]\n",
    "pagos_brad = pagos_brad.drop_duplicates()\n",
    "pagos_brad2 = pd.pivot_table(pagos_brad,index=['NUMERO_TARJETA','FECHA_PAGO','TIPO_ASIGANCION'],values=['MONTO'],aggfunc=np.sum)\n",
    "pagos_brad2 = pd.DataFrame(pagos_brad2.to_records())\n",
    "pagos_brad2 = pagos_brad2.loc[pagos_brad2['FECHA_PAGO']>=mes3]"
   ]
  },
  {
   "cell_type": "code",
   "execution_count": 15,
   "metadata": {},
   "outputs": [],
   "source": [
    "#Lectura pagos Liverpool\n",
    "sheet_liv = ['SA002REM','SA001REM','DKN04REM','DKN02REM','DKN00REM']\n",
    "pagos_liv = pd.DataFrame()\n",
    "for i in sheet_liv:\n",
    "    pagos_liv_new = pd.read_excel(''+ruta_pagos+'/'+str(mes2)+'/Liverpool/Pagos/PAGOS ENERO2021.xlsx',sheet_name = str(i))\n",
    "    pagos_liv = pd.concat([pagos_liv,pagos_liv_new],ignore_index=True)\n",
    "pagos_liv = pagos_liv.drop_duplicates()\n",
    "pagos_liv = pagos_liv.iloc[:,0:6]\n",
    "pagos_liv.columns = ['Id','Cuenta','Fecha Prom','Fecha Pago','Monto','Posteo']\n",
    "pagos_liv['Fecha Pago'] = pd.to_datetime(pagos_liv['Fecha Pago'],dayfirst=True)\n",
    "pagos_liv2 = pd.pivot_table(pagos_liv,index=['Id','Cuenta','Fecha Pago','Fecha Prom'],values=['Monto'],aggfunc=np.sum)\n",
    "pagos_liv2 = pd.DataFrame(pagos_liv2.to_records())\n",
    "pagos_liv2 = pagos_liv2.loc[pagos_liv2['Fecha Pago']>=mes3]"
   ]
  },
  {
   "cell_type": "code",
   "execution_count": 16,
   "metadata": {},
   "outputs": [],
   "source": [
    "#Lectura pagos Credifiel\n",
    "sheet_cred = os.listdir(''+ruta_pagos+'/'+str(mes2)+'/Credifiel/Pagos/')\n",
    "pagos_cred = pd.DataFrame()\n",
    "for i in sheet_cred:\n",
    "    pagos_cred_new = pd.read_excel(''+ruta_pagos+'/'+str(mes2)+'/Credifiel/Pagos/'+i+'')\n",
    "    pagos_cred = pd.concat([pagos_cred,pagos_cred_new],ignore_index=True)\n",
    "pagos_cred = pagos_cred.iloc[:,0:5]\n",
    "pagos_cred = pagos_cred.drop_duplicates()\n",
    "pagos_cred2 = pd.pivot_table(pagos_cred,index=['ID','FECHA'],values=['IMPORTE'],aggfunc=np.sum)\n",
    "pagos_cred2 = pd.DataFrame(pagos_cred2.to_records())"
   ]
  },
  {
   "cell_type": "code",
   "execution_count": 17,
   "metadata": {},
   "outputs": [],
   "source": [
    "#Hacemos la consulta de la asignacion\n",
    "asignacion_cred = pd.read_excel('/home/estadistico/Documents/Erick/Credifiel/Asignacion/Asignacion Credifiel '+mes2+'.xlsx')\n",
    "asignacion_cred = asignacion_cred.drop_duplicates(subset=['CREDITO','SALDO TOTAL REAL'])\n",
    "asignacion_cred['CREDITO'] = pd.to_numeric(asignacion_cred['CREDITO'])\n",
    "asignacion_cred = asignacion_cred[['CREDITO','ARANCEL']]"
   ]
  },
  {
   "cell_type": "code",
   "execution_count": 18,
   "metadata": {},
   "outputs": [],
   "source": [
    "# #Lectura pagos Banco Azteca Recovery\n",
    "# sheet_baz_recovery = os.listdir(''+ruta_pagos+'/'+str(mes2)+'/Banco Azteca/Pagos/Recovery/')\n",
    "# pagos_baz_recovery = pd.DataFrame()\n",
    "# for k in sheet_baz_recovery:\n",
    "#     pagos_baz_recovery_new = pd.read_csv(''+ruta_pagos+'/'+str(mes2)+'/Banco Azteca/Pagos/Recovery/'+k+'',sep='|')\n",
    "#     pagos_baz_recovery = pd.concat([pagos_baz_recovery,pagos_baz_recovery_new],ignore_index=True)\n",
    "# pagos_baz_recovery['Cartera'] = 'Recovery'\n",
    "# pagos_baz_recovery['DIA'] = pd.to_datetime(pagos_baz_recovery['DIA'],dayfirst=True)\n",
    "# pagos_baz_recovery = pagos_baz_recovery.loc[pagos_baz_recovery['DIA']>=mes3]\n",
    "# pagos_baz_recovery = pagos_baz_recovery.loc[pagos_baz_recovery['DIA']>=mes3]\n",
    "# pagos_baz_recovery['credito'] = pagos_baz_recovery['PAIS'].map(str)+'-'+pagos_baz_recovery['CANAL'].map(str)+'-'+pagos_baz_recovery['SUCURSAL'].map(str)+'-'+pagos_baz_recovery['FOLIO'].map(str)\n",
    "# pagos_baz_recovery = pagos_baz_recovery.drop_duplicates()"
   ]
  },
  {
   "cell_type": "code",
   "execution_count": 19,
   "metadata": {},
   "outputs": [],
   "source": [
    "# #Lectura pagos Banco Azteca 26-39\n",
    "# sheet_baz_26 = os.listdir(''+ruta_pagos+'/'+str(mes2)+'/Banco Azteca/Pagos/26-39/')\n",
    "# pagos_baz_26 = pd.DataFrame()\n",
    "# for j in sheet_baz_26:\n",
    "#     pagos_baz_26_new = pd.read_csv(''+ruta_pagos+'/'+str(mes2)+'/Banco Azteca/Pagos/26-39/'+j+'',sep='|')\n",
    "#     pagos_baz_26 = pd.concat([pagos_baz_26,pagos_baz_26_new],ignore_index=True)\n",
    "# pagos_baz_26['cartera'] = '26-39'\n",
    "# pagos_baz_26['DIA'] = pd.to_datetime(pagos_baz_26['DIA'],dayfirst=True)\n",
    "# pagos_baz_26 = pagos_baz_26.loc[pagos_baz_26['DIA']>=mes3]\n",
    "# pagos_baz_26['credito'] = pagos_baz_26['PAIS'].map(str)+'-'+pagos_baz_26['CANAL'].map(str)+'-'+pagos_baz_26['SUCURSAL'].map(str)+'-'+pagos_baz_26['FOLIO'].map(str)\n",
    "# pagos_baz_26 = pagos_baz_26.drop_duplicates()"
   ]
  },
  {
   "source": [
    "# Liverpool"
   ],
   "cell_type": "markdown",
   "metadata": {}
  },
  {
   "cell_type": "code",
   "execution_count": 20,
   "metadata": {},
   "outputs": [],
   "source": [
    "#Hacemos la asignacion de cada una de las metas para cambiar de arancel sin tomar el 0 en cuenta\n",
    "cof, arancel_cof,arancel_cof2 = 300000, .5, .5\n",
    "sub, arancel_sub, arancel_sub2 = 300000, .15, .2\n",
    "subdic, arancel_subdic, arancel_subdic2 = 350000, .16, .2\n",
    "n2, arancel_n2, arancel_n22 = 650000, .4, .5\n",
    "pren, arancel_pren, arancel_pren2 = 300000, .28, .28"
   ]
  },
  {
   "cell_type": "code",
   "execution_count": 21,
   "metadata": {},
   "outputs": [],
   "source": [
    "#Asignamos los aranceles de liverpool\n",
    "aranceles = [('DKN00REM','Liverpool'),('DKN02REM','Liverpool Nacional'),('DKN04REM','Liverpool Cof'),('SA001REM','Liverpool'),('SA002REM','Liverpool')]\n",
    "aranceles = pd.DataFrame(aranceles)\n",
    "aranceles.columns = ['Id','Cliente']"
   ]
  },
  {
   "cell_type": "code",
   "execution_count": 22,
   "metadata": {},
   "outputs": [
    {
     "output_type": "execute_result",
     "data": {
      "text/plain": [
       "   Division  SumaPagos\n",
       "0  DKN00REM  302061.00\n",
       "1  DKN02REM  270882.99\n",
       "2  DKN04REM  143493.37\n",
       "3  SA001REM  100220.98\n",
       "4  SA002REM    4401.00"
      ],
      "text/html": "<div>\n<style scoped>\n    .dataframe tbody tr th:only-of-type {\n        vertical-align: middle;\n    }\n\n    .dataframe tbody tr th {\n        vertical-align: top;\n    }\n\n    .dataframe thead th {\n        text-align: right;\n    }\n</style>\n<table border=\"1\" class=\"dataframe\">\n  <thead>\n    <tr style=\"text-align: right;\">\n      <th></th>\n      <th>Division</th>\n      <th>SumaPagos</th>\n    </tr>\n  </thead>\n  <tbody>\n    <tr>\n      <th>0</th>\n      <td>DKN00REM</td>\n      <td>302061.00</td>\n    </tr>\n    <tr>\n      <th>1</th>\n      <td>DKN02REM</td>\n      <td>270882.99</td>\n    </tr>\n    <tr>\n      <th>2</th>\n      <td>DKN04REM</td>\n      <td>143493.37</td>\n    </tr>\n    <tr>\n      <th>3</th>\n      <td>SA001REM</td>\n      <td>100220.98</td>\n    </tr>\n    <tr>\n      <th>4</th>\n      <td>SA002REM</td>\n      <td>4401.00</td>\n    </tr>\n  </tbody>\n</table>\n</div>"
     },
     "metadata": {},
     "execution_count": 22
    }
   ],
   "source": [
    "#Obtenemos los pagos totales por division\n",
    "pagos_totales_liv = pd.pivot_table(pagos_liv,index=['Id'],values=['Monto'],aggfunc=[np.sum])\n",
    "pagos_totales_liv = pd.DataFrame(pagos_totales_liv.to_records())\n",
    "#pagos_totales_liv = pagos_totales_liv2.iloc[:,[0,2,1]]\n",
    "pagos_totales_liv.columns = ['Division','SumaPagos']\n",
    "pagos_totales_liv.fillna(0,inplace=True)\n",
    "pagos_totales_liv"
   ]
  },
  {
   "cell_type": "code",
   "execution_count": 23,
   "metadata": {},
   "outputs": [],
   "source": [
    "DKN00REM = pagos_totales_liv.loc[pagos_totales_liv['Division']=='DKN00REM', 'SumaPagos'].item()\n",
    "DKN02REM = pagos_totales_liv.loc[pagos_totales_liv['Division']=='DKN02REM', 'SumaPagos'].item()\n",
    "DKN04REM = pagos_totales_liv.loc[pagos_totales_liv['Division']=='DKN04REM', 'SumaPagos'].item()\n",
    "SA001REM = pagos_totales_liv.loc[pagos_totales_liv['Division']=='SA001REM', 'SumaPagos'].item()\n",
    "SA002REM = pagos_totales_liv.loc[pagos_totales_liv['Division']=='SA002REM', 'SumaPagos'].item()"
   ]
  },
  {
   "cell_type": "code",
   "execution_count": 24,
   "metadata": {},
   "outputs": [],
   "source": [
    "def arancel_liv(row):\n",
    "    if row['Id'] == 'DKN00REM' :\n",
    "        return np.where((DKN00REM>0) & (DKN00REM<=pren/arancel_pren),arancel_pren,arancel_pren2)\n",
    "    elif row['Id'] == 'DKN02REM':\n",
    "        return np.where((DKN02REM>0) & (DKN02REM<=n2/arancel_n2),arancel_n2,arancel_n22)\n",
    "    elif row['Id'] == 'DKN04REM':\n",
    "        return np.where((DKN04REM>0) & (DKN04REM<=cof/arancel_cof),arancel_cof,arancel_cof2)\n",
    "    elif row['Id'] == 'SA001REM':\n",
    "        return np.where((SA001REM>0) & (SA001REM<=sub/arancel_sub),arancel_sub,arancel_sub2)\n",
    "    elif row['Id'] == 'SA002REM':\n",
    "        return np.where((SA002REM>0) & (SA002REM<=subdic/arancel_subdic),arancel_subdic,arancel_subdic2)\n",
    "    else:\n",
    "        return 0\n"
   ]
  },
  {
   "cell_type": "code",
   "execution_count": 25,
   "metadata": {},
   "outputs": [
    {
     "output_type": "execute_result",
     "data": {
      "text/plain": [
       "         Id            Cuenta  Fecha Prom Fecha Pago  Monto            Posteo  \\\n",
       "0  SA002REM  4050670000337528  07/01/2021 2021-01-07  500.0  5200000000009690   \n",
       "\n",
       "  Arancel    Cliente  PagoArancel  \n",
       "0    0.16  Liverpool         80.0  "
      ],
      "text/html": "<div>\n<style scoped>\n    .dataframe tbody tr th:only-of-type {\n        vertical-align: middle;\n    }\n\n    .dataframe tbody tr th {\n        vertical-align: top;\n    }\n\n    .dataframe thead th {\n        text-align: right;\n    }\n</style>\n<table border=\"1\" class=\"dataframe\">\n  <thead>\n    <tr style=\"text-align: right;\">\n      <th></th>\n      <th>Id</th>\n      <th>Cuenta</th>\n      <th>Fecha Prom</th>\n      <th>Fecha Pago</th>\n      <th>Monto</th>\n      <th>Posteo</th>\n      <th>Arancel</th>\n      <th>Cliente</th>\n      <th>PagoArancel</th>\n    </tr>\n  </thead>\n  <tbody>\n    <tr>\n      <th>0</th>\n      <td>SA002REM</td>\n      <td>4050670000337528</td>\n      <td>07/01/2021</td>\n      <td>2021-01-07</td>\n      <td>500.0</td>\n      <td>5200000000009690</td>\n      <td>0.16</td>\n      <td>Liverpool</td>\n      <td>80.0</td>\n    </tr>\n  </tbody>\n</table>\n</div>"
     },
     "metadata": {},
     "execution_count": 25
    }
   ],
   "source": [
    "pagos_liv['Arancel'] = pagos_liv.apply(arancel_liv, axis=1)\n",
    "\n",
    "#Agregamos aranceles al consolidado\n",
    "pagos_liv2 = pd.merge(pagos_liv,aranceles,how='left',on='Id')\n",
    "pagos_liv2['PagoArancel'] = [x*y for x,y in zip(pagos_liv2['Monto'],pagos_liv2['Arancel'])]\n",
    "pagos_liv2['Fecha Pago'] = pd.to_datetime(pagos_liv2['Fecha Pago'],dayfirst=True)\n",
    "pagos_liv2.head(1)"
   ]
  },
  {
   "cell_type": "code",
   "execution_count": 26,
   "metadata": {},
   "outputs": [
    {
     "output_type": "execute_result",
     "data": {
      "text/plain": [
       "              Cliente  Facturacion  FechaFact\n",
       "0           Liverpool    100314.39 2021-01-14\n",
       "1       Liverpool Cof     71746.68 2021-01-14\n",
       "2  Liverpool Nacional    108353.20 2021-01-14"
      ],
      "text/html": "<div>\n<style scoped>\n    .dataframe tbody tr th:only-of-type {\n        vertical-align: middle;\n    }\n\n    .dataframe tbody tr th {\n        vertical-align: top;\n    }\n\n    .dataframe thead th {\n        text-align: right;\n    }\n</style>\n<table border=\"1\" class=\"dataframe\">\n  <thead>\n    <tr style=\"text-align: right;\">\n      <th></th>\n      <th>Cliente</th>\n      <th>Facturacion</th>\n      <th>FechaFact</th>\n    </tr>\n  </thead>\n  <tbody>\n    <tr>\n      <th>0</th>\n      <td>Liverpool</td>\n      <td>100314.39</td>\n      <td>2021-01-14</td>\n    </tr>\n    <tr>\n      <th>1</th>\n      <td>Liverpool Cof</td>\n      <td>71746.68</td>\n      <td>2021-01-14</td>\n    </tr>\n    <tr>\n      <th>2</th>\n      <td>Liverpool Nacional</td>\n      <td>108353.20</td>\n      <td>2021-01-14</td>\n    </tr>\n  </tbody>\n</table>\n</div>"
     },
     "metadata": {},
     "execution_count": 26
    }
   ],
   "source": [
    "#Total pagos Liver registrados\n",
    "pagos_totales_liv2 = pd.pivot_table(pagos_liv2,index=['Cliente'],values=['PagoArancel'],aggfunc=np.sum,dropna=False)\n",
    "pagos_totales_liv2 = pd.DataFrame(pagos_totales_liv2.to_records())\n",
    "#pagos_totales_liv = pagos_totales_liv.iloc[:,[0,3,1,2]]\n",
    "pagos_totales_liv2.columns = ['Cliente','Facturacion']\n",
    "pagos_totales_liv2.fillna(0,inplace=True)\n",
    "pagos_totales_liv2['Facturacion'] = pagos_totales_liv2['Facturacion'].round(2)\n",
    "pagos_totales_liv2['FechaFact'] = max(pagos_liv2['Fecha Pago'])\n",
    "pagos_totales_liv2['FechaFact'] = pd.to_datetime(pagos_totales_liv2['FechaFact'],dayfirst=True)\n",
    "pagos_totales_liv2"
   ]
  },
  {
   "cell_type": "code",
   "execution_count": 27,
   "metadata": {},
   "outputs": [],
   "source": [
    "def sig_arancel_liv(row):\n",
    "    if row['Asignacion'] == 'DKN00REM' :\n",
    "        return np.where((DKN00REM>0) & (DKN00REM<=pren/arancel_pren),round(pren/arancel_pren,1),0)\n",
    "    elif row['Asignacion'] == 'DKN02REM':\n",
    "        return np.where((DKN02REM>0) & (DKN02REM<=n2/arancel_n2),n2/arancel_n2,0)\n",
    "    elif row['Asignacion'] == 'DKN04REM':\n",
    "        return np.where((DKN04REM>0) & (DKN04REM<=cof/arancel_cof),cof/arancel_cof,0)\n",
    "    elif row['Asignacion'] == 'SA001REM':\n",
    "        return np.where((SA001REM>0) & (SA001REM<=sub/arancel_sub),sub/arancel_sub,0)\n",
    "    elif row['Asignacion'] == 'SA002REM':\n",
    "        return np.where((SA002REM>0) & (SA002REM<=subdic/arancel_subdic),subdic/arancel_subdic,0)\n",
    "    \n",
    "    else:\n",
    "        return 0"
   ]
  },
  {
   "cell_type": "code",
   "execution_count": 28,
   "metadata": {},
   "outputs": [
    {
     "output_type": "execute_result",
     "data": {
      "text/plain": [
       "   Division  Recuperado  FechaFact SiguienteArancel RestSigArancel\n",
       "0  DKN00REM   302061.00 2021-01-14        1071428.6         769368\n",
       "1  DKN02REM   270882.99 2021-01-14        1625000.0    1.35412e+06\n",
       "2  DKN04REM   143493.37 2021-01-14         600000.0         456507\n",
       "3  SA001REM   100220.98 2021-01-14        2000000.0    1.89978e+06\n",
       "4  SA002REM     4401.00 2021-01-14        2187500.0     2.1831e+06"
      ],
      "text/html": "<div>\n<style scoped>\n    .dataframe tbody tr th:only-of-type {\n        vertical-align: middle;\n    }\n\n    .dataframe tbody tr th {\n        vertical-align: top;\n    }\n\n    .dataframe thead th {\n        text-align: right;\n    }\n</style>\n<table border=\"1\" class=\"dataframe\">\n  <thead>\n    <tr style=\"text-align: right;\">\n      <th></th>\n      <th>Division</th>\n      <th>Recuperado</th>\n      <th>FechaFact</th>\n      <th>SiguienteArancel</th>\n      <th>RestSigArancel</th>\n    </tr>\n  </thead>\n  <tbody>\n    <tr>\n      <th>0</th>\n      <td>DKN00REM</td>\n      <td>302061.00</td>\n      <td>2021-01-14</td>\n      <td>1071428.6</td>\n      <td>769368</td>\n    </tr>\n    <tr>\n      <th>1</th>\n      <td>DKN02REM</td>\n      <td>270882.99</td>\n      <td>2021-01-14</td>\n      <td>1625000.0</td>\n      <td>1.35412e+06</td>\n    </tr>\n    <tr>\n      <th>2</th>\n      <td>DKN04REM</td>\n      <td>143493.37</td>\n      <td>2021-01-14</td>\n      <td>600000.0</td>\n      <td>456507</td>\n    </tr>\n    <tr>\n      <th>3</th>\n      <td>SA001REM</td>\n      <td>100220.98</td>\n      <td>2021-01-14</td>\n      <td>2000000.0</td>\n      <td>1.89978e+06</td>\n    </tr>\n    <tr>\n      <th>4</th>\n      <td>SA002REM</td>\n      <td>4401.00</td>\n      <td>2021-01-14</td>\n      <td>2187500.0</td>\n      <td>2.1831e+06</td>\n    </tr>\n  </tbody>\n</table>\n</div>"
     },
     "metadata": {},
     "execution_count": 28
    }
   ],
   "source": [
    "pagos_liv_gerencia = pd.pivot_table(pagos_liv2,index=['Id'],values=['Monto'],aggfunc=[np.sum])\n",
    "pagos_liv_gerencia = pd.DataFrame(pagos_liv_gerencia.to_records())\n",
    "pagos_liv_gerencia.columns = ['Asignacion','Recuperado']\n",
    "pagos_liv_gerencia.fillna(0,inplace=True)\n",
    "pagos_liv_gerencia['FechaFact'] = max(pagos_liv2['Fecha Pago'])\n",
    "pagos_liv_gerencia['SiguienteArancel'] = pagos_liv_gerencia.apply(sig_arancel_liv, axis=1)\n",
    "pagos_liv_gerencia['RestSigArancel'] = pagos_liv_gerencia['SiguienteArancel']-pagos_liv_gerencia['Recuperado']\n",
    "cols = ['Recuperado','SiguienteArancel','RestSigArancel']\n",
    "pagos_liv_gerencia[cols] = pagos_liv_gerencia[cols].round(2)\n",
    "pagos_liv_gerencia['RestSigArancel'] = np.where(pagos_liv_gerencia['RestSigArancel']<0,'Alcanzado',pagos_liv_gerencia['RestSigArancel'])\n",
    "#pagos_liv_gerencia = pagos_liv_gerencia.iloc[:,[0,1,2,4]]\n",
    "pagos_liv_gerencia.columns = ['Division','Recuperado','FechaFact','SiguienteArancel','RestSigArancel']\n",
    "pagos_liv_gerencia"
   ]
  },
  {
   "cell_type": "code",
   "execution_count": null,
   "metadata": {},
   "outputs": [],
   "source": []
  },
  {
   "source": [
    "# Bradesco"
   ],
   "cell_type": "markdown",
   "metadata": {}
  },
  {
   "cell_type": "code",
   "execution_count": 29,
   "metadata": {},
   "outputs": [],
   "source": [
    "#Hacemos la asignacion de cada una de las metas para cambiar de arancel sin tomar el 0 en cuenta\n",
    "c04pv1, arancel_4pv1 = 846436, .07\n",
    "c04pv2, arancel_4pv2 = 1269654, .08\n",
    "c04pv3, arancel_4pv3 = 1692873, .12\n",
    "c05pv1, arancel_5pv1 = 729630, .09\n",
    "c05pv2, arancel_5pv2 = 1094445, .10\n",
    "c05pv3, arancel_5pv3 = 1459261, .14\n",
    "c06pv1, arancel_6pv1 = 623524, .10\n",
    "c06pv2, arancel_6pv2 = 935287, .11\n",
    "c06pv3, arancel_6pv3 = 1247050, .16\n",
    "a1, arancel_a1 = 264024, .27\n",
    "a2, arancel_a2 = 396037, .30\n",
    "a3, arancel_a3 = 528050, .33\n",
    "b1, arancel_b1 = 214969, .25\n",
    "b2, arancel_b2 = 396037, .28\n",
    "b3, arancel_b3 = 528050, .31\n",
    "c11, arancel_c11 = 1430989, .17\n",
    "c12, arancel_c12 = 2146483, .20\n",
    "c13, arancel_c13 = 2861978, .23\n",
    "c21, arancel_c21 = 549549, .19\n",
    "c22, arancel_c22 = 824323, .22\n",
    "c23, arancel_c23 = 1099098, .25\n",
    "c31, arancel_c31 = 237647, .21\n",
    "c32, arancel_c32 = 356470, .24\n",
    "c33, arancel_c33 = 475294, .27\n",
    "c41, arancel_c41 = 109401, .23\n",
    "c42, arancel_c42 = 164101, .26\n",
    "c43, arancel_c43 = 218801, .29"
   ]
  },
  {
   "cell_type": "code",
   "execution_count": 30,
   "metadata": {},
   "outputs": [],
   "source": [
    "#Obtenemos los pagos totales por division\n",
    "pagos_totales_brad = pd.pivot_table(pagos_brad2,index=['TIPO_ASIGANCION'],values=['MONTO'],aggfunc=[np.sum,'count'],margins=True,dropna=False)\n",
    "pagos_totales_brad = pd.DataFrame(pagos_totales_brad.to_records())\n",
    "pagos_totales_brad = pagos_totales_brad.iloc[:,[0,2,1]]\n",
    "pagos_totales_brad.columns = ['Division','NumeroPagos','SumaPagos']\n",
    "pagos_totales_brad.fillna(0,inplace=True)"
   ]
  },
  {
   "cell_type": "code",
   "execution_count": 31,
   "metadata": {},
   "outputs": [],
   "source": [
    "C04PV = pagos_totales_brad.loc[pagos_totales_brad['Division']=='C0 4PV', 'SumaPagos'].item()\n",
    "C05PV = pagos_totales_brad.loc[pagos_totales_brad['Division']=='C0 5PV', 'SumaPagos'].item()\n",
    "C06PV = pagos_totales_brad.loc[pagos_totales_brad['Division']=='C0 6PV', 'SumaPagos'].item()\n",
    "A = pagos_totales_brad.loc[pagos_totales_brad['Division']=='A', 'SumaPagos'].item()\n",
    "C1 = pagos_totales_brad.loc[pagos_totales_brad['Division']=='C1', 'SumaPagos'].item()\n",
    "C2 = pagos_totales_brad.loc[pagos_totales_brad['Division']=='C2', 'SumaPagos'].item()\n",
    "C3 = pagos_totales_brad.loc[pagos_totales_brad['Division']=='C3', 'SumaPagos'].item()\n",
    "C4 = pagos_totales_brad.loc[pagos_totales_brad['Division']=='C4', 'SumaPagos'].item()\n",
    "B = pagos_totales_brad.loc[pagos_totales_brad['Division']=='B', 'SumaPagos'].item()"
   ]
  },
  {
   "cell_type": "code",
   "execution_count": 32,
   "metadata": {},
   "outputs": [],
   "source": [
    "def sig_arancel(row):\n",
    "    if row['Asignacion'] == 'C0 4PV':\n",
    "        return np.where((C04PV>0) & (C04PV<=c04pv1),c04pv1,\n",
    "                        np.where((C04PV>c04pv1) & (C04PV<=c04pv2),c04pv2,c04pv3))\n",
    "    elif row['Asignacion'] == 'C0 5PV':\n",
    "        return np.where((C05PV>0) & (C05PV<=c05pv1),c05pv1,\n",
    "                        np.where((C05PV>c05pv1) & (C05PV<=c05pv2),c05pv2,c05pv3))\n",
    "    elif row['Asignacion'] == 'C0 6PV':\n",
    "        return np.where((C06PV>0) & (C06PV<=c06pv1),c06pv1,\n",
    "                        np.where((C06PV>c06pv1) & (C06PV<=c06pv2),c06pv2,c06pv3))\n",
    "    elif row['Asignacion'] == 'A':\n",
    "        return np.where((A>0) & (A<=a1),a1,\n",
    "                        np.where((A>a1) & (A<=a2),a2,a3))\n",
    "    elif row['Asignacion'] == 'B':\n",
    "        return np.where((B>0) & (B<=b1),b1,\n",
    "                        np.where((B>b1) & (B<=b2),b2,b3))\n",
    "    elif row['Asignacion'] == 'C1':\n",
    "        return np.where((C1>0) & (C1<=c11),c11,\n",
    "                        np.where((C1>c11) & (C1<=c12),c12,c13))\n",
    "    elif row['Asignacion'] == 'C2':\n",
    "        return np.where((C2>0) & (C2<=c21),c21,\n",
    "                        np.where((C2>c21) & (C2<=c22),c22,c23))\n",
    "    elif row['Asignacion'] == 'C3':\n",
    "        return np.where((C3>0) & (C3<=c31),c31,\n",
    "                        np.where((C3>c31) & (C3<=c32),c32,c33))\n",
    "    elif row['Asignacion'] == 'C4':\n",
    "        return np.where((C4>0) & (C4<=c41),c41,\n",
    "                        np.where((C4>c41) & (C4<=c42),c42,c43))\n",
    "    \n",
    "    else:\n",
    "        return 0"
   ]
  },
  {
   "cell_type": "code",
   "execution_count": 33,
   "metadata": {},
   "outputs": [],
   "source": [
    "def func(row):\n",
    "    if row['TIPO_ASIGANCION'] == 'C0 4PV':\n",
    "        return np.where((C04PV>0) & (C04PV<=c04pv1),arancel_4pv1,\n",
    "                        np.where((C04PV>c04pv1) & (C04PV<=c04pv2),arancel_4pv2,\n",
    "                                 np.where((C04PV>c04pv2) & (C04PV<=c04pv3),arancel_4pv3,arancel_4pv3+.04)))\n",
    "    elif row['TIPO_ASIGANCION'] == 'C0 5PV':\n",
    "        return np.where((C05PV>0) & (C05PV<=c05pv1),arancel_5pv1,\n",
    "                        np.where((C05PV>c05pv1) & (C05PV<=c05pv2),arancel_5pv2,\n",
    "                                 np.where((C05PV>c05pv2) & (C05PV<=c05pv3),arancel_5pv3,arancel_5pv3+.04)))\n",
    "    elif row['TIPO_ASIGANCION'] == 'C0 6PV':\n",
    "        return np.where((C06PV>0) & (C06PV<=c06pv1),arancel_6pv1,\n",
    "                        np.where((C06PV>c06pv1) & (C06PV<=c06pv2),arancel_6pv2,\n",
    "                                 np.where((C06PV>c06pv2) & (C06PV<=c06pv3),arancel_6pv3,arancel_6pv3+.04)))\n",
    "    elif row['TIPO_ASIGANCION'] == 'A':\n",
    "        return np.where((A>0) & (A<=a1),arancel_a1,\n",
    "                        np.where((A>a1) & (A<=a2),arancel_a2,\n",
    "                                 np.where((A>a2) & (A<=a3),arancel_a3,arancel_a3+.04)))\n",
    "    elif row['TIPO_ASIGANCION'] == 'B':\n",
    "        return np.where((B>0) & (B<=b1),arancel_b1,\n",
    "                        np.where((B>b1) & (B<=b2),arancel_b2,\n",
    "                                 np.where((B>b2) & (B<=b3),arancel_b3,arancel_b3+.04)))\n",
    "    elif row['TIPO_ASIGANCION'] == 'C1':\n",
    "        return np.where((C1>0) & (C1<=c11),arancel_c11,\n",
    "                        np.where((C1>c11) & (C1<=c12),arancel_c12,\n",
    "                                 np.where((C1>c12) & (C1<=c13),arancel_c13,arancel_c13+.04)))\n",
    "    elif row['TIPO_ASIGANCION'] == 'C2':\n",
    "        return np.where((C2>0) & (C2<=c21),arancel_c21,\n",
    "                        np.where((C2>c21) & (C2<=c22),arancel_c22,\n",
    "                                 np.where((C2>c22) & (C2<=c23),arancel_c23,arancel_c23+.04)))\n",
    "    elif row['TIPO_ASIGANCION'] == 'C3':\n",
    "        return np.where((C3>0) & (C3<=c31),arancel_c31,\n",
    "                        np.where((C3>c31) & (C3<=c32),arancel_c32,\n",
    "                                 np.where((C3>c32) & (C3<=c33),arancel_c33,arancel_c33+.04)))\n",
    "    elif row['TIPO_ASIGANCION'] == 'C4':\n",
    "        return np.where((C4>0) & (C4<=c41),arancel_c41,\n",
    "                        np.where((C4>c41) & (C4<=c42),arancel_c42,\n",
    "                                 np.where((C4>c42) & (C4<=c43),arancel_c43,arancel_c43+.04)))\n",
    "    \n",
    "    else:\n",
    "        return 0\n"
   ]
  },
  {
   "cell_type": "code",
   "execution_count": 34,
   "metadata": {},
   "outputs": [],
   "source": [
    "pagos_brad2['Arancel'] = pagos_brad2.apply(func, axis=1)\n",
    "pagos_brad2['Facturacion'] = [x*y for x,y in zip(pagos_brad2['MONTO'],pagos_brad2['Arancel'])]\n",
    "pagos_brad2['Cliente'] = 'Bradesco'"
   ]
  },
  {
   "cell_type": "code",
   "execution_count": 35,
   "metadata": {},
   "outputs": [
    {
     "output_type": "execute_result",
     "data": {
      "text/plain": [
       "    Cliente  Facturacion  FechaFact\n",
       "0  Bradesco   104747.641 2021-01-14"
      ],
      "text/html": "<div>\n<style scoped>\n    .dataframe tbody tr th:only-of-type {\n        vertical-align: middle;\n    }\n\n    .dataframe tbody tr th {\n        vertical-align: top;\n    }\n\n    .dataframe thead th {\n        text-align: right;\n    }\n</style>\n<table border=\"1\" class=\"dataframe\">\n  <thead>\n    <tr style=\"text-align: right;\">\n      <th></th>\n      <th>Cliente</th>\n      <th>Facturacion</th>\n      <th>FechaFact</th>\n    </tr>\n  </thead>\n  <tbody>\n    <tr>\n      <th>0</th>\n      <td>Bradesco</td>\n      <td>104747.641</td>\n      <td>2021-01-14</td>\n    </tr>\n  </tbody>\n</table>\n</div>"
     },
     "metadata": {},
     "execution_count": 35
    }
   ],
   "source": [
    "pagos_totales_brad2 = pd.pivot_table(pagos_brad2,index=['Cliente'],values=['Facturacion'],aggfunc=[np.sum],dropna=False)\n",
    "pagos_totales_brad2 = pd.DataFrame(pagos_totales_brad2.to_records())\n",
    "pagos_totales_brad2.columns = ['Cliente','Facturacion']\n",
    "pagos_totales_brad2.fillna(0,inplace=True)\n",
    "pagos_totales_brad2['FechaFact'] = max(pagos_brad2['FECHA_PAGO'])\n",
    "pagos_totales_brad2"
   ]
  },
  {
   "cell_type": "code",
   "execution_count": 36,
   "metadata": {},
   "outputs": [
    {
     "output_type": "execute_result",
     "data": {
      "text/plain": [
       "     NUMERO_TARJETA FECHA_PAGO TIPO_ASIGANCION  MONTO Arancel  Facturacion  \\\n",
       "0  2869000840278754 2021-01-08              C1  500.0    0.17         85.0   \n",
       "\n",
       "    Cliente  \n",
       "0  Bradesco  "
      ],
      "text/html": "<div>\n<style scoped>\n    .dataframe tbody tr th:only-of-type {\n        vertical-align: middle;\n    }\n\n    .dataframe tbody tr th {\n        vertical-align: top;\n    }\n\n    .dataframe thead th {\n        text-align: right;\n    }\n</style>\n<table border=\"1\" class=\"dataframe\">\n  <thead>\n    <tr style=\"text-align: right;\">\n      <th></th>\n      <th>NUMERO_TARJETA</th>\n      <th>FECHA_PAGO</th>\n      <th>TIPO_ASIGANCION</th>\n      <th>MONTO</th>\n      <th>Arancel</th>\n      <th>Facturacion</th>\n      <th>Cliente</th>\n    </tr>\n  </thead>\n  <tbody>\n    <tr>\n      <th>0</th>\n      <td>2869000840278754</td>\n      <td>2021-01-08</td>\n      <td>C1</td>\n      <td>500.0</td>\n      <td>0.17</td>\n      <td>85.0</td>\n      <td>Bradesco</td>\n    </tr>\n  </tbody>\n</table>\n</div>"
     },
     "metadata": {},
     "execution_count": 36
    }
   ],
   "source": [
    "pagos_brad2.head(1)"
   ]
  },
  {
   "cell_type": "code",
   "execution_count": 37,
   "metadata": {},
   "outputs": [
    {
     "output_type": "execute_result",
     "data": {
      "text/plain": [
       "  Division  Recuperado  FechaFact SiguienteArancel RestSigArancel\n",
       "0        A    32007.00 2021-01-14           264024         232017\n",
       "1        B     5047.00 2021-01-14           214969         209922\n",
       "2   C0 4PV   266056.32 2021-01-14           846436         580380\n",
       "3   C0 5PV   112172.10 2021-01-14           729630         617458\n",
       "4   C0 6PV    92226.50 2021-01-14           623524         531298\n",
       "5       C1   135503.00 2021-01-14          1430989    1.29549e+06\n",
       "6       C2   109827.84 2021-01-14           549549         439721\n",
       "7       C3    52510.00 2021-01-14           237647         185137\n",
       "8       C4     8574.00 2021-01-14           109401         100827"
      ],
      "text/html": "<div>\n<style scoped>\n    .dataframe tbody tr th:only-of-type {\n        vertical-align: middle;\n    }\n\n    .dataframe tbody tr th {\n        vertical-align: top;\n    }\n\n    .dataframe thead th {\n        text-align: right;\n    }\n</style>\n<table border=\"1\" class=\"dataframe\">\n  <thead>\n    <tr style=\"text-align: right;\">\n      <th></th>\n      <th>Division</th>\n      <th>Recuperado</th>\n      <th>FechaFact</th>\n      <th>SiguienteArancel</th>\n      <th>RestSigArancel</th>\n    </tr>\n  </thead>\n  <tbody>\n    <tr>\n      <th>0</th>\n      <td>A</td>\n      <td>32007.00</td>\n      <td>2021-01-14</td>\n      <td>264024</td>\n      <td>232017</td>\n    </tr>\n    <tr>\n      <th>1</th>\n      <td>B</td>\n      <td>5047.00</td>\n      <td>2021-01-14</td>\n      <td>214969</td>\n      <td>209922</td>\n    </tr>\n    <tr>\n      <th>2</th>\n      <td>C0 4PV</td>\n      <td>266056.32</td>\n      <td>2021-01-14</td>\n      <td>846436</td>\n      <td>580380</td>\n    </tr>\n    <tr>\n      <th>3</th>\n      <td>C0 5PV</td>\n      <td>112172.10</td>\n      <td>2021-01-14</td>\n      <td>729630</td>\n      <td>617458</td>\n    </tr>\n    <tr>\n      <th>4</th>\n      <td>C0 6PV</td>\n      <td>92226.50</td>\n      <td>2021-01-14</td>\n      <td>623524</td>\n      <td>531298</td>\n    </tr>\n    <tr>\n      <th>5</th>\n      <td>C1</td>\n      <td>135503.00</td>\n      <td>2021-01-14</td>\n      <td>1430989</td>\n      <td>1.29549e+06</td>\n    </tr>\n    <tr>\n      <th>6</th>\n      <td>C2</td>\n      <td>109827.84</td>\n      <td>2021-01-14</td>\n      <td>549549</td>\n      <td>439721</td>\n    </tr>\n    <tr>\n      <th>7</th>\n      <td>C3</td>\n      <td>52510.00</td>\n      <td>2021-01-14</td>\n      <td>237647</td>\n      <td>185137</td>\n    </tr>\n    <tr>\n      <th>8</th>\n      <td>C4</td>\n      <td>8574.00</td>\n      <td>2021-01-14</td>\n      <td>109401</td>\n      <td>100827</td>\n    </tr>\n  </tbody>\n</table>\n</div>"
     },
     "metadata": {},
     "execution_count": 37
    }
   ],
   "source": [
    "pagos_brad_gerencia = pd.pivot_table(pagos_brad2,index=['TIPO_ASIGANCION'],values=['MONTO'],aggfunc=[np.sum])\n",
    "pagos_brad_gerencia = pd.DataFrame(pagos_brad_gerencia.to_records())\n",
    "pagos_brad_gerencia.columns = ['Asignacion','Recuperado']\n",
    "pagos_brad_gerencia.fillna(0,inplace=True)\n",
    "pagos_brad_gerencia['FechaFact'] = max(pagos_brad2['FECHA_PAGO'])\n",
    "pagos_brad_gerencia['SiguienteArancel'] = pagos_brad_gerencia.apply(sig_arancel, axis=1)\n",
    "pagos_brad_gerencia['RestSigArancel'] = pagos_brad_gerencia['SiguienteArancel']-pagos_brad_gerencia['Recuperado']\n",
    "cols = ['Recuperado','SiguienteArancel','RestSigArancel']\n",
    "pagos_brad_gerencia[cols] = pagos_brad_gerencia[cols].round(2)\n",
    "#pagos_brad_gerencia = pagos_brad_gerencia.iloc[:,[0,1,2,4]]\n",
    "pagos_brad_gerencia.columns = ['Division','Recuperado','FechaFact','SiguienteArancel','RestSigArancel']\n",
    "pagos_brad_gerencia"
   ]
  },
  {
   "source": [
    "# Credifiel"
   ],
   "cell_type": "markdown",
   "metadata": {}
  },
  {
   "cell_type": "code",
   "execution_count": 38,
   "metadata": {},
   "outputs": [
    {
     "output_type": "execute_result",
     "data": {
      "text/plain": [
       "      ID      FECHA  IMPORTE   ARANCEL  FACTURACION    CLIENTE\n",
       "0  76245 2021-01-11  30000.0  0.202414  6072.413793  Credifiel"
      ],
      "text/html": "<div>\n<style scoped>\n    .dataframe tbody tr th:only-of-type {\n        vertical-align: middle;\n    }\n\n    .dataframe tbody tr th {\n        vertical-align: top;\n    }\n\n    .dataframe thead th {\n        text-align: right;\n    }\n</style>\n<table border=\"1\" class=\"dataframe\">\n  <thead>\n    <tr style=\"text-align: right;\">\n      <th></th>\n      <th>ID</th>\n      <th>FECHA</th>\n      <th>IMPORTE</th>\n      <th>ARANCEL</th>\n      <th>FACTURACION</th>\n      <th>CLIENTE</th>\n    </tr>\n  </thead>\n  <tbody>\n    <tr>\n      <th>0</th>\n      <td>76245</td>\n      <td>2021-01-11</td>\n      <td>30000.0</td>\n      <td>0.202414</td>\n      <td>6072.413793</td>\n      <td>Credifiel</td>\n    </tr>\n  </tbody>\n</table>\n</div>"
     },
     "metadata": {},
     "execution_count": 38
    }
   ],
   "source": [
    "#Hacemos el consolidado de la asignacion y promesado\n",
    "consolidado_pagos_cred = pd.merge(pagos_cred2,asignacion_cred,how='left',left_on=['ID'],right_on=['CREDITO'])\n",
    "consolidado_pagos_cred.drop('CREDITO',1,inplace=True)\n",
    "consolidado_pagos_cred['ARANCEL'] = np.where(consolidado_pagos_cred['ARANCEL'].isna(),np.mean(consolidado_pagos_cred['ARANCEL']),consolidado_pagos_cred['ARANCEL'])\n",
    "consolidado_pagos_cred['FACTURACION'] = consolidado_pagos_cred['IMPORTE']*consolidado_pagos_cred['ARANCEL']\n",
    "consolidado_pagos_cred['CLIENTE'] = 'Credifiel'\n",
    "consolidado_pagos_cred.head(1)"
   ]
  },
  {
   "cell_type": "code",
   "execution_count": 39,
   "metadata": {},
   "outputs": [
    {
     "output_type": "execute_result",
     "data": {
      "text/plain": [
       "     Cliente   Facturacion  FechaFact\n",
       "0  Credifiel  29887.543862 2021-01-13"
      ],
      "text/html": "<div>\n<style scoped>\n    .dataframe tbody tr th:only-of-type {\n        vertical-align: middle;\n    }\n\n    .dataframe tbody tr th {\n        vertical-align: top;\n    }\n\n    .dataframe thead th {\n        text-align: right;\n    }\n</style>\n<table border=\"1\" class=\"dataframe\">\n  <thead>\n    <tr style=\"text-align: right;\">\n      <th></th>\n      <th>Cliente</th>\n      <th>Facturacion</th>\n      <th>FechaFact</th>\n    </tr>\n  </thead>\n  <tbody>\n    <tr>\n      <th>0</th>\n      <td>Credifiel</td>\n      <td>29887.543862</td>\n      <td>2021-01-13</td>\n    </tr>\n  </tbody>\n</table>\n</div>"
     },
     "metadata": {},
     "execution_count": 39
    }
   ],
   "source": [
    "pagos_totales_cred = pd.pivot_table(consolidado_pagos_cred,index=['CLIENTE'],values=['FACTURACION'],aggfunc=[np.sum],dropna=False)\n",
    "pagos_totales_cred = pd.DataFrame(pagos_totales_cred.to_records())\n",
    "#pagos_totales_cred = pagos_totales_cred.iloc[:,[0,1,4,3]]\n",
    "pagos_totales_cred.columns = ['Cliente','Facturacion']\n",
    "pagos_totales_cred.fillna(0,inplace=True)\n",
    "#pagos_totales_cred[['SumaPagos','SumaFacturacion']] = pagos_totales_cred[['SumaPagos','SumaFacturacion']].applymap(\"${0:,.2f}\".format)\n",
    "pagos_totales_cred['FechaFact'] = max(consolidado_pagos_cred['FECHA'])\n",
    "pagos_totales_cred"
   ]
  },
  {
   "cell_type": "code",
   "execution_count": 40,
   "metadata": {},
   "outputs": [
    {
     "output_type": "execute_result",
     "data": {
      "text/plain": [
       "    Division  Recuperado  FechaFact\n",
       "0  Credifiel   174325.96 2021-01-13"
      ],
      "text/html": "<div>\n<style scoped>\n    .dataframe tbody tr th:only-of-type {\n        vertical-align: middle;\n    }\n\n    .dataframe tbody tr th {\n        vertical-align: top;\n    }\n\n    .dataframe thead th {\n        text-align: right;\n    }\n</style>\n<table border=\"1\" class=\"dataframe\">\n  <thead>\n    <tr style=\"text-align: right;\">\n      <th></th>\n      <th>Division</th>\n      <th>Recuperado</th>\n      <th>FechaFact</th>\n    </tr>\n  </thead>\n  <tbody>\n    <tr>\n      <th>0</th>\n      <td>Credifiel</td>\n      <td>174325.96</td>\n      <td>2021-01-13</td>\n    </tr>\n  </tbody>\n</table>\n</div>"
     },
     "metadata": {},
     "execution_count": 40
    }
   ],
   "source": [
    "pagos_cred_gerencia = pd.pivot_table(consolidado_pagos_cred,index=['CLIENTE'],values=['IMPORTE'],aggfunc=np.sum)\n",
    "pagos_cred_gerencia = pd.DataFrame(pagos_cred_gerencia.to_records())\n",
    "pagos_cred_gerencia[' FechaFact'] = max(consolidado_pagos_cred['FECHA'])\n",
    "pagos_cred_gerencia.columns = ['Division','Recuperado','FechaFact']\n",
    "pagos_cred_gerencia"
   ]
  },
  {
   "source": [
    "# Banco Azteca"
   ],
   "cell_type": "markdown",
   "metadata": {}
  },
  {
   "cell_type": "code",
   "execution_count": 41,
   "metadata": {},
   "outputs": [],
   "source": [
    "# pagos_baz = pd.concat([pagos_baz_26,pagos_baz_recovery],ignore_index=True)\n",
    "# pagos_baz = pagos_baz.loc[pagos_baz['CARGO AUTOMATICO']=='NO']\n",
    "# pagos_baz['Recuperado'] = pagos_baz['RECUPERACION DE CAPITAL']+pagos_baz['RECUPERACION DE MORATORIOS']\n",
    "# pagos_baz['Cliente'] = 'Banco Azteca'"
   ]
  },
  {
   "cell_type": "code",
   "execution_count": 42,
   "metadata": {},
   "outputs": [],
   "source": [
    "# pagos_totales_baz = pd.pivot_table(fact_baz,index=['Cliente'],values=['Total Recuperado','Total Comisión'],aggfunc=[np.sum],dropna=False)\n",
    "# pagos_totales_baz = pd.DataFrame(pagos_totales_baz.to_records())\n",
    "# pagos_totales_baz.columns = ['Cliente','Recuperado','SumaPagos']\n",
    "# porcentaje_prom_arancel_baz = pagos_totales_baz['Recuperado']/pagos_totales_baz['SumaPagos']\n",
    "# porcentaje_prom_arancel_baz"
   ]
  },
  {
   "cell_type": "code",
   "execution_count": 43,
   "metadata": {},
   "outputs": [],
   "source": [
    "# pagos_baz['Facturacion'] = [x*porcentaje_prom_arancel_baz for x in pagos_baz['Recuperado']]\n",
    "# pagos_fact_baz = pd.pivot_table(pagos_baz,index=['Cliente'],values=['Facturacion'],aggfunc=[np.sum])\n",
    "# pagos_fact_baz = pd.DataFrame(pagos_fact_baz.to_records())\n",
    "# pagos_fact_baz.columns = ['Cliente','Facturacion']\n",
    "# pagos_fact_baz['FechaFact'] = max(pagos_baz['DIA'])\n",
    "# pagos_fact_baz"
   ]
  },
  {
   "source": [
    "# Union Naucalpan"
   ],
   "cell_type": "markdown",
   "metadata": {}
  },
  {
   "cell_type": "code",
   "execution_count": 44,
   "metadata": {},
   "outputs": [
    {
     "output_type": "execute_result",
     "data": {
      "text/plain": [
       "    Sucursal             Cliente    Facturacion  FechaFact    Meta   Avance%\n",
       "0  Naucalpan           Liverpool  100314.390000 2021-01-14  300000  0.334381\n",
       "1  Naucalpan       Liverpool Cof   71746.680000 2021-01-14  300000  0.239156\n",
       "2  Naucalpan  Liverpool Nacional  108353.200000 2021-01-14  550000  0.197006\n",
       "3  Naucalpan            Bradesco  104747.641000 2021-01-14  750000  0.139664\n",
       "4  Naucalpan           Credifiel   29887.543862 2021-01-13  100000  0.298875"
      ],
      "text/html": "<div>\n<style scoped>\n    .dataframe tbody tr th:only-of-type {\n        vertical-align: middle;\n    }\n\n    .dataframe tbody tr th {\n        vertical-align: top;\n    }\n\n    .dataframe thead th {\n        text-align: right;\n    }\n</style>\n<table border=\"1\" class=\"dataframe\">\n  <thead>\n    <tr style=\"text-align: right;\">\n      <th></th>\n      <th>Sucursal</th>\n      <th>Cliente</th>\n      <th>Facturacion</th>\n      <th>FechaFact</th>\n      <th>Meta</th>\n      <th>Avance%</th>\n    </tr>\n  </thead>\n  <tbody>\n    <tr>\n      <th>0</th>\n      <td>Naucalpan</td>\n      <td>Liverpool</td>\n      <td>100314.390000</td>\n      <td>2021-01-14</td>\n      <td>300000</td>\n      <td>0.334381</td>\n    </tr>\n    <tr>\n      <th>1</th>\n      <td>Naucalpan</td>\n      <td>Liverpool Cof</td>\n      <td>71746.680000</td>\n      <td>2021-01-14</td>\n      <td>300000</td>\n      <td>0.239156</td>\n    </tr>\n    <tr>\n      <th>2</th>\n      <td>Naucalpan</td>\n      <td>Liverpool Nacional</td>\n      <td>108353.200000</td>\n      <td>2021-01-14</td>\n      <td>550000</td>\n      <td>0.197006</td>\n    </tr>\n    <tr>\n      <th>3</th>\n      <td>Naucalpan</td>\n      <td>Bradesco</td>\n      <td>104747.641000</td>\n      <td>2021-01-14</td>\n      <td>750000</td>\n      <td>0.139664</td>\n    </tr>\n    <tr>\n      <th>4</th>\n      <td>Naucalpan</td>\n      <td>Credifiel</td>\n      <td>29887.543862</td>\n      <td>2021-01-13</td>\n      <td>100000</td>\n      <td>0.298875</td>\n    </tr>\n  </tbody>\n</table>\n</div>"
     },
     "metadata": {},
     "execution_count": 44
    }
   ],
   "source": [
    "pdList = [pagos_totales_liv2,pagos_totales_brad2,pagos_totales_cred]\n",
    "final_naucalpan = pd.concat(pdList,ignore_index=True)\n",
    "final_naucalpan = pd.merge(final_naucalpan,meta_naucalpan,on=['Cliente'],how='left')\n",
    "final_naucalpan['Avance%'] = final_naucalpan['Facturacion']/final_naucalpan['Meta']\n",
    "final_naucalpan.insert(loc=0,column='Sucursal',value='Naucalpan')\n",
    "final_naucalpan"
   ]
  },
  {
   "source": [
    "# Guatemala"
   ],
   "cell_type": "markdown",
   "metadata": {}
  },
  {
   "cell_type": "code",
   "execution_count": 45,
   "metadata": {},
   "outputs": [],
   "source": [
    "final_guatemala = pd.DataFrame([['Avon G',66727,250000],['Arabela G',808,5100],['Banco Azteca G',4542,52000],['Banco Credomatic',2222,17000],['Belcorp',2010,5000],['Banco Azteca R',27375,115000]])\n",
    "final_guatemala.columns = ['Cliente','Facturacion','Meta']\n",
    "final_guatemala.insert(loc=0,column='Sucursal',value='Guatemala')"
   ]
  },
  {
   "cell_type": "code",
   "execution_count": 46,
   "metadata": {},
   "outputs": [],
   "source": [
    "final_guatemala['Facturacion'] = final_guatemala['Facturacion']*quetzal\n",
    "final_guatemala['Meta'] = final_guatemala['Meta']*quetzal\n",
    "final_guatemala['FechaFact'] = ayer"
   ]
  },
  {
   "source": [
    "# Panama"
   ],
   "cell_type": "markdown",
   "metadata": {}
  },
  {
   "cell_type": "code",
   "execution_count": 47,
   "metadata": {},
   "outputs": [],
   "source": [
    "final_panama = pd.DataFrame([['Cable Onda',780,2800],['Jamar',1150,8000],['Banco Azteca',1745,4000],['Adel Panama',383,3000],['Cable Onda Act',357,2000],['Banco Azteca Act',12024,23500]])\n",
    "final_panama.columns = ['Cliente','Facturacion','Meta']\n",
    "final_panama.insert(loc=0,column='Sucursal',value='Panama')"
   ]
  },
  {
   "cell_type": "code",
   "execution_count": 48,
   "metadata": {},
   "outputs": [],
   "source": [
    "final_panama['Facturacion'] = final_panama['Facturacion']*dolar\n",
    "final_panama['Meta'] = final_panama['Meta']*dolar\n",
    "final_panama['FechaFact'] = ayer"
   ]
  },
  {
   "source": [
    "# Union final"
   ],
   "cell_type": "markdown",
   "metadata": {}
  },
  {
   "cell_type": "code",
   "execution_count": 49,
   "metadata": {},
   "outputs": [
    {
     "output_type": "execute_result",
     "data": {
      "text/plain": [
       "     Sucursal             Cliente    Facturacion  FechaFact      Meta  \\\n",
       "0   Naucalpan           Liverpool  100314.390000 2021-01-14  300000.0   \n",
       "1   Naucalpan       Liverpool Cof   71746.680000 2021-01-14  300000.0   \n",
       "2   Naucalpan  Liverpool Nacional  108353.200000 2021-01-14  550000.0   \n",
       "3   Naucalpan            Bradesco  104747.641000 2021-01-14  750000.0   \n",
       "4   Naucalpan           Credifiel   29887.543862 2021-01-13  100000.0   \n",
       "5     Torreon             Arabela   47829.293600 2021-01-12   95000.0   \n",
       "6     Torreon           Invex_REL   67912.764000 2021-01-11  470000.0   \n",
       "7     Torreon           Invex_RLA   78187.004000 2021-01-11  479000.0   \n",
       "8     Torreon           Invex_RLN   58453.902000 2021-01-11  270000.0   \n",
       "9     Torreon            Oriflame   34482.005000 2021-01-11   65000.0   \n",
       "10  Guatemala              Avon G  169486.580000 2021-01-14  635000.0   \n",
       "11  Guatemala           Arabela G    2052.320000 2021-01-14   12954.0   \n",
       "12  Guatemala      Banco Azteca G   11536.680000 2021-01-14  132080.0   \n",
       "13  Guatemala    Banco Credomatic    5643.880000 2021-01-14   43180.0   \n",
       "14  Guatemala             Belcorp    5105.400000 2021-01-14   12700.0   \n",
       "15  Guatemala      Banco Azteca R   69532.500000 2021-01-14  292100.0   \n",
       "16     Panama          Cable Onda   15444.000000 2021-01-14   55440.0   \n",
       "17     Panama               Jamar   22770.000000 2021-01-14  158400.0   \n",
       "18     Panama        Banco Azteca   34551.000000 2021-01-14   79200.0   \n",
       "19     Panama         Adel Panama    7583.400000 2021-01-14   59400.0   \n",
       "20     Panama      Cable Onda Act    7068.600000 2021-01-14   39600.0   \n",
       "21     Panama    Banco Azteca Act  238075.200000 2021-01-14  465300.0   \n",
       "\n",
       "     Avance%  \n",
       "0   0.334381  \n",
       "1   0.239156  \n",
       "2   0.197006  \n",
       "3   0.139664  \n",
       "4   0.298875  \n",
       "5   0.503466  \n",
       "6   0.144495  \n",
       "7   0.163230  \n",
       "8   0.216496  \n",
       "9   0.530492  \n",
       "10  0.266908  \n",
       "11  0.158431  \n",
       "12  0.087346  \n",
       "13  0.130706  \n",
       "14  0.402000  \n",
       "15  0.238043  \n",
       "16  0.278571  \n",
       "17  0.143750  \n",
       "18  0.436250  \n",
       "19  0.127667  \n",
       "20  0.178500  \n",
       "21  0.511660  "
      ],
      "text/html": "<div>\n<style scoped>\n    .dataframe tbody tr th:only-of-type {\n        vertical-align: middle;\n    }\n\n    .dataframe tbody tr th {\n        vertical-align: top;\n    }\n\n    .dataframe thead th {\n        text-align: right;\n    }\n</style>\n<table border=\"1\" class=\"dataframe\">\n  <thead>\n    <tr style=\"text-align: right;\">\n      <th></th>\n      <th>Sucursal</th>\n      <th>Cliente</th>\n      <th>Facturacion</th>\n      <th>FechaFact</th>\n      <th>Meta</th>\n      <th>Avance%</th>\n    </tr>\n  </thead>\n  <tbody>\n    <tr>\n      <th>0</th>\n      <td>Naucalpan</td>\n      <td>Liverpool</td>\n      <td>100314.390000</td>\n      <td>2021-01-14</td>\n      <td>300000.0</td>\n      <td>0.334381</td>\n    </tr>\n    <tr>\n      <th>1</th>\n      <td>Naucalpan</td>\n      <td>Liverpool Cof</td>\n      <td>71746.680000</td>\n      <td>2021-01-14</td>\n      <td>300000.0</td>\n      <td>0.239156</td>\n    </tr>\n    <tr>\n      <th>2</th>\n      <td>Naucalpan</td>\n      <td>Liverpool Nacional</td>\n      <td>108353.200000</td>\n      <td>2021-01-14</td>\n      <td>550000.0</td>\n      <td>0.197006</td>\n    </tr>\n    <tr>\n      <th>3</th>\n      <td>Naucalpan</td>\n      <td>Bradesco</td>\n      <td>104747.641000</td>\n      <td>2021-01-14</td>\n      <td>750000.0</td>\n      <td>0.139664</td>\n    </tr>\n    <tr>\n      <th>4</th>\n      <td>Naucalpan</td>\n      <td>Credifiel</td>\n      <td>29887.543862</td>\n      <td>2021-01-13</td>\n      <td>100000.0</td>\n      <td>0.298875</td>\n    </tr>\n    <tr>\n      <th>5</th>\n      <td>Torreon</td>\n      <td>Arabela</td>\n      <td>47829.293600</td>\n      <td>2021-01-12</td>\n      <td>95000.0</td>\n      <td>0.503466</td>\n    </tr>\n    <tr>\n      <th>6</th>\n      <td>Torreon</td>\n      <td>Invex_REL</td>\n      <td>67912.764000</td>\n      <td>2021-01-11</td>\n      <td>470000.0</td>\n      <td>0.144495</td>\n    </tr>\n    <tr>\n      <th>7</th>\n      <td>Torreon</td>\n      <td>Invex_RLA</td>\n      <td>78187.004000</td>\n      <td>2021-01-11</td>\n      <td>479000.0</td>\n      <td>0.163230</td>\n    </tr>\n    <tr>\n      <th>8</th>\n      <td>Torreon</td>\n      <td>Invex_RLN</td>\n      <td>58453.902000</td>\n      <td>2021-01-11</td>\n      <td>270000.0</td>\n      <td>0.216496</td>\n    </tr>\n    <tr>\n      <th>9</th>\n      <td>Torreon</td>\n      <td>Oriflame</td>\n      <td>34482.005000</td>\n      <td>2021-01-11</td>\n      <td>65000.0</td>\n      <td>0.530492</td>\n    </tr>\n    <tr>\n      <th>10</th>\n      <td>Guatemala</td>\n      <td>Avon G</td>\n      <td>169486.580000</td>\n      <td>2021-01-14</td>\n      <td>635000.0</td>\n      <td>0.266908</td>\n    </tr>\n    <tr>\n      <th>11</th>\n      <td>Guatemala</td>\n      <td>Arabela G</td>\n      <td>2052.320000</td>\n      <td>2021-01-14</td>\n      <td>12954.0</td>\n      <td>0.158431</td>\n    </tr>\n    <tr>\n      <th>12</th>\n      <td>Guatemala</td>\n      <td>Banco Azteca G</td>\n      <td>11536.680000</td>\n      <td>2021-01-14</td>\n      <td>132080.0</td>\n      <td>0.087346</td>\n    </tr>\n    <tr>\n      <th>13</th>\n      <td>Guatemala</td>\n      <td>Banco Credomatic</td>\n      <td>5643.880000</td>\n      <td>2021-01-14</td>\n      <td>43180.0</td>\n      <td>0.130706</td>\n    </tr>\n    <tr>\n      <th>14</th>\n      <td>Guatemala</td>\n      <td>Belcorp</td>\n      <td>5105.400000</td>\n      <td>2021-01-14</td>\n      <td>12700.0</td>\n      <td>0.402000</td>\n    </tr>\n    <tr>\n      <th>15</th>\n      <td>Guatemala</td>\n      <td>Banco Azteca R</td>\n      <td>69532.500000</td>\n      <td>2021-01-14</td>\n      <td>292100.0</td>\n      <td>0.238043</td>\n    </tr>\n    <tr>\n      <th>16</th>\n      <td>Panama</td>\n      <td>Cable Onda</td>\n      <td>15444.000000</td>\n      <td>2021-01-14</td>\n      <td>55440.0</td>\n      <td>0.278571</td>\n    </tr>\n    <tr>\n      <th>17</th>\n      <td>Panama</td>\n      <td>Jamar</td>\n      <td>22770.000000</td>\n      <td>2021-01-14</td>\n      <td>158400.0</td>\n      <td>0.143750</td>\n    </tr>\n    <tr>\n      <th>18</th>\n      <td>Panama</td>\n      <td>Banco Azteca</td>\n      <td>34551.000000</td>\n      <td>2021-01-14</td>\n      <td>79200.0</td>\n      <td>0.436250</td>\n    </tr>\n    <tr>\n      <th>19</th>\n      <td>Panama</td>\n      <td>Adel Panama</td>\n      <td>7583.400000</td>\n      <td>2021-01-14</td>\n      <td>59400.0</td>\n      <td>0.127667</td>\n    </tr>\n    <tr>\n      <th>20</th>\n      <td>Panama</td>\n      <td>Cable Onda Act</td>\n      <td>7068.600000</td>\n      <td>2021-01-14</td>\n      <td>39600.0</td>\n      <td>0.178500</td>\n    </tr>\n    <tr>\n      <th>21</th>\n      <td>Panama</td>\n      <td>Banco Azteca Act</td>\n      <td>238075.200000</td>\n      <td>2021-01-14</td>\n      <td>465300.0</td>\n      <td>0.511660</td>\n    </tr>\n  </tbody>\n</table>\n</div>"
     },
     "metadata": {},
     "execution_count": 49
    }
   ],
   "source": [
    "final_mexico = pd.concat([final_naucalpan,final_torreon],ignore_index=True)\n",
    "final_mexico = pd.concat([final_mexico,final_guatemala],ignore_index=True)\n",
    "final_mexico = pd.concat([final_mexico,final_panama],ignore_index=True)\n",
    "final_mexico['Avance%'] = final_mexico['Facturacion']/final_mexico['Meta']\n",
    "final_mexico"
   ]
  },
  {
   "cell_type": "code",
   "execution_count": 50,
   "metadata": {},
   "outputs": [
    {
     "output_type": "execute_result",
     "data": {
      "text/plain": [
       "     Sucursal             Cliente    Facturacion  FechaFact      Meta  \\\n",
       "0   Naucalpan           Liverpool  100314.390000 2021-01-14  300000.0   \n",
       "1   Naucalpan       Liverpool Cof   71746.680000 2021-01-14  300000.0   \n",
       "2   Naucalpan  Liverpool Nacional  108353.200000 2021-01-14  550000.0   \n",
       "3   Naucalpan            Bradesco  104747.641000 2021-01-14  750000.0   \n",
       "4   Naucalpan           Credifiel   29887.543862 2021-01-13  100000.0   \n",
       "5     Torreon             Arabela   47829.293600 2021-01-12   95000.0   \n",
       "6     Torreon           Invex_REL   67912.764000 2021-01-11  470000.0   \n",
       "7     Torreon           Invex_RLA   78187.004000 2021-01-11  479000.0   \n",
       "8     Torreon           Invex_RLN   58453.902000 2021-01-11  270000.0   \n",
       "9     Torreon            Oriflame   34482.005000 2021-01-11   65000.0   \n",
       "10  Guatemala              Avon G  169486.580000 2021-01-14  635000.0   \n",
       "11  Guatemala           Arabela G    2052.320000 2021-01-14   12954.0   \n",
       "12  Guatemala      Banco Azteca G   11536.680000 2021-01-14  132080.0   \n",
       "13  Guatemala    Banco Credomatic    5643.880000 2021-01-14   43180.0   \n",
       "14  Guatemala             Belcorp    5105.400000 2021-01-14   12700.0   \n",
       "15  Guatemala      Banco Azteca R   69532.500000 2021-01-14  292100.0   \n",
       "16     Panama          Cable Onda   15444.000000 2021-01-14   55440.0   \n",
       "17     Panama               Jamar   22770.000000 2021-01-14  158400.0   \n",
       "18     Panama        Banco Azteca   34551.000000 2021-01-14   79200.0   \n",
       "19     Panama         Adel Panama    7583.400000 2021-01-14   59400.0   \n",
       "20     Panama      Cable Onda Act    7068.600000 2021-01-14   39600.0   \n",
       "21     Panama    Banco Azteca Act  238075.200000 2021-01-14  465300.0   \n",
       "\n",
       "     Avance%   MetaDia  Semaforo  \n",
       "0   0.334381  140000.0      rojo  \n",
       "1   0.239156  140000.0      rojo  \n",
       "2   0.197006  256667.0      rojo  \n",
       "3   0.139664  350000.0      rojo  \n",
       "4   0.298875   43333.0      rojo  \n",
       "5   0.503466   38000.0     verde  \n",
       "6   0.144495  172333.0      rojo  \n",
       "7   0.163230  175633.0      rojo  \n",
       "8   0.216496   99000.0      rojo  \n",
       "9   0.530492   23833.0     verde  \n",
       "10  0.266908  296333.0      rojo  \n",
       "11  0.158431    6045.0      rojo  \n",
       "12  0.087346   61637.0      rojo  \n",
       "13  0.130706   20151.0      rojo  \n",
       "14  0.402000    5927.0  amarillo  \n",
       "15  0.238043  136313.0      rojo  \n",
       "16  0.278571   25872.0      rojo  \n",
       "17  0.143750   73920.0      rojo  \n",
       "18  0.436250   36960.0  amarillo  \n",
       "19  0.127667   27720.0      rojo  \n",
       "20  0.178500   18480.0      rojo  \n",
       "21  0.511660  217140.0     verde  "
      ],
      "text/html": "<div>\n<style scoped>\n    .dataframe tbody tr th:only-of-type {\n        vertical-align: middle;\n    }\n\n    .dataframe tbody tr th {\n        vertical-align: top;\n    }\n\n    .dataframe thead th {\n        text-align: right;\n    }\n</style>\n<table border=\"1\" class=\"dataframe\">\n  <thead>\n    <tr style=\"text-align: right;\">\n      <th></th>\n      <th>Sucursal</th>\n      <th>Cliente</th>\n      <th>Facturacion</th>\n      <th>FechaFact</th>\n      <th>Meta</th>\n      <th>Avance%</th>\n      <th>MetaDia</th>\n      <th>Semaforo</th>\n    </tr>\n  </thead>\n  <tbody>\n    <tr>\n      <th>0</th>\n      <td>Naucalpan</td>\n      <td>Liverpool</td>\n      <td>100314.390000</td>\n      <td>2021-01-14</td>\n      <td>300000.0</td>\n      <td>0.334381</td>\n      <td>140000.0</td>\n      <td>rojo</td>\n    </tr>\n    <tr>\n      <th>1</th>\n      <td>Naucalpan</td>\n      <td>Liverpool Cof</td>\n      <td>71746.680000</td>\n      <td>2021-01-14</td>\n      <td>300000.0</td>\n      <td>0.239156</td>\n      <td>140000.0</td>\n      <td>rojo</td>\n    </tr>\n    <tr>\n      <th>2</th>\n      <td>Naucalpan</td>\n      <td>Liverpool Nacional</td>\n      <td>108353.200000</td>\n      <td>2021-01-14</td>\n      <td>550000.0</td>\n      <td>0.197006</td>\n      <td>256667.0</td>\n      <td>rojo</td>\n    </tr>\n    <tr>\n      <th>3</th>\n      <td>Naucalpan</td>\n      <td>Bradesco</td>\n      <td>104747.641000</td>\n      <td>2021-01-14</td>\n      <td>750000.0</td>\n      <td>0.139664</td>\n      <td>350000.0</td>\n      <td>rojo</td>\n    </tr>\n    <tr>\n      <th>4</th>\n      <td>Naucalpan</td>\n      <td>Credifiel</td>\n      <td>29887.543862</td>\n      <td>2021-01-13</td>\n      <td>100000.0</td>\n      <td>0.298875</td>\n      <td>43333.0</td>\n      <td>rojo</td>\n    </tr>\n    <tr>\n      <th>5</th>\n      <td>Torreon</td>\n      <td>Arabela</td>\n      <td>47829.293600</td>\n      <td>2021-01-12</td>\n      <td>95000.0</td>\n      <td>0.503466</td>\n      <td>38000.0</td>\n      <td>verde</td>\n    </tr>\n    <tr>\n      <th>6</th>\n      <td>Torreon</td>\n      <td>Invex_REL</td>\n      <td>67912.764000</td>\n      <td>2021-01-11</td>\n      <td>470000.0</td>\n      <td>0.144495</td>\n      <td>172333.0</td>\n      <td>rojo</td>\n    </tr>\n    <tr>\n      <th>7</th>\n      <td>Torreon</td>\n      <td>Invex_RLA</td>\n      <td>78187.004000</td>\n      <td>2021-01-11</td>\n      <td>479000.0</td>\n      <td>0.163230</td>\n      <td>175633.0</td>\n      <td>rojo</td>\n    </tr>\n    <tr>\n      <th>8</th>\n      <td>Torreon</td>\n      <td>Invex_RLN</td>\n      <td>58453.902000</td>\n      <td>2021-01-11</td>\n      <td>270000.0</td>\n      <td>0.216496</td>\n      <td>99000.0</td>\n      <td>rojo</td>\n    </tr>\n    <tr>\n      <th>9</th>\n      <td>Torreon</td>\n      <td>Oriflame</td>\n      <td>34482.005000</td>\n      <td>2021-01-11</td>\n      <td>65000.0</td>\n      <td>0.530492</td>\n      <td>23833.0</td>\n      <td>verde</td>\n    </tr>\n    <tr>\n      <th>10</th>\n      <td>Guatemala</td>\n      <td>Avon G</td>\n      <td>169486.580000</td>\n      <td>2021-01-14</td>\n      <td>635000.0</td>\n      <td>0.266908</td>\n      <td>296333.0</td>\n      <td>rojo</td>\n    </tr>\n    <tr>\n      <th>11</th>\n      <td>Guatemala</td>\n      <td>Arabela G</td>\n      <td>2052.320000</td>\n      <td>2021-01-14</td>\n      <td>12954.0</td>\n      <td>0.158431</td>\n      <td>6045.0</td>\n      <td>rojo</td>\n    </tr>\n    <tr>\n      <th>12</th>\n      <td>Guatemala</td>\n      <td>Banco Azteca G</td>\n      <td>11536.680000</td>\n      <td>2021-01-14</td>\n      <td>132080.0</td>\n      <td>0.087346</td>\n      <td>61637.0</td>\n      <td>rojo</td>\n    </tr>\n    <tr>\n      <th>13</th>\n      <td>Guatemala</td>\n      <td>Banco Credomatic</td>\n      <td>5643.880000</td>\n      <td>2021-01-14</td>\n      <td>43180.0</td>\n      <td>0.130706</td>\n      <td>20151.0</td>\n      <td>rojo</td>\n    </tr>\n    <tr>\n      <th>14</th>\n      <td>Guatemala</td>\n      <td>Belcorp</td>\n      <td>5105.400000</td>\n      <td>2021-01-14</td>\n      <td>12700.0</td>\n      <td>0.402000</td>\n      <td>5927.0</td>\n      <td>amarillo</td>\n    </tr>\n    <tr>\n      <th>15</th>\n      <td>Guatemala</td>\n      <td>Banco Azteca R</td>\n      <td>69532.500000</td>\n      <td>2021-01-14</td>\n      <td>292100.0</td>\n      <td>0.238043</td>\n      <td>136313.0</td>\n      <td>rojo</td>\n    </tr>\n    <tr>\n      <th>16</th>\n      <td>Panama</td>\n      <td>Cable Onda</td>\n      <td>15444.000000</td>\n      <td>2021-01-14</td>\n      <td>55440.0</td>\n      <td>0.278571</td>\n      <td>25872.0</td>\n      <td>rojo</td>\n    </tr>\n    <tr>\n      <th>17</th>\n      <td>Panama</td>\n      <td>Jamar</td>\n      <td>22770.000000</td>\n      <td>2021-01-14</td>\n      <td>158400.0</td>\n      <td>0.143750</td>\n      <td>73920.0</td>\n      <td>rojo</td>\n    </tr>\n    <tr>\n      <th>18</th>\n      <td>Panama</td>\n      <td>Banco Azteca</td>\n      <td>34551.000000</td>\n      <td>2021-01-14</td>\n      <td>79200.0</td>\n      <td>0.436250</td>\n      <td>36960.0</td>\n      <td>amarillo</td>\n    </tr>\n    <tr>\n      <th>19</th>\n      <td>Panama</td>\n      <td>Adel Panama</td>\n      <td>7583.400000</td>\n      <td>2021-01-14</td>\n      <td>59400.0</td>\n      <td>0.127667</td>\n      <td>27720.0</td>\n      <td>rojo</td>\n    </tr>\n    <tr>\n      <th>20</th>\n      <td>Panama</td>\n      <td>Cable Onda Act</td>\n      <td>7068.600000</td>\n      <td>2021-01-14</td>\n      <td>39600.0</td>\n      <td>0.178500</td>\n      <td>18480.0</td>\n      <td>rojo</td>\n    </tr>\n    <tr>\n      <th>21</th>\n      <td>Panama</td>\n      <td>Banco Azteca Act</td>\n      <td>238075.200000</td>\n      <td>2021-01-14</td>\n      <td>465300.0</td>\n      <td>0.511660</td>\n      <td>217140.0</td>\n      <td>verde</td>\n    </tr>\n  </tbody>\n</table>\n</div>"
     },
     "metadata": {},
     "execution_count": 50
    }
   ],
   "source": [
    "final_mexico['MetaDia'] = ((final_mexico['FechaFact'].dt.day/30)*final_mexico['Meta']).round()\n",
    "final_mexico['Semaforo'] = np.where(final_mexico['MetaDia']<=final_mexico['Facturacion'],'verde',\n",
    "                                    np.where((final_mexico['MetaDia']*.75<=final_mexico['Facturacion']) &                                                                                    (final_mexico['MetaDia']>final_mexico['Facturacion']),'amarillo','rojo'))\n",
    "final_mexico\n",
    "fecha_fact = datetime.strftime(max(final_mexico['FechaFact']),'%d-%m-%Y')"
   ]
  },
  {
   "cell_type": "code",
   "execution_count": 51,
   "metadata": {},
   "outputs": [
    {
     "output_type": "execute_result",
     "data": {
      "text/plain": [
       "    Sucursal    Facturacion       Meta  FechaFact    Avance   MetaDia  \\\n",
       "0  Guatemala  263357.360000  1128014.0 2021-01-14  0.233470  526407.0   \n",
       "1  Naucalpan  415049.454862  2000000.0 2021-01-14  0.207525  933333.0   \n",
       "2     Panama  325492.200000   857340.0 2021-01-14  0.379654  400092.0   \n",
       "3    Torreon  286864.968600  1379000.0 2021-01-12  0.208024  551600.0   \n",
       "\n",
       "   Semaforo  \n",
       "0      rojo  \n",
       "1      rojo  \n",
       "2  amarillo  \n",
       "3      rojo  "
      ],
      "text/html": "<div>\n<style scoped>\n    .dataframe tbody tr th:only-of-type {\n        vertical-align: middle;\n    }\n\n    .dataframe tbody tr th {\n        vertical-align: top;\n    }\n\n    .dataframe thead th {\n        text-align: right;\n    }\n</style>\n<table border=\"1\" class=\"dataframe\">\n  <thead>\n    <tr style=\"text-align: right;\">\n      <th></th>\n      <th>Sucursal</th>\n      <th>Facturacion</th>\n      <th>Meta</th>\n      <th>FechaFact</th>\n      <th>Avance</th>\n      <th>MetaDia</th>\n      <th>Semaforo</th>\n    </tr>\n  </thead>\n  <tbody>\n    <tr>\n      <th>0</th>\n      <td>Guatemala</td>\n      <td>263357.360000</td>\n      <td>1128014.0</td>\n      <td>2021-01-14</td>\n      <td>0.233470</td>\n      <td>526407.0</td>\n      <td>rojo</td>\n    </tr>\n    <tr>\n      <th>1</th>\n      <td>Naucalpan</td>\n      <td>415049.454862</td>\n      <td>2000000.0</td>\n      <td>2021-01-14</td>\n      <td>0.207525</td>\n      <td>933333.0</td>\n      <td>rojo</td>\n    </tr>\n    <tr>\n      <th>2</th>\n      <td>Panama</td>\n      <td>325492.200000</td>\n      <td>857340.0</td>\n      <td>2021-01-14</td>\n      <td>0.379654</td>\n      <td>400092.0</td>\n      <td>amarillo</td>\n    </tr>\n    <tr>\n      <th>3</th>\n      <td>Torreon</td>\n      <td>286864.968600</td>\n      <td>1379000.0</td>\n      <td>2021-01-12</td>\n      <td>0.208024</td>\n      <td>551600.0</td>\n      <td>rojo</td>\n    </tr>\n  </tbody>\n</table>\n</div>"
     },
     "metadata": {},
     "execution_count": 51
    }
   ],
   "source": [
    "final_sucursal = pd.pivot_table(final_mexico,index=['Sucursal'],values=['Meta','Facturacion','FechaFact'],aggfunc=[np.sum,np.max])\n",
    "final_sucursal = pd.DataFrame(final_sucursal.to_records())\n",
    "final_sucursal = final_sucursal.iloc[:,[0,1,2,4]]\n",
    "final_sucursal.columns = ['Sucursal','Facturacion','Meta','FechaFact']\n",
    "final_sucursal['Avance'] = final_sucursal['Facturacion']/final_sucursal['Meta']\n",
    "final_sucursal['MetaDia'] = ((final_sucursal['FechaFact'].dt.day/30)*final_sucursal['Meta']).round()\n",
    "final_sucursal['Semaforo'] = np.where(final_sucursal['MetaDia']<=final_sucursal['Facturacion'],'verde',\n",
    "                                    np.where((final_sucursal['MetaDia']*.75<=final_sucursal['Facturacion']) &(final_sucursal['MetaDia']>final_sucursal['Facturacion']),'amarillo','rojo'))\n",
    "final_sucursal"
   ]
  },
  {
   "cell_type": "code",
   "execution_count": 52,
   "metadata": {},
   "outputs": [
    {
     "output_type": "execute_result",
     "data": {
      "text/plain": [
       "     Division  Recuperado  FechaFact SiguienteArancel RestSigArancel\n",
       "0    DKN00REM   302061.00 2021-01-14        1071428.6         769368\n",
       "1    DKN02REM   270882.99 2021-01-14        1625000.0    1.35412e+06\n",
       "2    DKN04REM   143493.37 2021-01-14         600000.0         456507\n",
       "3    SA001REM   100220.98 2021-01-14        2000000.0    1.89978e+06\n",
       "4    SA002REM     4401.00 2021-01-14        2187500.0     2.1831e+06\n",
       "5           A    32007.00 2021-01-14           264024         232017\n",
       "6           B     5047.00 2021-01-14           214969         209922\n",
       "7      C0 4PV   266056.32 2021-01-14           846436         580380\n",
       "8      C0 5PV   112172.10 2021-01-14           729630         617458\n",
       "9      C0 6PV    92226.50 2021-01-14           623524         531298\n",
       "10         C1   135503.00 2021-01-14          1430989    1.29549e+06\n",
       "11         C2   109827.84 2021-01-14           549549         439721\n",
       "12         C3    52510.00 2021-01-14           237647         185137\n",
       "13         C4     8574.00 2021-01-14           109401         100827\n",
       "14  Credifiel   174325.96 2021-01-13              NaN            NaN"
      ],
      "text/html": "<div>\n<style scoped>\n    .dataframe tbody tr th:only-of-type {\n        vertical-align: middle;\n    }\n\n    .dataframe tbody tr th {\n        vertical-align: top;\n    }\n\n    .dataframe thead th {\n        text-align: right;\n    }\n</style>\n<table border=\"1\" class=\"dataframe\">\n  <thead>\n    <tr style=\"text-align: right;\">\n      <th></th>\n      <th>Division</th>\n      <th>Recuperado</th>\n      <th>FechaFact</th>\n      <th>SiguienteArancel</th>\n      <th>RestSigArancel</th>\n    </tr>\n  </thead>\n  <tbody>\n    <tr>\n      <th>0</th>\n      <td>DKN00REM</td>\n      <td>302061.00</td>\n      <td>2021-01-14</td>\n      <td>1071428.6</td>\n      <td>769368</td>\n    </tr>\n    <tr>\n      <th>1</th>\n      <td>DKN02REM</td>\n      <td>270882.99</td>\n      <td>2021-01-14</td>\n      <td>1625000.0</td>\n      <td>1.35412e+06</td>\n    </tr>\n    <tr>\n      <th>2</th>\n      <td>DKN04REM</td>\n      <td>143493.37</td>\n      <td>2021-01-14</td>\n      <td>600000.0</td>\n      <td>456507</td>\n    </tr>\n    <tr>\n      <th>3</th>\n      <td>SA001REM</td>\n      <td>100220.98</td>\n      <td>2021-01-14</td>\n      <td>2000000.0</td>\n      <td>1.89978e+06</td>\n    </tr>\n    <tr>\n      <th>4</th>\n      <td>SA002REM</td>\n      <td>4401.00</td>\n      <td>2021-01-14</td>\n      <td>2187500.0</td>\n      <td>2.1831e+06</td>\n    </tr>\n    <tr>\n      <th>5</th>\n      <td>A</td>\n      <td>32007.00</td>\n      <td>2021-01-14</td>\n      <td>264024</td>\n      <td>232017</td>\n    </tr>\n    <tr>\n      <th>6</th>\n      <td>B</td>\n      <td>5047.00</td>\n      <td>2021-01-14</td>\n      <td>214969</td>\n      <td>209922</td>\n    </tr>\n    <tr>\n      <th>7</th>\n      <td>C0 4PV</td>\n      <td>266056.32</td>\n      <td>2021-01-14</td>\n      <td>846436</td>\n      <td>580380</td>\n    </tr>\n    <tr>\n      <th>8</th>\n      <td>C0 5PV</td>\n      <td>112172.10</td>\n      <td>2021-01-14</td>\n      <td>729630</td>\n      <td>617458</td>\n    </tr>\n    <tr>\n      <th>9</th>\n      <td>C0 6PV</td>\n      <td>92226.50</td>\n      <td>2021-01-14</td>\n      <td>623524</td>\n      <td>531298</td>\n    </tr>\n    <tr>\n      <th>10</th>\n      <td>C1</td>\n      <td>135503.00</td>\n      <td>2021-01-14</td>\n      <td>1430989</td>\n      <td>1.29549e+06</td>\n    </tr>\n    <tr>\n      <th>11</th>\n      <td>C2</td>\n      <td>109827.84</td>\n      <td>2021-01-14</td>\n      <td>549549</td>\n      <td>439721</td>\n    </tr>\n    <tr>\n      <th>12</th>\n      <td>C3</td>\n      <td>52510.00</td>\n      <td>2021-01-14</td>\n      <td>237647</td>\n      <td>185137</td>\n    </tr>\n    <tr>\n      <th>13</th>\n      <td>C4</td>\n      <td>8574.00</td>\n      <td>2021-01-14</td>\n      <td>109401</td>\n      <td>100827</td>\n    </tr>\n    <tr>\n      <th>14</th>\n      <td>Credifiel</td>\n      <td>174325.96</td>\n      <td>2021-01-13</td>\n      <td>NaN</td>\n      <td>NaN</td>\n    </tr>\n  </tbody>\n</table>\n</div>"
     },
     "metadata": {},
     "execution_count": 52
    }
   ],
   "source": [
    "final_bradlivcred = pd.concat([pagos_liv_gerencia,pagos_brad_gerencia],ignore_index=True)\n",
    "final_bradlivcred = pd.concat([final_bradlivcred,pagos_cred_gerencia],ignore_index=True)\n",
    "final_bradlivcred"
   ]
  },
  {
   "cell_type": "code",
   "execution_count": 53,
   "metadata": {},
   "outputs": [],
   "source": [
    "reporte_pagos_nauc = pd.read_csv(''+ruta_pagos+'/'+mes2+'/Reportes diarios/Reporte sucursal/Reporte sucursal '+today2+'.csv')"
   ]
  },
  {
   "cell_type": "code",
   "execution_count": 54,
   "metadata": {},
   "outputs": [
    {
     "output_type": "execute_result",
     "data": {
      "text/plain": [
       "      Pais   Sucursal    Cliente       Division  NumeroPagos  SumaPagos  \\\n",
       "0   Mexico  Naucalpan  Liverpool       DKN00REM           73  302061.00   \n",
       "1   Mexico  Naucalpan  Liverpool       DKN02REM           65  270882.99   \n",
       "2   Mexico  Naucalpan  Liverpool       DKN04REM           35  143493.37   \n",
       "3   Mexico  Naucalpan  Liverpool       SA001REM           67  100220.98   \n",
       "4   Mexico  Naucalpan  Liverpool       SA002REM            5    4401.00   \n",
       "5   Mexico  Naucalpan   Bradesco              A           14   32007.00   \n",
       "6   Mexico  Naucalpan   Bradesco              B            4    5047.00   \n",
       "7   Mexico  Naucalpan   Bradesco         C0 4PV          183  266056.32   \n",
       "8   Mexico  Naucalpan   Bradesco         C0 5PV           87  112172.10   \n",
       "9   Mexico  Naucalpan   Bradesco         C0 6PV           64   92226.50   \n",
       "10  Mexico  Naucalpan   Bradesco             C1           88  135503.00   \n",
       "11  Mexico  Naucalpan   Bradesco             C2           63  109827.84   \n",
       "12  Mexico  Naucalpan   Bradesco             C3           45   52510.00   \n",
       "13  Mexico  Naucalpan   Bradesco             C4           11    8574.00   \n",
       "14  Mexico  Naucalpan  Credifiel  EXTRAJUDICIAL           30  174125.96   \n",
       "\n",
       "    SumaFacturacion   FechaFact  NumeroPromesas  SumaPromesas  \\\n",
       "0          84577.08  2021-01-14             131     539900.87   \n",
       "1         108353.20  2021-01-14             109     523466.44   \n",
       "2          71746.68  2021-01-14              58     195982.37   \n",
       "3          15033.15  2021-01-14             120     201336.24   \n",
       "4            704.16  2021-01-14              10      21957.00   \n",
       "5           8641.89  2021-01-14              27      51654.00   \n",
       "6           1261.75  2021-01-14               6      10201.00   \n",
       "7          18623.94  2021-01-14             251     397336.09   \n",
       "8          10095.49  2021-01-14             114     192308.00   \n",
       "9           9222.65  2021-01-14              91     171749.00   \n",
       "10         23035.51  2021-01-14             118     191533.00   \n",
       "11         20867.29  2021-01-14             113     176647.00   \n",
       "12         11027.10  2021-01-14              88     117139.00   \n",
       "13          1972.02  2021-01-14              38      42142.00   \n",
       "14         38542.16  2021-01-13              73     217634.83   \n",
       "\n",
       "    PromesasRestantes  TendenciaCierre1  RecuperadoNoPromesa  PagosNoPromesa  \\\n",
       "0           196262.00         181236.60             59503.00            18.0   \n",
       "1           200205.00         232185.42             58605.99            31.0   \n",
       "2            68934.00         153742.90             26263.00             5.0   \n",
       "3           110193.10          32213.89             20608.83            18.0   \n",
       "4             5092.00           1508.91              2411.00             3.0   \n",
       "5             5000.00          18518.34              3720.00             1.0   \n",
       "6              404.00           2703.75              1500.00             1.0   \n",
       "7            63908.00          39908.45             98095.32            79.0   \n",
       "8            32595.00          21633.19             49070.08            41.0   \n",
       "9            20352.00          19762.82             35167.50            31.0   \n",
       "10           43210.00          49361.81             60863.00            42.0   \n",
       "11           35663.00          44715.62             31004.84            21.0   \n",
       "12            8086.00          23629.50              2842.00             4.0   \n",
       "13            5707.00           4225.76                  NaN             NaN   \n",
       "14          168865.52          88943.45             88023.00             8.0   \n",
       "\n",
       "   SiguienteArancel RestSigArancel  \n",
       "0         1071428.6         769368  \n",
       "1         1625000.0    1.35412e+06  \n",
       "2          600000.0         456507  \n",
       "3         2000000.0    1.89978e+06  \n",
       "4         2187500.0     2.1831e+06  \n",
       "5            264024         232017  \n",
       "6            214969         209922  \n",
       "7            846436         580380  \n",
       "8            729630         617458  \n",
       "9            623524         531298  \n",
       "10          1430989    1.29549e+06  \n",
       "11           549549         439721  \n",
       "12           237647         185137  \n",
       "13           109401         100827  \n",
       "14              NaN            NaN  "
      ],
      "text/html": "<div>\n<style scoped>\n    .dataframe tbody tr th:only-of-type {\n        vertical-align: middle;\n    }\n\n    .dataframe tbody tr th {\n        vertical-align: top;\n    }\n\n    .dataframe thead th {\n        text-align: right;\n    }\n</style>\n<table border=\"1\" class=\"dataframe\">\n  <thead>\n    <tr style=\"text-align: right;\">\n      <th></th>\n      <th>Pais</th>\n      <th>Sucursal</th>\n      <th>Cliente</th>\n      <th>Division</th>\n      <th>NumeroPagos</th>\n      <th>SumaPagos</th>\n      <th>SumaFacturacion</th>\n      <th>FechaFact</th>\n      <th>NumeroPromesas</th>\n      <th>SumaPromesas</th>\n      <th>PromesasRestantes</th>\n      <th>TendenciaCierre1</th>\n      <th>RecuperadoNoPromesa</th>\n      <th>PagosNoPromesa</th>\n      <th>SiguienteArancel</th>\n      <th>RestSigArancel</th>\n    </tr>\n  </thead>\n  <tbody>\n    <tr>\n      <th>0</th>\n      <td>Mexico</td>\n      <td>Naucalpan</td>\n      <td>Liverpool</td>\n      <td>DKN00REM</td>\n      <td>73</td>\n      <td>302061.00</td>\n      <td>84577.08</td>\n      <td>2021-01-14</td>\n      <td>131</td>\n      <td>539900.87</td>\n      <td>196262.00</td>\n      <td>181236.60</td>\n      <td>59503.00</td>\n      <td>18.0</td>\n      <td>1071428.6</td>\n      <td>769368</td>\n    </tr>\n    <tr>\n      <th>1</th>\n      <td>Mexico</td>\n      <td>Naucalpan</td>\n      <td>Liverpool</td>\n      <td>DKN02REM</td>\n      <td>65</td>\n      <td>270882.99</td>\n      <td>108353.20</td>\n      <td>2021-01-14</td>\n      <td>109</td>\n      <td>523466.44</td>\n      <td>200205.00</td>\n      <td>232185.42</td>\n      <td>58605.99</td>\n      <td>31.0</td>\n      <td>1625000.0</td>\n      <td>1.35412e+06</td>\n    </tr>\n    <tr>\n      <th>2</th>\n      <td>Mexico</td>\n      <td>Naucalpan</td>\n      <td>Liverpool</td>\n      <td>DKN04REM</td>\n      <td>35</td>\n      <td>143493.37</td>\n      <td>71746.68</td>\n      <td>2021-01-14</td>\n      <td>58</td>\n      <td>195982.37</td>\n      <td>68934.00</td>\n      <td>153742.90</td>\n      <td>26263.00</td>\n      <td>5.0</td>\n      <td>600000.0</td>\n      <td>456507</td>\n    </tr>\n    <tr>\n      <th>3</th>\n      <td>Mexico</td>\n      <td>Naucalpan</td>\n      <td>Liverpool</td>\n      <td>SA001REM</td>\n      <td>67</td>\n      <td>100220.98</td>\n      <td>15033.15</td>\n      <td>2021-01-14</td>\n      <td>120</td>\n      <td>201336.24</td>\n      <td>110193.10</td>\n      <td>32213.89</td>\n      <td>20608.83</td>\n      <td>18.0</td>\n      <td>2000000.0</td>\n      <td>1.89978e+06</td>\n    </tr>\n    <tr>\n      <th>4</th>\n      <td>Mexico</td>\n      <td>Naucalpan</td>\n      <td>Liverpool</td>\n      <td>SA002REM</td>\n      <td>5</td>\n      <td>4401.00</td>\n      <td>704.16</td>\n      <td>2021-01-14</td>\n      <td>10</td>\n      <td>21957.00</td>\n      <td>5092.00</td>\n      <td>1508.91</td>\n      <td>2411.00</td>\n      <td>3.0</td>\n      <td>2187500.0</td>\n      <td>2.1831e+06</td>\n    </tr>\n    <tr>\n      <th>5</th>\n      <td>Mexico</td>\n      <td>Naucalpan</td>\n      <td>Bradesco</td>\n      <td>A</td>\n      <td>14</td>\n      <td>32007.00</td>\n      <td>8641.89</td>\n      <td>2021-01-14</td>\n      <td>27</td>\n      <td>51654.00</td>\n      <td>5000.00</td>\n      <td>18518.34</td>\n      <td>3720.00</td>\n      <td>1.0</td>\n      <td>264024</td>\n      <td>232017</td>\n    </tr>\n    <tr>\n      <th>6</th>\n      <td>Mexico</td>\n      <td>Naucalpan</td>\n      <td>Bradesco</td>\n      <td>B</td>\n      <td>4</td>\n      <td>5047.00</td>\n      <td>1261.75</td>\n      <td>2021-01-14</td>\n      <td>6</td>\n      <td>10201.00</td>\n      <td>404.00</td>\n      <td>2703.75</td>\n      <td>1500.00</td>\n      <td>1.0</td>\n      <td>214969</td>\n      <td>209922</td>\n    </tr>\n    <tr>\n      <th>7</th>\n      <td>Mexico</td>\n      <td>Naucalpan</td>\n      <td>Bradesco</td>\n      <td>C0 4PV</td>\n      <td>183</td>\n      <td>266056.32</td>\n      <td>18623.94</td>\n      <td>2021-01-14</td>\n      <td>251</td>\n      <td>397336.09</td>\n      <td>63908.00</td>\n      <td>39908.45</td>\n      <td>98095.32</td>\n      <td>79.0</td>\n      <td>846436</td>\n      <td>580380</td>\n    </tr>\n    <tr>\n      <th>8</th>\n      <td>Mexico</td>\n      <td>Naucalpan</td>\n      <td>Bradesco</td>\n      <td>C0 5PV</td>\n      <td>87</td>\n      <td>112172.10</td>\n      <td>10095.49</td>\n      <td>2021-01-14</td>\n      <td>114</td>\n      <td>192308.00</td>\n      <td>32595.00</td>\n      <td>21633.19</td>\n      <td>49070.08</td>\n      <td>41.0</td>\n      <td>729630</td>\n      <td>617458</td>\n    </tr>\n    <tr>\n      <th>9</th>\n      <td>Mexico</td>\n      <td>Naucalpan</td>\n      <td>Bradesco</td>\n      <td>C0 6PV</td>\n      <td>64</td>\n      <td>92226.50</td>\n      <td>9222.65</td>\n      <td>2021-01-14</td>\n      <td>91</td>\n      <td>171749.00</td>\n      <td>20352.00</td>\n      <td>19762.82</td>\n      <td>35167.50</td>\n      <td>31.0</td>\n      <td>623524</td>\n      <td>531298</td>\n    </tr>\n    <tr>\n      <th>10</th>\n      <td>Mexico</td>\n      <td>Naucalpan</td>\n      <td>Bradesco</td>\n      <td>C1</td>\n      <td>88</td>\n      <td>135503.00</td>\n      <td>23035.51</td>\n      <td>2021-01-14</td>\n      <td>118</td>\n      <td>191533.00</td>\n      <td>43210.00</td>\n      <td>49361.81</td>\n      <td>60863.00</td>\n      <td>42.0</td>\n      <td>1430989</td>\n      <td>1.29549e+06</td>\n    </tr>\n    <tr>\n      <th>11</th>\n      <td>Mexico</td>\n      <td>Naucalpan</td>\n      <td>Bradesco</td>\n      <td>C2</td>\n      <td>63</td>\n      <td>109827.84</td>\n      <td>20867.29</td>\n      <td>2021-01-14</td>\n      <td>113</td>\n      <td>176647.00</td>\n      <td>35663.00</td>\n      <td>44715.62</td>\n      <td>31004.84</td>\n      <td>21.0</td>\n      <td>549549</td>\n      <td>439721</td>\n    </tr>\n    <tr>\n      <th>12</th>\n      <td>Mexico</td>\n      <td>Naucalpan</td>\n      <td>Bradesco</td>\n      <td>C3</td>\n      <td>45</td>\n      <td>52510.00</td>\n      <td>11027.10</td>\n      <td>2021-01-14</td>\n      <td>88</td>\n      <td>117139.00</td>\n      <td>8086.00</td>\n      <td>23629.50</td>\n      <td>2842.00</td>\n      <td>4.0</td>\n      <td>237647</td>\n      <td>185137</td>\n    </tr>\n    <tr>\n      <th>13</th>\n      <td>Mexico</td>\n      <td>Naucalpan</td>\n      <td>Bradesco</td>\n      <td>C4</td>\n      <td>11</td>\n      <td>8574.00</td>\n      <td>1972.02</td>\n      <td>2021-01-14</td>\n      <td>38</td>\n      <td>42142.00</td>\n      <td>5707.00</td>\n      <td>4225.76</td>\n      <td>NaN</td>\n      <td>NaN</td>\n      <td>109401</td>\n      <td>100827</td>\n    </tr>\n    <tr>\n      <th>14</th>\n      <td>Mexico</td>\n      <td>Naucalpan</td>\n      <td>Credifiel</td>\n      <td>EXTRAJUDICIAL</td>\n      <td>30</td>\n      <td>174125.96</td>\n      <td>38542.16</td>\n      <td>2021-01-13</td>\n      <td>73</td>\n      <td>217634.83</td>\n      <td>168865.52</td>\n      <td>88943.45</td>\n      <td>88023.00</td>\n      <td>8.0</td>\n      <td>NaN</td>\n      <td>NaN</td>\n    </tr>\n  </tbody>\n</table>\n</div>"
     },
     "metadata": {},
     "execution_count": 54
    }
   ],
   "source": [
    "final_bradlivcred2 = final_bradlivcred.iloc[:,[0,3,4]]\n",
    "final_bradlivcred3 = pd.merge(reporte_pagos_nauc,final_bradlivcred2,on=['Division'],how='left')\n",
    "cols = ['SumaFacturacion','TendenciaCierre1']\n",
    "final_bradlivcred3[cols] = final_bradlivcred3[cols].round(2)\n",
    "final_bradlivcred3"
   ]
  },
  {
   "cell_type": "code",
   "execution_count": 55,
   "metadata": {},
   "outputs": [],
   "source": [
    "writer = pd.ExcelWriter(''+ruta_guardar+'/Avance Pagos '+fecha_fact+'.xlsx',engine='xlsxwriter')\n",
    "final_sucursal.to_excel(writer,'FactSucursal',index=False,header=True)\n",
    "final_mexico.to_excel(writer,'FactCliente',index=False,header=True)\n",
    "final_bradlivcred3.to_excel(writer,'GerEnrique',index=False,header=True)\n",
    "\n",
    "writer.save()"
   ]
  },
  {
   "cell_type": "code",
   "execution_count": null,
   "metadata": {},
   "outputs": [],
   "source": []
  }
 ]
}