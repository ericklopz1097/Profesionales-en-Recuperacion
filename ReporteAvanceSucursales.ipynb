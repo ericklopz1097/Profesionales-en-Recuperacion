{
 "metadata": {
  "language_info": {
   "codemirror_mode": {
    "name": "ipython",
    "version": 3
   },
   "file_extension": ".py",
   "mimetype": "text/x-python",
   "name": "python",
   "nbconvert_exporter": "python",
   "pygments_lexer": "ipython3",
   "version": "3.8.5-final"
  },
  "orig_nbformat": 2,
  "kernelspec": {
   "name": "python3",
   "display_name": "Python 3",
   "language": "python"
  }
 },
 "nbformat": 4,
 "nbformat_minor": 2,
 "cells": [
  {
   "cell_type": "code",
   "execution_count": 2,
   "metadata": {},
   "outputs": [],
   "source": [
    "import pandas as pd\n",
    "import numpy as np\n",
    "import mysql.connector\n",
    "import os\n",
    "from mysql.connector import Error\n",
    "from datetime import datetime, date, timedelta\n",
    "from IPython.core.interactiveshell import InteractiveShell\n",
    "InteractiveShell.ast_node_interactivity = \"all\""
   ]
  },
  {
   "cell_type": "code",
   "execution_count": 3,
   "metadata": {},
   "outputs": [],
   "source": [
    "#Definimos la ruta en donde queremos guardar los archivos\n",
    "ruta_guardar = '/home/estadistico/Documents/Erick/Reportes diarios'\n",
    "ruta_asig_baz = '/home/estadistico/Documents/Erick/Banco Azteca/Asignacion csv'\n",
    "ruta_pagos = '/home/estadistico/Documents/Erick'\n",
    "mes = 20201201\n",
    "mes2 = 'Diciembre2020'\n",
    "mes3 = pd.to_datetime('01/12/2020',dayfirst=True)\n",
    "prim_sem_mes = 49"
   ]
  },
  {
   "cell_type": "code",
   "execution_count": null,
   "metadata": {},
   "outputs": [],
   "source": [
    "#Asignamos valores a los parametros\"\n",
    "today = date.today().strftime('%Y%m%d')\n",
    "now = datetime.now().strftime('%d-%m-%Y %H-%M')\n",
    "hoy = np.datetime64('today')\n",
    "ayer = np.datetime64(date.today() - timedelta(1))\n",
    "today2 = date.today().strftime('%d-%m-%Y')"
   ]
  },
  {
   "source": [
    "# Torreon"
   ],
   "cell_type": "markdown",
   "metadata": {}
  },
  {
   "cell_type": "code",
   "execution_count": 45,
   "metadata": {},
   "outputs": [],
   "source": [
    "metas = pd.DataFrame([('Avon',990000),('Oriflame',95000),('Invex_RLN',270000),('Invex_RLA',479000),('Invex_REL',470000),('Arabela',95000),('Cristian Lay',6000)])\n",
    "metas.columns = ['Cliente','Meta']"
   ]
  },
  {
   "cell_type": "code",
   "execution_count": 4,
   "metadata": {},
   "outputs": [],
   "source": [
    "#Lectura pagos Oriflam\n",
    "pagos_oriflame = pd.read_excel(''+ruta_pagos+'/'+mes2+'/Torreon/Oriflame/RECUPERACION EXITOSA 18-12-20.xlsx')\n",
    "pagos_oriflame['Cliente'] = 'Oriflame'\n",
    "pagos_oriflame = pagos_oriflame.drop_duplicates()\n",
    "pagos_oriflame = pagos_oriflame.loc[pagos_oriflame['FECHA_PAGO']>=mes3]"
   ]
  },
  {
   "cell_type": "code",
   "execution_count": 29,
   "metadata": {},
   "outputs": [],
   "source": [
    "#Lectura pagos Arabela\n",
    "pagos_arabela = pd.read_excel(''+ruta_pagos+'/'+mes2+'/Torreon/Arabela/18122020_PAGOS_ARABELA.xlsx')\n",
    "pagos_arabela['Cliente'] = 'Arabela'\n",
    "pagos_arabela = pagos_arabela.drop_duplicates()\n",
    "pagos_arabela['FechaEntrega'] = [datetime.strptime(str(x), '%Y%m%d').strftime('%d/%m/%Y') for x in pagos_arabela['FechaEntrega']]\n",
    "pagos_arabela['FechaEntrega'] = pd.to_datetime(pagos_arabela['FechaEntrega'],dayfirst=True)\n",
    "pagos_arabela = pagos_arabela.loc[pagos_arabela['FechaEntrega']>=mes3]"
   ]
  },
  {
   "cell_type": "code",
   "execution_count": 17,
   "metadata": {},
   "outputs": [],
   "source": [
    "#Lectura pagos invex\n",
    "pagos_invex = pd.read_excel(''+ruta_pagos+'/'+mes2+'/Torreon/Invex/Pagos Invex.xlsx')\n",
    "pagos_invex['Cliente'] = 'Invex_'+pagos_invex['Agencia'].map(str)\n",
    "pagos_invex = pagos_invex.drop_duplicates()\n",
    "pagos_invex = pagos_invex.loc[pagos_invex['TRAN_POST_DT']>=mes3]"
   ]
  },
  {
   "source": [
    "# Oriflame"
   ],
   "cell_type": "markdown",
   "metadata": {}
  },
  {
   "cell_type": "code",
   "execution_count": 74,
   "metadata": {},
   "outputs": [
    {
     "output_type": "execute_result",
     "data": {
      "text/plain": [
       "    Cliente  Facturacion  FechaFact\n",
       "0  Oriflame    39431.084 2020-12-18"
      ],
      "text/html": "<div>\n<style scoped>\n    .dataframe tbody tr th:only-of-type {\n        vertical-align: middle;\n    }\n\n    .dataframe tbody tr th {\n        vertical-align: top;\n    }\n\n    .dataframe thead th {\n        text-align: right;\n    }\n</style>\n<table border=\"1\" class=\"dataframe\">\n  <thead>\n    <tr style=\"text-align: right;\">\n      <th></th>\n      <th>Cliente</th>\n      <th>Facturacion</th>\n      <th>FechaFact</th>\n    </tr>\n  </thead>\n  <tbody>\n    <tr>\n      <th>0</th>\n      <td>Oriflame</td>\n      <td>39431.084</td>\n      <td>2020-12-18</td>\n    </tr>\n  </tbody>\n</table>\n</div>"
     },
     "metadata": {},
     "execution_count": 74
    }
   ],
   "source": [
    "reporte_pagos_oriflame = pd.pivot_table(pagos_oriflame,index=['Cliente'],values=['fact'],aggfunc=np.sum)\n",
    "reporte_pagos_oriflame = pd.DataFrame(reporte_pagos_oriflame.to_records())\n",
    "reporte_pagos_oriflame.columns = ['Cliente','Facturacion']\n",
    "reporte_pagos_oriflame['FechaFact'] = max(pagos_oriflame['FECHA_PAGO'])\n",
    "reporte_pagos_oriflame['FechaFact'] = pd.to_datetime(reporte_pagos_oriflame['FechaFact'],dayfirst=True)\n",
    "reporte_pagos_oriflame"
   ]
  },
  {
   "source": [
    "# Invex"
   ],
   "cell_type": "markdown",
   "metadata": {}
  },
  {
   "cell_type": "code",
   "execution_count": 75,
   "metadata": {},
   "outputs": [
    {
     "output_type": "execute_result",
     "data": {
      "text/plain": [
       "     Cliente  Facturacion  FechaFact\n",
       "0  Invex_REL   308241.376 2020-12-18\n",
       "1  Invex_RLA   354848.104 2020-12-18\n",
       "2  Invex_RLN   140678.700 2020-12-18"
      ],
      "text/html": "<div>\n<style scoped>\n    .dataframe tbody tr th:only-of-type {\n        vertical-align: middle;\n    }\n\n    .dataframe tbody tr th {\n        vertical-align: top;\n    }\n\n    .dataframe thead th {\n        text-align: right;\n    }\n</style>\n<table border=\"1\" class=\"dataframe\">\n  <thead>\n    <tr style=\"text-align: right;\">\n      <th></th>\n      <th>Cliente</th>\n      <th>Facturacion</th>\n      <th>FechaFact</th>\n    </tr>\n  </thead>\n  <tbody>\n    <tr>\n      <th>0</th>\n      <td>Invex_REL</td>\n      <td>308241.376</td>\n      <td>2020-12-18</td>\n    </tr>\n    <tr>\n      <th>1</th>\n      <td>Invex_RLA</td>\n      <td>354848.104</td>\n      <td>2020-12-18</td>\n    </tr>\n    <tr>\n      <th>2</th>\n      <td>Invex_RLN</td>\n      <td>140678.700</td>\n      <td>2020-12-18</td>\n    </tr>\n  </tbody>\n</table>\n</div>"
     },
     "metadata": {},
     "execution_count": 75
    }
   ],
   "source": [
    "reporte_pagos_invex = pd.pivot_table(pagos_invex,index=['Cliente'],values=['AMT_TRAN','HONORARIO'],aggfunc=[np.sum,np.mean])\n",
    "reporte_pagos_invex = pd.DataFrame(reporte_pagos_invex.to_records())\n",
    "reporte_pagos_invex = reporte_pagos_invex.iloc[:,[0,1,4]]\n",
    "reporte_pagos_invex.columns = ['Cliente','Pago','Honorario']\n",
    "reporte_pagos_invex['Facturacion'] = reporte_pagos_invex['Pago']*reporte_pagos_invex['Honorario']\n",
    "reporte_pagos_invex = reporte_pagos_invex.iloc[:,[0,3]]\n",
    "reporte_pagos_invex['FechaFact'] = max(pagos_invex['TRAN_POST_DT'])\n",
    "reporte_pagos_invex['FechaFact'] = pd.to_datetime(reporte_pagos_invex['FechaFact'],dayfirst=True)\n",
    "reporte_pagos_invex"
   ]
  },
  {
   "source": [
    "# Arabela"
   ],
   "cell_type": "markdown",
   "metadata": {}
  },
  {
   "cell_type": "code",
   "execution_count": 73,
   "metadata": {},
   "outputs": [
    {
     "output_type": "execute_result",
     "data": {
      "text/plain": [
       "   Cliente  Facturacion  FechaFact\n",
       "0  Arabela   53221.4916 2020-12-18"
      ],
      "text/html": "<div>\n<style scoped>\n    .dataframe tbody tr th:only-of-type {\n        vertical-align: middle;\n    }\n\n    .dataframe tbody tr th {\n        vertical-align: top;\n    }\n\n    .dataframe thead th {\n        text-align: right;\n    }\n</style>\n<table border=\"1\" class=\"dataframe\">\n  <thead>\n    <tr style=\"text-align: right;\">\n      <th></th>\n      <th>Cliente</th>\n      <th>Facturacion</th>\n      <th>FechaFact</th>\n    </tr>\n  </thead>\n  <tbody>\n    <tr>\n      <th>0</th>\n      <td>Arabela</td>\n      <td>53221.4916</td>\n      <td>2020-12-18</td>\n    </tr>\n  </tbody>\n</table>\n</div>"
     },
     "metadata": {},
     "execution_count": 73
    }
   ],
   "source": [
    "reporte_pagos_arabela = pd.pivot_table(pagos_arabela,index=['Cliente'],values=['factura'],aggfunc=np.sum)\n",
    "reporte_pagos_arabela = pd.DataFrame(reporte_pagos_arabela.to_records())\n",
    "reporte_pagos_arabela.columns = ['Cliente','Facturacion']\n",
    "reporte_pagos_arabela['FechaFact'] = max(pagos_arabela['FechaEntrega'])\n",
    "reporte_pagos_arabela['FechaFact'] = pd.to_datetime(reporte_pagos_arabela['FechaFact'],dayfirst=True)\n",
    "reporte_pagos_arabela"
   ]
  },
  {
   "source": [
    "# Union sucursal"
   ],
   "cell_type": "markdown",
   "metadata": {}
  },
  {
   "cell_type": "code",
   "execution_count": 76,
   "metadata": {},
   "outputs": [
    {
     "output_type": "execute_result",
     "data": {
      "text/plain": [
       "  Sucursal    Cliente  Facturacion  FechaFact    Meta   Avance%\n",
       "0  Torreon    Arabela   53221.4916 2020-12-18   95000  0.560226\n",
       "1  Torreon  Invex_REL  308241.3760 2020-12-18  470000  0.655833\n",
       "2  Torreon  Invex_RLA  354848.1040 2020-12-18  479000  0.740810\n",
       "3  Torreon  Invex_RLN  140678.7000 2020-12-18  270000  0.521032\n",
       "4  Torreon   Oriflame   39431.0840 2020-12-18   95000  0.415064"
      ],
      "text/html": "<div>\n<style scoped>\n    .dataframe tbody tr th:only-of-type {\n        vertical-align: middle;\n    }\n\n    .dataframe tbody tr th {\n        vertical-align: top;\n    }\n\n    .dataframe thead th {\n        text-align: right;\n    }\n</style>\n<table border=\"1\" class=\"dataframe\">\n  <thead>\n    <tr style=\"text-align: right;\">\n      <th></th>\n      <th>Sucursal</th>\n      <th>Cliente</th>\n      <th>Facturacion</th>\n      <th>FechaFact</th>\n      <th>Meta</th>\n      <th>Avance%</th>\n    </tr>\n  </thead>\n  <tbody>\n    <tr>\n      <th>0</th>\n      <td>Torreon</td>\n      <td>Arabela</td>\n      <td>53221.4916</td>\n      <td>2020-12-18</td>\n      <td>95000</td>\n      <td>0.560226</td>\n    </tr>\n    <tr>\n      <th>1</th>\n      <td>Torreon</td>\n      <td>Invex_REL</td>\n      <td>308241.3760</td>\n      <td>2020-12-18</td>\n      <td>470000</td>\n      <td>0.655833</td>\n    </tr>\n    <tr>\n      <th>2</th>\n      <td>Torreon</td>\n      <td>Invex_RLA</td>\n      <td>354848.1040</td>\n      <td>2020-12-18</td>\n      <td>479000</td>\n      <td>0.740810</td>\n    </tr>\n    <tr>\n      <th>3</th>\n      <td>Torreon</td>\n      <td>Invex_RLN</td>\n      <td>140678.7000</td>\n      <td>2020-12-18</td>\n      <td>270000</td>\n      <td>0.521032</td>\n    </tr>\n    <tr>\n      <th>4</th>\n      <td>Torreon</td>\n      <td>Oriflame</td>\n      <td>39431.0840</td>\n      <td>2020-12-18</td>\n      <td>95000</td>\n      <td>0.415064</td>\n    </tr>\n  </tbody>\n</table>\n</div>"
     },
     "metadata": {},
     "execution_count": 76
    }
   ],
   "source": [
    "pdList = [reporte_pagos_arabela,reporte_pagos_invex,reporte_pagos_oriflame]\n",
    "final_torreon = pd.concat(pdList,ignore_index=True)\n",
    "final_torreon = pd.merge(final_torreon,metas,on=['Cliente'],how='left')\n",
    "final_torreon['Avance%'] = final_torreon['Facturacion']/final_torreon['Meta']\n",
    "final_torreon.insert(loc=0,column='Sucursal',value='Torreon')\n",
    "final_torreon"
   ]
  },
  {
   "source": [
    "# Naucalpan"
   ],
   "cell_type": "markdown",
   "metadata": {}
  },
  {
   "cell_type": "code",
   "execution_count": 51,
   "metadata": {},
   "outputs": [],
   "source": [
    "#Lectura pagos Bradesco\n",
    "pagos_brad = pd.read_excel(''+ruta_pagos+'/'+str(mes2)+'/Bradesco/Pagos/ENRIQUEZ Acumulado de pagos Diciembre de 2020.xlsx')\n",
    "pagos_brad = pagos_brad.iloc[:,0:9]\n",
    "pagos_brad = pagos_brad.drop_duplicates()\n",
    "pagos_brad2 = pd.pivot_table(pagos_brad,index=['NUMERO_TARJETA','FECHA_PAGO','TIPO_ASIGANCION'],values=['MONTO'],aggfunc=np.sum)\n",
    "pagos_brad2 = pd.DataFrame(pagos_brad2.to_records())\n",
    "pagos_brad2 = pagos_brad2.loc[pagos_brad2['FECHA_PAGO']>=mes3]"
   ]
  },
  {
   "cell_type": "code",
   "execution_count": 64,
   "metadata": {},
   "outputs": [],
   "source": [
    "#Lectura pagos Liverpool\n",
    "sheet_liv = ['SA002REM','SA001REM','DKN04REM','DKN02REM','DKN00REM']\n",
    "pagos_liv = pd.DataFrame()\n",
    "for i in sheet_liv:\n",
    "    pagos_liv_new = pd.read_excel(''+ruta_pagos+'/'+str(mes2)+'/Liverpool/Pagos/PAGOS DIC LIVERPOOL .xlsx',sheet_name = str(i))\n",
    "    pagos_liv = pd.concat([pagos_liv,pagos_liv_new],ignore_index=True)\n",
    "pagos_liv = pagos_liv.drop_duplicates()\n",
    "pagos_liv = pagos_liv.iloc[:,0:6]\n",
    "pagos_liv.columns = ['Id','Cuenta','Fecha Prom','Fecha Pago','Monto','Posteo']\n",
    "pagos_liv['Fecha Pago'] = pd.to_datetime(pagos_liv['Fecha Pago'],dayfirst=True)\n",
    "try: \n",
    "    pagos_liv['Fecha Prom'] = pd.to_datetime(pagos_liv['Fecha Prom'],dayfirst=True)\n",
    "except: pagos_liv['Fecha Prom'] = pagos_liv['Fecha Prom']\n",
    "pagos_liv['Fecha Prom'] = [datetime.strftime(x,'%d/%m/%Y') for x in pagos_liv['Fecha Prom']]\n",
    "pagos_liv2 = pd.pivot_table(pagos_liv,index=['Id','Cuenta','Fecha Pago','Fecha Prom'],values=['Monto'],aggfunc=np.sum)\n",
    "pagos_liv2 = pd.DataFrame(pagos_liv2.to_records())\n",
    "pagos_liv2 = pagos_liv2.loc[pagos_liv2['Fecha Pago']>=mes3]"
   ]
  },
  {
   "cell_type": "code",
   "execution_count": 53,
   "metadata": {},
   "outputs": [],
   "source": [
    "#Lectura pagos Credifiel\n",
    "sheet_cred = os.listdir(''+ruta_pagos+'/'+str(mes2)+'/Credifiel/Pagos/')\n",
    "pagos_cred = pd.DataFrame()\n",
    "for i in sheet_cred:\n",
    "    pagos_cred_new = pd.read_excel(''+ruta_pagos+'/'+str(mes2)+'/Credifiel/Pagos/'+i+'')\n",
    "    pagos_cred = pd.concat([pagos_cred,pagos_cred_new],ignore_index=True)\n",
    "pagos_cred = pagos_cred.iloc[:,0:5]\n",
    "pagos_cred2 = pd.pivot_table(pagos_cred,index=['ID','FECHA'],values=['IMPORTE'],aggfunc=np.sum)\n",
    "pagos_cred2 = pd.DataFrame(pagos_cred2.to_records())"
   ]
  },
  {
   "cell_type": "code",
   "execution_count": 54,
   "metadata": {},
   "outputs": [],
   "source": [
    "#Lectura asignacion Credifiel\n",
    "sheet_cred2 = os.listdir(''+ruta_pagos+'/'+str(mes2)+'/Credifiel/Asignacion/')\n",
    "asignacion_cred = pd.DataFrame()\n",
    "for j in sheet_cred2:\n",
    "    asignacion_cred_new = pd.read_excel(''+ruta_pagos+'/'+str(mes2)+'/Credifiel/Asignacion/'+j+'')\n",
    "    asignacion_cred = pd.concat([asignacion_cred,asignacion_cred_new],ignore_index=True)\n",
    "asignacion_cred = asignacion_cred.loc[:,['CREDITO','ARANCEL']]"
   ]
  },
  {
   "cell_type": "code",
   "execution_count": 55,
   "metadata": {},
   "outputs": [],
   "source": [
    "#Lectura pagos Banco Azteca\n",
    "sheet_baz_renta = os.listdir(''+ruta_pagos+'/'+str(mes2)+'/Banco Azteca/Pagos/Renta')\n",
    "pagos_baz_renta = pd.DataFrame()\n",
    "for i in sheet_baz_renta:\n",
    "    pagos_baz_renta_new = pd.read_csv(''+ruta_pagos+'/'+str(mes2)+'/Banco Azteca/Pagos/Renta/'+i+'')\n",
    "    pagos_baz_renta = pd.concat([pagos_baz_renta,pagos_baz_renta_new],ignore_index=True)\n",
    "pagos_baz_renta = pagos_baz_renta.drop_duplicates()\n",
    "pagos_baz_renta = pagos_baz_renta.loc[pagos_baz_renta['FNMONTOPAGADO']>0]\n",
    "pagos_baz_renta['FDFECHAABONO'] = pd.to_datetime(pagos_baz_renta['FDFECHAABONO'],dayfirst=True)\n",
    "pagos_baz_renta = pagos_baz_renta.loc[pagos_baz_renta['FDFECHAABONO']>=mes3]\n",
    "pagos_baz_renta2 = pd.pivot_table(pagos_baz_renta,index=['CAMPANAID','FDFECHAABONO','FIIDPERIODO','FNSCOMPROMISO','FCEMPNUMCORTE','FNMONTOPROMETIDO'],values=['FNMONTOPAGADO'],aggfunc=np.sum)\n",
    "pagos_baz_renta2 = pd.DataFrame(pagos_baz_renta2.to_records())\n",
    "pagos_baz_renta2['Cliente'] = 'Renta Azteca'"
   ]
  },
  {
   "cell_type": "code",
   "execution_count": 56,
   "metadata": {},
   "outputs": [],
   "source": [
    "#Leemos facturacion Banco Azteca\n",
    "sheet_baz2 = os.listdir(''+ruta_pagos+'/'+str(mes2)+'/Banco Azteca/Facturacion/')\n",
    "fact_baz = pd.DataFrame()\n",
    "for k in sheet_baz2:\n",
    "    fact_baz_new = pd.read_csv(''+ruta_pagos+'/'+str(mes2)+'/Banco Azteca/Facturacion/'+k+'')\n",
    "    fact_baz = pd.concat([fact_baz,fact_baz_new],ignore_index=True)\n",
    "fact_baz = fact_baz.drop_duplicates()\n",
    "fact_baz = fact_baz.loc[fact_baz['Número Semana']>=prim_sem_mes]\n",
    "fact_baz['Final de Semana'] = pd.to_datetime(fact_baz['Final de Semana'],dayfirst=True)\n",
    "fact_baz['Inicio de Semana'] = pd.to_datetime(fact_baz['Inicio de Semana'],dayfirst=True)\n",
    "fact_baz['Cliente'] = 'Banco Azteca'"
   ]
  },
  {
   "cell_type": "code",
   "execution_count": 57,
   "metadata": {},
   "outputs": [],
   "source": [
    "#Lectura pagos Banco Azteca Recovery\n",
    "sheet_baz_recovery = os.listdir(''+ruta_pagos+'/'+str(mes2)+'/Banco Azteca/Pagos/Recovery/')\n",
    "pagos_baz_recovery = pd.DataFrame()\n",
    "for k in sheet_baz_recovery:\n",
    "    pagos_baz_recovery_new = pd.read_csv(''+ruta_pagos+'/'+str(mes2)+'/Banco Azteca/Pagos/Recovery/'+k+'',sep='|')\n",
    "    pagos_baz_recovery = pd.concat([pagos_baz_recovery,pagos_baz_recovery_new],ignore_index=True)\n",
    "pagos_baz_recovery['Cartera'] = 'Recovery'\n",
    "pagos_baz_recovery['DIA'] = pd.to_datetime(pagos_baz_recovery['DIA'],dayfirst=True)\n",
    "pagos_baz_recovery = pagos_baz_recovery.loc[pagos_baz_recovery['DIA']>=mes3]\n",
    "pagos_baz_recovery = pagos_baz_recovery.loc[pagos_baz_recovery['DIA']>=mes3]\n",
    "pagos_baz_recovery['credito'] = pagos_baz_recovery['PAIS'].map(str)+'-'+pagos_baz_recovery['CANAL'].map(str)+'-'+pagos_baz_recovery['SUCURSAL'].map(str)+'-'+pagos_baz_recovery['FOLIO'].map(str)\n",
    "pagos_baz_recovery = pagos_baz_recovery.drop_duplicates()"
   ]
  },
  {
   "cell_type": "code",
   "execution_count": 58,
   "metadata": {},
   "outputs": [],
   "source": [
    "#Lectura pagos Banco Azteca 26-39\n",
    "sheet_baz_26 = os.listdir(''+ruta_pagos+'/'+str(mes2)+'/Banco Azteca/Pagos/26-39/')\n",
    "pagos_baz_26 = pd.DataFrame()\n",
    "for j in sheet_baz_26:\n",
    "    pagos_baz_26_new = pd.read_csv(''+ruta_pagos+'/'+str(mes2)+'/Banco Azteca/Pagos/26-39/'+j+'',sep='|')\n",
    "    pagos_baz_26 = pd.concat([pagos_baz_26,pagos_baz_26_new],ignore_index=True)\n",
    "pagos_baz_26['cartera'] = '26-39'\n",
    "pagos_baz_26['DIA'] = pd.to_datetime(pagos_baz_26['DIA'],dayfirst=True)\n",
    "pagos_baz_26 = pagos_baz_26.loc[pagos_baz_26['DIA']>=mes3]\n",
    "pagos_baz_26['credito'] = pagos_baz_26['PAIS'].map(str)+'-'+pagos_baz_26['CANAL'].map(str)+'-'+pagos_baz_26['SUCURSAL'].map(str)+'-'+pagos_baz_26['FOLIO'].map(str)\n",
    "pagos_baz_26 = pagos_baz_26.drop_duplicates()"
   ]
  },
  {
   "source": [
    "# Liverpool"
   ],
   "cell_type": "markdown",
   "metadata": {}
  },
  {
   "cell_type": "code",
   "execution_count": 59,
   "metadata": {},
   "outputs": [],
   "source": [
    "meta_naucalpan = pd.DataFrame([('Liverpool',1000000),('Bradesco',1200000),('Credifiel',120000)])\n",
    "meta_naucalpan.columns = ['Cliente','Meta']"
   ]
  },
  {
   "cell_type": "code",
   "execution_count": 65,
   "metadata": {},
   "outputs": [],
   "source": [
    "#Asignamos los aranceles de liverpool\n",
    "aranceles = [('DKN00REM',0.28),('DKN02REM',0.4),('DKN04REM',0.5),('SA001REM',0.15),('SA002REM',0.16)]\n",
    "aranceles = pd.DataFrame(aranceles)\n",
    "aranceles.columns = ['Id','Arancel']\n",
    "\n",
    "#Agregamos aranceles al consolidado\n",
    "pagos_liv2 = pd.merge(pagos_liv2,aranceles,how='left',on='Id')\n",
    "pagos_liv2['PagoArancel'] = [x*y for x,y in zip(pagos_liv2['Monto'],pagos_liv2['Arancel'])]\n",
    "pagos_liv2['Fecha Pago'] = pd.to_datetime(pagos_liv2['Fecha Pago'],dayfirst=True)\n",
    "pagos_liv2['Cliente'] = 'Liverpool'"
   ]
  },
  {
   "cell_type": "code",
   "execution_count": 71,
   "metadata": {},
   "outputs": [
    {
     "output_type": "execute_result",
     "data": {
      "text/plain": [
       "     Cliente  Facturacion  FechaFact\n",
       "0  Liverpool   1014128.05 2020-12-27"
      ],
      "text/html": "<div>\n<style scoped>\n    .dataframe tbody tr th:only-of-type {\n        vertical-align: middle;\n    }\n\n    .dataframe tbody tr th {\n        vertical-align: top;\n    }\n\n    .dataframe thead th {\n        text-align: right;\n    }\n</style>\n<table border=\"1\" class=\"dataframe\">\n  <thead>\n    <tr style=\"text-align: right;\">\n      <th></th>\n      <th>Cliente</th>\n      <th>Facturacion</th>\n      <th>FechaFact</th>\n    </tr>\n  </thead>\n  <tbody>\n    <tr>\n      <th>0</th>\n      <td>Liverpool</td>\n      <td>1014128.05</td>\n      <td>2020-12-27</td>\n    </tr>\n  </tbody>\n</table>\n</div>"
     },
     "metadata": {},
     "execution_count": 71
    }
   ],
   "source": [
    "#Total pagos Liver registrados\n",
    "pagos_totales_liv = pd.pivot_table(pagos_liv2,index=['Cliente'],values=['PagoArancel'],aggfunc=np.sum,dropna=False)\n",
    "pagos_totales_liv = pd.DataFrame(pagos_totales_liv.to_records())\n",
    "#pagos_totales_liv = pagos_totales_liv.iloc[:,[0,3,1,2]]\n",
    "pagos_totales_liv.columns = ['Cliente','Facturacion']\n",
    "pagos_totales_liv.fillna(0,inplace=True)\n",
    "pagos_totales_liv['Facturacion'] = pagos_totales_liv['Facturacion'].round(2)\n",
    "pagos_totales_liv['FechaFact'] = max(pagos_liv2['Fecha Pago'])\n",
    "pagos_totales_liv['FechaFact'] = pd.to_datetime(pagos_totales_liv['FechaFact'],dayfirst=True)\n",
    "pagos_totales_liv"
   ]
  },
  {
   "source": [
    "# Bradesco"
   ],
   "cell_type": "markdown",
   "metadata": {}
  },
  {
   "cell_type": "code",
   "execution_count": 80,
   "metadata": {},
   "outputs": [],
   "source": [
    "#Hacemos la asignacion de cada una de las metas para cambiar de arancel sin tomar el 0 en cuenta\n",
    "c04pv1, arancel_4pv1 = 1204704, .07\n",
    "c04pv2, arancel_4pv2 = 1807056, .09\n",
    "c04pv3, arancel_4pv3 = 2409407, .12\n",
    "c05pv1, arancel_5pv1 = 662269, .09\n",
    "c05pv2, arancel_5pv2 = 993403, .10\n",
    "c05pv3, arancel_5pv3 = 1324538, .14\n",
    "c06pv1, arancel_6pv1 = 807172, .10\n",
    "c06pv2, arancel_6pv2 = 1210759, .11\n",
    "c06pv3, arancel_6pv3 = 1614345, .16\n",
    "a1, arancel_a1 = 260190, .27\n",
    "a2, arancel_a2 = 390285, .30\n",
    "a3, arancel_a3 = 520381, .33\n",
    "b1, arancel_b1 = 215083, .25\n",
    "b2, arancel_b2 = 322624, .28\n",
    "b3, arancel_b3 = 430165, .31\n",
    "c11, arancel_c11 = 1430989, .17\n",
    "c12, arancel_c12 = 2146483, .20\n",
    "c13, arancel_c13 = 2861978, .23\n",
    "c21, arancel_c21 = 626634, .19\n",
    "c22, arancel_c22 = 939951, .22\n",
    "c23, arancel_c23 = 1253267, .25\n",
    "c31, arancel_c31 = 246425, .21\n",
    "c32, arancel_c32 = 369637, .24\n",
    "c33, arancel_c33 = 492849, .27\n",
    "c41, arancel_c41 = 123529, .23\n",
    "c42, arancel_c42 = 185294, .26\n",
    "c43, arancel_c43 = 247059, .29"
   ]
  },
  {
   "cell_type": "code",
   "execution_count": 77,
   "metadata": {},
   "outputs": [],
   "source": [
    "#Obtenemos los pagos totales por division\n",
    "pagos_totales_brad = pd.pivot_table(pagos_brad2,index=['TIPO_ASIGANCION'],values=['MONTO'],aggfunc=[np.sum,'count'],margins=True,dropna=False)\n",
    "pagos_totales_brad = pd.DataFrame(pagos_totales_brad.to_records())\n",
    "pagos_totales_brad = pagos_totales_brad.iloc[:,[0,2,1]]\n",
    "pagos_totales_brad.columns = ['Division','NumeroPagos','SumaPagos']\n",
    "pagos_totales_brad.fillna(0,inplace=True)"
   ]
  },
  {
   "cell_type": "code",
   "execution_count": 78,
   "metadata": {},
   "outputs": [],
   "source": [
    "C04PV = pagos_totales_brad.loc[pagos_totales_brad['Division']=='C0 4PV', 'SumaPagos'].item()\n",
    "C05PV = pagos_totales_brad.loc[pagos_totales_brad['Division']=='C0 5PV', 'SumaPagos'].item()\n",
    "C06PV = pagos_totales_brad.loc[pagos_totales_brad['Division']=='C0 6PV', 'SumaPagos'].item()\n",
    "A = pagos_totales_brad.loc[pagos_totales_brad['Division']=='A', 'SumaPagos'].item()\n",
    "C1 = pagos_totales_brad.loc[pagos_totales_brad['Division']=='C1', 'SumaPagos'].item()\n",
    "C2 = pagos_totales_brad.loc[pagos_totales_brad['Division']=='C2', 'SumaPagos'].item()\n",
    "C3 = pagos_totales_brad.loc[pagos_totales_brad['Division']=='C3', 'SumaPagos'].item()\n",
    "C4 = pagos_totales_brad.loc[pagos_totales_brad['Division']=='C4', 'SumaPagos'].item()\n",
    "B = pagos_totales_brad.loc[pagos_totales_brad['Division']=='B', 'SumaPagos'].item()"
   ]
  },
  {
   "cell_type": "code",
   "execution_count": 81,
   "metadata": {},
   "outputs": [],
   "source": [
    "def func(row):\n",
    "    if row['TIPO_ASIGANCION'] == 'C0 4PV':\n",
    "        return np.where((C04PV>0) & (C04PV<=c04pv1),arancel_4pv1,\n",
    "                        np.where((C04PV>c04pv1) & (C04PV<=c04pv2),arancel_4pv2,\n",
    "                                 np.where((C04PV>c04pv2) & (C04PV<=c04pv3),arancel_4pv3,arancel_4pv3+.03)))\n",
    "    elif row['TIPO_ASIGANCION'] == 'C0 5PV':\n",
    "        return np.where((C05PV>0) & (C05PV<=c05pv1),arancel_5pv1,\n",
    "                        np.where((C05PV>c05pv1) & (C05PV<=c05pv2),arancel_5pv2,\n",
    "                                 np.where((C05PV>c05pv2) & (C05PV<=c05pv3),arancel_5pv3,arancel_5pv3+.03)))\n",
    "    elif row['TIPO_ASIGANCION'] == 'C0 6PV':\n",
    "        return np.where((C06PV>0) & (C06PV<=c06pv1),arancel_6pv1,\n",
    "                        np.where((C06PV>c06pv1) & (C06PV<=c06pv2),arancel_6pv2,\n",
    "                                 np.where((C06PV>c06pv2) & (C06PV<=c06pv3),arancel_6pv3,arancel_6pv3+.03)))\n",
    "    elif row['TIPO_ASIGANCION'] == 'A':\n",
    "        return np.where((A>0) & (A<=a1),arancel_a1,\n",
    "                        np.where((A>a1) & (A<=a2),arancel_a2,\n",
    "                                 np.where((A>a2) & (A<=a3),arancel_a3,arancel_a3+.03)))\n",
    "    elif row['TIPO_ASIGANCION'] == 'B':\n",
    "        return np.where((B>0) & (B<=b1),arancel_b1,\n",
    "                        np.where((B>b1) & (B<=b2),arancel_b2,\n",
    "                                 np.where((B>b2) & (B<=b3),arancel_b3,arancel_b3+.03)))\n",
    "    elif row['TIPO_ASIGANCION'] == 'C1':\n",
    "        return np.where((C1>0) & (C1<=c11),arancel_c11,\n",
    "                        np.where((C1>c11) & (C1<=c12),arancel_c12,\n",
    "                                 np.where((C1>c12) & (C1<=c13),arancel_c13,arancel_c13+.03)))\n",
    "    elif row['TIPO_ASIGANCION'] == 'C2':\n",
    "        return np.where((C2>0) & (C2<=c21),arancel_c21,\n",
    "                        np.where((C2>c21) & (C2<=c22),arancel_c22,\n",
    "                                 np.where((C2>c22) & (C2<=c23),arancel_c23,arancel_c23+.03)))\n",
    "    elif row['TIPO_ASIGANCION'] == 'C3':\n",
    "        return np.where((C3>0) & (C3<=c31),arancel_c31,\n",
    "                        np.where((C3>c31) & (C3<=c32),arancel_c32,\n",
    "                                 np.where((C3>c32) & (C3<=c33),arancel_c33,arancel_c33+.03)))\n",
    "    elif row['TIPO_ASIGANCION'] == 'C4':\n",
    "        return np.where((C4>0) & (C4<=c41),arancel_c41,\n",
    "                        np.where((C4>c41) & (C4<=c42),arancel_c42,\n",
    "                                 np.where((C4>c42) & (C4<=c43),arancel_c43,arancel_c43+.03)))\n",
    "    \n",
    "    else:\n",
    "        return 0\n",
    "\n",
    "pagos_brad2['Arancel'] = pagos_brad2.apply(func, axis=1)"
   ]
  },
  {
   "cell_type": "code",
   "execution_count": 82,
   "metadata": {},
   "outputs": [],
   "source": [
    "pagos_brad2['Facturacion'] = [x*y for x,y in zip(pagos_brad2['MONTO'],pagos_brad2['Arancel'])]\n",
    "pagos_brad2['Cliente'] = 'Bradesco'"
   ]
  },
  {
   "cell_type": "code",
   "execution_count": 86,
   "metadata": {},
   "outputs": [
    {
     "output_type": "execute_result",
     "data": {
      "text/plain": [
       "    Cliente  Facturacion  FechaFact\n",
       "0  Bradesco  502890.3666 2020-12-27"
      ],
      "text/html": "<div>\n<style scoped>\n    .dataframe tbody tr th:only-of-type {\n        vertical-align: middle;\n    }\n\n    .dataframe tbody tr th {\n        vertical-align: top;\n    }\n\n    .dataframe thead th {\n        text-align: right;\n    }\n</style>\n<table border=\"1\" class=\"dataframe\">\n  <thead>\n    <tr style=\"text-align: right;\">\n      <th></th>\n      <th>Cliente</th>\n      <th>Facturacion</th>\n      <th>FechaFact</th>\n    </tr>\n  </thead>\n  <tbody>\n    <tr>\n      <th>0</th>\n      <td>Bradesco</td>\n      <td>502890.3666</td>\n      <td>2020-12-27</td>\n    </tr>\n  </tbody>\n</table>\n</div>"
     },
     "metadata": {},
     "execution_count": 86
    }
   ],
   "source": [
    "pagos_totales_brad2 = pd.pivot_table(pagos_brad2,index=['Cliente'],values=['Facturacion'],aggfunc=[np.sum],dropna=False)\n",
    "pagos_totales_brad2 = pd.DataFrame(pagos_totales_brad2.to_records())\n",
    "pagos_totales_brad2.columns = ['Cliente','Facturacion']\n",
    "pagos_totales_brad2.fillna(0,inplace=True)\n",
    "pagos_totales_brad2['FechaFact'] = max(pagos_brad2['FECHA_PAGO'])\n",
    "pagos_totales_brad2"
   ]
  },
  {
   "source": [
    "# Credifiel"
   ],
   "cell_type": "markdown",
   "metadata": {}
  },
  {
   "cell_type": "code",
   "execution_count": 87,
   "metadata": {},
   "outputs": [
    {
     "output_type": "execute_result",
     "data": {
      "text/plain": [
       "      ID      FECHA  IMPORTE  ARANCEL  FACTURACION    CLIENTE\n",
       "0  31042 2020-12-18   1500.0      0.4        600.0  Credifiel"
      ],
      "text/html": "<div>\n<style scoped>\n    .dataframe tbody tr th:only-of-type {\n        vertical-align: middle;\n    }\n\n    .dataframe tbody tr th {\n        vertical-align: top;\n    }\n\n    .dataframe thead th {\n        text-align: right;\n    }\n</style>\n<table border=\"1\" class=\"dataframe\">\n  <thead>\n    <tr style=\"text-align: right;\">\n      <th></th>\n      <th>ID</th>\n      <th>FECHA</th>\n      <th>IMPORTE</th>\n      <th>ARANCEL</th>\n      <th>FACTURACION</th>\n      <th>CLIENTE</th>\n    </tr>\n  </thead>\n  <tbody>\n    <tr>\n      <th>0</th>\n      <td>31042</td>\n      <td>2020-12-18</td>\n      <td>1500.0</td>\n      <td>0.4</td>\n      <td>600.0</td>\n      <td>Credifiel</td>\n    </tr>\n  </tbody>\n</table>\n</div>"
     },
     "metadata": {},
     "execution_count": 87
    }
   ],
   "source": [
    "#Hacemos el consolidado de la asignacion y promesado\n",
    "consolidado_pagos_cred = pd.merge(pagos_cred2,asignacion_cred,how='left',left_on=['ID'],right_on=['CREDITO'])\n",
    "consolidado_pagos_cred.drop('CREDITO',1,inplace=True)\n",
    "consolidado_pagos_cred['ARANCEL'] = np.where(consolidado_pagos_cred['ARANCEL'].isna(),np.mean(consolidado_pagos_cred['ARANCEL']),consolidado_pagos_cred['ARANCEL'])\n",
    "consolidado_pagos_cred['FACTURACION'] = consolidado_pagos_cred['IMPORTE']*consolidado_pagos_cred['ARANCEL']\n",
    "consolidado_pagos_cred['CLIENTE'] = 'Credifiel'\n",
    "consolidado_pagos_cred.head(1)"
   ]
  },
  {
   "cell_type": "code",
   "execution_count": 90,
   "metadata": {},
   "outputs": [
    {
     "output_type": "execute_result",
     "data": {
      "text/plain": [
       "     Cliente   Facturacion  FechaFact\n",
       "0  Credifiel  46668.940422 2020-12-18"
      ],
      "text/html": "<div>\n<style scoped>\n    .dataframe tbody tr th:only-of-type {\n        vertical-align: middle;\n    }\n\n    .dataframe tbody tr th {\n        vertical-align: top;\n    }\n\n    .dataframe thead th {\n        text-align: right;\n    }\n</style>\n<table border=\"1\" class=\"dataframe\">\n  <thead>\n    <tr style=\"text-align: right;\">\n      <th></th>\n      <th>Cliente</th>\n      <th>Facturacion</th>\n      <th>FechaFact</th>\n    </tr>\n  </thead>\n  <tbody>\n    <tr>\n      <th>0</th>\n      <td>Credifiel</td>\n      <td>46668.940422</td>\n      <td>2020-12-18</td>\n    </tr>\n  </tbody>\n</table>\n</div>"
     },
     "metadata": {},
     "execution_count": 90
    }
   ],
   "source": [
    "pagos_totales_cred = pd.pivot_table(consolidado_pagos_cred,index=['CLIENTE'],values=['FACTURACION'],aggfunc=[np.sum],dropna=False)\n",
    "pagos_totales_cred = pd.DataFrame(pagos_totales_cred.to_records())\n",
    "#pagos_totales_cred = pagos_totales_cred.iloc[:,[0,1,4,3]]\n",
    "pagos_totales_cred.columns = ['Cliente','Facturacion']\n",
    "pagos_totales_cred.fillna(0,inplace=True)\n",
    "#pagos_totales_cred[['SumaPagos','SumaFacturacion']] = pagos_totales_cred[['SumaPagos','SumaFacturacion']].applymap(\"${0:,.2f}\".format)\n",
    "pagos_totales_cred['FechaFact'] = max(consolidado_pagos_cred['FECHA'])\n",
    "pagos_totales_cred"
   ]
  },
  {
   "source": [
    "# Banco Azteca"
   ],
   "cell_type": "markdown",
   "metadata": {}
  },
  {
   "cell_type": "code",
   "execution_count": 91,
   "metadata": {},
   "outputs": [],
   "source": [
    "pagos_baz = pd.concat([pagos_baz_26,pagos_baz_recovery],ignore_index=True)\n",
    "pagos_baz = pagos_baz.loc[pagos_baz['CARGO AUTOMATICO']=='NO']\n",
    "pagos_baz['Recuperado'] = pagos_baz['RECUPERACION DE CAPITAL']+pagos_baz['RECUPERACION DE MORATORIOS']\n",
    "pagos_baz['Cliente'] = 'Banco Azteca'"
   ]
  },
  {
   "cell_type": "code",
   "execution_count": 92,
   "metadata": {},
   "outputs": [
    {
     "output_type": "execute_result",
     "data": {
      "text/plain": [
       "0    0.146855\n",
       "dtype: float64"
      ]
     },
     "metadata": {},
     "execution_count": 92
    }
   ],
   "source": [
    "pagos_totales_baz = pd.pivot_table(fact_baz,index=['Cliente'],values=['Total Recuperado','Total Comisión'],aggfunc=[np.sum],dropna=False)\n",
    "pagos_totales_baz = pd.DataFrame(pagos_totales_baz.to_records())\n",
    "pagos_totales_baz.columns = ['Cliente','Recuperado','SumaPagos']\n",
    "porcentaje_prom_arancel_baz = pagos_totales_baz['Recuperado']/pagos_totales_baz['SumaPagos']\n",
    "porcentaje_prom_arancel_baz"
   ]
  },
  {
   "cell_type": "code",
   "execution_count": 98,
   "metadata": {},
   "outputs": [
    {
     "output_type": "execute_result",
     "data": {
      "text/plain": [
       "        Cliente    Facturacion  FechaFact\n",
       "0  Banco Azteca  387066.770176 2020-12-27"
      ],
      "text/html": "<div>\n<style scoped>\n    .dataframe tbody tr th:only-of-type {\n        vertical-align: middle;\n    }\n\n    .dataframe tbody tr th {\n        vertical-align: top;\n    }\n\n    .dataframe thead th {\n        text-align: right;\n    }\n</style>\n<table border=\"1\" class=\"dataframe\">\n  <thead>\n    <tr style=\"text-align: right;\">\n      <th></th>\n      <th>Cliente</th>\n      <th>Facturacion</th>\n      <th>FechaFact</th>\n    </tr>\n  </thead>\n  <tbody>\n    <tr>\n      <th>0</th>\n      <td>Banco Azteca</td>\n      <td>387066.770176</td>\n      <td>2020-12-27</td>\n    </tr>\n  </tbody>\n</table>\n</div>"
     },
     "metadata": {},
     "execution_count": 98
    }
   ],
   "source": [
    "pagos_baz['Facturacion'] = [x*porcentaje_prom_arancel_baz for x in pagos_baz['Recuperado']]\n",
    "pagos_fact_baz = pd.pivot_table(pagos_baz,index=['Cliente'],values=['Facturacion'],aggfunc=[np.sum])\n",
    "pagos_fact_baz = pd.DataFrame(pagos_fact_baz.to_records())\n",
    "pagos_fact_baz.columns = ['Cliente','Facturacion']\n",
    "pagos_fact_baz['FechaFact'] = max(pagos_baz['DIA'])\n",
    "pagos_fact_baz"
   ]
  }
 ]
}