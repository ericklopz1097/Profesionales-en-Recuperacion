{
 "metadata": {
  "language_info": {
   "codemirror_mode": {
    "name": "ipython",
    "version": 3
   },
   "file_extension": ".py",
   "mimetype": "text/x-python",
   "name": "python",
   "nbconvert_exporter": "python",
   "pygments_lexer": "ipython3",
   "version": "3.8.5-final"
  },
  "orig_nbformat": 2,
  "kernelspec": {
   "name": "python3",
   "display_name": "Python 3",
   "language": "python"
  }
 },
 "nbformat": 4,
 "nbformat_minor": 2,
 "cells": [
  {
   "cell_type": "code",
   "execution_count": 169,
   "metadata": {},
   "outputs": [],
   "source": [
    "import pandas as pd\n",
    "import numpy as np\n",
    "import mysql.connector\n",
    "import os\n",
    "from mysql.connector import Error\n",
    "from datetime import datetime, date, timedelta\n",
    "from IPython.core.interactiveshell import InteractiveShell\n",
    "InteractiveShell.ast_node_interactivity = \"all\""
   ]
  },
  {
   "cell_type": "code",
   "execution_count": 170,
   "metadata": {},
   "outputs": [],
   "source": [
    "#Definimos la ruta en donde queremos guardar los archivos\n",
    "mes2 = 'Enero2021'\n",
    "ruta_guardar = '/home/estadistico/Documents/Erick/'+mes2+'/Reportes diarios/Avance pagos'\n",
    "ruta_pagos = '/home/estadistico/Documents/Erick'\n",
    "mes = 202010101\n",
    "mes3 = pd.to_datetime('01/01/2021',dayfirst=True)\n",
    "prim_sem_mes = 1"
   ]
  },
  {
   "cell_type": "code",
   "execution_count": 171,
   "metadata": {},
   "outputs": [],
   "source": [
    "quetzal = 2.54\n",
    "dolar = 19.8"
   ]
  },
  {
   "cell_type": "code",
   "execution_count": 172,
   "metadata": {},
   "outputs": [],
   "source": [
    "#Asignamos valores a los parametros\"\n",
    "today = date.today().strftime('%Y%m%d')\n",
    "now = datetime.now().strftime('%d-%m-%Y %H-%M')\n",
    "hoy = np.datetime64('today')\n",
    "ayer = np.datetime64(date.today() - timedelta(1))\n",
    "today2 = date.today().strftime('%d-%m-%Y')"
   ]
  },
  {
   "source": [
    "# Torreon"
   ],
   "cell_type": "markdown",
   "metadata": {}
  },
  {
   "cell_type": "code",
   "execution_count": 173,
   "metadata": {},
   "outputs": [],
   "source": [
    "metas = pd.DataFrame([('Avon',990000),('Oriflame',65000),('Invex_RLN',270000),('Invex_RLA',479000),('Invex_REL',470000),('Arabela',95000),('Cristian Lay',6000)])\n",
    "metas.columns = ['Cliente','Meta']"
   ]
  },
  {
   "cell_type": "code",
   "execution_count": 174,
   "metadata": {},
   "outputs": [],
   "source": [
    "#Lectura pagos Oriflam\n",
    "#pagos_oriflame = pd.read_excel(''+ruta_pagos+'/'+mes2+'/Torreon/Oriflame/RECUPERACION EXITOSA 31-12-2020.xlsx')\n",
    "pagos_oriflame = pd.read_excel(''+ruta_pagos+'/'+mes2+'/Torreon/Oriflame/Pagos/RECUPERACION EXITOSA 12-01-2021.xlsx')\n",
    "pagos_oriflame['Cliente'] = 'Oriflame'\n",
    "pagos_oriflame = pagos_oriflame.drop_duplicates()\n",
    "pagos_oriflame['Factura'] = pagos_oriflame['PAGO_TOTAL']*.1\n",
    "# pagos_oriflame = pagos_oriflame.loc[pagos_oriflame['FECHA_PAGO']>=mes3]"
   ]
  },
  {
   "cell_type": "code",
   "execution_count": 175,
   "metadata": {},
   "outputs": [],
   "source": [
    "#Lectura pagos Arabela\n",
    "# pagos_arabela = pd.read_excel(''+ruta_pagos+'/'+mes2+'/Torreon/Arabela/31122020_PAGOS_ARABELA.xlsx')\n",
    "pagos_arabela = pd.read_excel(''+ruta_pagos+'/'+mes2+'/Torreon/Arabela/Pagos/PAGOS_ARABELA_12012021.xlsx')\n",
    "pagos_arabela['Cliente'] = 'Arabela'\n",
    "pagos_arabela = pagos_arabela.drop_duplicates()\n",
    "pagos_arabela['FechaEntrega'] = [datetime.strptime(str(x), '%Y%m%d').strftime('%d/%m/%Y') for x in pagos_arabela['FechaEntrega']]\n",
    "pagos_arabela['FechaEntrega'] = pd.to_datetime(pagos_arabela['FechaEntrega'],dayfirst=True)\n",
    "pagos_arabela = pagos_arabela.loc[pagos_arabela['FechaEntrega']>=mes3]\n",
    "pagos_arabela['factura'] = pagos_arabela['pago']*.22"
   ]
  },
  {
   "cell_type": "code",
   "execution_count": 176,
   "metadata": {},
   "outputs": [],
   "source": [
    "#Lectura pagos invex\n",
    "# pagos_invex = pd.read_excel(''+ruta_pagos+'/'+mes2+'/Torreon/Invex/Pagos Invex.xlsx')\n",
    "pagos_invex = pd.read_excel(''+ruta_pagos+'/'+mes2+'/Torreon/Invex/Pagos/Pagos Invex '+mes2+'.xlsx')\n",
    "pagos_invex['Cliente'] = 'Invex'\n",
    "pagos_invex = pagos_invex.drop_duplicates()\n",
    "pagos_invex['TRAN_POST_DT'] = [datetime.fromordinal(datetime(1900, 1, 1).toordinal() + x - 2) for x in pagos_invex['TRAN_POST_DT']]\n",
    "# pagos_invex = pagos_invex.loc[pagos_invex['TRAN_POST_DT']>=mes3]"
   ]
  },
  {
   "source": [
    "# Oriflame"
   ],
   "cell_type": "markdown",
   "metadata": {}
  },
  {
   "cell_type": "code",
   "execution_count": 177,
   "metadata": {},
   "outputs": [
    {
     "output_type": "execute_result",
     "data": {
      "text/plain": [
       "    Cliente  Facturacion  FechaFact\n",
       "0  Oriflame    34482.005 2021-01-11"
      ],
      "text/html": "<div>\n<style scoped>\n    .dataframe tbody tr th:only-of-type {\n        vertical-align: middle;\n    }\n\n    .dataframe tbody tr th {\n        vertical-align: top;\n    }\n\n    .dataframe thead th {\n        text-align: right;\n    }\n</style>\n<table border=\"1\" class=\"dataframe\">\n  <thead>\n    <tr style=\"text-align: right;\">\n      <th></th>\n      <th>Cliente</th>\n      <th>Facturacion</th>\n      <th>FechaFact</th>\n    </tr>\n  </thead>\n  <tbody>\n    <tr>\n      <th>0</th>\n      <td>Oriflame</td>\n      <td>34482.005</td>\n      <td>2021-01-11</td>\n    </tr>\n  </tbody>\n</table>\n</div>"
     },
     "metadata": {},
     "execution_count": 177
    }
   ],
   "source": [
    "reporte_pagos_oriflame = pd.pivot_table(pagos_oriflame,index=['Cliente'],values=['Factura'],aggfunc=np.sum)\n",
    "reporte_pagos_oriflame = pd.DataFrame(reporte_pagos_oriflame.to_records())\n",
    "reporte_pagos_oriflame.columns = ['Cliente','Facturacion']\n",
    "reporte_pagos_oriflame['FechaFact'] = max(pagos_oriflame['FECHA_PAGO'])\n",
    "reporte_pagos_oriflame['FechaFact'] = pd.to_datetime(reporte_pagos_oriflame['FechaFact'],dayfirst=True)\n",
    "reporte_pagos_oriflame"
   ]
  },
  {
   "source": [
    "# Invex"
   ],
   "cell_type": "markdown",
   "metadata": {}
  },
  {
   "cell_type": "code",
   "execution_count": 178,
   "metadata": {},
   "outputs": [
    {
     "output_type": "execute_result",
     "data": {
      "text/plain": [
       "  Cliente  Facturacion  FechaFact\n",
       "0   Invex   462644.114 2021-01-15"
      ],
      "text/html": "<div>\n<style scoped>\n    .dataframe tbody tr th:only-of-type {\n        vertical-align: middle;\n    }\n\n    .dataframe tbody tr th {\n        vertical-align: top;\n    }\n\n    .dataframe thead th {\n        text-align: right;\n    }\n</style>\n<table border=\"1\" class=\"dataframe\">\n  <thead>\n    <tr style=\"text-align: right;\">\n      <th></th>\n      <th>Cliente</th>\n      <th>Facturacion</th>\n      <th>FechaFact</th>\n    </tr>\n  </thead>\n  <tbody>\n    <tr>\n      <th>0</th>\n      <td>Invex</td>\n      <td>462644.114</td>\n      <td>2021-01-15</td>\n    </tr>\n  </tbody>\n</table>\n</div>"
     },
     "metadata": {},
     "execution_count": 178
    }
   ],
   "source": [
    "reporte_pagos_invex = pd.pivot_table(pagos_invex,index=['Cliente'],values=['AMT_TRAN','HONORARIO'],aggfunc=[np.sum,np.mean])\n",
    "reporte_pagos_invex = pd.DataFrame(reporte_pagos_invex.to_records())\n",
    "reporte_pagos_invex = reporte_pagos_invex.iloc[:,[0,1,4]]\n",
    "reporte_pagos_invex.columns = ['Cliente','Pago','Honorario']\n",
    "reporte_pagos_invex['Facturacion'] = reporte_pagos_invex['Pago']*reporte_pagos_invex['Honorario']\n",
    "reporte_pagos_invex = reporte_pagos_invex.iloc[:,[0,3]]\n",
    "reporte_pagos_invex['FechaFact'] = max(pagos_invex['TRAN_POST_DT'])\n",
    "reporte_pagos_invex['FechaFact'] = pd.to_datetime(reporte_pagos_invex['FechaFact'],dayfirst=True)\n",
    "reporte_pagos_invex"
   ]
  },
  {
   "source": [
    "# Arabela"
   ],
   "cell_type": "markdown",
   "metadata": {}
  },
  {
   "cell_type": "code",
   "execution_count": 179,
   "metadata": {},
   "outputs": [
    {
     "output_type": "execute_result",
     "data": {
      "text/plain": [
       "   Cliente  Facturacion  FechaFact\n",
       "0  Arabela   30832.8702 2021-01-12"
      ],
      "text/html": "<div>\n<style scoped>\n    .dataframe tbody tr th:only-of-type {\n        vertical-align: middle;\n    }\n\n    .dataframe tbody tr th {\n        vertical-align: top;\n    }\n\n    .dataframe thead th {\n        text-align: right;\n    }\n</style>\n<table border=\"1\" class=\"dataframe\">\n  <thead>\n    <tr style=\"text-align: right;\">\n      <th></th>\n      <th>Cliente</th>\n      <th>Facturacion</th>\n      <th>FechaFact</th>\n    </tr>\n  </thead>\n  <tbody>\n    <tr>\n      <th>0</th>\n      <td>Arabela</td>\n      <td>30832.8702</td>\n      <td>2021-01-12</td>\n    </tr>\n  </tbody>\n</table>\n</div>"
     },
     "metadata": {},
     "execution_count": 179
    }
   ],
   "source": [
    "reporte_pagos_arabela = pd.pivot_table(pagos_arabela,index=['Cliente'],values=['factura'],aggfunc=np.sum)\n",
    "reporte_pagos_arabela = pd.DataFrame(reporte_pagos_arabela.to_records())\n",
    "reporte_pagos_arabela.columns = ['Cliente','Facturacion']\n",
    "reporte_pagos_arabela['FechaFact'] = max(pagos_arabela['FechaEntrega'])\n",
    "reporte_pagos_arabela['FechaFact'] = pd.to_datetime(reporte_pagos_arabela['FechaFact'],dayfirst=True)\n",
    "reporte_pagos_arabela"
   ]
  },
  {
   "source": [
    "# Union sucursal"
   ],
   "cell_type": "markdown",
   "metadata": {}
  },
  {
   "cell_type": "code",
   "execution_count": 180,
   "metadata": {},
   "outputs": [
    {
     "output_type": "execute_result",
     "data": {
      "text/plain": [
       "  Sucursal   Cliente  Facturacion  FechaFact     Meta   Avance%\n",
       "0  Torreon   Arabela   30832.8702 2021-01-12  95000.0  0.324557\n",
       "1  Torreon     Invex  462644.1140 2021-01-15      NaN       NaN\n",
       "2  Torreon  Oriflame   34482.0050 2021-01-11  65000.0  0.530492"
      ],
      "text/html": "<div>\n<style scoped>\n    .dataframe tbody tr th:only-of-type {\n        vertical-align: middle;\n    }\n\n    .dataframe tbody tr th {\n        vertical-align: top;\n    }\n\n    .dataframe thead th {\n        text-align: right;\n    }\n</style>\n<table border=\"1\" class=\"dataframe\">\n  <thead>\n    <tr style=\"text-align: right;\">\n      <th></th>\n      <th>Sucursal</th>\n      <th>Cliente</th>\n      <th>Facturacion</th>\n      <th>FechaFact</th>\n      <th>Meta</th>\n      <th>Avance%</th>\n    </tr>\n  </thead>\n  <tbody>\n    <tr>\n      <th>0</th>\n      <td>Torreon</td>\n      <td>Arabela</td>\n      <td>30832.8702</td>\n      <td>2021-01-12</td>\n      <td>95000.0</td>\n      <td>0.324557</td>\n    </tr>\n    <tr>\n      <th>1</th>\n      <td>Torreon</td>\n      <td>Invex</td>\n      <td>462644.1140</td>\n      <td>2021-01-15</td>\n      <td>NaN</td>\n      <td>NaN</td>\n    </tr>\n    <tr>\n      <th>2</th>\n      <td>Torreon</td>\n      <td>Oriflame</td>\n      <td>34482.0050</td>\n      <td>2021-01-11</td>\n      <td>65000.0</td>\n      <td>0.530492</td>\n    </tr>\n  </tbody>\n</table>\n</div>"
     },
     "metadata": {},
     "execution_count": 180
    }
   ],
   "source": [
    "pdList = [reporte_pagos_arabela,reporte_pagos_invex,reporte_pagos_oriflame]\n",
    "final_torreon = pd.concat(pdList,ignore_index=True)\n",
    "final_torreon = pd.merge(final_torreon,metas,on=['Cliente'],how='left')\n",
    "final_torreon['Avance%'] = final_torreon['Facturacion']/final_torreon['Meta']\n",
    "final_torreon.insert(loc=0,column='Sucursal',value='Torreon')\n",
    "final_torreon"
   ]
  },
  {
   "source": [
    "# Naucalpan"
   ],
   "cell_type": "markdown",
   "metadata": {}
  },
  {
   "cell_type": "code",
   "execution_count": 181,
   "metadata": {},
   "outputs": [],
   "source": [
    "meta_naucalpan = pd.DataFrame([['Liverpool', 30000],['Liverpool Cof', 300000],['Liverpool Nacional', 550000],['Bradesco',750000],['Credifiel',100000]])\n",
    "meta_naucalpan.columns = ['Cliente','Meta']"
   ]
  },
  {
   "cell_type": "code",
   "execution_count": 182,
   "metadata": {},
   "outputs": [],
   "source": [
    "#Lectura pagos Bradesco\n",
    "pagos_brad = pd.read_excel(''+ruta_pagos+'/'+str(mes2)+'/Bradesco/Pagos/Acumulado de pagos enero de 2021_1.xlsx')\n",
    "pagos_brad = pagos_brad.iloc[:,0:9]\n",
    "pagos_brad = pagos_brad.drop_duplicates()\n",
    "pagos_brad2 = pd.pivot_table(pagos_brad,index=['NUMERO_TARJETA','FECHA_PAGO','TIPO_ASIGANCION'],values=['MONTO'],aggfunc=np.sum)\n",
    "pagos_brad2 = pd.DataFrame(pagos_brad2.to_records())\n",
    "pagos_brad2 = pagos_brad2.loc[pagos_brad2['FECHA_PAGO']>=mes3]"
   ]
  },
  {
   "cell_type": "code",
   "execution_count": 183,
   "metadata": {},
   "outputs": [],
   "source": [
    "#Lectura pagos Liverpool\n",
    "sheet_liv = ['SA002REM','SA001REM','DKN04REM','DKN02REM','DKN00REM']\n",
    "pagos_liv = pd.DataFrame()\n",
    "for i in sheet_liv:\n",
    "    pagos_liv_new = pd.read_excel(''+ruta_pagos+'/'+str(mes2)+'/Liverpool/Pagos/PAGOS ENERO2021.xlsx',sheet_name = str(i))\n",
    "    pagos_liv = pd.concat([pagos_liv,pagos_liv_new],ignore_index=True)\n",
    "pagos_liv = pagos_liv.drop_duplicates()\n",
    "pagos_liv = pagos_liv.iloc[:,0:6]\n",
    "pagos_liv.columns = ['Id','Cuenta','Fecha Prom','Fecha Pago','Monto','Posteo']\n",
    "pagos_liv['Fecha Pago'] = pd.to_datetime(pagos_liv['Fecha Pago'],dayfirst=True)\n",
    "pagos_liv2 = pd.pivot_table(pagos_liv,index=['Id','Cuenta','Fecha Pago','Fecha Prom'],values=['Monto'],aggfunc=np.sum)\n",
    "pagos_liv2 = pd.DataFrame(pagos_liv2.to_records())\n",
    "pagos_liv2 = pagos_liv2.loc[pagos_liv2['Fecha Pago']>=mes3]\n",
    "pagos_liv2['Cliente2'] = 'Liverpool'"
   ]
  },
  {
   "cell_type": "code",
   "execution_count": 184,
   "metadata": {},
   "outputs": [],
   "source": [
    "#Lectura pagos Credifiel\n",
    "sheet_cred = os.listdir(''+ruta_pagos+'/'+str(mes2)+'/Credifiel/Pagos/')\n",
    "pagos_cred = pd.DataFrame()\n",
    "for i in sheet_cred:\n",
    "    pagos_cred_new = pd.read_excel(''+ruta_pagos+'/'+str(mes2)+'/Credifiel/Pagos/'+i+'')\n",
    "    pagos_cred = pd.concat([pagos_cred,pagos_cred_new],ignore_index=True)\n",
    "pagos_cred = pagos_cred.iloc[:,0:5]\n",
    "pagos_cred = pagos_cred.drop_duplicates()\n",
    "pagos_cred2 = pd.pivot_table(pagos_cred,index=['ID','FECHA'],values=['IMPORTE'],aggfunc=np.sum)\n",
    "pagos_cred2 = pd.DataFrame(pagos_cred2.to_records())"
   ]
  },
  {
   "cell_type": "code",
   "execution_count": 185,
   "metadata": {},
   "outputs": [],
   "source": [
    "#Hacemos la consulta de la asignacion\n",
    "asignacion_cred = pd.read_excel('/home/estadistico/Documents/Erick/Credifiel/Asignacion/Asignacion Credifiel '+mes2+'.xlsx')\n",
    "asignacion_cred = asignacion_cred.drop_duplicates(subset=['CREDITO','SALDO TOTAL REAL'])\n",
    "asignacion_cred['CREDITO'] = pd.to_numeric(asignacion_cred['CREDITO'])\n",
    "asignacion_cred = asignacion_cred[['CREDITO','ARANCEL']]"
   ]
  },
  {
   "cell_type": "code",
   "execution_count": 186,
   "metadata": {},
   "outputs": [],
   "source": [
    "#Lectura pagos Banco Azteca Recovery\n",
    "sheet_baz_recovery = os.listdir(''+ruta_pagos+'/'+str(mes2)+'/Banco Azteca/Pagos/Recovery/')\n",
    "pagos_baz_recovery = pd.DataFrame()\n",
    "for k in sheet_baz_recovery:\n",
    "    pagos_baz_recovery_new = pd.read_csv(''+ruta_pagos+'/'+str(mes2)+'/Banco Azteca/Pagos/Recovery/'+k+'',sep='|')\n",
    "    pagos_baz_recovery = pd.concat([pagos_baz_recovery,pagos_baz_recovery_new],ignore_index=True)\n",
    "pagos_baz_recovery['Cartera'] = 'Recovery'\n",
    "pagos_baz_recovery['DIA'] = pd.to_datetime(pagos_baz_recovery['DIA'],dayfirst=True)\n",
    "pagos_baz_recovery = pagos_baz_recovery.loc[pagos_baz_recovery['DIA']>=mes3]\n",
    "pagos_baz_recovery = pagos_baz_recovery.loc[pagos_baz_recovery['DIA']>=mes3]\n",
    "pagos_baz_recovery['credito'] = pagos_baz_recovery['PAIS'].map(str)+'-'+pagos_baz_recovery['CANAL'].map(str)+'-'+pagos_baz_recovery['SUCURSAL'].map(str)+'-'+pagos_baz_recovery['FOLIO'].map(str)\n",
    "pagos_baz_recovery = pagos_baz_recovery.drop_duplicates()"
   ]
  },
  {
   "cell_type": "code",
   "execution_count": 187,
   "metadata": {},
   "outputs": [],
   "source": [
    "#Lectura pagos Banco Azteca 26-39\n",
    "sheet_baz_26 = os.listdir(''+ruta_pagos+'/'+str(mes2)+'/Banco Azteca/Pagos/26-39/')\n",
    "pagos_baz_26 = pd.DataFrame()\n",
    "for j in sheet_baz_26:\n",
    "    pagos_baz_26_new = pd.read_csv(''+ruta_pagos+'/'+str(mes2)+'/Banco Azteca/Pagos/26-39/'+j+'',sep='|')\n",
    "    pagos_baz_26 = pd.concat([pagos_baz_26,pagos_baz_26_new],ignore_index=True)\n",
    "pagos_baz_26['cartera'] = '26-39'\n",
    "pagos_baz_26['DIA'] = pd.to_datetime(pagos_baz_26['DIA'],dayfirst=True)\n",
    "pagos_baz_26 = pagos_baz_26.loc[pagos_baz_26['DIA']>=mes3]\n",
    "pagos_baz_26['credito'] = pagos_baz_26['PAIS'].map(str)+'-'+pagos_baz_26['CANAL'].map(str)+'-'+pagos_baz_26['SUCURSAL'].map(str)+'-'+pagos_baz_26['FOLIO'].map(str)\n",
    "pagos_baz_26 = pagos_baz_26.drop_duplicates()"
   ]
  },
  {
   "source": [
    "# Liverpool"
   ],
   "cell_type": "markdown",
   "metadata": {}
  },
  {
   "cell_type": "code",
   "execution_count": 188,
   "metadata": {},
   "outputs": [],
   "source": [
    "#Hacemos la asignacion de cada una de las metas para cambiar de arancel sin tomar el 0 en cuenta\n",
    "cof, arancel_cof,arancel_cof2 = 300000, .5, .5\n",
    "sub, arancel_sub, arancel_sub2 = 300000, .15, .2\n",
    "subdic, arancel_subdic, arancel_subdic2 = 350000, .16, .2\n",
    "n2, arancel_n2, arancel_n22 = 650000, .4, .5\n",
    "pren, arancel_pren, arancel_pren2 = 300000, .28, .28"
   ]
  },
  {
   "cell_type": "code",
   "execution_count": 189,
   "metadata": {},
   "outputs": [],
   "source": [
    "#Asignamos los aranceles de liverpool\n",
    "aranceles = [('DKN00REM','Liverpool'),('DKN02REM','Liverpool Nacional'),('DKN04REM','Liverpool Cof'),('SA001REM','Liverpool'),('SA002REM','Liverpool')]\n",
    "aranceles = pd.DataFrame(aranceles)\n",
    "aranceles.columns = ['Id','Cliente']"
   ]
  },
  {
   "cell_type": "code",
   "execution_count": 190,
   "metadata": {},
   "outputs": [
    {
     "output_type": "execute_result",
     "data": {
      "text/plain": [
       "   Division  SumaPagos\n",
       "0  DKN00REM  399556.00\n",
       "1  DKN02REM  357302.99\n",
       "2  DKN04REM  180155.37\n",
       "3  SA001REM  153899.98\n",
       "4  SA002REM   16701.00"
      ],
      "text/html": "<div>\n<style scoped>\n    .dataframe tbody tr th:only-of-type {\n        vertical-align: middle;\n    }\n\n    .dataframe tbody tr th {\n        vertical-align: top;\n    }\n\n    .dataframe thead th {\n        text-align: right;\n    }\n</style>\n<table border=\"1\" class=\"dataframe\">\n  <thead>\n    <tr style=\"text-align: right;\">\n      <th></th>\n      <th>Division</th>\n      <th>SumaPagos</th>\n    </tr>\n  </thead>\n  <tbody>\n    <tr>\n      <th>0</th>\n      <td>DKN00REM</td>\n      <td>399556.00</td>\n    </tr>\n    <tr>\n      <th>1</th>\n      <td>DKN02REM</td>\n      <td>357302.99</td>\n    </tr>\n    <tr>\n      <th>2</th>\n      <td>DKN04REM</td>\n      <td>180155.37</td>\n    </tr>\n    <tr>\n      <th>3</th>\n      <td>SA001REM</td>\n      <td>153899.98</td>\n    </tr>\n    <tr>\n      <th>4</th>\n      <td>SA002REM</td>\n      <td>16701.00</td>\n    </tr>\n  </tbody>\n</table>\n</div>"
     },
     "metadata": {},
     "execution_count": 190
    }
   ],
   "source": [
    "#Obtenemos los pagos totales por division\n",
    "pagos_totales_liv = pd.pivot_table(pagos_liv,index=['Id'],values=['Monto'],aggfunc=[np.sum])\n",
    "pagos_totales_liv = pd.DataFrame(pagos_totales_liv.to_records())\n",
    "#pagos_totales_liv = pagos_totales_liv2.iloc[:,[0,2,1]]\n",
    "pagos_totales_liv.columns = ['Division','SumaPagos']\n",
    "pagos_totales_liv.fillna(0,inplace=True)\n",
    "pagos_totales_liv"
   ]
  },
  {
   "cell_type": "code",
   "execution_count": 191,
   "metadata": {},
   "outputs": [],
   "source": [
    "DKN00REM = pagos_totales_liv.loc[pagos_totales_liv['Division']=='DKN00REM', 'SumaPagos'].item()\n",
    "DKN02REM = pagos_totales_liv.loc[pagos_totales_liv['Division']=='DKN02REM', 'SumaPagos'].item()\n",
    "DKN04REM = pagos_totales_liv.loc[pagos_totales_liv['Division']=='DKN04REM', 'SumaPagos'].item()\n",
    "SA001REM = pagos_totales_liv.loc[pagos_totales_liv['Division']=='SA001REM', 'SumaPagos'].item()\n",
    "SA002REM = pagos_totales_liv.loc[pagos_totales_liv['Division']=='SA002REM', 'SumaPagos'].item()"
   ]
  },
  {
   "cell_type": "code",
   "execution_count": 192,
   "metadata": {},
   "outputs": [],
   "source": [
    "def arancel_liv(row):\n",
    "    if row['Id'] == 'DKN00REM' :\n",
    "        return np.where((DKN00REM>0) & (DKN00REM<=pren/arancel_pren),arancel_pren,arancel_pren2)\n",
    "    elif row['Id'] == 'DKN02REM':\n",
    "        return np.where((DKN02REM>0) & (DKN02REM<=n2/arancel_n2),arancel_n2,arancel_n22)\n",
    "    elif row['Id'] == 'DKN04REM':\n",
    "        return np.where((DKN04REM>0) & (DKN04REM<=cof/arancel_cof),arancel_cof,arancel_cof2)\n",
    "    elif row['Id'] == 'SA001REM':\n",
    "        return np.where((SA001REM>0) & (SA001REM<=sub/arancel_sub),arancel_sub,arancel_sub2)\n",
    "    elif row['Id'] == 'SA002REM':\n",
    "        return np.where((SA002REM>0) & (SA002REM<=subdic/arancel_subdic),arancel_subdic,arancel_subdic2)\n",
    "    else:\n",
    "        return 0\n"
   ]
  },
  {
   "cell_type": "code",
   "execution_count": 193,
   "metadata": {},
   "outputs": [
    {
     "output_type": "execute_result",
     "data": {
      "text/plain": [
       "         Id            Cuenta  Fecha Prom Fecha Pago  Monto            Posteo  \\\n",
       "0  SA002REM  4050670000337528  07/01/2021 2021-01-07  500.0  5200000000009690   \n",
       "\n",
       "  Arancel    Cliente  PagoArancel   Cliente2  \n",
       "0    0.16  Liverpool         80.0  Liverpool  "
      ],
      "text/html": "<div>\n<style scoped>\n    .dataframe tbody tr th:only-of-type {\n        vertical-align: middle;\n    }\n\n    .dataframe tbody tr th {\n        vertical-align: top;\n    }\n\n    .dataframe thead th {\n        text-align: right;\n    }\n</style>\n<table border=\"1\" class=\"dataframe\">\n  <thead>\n    <tr style=\"text-align: right;\">\n      <th></th>\n      <th>Id</th>\n      <th>Cuenta</th>\n      <th>Fecha Prom</th>\n      <th>Fecha Pago</th>\n      <th>Monto</th>\n      <th>Posteo</th>\n      <th>Arancel</th>\n      <th>Cliente</th>\n      <th>PagoArancel</th>\n      <th>Cliente2</th>\n    </tr>\n  </thead>\n  <tbody>\n    <tr>\n      <th>0</th>\n      <td>SA002REM</td>\n      <td>4050670000337528</td>\n      <td>07/01/2021</td>\n      <td>2021-01-07</td>\n      <td>500.0</td>\n      <td>5200000000009690</td>\n      <td>0.16</td>\n      <td>Liverpool</td>\n      <td>80.0</td>\n      <td>Liverpool</td>\n    </tr>\n  </tbody>\n</table>\n</div>"
     },
     "metadata": {},
     "execution_count": 193
    }
   ],
   "source": [
    "pagos_liv['Arancel'] = pagos_liv.apply(arancel_liv, axis=1)\n",
    "\n",
    "#Agregamos aranceles al consolidado\n",
    "pagos_liv2 = pd.merge(pagos_liv,aranceles,how='left',on='Id')\n",
    "pagos_liv2['PagoArancel'] = [x*y for x,y in zip(pagos_liv2['Monto'],pagos_liv2['Arancel'])]\n",
    "pagos_liv2['Fecha Pago'] = pd.to_datetime(pagos_liv2['Fecha Pago'],dayfirst=True)\n",
    "pagos_liv2['Cliente2'] = 'Liverpool'\n",
    "pagos_liv2.head(1)"
   ]
  },
  {
   "cell_type": "code",
   "execution_count": 194,
   "metadata": {},
   "outputs": [
    {
     "output_type": "execute_result",
     "data": {
      "text/plain": [
       "     Cliente  Facturacion  FechaFact\n",
       "0  Liverpool    370631.72 2021-01-17"
      ],
      "text/html": "<div>\n<style scoped>\n    .dataframe tbody tr th:only-of-type {\n        vertical-align: middle;\n    }\n\n    .dataframe tbody tr th {\n        vertical-align: top;\n    }\n\n    .dataframe thead th {\n        text-align: right;\n    }\n</style>\n<table border=\"1\" class=\"dataframe\">\n  <thead>\n    <tr style=\"text-align: right;\">\n      <th></th>\n      <th>Cliente</th>\n      <th>Facturacion</th>\n      <th>FechaFact</th>\n    </tr>\n  </thead>\n  <tbody>\n    <tr>\n      <th>0</th>\n      <td>Liverpool</td>\n      <td>370631.72</td>\n      <td>2021-01-17</td>\n    </tr>\n  </tbody>\n</table>\n</div>"
     },
     "metadata": {},
     "execution_count": 194
    }
   ],
   "source": [
    "#Total pagos Liver registrados\n",
    "pagos_totales_liv2 = pd.pivot_table(pagos_liv2,index=['Cliente2'],values=['PagoArancel'],aggfunc=np.sum,dropna=False)\n",
    "pagos_totales_liv2 = pd.DataFrame(pagos_totales_liv2.to_records())\n",
    "#pagos_totales_liv = pagos_totales_liv.iloc[:,[0,3,1,2]]\n",
    "pagos_totales_liv2.columns = ['Cliente','Facturacion']\n",
    "pagos_totales_liv2.fillna(0,inplace=True)\n",
    "pagos_totales_liv2['Facturacion'] = pagos_totales_liv2['Facturacion'].round(2)\n",
    "pagos_totales_liv2['FechaFact'] = max(pagos_liv2['Fecha Pago'])\n",
    "pagos_totales_liv2['FechaFact'] = pd.to_datetime(pagos_totales_liv2['FechaFact'],dayfirst=True)\n",
    "pagos_totales_liv2"
   ]
  },
  {
   "cell_type": "code",
   "execution_count": 195,
   "metadata": {},
   "outputs": [],
   "source": [
    "def sig_arancel_liv(row):\n",
    "    if row['Asignacion'] == 'DKN00REM' :\n",
    "        return np.where((DKN00REM>0) & (DKN00REM<=pren/arancel_pren),round(pren/arancel_pren,1),0)\n",
    "    elif row['Asignacion'] == 'DKN02REM':\n",
    "        return np.where((DKN02REM>0) & (DKN02REM<=n2/arancel_n2),n2/arancel_n2,0)\n",
    "    elif row['Asignacion'] == 'DKN04REM':\n",
    "        return np.where((DKN04REM>0) & (DKN04REM<=cof/arancel_cof),cof/arancel_cof,0)\n",
    "    elif row['Asignacion'] == 'SA001REM':\n",
    "        return np.where((SA001REM>0) & (SA001REM<=sub/arancel_sub),sub/arancel_sub,0)\n",
    "    elif row['Asignacion'] == 'SA002REM':\n",
    "        return np.where((SA002REM>0) & (SA002REM<=subdic/arancel_subdic),subdic/arancel_subdic,0)\n",
    "    \n",
    "    else:\n",
    "        return 0"
   ]
  },
  {
   "cell_type": "code",
   "execution_count": 196,
   "metadata": {},
   "outputs": [
    {
     "output_type": "execute_result",
     "data": {
      "text/plain": [
       "   Division  Recuperado  FechaFact SiguienteArancel RestSigArancel\n",
       "0  DKN00REM   399556.00 2021-01-17        1071428.6         671873\n",
       "1  DKN02REM   357302.99 2021-01-17        1625000.0     1.2677e+06\n",
       "2  DKN04REM   180155.37 2021-01-17         600000.0         419845\n",
       "3  SA001REM   153899.98 2021-01-17        2000000.0     1.8461e+06\n",
       "4  SA002REM    16701.00 2021-01-17        2187500.0     2.1708e+06"
      ],
      "text/html": "<div>\n<style scoped>\n    .dataframe tbody tr th:only-of-type {\n        vertical-align: middle;\n    }\n\n    .dataframe tbody tr th {\n        vertical-align: top;\n    }\n\n    .dataframe thead th {\n        text-align: right;\n    }\n</style>\n<table border=\"1\" class=\"dataframe\">\n  <thead>\n    <tr style=\"text-align: right;\">\n      <th></th>\n      <th>Division</th>\n      <th>Recuperado</th>\n      <th>FechaFact</th>\n      <th>SiguienteArancel</th>\n      <th>RestSigArancel</th>\n    </tr>\n  </thead>\n  <tbody>\n    <tr>\n      <th>0</th>\n      <td>DKN00REM</td>\n      <td>399556.00</td>\n      <td>2021-01-17</td>\n      <td>1071428.6</td>\n      <td>671873</td>\n    </tr>\n    <tr>\n      <th>1</th>\n      <td>DKN02REM</td>\n      <td>357302.99</td>\n      <td>2021-01-17</td>\n      <td>1625000.0</td>\n      <td>1.2677e+06</td>\n    </tr>\n    <tr>\n      <th>2</th>\n      <td>DKN04REM</td>\n      <td>180155.37</td>\n      <td>2021-01-17</td>\n      <td>600000.0</td>\n      <td>419845</td>\n    </tr>\n    <tr>\n      <th>3</th>\n      <td>SA001REM</td>\n      <td>153899.98</td>\n      <td>2021-01-17</td>\n      <td>2000000.0</td>\n      <td>1.8461e+06</td>\n    </tr>\n    <tr>\n      <th>4</th>\n      <td>SA002REM</td>\n      <td>16701.00</td>\n      <td>2021-01-17</td>\n      <td>2187500.0</td>\n      <td>2.1708e+06</td>\n    </tr>\n  </tbody>\n</table>\n</div>"
     },
     "metadata": {},
     "execution_count": 196
    }
   ],
   "source": [
    "pagos_liv_gerencia = pd.pivot_table(pagos_liv2,index=['Id'],values=['Monto'],aggfunc=[np.sum])\n",
    "pagos_liv_gerencia = pd.DataFrame(pagos_liv_gerencia.to_records())\n",
    "pagos_liv_gerencia.columns = ['Asignacion','Recuperado']\n",
    "pagos_liv_gerencia.fillna(0,inplace=True)\n",
    "pagos_liv_gerencia['FechaFact'] = max(pagos_liv2['Fecha Pago'])\n",
    "pagos_liv_gerencia['SiguienteArancel'] = pagos_liv_gerencia.apply(sig_arancel_liv, axis=1)\n",
    "pagos_liv_gerencia['RestSigArancel'] = pagos_liv_gerencia['SiguienteArancel']-pagos_liv_gerencia['Recuperado']\n",
    "cols = ['Recuperado','SiguienteArancel','RestSigArancel']\n",
    "pagos_liv_gerencia[cols] = pagos_liv_gerencia[cols].round(2)\n",
    "pagos_liv_gerencia['RestSigArancel'] = np.where(pagos_liv_gerencia['RestSigArancel']<0,'Alcanzado',pagos_liv_gerencia['RestSigArancel'])\n",
    "#pagos_liv_gerencia = pagos_liv_gerencia.iloc[:,[0,1,2,4]]\n",
    "pagos_liv_gerencia.columns = ['Division','Recuperado','FechaFact','SiguienteArancel','RestSigArancel']\n",
    "pagos_liv_gerencia"
   ]
  },
  {
   "cell_type": "code",
   "execution_count": null,
   "metadata": {},
   "outputs": [],
   "source": []
  },
  {
   "source": [
    "# Bradesco"
   ],
   "cell_type": "markdown",
   "metadata": {}
  },
  {
   "cell_type": "code",
   "execution_count": 197,
   "metadata": {},
   "outputs": [],
   "source": [
    "#Hacemos la asignacion de cada una de las metas para cambiar de arancel sin tomar el 0 en cuenta\n",
    "c04pv1, arancel_4pv1 = 846436, .07\n",
    "c04pv2, arancel_4pv2 = 1269654, .08\n",
    "c04pv3, arancel_4pv3 = 1692873, .12\n",
    "c05pv1, arancel_5pv1 = 729630, .09\n",
    "c05pv2, arancel_5pv2 = 1094445, .10\n",
    "c05pv3, arancel_5pv3 = 1459261, .14\n",
    "c06pv1, arancel_6pv1 = 623524, .10\n",
    "c06pv2, arancel_6pv2 = 935287, .11\n",
    "c06pv3, arancel_6pv3 = 1247050, .16\n",
    "a1, arancel_a1 = 264024, .27\n",
    "a2, arancel_a2 = 396037, .30\n",
    "a3, arancel_a3 = 528050, .33\n",
    "b1, arancel_b1 = 214969, .25\n",
    "b2, arancel_b2 = 396037, .28\n",
    "b3, arancel_b3 = 528050, .31\n",
    "c11, arancel_c11 = 1430989, .17\n",
    "c12, arancel_c12 = 2146483, .20\n",
    "c13, arancel_c13 = 2861978, .23\n",
    "c21, arancel_c21 = 549549, .19\n",
    "c22, arancel_c22 = 824323, .22\n",
    "c23, arancel_c23 = 1099098, .25\n",
    "c31, arancel_c31 = 237647, .21\n",
    "c32, arancel_c32 = 356470, .24\n",
    "c33, arancel_c33 = 475294, .27\n",
    "c41, arancel_c41 = 109401, .23\n",
    "c42, arancel_c42 = 164101, .26\n",
    "c43, arancel_c43 = 218801, .29"
   ]
  },
  {
   "cell_type": "code",
   "execution_count": 198,
   "metadata": {},
   "outputs": [],
   "source": [
    "#Obtenemos los pagos totales por division\n",
    "pagos_totales_brad = pd.pivot_table(pagos_brad2,index=['TIPO_ASIGANCION'],values=['MONTO'],aggfunc=[np.sum,'count'],margins=True,dropna=False)\n",
    "pagos_totales_brad = pd.DataFrame(pagos_totales_brad.to_records())\n",
    "pagos_totales_brad = pagos_totales_brad.iloc[:,[0,2,1]]\n",
    "pagos_totales_brad.columns = ['Division','NumeroPagos','SumaPagos']\n",
    "pagos_totales_brad.fillna(0,inplace=True)"
   ]
  },
  {
   "cell_type": "code",
   "execution_count": 199,
   "metadata": {},
   "outputs": [],
   "source": [
    "C04PV = pagos_totales_brad.loc[pagos_totales_brad['Division']=='C0 4PV', 'SumaPagos'].item()\n",
    "C05PV = pagos_totales_brad.loc[pagos_totales_brad['Division']=='C0 5PV', 'SumaPagos'].item()\n",
    "C06PV = pagos_totales_brad.loc[pagos_totales_brad['Division']=='C0 6PV', 'SumaPagos'].item()\n",
    "A = pagos_totales_brad.loc[pagos_totales_brad['Division']=='A', 'SumaPagos'].item()\n",
    "C1 = pagos_totales_brad.loc[pagos_totales_brad['Division']=='C1', 'SumaPagos'].item()\n",
    "C2 = pagos_totales_brad.loc[pagos_totales_brad['Division']=='C2', 'SumaPagos'].item()\n",
    "C3 = pagos_totales_brad.loc[pagos_totales_brad['Division']=='C3', 'SumaPagos'].item()\n",
    "C4 = pagos_totales_brad.loc[pagos_totales_brad['Division']=='C4', 'SumaPagos'].item()\n",
    "B = pagos_totales_brad.loc[pagos_totales_brad['Division']=='B', 'SumaPagos'].item()"
   ]
  },
  {
   "cell_type": "code",
   "execution_count": 200,
   "metadata": {},
   "outputs": [],
   "source": [
    "def sig_arancel(row):\n",
    "    if row['Asignacion'] == 'C0 4PV':\n",
    "        return np.where((C04PV>0) & (C04PV<=c04pv1),c04pv1,\n",
    "                        np.where((C04PV>c04pv1) & (C04PV<=c04pv2),c04pv2,c04pv3))\n",
    "    elif row['Asignacion'] == 'C0 5PV':\n",
    "        return np.where((C05PV>0) & (C05PV<=c05pv1),c05pv1,\n",
    "                        np.where((C05PV>c05pv1) & (C05PV<=c05pv2),c05pv2,c05pv3))\n",
    "    elif row['Asignacion'] == 'C0 6PV':\n",
    "        return np.where((C06PV>0) & (C06PV<=c06pv1),c06pv1,\n",
    "                        np.where((C06PV>c06pv1) & (C06PV<=c06pv2),c06pv2,c06pv3))\n",
    "    elif row['Asignacion'] == 'A':\n",
    "        return np.where((A>0) & (A<=a1),a1,\n",
    "                        np.where((A>a1) & (A<=a2),a2,a3))\n",
    "    elif row['Asignacion'] == 'B':\n",
    "        return np.where((B>0) & (B<=b1),b1,\n",
    "                        np.where((B>b1) & (B<=b2),b2,b3))\n",
    "    elif row['Asignacion'] == 'C1':\n",
    "        return np.where((C1>0) & (C1<=c11),c11,\n",
    "                        np.where((C1>c11) & (C1<=c12),c12,c13))\n",
    "    elif row['Asignacion'] == 'C2':\n",
    "        return np.where((C2>0) & (C2<=c21),c21,\n",
    "                        np.where((C2>c21) & (C2<=c22),c22,c23))\n",
    "    elif row['Asignacion'] == 'C3':\n",
    "        return np.where((C3>0) & (C3<=c31),c31,\n",
    "                        np.where((C3>c31) & (C3<=c32),c32,c33))\n",
    "    elif row['Asignacion'] == 'C4':\n",
    "        return np.where((C4>0) & (C4<=c41),c41,\n",
    "                        np.where((C4>c41) & (C4<=c42),c42,c43))\n",
    "    \n",
    "    else:\n",
    "        return 0"
   ]
  },
  {
   "cell_type": "code",
   "execution_count": 201,
   "metadata": {},
   "outputs": [],
   "source": [
    "def func(row):\n",
    "    if row['TIPO_ASIGANCION'] == 'C0 4PV':\n",
    "        return np.where((C04PV>0) & (C04PV<=c04pv1),arancel_4pv1,\n",
    "                        np.where((C04PV>c04pv1) & (C04PV<=c04pv2),arancel_4pv2,\n",
    "                                 np.where((C04PV>c04pv2) & (C04PV<=c04pv3),arancel_4pv3,arancel_4pv3+.04)))\n",
    "    elif row['TIPO_ASIGANCION'] == 'C0 5PV':\n",
    "        return np.where((C05PV>0) & (C05PV<=c05pv1),arancel_5pv1,\n",
    "                        np.where((C05PV>c05pv1) & (C05PV<=c05pv2),arancel_5pv2,\n",
    "                                 np.where((C05PV>c05pv2) & (C05PV<=c05pv3),arancel_5pv3,arancel_5pv3+.04)))\n",
    "    elif row['TIPO_ASIGANCION'] == 'C0 6PV':\n",
    "        return np.where((C06PV>0) & (C06PV<=c06pv1),arancel_6pv1,\n",
    "                        np.where((C06PV>c06pv1) & (C06PV<=c06pv2),arancel_6pv2,\n",
    "                                 np.where((C06PV>c06pv2) & (C06PV<=c06pv3),arancel_6pv3,arancel_6pv3+.04)))\n",
    "    elif row['TIPO_ASIGANCION'] == 'A':\n",
    "        return np.where((A>0) & (A<=a1),arancel_a1,\n",
    "                        np.where((A>a1) & (A<=a2),arancel_a2,\n",
    "                                 np.where((A>a2) & (A<=a3),arancel_a3,arancel_a3+.04)))\n",
    "    elif row['TIPO_ASIGANCION'] == 'B':\n",
    "        return np.where((B>0) & (B<=b1),arancel_b1,\n",
    "                        np.where((B>b1) & (B<=b2),arancel_b2,\n",
    "                                 np.where((B>b2) & (B<=b3),arancel_b3,arancel_b3+.04)))\n",
    "    elif row['TIPO_ASIGANCION'] == 'C1':\n",
    "        return np.where((C1>0) & (C1<=c11),arancel_c11,\n",
    "                        np.where((C1>c11) & (C1<=c12),arancel_c12,\n",
    "                                 np.where((C1>c12) & (C1<=c13),arancel_c13,arancel_c13+.04)))\n",
    "    elif row['TIPO_ASIGANCION'] == 'C2':\n",
    "        return np.where((C2>0) & (C2<=c21),arancel_c21,\n",
    "                        np.where((C2>c21) & (C2<=c22),arancel_c22,\n",
    "                                 np.where((C2>c22) & (C2<=c23),arancel_c23,arancel_c23+.04)))\n",
    "    elif row['TIPO_ASIGANCION'] == 'C3':\n",
    "        return np.where((C3>0) & (C3<=c31),arancel_c31,\n",
    "                        np.where((C3>c31) & (C3<=c32),arancel_c32,\n",
    "                                 np.where((C3>c32) & (C3<=c33),arancel_c33,arancel_c33+.04)))\n",
    "    elif row['TIPO_ASIGANCION'] == 'C4':\n",
    "        return np.where((C4>0) & (C4<=c41),arancel_c41,\n",
    "                        np.where((C4>c41) & (C4<=c42),arancel_c42,\n",
    "                                 np.where((C4>c42) & (C4<=c43),arancel_c43,arancel_c43+.04)))\n",
    "    \n",
    "    else:\n",
    "        return 0\n"
   ]
  },
  {
   "cell_type": "code",
   "execution_count": 202,
   "metadata": {},
   "outputs": [],
   "source": [
    "pagos_brad2['Arancel'] = pagos_brad2.apply(func, axis=1)\n",
    "pagos_brad2['Facturacion'] = [x*y for x,y in zip(pagos_brad2['MONTO'],pagos_brad2['Arancel'])]\n",
    "pagos_brad2['Cliente'] = 'Bradesco'"
   ]
  },
  {
   "cell_type": "code",
   "execution_count": 203,
   "metadata": {},
   "outputs": [
    {
     "output_type": "execute_result",
     "data": {
      "text/plain": [
       "    Cliente  Facturacion  FechaFact\n",
       "0  Bradesco  137398.6074 2021-01-15"
      ],
      "text/html": "<div>\n<style scoped>\n    .dataframe tbody tr th:only-of-type {\n        vertical-align: middle;\n    }\n\n    .dataframe tbody tr th {\n        vertical-align: top;\n    }\n\n    .dataframe thead th {\n        text-align: right;\n    }\n</style>\n<table border=\"1\" class=\"dataframe\">\n  <thead>\n    <tr style=\"text-align: right;\">\n      <th></th>\n      <th>Cliente</th>\n      <th>Facturacion</th>\n      <th>FechaFact</th>\n    </tr>\n  </thead>\n  <tbody>\n    <tr>\n      <th>0</th>\n      <td>Bradesco</td>\n      <td>137398.6074</td>\n      <td>2021-01-15</td>\n    </tr>\n  </tbody>\n</table>\n</div>"
     },
     "metadata": {},
     "execution_count": 203
    }
   ],
   "source": [
    "pagos_totales_brad2 = pd.pivot_table(pagos_brad2,index=['Cliente'],values=['Facturacion'],aggfunc=[np.sum],dropna=False)\n",
    "pagos_totales_brad2 = pd.DataFrame(pagos_totales_brad2.to_records())\n",
    "pagos_totales_brad2.columns = ['Cliente','Facturacion']\n",
    "pagos_totales_brad2.fillna(0,inplace=True)\n",
    "pagos_totales_brad2['FechaFact'] = max(pagos_brad2['FECHA_PAGO'])\n",
    "pagos_totales_brad2"
   ]
  },
  {
   "cell_type": "code",
   "execution_count": 204,
   "metadata": {},
   "outputs": [
    {
     "output_type": "execute_result",
     "data": {
      "text/plain": [
       "     NUMERO_TARJETA FECHA_PAGO TIPO_ASIGANCION   MONTO Arancel  Facturacion  \\\n",
       "0  2869000540380975 2021-01-15              C4  1562.0    0.23       359.26   \n",
       "\n",
       "    Cliente  \n",
       "0  Bradesco  "
      ],
      "text/html": "<div>\n<style scoped>\n    .dataframe tbody tr th:only-of-type {\n        vertical-align: middle;\n    }\n\n    .dataframe tbody tr th {\n        vertical-align: top;\n    }\n\n    .dataframe thead th {\n        text-align: right;\n    }\n</style>\n<table border=\"1\" class=\"dataframe\">\n  <thead>\n    <tr style=\"text-align: right;\">\n      <th></th>\n      <th>NUMERO_TARJETA</th>\n      <th>FECHA_PAGO</th>\n      <th>TIPO_ASIGANCION</th>\n      <th>MONTO</th>\n      <th>Arancel</th>\n      <th>Facturacion</th>\n      <th>Cliente</th>\n    </tr>\n  </thead>\n  <tbody>\n    <tr>\n      <th>0</th>\n      <td>2869000540380975</td>\n      <td>2021-01-15</td>\n      <td>C4</td>\n      <td>1562.0</td>\n      <td>0.23</td>\n      <td>359.26</td>\n      <td>Bradesco</td>\n    </tr>\n  </tbody>\n</table>\n</div>"
     },
     "metadata": {},
     "execution_count": 204
    }
   ],
   "source": [
    "pagos_brad2.head(1)"
   ]
  },
  {
   "cell_type": "code",
   "execution_count": 205,
   "metadata": {},
   "outputs": [
    {
     "output_type": "execute_result",
     "data": {
      "text/plain": [
       "  Division  Recuperado  FechaFact SiguienteArancel RestSigArancel\n",
       "0        A    33962.00 2021-01-15           264024         230062\n",
       "1        B    25364.00 2021-01-15           214969         189605\n",
       "2   C0 4PV   325377.32 2021-01-15           846436         521059\n",
       "3   C0 5PV   132900.06 2021-01-15           729630         596730\n",
       "4   C0 6PV   117564.50 2021-01-15           623524         505960\n",
       "5       C1   183434.00 2021-01-15          1430989    1.24756e+06\n",
       "6       C2   139184.84 2021-01-15           549549         410364\n",
       "7       C3    66521.00 2021-01-15           237647         171126\n",
       "8       C4    16503.00 2021-01-15           109401          92898"
      ],
      "text/html": "<div>\n<style scoped>\n    .dataframe tbody tr th:only-of-type {\n        vertical-align: middle;\n    }\n\n    .dataframe tbody tr th {\n        vertical-align: top;\n    }\n\n    .dataframe thead th {\n        text-align: right;\n    }\n</style>\n<table border=\"1\" class=\"dataframe\">\n  <thead>\n    <tr style=\"text-align: right;\">\n      <th></th>\n      <th>Division</th>\n      <th>Recuperado</th>\n      <th>FechaFact</th>\n      <th>SiguienteArancel</th>\n      <th>RestSigArancel</th>\n    </tr>\n  </thead>\n  <tbody>\n    <tr>\n      <th>0</th>\n      <td>A</td>\n      <td>33962.00</td>\n      <td>2021-01-15</td>\n      <td>264024</td>\n      <td>230062</td>\n    </tr>\n    <tr>\n      <th>1</th>\n      <td>B</td>\n      <td>25364.00</td>\n      <td>2021-01-15</td>\n      <td>214969</td>\n      <td>189605</td>\n    </tr>\n    <tr>\n      <th>2</th>\n      <td>C0 4PV</td>\n      <td>325377.32</td>\n      <td>2021-01-15</td>\n      <td>846436</td>\n      <td>521059</td>\n    </tr>\n    <tr>\n      <th>3</th>\n      <td>C0 5PV</td>\n      <td>132900.06</td>\n      <td>2021-01-15</td>\n      <td>729630</td>\n      <td>596730</td>\n    </tr>\n    <tr>\n      <th>4</th>\n      <td>C0 6PV</td>\n      <td>117564.50</td>\n      <td>2021-01-15</td>\n      <td>623524</td>\n      <td>505960</td>\n    </tr>\n    <tr>\n      <th>5</th>\n      <td>C1</td>\n      <td>183434.00</td>\n      <td>2021-01-15</td>\n      <td>1430989</td>\n      <td>1.24756e+06</td>\n    </tr>\n    <tr>\n      <th>6</th>\n      <td>C2</td>\n      <td>139184.84</td>\n      <td>2021-01-15</td>\n      <td>549549</td>\n      <td>410364</td>\n    </tr>\n    <tr>\n      <th>7</th>\n      <td>C3</td>\n      <td>66521.00</td>\n      <td>2021-01-15</td>\n      <td>237647</td>\n      <td>171126</td>\n    </tr>\n    <tr>\n      <th>8</th>\n      <td>C4</td>\n      <td>16503.00</td>\n      <td>2021-01-15</td>\n      <td>109401</td>\n      <td>92898</td>\n    </tr>\n  </tbody>\n</table>\n</div>"
     },
     "metadata": {},
     "execution_count": 205
    }
   ],
   "source": [
    "pagos_brad_gerencia = pd.pivot_table(pagos_brad2,index=['TIPO_ASIGANCION'],values=['MONTO'],aggfunc=[np.sum])\n",
    "pagos_brad_gerencia = pd.DataFrame(pagos_brad_gerencia.to_records())\n",
    "pagos_brad_gerencia.columns = ['Asignacion','Recuperado']\n",
    "pagos_brad_gerencia.fillna(0,inplace=True)\n",
    "pagos_brad_gerencia['FechaFact'] = max(pagos_brad2['FECHA_PAGO'])\n",
    "pagos_brad_gerencia['SiguienteArancel'] = pagos_brad_gerencia.apply(sig_arancel, axis=1)\n",
    "pagos_brad_gerencia['RestSigArancel'] = pagos_brad_gerencia['SiguienteArancel']-pagos_brad_gerencia['Recuperado']\n",
    "cols = ['Recuperado','SiguienteArancel','RestSigArancel']\n",
    "pagos_brad_gerencia[cols] = pagos_brad_gerencia[cols].round(2)\n",
    "#pagos_brad_gerencia = pagos_brad_gerencia.iloc[:,[0,1,2,4]]\n",
    "pagos_brad_gerencia.columns = ['Division','Recuperado','FechaFact','SiguienteArancel','RestSigArancel']\n",
    "pagos_brad_gerencia"
   ]
  },
  {
   "source": [
    "# Credifiel"
   ],
   "cell_type": "markdown",
   "metadata": {}
  },
  {
   "cell_type": "code",
   "execution_count": 206,
   "metadata": {},
   "outputs": [
    {
     "output_type": "execute_result",
     "data": {
      "text/plain": [
       "      ID      FECHA  IMPORTE   ARANCEL  FACTURACION    CLIENTE\n",
       "0  76245 2021-01-11  30000.0  0.201471  6044.117647  Credifiel"
      ],
      "text/html": "<div>\n<style scoped>\n    .dataframe tbody tr th:only-of-type {\n        vertical-align: middle;\n    }\n\n    .dataframe tbody tr th {\n        vertical-align: top;\n    }\n\n    .dataframe thead th {\n        text-align: right;\n    }\n</style>\n<table border=\"1\" class=\"dataframe\">\n  <thead>\n    <tr style=\"text-align: right;\">\n      <th></th>\n      <th>ID</th>\n      <th>FECHA</th>\n      <th>IMPORTE</th>\n      <th>ARANCEL</th>\n      <th>FACTURACION</th>\n      <th>CLIENTE</th>\n    </tr>\n  </thead>\n  <tbody>\n    <tr>\n      <th>0</th>\n      <td>76245</td>\n      <td>2021-01-11</td>\n      <td>30000.0</td>\n      <td>0.201471</td>\n      <td>6044.117647</td>\n      <td>Credifiel</td>\n    </tr>\n  </tbody>\n</table>\n</div>"
     },
     "metadata": {},
     "execution_count": 206
    }
   ],
   "source": [
    "#Hacemos el consolidado de la asignacion y promesado\n",
    "consolidado_pagos_cred = pd.merge(pagos_cred2,asignacion_cred,how='left',left_on=['ID'],right_on=['CREDITO'])\n",
    "consolidado_pagos_cred.drop('CREDITO',1,inplace=True)\n",
    "consolidado_pagos_cred['ARANCEL'] = np.where(consolidado_pagos_cred['ARANCEL'].isna(),np.mean(consolidado_pagos_cred['ARANCEL']),consolidado_pagos_cred['ARANCEL'])\n",
    "consolidado_pagos_cred['FACTURACION'] = consolidado_pagos_cred['IMPORTE']*consolidado_pagos_cred['ARANCEL']\n",
    "consolidado_pagos_cred['CLIENTE'] = 'Credifiel'\n",
    "consolidado_pagos_cred.head(1)"
   ]
  },
  {
   "cell_type": "code",
   "execution_count": 207,
   "metadata": {},
   "outputs": [
    {
     "output_type": "execute_result",
     "data": {
      "text/plain": [
       "     Cliente   Facturacion  FechaFact\n",
       "0  Credifiel  31515.158588 2021-01-14"
      ],
      "text/html": "<div>\n<style scoped>\n    .dataframe tbody tr th:only-of-type {\n        vertical-align: middle;\n    }\n\n    .dataframe tbody tr th {\n        vertical-align: top;\n    }\n\n    .dataframe thead th {\n        text-align: right;\n    }\n</style>\n<table border=\"1\" class=\"dataframe\">\n  <thead>\n    <tr style=\"text-align: right;\">\n      <th></th>\n      <th>Cliente</th>\n      <th>Facturacion</th>\n      <th>FechaFact</th>\n    </tr>\n  </thead>\n  <tbody>\n    <tr>\n      <th>0</th>\n      <td>Credifiel</td>\n      <td>31515.158588</td>\n      <td>2021-01-14</td>\n    </tr>\n  </tbody>\n</table>\n</div>"
     },
     "metadata": {},
     "execution_count": 207
    }
   ],
   "source": [
    "pagos_totales_cred = pd.pivot_table(consolidado_pagos_cred,index=['CLIENTE'],values=['FACTURACION'],aggfunc=[np.sum],dropna=False)\n",
    "pagos_totales_cred = pd.DataFrame(pagos_totales_cred.to_records())\n",
    "pagos_totales_cred.columns = ['Cliente','Facturacion']\n",
    "pagos_totales_cred.fillna(0,inplace=True)\n",
    "pagos_totales_cred['FechaFact'] = max(consolidado_pagos_cred['FECHA'])\n",
    "pagos_totales_cred"
   ]
  },
  {
   "cell_type": "code",
   "execution_count": 208,
   "metadata": {},
   "outputs": [
    {
     "output_type": "execute_result",
     "data": {
      "text/plain": [
       "    Division  Recuperado  FechaFact\n",
       "0  Credifiel   184476.96 2021-01-14"
      ],
      "text/html": "<div>\n<style scoped>\n    .dataframe tbody tr th:only-of-type {\n        vertical-align: middle;\n    }\n\n    .dataframe tbody tr th {\n        vertical-align: top;\n    }\n\n    .dataframe thead th {\n        text-align: right;\n    }\n</style>\n<table border=\"1\" class=\"dataframe\">\n  <thead>\n    <tr style=\"text-align: right;\">\n      <th></th>\n      <th>Division</th>\n      <th>Recuperado</th>\n      <th>FechaFact</th>\n    </tr>\n  </thead>\n  <tbody>\n    <tr>\n      <th>0</th>\n      <td>Credifiel</td>\n      <td>184476.96</td>\n      <td>2021-01-14</td>\n    </tr>\n  </tbody>\n</table>\n</div>"
     },
     "metadata": {},
     "execution_count": 208
    }
   ],
   "source": [
    "pagos_cred_gerencia = pd.pivot_table(consolidado_pagos_cred,index=['CLIENTE'],values=['IMPORTE'],aggfunc=np.sum)\n",
    "pagos_cred_gerencia = pd.DataFrame(pagos_cred_gerencia.to_records())\n",
    "pagos_cred_gerencia[' FechaFact'] = max(consolidado_pagos_cred['FECHA'])\n",
    "pagos_cred_gerencia.columns = ['Division','Recuperado','FechaFact']\n",
    "pagos_cred_gerencia"
   ]
  },
  {
   "source": [
    "# Banco Azteca"
   ],
   "cell_type": "markdown",
   "metadata": {}
  },
  {
   "cell_type": "code",
   "execution_count": 209,
   "metadata": {},
   "outputs": [],
   "source": [
    "# pagos_baz = pd.concat([pagos_baz_26,pagos_baz_recovery],ignore_index=True)\n",
    "# pagos_baz = pagos_baz.loc[pagos_baz['CARGO AUTOMATICO']=='NO']\n",
    "# pagos_baz['Recuperado'] = pagos_baz['RECUPERACION DE CAPITAL']+pagos_baz['RECUPERACION DE MORATORIOS']\n",
    "# pagos_baz['Cliente'] = 'Banco Azteca'"
   ]
  },
  {
   "cell_type": "code",
   "execution_count": 210,
   "metadata": {},
   "outputs": [],
   "source": [
    "# pagos_totales_baz = pd.pivot_table(fact_baz,index=['Cliente'],values=['Total Recuperado','Total Comisión'],aggfunc=[np.sum],dropna=False)\n",
    "# pagos_totales_baz = pd.DataFrame(pagos_totales_baz.to_records())\n",
    "# pagos_totales_baz.columns = ['Cliente','Recuperado','SumaPagos']\n",
    "# porcentaje_prom_arancel_baz = pagos_totales_baz['Recuperado']/pagos_totales_baz['SumaPagos']\n",
    "# porcentaje_prom_arancel_baz"
   ]
  },
  {
   "cell_type": "code",
   "execution_count": 211,
   "metadata": {},
   "outputs": [],
   "source": [
    "# pagos_baz['Facturacion'] = [x*porcentaje_prom_arancel_baz for x in pagos_baz['Recuperado']]\n",
    "# pagos_fact_baz = pd.pivot_table(pagos_baz,index=['Cliente'],values=['Facturacion'],aggfunc=[np.sum])\n",
    "# pagos_fact_baz = pd.DataFrame(pagos_fact_baz.to_records())\n",
    "# pagos_fact_baz.columns = ['Cliente','Facturacion']\n",
    "# pagos_fact_baz['FechaFact'] = max(pagos_baz['DIA'])\n",
    "# pagos_fact_baz"
   ]
  },
  {
   "source": [
    "# Union Naucalpan"
   ],
   "cell_type": "markdown",
   "metadata": {}
  },
  {
   "cell_type": "code",
   "execution_count": 212,
   "metadata": {},
   "outputs": [
    {
     "output_type": "execute_result",
     "data": {
      "text/plain": [
       "    Sucursal    Cliente    Facturacion  FechaFact     Meta   Avance%\n",
       "0  Naucalpan  Liverpool  370631.720000 2021-01-17  1050000  0.352983\n",
       "1  Naucalpan   Bradesco  137398.607400 2021-01-15   750000  0.183198\n",
       "2  Naucalpan  Credifiel   31515.158588 2021-01-14   100000  0.315152"
      ],
      "text/html": "<div>\n<style scoped>\n    .dataframe tbody tr th:only-of-type {\n        vertical-align: middle;\n    }\n\n    .dataframe tbody tr th {\n        vertical-align: top;\n    }\n\n    .dataframe thead th {\n        text-align: right;\n    }\n</style>\n<table border=\"1\" class=\"dataframe\">\n  <thead>\n    <tr style=\"text-align: right;\">\n      <th></th>\n      <th>Sucursal</th>\n      <th>Cliente</th>\n      <th>Facturacion</th>\n      <th>FechaFact</th>\n      <th>Meta</th>\n      <th>Avance%</th>\n    </tr>\n  </thead>\n  <tbody>\n    <tr>\n      <th>0</th>\n      <td>Naucalpan</td>\n      <td>Liverpool</td>\n      <td>370631.720000</td>\n      <td>2021-01-17</td>\n      <td>1050000</td>\n      <td>0.352983</td>\n    </tr>\n    <tr>\n      <th>1</th>\n      <td>Naucalpan</td>\n      <td>Bradesco</td>\n      <td>137398.607400</td>\n      <td>2021-01-15</td>\n      <td>750000</td>\n      <td>0.183198</td>\n    </tr>\n    <tr>\n      <th>2</th>\n      <td>Naucalpan</td>\n      <td>Credifiel</td>\n      <td>31515.158588</td>\n      <td>2021-01-14</td>\n      <td>100000</td>\n      <td>0.315152</td>\n    </tr>\n  </tbody>\n</table>\n</div>"
     },
     "metadata": {},
     "execution_count": 212
    }
   ],
   "source": [
    "pdList = [pagos_totales_liv2,pagos_totales_brad2,pagos_totales_cred]\n",
    "final_naucalpan = pd.concat(pdList,ignore_index=True)\n",
    "final_naucalpan = pd.merge(final_naucalpan,meta_naucalpan,on=['Cliente'],how='left')\n",
    "final_naucalpan['Avance%'] = final_naucalpan['Facturacion']/final_naucalpan['Meta']\n",
    "final_naucalpan.insert(loc=0,column='Sucursal',value='Naucalpan')\n",
    "final_naucalpan"
   ]
  },
  {
   "source": [
    "# Guatemala"
   ],
   "cell_type": "markdown",
   "metadata": {}
  },
  {
   "cell_type": "code",
   "execution_count": 213,
   "metadata": {},
   "outputs": [],
   "source": [
    "final_guatemala = pd.DataFrame([['Avon G',69940,250000],['Arabela G',808,5100],['Banco Azteca G',6047,52000],['Banco Credomatic',2222,17000],['Belcorp',2010,5000],['Banco Azteca R',37152,115000]])\n",
    "final_guatemala.columns = ['Cliente','Facturacion','Meta']\n",
    "final_guatemala.insert(loc=0,column='Sucursal',value='Guatemala')"
   ]
  },
  {
   "cell_type": "code",
   "execution_count": 214,
   "metadata": {},
   "outputs": [],
   "source": [
    "final_guatemala['Facturacion'] = final_guatemala['Facturacion']*quetzal\n",
    "final_guatemala['Meta'] = final_guatemala['Meta']*quetzal\n",
    "final_guatemala['FechaFact'] = ayer"
   ]
  },
  {
   "source": [
    "# Panama"
   ],
   "cell_type": "markdown",
   "metadata": {}
  },
  {
   "cell_type": "code",
   "execution_count": 215,
   "metadata": {},
   "outputs": [],
   "source": [
    "final_panama = pd.DataFrame([['Cable Onda',1436,2800],['Jamar',2500,8000],['Banco Azteca',4419,4000],['Adel Panama',893,3000],['Cable Onda Act',627,2000],['Banco Azteca Act',31000,34000],['Avon',485,2000],['Avon Renta',1250,1250],['Rodelag',0,3500]])\n",
    "final_panama.columns = ['Cliente','Facturacion','Meta']\n",
    "final_panama.insert(loc=0,column='Sucursal',value='Panama')"
   ]
  },
  {
   "cell_type": "code",
   "execution_count": 216,
   "metadata": {},
   "outputs": [
    {
     "output_type": "execute_result",
     "data": {
      "text/plain": [
       "  Sucursal           Cliente  Facturacion      Meta  FechaFact\n",
       "0   Panama        Cable Onda      28432.8   55440.0 2021-01-18\n",
       "1   Panama             Jamar      49500.0  158400.0 2021-01-18\n",
       "2   Panama      Banco Azteca      87496.2   79200.0 2021-01-18\n",
       "3   Panama       Adel Panama      17681.4   59400.0 2021-01-18\n",
       "4   Panama    Cable Onda Act      12414.6   39600.0 2021-01-18\n",
       "5   Panama  Banco Azteca Act     613800.0  673200.0 2021-01-18\n",
       "6   Panama              Avon       9603.0   39600.0 2021-01-18\n",
       "7   Panama        Avon Renta      24750.0   24750.0 2021-01-18\n",
       "8   Panama           Rodelag          0.0   69300.0 2021-01-18"
      ],
      "text/html": "<div>\n<style scoped>\n    .dataframe tbody tr th:only-of-type {\n        vertical-align: middle;\n    }\n\n    .dataframe tbody tr th {\n        vertical-align: top;\n    }\n\n    .dataframe thead th {\n        text-align: right;\n    }\n</style>\n<table border=\"1\" class=\"dataframe\">\n  <thead>\n    <tr style=\"text-align: right;\">\n      <th></th>\n      <th>Sucursal</th>\n      <th>Cliente</th>\n      <th>Facturacion</th>\n      <th>Meta</th>\n      <th>FechaFact</th>\n    </tr>\n  </thead>\n  <tbody>\n    <tr>\n      <th>0</th>\n      <td>Panama</td>\n      <td>Cable Onda</td>\n      <td>28432.8</td>\n      <td>55440.0</td>\n      <td>2021-01-18</td>\n    </tr>\n    <tr>\n      <th>1</th>\n      <td>Panama</td>\n      <td>Jamar</td>\n      <td>49500.0</td>\n      <td>158400.0</td>\n      <td>2021-01-18</td>\n    </tr>\n    <tr>\n      <th>2</th>\n      <td>Panama</td>\n      <td>Banco Azteca</td>\n      <td>87496.2</td>\n      <td>79200.0</td>\n      <td>2021-01-18</td>\n    </tr>\n    <tr>\n      <th>3</th>\n      <td>Panama</td>\n      <td>Adel Panama</td>\n      <td>17681.4</td>\n      <td>59400.0</td>\n      <td>2021-01-18</td>\n    </tr>\n    <tr>\n      <th>4</th>\n      <td>Panama</td>\n      <td>Cable Onda Act</td>\n      <td>12414.6</td>\n      <td>39600.0</td>\n      <td>2021-01-18</td>\n    </tr>\n    <tr>\n      <th>5</th>\n      <td>Panama</td>\n      <td>Banco Azteca Act</td>\n      <td>613800.0</td>\n      <td>673200.0</td>\n      <td>2021-01-18</td>\n    </tr>\n    <tr>\n      <th>6</th>\n      <td>Panama</td>\n      <td>Avon</td>\n      <td>9603.0</td>\n      <td>39600.0</td>\n      <td>2021-01-18</td>\n    </tr>\n    <tr>\n      <th>7</th>\n      <td>Panama</td>\n      <td>Avon Renta</td>\n      <td>24750.0</td>\n      <td>24750.0</td>\n      <td>2021-01-18</td>\n    </tr>\n    <tr>\n      <th>8</th>\n      <td>Panama</td>\n      <td>Rodelag</td>\n      <td>0.0</td>\n      <td>69300.0</td>\n      <td>2021-01-18</td>\n    </tr>\n  </tbody>\n</table>\n</div>"
     },
     "metadata": {},
     "execution_count": 216
    }
   ],
   "source": [
    "final_panama['Facturacion'] = final_panama['Facturacion']*dolar\n",
    "final_panama['Meta'] = final_panama['Meta']*dolar\n",
    "final_panama['FechaFact'] = ayer\n",
    "final_panama"
   ]
  },
  {
   "source": [
    "# Torreon   "
   ],
   "cell_type": "markdown",
   "metadata": {}
  },
  {
   "cell_type": "code",
   "execution_count": 217,
   "metadata": {},
   "outputs": [
    {
     "output_type": "execute_result",
     "data": {
      "text/plain": [
       "  Sucursal       Cliente  Facturacion     Meta  FechaFact\n",
       "0  Torreon          Avon        42681   990000 2021-01-18\n",
       "1  Torreon      Oriflame        22307    65000 2021-01-18\n",
       "2  Torreon         Invex       462644  1095000 2021-01-18\n",
       "3  Torreon       Arabela        44315    95000 2021-01-18\n",
       "4  Torreon        Cimaco          547     3500 2021-01-18\n",
       "5  Torreon  Cristian Lay            0     6000 2021-01-18\n",
       "6  Torreon          Avon          485     2000 2021-01-18\n",
       "7  Torreon    Avon Renta         1250     1250 2021-01-18\n",
       "8  Torreon       Rodelag            0     3500 2021-01-18"
      ],
      "text/html": "<div>\n<style scoped>\n    .dataframe tbody tr th:only-of-type {\n        vertical-align: middle;\n    }\n\n    .dataframe tbody tr th {\n        vertical-align: top;\n    }\n\n    .dataframe thead th {\n        text-align: right;\n    }\n</style>\n<table border=\"1\" class=\"dataframe\">\n  <thead>\n    <tr style=\"text-align: right;\">\n      <th></th>\n      <th>Sucursal</th>\n      <th>Cliente</th>\n      <th>Facturacion</th>\n      <th>Meta</th>\n      <th>FechaFact</th>\n    </tr>\n  </thead>\n  <tbody>\n    <tr>\n      <th>0</th>\n      <td>Torreon</td>\n      <td>Avon</td>\n      <td>42681</td>\n      <td>990000</td>\n      <td>2021-01-18</td>\n    </tr>\n    <tr>\n      <th>1</th>\n      <td>Torreon</td>\n      <td>Oriflame</td>\n      <td>22307</td>\n      <td>65000</td>\n      <td>2021-01-18</td>\n    </tr>\n    <tr>\n      <th>2</th>\n      <td>Torreon</td>\n      <td>Invex</td>\n      <td>462644</td>\n      <td>1095000</td>\n      <td>2021-01-18</td>\n    </tr>\n    <tr>\n      <th>3</th>\n      <td>Torreon</td>\n      <td>Arabela</td>\n      <td>44315</td>\n      <td>95000</td>\n      <td>2021-01-18</td>\n    </tr>\n    <tr>\n      <th>4</th>\n      <td>Torreon</td>\n      <td>Cimaco</td>\n      <td>547</td>\n      <td>3500</td>\n      <td>2021-01-18</td>\n    </tr>\n    <tr>\n      <th>5</th>\n      <td>Torreon</td>\n      <td>Cristian Lay</td>\n      <td>0</td>\n      <td>6000</td>\n      <td>2021-01-18</td>\n    </tr>\n    <tr>\n      <th>6</th>\n      <td>Torreon</td>\n      <td>Avon</td>\n      <td>485</td>\n      <td>2000</td>\n      <td>2021-01-18</td>\n    </tr>\n    <tr>\n      <th>7</th>\n      <td>Torreon</td>\n      <td>Avon Renta</td>\n      <td>1250</td>\n      <td>1250</td>\n      <td>2021-01-18</td>\n    </tr>\n    <tr>\n      <th>8</th>\n      <td>Torreon</td>\n      <td>Rodelag</td>\n      <td>0</td>\n      <td>3500</td>\n      <td>2021-01-18</td>\n    </tr>\n  </tbody>\n</table>\n</div>"
     },
     "metadata": {},
     "execution_count": 217
    }
   ],
   "source": [
    "final_torreon = pd.DataFrame([['Avon',42681,990000],['Oriflame',22307,65000],['Invex',462644,1095000],['Arabela',44315,95000],['Cimaco',547,3500],['Cristian Lay',0,6000]])\n",
    "final_torreon.columns = ['Cliente','Facturacion','Meta']\n",
    "final_torreon.insert(loc=0,column='Sucursal',value='Torreon')\n",
    "final_torreon['FechaFact'] = ayer\n",
    "final_torreon"
   ]
  },
  {
   "source": [
    "# Union final"
   ],
   "cell_type": "markdown",
   "metadata": {}
  },
  {
   "cell_type": "code",
   "execution_count": 218,
   "metadata": {},
   "outputs": [],
   "source": [
    "toadd_final = [final_naucalpan,final_torreon,final_guatemala,final_panama]\n",
    "final_mexico = pd.concat(toadd_final,ignore_index=True)\n",
    "final_mexico = pd.concat([final_mexico,final_guatemala],ignore_index=True)\n",
    "final_mexico = pd.concat([final_mexico,final_panama],ignore_index=True)\n",
    "final_mexico['Avance%'] = final_mexico['Facturacion']/final_mexico['Meta']"
   ]
  },
  {
   "cell_type": "code",
   "execution_count": 219,
   "metadata": {},
   "outputs": [
    {
     "output_type": "execute_result",
     "data": {
      "text/plain": [
       "     Sucursal           Cliente    Facturacion  FechaFact       Meta  \\\n",
       "0   Naucalpan         Liverpool  370631.720000 2021-01-17  1050000.0   \n",
       "1   Naucalpan          Bradesco  137398.607400 2021-01-15   750000.0   \n",
       "2   Naucalpan         Credifiel   31515.158588 2021-01-14   100000.0   \n",
       "3     Torreon              Avon   42681.000000 2021-01-18   990000.0   \n",
       "4     Torreon          Oriflame   22307.000000 2021-01-18    65000.0   \n",
       "5     Torreon             Invex  462644.000000 2021-01-18  1095000.0   \n",
       "6     Torreon           Arabela   44315.000000 2021-01-18    95000.0   \n",
       "7     Torreon            Cimaco     547.000000 2021-01-18     3500.0   \n",
       "8     Torreon      Cristian Lay       0.000000 2021-01-18     6000.0   \n",
       "9     Torreon              Avon     485.000000 2021-01-18     2000.0   \n",
       "10    Torreon        Avon Renta    1250.000000 2021-01-18     1250.0   \n",
       "11    Torreon           Rodelag       0.000000 2021-01-18     3500.0   \n",
       "12  Guatemala            Avon G  177647.600000 2021-01-18   635000.0   \n",
       "13  Guatemala         Arabela G    2052.320000 2021-01-18    12954.0   \n",
       "14  Guatemala    Banco Azteca G   15359.380000 2021-01-18   132080.0   \n",
       "15  Guatemala  Banco Credomatic    5643.880000 2021-01-18    43180.0   \n",
       "16  Guatemala           Belcorp    5105.400000 2021-01-18    12700.0   \n",
       "17  Guatemala    Banco Azteca R   94366.080000 2021-01-18   292100.0   \n",
       "18     Panama        Cable Onda   28432.800000 2021-01-18    55440.0   \n",
       "19     Panama             Jamar   49500.000000 2021-01-18   158400.0   \n",
       "20     Panama      Banco Azteca   87496.200000 2021-01-18    79200.0   \n",
       "21     Panama       Adel Panama   17681.400000 2021-01-18    59400.0   \n",
       "22     Panama    Cable Onda Act   12414.600000 2021-01-18    39600.0   \n",
       "23     Panama  Banco Azteca Act  613800.000000 2021-01-18   673200.0   \n",
       "24     Panama              Avon    9603.000000 2021-01-18    39600.0   \n",
       "25     Panama        Avon Renta   24750.000000 2021-01-18    24750.0   \n",
       "26     Panama           Rodelag       0.000000 2021-01-18    69300.0   \n",
       "\n",
       "     Avance%   MetaDia  TendenciaCierre  Semaforo  \n",
       "0   0.352983  595000.0     6.540560e+05      rojo  \n",
       "1   0.183198  375000.0     2.747972e+05      rojo  \n",
       "2   0.315152   46667.0     6.753248e+04      rojo  \n",
       "3   0.043112  594000.0     7.113500e+04      rojo  \n",
       "4   0.343185   39000.0     3.717833e+04      rojo  \n",
       "5   0.422506  657000.0     7.710733e+05      rojo  \n",
       "6   0.466474   57000.0     7.385833e+04  amarillo  \n",
       "7   0.156286    2100.0     9.116667e+02      rojo  \n",
       "8   0.000000    3600.0     0.000000e+00      rojo  \n",
       "9   0.242500    1200.0     8.083333e+02      rojo  \n",
       "10  1.000000     750.0     2.083333e+03     verde  \n",
       "11  0.000000    2100.0     0.000000e+00      rojo  \n",
       "12  0.279760  381000.0     2.960793e+05      rojo  \n",
       "13  0.158431    7772.0     3.420533e+03      rojo  \n",
       "14  0.116288   79248.0     2.559897e+04      rojo  \n",
       "15  0.130706   25908.0     9.406467e+03      rojo  \n",
       "16  0.402000    7620.0     8.509000e+03      rojo  \n",
       "17  0.323061  175260.0     1.572768e+05      rojo  \n",
       "18  0.512857   33264.0     4.738800e+04  amarillo  \n",
       "19  0.312500   95040.0     8.250000e+04      rojo  \n",
       "20  1.104750   47520.0     1.458270e+05     verde  \n",
       "21  0.297667   35640.0     2.946900e+04      rojo  \n",
       "22  0.313500   23760.0     2.069100e+04      rojo  \n",
       "23  0.911765  403920.0     1.023000e+06     verde  \n",
       "24  0.242500   23760.0     1.600500e+04      rojo  \n",
       "25  1.000000   14850.0     4.125000e+04     verde  \n",
       "26  0.000000   41580.0     0.000000e+00      rojo  "
      ],
      "text/html": "<div>\n<style scoped>\n    .dataframe tbody tr th:only-of-type {\n        vertical-align: middle;\n    }\n\n    .dataframe tbody tr th {\n        vertical-align: top;\n    }\n\n    .dataframe thead th {\n        text-align: right;\n    }\n</style>\n<table border=\"1\" class=\"dataframe\">\n  <thead>\n    <tr style=\"text-align: right;\">\n      <th></th>\n      <th>Sucursal</th>\n      <th>Cliente</th>\n      <th>Facturacion</th>\n      <th>FechaFact</th>\n      <th>Meta</th>\n      <th>Avance%</th>\n      <th>MetaDia</th>\n      <th>TendenciaCierre</th>\n      <th>Semaforo</th>\n    </tr>\n  </thead>\n  <tbody>\n    <tr>\n      <th>0</th>\n      <td>Naucalpan</td>\n      <td>Liverpool</td>\n      <td>370631.720000</td>\n      <td>2021-01-17</td>\n      <td>1050000.0</td>\n      <td>0.352983</td>\n      <td>595000.0</td>\n      <td>6.540560e+05</td>\n      <td>rojo</td>\n    </tr>\n    <tr>\n      <th>1</th>\n      <td>Naucalpan</td>\n      <td>Bradesco</td>\n      <td>137398.607400</td>\n      <td>2021-01-15</td>\n      <td>750000.0</td>\n      <td>0.183198</td>\n      <td>375000.0</td>\n      <td>2.747972e+05</td>\n      <td>rojo</td>\n    </tr>\n    <tr>\n      <th>2</th>\n      <td>Naucalpan</td>\n      <td>Credifiel</td>\n      <td>31515.158588</td>\n      <td>2021-01-14</td>\n      <td>100000.0</td>\n      <td>0.315152</td>\n      <td>46667.0</td>\n      <td>6.753248e+04</td>\n      <td>rojo</td>\n    </tr>\n    <tr>\n      <th>3</th>\n      <td>Torreon</td>\n      <td>Avon</td>\n      <td>42681.000000</td>\n      <td>2021-01-18</td>\n      <td>990000.0</td>\n      <td>0.043112</td>\n      <td>594000.0</td>\n      <td>7.113500e+04</td>\n      <td>rojo</td>\n    </tr>\n    <tr>\n      <th>4</th>\n      <td>Torreon</td>\n      <td>Oriflame</td>\n      <td>22307.000000</td>\n      <td>2021-01-18</td>\n      <td>65000.0</td>\n      <td>0.343185</td>\n      <td>39000.0</td>\n      <td>3.717833e+04</td>\n      <td>rojo</td>\n    </tr>\n    <tr>\n      <th>5</th>\n      <td>Torreon</td>\n      <td>Invex</td>\n      <td>462644.000000</td>\n      <td>2021-01-18</td>\n      <td>1095000.0</td>\n      <td>0.422506</td>\n      <td>657000.0</td>\n      <td>7.710733e+05</td>\n      <td>rojo</td>\n    </tr>\n    <tr>\n      <th>6</th>\n      <td>Torreon</td>\n      <td>Arabela</td>\n      <td>44315.000000</td>\n      <td>2021-01-18</td>\n      <td>95000.0</td>\n      <td>0.466474</td>\n      <td>57000.0</td>\n      <td>7.385833e+04</td>\n      <td>amarillo</td>\n    </tr>\n    <tr>\n      <th>7</th>\n      <td>Torreon</td>\n      <td>Cimaco</td>\n      <td>547.000000</td>\n      <td>2021-01-18</td>\n      <td>3500.0</td>\n      <td>0.156286</td>\n      <td>2100.0</td>\n      <td>9.116667e+02</td>\n      <td>rojo</td>\n    </tr>\n    <tr>\n      <th>8</th>\n      <td>Torreon</td>\n      <td>Cristian Lay</td>\n      <td>0.000000</td>\n      <td>2021-01-18</td>\n      <td>6000.0</td>\n      <td>0.000000</td>\n      <td>3600.0</td>\n      <td>0.000000e+00</td>\n      <td>rojo</td>\n    </tr>\n    <tr>\n      <th>9</th>\n      <td>Torreon</td>\n      <td>Avon</td>\n      <td>485.000000</td>\n      <td>2021-01-18</td>\n      <td>2000.0</td>\n      <td>0.242500</td>\n      <td>1200.0</td>\n      <td>8.083333e+02</td>\n      <td>rojo</td>\n    </tr>\n    <tr>\n      <th>10</th>\n      <td>Torreon</td>\n      <td>Avon Renta</td>\n      <td>1250.000000</td>\n      <td>2021-01-18</td>\n      <td>1250.0</td>\n      <td>1.000000</td>\n      <td>750.0</td>\n      <td>2.083333e+03</td>\n      <td>verde</td>\n    </tr>\n    <tr>\n      <th>11</th>\n      <td>Torreon</td>\n      <td>Rodelag</td>\n      <td>0.000000</td>\n      <td>2021-01-18</td>\n      <td>3500.0</td>\n      <td>0.000000</td>\n      <td>2100.0</td>\n      <td>0.000000e+00</td>\n      <td>rojo</td>\n    </tr>\n    <tr>\n      <th>12</th>\n      <td>Guatemala</td>\n      <td>Avon G</td>\n      <td>177647.600000</td>\n      <td>2021-01-18</td>\n      <td>635000.0</td>\n      <td>0.279760</td>\n      <td>381000.0</td>\n      <td>2.960793e+05</td>\n      <td>rojo</td>\n    </tr>\n    <tr>\n      <th>13</th>\n      <td>Guatemala</td>\n      <td>Arabela G</td>\n      <td>2052.320000</td>\n      <td>2021-01-18</td>\n      <td>12954.0</td>\n      <td>0.158431</td>\n      <td>7772.0</td>\n      <td>3.420533e+03</td>\n      <td>rojo</td>\n    </tr>\n    <tr>\n      <th>14</th>\n      <td>Guatemala</td>\n      <td>Banco Azteca G</td>\n      <td>15359.380000</td>\n      <td>2021-01-18</td>\n      <td>132080.0</td>\n      <td>0.116288</td>\n      <td>79248.0</td>\n      <td>2.559897e+04</td>\n      <td>rojo</td>\n    </tr>\n    <tr>\n      <th>15</th>\n      <td>Guatemala</td>\n      <td>Banco Credomatic</td>\n      <td>5643.880000</td>\n      <td>2021-01-18</td>\n      <td>43180.0</td>\n      <td>0.130706</td>\n      <td>25908.0</td>\n      <td>9.406467e+03</td>\n      <td>rojo</td>\n    </tr>\n    <tr>\n      <th>16</th>\n      <td>Guatemala</td>\n      <td>Belcorp</td>\n      <td>5105.400000</td>\n      <td>2021-01-18</td>\n      <td>12700.0</td>\n      <td>0.402000</td>\n      <td>7620.0</td>\n      <td>8.509000e+03</td>\n      <td>rojo</td>\n    </tr>\n    <tr>\n      <th>17</th>\n      <td>Guatemala</td>\n      <td>Banco Azteca R</td>\n      <td>94366.080000</td>\n      <td>2021-01-18</td>\n      <td>292100.0</td>\n      <td>0.323061</td>\n      <td>175260.0</td>\n      <td>1.572768e+05</td>\n      <td>rojo</td>\n    </tr>\n    <tr>\n      <th>18</th>\n      <td>Panama</td>\n      <td>Cable Onda</td>\n      <td>28432.800000</td>\n      <td>2021-01-18</td>\n      <td>55440.0</td>\n      <td>0.512857</td>\n      <td>33264.0</td>\n      <td>4.738800e+04</td>\n      <td>amarillo</td>\n    </tr>\n    <tr>\n      <th>19</th>\n      <td>Panama</td>\n      <td>Jamar</td>\n      <td>49500.000000</td>\n      <td>2021-01-18</td>\n      <td>158400.0</td>\n      <td>0.312500</td>\n      <td>95040.0</td>\n      <td>8.250000e+04</td>\n      <td>rojo</td>\n    </tr>\n    <tr>\n      <th>20</th>\n      <td>Panama</td>\n      <td>Banco Azteca</td>\n      <td>87496.200000</td>\n      <td>2021-01-18</td>\n      <td>79200.0</td>\n      <td>1.104750</td>\n      <td>47520.0</td>\n      <td>1.458270e+05</td>\n      <td>verde</td>\n    </tr>\n    <tr>\n      <th>21</th>\n      <td>Panama</td>\n      <td>Adel Panama</td>\n      <td>17681.400000</td>\n      <td>2021-01-18</td>\n      <td>59400.0</td>\n      <td>0.297667</td>\n      <td>35640.0</td>\n      <td>2.946900e+04</td>\n      <td>rojo</td>\n    </tr>\n    <tr>\n      <th>22</th>\n      <td>Panama</td>\n      <td>Cable Onda Act</td>\n      <td>12414.600000</td>\n      <td>2021-01-18</td>\n      <td>39600.0</td>\n      <td>0.313500</td>\n      <td>23760.0</td>\n      <td>2.069100e+04</td>\n      <td>rojo</td>\n    </tr>\n    <tr>\n      <th>23</th>\n      <td>Panama</td>\n      <td>Banco Azteca Act</td>\n      <td>613800.000000</td>\n      <td>2021-01-18</td>\n      <td>673200.0</td>\n      <td>0.911765</td>\n      <td>403920.0</td>\n      <td>1.023000e+06</td>\n      <td>verde</td>\n    </tr>\n    <tr>\n      <th>24</th>\n      <td>Panama</td>\n      <td>Avon</td>\n      <td>9603.000000</td>\n      <td>2021-01-18</td>\n      <td>39600.0</td>\n      <td>0.242500</td>\n      <td>23760.0</td>\n      <td>1.600500e+04</td>\n      <td>rojo</td>\n    </tr>\n    <tr>\n      <th>25</th>\n      <td>Panama</td>\n      <td>Avon Renta</td>\n      <td>24750.000000</td>\n      <td>2021-01-18</td>\n      <td>24750.0</td>\n      <td>1.000000</td>\n      <td>14850.0</td>\n      <td>4.125000e+04</td>\n      <td>verde</td>\n    </tr>\n    <tr>\n      <th>26</th>\n      <td>Panama</td>\n      <td>Rodelag</td>\n      <td>0.000000</td>\n      <td>2021-01-18</td>\n      <td>69300.0</td>\n      <td>0.000000</td>\n      <td>41580.0</td>\n      <td>0.000000e+00</td>\n      <td>rojo</td>\n    </tr>\n  </tbody>\n</table>\n</div>"
     },
     "metadata": {},
     "execution_count": 219
    }
   ],
   "source": [
    "final_mexico['MetaDia'] = ((final_mexico['FechaFact'].dt.day/30)*final_mexico['Meta']).round()\n",
    "final_mexico['TendenciaCierre'] = [(30/x.day)*y for x,y in zip(final_mexico['FechaFact'],final_mexico['Facturacion'])]\n",
    "final_mexico['Semaforo'] = np.where(final_mexico['MetaDia']<=final_mexico['Facturacion'],'verde',\n",
    "                                    np.where((final_mexico['MetaDia']*.75<=final_mexico['Facturacion']) &                                                                                    (final_mexico['MetaDia']>final_mexico  ['Facturacion']),'amarillo','rojo'))\n",
    "final_mexico\n",
    "fecha_fact = datetime.strftime(max(final_mexico['FechaFact']),'%d-%m-%Y')"
   ]
  },
  {
   "cell_type": "code",
   "execution_count": 220,
   "metadata": {},
   "outputs": [
    {
     "output_type": "execute_result",
     "data": {
      "text/plain": [
       "    Sucursal    Facturacion       Meta  FechaFact    Avance    MetaDia  \\\n",
       "0  Guatemala  300174.660000  1128014.0 2021-01-18  0.266109   676808.0   \n",
       "1  Naucalpan  539545.485988  1900000.0 2021-01-17  0.283971  1076667.0   \n",
       "2     Panama  843678.000000  1198890.0 2021-01-18  0.703716   719334.0   \n",
       "3    Torreon  574229.000000  2261250.0 2021-01-18  0.253943  1356750.0   \n",
       "\n",
       "  Semaforo  \n",
       "0     Rojo  \n",
       "1     Rojo  \n",
       "2    Verde  \n",
       "3     Rojo  "
      ],
      "text/html": "<div>\n<style scoped>\n    .dataframe tbody tr th:only-of-type {\n        vertical-align: middle;\n    }\n\n    .dataframe tbody tr th {\n        vertical-align: top;\n    }\n\n    .dataframe thead th {\n        text-align: right;\n    }\n</style>\n<table border=\"1\" class=\"dataframe\">\n  <thead>\n    <tr style=\"text-align: right;\">\n      <th></th>\n      <th>Sucursal</th>\n      <th>Facturacion</th>\n      <th>Meta</th>\n      <th>FechaFact</th>\n      <th>Avance</th>\n      <th>MetaDia</th>\n      <th>Semaforo</th>\n    </tr>\n  </thead>\n  <tbody>\n    <tr>\n      <th>0</th>\n      <td>Guatemala</td>\n      <td>300174.660000</td>\n      <td>1128014.0</td>\n      <td>2021-01-18</td>\n      <td>0.266109</td>\n      <td>676808.0</td>\n      <td>Rojo</td>\n    </tr>\n    <tr>\n      <th>1</th>\n      <td>Naucalpan</td>\n      <td>539545.485988</td>\n      <td>1900000.0</td>\n      <td>2021-01-17</td>\n      <td>0.283971</td>\n      <td>1076667.0</td>\n      <td>Rojo</td>\n    </tr>\n    <tr>\n      <th>2</th>\n      <td>Panama</td>\n      <td>843678.000000</td>\n      <td>1198890.0</td>\n      <td>2021-01-18</td>\n      <td>0.703716</td>\n      <td>719334.0</td>\n      <td>Verde</td>\n    </tr>\n    <tr>\n      <th>3</th>\n      <td>Torreon</td>\n      <td>574229.000000</td>\n      <td>2261250.0</td>\n      <td>2021-01-18</td>\n      <td>0.253943</td>\n      <td>1356750.0</td>\n      <td>Rojo</td>\n    </tr>\n  </tbody>\n</table>\n</div>"
     },
     "metadata": {},
     "execution_count": 220
    }
   ],
   "source": [
    "final_sucursal = pd.pivot_table(final_mexico,index=['Sucursal'],values=['Meta','Facturacion','FechaFact'],aggfunc=[np.sum,np.max])\n",
    "final_sucursal = pd.DataFrame(final_sucursal.to_records())\n",
    "final_sucursal = final_sucursal.iloc[:,[0,1,2,4]]\n",
    "final_sucursal.columns = ['Sucursal','Facturacion','Meta','FechaFact']\n",
    "final_sucursal['Avance'] = final_sucursal['Facturacion']/final_sucursal['Meta']\n",
    "final_sucursal['MetaDia'] = ((final_sucursal['FechaFact'].dt.day/30)*final_sucursal['Meta']).round()\n",
    "final_sucursal['Semaforo'] = np.where(final_sucursal['MetaDia']<=final_sucursal['Facturacion'],'Verde',\n",
    "                                    np.where((final_sucursal['MetaDia']*.75<=final_sucursal['Facturacion']) &(final_sucursal['MetaDia']>final_sucursal['Facturacion']),'Amarillo','Rojo'))\n",
    "final_sucursal"
   ]
  },
  {
   "cell_type": "code",
   "execution_count": 221,
   "metadata": {},
   "outputs": [
    {
     "output_type": "execute_result",
     "data": {
      "text/plain": [
       "     Division  Recuperado  FechaFact SiguienteArancel RestSigArancel\n",
       "0    DKN00REM   399556.00 2021-01-17        1071428.6         671873\n",
       "1    DKN02REM   357302.99 2021-01-17        1625000.0     1.2677e+06\n",
       "2    DKN04REM   180155.37 2021-01-17         600000.0         419845\n",
       "3    SA001REM   153899.98 2021-01-17        2000000.0     1.8461e+06\n",
       "4    SA002REM    16701.00 2021-01-17        2187500.0     2.1708e+06\n",
       "5           A    33962.00 2021-01-15           264024         230062\n",
       "6           B    25364.00 2021-01-15           214969         189605\n",
       "7      C0 4PV   325377.32 2021-01-15           846436         521059\n",
       "8      C0 5PV   132900.06 2021-01-15           729630         596730\n",
       "9      C0 6PV   117564.50 2021-01-15           623524         505960\n",
       "10         C1   183434.00 2021-01-15          1430989    1.24756e+06\n",
       "11         C2   139184.84 2021-01-15           549549         410364\n",
       "12         C3    66521.00 2021-01-15           237647         171126\n",
       "13         C4    16503.00 2021-01-15           109401          92898\n",
       "14  Credifiel   184476.96 2021-01-14              NaN            NaN"
      ],
      "text/html": "<div>\n<style scoped>\n    .dataframe tbody tr th:only-of-type {\n        vertical-align: middle;\n    }\n\n    .dataframe tbody tr th {\n        vertical-align: top;\n    }\n\n    .dataframe thead th {\n        text-align: right;\n    }\n</style>\n<table border=\"1\" class=\"dataframe\">\n  <thead>\n    <tr style=\"text-align: right;\">\n      <th></th>\n      <th>Division</th>\n      <th>Recuperado</th>\n      <th>FechaFact</th>\n      <th>SiguienteArancel</th>\n      <th>RestSigArancel</th>\n    </tr>\n  </thead>\n  <tbody>\n    <tr>\n      <th>0</th>\n      <td>DKN00REM</td>\n      <td>399556.00</td>\n      <td>2021-01-17</td>\n      <td>1071428.6</td>\n      <td>671873</td>\n    </tr>\n    <tr>\n      <th>1</th>\n      <td>DKN02REM</td>\n      <td>357302.99</td>\n      <td>2021-01-17</td>\n      <td>1625000.0</td>\n      <td>1.2677e+06</td>\n    </tr>\n    <tr>\n      <th>2</th>\n      <td>DKN04REM</td>\n      <td>180155.37</td>\n      <td>2021-01-17</td>\n      <td>600000.0</td>\n      <td>419845</td>\n    </tr>\n    <tr>\n      <th>3</th>\n      <td>SA001REM</td>\n      <td>153899.98</td>\n      <td>2021-01-17</td>\n      <td>2000000.0</td>\n      <td>1.8461e+06</td>\n    </tr>\n    <tr>\n      <th>4</th>\n      <td>SA002REM</td>\n      <td>16701.00</td>\n      <td>2021-01-17</td>\n      <td>2187500.0</td>\n      <td>2.1708e+06</td>\n    </tr>\n    <tr>\n      <th>5</th>\n      <td>A</td>\n      <td>33962.00</td>\n      <td>2021-01-15</td>\n      <td>264024</td>\n      <td>230062</td>\n    </tr>\n    <tr>\n      <th>6</th>\n      <td>B</td>\n      <td>25364.00</td>\n      <td>2021-01-15</td>\n      <td>214969</td>\n      <td>189605</td>\n    </tr>\n    <tr>\n      <th>7</th>\n      <td>C0 4PV</td>\n      <td>325377.32</td>\n      <td>2021-01-15</td>\n      <td>846436</td>\n      <td>521059</td>\n    </tr>\n    <tr>\n      <th>8</th>\n      <td>C0 5PV</td>\n      <td>132900.06</td>\n      <td>2021-01-15</td>\n      <td>729630</td>\n      <td>596730</td>\n    </tr>\n    <tr>\n      <th>9</th>\n      <td>C0 6PV</td>\n      <td>117564.50</td>\n      <td>2021-01-15</td>\n      <td>623524</td>\n      <td>505960</td>\n    </tr>\n    <tr>\n      <th>10</th>\n      <td>C1</td>\n      <td>183434.00</td>\n      <td>2021-01-15</td>\n      <td>1430989</td>\n      <td>1.24756e+06</td>\n    </tr>\n    <tr>\n      <th>11</th>\n      <td>C2</td>\n      <td>139184.84</td>\n      <td>2021-01-15</td>\n      <td>549549</td>\n      <td>410364</td>\n    </tr>\n    <tr>\n      <th>12</th>\n      <td>C3</td>\n      <td>66521.00</td>\n      <td>2021-01-15</td>\n      <td>237647</td>\n      <td>171126</td>\n    </tr>\n    <tr>\n      <th>13</th>\n      <td>C4</td>\n      <td>16503.00</td>\n      <td>2021-01-15</td>\n      <td>109401</td>\n      <td>92898</td>\n    </tr>\n    <tr>\n      <th>14</th>\n      <td>Credifiel</td>\n      <td>184476.96</td>\n      <td>2021-01-14</td>\n      <td>NaN</td>\n      <td>NaN</td>\n    </tr>\n  </tbody>\n</table>\n</div>"
     },
     "metadata": {},
     "execution_count": 221
    }
   ],
   "source": [
    "final_bradlivcred = pd.concat([pagos_liv_gerencia,pagos_brad_gerencia],ignore_index=True)\n",
    "final_bradlivcred = pd.concat([final_bradlivcred,pagos_cred_gerencia],ignore_index=True)\n",
    "final_bradlivcred"
   ]
  },
  {
   "cell_type": "code",
   "execution_count": 222,
   "metadata": {},
   "outputs": [],
   "source": [
    "reporte_pagos_nauc = pd.read_csv(''+ruta_pagos+'/'+mes2+'/Reportes diarios/Reporte sucursal/Reporte sucursal '+today2+'.csv')"
   ]
  },
  {
   "cell_type": "code",
   "execution_count": 223,
   "metadata": {},
   "outputs": [
    {
     "output_type": "execute_result",
     "data": {
      "text/plain": [
       "      Pais   Sucursal    Cliente       Division  NumeroPagos  SumaPagos  \\\n",
       "0   Mexico  Naucalpan  Liverpool       DKN00REM          103  399556.00   \n",
       "1   Mexico  Naucalpan  Liverpool       DKN02REM           97  357302.99   \n",
       "2   Mexico  Naucalpan  Liverpool       DKN04REM           50  180155.37   \n",
       "3   Mexico  Naucalpan  Liverpool       SA001REM          107  153899.98   \n",
       "4   Mexico  Naucalpan  Liverpool       SA002REM            9   16701.00   \n",
       "5   Mexico  Naucalpan   Bradesco              A           16   33962.00   \n",
       "6   Mexico  Naucalpan   Bradesco              B            5   25364.00   \n",
       "7   Mexico  Naucalpan   Bradesco         C0 4PV          224  325377.32   \n",
       "8   Mexico  Naucalpan   Bradesco         C0 5PV          106  132900.06   \n",
       "9   Mexico  Naucalpan   Bradesco         C0 6PV           76  117564.50   \n",
       "10  Mexico  Naucalpan   Bradesco             C1          104  183434.00   \n",
       "11  Mexico  Naucalpan   Bradesco             C2           77  139184.84   \n",
       "12  Mexico  Naucalpan   Bradesco             C3           52   66521.00   \n",
       "13  Mexico  Naucalpan   Bradesco             C4           18   16503.00   \n",
       "14  Mexico  Naucalpan  Credifiel  EXTRAJUDICIAL           34  183076.96   \n",
       "\n",
       "    SumaFacturacion   FechaFact  NumeroPromesas  SumaPromesas  \\\n",
       "0         111875.68  2021-01-17             179     749282.74   \n",
       "1         142921.20  2021-01-17             152     669093.44   \n",
       "2          90077.68  2021-01-17              78     261983.37   \n",
       "3          23085.00  2021-01-17             170     272277.24   \n",
       "4           2672.16  2021-01-17              10      21957.00   \n",
       "5           9169.74  2021-01-15              33      61077.00   \n",
       "6           6341.00  2021-01-15               6      10201.00   \n",
       "7          22776.41  2021-01-15             285     458991.09   \n",
       "8          11961.01  2021-01-15             129     231211.00   \n",
       "9          11756.45  2021-01-15             101     187317.00   \n",
       "10         31183.78  2021-01-15             142     233237.00   \n",
       "11         26445.12  2021-01-15             136     204871.00   \n",
       "12         13969.41  2021-01-15             100     131429.00   \n",
       "13          3795.69  2021-01-15              45      44730.00   \n",
       "14         40253.96  2021-01-14              86     257731.16   \n",
       "\n",
       "    PromesasRestantes  TendenciaCierre1  RecuperadoNoPromesa  PagosNoPromesa  \\\n",
       "0           192472.87         197427.67             67649.00              21   \n",
       "1           151329.00         252213.88             64820.99              36   \n",
       "2            72174.00         158960.62             28053.00               8   \n",
       "3            81950.10          40738.23             25609.83              28   \n",
       "4                0.00           4715.58              4305.00               4   \n",
       "5             7000.00          18339.48              3720.00               1   \n",
       "6                0.00          12682.00             21817.00               2   \n",
       "7            38314.00          45552.82            102219.32              85   \n",
       "8            21077.00          23922.01             56335.03              48   \n",
       "9             5993.00          23512.90             36487.50              31   \n",
       "10           17863.00          62367.56             81754.00              52   \n",
       "11           20832.00          52890.24             37482.84              26   \n",
       "12            1250.00          27938.82              3342.00               5   \n",
       "13             700.00           7591.38               640.00               1   \n",
       "14           88237.33          86258.48             88441.00               9   \n",
       "\n",
       "   SiguienteArancel RestSigArancel  \n",
       "0         1071428.6         671873  \n",
       "1         1625000.0     1.2677e+06  \n",
       "2          600000.0         419845  \n",
       "3         2000000.0     1.8461e+06  \n",
       "4         2187500.0     2.1708e+06  \n",
       "5            264024         230062  \n",
       "6            214969         189605  \n",
       "7            846436         521059  \n",
       "8            729630         596730  \n",
       "9            623524         505960  \n",
       "10          1430989    1.24756e+06  \n",
       "11           549549         410364  \n",
       "12           237647         171126  \n",
       "13           109401          92898  \n",
       "14              NaN            NaN  "
      ],
      "text/html": "<div>\n<style scoped>\n    .dataframe tbody tr th:only-of-type {\n        vertical-align: middle;\n    }\n\n    .dataframe tbody tr th {\n        vertical-align: top;\n    }\n\n    .dataframe thead th {\n        text-align: right;\n    }\n</style>\n<table border=\"1\" class=\"dataframe\">\n  <thead>\n    <tr style=\"text-align: right;\">\n      <th></th>\n      <th>Pais</th>\n      <th>Sucursal</th>\n      <th>Cliente</th>\n      <th>Division</th>\n      <th>NumeroPagos</th>\n      <th>SumaPagos</th>\n      <th>SumaFacturacion</th>\n      <th>FechaFact</th>\n      <th>NumeroPromesas</th>\n      <th>SumaPromesas</th>\n      <th>PromesasRestantes</th>\n      <th>TendenciaCierre1</th>\n      <th>RecuperadoNoPromesa</th>\n      <th>PagosNoPromesa</th>\n      <th>SiguienteArancel</th>\n      <th>RestSigArancel</th>\n    </tr>\n  </thead>\n  <tbody>\n    <tr>\n      <th>0</th>\n      <td>Mexico</td>\n      <td>Naucalpan</td>\n      <td>Liverpool</td>\n      <td>DKN00REM</td>\n      <td>103</td>\n      <td>399556.00</td>\n      <td>111875.68</td>\n      <td>2021-01-17</td>\n      <td>179</td>\n      <td>749282.74</td>\n      <td>192472.87</td>\n      <td>197427.67</td>\n      <td>67649.00</td>\n      <td>21</td>\n      <td>1071428.6</td>\n      <td>671873</td>\n    </tr>\n    <tr>\n      <th>1</th>\n      <td>Mexico</td>\n      <td>Naucalpan</td>\n      <td>Liverpool</td>\n      <td>DKN02REM</td>\n      <td>97</td>\n      <td>357302.99</td>\n      <td>142921.20</td>\n      <td>2021-01-17</td>\n      <td>152</td>\n      <td>669093.44</td>\n      <td>151329.00</td>\n      <td>252213.88</td>\n      <td>64820.99</td>\n      <td>36</td>\n      <td>1625000.0</td>\n      <td>1.2677e+06</td>\n    </tr>\n    <tr>\n      <th>2</th>\n      <td>Mexico</td>\n      <td>Naucalpan</td>\n      <td>Liverpool</td>\n      <td>DKN04REM</td>\n      <td>50</td>\n      <td>180155.37</td>\n      <td>90077.68</td>\n      <td>2021-01-17</td>\n      <td>78</td>\n      <td>261983.37</td>\n      <td>72174.00</td>\n      <td>158960.62</td>\n      <td>28053.00</td>\n      <td>8</td>\n      <td>600000.0</td>\n      <td>419845</td>\n    </tr>\n    <tr>\n      <th>3</th>\n      <td>Mexico</td>\n      <td>Naucalpan</td>\n      <td>Liverpool</td>\n      <td>SA001REM</td>\n      <td>107</td>\n      <td>153899.98</td>\n      <td>23085.00</td>\n      <td>2021-01-17</td>\n      <td>170</td>\n      <td>272277.24</td>\n      <td>81950.10</td>\n      <td>40738.23</td>\n      <td>25609.83</td>\n      <td>28</td>\n      <td>2000000.0</td>\n      <td>1.8461e+06</td>\n    </tr>\n    <tr>\n      <th>4</th>\n      <td>Mexico</td>\n      <td>Naucalpan</td>\n      <td>Liverpool</td>\n      <td>SA002REM</td>\n      <td>9</td>\n      <td>16701.00</td>\n      <td>2672.16</td>\n      <td>2021-01-17</td>\n      <td>10</td>\n      <td>21957.00</td>\n      <td>0.00</td>\n      <td>4715.58</td>\n      <td>4305.00</td>\n      <td>4</td>\n      <td>2187500.0</td>\n      <td>2.1708e+06</td>\n    </tr>\n    <tr>\n      <th>5</th>\n      <td>Mexico</td>\n      <td>Naucalpan</td>\n      <td>Bradesco</td>\n      <td>A</td>\n      <td>16</td>\n      <td>33962.00</td>\n      <td>9169.74</td>\n      <td>2021-01-15</td>\n      <td>33</td>\n      <td>61077.00</td>\n      <td>7000.00</td>\n      <td>18339.48</td>\n      <td>3720.00</td>\n      <td>1</td>\n      <td>264024</td>\n      <td>230062</td>\n    </tr>\n    <tr>\n      <th>6</th>\n      <td>Mexico</td>\n      <td>Naucalpan</td>\n      <td>Bradesco</td>\n      <td>B</td>\n      <td>5</td>\n      <td>25364.00</td>\n      <td>6341.00</td>\n      <td>2021-01-15</td>\n      <td>6</td>\n      <td>10201.00</td>\n      <td>0.00</td>\n      <td>12682.00</td>\n      <td>21817.00</td>\n      <td>2</td>\n      <td>214969</td>\n      <td>189605</td>\n    </tr>\n    <tr>\n      <th>7</th>\n      <td>Mexico</td>\n      <td>Naucalpan</td>\n      <td>Bradesco</td>\n      <td>C0 4PV</td>\n      <td>224</td>\n      <td>325377.32</td>\n      <td>22776.41</td>\n      <td>2021-01-15</td>\n      <td>285</td>\n      <td>458991.09</td>\n      <td>38314.00</td>\n      <td>45552.82</td>\n      <td>102219.32</td>\n      <td>85</td>\n      <td>846436</td>\n      <td>521059</td>\n    </tr>\n    <tr>\n      <th>8</th>\n      <td>Mexico</td>\n      <td>Naucalpan</td>\n      <td>Bradesco</td>\n      <td>C0 5PV</td>\n      <td>106</td>\n      <td>132900.06</td>\n      <td>11961.01</td>\n      <td>2021-01-15</td>\n      <td>129</td>\n      <td>231211.00</td>\n      <td>21077.00</td>\n      <td>23922.01</td>\n      <td>56335.03</td>\n      <td>48</td>\n      <td>729630</td>\n      <td>596730</td>\n    </tr>\n    <tr>\n      <th>9</th>\n      <td>Mexico</td>\n      <td>Naucalpan</td>\n      <td>Bradesco</td>\n      <td>C0 6PV</td>\n      <td>76</td>\n      <td>117564.50</td>\n      <td>11756.45</td>\n      <td>2021-01-15</td>\n      <td>101</td>\n      <td>187317.00</td>\n      <td>5993.00</td>\n      <td>23512.90</td>\n      <td>36487.50</td>\n      <td>31</td>\n      <td>623524</td>\n      <td>505960</td>\n    </tr>\n    <tr>\n      <th>10</th>\n      <td>Mexico</td>\n      <td>Naucalpan</td>\n      <td>Bradesco</td>\n      <td>C1</td>\n      <td>104</td>\n      <td>183434.00</td>\n      <td>31183.78</td>\n      <td>2021-01-15</td>\n      <td>142</td>\n      <td>233237.00</td>\n      <td>17863.00</td>\n      <td>62367.56</td>\n      <td>81754.00</td>\n      <td>52</td>\n      <td>1430989</td>\n      <td>1.24756e+06</td>\n    </tr>\n    <tr>\n      <th>11</th>\n      <td>Mexico</td>\n      <td>Naucalpan</td>\n      <td>Bradesco</td>\n      <td>C2</td>\n      <td>77</td>\n      <td>139184.84</td>\n      <td>26445.12</td>\n      <td>2021-01-15</td>\n      <td>136</td>\n      <td>204871.00</td>\n      <td>20832.00</td>\n      <td>52890.24</td>\n      <td>37482.84</td>\n      <td>26</td>\n      <td>549549</td>\n      <td>410364</td>\n    </tr>\n    <tr>\n      <th>12</th>\n      <td>Mexico</td>\n      <td>Naucalpan</td>\n      <td>Bradesco</td>\n      <td>C3</td>\n      <td>52</td>\n      <td>66521.00</td>\n      <td>13969.41</td>\n      <td>2021-01-15</td>\n      <td>100</td>\n      <td>131429.00</td>\n      <td>1250.00</td>\n      <td>27938.82</td>\n      <td>3342.00</td>\n      <td>5</td>\n      <td>237647</td>\n      <td>171126</td>\n    </tr>\n    <tr>\n      <th>13</th>\n      <td>Mexico</td>\n      <td>Naucalpan</td>\n      <td>Bradesco</td>\n      <td>C4</td>\n      <td>18</td>\n      <td>16503.00</td>\n      <td>3795.69</td>\n      <td>2021-01-15</td>\n      <td>45</td>\n      <td>44730.00</td>\n      <td>700.00</td>\n      <td>7591.38</td>\n      <td>640.00</td>\n      <td>1</td>\n      <td>109401</td>\n      <td>92898</td>\n    </tr>\n    <tr>\n      <th>14</th>\n      <td>Mexico</td>\n      <td>Naucalpan</td>\n      <td>Credifiel</td>\n      <td>EXTRAJUDICIAL</td>\n      <td>34</td>\n      <td>183076.96</td>\n      <td>40253.96</td>\n      <td>2021-01-14</td>\n      <td>86</td>\n      <td>257731.16</td>\n      <td>88237.33</td>\n      <td>86258.48</td>\n      <td>88441.00</td>\n      <td>9</td>\n      <td>NaN</td>\n      <td>NaN</td>\n    </tr>\n  </tbody>\n</table>\n</div>"
     },
     "metadata": {},
     "execution_count": 223
    }
   ],
   "source": [
    "final_bradlivcred2 = final_bradlivcred.iloc[:,[0,3,4]]\n",
    "final_bradlivcred3 = pd.merge(reporte_pagos_nauc,final_bradlivcred2,on=['Division'],how='left')\n",
    "cols = ['SumaFacturacion','TendenciaCierre1']\n",
    "final_bradlivcred3[cols] = final_bradlivcred3[cols].round(2)\n",
    "final_bradlivcred3"
   ]
  },
  {
   "cell_type": "code",
   "execution_count": 224,
   "metadata": {},
   "outputs": [],
   "source": [
    "writer = pd.ExcelWriter(''+ruta_guardar+'/Avance Pagos '+fecha_fact+'.xlsx',engine='xlsxwriter')\n",
    "final_sucursal.to_excel(writer,'FactSucursal',index=False,header=True)\n",
    "final_mexico.to_excel(writer,'FactCliente',index=False,header=True)\n",
    "final_bradlivcred3.to_excel(writer,'GerEnrique',index=False,header=True)\n",
    "\n",
    "writer.save()"
   ]
  },
  {
   "cell_type": "code",
   "execution_count": null,
   "metadata": {},
   "outputs": [],
   "source": []
  },
  {
   "cell_type": "code",
   "execution_count": null,
   "metadata": {},
   "outputs": [],
   "source": []
  }
 ]
}