{
 "metadata": {
  "language_info": {
   "codemirror_mode": {
    "name": "ipython",
    "version": 3
   },
   "file_extension": ".py",
   "mimetype": "text/x-python",
   "name": "python",
   "nbconvert_exporter": "python",
   "pygments_lexer": "ipython3",
   "version": "3.8.5-final"
  },
  "orig_nbformat": 2,
  "kernelspec": {
   "name": "python3",
   "display_name": "Python 3",
   "language": "python"
  }
 },
 "nbformat": 4,
 "nbformat_minor": 2,
 "cells": [
  {
   "cell_type": "code",
   "execution_count": 1,
   "metadata": {},
   "outputs": [],
   "source": [
    "import pandas as pd \n",
    "import numpy as np \n",
    "import os\n",
    "from unidecode import unidecode\n",
    "from datetime import datetime, date, timedelta\n",
    "import xlrd\n",
    "from xlrd.xldate import xldate_as_tuple\n",
    "import ConeccionesSucursales as cs\n",
    "import matplotlib.pyplot as plt\n",
    "%matplotlib inline"
   ]
  },
  {
   "cell_type": "code",
   "execution_count": 2,
   "metadata": {},
   "outputs": [],
   "source": [
    "#Definimos la ruta en donde queremos guardar los archivos\n",
    "ruta = '/home/estadistico/Documents/Erick/'\n",
    "mes = 20210101\n",
    "mes2 = 'Enero2021'\n",
    "mes3 = pd.to_datetime('01/01/2021',dayfirst=True)\n",
    "fin_mes = pd.to_datetime('31/01/2021',dayfirst=True)\n",
    "quetzal = 2.5\n",
    "dolar = 20\n",
    "meta_baz_renta = 1004000\n",
    "day=26"
   ]
  },
  {
   "source": [
    "# Lectura Pagos"
   ],
   "cell_type": "markdown",
   "metadata": {}
  },
  {
   "cell_type": "code",
   "execution_count": 3,
   "metadata": {},
   "outputs": [],
   "source": [
    "#Lectura pagos Bradesco\n",
    "book = os.listdir(''+ruta+'/'+str(mes2)+'/Bradesco/Pagos/')\n",
    "pagos_brad = pd.DataFrame()\n",
    "for i in book:\n",
    "    pagos_new = pd.read_excel(''+ruta+'/'+str(mes2)+'/Bradesco/Pagos/'+i+'')\n",
    "    pagos_new = pagos_new.iloc[:,0:9]\n",
    "    pagos_brad = pd.concat([pagos_brad,pagos_new],ignore_index=True)\n",
    "    pagos_brad = pagos_brad.drop_duplicates()\n",
    "pagos_brad = pd.pivot_table(pagos_brad,index=['NUMERO_TARJETA','FECHA_PAGO','TIPO_ASIGANCION'],values=['MONTO'],aggfunc=np.sum)\n",
    "pagos_brad = pd.DataFrame(pagos_brad.to_records())\n",
    "pagos_brad = pagos_brad.loc[pagos_brad['FECHA_PAGO']>=mes3]"
   ]
  },
  {
   "cell_type": "code",
   "execution_count": 4,
   "metadata": {},
   "outputs": [],
   "source": [
    "#Lectura pagos Liverpool\n",
    "book =  os.listdir(''+ruta+'/'+str(mes2)+'/Liverpool/Pagos/')\n",
    "sheet_liv = ['SA002REM','SA001REM','DKN04REM','DKN02REM','DKN00REM']\n",
    "pagos_liv = pd.DataFrame()\n",
    "pagos_liv_new = pd.DataFrame()\n",
    "for i in book:\n",
    "    for j in sheet_liv:\n",
    "        pagos_new = pd.read_excel(''+ruta+'/'+str(mes2)+'/Liverpool/Pagos/'+i+'',sheet_name = str(j),converters={'Cuenta':str})\n",
    "        pagos_new.columns = ['Id','Cuenta','Fecha Prom','Fecha Pago','Monto','Posteo']\n",
    "        pagos_liv_new = pd.concat([pagos_liv_new,pagos_new],ignore_index=True)\n",
    "        pagos_liv_new = pagos_liv_new.iloc[:,0:6]\n",
    "    pagos_liv = pd.concat([pagos_liv,pagos_liv_new],ignore_index=True)\n",
    "    pagos_liv = pagos_liv.drop_duplicates()\n",
    "pagos_liv['Fecha Pago'] = pd.to_datetime(pagos_liv['Fecha Pago'],dayfirst=True)\n",
    "pagos_liv = pd.pivot_table(pagos_liv,index=['Id','Cuenta','Fecha Pago','Fecha Prom'],values=['Monto'],aggfunc=np.sum)\n",
    "pagos_liv = pd.DataFrame(pagos_liv.to_records())\n",
    "pagos_liv = pagos_liv.loc[pagos_liv['Fecha Pago']>=mes3]"
   ]
  },
  {
   "cell_type": "code",
   "execution_count": 5,
   "metadata": {},
   "outputs": [],
   "source": [
    "#Lectura pagos Credifiel\n",
    "book = os.listdir(''+ruta+'/'+str(mes2)+'/Credifiel/Pagos/')\n",
    "pagos_cred = pd.DataFrame()\n",
    "for j in book:\n",
    "    pagos_new = pd.read_excel(''+ruta+'/'+str(mes2)+'/Credifiel/Pagos/'+j+'')\n",
    "    pagos_cred = pd.concat([pagos_cred,pagos_new],ignore_index=True)\n",
    "    pagos_cred = pagos_cred.drop_duplicates()\n",
    "#pagos_cred = pagos_cred.iloc[:,[12,1,8]]\n",
    "pagos_cred = pd.pivot_table(pagos_cred,index=['ID','FECHA'],values=['IMPORTE'],aggfunc=np.sum)\n",
    "pagos_cred = pd.DataFrame(pagos_cred.to_records())\n",
    "pagos_cred = pagos_cred.loc[pagos_cred['FECHA']>=mes3]"
   ]
  },
  {
   "cell_type": "code",
   "execution_count": 6,
   "metadata": {},
   "outputs": [],
   "source": [
    "#Lectura pagos Banco Azteca Renta\n",
    "book = os.listdir(''+ruta+'/'+str(mes2)+'/Banco Azteca/Pagos/Renta/')\n",
    "pagos_baz_renta = pd.DataFrame()\n",
    "for i in book:\n",
    "    pagos_new = pd.read_csv(''+ruta+'/'+str(mes2)+'/Banco Azteca/Pagos/Renta/'+i+'')\n",
    "    pagos_baz_renta = pd.concat([pagos_baz_renta,pagos_new],ignore_index=True)\n",
    "pagos_baz_renta = pagos_baz_renta.drop_duplicates()\n",
    "pagos_baz_renta = pagos_baz_renta.loc[pagos_baz_renta['FNMONTOPAGADO']>0]\n",
    "pagos_baz_renta['FDFECHAABONO'] = pd.to_datetime(pagos_baz_renta['FDFECHAABONO'],dayfirst=True)\n",
    "pagos_baz_renta = pagos_baz_renta.loc[pagos_baz_renta['FDFECHAABONO']>=mes3]\n",
    "pagos_baz_renta = pd.pivot_table(pagos_baz_renta,index=['CAMPANAID','FDFECHAABONO','FIIDPERIODO','FNSCOMPROMISO','FCEMPNUMCORTE','FNMONTOPROMETIDO'],values=['FNMONTOPAGADO'],aggfunc=np.sum)\n",
    "pagos_baz_renta = pd.DataFrame(pagos_baz_renta.to_records())\n",
    "pagos_baz_renta = pagos_baz_renta.loc[pagos_baz_renta['FDFECHAABONO']>=mes3]\n",
    "pagos_baz_renta['Cliente'] = 'Banco Azteca'\n",
    "pagos_baz_renta['Division'] = 'Renta'"
   ]
  },
  {
   "cell_type": "code",
   "execution_count": 7,
   "metadata": {},
   "outputs": [],
   "source": [
    "#Lectura pagos Banco Azteca Recovery\n",
    "book = os.listdir(''+ruta+'/'+str(mes2)+'/Banco Azteca/Pagos/Recovery/')\n",
    "pagos_baz_recovery = pd.DataFrame()\n",
    "for i in book:\n",
    "    pagos_new = pd.read_csv(''+ruta+'/'+str(mes2)+'/Banco Azteca/Pagos/Recovery/'+i+'',sep='|')\n",
    "    pagos_baz_recovery = pd.concat([pagos_baz_recovery,pagos_new],ignore_index=True)\n",
    "pagos_baz_recovery['DIA'] = pd.to_datetime(pagos_baz_recovery['DIA'],dayfirst=True)\n",
    "pagos_baz_recovery = pagos_baz_recovery.loc[pagos_baz_recovery['DIA']>=mes3]\n",
    "pagos_baz_recovery = pagos_baz_recovery.loc[pagos_baz_recovery['DIA']>=mes3]\n",
    "pagos_baz_recovery['credito'] = pagos_baz_recovery['PAIS'].map(str)+'-'+pagos_baz_recovery['CANAL'].map(str)+'-'+pagos_baz_recovery['SUCURSAL'].map(str)+'-'+pagos_baz_recovery['FOLIO'].map(str)\n",
    "pagos_baz_recovery = pagos_baz_recovery.drop_duplicates()\n",
    "pagos_baz_recovery['Cliente'] = 'Banco Azteca'\n",
    "pagos_baz_recovery['Division'] = 'Recovery'"
   ]
  },
  {
   "cell_type": "code",
   "execution_count": 8,
   "metadata": {},
   "outputs": [],
   "source": [
    "#Lectura pagos Banco Azteca 26-39\n",
    "book = os.listdir(''+ruta+'/'+str(mes2)+'/Banco Azteca/Pagos/26-39/')\n",
    "pagos_baz_26 = pd.DataFrame()\n",
    "for i in book:\n",
    "    pagos_new = pd.read_csv(''+ruta+'/'+str(mes2)+'/Banco Azteca/Pagos/26-39/'+i+'',sep='|')\n",
    "    pagos_baz_26 = pd.concat([pagos_baz_26,pagos_new],ignore_index=True)\n",
    "pagos_baz_26['DIA'] = pd.to_datetime(pagos_baz_26['DIA'],dayfirst=True)\n",
    "pagos_baz_26 = pagos_baz_26.loc[pagos_baz_26['DIA']>=mes3]\n",
    "pagos_baz_26['credito'] = pagos_baz_26['PAIS'].map(str)+'-'+pagos_baz_26['CANAL'].map(str)+'-'+pagos_baz_26['SUCURSAL'].map(str)+'-'+pagos_baz_26['FOLIO'].map(str)\n",
    "pagos_baz_26 = pagos_baz_26.drop_duplicates()\n",
    "pagos_baz_26['Cliente'] = 'Banco Azteca'\n",
    "pagos_baz_26['Division'] = '26-39'"
   ]
  },
  {
   "cell_type": "code",
   "execution_count": 9,
   "metadata": {},
   "outputs": [],
   "source": [
    "#Leemos facturacion Banco Azteca recovery\n",
    "book = os.listdir(''+ruta+'/'+str(mes2)+'/Banco Azteca/Facturacion/Recovery/')\n",
    "fact_baz_rec = pd.DataFrame()\n",
    "for i in book:\n",
    "    pagos_new = pd.read_csv(''+ruta+'/'+str(mes2)+'/Banco Azteca/Facturacion/Recovery/'+i+'',encoding='utf-8')\n",
    "    fact_baz_rec = pd.concat([fact_baz_rec,pagos_new],ignore_index=True)\n",
    "fact_baz_rec = fact_baz_rec.drop_duplicates()\n",
    "fact_baz_rec['Final de Semana'] = pd.to_datetime(fact_baz_rec['Final de Semana'],dayfirst=True)\n",
    "fact_baz_rec['Inicio de Semana'] = pd.to_datetime(fact_baz_rec['Inicio de Semana'],dayfirst=True)\n",
    "fact_baz_rec['Division'] = 'Recovery'\n",
    "fact_baz_rec['Cliente'] = 'Banco Azteca'"
   ]
  },
  {
   "cell_type": "code",
   "execution_count": 10,
   "metadata": {},
   "outputs": [],
   "source": [
    "#Leemos facturacion Banco Azteca recovery\n",
    "book = os.listdir(''+ruta+'/'+str(mes2)+'/Banco Azteca/Facturacion/26_39/')\n",
    "fact_baz_26_55 = pd.DataFrame()\n",
    "for i in book:\n",
    "    pagos_new = pd.read_csv(''+ruta+'/'+str(mes2)+'/Banco Azteca/Facturacion/26_39/'+i+'',encoding='utf-8')\n",
    "    fact_baz_26_55 = pd.concat([fact_baz_26_55,pagos_new],ignore_index=True)\n",
    "fact_baz_26_55 = fact_baz_26_55.drop_duplicates()\n",
    "fact_baz_26_55['Final de Semana'] = pd.to_datetime(fact_baz_26_55['Final de Semana'],dayfirst=True)\n",
    "fact_baz_26_55['Inicio de Semana'] = pd.to_datetime(fact_baz_26_55['Inicio de Semana'],dayfirst=True)\n",
    "fact_baz_26_55['Division'] = '26_39'\n",
    "fact_baz_26_55['Cliente'] = 'Banco Azteca'"
   ]
  },
  {
   "cell_type": "code",
   "execution_count": 11,
   "metadata": {},
   "outputs": [],
   "source": [
    "#Lectura pagos Oriflam\n",
    "book = os.listdir(''+ruta+'/'+mes2+'/Torreon/Oriflame/Pagos/')\n",
    "pagos_oriflame = pd.DataFrame()\n",
    "for i in book:\n",
    "    pagos_new = pd.read_excel(''+ruta+'/'+mes2+'/Torreon/Oriflame/Pagos/'+i+'')\n",
    "    pagos_oriflame = pd.concat([pagos_oriflame,pagos_new],ignore_index=True)\n",
    "    pagos_oriflame = pagos_oriflame.drop_duplicates()\n",
    "pagos_oriflame['Cliente'] = 'Oriflame'\n",
    "pagos_oriflame['Factura'] = pagos_oriflame['PAGO_TOTAL']*.1\n",
    "pagos_oriflame = pagos_oriflame.loc[pagos_oriflame['FECHA_PAGO']>=mes3]"
   ]
  },
  {
   "cell_type": "code",
   "execution_count": 12,
   "metadata": {},
   "outputs": [],
   "source": [
    "#Lectura pagos Arabela\n",
    "book = os.listdir(''+ruta+'/'+mes2+'/Torreon/Arabela/Pagos/')\n",
    "pagos_arabela = pd.DataFrame()\n",
    "for i in book:\n",
    "    pagos_new = pd.read_excel(''+ruta+'/'+mes2+'/Torreon/Arabela/Pagos/'+i+'')\n",
    "    pagos_arabela = pd.concat([pagos_arabela,pagos_new],ignore_index=True)\n",
    "    pagos_arabela = pagos_arabela.drop_duplicates()\n",
    "pagos_arabela['Cliente'] = 'Arabela'\n",
    "pagos_arabela['FechaEntrega'] = [datetime.strptime(str(x), '%Y%m%d').strftime('%d/%m/%Y') for x in pagos_arabela['FechaEntrega']]\n",
    "pagos_arabela['FechaEntrega'] = pd.to_datetime(pagos_arabela['FechaEntrega'],dayfirst=True)\n",
    "pagos_arabela = pagos_arabela.loc[pagos_arabela['FechaEntrega']>=mes3]\n",
    "pagos_arabela['factura'] = pagos_arabela['pago']*.22"
   ]
  },
  {
   "cell_type": "code",
   "execution_count": 13,
   "metadata": {},
   "outputs": [],
   "source": [
    "#Lectura pagos invex\n",
    "book = os.listdir(''+ruta+''+mes2+'/Torreon/Invex/Pagos/')\n",
    "pagos_invex = pd.DataFrame()\n",
    "for i in book:\n",
    "    pagos_new = pd.read_excel(''+ruta+'/'+mes2+'/Torreon/Invex/Pagos/'+i+'')\n",
    "    pagos_invex = pd.concat([pagos_invex,pagos_new],ignore_index=True)\n",
    "pagos_invex['Cliente'] = 'Invex_'+pagos_invex['Agencia'].map(str)\n",
    "pagos_invex = pagos_invex.drop_duplicates()\n",
    "# pagos_invex = pagos_invex.loc[pagos_invex['TRAN_POST_DT']>=mes3]"
   ]
  },
  {
   "source": [
    "# Lectura asignaciones"
   ],
   "cell_type": "markdown",
   "metadata": {}
  },
  {
   "cell_type": "code",
   "execution_count": 14,
   "metadata": {},
   "outputs": [],
   "source": [
    "#Asignacion Liverpool\n",
    "asignacion_liv = pd.read_csv(''+ruta+'/Liverpool/Asignacion/Asignaciones csv/Asignacion '+mes2+'.csv',converters={'# CUENTA':str})\n",
    "asignacion_liv = asignacion_liv[['ID AGENCIA', '# CUENTA']]\n",
    "asignacion_liv.columns = ['division','credito']"
   ]
  },
  {
   "cell_type": "code",
   "execution_count": 15,
   "metadata": {},
   "outputs": [],
   "source": [
    "#Asignacion Bradesco\n",
    "asignacion_brad_c0 = pd.read_csv(''+ruta+'/Bradesco/Asignacion_c0/CSV/ASIGNACION C0 '+mes2+'.csv')\n",
    "asignacion_brad_c0 = asignacion_brad_c0.iloc[:,[0,2,3,8,10,11,14,25]]\n",
    "asignacion_brad_extra = pd.read_csv(''+ruta+'/Bradesco/Asignacion_extra/CSV/Asignacion Extra '+mes2+'.csv',encoding= 'unicode_escape')\n",
    "asignacion_brad_extra = asignacion_brad_extra.iloc[:,[0,2,3,5,9,25,26,28]]\n",
    "asignacion_brad_extra.columns = ['CODIGO_ORG','NUMERO_CUENTA','NUMERO_TARJETA','RFC','ESTADO','SALDO_TOTAL','PAGO_DESCUENTO','PAGOSVENCIDOS']\n",
    "\n",
    "asignacion_brad = pd.concat([asignacion_brad_c0,asignacion_brad_extra],ignore_index=True)"
   ]
  },
  {
   "cell_type": "code",
   "execution_count": 16,
   "metadata": {},
   "outputs": [],
   "source": [
    "#Hacemos la consulta de la asignacion\n",
    "book = os.listdir(''+ruta+'/'+mes2+'/Credifiel/Asignacion/')\n",
    "asignacion_cred = pd.DataFrame()\n",
    "for i in book:\n",
    "    new = pd.read_excel(''+ruta+'/Credifiel/Asignacion/Asignacion Credifiel '+mes2+'.xlsx')\n",
    "    asignacion_cred = pd.concat([asignacion_cred,new],ignore_index=True)\n",
    "    asignacion_cred = asignacion_cred[['CREDITO','ARANCEL']]\n",
    "    asignacion_cred = asignacion_cred.drop_duplicates(subset=['CREDITO'])\n",
    "asignacion_cred['CREDITO'] = pd.to_numeric(asignacion_cred['CREDITO'])"
   ]
  },
  {
   "cell_type": "code",
   "execution_count": 17,
   "metadata": {},
   "outputs": [],
   "source": [
    "# #Asignacion Banco Azteca Renta\n",
    "# book = os.listdir(''+ruta+'/'+mes2+'/Banco Azteca/Asignacion/Renta/')\n",
    "# asignacion_renta = pd.DataFrame()\n",
    "# for i in book:\n",
    "#     asignacion_new = pd.read_excel(''+ruta+'/'+mes2+'/Banco Azteca/Asignacion/Renta/'+i+'')\n",
    "#     asignacion_renta = pd.concat([asignacion_renta,asignacion_new],ignore_index=True)"
   ]
  },
  {
   "source": [
    "# Parametros a ajustar"
   ],
   "cell_type": "markdown",
   "metadata": {}
  },
  {
   "cell_type": "code",
   "execution_count": 18,
   "metadata": {},
   "outputs": [],
   "source": [
    "#Hacemos la asignacion de cada una de las metas para cambiar de arancel sin tomar el 0 en cuenta\n",
    "c04pv1, arancel_4pv1 = 1204704, .07\n",
    "c04pv2, arancel_4pv2 = 1807056, .09\n",
    "c04pv3, arancel_4pv3 = 2409407, .12\n",
    "c05pv1, arancel_5pv1 = 662269, .09\n",
    "c05pv2, arancel_5pv2 = 993403, .10\n",
    "c05pv3, arancel_5pv3 = 1324538, .14\n",
    "c06pv1, arancel_6pv1 = 807172, .10\n",
    "c06pv2, arancel_6pv2 = 1210759, .11\n",
    "c06pv3, arancel_6pv3 = 1614345, .16\n",
    "a1, arancel_a1 = 260190, .27\n",
    "a2, arancel_a2 = 390285, .30\n",
    "a3, arancel_a3 = 520381, .33\n",
    "b1, arancel_b1 = 215083, .25\n",
    "b2, arancel_b2 = 322624, .28\n",
    "b3, arancel_b3 = 430165, .31\n",
    "c11, arancel_c11 = 1430989, .17\n",
    "c12, arancel_c12 = 2146483, .20\n",
    "c13, arancel_c13 = 2861978, .23\n",
    "c21, arancel_c21 = 626634, .19\n",
    "c22, arancel_c22 = 939951, .22\n",
    "c23, arancel_c23 = 1253267, .25\n",
    "c31, arancel_c31 = 246425, .21\n",
    "c32, arancel_c32 = 369637, .24\n",
    "c33, arancel_c33 = 492849, .27\n",
    "c41, arancel_c41 = 123529, .23\n",
    "c42, arancel_c42 = 185294, .26\n",
    "c43, arancel_c43 = 247059, .29"
   ]
  },
  {
   "cell_type": "code",
   "execution_count": 19,
   "metadata": {},
   "outputs": [],
   "source": [
    "#Hacemos la asignacion de cada una de las metas para cambiar de arancel sin tomar el 0 en cuenta\n",
    "cof, arancel_cof,arancel_cof2 = 300000, .5, .5\n",
    "sub, arancel_sub, arancel_sub2 = 300000, .15, .2\n",
    "subdic, arancel_subdic, arancel_subdic2 = 350000, .16, .2\n",
    "n2, arancel_n2, arancel_n22 = 650000, .4, .5\n",
    "pren, arancel_pren, arancel_pren2 = 300000, .28, .28"
   ]
  },
  {
   "cell_type": "code",
   "execution_count": 20,
   "metadata": {},
   "outputs": [
    {
     "output_type": "execute_result",
     "data": {
      "text/plain": [
       "        Cliente     Meta  Facturacion  FechaFact\n",
       "0          Avon   890000    171972.03 2021-01-20\n",
       "1      Oriflame    65000     38500.00 2021-01-26\n",
       "2         Invex  1095000    819614.00 2021-01-26\n",
       "3       Arabela    95000     65106.00 2021-01-26\n",
       "4        Cimaco     3500       547.00 2021-01-10\n",
       "5  Cristian Lay     6000      2896.00 2021-01-24"
      ],
      "text/html": "<div>\n<style scoped>\n    .dataframe tbody tr th:only-of-type {\n        vertical-align: middle;\n    }\n\n    .dataframe tbody tr th {\n        vertical-align: top;\n    }\n\n    .dataframe thead th {\n        text-align: right;\n    }\n</style>\n<table border=\"1\" class=\"dataframe\">\n  <thead>\n    <tr style=\"text-align: right;\">\n      <th></th>\n      <th>Cliente</th>\n      <th>Meta</th>\n      <th>Facturacion</th>\n      <th>FechaFact</th>\n    </tr>\n  </thead>\n  <tbody>\n    <tr>\n      <th>0</th>\n      <td>Avon</td>\n      <td>890000</td>\n      <td>171972.03</td>\n      <td>2021-01-20</td>\n    </tr>\n    <tr>\n      <th>1</th>\n      <td>Oriflame</td>\n      <td>65000</td>\n      <td>38500.00</td>\n      <td>2021-01-26</td>\n    </tr>\n    <tr>\n      <th>2</th>\n      <td>Invex</td>\n      <td>1095000</td>\n      <td>819614.00</td>\n      <td>2021-01-26</td>\n    </tr>\n    <tr>\n      <th>3</th>\n      <td>Arabela</td>\n      <td>95000</td>\n      <td>65106.00</td>\n      <td>2021-01-26</td>\n    </tr>\n    <tr>\n      <th>4</th>\n      <td>Cimaco</td>\n      <td>3500</td>\n      <td>547.00</td>\n      <td>2021-01-10</td>\n    </tr>\n    <tr>\n      <th>5</th>\n      <td>Cristian Lay</td>\n      <td>6000</td>\n      <td>2896.00</td>\n      <td>2021-01-24</td>\n    </tr>\n  </tbody>\n</table>\n</div>"
     },
     "metadata": {},
     "execution_count": 20
    }
   ],
   "source": [
    "#Metas Naucalpan\n",
    "meta_naucalpan = pd.read_excel(''+ruta+'Metas/Metas '+mes2+'.xlsx',sheet_name='Naucalpan')\n",
    "#Metas Torreon\n",
    "meta_torreon = pd.read_excel(''+ruta+'Metas/Metas '+mes2+'.xlsx',sheet_name='Torreon')\n",
    "meta_torreon"
   ]
  },
  {
   "source": [
    "# Analisis"
   ],
   "cell_type": "markdown",
   "metadata": {}
  },
  {
   "cell_type": "code",
   "execution_count": 21,
   "metadata": {},
   "outputs": [],
   "source": [
    "#Asignamos valores a los parametros \\n\"\n",
    "today = date.today().strftime('%Y%m%d')\n",
    "now = datetime.now().strftime('%d-%m-%Y %H-%M')\n",
    "hoy = np.datetime64('today')\n",
    "ayer = np.datetime64(date.today() - timedelta(1))\n",
    "today2 = date.today().strftime('%d-%m-%Y')"
   ]
  },
  {
   "cell_type": "code",
   "execution_count": 22,
   "metadata": {},
   "outputs": [],
   "source": [
    "#Funcion para transformar varias columnas a numero\n",
    "def transform_numeric(df,cols):\n",
    "    return df[cols].apply(pd.to_numeric, errors='coerce')\n",
    "\n",
    "#Funcion que convierte a dataframe y rellena espacios con 0\n",
    "def to_dataframe(df):\n",
    "    df = pd.DataFrame(df.to_records())\n",
    "    df.fillna(0,inplace=True)\n",
    "    return df"
   ]
  },
  {
   "source": [
    "# $\\textbf{Naucalpan}$"
   ],
   "cell_type": "markdown",
   "metadata": {}
  },
  {
   "source": [
    "# Liverpool"
   ],
   "cell_type": "markdown",
   "metadata": {}
  },
  {
   "cell_type": "code",
   "execution_count": 23,
   "metadata": {},
   "outputs": [],
   "source": [
    "#Hacemos la consulta referente a las gestiones de Liverpool\n",
    "gestion_liv_mes = cs.query_naucalpan('liverpool_rpt_gestiones_detallado',mes,today)\n",
    "gestion_liv_mes.columns = ['folio_gestion','firma_id','unegocio_id','credito','nombre_credito','telefono','tipo_telefono','fecha_gestion','usuario','nombre_usuario','dictamen','accion','resultado','fecha_promesa','monto_promesa','comentarios']\n",
    "gestion_liv_mes = gestion_liv_mes.loc[gestion_liv_mes['dictamen']=='PROMESA']\n",
    "gestion_liv_mes['anio'] = [int(x[:4]) for x in gestion_liv_mes['fecha_promesa']]\n",
    "gestion_liv_mes = gestion_liv_mes.loc[(gestion_liv_mes['anio']>2010)&(gestion_liv_mes['anio']<2100)]\n",
    "gestion_liv_mes['fecha_promesa'] = pd.to_datetime(gestion_liv_mes['fecha_promesa'],dayfirst=False)"
   ]
  },
  {
   "cell_type": "code",
   "execution_count": 24,
   "metadata": {},
   "outputs": [],
   "source": [
    "#Hacemos el consolidado\n",
    "consolidado_liv_mes = pd.merge(gestion_liv_mes,asignacion_liv,how='left',on=['credito'])\n",
    "cols = ['monto_promesa']\n",
    "consolidado_liv_mes[cols] = consolidado_liv_mes[cols].apply(pd.to_numeric, errors='coerce')\n",
    "consolidado_liv_mes = consolidado_liv_mes[(consolidado_liv_mes['monto_promesa']>50)]\n",
    "consolidado_liv_mes = consolidado_liv_mes[(consolidado_liv_mes['monto_promesa']<500000)]\n",
    "consolidado_liv_mes['division'].fillna('COBRANZA',inplace=True)\n",
    "consolidado_liv_mes['division'] = consolidado_liv_mes['division'].replace('','COBRANZA')\n",
    "consolidado_liv_mes = consolidado_liv_mes.drop_duplicates(subset = ['usuario','credito','fecha_promesa','monto_promesa'])"
   ]
  },
  {
   "cell_type": "code",
   "execution_count": 25,
   "metadata": {},
   "outputs": [],
   "source": [
    "productos = [('DKN00REM','Liverpool','Penacional'),('DKN02REM','Liverpool Nacional','Nacional2'),('DKN04REM','Liverpool Cof','Cof'),('SA001REM','Liverpool','Suburbia'),('SA002REM','Liverpool','Dictamen')]\n",
    "productos = pd.DataFrame(productos)\n",
    "productos.columns = ['division','id','segmento']\n",
    "consolidado_liv_mes = pd.merge(consolidado_liv_mes,productos,how='left',on=['division'])"
   ]
  },
  {
   "cell_type": "code",
   "execution_count": 26,
   "metadata": {},
   "outputs": [],
   "source": [
    "#Obtenemos los pagos totales por division\n",
    "pagos_totales_liv = pd.pivot_table(pagos_liv,index=['Id'],values=['Monto'],aggfunc=[np.sum])\n",
    "pagos_totales_liv = pd.DataFrame(pagos_totales_liv.to_records())\n",
    "#pagos_totales_liv = pagos_totales_liv2.iloc[:,[0,2,1]]\n",
    "pagos_totales_liv.columns = ['Division','SumaPagos']\n",
    "pagos_totales_liv.fillna(0,inplace=True)"
   ]
  },
  {
   "cell_type": "code",
   "execution_count": 27,
   "metadata": {},
   "outputs": [],
   "source": [
    "#Para cada segmento se le asigna lo que lleva de cada uno\n",
    "DKN00REM = pagos_totales_liv.loc[pagos_totales_liv['Division']=='DKN00REM', 'SumaPagos'].item()\n",
    "DKN02REM = pagos_totales_liv.loc[pagos_totales_liv['Division']=='DKN02REM', 'SumaPagos'].item()\n",
    "DKN04REM = pagos_totales_liv.loc[pagos_totales_liv['Division']=='DKN04REM', 'SumaPagos'].item()\n",
    "SA001REM = pagos_totales_liv.loc[pagos_totales_liv['Division']=='SA001REM', 'SumaPagos'].item()\n",
    "SA002REM = pagos_totales_liv.loc[pagos_totales_liv['Division']=='SA002REM', 'SumaPagos'].item()"
   ]
  },
  {
   "cell_type": "code",
   "execution_count": 28,
   "metadata": {},
   "outputs": [],
   "source": [
    "#Funcion que asignará el arancel correspondiente\n",
    "def arancel_liv(row):\n",
    "    if row['Id'] == 'DKN00REM' :\n",
    "        return np.where((DKN00REM>0) & (DKN00REM<=pren/arancel_pren),arancel_pren,arancel_pren2)\n",
    "    elif row['Id'] == 'DKN02REM':\n",
    "        return np.where((DKN02REM>0) & (DKN02REM<=n2/arancel_n2),arancel_n2,arancel_n22)\n",
    "    elif row['Id'] == 'DKN04REM':\n",
    "        return np.where((DKN04REM>0) & (DKN04REM<=cof/arancel_cof),arancel_cof,arancel_cof2)\n",
    "    elif row['Id'] == 'SA001REM':\n",
    "        return np.where((SA001REM>0) & (SA001REM<=sub/arancel_sub),arancel_sub,arancel_sub2)\n",
    "    elif row['Id'] == 'SA002REM':\n",
    "        return np.where((SA002REM>0) & (SA002REM<=subdic/arancel_subdic),arancel_subdic,arancel_subdic2)\n",
    "    else:\n",
    "        return 0"
   ]
  },
  {
   "cell_type": "code",
   "execution_count": 29,
   "metadata": {},
   "outputs": [
    {
     "output_type": "execute_result",
     "data": {
      "text/plain": [
       "         Id               Cuenta Fecha Pago  Fecha Prom   Monto  division  \\\n",
       "0  DKN00REM  0000013000000133855 2021-01-08  07/01/2021  4797.0  DKN00REM   \n",
       "\n",
       "          id    segmento Arancel  PagoArancel  \n",
       "0  Liverpool  Penacional    0.28      1343.16  "
      ],
      "text/html": "<div>\n<style scoped>\n    .dataframe tbody tr th:only-of-type {\n        vertical-align: middle;\n    }\n\n    .dataframe tbody tr th {\n        vertical-align: top;\n    }\n\n    .dataframe thead th {\n        text-align: right;\n    }\n</style>\n<table border=\"1\" class=\"dataframe\">\n  <thead>\n    <tr style=\"text-align: right;\">\n      <th></th>\n      <th>Id</th>\n      <th>Cuenta</th>\n      <th>Fecha Pago</th>\n      <th>Fecha Prom</th>\n      <th>Monto</th>\n      <th>division</th>\n      <th>id</th>\n      <th>segmento</th>\n      <th>Arancel</th>\n      <th>PagoArancel</th>\n    </tr>\n  </thead>\n  <tbody>\n    <tr>\n      <th>0</th>\n      <td>DKN00REM</td>\n      <td>0000013000000133855</td>\n      <td>2021-01-08</td>\n      <td>07/01/2021</td>\n      <td>4797.0</td>\n      <td>DKN00REM</td>\n      <td>Liverpool</td>\n      <td>Penacional</td>\n      <td>0.28</td>\n      <td>1343.16</td>\n    </tr>\n  </tbody>\n</table>\n</div>"
     },
     "metadata": {},
     "execution_count": 29
    }
   ],
   "source": [
    "#Aplicamos la funcion para obtener los aranceles\n",
    "pagos_liv2 = pd.merge(pagos_liv,productos,how='left',left_on='Id',right_on='division')\n",
    "pagos_liv2['Arancel'] = pagos_liv2.apply(arancel_liv, axis=1)\n",
    "\n",
    "#Agregamos aranceles al consolidado\n",
    "pagos_liv2['PagoArancel'] = [x*y for x,y in zip(pagos_liv2['Monto'],pagos_liv2['Arancel'])]\n",
    "pagos_liv2['Fecha Pago'] = pd.to_datetime(pagos_liv2['Fecha Pago'],dayfirst=True)\n",
    "pagos_liv2.head(1)"
   ]
  },
  {
   "cell_type": "code",
   "execution_count": 30,
   "metadata": {},
   "outputs": [
    {
     "output_type": "execute_result",
     "data": {
      "text/plain": [
       "     Cliente  Facturacion  FechaFact\n",
       "0  Liverpool    651794.98 2021-01-25"
      ],
      "text/html": "<div>\n<style scoped>\n    .dataframe tbody tr th:only-of-type {\n        vertical-align: middle;\n    }\n\n    .dataframe tbody tr th {\n        vertical-align: top;\n    }\n\n    .dataframe thead th {\n        text-align: right;\n    }\n</style>\n<table border=\"1\" class=\"dataframe\">\n  <thead>\n    <tr style=\"text-align: right;\">\n      <th></th>\n      <th>Cliente</th>\n      <th>Facturacion</th>\n      <th>FechaFact</th>\n    </tr>\n  </thead>\n  <tbody>\n    <tr>\n      <th>0</th>\n      <td>Liverpool</td>\n      <td>651794.98</td>\n      <td>2021-01-25</td>\n    </tr>\n  </tbody>\n</table>\n</div>"
     },
     "metadata": {},
     "execution_count": 30
    }
   ],
   "source": [
    "#Total pagos Liver registrados\n",
    "pagos_liv2['Cliente'] = 'Liverpool'\n",
    "pagos_totales_liv2 = pd.pivot_table(pagos_liv2,index=['Cliente'],values=['PagoArancel'],aggfunc=np.sum,dropna=False)\n",
    "pagos_totales_liv2 = pd.DataFrame(pagos_totales_liv2.to_records())\n",
    "#pagos_totales_liv = pagos_totales_liv.iloc[:,[0,3,1,2]]\n",
    "pagos_totales_liv2.columns = ['Cliente','Facturacion']\n",
    "pagos_totales_liv2.fillna(0,inplace=True)\n",
    "pagos_totales_liv2['Facturacion'] = pagos_totales_liv2['Facturacion'].round(2)\n",
    "pagos_totales_liv2['FechaFact'] = max(pagos_liv2['Fecha Pago'])\n",
    "pagos_totales_liv2['FechaFact'] = pd.to_datetime(pagos_totales_liv2['FechaFact'],dayfirst=True)\n",
    "pagos_totales_liv2"
   ]
  },
  {
   "cell_type": "code",
   "execution_count": 31,
   "metadata": {},
   "outputs": [],
   "source": [
    "#Funcion que asigna el siguiente arancel\n",
    "def sig_arancel_liv(row):\n",
    "    if row['Asignacion'] == 'DKN00REM' :\n",
    "        return np.where((DKN00REM>0) & (DKN00REM<=pren/arancel_pren),round(pren/arancel_pren,1),0)\n",
    "    elif row['Asignacion'] == 'DKN02REM':\n",
    "        return np.where((DKN02REM>0) & (DKN02REM<=n2/arancel_n2),n2/arancel_n2,0)\n",
    "    elif row['Asignacion'] == 'DKN04REM':\n",
    "        return np.where((DKN04REM>0) & (DKN04REM<=cof/arancel_cof),cof/arancel_cof,0)\n",
    "    elif row['Asignacion'] == 'SA001REM':\n",
    "        return np.where((SA001REM>0) & (SA001REM<=sub/arancel_sub),sub/arancel_sub,0)\n",
    "    elif row['Asignacion'] == 'SA002REM':\n",
    "        return np.where((SA002REM>0) & (SA002REM<=subdic/arancel_subdic),subdic/arancel_subdic,0)\n",
    "    else:\n",
    "        return 0"
   ]
  },
  {
   "cell_type": "code",
   "execution_count": 32,
   "metadata": {},
   "outputs": [],
   "source": [
    "#Aplicamos \n",
    "pagos_liv_gerencia = pd.pivot_table(pagos_liv2,index=['Id'],values=['Monto'],aggfunc=[np.sum])\n",
    "pagos_liv_gerencia = pd.DataFrame(pagos_liv_gerencia.to_records())\n",
    "pagos_liv_gerencia.columns = ['Asignacion','Recuperado']\n",
    "pagos_liv_gerencia['SiguienteArancel'] = pagos_liv_gerencia.apply(sig_arancel_liv, axis=1)\n",
    "pagos_liv_gerencia['RestSigArancel'] = pagos_liv_gerencia['SiguienteArancel']-pagos_liv_gerencia['Recuperado']\n",
    "cols = ['Recuperado','SiguienteArancel','RestSigArancel']\n",
    "pagos_liv_gerencia[cols] = pagos_liv_gerencia[cols].round(2)\n",
    "pagos_liv_gerencia['RestSigArancel'] = np.where(pagos_liv_gerencia['RestSigArancel']<0,'Alcanzado',pagos_liv_gerencia['RestSigArancel'])\n",
    "pagos_liv_gerencia = pd.merge(pagos_liv_gerencia,productos,how='left',left_on='Asignacion',right_on='division')\n",
    "pagos_liv_gerencia = pagos_liv_gerencia.iloc[:,[6,1,2,3]]\n",
    "pagos_liv_gerencia.columns = ['Division','Recuperado','SiguienteArancel','RestSigArancel']"
   ]
  },
  {
   "cell_type": "code",
   "execution_count": 33,
   "metadata": {},
   "outputs": [],
   "source": [
    "#Unimos el consolidado con los pagos \n",
    "consolidado_pagos_liv = pd.merge(consolidado_liv_mes,pagos_liv2[['Id','Cuenta','Fecha Pago','Monto','id','segmento','Arancel','PagoArancel']],how='left',left_on=['credito'],right_on=['Cuenta'])\n",
    "consolidado_pagos_liv = consolidado_pagos_liv.drop_duplicates(subset = ['credito','Monto','usuario','fecha_promesa'])\n",
    "consolidado_pagos_liv['Fecha Pago'] = pd.to_datetime(consolidado_pagos_liv['Fecha Pago'],dayfirst=True)\n",
    "consolidado_pagos_liv['dia_prom'] = consolidado_pagos_liv['fecha_promesa'].dt.day\n",
    "consolidado_pagos_liv['dia_pago'] = consolidado_pagos_liv['Fecha Pago'].dt.day\n",
    "cols = ['dia_prom','dia_pago','Monto']\n",
    "consolidado_pagos_liv[cols] = consolidado_pagos_liv[cols].apply(pd.to_numeric, errors='coerce',downcast='integer')\n",
    "consolidado_pagos_liv['dia_pago'].fillna(0,inplace=True)\n",
    "consolidado_pagos_liv['dia_pago'] = [int(x) for x in consolidado_pagos_liv['dia_pago']]"
   ]
  },
  {
   "cell_type": "code",
   "execution_count": 34,
   "metadata": {},
   "outputs": [],
   "source": [
    "#Condicionamos a los gestores cuyas promesas y pagos estan en un plazo de 3 dias\n",
    "consolidado_pagos_liv['PagoReal'] = [np.where((z < x+pd.Timedelta(3, unit='D')) & ((z > x-pd.Timedelta(3, unit='D') )), y, 0) for x,y,z in zip(consolidado_pagos_liv['fecha_promesa'],consolidado_pagos_liv['Monto'],consolidado_pagos_liv['Fecha Pago'])]\n",
    "consolidado_pagos_liv['PagoReal'] = [x.item() for x in consolidado_pagos_liv['PagoReal']]\n",
    "consolidado_pagos_liv['MontoArancel'] = [x*y for x,y in zip(consolidado_pagos_liv['PagoReal'],consolidado_pagos_liv['Arancel'])]"
   ]
  },
  {
   "cell_type": "code",
   "execution_count": 35,
   "metadata": {},
   "outputs": [
    {
     "output_type": "execute_result",
     "data": {
      "text/plain": [
       "     Division  Facturacion  FechaFact\n",
       "0         Cof    202914.61 2021-01-25\n",
       "1    Dictamen      2809.76 2021-01-25\n",
       "2   Nacional2    208737.20 2021-01-25\n",
       "3  Penacional    202896.40 2021-01-25\n",
       "4    Suburbia     34437.01 2021-01-25"
      ],
      "text/html": "<div>\n<style scoped>\n    .dataframe tbody tr th:only-of-type {\n        vertical-align: middle;\n    }\n\n    .dataframe tbody tr th {\n        vertical-align: top;\n    }\n\n    .dataframe thead th {\n        text-align: right;\n    }\n</style>\n<table border=\"1\" class=\"dataframe\">\n  <thead>\n    <tr style=\"text-align: right;\">\n      <th></th>\n      <th>Division</th>\n      <th>Facturacion</th>\n      <th>FechaFact</th>\n    </tr>\n  </thead>\n  <tbody>\n    <tr>\n      <th>0</th>\n      <td>Cof</td>\n      <td>202914.61</td>\n      <td>2021-01-25</td>\n    </tr>\n    <tr>\n      <th>1</th>\n      <td>Dictamen</td>\n      <td>2809.76</td>\n      <td>2021-01-25</td>\n    </tr>\n    <tr>\n      <th>2</th>\n      <td>Nacional2</td>\n      <td>208737.20</td>\n      <td>2021-01-25</td>\n    </tr>\n    <tr>\n      <th>3</th>\n      <td>Penacional</td>\n      <td>202896.40</td>\n      <td>2021-01-25</td>\n    </tr>\n    <tr>\n      <th>4</th>\n      <td>Suburbia</td>\n      <td>34437.01</td>\n      <td>2021-01-25</td>\n    </tr>\n  </tbody>\n</table>\n</div>"
     },
     "metadata": {},
     "execution_count": 35
    }
   ],
   "source": [
    "#Total pagos Liver registrados\n",
    "pagos_totales_liv3 = pd.pivot_table(pagos_liv2,index=['segmento'],values=['PagoArancel'],aggfunc=np.sum,dropna=False)\n",
    "pagos_totales_liv3 = pd.DataFrame(pagos_totales_liv3.to_records())\n",
    "#pagos_totales_liv = pagos_totales_liv.iloc[:,[0,3,1,2]]\n",
    "pagos_totales_liv3.columns = ['Division','Facturacion']\n",
    "pagos_totales_liv3.fillna(0,inplace=True)\n",
    "pagos_totales_liv3['Facturacion'] = pagos_totales_liv3['Facturacion'].round(2)\n",
    "pagos_totales_liv3['FechaFact'] = max(pagos_liv2['Fecha Pago'])\n",
    "pagos_totales_liv3['FechaFact'] = pd.to_datetime(pagos_totales_liv3['FechaFact'],dayfirst=True)\n",
    "pagos_totales_liv3"
   ]
  },
  {
   "cell_type": "code",
   "execution_count": 36,
   "metadata": {},
   "outputs": [
    {
     "output_type": "execute_result",
     "data": {
      "text/plain": [
       "     Division  NumeroPromesas  SumaPromesas\n",
       "0         Cof              94     468365.44\n",
       "1    Dictamen               8      18735.00\n",
       "2   Nacional2             129     664691.72\n",
       "3  Penacional             178     866595.74\n",
       "4    Suburbia             177     273933.82"
      ],
      "text/html": "<div>\n<style scoped>\n    .dataframe tbody tr th:only-of-type {\n        vertical-align: middle;\n    }\n\n    .dataframe tbody tr th {\n        vertical-align: top;\n    }\n\n    .dataframe thead th {\n        text-align: right;\n    }\n</style>\n<table border=\"1\" class=\"dataframe\">\n  <thead>\n    <tr style=\"text-align: right;\">\n      <th></th>\n      <th>Division</th>\n      <th>NumeroPromesas</th>\n      <th>SumaPromesas</th>\n    </tr>\n  </thead>\n  <tbody>\n    <tr>\n      <th>0</th>\n      <td>Cof</td>\n      <td>94</td>\n      <td>468365.44</td>\n    </tr>\n    <tr>\n      <th>1</th>\n      <td>Dictamen</td>\n      <td>8</td>\n      <td>18735.00</td>\n    </tr>\n    <tr>\n      <th>2</th>\n      <td>Nacional2</td>\n      <td>129</td>\n      <td>664691.72</td>\n    </tr>\n    <tr>\n      <th>3</th>\n      <td>Penacional</td>\n      <td>178</td>\n      <td>866595.74</td>\n    </tr>\n    <tr>\n      <th>4</th>\n      <td>Suburbia</td>\n      <td>177</td>\n      <td>273933.82</td>\n    </tr>\n  </tbody>\n</table>\n</div>"
     },
     "metadata": {},
     "execution_count": 36
    }
   ],
   "source": [
    "#Obtenemos datos de los gestores de Liverpool\n",
    "promesas_mes_liv = pd.pivot_table(consolidado_pagos_liv,index=['segmento_y'],values=['monto_promesa'],aggfunc=['count',np.sum],dropna=False)\n",
    "promesas_mes_liv = pd.DataFrame(promesas_mes_liv.to_records())\n",
    "promesas_mes_liv.columns = ['Division','NumeroPromesas','SumaPromesas']\n",
    "promesas_mes_liv.fillna(0,inplace=True)\n",
    "promesas_mes_liv"
   ]
  },
  {
   "cell_type": "code",
   "execution_count": 37,
   "metadata": {},
   "outputs": [
    {
     "output_type": "execute_result",
     "data": {
      "text/plain": [
       "     Division  PromesasRestantes\n",
       "0         Cof          113978.00\n",
       "1   Nacional2          101492.00\n",
       "2  Penacional           95404.87\n",
       "3    Suburbia           64694.10"
      ],
      "text/html": "<div>\n<style scoped>\n    .dataframe tbody tr th:only-of-type {\n        vertical-align: middle;\n    }\n\n    .dataframe tbody tr th {\n        vertical-align: top;\n    }\n\n    .dataframe thead th {\n        text-align: right;\n    }\n</style>\n<table border=\"1\" class=\"dataframe\">\n  <thead>\n    <tr style=\"text-align: right;\">\n      <th></th>\n      <th>Division</th>\n      <th>PromesasRestantes</th>\n    </tr>\n  </thead>\n  <tbody>\n    <tr>\n      <th>0</th>\n      <td>Cof</td>\n      <td>113978.00</td>\n    </tr>\n    <tr>\n      <th>1</th>\n      <td>Nacional2</td>\n      <td>101492.00</td>\n    </tr>\n    <tr>\n      <th>2</th>\n      <td>Penacional</td>\n      <td>95404.87</td>\n    </tr>\n    <tr>\n      <th>3</th>\n      <td>Suburbia</td>\n      <td>64694.10</td>\n    </tr>\n  </tbody>\n</table>\n</div>"
     },
     "metadata": {},
     "execution_count": 37
    }
   ],
   "source": [
    "#Obtenemos las promesas restantes a partir del día de hoy\n",
    "restantes_liv = consolidado_pagos_liv.loc[(consolidado_pagos_liv['fecha_promesa']>=ayer)&(consolidado_pagos_liv['fecha_promesa']<=fin_mes)]\n",
    "promesas_restantes_liv = pd.pivot_table(restantes_liv,index=['segmento_y'],values=['monto_promesa'],aggfunc=[np.sum],dropna=False)\n",
    "promesas_restantes_liv = pd.DataFrame(promesas_restantes_liv.to_records())\n",
    "promesas_restantes_liv.columns = ['Division','PromesasRestantes']\n",
    "promesas_mes_liv.fillna(0,inplace=True)\n",
    "promesas_restantes_liv"
   ]
  },
  {
   "cell_type": "code",
   "execution_count": 38,
   "metadata": {},
   "outputs": [
    {
     "output_type": "execute_result",
     "data": {
      "text/plain": [
       "     Cliente  Facturacion  FechaFact\n",
       "0  Liverpool    651794.98 2021-01-25"
      ],
      "text/html": "<div>\n<style scoped>\n    .dataframe tbody tr th:only-of-type {\n        vertical-align: middle;\n    }\n\n    .dataframe tbody tr th {\n        vertical-align: top;\n    }\n\n    .dataframe thead th {\n        text-align: right;\n    }\n</style>\n<table border=\"1\" class=\"dataframe\">\n  <thead>\n    <tr style=\"text-align: right;\">\n      <th></th>\n      <th>Cliente</th>\n      <th>Facturacion</th>\n      <th>FechaFact</th>\n    </tr>\n  </thead>\n  <tbody>\n    <tr>\n      <th>0</th>\n      <td>Liverpool</td>\n      <td>651794.98</td>\n      <td>2021-01-25</td>\n    </tr>\n  </tbody>\n</table>\n</div>"
     },
     "metadata": {},
     "execution_count": 38
    }
   ],
   "source": [
    "pagos_totales_liv2"
   ]
  },
  {
   "cell_type": "code",
   "execution_count": 39,
   "metadata": {},
   "outputs": [
    {
     "output_type": "execute_result",
     "data": {
      "text/plain": [
       "     Cliente    Division  Facturacion  FechaFact  Recuperado RestSigArancel  \\\n",
       "0  Liverpool         Cof    202914.61 2021-01-25   405829.22         194171   \n",
       "1  Liverpool    Dictamen      2809.76 2021-01-25    17561.00    2.16994e+06   \n",
       "2  Liverpool   Nacional2    208737.20 2021-01-25   521842.99    1.10316e+06   \n",
       "3  Liverpool  Penacional    202896.40 2021-01-25   724630.00         346799   \n",
       "4  Liverpool    Suburbia     34437.01 2021-01-25   229580.06    1.77042e+06   \n",
       "\n",
       "   PromesasRestantes  \n",
       "0          113978.00  \n",
       "1                NaN  \n",
       "2          101492.00  \n",
       "3           95404.87  \n",
       "4           64694.10  "
      ],
      "text/html": "<div>\n<style scoped>\n    .dataframe tbody tr th:only-of-type {\n        vertical-align: middle;\n    }\n\n    .dataframe tbody tr th {\n        vertical-align: top;\n    }\n\n    .dataframe thead th {\n        text-align: right;\n    }\n</style>\n<table border=\"1\" class=\"dataframe\">\n  <thead>\n    <tr style=\"text-align: right;\">\n      <th></th>\n      <th>Cliente</th>\n      <th>Division</th>\n      <th>Facturacion</th>\n      <th>FechaFact</th>\n      <th>Recuperado</th>\n      <th>RestSigArancel</th>\n      <th>PromesasRestantes</th>\n    </tr>\n  </thead>\n  <tbody>\n    <tr>\n      <th>0</th>\n      <td>Liverpool</td>\n      <td>Cof</td>\n      <td>202914.61</td>\n      <td>2021-01-25</td>\n      <td>405829.22</td>\n      <td>194171</td>\n      <td>113978.00</td>\n    </tr>\n    <tr>\n      <th>1</th>\n      <td>Liverpool</td>\n      <td>Dictamen</td>\n      <td>2809.76</td>\n      <td>2021-01-25</td>\n      <td>17561.00</td>\n      <td>2.16994e+06</td>\n      <td>NaN</td>\n    </tr>\n    <tr>\n      <th>2</th>\n      <td>Liverpool</td>\n      <td>Nacional2</td>\n      <td>208737.20</td>\n      <td>2021-01-25</td>\n      <td>521842.99</td>\n      <td>1.10316e+06</td>\n      <td>101492.00</td>\n    </tr>\n    <tr>\n      <th>3</th>\n      <td>Liverpool</td>\n      <td>Penacional</td>\n      <td>202896.40</td>\n      <td>2021-01-25</td>\n      <td>724630.00</td>\n      <td>346799</td>\n      <td>95404.87</td>\n    </tr>\n    <tr>\n      <th>4</th>\n      <td>Liverpool</td>\n      <td>Suburbia</td>\n      <td>34437.01</td>\n      <td>2021-01-25</td>\n      <td>229580.06</td>\n      <td>1.77042e+06</td>\n      <td>64694.10</td>\n    </tr>\n  </tbody>\n</table>\n</div>"
     },
     "metadata": {},
     "execution_count": 39
    }
   ],
   "source": [
    "final_liv = pd.merge(pagos_totales_liv3,pagos_liv_gerencia,how='left',on='Division')\n",
    "final_liv = pd.merge(final_liv,promesas_restantes_liv,how='left',on='Division')\n",
    "#final_liv.insert(loc=0,column='Cliente',value='Liverpool')\n",
    "final_liv.drop('SiguienteArancel',axis=1,inplace=True)\n",
    "final_liv.insert(loc=0,column='Cliente',value='Liverpool')\n",
    "final_liv"
   ]
  },
  {
   "source": [
    "# Bradesco"
   ],
   "cell_type": "markdown",
   "metadata": {}
  },
  {
   "cell_type": "code",
   "execution_count": 40,
   "metadata": {},
   "outputs": [],
   "source": [
    "#Hacemos la consulta referente a las gestiones de Bradesco\n",
    "gestion_brad_mes = cs.query_naucalpan('bradescard_rpt_gestiones_detallado',mes,today)\n",
    "gestion_brad_mes.columns = ['folio_gestion','firma_id','unegocio_id','NUMERO_TARJETA','nombre_credito','telefono','tipo_telefono','fecha_gestion','usuario','nombre_usuario','dictamen','accion','resultado','accion_resultado','fecha_promesa','monto_promesa','comentarios']\n",
    "gestion_brad_mes = gestion_brad_mes.loc[gestion_brad_mes['dictamen']=='PROMESA']\n",
    "gestion_brad_mes['NUMERO_TARJETA'] = pd.to_numeric(gestion_brad_mes['NUMERO_TARJETA'])\n",
    "gestion_brad_mes['monto_promesa'] = pd.to_numeric(gestion_brad_mes['monto_promesa'])\n",
    "gestion_brad_mes = gestion_brad_mes.drop_duplicates(subset=['NUMERO_TARJETA','usuario','fecha_promesa','monto_promesa'])\n",
    "gestion_brad_mes = gestion_brad_mes.loc[(gestion_brad_mes['fecha_promesa'].notnull())&(gestion_brad_mes['fecha_promesa']!='')]\n",
    "gestion_brad_mes = gestion_brad_mes.loc[(gestion_brad_mes['fecha_promesa'].str[:4].map(int)<=2100)&(gestion_brad_mes['fecha_promesa'].str[:4].map(int)>=2000)]\n",
    "gestion_brad_mes['fecha_promesa'] = pd.to_datetime(gestion_brad_mes['fecha_promesa'],dayfirst=False)"
   ]
  },
  {
   "cell_type": "code",
   "execution_count": 41,
   "metadata": {},
   "outputs": [],
   "source": [
    "#Hacemos la union de asignacion y promesas\n",
    "consolidado_brad_mes = pd.merge(gestion_brad_mes,asignacion_brad,how='left',on=['NUMERO_TARJETA'])\n",
    "cols = ['monto_promesa']\n",
    "consolidado_brad_mes[cols] = consolidado_brad_mes[cols].apply(pd.to_numeric, errors='coerce')\n",
    "consolidado_brad_mes = consolidado_brad_mes[(consolidado_brad_mes['monto_promesa']>50)]\n",
    "consolidado_brad_mes = consolidado_brad_mes[(consolidado_brad_mes['monto_promesa']<500000)]\n",
    "#consolidado_brad_mes.fillna('COBRANZA',inplace=True)\n",
    "consolidado_brad_mes['NUMERO_TARJETA'] = pd.to_numeric(consolidado_brad_mes['NUMERO_TARJETA'])"
   ]
  },
  {
   "cell_type": "code",
   "execution_count": 42,
   "metadata": {},
   "outputs": [],
   "source": [
    "#Obtenemos los pagos totales por division\n",
    "pagos_totales_brad = pd.pivot_table(pagos_brad,index=['TIPO_ASIGANCION'],values=['MONTO'],aggfunc=[np.sum,'count'],margins=True,dropna=False)\n",
    "pagos_totales_brad = pd.DataFrame(pagos_totales_brad.to_records())\n",
    "pagos_totales_brad = pagos_totales_brad.iloc[:,[0,2,1]]\n",
    "pagos_totales_brad.columns = ['Division','NumeroPagos','SumaPagos']\n",
    "pagos_totales_brad.fillna(0,inplace=True)"
   ]
  },
  {
   "cell_type": "code",
   "execution_count": 43,
   "metadata": {},
   "outputs": [],
   "source": [
    "#Obtenemos el valor para cada segmento\n",
    "C04PV = pagos_totales_brad.loc[pagos_totales_brad['Division']=='C0 4PV', 'SumaPagos'].item()\n",
    "C05PV = pagos_totales_brad.loc[pagos_totales_brad['Division']=='C0 5PV', 'SumaPagos'].item()\n",
    "C06PV = pagos_totales_brad.loc[pagos_totales_brad['Division']=='C0 6PV', 'SumaPagos'].item()\n",
    "A = pagos_totales_brad.loc[pagos_totales_brad['Division']=='A', 'SumaPagos'].item()\n",
    "C1 = pagos_totales_brad.loc[pagos_totales_brad['Division']=='C1', 'SumaPagos'].item()\n",
    "C2 = pagos_totales_brad.loc[pagos_totales_brad['Division']=='C2', 'SumaPagos'].item()\n",
    "C3 = pagos_totales_brad.loc[pagos_totales_brad['Division']=='C3', 'SumaPagos'].item()\n",
    "C4 = pagos_totales_brad.loc[pagos_totales_brad['Division']=='C4', 'SumaPagos'].item()\n",
    "B = pagos_totales_brad.loc[pagos_totales_brad['Division']=='B', 'SumaPagos'].item()"
   ]
  },
  {
   "cell_type": "code",
   "execution_count": 44,
   "metadata": {},
   "outputs": [],
   "source": [
    "#Funcion para asignar siguiente arancel\n",
    "def sig_arancel(row):\n",
    "    if row['Asignacion'] == 'C0 4PV':\n",
    "        return np.where((C04PV>0) & (C04PV<=c04pv1),c04pv1,\n",
    "                        np.where((C04PV>c04pv1) & (C04PV<=c04pv2),c04pv2,c04pv3))\n",
    "    elif row['Asignacion'] == 'C0 5PV':\n",
    "        return np.where((C05PV>0) & (C05PV<=c05pv1),c05pv1,\n",
    "                        np.where((C05PV>c05pv1) & (C05PV<=c05pv2),c05pv2,c05pv3))\n",
    "    elif row['Asignacion'] == 'C0 6PV':\n",
    "        return np.where((C06PV>0) & (C06PV<=c06pv1),c06pv1,\n",
    "                        np.where((C06PV>c06pv1) & (C06PV<=c06pv2),c06pv2,c06pv3))\n",
    "    elif row['Asignacion'] == 'A':\n",
    "        return np.where((A>0) & (A<=a1),a1,\n",
    "                        np.where((A>a1) & (A<=a2),a2,a3))\n",
    "    elif row['Asignacion'] == 'B':\n",
    "        return np.where((B>0) & (B<=b1),b1,\n",
    "                        np.where((B>b1) & (B<=b2),b2,b3))\n",
    "    elif row['Asignacion'] == 'C1':\n",
    "        return np.where((C1>0) & (C1<=c11),c11,\n",
    "                        np.where((C1>c11) & (C1<=c12),c12,c13))\n",
    "    elif row['Asignacion'] == 'C2':\n",
    "        return np.where((C2>0) & (C2<=c21),c21,\n",
    "                        np.where((C2>c21) & (C2<=c22),c22,c23))\n",
    "    elif row['Asignacion'] == 'C3':\n",
    "        return np.where((C3>0) & (C3<=c31),c31,\n",
    "                        np.where((C3>c31) & (C3<=c32),c32,c33))\n",
    "    elif row['Asignacion'] == 'C4':\n",
    "        return np.where((C4>0) & (C4<=c41),c41,\n",
    "                        np.where((C4>c41) & (C4<=c42),c42,c43))\n",
    "    \n",
    "    else:\n",
    "        return 0"
   ]
  },
  {
   "cell_type": "code",
   "execution_count": 45,
   "metadata": {},
   "outputs": [],
   "source": [
    "#Funcion para asignar arancel\n",
    "def func(row):\n",
    "    if row['TIPO_ASIGANCION'] == 'C0 4PV':\n",
    "        return np.where((C04PV>0) & (C04PV<=c04pv1),arancel_4pv1,\n",
    "                        np.where((C04PV>c04pv1) & (C04PV<=c04pv2),arancel_4pv2,\n",
    "                                 np.where((C04PV>c04pv2) & (C04PV<=c04pv3),arancel_4pv3,arancel_4pv3+.04)))\n",
    "    elif row['TIPO_ASIGANCION'] == 'C0 5PV':\n",
    "        return np.where((C05PV>0) & (C05PV<=c05pv1),arancel_5pv1,\n",
    "                        np.where((C05PV>c05pv1) & (C05PV<=c05pv2),arancel_5pv2,\n",
    "                                 np.where((C05PV>c05pv2) & (C05PV<=c05pv3),arancel_5pv3,arancel_5pv3+.04)))\n",
    "    elif row['TIPO_ASIGANCION'] == 'C0 6PV':\n",
    "        return np.where((C06PV>0) & (C06PV<=c06pv1),arancel_6pv1,\n",
    "                        np.where((C06PV>c06pv1) & (C06PV<=c06pv2),arancel_6pv2,\n",
    "                                 np.where((C06PV>c06pv2) & (C06PV<=c06pv3),arancel_6pv3,arancel_6pv3+.04)))\n",
    "    elif row['TIPO_ASIGANCION'] == 'A':\n",
    "        return np.where((A>0) & (A<=a1),arancel_a1,\n",
    "                        np.where((A>a1) & (A<=a2),arancel_a2,\n",
    "                                 np.where((A>a2) & (A<=a3),arancel_a3,arancel_a3+.04)))\n",
    "    elif row['TIPO_ASIGANCION'] == 'B':\n",
    "        return np.where((B>0) & (B<=b1),arancel_b1,\n",
    "                        np.where((B>b1) & (B<=b2),arancel_b2,\n",
    "                                 np.where((B>b2) & (B<=b3),arancel_b3,arancel_b3+.04)))\n",
    "    elif row['TIPO_ASIGANCION'] == 'C1':\n",
    "        return np.where((C1>0) & (C1<=c11),arancel_c11,\n",
    "                        np.where((C1>c11) & (C1<=c12),arancel_c12,\n",
    "                                 np.where((C1>c12) & (C1<=c13),arancel_c13,arancel_c13+.04)))\n",
    "    elif row['TIPO_ASIGANCION'] == 'C2':\n",
    "        return np.where((C2>0) & (C2<=c21),arancel_c21,\n",
    "                        np.where((C2>c21) & (C2<=c22),arancel_c22,\n",
    "                                 np.where((C2>c22) & (C2<=c23),arancel_c23,arancel_c23+.04)))\n",
    "    elif row['TIPO_ASIGANCION'] == 'C3':\n",
    "        return np.where((C3>0) & (C3<=c31),arancel_c31,\n",
    "                        np.where((C3>c31) & (C3<=c32),arancel_c32,\n",
    "                                 np.where((C3>c32) & (C3<=c33),arancel_c33,arancel_c33+.04)))\n",
    "    elif row['TIPO_ASIGANCION'] == 'C4':\n",
    "        return np.where((C4>0) & (C4<=c41),arancel_c41,\n",
    "                        np.where((C4>c41) & (C4<=c42),arancel_c42,\n",
    "                                 np.where((C4>c42) & (C4<=c43),arancel_c43,arancel_c43+.04)))\n",
    "    \n",
    "    else:\n",
    "        return 0"
   ]
  },
  {
   "cell_type": "code",
   "execution_count": 46,
   "metadata": {},
   "outputs": [],
   "source": [
    "#Aplicamos funcion para asignar arancel\n",
    "pagos_brad2 = pagos_brad\n",
    "pagos_brad2['Arancel'] = pagos_brad2.apply(func, axis=1)\n",
    "pagos_brad2['Facturacion'] = [x*y for x,y in zip(pagos_brad2['MONTO'],pagos_brad2['Arancel'])]\n",
    "pagos_brad2['Cliente'] = 'Bradesco'"
   ]
  },
  {
   "cell_type": "code",
   "execution_count": 47,
   "metadata": {},
   "outputs": [
    {
     "output_type": "execute_result",
     "data": {
      "text/plain": [
       "    Cliente  Facturacion  FechaFact\n",
       "0  Bradesco  199040.1783 2021-01-21"
      ],
      "text/html": "<div>\n<style scoped>\n    .dataframe tbody tr th:only-of-type {\n        vertical-align: middle;\n    }\n\n    .dataframe tbody tr th {\n        vertical-align: top;\n    }\n\n    .dataframe thead th {\n        text-align: right;\n    }\n</style>\n<table border=\"1\" class=\"dataframe\">\n  <thead>\n    <tr style=\"text-align: right;\">\n      <th></th>\n      <th>Cliente</th>\n      <th>Facturacion</th>\n      <th>FechaFact</th>\n    </tr>\n  </thead>\n  <tbody>\n    <tr>\n      <th>0</th>\n      <td>Bradesco</td>\n      <td>199040.1783</td>\n      <td>2021-01-21</td>\n    </tr>\n  </tbody>\n</table>\n</div>"
     },
     "metadata": {},
     "execution_count": 47
    }
   ],
   "source": [
    "pagos_totales_brad2 = pd.pivot_table(pagos_brad2,index=['Cliente'],values=['Facturacion'],aggfunc=[np.sum],dropna=False)\n",
    "pagos_totales_brad2 = pd.DataFrame(pagos_totales_brad2.to_records())\n",
    "pagos_totales_brad2.columns = ['Cliente','Facturacion']\n",
    "pagos_totales_brad2.fillna(0,inplace=True)\n",
    "pagos_totales_brad2['FechaFact'] = max(pagos_brad2['FECHA_PAGO'])\n",
    "pagos_totales_brad2"
   ]
  },
  {
   "cell_type": "code",
   "execution_count": 48,
   "metadata": {},
   "outputs": [
    {
     "output_type": "execute_result",
     "data": {
      "text/plain": [
       "  Division  Facturacion  Recuperado RestSigArancel\n",
       "0        A     23473.26    86938.00         173252\n",
       "1        B      6341.00    25364.00         189719\n",
       "2   C0 4PV     33309.52   475850.32         728854\n",
       "3   C0 5PV     17941.69   199352.07         462917\n",
       "4   C0 6PV     15804.45   158044.50         649128\n",
       "5       C1     39580.93   232829.00    1.19816e+06\n",
       "6       C2     36974.54   194602.84         432031\n",
       "7       C3     20586.30    98030.00         148395\n",
       "8       C4      5028.49    21863.00         101666"
      ],
      "text/html": "<div>\n<style scoped>\n    .dataframe tbody tr th:only-of-type {\n        vertical-align: middle;\n    }\n\n    .dataframe tbody tr th {\n        vertical-align: top;\n    }\n\n    .dataframe thead th {\n        text-align: right;\n    }\n</style>\n<table border=\"1\" class=\"dataframe\">\n  <thead>\n    <tr style=\"text-align: right;\">\n      <th></th>\n      <th>Division</th>\n      <th>Facturacion</th>\n      <th>Recuperado</th>\n      <th>RestSigArancel</th>\n    </tr>\n  </thead>\n  <tbody>\n    <tr>\n      <th>0</th>\n      <td>A</td>\n      <td>23473.26</td>\n      <td>86938.00</td>\n      <td>173252</td>\n    </tr>\n    <tr>\n      <th>1</th>\n      <td>B</td>\n      <td>6341.00</td>\n      <td>25364.00</td>\n      <td>189719</td>\n    </tr>\n    <tr>\n      <th>2</th>\n      <td>C0 4PV</td>\n      <td>33309.52</td>\n      <td>475850.32</td>\n      <td>728854</td>\n    </tr>\n    <tr>\n      <th>3</th>\n      <td>C0 5PV</td>\n      <td>17941.69</td>\n      <td>199352.07</td>\n      <td>462917</td>\n    </tr>\n    <tr>\n      <th>4</th>\n      <td>C0 6PV</td>\n      <td>15804.45</td>\n      <td>158044.50</td>\n      <td>649128</td>\n    </tr>\n    <tr>\n      <th>5</th>\n      <td>C1</td>\n      <td>39580.93</td>\n      <td>232829.00</td>\n      <td>1.19816e+06</td>\n    </tr>\n    <tr>\n      <th>6</th>\n      <td>C2</td>\n      <td>36974.54</td>\n      <td>194602.84</td>\n      <td>432031</td>\n    </tr>\n    <tr>\n      <th>7</th>\n      <td>C3</td>\n      <td>20586.30</td>\n      <td>98030.00</td>\n      <td>148395</td>\n    </tr>\n    <tr>\n      <th>8</th>\n      <td>C4</td>\n      <td>5028.49</td>\n      <td>21863.00</td>\n      <td>101666</td>\n    </tr>\n  </tbody>\n</table>\n</div>"
     },
     "metadata": {},
     "execution_count": 48
    }
   ],
   "source": [
    "pagos_brad_gerencia = pd.pivot_table(pagos_brad2,index=['TIPO_ASIGANCION'],values=['MONTO','Facturacion'],aggfunc=[np.sum])\n",
    "pagos_brad_gerencia = pd.DataFrame(pagos_brad_gerencia.to_records())\n",
    "pagos_brad_gerencia.columns = ['Asignacion','Facturacion','Recuperado']\n",
    "pagos_brad_gerencia.fillna(0,inplace=True)\n",
    "pagos_brad_gerencia['SiguienteArancel'] = pagos_brad_gerencia.apply(sig_arancel, axis=1)\n",
    "pagos_brad_gerencia['RestSigArancel'] = pagos_brad_gerencia['SiguienteArancel']-pagos_brad_gerencia['Recuperado']\n",
    "cols = ['Facturacion','Recuperado','SiguienteArancel','RestSigArancel']\n",
    "pagos_brad_gerencia[cols] = pagos_brad_gerencia[cols].round(2)\n",
    "pagos_brad_gerencia = pagos_brad_gerencia.iloc[:,[0,1,2,4]]\n",
    "pagos_brad_gerencia.columns = ['Division','Facturacion','Recuperado','RestSigArancel']\n",
    "pagos_brad_gerencia"
   ]
  },
  {
   "cell_type": "code",
   "execution_count": 49,
   "metadata": {},
   "outputs": [],
   "source": [
    "#Obtenemos datos de las promesas de Bradesco\n",
    "# prom_brad_div_mes = pd.pivot_table(consoliado_pagos_brad2,index='PAGOSVENCIDOS',values=['monto_promesa'], aggfunc = ['count',np.sum], margins=True,dropna=False)\n",
    "# prom_brad_div_mes = pd.DataFrame(prom_brad_div_mes.to_records())\n",
    "# prom_brad_div_mes.columns = ['Division','NumeroPromesas','SumaPromesas']\n",
    "# prom_brad_div_mes.fillna(0,inplace=True)\n",
    "# prom_brad_div_mes"
   ]
  },
  {
   "cell_type": "code",
   "execution_count": 50,
   "metadata": {},
   "outputs": [
    {
     "output_type": "execute_result",
     "data": {
      "text/plain": [
       "  Division  PromesasRestantes\n",
       "0        A             6868.0\n",
       "1        B             5864.0\n",
       "2   C0 4PV           212773.5\n",
       "3   C0 5PV           146938.0\n",
       "4   C0 6PV            42641.0\n",
       "5       C1           128301.0\n",
       "6       C2            91624.0\n",
       "7       C3            27696.0\n",
       "8       C4            10183.0"
      ],
      "text/html": "<div>\n<style scoped>\n    .dataframe tbody tr th:only-of-type {\n        vertical-align: middle;\n    }\n\n    .dataframe tbody tr th {\n        vertical-align: top;\n    }\n\n    .dataframe thead th {\n        text-align: right;\n    }\n</style>\n<table border=\"1\" class=\"dataframe\">\n  <thead>\n    <tr style=\"text-align: right;\">\n      <th></th>\n      <th>Division</th>\n      <th>PromesasRestantes</th>\n    </tr>\n  </thead>\n  <tbody>\n    <tr>\n      <th>0</th>\n      <td>A</td>\n      <td>6868.0</td>\n    </tr>\n    <tr>\n      <th>1</th>\n      <td>B</td>\n      <td>5864.0</td>\n    </tr>\n    <tr>\n      <th>2</th>\n      <td>C0 4PV</td>\n      <td>212773.5</td>\n    </tr>\n    <tr>\n      <th>3</th>\n      <td>C0 5PV</td>\n      <td>146938.0</td>\n    </tr>\n    <tr>\n      <th>4</th>\n      <td>C0 6PV</td>\n      <td>42641.0</td>\n    </tr>\n    <tr>\n      <th>5</th>\n      <td>C1</td>\n      <td>128301.0</td>\n    </tr>\n    <tr>\n      <th>6</th>\n      <td>C2</td>\n      <td>91624.0</td>\n    </tr>\n    <tr>\n      <th>7</th>\n      <td>C3</td>\n      <td>27696.0</td>\n    </tr>\n    <tr>\n      <th>8</th>\n      <td>C4</td>\n      <td>10183.0</td>\n    </tr>\n  </tbody>\n</table>\n</div>"
     },
     "metadata": {},
     "execution_count": 50
    }
   ],
   "source": [
    "#Obtenemos las promesas restantes a partir del día de hoy\n",
    "restantes_brad = consolidado_brad_mes.loc[(consolidado_brad_mes['fecha_promesa']>=ayer)&(consolidado_brad_mes['fecha_promesa']<=fin_mes)]\n",
    "promesas_restantes_brad = pd.pivot_table(restantes_brad,index=['PAGOSVENCIDOS'],values=['monto_promesa'],aggfunc=[np.sum],dropna=False)\n",
    "promesas_restantes_brad = pd.DataFrame(promesas_restantes_brad.to_records())\n",
    "promesas_restantes_brad.columns = ['Division','PromesasRestantes']\n",
    "promesas_restantes_brad.fillna(0,inplace=True)\n",
    "promesas_restantes_brad"
   ]
  },
  {
   "cell_type": "code",
   "execution_count": 51,
   "metadata": {},
   "outputs": [
    {
     "output_type": "execute_result",
     "data": {
      "text/plain": [
       "    Cliente Division  Facturacion  Recuperado RestSigArancel  \\\n",
       "0  Bradesco        A     23473.26    86938.00         173252   \n",
       "1  Bradesco        B      6341.00    25364.00         189719   \n",
       "2  Bradesco   C0 4PV     33309.52   475850.32         728854   \n",
       "3  Bradesco   C0 5PV     17941.69   199352.07         462917   \n",
       "4  Bradesco   C0 6PV     15804.45   158044.50         649128   \n",
       "5  Bradesco       C1     39580.93   232829.00    1.19816e+06   \n",
       "6  Bradesco       C2     36974.54   194602.84         432031   \n",
       "7  Bradesco       C3     20586.30    98030.00         148395   \n",
       "8  Bradesco       C4      5028.49    21863.00         101666   \n",
       "\n",
       "   PromesasRestantes  FechaFact  \n",
       "0             6868.0 2021-01-21  \n",
       "1             5864.0 2021-01-21  \n",
       "2           212773.5 2021-01-21  \n",
       "3           146938.0 2021-01-21  \n",
       "4            42641.0 2021-01-21  \n",
       "5           128301.0 2021-01-21  \n",
       "6            91624.0 2021-01-21  \n",
       "7            27696.0 2021-01-21  \n",
       "8            10183.0 2021-01-21  "
      ],
      "text/html": "<div>\n<style scoped>\n    .dataframe tbody tr th:only-of-type {\n        vertical-align: middle;\n    }\n\n    .dataframe tbody tr th {\n        vertical-align: top;\n    }\n\n    .dataframe thead th {\n        text-align: right;\n    }\n</style>\n<table border=\"1\" class=\"dataframe\">\n  <thead>\n    <tr style=\"text-align: right;\">\n      <th></th>\n      <th>Cliente</th>\n      <th>Division</th>\n      <th>Facturacion</th>\n      <th>Recuperado</th>\n      <th>RestSigArancel</th>\n      <th>PromesasRestantes</th>\n      <th>FechaFact</th>\n    </tr>\n  </thead>\n  <tbody>\n    <tr>\n      <th>0</th>\n      <td>Bradesco</td>\n      <td>A</td>\n      <td>23473.26</td>\n      <td>86938.00</td>\n      <td>173252</td>\n      <td>6868.0</td>\n      <td>2021-01-21</td>\n    </tr>\n    <tr>\n      <th>1</th>\n      <td>Bradesco</td>\n      <td>B</td>\n      <td>6341.00</td>\n      <td>25364.00</td>\n      <td>189719</td>\n      <td>5864.0</td>\n      <td>2021-01-21</td>\n    </tr>\n    <tr>\n      <th>2</th>\n      <td>Bradesco</td>\n      <td>C0 4PV</td>\n      <td>33309.52</td>\n      <td>475850.32</td>\n      <td>728854</td>\n      <td>212773.5</td>\n      <td>2021-01-21</td>\n    </tr>\n    <tr>\n      <th>3</th>\n      <td>Bradesco</td>\n      <td>C0 5PV</td>\n      <td>17941.69</td>\n      <td>199352.07</td>\n      <td>462917</td>\n      <td>146938.0</td>\n      <td>2021-01-21</td>\n    </tr>\n    <tr>\n      <th>4</th>\n      <td>Bradesco</td>\n      <td>C0 6PV</td>\n      <td>15804.45</td>\n      <td>158044.50</td>\n      <td>649128</td>\n      <td>42641.0</td>\n      <td>2021-01-21</td>\n    </tr>\n    <tr>\n      <th>5</th>\n      <td>Bradesco</td>\n      <td>C1</td>\n      <td>39580.93</td>\n      <td>232829.00</td>\n      <td>1.19816e+06</td>\n      <td>128301.0</td>\n      <td>2021-01-21</td>\n    </tr>\n    <tr>\n      <th>6</th>\n      <td>Bradesco</td>\n      <td>C2</td>\n      <td>36974.54</td>\n      <td>194602.84</td>\n      <td>432031</td>\n      <td>91624.0</td>\n      <td>2021-01-21</td>\n    </tr>\n    <tr>\n      <th>7</th>\n      <td>Bradesco</td>\n      <td>C3</td>\n      <td>20586.30</td>\n      <td>98030.00</td>\n      <td>148395</td>\n      <td>27696.0</td>\n      <td>2021-01-21</td>\n    </tr>\n    <tr>\n      <th>8</th>\n      <td>Bradesco</td>\n      <td>C4</td>\n      <td>5028.49</td>\n      <td>21863.00</td>\n      <td>101666</td>\n      <td>10183.0</td>\n      <td>2021-01-21</td>\n    </tr>\n  </tbody>\n</table>\n</div>"
     },
     "metadata": {},
     "execution_count": 51
    }
   ],
   "source": [
    "final_brad = pd.merge(pagos_brad_gerencia,promesas_restantes_brad,on='Division',how='left')\n",
    "final_brad.insert(loc=0,column='Cliente',value='Bradesco')\n",
    "final_brad['FechaFact'] = max(pagos_brad['FECHA_PAGO'])\n",
    "final_brad"
   ]
  },
  {
   "source": [
    "# Credifiel"
   ],
   "cell_type": "markdown",
   "metadata": {}
  },
  {
   "cell_type": "code",
   "execution_count": 52,
   "metadata": {},
   "outputs": [],
   "source": [
    "#Hacemos la consulta referente a las gestiones de Credifiel\n",
    "gestion_cred = cs.query_naucalpan('credifiel_rpt_gestiones_detallado',mes,today)\n",
    "gestion_cred.columns = ['folio_gestion','unegocio_id','fecha_gestion','hora_gestion','credito','nombre_credito','telefono','usuario','nombre_usuario','accion','resultado','fecha_promesa','monto_promesa','comentarios','accion_credifiel','resultado_credifiel','dictamen']\n",
    "gestion_cred['monto_promesa'] = pd.to_numeric(gestion_cred['monto_promesa'])\n",
    "gestion_cred = gestion_cred.loc[gestion_cred['accion_credifiel']=='PDP']\n",
    "gestion_cred['credito'] = [x[3:] for x in gestion_cred['credito']]\n",
    "gestion_cred['credito'] = pd.to_numeric(gestion_cred['credito'])\n",
    "gestion_cred = gestion_cred.loc[(gestion_cred['fecha_promesa'].notnull())&(gestion_cred['fecha_promesa']!='')]\n",
    "gestion_cred = gestion_cred.loc[(gestion_cred['fecha_promesa'].str[:4].map(int)<=2100)&(gestion_cred['fecha_promesa'].str[:4].map(int)>=2000)]\n",
    "gestion_cred['fecha_promesa'] = pd.to_datetime(gestion_cred['fecha_promesa'],dayfirst=False)"
   ]
  },
  {
   "cell_type": "code",
   "execution_count": 53,
   "metadata": {},
   "outputs": [],
   "source": [
    "##Hacemos el consolidado de la asignacion y promesado\n",
    "consolidado_cred = pd.merge(gestion_cred,asignacion_cred,how='left',left_on=['credito'],right_on=['CREDITO'])\n",
    "cols = ['monto_promesa','unegocio_id']\n",
    "consolidado_cred[cols] = consolidado_cred[cols].apply(pd.to_numeric, errors='coerce')\n",
    "consolidado_cred = consolidado_cred.loc[consolidado_cred['monto_promesa']>50]\n",
    "consolidado_cred = consolidado_cred[(consolidado_cred['monto_promesa']<500000)]\n",
    "consolidado_cred['fecha_promesa'] = pd.to_datetime(consolidado_cred['fecha_promesa'],dayfirst=False)\n",
    "consolidado_cred.replace('CONTACTO','EXTRA',inplace=True)"
   ]
  },
  {
   "cell_type": "code",
   "execution_count": 54,
   "metadata": {},
   "outputs": [],
   "source": [
    "pagos_cred3 = pd.merge(pagos_cred,asignacion_cred,how='left',left_on=['ID'],right_on=['CREDITO'])\n",
    "pagos_cred3.dropna(subset=['ARANCEL'],inplace=True)\n",
    "pagos_cred3['PagoFacturacion'] = [x*y for x,y in zip(pagos_cred3['ARANCEL'],pagos_cred3['IMPORTE'])]\n",
    "pagos_cred3['division'] = 'EXTRA'\n",
    "pagos_cred3 = pagos_cred3.drop_duplicates(subset=['ID','IMPORTE'])"
   ]
  },
  {
   "cell_type": "code",
   "execution_count": 55,
   "metadata": {},
   "outputs": [
    {
     "output_type": "execute_result",
     "data": {
      "text/plain": [
       "  Division  NumeroPromesas  SumaPromesas\n",
       "0    EXTRA             121     331724.74"
      ],
      "text/html": "<div>\n<style scoped>\n    .dataframe tbody tr th:only-of-type {\n        vertical-align: middle;\n    }\n\n    .dataframe tbody tr th {\n        vertical-align: top;\n    }\n\n    .dataframe thead th {\n        text-align: right;\n    }\n</style>\n<table border=\"1\" class=\"dataframe\">\n  <thead>\n    <tr style=\"text-align: right;\">\n      <th></th>\n      <th>Division</th>\n      <th>NumeroPromesas</th>\n      <th>SumaPromesas</th>\n    </tr>\n  </thead>\n  <tbody>\n    <tr>\n      <th>0</th>\n      <td>EXTRA</td>\n      <td>121</td>\n      <td>331724.74</td>\n    </tr>\n  </tbody>\n</table>\n</div>"
     },
     "metadata": {},
     "execution_count": 55
    }
   ],
   "source": [
    "#Obtenemos datos de las promesas de Bradesco\n",
    "prom_cred_div_mes = pd.pivot_table(consolidado_cred,index=['dictamen'],values=['monto_promesa'], aggfunc=['count',np.sum], dropna=False)\n",
    "prom_cred_div_mes = pd.DataFrame(prom_cred_div_mes.to_records())\n",
    "prom_cred_div_mes.columns = ['Division','NumeroPromesas','SumaPromesas']\n",
    "prom_cred_div_mes"
   ]
  },
  {
   "cell_type": "code",
   "execution_count": 56,
   "metadata": {},
   "outputs": [
    {
     "output_type": "execute_result",
     "data": {
      "text/plain": [
       "  Division  PromesasRestantes\n",
       "0    EXTRA          136014.48"
      ],
      "text/html": "<div>\n<style scoped>\n    .dataframe tbody tr th:only-of-type {\n        vertical-align: middle;\n    }\n\n    .dataframe tbody tr th {\n        vertical-align: top;\n    }\n\n    .dataframe thead th {\n        text-align: right;\n    }\n</style>\n<table border=\"1\" class=\"dataframe\">\n  <thead>\n    <tr style=\"text-align: right;\">\n      <th></th>\n      <th>Division</th>\n      <th>PromesasRestantes</th>\n    </tr>\n  </thead>\n  <tbody>\n    <tr>\n      <th>0</th>\n      <td>EXTRA</td>\n      <td>136014.48</td>\n    </tr>\n  </tbody>\n</table>\n</div>"
     },
     "metadata": {},
     "execution_count": 56
    }
   ],
   "source": [
    "#Obtenemos las promesas restantes a partir del día de hoy\n",
    "restantes_cred = consolidado_cred.loc[consolidado_cred['fecha_promesa']>=ayer]\n",
    "\n",
    "promesas_restantes_cred = pd.pivot_table(restantes_cred,index=['dictamen'],values=['monto_promesa'],aggfunc=[np.sum],dropna=False)\n",
    "promesas_restantes_cred = pd.DataFrame(promesas_restantes_cred.to_records())\n",
    "promesas_restantes_cred.columns = ['Division','PromesasRestantes']\n",
    "promesas_restantes_cred.fillna(0,inplace=True)\n",
    "promesas_restantes_cred"
   ]
  },
  {
   "cell_type": "code",
   "execution_count": 57,
   "metadata": {},
   "outputs": [
    {
     "output_type": "execute_result",
     "data": {
      "text/plain": [
       "     Cliente Division  NumeroPagos  SumaPagos  Facturacion  FechaFact\n",
       "0  Credifiel    EXTRA           65  294262.52    52775.833 2021-01-21"
      ],
      "text/html": "<div>\n<style scoped>\n    .dataframe tbody tr th:only-of-type {\n        vertical-align: middle;\n    }\n\n    .dataframe tbody tr th {\n        vertical-align: top;\n    }\n\n    .dataframe thead th {\n        text-align: right;\n    }\n</style>\n<table border=\"1\" class=\"dataframe\">\n  <thead>\n    <tr style=\"text-align: right;\">\n      <th></th>\n      <th>Cliente</th>\n      <th>Division</th>\n      <th>NumeroPagos</th>\n      <th>SumaPagos</th>\n      <th>Facturacion</th>\n      <th>FechaFact</th>\n    </tr>\n  </thead>\n  <tbody>\n    <tr>\n      <th>0</th>\n      <td>Credifiel</td>\n      <td>EXTRA</td>\n      <td>65</td>\n      <td>294262.52</td>\n      <td>52775.833</td>\n      <td>2021-01-21</td>\n    </tr>\n  </tbody>\n</table>\n</div>"
     },
     "metadata": {},
     "execution_count": 57
    }
   ],
   "source": [
    "pagos_totales_cred = pd.pivot_table(pagos_cred3,index=['division'],values=['IMPORTE','PagoFacturacion'],aggfunc=['count',np.sum],dropna=False)\n",
    "pagos_totales_cred = pd.DataFrame(pagos_totales_cred.to_records())\n",
    "pagos_totales_cred = pagos_totales_cred.iloc[:,[0,1,3,4]]\n",
    "pagos_totales_cred.columns = ['Division','NumeroPagos','SumaPagos','Facturacion']\n",
    "pagos_totales_cred.fillna(0,inplace=True)\n",
    "#pagos_totales_cred[['SumaPagos','SumaFacturacion']] = pagos_totales_cred[['SumaPagos','SumaFacturacion']].applymap(\"${0:,.2f}\".format)\n",
    "pagos_totales_cred['FechaFact'] = max(pagos_cred3['FECHA'])\n",
    "pagos_totales_cred.insert(loc=0,column='Cliente',value='Credifiel')\n",
    "pagos_totales_cred"
   ]
  },
  {
   "cell_type": "code",
   "execution_count": 58,
   "metadata": {},
   "outputs": [],
   "source": [
    "# pagos_cred3['Cliente'] = 'Credifiel'\n",
    "# pagos_totales_cred2 = pd.pivot_table(pagos_cred3,index=['Cliente'],values=['IMPORTE','PagoFacturacion'],aggfunc=['count',np.sum],dropna=False)\n",
    "# pagos_totales_cred2 = pd.DataFrame(pagos_totales_cred2.to_records())\n",
    "# pagos_totales_cred2 = pagos_totales_cred2.iloc[:,[0,1,3,4]]\n",
    "# pagos_totales_cred2.columns = ['Division','NumeroPagos','SumaPagos','Facturacion']\n",
    "# pagos_totales_cred2.fillna(0,inplace=True)\n",
    "# # pagos_totales_cred[['SumaPagos','SumaFacturacion']] = pagos_totales_cred[['SumaPagos','SumaFacturacion']].applymap(\"${0:,.2f}\".format)\n",
    "# pagos_totales_cred2['FechaFact'] = max(pagos_cred3['FECHA'])\n",
    "# pagos_totales_cred2"
   ]
  },
  {
   "cell_type": "code",
   "execution_count": 59,
   "metadata": {},
   "outputs": [
    {
     "output_type": "execute_result",
     "data": {
      "text/plain": [
       "     Cliente       Division  Facturacion  FechaFact  PromesasRestantes\n",
       "0  Credifiel  Extrajudicial    52775.833 2021-01-21          136014.48"
      ],
      "text/html": "<div>\n<style scoped>\n    .dataframe tbody tr th:only-of-type {\n        vertical-align: middle;\n    }\n\n    .dataframe tbody tr th {\n        vertical-align: top;\n    }\n\n    .dataframe thead th {\n        text-align: right;\n    }\n</style>\n<table border=\"1\" class=\"dataframe\">\n  <thead>\n    <tr style=\"text-align: right;\">\n      <th></th>\n      <th>Cliente</th>\n      <th>Division</th>\n      <th>Facturacion</th>\n      <th>FechaFact</th>\n      <th>PromesasRestantes</th>\n    </tr>\n  </thead>\n  <tbody>\n    <tr>\n      <th>0</th>\n      <td>Credifiel</td>\n      <td>Extrajudicial</td>\n      <td>52775.833</td>\n      <td>2021-01-21</td>\n      <td>136014.48</td>\n    </tr>\n  </tbody>\n</table>\n</div>"
     },
     "metadata": {},
     "execution_count": 59
    }
   ],
   "source": [
    "final_cred = pd.merge(pagos_totales_cred,prom_cred_div_mes,how='left',on=['Division'])\n",
    "final_cred = pd.merge(final_cred,promesas_restantes_cred,how='left',on=['Division'])\n",
    "final_cred.fillna(0,inplace=True)\n",
    "final_cred = final_cred.replace('EXTRA','Extrajudicial')\n",
    "final_cred = final_cred.iloc[:,[0,1,4,5,8]]\n",
    "final_cred"
   ]
  },
  {
   "source": [
    "# Banco Azteca"
   ],
   "cell_type": "markdown",
   "metadata": {}
  },
  {
   "cell_type": "code",
   "execution_count": 60,
   "metadata": {},
   "outputs": [],
   "source": [
    "#Hacemos la consulta referente a las gestiones de Banco Azteca\n",
    "gestion_baz = cs.query_naucalpan('baz_rpt_gestiones_detallado',mes,today)\n",
    "gestion_baz.columns = ['folio_gestion','firma_id','unegocio_id','credito','nombre_credito','telefono','tipo_telefono','fecha_gestion','usuario','nombre_usuario','dictamen','accion_resultado','fecha_promesa','monto_promesa','comentarios']\n",
    "gestion_baz = gestion_baz.loc[gestion_baz['dictamen']=='PROMESA']\n",
    "gestion_baz['monto_promesa'] = pd.to_numeric(gestion_baz['monto_promesa'])\n",
    "gestion_baz = gestion_baz.loc[gestion_baz['fecha_promesa'].map(str).str[:4].map(int)<2100]\n",
    "gestion_baz['fecha_promesa'] = pd.to_datetime(gestion_baz['fecha_promesa'],dayfirst=False)\n",
    "#gestion_baz.head(3)"
   ]
  },
  {
   "cell_type": "code",
   "execution_count": 61,
   "metadata": {},
   "outputs": [
    {
     "output_type": "execute_result",
     "data": {
      "text/plain": [
       "   Division  NumeroPromesas  SumaPromesas\n",
       "0  COBRANZA            2090     1903120.0"
      ],
      "text/html": "<div>\n<style scoped>\n    .dataframe tbody tr th:only-of-type {\n        vertical-align: middle;\n    }\n\n    .dataframe tbody tr th {\n        vertical-align: top;\n    }\n\n    .dataframe thead th {\n        text-align: right;\n    }\n</style>\n<table border=\"1\" class=\"dataframe\">\n  <thead>\n    <tr style=\"text-align: right;\">\n      <th></th>\n      <th>Division</th>\n      <th>NumeroPromesas</th>\n      <th>SumaPromesas</th>\n    </tr>\n  </thead>\n  <tbody>\n    <tr>\n      <th>0</th>\n      <td>COBRANZA</td>\n      <td>2090</td>\n      <td>1903120.0</td>\n    </tr>\n  </tbody>\n</table>\n</div>"
     },
     "metadata": {},
     "execution_count": 61
    }
   ],
   "source": [
    "#Obtenemos datos de las promesas de Banco Azteca\n",
    "gestion_baz = gestion_baz.drop_duplicates(subset=['credito','fecha_promesa','monto_promesa'])\n",
    "prom_baz_div_mes = pd.pivot_table(gestion_baz,index=['dictamen'],values=['unegocio_id','monto_promesa'],aggfunc=('count',np.sum))\n",
    "prom_baz_div_mes = pd.DataFrame(prom_baz_div_mes.to_records())\n",
    "prom_baz_div_mes = prom_baz_div_mes.iloc[:,[0,1,2]]\n",
    "prom_baz_div_mes.columns = ['Division','NumeroPromesas','SumaPromesas']\n",
    "prom_baz_div_mes.fillna(0,inplace=True)\n",
    "prom_baz_div_mes = prom_baz_div_mes.replace('PROMESA','COBRANZA')\n",
    "prom_baz_div_mes"
   ]
  },
  {
   "cell_type": "code",
   "execution_count": 62,
   "metadata": {},
   "outputs": [
    {
     "output_type": "execute_result",
     "data": {
      "text/plain": [
       "   Division  PromesasRestantes\n",
       "0  COBRANZA           304693.0"
      ],
      "text/html": "<div>\n<style scoped>\n    .dataframe tbody tr th:only-of-type {\n        vertical-align: middle;\n    }\n\n    .dataframe tbody tr th {\n        vertical-align: top;\n    }\n\n    .dataframe thead th {\n        text-align: right;\n    }\n</style>\n<table border=\"1\" class=\"dataframe\">\n  <thead>\n    <tr style=\"text-align: right;\">\n      <th></th>\n      <th>Division</th>\n      <th>PromesasRestantes</th>\n    </tr>\n  </thead>\n  <tbody>\n    <tr>\n      <th>0</th>\n      <td>COBRANZA</td>\n      <td>304693.0</td>\n    </tr>\n  </tbody>\n</table>\n</div>"
     },
     "metadata": {},
     "execution_count": 62
    }
   ],
   "source": [
    "#Obtenemos las promesas restantes a partir del día de ayer\n",
    "restantes_baz = gestion_baz.loc[(gestion_baz['fecha_promesa']>=ayer)&(gestion_baz['fecha_promesa']<=fin_mes)]\n",
    "\n",
    "promesas_restantes_baz = pd.pivot_table(restantes_baz,index=['dictamen'],values=['monto_promesa'],aggfunc=[np.sum],dropna=False)\n",
    "promesas_restantes_baz = pd.DataFrame(promesas_restantes_baz.to_records())\n",
    "promesas_restantes_baz.columns = ['Division','PromesasRestantes']\n",
    "promesas_restantes_baz = promesas_restantes_baz.replace('PROMESA','COBRANZA')\n",
    "promesas_restantes_baz.fillna(0,inplace=True)\n",
    "promesas_restantes_baz"
   ]
  },
  {
   "cell_type": "code",
   "execution_count": 63,
   "metadata": {},
   "outputs": [
    {
     "output_type": "execute_result",
     "data": {
      "text/plain": [
       "0.2354237040373463"
      ]
     },
     "metadata": {},
     "execution_count": 63
    }
   ],
   "source": [
    "pagos_totales_baz_recovery =pd.pivot_table(fact_baz_rec,index=['Division'],values=['Total Recuperado','Total Comision'],aggfunc=[np.sum],dropna=False)\n",
    "pagos_totales_baz_recovery = pd.DataFrame(pagos_totales_baz_recovery.to_records())\n",
    "pagos_totales_baz_recovery.columns = ['Cliente','Recuperado','SumaPagos']\n",
    "porcentaje_prom_arancel_rec = pagos_totales_baz_recovery['Recuperado']/pagos_totales_baz_recovery['SumaPagos']\n",
    "porcentaje_prom_arancel_rec = porcentaje_prom_arancel_rec.item()\n",
    "porcentaje_prom_arancel_rec"
   ]
  },
  {
   "cell_type": "code",
   "execution_count": 64,
   "metadata": {},
   "outputs": [
    {
     "output_type": "execute_result",
     "data": {
      "text/plain": [
       "0.17015376908381225"
      ]
     },
     "metadata": {},
     "execution_count": 64
    }
   ],
   "source": [
    "pagos_totales_baz_26 = pd.pivot_table(fact_baz_26_55,index=['Division'],values=['Total Recuperado','Total Comision'],aggfunc=[np.sum],dropna=False)\n",
    "pagos_totales_baz_26 = pd.DataFrame(pagos_totales_baz_26.to_records())\n",
    "pagos_totales_baz_26.columns = ['Cliente','Recuperado','SumaPagos']\n",
    "porcentaje_prom_arancel__26 = pagos_totales_baz_26['Recuperado']/pagos_totales_baz_26['SumaPagos']\n",
    "porcentaje_prom_arancel__26 = porcentaje_prom_arancel__26.item()\n",
    "porcentaje_prom_arancel__26"
   ]
  },
  {
   "cell_type": "code",
   "execution_count": 65,
   "metadata": {},
   "outputs": [],
   "source": [
    "pagos_baz_recovery['Recuperado'] = pagos_baz_recovery['RECUPERACION DE CAPITAL']+pagos_baz_recovery['RECUPERACION DE MORATORIOS']\n",
    "pagos_baz_26['Recuperado'] = pagos_baz_26['RECUPERACION DE CAPITAL']+pagos_baz_26['RECUPERACION DE MORATORIOS']"
   ]
  },
  {
   "cell_type": "code",
   "execution_count": 66,
   "metadata": {},
   "outputs": [
    {
     "output_type": "execute_result",
     "data": {
      "text/plain": [
       "        Cliente Division_rec  Facturacion_rec  FechaFact\n",
       "0  Banco Azteca     Recovery    214625.667752 2021-01-24"
      ],
      "text/html": "<div>\n<style scoped>\n    .dataframe tbody tr th:only-of-type {\n        vertical-align: middle;\n    }\n\n    .dataframe tbody tr th {\n        vertical-align: top;\n    }\n\n    .dataframe thead th {\n        text-align: right;\n    }\n</style>\n<table border=\"1\" class=\"dataframe\">\n  <thead>\n    <tr style=\"text-align: right;\">\n      <th></th>\n      <th>Cliente</th>\n      <th>Division_rec</th>\n      <th>Facturacion_rec</th>\n      <th>FechaFact</th>\n    </tr>\n  </thead>\n  <tbody>\n    <tr>\n      <th>0</th>\n      <td>Banco Azteca</td>\n      <td>Recovery</td>\n      <td>214625.667752</td>\n      <td>2021-01-24</td>\n    </tr>\n  </tbody>\n</table>\n</div>"
     },
     "metadata": {},
     "execution_count": 66
    }
   ],
   "source": [
    "pagos_baz_recovery['Facturacion'] = [x*porcentaje_prom_arancel_rec for x in pagos_baz_recovery['Recuperado']]\n",
    "pagos_fact_baz_rec = pd.pivot_table(pagos_baz_recovery,index=['Division'],values=['Facturacion'],aggfunc=[np.sum])\n",
    "pagos_fact_baz_rec = pd.DataFrame(pagos_fact_baz_rec.to_records())\n",
    "pagos_fact_baz_rec.columns = ['Division_rec','Facturacion_rec']\n",
    "pagos_fact_baz_rec['FechaFact'] = max(pagos_baz_recovery['DIA'])\n",
    "pagos_fact_baz_rec.insert(loc=0,column='Cliente',value='Banco Azteca')\n",
    "pagos_fact_baz_rec"
   ]
  },
  {
   "cell_type": "code",
   "execution_count": 67,
   "metadata": {},
   "outputs": [
    {
     "output_type": "execute_result",
     "data": {
      "text/plain": [
       "  Division_26  Facturacion_26\n",
       "0       26-39   174356.056719"
      ],
      "text/html": "<div>\n<style scoped>\n    .dataframe tbody tr th:only-of-type {\n        vertical-align: middle;\n    }\n\n    .dataframe tbody tr th {\n        vertical-align: top;\n    }\n\n    .dataframe thead th {\n        text-align: right;\n    }\n</style>\n<table border=\"1\" class=\"dataframe\">\n  <thead>\n    <tr style=\"text-align: right;\">\n      <th></th>\n      <th>Division_26</th>\n      <th>Facturacion_26</th>\n    </tr>\n  </thead>\n  <tbody>\n    <tr>\n      <th>0</th>\n      <td>26-39</td>\n      <td>174356.056719</td>\n    </tr>\n  </tbody>\n</table>\n</div>"
     },
     "metadata": {},
     "execution_count": 67
    }
   ],
   "source": [
    "pagos_baz_26['Facturacion'] = [x*porcentaje_prom_arancel__26 for x in pagos_baz_26['Recuperado']]\n",
    "# pagos_baz['Facturacion'] = pagos_baz['Arancel']*pagos_baz['Recuperado']\n",
    "pagos_fact_baz_26 = pd.pivot_table(pagos_baz_26,index=['Division'],values=['Facturacion'],aggfunc=[np.sum])\n",
    "pagos_fact_baz_26 = pd.DataFrame(pagos_fact_baz_26.to_records())\n",
    "pagos_fact_baz_26.columns = ['Division_26','Facturacion_26']\n",
    "pagos_fact_baz_26"
   ]
  },
  {
   "cell_type": "code",
   "execution_count": 68,
   "metadata": {},
   "outputs": [
    {
     "output_type": "execute_result",
     "data": {
      "text/plain": [
       "        Cliente  Division   Facturacion  FechaFact\n",
       "0  Banco Azteca  Cobranza  388981.72447 2021-01-24"
      ],
      "text/html": "<div>\n<style scoped>\n    .dataframe tbody tr th:only-of-type {\n        vertical-align: middle;\n    }\n\n    .dataframe tbody tr th {\n        vertical-align: top;\n    }\n\n    .dataframe thead th {\n        text-align: right;\n    }\n</style>\n<table border=\"1\" class=\"dataframe\">\n  <thead>\n    <tr style=\"text-align: right;\">\n      <th></th>\n      <th>Cliente</th>\n      <th>Division</th>\n      <th>Facturacion</th>\n      <th>FechaFact</th>\n    </tr>\n  </thead>\n  <tbody>\n    <tr>\n      <th>0</th>\n      <td>Banco Azteca</td>\n      <td>Cobranza</td>\n      <td>388981.72447</td>\n      <td>2021-01-24</td>\n    </tr>\n  </tbody>\n</table>\n</div>"
     },
     "metadata": {},
     "execution_count": 68
    }
   ],
   "source": [
    "pagos_fact_baz = pd.concat([pagos_fact_baz_rec,pagos_fact_baz_26],axis=1)\n",
    "pagos_fact_baz['Division'] = 'Cobranza'\n",
    "pagos_fact_baz['Facturacion'] = pagos_fact_baz['Facturacion_rec']+pagos_fact_baz['Facturacion_26']\n",
    "pagos_fact_baz = pagos_fact_baz[['Cliente','Division','Facturacion','FechaFact']]\n",
    "pagos_fact_baz"
   ]
  },
  {
   "cell_type": "code",
   "execution_count": 69,
   "metadata": {},
   "outputs": [
    {
     "output_type": "execute_result",
     "data": {
      "text/plain": [
       "        Cliente  Division   Facturacion  FechaFact  PromesasRestantes\n",
       "0  Banco Azteca  Cobranza  388981.72447 2021-01-24           304693.0"
      ],
      "text/html": "<div>\n<style scoped>\n    .dataframe tbody tr th:only-of-type {\n        vertical-align: middle;\n    }\n\n    .dataframe tbody tr th {\n        vertical-align: top;\n    }\n\n    .dataframe thead th {\n        text-align: right;\n    }\n</style>\n<table border=\"1\" class=\"dataframe\">\n  <thead>\n    <tr style=\"text-align: right;\">\n      <th></th>\n      <th>Cliente</th>\n      <th>Division</th>\n      <th>Facturacion</th>\n      <th>FechaFact</th>\n      <th>PromesasRestantes</th>\n    </tr>\n  </thead>\n  <tbody>\n    <tr>\n      <th>0</th>\n      <td>Banco Azteca</td>\n      <td>Cobranza</td>\n      <td>388981.72447</td>\n      <td>2021-01-24</td>\n      <td>304693.0</td>\n    </tr>\n  </tbody>\n</table>\n</div>"
     },
     "metadata": {},
     "execution_count": 69
    }
   ],
   "source": [
    "toadd = [pagos_fact_baz,promesas_restantes_baz]\n",
    "final_baz = pd.concat(toadd,axis=1)\n",
    "final_baz = final_baz.iloc[:,[0,1,2,3,5]]\n",
    "final_baz"
   ]
  },
  {
   "source": [
    "# TORREON"
   ],
   "cell_type": "markdown",
   "metadata": {}
  },
  {
   "source": [
    "# Oriflame"
   ],
   "cell_type": "markdown",
   "metadata": {}
  },
  {
   "cell_type": "code",
   "execution_count": 70,
   "metadata": {},
   "outputs": [
    {
     "output_type": "execute_result",
     "data": {
      "text/plain": [
       "    Cliente  Facturacion  FechaFact\n",
       "0  Oriflame    17714.686 2021-01-11"
      ],
      "text/html": "<div>\n<style scoped>\n    .dataframe tbody tr th:only-of-type {\n        vertical-align: middle;\n    }\n\n    .dataframe tbody tr th {\n        vertical-align: top;\n    }\n\n    .dataframe thead th {\n        text-align: right;\n    }\n</style>\n<table border=\"1\" class=\"dataframe\">\n  <thead>\n    <tr style=\"text-align: right;\">\n      <th></th>\n      <th>Cliente</th>\n      <th>Facturacion</th>\n      <th>FechaFact</th>\n    </tr>\n  </thead>\n  <tbody>\n    <tr>\n      <th>0</th>\n      <td>Oriflame</td>\n      <td>17714.686</td>\n      <td>2021-01-11</td>\n    </tr>\n  </tbody>\n</table>\n</div>"
     },
     "metadata": {},
     "execution_count": 70
    }
   ],
   "source": [
    "reporte_pagos_oriflame = pd.pivot_table(pagos_oriflame,index=['Cliente'],values=['Factura'],aggfunc=np.sum)\n",
    "reporte_pagos_oriflame = pd.DataFrame(reporte_pagos_oriflame.to_records())\n",
    "reporte_pagos_oriflame.columns = ['Cliente','Facturacion']\n",
    "reporte_pagos_oriflame['FechaFact'] = max(pagos_oriflame['FECHA_PAGO'])\n",
    "reporte_pagos_oriflame['FechaFact'] = pd.to_datetime(reporte_pagos_oriflame['FechaFact'],dayfirst=True)\n",
    "reporte_pagos_oriflame"
   ]
  },
  {
   "source": [
    "# Arabela"
   ],
   "cell_type": "markdown",
   "metadata": {}
  },
  {
   "cell_type": "code",
   "execution_count": 71,
   "metadata": {},
   "outputs": [
    {
     "output_type": "execute_result",
     "data": {
      "text/plain": [
       "   Cliente  Facturacion  FechaFact\n",
       "0  Arabela   30832.8702 2021-01-12"
      ],
      "text/html": "<div>\n<style scoped>\n    .dataframe tbody tr th:only-of-type {\n        vertical-align: middle;\n    }\n\n    .dataframe tbody tr th {\n        vertical-align: top;\n    }\n\n    .dataframe thead th {\n        text-align: right;\n    }\n</style>\n<table border=\"1\" class=\"dataframe\">\n  <thead>\n    <tr style=\"text-align: right;\">\n      <th></th>\n      <th>Cliente</th>\n      <th>Facturacion</th>\n      <th>FechaFact</th>\n    </tr>\n  </thead>\n  <tbody>\n    <tr>\n      <th>0</th>\n      <td>Arabela</td>\n      <td>30832.8702</td>\n      <td>2021-01-12</td>\n    </tr>\n  </tbody>\n</table>\n</div>"
     },
     "metadata": {},
     "execution_count": 71
    }
   ],
   "source": [
    "reporte_pagos_arabela = pd.pivot_table(pagos_arabela,index=['Cliente'],values=['factura'],aggfunc=np.sum)\n",
    "reporte_pagos_arabela = pd.DataFrame(reporte_pagos_arabela.to_records())\n",
    "reporte_pagos_arabela.columns = ['Cliente','Facturacion']\n",
    "reporte_pagos_arabela['FechaFact'] = max(pagos_arabela['FechaEntrega'])\n",
    "reporte_pagos_arabela['FechaFact'] = pd.to_datetime(reporte_pagos_arabela['FechaFact'],dayfirst=True)\n",
    "reporte_pagos_arabela"
   ]
  },
  {
   "source": [
    "# Invex"
   ],
   "cell_type": "markdown",
   "metadata": {}
  },
  {
   "cell_type": "code",
   "execution_count": 72,
   "metadata": {},
   "outputs": [
    {
     "output_type": "execute_result",
     "data": {
      "text/plain": [
       "     Cliente  Facturacion                     FechaFact\n",
       "0  Invex_REL   158078.144 1970-01-01 00:00:00.000044211\n",
       "1  Invex_RLA   212830.868 1970-01-01 00:00:00.000044211\n",
       "2  Invex_RLN    91735.102 1970-01-01 00:00:00.000044211"
      ],
      "text/html": "<div>\n<style scoped>\n    .dataframe tbody tr th:only-of-type {\n        vertical-align: middle;\n    }\n\n    .dataframe tbody tr th {\n        vertical-align: top;\n    }\n\n    .dataframe thead th {\n        text-align: right;\n    }\n</style>\n<table border=\"1\" class=\"dataframe\">\n  <thead>\n    <tr style=\"text-align: right;\">\n      <th></th>\n      <th>Cliente</th>\n      <th>Facturacion</th>\n      <th>FechaFact</th>\n    </tr>\n  </thead>\n  <tbody>\n    <tr>\n      <th>0</th>\n      <td>Invex_REL</td>\n      <td>158078.144</td>\n      <td>1970-01-01 00:00:00.000044211</td>\n    </tr>\n    <tr>\n      <th>1</th>\n      <td>Invex_RLA</td>\n      <td>212830.868</td>\n      <td>1970-01-01 00:00:00.000044211</td>\n    </tr>\n    <tr>\n      <th>2</th>\n      <td>Invex_RLN</td>\n      <td>91735.102</td>\n      <td>1970-01-01 00:00:00.000044211</td>\n    </tr>\n  </tbody>\n</table>\n</div>"
     },
     "metadata": {},
     "execution_count": 72
    }
   ],
   "source": [
    "reporte_pagos_invex = pd.pivot_table(pagos_invex,index=['Cliente'],values=['AMT_TRAN','HONORARIO'],aggfunc=[np.sum,np.mean])\n",
    "reporte_pagos_invex = pd.DataFrame(reporte_pagos_invex.to_records())\n",
    "reporte_pagos_invex = reporte_pagos_invex.iloc[:,[0,1,4]]\n",
    "reporte_pagos_invex.columns = ['Cliente','Pago','Honorario']\n",
    "reporte_pagos_invex['Facturacion'] = reporte_pagos_invex['Pago']*reporte_pagos_invex['Honorario']\n",
    "reporte_pagos_invex = reporte_pagos_invex.iloc[:,[0,3]]\n",
    "reporte_pagos_invex['FechaFact'] = max(pagos_invex['TRAN_POST_DT'])\n",
    "reporte_pagos_invex['FechaFact'] = pd.to_datetime(reporte_pagos_invex['FechaFact'],dayfirst=True)\n",
    "reporte_pagos_invex"
   ]
  },
  {
   "source": [
    "# Torreon"
   ],
   "cell_type": "markdown",
   "metadata": {}
  },
  {
   "cell_type": "code",
   "execution_count": 73,
   "metadata": {},
   "outputs": [
    {
     "output_type": "execute_result",
     "data": {
      "text/plain": [
       "  Sucursal       Cliente     Meta  Facturacion  FechaFact\n",
       "0  Torreon          Avon   890000    171972.03 2021-01-20\n",
       "1  Torreon      Oriflame    65000     38500.00 2021-01-26\n",
       "2  Torreon         Invex  1095000    819614.00 2021-01-26\n",
       "3  Torreon       Arabela    95000     65106.00 2021-01-26\n",
       "4  Torreon        Cimaco     3500       547.00 2021-01-10\n",
       "5  Torreon  Cristian Lay     6000      2896.00 2021-01-24"
      ],
      "text/html": "<div>\n<style scoped>\n    .dataframe tbody tr th:only-of-type {\n        vertical-align: middle;\n    }\n\n    .dataframe tbody tr th {\n        vertical-align: top;\n    }\n\n    .dataframe thead th {\n        text-align: right;\n    }\n</style>\n<table border=\"1\" class=\"dataframe\">\n  <thead>\n    <tr style=\"text-align: right;\">\n      <th></th>\n      <th>Sucursal</th>\n      <th>Cliente</th>\n      <th>Meta</th>\n      <th>Facturacion</th>\n      <th>FechaFact</th>\n    </tr>\n  </thead>\n  <tbody>\n    <tr>\n      <th>0</th>\n      <td>Torreon</td>\n      <td>Avon</td>\n      <td>890000</td>\n      <td>171972.03</td>\n      <td>2021-01-20</td>\n    </tr>\n    <tr>\n      <th>1</th>\n      <td>Torreon</td>\n      <td>Oriflame</td>\n      <td>65000</td>\n      <td>38500.00</td>\n      <td>2021-01-26</td>\n    </tr>\n    <tr>\n      <th>2</th>\n      <td>Torreon</td>\n      <td>Invex</td>\n      <td>1095000</td>\n      <td>819614.00</td>\n      <td>2021-01-26</td>\n    </tr>\n    <tr>\n      <th>3</th>\n      <td>Torreon</td>\n      <td>Arabela</td>\n      <td>95000</td>\n      <td>65106.00</td>\n      <td>2021-01-26</td>\n    </tr>\n    <tr>\n      <th>4</th>\n      <td>Torreon</td>\n      <td>Cimaco</td>\n      <td>3500</td>\n      <td>547.00</td>\n      <td>2021-01-10</td>\n    </tr>\n    <tr>\n      <th>5</th>\n      <td>Torreon</td>\n      <td>Cristian Lay</td>\n      <td>6000</td>\n      <td>2896.00</td>\n      <td>2021-01-24</td>\n    </tr>\n  </tbody>\n</table>\n</div>"
     },
     "metadata": {},
     "execution_count": 73
    }
   ],
   "source": [
    "final_torreon = pd.read_excel(''+ruta+'Metas/Metas '+mes2+'.xlsx',sheet_name='Torreon')\n",
    "final_torreon.insert(loc=0,column='Sucursal',value='Torreon')\n",
    "final_torreon"
   ]
  },
  {
   "source": [
    "# Guatemala"
   ],
   "cell_type": "markdown",
   "metadata": {}
  },
  {
   "cell_type": "code",
   "execution_count": 74,
   "metadata": {},
   "outputs": [
    {
     "output_type": "execute_result",
     "data": {
      "text/plain": [
       "    Sucursal           Cliente      Meta  Facturacion  FechaFact\n",
       "0  Guatemala            Avon G  625000.0     222832.5 2021-01-21\n",
       "1  Guatemala         Arabela G   12750.0       4235.0 2021-01-24\n",
       "2  Guatemala      Banco Azteca  130000.0      35910.0 2021-01-24\n",
       "3  Guatemala  Banco Credomatic   42500.0      19657.5 2021-01-22\n",
       "4  Guatemala           Belcorp   12500.0      12467.5 2021-01-21\n",
       "5  Guatemala      Banco Azteca  287500.0     131987.5 2021-01-27"
      ],
      "text/html": "<div>\n<style scoped>\n    .dataframe tbody tr th:only-of-type {\n        vertical-align: middle;\n    }\n\n    .dataframe tbody tr th {\n        vertical-align: top;\n    }\n\n    .dataframe thead th {\n        text-align: right;\n    }\n</style>\n<table border=\"1\" class=\"dataframe\">\n  <thead>\n    <tr style=\"text-align: right;\">\n      <th></th>\n      <th>Sucursal</th>\n      <th>Cliente</th>\n      <th>Meta</th>\n      <th>Facturacion</th>\n      <th>FechaFact</th>\n    </tr>\n  </thead>\n  <tbody>\n    <tr>\n      <th>0</th>\n      <td>Guatemala</td>\n      <td>Avon G</td>\n      <td>625000.0</td>\n      <td>222832.5</td>\n      <td>2021-01-21</td>\n    </tr>\n    <tr>\n      <th>1</th>\n      <td>Guatemala</td>\n      <td>Arabela G</td>\n      <td>12750.0</td>\n      <td>4235.0</td>\n      <td>2021-01-24</td>\n    </tr>\n    <tr>\n      <th>2</th>\n      <td>Guatemala</td>\n      <td>Banco Azteca</td>\n      <td>130000.0</td>\n      <td>35910.0</td>\n      <td>2021-01-24</td>\n    </tr>\n    <tr>\n      <th>3</th>\n      <td>Guatemala</td>\n      <td>Banco Credomatic</td>\n      <td>42500.0</td>\n      <td>19657.5</td>\n      <td>2021-01-22</td>\n    </tr>\n    <tr>\n      <th>4</th>\n      <td>Guatemala</td>\n      <td>Belcorp</td>\n      <td>12500.0</td>\n      <td>12467.5</td>\n      <td>2021-01-21</td>\n    </tr>\n    <tr>\n      <th>5</th>\n      <td>Guatemala</td>\n      <td>Banco Azteca</td>\n      <td>287500.0</td>\n      <td>131987.5</td>\n      <td>2021-01-27</td>\n    </tr>\n  </tbody>\n</table>\n</div>"
     },
     "metadata": {},
     "execution_count": 74
    }
   ],
   "source": [
    "final_guatemala = pd.read_excel(''+ruta+'Metas/Metas '+mes2+'.xlsx',sheet_name='Guatemala')\n",
    "final_guatemala.insert(loc=0,column='Sucursal',value='Guatemala')\n",
    "final_guatemala['Facturacion'] = final_guatemala['Facturacion']*quetzal\n",
    "final_guatemala['Meta'] = final_guatemala['Meta']*quetzal\n",
    "final_guatemala"
   ]
  },
  {
   "source": [
    "# Panama"
   ],
   "cell_type": "markdown",
   "metadata": {}
  },
  {
   "cell_type": "code",
   "execution_count": 75,
   "metadata": {},
   "outputs": [
    {
     "output_type": "execute_result",
     "data": {
      "text/plain": [
       "  Sucursal       Cliente    Meta  Facturacion  FechaFact\n",
       "0   Panama    Cable Onda   56000        41440 2021-01-25\n",
       "1   Panama         Jamar  160000       100000 2021-01-25\n",
       "2   Panama  Banco Azteca   80000       117560 2021-01-24\n",
       "3   Panama          Avon   40000        12000 2021-01-15\n",
       "4   Panama   Adel Panama   60000        29780 2021-01-22\n",
       "5   Panama    Cable Onda   40000        20160 2021-01-25\n",
       "6   Panama       Rodelag   70000            0 2021-01-01\n",
       "7   Panama  Banco Azteca  680000       821220 2021-01-24\n",
       "8   Panama          Avon   25000        25000 2021-01-25"
      ],
      "text/html": "<div>\n<style scoped>\n    .dataframe tbody tr th:only-of-type {\n        vertical-align: middle;\n    }\n\n    .dataframe tbody tr th {\n        vertical-align: top;\n    }\n\n    .dataframe thead th {\n        text-align: right;\n    }\n</style>\n<table border=\"1\" class=\"dataframe\">\n  <thead>\n    <tr style=\"text-align: right;\">\n      <th></th>\n      <th>Sucursal</th>\n      <th>Cliente</th>\n      <th>Meta</th>\n      <th>Facturacion</th>\n      <th>FechaFact</th>\n    </tr>\n  </thead>\n  <tbody>\n    <tr>\n      <th>0</th>\n      <td>Panama</td>\n      <td>Cable Onda</td>\n      <td>56000</td>\n      <td>41440</td>\n      <td>2021-01-25</td>\n    </tr>\n    <tr>\n      <th>1</th>\n      <td>Panama</td>\n      <td>Jamar</td>\n      <td>160000</td>\n      <td>100000</td>\n      <td>2021-01-25</td>\n    </tr>\n    <tr>\n      <th>2</th>\n      <td>Panama</td>\n      <td>Banco Azteca</td>\n      <td>80000</td>\n      <td>117560</td>\n      <td>2021-01-24</td>\n    </tr>\n    <tr>\n      <th>3</th>\n      <td>Panama</td>\n      <td>Avon</td>\n      <td>40000</td>\n      <td>12000</td>\n      <td>2021-01-15</td>\n    </tr>\n    <tr>\n      <th>4</th>\n      <td>Panama</td>\n      <td>Adel Panama</td>\n      <td>60000</td>\n      <td>29780</td>\n      <td>2021-01-22</td>\n    </tr>\n    <tr>\n      <th>5</th>\n      <td>Panama</td>\n      <td>Cable Onda</td>\n      <td>40000</td>\n      <td>20160</td>\n      <td>2021-01-25</td>\n    </tr>\n    <tr>\n      <th>6</th>\n      <td>Panama</td>\n      <td>Rodelag</td>\n      <td>70000</td>\n      <td>0</td>\n      <td>2021-01-01</td>\n    </tr>\n    <tr>\n      <th>7</th>\n      <td>Panama</td>\n      <td>Banco Azteca</td>\n      <td>680000</td>\n      <td>821220</td>\n      <td>2021-01-24</td>\n    </tr>\n    <tr>\n      <th>8</th>\n      <td>Panama</td>\n      <td>Avon</td>\n      <td>25000</td>\n      <td>25000</td>\n      <td>2021-01-25</td>\n    </tr>\n  </tbody>\n</table>\n</div>"
     },
     "metadata": {},
     "execution_count": 75
    }
   ],
   "source": [
    "final_panama = pd.read_excel(''+ruta+'Metas/Metas '+mes2+'.xlsx',sheet_name='Panama')\n",
    "final_panama.insert(loc=0,column='Sucursal',value='Panama')\n",
    "final_panama['Facturacion'] = final_panama['Facturacion']*dolar\n",
    "final_panama['Meta'] = final_panama['Meta']*dolar\n",
    "final_panama"
   ]
  },
  {
   "source": [
    "# Pagos sin promesa asignada"
   ],
   "cell_type": "markdown",
   "metadata": {}
  },
  {
   "cell_type": "code",
   "execution_count": 76,
   "metadata": {},
   "outputs": [
    {
     "output_type": "execute_result",
     "data": {
      "text/plain": [
       "  Division  RecuperadoSinPromesa  PagosNoPromesa\n",
       "0        A              49076.00               8\n",
       "1        B              21817.00               2\n",
       "2   C0 4PV             152128.32             123\n",
       "3   C0 5PV              72912.04              64\n",
       "4   C0 6PV              47234.50              38\n",
       "5       C1              91747.00              64\n",
       "6       C2              43231.84              34\n",
       "7       C3               5899.00               8\n",
       "8       C4               2897.00               2"
      ],
      "text/html": "<div>\n<style scoped>\n    .dataframe tbody tr th:only-of-type {\n        vertical-align: middle;\n    }\n\n    .dataframe tbody tr th {\n        vertical-align: top;\n    }\n\n    .dataframe thead th {\n        text-align: right;\n    }\n</style>\n<table border=\"1\" class=\"dataframe\">\n  <thead>\n    <tr style=\"text-align: right;\">\n      <th></th>\n      <th>Division</th>\n      <th>RecuperadoSinPromesa</th>\n      <th>PagosNoPromesa</th>\n    </tr>\n  </thead>\n  <tbody>\n    <tr>\n      <th>0</th>\n      <td>A</td>\n      <td>49076.00</td>\n      <td>8</td>\n    </tr>\n    <tr>\n      <th>1</th>\n      <td>B</td>\n      <td>21817.00</td>\n      <td>2</td>\n    </tr>\n    <tr>\n      <th>2</th>\n      <td>C0 4PV</td>\n      <td>152128.32</td>\n      <td>123</td>\n    </tr>\n    <tr>\n      <th>3</th>\n      <td>C0 5PV</td>\n      <td>72912.04</td>\n      <td>64</td>\n    </tr>\n    <tr>\n      <th>4</th>\n      <td>C0 6PV</td>\n      <td>47234.50</td>\n      <td>38</td>\n    </tr>\n    <tr>\n      <th>5</th>\n      <td>C1</td>\n      <td>91747.00</td>\n      <td>64</td>\n    </tr>\n    <tr>\n      <th>6</th>\n      <td>C2</td>\n      <td>43231.84</td>\n      <td>34</td>\n    </tr>\n    <tr>\n      <th>7</th>\n      <td>C3</td>\n      <td>5899.00</td>\n      <td>8</td>\n    </tr>\n    <tr>\n      <th>8</th>\n      <td>C4</td>\n      <td>2897.00</td>\n      <td>2</td>\n    </tr>\n  </tbody>\n</table>\n</div>"
     },
     "metadata": {},
     "execution_count": 76
    }
   ],
   "source": [
    "#Pagos de bradesco que no tienen promesa asignada\n",
    "gestion_brad_mes2 = gestion_brad_mes.drop_duplicates(subset='NUMERO_TARJETA')\n",
    "pagos_noasig_brad = pd.merge(pagos_brad,gestion_brad_mes2[['NUMERO_TARJETA','nombre_credito']],how='left',on='NUMERO_TARJETA')\n",
    "pagos_noasig_brad = pagos_noasig_brad.loc[pagos_noasig_brad['nombre_credito'].isnull()]\n",
    "pagos_noasig_brad_pivot = pd.pivot_table(pagos_noasig_brad,index=['TIPO_ASIGANCION'],values=['MONTO'],aggfunc=[np.sum,'count'])\n",
    "pagos_noasig_brad_pivot = pd.DataFrame(pagos_noasig_brad_pivot.to_records())\n",
    "pagos_noasig_brad_pivot.columns = ['Division','RecuperadoSinPromesa','PagosNoPromesa']\n",
    "pagos_noasig_brad_pivot"
   ]
  },
  {
   "cell_type": "code",
   "execution_count": 77,
   "metadata": {},
   "outputs": [
    {
     "output_type": "execute_result",
     "data": {
      "text/plain": [
       "     Division  RecuperadoSinPromesa  PagosNoPromesa\n",
       "0         Cof              65361.78              16\n",
       "1    Dictamen               4305.00               4\n",
       "2   Nacional2              65047.99              37\n",
       "3  Penacional              62322.00              24\n",
       "4    Suburbia              30683.83              32"
      ],
      "text/html": "<div>\n<style scoped>\n    .dataframe tbody tr th:only-of-type {\n        vertical-align: middle;\n    }\n\n    .dataframe tbody tr th {\n        vertical-align: top;\n    }\n\n    .dataframe thead th {\n        text-align: right;\n    }\n</style>\n<table border=\"1\" class=\"dataframe\">\n  <thead>\n    <tr style=\"text-align: right;\">\n      <th></th>\n      <th>Division</th>\n      <th>RecuperadoSinPromesa</th>\n      <th>PagosNoPromesa</th>\n    </tr>\n  </thead>\n  <tbody>\n    <tr>\n      <th>0</th>\n      <td>Cof</td>\n      <td>65361.78</td>\n      <td>16</td>\n    </tr>\n    <tr>\n      <th>1</th>\n      <td>Dictamen</td>\n      <td>4305.00</td>\n      <td>4</td>\n    </tr>\n    <tr>\n      <th>2</th>\n      <td>Nacional2</td>\n      <td>65047.99</td>\n      <td>37</td>\n    </tr>\n    <tr>\n      <th>3</th>\n      <td>Penacional</td>\n      <td>62322.00</td>\n      <td>24</td>\n    </tr>\n    <tr>\n      <th>4</th>\n      <td>Suburbia</td>\n      <td>30683.83</td>\n      <td>32</td>\n    </tr>\n  </tbody>\n</table>\n</div>"
     },
     "metadata": {},
     "execution_count": 77
    }
   ],
   "source": [
    "#Pagos de Liverpool que no tienen promesa asignada\n",
    "gestion_liv_mes2 = gestion_liv_mes.drop_duplicates(subset='credito')\n",
    "pagos_noasig_liv = pd.merge(pagos_liv2,gestion_liv_mes2[['credito','nombre_credito']],left_on='Cuenta',right_on='credito',how='left')\n",
    "pagos_noasig_liv = pagos_noasig_liv.loc[pagos_noasig_liv['nombre_credito'].isnull()]\n",
    "pagos_noasig_liv_pivot = pd.pivot_table(pagos_noasig_liv,index=['segmento'],values=['Monto'],aggfunc=[np.sum,'count'])\n",
    "pagos_noasig_liv_pivot = pd.DataFrame(pagos_noasig_liv_pivot.to_records())\n",
    "pagos_noasig_liv_pivot.columns = ['Division','RecuperadoSinPromesa','PagosNoPromesa']\n",
    "pagos_noasig_liv_pivot"
   ]
  },
  {
   "cell_type": "code",
   "execution_count": 78,
   "metadata": {},
   "outputs": [
    {
     "output_type": "execute_result",
     "data": {
      "text/plain": [
       "        Division  RecuperadoSinPromesa  PagosNoPromesa\n",
       "0  Extrajudicial              206326.3              33"
      ],
      "text/html": "<div>\n<style scoped>\n    .dataframe tbody tr th:only-of-type {\n        vertical-align: middle;\n    }\n\n    .dataframe tbody tr th {\n        vertical-align: top;\n    }\n\n    .dataframe thead th {\n        text-align: right;\n    }\n</style>\n<table border=\"1\" class=\"dataframe\">\n  <thead>\n    <tr style=\"text-align: right;\">\n      <th></th>\n      <th>Division</th>\n      <th>RecuperadoSinPromesa</th>\n      <th>PagosNoPromesa</th>\n    </tr>\n  </thead>\n  <tbody>\n    <tr>\n      <th>0</th>\n      <td>Extrajudicial</td>\n      <td>206326.3</td>\n      <td>33</td>\n    </tr>\n  </tbody>\n</table>\n</div>"
     },
     "metadata": {},
     "execution_count": 78
    }
   ],
   "source": [
    "#Pagos de Liverpool que no tienen promesa asignada\n",
    "gestion_cred2 = gestion_cred.drop_duplicates(subset='credito')\n",
    "pagos_noasig_cred = pd.merge(pagos_cred,gestion_cred2[['credito','nombre_credito']],left_on='ID',right_on='credito',how='left')\n",
    "pagos_noasig_cred = pagos_noasig_cred.loc[pagos_noasig_cred['nombre_credito'].isnull()]\n",
    "pagos_noasig_cred['Cliente'] = 'Extrajudicial'\n",
    "pagos_noasig_cred_pivot = pd.pivot_table(pagos_noasig_cred,index=['Cliente'],values=['IMPORTE'],aggfunc=[np.sum,'count'])\n",
    "pagos_noasig_cred_pivot = pd.DataFrame(pagos_noasig_cred_pivot.to_records())\n",
    "pagos_noasig_cred_pivot.columns = ['Division','RecuperadoSinPromesa','PagosNoPromesa']\n",
    "pagos_noasig_cred_pivot"
   ]
  },
  {
   "cell_type": "code",
   "execution_count": 79,
   "metadata": {},
   "outputs": [
    {
     "output_type": "execute_result",
     "data": {
      "text/plain": [
       "         Division  RecuperadoSinPromesa\n",
       "0   Extrajudicial             206326.30\n",
       "1             Cof              65361.78\n",
       "2        Dictamen               4305.00\n",
       "3       Nacional2              65047.99\n",
       "4      Penacional              62322.00\n",
       "5        Suburbia              30683.83\n",
       "6               A              49076.00\n",
       "7               B              21817.00\n",
       "8          C0 4PV             152128.32\n",
       "9          C0 5PV              72912.04\n",
       "10         C0 6PV              47234.50\n",
       "11             C1              91747.00\n",
       "12             C2              43231.84\n",
       "13             C3               5899.00\n",
       "14             C4               2897.00"
      ],
      "text/html": "<div>\n<style scoped>\n    .dataframe tbody tr th:only-of-type {\n        vertical-align: middle;\n    }\n\n    .dataframe tbody tr th {\n        vertical-align: top;\n    }\n\n    .dataframe thead th {\n        text-align: right;\n    }\n</style>\n<table border=\"1\" class=\"dataframe\">\n  <thead>\n    <tr style=\"text-align: right;\">\n      <th></th>\n      <th>Division</th>\n      <th>RecuperadoSinPromesa</th>\n    </tr>\n  </thead>\n  <tbody>\n    <tr>\n      <th>0</th>\n      <td>Extrajudicial</td>\n      <td>206326.30</td>\n    </tr>\n    <tr>\n      <th>1</th>\n      <td>Cof</td>\n      <td>65361.78</td>\n    </tr>\n    <tr>\n      <th>2</th>\n      <td>Dictamen</td>\n      <td>4305.00</td>\n    </tr>\n    <tr>\n      <th>3</th>\n      <td>Nacional2</td>\n      <td>65047.99</td>\n    </tr>\n    <tr>\n      <th>4</th>\n      <td>Penacional</td>\n      <td>62322.00</td>\n    </tr>\n    <tr>\n      <th>5</th>\n      <td>Suburbia</td>\n      <td>30683.83</td>\n    </tr>\n    <tr>\n      <th>6</th>\n      <td>A</td>\n      <td>49076.00</td>\n    </tr>\n    <tr>\n      <th>7</th>\n      <td>B</td>\n      <td>21817.00</td>\n    </tr>\n    <tr>\n      <th>8</th>\n      <td>C0 4PV</td>\n      <td>152128.32</td>\n    </tr>\n    <tr>\n      <th>9</th>\n      <td>C0 5PV</td>\n      <td>72912.04</td>\n    </tr>\n    <tr>\n      <th>10</th>\n      <td>C0 6PV</td>\n      <td>47234.50</td>\n    </tr>\n    <tr>\n      <th>11</th>\n      <td>C1</td>\n      <td>91747.00</td>\n    </tr>\n    <tr>\n      <th>12</th>\n      <td>C2</td>\n      <td>43231.84</td>\n    </tr>\n    <tr>\n      <th>13</th>\n      <td>C3</td>\n      <td>5899.00</td>\n    </tr>\n    <tr>\n      <th>14</th>\n      <td>C4</td>\n      <td>2897.00</td>\n    </tr>\n  </tbody>\n</table>\n</div>"
     },
     "metadata": {},
     "execution_count": 79
    }
   ],
   "source": [
    "list1 = [pagos_noasig_cred_pivot,pagos_noasig_liv_pivot,pagos_noasig_brad_pivot]\n",
    "pagos_noasig_naucalpan = pd.concat(list1,ignore_index=True)\n",
    "pagos_noasig_naucalpan = pagos_noasig_naucalpan.iloc[:,:-1]\n",
    "pagos_noasig_naucalpan"
   ]
  },
  {
   "source": [
    "# Union Naucalpan"
   ],
   "cell_type": "markdown",
   "metadata": {}
  },
  {
   "cell_type": "code",
   "execution_count": 80,
   "metadata": {},
   "outputs": [
    {
     "output_type": "execute_result",
     "data": {
      "text/plain": [
       "      Pais   Sucursal       Cliente       Division   Facturacion  FechaFact  \\\n",
       "0   Mexico  Naucalpan     Liverpool            Cof  202914.61000 2021-01-25   \n",
       "1   Mexico  Naucalpan     Liverpool       Dictamen    2809.76000 2021-01-25   \n",
       "2   Mexico  Naucalpan     Liverpool      Nacional2  208737.20000 2021-01-25   \n",
       "3   Mexico  Naucalpan     Liverpool     Penacional  202896.40000 2021-01-25   \n",
       "4   Mexico  Naucalpan     Liverpool       Suburbia   34437.01000 2021-01-25   \n",
       "5   Mexico  Naucalpan      Bradesco              A   23473.26000 2021-01-21   \n",
       "6   Mexico  Naucalpan      Bradesco              B    6341.00000 2021-01-21   \n",
       "7   Mexico  Naucalpan      Bradesco         C0 4PV   33309.52000 2021-01-21   \n",
       "8   Mexico  Naucalpan      Bradesco         C0 5PV   17941.69000 2021-01-21   \n",
       "9   Mexico  Naucalpan      Bradesco         C0 6PV   15804.45000 2021-01-21   \n",
       "10  Mexico  Naucalpan      Bradesco             C1   39580.93000 2021-01-21   \n",
       "11  Mexico  Naucalpan      Bradesco             C2   36974.54000 2021-01-21   \n",
       "12  Mexico  Naucalpan      Bradesco             C3   20586.30000 2021-01-21   \n",
       "13  Mexico  Naucalpan      Bradesco             C4    5028.49000 2021-01-21   \n",
       "14  Mexico  Naucalpan     Credifiel  Extrajudicial   52775.83300 2021-01-21   \n",
       "15  Mexico  Naucalpan  Banco Azteca       Cobranza  388981.72447 2021-01-24   \n",
       "\n",
       "    Recuperado  RestSigArancel  PromesasRestantes  RecuperadoSinPromesa  \\\n",
       "0    405829.22       194170.78          113978.00              65361.78   \n",
       "1     17561.00      2169939.00               0.00               4305.00   \n",
       "2    521842.99      1103157.01          101492.00              65047.99   \n",
       "3    724630.00       346798.60           95404.87              62322.00   \n",
       "4    229580.06      1770419.94           64694.10              30683.83   \n",
       "5     86938.00       173252.00            6868.00              49076.00   \n",
       "6     25364.00       189719.00            5864.00              21817.00   \n",
       "7    475850.32       728853.68          212773.50             152128.32   \n",
       "8    199352.07       462916.93          146938.00              72912.04   \n",
       "9    158044.50       649127.50           42641.00              47234.50   \n",
       "10   232829.00      1198160.00          128301.00              91747.00   \n",
       "11   194602.84       432031.16           91624.00              43231.84   \n",
       "12    98030.00       148395.00           27696.00               5899.00   \n",
       "13    21863.00       101666.00           10183.00               2897.00   \n",
       "14        0.00            0.00          136014.48             206326.30   \n",
       "15        0.00            0.00          304693.00                  0.00   \n",
       "\n",
       "    TendenciaCierre1  \n",
       "0      243497.532000  \n",
       "1        3371.712000  \n",
       "2      250484.640000  \n",
       "3      243475.680000  \n",
       "4       41324.412000  \n",
       "5       33533.228571  \n",
       "6        9058.571429  \n",
       "7       47585.028571  \n",
       "8       25630.985714  \n",
       "9       22577.785714  \n",
       "10      56544.185714  \n",
       "11      52820.771429  \n",
       "12      29409.000000  \n",
       "13       7183.557143  \n",
       "14      75394.047143  \n",
       "15     486227.155588  "
      ],
      "text/html": "<div>\n<style scoped>\n    .dataframe tbody tr th:only-of-type {\n        vertical-align: middle;\n    }\n\n    .dataframe tbody tr th {\n        vertical-align: top;\n    }\n\n    .dataframe thead th {\n        text-align: right;\n    }\n</style>\n<table border=\"1\" class=\"dataframe\">\n  <thead>\n    <tr style=\"text-align: right;\">\n      <th></th>\n      <th>Pais</th>\n      <th>Sucursal</th>\n      <th>Cliente</th>\n      <th>Division</th>\n      <th>Facturacion</th>\n      <th>FechaFact</th>\n      <th>Recuperado</th>\n      <th>RestSigArancel</th>\n      <th>PromesasRestantes</th>\n      <th>RecuperadoSinPromesa</th>\n      <th>TendenciaCierre1</th>\n    </tr>\n  </thead>\n  <tbody>\n    <tr>\n      <th>0</th>\n      <td>Mexico</td>\n      <td>Naucalpan</td>\n      <td>Liverpool</td>\n      <td>Cof</td>\n      <td>202914.61000</td>\n      <td>2021-01-25</td>\n      <td>405829.22</td>\n      <td>194170.78</td>\n      <td>113978.00</td>\n      <td>65361.78</td>\n      <td>243497.532000</td>\n    </tr>\n    <tr>\n      <th>1</th>\n      <td>Mexico</td>\n      <td>Naucalpan</td>\n      <td>Liverpool</td>\n      <td>Dictamen</td>\n      <td>2809.76000</td>\n      <td>2021-01-25</td>\n      <td>17561.00</td>\n      <td>2169939.00</td>\n      <td>0.00</td>\n      <td>4305.00</td>\n      <td>3371.712000</td>\n    </tr>\n    <tr>\n      <th>2</th>\n      <td>Mexico</td>\n      <td>Naucalpan</td>\n      <td>Liverpool</td>\n      <td>Nacional2</td>\n      <td>208737.20000</td>\n      <td>2021-01-25</td>\n      <td>521842.99</td>\n      <td>1103157.01</td>\n      <td>101492.00</td>\n      <td>65047.99</td>\n      <td>250484.640000</td>\n    </tr>\n    <tr>\n      <th>3</th>\n      <td>Mexico</td>\n      <td>Naucalpan</td>\n      <td>Liverpool</td>\n      <td>Penacional</td>\n      <td>202896.40000</td>\n      <td>2021-01-25</td>\n      <td>724630.00</td>\n      <td>346798.60</td>\n      <td>95404.87</td>\n      <td>62322.00</td>\n      <td>243475.680000</td>\n    </tr>\n    <tr>\n      <th>4</th>\n      <td>Mexico</td>\n      <td>Naucalpan</td>\n      <td>Liverpool</td>\n      <td>Suburbia</td>\n      <td>34437.01000</td>\n      <td>2021-01-25</td>\n      <td>229580.06</td>\n      <td>1770419.94</td>\n      <td>64694.10</td>\n      <td>30683.83</td>\n      <td>41324.412000</td>\n    </tr>\n    <tr>\n      <th>5</th>\n      <td>Mexico</td>\n      <td>Naucalpan</td>\n      <td>Bradesco</td>\n      <td>A</td>\n      <td>23473.26000</td>\n      <td>2021-01-21</td>\n      <td>86938.00</td>\n      <td>173252.00</td>\n      <td>6868.00</td>\n      <td>49076.00</td>\n      <td>33533.228571</td>\n    </tr>\n    <tr>\n      <th>6</th>\n      <td>Mexico</td>\n      <td>Naucalpan</td>\n      <td>Bradesco</td>\n      <td>B</td>\n      <td>6341.00000</td>\n      <td>2021-01-21</td>\n      <td>25364.00</td>\n      <td>189719.00</td>\n      <td>5864.00</td>\n      <td>21817.00</td>\n      <td>9058.571429</td>\n    </tr>\n    <tr>\n      <th>7</th>\n      <td>Mexico</td>\n      <td>Naucalpan</td>\n      <td>Bradesco</td>\n      <td>C0 4PV</td>\n      <td>33309.52000</td>\n      <td>2021-01-21</td>\n      <td>475850.32</td>\n      <td>728853.68</td>\n      <td>212773.50</td>\n      <td>152128.32</td>\n      <td>47585.028571</td>\n    </tr>\n    <tr>\n      <th>8</th>\n      <td>Mexico</td>\n      <td>Naucalpan</td>\n      <td>Bradesco</td>\n      <td>C0 5PV</td>\n      <td>17941.69000</td>\n      <td>2021-01-21</td>\n      <td>199352.07</td>\n      <td>462916.93</td>\n      <td>146938.00</td>\n      <td>72912.04</td>\n      <td>25630.985714</td>\n    </tr>\n    <tr>\n      <th>9</th>\n      <td>Mexico</td>\n      <td>Naucalpan</td>\n      <td>Bradesco</td>\n      <td>C0 6PV</td>\n      <td>15804.45000</td>\n      <td>2021-01-21</td>\n      <td>158044.50</td>\n      <td>649127.50</td>\n      <td>42641.00</td>\n      <td>47234.50</td>\n      <td>22577.785714</td>\n    </tr>\n    <tr>\n      <th>10</th>\n      <td>Mexico</td>\n      <td>Naucalpan</td>\n      <td>Bradesco</td>\n      <td>C1</td>\n      <td>39580.93000</td>\n      <td>2021-01-21</td>\n      <td>232829.00</td>\n      <td>1198160.00</td>\n      <td>128301.00</td>\n      <td>91747.00</td>\n      <td>56544.185714</td>\n    </tr>\n    <tr>\n      <th>11</th>\n      <td>Mexico</td>\n      <td>Naucalpan</td>\n      <td>Bradesco</td>\n      <td>C2</td>\n      <td>36974.54000</td>\n      <td>2021-01-21</td>\n      <td>194602.84</td>\n      <td>432031.16</td>\n      <td>91624.00</td>\n      <td>43231.84</td>\n      <td>52820.771429</td>\n    </tr>\n    <tr>\n      <th>12</th>\n      <td>Mexico</td>\n      <td>Naucalpan</td>\n      <td>Bradesco</td>\n      <td>C3</td>\n      <td>20586.30000</td>\n      <td>2021-01-21</td>\n      <td>98030.00</td>\n      <td>148395.00</td>\n      <td>27696.00</td>\n      <td>5899.00</td>\n      <td>29409.000000</td>\n    </tr>\n    <tr>\n      <th>13</th>\n      <td>Mexico</td>\n      <td>Naucalpan</td>\n      <td>Bradesco</td>\n      <td>C4</td>\n      <td>5028.49000</td>\n      <td>2021-01-21</td>\n      <td>21863.00</td>\n      <td>101666.00</td>\n      <td>10183.00</td>\n      <td>2897.00</td>\n      <td>7183.557143</td>\n    </tr>\n    <tr>\n      <th>14</th>\n      <td>Mexico</td>\n      <td>Naucalpan</td>\n      <td>Credifiel</td>\n      <td>Extrajudicial</td>\n      <td>52775.83300</td>\n      <td>2021-01-21</td>\n      <td>0.00</td>\n      <td>0.00</td>\n      <td>136014.48</td>\n      <td>206326.30</td>\n      <td>75394.047143</td>\n    </tr>\n    <tr>\n      <th>15</th>\n      <td>Mexico</td>\n      <td>Naucalpan</td>\n      <td>Banco Azteca</td>\n      <td>Cobranza</td>\n      <td>388981.72447</td>\n      <td>2021-01-24</td>\n      <td>0.00</td>\n      <td>0.00</td>\n      <td>304693.00</td>\n      <td>0.00</td>\n      <td>486227.155588</td>\n    </tr>\n  </tbody>\n</table>\n</div>"
     },
     "metadata": {},
     "execution_count": 80
    }
   ],
   "source": [
    "toadd_nau = [final_liv,final_brad,final_cred,final_baz]\n",
    "final_naucalpan = pd.concat(toadd_nau,ignore_index=True)\n",
    "final_naucalpan = pd.merge(final_naucalpan,pagos_noasig_naucalpan,on='Division',how='left')\n",
    "final_naucalpan.insert(loc=0,column='Sucursal',value='Naucalpan')\n",
    "final_naucalpan.insert(loc=0,column='Pais',value='Mexico')\n",
    "final_naucalpan['TendenciaCierre1'] = [(30/x.day)*y for x,y in zip(final_naucalpan['FechaFact'],final_naucalpan['Facturacion'])]\n",
    "final_naucalpan.fillna(0,inplace=True)\n",
    "final_naucalpan"
   ]
  },
  {
   "cell_type": "code",
   "execution_count": 81,
   "metadata": {},
   "outputs": [
    {
     "output_type": "execute_result",
     "data": {
      "text/plain": [
       "    Sucursal       Cliente    Facturacion  FechaFact     Meta\n",
       "0  Naucalpan     Liverpool  651794.980000 2021-01-25  1150000\n",
       "1  Naucalpan      Bradesco  199040.178300 2021-01-21   750000\n",
       "2  Naucalpan     Credifiel   52775.833000 2021-01-21   100000\n",
       "3  Naucalpan  Banco Azteca  388981.724470 2021-01-24   880000\n",
       "4  Naucalpan  Banco Azteca  870133.333333 2021-01-27  1004000"
      ],
      "text/html": "<div>\n<style scoped>\n    .dataframe tbody tr th:only-of-type {\n        vertical-align: middle;\n    }\n\n    .dataframe tbody tr th {\n        vertical-align: top;\n    }\n\n    .dataframe thead th {\n        text-align: right;\n    }\n</style>\n<table border=\"1\" class=\"dataframe\">\n  <thead>\n    <tr style=\"text-align: right;\">\n      <th></th>\n      <th>Sucursal</th>\n      <th>Cliente</th>\n      <th>Facturacion</th>\n      <th>FechaFact</th>\n      <th>Meta</th>\n    </tr>\n  </thead>\n  <tbody>\n    <tr>\n      <th>0</th>\n      <td>Naucalpan</td>\n      <td>Liverpool</td>\n      <td>651794.980000</td>\n      <td>2021-01-25</td>\n      <td>1150000</td>\n    </tr>\n    <tr>\n      <th>1</th>\n      <td>Naucalpan</td>\n      <td>Bradesco</td>\n      <td>199040.178300</td>\n      <td>2021-01-21</td>\n      <td>750000</td>\n    </tr>\n    <tr>\n      <th>2</th>\n      <td>Naucalpan</td>\n      <td>Credifiel</td>\n      <td>52775.833000</td>\n      <td>2021-01-21</td>\n      <td>100000</td>\n    </tr>\n    <tr>\n      <th>3</th>\n      <td>Naucalpan</td>\n      <td>Banco Azteca</td>\n      <td>388981.724470</td>\n      <td>2021-01-24</td>\n      <td>880000</td>\n    </tr>\n    <tr>\n      <th>4</th>\n      <td>Naucalpan</td>\n      <td>Banco Azteca</td>\n      <td>870133.333333</td>\n      <td>2021-01-27</td>\n      <td>1004000</td>\n    </tr>\n  </tbody>\n</table>\n</div>"
     },
     "metadata": {},
     "execution_count": 81
    }
   ],
   "source": [
    "pdList = [pagos_totales_liv2,pagos_totales_brad2,pagos_totales_cred,pagos_fact_baz]\n",
    "final_naucalpan2 = pd.concat(pdList,ignore_index=True)\n",
    "final_naucalpan2 = final_naucalpan2.iloc[:,:-3]\n",
    "final_naucalpan2 = pd.merge(final_naucalpan2,meta_naucalpan,on=['Cliente'],how='left')\n",
    "final_naucalpan2.insert(loc=0,column='Sucursal',value='Naucalpan')\n",
    "final_naucalpan2\n",
    "baz_renta = pd.DataFrame([['Naucalpan','Banco Azteca',meta_baz_renta*day/30,ayer,meta_baz_renta]],columns=['Sucursal','Cliente','Facturacion','FechaFact','Meta'])\n",
    "final_naucalpan2 = pd.concat([final_naucalpan2,baz_renta],ignore_index=True)\n",
    "final_naucalpan2"
   ]
  },
  {
   "cell_type": "code",
   "execution_count": 82,
   "metadata": {},
   "outputs": [
    {
     "output_type": "execute_result",
     "data": {
      "text/plain": [
       "     Sucursal           Cliente   Facturacion  FechaFact       Meta   Avance%  \\\n",
       "0   Guatemala         Arabela G  4.235000e+03 2021-01-24    12750.0  0.332157   \n",
       "1   Guatemala            Avon G  2.228325e+05 2021-01-21   625000.0  0.356532   \n",
       "2   Guatemala      Banco Azteca  1.678975e+05 2021-01-27   417500.0  0.402150   \n",
       "3   Guatemala  Banco Credomatic  1.965750e+04 2021-01-22    42500.0  0.462529   \n",
       "4   Guatemala           Belcorp  1.246750e+04 2021-01-21    12500.0  0.997400   \n",
       "5   Naucalpan      Banco Azteca  1.259115e+06 2021-01-27  1884000.0  0.668320   \n",
       "6   Naucalpan          Bradesco  1.990402e+05 2021-01-21   750000.0  0.265387   \n",
       "7   Naucalpan         Credifiel  5.277583e+04 2021-01-21   100000.0  0.527758   \n",
       "8   Naucalpan         Liverpool  6.517950e+05 2021-01-25  1150000.0  0.566778   \n",
       "9      Panama       Adel Panama  2.978000e+04 2021-01-22    60000.0  0.496333   \n",
       "10     Panama              Avon  3.700000e+04 2021-01-25    65000.0  0.569231   \n",
       "11     Panama      Banco Azteca  9.387800e+05 2021-01-24   760000.0  1.235237   \n",
       "12     Panama        Cable Onda  6.160000e+04 2021-01-25    96000.0  0.641667   \n",
       "13     Panama             Jamar  1.000000e+05 2021-01-25   160000.0  0.625000   \n",
       "14     Panama           Rodelag  0.000000e+00 2021-01-01    70000.0  0.000000   \n",
       "15    Torreon           Arabela  6.510600e+04 2021-01-26    95000.0  0.685326   \n",
       "16    Torreon              Avon  1.719720e+05 2021-01-20   890000.0  0.193227   \n",
       "17    Torreon            Cimaco  5.470000e+02 2021-01-10     3500.0  0.156286   \n",
       "18    Torreon      Cristian Lay  2.896000e+03 2021-01-24     6000.0  0.482667   \n",
       "19    Torreon             Invex  8.196140e+05 2021-01-26  1095000.0  0.748506   \n",
       "20    Torreon          Oriflame  3.850000e+04 2021-01-26    65000.0  0.592308   \n",
       "\n",
       "      MetaDia  TendenciaCierre  Semaforo  \n",
       "0     10200.0     5.293750e+03      rojo  \n",
       "1    437500.0     3.183321e+05      rojo  \n",
       "2    375750.0     1.865528e+05      rojo  \n",
       "3     31167.0     2.680568e+04      rojo  \n",
       "4      8750.0     1.781071e+04     verde  \n",
       "5   1695600.0     1.399017e+06      rojo  \n",
       "6    525000.0     2.843431e+05      rojo  \n",
       "7     70000.0     7.539405e+04  amarillo  \n",
       "8    958333.0     7.821540e+05      rojo  \n",
       "9     44000.0     4.060909e+04      rojo  \n",
       "10    54167.0     4.440000e+04      rojo  \n",
       "11   608000.0     1.173475e+06     verde  \n",
       "12    80000.0     7.392000e+04  amarillo  \n",
       "13   133333.0     1.200000e+05  amarillo  \n",
       "14     2333.0     0.000000e+00      rojo  \n",
       "15    82333.0     7.512231e+04  amarillo  \n",
       "16   593333.0     2.579580e+05      rojo  \n",
       "17     1167.0     1.641000e+03      rojo  \n",
       "18     4800.0     3.620000e+03      rojo  \n",
       "19   949000.0     9.457085e+05  amarillo  \n",
       "20    56333.0     4.442308e+04      rojo  "
      ],
      "text/html": "<div>\n<style scoped>\n    .dataframe tbody tr th:only-of-type {\n        vertical-align: middle;\n    }\n\n    .dataframe tbody tr th {\n        vertical-align: top;\n    }\n\n    .dataframe thead th {\n        text-align: right;\n    }\n</style>\n<table border=\"1\" class=\"dataframe\">\n  <thead>\n    <tr style=\"text-align: right;\">\n      <th></th>\n      <th>Sucursal</th>\n      <th>Cliente</th>\n      <th>Facturacion</th>\n      <th>FechaFact</th>\n      <th>Meta</th>\n      <th>Avance%</th>\n      <th>MetaDia</th>\n      <th>TendenciaCierre</th>\n      <th>Semaforo</th>\n    </tr>\n  </thead>\n  <tbody>\n    <tr>\n      <th>0</th>\n      <td>Guatemala</td>\n      <td>Arabela G</td>\n      <td>4.235000e+03</td>\n      <td>2021-01-24</td>\n      <td>12750.0</td>\n      <td>0.332157</td>\n      <td>10200.0</td>\n      <td>5.293750e+03</td>\n      <td>rojo</td>\n    </tr>\n    <tr>\n      <th>1</th>\n      <td>Guatemala</td>\n      <td>Avon G</td>\n      <td>2.228325e+05</td>\n      <td>2021-01-21</td>\n      <td>625000.0</td>\n      <td>0.356532</td>\n      <td>437500.0</td>\n      <td>3.183321e+05</td>\n      <td>rojo</td>\n    </tr>\n    <tr>\n      <th>2</th>\n      <td>Guatemala</td>\n      <td>Banco Azteca</td>\n      <td>1.678975e+05</td>\n      <td>2021-01-27</td>\n      <td>417500.0</td>\n      <td>0.402150</td>\n      <td>375750.0</td>\n      <td>1.865528e+05</td>\n      <td>rojo</td>\n    </tr>\n    <tr>\n      <th>3</th>\n      <td>Guatemala</td>\n      <td>Banco Credomatic</td>\n      <td>1.965750e+04</td>\n      <td>2021-01-22</td>\n      <td>42500.0</td>\n      <td>0.462529</td>\n      <td>31167.0</td>\n      <td>2.680568e+04</td>\n      <td>rojo</td>\n    </tr>\n    <tr>\n      <th>4</th>\n      <td>Guatemala</td>\n      <td>Belcorp</td>\n      <td>1.246750e+04</td>\n      <td>2021-01-21</td>\n      <td>12500.0</td>\n      <td>0.997400</td>\n      <td>8750.0</td>\n      <td>1.781071e+04</td>\n      <td>verde</td>\n    </tr>\n    <tr>\n      <th>5</th>\n      <td>Naucalpan</td>\n      <td>Banco Azteca</td>\n      <td>1.259115e+06</td>\n      <td>2021-01-27</td>\n      <td>1884000.0</td>\n      <td>0.668320</td>\n      <td>1695600.0</td>\n      <td>1.399017e+06</td>\n      <td>rojo</td>\n    </tr>\n    <tr>\n      <th>6</th>\n      <td>Naucalpan</td>\n      <td>Bradesco</td>\n      <td>1.990402e+05</td>\n      <td>2021-01-21</td>\n      <td>750000.0</td>\n      <td>0.265387</td>\n      <td>525000.0</td>\n      <td>2.843431e+05</td>\n      <td>rojo</td>\n    </tr>\n    <tr>\n      <th>7</th>\n      <td>Naucalpan</td>\n      <td>Credifiel</td>\n      <td>5.277583e+04</td>\n      <td>2021-01-21</td>\n      <td>100000.0</td>\n      <td>0.527758</td>\n      <td>70000.0</td>\n      <td>7.539405e+04</td>\n      <td>amarillo</td>\n    </tr>\n    <tr>\n      <th>8</th>\n      <td>Naucalpan</td>\n      <td>Liverpool</td>\n      <td>6.517950e+05</td>\n      <td>2021-01-25</td>\n      <td>1150000.0</td>\n      <td>0.566778</td>\n      <td>958333.0</td>\n      <td>7.821540e+05</td>\n      <td>rojo</td>\n    </tr>\n    <tr>\n      <th>9</th>\n      <td>Panama</td>\n      <td>Adel Panama</td>\n      <td>2.978000e+04</td>\n      <td>2021-01-22</td>\n      <td>60000.0</td>\n      <td>0.496333</td>\n      <td>44000.0</td>\n      <td>4.060909e+04</td>\n      <td>rojo</td>\n    </tr>\n    <tr>\n      <th>10</th>\n      <td>Panama</td>\n      <td>Avon</td>\n      <td>3.700000e+04</td>\n      <td>2021-01-25</td>\n      <td>65000.0</td>\n      <td>0.569231</td>\n      <td>54167.0</td>\n      <td>4.440000e+04</td>\n      <td>rojo</td>\n    </tr>\n    <tr>\n      <th>11</th>\n      <td>Panama</td>\n      <td>Banco Azteca</td>\n      <td>9.387800e+05</td>\n      <td>2021-01-24</td>\n      <td>760000.0</td>\n      <td>1.235237</td>\n      <td>608000.0</td>\n      <td>1.173475e+06</td>\n      <td>verde</td>\n    </tr>\n    <tr>\n      <th>12</th>\n      <td>Panama</td>\n      <td>Cable Onda</td>\n      <td>6.160000e+04</td>\n      <td>2021-01-25</td>\n      <td>96000.0</td>\n      <td>0.641667</td>\n      <td>80000.0</td>\n      <td>7.392000e+04</td>\n      <td>amarillo</td>\n    </tr>\n    <tr>\n      <th>13</th>\n      <td>Panama</td>\n      <td>Jamar</td>\n      <td>1.000000e+05</td>\n      <td>2021-01-25</td>\n      <td>160000.0</td>\n      <td>0.625000</td>\n      <td>133333.0</td>\n      <td>1.200000e+05</td>\n      <td>amarillo</td>\n    </tr>\n    <tr>\n      <th>14</th>\n      <td>Panama</td>\n      <td>Rodelag</td>\n      <td>0.000000e+00</td>\n      <td>2021-01-01</td>\n      <td>70000.0</td>\n      <td>0.000000</td>\n      <td>2333.0</td>\n      <td>0.000000e+00</td>\n      <td>rojo</td>\n    </tr>\n    <tr>\n      <th>15</th>\n      <td>Torreon</td>\n      <td>Arabela</td>\n      <td>6.510600e+04</td>\n      <td>2021-01-26</td>\n      <td>95000.0</td>\n      <td>0.685326</td>\n      <td>82333.0</td>\n      <td>7.512231e+04</td>\n      <td>amarillo</td>\n    </tr>\n    <tr>\n      <th>16</th>\n      <td>Torreon</td>\n      <td>Avon</td>\n      <td>1.719720e+05</td>\n      <td>2021-01-20</td>\n      <td>890000.0</td>\n      <td>0.193227</td>\n      <td>593333.0</td>\n      <td>2.579580e+05</td>\n      <td>rojo</td>\n    </tr>\n    <tr>\n      <th>17</th>\n      <td>Torreon</td>\n      <td>Cimaco</td>\n      <td>5.470000e+02</td>\n      <td>2021-01-10</td>\n      <td>3500.0</td>\n      <td>0.156286</td>\n      <td>1167.0</td>\n      <td>1.641000e+03</td>\n      <td>rojo</td>\n    </tr>\n    <tr>\n      <th>18</th>\n      <td>Torreon</td>\n      <td>Cristian Lay</td>\n      <td>2.896000e+03</td>\n      <td>2021-01-24</td>\n      <td>6000.0</td>\n      <td>0.482667</td>\n      <td>4800.0</td>\n      <td>3.620000e+03</td>\n      <td>rojo</td>\n    </tr>\n    <tr>\n      <th>19</th>\n      <td>Torreon</td>\n      <td>Invex</td>\n      <td>8.196140e+05</td>\n      <td>2021-01-26</td>\n      <td>1095000.0</td>\n      <td>0.748506</td>\n      <td>949000.0</td>\n      <td>9.457085e+05</td>\n      <td>amarillo</td>\n    </tr>\n    <tr>\n      <th>20</th>\n      <td>Torreon</td>\n      <td>Oriflame</td>\n      <td>3.850000e+04</td>\n      <td>2021-01-26</td>\n      <td>65000.0</td>\n      <td>0.592308</td>\n      <td>56333.0</td>\n      <td>4.442308e+04</td>\n      <td>rojo</td>\n    </tr>\n  </tbody>\n</table>\n</div>"
     },
     "metadata": {},
     "execution_count": 82
    }
   ],
   "source": [
    "toadd_final = [final_naucalpan2,final_torreon,final_guatemala,final_panama]\n",
    "final_sucursales = pd.concat(toadd_final,ignore_index=True)\n",
    "\n",
    "final_sucursales2 = pd.pivot_table(final_sucursales,index=['Sucursal','Cliente'],values=['Facturacion','Meta','FechaFact'],aggfunc=[np.sum,np.max])\n",
    "final_sucursales2 = pd.DataFrame(final_sucursales2.to_records())\n",
    "final_sucursales2 = final_sucursales2.iloc[:,[0,1,2,5,3]]\n",
    "final_sucursales2.columns = ['Sucursal','Cliente','Facturacion','FechaFact','Meta']\n",
    "\n",
    "final_sucursales2['Avance%'] = final_sucursales2['Facturacion']/final_sucursales2['Meta']\n",
    "final_sucursales2['MetaDia'] = ((final_sucursales2['FechaFact'].dt.day/30)*final_sucursales2['Meta']).round()\n",
    "final_sucursales2['TendenciaCierre'] = [(30/x.day)*y for x,y in zip(final_sucursales2['FechaFact'],final_sucursales2['Facturacion'])]\n",
    "final_sucursales2['Semaforo'] = np.where(final_sucursales2['MetaDia']<=final_sucursales2['Facturacion'],'verde',\n",
    "                                np.where((final_sucursales2['MetaDia']*.75<=final_sucursales2['Facturacion']) &                                       (final_sucursales2['MetaDia']>final_sucursales2['Facturacion']),'amarillo','rojo'))\n",
    "fecha_fact = datetime.strftime(max(final_sucursales2['FechaFact']),'%d-%m-%Y')\n",
    "\n",
    "final_sucursales2"
   ]
  },
  {
   "cell_type": "code",
   "execution_count": null,
   "metadata": {},
   "outputs": [],
   "source": []
  },
  {
   "cell_type": "code",
   "execution_count": 83,
   "metadata": {},
   "outputs": [],
   "source": [
    "writer = pd.ExcelWriter(''+ruta+'/'+mes2+'/Reportes diarios/Avance pagos/Avance Pagos '+fecha_fact+'.xlsx',engine='xlsxwriter')\n",
    "final_sucursales2.to_excel(writer,'FactCliente',index=False,header=True)\n",
    "final_naucalpan.to_excel(writer,'Naucalpan',index=False,header=True)\n",
    "\n",
    "writer.save()"
   ]
  },
  {
   "cell_type": "code",
   "execution_count": null,
   "metadata": {},
   "outputs": [],
   "source": []
  }
 ]
}