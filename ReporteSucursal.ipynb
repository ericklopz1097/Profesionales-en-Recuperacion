{
 "metadata": {
  "language_info": {
   "codemirror_mode": {
    "name": "ipython",
    "version": 3
   },
   "file_extension": ".py",
   "mimetype": "text/x-python",
   "name": "python",
   "nbconvert_exporter": "python",
   "pygments_lexer": "ipython3",
   "version": "3.8.5-final"
  },
  "orig_nbformat": 2,
  "kernelspec": {
   "name": "python3",
   "display_name": "Python 3",
   "language": "python"
  }
 },
 "nbformat": 4,
 "nbformat_minor": 2,
 "cells": [
  {
   "cell_type": "code",
   "execution_count": 1,
   "metadata": {},
   "outputs": [],
   "source": [
    "import pandas as pd\n",
    "import numpy as np\n",
    "import mysql.connector\n",
    "import os\n",
    "from mysql.connector import Error\n",
    "from datetime import datetime, date, timedelta\n",
    "from IPython.core.interactiveshell import InteractiveShell\n",
    "InteractiveShell.ast_node_interactivity = \"all\""
   ]
  },
  {
   "cell_type": "code",
   "execution_count": 2,
   "metadata": {},
   "outputs": [],
   "source": [
    "#Definimos la ruta en donde queremos guardar los archivos\n",
    "ruta_guardar = '/home/estadistico/Documents/Erick/Reportes diarios'\n",
    "ruta_asig_baz = '/home/estadistico/Documents/Erick/Banco Azteca/Asignacion csv'\n",
    "ruta_pagos = '/home/estadistico/Documents/Erick'\n",
    "mes = 20201201\n",
    "mes2 = 'Diciembre2020'\n",
    "mes3 = pd.to_datetime('01/12/2020',dayfirst=True)\n",
    "prim_sem_mes = 49"
   ]
  },
  {
   "cell_type": "code",
   "execution_count": 3,
   "metadata": {},
   "outputs": [],
   "source": [
    "#Agregamos las variables a ocupar\n",
    "servidor = '192.168.15.12'\n",
    "puerto = int('3306')\n",
    "usuario = 'estadisticas'\n",
    "contraseña = 'estadisticas8474'\n",
    "base = 'procesos_externos'"
   ]
  },
  {
   "cell_type": "code",
   "execution_count": 4,
   "metadata": {},
   "outputs": [],
   "source": [
    "#Lectura pagos Bradesco\n",
    "pagos_brad = pd.read_excel(''+ruta_pagos+'/'+str(mes2)+'/Bradesco/Pagos/ENRIQUEZ Acumulado de pagos Diciembre de 2020.xlsx')\n",
    "pagos_brad = pagos_brad.iloc[:,0:9]\n",
    "pagos_brad = pagos_brad.drop_duplicates()\n",
    "pagos_brad2 = pd.pivot_table(pagos_brad,index=['NUMERO_TARJETA','FECHA_PAGO','TIPO_ASIGANCION'],values=['MONTO'],aggfunc=np.sum)\n",
    "pagos_brad2 = pd.DataFrame(pagos_brad2.to_records())\n",
    "pagos_brad2 = pagos_brad2.loc[pagos_brad2['FECHA_PAGO']>=mes3]"
   ]
  },
  {
   "cell_type": "code",
   "execution_count": 5,
   "metadata": {},
   "outputs": [],
   "source": [
    "#Lectura pagos Liverpool\n",
    "sheet_liv = ['SA002REM','SA001REM','DKN04REM','DKN02REM','DKN00REM']\n",
    "pagos_liv = pd.DataFrame()\n",
    "for i in sheet_liv:\n",
    "    pagos_liv_new = pd.read_excel(''+ruta_pagos+'/'+str(mes2)+'/Liverpool/Pagos/PAGOS DIC LIVERPOOL .xlsx',sheet_name = str(i))\n",
    "    pagos_liv = pd.concat([pagos_liv,pagos_liv_new],ignore_index=True)\n",
    "pagos_liv = pagos_liv.drop_duplicates()\n",
    "pagos_liv = pagos_liv.iloc[:,0:6]\n",
    "pagos_liv.columns = ['Id','Cuenta','Fecha Prom','Fecha Pago','Monto','Posteo']\n",
    "try: \n",
    "    pagos_liv['Fecha Pago'] = pd.to_datetime(pagos_liv['Fecha Pago'],dayfirst=True)\n",
    "except: pagos_liv['Fecha Pago']   \n",
    "pagos_liv['Fecha Pago'] = [datetime.strftime(x,'%d/%m/%Y') for x in pagos_liv['Fecha Pago']]\n",
    "try: \n",
    "    pagos_liv['Fecha Prom'] = pd.to_datetime(pagos_liv['Fecha Prom'],dayfirst=True)\n",
    "except: pagos_liv['Fecha Prom']    \n",
    "pagos_liv['Fecha Prom'] = [datetime.strftime(x,'%d/%m/%Y') for x in pagos_liv['Fecha Prom']]\n",
    "pagos_liv2 = pd.pivot_table(pagos_liv,index=['Id','Cuenta','Fecha Pago','Fecha Prom'],values=['Monto'],aggfunc=np.sum)\n",
    "pagos_liv2 = pd.DataFrame(pagos_liv2.to_records())\n",
    "#pagos_liv2 = pagos_liv2.loc[pagos_liv2['Fecha Pago']>=mes3]"
   ]
  },
  {
   "cell_type": "code",
   "execution_count": 6,
   "metadata": {},
   "outputs": [],
   "source": [
    "#Lectura pagos Credifiel\n",
    "sheet_cred = os.listdir(''+ruta_pagos+'/'+str(mes2)+'/Credifiel/Pagos/')\n",
    "pagos_cred = pd.DataFrame()\n",
    "for j in sheet_cred:\n",
    "    pagos_cred_new = pd.read_excel(''+ruta_pagos+'/'+str(mes2)+'/Credifiel/Pagos/'+j+'')\n",
    "    pagos_cred = pd.concat([pagos_cred,pagos_cred_new],ignore_index=True)\n",
    "pagos_cred = pagos_cred.iloc[:,[12,1,8]]\n",
    "pagos_cred2 = pd.pivot_table(pagos_cred,index=['ID','FECHA'],values=['IMPORTE'],aggfunc=np.sum)\n",
    "pagos_cred2 = pd.DataFrame(pagos_cred2.to_records())"
   ]
  },
  {
   "cell_type": "code",
   "execution_count": 7,
   "metadata": {},
   "outputs": [],
   "source": [
    "#Lectura pagos Banco Azteca\n",
    "sheet_baz = os.listdir(''+ruta_pagos+'/'+str(mes2)+'/Banco Azteca/Pagos/')\n",
    "pagos_baz = pd.DataFrame()\n",
    "for k in sheet_baz:\n",
    "    pagos_baz_new = pd.read_csv(''+ruta_pagos+'/'+str(mes2)+'/Banco Azteca/Pagos/'+k+'')\n",
    "    pagos_baz = pd.concat([pagos_baz,pagos_baz_new],ignore_index=True)\n",
    "pagos_baz = pagos_baz.drop_duplicates()\n",
    "pagos_baz = pagos_baz.loc[pagos_baz['FNMONTOPAGADO']>0]\n",
    "pagos_baz['FDFECHAABONO'] = pd.to_datetime(pagos_baz['FDFECHAABONO'],dayfirst=True)\n",
    "pagos_baz = pagos_baz.loc[pagos_baz['FDFECHAABONO']>=mes3]\n",
    "pagos_baz2 = pd.pivot_table(pagos_baz,index=['CAMPANAID','FDFECHAABONO','FIIDPERIODO','FNSCOMPROMISO','FCEMPNUMCORTE','FNMONTOPROMETIDO'],values=['FNMONTOPAGADO'],aggfunc=np.sum)\n",
    "pagos_baz2 = pd.DataFrame(pagos_baz2.to_records())"
   ]
  },
  {
   "cell_type": "code",
   "execution_count": 8,
   "metadata": {},
   "outputs": [],
   "source": [
    "#Leemos facturacion Banco Azteca\n",
    "sheet_baz2 = os.listdir(''+ruta_pagos+'/'+str(mes2)+'/Banco Azteca/Facturacion/')\n",
    "fact_baz = pd.DataFrame()\n",
    "for k in sheet_baz2:\n",
    "    fact_baz_new = pd.read_csv(''+ruta_pagos+'/'+str(mes2)+'/Banco Azteca/Facturacion/'+k+'',encoding='latin-1')\n",
    "    fact_baz = pd.concat([fact_baz,fact_baz_new],ignore_index=True)\n",
    "fact_baz = fact_baz.drop_duplicates()\n",
    "fact_baz = fact_baz.loc[fact_baz['Número Semana']>=prim_sem_mes]\n",
    "fact_baz['Final de Semana'] = pd.to_datetime(fact_baz['Final de Semana'],dayfirst=True)\n",
    "fact_baz['Inicio de Semana'] = pd.to_datetime(fact_baz['Inicio de Semana'],dayfirst=True)"
   ]
  },
  {
   "cell_type": "code",
   "execution_count": 9,
   "metadata": {},
   "outputs": [],
   "source": [
    "#Asignamos valores a los parametros \\n\"\n",
    "today = date.today().strftime('%Y%m%d')\n",
    "now = datetime.now().strftime('%d-%m-%Y %H-%M')\n",
    "hoy = np.datetime64('today')\n",
    "ayer = np.datetime64(date.today() - timedelta(1))\n",
    "today2 = date.today().strftime('%d-%m-%Y')"
   ]
  },
  {
   "cell_type": "code",
   "execution_count": 60,
   "metadata": {},
   "outputs": [],
   "source": [
    "#Hacemos la conexion con el servidor\\n\",\n",
    "try:\n",
    "    conn = mysql.connector.connect(user=usuario,\n",
    "                               password=contraseña,\n",
    "                               host=servidor,\n",
    "                               port=3306,\n",
    "                               database=base)\n",
    "    conn.set_charset_collation('latin1')\n",
    "except mysql.Error as e:\n",
    "    print(\"Failed to execute stored procedure: {}\".format(error))\n",
    "\n",
    "cursor = conn.cursor()"
   ]
  },
  {
   "cell_type": "code",
   "execution_count": 11,
   "metadata": {},
   "outputs": [],
   "source": [
    "#Hacemos la asignacion de cada una de las metas para cambiar de arancel sin tomar el 0 en cuenta\n",
    "c04pv1, arancel_4pv1 = 1204704, .07\n",
    "c04pv2, arancel_4pv2 = 1807056, .09\n",
    "c04pv3, arancel_4pv3 = 2409407, .12\n",
    "c05pv1, arancel_5pv1 = 662269, .09\n",
    "c05pv2, arancel_5pv2 = 993403, .10\n",
    "c05pv3, arancel_5pv3 = 1324538, .14\n",
    "c06pv1, arancel_6pv1 = 807172, .10\n",
    "c06pv2, arancel_6pv2 = 1210759, .11\n",
    "c06pv3, arancel_6pv3 = 1614345, .16\n",
    "a1, arancel_a1 = 260190, .27\n",
    "a2, arancel_a2 = 390285, .30\n",
    "a3, arancel_a3 = 520381, .33\n",
    "b1, arancel_b1 = 215083, .25\n",
    "b2, arancel_b2 = 322624, .28\n",
    "b3, arancel_b3 = 430165, .31\n",
    "c11, arancel_c11 = 1430989, .17\n",
    "c12, arancel_c12 = 2146483, .20\n",
    "c13, arancel_c13 = 2861978, .23\n",
    "c21, arancel_c21 = 626634, .19\n",
    "c22, arancel_c22 = 939951, .22\n",
    "c23, arancel_c23 = 1253267, .25\n",
    "c31, arancel_c31 = 246425, .21\n",
    "c32, arancel_c32 = 369637, .24\n",
    "c33, arancel_c33 = 492849, .27\n",
    "c41, arancel_c41 = 123529, .23\n",
    "c42, arancel_c42 = 185294, .26\n",
    "c43, arancel_c43 = 247059, .29"
   ]
  },
  {
   "cell_type": "code",
   "execution_count": 12,
   "metadata": {},
   "outputs": [],
   "source": [
    "#Funcion para hacer la consulta sql, ya sea de gestion o de asignacion en donde requerimos tres parametros, la tabla de donde vamos a sacar la consulta, en caso de asignacin requerimos los otros dos parametros fecha inicial y fecha final\n",
    "def consulta_sql(table,from_date=None,to_date=None):\n",
    "    if from_date is None:\n",
    "        sql_mes = cursor.callproc(table,)\n",
    "        for result in cursor.stored_results():\n",
    "            sql_mes = pd.DataFrame(result.fetchall())\n",
    "    else:\n",
    "        sql_mes = cursor.callproc(table, [from_date,to_date])\n",
    "        for result in cursor.stored_results():\n",
    "            sql_mes = pd.DataFrame(result.fetchall())\n",
    "    sql_mes = sql_mes.drop_duplicates()\n",
    "    return sql_mes"
   ]
  },
  {
   "cell_type": "code",
   "execution_count": 13,
   "metadata": {},
   "outputs": [],
   "source": [
    "#Funcion para transformar varias columnas a numero\n",
    "def transform_numeric(df,cols):\n",
    "    return df[cols].apply(pd.to_numeric, errors='coerce')\n",
    "\n",
    "#Funcion que convierte a dataframe y rellena espacios con 0\n",
    "def to_dataframe(df):\n",
    "    df = pd.DataFrame(df.to_records())\n",
    "    df.fillna(0,inplace=True)\n",
    "    return df"
   ]
  },
  {
   "source": [
    "# Reporte Liverpool"
   ],
   "cell_type": "markdown",
   "metadata": {}
  },
  {
   "cell_type": "code",
   "execution_count": 14,
   "metadata": {},
   "outputs": [],
   "source": [
    "#Hacemos la consulta referente a las gestiones de Liverpool\n",
    "gestion_liv_mes = consulta_sql('liverpool_rpt_gestiones_detallado',mes,today)\n",
    "gestion_liv_mes.columns = ['folio_gestion','firma_id','unegocio_id','credito','nombre_credito','telefono','tipo_telefono','fecha_gestion','usuario','nombre_usuario','dictamen','accion','resultado','fecha_promesa','monto_promesa','comentarios']\n",
    "gestion_liv_mes = gestion_liv_mes.loc[gestion_liv_mes['dictamen']=='PROMESA']\n",
    "gestion_liv_mes[['credito','telefono']] = transform_numeric(gestion_liv_mes,['credito','telefono'])\n",
    "gestion_liv_mes['anio'] = [int(x[:4]) for x in gestion_liv_mes['fecha_promesa']]\n",
    "gestion_liv_mes = gestion_liv_mes.loc[(gestion_liv_mes['anio']>2010)&(gestion_liv_mes['anio']<2100)]\n",
    "gestion_liv_mes['fecha_promesa'] = pd.to_datetime(gestion_liv_mes['fecha_promesa'],dayfirst=False)"
   ]
  },
  {
   "cell_type": "code",
   "execution_count": 15,
   "metadata": {},
   "outputs": [
    {
     "output_type": "execute_result",
     "data": {
      "text/plain": [
       "       folio_gestion  firma_id  unegocio_id           credito  \\\n",
       "1            9371500        12            5    13000008692803   \n",
       "15           9371399        12            4    13000028312853   \n",
       "16           9371396        12            4  4178490015195523   \n",
       "100          9370925        12            4    13000004259748   \n",
       "166          9370620        12            4  4178490013749404   \n",
       "...              ...       ...          ...               ...   \n",
       "23893        9234152        12            5    53000000271987   \n",
       "23955        9232798        12            1  4178490007802342   \n",
       "23999        9231922        12            5  4178490002481845   \n",
       "24050        9231349        12            4    13000031192839   \n",
       "24169        9229978        12            4    13000016689403   \n",
       "\n",
       "                         nombre_credito    telefono tipo_telefono  \\\n",
       "1      JOSE JORGE ANTONIO FLORES FRANCO  5554109802       celular   \n",
       "15               MAYRA ACEVEDO CARDENAS  4481058612       celular   \n",
       "16               MAYRA ACEVEDO CARDENAS  4481058612       celular   \n",
       "100       JORGE EDUARDO CUELLAR MARQUEZ  8448691707       celular   \n",
       "166           ELIZABETH LOPEZ RODRIGUEZ  5621852906       celular   \n",
       "...                                 ...         ...           ...   \n",
       "23893           ALAN JAVIER LOPEZ ORTIZ  6564108412       celular   \n",
       "23955                 FELIX MOGUEL SOSA  9711040827       celular   \n",
       "23999              PAOLA MORENO ESTRADA  9611121706       celular   \n",
       "24050            ENRIQUE RAMIREZ CHAVEZ  4621913856       celular   \n",
       "24169   ALEJANDRO RAFAEL GUEVARA GARCIA  5555291146       celular   \n",
       "\n",
       "            fecha_gestion          usuario  \\\n",
       "1     2020-12-14 17:14:54      BARRETOOSMF   \n",
       "15    2020-12-14 17:16:01     LOCISNEROSLE   \n",
       "16    2020-12-14 17:08:09     LOCISNEROSLE   \n",
       "100   2020-12-14 16:41:50      BARRETOOSMF   \n",
       "166   2020-12-14 16:18:00       GARCIARUAL   \n",
       "...                   ...              ...   \n",
       "23893 2020-12-01 08:05:04    SANCHEZVEVAIV   \n",
       "23955 2020-12-01 10:24:57      TONARVAEZMA   \n",
       "23999 2020-12-01 09:38:11     OSNAYAVALOGU   \n",
       "24050 2020-12-01 09:16:18     OSNAYAVALOGU   \n",
       "24169 2020-12-01 08:02:43  HERNANDEZMEMAGU   \n",
       "\n",
       "                           nombre_usuario dictamen             accion  \\\n",
       "1         BARRETO OSEGUERA MARIA FERNANDA  PROMESA  LLAMADA A TITULAR   \n",
       "15      LUCIA ESMERALDA LONGORIA CISNEROS  PROMESA  LLAMADA A TITULAR   \n",
       "16      LUCIA ESMERALDA LONGORIA CISNEROS  PROMESA  LLAMADA A TITULAR   \n",
       "100       BARRETO OSEGUERA MARIA FERNANDA  PROMESA  LLAMADA A TITULAR   \n",
       "166                    GARCIA RUIZ ALEXIS  PROMESA  LLAMADA A TITULAR   \n",
       "...                                   ...      ...                ...   \n",
       "23893      SANCHEZ VELASCO VANESSA IVONNE  PROMESA  LLAMADA A TITULAR   \n",
       "23955                TORRES NARVAEZ MAYTE  PROMESA  LLAMADA A TITULAR   \n",
       "23999    LORAYNI GUADALUPE OSNAYA VAZQUEZ  PROMESA  LLAMADA A TITULAR   \n",
       "24050    LORAYNI GUADALUPE OSNAYA VAZQUEZ  PROMESA  LLAMADA A TITULAR   \n",
       "24169  GUADALUPE MAYELA HERNANDEZ MENDITA  PROMESA  LLAMADA A TITULAR   \n",
       "\n",
       "                         resultado fecha_promesa monto_promesa  \\\n",
       "1      PROMESA DE PAGO LIQUIDACION    2020-12-15       9500.00   \n",
       "15     PROMESA DE PAGO LIQUIDACION    2020-12-15       3634.00   \n",
       "16     PROMESA DE PAGO LIQUIDACION    2020-12-15       5155.00   \n",
       "100    PROMESA DE PAGO LIQUIDACION    2020-12-30       6500.00   \n",
       "166        PROMESA DE PAGO PARCIAL    2020-12-18        400.00   \n",
       "...                            ...           ...           ...   \n",
       "23893  PROMESA DE PAGO LIQUIDACION    2020-12-01       6000.00   \n",
       "23955      PROMESA DE PAGO PARCIAL    2020-12-15       3750.00   \n",
       "23999  PROMESA DE PAGO LIQUIDACION    2020-12-01       4000.00   \n",
       "24050  PROMESA DE PAGO LIQUIDACION    2020-12-15       4234.00   \n",
       "24169      PROMESA DE PAGO PARCIAL    2020-12-15       2350.00   \n",
       "\n",
       "                                             comentarios  anio  \n",
       "1      5554109802 //  PROMESA DE PAGO LIQUIDACION $9,...  2020  \n",
       "15     4481058612  TT SE COMUNICA POR WHATS POR QUE L...  2020  \n",
       "16     4481058612 TT SE COMUNICA POR QUE LE LLEGA UN ...  2020  \n",
       "100    8448691707  // PROMESA LIQUIDACION $6,500 30/1...  2020  \n",
       "166    5621852906 tt estara realizando pagos semanles...  2020  \n",
       "...                                                  ...   ...  \n",
       "23893  6564108412  TT PL POR $6,000  SE OFRECE LIQUID...  2020  \n",
       "23955  9711040827   TT REALIZARA SIG PAGO EL DIA 15/1...  2020  \n",
       "23999  9611121706PP LIQYUIDACION POR LA CANTIDAD DE $...  2020  \n",
       "24050  4621913856 PP LIQUIDACION POR LA CANTIDAD DE $...  2020  \n",
       "24169  5555291146 TT SE COMUNICA, NO DA MOTIVO DEL AT...  2020  \n",
       "\n",
       "[481 rows x 17 columns]"
      ],
      "text/html": "<div>\n<style scoped>\n    .dataframe tbody tr th:only-of-type {\n        vertical-align: middle;\n    }\n\n    .dataframe tbody tr th {\n        vertical-align: top;\n    }\n\n    .dataframe thead th {\n        text-align: right;\n    }\n</style>\n<table border=\"1\" class=\"dataframe\">\n  <thead>\n    <tr style=\"text-align: right;\">\n      <th></th>\n      <th>folio_gestion</th>\n      <th>firma_id</th>\n      <th>unegocio_id</th>\n      <th>credito</th>\n      <th>nombre_credito</th>\n      <th>telefono</th>\n      <th>tipo_telefono</th>\n      <th>fecha_gestion</th>\n      <th>usuario</th>\n      <th>nombre_usuario</th>\n      <th>dictamen</th>\n      <th>accion</th>\n      <th>resultado</th>\n      <th>fecha_promesa</th>\n      <th>monto_promesa</th>\n      <th>comentarios</th>\n      <th>anio</th>\n    </tr>\n  </thead>\n  <tbody>\n    <tr>\n      <th>1</th>\n      <td>9371500</td>\n      <td>12</td>\n      <td>5</td>\n      <td>13000008692803</td>\n      <td>JOSE JORGE ANTONIO FLORES FRANCO</td>\n      <td>5554109802</td>\n      <td>celular</td>\n      <td>2020-12-14 17:14:54</td>\n      <td>BARRETOOSMF</td>\n      <td>BARRETO OSEGUERA MARIA FERNANDA</td>\n      <td>PROMESA</td>\n      <td>LLAMADA A TITULAR</td>\n      <td>PROMESA DE PAGO LIQUIDACION</td>\n      <td>2020-12-15</td>\n      <td>9500.00</td>\n      <td>5554109802 //  PROMESA DE PAGO LIQUIDACION $9,...</td>\n      <td>2020</td>\n    </tr>\n    <tr>\n      <th>15</th>\n      <td>9371399</td>\n      <td>12</td>\n      <td>4</td>\n      <td>13000028312853</td>\n      <td>MAYRA ACEVEDO CARDENAS</td>\n      <td>4481058612</td>\n      <td>celular</td>\n      <td>2020-12-14 17:16:01</td>\n      <td>LOCISNEROSLE</td>\n      <td>LUCIA ESMERALDA LONGORIA CISNEROS</td>\n      <td>PROMESA</td>\n      <td>LLAMADA A TITULAR</td>\n      <td>PROMESA DE PAGO LIQUIDACION</td>\n      <td>2020-12-15</td>\n      <td>3634.00</td>\n      <td>4481058612  TT SE COMUNICA POR WHATS POR QUE L...</td>\n      <td>2020</td>\n    </tr>\n    <tr>\n      <th>16</th>\n      <td>9371396</td>\n      <td>12</td>\n      <td>4</td>\n      <td>4178490015195523</td>\n      <td>MAYRA ACEVEDO CARDENAS</td>\n      <td>4481058612</td>\n      <td>celular</td>\n      <td>2020-12-14 17:08:09</td>\n      <td>LOCISNEROSLE</td>\n      <td>LUCIA ESMERALDA LONGORIA CISNEROS</td>\n      <td>PROMESA</td>\n      <td>LLAMADA A TITULAR</td>\n      <td>PROMESA DE PAGO LIQUIDACION</td>\n      <td>2020-12-15</td>\n      <td>5155.00</td>\n      <td>4481058612 TT SE COMUNICA POR QUE LE LLEGA UN ...</td>\n      <td>2020</td>\n    </tr>\n    <tr>\n      <th>100</th>\n      <td>9370925</td>\n      <td>12</td>\n      <td>4</td>\n      <td>13000004259748</td>\n      <td>JORGE EDUARDO CUELLAR MARQUEZ</td>\n      <td>8448691707</td>\n      <td>celular</td>\n      <td>2020-12-14 16:41:50</td>\n      <td>BARRETOOSMF</td>\n      <td>BARRETO OSEGUERA MARIA FERNANDA</td>\n      <td>PROMESA</td>\n      <td>LLAMADA A TITULAR</td>\n      <td>PROMESA DE PAGO LIQUIDACION</td>\n      <td>2020-12-30</td>\n      <td>6500.00</td>\n      <td>8448691707  // PROMESA LIQUIDACION $6,500 30/1...</td>\n      <td>2020</td>\n    </tr>\n    <tr>\n      <th>166</th>\n      <td>9370620</td>\n      <td>12</td>\n      <td>4</td>\n      <td>4178490013749404</td>\n      <td>ELIZABETH LOPEZ RODRIGUEZ</td>\n      <td>5621852906</td>\n      <td>celular</td>\n      <td>2020-12-14 16:18:00</td>\n      <td>GARCIARUAL</td>\n      <td>GARCIA RUIZ ALEXIS</td>\n      <td>PROMESA</td>\n      <td>LLAMADA A TITULAR</td>\n      <td>PROMESA DE PAGO PARCIAL</td>\n      <td>2020-12-18</td>\n      <td>400.00</td>\n      <td>5621852906 tt estara realizando pagos semanles...</td>\n      <td>2020</td>\n    </tr>\n    <tr>\n      <th>...</th>\n      <td>...</td>\n      <td>...</td>\n      <td>...</td>\n      <td>...</td>\n      <td>...</td>\n      <td>...</td>\n      <td>...</td>\n      <td>...</td>\n      <td>...</td>\n      <td>...</td>\n      <td>...</td>\n      <td>...</td>\n      <td>...</td>\n      <td>...</td>\n      <td>...</td>\n      <td>...</td>\n      <td>...</td>\n    </tr>\n    <tr>\n      <th>23893</th>\n      <td>9234152</td>\n      <td>12</td>\n      <td>5</td>\n      <td>53000000271987</td>\n      <td>ALAN JAVIER LOPEZ ORTIZ</td>\n      <td>6564108412</td>\n      <td>celular</td>\n      <td>2020-12-01 08:05:04</td>\n      <td>SANCHEZVEVAIV</td>\n      <td>SANCHEZ VELASCO VANESSA IVONNE</td>\n      <td>PROMESA</td>\n      <td>LLAMADA A TITULAR</td>\n      <td>PROMESA DE PAGO LIQUIDACION</td>\n      <td>2020-12-01</td>\n      <td>6000.00</td>\n      <td>6564108412  TT PL POR $6,000  SE OFRECE LIQUID...</td>\n      <td>2020</td>\n    </tr>\n    <tr>\n      <th>23955</th>\n      <td>9232798</td>\n      <td>12</td>\n      <td>1</td>\n      <td>4178490007802342</td>\n      <td>FELIX MOGUEL SOSA</td>\n      <td>9711040827</td>\n      <td>celular</td>\n      <td>2020-12-01 10:24:57</td>\n      <td>TONARVAEZMA</td>\n      <td>TORRES NARVAEZ MAYTE</td>\n      <td>PROMESA</td>\n      <td>LLAMADA A TITULAR</td>\n      <td>PROMESA DE PAGO PARCIAL</td>\n      <td>2020-12-15</td>\n      <td>3750.00</td>\n      <td>9711040827   TT REALIZARA SIG PAGO EL DIA 15/1...</td>\n      <td>2020</td>\n    </tr>\n    <tr>\n      <th>23999</th>\n      <td>9231922</td>\n      <td>12</td>\n      <td>5</td>\n      <td>4178490002481845</td>\n      <td>PAOLA MORENO ESTRADA</td>\n      <td>9611121706</td>\n      <td>celular</td>\n      <td>2020-12-01 09:38:11</td>\n      <td>OSNAYAVALOGU</td>\n      <td>LORAYNI GUADALUPE OSNAYA VAZQUEZ</td>\n      <td>PROMESA</td>\n      <td>LLAMADA A TITULAR</td>\n      <td>PROMESA DE PAGO LIQUIDACION</td>\n      <td>2020-12-01</td>\n      <td>4000.00</td>\n      <td>9611121706PP LIQYUIDACION POR LA CANTIDAD DE $...</td>\n      <td>2020</td>\n    </tr>\n    <tr>\n      <th>24050</th>\n      <td>9231349</td>\n      <td>12</td>\n      <td>4</td>\n      <td>13000031192839</td>\n      <td>ENRIQUE RAMIREZ CHAVEZ</td>\n      <td>4621913856</td>\n      <td>celular</td>\n      <td>2020-12-01 09:16:18</td>\n      <td>OSNAYAVALOGU</td>\n      <td>LORAYNI GUADALUPE OSNAYA VAZQUEZ</td>\n      <td>PROMESA</td>\n      <td>LLAMADA A TITULAR</td>\n      <td>PROMESA DE PAGO LIQUIDACION</td>\n      <td>2020-12-15</td>\n      <td>4234.00</td>\n      <td>4621913856 PP LIQUIDACION POR LA CANTIDAD DE $...</td>\n      <td>2020</td>\n    </tr>\n    <tr>\n      <th>24169</th>\n      <td>9229978</td>\n      <td>12</td>\n      <td>4</td>\n      <td>13000016689403</td>\n      <td>ALEJANDRO RAFAEL GUEVARA GARCIA</td>\n      <td>5555291146</td>\n      <td>celular</td>\n      <td>2020-12-01 08:02:43</td>\n      <td>HERNANDEZMEMAGU</td>\n      <td>GUADALUPE MAYELA HERNANDEZ MENDITA</td>\n      <td>PROMESA</td>\n      <td>LLAMADA A TITULAR</td>\n      <td>PROMESA DE PAGO PARCIAL</td>\n      <td>2020-12-15</td>\n      <td>2350.00</td>\n      <td>5555291146 TT SE COMUNICA, NO DA MOTIVO DEL AT...</td>\n      <td>2020</td>\n    </tr>\n  </tbody>\n</table>\n<p>481 rows × 17 columns</p>\n</div>"
     },
     "metadata": {},
     "execution_count": 15
    }
   ],
   "source": [
    "gestion_liv_mes[['credito','telefono']] = transform_numeric(gestion_liv_mes,['credito','telefono'])"
   ]
  },
  {
   "cell_type": "code",
   "execution_count": 16,
   "metadata": {},
   "outputs": [],
   "source": [
    "#Hacemos la consulta de la asignacion\n",
    "sql_asig_liv = cursor.callproc('liverpool_rpt_asignacion_activa',)\n",
    "for result in cursor.stored_results():\n",
    "    asignacion_liv = pd.DataFrame(result.fetchall())\n",
    "asignacion_liv = asignacion_liv.iloc[:,[0,1,3,24,6,26]]\n",
    "asignacion_liv.columns = ['firma_id','unegocio_id','credito','estado','rfc','division']\n",
    "asignacion_liv['credito'] = pd.to_numeric(asignacion_liv['credito'])"
   ]
  },
  {
   "cell_type": "code",
   "execution_count": 17,
   "metadata": {},
   "outputs": [],
   "source": [
    "#Hacemos el consolidado\n",
    "consolidado_liv_mes = pd.merge(gestion_liv_mes,asignacion_liv,how='left',on=['firma_id','unegocio_id','credito'])\n",
    "cols = ['monto_promesa','credito']\n",
    "consolidado_liv_mes[cols] = consolidado_liv_mes[cols].apply(pd.to_numeric, errors='coerce')\n",
    "consolidado_liv_mes = consolidado_liv_mes[(consolidado_liv_mes['monto_promesa']>50)]\n",
    "consolidado_liv_mes = consolidado_liv_mes[(consolidado_liv_mes['monto_promesa']<500000)]\n",
    "consolidado_liv_mes['division'].fillna('COBRANZA',inplace=True)\n",
    "consolidado_liv_mes['division'] = consolidado_liv_mes['division'].replace('','COBRANZA')\n",
    "consolidado_liv_mes = consolidado_liv_mes.drop_duplicates(subset = ['usuario','credito','fecha_promesa','monto_promesa'])"
   ]
  },
  {
   "cell_type": "code",
   "execution_count": 18,
   "metadata": {},
   "outputs": [],
   "source": [
    "productos = [('DKN00REM','pren'),('DKN02REM','REM2'),('DKN04REM','REM4'),('SA001REM','SB02'),('SA002REM','REM9')]\n",
    "productos = pd.DataFrame(productos)\n",
    "productos.columns = ['id','division']\n",
    "consolidado_liv_mes = pd.merge(consolidado_liv_mes,productos,how='left',on=['division'])"
   ]
  },
  {
   "cell_type": "code",
   "execution_count": 19,
   "metadata": {},
   "outputs": [],
   "source": [
    "#Asignamos los aranceles de liverpool\n",
    "aranceles = [('DKN00REM',0.28),('DKN02REM',0.4),('DKN04REM',0.5),('SA001REM',0.15),('SA002REM',0.16)]\n",
    "aranceles = pd.DataFrame(aranceles)\n",
    "aranceles.columns = ['Id','Arancel']\n",
    "\n",
    "#Agregamos aranceles al consolidado\n",
    "pagos_liv2 = pd.merge(pagos_liv2,aranceles,how='left',on='Id')\n",
    "pagos_liv2['PagoArancel'] = [x*y for x,y in zip(pagos_liv2['Monto'],pagos_liv2['Arancel'])]"
   ]
  },
  {
   "cell_type": "code",
   "execution_count": 20,
   "metadata": {},
   "outputs": [],
   "source": [
    "#Unimos el consolidado con los pagos \n",
    "consolidado_pagos_liv = pd.merge(consolidado_liv_mes,pagos_liv2,how='left',left_on=['credito'],right_on=['Cuenta'])\n",
    "consolidado_pagos_liv = consolidado_pagos_liv.drop_duplicates(subset = ['credito','Monto','usuario','fecha_promesa'])\n",
    "consolidado_pagos_liv['Fecha Pago'] = pd.to_datetime(consolidado_pagos_liv['Fecha Pago'],dayfirst=True)\n",
    "consolidado_pagos_liv['dia_prom'] = consolidado_pagos_liv['fecha_promesa'].dt.day\n",
    "consolidado_pagos_liv['dia_pago'] = consolidado_pagos_liv['Fecha Pago'].dt.day\n",
    "cols = ['dia_prom','dia_pago','Monto']\n",
    "consolidado_pagos_liv[cols] = consolidado_pagos_liv[cols].apply(pd.to_numeric, errors='coerce',downcast='integer')\n",
    "consolidado_pagos_liv['dia_pago'].fillna(0,inplace=True)\n",
    "try:\n",
    "    consolidado_pagos_liv['dia_pago'] = [int(x) for x in consolidado_pagos_liv['dia_pago']]\n",
    "except: consolidado_pagos_liv['dia_pago'] = consolidado_pagos_liv['dia_pago']"
   ]
  },
  {
   "cell_type": "code",
   "execution_count": 21,
   "metadata": {},
   "outputs": [],
   "source": [
    "#Condicionamos a los gestores cuyas promesas y pagos estan en un plazo de 3 dias\n",
    "consolidado_pagos_liv['PagoReal'] = [np.where((z < x+pd.Timedelta(3, unit='D')) & ((z > x-pd.Timedelta(3, unit='D') )), y, 0) for x,y,z in zip(consolidado_pagos_liv['fecha_promesa'],consolidado_pagos_liv['Monto'],consolidado_pagos_liv['Fecha Pago'])]\n",
    "consolidado_pagos_liv['PagoReal'] = [x.item() for x in consolidado_pagos_liv['PagoReal']]"
   ]
  },
  {
   "cell_type": "code",
   "execution_count": 22,
   "metadata": {},
   "outputs": [],
   "source": [
    "consolidado_pagos_liv['MontoArancel'] = [x*y for x,y in zip(consolidado_pagos_liv['PagoReal'],consolidado_pagos_liv['Arancel'])]"
   ]
  },
  {
   "cell_type": "code",
   "execution_count": 23,
   "metadata": {},
   "outputs": [
    {
     "output_type": "execute_result",
     "data": {
      "text/plain": [
       "   Division  NumeroPromesas  SumaPromesas\n",
       "0  DKN00REM             104     405864.91\n",
       "1  DKN02REM             101     521353.88\n",
       "2  DKN04REM              66     330692.95\n",
       "3  SA001REM             178     326907.43\n",
       "4  SA002REM              31      52880.76\n",
       "5       All             494    1677143.93"
      ],
      "text/html": "<div>\n<style scoped>\n    .dataframe tbody tr th:only-of-type {\n        vertical-align: middle;\n    }\n\n    .dataframe tbody tr th {\n        vertical-align: top;\n    }\n\n    .dataframe thead th {\n        text-align: right;\n    }\n</style>\n<table border=\"1\" class=\"dataframe\">\n  <thead>\n    <tr style=\"text-align: right;\">\n      <th></th>\n      <th>Division</th>\n      <th>NumeroPromesas</th>\n      <th>SumaPromesas</th>\n    </tr>\n  </thead>\n  <tbody>\n    <tr>\n      <th>0</th>\n      <td>DKN00REM</td>\n      <td>104</td>\n      <td>405864.91</td>\n    </tr>\n    <tr>\n      <th>1</th>\n      <td>DKN02REM</td>\n      <td>101</td>\n      <td>521353.88</td>\n    </tr>\n    <tr>\n      <th>2</th>\n      <td>DKN04REM</td>\n      <td>66</td>\n      <td>330692.95</td>\n    </tr>\n    <tr>\n      <th>3</th>\n      <td>SA001REM</td>\n      <td>178</td>\n      <td>326907.43</td>\n    </tr>\n    <tr>\n      <th>4</th>\n      <td>SA002REM</td>\n      <td>31</td>\n      <td>52880.76</td>\n    </tr>\n    <tr>\n      <th>5</th>\n      <td>All</td>\n      <td>494</td>\n      <td>1677143.93</td>\n    </tr>\n  </tbody>\n</table>\n</div>"
     },
     "metadata": {},
     "execution_count": 23
    }
   ],
   "source": [
    "#Obtenemos datos de los gestores de Liverpool\n",
    "promesas_mes_liv = pd.pivot_table(consolidado_pagos_liv,index=['id'],values=['monto_promesa'],aggfunc=['count',np.sum],margins=True,dropna=False)\n",
    "promesas_mes_liv = pd.DataFrame(promesas_mes_liv.to_records())\n",
    "promesas_mes_liv.columns = ['Division','NumeroPromesas','SumaPromesas']\n",
    "promesas_mes_liv.fillna(0,inplace=True)\n",
    "promesas_mes_liv"
   ]
  },
  {
   "cell_type": "code",
   "execution_count": 24,
   "metadata": {},
   "outputs": [
    {
     "output_type": "execute_result",
     "data": {
      "text/plain": [
       "   Division  PromesasRestantes\n",
       "0  DKN00REM          202160.00\n",
       "1  DKN02REM          194309.00\n",
       "2  DKN04REM          101574.00\n",
       "3  SA001REM          140887.92\n",
       "4  SA002REM           14796.00"
      ],
      "text/html": "<div>\n<style scoped>\n    .dataframe tbody tr th:only-of-type {\n        vertical-align: middle;\n    }\n\n    .dataframe tbody tr th {\n        vertical-align: top;\n    }\n\n    .dataframe thead th {\n        text-align: right;\n    }\n</style>\n<table border=\"1\" class=\"dataframe\">\n  <thead>\n    <tr style=\"text-align: right;\">\n      <th></th>\n      <th>Division</th>\n      <th>PromesasRestantes</th>\n    </tr>\n  </thead>\n  <tbody>\n    <tr>\n      <th>0</th>\n      <td>DKN00REM</td>\n      <td>202160.00</td>\n    </tr>\n    <tr>\n      <th>1</th>\n      <td>DKN02REM</td>\n      <td>194309.00</td>\n    </tr>\n    <tr>\n      <th>2</th>\n      <td>DKN04REM</td>\n      <td>101574.00</td>\n    </tr>\n    <tr>\n      <th>3</th>\n      <td>SA001REM</td>\n      <td>140887.92</td>\n    </tr>\n    <tr>\n      <th>4</th>\n      <td>SA002REM</td>\n      <td>14796.00</td>\n    </tr>\n  </tbody>\n</table>\n</div>"
     },
     "metadata": {},
     "execution_count": 24
    }
   ],
   "source": [
    "#Obtenemos las promesas restantes a partir del día de hoy\n",
    "restantes_liv = consolidado_pagos_liv.loc[consolidado_pagos_liv['fecha_promesa']>=ayer]\n",
    "promesas_restantes_liv = pd.pivot_table(restantes_liv,index=['id'],values=['monto_promesa'],aggfunc=[np.sum],dropna=False)\n",
    "promesas_restantes_liv = pd.DataFrame(promesas_restantes_liv.to_records())\n",
    "promesas_restantes_liv.columns = ['Division','PromesasRestantes']\n",
    "promesas_mes_liv.fillna(0,inplace=True)\n",
    "promesas_restantes_liv"
   ]
  },
  {
   "cell_type": "code",
   "execution_count": 25,
   "metadata": {},
   "outputs": [
    {
     "output_type": "execute_result",
     "data": {
      "text/plain": [
       "   Division  NumeroPagos  SumaPagos  SumaFacturacion  FechaFact\n",
       "0  DKN00REM           58  213155.91       59683.6548 2020-12-13\n",
       "1  DKN02REM           83  380770.64      152308.2560 2020-12-13\n",
       "2  DKN04REM           36  199262.95       99631.4750 2020-12-13\n",
       "3  SA001REM          114  197833.62       29675.0430 2020-12-13\n",
       "4  SA002REM           16   27809.26        4449.4816 2020-12-13"
      ],
      "text/html": "<div>\n<style scoped>\n    .dataframe tbody tr th:only-of-type {\n        vertical-align: middle;\n    }\n\n    .dataframe tbody tr th {\n        vertical-align: top;\n    }\n\n    .dataframe thead th {\n        text-align: right;\n    }\n</style>\n<table border=\"1\" class=\"dataframe\">\n  <thead>\n    <tr style=\"text-align: right;\">\n      <th></th>\n      <th>Division</th>\n      <th>NumeroPagos</th>\n      <th>SumaPagos</th>\n      <th>SumaFacturacion</th>\n      <th>FechaFact</th>\n    </tr>\n  </thead>\n  <tbody>\n    <tr>\n      <th>0</th>\n      <td>DKN00REM</td>\n      <td>58</td>\n      <td>213155.91</td>\n      <td>59683.6548</td>\n      <td>2020-12-13</td>\n    </tr>\n    <tr>\n      <th>1</th>\n      <td>DKN02REM</td>\n      <td>83</td>\n      <td>380770.64</td>\n      <td>152308.2560</td>\n      <td>2020-12-13</td>\n    </tr>\n    <tr>\n      <th>2</th>\n      <td>DKN04REM</td>\n      <td>36</td>\n      <td>199262.95</td>\n      <td>99631.4750</td>\n      <td>2020-12-13</td>\n    </tr>\n    <tr>\n      <th>3</th>\n      <td>SA001REM</td>\n      <td>114</td>\n      <td>197833.62</td>\n      <td>29675.0430</td>\n      <td>2020-12-13</td>\n    </tr>\n    <tr>\n      <th>4</th>\n      <td>SA002REM</td>\n      <td>16</td>\n      <td>27809.26</td>\n      <td>4449.4816</td>\n      <td>2020-12-13</td>\n    </tr>\n  </tbody>\n</table>\n</div>"
     },
     "metadata": {},
     "execution_count": 25
    }
   ],
   "source": [
    "#Total pagos Liver registrados\n",
    "pagos_totales_liv = pd.pivot_table(pagos_liv2,index=['Id'],values=['Monto','PagoArancel'],aggfunc=[np.sum,'count'],dropna=False)\n",
    "pagos_totales_liv = pd.DataFrame(pagos_totales_liv.to_records())\n",
    "pagos_totales_liv = pagos_totales_liv.iloc[:,[0,3,1,2]]\n",
    "pagos_totales_liv.columns = ['Division','NumeroPagos','SumaPagos','SumaFacturacion']\n",
    "pagos_totales_liv.fillna(0,inplace=True)\n",
    "pagos_totales_liv['FechaFact'] = max(pagos_liv2['Fecha Pago'])\n",
    "pagos_totales_liv['FechaFact'] = pd.to_datetime(pagos_totales_liv['FechaFact'],dayfirst=True)\n",
    "pagos_totales_liv"
   ]
  },
  {
   "cell_type": "code",
   "execution_count": 26,
   "metadata": {},
   "outputs": [
    {
     "output_type": "execute_result",
     "data": {
      "text/plain": [
       "     Cliente  Division  NumeroPagos  SumaPagos  SumaFacturacion  FechaFact  \\\n",
       "0  Liverpool  DKN00REM           58  213155.91       59683.6548 2020-12-13   \n",
       "1  Liverpool  DKN02REM           83  380770.64      152308.2560 2020-12-13   \n",
       "2  Liverpool  DKN04REM           36  199262.95       99631.4750 2020-12-13   \n",
       "3  Liverpool  SA001REM          114  197833.62       29675.0430 2020-12-13   \n",
       "4  Liverpool  SA002REM           16   27809.26        4449.4816 2020-12-13   \n",
       "\n",
       "   NumeroPromesas  SumaPromesas  PromesasRestantes  \n",
       "0             104     405864.91          202160.00  \n",
       "1             101     521353.88          194309.00  \n",
       "2              66     330692.95          101574.00  \n",
       "3             178     326907.43          140887.92  \n",
       "4              31      52880.76           14796.00  "
      ],
      "text/html": "<div>\n<style scoped>\n    .dataframe tbody tr th:only-of-type {\n        vertical-align: middle;\n    }\n\n    .dataframe tbody tr th {\n        vertical-align: top;\n    }\n\n    .dataframe thead th {\n        text-align: right;\n    }\n</style>\n<table border=\"1\" class=\"dataframe\">\n  <thead>\n    <tr style=\"text-align: right;\">\n      <th></th>\n      <th>Cliente</th>\n      <th>Division</th>\n      <th>NumeroPagos</th>\n      <th>SumaPagos</th>\n      <th>SumaFacturacion</th>\n      <th>FechaFact</th>\n      <th>NumeroPromesas</th>\n      <th>SumaPromesas</th>\n      <th>PromesasRestantes</th>\n    </tr>\n  </thead>\n  <tbody>\n    <tr>\n      <th>0</th>\n      <td>Liverpool</td>\n      <td>DKN00REM</td>\n      <td>58</td>\n      <td>213155.91</td>\n      <td>59683.6548</td>\n      <td>2020-12-13</td>\n      <td>104</td>\n      <td>405864.91</td>\n      <td>202160.00</td>\n    </tr>\n    <tr>\n      <th>1</th>\n      <td>Liverpool</td>\n      <td>DKN02REM</td>\n      <td>83</td>\n      <td>380770.64</td>\n      <td>152308.2560</td>\n      <td>2020-12-13</td>\n      <td>101</td>\n      <td>521353.88</td>\n      <td>194309.00</td>\n    </tr>\n    <tr>\n      <th>2</th>\n      <td>Liverpool</td>\n      <td>DKN04REM</td>\n      <td>36</td>\n      <td>199262.95</td>\n      <td>99631.4750</td>\n      <td>2020-12-13</td>\n      <td>66</td>\n      <td>330692.95</td>\n      <td>101574.00</td>\n    </tr>\n    <tr>\n      <th>3</th>\n      <td>Liverpool</td>\n      <td>SA001REM</td>\n      <td>114</td>\n      <td>197833.62</td>\n      <td>29675.0430</td>\n      <td>2020-12-13</td>\n      <td>178</td>\n      <td>326907.43</td>\n      <td>140887.92</td>\n    </tr>\n    <tr>\n      <th>4</th>\n      <td>Liverpool</td>\n      <td>SA002REM</td>\n      <td>16</td>\n      <td>27809.26</td>\n      <td>4449.4816</td>\n      <td>2020-12-13</td>\n      <td>31</td>\n      <td>52880.76</td>\n      <td>14796.00</td>\n    </tr>\n  </tbody>\n</table>\n</div>"
     },
     "metadata": {},
     "execution_count": 26
    }
   ],
   "source": [
    "final_liv = pd.merge(pagos_totales_liv,promesas_mes_liv,how='left',on=['Division'])\n",
    "final_liv = pd.merge(final_liv,promesas_restantes_liv,how='left',on=['Division'])\n",
    "final_liv.insert(loc=0,column='Cliente',value='Liverpool')\n",
    "final_liv"
   ]
  },
  {
   "source": [
    "# Reporte Bradesco"
   ],
   "cell_type": "markdown",
   "metadata": {}
  },
  {
   "cell_type": "code",
   "execution_count": 27,
   "metadata": {},
   "outputs": [],
   "source": [
    "#Hacemos la consulta de la asignacion\n",
    "sql_asig_brad = cursor.callproc('bradescard_rpt_asignacion_activa',)\n",
    "for result in cursor.stored_results():\n",
    "    asignacion_brad = pd.DataFrame(result.fetchall())\n",
    "asignacion_brad = asignacion_brad.iloc[:,[0,1,3,9,24,6,26]]\n",
    "asignacion_brad.columns = ['firma_id','unegocio_id','credito','saldo_total','estado','rfc','division']\n",
    "asignacion_brad['credito'] = pd.to_numeric(asignacion_brad['credito'])"
   ]
  },
  {
   "cell_type": "code",
   "execution_count": 61,
   "metadata": {},
   "outputs": [
    {
     "output_type": "error",
     "ename": "KeyboardInterrupt",
     "evalue": "",
     "traceback": [
      "\u001b[0;31m---------------------------------------------------------------------------\u001b[0m",
      "\u001b[0;31mKeyboardInterrupt\u001b[0m                         Traceback (most recent call last)",
      "\u001b[0;32m<ipython-input-61-9a222a398dff>\u001b[0m in \u001b[0;36m<module>\u001b[0;34m\u001b[0m\n\u001b[1;32m      1\u001b[0m \u001b[0;31m#Hacemos la consulta referente a las gestiones de Bradesco\u001b[0m\u001b[0;34m\u001b[0m\u001b[0;34m\u001b[0m\u001b[0;34m\u001b[0m\u001b[0m\n\u001b[0;32m----> 2\u001b[0;31m \u001b[0msql_gest_brad_mes\u001b[0m \u001b[0;34m=\u001b[0m \u001b[0mcursor\u001b[0m\u001b[0;34m.\u001b[0m\u001b[0mcallproc\u001b[0m\u001b[0;34m(\u001b[0m\u001b[0;34m'bradescard_rpt_gestiones_detallado'\u001b[0m\u001b[0;34m,\u001b[0m \u001b[0;34m[\u001b[0m\u001b[0mmes\u001b[0m\u001b[0;34m,\u001b[0m\u001b[0mtoday\u001b[0m\u001b[0;34m]\u001b[0m\u001b[0;34m)\u001b[0m\u001b[0;34m\u001b[0m\u001b[0;34m\u001b[0m\u001b[0m\n\u001b[0m\u001b[1;32m      3\u001b[0m \u001b[0;32mfor\u001b[0m \u001b[0mresult\u001b[0m \u001b[0;32min\u001b[0m \u001b[0mcursor\u001b[0m\u001b[0;34m.\u001b[0m\u001b[0mstored_results\u001b[0m\u001b[0;34m(\u001b[0m\u001b[0;34m)\u001b[0m\u001b[0;34m:\u001b[0m\u001b[0;34m\u001b[0m\u001b[0;34m\u001b[0m\u001b[0m\n\u001b[1;32m      4\u001b[0m     \u001b[0mgestion_brad_mes\u001b[0m \u001b[0;34m=\u001b[0m \u001b[0mpd\u001b[0m\u001b[0;34m.\u001b[0m\u001b[0mDataFrame\u001b[0m\u001b[0;34m(\u001b[0m\u001b[0mresult\u001b[0m\u001b[0;34m.\u001b[0m\u001b[0mfetchall\u001b[0m\u001b[0;34m(\u001b[0m\u001b[0;34m)\u001b[0m\u001b[0;34m)\u001b[0m\u001b[0;34m\u001b[0m\u001b[0;34m\u001b[0m\u001b[0m\n\u001b[1;32m      5\u001b[0m \u001b[0mgestion_brad_mes\u001b[0m\u001b[0;34m.\u001b[0m\u001b[0mcolumns\u001b[0m \u001b[0;34m=\u001b[0m \u001b[0;34m[\u001b[0m\u001b[0;34m'folio_gestion'\u001b[0m\u001b[0;34m,\u001b[0m\u001b[0;34m'firma_id'\u001b[0m\u001b[0;34m,\u001b[0m\u001b[0;34m'unegocio_id'\u001b[0m\u001b[0;34m,\u001b[0m\u001b[0;34m'credito'\u001b[0m\u001b[0;34m,\u001b[0m\u001b[0;34m'nombre_credito'\u001b[0m\u001b[0;34m,\u001b[0m\u001b[0;34m'telefono'\u001b[0m\u001b[0;34m,\u001b[0m\u001b[0;34m'tipo_telefono'\u001b[0m\u001b[0;34m,\u001b[0m\u001b[0;34m'fecha_gestion'\u001b[0m\u001b[0;34m,\u001b[0m\u001b[0;34m'usuario'\u001b[0m\u001b[0;34m,\u001b[0m\u001b[0;34m'nombre_usuario'\u001b[0m\u001b[0;34m,\u001b[0m\u001b[0;34m'dictamen'\u001b[0m\u001b[0;34m,\u001b[0m\u001b[0;34m'accion'\u001b[0m\u001b[0;34m,\u001b[0m\u001b[0;34m'resultado'\u001b[0m\u001b[0;34m,\u001b[0m\u001b[0;34m'accion_resultado'\u001b[0m\u001b[0;34m,\u001b[0m\u001b[0;34m'fecha_promesa'\u001b[0m\u001b[0;34m,\u001b[0m\u001b[0;34m'monto_promesa'\u001b[0m\u001b[0;34m,\u001b[0m\u001b[0;34m'comentarios'\u001b[0m\u001b[0;34m]\u001b[0m\u001b[0;34m\u001b[0m\u001b[0;34m\u001b[0m\u001b[0m\n",
      "\u001b[0;32m~/.local/lib/python3.8/site-packages/mysql/connector/cursor.py\u001b[0m in \u001b[0;36mcallproc\u001b[0;34m(self, procname, args)\u001b[0m\n\u001b[1;32m    700\u001b[0m                 \u001b[0;31m# pylint: disable=W0212\u001b[0m\u001b[0;34m\u001b[0m\u001b[0;34m\u001b[0m\u001b[0;34m\u001b[0m\u001b[0m\n\u001b[1;32m    701\u001b[0m                 \u001b[0mtmp\u001b[0m \u001b[0;34m=\u001b[0m \u001b[0mMySQLCursorBuffered\u001b[0m\u001b[0;34m(\u001b[0m\u001b[0mself\u001b[0m\u001b[0;34m.\u001b[0m\u001b[0m_connection\u001b[0m\u001b[0;34m.\u001b[0m\u001b[0m_get_self\u001b[0m\u001b[0;34m(\u001b[0m\u001b[0;34m)\u001b[0m\u001b[0;34m)\u001b[0m\u001b[0;34m\u001b[0m\u001b[0;34m\u001b[0m\u001b[0m\n\u001b[0;32m--> 702\u001b[0;31m                 \u001b[0mtmp\u001b[0m\u001b[0;34m.\u001b[0m\u001b[0m_handle_result\u001b[0m\u001b[0;34m(\u001b[0m\u001b[0mresult\u001b[0m\u001b[0;34m)\u001b[0m\u001b[0;34m\u001b[0m\u001b[0;34m\u001b[0m\u001b[0m\n\u001b[0m\u001b[1;32m    703\u001b[0m                 \u001b[0;32mif\u001b[0m \u001b[0mtmp\u001b[0m\u001b[0;34m.\u001b[0m\u001b[0m_warnings\u001b[0m \u001b[0;32mis\u001b[0m \u001b[0;32mnot\u001b[0m \u001b[0;32mNone\u001b[0m\u001b[0;34m:\u001b[0m\u001b[0;34m\u001b[0m\u001b[0;34m\u001b[0m\u001b[0m\n\u001b[1;32m    704\u001b[0m                     \u001b[0mself\u001b[0m\u001b[0;34m.\u001b[0m\u001b[0m_warnings\u001b[0m \u001b[0;34m=\u001b[0m \u001b[0mtmp\u001b[0m\u001b[0;34m.\u001b[0m\u001b[0m_warnings\u001b[0m\u001b[0;34m\u001b[0m\u001b[0;34m\u001b[0m\u001b[0m\n",
      "\u001b[0;32m~/.local/lib/python3.8/site-packages/mysql/connector/cursor.py\u001b[0m in \u001b[0;36m_handle_result\u001b[0;34m(self, result)\u001b[0m\n\u001b[1;32m    419\u001b[0m             \u001b[0mself\u001b[0m\u001b[0;34m.\u001b[0m\u001b[0m_description\u001b[0m \u001b[0;34m=\u001b[0m \u001b[0mresult\u001b[0m\u001b[0;34m[\u001b[0m\u001b[0;34m'columns'\u001b[0m\u001b[0;34m]\u001b[0m\u001b[0;34m\u001b[0m\u001b[0;34m\u001b[0m\u001b[0m\n\u001b[1;32m    420\u001b[0m             \u001b[0mself\u001b[0m\u001b[0;34m.\u001b[0m\u001b[0m_connection\u001b[0m\u001b[0;34m.\u001b[0m\u001b[0munread_result\u001b[0m \u001b[0;34m=\u001b[0m \u001b[0;32mTrue\u001b[0m\u001b[0;34m\u001b[0m\u001b[0;34m\u001b[0m\u001b[0m\n\u001b[0;32m--> 421\u001b[0;31m             \u001b[0mself\u001b[0m\u001b[0;34m.\u001b[0m\u001b[0m_handle_resultset\u001b[0m\u001b[0;34m(\u001b[0m\u001b[0;34m)\u001b[0m\u001b[0;34m\u001b[0m\u001b[0;34m\u001b[0m\u001b[0m\n\u001b[0m\u001b[1;32m    422\u001b[0m         \u001b[0;32melif\u001b[0m \u001b[0;34m'affected_rows'\u001b[0m \u001b[0;32min\u001b[0m \u001b[0mresult\u001b[0m\u001b[0;34m:\u001b[0m\u001b[0;34m\u001b[0m\u001b[0;34m\u001b[0m\u001b[0m\n\u001b[1;32m    423\u001b[0m             \u001b[0;31m# Weak test, must be an OK-packet\u001b[0m\u001b[0;34m\u001b[0m\u001b[0;34m\u001b[0m\u001b[0;34m\u001b[0m\u001b[0m\n",
      "\u001b[0;32m~/.local/lib/python3.8/site-packages/mysql/connector/cursor.py\u001b[0m in \u001b[0;36m_handle_resultset\u001b[0;34m(self)\u001b[0m\n\u001b[1;32m    895\u001b[0m \u001b[0;34m\u001b[0m\u001b[0m\n\u001b[1;32m    896\u001b[0m     \u001b[0;32mdef\u001b[0m \u001b[0m_handle_resultset\u001b[0m\u001b[0;34m(\u001b[0m\u001b[0mself\u001b[0m\u001b[0;34m)\u001b[0m\u001b[0;34m:\u001b[0m\u001b[0;34m\u001b[0m\u001b[0;34m\u001b[0m\u001b[0m\n\u001b[0;32m--> 897\u001b[0;31m         \u001b[0;34m(\u001b[0m\u001b[0mself\u001b[0m\u001b[0;34m.\u001b[0m\u001b[0m_rows\u001b[0m\u001b[0;34m,\u001b[0m \u001b[0meof\u001b[0m\u001b[0;34m)\u001b[0m \u001b[0;34m=\u001b[0m \u001b[0mself\u001b[0m\u001b[0;34m.\u001b[0m\u001b[0m_connection\u001b[0m\u001b[0;34m.\u001b[0m\u001b[0mget_rows\u001b[0m\u001b[0;34m(\u001b[0m\u001b[0;34m)\u001b[0m\u001b[0;34m\u001b[0m\u001b[0;34m\u001b[0m\u001b[0m\n\u001b[0m\u001b[1;32m    898\u001b[0m         \u001b[0mself\u001b[0m\u001b[0;34m.\u001b[0m\u001b[0m_rowcount\u001b[0m \u001b[0;34m=\u001b[0m \u001b[0mlen\u001b[0m\u001b[0;34m(\u001b[0m\u001b[0mself\u001b[0m\u001b[0;34m.\u001b[0m\u001b[0m_rows\u001b[0m\u001b[0;34m)\u001b[0m\u001b[0;34m\u001b[0m\u001b[0;34m\u001b[0m\u001b[0m\n\u001b[1;32m    899\u001b[0m         \u001b[0mself\u001b[0m\u001b[0;34m.\u001b[0m\u001b[0m_handle_eof\u001b[0m\u001b[0;34m(\u001b[0m\u001b[0meof\u001b[0m\u001b[0;34m)\u001b[0m\u001b[0;34m\u001b[0m\u001b[0;34m\u001b[0m\u001b[0m\n",
      "\u001b[0;32m~/.local/lib/python3.8/site-packages/mysql/connector/connection.py\u001b[0m in \u001b[0;36mget_rows\u001b[0;34m(self, count, binary, columns)\u001b[0m\n\u001b[1;32m    669\u001b[0m                 self._socket, columns, count)\n\u001b[1;32m    670\u001b[0m         \u001b[0;32melse\u001b[0m\u001b[0;34m:\u001b[0m\u001b[0;34m\u001b[0m\u001b[0;34m\u001b[0m\u001b[0m\n\u001b[0;32m--> 671\u001b[0;31m             \u001b[0mrows\u001b[0m \u001b[0;34m=\u001b[0m \u001b[0mself\u001b[0m\u001b[0;34m.\u001b[0m\u001b[0m_protocol\u001b[0m\u001b[0;34m.\u001b[0m\u001b[0mread_text_result\u001b[0m\u001b[0;34m(\u001b[0m\u001b[0mself\u001b[0m\u001b[0;34m.\u001b[0m\u001b[0m_socket\u001b[0m\u001b[0;34m,\u001b[0m \u001b[0mcount\u001b[0m\u001b[0;34m)\u001b[0m\u001b[0;34m\u001b[0m\u001b[0;34m\u001b[0m\u001b[0m\n\u001b[0m\u001b[1;32m    672\u001b[0m         \u001b[0;32mif\u001b[0m \u001b[0mrows\u001b[0m\u001b[0;34m[\u001b[0m\u001b[0;34m-\u001b[0m\u001b[0;36m1\u001b[0m\u001b[0;34m]\u001b[0m \u001b[0;32mis\u001b[0m \u001b[0;32mnot\u001b[0m \u001b[0;32mNone\u001b[0m\u001b[0;34m:\u001b[0m\u001b[0;34m\u001b[0m\u001b[0;34m\u001b[0m\u001b[0m\n\u001b[1;32m    673\u001b[0m             \u001b[0mself\u001b[0m\u001b[0;34m.\u001b[0m\u001b[0m_handle_server_status\u001b[0m\u001b[0;34m(\u001b[0m\u001b[0mrows\u001b[0m\u001b[0;34m[\u001b[0m\u001b[0;34m-\u001b[0m\u001b[0;36m1\u001b[0m\u001b[0;34m]\u001b[0m\u001b[0;34m[\u001b[0m\u001b[0;34m'status_flag'\u001b[0m\u001b[0;34m]\u001b[0m\u001b[0;34m)\u001b[0m\u001b[0;34m\u001b[0m\u001b[0;34m\u001b[0m\u001b[0m\n",
      "\u001b[0;32m~/.local/lib/python3.8/site-packages/mysql/connector/protocol.py\u001b[0m in \u001b[0;36mread_text_result\u001b[0;34m(self, sock, count)\u001b[0m\n\u001b[1;32m    307\u001b[0m             \u001b[0;32mif\u001b[0m \u001b[0mi\u001b[0m \u001b[0;34m==\u001b[0m \u001b[0mcount\u001b[0m\u001b[0;34m:\u001b[0m\u001b[0;34m\u001b[0m\u001b[0;34m\u001b[0m\u001b[0m\n\u001b[1;32m    308\u001b[0m                 \u001b[0;32mbreak\u001b[0m\u001b[0;34m\u001b[0m\u001b[0;34m\u001b[0m\u001b[0m\n\u001b[0;32m--> 309\u001b[0;31m             \u001b[0mpacket\u001b[0m \u001b[0;34m=\u001b[0m \u001b[0msock\u001b[0m\u001b[0;34m.\u001b[0m\u001b[0mrecv\u001b[0m\u001b[0;34m(\u001b[0m\u001b[0;34m)\u001b[0m\u001b[0;34m\u001b[0m\u001b[0;34m\u001b[0m\u001b[0m\n\u001b[0m\u001b[1;32m    310\u001b[0m             \u001b[0;32mif\u001b[0m \u001b[0mpacket\u001b[0m\u001b[0;34m.\u001b[0m\u001b[0mstartswith\u001b[0m\u001b[0;34m(\u001b[0m\u001b[0;34mb'\\xff\\xff\\xff'\u001b[0m\u001b[0;34m)\u001b[0m\u001b[0;34m:\u001b[0m\u001b[0;34m\u001b[0m\u001b[0;34m\u001b[0m\u001b[0m\n\u001b[1;32m    311\u001b[0m                 \u001b[0mdatas\u001b[0m \u001b[0;34m=\u001b[0m \u001b[0;34m[\u001b[0m\u001b[0mpacket\u001b[0m\u001b[0;34m[\u001b[0m\u001b[0;36m4\u001b[0m\u001b[0;34m:\u001b[0m\u001b[0;34m]\u001b[0m\u001b[0;34m]\u001b[0m\u001b[0;34m\u001b[0m\u001b[0;34m\u001b[0m\u001b[0m\n",
      "\u001b[0;32m~/.local/lib/python3.8/site-packages/mysql/connector/network.py\u001b[0m in \u001b[0;36mrecv_plain\u001b[0;34m(self)\u001b[0m\n\u001b[1;32m    224\u001b[0m             \u001b[0mpacket_len\u001b[0m \u001b[0;34m=\u001b[0m \u001b[0;36m0\u001b[0m\u001b[0;34m\u001b[0m\u001b[0;34m\u001b[0m\u001b[0m\n\u001b[1;32m    225\u001b[0m             \u001b[0;32mwhile\u001b[0m \u001b[0mpacket_len\u001b[0m \u001b[0;34m<\u001b[0m \u001b[0;36m4\u001b[0m\u001b[0;34m:\u001b[0m\u001b[0;34m\u001b[0m\u001b[0;34m\u001b[0m\u001b[0m\n\u001b[0;32m--> 226\u001b[0;31m                 \u001b[0mchunk\u001b[0m \u001b[0;34m=\u001b[0m \u001b[0mself\u001b[0m\u001b[0;34m.\u001b[0m\u001b[0msock\u001b[0m\u001b[0;34m.\u001b[0m\u001b[0mrecv\u001b[0m\u001b[0;34m(\u001b[0m\u001b[0;36m4\u001b[0m \u001b[0;34m-\u001b[0m \u001b[0mpacket_len\u001b[0m\u001b[0;34m)\u001b[0m\u001b[0;34m\u001b[0m\u001b[0;34m\u001b[0m\u001b[0m\n\u001b[0m\u001b[1;32m    227\u001b[0m                 \u001b[0;32mif\u001b[0m \u001b[0;32mnot\u001b[0m \u001b[0mchunk\u001b[0m\u001b[0;34m:\u001b[0m\u001b[0;34m\u001b[0m\u001b[0;34m\u001b[0m\u001b[0m\n\u001b[1;32m    228\u001b[0m                     \u001b[0;32mraise\u001b[0m \u001b[0merrors\u001b[0m\u001b[0;34m.\u001b[0m\u001b[0mInterfaceError\u001b[0m\u001b[0;34m(\u001b[0m\u001b[0merrno\u001b[0m\u001b[0;34m=\u001b[0m\u001b[0;36m2013\u001b[0m\u001b[0;34m)\u001b[0m\u001b[0;34m\u001b[0m\u001b[0;34m\u001b[0m\u001b[0m\n",
      "\u001b[0;31mKeyboardInterrupt\u001b[0m: "
     ]
    }
   ],
   "source": [
    "#Hacemos la consulta referente a las gestiones de Bradesco\n",
    "sql_gest_brad_mes = cursor.callproc('bradescard_rpt_gestiones_detallado', [mes,today])\n",
    "for result in cursor.stored_results():\n",
    "    gestion_brad_mes = pd.DataFrame(result.fetchall())\n",
    "gestion_brad_mes.columns = ['folio_gestion','firma_id','unegocio_id','credito','nombre_credito','telefono','tipo_telefono','fecha_gestion','usuario','nombre_usuario','dictamen','accion','resultado','accion_resultado','fecha_promesa','monto_promesa','comentarios']\n",
    "gestion_brad_mes = gestion_brad_mes.loc[gestion_brad_mes['dictamen']=='PROMESA']\n",
    "gestion_brad_mes['credito'] = pd.to_numeric(gestion_brad_mes['credito'])\n",
    "gestion_brad_mes['monto_promesa'] = pd.to_numeric(gestion_brad_mes['monto_promesa'])\n",
    "gestion_brad_mes = gestion_brad_mes.drop_duplicates(subset=['credito','usuario','fecha_promesa','monto_promesa'])"
   ]
  },
  {
   "cell_type": "code",
   "execution_count": null,
   "metadata": {},
   "outputs": [],
   "source": [
    "#Hacemos la union de asignacion y promesas\n",
    "consolidado_brad_mes = pd.merge(gestion_brad_mes,asignacion_brad,how='left',on=['firma_id','unegocio_id','credito'])\n",
    "cols = ['monto_promesa','credito']\n",
    "consolidado_brad_mes[cols] = consolidado_brad_mes[cols].apply(pd.to_numeric, errors='coerce')\n",
    "consolidado_brad_mes = consolidado_brad_mes[(consolidado_brad_mes['monto_promesa']>50)]\n",
    "consolidado_brad_mes = consolidado_brad_mes[(consolidado_brad_mes['monto_promesa']<500000)]\n",
    "consolidado_brad_mes.fillna('COBRANZA',inplace=True)"
   ]
  },
  {
   "cell_type": "code",
   "execution_count": null,
   "metadata": {},
   "outputs": [],
   "source": [
    "#Obtenemos los pagos totales por division\n",
    "pagos_totales_brad = pd.pivot_table(pagos_brad2,index=['TIPO_ASIGANCION'],values=['MONTO'],aggfunc=[np.sum,'count'],margins=True,dropna=False)\n",
    "pagos_totales_brad = pd.DataFrame(pagos_totales_brad.to_records())\n",
    "pagos_totales_brad = pagos_totales_brad.iloc[:,[0,2,1]]\n",
    "pagos_totales_brad.columns = ['Division','NumeroPagos','SumaPagos']\n",
    "pagos_totales_brad.fillna(0,inplace=True)"
   ]
  },
  {
   "cell_type": "code",
   "execution_count": null,
   "metadata": {},
   "outputs": [],
   "source": [
    "C04PV = pagos_totales_brad.loc[pagos_totales_brad['Division']=='C0 4PV', 'SumaPagos'].item()\n",
    "C05PV = pagos_totales_brad.loc[pagos_totales_brad['Division']=='C0 5PV', 'SumaPagos'].item()\n",
    "C06PV = pagos_totales_brad.loc[pagos_totales_brad['Division']=='C0 6PV', 'SumaPagos'].item()\n",
    "A = pagos_totales_brad.loc[pagos_totales_brad['Division']=='A', 'SumaPagos'].item()\n",
    "C1 = pagos_totales_brad.loc[pagos_totales_brad['Division']=='C1', 'SumaPagos'].item()\n",
    "C2 = pagos_totales_brad.loc[pagos_totales_brad['Division']=='C2', 'SumaPagos'].item()\n",
    "C3 = pagos_totales_brad.loc[pagos_totales_brad['Division']=='C3', 'SumaPagos'].item()\n",
    "C4 = pagos_totales_brad.loc[pagos_totales_brad['Division']=='C4', 'SumaPagos'].item()\n",
    "B = pagos_totales_brad.loc[pagos_totales_brad['Division']=='B', 'SumaPagos'].item()"
   ]
  },
  {
   "cell_type": "code",
   "execution_count": null,
   "metadata": {},
   "outputs": [],
   "source": [
    "def func(row):\n",
    "    if row['TIPO_ASIGANCION'] == 'C0 4PV':\n",
    "        return np.where((C04PV>0) & (C04PV<=c04pv1),arancel_4pv1,\n",
    "                        np.where((C04PV>c04pv1) & (C04PV<=c04pv2),arancel_4pv2,\n",
    "                                 np.where((C04PV>c04pv2) & (C04PV<=c04pv3),arancel_4pv3,arancel_4pv3+.03)))\n",
    "    elif row['TIPO_ASIGANCION'] == 'C0 5PV':\n",
    "        return np.where((C05PV>0) & (C05PV<=c05pv1),arancel_5pv1,\n",
    "                        np.where((C05PV>c05pv1) & (C05PV<=c05pv2),arancel_5pv2,\n",
    "                                 np.where((C05PV>c05pv2) & (C05PV<=c05pv3),arancel_5pv3,arancel_5pv3+.03)))\n",
    "    elif row['TIPO_ASIGANCION'] == 'C0 6PV':\n",
    "        return np.where((C06PV>0) & (C06PV<=c06pv1),arancel_6pv1,\n",
    "                        np.where((C06PV>c06pv1) & (C06PV<=c06pv2),arancel_6pv2,\n",
    "                                 np.where((C06PV>c06pv2) & (C06PV<=c06pv3),arancel_6pv3,arancel_6pv3+.03)))\n",
    "    elif row['TIPO_ASIGANCION'] == 'A':\n",
    "        return np.where((A>0) & (A<=a1),arancel_a1,\n",
    "                        np.where((A>a1) & (A<=a2),arancel_a2,\n",
    "                                 np.where((A>a2) & (A<=a3),arancel_a3,arancel_a3+.03)))\n",
    "    elif row['TIPO_ASIGANCION'] == 'B':\n",
    "        return np.where((B>0) & (B<=b1),arancel_b1,\n",
    "                        np.where((B>b1) & (B<=b2),arancel_b2,\n",
    "                                 np.where((B>b2) & (B<=b3),arancel_b3,arancel_b3+.03)))\n",
    "    elif row['TIPO_ASIGANCION'] == 'C1':\n",
    "        return np.where((C1>0) & (C1<=c11),arancel_c11,\n",
    "                        np.where((C1>c11) & (C1<=c12),arancel_c12,\n",
    "                                 np.where((C1>c12) & (C1<=c13),arancel_c13,arancel_c13+.03)))\n",
    "    elif row['TIPO_ASIGANCION'] == 'C2':\n",
    "        return np.where((C2>0) & (C2<=c21),arancel_c21,\n",
    "                        np.where((C2>c21) & (C2<=c22),arancel_c22,\n",
    "                                 np.where((C2>c22) & (C2<=c23),arancel_c23,arancel_c23+.03)))\n",
    "    elif row['TIPO_ASIGANCION'] == 'C3':\n",
    "        return np.where((C3>0) & (C3<=c31),arancel_c31,\n",
    "                        np.where((C3>c31) & (C3<=c32),arancel_c32,\n",
    "                                 np.where((C3>c32) & (C3<=c33),arancel_c33,arancel_c33+.03)))\n",
    "    elif row['TIPO_ASIGANCION'] == 'C4':\n",
    "        return np.where((C4>0) & (C4<=c41),arancel_c41,\n",
    "                        np.where((C4>c41) & (C4<=c42),arancel_c42,\n",
    "                                 np.where((C4>c42) & (C4<=c43),arancel_c43,arancel_c43+.03)))\n",
    "    \n",
    "    else:\n",
    "        return 0\n",
    "\n",
    "pagos_brad2['Arancel'] = pagos_brad2.apply(func, axis=1)"
   ]
  },
  {
   "cell_type": "code",
   "execution_count": null,
   "metadata": {},
   "outputs": [],
   "source": [
    "pagos_brad2['Facturacion'] = [x*y for x,y in zip(pagos_brad2['MONTO'],pagos_brad2['Arancel'])]"
   ]
  },
  {
   "cell_type": "code",
   "execution_count": null,
   "metadata": {},
   "outputs": [],
   "source": [
    "#Hacemos la union consolidado y pagos\n",
    "consoliado_pagos_brad = pd.merge(consolidado_brad_mes,pagos_brad2,how='left',left_on=['credito'],right_on=['NUMERO_TARJETA'])\n",
    "try: consoliado_pagos_brad['fecha_promesa'] = pd.to_datetime(consoliado_pagos_brad['fecha_promesa'],dayfirst=False)\n",
    "except: consoliado_pagos_brad['fecha_promesa'] = consoliado_pagos_brad['fecha_gestion']"
   ]
  },
  {
   "cell_type": "code",
   "execution_count": null,
   "metadata": {},
   "outputs": [],
   "source": [
    "#Condicionamos a los gestores cuyas promesas y pagos estan en un plazo de 3 dias\n",
    "consoliado_pagos_brad['PagoUnico'] = [np.where((z < x+pd.Timedelta(4, unit='D')) & ((z > x-pd.Timedelta(3, unit='D') )), y, 0) for x,y,z in zip(consoliado_pagos_brad['fecha_promesa'],consoliado_pagos_brad['MONTO'],consoliado_pagos_brad['FECHA_PAGO'])]\n",
    "consoliado_pagos_brad['PagoUnico'] = [x.item() for x in consoliado_pagos_brad['PagoUnico']]"
   ]
  },
  {
   "cell_type": "code",
   "execution_count": null,
   "metadata": {},
   "outputs": [],
   "source": [
    "consoliado_pagos_brad['PagoReal'] = [x*y for x,y in zip(consoliado_pagos_brad['PagoUnico'],consoliado_pagos_brad['Arancel'])]\n",
    "consoliado_pagos_brad2 = consoliado_pagos_brad.drop_duplicates(subset=['credito','MONTO','FECHA_PAGO','usuario'])"
   ]
  },
  {
   "cell_type": "code",
   "execution_count": null,
   "metadata": {},
   "outputs": [],
   "source": [
    "#Obtenemos datos de las promesas de Bradesco\n",
    "prom_brad_div_mes = pd.pivot_table(consoliado_pagos_brad2,index='division',values=['monto_promesa'], aggfunc = ['count',np.sum], margins=True,dropna=False)\n",
    "prom_brad_div_mes = pd.DataFrame(prom_brad_div_mes.to_records())\n",
    "prom_brad_div_mes.columns = ['Division','NumeroPromesas','SumaPromesas']\n",
    "prom_brad_div_mes.fillna(0,inplace=True)"
   ]
  },
  {
   "cell_type": "code",
   "execution_count": null,
   "metadata": {},
   "outputs": [],
   "source": [
    "#Obtenemos las promesas restantes a partir del día de hoy\n",
    "restantes_brad = consoliado_pagos_brad2.loc[consoliado_pagos_brad2['fecha_promesa']>=ayer]\n",
    "promesas_restantes_brad = pd.pivot_table(restantes_brad,index=['division'],values=['monto_promesa'],aggfunc=[np.sum],dropna=False)\n",
    "promesas_restantes_brad = pd.DataFrame(promesas_restantes_brad.to_records())\n",
    "promesas_restantes_brad.columns = ['Division','PromesasRestantes']\n",
    "promesas_restantes_brad.fillna(0,inplace=True)\n",
    "promesas_restantes_brad"
   ]
  },
  {
   "cell_type": "code",
   "execution_count": null,
   "metadata": {},
   "outputs": [],
   "source": [
    "pagos_totales_brad2 = pd.pivot_table(pagos_brad2,index=['TIPO_ASIGANCION'],values=['MONTO','Facturacion'],aggfunc=['count',np.sum],dropna=False)\n",
    "pagos_totales_brad2 = pd.DataFrame(pagos_totales_brad2.to_records())\n",
    "pagos_totales_brad2 = pagos_totales_brad2.iloc[:,[0,1,4,3]]\n",
    "pagos_totales_brad2.columns = ['Division','NumeroPagos','SumaPagos','SumaFacturacion']\n",
    "pagos_totales_brad2.fillna(0,inplace=True)\n",
    "pagos_totales_brad2['FechaFact'] = max(pagos_brad2['FECHA_PAGO'])"
   ]
  },
  {
   "cell_type": "code",
   "execution_count": null,
   "metadata": {},
   "outputs": [],
   "source": [
    "final_brad = pd.merge(pagos_totales_brad2,prom_brad_div_mes,how='left',on=['Division'])\n",
    "final_brad = pd.merge(final_brad,promesas_restantes_brad,how='left',on=['Division'])\n",
    "final_brad.fillna(0,inplace=True)\n",
    "final_brad.insert(loc=0,column='Cliente',value='Bradesco')\n",
    "final_brad"
   ]
  },
  {
   "source": [
    "# Reporte Banco Azteca  "
   ],
   "cell_type": "markdown",
   "metadata": {}
  },
  {
   "cell_type": "code",
   "execution_count": null,
   "metadata": {},
   "outputs": [],
   "source": [
    "#Hacemos la consulta referente a las gestiones de Banco Azteca\n",
    "sql_gest_baz = cursor.callproc('baz_rpt_gestiones_detallado', [mes,today])\n",
    "for result in cursor.stored_results():\n",
    "     gestion_baz = pd.DataFrame(result.fetchall())\n",
    "gestion_baz.columns = ['folio_gestion','firma_id','unegocio_id','credito','nombre_credito','telefono','tipo_telefono','fecha_gestion','usuario','nombre_usuario','dictamen','accion_resultado','fecha_promesa','monto_promesa','comentarios']\n",
    "gestion_baz = gestion_baz.loc[gestion_baz['dictamen']=='PROMESA']\n",
    "gestion_baz['monto_promesa'] = pd.to_numeric(gestion_baz['monto_promesa'])\n",
    "gestion_baz['fecha_promesa'] = pd.to_datetime(gestion_baz['fecha_promesa'],dayfirst=False)\n",
    "#gestion_baz.head(3)"
   ]
  },
  {
   "cell_type": "code",
   "execution_count": null,
   "metadata": {},
   "outputs": [],
   "source": [
    "#Obtenemos datos de las promesas de Banco Azteca\n",
    "gestion_baz = gestion_baz.drop_duplicates(subset=['credito','fecha_promesa','monto_promesa'])\n",
    "prom_baz_div_mes = pd.pivot_table(gestion_baz,index=['dictamen'],values=['unegocio_id','monto_promesa'],aggfunc=('count',np.sum))\n",
    "prom_baz_div_mes = pd.DataFrame(prom_baz_div_mes.to_records())\n",
    "prom_baz_div_mes = prom_baz_div_mes.iloc[:,[0,1,2]]\n",
    "prom_baz_div_mes.columns = ['Division','NumeroPromesas','SumaPromesas']\n",
    "prom_baz_div_mes.fillna(0,inplace=True)\n",
    "prom_baz_div_mes = prom_baz_div_mes.replace('PROMESA','COBRANZA')\n",
    "prom_baz_div_mes"
   ]
  },
  {
   "cell_type": "code",
   "execution_count": null,
   "metadata": {},
   "outputs": [],
   "source": [
    "#Obtenemos las promesas restantes a partir del día de hoy\n",
    "restantes_baz = gestion_baz.loc[gestion_baz['fecha_promesa']>=ayer]\n",
    "\n",
    "promesas_restantes_baz = pd.pivot_table(restantes_baz,index=['dictamen'],values=['monto_promesa'],aggfunc=[np.sum],dropna=False)\n",
    "promesas_restantes_baz = pd.DataFrame(promesas_restantes_baz.to_records())\n",
    "promesas_restantes_baz.columns = ['Division','PromesasRestantes']\n",
    "promesas_restantes_baz = promesas_restantes_baz.replace('PROMESA','COBRANZA')\n",
    "promesas_restantes_baz.fillna(0,inplace=True)\n",
    "promesas_restantes_baz"
   ]
  },
  {
   "cell_type": "code",
   "execution_count": null,
   "metadata": {},
   "outputs": [],
   "source": [
    "pagos_baz2['division'] = 'COBRANZA'\n",
    "pagos_baz2['FNFACTURACION'] = [x*.2 for x in pagos_baz2['FNMONTOPAGADO']]\n",
    "pagos_totales_baz = pd.pivot_table(pagos_baz2,index=['division'],values=['FNMONTOPAGADO'],aggfunc=['count',np.sum],dropna=False)\n",
    "pagos_totales_baz = pd.DataFrame(pagos_totales_baz.to_records())\n",
    "#pagos_totales_baz = pagos_totales_baz.iloc[:,[0,1,4,3]]\n",
    "pagos_totales_baz.columns = ['Division','NumeroPagos','SumaPagos']\n",
    "#pagos_totales_baz.fillna(0,inplace=True)\n",
    "#pagos_totales_baz['FechaFact'] = ayer\n",
    "pagos_totales_baz"
   ]
  },
  {
   "cell_type": "code",
   "execution_count": null,
   "metadata": {},
   "outputs": [],
   "source": [
    "fact_baz['Total Recuperado'] = np.where(fact_baz['Inicio de Semana']<mes3,fact_baz['Total Recuperado']*.85,fact_baz['Total Recuperado'])\n",
    "fact_baz['Total Comisión'] = np.where(fact_baz['Inicio de Semana']<mes3,fact_baz['Total Comisión']*.85,fact_baz['Total Comisión'])"
   ]
  },
  {
   "cell_type": "code",
   "execution_count": null,
   "metadata": {},
   "outputs": [],
   "source": [
    "#Hacemos la consulta de pagos y facturacion\n",
    "fact_baz['Division2'] = 'COBRANZA'\n",
    "pagos_fact_baz = pd.pivot_table(fact_baz,index=['Division2'],values=['Total Recuperado','Total Comisión'],aggfunc=[np.sum])\n",
    "pagos_fact_baz = to_dataframe(pagos_fact_baz)\n",
    "pagos_fact_baz = pagos_fact_baz.iloc[:,[0,2,1]]\n",
    "pagos_fact_baz.columns = ['Division','SumaPagos','SumaFacturacion']\n",
    "pagos_fact_baz['FechaFact'] = max(fact_baz['Final de Semana'])\n",
    "pagos_fact_baz"
   ]
  },
  {
   "cell_type": "code",
   "execution_count": null,
   "metadata": {},
   "outputs": [],
   "source": [
    "final_baz = pd.merge(pagos_fact_baz,prom_baz_div_mes,how='left',on=['Division'])\n",
    "final_baz = pd.merge(final_baz,promesas_restantes_baz,how='left',on=['Division'])\n",
    "final_baz.fillna(0,inplace=True)\n",
    "final_baz.insert(loc=0,column='Cliente',value='Banco Azteca')\n",
    "final_baz"
   ]
  },
  {
   "source": [
    "# Reporte Credifiel"
   ],
   "cell_type": "markdown",
   "metadata": {}
  },
  {
   "cell_type": "code",
   "execution_count": null,
   "metadata": {},
   "outputs": [],
   "source": [
    "#Hacemos la consulta referente a las gestiones de Credifiel\n",
    "sql_gest_cred = cursor.callproc('credifiel_rpt_gestiones_detallado', [mes,today])\n",
    "for result in cursor.stored_results():\n",
    "    gestion_cred = pd.DataFrame(result.fetchall())\n",
    "gestion_cred.columns = ['folio_gestion','unegocio_id','fecha_gestion','hora_gestion','credito','nombre_credito','telefono','usuario','nombre_usuario','accion','resultado','fecha_promesa','monto_promesa','comentarios','accion_credifiel','resultado_credifiel','dictamen']\n",
    "gestion_cred['monto_promesa'] = pd.to_numeric(gestion_cred['monto_promesa'])\n",
    "gestion_cred = gestion_cred.loc[gestion_cred['accion_credifiel']=='PDP']\n",
    "gestion_cred['credito'] = [x[3:] for x in gestion_cred['credito']]\n",
    "gestion_cred['credito'] = pd.to_numeric(gestion_cred['credito'])\n",
    "#gestion_cred.head(3)"
   ]
  },
  {
   "cell_type": "code",
   "execution_count": null,
   "metadata": {},
   "outputs": [],
   "source": [
    "#Hacemos la consulta de la asignacion\n",
    "sheet_asig_cred = os.listdir('/home/estadistico/Documents/Erick/Credifiel/Asignacion/')\n",
    "asignacion_cred = pd.DataFrame()\n",
    "for i in sheet_asig_cred:\n",
    "    asignacion_cred_new = pd.read_excel('/home/estadistico/Documents/Erick/Credifiel/Asignacion/'+i+'')\n",
    "    asignacion_cred = pd.concat([asignacion_cred,asignacion_cred_new],ignore_index=True)\n",
    "asignacion_cred = asignacion_cred.drop_duplicates(subset=['CREDITO','SALDO TOTAL REAL'])\n",
    "asignacion_cred['CREDITO'] = pd.to_numeric(asignacion_cred['CREDITO'])"
   ]
  },
  {
   "cell_type": "code",
   "execution_count": null,
   "metadata": {},
   "outputs": [],
   "source": [
    "#Hacemos el consolidado de la asignacion y promesado\n",
    "consolidado_cred = pd.merge(gestion_cred,asignacion_cred,how='left',left_on=['credito'],right_on=['CREDITO'])\n",
    "cols = ['monto_promesa','unegocio_id']\n",
    "consolidado_cred[cols] = consolidado_cred[cols].apply(pd.to_numeric, errors='coerce')\n",
    "consolidado_cred = consolidado_cred.loc[consolidado_cred['monto_promesa']>50]\n",
    "consolidado_cred = consolidado_cred[(consolidado_cred['monto_promesa']<500000)]\n",
    "consolidado_cred['fecha_promesa'] = pd.to_datetime(consolidado_cred['fecha_promesa'],dayfirst=False)\n",
    "consolidado_cred.replace('CONTACTO','EXTRA',inplace=True)"
   ]
  },
  {
   "cell_type": "code",
   "execution_count": null,
   "metadata": {},
   "outputs": [],
   "source": [
    "pagos_cred3 = pd.merge(pagos_cred2,consolidado_cred[['credito','nombre_usuario','fecha_promesa','monto_promesa','ARANCEL']],how='left',left_on=['ID'],right_on=['credito'])\n",
    "pagos_cred3['ARANCEL'].fillna(np.mean(pagos_cred3['ARANCEL']),inplace=True)\n",
    "pagos_cred3['PagoFacturacion'] = [x*y for x,y in zip(pagos_cred3['ARANCEL'],pagos_cred3['IMPORTE'])]\n",
    "pagos_cred3['division'] = 'EXTRA'\n",
    "pagos_cred3 = pagos_cred3.drop_duplicates(subset=['ID','IMPORTE'])"
   ]
  },
  {
   "cell_type": "code",
   "execution_count": null,
   "metadata": {},
   "outputs": [],
   "source": [
    "#Obtenemos datos de las promesas de Bradesco\n",
    "prom_cred_div_mes = pd.pivot_table(consolidado_cred,index=['dictamen'],values=['monto_promesa'], aggfunc=['count',np.sum], dropna=False)\n",
    "prom_cred_div_mes = pd.DataFrame(prom_cred_div_mes.to_records())\n",
    "#prom_cred_div_mes = prom_cred_div_mes.iloc[:,[0,4,8,6,5]]\n",
    "prom_cred_div_mes.columns = ['Division','NumeroPromesas','SumaPromesas']\n",
    "#prom_cred_div_mes = prom_cred_div_mes.sort_values(by=['SumaPago'],ascending =False)\n",
    "#prom_cred_div_mes = prom_cred_div_mes.reset_index(drop=True)\n",
    "#prom_cred_div_mes.fillna(0,inplace=True)\n",
    "#prom_brad_div_mes[['NumeroPromesas','PromedioPromesa','SumaPromesas']] = prom_brad_gestor_mes[['NumeroPromesas','PromedioPromesa','SumaPromesas']].applymap(\"{0:.2f}\".format)\n",
    "prom_cred_div_mes"
   ]
  },
  {
   "cell_type": "code",
   "execution_count": null,
   "metadata": {},
   "outputs": [],
   "source": [
    "#Obtenemos las promesas restantes a partir del día de hoy\n",
    "restantes_cred = consolidado_cred.loc[consolidado_cred['fecha_promesa']>=ayer]\n",
    "\n",
    "promesas_restantes_cred = pd.pivot_table(restantes_cred,index=['dictamen'],values=['monto_promesa'],aggfunc=[np.sum],dropna=False)\n",
    "promesas_restantes_cred = pd.DataFrame(promesas_restantes_cred.to_records())\n",
    "#promesas_restantes_brad = promesas_restantes_brad.iloc[:,[0,3,8,6,5]]\n",
    "promesas_restantes_cred.columns = ['Division','PromesasRestantes']\n",
    "promesas_restantes_cred.fillna(0,inplace=True)\n",
    "\n",
    "#posible cambio\n",
    "#promesas_restantes_brad = promesas_restantes_brad.sort_values(by='SumaPagos',ascending=False)\n",
    "#promesas_restantes_brad[['SumaPromesas']] = promesas_restantes_brad[['SumaPromesas']].applymap(\"{0:.2f}\".format)\n",
    "promesas_restantes_cred"
   ]
  },
  {
   "cell_type": "code",
   "execution_count": null,
   "metadata": {},
   "outputs": [],
   "source": [
    "pagos_totales_cred = pd.pivot_table(pagos_cred3,index=['division'],values=['IMPORTE','PagoFacturacion'],aggfunc=['count',np.sum],dropna=False)\n",
    "pagos_totales_cred = pd.DataFrame(pagos_totales_cred.to_records())\n",
    "pagos_totales_cred = pagos_totales_cred.iloc[:,[0,1,3,4]]\n",
    "pagos_totales_cred.columns = ['Division','NumeroPagos','SumaPagos','SumaFacturacion']\n",
    "pagos_totales_cred.fillna(0,inplace=True)\n",
    "#pagos_totales_cred[['SumaPagos','SumaFacturacion']] = pagos_totales_cred[['SumaPagos','SumaFacturacion']].applymap(\"${0:,.2f}\".format)\n",
    "pagos_totales_cred['FechaFact'] = max(pagos_cred3['FECHA'])\n",
    "pagos_totales_cred"
   ]
  },
  {
   "cell_type": "code",
   "execution_count": null,
   "metadata": {},
   "outputs": [],
   "source": [
    "final_cred = pd.merge(pagos_totales_cred,prom_cred_div_mes,how='left',on=['Division'])\n",
    "final_cred = pd.merge(final_cred,promesas_restantes_cred,how='left',on=['Division'])\n",
    "final_cred.fillna(0,inplace=True)\n",
    "final_cred.insert(loc=0,column='Cliente',value='Credifiel')\n",
    "final_cred = final_cred.replace('EXTRA','COBRANZA')\n",
    "final_cred"
   ]
  },
  {
   "source": [
    "# Reporte final Naucalpan"
   ],
   "cell_type": "markdown",
   "metadata": {}
  },
  {
   "cell_type": "code",
   "execution_count": null,
   "metadata": {},
   "outputs": [],
   "source": [
    "final_naucalpan = pd.concat([final_liv,final_brad],ignore_index=True)\n",
    "final_naucalpan = pd.concat([final_naucalpan,final_cred],ignore_index=True)\n",
    "final_naucalpan = pd.concat([final_naucalpan,final_baz],ignore_index=True)\n",
    "final_naucalpan.insert(loc=0,column='Sucursal',value='Naucalpan')\n",
    "final_naucalpan.insert(loc=0,column='Pais',value='Mexico')\n",
    "final_naucalpan['TendenciaCierre1'] = [(30/x.day)*y for x,y in zip(final_naucalpan['FechaFact'],final_naucalpan['SumaFacturacion'])]\n",
    "final_naucalpan = final_naucalpan.replace('EXTRA','Cobranza')\n",
    "final_naucalpan = final_naucalpan.replace('COBRANZA','Cobranza')\n",
    "final_naucalpan.fillna('',inplace=True)\n",
    "final_naucalpan"
   ]
  },
  {
   "cell_type": "code",
   "execution_count": null,
   "metadata": {},
   "outputs": [],
   "source": [
    "final_naucalpan.to_csv(''+ruta_guardar+'/Reporte Sucursal/Reporte sucursal '+today2+'.csv',index=False,header=True)"
   ]
  },
  {
   "cell_type": "code",
   "execution_count": null,
   "metadata": {},
   "outputs": [],
   "source": []
  }
 ]
}