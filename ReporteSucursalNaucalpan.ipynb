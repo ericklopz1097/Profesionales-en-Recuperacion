{
 "metadata": {
  "language_info": {
   "codemirror_mode": {
    "name": "ipython",
    "version": 3
   },
   "file_extension": ".py",
   "mimetype": "text/x-python",
   "name": "python",
   "nbconvert_exporter": "python",
   "pygments_lexer": "ipython3",
   "version": "3.8.5-final"
  },
  "orig_nbformat": 2,
  "kernelspec": {
   "name": "python3",
   "display_name": "Python 3",
   "language": "python"
  }
 },
 "nbformat": 4,
 "nbformat_minor": 2,
 "cells": [
  {
   "cell_type": "code",
   "execution_count": 1,
   "metadata": {},
   "outputs": [],
   "source": [
    "import pandas as pd\n",
    "import numpy as np\n",
    "import mysql.connector\n",
    "import os\n",
    "from mysql.connector import Error\n",
    "from datetime import datetime, date, timedelta\n",
    "import ConeccionesSucursales as cs\n",
    "from IPython.core.interactiveshell import InteractiveShell\n",
    "InteractiveShell.ast_node_interactivity = \"all\""
   ]
  },
  {
   "cell_type": "code",
   "execution_count": 2,
   "metadata": {},
   "outputs": [],
   "source": [
    "#Definimos la ruta en donde queremos guardar los archivos\n",
    "ruta_guardar = '/home/estadistico/Documents/Erick/Reportes diarios'\n",
    "ruta_asig_baz = '/home/estadistico/Documents/Erick/Banco Azteca/Asignacion csv'\n",
    "ruta_pagos = '/home/estadistico/Documents/Erick'\n",
    "mes = 20210101\n",
    "fin_mes = pd.to_datetime('31/01/2021',dayfirst=True)\n",
    "mes2 = 'Enero2021'\n",
    "mes3 = pd.to_datetime('01/01/2021',dayfirst=True)\n",
    "prim_sem_mes = 1"
   ]
  },
  {
   "cell_type": "code",
   "execution_count": 3,
   "metadata": {},
   "outputs": [],
   "source": [
    "#Agregamos las variables a ocupar\n",
    "servidor = '192.168.15.12'\n",
    "puerto = int('3306')\n",
    "usuario = 'estadisticas'\n",
    "contraseña = 'estadisticas8474'\n",
    "base = 'procesos_externos'"
   ]
  },
  {
   "cell_type": "code",
   "execution_count": 4,
   "metadata": {},
   "outputs": [],
   "source": [
    "#Lectura pagos Bradesco\n",
    "pagos_brad = pd.read_excel(''+ruta_pagos+'/'+str(mes2)+'/Bradesco/Pagos/Acumulado de pagos enero de 2021.xlsx')\n",
    "pagos_brad = pagos_brad.iloc[:,0:9]\n",
    "pagos_brad = pagos_brad.drop_duplicates()\n",
    "pagos_brad2 = pd.pivot_table(pagos_brad,index=['NUMERO_TARJETA','FECHA_PAGO','TIPO_ASIGANCION'],values=['MONTO'],aggfunc=np.sum)\n",
    "pagos_brad2 = pd.DataFrame(pagos_brad2.to_records())\n",
    "pagos_brad2 = pagos_brad2.loc[pagos_brad2['FECHA_PAGO']>=mes3]"
   ]
  },
  {
   "cell_type": "code",
   "execution_count": 5,
   "metadata": {},
   "outputs": [],
   "source": [
    "#Lectura pagos Liverpool\n",
    "sheet_liv = ['SA002REM','SA001REM','DKN04REM','DKN02REM','DKN00REM']\n",
    "pagos_liv = pd.DataFrame()\n",
    "for i in sheet_liv:\n",
    "    pagos_liv_new = pd.read_excel(''+ruta_pagos+'/'+str(mes2)+'/Liverpool/Pagos/PAGOS ENERO2021.xlsx',sheet_name = str(i),converters={'Cuenta':str})\n",
    "    pagos_liv = pd.concat([pagos_liv,pagos_liv_new],ignore_index=True)\n",
    "pagos_liv = pagos_liv.drop_duplicates()\n",
    "pagos_liv = pagos_liv.iloc[:,0:6]\n",
    "pagos_liv.columns = ['Id','Cuenta','Fecha Prom','Fecha Pago','Monto','Posteo']\n",
    "try: \n",
    "    pagos_liv['Fecha Pago'] = pd.to_datetime(pagos_liv['Fecha Pago'],dayfirst=True)\n",
    "except: pagos_liv['Fecha Pago']   \n",
    "pagos_liv['Fecha Pago'] = [datetime.strftime(x,'%d/%m/%Y') for x in pagos_liv['Fecha Pago']]\n",
    "try: \n",
    "    pagos_liv['Fecha Prom'] = pd.to_datetime(pagos_liv['Fecha Prom'],dayfirst=True)\n",
    "except: pagos_liv['Fecha Prom']    \n",
    "pagos_liv['Fecha Prom'] = [datetime.strftime(x,'%d/%m/%Y') for x in pagos_liv['Fecha Prom']]\n",
    "pagos_liv2 = pd.pivot_table(pagos_liv,index=['Id','Cuenta','Fecha Pago','Fecha Prom'],values=['Monto'],aggfunc=np.sum)\n",
    "pagos_liv2 = pd.DataFrame(pagos_liv2.to_records())\n",
    "#pagos_liv2 = pagos_liv2.loc[pagos_liv2['Fecha Pago']>=mes3]"
   ]
  },
  {
   "cell_type": "code",
   "execution_count": 6,
   "metadata": {},
   "outputs": [],
   "source": [
    "#Lectura pagos Credifiel\n",
    "sheet_cred = os.listdir(''+ruta_pagos+'/'+str(mes2)+'/Credifiel/Pagos/')\n",
    "pagos_cred = pd.DataFrame()\n",
    "for j in sheet_cred:\n",
    "    pagos_cred_new = pd.read_excel(''+ruta_pagos+'/'+str(mes2)+'/Credifiel/Pagos/'+j+'')\n",
    "    pagos_cred = pd.concat([pagos_cred,pagos_cred_new],ignore_index=True)\n",
    "#pagos_cred = pagos_cred.iloc[:,[12,1,8]]\n",
    "pagos_cred2 = pd.pivot_table(pagos_cred,index=['ID','FECHA'],values=['IMPORTE'],aggfunc=np.sum)\n",
    "pagos_cred2 = pd.DataFrame(pagos_cred2.to_records())"
   ]
  },
  {
   "cell_type": "code",
   "execution_count": 7,
   "metadata": {},
   "outputs": [],
   "source": [
    "#Lectura pagos Banco Azteca\n",
    "#sheet_baz = os.listdir(''+ruta_pagos+'/'+str(mes2)+'/Banco Azteca/Pagos/')\n",
    "#pagos_baz = pd.DataFrame()\n",
    "#for k in sheet_baz:\n",
    "#    pagos_baz_new = pd.read_csv(''+ruta_pagos+'/'+str(mes2)+'/Banco Azteca/Pagos/'+k+'')\n",
    "#    pagos_baz = pd.concat([pagos_baz,pagos_baz_new],ignore_index=True)\n",
    "#pagos_baz = pagos_baz.drop_duplicates()\n",
    "#pagos_baz = pagos_baz.loc[pagos_baz['FNMONTOPAGADO']>0]\n",
    "#pagos_baz['FDFECHAABONO'] = pd.to_datetime(pagos_baz['FDFECHAABONO'],dayfirst=True)\n",
    "#pagos_baz = pagos_baz.loc[pagos_baz['FDFECHAABONO']>=mes3]\n",
    "#pagos_baz2 = pd.pivot_table(pagos_baz,index=['CAMPANAID','FDFECHAABONO','FIIDPERIODO','FNSCOMPROMISO','FCEMPNUMCORTE','FNMONTOPROMETIDO'],values=['FNMONTOPAGADO'],aggfunc=np.sum)\n",
    "#pagos_baz2 = pd.DataFrame(pagos_baz2.to_records())"
   ]
  },
  {
   "cell_type": "code",
   "execution_count": 8,
   "metadata": {},
   "outputs": [],
   "source": [
    "#Leemos facturacion Banco Azteca\n",
    "#sheet_baz2 = os.listdir(''+ruta_pagos+'/'+str(mes2)+'/Banco Azteca/Facturacion/')\n",
    "#fact_baz = pd.DataFrame()\n",
    "#for k in sheet_baz2:\n",
    "#    fact_baz_new = pd.read_csv(''+ruta_pagos+'/'+str(mes2)+'/Banco Azteca/Facturacion/'+k+'',encoding='latin-1')\n",
    "#    fact_baz = pd.concat([fact_baz,fact_baz_new],ignore_index=True)\n",
    "#fact_baz = fact_baz.drop_duplicates()\n",
    "#fact_baz = fact_baz.loc[fact_baz['Número Semana']>=prim_sem_mes]\n",
    "#fact_baz['Final de Semana'] = pd.to_datetime(fact_baz['Final de Semana'],dayfirst=True)\n",
    "#fact_baz['Inicio de Semana'] = pd.to_datetime(fact_baz['Inicio de Semana'],dayfirst=True)"
   ]
  },
  {
   "cell_type": "code",
   "execution_count": 9,
   "metadata": {},
   "outputs": [],
   "source": [
    "#Asignamos valores a los parametros \\n\"\n",
    "today = date.today().strftime('%Y%m%d')\n",
    "now = datetime.now().strftime('%d-%m-%Y %H-%M')\n",
    "hoy = np.datetime64('today')\n",
    "ayer = np.datetime64(date.today() - timedelta(1))\n",
    "today2 = date.today().strftime('%d-%m-%Y')"
   ]
  },
  {
   "cell_type": "code",
   "execution_count": 10,
   "metadata": {},
   "outputs": [],
   "source": [
    "#Hacemos la conexion con el servidor\\n\",\n",
    "try:\n",
    "    conn = mysql.connector.connect(user=usuario,\n",
    "                               password=contraseña,\n",
    "                               host=servidor,\n",
    "                               port=3306,\n",
    "                               database=base)\n",
    "    conn.set_charset_collation('latin1')\n",
    "except mysql.Error as e:\n",
    "    print(\"Failed to execute stored procedure: {}\".format(error))\n",
    "\n",
    "cursor = conn.cursor()"
   ]
  },
  {
   "cell_type": "code",
   "execution_count": 11,
   "metadata": {},
   "outputs": [],
   "source": [
    "#Hacemos la asignacion de cada una de las metas para cambiar de arancel sin tomar el 0 en cuenta\n",
    "c04pv1, arancel_4pv1 = 846436, .07\n",
    "c04pv2, arancel_4pv2 = 1269654, .08\n",
    "c04pv3, arancel_4pv3 = 1692873, .12\n",
    "c05pv1, arancel_5pv1 = 729630, .09\n",
    "c05pv2, arancel_5pv2 = 1094445, .10\n",
    "c05pv3, arancel_5pv3 = 1459261, .14\n",
    "c06pv1, arancel_6pv1 = 623524, .10\n",
    "c06pv2, arancel_6pv2 = 935287, .11\n",
    "c06pv3, arancel_6pv3 = 1247050, .16\n",
    "a1, arancel_a1 = 264024, .27\n",
    "a2, arancel_a2 = 396037, .30\n",
    "a3, arancel_a3 = 528050, .33\n",
    "b1, arancel_b1 = 214969, .25\n",
    "b2, arancel_b2 = 396037, .28\n",
    "b3, arancel_b3 = 528050, .31\n",
    "c11, arancel_c11 = 1430989, .17\n",
    "c12, arancel_c12 = 2146483, .20\n",
    "c13, arancel_c13 = 2861978, .23\n",
    "c21, arancel_c21 = 549549, .19\n",
    "c22, arancel_c22 = 824323, .22\n",
    "c23, arancel_c23 = 1099098, .25\n",
    "c31, arancel_c31 = 237647, .21\n",
    "c32, arancel_c32 = 356470, .24\n",
    "c33, arancel_c33 = 475294, .27\n",
    "c41, arancel_c41 = 109401, .23\n",
    "c42, arancel_c42 = 164101, .26\n",
    "c43, arancel_c43 = 218801, .29"
   ]
  },
  {
   "cell_type": "code",
   "execution_count": 12,
   "metadata": {},
   "outputs": [],
   "source": [
    "#Funcion para hacer la consulta sql, ya sea de gestion o de asignacion en donde requerimos tres parametros, la tabla de donde vamos a sacar la consulta, en caso de asignacin requerimos los otros dos parametros fecha inicial y fecha final\n",
    "def consulta_sql(table,from_date=None,to_date=None):\n",
    "    if from_date is None:\n",
    "        sql_mes = cursor.callproc(table,)\n",
    "        for result in cursor.stored_results():\n",
    "            sql_mes = pd.DataFrame(result.fetchall())\n",
    "    else:\n",
    "        sql_mes = cursor.callproc(table, [from_date,to_date])\n",
    "        for result in cursor.stored_results():\n",
    "            sql_mes = pd.DataFrame(result.fetchall())\n",
    "    sql_mes = sql_mes.drop_duplicates()\n",
    "    return sql_mes"
   ]
  },
  {
   "cell_type": "code",
   "execution_count": 13,
   "metadata": {},
   "outputs": [],
   "source": [
    "#Funcion para transformar varias columnas a numero\n",
    "def transform_numeric(df,cols):\n",
    "    return df[cols].apply(pd.to_numeric, errors='coerce')\n",
    "\n",
    "#Funcion que convierte a dataframe y rellena espacios con 0\n",
    "def to_dataframe(df):\n",
    "    df = pd.DataFrame(df.to_records())\n",
    "    df.fillna(0,inplace=True)\n",
    "    return df"
   ]
  },
  {
   "source": [
    "# Reporte Liverpool"
   ],
   "cell_type": "markdown",
   "metadata": {}
  },
  {
   "cell_type": "code",
   "execution_count": 14,
   "metadata": {},
   "outputs": [],
   "source": [
    "#Hacemos la consulta referente a las gestiones de Liverpool\n",
    "gestion_liv_mes = cs.query_naucalpan('liverpool_rpt_gestiones_detallado',mes,today)\n",
    "gestion_liv_mes.columns = ['folio_gestion','firma_id','unegocio_id','credito','nombre_credito','telefono','tipo_telefono','fecha_gestion','usuario','nombre_usuario','dictamen','accion','resultado','fecha_promesa','monto_promesa','comentarios']\n",
    "gestion_liv_mes = gestion_liv_mes.loc[gestion_liv_mes['dictamen']=='PROMESA']\n",
    "gestion_liv_mes['anio'] = [int(x[:4]) for x in gestion_liv_mes['fecha_promesa']]\n",
    "gestion_liv_mes = gestion_liv_mes.loc[(gestion_liv_mes['anio']>2010)&(gestion_liv_mes['anio']<2100)]\n",
    "gestion_liv_mes['fecha_promesa'] = pd.to_datetime(gestion_liv_mes['fecha_promesa'],dayfirst=False)"
   ]
  },
  {
   "cell_type": "code",
   "execution_count": 15,
   "metadata": {},
   "outputs": [
    {
     "output_type": "execute_result",
     "data": {
      "text/plain": [
       "   division              credito\n",
       "0  SA002REM  0001400000007731973"
      ],
      "text/html": "<div>\n<style scoped>\n    .dataframe tbody tr th:only-of-type {\n        vertical-align: middle;\n    }\n\n    .dataframe tbody tr th {\n        vertical-align: top;\n    }\n\n    .dataframe thead th {\n        text-align: right;\n    }\n</style>\n<table border=\"1\" class=\"dataframe\">\n  <thead>\n    <tr style=\"text-align: right;\">\n      <th></th>\n      <th>division</th>\n      <th>credito</th>\n    </tr>\n  </thead>\n  <tbody>\n    <tr>\n      <th>0</th>\n      <td>SA002REM</td>\n      <td>0001400000007731973</td>\n    </tr>\n  </tbody>\n</table>\n</div>"
     },
     "metadata": {},
     "execution_count": 15
    }
   ],
   "source": [
    "#Asignacion Liverpool\n",
    "asignacion_liv = pd.read_csv(''+ruta_pagos+'/Liverpool/Asignacion/Asignaciones csv/Asignacion '+mes2+'.csv',converters={'# CUENTA':str})\n",
    "asignacion_liv = asignacion_liv[['ID AGENCIA', '# CUENTA']]\n",
    "asignacion_liv.columns = ['division','credito']\n",
    "asignacion_liv.head(1)"
   ]
  },
  {
   "cell_type": "code",
   "execution_count": 16,
   "metadata": {},
   "outputs": [],
   "source": [
    "#Hacemos el consolidado\n",
    "consolidado_liv_mes = pd.merge(gestion_liv_mes,asignacion_liv,how='left',on=['credito'])\n",
    "cols = ['monto_promesa']\n",
    "consolidado_liv_mes[cols] = consolidado_liv_mes[cols].apply(pd.to_numeric, errors='coerce')\n",
    "consolidado_liv_mes = consolidado_liv_mes[(consolidado_liv_mes['monto_promesa']>50)]\n",
    "consolidado_liv_mes = consolidado_liv_mes[(consolidado_liv_mes['monto_promesa']<500000)]\n",
    "consolidado_liv_mes['division'].fillna('COBRANZA',inplace=True)\n",
    "consolidado_liv_mes['division'] = consolidado_liv_mes['division'].replace('','COBRANZA')\n",
    "consolidado_liv_mes = consolidado_liv_mes.drop_duplicates(subset = ['usuario','credito','fecha_promesa','monto_promesa'])"
   ]
  },
  {
   "cell_type": "code",
   "execution_count": 17,
   "metadata": {},
   "outputs": [],
   "source": [
    "productos = [('DKN00REM','pren'),('DKN02REM','REM2'),('DKN04REM','REM4'),('SA001REM','SB02'),('SA002REM','REM9')]\n",
    "productos = pd.DataFrame(productos)\n",
    "productos.columns = ['id','division']\n",
    "consolidado_liv_mes = pd.merge(consolidado_liv_mes,productos,how='left',on=['division'])"
   ]
  },
  {
   "cell_type": "code",
   "execution_count": 18,
   "metadata": {},
   "outputs": [],
   "source": [
    "#Asignamos los aranceles de liverpool\n",
    "aranceles = [('DKN00REM',0.28),('DKN02REM',0.4),('DKN04REM',0.5),('SA001REM',0.15),('SA002REM',0.16)]\n",
    "aranceles = pd.DataFrame(aranceles)\n",
    "aranceles.columns = ['Id','Arancel']\n",
    "\n",
    "#Agregamos aranceles al consolidado\n",
    "pagos_liv3 = pd.merge(pagos_liv2,aranceles,how='left',on='Id')\n",
    "pagos_liv3['PagoArancel'] = [x*y for x,y in zip(pagos_liv3['Monto'],pagos_liv3['Arancel'])]"
   ]
  },
  {
   "cell_type": "code",
   "execution_count": 19,
   "metadata": {},
   "outputs": [],
   "source": [
    "#Unimos el consolidado con los pagos \n",
    "consolidado_pagos_liv = pd.merge(consolidado_liv_mes,pagos_liv3,how='left',left_on=['credito'],right_on=['Cuenta'])\n",
    "consolidado_pagos_liv = consolidado_pagos_liv.drop_duplicates(subset = ['credito','monto_promesa','usuario','fecha_promesa'])\n",
    "consolidado_pagos_liv['Fecha Pago'] = pd.to_datetime(consolidado_pagos_liv['Fecha Pago'],dayfirst=True)\n",
    "consolidado_pagos_liv['dia_prom'] = consolidado_pagos_liv['fecha_promesa'].dt.day\n",
    "consolidado_pagos_liv['dia_pago'] = consolidado_pagos_liv['Fecha Pago'].dt.day\n",
    "cols = ['dia_prom','dia_pago','Monto']\n",
    "consolidado_pagos_liv[cols] = consolidado_pagos_liv[cols].apply(pd.to_numeric, errors='coerce',downcast='integer')\n",
    "consolidado_pagos_liv['dia_pago'].fillna(0,inplace=True)\n",
    "try:\n",
    "    consolidado_pagos_liv['dia_pago'] = [int(x) for x in consolidado_pagos_liv['dia_pago']]\n",
    "except: consolidado_pagos_liv['dia_pago'] = consolidado_pagos_liv['dia_pago']"
   ]
  },
  {
   "cell_type": "code",
   "execution_count": 20,
   "metadata": {},
   "outputs": [],
   "source": [
    "#Condicionamos a los gestores cuyas promesas y pagos estan en un plazo de 3 dias\n",
    "consolidado_pagos_liv['PagoReal'] = [np.where((z < x+pd.Timedelta(3, unit='D')) & ((z > x-pd.Timedelta(3, unit='D') )), y, 0) for x,y,z in zip(consolidado_pagos_liv['fecha_promesa'],consolidado_pagos_liv['Monto'],consolidado_pagos_liv['Fecha Pago'])]\n",
    "consolidado_pagos_liv['PagoReal'] = [x.item() for x in consolidado_pagos_liv['PagoReal']]"
   ]
  },
  {
   "cell_type": "code",
   "execution_count": 21,
   "metadata": {},
   "outputs": [],
   "source": [
    "consolidado_pagos_liv['MontoArancel'] = [x*y for x,y in zip(consolidado_pagos_liv['PagoReal'],consolidado_pagos_liv['Arancel'])]"
   ]
  },
  {
   "cell_type": "code",
   "execution_count": 22,
   "metadata": {},
   "outputs": [
    {
     "output_type": "execute_result",
     "data": {
      "text/plain": [
       "   Division  NumeroPromesas  SumaPromesas\n",
       "0  COBRANZA               4      31128.28\n",
       "1  DKN00REM             131     539900.87\n",
       "2  DKN02REM             109     523466.44\n",
       "3  DKN04REM              58     195982.37\n",
       "4  SA001REM             120     201336.24\n",
       "5  SA002REM              10      21957.00\n",
       "6       All             432    1513771.20"
      ],
      "text/html": "<div>\n<style scoped>\n    .dataframe tbody tr th:only-of-type {\n        vertical-align: middle;\n    }\n\n    .dataframe tbody tr th {\n        vertical-align: top;\n    }\n\n    .dataframe thead th {\n        text-align: right;\n    }\n</style>\n<table border=\"1\" class=\"dataframe\">\n  <thead>\n    <tr style=\"text-align: right;\">\n      <th></th>\n      <th>Division</th>\n      <th>NumeroPromesas</th>\n      <th>SumaPromesas</th>\n    </tr>\n  </thead>\n  <tbody>\n    <tr>\n      <th>0</th>\n      <td>COBRANZA</td>\n      <td>4</td>\n      <td>31128.28</td>\n    </tr>\n    <tr>\n      <th>1</th>\n      <td>DKN00REM</td>\n      <td>131</td>\n      <td>539900.87</td>\n    </tr>\n    <tr>\n      <th>2</th>\n      <td>DKN02REM</td>\n      <td>109</td>\n      <td>523466.44</td>\n    </tr>\n    <tr>\n      <th>3</th>\n      <td>DKN04REM</td>\n      <td>58</td>\n      <td>195982.37</td>\n    </tr>\n    <tr>\n      <th>4</th>\n      <td>SA001REM</td>\n      <td>120</td>\n      <td>201336.24</td>\n    </tr>\n    <tr>\n      <th>5</th>\n      <td>SA002REM</td>\n      <td>10</td>\n      <td>21957.00</td>\n    </tr>\n    <tr>\n      <th>6</th>\n      <td>All</td>\n      <td>432</td>\n      <td>1513771.20</td>\n    </tr>\n  </tbody>\n</table>\n</div>"
     },
     "metadata": {},
     "execution_count": 22
    }
   ],
   "source": [
    "#Obtenemos datos de los gestores de Liverpool\n",
    "promesas_mes_liv = pd.pivot_table(consolidado_pagos_liv,index=['division'],values=['monto_promesa'],aggfunc=['count',np.sum],margins=True,dropna=False)\n",
    "promesas_mes_liv = pd.DataFrame(promesas_mes_liv.to_records())\n",
    "promesas_mes_liv.columns = ['Division','NumeroPromesas','SumaPromesas']\n",
    "promesas_mes_liv.fillna(0,inplace=True)\n",
    "promesas_mes_liv"
   ]
  },
  {
   "cell_type": "code",
   "execution_count": 23,
   "metadata": {},
   "outputs": [
    {
     "output_type": "execute_result",
     "data": {
      "text/plain": [
       "   Division  PromesasRestantes\n",
       "0  DKN00REM           196262.0\n",
       "1  DKN02REM           200205.0\n",
       "2  DKN04REM            68934.0\n",
       "3  SA001REM           110193.1\n",
       "4  SA002REM             5092.0"
      ],
      "text/html": "<div>\n<style scoped>\n    .dataframe tbody tr th:only-of-type {\n        vertical-align: middle;\n    }\n\n    .dataframe tbody tr th {\n        vertical-align: top;\n    }\n\n    .dataframe thead th {\n        text-align: right;\n    }\n</style>\n<table border=\"1\" class=\"dataframe\">\n  <thead>\n    <tr style=\"text-align: right;\">\n      <th></th>\n      <th>Division</th>\n      <th>PromesasRestantes</th>\n    </tr>\n  </thead>\n  <tbody>\n    <tr>\n      <th>0</th>\n      <td>DKN00REM</td>\n      <td>196262.0</td>\n    </tr>\n    <tr>\n      <th>1</th>\n      <td>DKN02REM</td>\n      <td>200205.0</td>\n    </tr>\n    <tr>\n      <th>2</th>\n      <td>DKN04REM</td>\n      <td>68934.0</td>\n    </tr>\n    <tr>\n      <th>3</th>\n      <td>SA001REM</td>\n      <td>110193.1</td>\n    </tr>\n    <tr>\n      <th>4</th>\n      <td>SA002REM</td>\n      <td>5092.0</td>\n    </tr>\n  </tbody>\n</table>\n</div>"
     },
     "metadata": {},
     "execution_count": 23
    }
   ],
   "source": [
    "#Obtenemos las promesas restantes a partir del día de hoy\n",
    "restantes_liv = consolidado_pagos_liv.loc[(consolidado_pagos_liv['fecha_promesa']>=ayer)&(consolidado_pagos_liv['fecha_promesa']<=fin_mes)]\n",
    "promesas_restantes_liv = pd.pivot_table(restantes_liv,index=['division'],values=['monto_promesa'],aggfunc=[np.sum],dropna=False)\n",
    "promesas_restantes_liv = pd.DataFrame(promesas_restantes_liv.to_records())\n",
    "promesas_restantes_liv.columns = ['Division','PromesasRestantes']\n",
    "promesas_mes_liv.fillna(0,inplace=True)\n",
    "promesas_restantes_liv"
   ]
  },
  {
   "cell_type": "code",
   "execution_count": 24,
   "metadata": {},
   "outputs": [
    {
     "output_type": "execute_result",
     "data": {
      "text/plain": [
       "   Division  NumeroPagos  SumaPagos  SumaFacturacion  FechaFact\n",
       "0  DKN00REM           73  302061.00        84577.080 2021-01-14\n",
       "1  DKN02REM           65  270882.99       108353.196 2021-01-14\n",
       "2  DKN04REM           35  143493.37        71746.685 2021-01-14\n",
       "3  SA001REM           67  100220.98        15033.147 2021-01-14\n",
       "4  SA002REM            5    4401.00          704.160 2021-01-14"
      ],
      "text/html": "<div>\n<style scoped>\n    .dataframe tbody tr th:only-of-type {\n        vertical-align: middle;\n    }\n\n    .dataframe tbody tr th {\n        vertical-align: top;\n    }\n\n    .dataframe thead th {\n        text-align: right;\n    }\n</style>\n<table border=\"1\" class=\"dataframe\">\n  <thead>\n    <tr style=\"text-align: right;\">\n      <th></th>\n      <th>Division</th>\n      <th>NumeroPagos</th>\n      <th>SumaPagos</th>\n      <th>SumaFacturacion</th>\n      <th>FechaFact</th>\n    </tr>\n  </thead>\n  <tbody>\n    <tr>\n      <th>0</th>\n      <td>DKN00REM</td>\n      <td>73</td>\n      <td>302061.00</td>\n      <td>84577.080</td>\n      <td>2021-01-14</td>\n    </tr>\n    <tr>\n      <th>1</th>\n      <td>DKN02REM</td>\n      <td>65</td>\n      <td>270882.99</td>\n      <td>108353.196</td>\n      <td>2021-01-14</td>\n    </tr>\n    <tr>\n      <th>2</th>\n      <td>DKN04REM</td>\n      <td>35</td>\n      <td>143493.37</td>\n      <td>71746.685</td>\n      <td>2021-01-14</td>\n    </tr>\n    <tr>\n      <th>3</th>\n      <td>SA001REM</td>\n      <td>67</td>\n      <td>100220.98</td>\n      <td>15033.147</td>\n      <td>2021-01-14</td>\n    </tr>\n    <tr>\n      <th>4</th>\n      <td>SA002REM</td>\n      <td>5</td>\n      <td>4401.00</td>\n      <td>704.160</td>\n      <td>2021-01-14</td>\n    </tr>\n  </tbody>\n</table>\n</div>"
     },
     "metadata": {},
     "execution_count": 24
    }
   ],
   "source": [
    "#Total pagos Liver registrados\n",
    "pagos_totales_liv = pd.pivot_table(pagos_liv3,index=['Id'],values=['Monto','PagoArancel'],aggfunc=[np.sum,'count'],dropna=False)\n",
    "pagos_totales_liv = pd.DataFrame(pagos_totales_liv.to_records())\n",
    "pagos_totales_liv = pagos_totales_liv.iloc[:,[0,3,1,2]]\n",
    "pagos_totales_liv.columns = ['Division','NumeroPagos','SumaPagos','SumaFacturacion']\n",
    "pagos_totales_liv.fillna(0,inplace=True)\n",
    "pagos_totales_liv['FechaFact'] = max(pagos_liv2['Fecha Pago'])\n",
    "pagos_totales_liv['FechaFact'] = pd.to_datetime(pagos_totales_liv['FechaFact'],dayfirst=True)\n",
    "pagos_totales_liv"
   ]
  },
  {
   "cell_type": "code",
   "execution_count": 25,
   "metadata": {},
   "outputs": [
    {
     "output_type": "execute_result",
     "data": {
      "text/plain": [
       "     Cliente  Division  NumeroPagos  SumaPagos  SumaFacturacion  FechaFact  \\\n",
       "0  Liverpool  DKN00REM           73  302061.00        84577.080 2021-01-14   \n",
       "1  Liverpool  DKN02REM           65  270882.99       108353.196 2021-01-14   \n",
       "2  Liverpool  DKN04REM           35  143493.37        71746.685 2021-01-14   \n",
       "3  Liverpool  SA001REM           67  100220.98        15033.147 2021-01-14   \n",
       "4  Liverpool  SA002REM            5    4401.00          704.160 2021-01-14   \n",
       "\n",
       "   NumeroPromesas  SumaPromesas  PromesasRestantes  \n",
       "0             131     539900.87           196262.0  \n",
       "1             109     523466.44           200205.0  \n",
       "2              58     195982.37            68934.0  \n",
       "3             120     201336.24           110193.1  \n",
       "4              10      21957.00             5092.0  "
      ],
      "text/html": "<div>\n<style scoped>\n    .dataframe tbody tr th:only-of-type {\n        vertical-align: middle;\n    }\n\n    .dataframe tbody tr th {\n        vertical-align: top;\n    }\n\n    .dataframe thead th {\n        text-align: right;\n    }\n</style>\n<table border=\"1\" class=\"dataframe\">\n  <thead>\n    <tr style=\"text-align: right;\">\n      <th></th>\n      <th>Cliente</th>\n      <th>Division</th>\n      <th>NumeroPagos</th>\n      <th>SumaPagos</th>\n      <th>SumaFacturacion</th>\n      <th>FechaFact</th>\n      <th>NumeroPromesas</th>\n      <th>SumaPromesas</th>\n      <th>PromesasRestantes</th>\n    </tr>\n  </thead>\n  <tbody>\n    <tr>\n      <th>0</th>\n      <td>Liverpool</td>\n      <td>DKN00REM</td>\n      <td>73</td>\n      <td>302061.00</td>\n      <td>84577.080</td>\n      <td>2021-01-14</td>\n      <td>131</td>\n      <td>539900.87</td>\n      <td>196262.0</td>\n    </tr>\n    <tr>\n      <th>1</th>\n      <td>Liverpool</td>\n      <td>DKN02REM</td>\n      <td>65</td>\n      <td>270882.99</td>\n      <td>108353.196</td>\n      <td>2021-01-14</td>\n      <td>109</td>\n      <td>523466.44</td>\n      <td>200205.0</td>\n    </tr>\n    <tr>\n      <th>2</th>\n      <td>Liverpool</td>\n      <td>DKN04REM</td>\n      <td>35</td>\n      <td>143493.37</td>\n      <td>71746.685</td>\n      <td>2021-01-14</td>\n      <td>58</td>\n      <td>195982.37</td>\n      <td>68934.0</td>\n    </tr>\n    <tr>\n      <th>3</th>\n      <td>Liverpool</td>\n      <td>SA001REM</td>\n      <td>67</td>\n      <td>100220.98</td>\n      <td>15033.147</td>\n      <td>2021-01-14</td>\n      <td>120</td>\n      <td>201336.24</td>\n      <td>110193.1</td>\n    </tr>\n    <tr>\n      <th>4</th>\n      <td>Liverpool</td>\n      <td>SA002REM</td>\n      <td>5</td>\n      <td>4401.00</td>\n      <td>704.160</td>\n      <td>2021-01-14</td>\n      <td>10</td>\n      <td>21957.00</td>\n      <td>5092.0</td>\n    </tr>\n  </tbody>\n</table>\n</div>"
     },
     "metadata": {},
     "execution_count": 25
    }
   ],
   "source": [
    "final_liv = pd.merge(pagos_totales_liv,promesas_mes_liv,how='left',on=['Division'])\n",
    "final_liv = pd.merge(final_liv,promesas_restantes_liv,how='left',on=['Division'])\n",
    "final_liv.insert(loc=0,column='Cliente',value='Liverpool')\n",
    "final_liv"
   ]
  },
  {
   "source": [
    "# Reporte Bradesco"
   ],
   "cell_type": "markdown",
   "metadata": {}
  },
  {
   "cell_type": "code",
   "execution_count": 26,
   "metadata": {},
   "outputs": [],
   "source": [
    "asignacion_brad_c0 = pd.read_csv(''+ruta_pagos+'/Bradesco/Asignacion_c0/CSV/ASIGNACION C0 '+mes2+'.csv')\n",
    "asignacion_brad_c0 = asignacion_brad_c0.iloc[:,[0,2,3,8,10,11,14,25]]\n",
    "asignacion_brad_extra = pd.read_csv(''+ruta_pagos+'/Bradesco/Asignacion_extra/CSV/Asignacion Extra '+mes2+'.csv',encoding= 'unicode_escape')\n",
    "asignacion_brad_extra = asignacion_brad_extra.iloc[:,[0,2,3,5,9,25,26,28]]\n",
    "asignacion_brad_extra.columns = ['CODIGO_ORG','NUMERO_CUENTA','NUMERO_TARJETA','RFC','ESTADO','SALDO_TOTAL','PAGO_DESCUENTO','PAGOSVENCIDOS']\n",
    "\n",
    "asignacion_brad = pd.concat([asignacion_brad_c0,asignacion_brad_extra],ignore_index=True)"
   ]
  },
  {
   "cell_type": "code",
   "execution_count": 27,
   "metadata": {},
   "outputs": [],
   "source": [
    "#Hacemos la consulta referente a las gestiones de Bradesco\n",
    "gestion_brad_mes = cs.query_naucalpan('bradescard_rpt_gestiones_detallado',mes,today)\n",
    "gestion_brad_mes.columns = ['folio_gestion','firma_id','unegocio_id','NUMERO_TARJETA','nombre_credito','telefono','tipo_telefono','fecha_gestion','usuario','nombre_usuario','dictamen','accion','resultado','accion_resultado','fecha_promesa','monto_promesa','comentarios']\n",
    "gestion_brad_mes = gestion_brad_mes.loc[gestion_brad_mes['dictamen']=='PROMESA']\n",
    "gestion_brad_mes['NUMERO_TARJETA'] = pd.to_numeric(gestion_brad_mes['NUMERO_TARJETA'])\n",
    "gestion_brad_mes['monto_promesa'] = pd.to_numeric(gestion_brad_mes['monto_promesa'])\n",
    "gestion_brad_mes = gestion_brad_mes.drop_duplicates(subset=['NUMERO_TARJETA','usuario','fecha_promesa','monto_promesa'])"
   ]
  },
  {
   "cell_type": "code",
   "execution_count": 28,
   "metadata": {},
   "outputs": [
    {
     "output_type": "execute_result",
     "data": {
      "text/plain": [
       "   folio_gestion  firma_id  unegocio_id    NUMERO_TARJETA  \\\n",
       "0        9642632         1            3  5063291418487011   \n",
       "\n",
       "                   nombre_credito    telefono tipo_telefono  \\\n",
       "0  SALINAS PARAMO  DIANA VERONICA  4561091309       celular   \n",
       "\n",
       "        fecha_gestion       usuario                nombre_usuario  ...  \\\n",
       "0 2021-01-15 13:23:33  HUERTALONAXO  HUERTA LOPEZ NATALIA XOCHITL  ...   \n",
       "\n",
       "  fecha_promesa monto_promesa  \\\n",
       "0    2021-01-16         800.0   \n",
       "\n",
       "                                         comentarios CODIGO_ORG  \\\n",
       "0   4561091309/TT PROMESA DE PAGO PARCIAL POR 800...       PLCC   \n",
       "\n",
       "      NUMERO_CUENTA      ESTADO              RFC SALDO_TOTAL  PAGO_DESCUENTO  \\\n",
       "0  5063291418487000  GUANAJUATO  SAPD99081851901     3367.53          2189.0   \n",
       "\n",
       "  PAGOSVENCIDOS  \n",
       "0        C0 5PV  \n",
       "\n",
       "[1 rows x 24 columns]"
      ],
      "text/html": "<div>\n<style scoped>\n    .dataframe tbody tr th:only-of-type {\n        vertical-align: middle;\n    }\n\n    .dataframe tbody tr th {\n        vertical-align: top;\n    }\n\n    .dataframe thead th {\n        text-align: right;\n    }\n</style>\n<table border=\"1\" class=\"dataframe\">\n  <thead>\n    <tr style=\"text-align: right;\">\n      <th></th>\n      <th>folio_gestion</th>\n      <th>firma_id</th>\n      <th>unegocio_id</th>\n      <th>NUMERO_TARJETA</th>\n      <th>nombre_credito</th>\n      <th>telefono</th>\n      <th>tipo_telefono</th>\n      <th>fecha_gestion</th>\n      <th>usuario</th>\n      <th>nombre_usuario</th>\n      <th>...</th>\n      <th>fecha_promesa</th>\n      <th>monto_promesa</th>\n      <th>comentarios</th>\n      <th>CODIGO_ORG</th>\n      <th>NUMERO_CUENTA</th>\n      <th>ESTADO</th>\n      <th>RFC</th>\n      <th>SALDO_TOTAL</th>\n      <th>PAGO_DESCUENTO</th>\n      <th>PAGOSVENCIDOS</th>\n    </tr>\n  </thead>\n  <tbody>\n    <tr>\n      <th>0</th>\n      <td>9642632</td>\n      <td>1</td>\n      <td>3</td>\n      <td>5063291418487011</td>\n      <td>SALINAS PARAMO  DIANA VERONICA</td>\n      <td>4561091309</td>\n      <td>celular</td>\n      <td>2021-01-15 13:23:33</td>\n      <td>HUERTALONAXO</td>\n      <td>HUERTA LOPEZ NATALIA XOCHITL</td>\n      <td>...</td>\n      <td>2021-01-16</td>\n      <td>800.0</td>\n      <td>4561091309/TT PROMESA DE PAGO PARCIAL POR 800...</td>\n      <td>PLCC</td>\n      <td>5063291418487000</td>\n      <td>GUANAJUATO</td>\n      <td>SAPD99081851901</td>\n      <td>3367.53</td>\n      <td>2189.0</td>\n      <td>C0 5PV</td>\n    </tr>\n  </tbody>\n</table>\n<p>1 rows × 24 columns</p>\n</div>"
     },
     "metadata": {},
     "execution_count": 28
    }
   ],
   "source": [
    "#Hacemos la union de asignacion y promesas\n",
    "consolidado_brad_mes = pd.merge(gestion_brad_mes,asignacion_brad,how='left',on=['NUMERO_TARJETA'])\n",
    "cols = ['monto_promesa']\n",
    "consolidado_brad_mes[cols] = consolidado_brad_mes[cols].apply(pd.to_numeric, errors='coerce')\n",
    "consolidado_brad_mes = consolidado_brad_mes[(consolidado_brad_mes['monto_promesa']>50)]\n",
    "consolidado_brad_mes = consolidado_brad_mes[(consolidado_brad_mes['monto_promesa']<500000)]\n",
    "#consolidado_brad_mes.fillna('COBRANZA',inplace=True)\n",
    "consolidado_brad_mes['NUMERO_TARJETA'] = pd.to_numeric(consolidado_brad_mes['NUMERO_TARJETA'])\n",
    "consolidado_brad_mes.head(1)"
   ]
  },
  {
   "cell_type": "code",
   "execution_count": 29,
   "metadata": {},
   "outputs": [],
   "source": [
    "#Obtenemos los pagos totales por division\n",
    "pagos_totales_brad = pd.pivot_table(pagos_brad2,index=['TIPO_ASIGANCION'],values=['MONTO'],aggfunc=[np.sum,'count'],margins=True,dropna=False)\n",
    "pagos_totales_brad = pd.DataFrame(pagos_totales_brad.to_records())\n",
    "pagos_totales_brad = pagos_totales_brad.iloc[:,[0,2,1]]\n",
    "pagos_totales_brad.columns = ['Division','NumeroPagos','SumaPagos']\n",
    "pagos_totales_brad.fillna(0,inplace=True)"
   ]
  },
  {
   "cell_type": "code",
   "execution_count": 30,
   "metadata": {},
   "outputs": [],
   "source": [
    "C04PV = pagos_totales_brad.loc[pagos_totales_brad['Division']=='C0 4PV', 'SumaPagos'].item()\n",
    "C05PV = pagos_totales_brad.loc[pagos_totales_brad['Division']=='C0 5PV', 'SumaPagos'].item()\n",
    "C06PV = pagos_totales_brad.loc[pagos_totales_brad['Division']=='C0 6PV', 'SumaPagos'].item()\n",
    "A = pagos_totales_brad.loc[pagos_totales_brad['Division']=='A', 'SumaPagos'].item()\n",
    "C1 = pagos_totales_brad.loc[pagos_totales_brad['Division']=='C1', 'SumaPagos'].item()\n",
    "C2 = pagos_totales_brad.loc[pagos_totales_brad['Division']=='C2', 'SumaPagos'].item()\n",
    "C3 = pagos_totales_brad.loc[pagos_totales_brad['Division']=='C3', 'SumaPagos'].item()\n",
    "C4 = pagos_totales_brad.loc[pagos_totales_brad['Division']=='C4', 'SumaPagos'].item()\n",
    "B = pagos_totales_brad.loc[pagos_totales_brad['Division']=='B', 'SumaPagos'].item()"
   ]
  },
  {
   "cell_type": "code",
   "execution_count": 31,
   "metadata": {},
   "outputs": [],
   "source": [
    "def func(row):\n",
    "    if row['TIPO_ASIGANCION'] == 'C0 4PV':\n",
    "        return np.where((C04PV>0) & (C04PV<=c04pv1),arancel_4pv1,\n",
    "                        np.where((C04PV>c04pv1) & (C04PV<=c04pv2),arancel_4pv2,\n",
    "                                 np.where((C04PV>c04pv2) & (C04PV<=c04pv3),arancel_4pv3,arancel_4pv3+.03)))\n",
    "    elif row['TIPO_ASIGANCION'] == 'C0 5PV':\n",
    "        return np.where((C05PV>0) & (C05PV<=c05pv1),arancel_5pv1,\n",
    "                        np.where((C05PV>c05pv1) & (C05PV<=c05pv2),arancel_5pv2,\n",
    "                                 np.where((C05PV>c05pv2) & (C05PV<=c05pv3),arancel_5pv3,arancel_5pv3+.03)))\n",
    "    elif row['TIPO_ASIGANCION'] == 'C0 6PV':\n",
    "        return np.where((C06PV>0) & (C06PV<=c06pv1),arancel_6pv1,\n",
    "                        np.where((C06PV>c06pv1) & (C06PV<=c06pv2),arancel_6pv2,\n",
    "                                 np.where((C06PV>c06pv2) & (C06PV<=c06pv3),arancel_6pv3,arancel_6pv3+.03)))\n",
    "    elif row['TIPO_ASIGANCION'] == 'A':\n",
    "        return np.where((A>0) & (A<=a1),arancel_a1,\n",
    "                        np.where((A>a1) & (A<=a2),arancel_a2,\n",
    "                                 np.where((A>a2) & (A<=a3),arancel_a3,arancel_a3+.03)))\n",
    "    elif row['TIPO_ASIGANCION'] == 'B':\n",
    "        return np.where((B>0) & (B<=b1),arancel_b1,\n",
    "                        np.where((B>b1) & (B<=b2),arancel_b2,\n",
    "                                 np.where((B>b2) & (B<=b3),arancel_b3,arancel_b3+.03)))\n",
    "    elif row['TIPO_ASIGANCION'] == 'C1':\n",
    "        return np.where((C1>0) & (C1<=c11),arancel_c11,\n",
    "                        np.where((C1>c11) & (C1<=c12),arancel_c12,\n",
    "                                 np.where((C1>c12) & (C1<=c13),arancel_c13,arancel_c13+.03)))\n",
    "    elif row['TIPO_ASIGANCION'] == 'C2':\n",
    "        return np.where((C2>0) & (C2<=c21),arancel_c21,\n",
    "                        np.where((C2>c21) & (C2<=c22),arancel_c22,\n",
    "                                 np.where((C2>c22) & (C2<=c23),arancel_c23,arancel_c23+.03)))\n",
    "    elif row['TIPO_ASIGANCION'] == 'C3':\n",
    "        return np.where((C3>0) & (C3<=c31),arancel_c31,\n",
    "                        np.where((C3>c31) & (C3<=c32),arancel_c32,\n",
    "                                 np.where((C3>c32) & (C3<=c33),arancel_c33,arancel_c33+.03)))\n",
    "    elif row['TIPO_ASIGANCION'] == 'C4':\n",
    "        return np.where((C4>0) & (C4<=c41),arancel_c41,\n",
    "                        np.where((C4>c41) & (C4<=c42),arancel_c42,\n",
    "                                 np.where((C4>c42) & (C4<=c43),arancel_c43,arancel_c43+.03)))\n",
    "    \n",
    "    else:\n",
    "        return 0\n",
    "\n",
    "pagos_brad2['Arancel'] = pagos_brad2.apply(func, axis=1)"
   ]
  },
  {
   "cell_type": "code",
   "execution_count": 32,
   "metadata": {},
   "outputs": [],
   "source": [
    "pagos_brad2['Facturacion'] = [x*y for x,y in zip(pagos_brad2['MONTO'],pagos_brad2['Arancel'])]"
   ]
  },
  {
   "cell_type": "code",
   "execution_count": 33,
   "metadata": {},
   "outputs": [],
   "source": [
    "#Hacemos la union consolidado y pagos\n",
    "consoliado_pagos_brad = pd.merge(consolidado_brad_mes,pagos_brad2,how='left',left_on=['NUMERO_TARJETA'],right_on=['NUMERO_TARJETA'])\n",
    "try: consoliado_pagos_brad['fecha_promesa'] = pd.to_datetime(consoliado_pagos_brad['fecha_promesa'],dayfirst=False)\n",
    "except: consoliado_pagos_brad['fecha_promesa'] = consoliado_pagos_brad['fecha_gestion']"
   ]
  },
  {
   "cell_type": "code",
   "execution_count": 34,
   "metadata": {},
   "outputs": [],
   "source": [
    "#Condicionamos a los gestores cuyas promesas y pagos estan en un plazo de 3 dias\n",
    "consoliado_pagos_brad['PagoUnico'] = [np.where((z < x+pd.Timedelta(4, unit='D')) & ((z > x-pd.Timedelta(3, unit='D') )), y, 0) for x,y,z in zip(consoliado_pagos_brad['fecha_promesa'],consoliado_pagos_brad['MONTO'],consoliado_pagos_brad['FECHA_PAGO'])]\n",
    "consoliado_pagos_brad['PagoUnico'] = [x.item() for x in consoliado_pagos_brad['PagoUnico']]"
   ]
  },
  {
   "cell_type": "code",
   "execution_count": 35,
   "metadata": {},
   "outputs": [],
   "source": [
    "consoliado_pagos_brad['PagoReal'] = [x*y for x,y in zip(consoliado_pagos_brad['PagoUnico'],consoliado_pagos_brad['Arancel'])]\n",
    "consoliado_pagos_brad2 = consoliado_pagos_brad.drop_duplicates(subset=['NUMERO_CUENTA','MONTO','FECHA_PAGO','usuario'])"
   ]
  },
  {
   "cell_type": "code",
   "execution_count": 36,
   "metadata": {},
   "outputs": [
    {
     "output_type": "execute_result",
     "data": {
      "text/plain": [
       "  Division  NumeroPromesas  SumaPromesas\n",
       "0        A              27      51654.00\n",
       "1        B               6      10201.00\n",
       "2   C0 4PV             251     397336.09\n",
       "3   C0 5PV             114     192308.00\n",
       "4   C0 6PV              91     171749.00\n",
       "5       C1             118     191533.00\n",
       "6       C2             113     176647.00\n",
       "7       C3              88     117139.00\n",
       "8       C4              38      42142.00\n",
       "9      All             846    1350709.09"
      ],
      "text/html": "<div>\n<style scoped>\n    .dataframe tbody tr th:only-of-type {\n        vertical-align: middle;\n    }\n\n    .dataframe tbody tr th {\n        vertical-align: top;\n    }\n\n    .dataframe thead th {\n        text-align: right;\n    }\n</style>\n<table border=\"1\" class=\"dataframe\">\n  <thead>\n    <tr style=\"text-align: right;\">\n      <th></th>\n      <th>Division</th>\n      <th>NumeroPromesas</th>\n      <th>SumaPromesas</th>\n    </tr>\n  </thead>\n  <tbody>\n    <tr>\n      <th>0</th>\n      <td>A</td>\n      <td>27</td>\n      <td>51654.00</td>\n    </tr>\n    <tr>\n      <th>1</th>\n      <td>B</td>\n      <td>6</td>\n      <td>10201.00</td>\n    </tr>\n    <tr>\n      <th>2</th>\n      <td>C0 4PV</td>\n      <td>251</td>\n      <td>397336.09</td>\n    </tr>\n    <tr>\n      <th>3</th>\n      <td>C0 5PV</td>\n      <td>114</td>\n      <td>192308.00</td>\n    </tr>\n    <tr>\n      <th>4</th>\n      <td>C0 6PV</td>\n      <td>91</td>\n      <td>171749.00</td>\n    </tr>\n    <tr>\n      <th>5</th>\n      <td>C1</td>\n      <td>118</td>\n      <td>191533.00</td>\n    </tr>\n    <tr>\n      <th>6</th>\n      <td>C2</td>\n      <td>113</td>\n      <td>176647.00</td>\n    </tr>\n    <tr>\n      <th>7</th>\n      <td>C3</td>\n      <td>88</td>\n      <td>117139.00</td>\n    </tr>\n    <tr>\n      <th>8</th>\n      <td>C4</td>\n      <td>38</td>\n      <td>42142.00</td>\n    </tr>\n    <tr>\n      <th>9</th>\n      <td>All</td>\n      <td>846</td>\n      <td>1350709.09</td>\n    </tr>\n  </tbody>\n</table>\n</div>"
     },
     "metadata": {},
     "execution_count": 36
    }
   ],
   "source": [
    "#Obtenemos datos de las promesas de Bradesco\n",
    "prom_brad_div_mes = pd.pivot_table(consoliado_pagos_brad2,index='PAGOSVENCIDOS',values=['monto_promesa'], aggfunc = ['count',np.sum], margins=True,dropna=False)\n",
    "prom_brad_div_mes = pd.DataFrame(prom_brad_div_mes.to_records())\n",
    "prom_brad_div_mes.columns = ['Division','NumeroPromesas','SumaPromesas']\n",
    "prom_brad_div_mes.fillna(0,inplace=True)\n",
    "prom_brad_div_mes"
   ]
  },
  {
   "cell_type": "code",
   "execution_count": 37,
   "metadata": {},
   "outputs": [
    {
     "output_type": "execute_result",
     "data": {
      "text/plain": [
       "  Division  PromesasRestantes\n",
       "0        A             5000.0\n",
       "1        B              404.0\n",
       "2   C0 4PV            63908.0\n",
       "3   C0 5PV            32595.0\n",
       "4   C0 6PV            20352.0\n",
       "5       C1            43210.0\n",
       "6       C2            35663.0\n",
       "7       C3             8086.0\n",
       "8       C4             5707.0"
      ],
      "text/html": "<div>\n<style scoped>\n    .dataframe tbody tr th:only-of-type {\n        vertical-align: middle;\n    }\n\n    .dataframe tbody tr th {\n        vertical-align: top;\n    }\n\n    .dataframe thead th {\n        text-align: right;\n    }\n</style>\n<table border=\"1\" class=\"dataframe\">\n  <thead>\n    <tr style=\"text-align: right;\">\n      <th></th>\n      <th>Division</th>\n      <th>PromesasRestantes</th>\n    </tr>\n  </thead>\n  <tbody>\n    <tr>\n      <th>0</th>\n      <td>A</td>\n      <td>5000.0</td>\n    </tr>\n    <tr>\n      <th>1</th>\n      <td>B</td>\n      <td>404.0</td>\n    </tr>\n    <tr>\n      <th>2</th>\n      <td>C0 4PV</td>\n      <td>63908.0</td>\n    </tr>\n    <tr>\n      <th>3</th>\n      <td>C0 5PV</td>\n      <td>32595.0</td>\n    </tr>\n    <tr>\n      <th>4</th>\n      <td>C0 6PV</td>\n      <td>20352.0</td>\n    </tr>\n    <tr>\n      <th>5</th>\n      <td>C1</td>\n      <td>43210.0</td>\n    </tr>\n    <tr>\n      <th>6</th>\n      <td>C2</td>\n      <td>35663.0</td>\n    </tr>\n    <tr>\n      <th>7</th>\n      <td>C3</td>\n      <td>8086.0</td>\n    </tr>\n    <tr>\n      <th>8</th>\n      <td>C4</td>\n      <td>5707.0</td>\n    </tr>\n  </tbody>\n</table>\n</div>"
     },
     "metadata": {},
     "execution_count": 37
    }
   ],
   "source": [
    "#Obtenemos las promesas restantes a partir del día de hoy\n",
    "restantes_brad = consoliado_pagos_brad2.loc[consoliado_pagos_brad2['fecha_promesa']>=ayer]\n",
    "promesas_restantes_brad = pd.pivot_table(restantes_brad,index=['PAGOSVENCIDOS'],values=['monto_promesa'],aggfunc=[np.sum],dropna=False)\n",
    "promesas_restantes_brad = pd.DataFrame(promesas_restantes_brad.to_records())\n",
    "promesas_restantes_brad.columns = ['Division','PromesasRestantes']\n",
    "promesas_restantes_brad.fillna(0,inplace=True)\n",
    "promesas_restantes_brad"
   ]
  },
  {
   "cell_type": "code",
   "execution_count": 38,
   "metadata": {},
   "outputs": [],
   "source": [
    "pagos_totales_brad2 = pd.pivot_table(pagos_brad2,index=['TIPO_ASIGANCION'],values=['MONTO','Facturacion'],aggfunc=['count',np.sum],dropna=False)\n",
    "pagos_totales_brad2 = pd.DataFrame(pagos_totales_brad2.to_records())\n",
    "pagos_totales_brad2 = pagos_totales_brad2.iloc[:,[0,1,4,3]]\n",
    "pagos_totales_brad2.columns = ['Division','NumeroPagos','SumaPagos','SumaFacturacion']\n",
    "pagos_totales_brad2.fillna(0,inplace=True)\n",
    "pagos_totales_brad2['FechaFact'] = max(pagos_brad2['FECHA_PAGO'])"
   ]
  },
  {
   "cell_type": "code",
   "execution_count": 39,
   "metadata": {},
   "outputs": [
    {
     "output_type": "execute_result",
     "data": {
      "text/plain": [
       "    Cliente Division  NumeroPagos  SumaPagos  SumaFacturacion  FechaFact  \\\n",
       "0  Bradesco        A           14   32007.00        8641.8900 2021-01-14   \n",
       "1  Bradesco        B            4    5047.00        1261.7500 2021-01-14   \n",
       "2  Bradesco   C0 4PV          183  266056.32       18623.9424 2021-01-14   \n",
       "3  Bradesco   C0 5PV           87  112172.10       10095.4890 2021-01-14   \n",
       "4  Bradesco   C0 6PV           64   92226.50        9222.6500 2021-01-14   \n",
       "5  Bradesco       C1           88  135503.00       23035.5100 2021-01-14   \n",
       "6  Bradesco       C2           63  109827.84       20867.2896 2021-01-14   \n",
       "7  Bradesco       C3           45   52510.00       11027.1000 2021-01-14   \n",
       "8  Bradesco       C4           11    8574.00        1972.0200 2021-01-14   \n",
       "\n",
       "   NumeroPromesas  SumaPromesas  PromesasRestantes  \n",
       "0              27      51654.00             5000.0  \n",
       "1               6      10201.00              404.0  \n",
       "2             251     397336.09            63908.0  \n",
       "3             114     192308.00            32595.0  \n",
       "4              91     171749.00            20352.0  \n",
       "5             118     191533.00            43210.0  \n",
       "6             113     176647.00            35663.0  \n",
       "7              88     117139.00             8086.0  \n",
       "8              38      42142.00             5707.0  "
      ],
      "text/html": "<div>\n<style scoped>\n    .dataframe tbody tr th:only-of-type {\n        vertical-align: middle;\n    }\n\n    .dataframe tbody tr th {\n        vertical-align: top;\n    }\n\n    .dataframe thead th {\n        text-align: right;\n    }\n</style>\n<table border=\"1\" class=\"dataframe\">\n  <thead>\n    <tr style=\"text-align: right;\">\n      <th></th>\n      <th>Cliente</th>\n      <th>Division</th>\n      <th>NumeroPagos</th>\n      <th>SumaPagos</th>\n      <th>SumaFacturacion</th>\n      <th>FechaFact</th>\n      <th>NumeroPromesas</th>\n      <th>SumaPromesas</th>\n      <th>PromesasRestantes</th>\n    </tr>\n  </thead>\n  <tbody>\n    <tr>\n      <th>0</th>\n      <td>Bradesco</td>\n      <td>A</td>\n      <td>14</td>\n      <td>32007.00</td>\n      <td>8641.8900</td>\n      <td>2021-01-14</td>\n      <td>27</td>\n      <td>51654.00</td>\n      <td>5000.0</td>\n    </tr>\n    <tr>\n      <th>1</th>\n      <td>Bradesco</td>\n      <td>B</td>\n      <td>4</td>\n      <td>5047.00</td>\n      <td>1261.7500</td>\n      <td>2021-01-14</td>\n      <td>6</td>\n      <td>10201.00</td>\n      <td>404.0</td>\n    </tr>\n    <tr>\n      <th>2</th>\n      <td>Bradesco</td>\n      <td>C0 4PV</td>\n      <td>183</td>\n      <td>266056.32</td>\n      <td>18623.9424</td>\n      <td>2021-01-14</td>\n      <td>251</td>\n      <td>397336.09</td>\n      <td>63908.0</td>\n    </tr>\n    <tr>\n      <th>3</th>\n      <td>Bradesco</td>\n      <td>C0 5PV</td>\n      <td>87</td>\n      <td>112172.10</td>\n      <td>10095.4890</td>\n      <td>2021-01-14</td>\n      <td>114</td>\n      <td>192308.00</td>\n      <td>32595.0</td>\n    </tr>\n    <tr>\n      <th>4</th>\n      <td>Bradesco</td>\n      <td>C0 6PV</td>\n      <td>64</td>\n      <td>92226.50</td>\n      <td>9222.6500</td>\n      <td>2021-01-14</td>\n      <td>91</td>\n      <td>171749.00</td>\n      <td>20352.0</td>\n    </tr>\n    <tr>\n      <th>5</th>\n      <td>Bradesco</td>\n      <td>C1</td>\n      <td>88</td>\n      <td>135503.00</td>\n      <td>23035.5100</td>\n      <td>2021-01-14</td>\n      <td>118</td>\n      <td>191533.00</td>\n      <td>43210.0</td>\n    </tr>\n    <tr>\n      <th>6</th>\n      <td>Bradesco</td>\n      <td>C2</td>\n      <td>63</td>\n      <td>109827.84</td>\n      <td>20867.2896</td>\n      <td>2021-01-14</td>\n      <td>113</td>\n      <td>176647.00</td>\n      <td>35663.0</td>\n    </tr>\n    <tr>\n      <th>7</th>\n      <td>Bradesco</td>\n      <td>C3</td>\n      <td>45</td>\n      <td>52510.00</td>\n      <td>11027.1000</td>\n      <td>2021-01-14</td>\n      <td>88</td>\n      <td>117139.00</td>\n      <td>8086.0</td>\n    </tr>\n    <tr>\n      <th>8</th>\n      <td>Bradesco</td>\n      <td>C4</td>\n      <td>11</td>\n      <td>8574.00</td>\n      <td>1972.0200</td>\n      <td>2021-01-14</td>\n      <td>38</td>\n      <td>42142.00</td>\n      <td>5707.0</td>\n    </tr>\n  </tbody>\n</table>\n</div>"
     },
     "metadata": {},
     "execution_count": 39
    }
   ],
   "source": [
    "final_brad = pd.merge(pagos_totales_brad2,prom_brad_div_mes,how='left',on=['Division'])\n",
    "final_brad = pd.merge(final_brad,promesas_restantes_brad,how='left',on=['Division'])\n",
    "final_brad.fillna(0,inplace=True)\n",
    "final_brad.insert(loc=0,column='Cliente',value='Bradesco')\n",
    "final_brad"
   ]
  },
  {
   "source": [
    "# Reporte Banco Azteca  "
   ],
   "cell_type": "markdown",
   "metadata": {}
  },
  {
   "cell_type": "code",
   "execution_count": 40,
   "metadata": {},
   "outputs": [],
   "source": [
    "# #Hacemos la consulta referente a las gestiones de Banco Azteca\n",
    "# sql_gest_baz = cursor.callproc('baz_rpt_gestiones_detallado', [mes,today])\n",
    "# for result in cursor.stored_results():\n",
    "#      gestion_baz = pd.DataFrame(result.fetchall())\n",
    "# gestion_baz.columns = ['folio_gestion','firma_id','unegocio_id','credito','nombre_credito','telefono','tipo_telefono','fecha_gestion','usuario','nombre_usuario','dictamen','accion_resultado','fecha_promesa','monto_promesa','comentarios']\n",
    "# gestion_baz = gestion_baz.loc[gestion_baz['dictamen']=='PROMESA']\n",
    "# gestion_baz['monto_promesa'] = pd.to_numeric(gestion_baz['monto_promesa'])\n",
    "# gestion_baz = gestion_baz.loc[gestion_baz['fecha_promesa'].map(str).str[:4].map(int)<2100]\n",
    "# gestion_baz['fecha_promesa'] = pd.to_datetime(gestion_baz['fecha_promesa'],dayfirst=False)\n",
    "# #gestion_baz.head(3)"
   ]
  },
  {
   "cell_type": "code",
   "execution_count": 41,
   "metadata": {},
   "outputs": [],
   "source": [
    "# #Obtenemos datos de las promesas de Banco Azteca\n",
    "# gestion_baz = gestion_baz.drop_duplicates(subset=['credito','fecha_promesa','monto_promesa'])\n",
    "# prom_baz_div_mes = pd.pivot_table(gestion_baz,index=['dictamen'],values=['unegocio_id','monto_promesa'],aggfunc=('count',np.sum))\n",
    "# prom_baz_div_mes = pd.DataFrame(prom_baz_div_mes.to_records())\n",
    "# prom_baz_div_mes = prom_baz_div_mes.iloc[:,[0,1,2]]\n",
    "# prom_baz_div_mes.columns = ['Division','NumeroPromesas','SumaPromesas']\n",
    "# prom_baz_div_mes.fillna(0,inplace=True)\n",
    "# prom_baz_div_mes = prom_baz_div_mes.replace('PROMESA','COBRANZA')\n",
    "# prom_baz_div_mes"
   ]
  },
  {
   "cell_type": "code",
   "execution_count": 42,
   "metadata": {},
   "outputs": [],
   "source": [
    "# #Obtenemos las promesas restantes a partir del día de hoy\n",
    "# restantes_baz = gestion_baz.loc[gestion_baz['fecha_promesa']>=ayer]\n",
    "\n",
    "# promesas_restantes_baz = pd.pivot_table(restantes_baz,index=['dictamen'],values=['monto_promesa'],aggfunc=[np.sum],dropna=False)\n",
    "# promesas_restantes_baz = pd.DataFrame(promesas_restantes_baz.to_records())\n",
    "# promesas_restantes_baz.columns = ['Division','PromesasRestantes']\n",
    "# promesas_restantes_baz = promesas_restantes_baz.replace('PROMESA','COBRANZA')\n",
    "# promesas_restantes_baz.fillna(0,inplace=True)\n",
    "# promesas_restantes_baz"
   ]
  },
  {
   "cell_type": "code",
   "execution_count": 43,
   "metadata": {},
   "outputs": [],
   "source": [
    "# pagos_baz2['division'] = 'COBRANZA'\n",
    "# pagos_baz2['FNFACTURACION'] = [x*.2 for x in pagos_baz2['FNMONTOPAGADO']]\n",
    "# pagos_totales_baz = pd.pivot_table(pagos_baz2,index=['division'],values=['FNMONTOPAGADO'],aggfunc=['count',np.sum],dropna=False)\n",
    "# pagos_totales_baz = pd.DataFrame(pagos_totales_baz.to_records())\n",
    "# #pagos_totales_baz = pagos_totales_baz.iloc[:,[0,1,4,3]]\n",
    "# pagos_totales_baz.columns = ['Division','NumeroPagos','SumaPagos']\n",
    "# #pagos_totales_baz.fillna(0,inplace=True)\n",
    "# #pagos_totales_baz['FechaFact'] = ayer\n",
    "# pagos_totales_baz"
   ]
  },
  {
   "cell_type": "code",
   "execution_count": 44,
   "metadata": {},
   "outputs": [],
   "source": [
    "# fact_baz['Total Recuperado'] = np.where(fact_baz['Inicio de Semana']<mes3,fact_baz['Total Recuperado']*.85,fact_baz['Total Recuperado'])\n",
    "# fact_baz['Total Comisión'] = np.where(fact_baz['Inicio de Semana']<mes3,fact_baz['Total Comisión']*.85,fact_baz['Total Comisión'])"
   ]
  },
  {
   "cell_type": "code",
   "execution_count": 45,
   "metadata": {},
   "outputs": [],
   "source": [
    "# #Hacemos la consulta de pagos y facturacion\n",
    "# fact_baz['Division2'] = 'COBRANZA'\n",
    "# pagos_fact_baz = pd.pivot_table(fact_baz,index=['Division2'],values=['Total Recuperado','Total Comisión'],aggfunc=[np.sum])\n",
    "# pagos_fact_baz = to_dataframe(pagos_fact_baz)\n",
    "# pagos_fact_baz = pagos_fact_baz.iloc[:,[0,2,1]]\n",
    "# pagos_fact_baz.columns = ['Division','SumaPagos','SumaFacturacion']\n",
    "# pagos_fact_baz['FechaFact'] = max(fact_baz['Final de Semana'])\n",
    "# pagos_fact_baz"
   ]
  },
  {
   "cell_type": "code",
   "execution_count": 46,
   "metadata": {},
   "outputs": [],
   "source": [
    "# final_baz = pd.merge(pagos_fact_baz,prom_baz_div_mes,how='left',on=['Division'])\n",
    "# final_baz = pd.merge(final_baz,promesas_restantes_baz,how='left',on=['Division'])\n",
    "# final_baz.fillna(0,inplace=True)\n",
    "# final_baz.insert(loc=0,column='Cliente',value='Banco Azteca')\n",
    "# final_baz"
   ]
  },
  {
   "source": [
    "# Reporte Credifiel"
   ],
   "cell_type": "markdown",
   "metadata": {}
  },
  {
   "cell_type": "code",
   "execution_count": 47,
   "metadata": {},
   "outputs": [],
   "source": [
    "#Hacemos la consulta referente a las gestiones de Credifiel\n",
    "gestion_cred = cs.query_naucalpan('credifiel_rpt_gestiones_detallado',mes,today)\n",
    "gestion_cred.columns = ['folio_gestion','unegocio_id','fecha_gestion','hora_gestion','credito','nombre_credito','telefono','usuario','nombre_usuario','accion','resultado','fecha_promesa','monto_promesa','comentarios','accion_credifiel','resultado_credifiel','dictamen']\n",
    "gestion_cred['monto_promesa'] = pd.to_numeric(gestion_cred['monto_promesa'])\n",
    "gestion_cred = gestion_cred.loc[gestion_cred['accion_credifiel']=='PDP']\n",
    "gestion_cred['credito'] = [x[3:] for x in gestion_cred['credito']]\n",
    "gestion_cred['credito'] = pd.to_numeric(gestion_cred['credito'])\n",
    "#gestion_cred.head(3)"
   ]
  },
  {
   "cell_type": "code",
   "execution_count": 48,
   "metadata": {},
   "outputs": [],
   "source": [
    "#Hacemos la consulta de la asignacion\n",
    "asignacion_cred = pd.read_excel('/home/estadistico/Documents/Erick/Credifiel/Asignacion/Asignacion Credifiel '+mes2+'.xlsx')\n",
    "asignacion_cred = asignacion_cred.drop_duplicates(subset=['CREDITO','SALDO TOTAL REAL'])\n",
    "asignacion_cred['CREDITO'] = pd.to_numeric(asignacion_cred['CREDITO'])"
   ]
  },
  {
   "cell_type": "code",
   "execution_count": 49,
   "metadata": {},
   "outputs": [],
   "source": [
    "#Hacemos el consolidado de la asignacion y promesado\n",
    "consolidado_cred = pd.merge(gestion_cred,asignacion_cred,how='left',left_on=['credito'],right_on=['CREDITO'])\n",
    "cols = ['monto_promesa','unegocio_id']\n",
    "consolidado_cred[cols] = consolidado_cred[cols].apply(pd.to_numeric, errors='coerce')\n",
    "consolidado_cred = consolidado_cred.loc[consolidado_cred['monto_promesa']>50]\n",
    "consolidado_cred = consolidado_cred[(consolidado_cred['monto_promesa']<500000)]\n",
    "consolidado_cred['fecha_promesa'] = pd.to_datetime(consolidado_cred['fecha_promesa'],dayfirst=False)\n",
    "consolidado_cred.replace('CONTACTO','EXTRA',inplace=True)"
   ]
  },
  {
   "cell_type": "code",
   "execution_count": 50,
   "metadata": {},
   "outputs": [],
   "source": [
    "pagos_cred3 = pd.merge(pagos_cred2,consolidado_cred[['credito','nombre_usuario','fecha_promesa','monto_promesa','ARANCEL']],how='left',left_on=['ID'],right_on=['credito'])\n",
    "pagos_cred3['ARANCEL'].fillna(np.mean(pagos_cred3['ARANCEL']),inplace=True)\n",
    "pagos_cred3['PagoFacturacion'] = [x*y for x,y in zip(pagos_cred3['ARANCEL'],pagos_cred3['IMPORTE'])]\n",
    "pagos_cred3['division'] = 'EXTRA'\n",
    "pagos_cred3 = pagos_cred3.drop_duplicates(subset=['ID','IMPORTE'])"
   ]
  },
  {
   "cell_type": "code",
   "execution_count": 51,
   "metadata": {},
   "outputs": [
    {
     "output_type": "execute_result",
     "data": {
      "text/plain": [
       "  Division  NumeroPromesas  SumaPromesas\n",
       "0    EXTRA              73     217634.83"
      ],
      "text/html": "<div>\n<style scoped>\n    .dataframe tbody tr th:only-of-type {\n        vertical-align: middle;\n    }\n\n    .dataframe tbody tr th {\n        vertical-align: top;\n    }\n\n    .dataframe thead th {\n        text-align: right;\n    }\n</style>\n<table border=\"1\" class=\"dataframe\">\n  <thead>\n    <tr style=\"text-align: right;\">\n      <th></th>\n      <th>Division</th>\n      <th>NumeroPromesas</th>\n      <th>SumaPromesas</th>\n    </tr>\n  </thead>\n  <tbody>\n    <tr>\n      <th>0</th>\n      <td>EXTRA</td>\n      <td>73</td>\n      <td>217634.83</td>\n    </tr>\n  </tbody>\n</table>\n</div>"
     },
     "metadata": {},
     "execution_count": 51
    }
   ],
   "source": [
    "#Obtenemos datos de las promesas de Bradesco\n",
    "prom_cred_div_mes = pd.pivot_table(consolidado_cred,index=['dictamen'],values=['monto_promesa'], aggfunc=['count',np.sum], dropna=False)\n",
    "prom_cred_div_mes = pd.DataFrame(prom_cred_div_mes.to_records())\n",
    "#prom_cred_div_mes = prom_cred_div_mes.iloc[:,[0,4,8,6,5]]\n",
    "prom_cred_div_mes.columns = ['Division','NumeroPromesas','SumaPromesas']\n",
    "#prom_cred_div_mes = prom_cred_div_mes.sort_values(by=['SumaPago'],ascending =False)\n",
    "#prom_cred_div_mes = prom_cred_div_mes.reset_index(drop=True)\n",
    "#prom_cred_div_mes.fillna(0,inplace=True)\n",
    "#prom_brad_div_mes[['NumeroPromesas','PromedioPromesa','SumaPromesas']] = prom_brad_gestor_mes[['NumeroPromesas','PromedioPromesa','SumaPromesas']].applymap(\"{0:.2f}\".format)\n",
    "prom_cred_div_mes"
   ]
  },
  {
   "cell_type": "code",
   "execution_count": 52,
   "metadata": {},
   "outputs": [
    {
     "output_type": "execute_result",
     "data": {
      "text/plain": [
       "  Division  PromesasRestantes\n",
       "0    EXTRA          168865.52"
      ],
      "text/html": "<div>\n<style scoped>\n    .dataframe tbody tr th:only-of-type {\n        vertical-align: middle;\n    }\n\n    .dataframe tbody tr th {\n        vertical-align: top;\n    }\n\n    .dataframe thead th {\n        text-align: right;\n    }\n</style>\n<table border=\"1\" class=\"dataframe\">\n  <thead>\n    <tr style=\"text-align: right;\">\n      <th></th>\n      <th>Division</th>\n      <th>PromesasRestantes</th>\n    </tr>\n  </thead>\n  <tbody>\n    <tr>\n      <th>0</th>\n      <td>EXTRA</td>\n      <td>168865.52</td>\n    </tr>\n  </tbody>\n</table>\n</div>"
     },
     "metadata": {},
     "execution_count": 52
    }
   ],
   "source": [
    "#Obtenemos las promesas restantes a partir del día de hoy\n",
    "restantes_cred = consolidado_cred.loc[consolidado_cred['fecha_promesa']>=ayer]\n",
    "\n",
    "promesas_restantes_cred = pd.pivot_table(restantes_cred,index=['dictamen'],values=['monto_promesa'],aggfunc=[np.sum],dropna=False)\n",
    "promesas_restantes_cred = pd.DataFrame(promesas_restantes_cred.to_records())\n",
    "#promesas_restantes_brad = promesas_restantes_brad.iloc[:,[0,3,8,6,5]]\n",
    "promesas_restantes_cred.columns = ['Division','PromesasRestantes']\n",
    "promesas_restantes_cred.fillna(0,inplace=True)\n",
    "\n",
    "#posible cambio\n",
    "#promesas_restantes_brad = promesas_restantes_brad.sort_values(by='SumaPagos',ascending=False)\n",
    "#promesas_restantes_brad[['SumaPromesas']] = promesas_restantes_brad[['SumaPromesas']].applymap(\"{0:.2f}\".format)\n",
    "promesas_restantes_cred"
   ]
  },
  {
   "cell_type": "code",
   "execution_count": 53,
   "metadata": {},
   "outputs": [
    {
     "output_type": "execute_result",
     "data": {
      "text/plain": [
       "  Division  NumeroPagos  SumaPagos  SumaFacturacion  FechaFact\n",
       "0    EXTRA           30  174125.96       38542.1611 2021-01-13"
      ],
      "text/html": "<div>\n<style scoped>\n    .dataframe tbody tr th:only-of-type {\n        vertical-align: middle;\n    }\n\n    .dataframe tbody tr th {\n        vertical-align: top;\n    }\n\n    .dataframe thead th {\n        text-align: right;\n    }\n</style>\n<table border=\"1\" class=\"dataframe\">\n  <thead>\n    <tr style=\"text-align: right;\">\n      <th></th>\n      <th>Division</th>\n      <th>NumeroPagos</th>\n      <th>SumaPagos</th>\n      <th>SumaFacturacion</th>\n      <th>FechaFact</th>\n    </tr>\n  </thead>\n  <tbody>\n    <tr>\n      <th>0</th>\n      <td>EXTRA</td>\n      <td>30</td>\n      <td>174125.96</td>\n      <td>38542.1611</td>\n      <td>2021-01-13</td>\n    </tr>\n  </tbody>\n</table>\n</div>"
     },
     "metadata": {},
     "execution_count": 53
    }
   ],
   "source": [
    "pagos_totales_cred = pd.pivot_table(pagos_cred3,index=['division'],values=['IMPORTE','PagoFacturacion'],aggfunc=['count',np.sum],dropna=False)\n",
    "pagos_totales_cred = pd.DataFrame(pagos_totales_cred.to_records())\n",
    "pagos_totales_cred = pagos_totales_cred.iloc[:,[0,1,3,4]]\n",
    "pagos_totales_cred.columns = ['Division','NumeroPagos','SumaPagos','SumaFacturacion']\n",
    "pagos_totales_cred.fillna(0,inplace=True)\n",
    "#pagos_totales_cred[['SumaPagos','SumaFacturacion']] = pagos_totales_cred[['SumaPagos','SumaFacturacion']].applymap(\"${0:,.2f}\".format)\n",
    "pagos_totales_cred['FechaFact'] = max(pagos_cred3['FECHA'])\n",
    "pagos_totales_cred"
   ]
  },
  {
   "cell_type": "code",
   "execution_count": 54,
   "metadata": {},
   "outputs": [
    {
     "output_type": "execute_result",
     "data": {
      "text/plain": [
       "     Cliente  Division  NumeroPagos  SumaPagos  SumaFacturacion  FechaFact  \\\n",
       "0  Credifiel  COBRANZA           30  174125.96       38542.1611 2021-01-13   \n",
       "\n",
       "   NumeroPromesas  SumaPromesas  PromesasRestantes  \n",
       "0              73     217634.83          168865.52  "
      ],
      "text/html": "<div>\n<style scoped>\n    .dataframe tbody tr th:only-of-type {\n        vertical-align: middle;\n    }\n\n    .dataframe tbody tr th {\n        vertical-align: top;\n    }\n\n    .dataframe thead th {\n        text-align: right;\n    }\n</style>\n<table border=\"1\" class=\"dataframe\">\n  <thead>\n    <tr style=\"text-align: right;\">\n      <th></th>\n      <th>Cliente</th>\n      <th>Division</th>\n      <th>NumeroPagos</th>\n      <th>SumaPagos</th>\n      <th>SumaFacturacion</th>\n      <th>FechaFact</th>\n      <th>NumeroPromesas</th>\n      <th>SumaPromesas</th>\n      <th>PromesasRestantes</th>\n    </tr>\n  </thead>\n  <tbody>\n    <tr>\n      <th>0</th>\n      <td>Credifiel</td>\n      <td>COBRANZA</td>\n      <td>30</td>\n      <td>174125.96</td>\n      <td>38542.1611</td>\n      <td>2021-01-13</td>\n      <td>73</td>\n      <td>217634.83</td>\n      <td>168865.52</td>\n    </tr>\n  </tbody>\n</table>\n</div>"
     },
     "metadata": {},
     "execution_count": 54
    }
   ],
   "source": [
    "final_cred = pd.merge(pagos_totales_cred,prom_cred_div_mes,how='left',on=['Division'])\n",
    "final_cred = pd.merge(final_cred,promesas_restantes_cred,how='left',on=['Division'])\n",
    "final_cred.fillna(0,inplace=True)\n",
    "final_cred.insert(loc=0,column='Cliente',value='Credifiel')\n",
    "final_cred = final_cred.replace('EXTRA','COBRANZA')\n",
    "final_cred"
   ]
  },
  {
   "source": [
    "# Reporte final Naucalpan"
   ],
   "cell_type": "markdown",
   "metadata": {}
  },
  {
   "cell_type": "code",
   "execution_count": 55,
   "metadata": {},
   "outputs": [
    {
     "output_type": "execute_result",
     "data": {
      "text/plain": [
       "      Pais   Sucursal    Cliente       Division  NumeroPagos  SumaPagos  \\\n",
       "0   Mexico  Naucalpan  Liverpool       DKN00REM           73  302061.00   \n",
       "1   Mexico  Naucalpan  Liverpool       DKN02REM           65  270882.99   \n",
       "2   Mexico  Naucalpan  Liverpool       DKN04REM           35  143493.37   \n",
       "3   Mexico  Naucalpan  Liverpool       SA001REM           67  100220.98   \n",
       "4   Mexico  Naucalpan  Liverpool       SA002REM            5    4401.00   \n",
       "5   Mexico  Naucalpan   Bradesco              A           14   32007.00   \n",
       "6   Mexico  Naucalpan   Bradesco              B            4    5047.00   \n",
       "7   Mexico  Naucalpan   Bradesco         C0 4PV          183  266056.32   \n",
       "8   Mexico  Naucalpan   Bradesco         C0 5PV           87  112172.10   \n",
       "9   Mexico  Naucalpan   Bradesco         C0 6PV           64   92226.50   \n",
       "10  Mexico  Naucalpan   Bradesco             C1           88  135503.00   \n",
       "11  Mexico  Naucalpan   Bradesco             C2           63  109827.84   \n",
       "12  Mexico  Naucalpan   Bradesco             C3           45   52510.00   \n",
       "13  Mexico  Naucalpan   Bradesco             C4           11    8574.00   \n",
       "14  Mexico  Naucalpan  Credifiel  EXTRAJUDICIAL           30  174125.96   \n",
       "\n",
       "    SumaFacturacion  FechaFact  NumeroPromesas  SumaPromesas  \\\n",
       "0        84577.0800 2021-01-14             131     539900.87   \n",
       "1       108353.1960 2021-01-14             109     523466.44   \n",
       "2        71746.6850 2021-01-14              58     195982.37   \n",
       "3        15033.1470 2021-01-14             120     201336.24   \n",
       "4          704.1600 2021-01-14              10      21957.00   \n",
       "5         8641.8900 2021-01-14              27      51654.00   \n",
       "6         1261.7500 2021-01-14               6      10201.00   \n",
       "7        18623.9424 2021-01-14             251     397336.09   \n",
       "8        10095.4890 2021-01-14             114     192308.00   \n",
       "9         9222.6500 2021-01-14              91     171749.00   \n",
       "10       23035.5100 2021-01-14             118     191533.00   \n",
       "11       20867.2896 2021-01-14             113     176647.00   \n",
       "12       11027.1000 2021-01-14              88     117139.00   \n",
       "13        1972.0200 2021-01-14              38      42142.00   \n",
       "14       38542.1611 2021-01-13              73     217634.83   \n",
       "\n",
       "    PromesasRestantes  TendenciaCierre1  \n",
       "0           196262.00     181236.600000  \n",
       "1           200205.00     232185.420000  \n",
       "2            68934.00     153742.896429  \n",
       "3           110193.10      32213.886429  \n",
       "4             5092.00       1508.914286  \n",
       "5             5000.00      18518.335714  \n",
       "6              404.00       2703.750000  \n",
       "7            63908.00      39908.448000  \n",
       "8            32595.00      21633.190714  \n",
       "9            20352.00      19762.821429  \n",
       "10           43210.00      49361.807143  \n",
       "11           35663.00      44715.620571  \n",
       "12            8086.00      23629.500000  \n",
       "13            5707.00       4225.757143  \n",
       "14          168865.52      88943.448692  "
      ],
      "text/html": "<div>\n<style scoped>\n    .dataframe tbody tr th:only-of-type {\n        vertical-align: middle;\n    }\n\n    .dataframe tbody tr th {\n        vertical-align: top;\n    }\n\n    .dataframe thead th {\n        text-align: right;\n    }\n</style>\n<table border=\"1\" class=\"dataframe\">\n  <thead>\n    <tr style=\"text-align: right;\">\n      <th></th>\n      <th>Pais</th>\n      <th>Sucursal</th>\n      <th>Cliente</th>\n      <th>Division</th>\n      <th>NumeroPagos</th>\n      <th>SumaPagos</th>\n      <th>SumaFacturacion</th>\n      <th>FechaFact</th>\n      <th>NumeroPromesas</th>\n      <th>SumaPromesas</th>\n      <th>PromesasRestantes</th>\n      <th>TendenciaCierre1</th>\n    </tr>\n  </thead>\n  <tbody>\n    <tr>\n      <th>0</th>\n      <td>Mexico</td>\n      <td>Naucalpan</td>\n      <td>Liverpool</td>\n      <td>DKN00REM</td>\n      <td>73</td>\n      <td>302061.00</td>\n      <td>84577.0800</td>\n      <td>2021-01-14</td>\n      <td>131</td>\n      <td>539900.87</td>\n      <td>196262.00</td>\n      <td>181236.600000</td>\n    </tr>\n    <tr>\n      <th>1</th>\n      <td>Mexico</td>\n      <td>Naucalpan</td>\n      <td>Liverpool</td>\n      <td>DKN02REM</td>\n      <td>65</td>\n      <td>270882.99</td>\n      <td>108353.1960</td>\n      <td>2021-01-14</td>\n      <td>109</td>\n      <td>523466.44</td>\n      <td>200205.00</td>\n      <td>232185.420000</td>\n    </tr>\n    <tr>\n      <th>2</th>\n      <td>Mexico</td>\n      <td>Naucalpan</td>\n      <td>Liverpool</td>\n      <td>DKN04REM</td>\n      <td>35</td>\n      <td>143493.37</td>\n      <td>71746.6850</td>\n      <td>2021-01-14</td>\n      <td>58</td>\n      <td>195982.37</td>\n      <td>68934.00</td>\n      <td>153742.896429</td>\n    </tr>\n    <tr>\n      <th>3</th>\n      <td>Mexico</td>\n      <td>Naucalpan</td>\n      <td>Liverpool</td>\n      <td>SA001REM</td>\n      <td>67</td>\n      <td>100220.98</td>\n      <td>15033.1470</td>\n      <td>2021-01-14</td>\n      <td>120</td>\n      <td>201336.24</td>\n      <td>110193.10</td>\n      <td>32213.886429</td>\n    </tr>\n    <tr>\n      <th>4</th>\n      <td>Mexico</td>\n      <td>Naucalpan</td>\n      <td>Liverpool</td>\n      <td>SA002REM</td>\n      <td>5</td>\n      <td>4401.00</td>\n      <td>704.1600</td>\n      <td>2021-01-14</td>\n      <td>10</td>\n      <td>21957.00</td>\n      <td>5092.00</td>\n      <td>1508.914286</td>\n    </tr>\n    <tr>\n      <th>5</th>\n      <td>Mexico</td>\n      <td>Naucalpan</td>\n      <td>Bradesco</td>\n      <td>A</td>\n      <td>14</td>\n      <td>32007.00</td>\n      <td>8641.8900</td>\n      <td>2021-01-14</td>\n      <td>27</td>\n      <td>51654.00</td>\n      <td>5000.00</td>\n      <td>18518.335714</td>\n    </tr>\n    <tr>\n      <th>6</th>\n      <td>Mexico</td>\n      <td>Naucalpan</td>\n      <td>Bradesco</td>\n      <td>B</td>\n      <td>4</td>\n      <td>5047.00</td>\n      <td>1261.7500</td>\n      <td>2021-01-14</td>\n      <td>6</td>\n      <td>10201.00</td>\n      <td>404.00</td>\n      <td>2703.750000</td>\n    </tr>\n    <tr>\n      <th>7</th>\n      <td>Mexico</td>\n      <td>Naucalpan</td>\n      <td>Bradesco</td>\n      <td>C0 4PV</td>\n      <td>183</td>\n      <td>266056.32</td>\n      <td>18623.9424</td>\n      <td>2021-01-14</td>\n      <td>251</td>\n      <td>397336.09</td>\n      <td>63908.00</td>\n      <td>39908.448000</td>\n    </tr>\n    <tr>\n      <th>8</th>\n      <td>Mexico</td>\n      <td>Naucalpan</td>\n      <td>Bradesco</td>\n      <td>C0 5PV</td>\n      <td>87</td>\n      <td>112172.10</td>\n      <td>10095.4890</td>\n      <td>2021-01-14</td>\n      <td>114</td>\n      <td>192308.00</td>\n      <td>32595.00</td>\n      <td>21633.190714</td>\n    </tr>\n    <tr>\n      <th>9</th>\n      <td>Mexico</td>\n      <td>Naucalpan</td>\n      <td>Bradesco</td>\n      <td>C0 6PV</td>\n      <td>64</td>\n      <td>92226.50</td>\n      <td>9222.6500</td>\n      <td>2021-01-14</td>\n      <td>91</td>\n      <td>171749.00</td>\n      <td>20352.00</td>\n      <td>19762.821429</td>\n    </tr>\n    <tr>\n      <th>10</th>\n      <td>Mexico</td>\n      <td>Naucalpan</td>\n      <td>Bradesco</td>\n      <td>C1</td>\n      <td>88</td>\n      <td>135503.00</td>\n      <td>23035.5100</td>\n      <td>2021-01-14</td>\n      <td>118</td>\n      <td>191533.00</td>\n      <td>43210.00</td>\n      <td>49361.807143</td>\n    </tr>\n    <tr>\n      <th>11</th>\n      <td>Mexico</td>\n      <td>Naucalpan</td>\n      <td>Bradesco</td>\n      <td>C2</td>\n      <td>63</td>\n      <td>109827.84</td>\n      <td>20867.2896</td>\n      <td>2021-01-14</td>\n      <td>113</td>\n      <td>176647.00</td>\n      <td>35663.00</td>\n      <td>44715.620571</td>\n    </tr>\n    <tr>\n      <th>12</th>\n      <td>Mexico</td>\n      <td>Naucalpan</td>\n      <td>Bradesco</td>\n      <td>C3</td>\n      <td>45</td>\n      <td>52510.00</td>\n      <td>11027.1000</td>\n      <td>2021-01-14</td>\n      <td>88</td>\n      <td>117139.00</td>\n      <td>8086.00</td>\n      <td>23629.500000</td>\n    </tr>\n    <tr>\n      <th>13</th>\n      <td>Mexico</td>\n      <td>Naucalpan</td>\n      <td>Bradesco</td>\n      <td>C4</td>\n      <td>11</td>\n      <td>8574.00</td>\n      <td>1972.0200</td>\n      <td>2021-01-14</td>\n      <td>38</td>\n      <td>42142.00</td>\n      <td>5707.00</td>\n      <td>4225.757143</td>\n    </tr>\n    <tr>\n      <th>14</th>\n      <td>Mexico</td>\n      <td>Naucalpan</td>\n      <td>Credifiel</td>\n      <td>EXTRAJUDICIAL</td>\n      <td>30</td>\n      <td>174125.96</td>\n      <td>38542.1611</td>\n      <td>2021-01-13</td>\n      <td>73</td>\n      <td>217634.83</td>\n      <td>168865.52</td>\n      <td>88943.448692</td>\n    </tr>\n  </tbody>\n</table>\n</div>"
     },
     "metadata": {},
     "execution_count": 55
    }
   ],
   "source": [
    "final_naucalpan = pd.concat([final_liv,final_brad],ignore_index=True)\n",
    "final_naucalpan = pd.concat([final_naucalpan,final_cred],ignore_index=True)\n",
    "#final_naucalpan = pd.concat([final_naucalpan,final_baz],ignore_index=True)\n",
    "final_naucalpan.insert(loc=0,column='Sucursal',value='Naucalpan')\n",
    "final_naucalpan.insert(loc=0,column='Pais',value='Mexico')\n",
    "final_naucalpan['TendenciaCierre1'] = [(30/x.day)*y for x,y in zip(final_naucalpan['FechaFact'],final_naucalpan['SumaFacturacion'])]\n",
    "final_naucalpan = final_naucalpan.replace('EXTRA','EXTRAJUDICIAL')\n",
    "final_naucalpan = final_naucalpan.replace('COBRANZA','EXTRAJUDICIAL')\n",
    "final_naucalpan.fillna('',inplace=True)\n",
    "final_naucalpan"
   ]
  },
  {
   "cell_type": "code",
   "execution_count": 116,
   "metadata": {},
   "outputs": [],
   "source": []
  },
  {
   "source": [
    "# Pagos sin promesa asignada"
   ],
   "cell_type": "markdown",
   "metadata": {}
  },
  {
   "cell_type": "code",
   "execution_count": 56,
   "metadata": {},
   "outputs": [
    {
     "output_type": "execute_result",
     "data": {
      "text/plain": [
       "  Division  RecuperadoNoPromesa  PagosNoPromesa\n",
       "0        A              3720.00               1\n",
       "1        B              1500.00               1\n",
       "2   C0 4PV             98095.32              79\n",
       "3   C0 5PV             49070.08              41\n",
       "4   C0 6PV             35167.50              31\n",
       "5       C1             60863.00              42\n",
       "6       C2             31004.84              21\n",
       "7       C3              2842.00               4"
      ],
      "text/html": "<div>\n<style scoped>\n    .dataframe tbody tr th:only-of-type {\n        vertical-align: middle;\n    }\n\n    .dataframe tbody tr th {\n        vertical-align: top;\n    }\n\n    .dataframe thead th {\n        text-align: right;\n    }\n</style>\n<table border=\"1\" class=\"dataframe\">\n  <thead>\n    <tr style=\"text-align: right;\">\n      <th></th>\n      <th>Division</th>\n      <th>RecuperadoNoPromesa</th>\n      <th>PagosNoPromesa</th>\n    </tr>\n  </thead>\n  <tbody>\n    <tr>\n      <th>0</th>\n      <td>A</td>\n      <td>3720.00</td>\n      <td>1</td>\n    </tr>\n    <tr>\n      <th>1</th>\n      <td>B</td>\n      <td>1500.00</td>\n      <td>1</td>\n    </tr>\n    <tr>\n      <th>2</th>\n      <td>C0 4PV</td>\n      <td>98095.32</td>\n      <td>79</td>\n    </tr>\n    <tr>\n      <th>3</th>\n      <td>C0 5PV</td>\n      <td>49070.08</td>\n      <td>41</td>\n    </tr>\n    <tr>\n      <th>4</th>\n      <td>C0 6PV</td>\n      <td>35167.50</td>\n      <td>31</td>\n    </tr>\n    <tr>\n      <th>5</th>\n      <td>C1</td>\n      <td>60863.00</td>\n      <td>42</td>\n    </tr>\n    <tr>\n      <th>6</th>\n      <td>C2</td>\n      <td>31004.84</td>\n      <td>21</td>\n    </tr>\n    <tr>\n      <th>7</th>\n      <td>C3</td>\n      <td>2842.00</td>\n      <td>4</td>\n    </tr>\n  </tbody>\n</table>\n</div>"
     },
     "metadata": {},
     "execution_count": 56
    }
   ],
   "source": [
    "#Pagos de bradesco que no tienen promesa asignada\n",
    "gestion_brad_mes2 = gestion_brad_mes.drop_duplicates(subset='NUMERO_TARJETA')\n",
    "pagos_noasig_brad = pd.merge(pagos_brad2,gestion_brad_mes2[['NUMERO_TARJETA','nombre_credito']],how='left',on='NUMERO_TARJETA')\n",
    "pagos_noasig_brad = pagos_noasig_brad.loc[pagos_noasig_brad['nombre_credito'].isnull()]\n",
    "pagos_noasig_brad_pivot = pd.pivot_table(pagos_noasig_brad,index=['TIPO_ASIGANCION'],values=['MONTO'],aggfunc=[np.sum,'count'])\n",
    "pagos_noasig_brad_pivot = pd.DataFrame(pagos_noasig_brad_pivot.to_records())\n",
    "pagos_noasig_brad_pivot.columns = ['Division','RecuperadoNoPromesa','PagosNoPromesa']\n",
    "pagos_noasig_brad_pivot"
   ]
  },
  {
   "cell_type": "code",
   "execution_count": 57,
   "metadata": {},
   "outputs": [
    {
     "output_type": "execute_result",
     "data": {
      "text/plain": [
       "   Division  RecuperadoNoPromesa  PagosNoPromesa\n",
       "0  DKN00REM             59503.00              18\n",
       "1  DKN02REM             58605.99              31\n",
       "2  DKN04REM             26263.00               5\n",
       "3  SA001REM             20608.83              18\n",
       "4  SA002REM              2411.00               3"
      ],
      "text/html": "<div>\n<style scoped>\n    .dataframe tbody tr th:only-of-type {\n        vertical-align: middle;\n    }\n\n    .dataframe tbody tr th {\n        vertical-align: top;\n    }\n\n    .dataframe thead th {\n        text-align: right;\n    }\n</style>\n<table border=\"1\" class=\"dataframe\">\n  <thead>\n    <tr style=\"text-align: right;\">\n      <th></th>\n      <th>Division</th>\n      <th>RecuperadoNoPromesa</th>\n      <th>PagosNoPromesa</th>\n    </tr>\n  </thead>\n  <tbody>\n    <tr>\n      <th>0</th>\n      <td>DKN00REM</td>\n      <td>59503.00</td>\n      <td>18</td>\n    </tr>\n    <tr>\n      <th>1</th>\n      <td>DKN02REM</td>\n      <td>58605.99</td>\n      <td>31</td>\n    </tr>\n    <tr>\n      <th>2</th>\n      <td>DKN04REM</td>\n      <td>26263.00</td>\n      <td>5</td>\n    </tr>\n    <tr>\n      <th>3</th>\n      <td>SA001REM</td>\n      <td>20608.83</td>\n      <td>18</td>\n    </tr>\n    <tr>\n      <th>4</th>\n      <td>SA002REM</td>\n      <td>2411.00</td>\n      <td>3</td>\n    </tr>\n  </tbody>\n</table>\n</div>"
     },
     "metadata": {},
     "execution_count": 57
    }
   ],
   "source": [
    "#Pagos de Liverpool que no tienen promesa asignada\n",
    "gestion_liv_mes2 = gestion_liv_mes.drop_duplicates(subset='credito')\n",
    "pagos_noasig_liv = pd.merge(pagos_liv2,gestion_liv_mes2[['credito','nombre_credito']],left_on='Cuenta',right_on='credito',how='left')\n",
    "pagos_noasig_liv = pagos_noasig_liv.loc[pagos_noasig_liv['nombre_credito'].isnull()]\n",
    "pagos_noasig_liv_pivot = pd.pivot_table(pagos_noasig_liv,index=['Id'],values=['Monto'],aggfunc=[np.sum,'count'])\n",
    "pagos_noasig_liv_pivot = pd.DataFrame(pagos_noasig_liv_pivot.to_records())\n",
    "pagos_noasig_liv_pivot.columns = ['Division','RecuperadoNoPromesa','PagosNoPromesa']\n",
    "pagos_noasig_liv_pivot"
   ]
  },
  {
   "cell_type": "code",
   "execution_count": 58,
   "metadata": {},
   "outputs": [
    {
     "output_type": "execute_result",
     "data": {
      "text/plain": [
       "        Division  RecuperadoNoPromesa  PagosNoPromesa\n",
       "0  EXTRAJUDICIAL              88023.0               8"
      ],
      "text/html": "<div>\n<style scoped>\n    .dataframe tbody tr th:only-of-type {\n        vertical-align: middle;\n    }\n\n    .dataframe tbody tr th {\n        vertical-align: top;\n    }\n\n    .dataframe thead th {\n        text-align: right;\n    }\n</style>\n<table border=\"1\" class=\"dataframe\">\n  <thead>\n    <tr style=\"text-align: right;\">\n      <th></th>\n      <th>Division</th>\n      <th>RecuperadoNoPromesa</th>\n      <th>PagosNoPromesa</th>\n    </tr>\n  </thead>\n  <tbody>\n    <tr>\n      <th>0</th>\n      <td>EXTRAJUDICIAL</td>\n      <td>88023.0</td>\n      <td>8</td>\n    </tr>\n  </tbody>\n</table>\n</div>"
     },
     "metadata": {},
     "execution_count": 58
    }
   ],
   "source": [
    "#Pagos de Liverpool que no tienen promesa asignada\n",
    "gestion_cred2 = gestion_cred.drop_duplicates(subset='credito')\n",
    "pagos_noasig_cred = pd.merge(pagos_cred2,gestion_cred2[['credito','nombre_credito']],left_on='ID',right_on='credito',how='left')\n",
    "pagos_noasig_cred = pagos_noasig_cred.loc[pagos_noasig_cred['nombre_credito'].isnull()]\n",
    "pagos_noasig_cred['Cliente'] = 'EXTRAJUDICIAL'\n",
    "pagos_noasig_cred_pivot = pd.pivot_table(pagos_noasig_cred,index=['Cliente'],values=['IMPORTE'],aggfunc=[np.sum,'count'])\n",
    "pagos_noasig_cred_pivot = pd.DataFrame(pagos_noasig_cred_pivot.to_records())\n",
    "pagos_noasig_cred_pivot.columns = ['Division','RecuperadoNoPromesa','PagosNoPromesa']\n",
    "pagos_noasig_cred_pivot"
   ]
  },
  {
   "cell_type": "code",
   "execution_count": 59,
   "metadata": {},
   "outputs": [
    {
     "output_type": "execute_result",
     "data": {
      "text/plain": [
       "         Division  RecuperadoNoPromesa  PagosNoPromesa\n",
       "0   EXTRAJUDICIAL             88023.00               8\n",
       "1        DKN00REM             59503.00              18\n",
       "2        DKN02REM             58605.99              31\n",
       "3        DKN04REM             26263.00               5\n",
       "4        SA001REM             20608.83              18\n",
       "5        SA002REM              2411.00               3\n",
       "6               A              3720.00               1\n",
       "7               B              1500.00               1\n",
       "8          C0 4PV             98095.32              79\n",
       "9          C0 5PV             49070.08              41\n",
       "10         C0 6PV             35167.50              31\n",
       "11             C1             60863.00              42\n",
       "12             C2             31004.84              21\n",
       "13             C3              2842.00               4"
      ],
      "text/html": "<div>\n<style scoped>\n    .dataframe tbody tr th:only-of-type {\n        vertical-align: middle;\n    }\n\n    .dataframe tbody tr th {\n        vertical-align: top;\n    }\n\n    .dataframe thead th {\n        text-align: right;\n    }\n</style>\n<table border=\"1\" class=\"dataframe\">\n  <thead>\n    <tr style=\"text-align: right;\">\n      <th></th>\n      <th>Division</th>\n      <th>RecuperadoNoPromesa</th>\n      <th>PagosNoPromesa</th>\n    </tr>\n  </thead>\n  <tbody>\n    <tr>\n      <th>0</th>\n      <td>EXTRAJUDICIAL</td>\n      <td>88023.00</td>\n      <td>8</td>\n    </tr>\n    <tr>\n      <th>1</th>\n      <td>DKN00REM</td>\n      <td>59503.00</td>\n      <td>18</td>\n    </tr>\n    <tr>\n      <th>2</th>\n      <td>DKN02REM</td>\n      <td>58605.99</td>\n      <td>31</td>\n    </tr>\n    <tr>\n      <th>3</th>\n      <td>DKN04REM</td>\n      <td>26263.00</td>\n      <td>5</td>\n    </tr>\n    <tr>\n      <th>4</th>\n      <td>SA001REM</td>\n      <td>20608.83</td>\n      <td>18</td>\n    </tr>\n    <tr>\n      <th>5</th>\n      <td>SA002REM</td>\n      <td>2411.00</td>\n      <td>3</td>\n    </tr>\n    <tr>\n      <th>6</th>\n      <td>A</td>\n      <td>3720.00</td>\n      <td>1</td>\n    </tr>\n    <tr>\n      <th>7</th>\n      <td>B</td>\n      <td>1500.00</td>\n      <td>1</td>\n    </tr>\n    <tr>\n      <th>8</th>\n      <td>C0 4PV</td>\n      <td>98095.32</td>\n      <td>79</td>\n    </tr>\n    <tr>\n      <th>9</th>\n      <td>C0 5PV</td>\n      <td>49070.08</td>\n      <td>41</td>\n    </tr>\n    <tr>\n      <th>10</th>\n      <td>C0 6PV</td>\n      <td>35167.50</td>\n      <td>31</td>\n    </tr>\n    <tr>\n      <th>11</th>\n      <td>C1</td>\n      <td>60863.00</td>\n      <td>42</td>\n    </tr>\n    <tr>\n      <th>12</th>\n      <td>C2</td>\n      <td>31004.84</td>\n      <td>21</td>\n    </tr>\n    <tr>\n      <th>13</th>\n      <td>C3</td>\n      <td>2842.00</td>\n      <td>4</td>\n    </tr>\n  </tbody>\n</table>\n</div>"
     },
     "metadata": {},
     "execution_count": 59
    }
   ],
   "source": [
    "list1 = [pagos_noasig_cred_pivot,pagos_noasig_liv_pivot,pagos_noasig_brad_pivot]\n",
    "pagos_noasig_naucalpan = pd.concat(list1,ignore_index=True)\n",
    "pagos_noasig_naucalpan"
   ]
  },
  {
   "cell_type": "code",
   "execution_count": 60,
   "metadata": {},
   "outputs": [
    {
     "output_type": "execute_result",
     "data": {
      "text/plain": [
       "      Pais   Sucursal    Cliente       Division  NumeroPagos  SumaPagos  \\\n",
       "0   Mexico  Naucalpan  Liverpool       DKN00REM           73  302061.00   \n",
       "1   Mexico  Naucalpan  Liverpool       DKN02REM           65  270882.99   \n",
       "2   Mexico  Naucalpan  Liverpool       DKN04REM           35  143493.37   \n",
       "3   Mexico  Naucalpan  Liverpool       SA001REM           67  100220.98   \n",
       "4   Mexico  Naucalpan  Liverpool       SA002REM            5    4401.00   \n",
       "5   Mexico  Naucalpan   Bradesco              A           14   32007.00   \n",
       "6   Mexico  Naucalpan   Bradesco              B            4    5047.00   \n",
       "7   Mexico  Naucalpan   Bradesco         C0 4PV          183  266056.32   \n",
       "8   Mexico  Naucalpan   Bradesco         C0 5PV           87  112172.10   \n",
       "9   Mexico  Naucalpan   Bradesco         C0 6PV           64   92226.50   \n",
       "10  Mexico  Naucalpan   Bradesco             C1           88  135503.00   \n",
       "11  Mexico  Naucalpan   Bradesco             C2           63  109827.84   \n",
       "12  Mexico  Naucalpan   Bradesco             C3           45   52510.00   \n",
       "13  Mexico  Naucalpan   Bradesco             C4           11    8574.00   \n",
       "14  Mexico  Naucalpan  Credifiel  EXTRAJUDICIAL           30  174125.96   \n",
       "\n",
       "    SumaFacturacion  FechaFact  NumeroPromesas  SumaPromesas  \\\n",
       "0        84577.0800 2021-01-14             131     539900.87   \n",
       "1       108353.1960 2021-01-14             109     523466.44   \n",
       "2        71746.6850 2021-01-14              58     195982.37   \n",
       "3        15033.1470 2021-01-14             120     201336.24   \n",
       "4          704.1600 2021-01-14              10      21957.00   \n",
       "5         8641.8900 2021-01-14              27      51654.00   \n",
       "6         1261.7500 2021-01-14               6      10201.00   \n",
       "7        18623.9424 2021-01-14             251     397336.09   \n",
       "8        10095.4890 2021-01-14             114     192308.00   \n",
       "9         9222.6500 2021-01-14              91     171749.00   \n",
       "10       23035.5100 2021-01-14             118     191533.00   \n",
       "11       20867.2896 2021-01-14             113     176647.00   \n",
       "12       11027.1000 2021-01-14              88     117139.00   \n",
       "13        1972.0200 2021-01-14              38      42142.00   \n",
       "14       38542.1611 2021-01-13              73     217634.83   \n",
       "\n",
       "    PromesasRestantes  TendenciaCierre1  RecuperadoNoPromesa  PagosNoPromesa  \n",
       "0           196262.00     181236.600000             59503.00            18.0  \n",
       "1           200205.00     232185.420000             58605.99            31.0  \n",
       "2            68934.00     153742.896429             26263.00             5.0  \n",
       "3           110193.10      32213.886429             20608.83            18.0  \n",
       "4             5092.00       1508.914286              2411.00             3.0  \n",
       "5             5000.00      18518.335714              3720.00             1.0  \n",
       "6              404.00       2703.750000              1500.00             1.0  \n",
       "7            63908.00      39908.448000             98095.32            79.0  \n",
       "8            32595.00      21633.190714             49070.08            41.0  \n",
       "9            20352.00      19762.821429             35167.50            31.0  \n",
       "10           43210.00      49361.807143             60863.00            42.0  \n",
       "11           35663.00      44715.620571             31004.84            21.0  \n",
       "12            8086.00      23629.500000              2842.00             4.0  \n",
       "13            5707.00       4225.757143                  NaN             NaN  \n",
       "14          168865.52      88943.448692             88023.00             8.0  "
      ],
      "text/html": "<div>\n<style scoped>\n    .dataframe tbody tr th:only-of-type {\n        vertical-align: middle;\n    }\n\n    .dataframe tbody tr th {\n        vertical-align: top;\n    }\n\n    .dataframe thead th {\n        text-align: right;\n    }\n</style>\n<table border=\"1\" class=\"dataframe\">\n  <thead>\n    <tr style=\"text-align: right;\">\n      <th></th>\n      <th>Pais</th>\n      <th>Sucursal</th>\n      <th>Cliente</th>\n      <th>Division</th>\n      <th>NumeroPagos</th>\n      <th>SumaPagos</th>\n      <th>SumaFacturacion</th>\n      <th>FechaFact</th>\n      <th>NumeroPromesas</th>\n      <th>SumaPromesas</th>\n      <th>PromesasRestantes</th>\n      <th>TendenciaCierre1</th>\n      <th>RecuperadoNoPromesa</th>\n      <th>PagosNoPromesa</th>\n    </tr>\n  </thead>\n  <tbody>\n    <tr>\n      <th>0</th>\n      <td>Mexico</td>\n      <td>Naucalpan</td>\n      <td>Liverpool</td>\n      <td>DKN00REM</td>\n      <td>73</td>\n      <td>302061.00</td>\n      <td>84577.0800</td>\n      <td>2021-01-14</td>\n      <td>131</td>\n      <td>539900.87</td>\n      <td>196262.00</td>\n      <td>181236.600000</td>\n      <td>59503.00</td>\n      <td>18.0</td>\n    </tr>\n    <tr>\n      <th>1</th>\n      <td>Mexico</td>\n      <td>Naucalpan</td>\n      <td>Liverpool</td>\n      <td>DKN02REM</td>\n      <td>65</td>\n      <td>270882.99</td>\n      <td>108353.1960</td>\n      <td>2021-01-14</td>\n      <td>109</td>\n      <td>523466.44</td>\n      <td>200205.00</td>\n      <td>232185.420000</td>\n      <td>58605.99</td>\n      <td>31.0</td>\n    </tr>\n    <tr>\n      <th>2</th>\n      <td>Mexico</td>\n      <td>Naucalpan</td>\n      <td>Liverpool</td>\n      <td>DKN04REM</td>\n      <td>35</td>\n      <td>143493.37</td>\n      <td>71746.6850</td>\n      <td>2021-01-14</td>\n      <td>58</td>\n      <td>195982.37</td>\n      <td>68934.00</td>\n      <td>153742.896429</td>\n      <td>26263.00</td>\n      <td>5.0</td>\n    </tr>\n    <tr>\n      <th>3</th>\n      <td>Mexico</td>\n      <td>Naucalpan</td>\n      <td>Liverpool</td>\n      <td>SA001REM</td>\n      <td>67</td>\n      <td>100220.98</td>\n      <td>15033.1470</td>\n      <td>2021-01-14</td>\n      <td>120</td>\n      <td>201336.24</td>\n      <td>110193.10</td>\n      <td>32213.886429</td>\n      <td>20608.83</td>\n      <td>18.0</td>\n    </tr>\n    <tr>\n      <th>4</th>\n      <td>Mexico</td>\n      <td>Naucalpan</td>\n      <td>Liverpool</td>\n      <td>SA002REM</td>\n      <td>5</td>\n      <td>4401.00</td>\n      <td>704.1600</td>\n      <td>2021-01-14</td>\n      <td>10</td>\n      <td>21957.00</td>\n      <td>5092.00</td>\n      <td>1508.914286</td>\n      <td>2411.00</td>\n      <td>3.0</td>\n    </tr>\n    <tr>\n      <th>5</th>\n      <td>Mexico</td>\n      <td>Naucalpan</td>\n      <td>Bradesco</td>\n      <td>A</td>\n      <td>14</td>\n      <td>32007.00</td>\n      <td>8641.8900</td>\n      <td>2021-01-14</td>\n      <td>27</td>\n      <td>51654.00</td>\n      <td>5000.00</td>\n      <td>18518.335714</td>\n      <td>3720.00</td>\n      <td>1.0</td>\n    </tr>\n    <tr>\n      <th>6</th>\n      <td>Mexico</td>\n      <td>Naucalpan</td>\n      <td>Bradesco</td>\n      <td>B</td>\n      <td>4</td>\n      <td>5047.00</td>\n      <td>1261.7500</td>\n      <td>2021-01-14</td>\n      <td>6</td>\n      <td>10201.00</td>\n      <td>404.00</td>\n      <td>2703.750000</td>\n      <td>1500.00</td>\n      <td>1.0</td>\n    </tr>\n    <tr>\n      <th>7</th>\n      <td>Mexico</td>\n      <td>Naucalpan</td>\n      <td>Bradesco</td>\n      <td>C0 4PV</td>\n      <td>183</td>\n      <td>266056.32</td>\n      <td>18623.9424</td>\n      <td>2021-01-14</td>\n      <td>251</td>\n      <td>397336.09</td>\n      <td>63908.00</td>\n      <td>39908.448000</td>\n      <td>98095.32</td>\n      <td>79.0</td>\n    </tr>\n    <tr>\n      <th>8</th>\n      <td>Mexico</td>\n      <td>Naucalpan</td>\n      <td>Bradesco</td>\n      <td>C0 5PV</td>\n      <td>87</td>\n      <td>112172.10</td>\n      <td>10095.4890</td>\n      <td>2021-01-14</td>\n      <td>114</td>\n      <td>192308.00</td>\n      <td>32595.00</td>\n      <td>21633.190714</td>\n      <td>49070.08</td>\n      <td>41.0</td>\n    </tr>\n    <tr>\n      <th>9</th>\n      <td>Mexico</td>\n      <td>Naucalpan</td>\n      <td>Bradesco</td>\n      <td>C0 6PV</td>\n      <td>64</td>\n      <td>92226.50</td>\n      <td>9222.6500</td>\n      <td>2021-01-14</td>\n      <td>91</td>\n      <td>171749.00</td>\n      <td>20352.00</td>\n      <td>19762.821429</td>\n      <td>35167.50</td>\n      <td>31.0</td>\n    </tr>\n    <tr>\n      <th>10</th>\n      <td>Mexico</td>\n      <td>Naucalpan</td>\n      <td>Bradesco</td>\n      <td>C1</td>\n      <td>88</td>\n      <td>135503.00</td>\n      <td>23035.5100</td>\n      <td>2021-01-14</td>\n      <td>118</td>\n      <td>191533.00</td>\n      <td>43210.00</td>\n      <td>49361.807143</td>\n      <td>60863.00</td>\n      <td>42.0</td>\n    </tr>\n    <tr>\n      <th>11</th>\n      <td>Mexico</td>\n      <td>Naucalpan</td>\n      <td>Bradesco</td>\n      <td>C2</td>\n      <td>63</td>\n      <td>109827.84</td>\n      <td>20867.2896</td>\n      <td>2021-01-14</td>\n      <td>113</td>\n      <td>176647.00</td>\n      <td>35663.00</td>\n      <td>44715.620571</td>\n      <td>31004.84</td>\n      <td>21.0</td>\n    </tr>\n    <tr>\n      <th>12</th>\n      <td>Mexico</td>\n      <td>Naucalpan</td>\n      <td>Bradesco</td>\n      <td>C3</td>\n      <td>45</td>\n      <td>52510.00</td>\n      <td>11027.1000</td>\n      <td>2021-01-14</td>\n      <td>88</td>\n      <td>117139.00</td>\n      <td>8086.00</td>\n      <td>23629.500000</td>\n      <td>2842.00</td>\n      <td>4.0</td>\n    </tr>\n    <tr>\n      <th>13</th>\n      <td>Mexico</td>\n      <td>Naucalpan</td>\n      <td>Bradesco</td>\n      <td>C4</td>\n      <td>11</td>\n      <td>8574.00</td>\n      <td>1972.0200</td>\n      <td>2021-01-14</td>\n      <td>38</td>\n      <td>42142.00</td>\n      <td>5707.00</td>\n      <td>4225.757143</td>\n      <td>NaN</td>\n      <td>NaN</td>\n    </tr>\n    <tr>\n      <th>14</th>\n      <td>Mexico</td>\n      <td>Naucalpan</td>\n      <td>Credifiel</td>\n      <td>EXTRAJUDICIAL</td>\n      <td>30</td>\n      <td>174125.96</td>\n      <td>38542.1611</td>\n      <td>2021-01-13</td>\n      <td>73</td>\n      <td>217634.83</td>\n      <td>168865.52</td>\n      <td>88943.448692</td>\n      <td>88023.00</td>\n      <td>8.0</td>\n    </tr>\n  </tbody>\n</table>\n</div>"
     },
     "metadata": {},
     "execution_count": 60
    }
   ],
   "source": [
    "final = pd.merge(final_naucalpan,pagos_noasig_naucalpan,on='Division',how='left')\n",
    "final"
   ]
  },
  {
   "cell_type": "code",
   "execution_count": 61,
   "metadata": {},
   "outputs": [],
   "source": [
    "final.to_csv(''+ruta_pagos+'/'+mes2+'/Reportes diarios/Reporte sucursal/Reporte sucursal '+today2+'.csv',index=False,header=True)"
   ]
  }
 ]
}