{
 "metadata": {
  "language_info": {
   "codemirror_mode": {
    "name": "ipython",
    "version": 3
   },
   "file_extension": ".py",
   "mimetype": "text/x-python",
   "name": "python",
   "nbconvert_exporter": "python",
   "pygments_lexer": "ipython3",
   "version": "3.8.5-final"
  },
  "orig_nbformat": 2,
  "kernelspec": {
   "name": "python3",
   "display_name": "Python 3",
   "language": "python"
  }
 },
 "nbformat": 4,
 "nbformat_minor": 2,
 "cells": [
  {
   "cell_type": "code",
   "execution_count": 9,
   "metadata": {},
   "outputs": [],
   "source": [
    "import pandas as pd\n",
    "import numpy as np\n",
    "import mysql.connector\n",
    "from mysql.connector import Error\n",
    "from datetime import date\n",
    "from datetime import datetime\n",
    "import ConeccionesSucursales as cs "
   ]
  },
  {
   "cell_type": "code",
   "execution_count": 12,
   "metadata": {},
   "outputs": [
    {
     "output_type": "execute_result",
     "data": {
      "text/plain": [
       "  id_carta id_credito fecha_carta tipo_carta tipo_envio codigo_gestor  \\\n",
       "0        1       1234  2017-02-02       dura       None           SIS   \n",
       "\n",
       "  saldo_actual          modificado  \n",
       "0       2000.0 2017-02-02 20:13:01  "
      ],
      "text/html": "<div>\n<style scoped>\n    .dataframe tbody tr th:only-of-type {\n        vertical-align: middle;\n    }\n\n    .dataframe tbody tr th {\n        vertical-align: top;\n    }\n\n    .dataframe thead tr th {\n        text-align: left;\n    }\n</style>\n<table border=\"1\" class=\"dataframe\">\n  <thead>\n    <tr>\n      <th></th>\n      <th>id_carta</th>\n      <th>id_credito</th>\n      <th>fecha_carta</th>\n      <th>tipo_carta</th>\n      <th>tipo_envio</th>\n      <th>codigo_gestor</th>\n      <th>saldo_actual</th>\n      <th>modificado</th>\n    </tr>\n  </thead>\n  <tbody>\n    <tr>\n      <th>0</th>\n      <td>1</td>\n      <td>1234</td>\n      <td>2017-02-02</td>\n      <td>dura</td>\n      <td>None</td>\n      <td>SIS</td>\n      <td>2000.0</td>\n      <td>2017-02-02 20:13:01</td>\n    </tr>\n  </tbody>\n</table>\n</div>"
     },
     "metadata": {},
     "execution_count": 12
    }
   ],
   "source": [
    "carta = cs.query_torreon('select * from carta LIMIT 10')\n",
    "carta.head(1)"
   ]
  },
  {
   "cell_type": "code",
   "execution_count": 13,
   "metadata": {},
   "outputs": [
    {
     "output_type": "execute_result",
     "data": {
      "text/plain": [
       "     Codigo                     Nombre   DNI                Direccion  \\\n",
       "0  102709.0  CARDENAS REYES CESAR OMAR  CARC  ALONSO DE PACHECO # 205   \n",
       "\n",
       "  Poblacion       CP         Comuna Provincia DirEntrega PobEntrega CPEnt  \\\n",
       "0   DURANGO  34080.0  NUEVA VIZCAYA       DGO        NaN       None  None   \n",
       "\n",
       "  ComunaEnt TelPer        TelCon EMail UltFactura    UltPago     Saldo  \\\n",
       "0      None    NaN  6.188298e+09  None 2018-03-24 2018-05-05  599.8374   \n",
       "\n",
       "        Referencia    Codigo2  \n",
       "0  102709 026726 3  CL-102709  "
      ],
      "text/html": "<div>\n<style scoped>\n    .dataframe tbody tr th:only-of-type {\n        vertical-align: middle;\n    }\n\n    .dataframe tbody tr th {\n        vertical-align: top;\n    }\n\n    .dataframe thead tr th {\n        text-align: left;\n    }\n</style>\n<table border=\"1\" class=\"dataframe\">\n  <thead>\n    <tr>\n      <th></th>\n      <th>Codigo</th>\n      <th>Nombre</th>\n      <th>DNI</th>\n      <th>Direccion</th>\n      <th>Poblacion</th>\n      <th>CP</th>\n      <th>Comuna</th>\n      <th>Provincia</th>\n      <th>DirEntrega</th>\n      <th>PobEntrega</th>\n      <th>CPEnt</th>\n      <th>ComunaEnt</th>\n      <th>TelPer</th>\n      <th>TelCon</th>\n      <th>EMail</th>\n      <th>UltFactura</th>\n      <th>UltPago</th>\n      <th>Saldo</th>\n      <th>Referencia</th>\n      <th>Codigo2</th>\n    </tr>\n  </thead>\n  <tbody>\n    <tr>\n      <th>0</th>\n      <td>102709.0</td>\n      <td>CARDENAS REYES CESAR OMAR</td>\n      <td>CARC</td>\n      <td>ALONSO DE PACHECO # 205</td>\n      <td>DURANGO</td>\n      <td>34080.0</td>\n      <td>NUEVA VIZCAYA</td>\n      <td>DGO</td>\n      <td>NaN</td>\n      <td>None</td>\n      <td>None</td>\n      <td>None</td>\n      <td>NaN</td>\n      <td>6.188298e+09</td>\n      <td>None</td>\n      <td>2018-03-24</td>\n      <td>2018-05-05</td>\n      <td>599.8374</td>\n      <td>102709 026726 3</td>\n      <td>CL-102709</td>\n    </tr>\n  </tbody>\n</table>\n</div>"
     },
     "metadata": {},
     "execution_count": 13
    }
   ],
   "source": [
    "query_cristianlay = cs.query_torreon('select * from Cristianlay LIMIT 10')\n",
    "query_cristianlay.head(1)"
   ]
  },
  {
   "cell_type": "code",
   "execution_count": 15,
   "metadata": {},
   "outputs": [
    {
     "output_type": "execute_result",
     "data": {
      "text/plain": [
       "  id_accion cod_accion          desc_accion cod_etapa activo modificado\n",
       "0         1       AC01  LLAMADA SALIDA - MX        LS      Y       None"
      ],
      "text/html": "<div>\n<style scoped>\n    .dataframe tbody tr th:only-of-type {\n        vertical-align: middle;\n    }\n\n    .dataframe tbody tr th {\n        vertical-align: top;\n    }\n\n    .dataframe thead tr th {\n        text-align: left;\n    }\n</style>\n<table border=\"1\" class=\"dataframe\">\n  <thead>\n    <tr>\n      <th></th>\n      <th>id_accion</th>\n      <th>cod_accion</th>\n      <th>desc_accion</th>\n      <th>cod_etapa</th>\n      <th>activo</th>\n      <th>modificado</th>\n    </tr>\n  </thead>\n  <tbody>\n    <tr>\n      <th>0</th>\n      <td>1</td>\n      <td>AC01</td>\n      <td>LLAMADA SALIDA - MX</td>\n      <td>LS</td>\n      <td>Y</td>\n      <td>None</td>\n    </tr>\n  </tbody>\n</table>\n</div>"
     },
     "metadata": {},
     "execution_count": 15
    }
   ],
   "source": [
    "cat_acciones = cs.query_torreon('select * from cat_acciones LIMIT 10')\n",
    "cat_acciones.head(1)"
   ]
  },
  {
   "cell_type": "code",
   "execution_count": 16,
   "metadata": {},
   "outputs": [
    {
     "output_type": "execute_result",
     "data": {
      "text/plain": [
       "  id_cat_adicionales id_adicional nombre_campo etiqueta cartera\n",
       "0                  1           23        werer     erer    erer"
      ],
      "text/html": "<div>\n<style scoped>\n    .dataframe tbody tr th:only-of-type {\n        vertical-align: middle;\n    }\n\n    .dataframe tbody tr th {\n        vertical-align: top;\n    }\n\n    .dataframe thead tr th {\n        text-align: left;\n    }\n</style>\n<table border=\"1\" class=\"dataframe\">\n  <thead>\n    <tr>\n      <th></th>\n      <th>id_cat_adicionales</th>\n      <th>id_adicional</th>\n      <th>nombre_campo</th>\n      <th>etiqueta</th>\n      <th>cartera</th>\n    </tr>\n  </thead>\n  <tbody>\n    <tr>\n      <th>0</th>\n      <td>1</td>\n      <td>23</td>\n      <td>werer</td>\n      <td>erer</td>\n      <td>erer</td>\n    </tr>\n  </tbody>\n</table>\n</div>"
     },
     "metadata": {},
     "execution_count": 16
    }
   ],
   "source": [
    "cat_addicionales = cs.query_torreon('select * from cat_addicionales LIMIT 10')\n",
    "cat_addicionales.head(1)"
   ]
  },
  {
   "cell_type": "code",
   "execution_count": 20,
   "metadata": {},
   "outputs": [
    {
     "output_type": "execute_result",
     "data": {
      "text/plain": [
       "  id_reporte             nombre  \\\n",
       "0          5  GRAFICA CONVENIOS   \n",
       "\n",
       "                                         descripcion   imagen  \\\n",
       "0  Convenios de gestores dentro de un rango de fe...  rththrt   \n",
       "\n",
       "                                                 url                     icono  \n",
       "0  http://192.168.2.178:3000/public/question/89b9...  glyphicon glyphicon-file  "
      ],
      "text/html": "<div>\n<style scoped>\n    .dataframe tbody tr th:only-of-type {\n        vertical-align: middle;\n    }\n\n    .dataframe tbody tr th {\n        vertical-align: top;\n    }\n\n    .dataframe thead tr th {\n        text-align: left;\n    }\n</style>\n<table border=\"1\" class=\"dataframe\">\n  <thead>\n    <tr>\n      <th></th>\n      <th>id_reporte</th>\n      <th>nombre</th>\n      <th>descripcion</th>\n      <th>imagen</th>\n      <th>url</th>\n      <th>icono</th>\n    </tr>\n  </thead>\n  <tbody>\n    <tr>\n      <th>0</th>\n      <td>5</td>\n      <td>GRAFICA CONVENIOS</td>\n      <td>Convenios de gestores dentro de un rango de fe...</td>\n      <td>rththrt</td>\n      <td>http://192.168.2.178:3000/public/question/89b9...</td>\n      <td>glyphicon glyphicon-file</td>\n    </tr>\n  </tbody>\n</table>\n</div>"
     },
     "metadata": {},
     "execution_count": 20
    }
   ],
   "source": [
    "reportesSql = cs.query_torreon('select * from reportesSql LIMIT 10')\n",
    "reportesSql.head(1)"
   ]
  },
  {
   "cell_type": "code",
   "execution_count": 41,
   "metadata": {},
   "outputs": [
    {
     "output_type": "error",
     "ename": "ValueError",
     "evalue": "Length mismatch: Expected axis has 0 elements, new values have 57 elements",
     "traceback": [
      "\u001b[0;31m---------------------------------------------------------------------------\u001b[0m",
      "\u001b[0;31mValueError\u001b[0m                                Traceback (most recent call last)",
      "\u001b[0;32m<ipython-input-41-b66b32a6ea20>\u001b[0m in \u001b[0;36m<module>\u001b[0;34m\u001b[0m\n\u001b[1;32m      1\u001b[0m \u001b[0mcriterio\u001b[0m \u001b[0;34m=\u001b[0m \u001b[0;34m'2020-10-14'\u001b[0m\u001b[0;34m\u001b[0m\u001b[0;34m\u001b[0m\u001b[0m\n\u001b[1;32m      2\u001b[0m \u001b[0mquery\u001b[0m \u001b[0;34m=\u001b[0m \u001b[0;34m\"SELECT * FROM monitoreo WHERE fecha = '%s' LIMIT 10\"\u001b[0m \u001b[0;34m%\u001b[0m \u001b[0mcriterio\u001b[0m\u001b[0;34m\u001b[0m\u001b[0;34m\u001b[0m\u001b[0m\n\u001b[0;32m----> 3\u001b[0;31m \u001b[0mmonitoreo\u001b[0m \u001b[0;34m=\u001b[0m \u001b[0mcs\u001b[0m\u001b[0;34m.\u001b[0m\u001b[0mquery_torreon\u001b[0m\u001b[0;34m(\u001b[0m\u001b[0mquery\u001b[0m\u001b[0;34m)\u001b[0m\u001b[0;34m\u001b[0m\u001b[0;34m\u001b[0m\u001b[0m\n\u001b[0m\u001b[1;32m      4\u001b[0m \u001b[0mmonitoreo\u001b[0m\u001b[0;34m.\u001b[0m\u001b[0mhead\u001b[0m\u001b[0;34m(\u001b[0m\u001b[0;34m)\u001b[0m\u001b[0;34m\u001b[0m\u001b[0;34m\u001b[0m\u001b[0m\n",
      "\u001b[0;32m~/Documents/Erick/Programas/ConeccionesSucursales.py\u001b[0m in \u001b[0;36mquery_torreon\u001b[0;34m(query)\u001b[0m\n\u001b[1;32m     23\u001b[0m \u001b[0;34m\u001b[0m\u001b[0m\n\u001b[1;32m     24\u001b[0m     \u001b[0mcolumns\u001b[0m \u001b[0;34m=\u001b[0m \u001b[0;34m[\u001b[0m\u001b[0mlist\u001b[0m\u001b[0;34m(\u001b[0m\u001b[0mi\u001b[0m\u001b[0;34m[\u001b[0m\u001b[0;36m0\u001b[0m\u001b[0;34m]\u001b[0m \u001b[0;32mfor\u001b[0m \u001b[0mi\u001b[0m \u001b[0;32min\u001b[0m \u001b[0mcursor\u001b[0m\u001b[0;34m.\u001b[0m\u001b[0mdescription\u001b[0m\u001b[0;34m)\u001b[0m\u001b[0;34m]\u001b[0m\u001b[0;34m\u001b[0m\u001b[0;34m\u001b[0m\u001b[0m\n\u001b[0;32m---> 25\u001b[0;31m     \u001b[0mdata\u001b[0m\u001b[0;34m.\u001b[0m\u001b[0mcolumns\u001b[0m \u001b[0;34m=\u001b[0m \u001b[0mcolumns\u001b[0m\u001b[0;34m\u001b[0m\u001b[0;34m\u001b[0m\u001b[0m\n\u001b[0m\u001b[1;32m     26\u001b[0m \u001b[0;34m\u001b[0m\u001b[0m\n\u001b[1;32m     27\u001b[0m     \u001b[0mcursor\u001b[0m\u001b[0;34m.\u001b[0m\u001b[0mclose\u001b[0m\u001b[0;34m(\u001b[0m\u001b[0;34m)\u001b[0m                 \u001b[0;31m# Cerrar el cursor\u001b[0m\u001b[0;34m\u001b[0m\u001b[0;34m\u001b[0m\u001b[0m\n",
      "\u001b[0;32m~/.local/lib/python3.8/site-packages/pandas/core/generic.py\u001b[0m in \u001b[0;36m__setattr__\u001b[0;34m(self, name, value)\u001b[0m\n\u001b[1;32m   5150\u001b[0m         \u001b[0;32mtry\u001b[0m\u001b[0;34m:\u001b[0m\u001b[0;34m\u001b[0m\u001b[0;34m\u001b[0m\u001b[0m\n\u001b[1;32m   5151\u001b[0m             \u001b[0mobject\u001b[0m\u001b[0;34m.\u001b[0m\u001b[0m__getattribute__\u001b[0m\u001b[0;34m(\u001b[0m\u001b[0mself\u001b[0m\u001b[0;34m,\u001b[0m \u001b[0mname\u001b[0m\u001b[0;34m)\u001b[0m\u001b[0;34m\u001b[0m\u001b[0;34m\u001b[0m\u001b[0m\n\u001b[0;32m-> 5152\u001b[0;31m             \u001b[0;32mreturn\u001b[0m \u001b[0mobject\u001b[0m\u001b[0;34m.\u001b[0m\u001b[0m__setattr__\u001b[0m\u001b[0;34m(\u001b[0m\u001b[0mself\u001b[0m\u001b[0;34m,\u001b[0m \u001b[0mname\u001b[0m\u001b[0;34m,\u001b[0m \u001b[0mvalue\u001b[0m\u001b[0;34m)\u001b[0m\u001b[0;34m\u001b[0m\u001b[0;34m\u001b[0m\u001b[0m\n\u001b[0m\u001b[1;32m   5153\u001b[0m         \u001b[0;32mexcept\u001b[0m \u001b[0mAttributeError\u001b[0m\u001b[0;34m:\u001b[0m\u001b[0;34m\u001b[0m\u001b[0;34m\u001b[0m\u001b[0m\n\u001b[1;32m   5154\u001b[0m             \u001b[0;32mpass\u001b[0m\u001b[0;34m\u001b[0m\u001b[0;34m\u001b[0m\u001b[0m\n",
      "\u001b[0;32mpandas/_libs/properties.pyx\u001b[0m in \u001b[0;36mpandas._libs.properties.AxisProperty.__set__\u001b[0;34m()\u001b[0m\n",
      "\u001b[0;32m~/.local/lib/python3.8/site-packages/pandas/core/generic.py\u001b[0m in \u001b[0;36m_set_axis\u001b[0;34m(self, axis, labels)\u001b[0m\n\u001b[1;32m    562\u001b[0m     \u001b[0;32mdef\u001b[0m \u001b[0m_set_axis\u001b[0m\u001b[0;34m(\u001b[0m\u001b[0mself\u001b[0m\u001b[0;34m,\u001b[0m \u001b[0maxis\u001b[0m\u001b[0;34m:\u001b[0m \u001b[0mint\u001b[0m\u001b[0;34m,\u001b[0m \u001b[0mlabels\u001b[0m\u001b[0;34m:\u001b[0m \u001b[0mIndex\u001b[0m\u001b[0;34m)\u001b[0m \u001b[0;34m->\u001b[0m \u001b[0;32mNone\u001b[0m\u001b[0;34m:\u001b[0m\u001b[0;34m\u001b[0m\u001b[0;34m\u001b[0m\u001b[0m\n\u001b[1;32m    563\u001b[0m         \u001b[0mlabels\u001b[0m \u001b[0;34m=\u001b[0m \u001b[0mensure_index\u001b[0m\u001b[0;34m(\u001b[0m\u001b[0mlabels\u001b[0m\u001b[0;34m)\u001b[0m\u001b[0;34m\u001b[0m\u001b[0;34m\u001b[0m\u001b[0m\n\u001b[0;32m--> 564\u001b[0;31m         \u001b[0mself\u001b[0m\u001b[0;34m.\u001b[0m\u001b[0m_mgr\u001b[0m\u001b[0;34m.\u001b[0m\u001b[0mset_axis\u001b[0m\u001b[0;34m(\u001b[0m\u001b[0maxis\u001b[0m\u001b[0;34m,\u001b[0m \u001b[0mlabels\u001b[0m\u001b[0;34m)\u001b[0m\u001b[0;34m\u001b[0m\u001b[0;34m\u001b[0m\u001b[0m\n\u001b[0m\u001b[1;32m    565\u001b[0m         \u001b[0mself\u001b[0m\u001b[0;34m.\u001b[0m\u001b[0m_clear_item_cache\u001b[0m\u001b[0;34m(\u001b[0m\u001b[0;34m)\u001b[0m\u001b[0;34m\u001b[0m\u001b[0;34m\u001b[0m\u001b[0m\n\u001b[1;32m    566\u001b[0m \u001b[0;34m\u001b[0m\u001b[0m\n",
      "\u001b[0;32m~/.local/lib/python3.8/site-packages/pandas/core/internals/managers.py\u001b[0m in \u001b[0;36mset_axis\u001b[0;34m(self, axis, new_labels)\u001b[0m\n\u001b[1;32m    224\u001b[0m \u001b[0;34m\u001b[0m\u001b[0m\n\u001b[1;32m    225\u001b[0m         \u001b[0;32mif\u001b[0m \u001b[0mnew_len\u001b[0m \u001b[0;34m!=\u001b[0m \u001b[0mold_len\u001b[0m\u001b[0;34m:\u001b[0m\u001b[0;34m\u001b[0m\u001b[0;34m\u001b[0m\u001b[0m\n\u001b[0;32m--> 226\u001b[0;31m             raise ValueError(\n\u001b[0m\u001b[1;32m    227\u001b[0m                 \u001b[0;34mf\"Length mismatch: Expected axis has {old_len} elements, new \"\u001b[0m\u001b[0;34m\u001b[0m\u001b[0;34m\u001b[0m\u001b[0m\n\u001b[1;32m    228\u001b[0m                 \u001b[0;34mf\"values have {new_len} elements\"\u001b[0m\u001b[0;34m\u001b[0m\u001b[0;34m\u001b[0m\u001b[0m\n",
      "\u001b[0;31mValueError\u001b[0m: Length mismatch: Expected axis has 0 elements, new values have 57 elements"
     ]
    }
   ],
   "source": [
    "criterio = '202-10-14'\n",
    "query = \"SELECT * FROM monitoreo WHERE fecha = '%s' LIMIT 10\" % criterio\n",
    "monitoreo = cs.query_torreon(query)\n",
    "monitoreo.head()"
   ]
  },
  {
   "cell_type": "code",
   "execution_count": 39,
   "metadata": {},
   "outputs": [
    {
     "output_type": "execute_result",
     "data": {
      "text/plain": [
       "  id_validacion analista cod_analista     turno supervisor      fecha  \\\n",
       "0             1     sdsd          fff        gg         gg        NaT   \n",
       "1            25     None          SIS  MATUTINO       None 2018-10-14   \n",
       "2            26     None          SIS  MATUTINO       None 2018-10-15   \n",
       "3            27     None          SIS  MATUTINO       None 2018-10-16   \n",
       "4            28     None          SIS  MATUTINO       None 2018-10-16   \n",
       "\n",
       "     semana campanna    nombre_gestor cod_gestor  ... realiza_script  \\\n",
       "0      None     None             None       None  ...           None   \n",
       "1  SEMANA 1     sdsd  PANCHO PISTOLAS     PANCHO  ...             10   \n",
       "2  SEMANA 2    CAMPA  PANCHO PISTOLAS     PANCHO  ...             10   \n",
       "3  SEMANA 1    CAMPA  PANCHO PISTOLAS     PANCHO  ...             10   \n",
       "4  SEMANA 2    CAMPA  PANCHO PISTOLAS     PANCHO  ...             10   \n",
       "\n",
       "  realiza_script_desc codifica_registro codifica_registro_desc    ev  \\\n",
       "0                None              None                   None  None   \n",
       "1           SI CUMPLE                10              SI CUMPLE     0   \n",
       "2           SI CUMPLE                10              SI CUMPLE   100   \n",
       "3           SI CUMPLE                10              SI CUMPLE   100   \n",
       "4           SI CUMPLE                10              SI CUMPLE     0   \n",
       "\n",
       "                            area_oportunidad linea_captura fortalezas  \\\n",
       "0                                       None          None       None   \n",
       "1                                     PRUEBA          None       None   \n",
       "2                      Prueba de comentarios          None       None   \n",
       "3  Esta es una prueba de area de oportunidad          None       None   \n",
       "4               Lamantablemente tuvo errores          None       None   \n",
       "\n",
       "  usuario_mod modificado  \n",
       "0        None       None  \n",
       "1        None       None  \n",
       "2        None       None  \n",
       "3        None       None  \n",
       "4        None       None  \n",
       "\n",
       "[5 rows x 57 columns]"
      ],
      "text/html": "<div>\n<style scoped>\n    .dataframe tbody tr th:only-of-type {\n        vertical-align: middle;\n    }\n\n    .dataframe tbody tr th {\n        vertical-align: top;\n    }\n\n    .dataframe thead tr th {\n        text-align: left;\n    }\n</style>\n<table border=\"1\" class=\"dataframe\">\n  <thead>\n    <tr>\n      <th></th>\n      <th>id_validacion</th>\n      <th>analista</th>\n      <th>cod_analista</th>\n      <th>turno</th>\n      <th>supervisor</th>\n      <th>fecha</th>\n      <th>semana</th>\n      <th>campanna</th>\n      <th>nombre_gestor</th>\n      <th>cod_gestor</th>\n      <th>...</th>\n      <th>realiza_script</th>\n      <th>realiza_script_desc</th>\n      <th>codifica_registro</th>\n      <th>codifica_registro_desc</th>\n      <th>ev</th>\n      <th>area_oportunidad</th>\n      <th>linea_captura</th>\n      <th>fortalezas</th>\n      <th>usuario_mod</th>\n      <th>modificado</th>\n    </tr>\n  </thead>\n  <tbody>\n    <tr>\n      <th>0</th>\n      <td>1</td>\n      <td>sdsd</td>\n      <td>fff</td>\n      <td>gg</td>\n      <td>gg</td>\n      <td>NaT</td>\n      <td>None</td>\n      <td>None</td>\n      <td>None</td>\n      <td>None</td>\n      <td>...</td>\n      <td>None</td>\n      <td>None</td>\n      <td>None</td>\n      <td>None</td>\n      <td>None</td>\n      <td>None</td>\n      <td>None</td>\n      <td>None</td>\n      <td>None</td>\n      <td>None</td>\n    </tr>\n    <tr>\n      <th>1</th>\n      <td>25</td>\n      <td>None</td>\n      <td>SIS</td>\n      <td>MATUTINO</td>\n      <td>None</td>\n      <td>2018-10-14</td>\n      <td>SEMANA 1</td>\n      <td>sdsd</td>\n      <td>PANCHO PISTOLAS</td>\n      <td>PANCHO</td>\n      <td>...</td>\n      <td>10</td>\n      <td>SI CUMPLE</td>\n      <td>10</td>\n      <td>SI CUMPLE</td>\n      <td>0</td>\n      <td>PRUEBA</td>\n      <td>None</td>\n      <td>None</td>\n      <td>None</td>\n      <td>None</td>\n    </tr>\n    <tr>\n      <th>2</th>\n      <td>26</td>\n      <td>None</td>\n      <td>SIS</td>\n      <td>MATUTINO</td>\n      <td>None</td>\n      <td>2018-10-15</td>\n      <td>SEMANA 2</td>\n      <td>CAMPA</td>\n      <td>PANCHO PISTOLAS</td>\n      <td>PANCHO</td>\n      <td>...</td>\n      <td>10</td>\n      <td>SI CUMPLE</td>\n      <td>10</td>\n      <td>SI CUMPLE</td>\n      <td>100</td>\n      <td>Prueba de comentarios</td>\n      <td>None</td>\n      <td>None</td>\n      <td>None</td>\n      <td>None</td>\n    </tr>\n    <tr>\n      <th>3</th>\n      <td>27</td>\n      <td>None</td>\n      <td>SIS</td>\n      <td>MATUTINO</td>\n      <td>None</td>\n      <td>2018-10-16</td>\n      <td>SEMANA 1</td>\n      <td>CAMPA</td>\n      <td>PANCHO PISTOLAS</td>\n      <td>PANCHO</td>\n      <td>...</td>\n      <td>10</td>\n      <td>SI CUMPLE</td>\n      <td>10</td>\n      <td>SI CUMPLE</td>\n      <td>100</td>\n      <td>Esta es una prueba de area de oportunidad</td>\n      <td>None</td>\n      <td>None</td>\n      <td>None</td>\n      <td>None</td>\n    </tr>\n    <tr>\n      <th>4</th>\n      <td>28</td>\n      <td>None</td>\n      <td>SIS</td>\n      <td>MATUTINO</td>\n      <td>None</td>\n      <td>2018-10-16</td>\n      <td>SEMANA 2</td>\n      <td>CAMPA</td>\n      <td>PANCHO PISTOLAS</td>\n      <td>PANCHO</td>\n      <td>...</td>\n      <td>10</td>\n      <td>SI CUMPLE</td>\n      <td>10</td>\n      <td>SI CUMPLE</td>\n      <td>0</td>\n      <td>Lamantablemente tuvo errores</td>\n      <td>None</td>\n      <td>None</td>\n      <td>None</td>\n      <td>None</td>\n    </tr>\n  </tbody>\n</table>\n<p>5 rows × 57 columns</p>\n</div>"
     },
     "metadata": {},
     "execution_count": 39
    }
   ],
   "source": [
    "criterio = '2018-10-18'\n",
    "query = \"SELECT * FROM monitoreo LIMIT 10\"\n",
    "monitoreo = cs.query_torreon(query)\n",
    "monitoreo.head()"
   ]
  },
  {
   "cell_type": "code",
   "execution_count": null,
   "metadata": {},
   "outputs": [],
   "source": []
  }
 ]
}