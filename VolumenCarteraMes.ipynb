{
 "metadata": {
  "language_info": {
   "codemirror_mode": {
    "name": "ipython",
    "version": 3
   },
   "file_extension": ".py",
   "mimetype": "text/x-python",
   "name": "python",
   "nbconvert_exporter": "python",
   "pygments_lexer": "ipython3",
   "version": "3.8.5-final"
  },
  "orig_nbformat": 2,
  "kernelspec": {
   "name": "python3",
   "display_name": "Python 3",
   "language": "python"
  }
 },
 "nbformat": 4,
 "nbformat_minor": 2,
 "cells": [
  {
   "cell_type": "code",
   "execution_count": 18,
   "metadata": {},
   "outputs": [],
   "source": [
    "import pandas as pd \n",
    "import numpy as np \n",
    "import os\n",
    "from datetime import datetime\n",
    "import datetime as dt\n",
    "import xlrd\n",
    "from xlrd.xldate import xldate_as_tuple"
   ]
  },
  {
   "cell_type": "code",
   "execution_count": 19,
   "metadata": {},
   "outputs": [],
   "source": [
    "ruta = '/home/estadistico/Documents/Erick/'\n",
    "ruta_brad = '/home/estadistico/Documents/Erick/Bradesco/'\n",
    "ruta_liver = '/home/estadistico/Documents/Erick/Liverpool/Pagos/'\n",
    "mes = 'Enero2021'"
   ]
  },
  {
   "source": [
    "# Bradesco"
   ],
   "cell_type": "markdown",
   "metadata": {}
  },
  {
   "cell_type": "code",
   "execution_count": 20,
   "metadata": {},
   "outputs": [],
   "source": [
    "#Leemos asignacion Bradesco c0\n",
    "files_c0 = ['ASIGNACION C0 Diciembre2020','ASIGNACION C0 Noviembre2020','ASIGNACION C0 Enero2021']\n",
    "asignacion_c0 = pd.DataFrame()\n",
    "for i in files_c0:\n",
    "    asig_c0_new = pd.read_excel(''+ruta_brad+'/Asignacion_c0/'+i+'.xlsx')\n",
    "    asignacion_c0 = pd.concat([asignacion_c0,asig_c0_new],ignore_index=True)\n",
    "asig_c0_new = pd.read_excel(''+ruta_brad+'/Asignacion_c0/ASIGNACION C0 2020.xlsx')\n",
    "asignacion_c0 = pd.concat([asignacion_c0,asig_c0_new],ignore_index=True)\n",
    "asignacion_c0 = asignacion_c0.drop_duplicates()"
   ]
  },
  {
   "cell_type": "code",
   "execution_count": 21,
   "metadata": {},
   "outputs": [
    {
     "output_type": "stream",
     "name": "stdout",
     "text": [
      "Asignacion Extra Enero2021\n",
      "Asignacion Extra Diciembre2020\n",
      "Asignacion Extra Noviembre2020\n",
      "Asignacion Extra Octubre2020\n",
      "Asignacion Extra Septiembre2020\n",
      "Asignacion Extra Agosto2020\n",
      "Asignacion Extra Julio2020\n",
      "Asignacion Extra Junio2020\n",
      "Asignacion Extra Mayo2020\n",
      "Asignacion Extra Abril2020\n",
      "Asignacion Extra Marzo2020\n",
      "Asignacion Extra Febrero2020\n",
      "Asignacion Extra Enero2020\n"
     ]
    }
   ],
   "source": [
    "#Leemos asignacion Bradesco extrajudicial\n",
    "files_extra = ['Asignacion Extra Enero2021','Asignacion Extra Diciembre2020','Asignacion Extra Noviembre2020','Asignacion Extra Octubre2020','Asignacion Extra Septiembre2020','Asignacion Extra Agosto2020','Asignacion Extra Julio2020','Asignacion Extra Junio2020','Asignacion Extra Mayo2020','Asignacion Extra Abril2020','Asignacion Extra Marzo2020','Asignacion Extra Febrero2020','Asignacion Extra Enero2020']\n",
    "meses_extra = ['01/01/2021','01/12/2020','01/11/2020','01/10/2020','01/09/2020','01/08/2020','01/07/2020','01/06/2020','01/05/2020','01/04/2020','01/03/2020','01/02/2020','01/01/2020']\n",
    "asignacion_extra = pd.DataFrame()\n",
    "for j,k in zip(files_extra,meses_extra):\n",
    "    asig_extra_new = pd.read_csv(''+ruta_brad+'/Asignacion_extra/CSV/'+j+'.csv',error_bad_lines=False,encoding = \"ISO-8859-1\", engine='python')\n",
    "    asig_extra_new['MES'] = k\n",
    "    asignacion_extra = pd.concat([asignacion_extra,asig_extra_new],ignore_index=True)\n",
    "    print(j)\n",
    "asignacion_extra = asignacion_extra.drop_duplicates()"
   ]
  },
  {
   "cell_type": "code",
   "execution_count": 22,
   "metadata": {},
   "outputs": [
    {
     "output_type": "execute_result",
     "data": {
      "text/plain": [
       "                MES  C0 4PV  C0 5PV  C0 6PV\n",
       "0        ENERO 2020    6208    5498    4891\n",
       "2      FEBRERO 2020    6253    5728    5255\n",
       "3        MARZO 2020    5439    5715    5379\n",
       "4        ABRIL 2020    5791    5039    4952\n",
       "5         MAYO 2020    7748    5780    5052\n",
       "6        JUNIO 2020    9222    7440    5614\n",
       "7        JULIO 2020   12178    8597    7033\n",
       "8       AGOSTO 2020   11424   11231    7799\n",
       "9   SEPTIEMBRE 2020    7055   10369    9985\n",
       "10     OCTUBRE 2020    4957    6580    9742\n",
       "11   NOVIEMBRE 2020    4215    4650    6193\n",
       "1    DICIEMBRE 2020    4382    3861    4166\n",
       "12       ENERO 2021    4102    3954    3660"
      ],
      "text/html": "<div>\n<style scoped>\n    .dataframe tbody tr th:only-of-type {\n        vertical-align: middle;\n    }\n\n    .dataframe tbody tr th {\n        vertical-align: top;\n    }\n\n    .dataframe thead th {\n        text-align: right;\n    }\n</style>\n<table border=\"1\" class=\"dataframe\">\n  <thead>\n    <tr style=\"text-align: right;\">\n      <th></th>\n      <th>MES</th>\n      <th>C0 4PV</th>\n      <th>C0 5PV</th>\n      <th>C0 6PV</th>\n    </tr>\n  </thead>\n  <tbody>\n    <tr>\n      <th>0</th>\n      <td>ENERO 2020</td>\n      <td>6208</td>\n      <td>5498</td>\n      <td>4891</td>\n    </tr>\n    <tr>\n      <th>2</th>\n      <td>FEBRERO 2020</td>\n      <td>6253</td>\n      <td>5728</td>\n      <td>5255</td>\n    </tr>\n    <tr>\n      <th>3</th>\n      <td>MARZO 2020</td>\n      <td>5439</td>\n      <td>5715</td>\n      <td>5379</td>\n    </tr>\n    <tr>\n      <th>4</th>\n      <td>ABRIL 2020</td>\n      <td>5791</td>\n      <td>5039</td>\n      <td>4952</td>\n    </tr>\n    <tr>\n      <th>5</th>\n      <td>MAYO 2020</td>\n      <td>7748</td>\n      <td>5780</td>\n      <td>5052</td>\n    </tr>\n    <tr>\n      <th>6</th>\n      <td>JUNIO 2020</td>\n      <td>9222</td>\n      <td>7440</td>\n      <td>5614</td>\n    </tr>\n    <tr>\n      <th>7</th>\n      <td>JULIO 2020</td>\n      <td>12178</td>\n      <td>8597</td>\n      <td>7033</td>\n    </tr>\n    <tr>\n      <th>8</th>\n      <td>AGOSTO 2020</td>\n      <td>11424</td>\n      <td>11231</td>\n      <td>7799</td>\n    </tr>\n    <tr>\n      <th>9</th>\n      <td>SEPTIEMBRE 2020</td>\n      <td>7055</td>\n      <td>10369</td>\n      <td>9985</td>\n    </tr>\n    <tr>\n      <th>10</th>\n      <td>OCTUBRE 2020</td>\n      <td>4957</td>\n      <td>6580</td>\n      <td>9742</td>\n    </tr>\n    <tr>\n      <th>11</th>\n      <td>NOVIEMBRE 2020</td>\n      <td>4215</td>\n      <td>4650</td>\n      <td>6193</td>\n    </tr>\n    <tr>\n      <th>1</th>\n      <td>DICIEMBRE 2020</td>\n      <td>4382</td>\n      <td>3861</td>\n      <td>4166</td>\n    </tr>\n    <tr>\n      <th>12</th>\n      <td>ENERO 2021</td>\n      <td>4102</td>\n      <td>3954</td>\n      <td>3660</td>\n    </tr>\n  </tbody>\n</table>\n</div>"
     },
     "metadata": {},
     "execution_count": 22
    }
   ],
   "source": [
    "#Vemos cuanta cartera tenemos por cada mes del año c0\n",
    "asignacion_c0['PAGOSVENCIDOS'] = asignacion_c0['PAGOSVENCIDOS'].replace('C0 4 PV','C0 4PV')\n",
    "cartera_mes_c0 = pd.pivot_table(asignacion_c0,index=['MES ASIGNACION'],columns=['PAGOSVENCIDOS'],values=['SALDO_TOTAL'],aggfunc=['count'])\n",
    "cartera_mes_c0 = pd.DataFrame(cartera_mes_c0.to_records())\n",
    "cartera_mes_c0 = cartera_mes_c0.iloc[[0,2,3,4,5,6,7,8,9,10,11,1,12],:]\n",
    "meses_c0 = ['ENERO 2020','FEBRERO 2020','MARZO 2020','ABRIL 2020','MAYO 2020','JUNIO 2020','JULIO 2020','AGOSTO 2020','SEPTIEMBRE 2020','OCTUBRE 2020','NOVIEMBRE 2020','DICIEMBRE 2020','ENERO 2021']\n",
    "cartera_mes_c0.columns = ['FECHA','C0 4PV','C0 5PV','C0 6PV']\n",
    "cartera_mes_c0['MES'] = meses_c0\n",
    "cartera_mes_c0 = cartera_mes_c0.iloc[:,[4,1,2,3]]\n",
    "cartera_mes_c0"
   ]
  },
  {
   "cell_type": "code",
   "execution_count": 23,
   "metadata": {},
   "outputs": [
    {
     "output_type": "execute_result",
     "data": {
      "text/plain": [
       "                MES       C0 4PV       C0 5PV       C0 6PV\n",
       "0        ENERO 2020  29443733.33  29957868.03  30304442.69\n",
       "2      FEBRERO 2020  29727499.82  27630535.41  33272599.97\n",
       "3        MARZO 2020  25831408.14  31763702.53  34451768.98\n",
       "4        ABRIL 2020  28094712.19  27565405.91  32249328.45\n",
       "5         MAYO 2020  38589227.76  32833526.43  31931454.36\n",
       "6        JUNIO 2020  45574165.33  42704328.26  36145100.55\n",
       "7        JULIO 2020  61803433.53  49734902.48  46798490.22\n",
       "8       AGOSTO 2020  57452547.88  66680359.95  53197950.06\n",
       "9   SEPTIEMBRE 2020  35351507.49  61319139.51  63430470.17\n",
       "10     OCTUBRE 2020  26675353.91  38056759.58  66416505.76\n",
       "11   NOVIEMBRE 2020  23460670.81  29168592.62  41744050.92\n",
       "1    DICIEMBRE 2020  27485180.79  25229286.83  31052050.85\n",
       "12       ENERO 2021  22583520.73  29185194.97  27719153.52"
      ],
      "text/html": "<div>\n<style scoped>\n    .dataframe tbody tr th:only-of-type {\n        vertical-align: middle;\n    }\n\n    .dataframe tbody tr th {\n        vertical-align: top;\n    }\n\n    .dataframe thead th {\n        text-align: right;\n    }\n</style>\n<table border=\"1\" class=\"dataframe\">\n  <thead>\n    <tr style=\"text-align: right;\">\n      <th></th>\n      <th>MES</th>\n      <th>C0 4PV</th>\n      <th>C0 5PV</th>\n      <th>C0 6PV</th>\n    </tr>\n  </thead>\n  <tbody>\n    <tr>\n      <th>0</th>\n      <td>ENERO 2020</td>\n      <td>29443733.33</td>\n      <td>29957868.03</td>\n      <td>30304442.69</td>\n    </tr>\n    <tr>\n      <th>2</th>\n      <td>FEBRERO 2020</td>\n      <td>29727499.82</td>\n      <td>27630535.41</td>\n      <td>33272599.97</td>\n    </tr>\n    <tr>\n      <th>3</th>\n      <td>MARZO 2020</td>\n      <td>25831408.14</td>\n      <td>31763702.53</td>\n      <td>34451768.98</td>\n    </tr>\n    <tr>\n      <th>4</th>\n      <td>ABRIL 2020</td>\n      <td>28094712.19</td>\n      <td>27565405.91</td>\n      <td>32249328.45</td>\n    </tr>\n    <tr>\n      <th>5</th>\n      <td>MAYO 2020</td>\n      <td>38589227.76</td>\n      <td>32833526.43</td>\n      <td>31931454.36</td>\n    </tr>\n    <tr>\n      <th>6</th>\n      <td>JUNIO 2020</td>\n      <td>45574165.33</td>\n      <td>42704328.26</td>\n      <td>36145100.55</td>\n    </tr>\n    <tr>\n      <th>7</th>\n      <td>JULIO 2020</td>\n      <td>61803433.53</td>\n      <td>49734902.48</td>\n      <td>46798490.22</td>\n    </tr>\n    <tr>\n      <th>8</th>\n      <td>AGOSTO 2020</td>\n      <td>57452547.88</td>\n      <td>66680359.95</td>\n      <td>53197950.06</td>\n    </tr>\n    <tr>\n      <th>9</th>\n      <td>SEPTIEMBRE 2020</td>\n      <td>35351507.49</td>\n      <td>61319139.51</td>\n      <td>63430470.17</td>\n    </tr>\n    <tr>\n      <th>10</th>\n      <td>OCTUBRE 2020</td>\n      <td>26675353.91</td>\n      <td>38056759.58</td>\n      <td>66416505.76</td>\n    </tr>\n    <tr>\n      <th>11</th>\n      <td>NOVIEMBRE 2020</td>\n      <td>23460670.81</td>\n      <td>29168592.62</td>\n      <td>41744050.92</td>\n    </tr>\n    <tr>\n      <th>1</th>\n      <td>DICIEMBRE 2020</td>\n      <td>27485180.79</td>\n      <td>25229286.83</td>\n      <td>31052050.85</td>\n    </tr>\n    <tr>\n      <th>12</th>\n      <td>ENERO 2021</td>\n      <td>22583520.73</td>\n      <td>29185194.97</td>\n      <td>27719153.52</td>\n    </tr>\n  </tbody>\n</table>\n</div>"
     },
     "metadata": {},
     "execution_count": 23
    }
   ],
   "source": [
    "#Vemos el total de credito a recuperar\n",
    "credito_mes_c0 = pd.pivot_table(asignacion_c0,index=['MES ASIGNACION'],columns=['PAGOSVENCIDOS'],values=['SALDO_TOTAL'],aggfunc=np.sum)\n",
    "credito_mes_c0 = pd.DataFrame(credito_mes_c0.to_records())\n",
    "credito_mes_c0 = credito_mes_c0.iloc[[0,2,3,4,5,6,7,8,9,10,11,1,12],:]\n",
    "#meses_c0 = ['ENERO 2020','FEBRERO 2020','MARZO 2020','ABRIL 2020','MAYO 2020','JUNIO 2020','JULIO 2020','AGOSTO 2020','SEPTIEMBRE 2020','OCTUBRE 2020','NOVIEMBRE 2020','DICIEMBRE 2020','ENERO 2021']\n",
    "credito_mes_c0.columns = ['FECHA','C0 4PV','C0 5PV','C0 6PV']\n",
    "credito_mes_c0['MES'] = meses_c0\n",
    "credito_mes_c0 = credito_mes_c0.iloc[:,[4,1,2,3]]\n",
    "credito_mes_c0"
   ]
  },
  {
   "cell_type": "code",
   "execution_count": 24,
   "metadata": {},
   "outputs": [
    {
     "output_type": "execute_result",
     "data": {
      "text/plain": [
       "                MES       C0 4PV      C0 5PV      C0 6PV\n",
       "0        ENERO 2020  20006551.50  18869302.0  17171518.0\n",
       "2      FEBRERO 2020  20228846.50  17395068.0  18805207.0\n",
       "3        MARZO 2020  17469789.00  19996152.0  19406172.0\n",
       "4        ABRIL 2020  17331156.00  15823018.0  17331932.0\n",
       "5         MAYO 2020  23511320.00  17816562.0  13675697.0\n",
       "6        JUNIO 2020  28155175.00  23904854.0  17018041.0\n",
       "7        JULIO 2020  38468590.00  26903506.0  20277694.0\n",
       "8       AGOSTO 2020  36075092.00  37481956.0  24177670.0\n",
       "9   SEPTIEMBRE 2020  18372949.00  28647206.0  25220743.0\n",
       "10     OCTUBRE 2020  17527755.61  23129046.0  35691758.0\n",
       "11   NOVIEMBRE 2020  13630147.00  14483711.0  17863844.0\n",
       "1    DICIEMBRE 2020  17673181.00  14092933.0  14521200.0\n",
       "12       ENERO 2021  15810512.00  18972385.0  16633747.0"
      ],
      "text/html": "<div>\n<style scoped>\n    .dataframe tbody tr th:only-of-type {\n        vertical-align: middle;\n    }\n\n    .dataframe tbody tr th {\n        vertical-align: top;\n    }\n\n    .dataframe thead th {\n        text-align: right;\n    }\n</style>\n<table border=\"1\" class=\"dataframe\">\n  <thead>\n    <tr style=\"text-align: right;\">\n      <th></th>\n      <th>MES</th>\n      <th>C0 4PV</th>\n      <th>C0 5PV</th>\n      <th>C0 6PV</th>\n    </tr>\n  </thead>\n  <tbody>\n    <tr>\n      <th>0</th>\n      <td>ENERO 2020</td>\n      <td>20006551.50</td>\n      <td>18869302.0</td>\n      <td>17171518.0</td>\n    </tr>\n    <tr>\n      <th>2</th>\n      <td>FEBRERO 2020</td>\n      <td>20228846.50</td>\n      <td>17395068.0</td>\n      <td>18805207.0</td>\n    </tr>\n    <tr>\n      <th>3</th>\n      <td>MARZO 2020</td>\n      <td>17469789.00</td>\n      <td>19996152.0</td>\n      <td>19406172.0</td>\n    </tr>\n    <tr>\n      <th>4</th>\n      <td>ABRIL 2020</td>\n      <td>17331156.00</td>\n      <td>15823018.0</td>\n      <td>17331932.0</td>\n    </tr>\n    <tr>\n      <th>5</th>\n      <td>MAYO 2020</td>\n      <td>23511320.00</td>\n      <td>17816562.0</td>\n      <td>13675697.0</td>\n    </tr>\n    <tr>\n      <th>6</th>\n      <td>JUNIO 2020</td>\n      <td>28155175.00</td>\n      <td>23904854.0</td>\n      <td>17018041.0</td>\n    </tr>\n    <tr>\n      <th>7</th>\n      <td>JULIO 2020</td>\n      <td>38468590.00</td>\n      <td>26903506.0</td>\n      <td>20277694.0</td>\n    </tr>\n    <tr>\n      <th>8</th>\n      <td>AGOSTO 2020</td>\n      <td>36075092.00</td>\n      <td>37481956.0</td>\n      <td>24177670.0</td>\n    </tr>\n    <tr>\n      <th>9</th>\n      <td>SEPTIEMBRE 2020</td>\n      <td>18372949.00</td>\n      <td>28647206.0</td>\n      <td>25220743.0</td>\n    </tr>\n    <tr>\n      <th>10</th>\n      <td>OCTUBRE 2020</td>\n      <td>17527755.61</td>\n      <td>23129046.0</td>\n      <td>35691758.0</td>\n    </tr>\n    <tr>\n      <th>11</th>\n      <td>NOVIEMBRE 2020</td>\n      <td>13630147.00</td>\n      <td>14483711.0</td>\n      <td>17863844.0</td>\n    </tr>\n    <tr>\n      <th>1</th>\n      <td>DICIEMBRE 2020</td>\n      <td>17673181.00</td>\n      <td>14092933.0</td>\n      <td>14521200.0</td>\n    </tr>\n    <tr>\n      <th>12</th>\n      <td>ENERO 2021</td>\n      <td>15810512.00</td>\n      <td>18972385.0</td>\n      <td>16633747.0</td>\n    </tr>\n  </tbody>\n</table>\n</div>"
     },
     "metadata": {},
     "execution_count": 24
    }
   ],
   "source": [
    "#Vemos el total de credito a recuperar\n",
    "pago_des_c0 = pd.pivot_table(asignacion_c0,index=['MES ASIGNACION'],columns=['PAGOSVENCIDOS'],values=['PAGO_DESCUENTO'],aggfunc=np.sum)\n",
    "pago_des_c0 = pd.DataFrame(pago_des_c0.to_records())\n",
    "pago_des_c0 = pago_des_c0.iloc[[0,2,3,4,5,6,7,8,9,10,11,1,12],:]\n",
    "#meses_c0 = ['ENERO 2020','FEBRERO 2020','MARZO 2020','ABRIL 2020','MAYO 2020','JUNIO 2020','JULIO 2020','AGOSTO 2020','SEPTIEMBRE 2020','OCTUBRE 2020','NOVIEMBRE 2020','DICIEMBRE 2020','ENERO 2021']\n",
    "pago_des_c0.columns = ['FECHA','C0 4PV','C0 5PV','C0 6PV']\n",
    "pago_des_c0['MES'] = meses_c0\n",
    "pago_des_c0 = pago_des_c0.iloc[:,[4,1,2,3]]\n",
    "pago_des_c0"
   ]
  },
  {
   "cell_type": "code",
   "execution_count": 25,
   "metadata": {},
   "outputs": [
    {
     "output_type": "execute_result",
     "data": {
      "text/plain": [
       "                MES       A      B     C1     C2     C3     C4\n",
       "0        ENERO 2020  127071  24932  10831  12971  11982  11869\n",
       "2      FEBRERO 2020  122776  26750  10284  12054  11853  11495\n",
       "3        MARZO 2020  126089  27989  10819  11093  12662  11131\n",
       "4        ABRIL 2020  130955  28437  11249   9860  13895  10881\n",
       "5         MAYO 2020  126530  28678  11621   9863  13389  11461\n",
       "6        JUNIO 2020  130365  29237  11972  10523  12455  12289\n",
       "7        JULIO 2020  133639  29643  11924  11084  11002  13321\n",
       "8       AGOSTO 2020  129182  30660  12875  11587  10910  12725\n",
       "9   SEPTIEMBRE 2020  132324  32395  14929  11289  11404  11572\n",
       "10     OCTUBRE 2020  134118  33219  15710   9928  12075  10317\n",
       "11   NOVIEMBRE 2020  128096  31798  15978   9563   8225   6647\n",
       "12   DICIEMBRE 2020  129184  30860  14567  11028   7937   6890\n",
       "1        ENERO 2021  131218  30369  11156  13373   7864   7191"
      ],
      "text/html": "<div>\n<style scoped>\n    .dataframe tbody tr th:only-of-type {\n        vertical-align: middle;\n    }\n\n    .dataframe tbody tr th {\n        vertical-align: top;\n    }\n\n    .dataframe thead th {\n        text-align: right;\n    }\n</style>\n<table border=\"1\" class=\"dataframe\">\n  <thead>\n    <tr style=\"text-align: right;\">\n      <th></th>\n      <th>MES</th>\n      <th>A</th>\n      <th>B</th>\n      <th>C1</th>\n      <th>C2</th>\n      <th>C3</th>\n      <th>C4</th>\n    </tr>\n  </thead>\n  <tbody>\n    <tr>\n      <th>0</th>\n      <td>ENERO 2020</td>\n      <td>127071</td>\n      <td>24932</td>\n      <td>10831</td>\n      <td>12971</td>\n      <td>11982</td>\n      <td>11869</td>\n    </tr>\n    <tr>\n      <th>2</th>\n      <td>FEBRERO 2020</td>\n      <td>122776</td>\n      <td>26750</td>\n      <td>10284</td>\n      <td>12054</td>\n      <td>11853</td>\n      <td>11495</td>\n    </tr>\n    <tr>\n      <th>3</th>\n      <td>MARZO 2020</td>\n      <td>126089</td>\n      <td>27989</td>\n      <td>10819</td>\n      <td>11093</td>\n      <td>12662</td>\n      <td>11131</td>\n    </tr>\n    <tr>\n      <th>4</th>\n      <td>ABRIL 2020</td>\n      <td>130955</td>\n      <td>28437</td>\n      <td>11249</td>\n      <td>9860</td>\n      <td>13895</td>\n      <td>10881</td>\n    </tr>\n    <tr>\n      <th>5</th>\n      <td>MAYO 2020</td>\n      <td>126530</td>\n      <td>28678</td>\n      <td>11621</td>\n      <td>9863</td>\n      <td>13389</td>\n      <td>11461</td>\n    </tr>\n    <tr>\n      <th>6</th>\n      <td>JUNIO 2020</td>\n      <td>130365</td>\n      <td>29237</td>\n      <td>11972</td>\n      <td>10523</td>\n      <td>12455</td>\n      <td>12289</td>\n    </tr>\n    <tr>\n      <th>7</th>\n      <td>JULIO 2020</td>\n      <td>133639</td>\n      <td>29643</td>\n      <td>11924</td>\n      <td>11084</td>\n      <td>11002</td>\n      <td>13321</td>\n    </tr>\n    <tr>\n      <th>8</th>\n      <td>AGOSTO 2020</td>\n      <td>129182</td>\n      <td>30660</td>\n      <td>12875</td>\n      <td>11587</td>\n      <td>10910</td>\n      <td>12725</td>\n    </tr>\n    <tr>\n      <th>9</th>\n      <td>SEPTIEMBRE 2020</td>\n      <td>132324</td>\n      <td>32395</td>\n      <td>14929</td>\n      <td>11289</td>\n      <td>11404</td>\n      <td>11572</td>\n    </tr>\n    <tr>\n      <th>10</th>\n      <td>OCTUBRE 2020</td>\n      <td>134118</td>\n      <td>33219</td>\n      <td>15710</td>\n      <td>9928</td>\n      <td>12075</td>\n      <td>10317</td>\n    </tr>\n    <tr>\n      <th>11</th>\n      <td>NOVIEMBRE 2020</td>\n      <td>128096</td>\n      <td>31798</td>\n      <td>15978</td>\n      <td>9563</td>\n      <td>8225</td>\n      <td>6647</td>\n    </tr>\n    <tr>\n      <th>12</th>\n      <td>DICIEMBRE 2020</td>\n      <td>129184</td>\n      <td>30860</td>\n      <td>14567</td>\n      <td>11028</td>\n      <td>7937</td>\n      <td>6890</td>\n    </tr>\n    <tr>\n      <th>1</th>\n      <td>ENERO 2021</td>\n      <td>131218</td>\n      <td>30369</td>\n      <td>11156</td>\n      <td>13373</td>\n      <td>7864</td>\n      <td>7191</td>\n    </tr>\n  </tbody>\n</table>\n</div>"
     },
     "metadata": {},
     "execution_count": 25
    }
   ],
   "source": [
    "#Vemos cuanta cartera tenemos por cada mes del año extra\n",
    "cartera_mes_extra = pd.pivot_table(asignacion_extra,index=['MES'],columns=['TIPO_ASIGNACION'],values=['SALDO TOTAL'],aggfunc=['count'])\n",
    "cartera_mes_extra = pd.DataFrame(cartera_mes_extra.to_records())\n",
    "cartera_mes_extra.columns = ['MES','A','B','C1','C2','C3','C4']\n",
    "cartera_mes_extra = cartera_mes_extra.iloc[[0,2,3,4,5,6,7,8,9,10,11,12,1],:]\n",
    "cartera_mes_extra['MES'] = meses_c0\n",
    "cartera_mes_extra"
   ]
  },
  {
   "cell_type": "code",
   "execution_count": 26,
   "metadata": {},
   "outputs": [
    {
     "output_type": "execute_result",
     "data": {
      "text/plain": [
       "                MES             A             B            C1            C2  \\\n",
       "0        ENERO 2020  1.712888e+09  3.286758e+08  8.786457e+07  1.516740e+08   \n",
       "2      FEBRERO 2020  1.655432e+09  3.496993e+08  8.364531e+07  1.432861e+08   \n",
       "3        MARZO 2020  1.701849e+09  3.658305e+08  8.901725e+07  1.342749e+08   \n",
       "4        ABRIL 2020  1.764242e+09  3.756958e+08  9.422243e+07  1.199038e+08   \n",
       "5         MAYO 2020  1.704563e+09  3.793535e+08  9.746133e+07  1.198663e+08   \n",
       "6        JUNIO 2020  1.749852e+09  3.860837e+08  1.017508e+08  1.282919e+08   \n",
       "7        JULIO 2020  1.791789e+09  3.958634e+08  1.014625e+08  1.374690e+08   \n",
       "8       AGOSTO 2020  1.737349e+09  4.093047e+08  1.080939e+08  1.475570e+08   \n",
       "9   SEPTIEMBRE 2020  1.775266e+09  4.349413e+08  1.283822e+08  1.434559e+08   \n",
       "10     OCTUBRE 2020  1.797755e+09  4.501688e+08  1.404167e+08  1.284225e+08   \n",
       "11   NOVIEMBRE 2020  1.710648e+09  4.365053e+08  1.434309e+08  1.235793e+08   \n",
       "12   DICIEMBRE 2020  1.734602e+09  4.301722e+08  1.376041e+08  1.457288e+08   \n",
       "1        ENERO 2021  1.760163e+09  4.299443e+08  1.084211e+08  1.831829e+08   \n",
       "\n",
       "              C3            C4  \n",
       "0   1.584226e+08  1.561599e+08  \n",
       "2   1.612293e+08  1.513869e+08  \n",
       "3   1.727920e+08  1.486758e+08  \n",
       "4   1.913782e+08  1.472686e+08  \n",
       "5   1.892875e+08  1.565301e+08  \n",
       "6   1.775729e+08  1.684714e+08  \n",
       "7   1.586704e+08  1.820641e+08  \n",
       "8   1.589695e+08  1.792416e+08  \n",
       "9   1.673127e+08  1.648551e+08  \n",
       "10  1.791097e+08  1.489979e+08  \n",
       "11  1.232652e+08  9.783109e+07  \n",
       "12  1.202071e+08  1.029411e+08  \n",
       "1   1.188234e+08  1.094003e+08  "
      ],
      "text/html": "<div>\n<style scoped>\n    .dataframe tbody tr th:only-of-type {\n        vertical-align: middle;\n    }\n\n    .dataframe tbody tr th {\n        vertical-align: top;\n    }\n\n    .dataframe thead th {\n        text-align: right;\n    }\n</style>\n<table border=\"1\" class=\"dataframe\">\n  <thead>\n    <tr style=\"text-align: right;\">\n      <th></th>\n      <th>MES</th>\n      <th>A</th>\n      <th>B</th>\n      <th>C1</th>\n      <th>C2</th>\n      <th>C3</th>\n      <th>C4</th>\n    </tr>\n  </thead>\n  <tbody>\n    <tr>\n      <th>0</th>\n      <td>ENERO 2020</td>\n      <td>1.712888e+09</td>\n      <td>3.286758e+08</td>\n      <td>8.786457e+07</td>\n      <td>1.516740e+08</td>\n      <td>1.584226e+08</td>\n      <td>1.561599e+08</td>\n    </tr>\n    <tr>\n      <th>2</th>\n      <td>FEBRERO 2020</td>\n      <td>1.655432e+09</td>\n      <td>3.496993e+08</td>\n      <td>8.364531e+07</td>\n      <td>1.432861e+08</td>\n      <td>1.612293e+08</td>\n      <td>1.513869e+08</td>\n    </tr>\n    <tr>\n      <th>3</th>\n      <td>MARZO 2020</td>\n      <td>1.701849e+09</td>\n      <td>3.658305e+08</td>\n      <td>8.901725e+07</td>\n      <td>1.342749e+08</td>\n      <td>1.727920e+08</td>\n      <td>1.486758e+08</td>\n    </tr>\n    <tr>\n      <th>4</th>\n      <td>ABRIL 2020</td>\n      <td>1.764242e+09</td>\n      <td>3.756958e+08</td>\n      <td>9.422243e+07</td>\n      <td>1.199038e+08</td>\n      <td>1.913782e+08</td>\n      <td>1.472686e+08</td>\n    </tr>\n    <tr>\n      <th>5</th>\n      <td>MAYO 2020</td>\n      <td>1.704563e+09</td>\n      <td>3.793535e+08</td>\n      <td>9.746133e+07</td>\n      <td>1.198663e+08</td>\n      <td>1.892875e+08</td>\n      <td>1.565301e+08</td>\n    </tr>\n    <tr>\n      <th>6</th>\n      <td>JUNIO 2020</td>\n      <td>1.749852e+09</td>\n      <td>3.860837e+08</td>\n      <td>1.017508e+08</td>\n      <td>1.282919e+08</td>\n      <td>1.775729e+08</td>\n      <td>1.684714e+08</td>\n    </tr>\n    <tr>\n      <th>7</th>\n      <td>JULIO 2020</td>\n      <td>1.791789e+09</td>\n      <td>3.958634e+08</td>\n      <td>1.014625e+08</td>\n      <td>1.374690e+08</td>\n      <td>1.586704e+08</td>\n      <td>1.820641e+08</td>\n    </tr>\n    <tr>\n      <th>8</th>\n      <td>AGOSTO 2020</td>\n      <td>1.737349e+09</td>\n      <td>4.093047e+08</td>\n      <td>1.080939e+08</td>\n      <td>1.475570e+08</td>\n      <td>1.589695e+08</td>\n      <td>1.792416e+08</td>\n    </tr>\n    <tr>\n      <th>9</th>\n      <td>SEPTIEMBRE 2020</td>\n      <td>1.775266e+09</td>\n      <td>4.349413e+08</td>\n      <td>1.283822e+08</td>\n      <td>1.434559e+08</td>\n      <td>1.673127e+08</td>\n      <td>1.648551e+08</td>\n    </tr>\n    <tr>\n      <th>10</th>\n      <td>OCTUBRE 2020</td>\n      <td>1.797755e+09</td>\n      <td>4.501688e+08</td>\n      <td>1.404167e+08</td>\n      <td>1.284225e+08</td>\n      <td>1.791097e+08</td>\n      <td>1.489979e+08</td>\n    </tr>\n    <tr>\n      <th>11</th>\n      <td>NOVIEMBRE 2020</td>\n      <td>1.710648e+09</td>\n      <td>4.365053e+08</td>\n      <td>1.434309e+08</td>\n      <td>1.235793e+08</td>\n      <td>1.232652e+08</td>\n      <td>9.783109e+07</td>\n    </tr>\n    <tr>\n      <th>12</th>\n      <td>DICIEMBRE 2020</td>\n      <td>1.734602e+09</td>\n      <td>4.301722e+08</td>\n      <td>1.376041e+08</td>\n      <td>1.457288e+08</td>\n      <td>1.202071e+08</td>\n      <td>1.029411e+08</td>\n    </tr>\n    <tr>\n      <th>1</th>\n      <td>ENERO 2021</td>\n      <td>1.760163e+09</td>\n      <td>4.299443e+08</td>\n      <td>1.084211e+08</td>\n      <td>1.831829e+08</td>\n      <td>1.188234e+08</td>\n      <td>1.094003e+08</td>\n    </tr>\n  </tbody>\n</table>\n</div>"
     },
     "metadata": {},
     "execution_count": 26
    }
   ],
   "source": [
    "#Vemos cuanta cartera tenemos por cada mes del año extra\n",
    "credito_mes_extra = pd.pivot_table(asignacion_extra,index=['MES'],columns=['TIPO_ASIGNACION'],values=['SALDO TOTAL'],aggfunc=[np.sum])\n",
    "credito_mes_extra = pd.DataFrame(credito_mes_extra.to_records())\n",
    "credito_mes_extra.columns = ['MES','A','B','C1','C2','C3','C4']\n",
    "credito_mes_extra = credito_mes_extra.iloc[[0,2,3,4,5,6,7,8,9,10,11,12,1],:]\n",
    "#cols = ['DICIEMBRE2020','ENERO2021']\n",
    "#credito_mes_extra[cols] = credito_mes_extra[cols].round()\n",
    "credito_mes_extra['MES'] = meses_c0\n",
    "credito_mes_extra"
   ]
  },
  {
   "cell_type": "code",
   "execution_count": 27,
   "metadata": {},
   "outputs": [
    {
     "output_type": "execute_result",
     "data": {
      "text/plain": [
       "                MES             A             B            C1            C2  \\\n",
       "0        ENERO 2020  8.564440e+07  1.643379e+07  3.793779e+07  4.459327e+07   \n",
       "2      FEBRERO 2020  8.277165e+07  1.748497e+07  3.595922e+07  4.203155e+07   \n",
       "3        MARZO 2020  8.509248e+07  1.829153e+07  3.817191e+07  3.936904e+07   \n",
       "4        ABRIL 2020  8.821211e+07  1.878480e+07  3.947803e+07  3.439515e+07   \n",
       "5         MAYO 2020  8.522819e+07  1.896768e+07  3.417577e+07  3.099606e+07   \n",
       "6        JUNIO 2020  8.749262e+07  1.930419e+07  3.781044e+07  3.474284e+07   \n",
       "7        JULIO 2020  8.958951e+07  1.979318e+07  3.520205e+07  3.556363e+07   \n",
       "8       AGOSTO 2020  8.686751e+07  2.046524e+07  3.822546e+07  3.849535e+07   \n",
       "9   SEPTIEMBRE 2020  8.876333e+07  2.174707e+07  3.749130e+07  2.935922e+07   \n",
       "10     OCTUBRE 2020  8.995504e+07  2.252578e+07  5.661302e+07  3.706274e+07   \n",
       "11   NOVIEMBRE 2020  8.553287e+07  2.182598e+07  4.632661e+07  2.708029e+07   \n",
       "12   DICIEMBRE 2020  8.673014e+07  2.150932e+07  5.026947e+07  3.791186e+07   \n",
       "1        ENERO 2021  8.800818e+07  2.149793e+07  4.878632e+07  5.568108e+07   \n",
       "\n",
       "              C3            C4  \n",
       "0   1.539866e+07  1.557140e+07  \n",
       "2   1.545869e+07  1.501983e+07  \n",
       "3   1.636438e+07  1.459780e+07  \n",
       "4   1.910414e+07  1.426893e+07  \n",
       "5   9.464380e+06  7.829552e+06  \n",
       "6   8.878648e+06  8.426620e+06  \n",
       "7   7.933521e+06  9.106254e+06  \n",
       "8   7.948477e+06  8.965131e+06  \n",
       "9   8.365640e+06  8.245802e+06  \n",
       "10  1.791699e+07  1.490497e+07  \n",
       "11  1.232652e+07  4.891556e+06  \n",
       "12  6.010358e+06  5.147056e+06  \n",
       "1   1.188235e+07  1.094003e+07  "
      ],
      "text/html": "<div>\n<style scoped>\n    .dataframe tbody tr th:only-of-type {\n        vertical-align: middle;\n    }\n\n    .dataframe tbody tr th {\n        vertical-align: top;\n    }\n\n    .dataframe thead th {\n        text-align: right;\n    }\n</style>\n<table border=\"1\" class=\"dataframe\">\n  <thead>\n    <tr style=\"text-align: right;\">\n      <th></th>\n      <th>MES</th>\n      <th>A</th>\n      <th>B</th>\n      <th>C1</th>\n      <th>C2</th>\n      <th>C3</th>\n      <th>C4</th>\n    </tr>\n  </thead>\n  <tbody>\n    <tr>\n      <th>0</th>\n      <td>ENERO 2020</td>\n      <td>8.564440e+07</td>\n      <td>1.643379e+07</td>\n      <td>3.793779e+07</td>\n      <td>4.459327e+07</td>\n      <td>1.539866e+07</td>\n      <td>1.557140e+07</td>\n    </tr>\n    <tr>\n      <th>2</th>\n      <td>FEBRERO 2020</td>\n      <td>8.277165e+07</td>\n      <td>1.748497e+07</td>\n      <td>3.595922e+07</td>\n      <td>4.203155e+07</td>\n      <td>1.545869e+07</td>\n      <td>1.501983e+07</td>\n    </tr>\n    <tr>\n      <th>3</th>\n      <td>MARZO 2020</td>\n      <td>8.509248e+07</td>\n      <td>1.829153e+07</td>\n      <td>3.817191e+07</td>\n      <td>3.936904e+07</td>\n      <td>1.636438e+07</td>\n      <td>1.459780e+07</td>\n    </tr>\n    <tr>\n      <th>4</th>\n      <td>ABRIL 2020</td>\n      <td>8.821211e+07</td>\n      <td>1.878480e+07</td>\n      <td>3.947803e+07</td>\n      <td>3.439515e+07</td>\n      <td>1.910414e+07</td>\n      <td>1.426893e+07</td>\n    </tr>\n    <tr>\n      <th>5</th>\n      <td>MAYO 2020</td>\n      <td>8.522819e+07</td>\n      <td>1.896768e+07</td>\n      <td>3.417577e+07</td>\n      <td>3.099606e+07</td>\n      <td>9.464380e+06</td>\n      <td>7.829552e+06</td>\n    </tr>\n    <tr>\n      <th>6</th>\n      <td>JUNIO 2020</td>\n      <td>8.749262e+07</td>\n      <td>1.930419e+07</td>\n      <td>3.781044e+07</td>\n      <td>3.474284e+07</td>\n      <td>8.878648e+06</td>\n      <td>8.426620e+06</td>\n    </tr>\n    <tr>\n      <th>7</th>\n      <td>JULIO 2020</td>\n      <td>8.958951e+07</td>\n      <td>1.979318e+07</td>\n      <td>3.520205e+07</td>\n      <td>3.556363e+07</td>\n      <td>7.933521e+06</td>\n      <td>9.106254e+06</td>\n    </tr>\n    <tr>\n      <th>8</th>\n      <td>AGOSTO 2020</td>\n      <td>8.686751e+07</td>\n      <td>2.046524e+07</td>\n      <td>3.822546e+07</td>\n      <td>3.849535e+07</td>\n      <td>7.948477e+06</td>\n      <td>8.965131e+06</td>\n    </tr>\n    <tr>\n      <th>9</th>\n      <td>SEPTIEMBRE 2020</td>\n      <td>8.876333e+07</td>\n      <td>2.174707e+07</td>\n      <td>3.749130e+07</td>\n      <td>2.935922e+07</td>\n      <td>8.365640e+06</td>\n      <td>8.245802e+06</td>\n    </tr>\n    <tr>\n      <th>10</th>\n      <td>OCTUBRE 2020</td>\n      <td>8.995504e+07</td>\n      <td>2.252578e+07</td>\n      <td>5.661302e+07</td>\n      <td>3.706274e+07</td>\n      <td>1.791699e+07</td>\n      <td>1.490497e+07</td>\n    </tr>\n    <tr>\n      <th>11</th>\n      <td>NOVIEMBRE 2020</td>\n      <td>8.553287e+07</td>\n      <td>2.182598e+07</td>\n      <td>4.632661e+07</td>\n      <td>2.708029e+07</td>\n      <td>1.232652e+07</td>\n      <td>4.891556e+06</td>\n    </tr>\n    <tr>\n      <th>12</th>\n      <td>DICIEMBRE 2020</td>\n      <td>8.673014e+07</td>\n      <td>2.150932e+07</td>\n      <td>5.026947e+07</td>\n      <td>3.791186e+07</td>\n      <td>6.010358e+06</td>\n      <td>5.147056e+06</td>\n    </tr>\n    <tr>\n      <th>1</th>\n      <td>ENERO 2021</td>\n      <td>8.800818e+07</td>\n      <td>2.149793e+07</td>\n      <td>4.878632e+07</td>\n      <td>5.568108e+07</td>\n      <td>1.188235e+07</td>\n      <td>1.094003e+07</td>\n    </tr>\n  </tbody>\n</table>\n</div>"
     },
     "metadata": {},
     "execution_count": 27
    }
   ],
   "source": [
    "#Vemos cuanta cartera tenemos por cada mes del año extra\n",
    "pago_descuento_extra = pd.pivot_table(asignacion_extra,index=['MES'],columns=['TIPO_ASIGNACION'],values=['PAGO_DESCUENTO'],aggfunc=[np.sum])\n",
    "pago_descuento_extra = pd.DataFrame(pago_descuento_extra.to_records())\n",
    "pago_descuento_extra.columns = ['MES','A','B','C1','C2','C3','C4']\n",
    "pago_descuento_extra = pago_descuento_extra.iloc[[0,2,3,4,5,6,7,8,9,10,11,12,1],:]\n",
    "#cols = ['DICIEMBRE2020','ENERO2021']\n",
    "#pago_descuento_extra[cols] = pago_descuento_extra[cols].round()\n",
    "pago_descuento_extra['MES'] = meses_c0\n",
    "pago_descuento_extra"
   ]
  },
  {
   "cell_type": "code",
   "execution_count": 28,
   "metadata": {},
   "outputs": [],
   "source": [
    "cartera_brad = pd.merge(cartera_mes_c0,cartera_mes_extra,on=['MES'],how='left')\n",
    "credito_brad = pd.merge(credito_mes_c0,credito_mes_extra,on=['MES'],how='left')\n",
    "pago_desc_brad = pd.merge(pago_des_c0,pago_descuento_extra,on=['MES'],how='left')"
   ]
  },
  {
   "cell_type": "code",
   "execution_count": 29,
   "metadata": {},
   "outputs": [
    {
     "output_type": "error",
     "ename": "SyntaxError",
     "evalue": "invalid syntax (<ipython-input-29-ab6c28694422>, line 1)",
     "traceback": [
      "\u001b[0;36m  File \u001b[0;32m\"<ipython-input-29-ab6c28694422>\"\u001b[0;36m, line \u001b[0;32m1\u001b[0m\n\u001b[0;31m    cartera_brad['TOTAL'] =\u001b[0m\n\u001b[0m                            ^\u001b[0m\n\u001b[0;31mSyntaxError\u001b[0m\u001b[0;31m:\u001b[0m invalid syntax\n"
     ]
    }
   ],
   "source": [
    "cartera_brad['TOTAL'] = "
   ]
  },
  {
   "source": [
    "# Liverpool "
   ],
   "cell_type": "markdown",
   "metadata": {}
  },
  {
   "cell_type": "code",
   "execution_count": 12,
   "metadata": {},
   "outputs": [
    {
     "output_type": "stream",
     "name": "stdout",
     "text": [
      "Asignacion ENERO2020\n",
      "Asignacion FEBRERO2020\n",
      "Asignacion MARZO2020\n",
      "Asignacion ABRIL2020\n",
      "Asignacion MAYO2020\n",
      "Asignacion JUNIO2020\n",
      "Asignacion JULIO2020\n",
      "Asignacion AGOSTO2020\n",
      "Asignacion SEPTIEMBRE2020\n",
      "Asignacion OCTUBRE2020\n",
      "Asignacion Noviembre2020\n",
      "Asignacion Diciembre2020\n"
     ]
    }
   ],
   "source": [
    "#Leemos asignaciones\n",
    "arch_liv_asig = ['Asignacion ENERO2020','Asignacion FEBRERO2020','Asignacion MARZO2020','Asignacion ABRIL2020','Asignacion MAYO2020','Asignacion JUNIO2020','Asignacion JULIO2020','Asignacion AGOSTO2020','Asignacion SEPTIEMBRE2020','Asignacion OCTUBRE2020','Asignacion Noviembre2020','Asignacion Diciembre2020','Asignacion Enero2021']\n",
    "meses_liv = ['01/01/2020','01/02/2020','01/03/2020','01/04/2020','01/05/2020','01/06/2020','01/07/2020','01/08/2020','01/09/2020','01/10/2020','01/11/2020','01/12/2020','01/01/2021']\n",
    "dtype_dic = {'# CUENTA':str}\n",
    "asignaciones_liv = pd.DataFrame()\n",
    "for j,k in zip(arch_liv_asig,meses_liv):\n",
    "    asignacion = pd.read_csv(''+ruta+'Liverpool/Asignacion/Asignaciones csv/'+j+'.csv',encoding = \"ISO-8859-1\", engine='python',dtype=dtype_dic)\n",
    "    asignacion['MES'] = k\n",
    "    asignaciones_liv = pd.concat([asignaciones_liv,asignacion],ignore_index=True)\n",
    "    print(j)"
   ]
  },
  {
   "cell_type": "code",
   "execution_count": 30,
   "metadata": {},
   "outputs": [
    {
     "output_type": "stream",
     "name": "stdout",
     "text": [
      "ERROR! Session/line number was not unique in database. History logging moved to new session 815\n"
     ]
    },
    {
     "output_type": "error",
     "ename": "IndexError",
     "evalue": "positional indexers are out-of-bounds",
     "traceback": [
      "\u001b[0;31m---------------------------------------------------------------------------\u001b[0m",
      "\u001b[0;31mIndexError\u001b[0m                                Traceback (most recent call last)",
      "\u001b[0;32m<ipython-input-30-856fbc313b4b>\u001b[0m in \u001b[0;36m<module>\u001b[0;34m\u001b[0m\n\u001b[1;32m      2\u001b[0m \u001b[0mcartera_liver\u001b[0m \u001b[0;34m=\u001b[0m \u001b[0mpd\u001b[0m\u001b[0;34m.\u001b[0m\u001b[0mpivot_table\u001b[0m\u001b[0;34m(\u001b[0m\u001b[0masignaciones_liv\u001b[0m\u001b[0;34m,\u001b[0m\u001b[0mindex\u001b[0m\u001b[0;34m=\u001b[0m\u001b[0;34m[\u001b[0m\u001b[0;34m'MES'\u001b[0m\u001b[0;34m]\u001b[0m\u001b[0;34m,\u001b[0m\u001b[0mcolumns\u001b[0m\u001b[0;34m=\u001b[0m\u001b[0;34m[\u001b[0m\u001b[0;34m'ID AGENCIA'\u001b[0m\u001b[0;34m]\u001b[0m\u001b[0;34m,\u001b[0m\u001b[0mvalues\u001b[0m\u001b[0;34m=\u001b[0m\u001b[0;34m[\u001b[0m\u001b[0;34m'SALDO ACTUAL'\u001b[0m\u001b[0;34m]\u001b[0m\u001b[0;34m,\u001b[0m\u001b[0maggfunc\u001b[0m\u001b[0;34m=\u001b[0m\u001b[0;34m[\u001b[0m\u001b[0;34m'count'\u001b[0m\u001b[0;34m]\u001b[0m\u001b[0;34m)\u001b[0m\u001b[0;34m\u001b[0m\u001b[0;34m\u001b[0m\u001b[0m\n\u001b[1;32m      3\u001b[0m \u001b[0mcartera_liver\u001b[0m \u001b[0;34m=\u001b[0m \u001b[0mpd\u001b[0m\u001b[0;34m.\u001b[0m\u001b[0mDataFrame\u001b[0m\u001b[0;34m(\u001b[0m\u001b[0mcartera_liver\u001b[0m\u001b[0;34m.\u001b[0m\u001b[0mto_records\u001b[0m\u001b[0;34m(\u001b[0m\u001b[0;34m)\u001b[0m\u001b[0;34m)\u001b[0m\u001b[0;34m\u001b[0m\u001b[0;34m\u001b[0m\u001b[0m\n\u001b[0;32m----> 4\u001b[0;31m \u001b[0mcartera_liver\u001b[0m \u001b[0;34m=\u001b[0m \u001b[0mcartera_liver\u001b[0m\u001b[0;34m.\u001b[0m\u001b[0miloc\u001b[0m\u001b[0;34m[\u001b[0m\u001b[0;34m[\u001b[0m\u001b[0;36m0\u001b[0m\u001b[0;34m,\u001b[0m\u001b[0;36m2\u001b[0m\u001b[0;34m,\u001b[0m\u001b[0;36m3\u001b[0m\u001b[0;34m,\u001b[0m\u001b[0;36m4\u001b[0m\u001b[0;34m,\u001b[0m\u001b[0;36m5\u001b[0m\u001b[0;34m,\u001b[0m\u001b[0;36m6\u001b[0m\u001b[0;34m,\u001b[0m\u001b[0;36m7\u001b[0m\u001b[0;34m,\u001b[0m\u001b[0;36m8\u001b[0m\u001b[0;34m,\u001b[0m\u001b[0;36m9\u001b[0m\u001b[0;34m,\u001b[0m\u001b[0;36m10\u001b[0m\u001b[0;34m,\u001b[0m\u001b[0;36m11\u001b[0m\u001b[0;34m,\u001b[0m\u001b[0;36m12\u001b[0m\u001b[0;34m,\u001b[0m\u001b[0;36m1\u001b[0m\u001b[0;34m]\u001b[0m\u001b[0;34m,\u001b[0m\u001b[0;34m:\u001b[0m\u001b[0;34m]\u001b[0m\u001b[0;34m\u001b[0m\u001b[0;34m\u001b[0m\u001b[0m\n\u001b[0m\u001b[1;32m      5\u001b[0m \u001b[0mcartera_liver\u001b[0m\u001b[0;34m.\u001b[0m\u001b[0mcolumns\u001b[0m \u001b[0;34m=\u001b[0m \u001b[0;34m[\u001b[0m\u001b[0;34m'MESASIG'\u001b[0m\u001b[0;34m,\u001b[0m\u001b[0;34m'DKN00REM'\u001b[0m\u001b[0;34m,\u001b[0m\u001b[0;34m'DKN02REM'\u001b[0m\u001b[0;34m,\u001b[0m\u001b[0;34m'DKN04REM'\u001b[0m\u001b[0;34m,\u001b[0m\u001b[0;34m'SA001REM'\u001b[0m\u001b[0;34m,\u001b[0m\u001b[0;34m'SA002REM'\u001b[0m\u001b[0;34m]\u001b[0m\u001b[0;34m\u001b[0m\u001b[0;34m\u001b[0m\u001b[0m\n\u001b[1;32m      6\u001b[0m \u001b[0mcartera_liver\u001b[0m\u001b[0;34m[\u001b[0m\u001b[0;34m'MES'\u001b[0m\u001b[0;34m]\u001b[0m \u001b[0;34m=\u001b[0m \u001b[0mmeses_c0\u001b[0m\u001b[0;34m\u001b[0m\u001b[0;34m\u001b[0m\u001b[0m\n",
      "\u001b[0;32m~/.local/lib/python3.8/site-packages/pandas/core/indexing.py\u001b[0m in \u001b[0;36m__getitem__\u001b[0;34m(self, key)\u001b[0m\n\u001b[1;32m    871\u001b[0m                     \u001b[0;31m# AttributeError for IntervalTree get_value\u001b[0m\u001b[0;34m\u001b[0m\u001b[0;34m\u001b[0m\u001b[0;34m\u001b[0m\u001b[0m\n\u001b[1;32m    872\u001b[0m                     \u001b[0;32mpass\u001b[0m\u001b[0;34m\u001b[0m\u001b[0;34m\u001b[0m\u001b[0m\n\u001b[0;32m--> 873\u001b[0;31m             \u001b[0;32mreturn\u001b[0m \u001b[0mself\u001b[0m\u001b[0;34m.\u001b[0m\u001b[0m_getitem_tuple\u001b[0m\u001b[0;34m(\u001b[0m\u001b[0mkey\u001b[0m\u001b[0;34m)\u001b[0m\u001b[0;34m\u001b[0m\u001b[0;34m\u001b[0m\u001b[0m\n\u001b[0m\u001b[1;32m    874\u001b[0m         \u001b[0;32melse\u001b[0m\u001b[0;34m:\u001b[0m\u001b[0;34m\u001b[0m\u001b[0;34m\u001b[0m\u001b[0m\n\u001b[1;32m    875\u001b[0m             \u001b[0;31m# we by definition only have the 0th axis\u001b[0m\u001b[0;34m\u001b[0m\u001b[0;34m\u001b[0m\u001b[0;34m\u001b[0m\u001b[0m\n",
      "\u001b[0;32m~/.local/lib/python3.8/site-packages/pandas/core/indexing.py\u001b[0m in \u001b[0;36m_getitem_tuple\u001b[0;34m(self, tup)\u001b[0m\n\u001b[1;32m   1441\u001b[0m     \u001b[0;32mdef\u001b[0m \u001b[0m_getitem_tuple\u001b[0m\u001b[0;34m(\u001b[0m\u001b[0mself\u001b[0m\u001b[0;34m,\u001b[0m \u001b[0mtup\u001b[0m\u001b[0;34m:\u001b[0m \u001b[0mTuple\u001b[0m\u001b[0;34m)\u001b[0m\u001b[0;34m:\u001b[0m\u001b[0;34m\u001b[0m\u001b[0;34m\u001b[0m\u001b[0m\n\u001b[1;32m   1442\u001b[0m \u001b[0;34m\u001b[0m\u001b[0m\n\u001b[0;32m-> 1443\u001b[0;31m         \u001b[0mself\u001b[0m\u001b[0;34m.\u001b[0m\u001b[0m_has_valid_tuple\u001b[0m\u001b[0;34m(\u001b[0m\u001b[0mtup\u001b[0m\u001b[0;34m)\u001b[0m\u001b[0;34m\u001b[0m\u001b[0;34m\u001b[0m\u001b[0m\n\u001b[0m\u001b[1;32m   1444\u001b[0m         \u001b[0;32mtry\u001b[0m\u001b[0;34m:\u001b[0m\u001b[0;34m\u001b[0m\u001b[0;34m\u001b[0m\u001b[0m\n\u001b[1;32m   1445\u001b[0m             \u001b[0;32mreturn\u001b[0m \u001b[0mself\u001b[0m\u001b[0;34m.\u001b[0m\u001b[0m_getitem_lowerdim\u001b[0m\u001b[0;34m(\u001b[0m\u001b[0mtup\u001b[0m\u001b[0;34m)\u001b[0m\u001b[0;34m\u001b[0m\u001b[0;34m\u001b[0m\u001b[0m\n",
      "\u001b[0;32m~/.local/lib/python3.8/site-packages/pandas/core/indexing.py\u001b[0m in \u001b[0;36m_has_valid_tuple\u001b[0;34m(self, key)\u001b[0m\n\u001b[1;32m    700\u001b[0m                 \u001b[0;32mraise\u001b[0m \u001b[0mIndexingError\u001b[0m\u001b[0;34m(\u001b[0m\u001b[0;34m\"Too many indexers\"\u001b[0m\u001b[0;34m)\u001b[0m\u001b[0;34m\u001b[0m\u001b[0;34m\u001b[0m\u001b[0m\n\u001b[1;32m    701\u001b[0m             \u001b[0;32mtry\u001b[0m\u001b[0;34m:\u001b[0m\u001b[0;34m\u001b[0m\u001b[0;34m\u001b[0m\u001b[0m\n\u001b[0;32m--> 702\u001b[0;31m                 \u001b[0mself\u001b[0m\u001b[0;34m.\u001b[0m\u001b[0m_validate_key\u001b[0m\u001b[0;34m(\u001b[0m\u001b[0mk\u001b[0m\u001b[0;34m,\u001b[0m \u001b[0mi\u001b[0m\u001b[0;34m)\u001b[0m\u001b[0;34m\u001b[0m\u001b[0;34m\u001b[0m\u001b[0m\n\u001b[0m\u001b[1;32m    703\u001b[0m             \u001b[0;32mexcept\u001b[0m \u001b[0mValueError\u001b[0m \u001b[0;32mas\u001b[0m \u001b[0merr\u001b[0m\u001b[0;34m:\u001b[0m\u001b[0;34m\u001b[0m\u001b[0;34m\u001b[0m\u001b[0m\n\u001b[1;32m    704\u001b[0m                 raise ValueError(\n",
      "\u001b[0;32m~/.local/lib/python3.8/site-packages/pandas/core/indexing.py\u001b[0m in \u001b[0;36m_validate_key\u001b[0;34m(self, key, axis)\u001b[0m\n\u001b[1;32m   1365\u001b[0m             \u001b[0;31m# check that the key does not exceed the maximum size of the index\u001b[0m\u001b[0;34m\u001b[0m\u001b[0;34m\u001b[0m\u001b[0;34m\u001b[0m\u001b[0m\n\u001b[1;32m   1366\u001b[0m             \u001b[0;32mif\u001b[0m \u001b[0mlen\u001b[0m\u001b[0;34m(\u001b[0m\u001b[0marr\u001b[0m\u001b[0;34m)\u001b[0m \u001b[0;32mand\u001b[0m \u001b[0;34m(\u001b[0m\u001b[0marr\u001b[0m\u001b[0;34m.\u001b[0m\u001b[0mmax\u001b[0m\u001b[0;34m(\u001b[0m\u001b[0;34m)\u001b[0m \u001b[0;34m>=\u001b[0m \u001b[0mlen_axis\u001b[0m \u001b[0;32mor\u001b[0m \u001b[0marr\u001b[0m\u001b[0;34m.\u001b[0m\u001b[0mmin\u001b[0m\u001b[0;34m(\u001b[0m\u001b[0;34m)\u001b[0m \u001b[0;34m<\u001b[0m \u001b[0;34m-\u001b[0m\u001b[0mlen_axis\u001b[0m\u001b[0;34m)\u001b[0m\u001b[0;34m:\u001b[0m\u001b[0;34m\u001b[0m\u001b[0;34m\u001b[0m\u001b[0m\n\u001b[0;32m-> 1367\u001b[0;31m                 \u001b[0;32mraise\u001b[0m \u001b[0mIndexError\u001b[0m\u001b[0;34m(\u001b[0m\u001b[0;34m\"positional indexers are out-of-bounds\"\u001b[0m\u001b[0;34m)\u001b[0m\u001b[0;34m\u001b[0m\u001b[0;34m\u001b[0m\u001b[0m\n\u001b[0m\u001b[1;32m   1368\u001b[0m         \u001b[0;32melse\u001b[0m\u001b[0;34m:\u001b[0m\u001b[0;34m\u001b[0m\u001b[0;34m\u001b[0m\u001b[0m\n\u001b[1;32m   1369\u001b[0m             \u001b[0;32mraise\u001b[0m \u001b[0mValueError\u001b[0m\u001b[0;34m(\u001b[0m\u001b[0;34mf\"Can only index by location with a [{self._valid_types}]\"\u001b[0m\u001b[0;34m)\u001b[0m\u001b[0;34m\u001b[0m\u001b[0;34m\u001b[0m\u001b[0m\n",
      "\u001b[0;31mIndexError\u001b[0m: positional indexers are out-of-bounds"
     ]
    }
   ],
   "source": [
    "# Vemos volumen cartera Liverpool\n",
    "cartera_liver = pd.pivot_table(asignaciones_liv,index=['MES'],columns=['ID AGENCIA'],values=['SALDO ACTUAL'],aggfunc=['count'])\n",
    "cartera_liver = pd.DataFrame(cartera_liver.to_records())\n",
    "cartera_liver = cartera_liver.iloc[[0,2,3,4,5,6,7,8,9,10,11,12,1],:]\n",
    "cartera_liver.columns = ['MESASIG','DKN00REM','DKN02REM','DKN04REM','SA001REM','SA002REM']\n",
    "cartera_liver['MES'] = meses_c0\n",
    "cartera_liver = cartera_liver.iloc[:,[6,1,2,4,5,3]]\n",
    "cartera_liver"
   ]
  },
  {
   "cell_type": "code",
   "execution_count": null,
   "metadata": {},
   "outputs": [],
   "source": [
    "# Vemos volumen cartera Liverpool\n",
    "credito_liver = pd.pivot_table(asignaciones_liv,index=['MES'],columns=['ID AGENCIA'],values=['SALDO ACTUAL'],aggfunc=[np.sum])\n",
    "credito_liver = pd.DataFrame(credito_liver.to_records())\n",
    "credito_liver = credito_liver.iloc[[0,2,3,4,5,6,7,8,9,10,11,12,1],:]\n",
    "credito_liver.columns = ['MESASIG','DKN00REM','DKN02REM','DKN04REM','SA001REM','SA002REM']\n",
    "credito_liver['MES'] = meses_c0\n",
    "credito_liver = credito_liver.iloc[:,[6,1,2,4,5,3]]\n",
    "credito_liver"
   ]
  },
  {
   "source": [
    "# Credifiel"
   ],
   "cell_type": "markdown",
   "metadata": {}
  },
  {
   "cell_type": "code",
   "execution_count": 13,
   "metadata": {},
   "outputs": [
    {
     "output_type": "stream",
     "name": "stdout",
     "text": [
      "Asignacion Credifiel2020\n"
     ]
    }
   ],
   "source": [
    "#Leemos asignaciones\n",
    "arch_cred_asig = ['Asignacion Credifiel2020']\n",
    "asignacion_cred = pd.DataFrame()\n",
    "for j in arch_cred_asig:\n",
    "    asignacion = pd.read_excel(''+ruta+'Credifiel/Asignacion/'+j+'.xlsx')\n",
    "    asignacion_cred = pd.concat([asignacion_cred,asignacion],ignore_index=True)\n",
    "    print(j)"
   ]
  },
  {
   "cell_type": "code",
   "execution_count": 14,
   "metadata": {},
   "outputs": [
    {
     "output_type": "execute_result",
     "data": {
      "text/plain": [
       "                MES  VOLUMEN\n",
       "0      FEBRERO 2020     8146\n",
       "1        MARZO 2020     7604\n",
       "2        ABRIL 2020    10500\n",
       "3         MAYO 2020    15223\n",
       "4        JUNIO 2020    15967\n",
       "5        JULIO 2020    12182\n",
       "6       AGOSTO 2020    10697\n",
       "7   SEPTIEMBRE 2020    13899\n",
       "8      OCTUBRE 2020     8115\n",
       "9    NOVIEMBRE 2020     9041\n",
       "10   DICIEMBRE 2020     8958"
      ],
      "text/html": "<div>\n<style scoped>\n    .dataframe tbody tr th:only-of-type {\n        vertical-align: middle;\n    }\n\n    .dataframe tbody tr th {\n        vertical-align: top;\n    }\n\n    .dataframe thead th {\n        text-align: right;\n    }\n</style>\n<table border=\"1\" class=\"dataframe\">\n  <thead>\n    <tr style=\"text-align: right;\">\n      <th></th>\n      <th>MES</th>\n      <th>VOLUMEN</th>\n    </tr>\n  </thead>\n  <tbody>\n    <tr>\n      <th>0</th>\n      <td>FEBRERO 2020</td>\n      <td>8146</td>\n    </tr>\n    <tr>\n      <th>1</th>\n      <td>MARZO 2020</td>\n      <td>7604</td>\n    </tr>\n    <tr>\n      <th>2</th>\n      <td>ABRIL 2020</td>\n      <td>10500</td>\n    </tr>\n    <tr>\n      <th>3</th>\n      <td>MAYO 2020</td>\n      <td>15223</td>\n    </tr>\n    <tr>\n      <th>4</th>\n      <td>JUNIO 2020</td>\n      <td>15967</td>\n    </tr>\n    <tr>\n      <th>5</th>\n      <td>JULIO 2020</td>\n      <td>12182</td>\n    </tr>\n    <tr>\n      <th>6</th>\n      <td>AGOSTO 2020</td>\n      <td>10697</td>\n    </tr>\n    <tr>\n      <th>7</th>\n      <td>SEPTIEMBRE 2020</td>\n      <td>13899</td>\n    </tr>\n    <tr>\n      <th>8</th>\n      <td>OCTUBRE 2020</td>\n      <td>8115</td>\n    </tr>\n    <tr>\n      <th>9</th>\n      <td>NOVIEMBRE 2020</td>\n      <td>9041</td>\n    </tr>\n    <tr>\n      <th>10</th>\n      <td>DICIEMBRE 2020</td>\n      <td>8958</td>\n    </tr>\n  </tbody>\n</table>\n</div>"
     },
     "metadata": {},
     "execution_count": 14
    }
   ],
   "source": [
    "cartera_cred = pd.pivot_table(asignacion_cred,index=['MES'],values=['SALDO TOTAL'],aggfunc=['count'])\n",
    "cartera_cred = pd.DataFrame(cartera_cred.to_records())\n",
    "#cartera_cred = cartera_cred.iloc[[]:,]\n",
    "meses_cred = ['FEBRERO 2020','MARZO 2020','ABRIL 2020','MAYO 2020','JUNIO 2020','JULIO 2020','AGOSTO 2020','SEPTIEMBRE 2020','OCTUBRE 2020','NOVIEMBRE 2020','DICIEMBRE 2020']\n",
    "cartera_cred.columns = ['MES','VOLUMEN']\n",
    "cartera_cred['MES'] = meses_cred\n",
    "cartera_cred"
   ]
  },
  {
   "cell_type": "code",
   "execution_count": 15,
   "metadata": {},
   "outputs": [
    {
     "output_type": "execute_result",
     "data": {
      "text/plain": [
       "                MES  CREDITO TOTAL\n",
       "0      FEBRERO 2020   2.213717e+08\n",
       "1        MARZO 2020   2.794371e+08\n",
       "2        ABRIL 2020   3.024323e+08\n",
       "3         MAYO 2020   4.441331e+08\n",
       "4        JUNIO 2020   4.790833e+08\n",
       "5        JULIO 2020   4.447160e+08\n",
       "6       AGOSTO 2020   3.777587e+08\n",
       "7   SEPTIEMBRE 2020   4.080490e+08\n",
       "8      OCTUBRE 2020   3.052498e+08\n",
       "9    NOVIEMBRE 2020   3.601791e+08\n",
       "10   DICIEMBRE 2020   3.345414e+08"
      ],
      "text/html": "<div>\n<style scoped>\n    .dataframe tbody tr th:only-of-type {\n        vertical-align: middle;\n    }\n\n    .dataframe tbody tr th {\n        vertical-align: top;\n    }\n\n    .dataframe thead th {\n        text-align: right;\n    }\n</style>\n<table border=\"1\" class=\"dataframe\">\n  <thead>\n    <tr style=\"text-align: right;\">\n      <th></th>\n      <th>MES</th>\n      <th>CREDITO TOTAL</th>\n    </tr>\n  </thead>\n  <tbody>\n    <tr>\n      <th>0</th>\n      <td>FEBRERO 2020</td>\n      <td>2.213717e+08</td>\n    </tr>\n    <tr>\n      <th>1</th>\n      <td>MARZO 2020</td>\n      <td>2.794371e+08</td>\n    </tr>\n    <tr>\n      <th>2</th>\n      <td>ABRIL 2020</td>\n      <td>3.024323e+08</td>\n    </tr>\n    <tr>\n      <th>3</th>\n      <td>MAYO 2020</td>\n      <td>4.441331e+08</td>\n    </tr>\n    <tr>\n      <th>4</th>\n      <td>JUNIO 2020</td>\n      <td>4.790833e+08</td>\n    </tr>\n    <tr>\n      <th>5</th>\n      <td>JULIO 2020</td>\n      <td>4.447160e+08</td>\n    </tr>\n    <tr>\n      <th>6</th>\n      <td>AGOSTO 2020</td>\n      <td>3.777587e+08</td>\n    </tr>\n    <tr>\n      <th>7</th>\n      <td>SEPTIEMBRE 2020</td>\n      <td>4.080490e+08</td>\n    </tr>\n    <tr>\n      <th>8</th>\n      <td>OCTUBRE 2020</td>\n      <td>3.052498e+08</td>\n    </tr>\n    <tr>\n      <th>9</th>\n      <td>NOVIEMBRE 2020</td>\n      <td>3.601791e+08</td>\n    </tr>\n    <tr>\n      <th>10</th>\n      <td>DICIEMBRE 2020</td>\n      <td>3.345414e+08</td>\n    </tr>\n  </tbody>\n</table>\n</div>"
     },
     "metadata": {},
     "execution_count": 15
    }
   ],
   "source": [
    "credito_cred = pd.pivot_table(asignacion_cred,index=['MES'],values=['SALDO TOTAL'],aggfunc=[np.sum])\n",
    "credito_cred = pd.DataFrame(credito_cred.to_records())\n",
    "#credito_cred = credito_cred.iloc[[]:,]\n",
    "credito_cred.columns = ['MES','CREDITO TOTAL']\n",
    "credito_cred['MES'] = meses_cred\n",
    "credito_cred"
   ]
  },
  {
   "cell_type": "code",
   "execution_count": 17,
   "metadata": {},
   "outputs": [],
   "source": [
    "writer = pd.ExcelWriter(''+ruta+'/'+mes+'/Comparacion cartera '+mes+'.xlsx', engine='xlsxwriter')\n",
    "cartera_brad.to_excel(writer,'VolumenBrad',index=False,header=True)\n",
    "credito_brad.to_excel(writer,'SaldoTotalBrad',index=False,header=True)\n",
    "pago_desc_brad.to_excel(writer,'PagoDescBrad',index=False,header=True)\n",
    "cartera_liver.to_excel(writer,'VolumenLiver',index=False,header=True)\n",
    "credito_liver.to_excel(writer,'SaldoTotalLiver',index=False,header=True)\n",
    "cartera_cred.to_excel(writer,'VolumenCred',index=False,header=True)\n",
    "credito_cred.to_excel(writer,'SaldoTotalCred',index=False,header=True)\n",
    "\n",
    "writer.save()\n",
    "writer.close()"
   ]
  },
  {
   "cell_type": "code",
   "execution_count": null,
   "metadata": {},
   "outputs": [],
   "source": []
  }
 ]
}